{
 "cells": [
  {
   "cell_type": "markdown",
   "metadata": {},
   "source": [
    "# Alanine Multistate\n",
    "## Example Simulation"
   ]
  },
  {
   "cell_type": "markdown",
   "metadata": {},
   "source": [
    "This uses the state definition from [1]. 6 states named A,B,C,D,E and F\n",
    "\n",
    "\n",
    "[1] W.-N. Du, K. A. Marino, and P. G. Bolhuis, “Multiple state transition interface sampling of alanine dipeptide in explicit solvent,” J. Chem. Phys., vol. 135, no. 14, p. 145102, 2011."
   ]
  },
  {
   "cell_type": "markdown",
   "metadata": {},
   "source": [
    "### Import and general setup"
   ]
  },
  {
   "cell_type": "markdown",
   "metadata": {},
   "source": [
    "First we tell the ipython notebook to put figures inside the notebook"
   ]
  },
  {
   "cell_type": "code",
   "execution_count": null,
   "metadata": {
    "collapsed": true
   },
   "outputs": [],
   "source": [
    "%matplotlib inline\n",
    "%config InlineBackend.figure_format = 'svg'"
   ]
  },
  {
   "cell_type": "markdown",
   "metadata": {},
   "source": [
    "And import lots of modules"
   ]
  },
  {
   "cell_type": "code",
   "execution_count": null,
   "metadata": {
    "collapsed": false
   },
   "outputs": [],
   "source": [
    "# standard packages\n",
    "import numpy as np\n",
    "import mdtraj as md\n",
    "import pandas as pd\n",
    "import math\n",
    "import random\n",
    "import time\n",
    "\n",
    "# helpers for phi-psi plotting\n",
    "import alatools as ala\n",
    "import matplotlib.pyplot as plt\n",
    "\n",
    "# OpenMM\n",
    "from simtk.openmm import app\n",
    "import simtk.unit as unit\n",
    "\n",
    "# OpenMMTools\n",
    "import openmmtools as omt\n",
    "\n",
    "# OpenPathSampling\n",
    "import openpathsampling as paths\n",
    "from openpathsampling.tools import refresh_output\n",
    "\n",
    "# Visualization of PathTrees\n",
    "from openpathsampling.visualize import PathTree\n",
    "from IPython.display import SVG\n",
    "\n",
    "# the openpathsampling OpenMM engine\n",
    "import openpathsampling.engines.openmm as eng"
   ]
  },
  {
   "cell_type": "markdown",
   "metadata": {},
   "source": [
    "### Set simulation options and create a simulator object"
   ]
  },
  {
   "cell_type": "markdown",
   "metadata": {},
   "source": [
    "Create an AlanineOpenMMSimulator for demonstration purposes"
   ]
  },
  {
   "cell_type": "markdown",
   "metadata": {},
   "source": [
    "We will need a `openmm.System` object and an `openmm.Integrator` object.\n",
    "\n",
    "To learn more about OpenMM, read the [OpenMM documentation](http://docs.openmm.org). The code we use here is based on output from the convenient web-based [OpenMM builder](http://builder.openmm.org)."
   ]
  },
  {
   "cell_type": "markdown",
   "metadata": {},
   "source": [
    "We first create a snapshot using an existing PDB file. The contained topology is necessary for the OpenMM system object to compute all forces."
   ]
  },
  {
   "cell_type": "code",
   "execution_count": null,
   "metadata": {
    "collapsed": true
   },
   "outputs": [],
   "source": [
    "pdb_file = \"../resources/AD_initial_frame.pdb\""
   ]
  },
  {
   "cell_type": "code",
   "execution_count": null,
   "metadata": {
    "collapsed": true
   },
   "outputs": [],
   "source": [
    "template = eng.snapshot_from_pdb(pdb_file)"
   ]
  },
  {
   "cell_type": "markdown",
   "metadata": {},
   "source": [
    "##### 1. the force field"
   ]
  },
  {
   "cell_type": "markdown",
   "metadata": {},
   "source": [
    "using AMBER96 as in the original paper with Tip3P water."
   ]
  },
  {
   "cell_type": "code",
   "execution_count": null,
   "metadata": {
    "collapsed": true
   },
   "outputs": [],
   "source": [
    "forcefield = app.ForceField('amber96.xml', 'tip3p.xml')"
   ]
  },
  {
   "cell_type": "markdown",
   "metadata": {},
   "source": [
    "##### 2. the system object"
   ]
  },
  {
   "cell_type": "markdown",
   "metadata": {},
   "source": [
    "and we use the template to create the necessary OpenMM `Topology` object. Note that an openmm topology is (a little bit) different from an `mdtraj.Topology` so we need to convert."
   ]
  },
  {
   "cell_type": "code",
   "execution_count": null,
   "metadata": {
    "collapsed": true
   },
   "outputs": [],
   "source": [
    "pdb = app.PDBFile(pdb_file)\n",
    "\n",
    "system = forcefield.createSystem(\n",
    "    pdb.topology, \n",
    "    nonbondedMethod=app.PME, \n",
    "    nonbondedCutoff=1.0*unit.nanometers,\n",
    "    constraints=app.HBonds, \n",
    "    rigidWater=True,\n",
    "    ewaldErrorTolerance=0.0005\n",
    ")"
   ]
  },
  {
   "cell_type": "markdown",
   "metadata": {},
   "source": [
    "##### 3. the integrator"
   ]
  },
  {
   "cell_type": "code",
   "execution_count": null,
   "metadata": {
    "collapsed": false
   },
   "outputs": [],
   "source": [
    "integrator_low = omt.integrators.VVVRIntegrator(\n",
    "    temperature=300 * unit.kelvin,  # temperature\n",
    "    timestep=2.0 * unit.femtoseconds  # integration step size\n",
    ")\n",
    "integrator_low.setConstraintTolerance(0.00001)"
   ]
  },
  {
   "cell_type": "markdown",
   "metadata": {},
   "source": [
    "##### 4. the platform"
   ]
  },
  {
   "cell_type": "markdown",
   "metadata": {},
   "source": [
    "we let OpenMM decide to use the fastest platform available. You can ask an OpenMM engine what platform it is using with the `.platform` attribute. You can actually override this behaviour when you initialize the engine and pass either a string or a platform object."
   ]
  },
  {
   "cell_type": "code",
   "execution_count": null,
   "metadata": {
    "collapsed": false
   },
   "outputs": [],
   "source": [
    "print eng.Engine.available_platforms()"
   ]
  },
  {
   "cell_type": "markdown",
   "metadata": {},
   "source": [
    "##### 5. OpenMM properties"
   ]
  },
  {
   "cell_type": "markdown",
   "metadata": {},
   "source": [
    "There are lots of options. For speed we pick mixed precision on GPUs. Most GPU programming libraries have difficulty with double precision. For our purposes this should be fine and it is faster than double precision. These are the options passed "
   ]
  },
  {
   "cell_type": "code",
   "execution_count": null,
   "metadata": {
    "collapsed": false
   },
   "outputs": [],
   "source": [
    "platform = 'CPU'\n",
    "\n",
    "if platform == 'OpenCL':\n",
    "    openmm_properties = {\n",
    "        'OpenCLPrecision': 'mixed',\n",
    "        'OpenCLDeviceIndex': \"2\"  # pick the correct index if you have several instances\n",
    "    }\n",
    "elif platform == 'CUDA':\n",
    "    openmm_properties = {'CudaPrecision': 'mixed'}\n",
    "elif platform == 'CPU':\n",
    "    openmm_properties = {}\n",
    "else:\n",
    "    openmm_properties = {}"
   ]
  },
  {
   "cell_type": "markdown",
   "metadata": {},
   "source": [
    "##### 6. OPS options"
   ]
  },
  {
   "cell_type": "markdown",
   "metadata": {},
   "source": [
    "An engine in OpenPathSampling also has general options that are the same for any engine, like the number of steps until a frame is stored or the maximal number of steps until an engine will automatically stop."
   ]
  },
  {
   "cell_type": "code",
   "execution_count": null,
   "metadata": {
    "collapsed": false
   },
   "outputs": [],
   "source": [
    "engine_low_options = {\n",
    "    'n_frames_max': 5000,\n",
    "    'n_steps_per_frame': 10\n",
    "}"
   ]
  },
  {
   "cell_type": "markdown",
   "metadata": {},
   "source": [
    "Finally build the main engine from the parts"
   ]
  },
  {
   "cell_type": "code",
   "execution_count": null,
   "metadata": {
    "collapsed": false
   },
   "outputs": [],
   "source": [
    "engine_low = eng.Engine(\n",
    "    template.topology,\n",
    "    system,\n",
    "    integrator_low,\n",
    "    openmm_properties=openmm_properties,\n",
    "    options=engine_low_options\n",
    ")\n",
    "engine_low.name = 'default'"
   ]
  },
  {
   "cell_type": "markdown",
   "metadata": {},
   "source": [
    "For the exploration of state space and getting an initial trajectory we also want to simulate at a very high temperature. Here 750K. This is totally unphysical, but all we want is to generate conformations that are not completely wrong in the sense that they could exist at low temperatures."
   ]
  },
  {
   "cell_type": "markdown",
   "metadata": {},
   "source": [
    "Set a high temperature simulation for exploration."
   ]
  },
  {
   "cell_type": "markdown",
   "metadata": {},
   "source": [
    "For OpenMM all we need to change is the replace the integrator with a new temperature and half the stepsize. We will later pick only every second frame"
   ]
  },
  {
   "cell_type": "code",
   "execution_count": null,
   "metadata": {
    "collapsed": false
   },
   "outputs": [],
   "source": [
    "integrator_high = omt.integrators.VVVRIntegrator(\n",
    "    temperature=1000 * unit.kelvin,  # temperature\n",
    "    timestep=2.0 * unit.femtoseconds  # integration step size\n",
    ")\n",
    "integrator_high.setConstraintTolerance(0.00001)"
   ]
  },
  {
   "cell_type": "code",
   "execution_count": null,
   "metadata": {
    "collapsed": false
   },
   "outputs": [],
   "source": [
    "engine_high_options = {\n",
    "    'n_frames_max': 2000,\n",
    "    'n_steps_per_frame': 10  # twice as many steps with half stepsize\n",
    "}"
   ]
  },
  {
   "cell_type": "markdown",
   "metadata": {},
   "source": [
    "An clone the engine using a new integrator"
   ]
  },
  {
   "cell_type": "code",
   "execution_count": null,
   "metadata": {
    "collapsed": false
   },
   "outputs": [],
   "source": [
    "engine_high = engine_low.from_new_options(\n",
    "    integrator=integrator_high,\n",
    "    options=engine_high_options)\n",
    "engine_high.name = 'high'"
   ]
  },
  {
   "cell_type": "markdown",
   "metadata": {},
   "source": [
    "For now we use the default engine at "
   ]
  },
  {
   "cell_type": "code",
   "execution_count": null,
   "metadata": {
    "collapsed": false
   },
   "outputs": [],
   "source": [
    "engine_high.initialize(platform)\n",
    "\n",
    "print 'High-Engine uses'\n",
    "print 'platform `%s`' % engine_high.platform\n",
    "print 'temperature `%6.2f K' % (\n",
    "    float(engine_high.integrator.getGlobalVariableByName('kT')) / 0.0083144621)"
   ]
  },
  {
   "cell_type": "markdown",
   "metadata": {},
   "source": [
    "### Create the storage"
   ]
  },
  {
   "cell_type": "markdown",
   "metadata": {},
   "source": [
    "We open a new empty storage"
   ]
  },
  {
   "cell_type": "code",
   "execution_count": null,
   "metadata": {
    "collapsed": false
   },
   "outputs": [],
   "source": [
    "storage_file = 'ala_mstis_bootstrap.nc'\n",
    "storage = paths.Storage(storage_file, 'w')"
   ]
  },
  {
   "cell_type": "markdown",
   "metadata": {},
   "source": [
    "And store both engines in it. Since these are named you can load these later using `storage.engines[name]`."
   ]
  },
  {
   "cell_type": "code",
   "execution_count": null,
   "metadata": {
    "collapsed": false
   },
   "outputs": [],
   "source": [
    "storage.save(engine_low);\n",
    "storage.save(engine_high);"
   ]
  },
  {
   "cell_type": "markdown",
   "metadata": {},
   "source": [
    "And store a template for convenience."
   ]
  },
  {
   "cell_type": "code",
   "execution_count": null,
   "metadata": {
    "collapsed": false
   },
   "outputs": [],
   "source": [
    "storage.tag['template'] = template"
   ]
  },
  {
   "cell_type": "markdown",
   "metadata": {},
   "source": [
    "### State Definitions"
   ]
  },
  {
   "cell_type": "markdown",
   "metadata": {},
   "source": [
    "We define states A-F. The specifications are taken from the paper [^1]."
   ]
  },
  {
   "cell_type": "markdown",
   "metadata": {},
   "source": [
    "The list of state names"
   ]
  },
  {
   "cell_type": "code",
   "execution_count": null,
   "metadata": {
    "collapsed": true
   },
   "outputs": [],
   "source": [
    "states = ['A', 'B', 'C', 'D', 'E', 'F']"
   ]
  },
  {
   "cell_type": "markdown",
   "metadata": {},
   "source": [
    "If you just want to play around you might want to just simulate the first 4 states, which is much faster.\n",
    "You can do so by uncommenting the line below"
   ]
  },
  {
   "cell_type": "code",
   "execution_count": null,
   "metadata": {
    "collapsed": true
   },
   "outputs": [],
   "source": [
    "states = ['A', 'B', 'C', 'D']"
   ]
  },
  {
   "cell_type": "markdown",
   "metadata": {},
   "source": [
    "Define the centers."
   ]
  },
  {
   "cell_type": "code",
   "execution_count": null,
   "metadata": {
    "collapsed": false
   },
   "outputs": [],
   "source": [
    "state_centers = {\n",
    "    'A' : [-150, 150], \n",
    "    'B' : [-70, 135], \n",
    "    'C' : [-150, -65], \n",
    "    'D' : [-70, -50], \n",
    "    'E' : [50, -100], \n",
    "    'F' : [40, 65]\n",
    "}"
   ]
  },
  {
   "cell_type": "markdown",
   "metadata": {},
   "source": [
    "And the radii of the interfaces"
   ]
  },
  {
   "cell_type": "code",
   "execution_count": null,
   "metadata": {
    "collapsed": true
   },
   "outputs": [],
   "source": [
    "interface_levels = {\n",
    "    'A' : [10, 20, 45, 65, 80],\n",
    "    'B' : [10, 20, 45, 65, 75],\n",
    "    'C' : [10, 20, 45, 60],\n",
    "    'D' : [10, 20, 45, 60],\n",
    "    'E' : [10, 20, 45, 65, 80],\n",
    "    'F' : [10, 20, 45, 65, 80],\n",
    "}"
   ]
  },
  {
   "cell_type": "markdown",
   "metadata": {},
   "source": [
    "And also save these information for later convenience"
   ]
  },
  {
   "cell_type": "code",
   "execution_count": null,
   "metadata": {
    "collapsed": false
   },
   "outputs": [],
   "source": [
    "storage.tag['states'] = states\n",
    "storage.tag['state_centers'] = state_centers\n",
    "storage.tag['interface_levels'] = interface_levels"
   ]
  },
  {
   "cell_type": "markdown",
   "metadata": {},
   "source": [
    "### Order Parameters"
   ]
  },
  {
   "cell_type": "markdown",
   "metadata": {},
   "source": [
    "this generates an order parameter (callable) object named psi (so if we call `psi(trajectory)` we get a list of the values of psi for each frame in the trajectory). This particular order parameter uses mdtraj's compute_dihedrals function, with the atoms in psi_atoms.\n",
    "\n",
    "The `.with_diskcache` will tell the CVs to also create some space to save the values of this CV in the same storage where the CV gets saved. Usually you want to save the _direct_ CVs with diskcache while CVs that build upon these CVs should be fine. The reason is this:\n",
    "\n",
    "Loading large snapshots from disk is expensive, while compute something from snapshots in memory is fast. So for analysis re-computing values is fine as long as we do not need to reload the snapshots into memory. In our case this means that the _direct_ CVs (CVs that require accessing snapshots properties) are `phi` and `psi` since everything else is based upon this, while the distance to the state center `opA` to `opF` is an _indirect_ CV and should not be stored."
   ]
  },
  {
   "cell_type": "code",
   "execution_count": null,
   "metadata": {
    "collapsed": false
   },
   "outputs": [],
   "source": [
    "psi_atoms = [6,8,14,16]\n",
    "psi = paths.MDTrajFunctionCV(\n",
    "    name=\"psi\", \n",
    "    f=md.compute_dihedrals,\n",
    "    topology=template.topology,\n",
    "    indices=[psi_atoms]\n",
    ").with_diskcache()\n",
    "\n",
    "phi_atoms = [4,6,8,14]\n",
    "phi = paths.MDTrajFunctionCV(\n",
    "    name=\"phi\", \n",
    "    f=md.compute_dihedrals,\n",
    "    topology=template.topology,\n",
    "    indices=[phi_atoms]\n",
    ").with_diskcache()\n",
    "\n",
    "storage.save([psi, phi]);"
   ]
  },
  {
   "cell_type": "markdown",
   "metadata": {},
   "source": [
    "Define a function that defines a distance in periodic $\\phi,\\psi$-space."
   ]
  },
  {
   "cell_type": "code",
   "execution_count": null,
   "metadata": {
    "collapsed": true
   },
   "outputs": [],
   "source": [
    "def circle_degree(snapshot, center, phi, psi):\n",
    "    import numpy\n",
    "    p = numpy.array([phi(snapshot), psi(snapshot)]) / numpy.pi * 180.0\n",
    "    delta = numpy.abs(center - p)\n",
    "    delta = numpy.where(delta > 180.0, delta - 360.0, delta)\n",
    "    return numpy.hypot(delta[0], delta[1])"
   ]
  },
  {
   "cell_type": "markdown",
   "metadata": {},
   "source": [
    "Create CVs for all states by using the `circle_degree` function with different centers"
   ]
  },
  {
   "cell_type": "code",
   "execution_count": null,
   "metadata": {
    "collapsed": false
   },
   "outputs": [],
   "source": [
    "cv_state = dict()\n",
    "for state in state_centers:\n",
    "    op = paths.FunctionCV(\n",
    "        name = 'op' + state,\n",
    "        f=circle_degree,\n",
    "        center=np.array(state_centers[state]),\n",
    "        phi=phi,\n",
    "        psi=psi\n",
    "    )\n",
    "    cv_state[state] = op"
   ]
  },
  {
   "cell_type": "markdown",
   "metadata": {},
   "source": [
    "### Volumes"
   ]
  },
  {
   "cell_type": "markdown",
   "metadata": {},
   "source": [
    "Volume define regions in state space using given CVs. We define here the regions around the state centers. Their boundaries correspond to the interfaces as used for TIS. Crossing an interface thus corresponds to leaving an interface volume into the next larger one."
   ]
  },
  {
   "cell_type": "code",
   "execution_count": null,
   "metadata": {
    "collapsed": false
   },
   "outputs": [],
   "source": [
    "interface_sets = {}\n",
    "for state, levels in interface_levels.iteritems():\n",
    "    interface_sets[state] = \\\n",
    "        paths.VolumeInterfaceSet(cv_state[state], 0.0, levels)"
   ]
  },
  {
   "cell_type": "markdown",
   "metadata": {},
   "source": [
    "Create `Volume` objects for all states. In our setup we chose the lowest interface volume for the state definition ."
   ]
  },
  {
   "cell_type": "code",
   "execution_count": null,
   "metadata": {
    "collapsed": false
   },
   "outputs": [],
   "source": [
    "vol_state = {}\n",
    "for state, levels in interface_levels.iteritems():\n",
    "    vol_state[state] = interface_sets[state][0]\n",
    "    vol_state[state].name = state"
   ]
  },
  {
   "cell_type": "markdown",
   "metadata": {},
   "source": [
    "### Visualize in Phi/Psi space"
   ]
  },
  {
   "cell_type": "markdown",
   "metadata": {},
   "source": [
    "We use a littl helper function specific for phi/psi plots to illustrate what is happening.\n",
    "This code will not affect the generation of data but will help in visualizing the\n",
    "system"
   ]
  },
  {
   "cell_type": "code",
   "execution_count": null,
   "metadata": {
    "collapsed": false
   },
   "outputs": [],
   "source": [
    "# reload(ala)\n",
    "plot = ala.TwoCVSpherePlot(\n",
    "    cvs=(phi, psi),\n",
    "    states=[vol_state[vol] for vol in states],\n",
    "    state_centers=[state_centers[vol] for vol in states],\n",
    "    interface_levels=[interface_levels[vol] for vol in states]\n",
    ")\n",
    "\n",
    "plot.new()\n",
    "# plot the phi/psi plot and show all states and interfaces\n",
    "plot.main()\n",
    "# add the initial template\n",
    "plot.add_snapshot(template, label='initial')"
   ]
  },
  {
   "cell_type": "markdown",
   "metadata": {},
   "source": [
    "### Set up the MSTIS network"
   ]
  },
  {
   "cell_type": "markdown",
   "metadata": {},
   "source": [
    "We want to simulate using multistate transition interface sampling and to alleviate\n",
    "the effort of setting up all states, interfaces, appropriate pathensembles and\n",
    "a scheme on how to generate samples we use some helper construct like in the other\n",
    "examples. In our case the `MSTISNetwork` comes first and contains the definitions of\n",
    "all states, their interfaces as well as associated CVs."
   ]
  },
  {
   "cell_type": "markdown",
   "metadata": {},
   "source": [
    "To make use of the optional Multi-State Outer Interface `MSOuterInterface` we need to define it. It will allow reversing samples that connect two states and overcomes the issue that in all present moves the initial state needs to remain the same."
   ]
  },
  {
   "cell_type": "code",
   "execution_count": null,
   "metadata": {
    "collapsed": false
   },
   "outputs": [],
   "source": [
    "ms_outers = paths.MSOuterTISInterface.from_lambdas(\n",
    "    {ifaces: max(ifaces.lambdas) + 5\n",
    "     for state, ifaces in interface_sets.items()}\n",
    ")"
   ]
  },
  {
   "cell_type": "code",
   "execution_count": null,
   "metadata": {
    "collapsed": false
   },
   "outputs": [],
   "source": [
    "mstis = paths.MSTISNetwork([\n",
    "    (vol_state[state], interface_sets[state])          # core, interface set\n",
    "    for state in states],\n",
    "    ms_outers=ms_outers\n",
    ")"
   ]
  },
  {
   "cell_type": "markdown",
   "metadata": {},
   "source": [
    "And save the network"
   ]
  },
  {
   "cell_type": "code",
   "execution_count": null,
   "metadata": {
    "collapsed": false
   },
   "outputs": [],
   "source": [
    "storage.tag['network'] = mstis"
   ]
  },
  {
   "cell_type": "markdown",
   "metadata": {},
   "source": [
    "### Set up the `MoveScheme`"
   ]
  },
  {
   "cell_type": "markdown",
   "metadata": {},
   "source": [
    "Next, we need to specify the actual way in which we want to simulate the Network. This could be done by \n",
    "constructing a suitable PathMover yourself or employing the power of a MoveScheme that will generate all nevessary movers for you. The MoveScheme also effectively knows which initial samples in which ensembles you need. Beside the ones indirectly defined by the network the movescheme might not need some of these because certain moves will not be used. It could also happen that a movescheme require an `extra` ensemble to work for special moves that are not directly known from the network definition.\n",
    "\n",
    "In our case we will use the `DefaultScheme` that uses RepEx, Reversal, Shooting and MinusMoves."
   ]
  },
  {
   "cell_type": "code",
   "execution_count": null,
   "metadata": {
    "collapsed": false
   },
   "outputs": [],
   "source": [
    "scheme = paths.DefaultScheme(mstis)"
   ]
  },
  {
   "cell_type": "markdown",
   "metadata": {},
   "source": [
    "### Initial trajectories"
   ]
  },
  {
   "cell_type": "markdown",
   "metadata": {},
   "source": [
    "Next, we want to generate initial pathways for all ensembles, e.g. The `TISEnsembles` and `MinusInterfaceEnsembles`. There are several ways to do so. A very easy approach is to explore the state space at a high temperature and wait until all states have been visited. Splitting the long trajectory appropriately would give us at least one valid trajectory for each TIS ensemble. In a second step we can use over sub parts of the long trajectory and extend these into minus ensembles."
   ]
  },
  {
   "cell_type": "markdown",
   "metadata": {},
   "source": [
    "So let's try this: We generate an ensemble that is `True` if a trajectory is at least completely outside one state A-F. It will report false once all states have been hit, which is what we want. We will ues this as a stopping condition to generate a first long trajectory at high temperature."
   ]
  },
  {
   "cell_type": "code",
   "execution_count": null,
   "metadata": {
    "collapsed": true
   },
   "outputs": [],
   "source": [
    "hit_all_states_emsemble = paths.join_ensembles([paths.AllOutXEnsemble(vol_state[state]) for state in states])"
   ]
  },
  {
   "cell_type": "markdown",
   "metadata": {},
   "source": [
    "Note that we can omit the `.can_append` here since these are identical in their result and this is faster."
   ]
  },
  {
   "cell_type": "code",
   "execution_count": null,
   "metadata": {
    "collapsed": false
   },
   "outputs": [],
   "source": [
    "# initial_trajectories = engine_high.generate(template, [hit_all_states])"
   ]
  },
  {
   "cell_type": "markdown",
   "metadata": {},
   "source": [
    "This will take some time, even when running at a high temperature. Since we are curious about the progress we will use an iterator version of this to monitor the progress while generating a trajectory. Note, that the two cells below will give the same result as the one above which we commented. "
   ]
  },
  {
   "cell_type": "markdown",
   "metadata": {},
   "source": [
    "We will allow to interrupt the simulation and be restarted. So we setup the trajectory with one initial frame"
   ]
  },
  {
   "cell_type": "code",
   "execution_count": null,
   "metadata": {
    "collapsed": true
   },
   "outputs": [],
   "source": [
    "trajectory = paths.Trajectory([template])"
   ]
  },
  {
   "cell_type": "markdown",
   "metadata": {},
   "source": [
    "and extend it using `iter_generate`. What this does (for the curious) is to run a normal simulation loop but interrupt at regular intervals returning the current (unfinished) trajectory. So you can check the status of the simulation and continue."
   ]
  },
  {
   "cell_type": "code",
   "execution_count": null,
   "metadata": {
    "collapsed": false
   },
   "outputs": [],
   "source": [
    "it = engine_high.iter_generate(\n",
    "    trajectory,\n",
    "    [hit_all_states_emsemble],\n",
    "    intervals=100)\n",
    "\n",
    "# run the iterator until it is finished\n",
    "for traj in it:\n",
    "    # get a list of found states for status report\n",
    "    found_states = ','.join(\n",
    "        state for state in states\n",
    "        if paths.PartInXEnsemble(vol_state[state])(traj))\n",
    "\n",
    "    visited_states = ','.join(\n",
    "        state for state in states\n",
    "        if paths.PartInXEnsemble(vol_state[state])(traj[-100:]))\n",
    "\n",
    "    # output status report\n",
    "    s = 'Ran %6d steps [%s]. Found states [%s] / visited [%s]\\n' % (\n",
    "        len(traj) - 1,\n",
    "        (len(traj) - 1) * engine_high.snapshot_timestep,\n",
    "        found_states,\n",
    "        visited_states)\n",
    "\n",
    "    refresh_output(s)\n",
    "\n",
    "    # remember the last output for later. Python 2 will leak `traj` into\n",
    "    # local, but Python 3 does not and we want to be compatible\n",
    "    trajectory = traj"
   ]
  },
  {
   "cell_type": "markdown",
   "metadata": {},
   "source": [
    "Output the long trajectory and see if we hit all states"
   ]
  },
  {
   "cell_type": "code",
   "execution_count": null,
   "metadata": {
    "collapsed": false
   },
   "outputs": [],
   "source": [
    "plot.new()\n",
    "plot.main()\n",
    "plot.add_trajectory(trajectory)"
   ]
  },
  {
   "cell_type": "markdown",
   "metadata": {},
   "source": [
    "### Find initial samples \n",
    "\n",
    "It can be difficult to get initial samples for an ensemble for various reasons. And in fact for this example it might be the most tricky part in setting up the path simulation. \n",
    "\n",
    "In theory you could just pick a frame and extend forward and backward until an ensemble reports cannot append anymore and check if that sample is in the ensemble. While this works in many cases it can be rather inefficient. For us it is better to reuse the previously computed trajectories as a basis to generate samples. \n",
    "\n",
    "\n",
    "**Bottomline: The next command just does what you would try to do with the long trajectory for you: Use split and extend to generate the required set of samples to start.**\n",
    "\n",
    "If you are interested in details keep reading, otherwise execute the next cell.\n",
    "\n",
    "To do so, we use a number of functions from `Ensemble` that will try to generate a sample from a list of initial trajectories in different ways:\n",
    "\n",
    "1. `ensemble.get_sample_from_trajectories` : directly search for candidate sample among the given trajectories\n",
    "2. `ensemble.split_sample_from_trajectories` : split the given trajectories in valid samples\n",
    "3. `ensemble.extend_sample_from_trajectories` : try to extend suitable sub-trajectories into valid samples\n",
    "\n",
    "Instead of calling these functions directly we make use of a function from `MoveScheme` that uses its knowledge about the necessary ensembles to run these function for all necessary ensembles to create a suitable set of initial samples.\n",
    "\n",
    "When doing this there are several aspects that we might want to take into account\n",
    "1. also use reversed copies and try these\n",
    "2. avoid reusing samples for better decorrelation.\n",
    "3. try to use smaller trajectories as these are usually better equilibrated\n",
    "\n",
    "The function `scheme.initial_conditions_from_trajectories` can take care of all of these. We will run it with the default setting but also use the `extend-complex` and `extend-minimum` strategies besides `split`. That means we try different strategies in a specific order. \n",
    "\n",
    "1. `split`: try to split the trajectory and look for valid samples\n",
    "2. `extend-complex`: try to look for suitable sub-trajectories that can be extended into valid samples. Currently this works only for `MinusInterfaceEnsembles` and it will extend `A-X-A` trajectories into Minus Ensembles.\n",
    "3. `extend-minimum`: try to look for trajectories that cross an interface `A-X` and try to extend these into a full ensemble. This one will work for `TISEnsemble` and `MinusInterfaceEnsemble`. We will use this last method to create minus ensembles for the last state found. Since we stop when we discover it, we will not have generated a sample of type `A-X-A`. This might also happen if we only visit a state once.\n",
    "\n",
    "Note, that the creation of sample might fail: Extending might just not reach the desired target state. By default, it will make 3 attempts per extendable subtrajectory. The whole process may take some time. Basically because we need to split a very long trajectory and to use the shortest possible ones we need to really search for all possible sub-trajectories."
   ]
  },
  {
   "cell_type": "code",
   "execution_count": null,
   "metadata": {
    "collapsed": false,
    "scrolled": false
   },
   "outputs": [],
   "source": [
    "total_sample_set = scheme.initial_conditions_from_trajectories(\n",
    "    trajectory,\n",
    "    strategies=[\n",
    "        # 1. split and pick shortest and exclude for MinusInterfaceEnsembles\n",
    "        'split',\n",
    "        # 2. extend-complex (implemented for minus with segments A-X-A)\n",
    "        'extend-complex',\n",
    "        # 3. extend-minimal (implemented for minus and tis with crossings A-X)\n",
    "        'extend-minimal'],\n",
    "    engine=engine_high)"
   ]
  },
  {
   "cell_type": "markdown",
   "metadata": {},
   "source": [
    "Let's see, if we were successful. If so, the next function should not show any missing or extra ensembles."
   ]
  },
  {
   "cell_type": "code",
   "execution_count": null,
   "metadata": {
    "collapsed": false
   },
   "outputs": [],
   "source": [
    "print scheme.initial_conditions_report(total_sample_set)"
   ]
  },
  {
   "cell_type": "markdown",
   "metadata": {},
   "source": [
    "If it does, this means that our attempt to extend was probably not successful. So we can just try again until it does. To extend an existing sample_set you need to pass it to the function."
   ]
  },
  {
   "cell_type": "code",
   "execution_count": null,
   "metadata": {
    "collapsed": false
   },
   "outputs": [],
   "source": [
    "# loop until we are done\n",
    "while scheme.check_initial_conditions(total_sample_set)[0]:\n",
    "    total_sample_set = scheme.initial_conditions_from_trajectories(\n",
    "        trajectory,\n",
    "        sample_set=total_sample_set,  # this is new\n",
    "        strategies=[  # we omit the `split` strategy\n",
    "            'extend-complex',\n",
    "            'extend-minimal'],\n",
    "        engine=engine_high)"
   ]
  },
  {
   "cell_type": "markdown",
   "metadata": {},
   "source": [
    "Done."
   ]
  },
  {
   "cell_type": "markdown",
   "metadata": {},
   "source": [
    "## Equilibration"
   ]
  },
  {
   "cell_type": "markdown",
   "metadata": {},
   "source": [
    "For the next steps we need the engine running at the desired (room) temperature. So we create a new engine.\n",
    "Since we might run on a local machine and do not have several instances of GPU available we will unload the\n",
    "existing engine and create a new one. "
   ]
  },
  {
   "cell_type": "code",
   "execution_count": null,
   "metadata": {
    "collapsed": false
   },
   "outputs": [],
   "source": [
    "engine_high.unload_context()  # delete the current openmm.Context object\n",
    "engine_low.initialize(platform)\n",
    "\n",
    "refresh_output('Low-Engine uses', refresh=False)\n",
    "print 'platform `%s`' % engine_low.platform\n",
    "print 'temperature `%6.2f K' % (\n",
    "    float(engine_low.integrator.getGlobalVariableByName('kT')) / 0.0083144621)"
   ]
  },
  {
   "cell_type": "markdown",
   "metadata": {},
   "source": [
    "In molecular dynamics, you need to equilibrate if you don't start with an equilibrium frame (e.g., if you start with solvent molecules on a grid, your system should equilibrate before you start taking statistics). Similarly, if you start with a set of paths which are far from the path ensemble equilibrium, you need to equilibrate. This could either be because your trajectories are not from the real dynamics (generated with metadynamics, high temperature, etc.) or because your trajectories are not likely representatives of the path ensemble (e.g., if you put transition trajectories into all interfaces).\n",
    "\n",
    "As with MD, running equilibration can be the same process as running the total simulation. However, in path sampling, it doesn't have to be: we can equilibrate without replica exchange moves or path reversal moves, for example. In the example below, we create a `MoveScheme` that only includes shooting movers."
   ]
  },
  {
   "cell_type": "code",
   "execution_count": null,
   "metadata": {
    "collapsed": false
   },
   "outputs": [],
   "source": [
    "equil_scheme = paths.OneWayShootingMoveScheme(mstis, engine=engine_low)"
   ]
  },
  {
   "cell_type": "markdown",
   "metadata": {},
   "source": [
    "Note, that some Schemes may change the actual required set of initial samples. For\n",
    "the equilibration we apply shooting moves only to TIS ensembles and not to the\n",
    "`MinusInterfaceEnsemble`s."
   ]
  },
  {
   "cell_type": "markdown",
   "metadata": {},
   "source": [
    "Create the PathSampler object that can run the equilibration."
   ]
  },
  {
   "cell_type": "code",
   "execution_count": null,
   "metadata": {
    "collapsed": false
   },
   "outputs": [],
   "source": [
    "equilibration = paths.PathSampling(\n",
    "    storage=None,\n",
    "    sample_set=total_sample_set,\n",
    "    move_scheme=equil_scheme,\n",
    ")"
   ]
  },
  {
   "cell_type": "markdown",
   "metadata": {},
   "source": [
    "And run lots of equilibration steps. This is not really necessary, but\n",
    "we generated from the wrong path distribution and this should give more likeli\n",
    "paths for the right temperature."
   ]
  },
  {
   "cell_type": "code",
   "execution_count": null,
   "metadata": {
    "collapsed": false
   },
   "outputs": [],
   "source": [
    "equilibration.run(50)  # increase to about 250 for better equilibration\n",
    "equilibrated_sset = equilibration.sample_set"
   ]
  },
  {
   "cell_type": "markdown",
   "metadata": {},
   "source": [
    "Let's have a quick look how many frames in TIS ensembles are already generated by the default engine at `300K` and how many were done using the `high` engine at `1000K`."
   ]
  },
  {
   "cell_type": "code",
   "execution_count": null,
   "metadata": {
    "collapsed": false
   },
   "outputs": [],
   "source": [
    "engine_list = {}\n",
    "\n",
    "unique_snapshots = set(sum(\n",
    "    [\n",
    "        samp.trajectory for samp in equilibrated_sset \n",
    "        if isinstance(samp.ensemble, paths.TISEnsemble)\n",
    "    ], \n",
    "    []))\n",
    "\n",
    "for samp in equilibrated_sset:\n",
    "    if isinstance(samp.ensemble, paths.TISEnsemble):\n",
    "        for snap in samp.trajectory:\n",
    "            eng = snap.engine\n",
    "            engine_list[eng] = engine_list.get(eng, 0) + 1\n",
    "        \n",
    "for eng, counts in engine_list.items():\n",
    "    print '%20s : %6d' % (eng.name, counts)"
   ]
  },
  {
   "cell_type": "markdown",
   "metadata": {},
   "source": [
    "Finally, save the list of samples for later without any reference to previous samples. This is necessary since usually a sample knows its origin sample and saving a sample as is, would trigger saving the whole history of all intermediate samples used. Since we are not interested in the history of equilibration, this saves a lot of storage."
   ]
  },
  {
   "cell_type": "code",
   "execution_count": null,
   "metadata": {
    "collapsed": false
   },
   "outputs": [],
   "source": [
    "storage.tag['sampleset'] = equilibrated_sset.copy_without_parents()"
   ]
  },
  {
   "cell_type": "markdown",
   "metadata": {},
   "source": [
    "Let's have a final look at what we cover with all our initial samples."
   ]
  },
  {
   "cell_type": "code",
   "execution_count": null,
   "metadata": {
    "collapsed": false
   },
   "outputs": [],
   "source": [
    "plt.figure(21, (12,5))\n",
    "plt.subplot(121)\n",
    "plt.title('High temperature')\n",
    "plot.main()\n",
    "for s in total_sample_set:\n",
    "    plot.add_trajectory(s.trajectory, line=True)\n",
    "    \n",
    "plt.subplot(122)\n",
    "plt.title('Equilibrated')\n",
    "plot.main()\n",
    "plot.zoom = 180/3.1415926\n",
    "for s in equilibrated_sset:\n",
    "    plot.add_trajectory(s.trajectory, line=True)"
   ]
  },
  {
   "cell_type": "markdown",
   "metadata": {},
   "source": [
    "A final check that we still have a valid sampleset"
   ]
  },
  {
   "cell_type": "code",
   "execution_count": null,
   "metadata": {
    "collapsed": true
   },
   "outputs": [],
   "source": [
    "equilibrated_sset.sanity_check()"
   ]
  },
  {
   "cell_type": "code",
   "execution_count": null,
   "metadata": {
    "collapsed": false
   },
   "outputs": [],
   "source": [
    "print 'snapshots:', len(storage.snapshots)\n",
    "print 'trajectories:', len(storage.trajectories)\n",
    "print 'samples:', len(storage.samples)\n",
    "print 'filesize:', storage.file_size_str"
   ]
  },
  {
   "cell_type": "code",
   "execution_count": null,
   "metadata": {
    "collapsed": true
   },
   "outputs": [],
   "source": [
    "# storage.close()"
   ]
  },
  {
   "cell_type": "code",
   "execution_count": null,
   "metadata": {
    "collapsed": true
   },
   "outputs": [],
   "source": []
  }
 ],
 "metadata": {
  "anaconda-cloud": {},
  "kernelspec": {
   "display_name": "Python [default]",
   "language": "python",
   "name": "python2"
  },
  "language_info": {
   "codemirror_mode": {
    "name": "ipython",
    "version": 2
   },
   "file_extension": ".py",
   "mimetype": "text/x-python",
   "name": "python",
   "nbconvert_exporter": "python",
   "pygments_lexer": "ipython2",
   "version": "2.7.12"
  }
 },
 "nbformat": 4,
 "nbformat_minor": 0
}
