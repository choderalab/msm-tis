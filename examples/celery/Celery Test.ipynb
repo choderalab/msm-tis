{
 "cells": [
  {
   "cell_type": "markdown",
   "metadata": {},
   "source": [
    "## OPS and Celery\n",
    "\n",
    "Install a redis server and start it using\n",
    "\n",
    "```\n",
    "redis-server\n",
    "```\n",
    "\n",
    "then run workers\n",
    "\n",
    "```\n",
    "celery worker -A {projectname} --loglevel=INFO\n",
    "```\n",
    "\n",
    "the current project name is `tasks`\n",
    "\n",
    "If you want to use celery flower to monitor performance, etc. install it and run\n",
    "\n",
    "```\n",
    "flower -A {projectname} --port=5555\n",
    "```\n"
   ]
  },
  {
   "cell_type": "markdown",
   "metadata": {},
   "source": [
    "### imports"
   ]
  },
  {
   "cell_type": "code",
   "execution_count": 1,
   "metadata": {
    "collapsed": false
   },
   "outputs": [],
   "source": [
    "import openpathsampling as p\n",
    "import openpathsampling.engines.celery.tasks as t\n",
    "from openpathsampling.engines.openmm import create_simple_openmm_from_pdb\n",
    "import simtk.openmm as mm\n",
    "import simtk.unit as u"
   ]
  },
  {
   "cell_type": "markdown",
   "metadata": {},
   "source": [
    "### system setup"
   ]
  },
  {
   "cell_type": "markdown",
   "metadata": {},
   "source": [
    "Create a simple openmm engine we can use later. To clean up the code we use a utility function that uses\n",
    "default parameters and sets up a Langevin integrator at 300K."
   ]
  },
  {
   "cell_type": "markdown",
   "metadata": {},
   "source": [
    "This might be functions to implement in a MoveScheme to have better access to the usual needed stuff"
   ]
  },
  {
   "cell_type": "code",
   "execution_count": 2,
   "metadata": {
    "collapsed": false
   },
   "outputs": [
    {
     "ename": "IndentationError",
     "evalue": "expected an indented block (<ipython-input-2-bfa37d8a8961>, line 33)",
     "output_type": "error",
     "traceback": [
      "\u001b[0;36m  File \u001b[0;32m\"<ipython-input-2-bfa37d8a8961>\"\u001b[0;36m, line \u001b[0;32m33\u001b[0m\n\u001b[0;31m    @property\u001b[0m\n\u001b[0m    ^\u001b[0m\n\u001b[0;31mIndentationError\u001b[0m\u001b[0;31m:\u001b[0m expected an indented block\n"
     ]
    }
   ],
   "source": [
    "class PathSamplingSystem(p.netcdfplus.StorableObject):\n",
    "    \"\"\"\n",
    "    A package to allow to group all pathSampling aspects\n",
    "    \n",
    "    - Engine / System\n",
    "    - CVs\n",
    "    - Volumes\n",
    "    - Network / Transition / Ensembles\n",
    "    - MoveScheme(MoveStrategies) / PathMover\n",
    "    - (initial) SampleSet\n",
    "    \"\"\"\n",
    "    \n",
    "    def __init__(self, objs):\n",
    "        if isinstance(objs, (list, tuple)):\n",
    "            self._objs = list(objs)\n",
    "        else:\n",
    "            self.objs = [objs]\n",
    "\n",
    "    @classmethod\n",
    "    def from_scheme(self):\n",
    "        return cls()\n",
    "        \n",
    "    @property\n",
    "    def states(self):\n",
    "        return { 'name': p.Volume() }\n",
    "    \n",
    "    @property\n",
    "    def cvs(self):\n",
    "        return { 'name': p.Volume() }\n",
    "    \n",
    "    def transitions(self, from_state=None, to_state=None):\n",
    "\n",
    "    @property\n",
    "    def interfaces(self, transition):\n",
    "        \"\"\"\n",
    "        get an ordered list of interfaces starting from inner per transition\n",
    "        \"\"\"\n",
    "        return {' '}"
   ]
  },
  {
   "cell_type": "code",
   "execution_count": 2,
   "metadata": {
    "collapsed": false
   },
   "outputs": [],
   "source": [
    "engine, template = create_simple_openmm_from_pdb('../../examples/resources/AD_initial_frame.pdb')"
   ]
  },
  {
   "cell_type": "markdown",
   "metadata": {},
   "source": [
    "### local test"
   ]
  },
  {
   "cell_type": "markdown",
   "metadata": {},
   "source": [
    "A quick check if our worker function will run on the master process / in a kernel this notebook runs in.\n",
    "It does not necessarily mean it will also fail on the worker but it is very likely."
   ]
  },
  {
   "cell_type": "code",
   "execution_count": 3,
   "metadata": {
    "collapsed": false
   },
   "outputs": [],
   "source": [
    "traj = t.generate(engine, template, p.LengthEnsemble(100), init_args=['CPU'])"
   ]
  },
  {
   "cell_type": "markdown",
   "metadata": {},
   "source": [
    "### run on worker"
   ]
  },
  {
   "cell_type": "markdown",
   "metadata": {},
   "source": [
    "The next function will create the same call, i.e. the same engine, the same initial snapshot and the same ensemble."
   ]
  },
  {
   "cell_type": "code",
   "execution_count": 4,
   "metadata": {
    "collapsed": false
   },
   "outputs": [],
   "source": [
    "delayed_trajectory = t.generate.delay(engine, template, p.LengthEnsemble(100), init_args=['CPU'])"
   ]
  },
  {
   "cell_type": "code",
   "execution_count": 5,
   "metadata": {
    "collapsed": false
   },
   "outputs": [],
   "source": [
    "trajs = [t.generate.delay(engine, template, p.LengthEnsemble(x*10 + 5)) for x in range(20)]"
   ]
  },
  {
   "cell_type": "code",
   "execution_count": 24,
   "metadata": {
    "collapsed": false
   },
   "outputs": [
    {
     "name": "stdout",
     "output_type": "stream",
     "text": [
      "Trajectory[5]\n",
      "Trajectory[15]\n",
      "Trajectory[25]\n",
      "Trajectory[35]\n",
      "Trajectory[45]\n",
      "Trajectory[55]\n",
      "Trajectory[65]\n",
      "Trajectory[75]\n",
      "Trajectory[85]\n",
      "Trajectory[95]\n",
      "Trajectory[105]\n",
      "Trajectory[115]\n",
      "Trajectory[125]\n",
      "Trajectory[135]\n",
      "Trajectory[145]\n",
      "Trajectory[155]\n",
      "Trajectory[165]\n",
      "Trajectory[175]\n",
      "Trajectory[185]\n",
      "Trajectory[195]\n"
     ]
    }
   ],
   "source": [
    "for traj in trajs:\n",
    "    print traj.result"
   ]
  },
  {
   "cell_type": "code",
   "execution_count": 25,
   "metadata": {
    "collapsed": true
   },
   "outputs": [],
   "source": [
    "ff = [traj.result for traj in trajs]"
   ]
  },
  {
   "cell_type": "code",
   "execution_count": 30,
   "metadata": {
    "collapsed": false
   },
   "outputs": [
    {
     "data": {
      "text/plain": [
       "True"
      ]
     },
     "execution_count": 30,
     "metadata": {},
     "output_type": "execute_result"
    }
   ],
   "source": [
    "ff[0][0] == ff[10][0]"
   ]
  },
  {
   "cell_type": "code",
   "execution_count": 20,
   "metadata": {
    "collapsed": false
   },
   "outputs": [
    {
     "name": "stdout",
     "output_type": "stream",
     "text": [
      "CPU times: user 47.3 s, sys: 9.46 s, total: 56.8 s\n",
      "Wall time: 26.4 s\n"
     ]
    },
    {
     "data": {
      "text/plain": [
       "Trajectory[1000]"
      ]
     },
     "execution_count": 20,
     "metadata": {},
     "output_type": "execute_result"
    }
   ],
   "source": [
    "%%time\n",
    "t.generate(engine, template, p.LengthEnsemble(1000))"
   ]
  },
  {
   "cell_type": "code",
   "execution_count": 33,
   "metadata": {
    "collapsed": false
   },
   "outputs": [
    {
     "name": "stdout",
     "output_type": "stream",
     "text": [
      "CPU times: user 11.1 s, sys: 582 ms, total: 11.7 s\n",
      "Wall time: 17.1 s\n"
     ]
    }
   ],
   "source": [
    "%%time\n",
    "trajs = [t.generate.delay(engine, template, p.LengthEnsemble(20)) for x in range(50)]\n",
    "\n",
    "running = True\n",
    "while running:\n",
    "    running = False\n",
    "    for traj in trajs:\n",
    "        if not traj.successful():\n",
    "            running = True"
   ]
  },
  {
   "cell_type": "code",
   "execution_count": 35,
   "metadata": {
    "collapsed": false
   },
   "outputs": [
    {
     "data": {
      "text/plain": [
       "[pkg_resources.PEP440Warning,\n",
       " numpy.core.numeric.ComplexWarning,\n",
       " PIL.Image.DecompressionBombWarning,\n",
       " scipy.optimize.linesearch.LineSearchWarning,\n",
       " mdtraj.utils.validation.TypeCastPerformanceWarning]"
      ]
     },
     "execution_count": 35,
     "metadata": {},
     "output_type": "execute_result"
    }
   ],
   "source": [
    "RuntimeWarning.__subclasses__()"
   ]
  },
  {
   "cell_type": "code",
   "execution_count": 37,
   "metadata": {
    "collapsed": false
   },
   "outputs": [],
   "source": [
    "simp = p.netcdfplus.dictify.CachedUUIDObjectJSON()"
   ]
  },
  {
   "cell_type": "code",
   "execution_count": 41,
   "metadata": {
    "collapsed": false
   },
   "outputs": [
    {
     "data": {
      "text/plain": [
       "173144"
      ]
     },
     "execution_count": 41,
     "metadata": {},
     "output_type": "execute_result"
    }
   ],
   "source": [
    "len(simp.to_json(template))"
   ]
  },
  {
   "cell_type": "code",
   "execution_count": 56,
   "metadata": {
    "collapsed": false
   },
   "outputs": [
    {
     "data": {
      "text/plain": [
       "4823717"
      ]
     },
     "execution_count": 56,
     "metadata": {},
     "output_type": "execute_result"
    }
   ],
   "source": [
    "len(simp.to_json(ff[1] + ff[2]))"
   ]
  },
  {
   "cell_type": "code",
   "execution_count": 57,
   "metadata": {
    "collapsed": false
   },
   "outputs": [
    {
     "data": {
      "text/plain": [
       "Trajectory[40]"
      ]
     },
     "execution_count": 57,
     "metadata": {},
     "output_type": "execute_result"
    }
   ],
   "source": [
    "ff[1] + ff[2]"
   ]
  },
  {
   "cell_type": "code",
   "execution_count": 58,
   "metadata": {
    "collapsed": false
   },
   "outputs": [
    {
     "name": "stdout",
     "output_type": "stream",
     "text": [
      "120592\n",
      "115091\n"
     ]
    }
   ],
   "source": [
    "print 4823717 / 40\n",
    "print 8631826 / 75"
   ]
  },
  {
   "cell_type": "code",
   "execution_count": 59,
   "metadata": {
    "collapsed": false
   },
   "outputs": [
    {
     "data": {
      "text/plain": [
       "108803"
      ]
     },
     "execution_count": 59,
     "metadata": {},
     "output_type": "execute_result"
    }
   ],
   "source": [
    "(8631826 - 4823717) / 35"
   ]
  },
  {
   "cell_type": "code",
   "execution_count": 62,
   "metadata": {
    "collapsed": true
   },
   "outputs": [],
   "source": [
    "qqq = simp.to_json(sum(ff, p.Trajectory([])))"
   ]
  },
  {
   "cell_type": "code",
   "execution_count": 61,
   "metadata": {
    "collapsed": false
   },
   "outputs": [
    {
     "name": "stdout",
     "output_type": "stream",
     "text": [
      "CPU times: user 2.01 s, sys: 399 ms, total: 2.41 s\n",
      "Wall time: 2.42 s\n"
     ]
    },
    {
     "data": {
      "text/plain": [
       "222483248"
      ]
     },
     "execution_count": 61,
     "metadata": {},
     "output_type": "execute_result"
    }
   ],
   "source": [
    "%%time\n",
    "len(simp.to_json(sum(ff, p.Trajectory([]))))"
   ]
  },
  {
   "cell_type": "code",
   "execution_count": 63,
   "metadata": {
    "collapsed": false
   },
   "outputs": [
    {
     "name": "stdout",
     "output_type": "stream",
     "text": [
      "CPU times: user 881 ms, sys: 154 ms, total: 1.03 s\n",
      "Wall time: 1.03 s\n"
     ]
    },
    {
     "data": {
      "text/plain": [
       "2000"
      ]
     },
     "execution_count": 63,
     "metadata": {},
     "output_type": "execute_result"
    }
   ],
   "source": [
    "%%time\n",
    "len(simp.from_json(qqq))"
   ]
  },
  {
   "cell_type": "markdown",
   "metadata": {},
   "source": [
    "So it takes \n",
    "```\n",
    "~ 2.5 seconds to pickle \n",
    "~ 2000 frames (plus engine).\n",
    "Filesize 220MB\n",
    "\n",
    "2.5ms per frame\n",
    "100kB per frame\n",
    "```"
   ]
  },
  {
   "cell_type": "markdown",
   "metadata": {},
   "source": [
    "Gigabit network can transmit ~ "
   ]
  },
  {
   "cell_type": "code",
   "execution_count": null,
   "metadata": {
    "collapsed": true
   },
   "outputs": [],
   "source": []
  }
 ],
 "metadata": {
  "anaconda-cloud": {},
  "kernelspec": {
   "display_name": "Python [default]",
   "language": "python",
   "name": "python2"
  },
  "language_info": {
   "codemirror_mode": {
    "name": "ipython",
    "version": 2
   },
   "file_extension": ".py",
   "mimetype": "text/x-python",
   "name": "python",
   "nbconvert_exporter": "python",
   "pygments_lexer": "ipython2",
   "version": "2.7.12"
  }
 },
 "nbformat": 4,
 "nbformat_minor": 0
}
