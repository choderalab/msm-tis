{
 "cells": [
  {
   "cell_type": "markdown",
   "metadata": {},
   "source": [
    "## MSMs, OOMs and OPS"
   ]
  },
  {
   "cell_type": "markdown",
   "metadata": {},
   "source": [
    "This explains how to run OPS simulations for dynamics defined by a Markov state model (MSM)."
   ]
  },
  {
   "cell_type": "code",
   "execution_count": 81,
   "metadata": {
    "collapsed": true
   },
   "outputs": [],
   "source": [
    "import openpathsampling as paths\n",
    "import numpy as np\n",
    "import openpathsampling.engines.msm as msm\n",
    "import matplotlib.pyplot as plt\n",
    "%matplotlib inline"
   ]
  },
  {
   "cell_type": "markdown",
   "metadata": {},
   "source": [
    "Create a simple MSM, just 4 states. We should put something bigger in here."
   ]
  },
  {
   "cell_type": "code",
   "execution_count": 82,
   "metadata": {
    "collapsed": true
   },
   "outputs": [],
   "source": [
    "mat = np.array([\n",
    "    [0.95, 0.05, 0.00, 0.00],\n",
    "    [0.05, 0.94, 0.01, 0.00],\n",
    "    [0.00, 0.01, 0.94, 0.05],\n",
    "    [0.00, 0.00, 0.05, 0.95]\n",
    "])"
   ]
  },
  {
   "cell_type": "markdown",
   "metadata": {},
   "source": [
    "Create an engine first. The MSM engine takes a transition matrix. No checks are done so far."
   ]
  },
  {
   "cell_type": "code",
   "execution_count": 83,
   "metadata": {
    "collapsed": true
   },
   "outputs": [],
   "source": [
    "engine = msm.Engine(mat)"
   ]
  },
  {
   "cell_type": "markdown",
   "metadata": {},
   "source": [
    "create a first snapshot. in MSM these can also be called a `MicroState`"
   ]
  },
  {
   "cell_type": "code",
   "execution_count": 84,
   "metadata": {
    "collapsed": true
   },
   "outputs": [],
   "source": [
    "snap = msm.MicroState(\n",
    "    state=0,\n",
    "    engine=engine\n",
    ")\n",
    "engine.current_snapshot = snap"
   ]
  },
  {
   "cell_type": "markdown",
   "metadata": {},
   "source": [
    "Generate a first trajectory"
   ]
  },
  {
   "cell_type": "code",
   "execution_count": 85,
   "metadata": {},
   "outputs": [
    {
     "name": "stdout",
     "output_type": "stream",
     "text": [
      "CPU times: user 39.6 ms, sys: 1.61 ms, total: 41.3 ms\n",
      "Wall time: 40.2 ms\n"
     ]
    }
   ],
   "source": [
    "%%time\n",
    "traj = engine.generate_n_frames(1000)"
   ]
  },
  {
   "cell_type": "markdown",
   "metadata": {},
   "source": [
    "Define macro states, here just out of single microstates"
   ]
  },
  {
   "cell_type": "code",
   "execution_count": 86,
   "metadata": {
    "collapsed": true
   },
   "outputs": [],
   "source": [
    "stateA = msm.Block([0])\n",
    "stateB = msm.Block([3])"
   ]
  },
  {
   "cell_type": "markdown",
   "metadata": {},
   "source": [
    "And some interfaces (not needed for TPS)"
   ]
  },
  {
   "cell_type": "code",
   "execution_count": 87,
   "metadata": {
    "collapsed": true
   },
   "outputs": [],
   "source": [
    "intA = msm.Block([0,1])\n",
    "intB = msm.Block([2,3])"
   ]
  },
  {
   "cell_type": "markdown",
   "metadata": {},
   "source": [
    "Define ensembles for A->B and B->A pathways"
   ]
  },
  {
   "cell_type": "code",
   "execution_count": 88,
   "metadata": {
    "collapsed": true
   },
   "outputs": [],
   "source": [
    "ensA2B = paths.SequentialEnsemble([\n",
    "        paths.SingleFrameEnsemble(paths.AllInXEnsemble(stateA)),\n",
    "        paths.AllOutXEnsemble(stateA | stateB),\n",
    "        paths.SingleFrameEnsemble(paths.AllInXEnsemble(stateB)),        \n",
    "    ])\n",
    "ensB2A = paths.SequentialEnsemble([\n",
    "        paths.SingleFrameEnsemble(paths.AllInXEnsemble(stateB)),\n",
    "        paths.AllOutXEnsemble(stateA | stateB),\n",
    "        paths.SingleFrameEnsemble(paths.AllInXEnsemble(stateA)),        \n",
    "    ])"
   ]
  },
  {
   "cell_type": "markdown",
   "metadata": {},
   "source": [
    "Compute the probability to reach B by starting in A and measure fraction we reach B"
   ]
  },
  {
   "cell_type": "code",
   "execution_count": null,
   "metadata": {},
   "outputs": [],
   "source": [
    "r = []\n",
    "\n",
    "for x in range(20000):\n",
    "    tt = engine.generate(snap, ensA2AB.can_append)\n",
    "    r.append(stateB(tt[-1]))\n",
    "    \n",
    "print 1.0 * sum(r) / len(r)"
   ]
  },
  {
   "cell_type": "markdown",
   "metadata": {},
   "source": [
    "And pick the first AB path"
   ]
  },
  {
   "cell_type": "code",
   "execution_count": 89,
   "metadata": {},
   "outputs": [],
   "source": [
    "# first_AB_list = ensA2B.split(traj)\n",
    "# firstAB = first_AB_list[0].state"
   ]
  },
  {
   "cell_type": "markdown",
   "metadata": {},
   "source": [
    "as well as the first BA path"
   ]
  },
  {
   "cell_type": "code",
   "execution_count": 90,
   "metadata": {},
   "outputs": [],
   "source": [
    "# first_BA_list = ensB2A.split(traj)\n",
    "# firstBA = first_AB_list[0].state"
   ]
  },
  {
   "cell_type": "markdown",
   "metadata": {},
   "source": [
    "Now setting up a TPS network consisting of a transition from A2B "
   ]
  },
  {
   "cell_type": "code",
   "execution_count": 91,
   "metadata": {
    "collapsed": true
   },
   "outputs": [],
   "source": [
    "network = paths.TPSNetwork(stateA, stateB)"
   ]
  },
  {
   "cell_type": "markdown",
   "metadata": {},
   "source": [
    "and a scheme"
   ]
  },
  {
   "cell_type": "code",
   "execution_count": 92,
   "metadata": {
    "collapsed": true
   },
   "outputs": [],
   "source": [
    "scheme = paths.OneWayShootingMoveScheme(\n",
    "    network, \n",
    "    selector=paths.UniformSelector(), \n",
    "    engine=engine\n",
    ")"
   ]
  },
  {
   "cell_type": "markdown",
   "metadata": {},
   "source": [
    "generate the initial conditions, e.g. the sampleset that is used in the beginning. For TPS this is just a single sample that is in the A2B path ensemble."
   ]
  },
  {
   "cell_type": "code",
   "execution_count": 93,
   "metadata": {},
   "outputs": [
    {
     "name": "stdout",
     "output_type": "stream",
     "text": [
      "No missing ensembles.\n",
      "No extra ensembles.\n",
      "No missing ensembles.\n",
      "No extra ensembles.\n",
      "\n"
     ]
    }
   ],
   "source": [
    "initial_conditions = scheme.initial_conditions_from_trajectories(traj)\n",
    "print scheme.initial_conditions_report(initial_conditions)"
   ]
  },
  {
   "cell_type": "markdown",
   "metadata": {},
   "source": [
    "We could save for later, but we will do this in memory."
   ]
  },
  {
   "cell_type": "code",
   "execution_count": 94,
   "metadata": {},
   "outputs": [],
   "source": [
    "# storage = paths.Storage(\"msm.nc\", \"w\", use_uuid=False)\n",
    "# storage.set_caching_mode('analysis')"
   ]
  },
  {
   "cell_type": "code",
   "execution_count": 95,
   "metadata": {},
   "outputs": [
    {
     "data": {
      "text/plain": [
       "[<matplotlib.lines.Line2D at 0x126a08890>]"
      ]
     },
     "execution_count": 95,
     "metadata": {},
     "output_type": "execute_result"
    },
    {
     "data": {
      "image/png": "[encoded data removed]",
      "text/plain": [
       "<matplotlib.figure.Figure at 0x127878790>"
      ]
     },
     "metadata": {},
     "output_type": "display_data"
    }
   ],
   "source": [
    "plt.plot(traj.state)"
   ]
  },
  {
   "cell_type": "markdown",
   "metadata": {},
   "source": [
    "We use a special MSM step sampler that will add all the steps to a list instead of saving these to disk.\n",
    "You could later save these using `map(storage.steps, steps)`, but we don't want to do that here."
   ]
  },
  {
   "cell_type": "code",
   "execution_count": 96,
   "metadata": {
    "collapsed": true
   },
   "outputs": [],
   "source": [
    "steps=[]"
   ]
  },
  {
   "cell_type": "code",
   "execution_count": 97,
   "metadata": {},
   "outputs": [],
   "source": [
    "sampler = msm.StepSampling(\n",
    "    steplist=steps,  \n",
    "    move_scheme=scheme,\n",
    "    sample_set=initial_conditions\n",
    ")"
   ]
  },
  {
   "cell_type": "code",
   "execution_count": 98,
   "metadata": {},
   "outputs": [
    {
     "name": "stdout",
     "output_type": "stream",
     "text": [
      "Working on Monte Carlo cycle number 1000\n",
      "Running for 17 seconds -  0.02 seconds per step\n",
      "Estimated time remaining: 0 seconds\n",
      "DONE! Completed 1000 Monte Carlo cycles.\n",
      "CPU times: user 16.3 s, sys: 4.87 s, total: 21.2 s\n",
      "Wall time: 18 s\n"
     ]
    }
   ],
   "source": [
    "%%time\n",
    "sampler.run(1000)"
   ]
  },
  {
   "cell_type": "code",
   "execution_count": 99,
   "metadata": {},
   "outputs": [
    {
     "data": {
      "text/plain": [
       "1001"
      ]
     },
     "execution_count": 99,
     "metadata": {},
     "output_type": "execute_result"
    }
   ],
   "source": [
    "len(steps)"
   ]
  },
  {
   "cell_type": "code",
   "execution_count": 100,
   "metadata": {},
   "outputs": [],
   "source": [
    "# sum(map(len, storage.trajectories))"
   ]
  },
  {
   "cell_type": "code",
   "execution_count": 101,
   "metadata": {},
   "outputs": [],
   "source": [
    "# len(storage.trajectories)"
   ]
  },
  {
   "cell_type": "markdown",
   "metadata": {},
   "source": [
    "In case we want to analyze from storage"
   ]
  },
  {
   "cell_type": "code",
   "execution_count": 102,
   "metadata": {
    "collapsed": true
   },
   "outputs": [],
   "source": [
    "# steps = storage.steps"
   ]
  },
  {
   "cell_type": "markdown",
   "metadata": {},
   "source": [
    "Get the path lengths"
   ]
  },
  {
   "cell_type": "code",
   "execution_count": 103,
   "metadata": {},
   "outputs": [],
   "source": [
    "path_lengths = [len(step.active[0].trajectory) for step in steps[1:]]"
   ]
  },
  {
   "cell_type": "code",
   "execution_count": 104,
   "metadata": {},
   "outputs": [
    {
     "name": "stdout",
     "output_type": "stream",
     "text": [
      "Maximum: 111 (1110)\n",
      "Average: 34.12 (341.23)\n"
     ]
    },
    {
     "data": {
      "image/png": "[encoded data removed]",
      "text/plain": [
       "<matplotlib.figure.Figure at 0x128bc6250>"
      ]
     },
     "metadata": {},
     "output_type": "display_data"
    }
   ],
   "source": [
    "print \"Maximum:\", max(path_lengths), \"(\"+str(max(path_lengths)*engine.snapshot_timestep)+\")\"\n",
    "print \"Average:\", \"{0:.2f}\".format(np.mean(path_lengths)), \"(\"+\"{0:.2f}\".format(np.mean(path_lengths)*engine.snapshot_timestep)+\")\"\n",
    "plt.hist(path_lengths, bins=40, alpha=0.5);\n"
   ]
  },
  {
   "cell_type": "code",
   "execution_count": 105,
   "metadata": {},
   "outputs": [],
   "source": [
    "ooms = np.array([np.dot(np.diag([1 if x == row else 0 for x in range(4)]), mat) for row in range(len(mat))])"
   ]
  },
  {
   "cell_type": "markdown",
   "metadata": {},
   "source": [
    "Use OOM formalism to compute path probability"
   ]
  },
  {
   "cell_type": "code",
   "execution_count": 106,
   "metadata": {
    "collapsed": true
   },
   "outputs": [],
   "source": [
    "oA = ooms[0]\n",
    "oNotAB = ooms[1] + ooms[2]\n",
    "oB = ooms[3]\n",
    "ones = np.ones(4)\n",
    "pin = np.linalg.eig(mat)[1][0]\n",
    "pi = pin / sum(pin)"
   ]
  },
  {
   "cell_type": "code",
   "execution_count": 107,
   "metadata": {},
   "outputs": [],
   "source": [
    "v1 = np.dot(np.dot(pi, np.dot(np.dot(oA, np.dot(oNotAB, np.linalg.inv(np.eye(4) - oNotAB))), oB)), ones)\n",
    "v2 = np.dot(np.dot(pi, oA), ones)"
   ]
  },
  {
   "cell_type": "code",
   "execution_count": 108,
   "metadata": {},
   "outputs": [
    {
     "name": "stdout",
     "output_type": "stream",
     "text": [
      "probability of finding a path that starts in A and end in B before returning (unnormalized): 0.00160496919593\n"
     ]
    }
   ],
   "source": [
    "print 'probability of finding a path that starts in A and end in B before returning (unnormalized):', v1"
   ]
  },
  {
   "cell_type": "code",
   "execution_count": 109,
   "metadata": {},
   "outputs": [
    {
     "name": "stdout",
     "output_type": "stream",
     "text": [
      "probability to start in A under starting conditions (normalization): 0.22469568743\n"
     ]
    }
   ],
   "source": [
    "print 'probability to start in A under starting conditions (normalization):', v2"
   ]
  },
  {
   "cell_type": "code",
   "execution_count": 110,
   "metadata": {},
   "outputs": [
    {
     "name": "stdout",
     "output_type": "stream",
     "text": [
      "prob of going from A directly to B without returning (normalized) 0.00714285714286\n"
     ]
    }
   ],
   "source": [
    "print 'prob of going from A directly to B without returning (normalized)', v1 / v2"
   ]
  },
  {
   "cell_type": "markdown",
   "metadata": {},
   "source": [
    "An analytic expression for pathlength"
   ]
  },
  {
   "cell_type": "code",
   "execution_count": 111,
   "metadata": {},
   "outputs": [],
   "source": [
    "l1 = np.dot(\n",
    "    np.dot(\n",
    "    pi, np.dot(\n",
    "    np.dot(oA, \n",
    "           np.dot(\n",
    "               (2.0 * oNotAB), \n",
    "               np.linalg.matrix_power(\n",
    "                   np.linalg.inv(np.eye(4) - oNotAB), \n",
    "                   2\n",
    "               )\n",
    "           )\n",
    "          ), \n",
    "        oB)\n",
    "    ), \n",
    "ones)"
   ]
  },
  {
   "cell_type": "code",
   "execution_count": 112,
   "metadata": {},
   "outputs": [
    {
     "data": {
      "text/plain": [
       "68.571428571428498"
      ]
     },
     "execution_count": 112,
     "metadata": {},
     "output_type": "execute_result"
    }
   ],
   "source": [
    "l1 / v1"
   ]
  },
  {
   "cell_type": "markdown",
   "metadata": {},
   "source": [
    "Plot the PathLength Distribution"
   ]
  },
  {
   "cell_type": "code",
   "execution_count": 113,
   "metadata": {},
   "outputs": [],
   "source": [
    "def pathlength(n):\n",
    "    return np.dot(np.dot(pi, np.dot(np.dot(oA, np.linalg.matrix_power(oNotAB, n)), oB)), ones) / v1"
   ]
  },
  {
   "cell_type": "code",
   "execution_count": 114,
   "metadata": {},
   "outputs": [
    {
     "data": {
      "image/png": "[encoded data removed]",
      "text/plain": [
       "<matplotlib.figure.Figure at 0x128bc0dd0>"
      ]
     },
     "metadata": {},
     "output_type": "display_data"
    }
   ],
   "source": [
    "plt.hist(path_lengths, bins=40, alpha=0.5, normed=1);\n",
    "plt.plot(map(pathlength,range(200)))\n",
    "plt.show()\n"
   ]
  },
  {
   "cell_type": "markdown",
   "metadata": {},
   "source": [
    "And some visualization"
   ]
  },
  {
   "cell_type": "code",
   "execution_count": 115,
   "metadata": {
    "collapsed": true
   },
   "outputs": [],
   "source": [
    "import openpathsampling.visualize as ops_vis\n",
    "from IPython.display import SVG"
   ]
  },
  {
   "cell_type": "code",
   "execution_count": 116,
   "metadata": {},
   "outputs": [],
   "source": [
    "history = ops_vis.PathTree(\n",
    "    steps[:250],\n",
    "    ops_vis.ReplicaEvolution(\n",
    "        replica=0,\n",
    "        accepted=True\n",
    "    )\n",
    ")\n",
    "history.states = {\n",
    "    'red': stateA,\n",
    "    'orange': msm.Block([1]),\n",
    "    'greenyellow': msm.Block([2]),\n",
    "    'green': stateB\n",
    "}\n",
    "history.options.css['scale_x'] = 3\n",
    "history.options.css['scale_y'] = 5\n",
    "history.options.movers['ForwardShootMover']['suffix'] = ''\n",
    "history.options.movers['BackwardShootMover']['suffix'] = ''\n",
    "history.options.ui['legends'] = []\n",
    "history.options.css['width'] = '100%'"
   ]
  },
  {
   "cell_type": "code",
   "execution_count": 117,
   "metadata": {
    "scrolled": false
   },
   "outputs": [
    {
     "data": {
      "image/svg+xml": [
       "<svg baseProfile=\"full\" class=\"opstree\" height=\"100%\" id=\"pathtree-0\" version=\"1.1\" viewBox=\"-16.00 -7.50 614.00 555.00\" width=\"100%\" xmlns=\"http://www.w3.org/2000/svg\" xmlns:ev=\"http://www.w3.org/2001/xml-events\" xmlns:xlink=\"http://www.w3.org/1999/xlink\"><defs><style type=\"text/css\"><![CDATA[.opstree text, .movetree text {\n",
       "    alignment-baseline: central;\n",
       "    font-size: 10px;\n",
       "    text-anchor: middle;\n",
       "    font-family: Futura-CondensedMedium;\n",
       "    font-weight: lighter;\n",
       "    stroke: none !important;\n",
       "}\n",
       ".opstree .block text, .movetree .block text {\n",
       "    alignment-baseline: central;\n",
       "    font-size: 8px;\n",
       "    text-anchor: middle;\n",
       "    font-family: Futura-CondensedMedium;\n",
       "    font-weight: lighter;\n",
       "    stroke: none !important;\n",
       "}\n",
       ".opstree text.shadow {\n",
       "    stroke-width: 3;\n",
       "    stroke: white !important;\n",
       "}\n",
       ".opstree .left.label .shift text {\n",
       "    text-anchor: end;\n",
       "}\n",
       ".opstree .right.label .shift text {\n",
       "    text-anchor: start;\n",
       "}\n",
       ".opstree .block text, .movetree .block text {\n",
       "    fill: white !important;\n",
       "    stroke: none !important;\n",
       "}\n",
       ".opstree .block {\n",
       "    stroke: none !important;\n",
       "}\n",
       ".opstree g.block:hover rect {\n",
       "    opacity: 0.5;\n",
       "}\n",
       ".opstree .repex {\n",
       "    fill: blue;\n",
       "    stroke: blue;\n",
       "}\n",
       ".opstree .extend {\n",
       "    fill: blue;\n",
       "    stroke: blue;\n",
       "}\n",
       ".opstree .truncate {\n",
       "    fill: blue;\n",
       "    stroke: blue;\n",
       "}\n",
       ".opstree .new {\n",
       "    fill: black;\n",
       "    stroke: black;\n",
       "}\n",
       ".opstree .unknown {\n",
       "    fill: gray;\n",
       "    stroke: gray;\n",
       "}\n",
       ".opstree .hop {\n",
       "    fill: blue;\n",
       "    stroke: blue;\n",
       "}\n",
       ".opstree .correlation {\n",
       "    fill: black;\n",
       "    stroke: black;\n",
       "}\n",
       ".opstree .shooting.bw {\n",
       "    fill: green;\n",
       "    stroke: green;\n",
       "}\n",
       ".opstree .shooting.fw {\n",
       "    fill: red;\n",
       "    stroke: red;\n",
       "}\n",
       ".opstree .shooting.overlap {\n",
       "    fill: #666;\n",
       "    stroke: #666;\n",
       "}\n",
       ".opstree .reversal {\n",
       "    fill: gold;\n",
       "    stroke: gold;\n",
       "}\n",
       ".opstree .virtual {\n",
       "    opacity: 0.1;\n",
       "    fill:gray;\n",
       "    stroke: none;\n",
       "}\n",
       ".opstree line {\n",
       "    stroke-width: 2px;\n",
       "}\n",
       ".opstree .label {\n",
       "    fill: black !important;\n",
       "}\n",
       ".opstree .h-connector {\n",
       "    stroke-width: 0.1px;\n",
       "    stroke-dasharray: 3 3;\n",
       "}\n",
       ".opstree .rejected {\n",
       "    opacity: 0.25;\n",
       "}\n",
       ".opstree .level {\n",
       "    opacity: 0.25;\n",
       "}\n",
       ".opstree .orange {\n",
       "    fill: orange;\n",
       "}\n",
       ".tableline {\n",
       "    fill: gray;\n",
       "    opacity: 0.0;\n",
       "}\n",
       ".tableline:hover {\n",
       "    opacity: 0.2;\n",
       "}\n",
       ".opstree .left.label g.shift {\n",
       "    transform: translateX(-6px);\n",
       "}\n",
       ".opstree .right.label g.shift {\n",
       "    transform: translateX(+6px);\n",
       "}\n",
       ".opstree .infobox text {\n",
       "    text-anchor: start;\n",
       "}\n",
       ".opstree .shade {\n",
       "    stroke: none;\n",
       "}\n",
       "\n",
       ".movetree .label .shift {\n",
       "    transform: translateX(-18px);\n",
       "}\n",
       "\n",
       ".movetree .label text {\n",
       "    text-anchor: end;\n",
       "}\n",
       ".movetree .v-connector {\n",
       "    stroke: black;\n",
       "}\n",
       ".movetree .v-hook {\n",
       "    stroke: black;\n",
       "}\n",
       ".movetree .h-connector {\n",
       "    stroke: black;\n",
       "}\n",
       ".movetree .ensembles .head .shift {\n",
       "    transform: translateY(0px) rotate(270deg) ;\n",
       "}\n",
       ".movetree .ensembles .head text {\n",
       "    text-anchor: start;\n",
       "}\n",
       ".movetree .connector.input {\n",
       "    fill: blue;\n",
       "}\n",
       ".movetree .connector.output {\n",
       "    fill: red;\n",
       "}\n",
       ".movetree .unknown {\n",
       "    fill: #aaa;\n",
       "    /*stroke: white;*/\n",
       "}]]></style></defs><g transform=\"scale(1.0)\"><g class=\"tree\" transform=\"translate(182,5)\"><g class=\"trajectory-label\"><g class=\"unknown left label\" transform=\"translate(0,0)\"><g class=\"shift\"><text x=\"0\" y=\"0\">+</text></g></g><g class=\"shooting left label\" transform=\"translate(18,5)\"><g class=\"shift\"><text x=\"0\" y=\"0\"/></g></g><g class=\"shooting left label\" transform=\"translate(-48,10)\"><g class=\"shift\"><text x=\"0\" y=\"0\"/></g></g><g class=\"shooting left label\" transform=\"translate(-78,15)\"><g class=\"shift\"><text x=\"0\" y=\"0\"/></g></g><g class=\"shooting left label\" transform=\"translate(-12,20)\"><g class=\"shift\"><text x=\"0\" y=\"0\"/></g></g><g class=\"shooting right label\" transform=\"translate(54,25)\"><g class=\"shift\"><text x=\"0\" y=\"0\"/></g></g><g class=\"shooting right label\" transform=\"translate(60,30)\"><g class=\"shift\"><text x=\"0\" y=\"0\"/></g></g><g class=\"shooting right label\" transform=\"translate(117,35)\"><g class=\"shift\"><text x=\"0\" y=\"0\"/></g></g><g class=\"shooting left label\" transform=\"translate(9,40)\"><g class=\"shift\"><text x=\"0\" y=\"0\"/></g></g><g class=\"shooting right label\" transform=\"translate(129,45)\"><g class=\"shift\"><text x=\"0\" y=\"0\"/></g></g><g class=\"shooting left label\" transform=\"translate(-93,50)\"><g class=\"shift\"><text x=\"0\" y=\"0\"/></g></g><g class=\"shooting left label\" transform=\"translate(6,55)\"><g class=\"shift\"><text x=\"0\" y=\"0\"/></g></g><g class=\"shooting left label\" transform=\"translate(18,60)\"><g class=\"shift\"><text x=\"0\" y=\"0\"/></g></g><g class=\"shooting right label\" transform=\"translate(138,65)\"><g class=\"shift\"><text x=\"0\" y=\"0\"/></g></g><g class=\"shooting right label\" transform=\"translate(132,70)\"><g class=\"shift\"><text x=\"0\" y=\"0\"/></g></g><g class=\"shooting left label\" transform=\"translate(-27,75)\"><g class=\"shift\"><text x=\"0\" y=\"0\"/></g></g><g class=\"shooting left label\" transform=\"translate(30,80)\"><g class=\"shift\"><text x=\"0\" y=\"0\"/></g></g><g class=\"shooting right label\" transform=\"translate(240,85)\"><g class=\"shift\"><text x=\"0\" y=\"0\"/></g></g><g class=\"shooting left label\" transform=\"translate(60,90)\"><g class=\"shift\"><text x=\"0\" y=\"0\"/></g></g><g class=\"shooting left label\" transform=\"translate(78,95)\"><g class=\"shift\"><text x=\"0\" y=\"0\"/></g></g><g class=\"shooting right label\" transform=\"translate(123,100)\"><g class=\"shift\"><text x=\"0\" y=\"0\"/></g></g><g class=\"shooting left label\" transform=\"translate(69,105)\"><g class=\"shift\"><text x=\"0\" y=\"0\"/></g></g><g class=\"shooting left label\" transform=\"translate(66,110)\"><g class=\"shift\"><text x=\"0\" y=\"0\"/></g></g><g class=\"shooting left label\" transform=\"translate(54,115)\"><g class=\"shift\"><text x=\"0\" y=\"0\"/></g></g><g class=\"shooting right label\" transform=\"translate(183,120)\"><g class=\"shift\"><text x=\"0\" y=\"0\"/></g></g><g class=\"shooting left label\" transform=\"translate(12,125)\"><g class=\"shift\"><text x=\"0\" y=\"0\"/></g></g><g class=\"shooting right label\" transform=\"translate(159,130)\"><g class=\"shift\"><text x=\"0\" y=\"0\"/></g></g><g class=\"shooting left label\" transform=\"translate(9,135)\"><g class=\"shift\"><text x=\"0\" y=\"0\"/></g></g><g class=\"shooting left label\" transform=\"translate(45,140)\"><g class=\"shift\"><text x=\"0\" y=\"0\"/></g></g><g class=\"shooting right label\" transform=\"translate(162,145)\"><g class=\"shift\"><text x=\"0\" y=\"0\"/></g></g><g class=\"shooting left label\" transform=\"translate(57,150)\"><g class=\"shift\"><text x=\"0\" y=\"0\"/></g></g><g class=\"shooting right label\" transform=\"translate(162,155)\"><g class=\"shift\"><text x=\"0\" y=\"0\"/></g></g><g class=\"shooting right label\" transform=\"translate(354,160)\"><g class=\"shift\"><text x=\"0\" y=\"0\"/></g></g><g class=\"shooting left label\" transform=\"translate(225,165)\"><g class=\"shift\"><text x=\"0\" y=\"0\"/></g></g><g class=\"shooting left label\" transform=\"translate(132,170)\"><g class=\"shift\"><text x=\"0\" y=\"0\"/></g></g><g class=\"shooting right label\" transform=\"translate(375,175)\"><g class=\"shift\"><text x=\"0\" y=\"0\"/></g></g><g class=\"shooting right label\" transform=\"translate(381,180)\"><g class=\"shift\"><text x=\"0\" y=\"0\"/></g></g><g class=\"shooting left label\" transform=\"translate(51,185)\"><g class=\"shift\"><text x=\"0\" y=\"0\"/></g></g><g class=\"shooting left label\" transform=\"translate(63,190)\"><g class=\"shift\"><text x=\"0\" y=\"0\"/></g></g><g class=\"shooting left label\" transform=\"translate(66,195)\"><g class=\"shift\"><text x=\"0\" y=\"0\"/></g></g><g class=\"shooting right label\" transform=\"translate(285,200)\"><g class=\"shift\"><text x=\"0\" y=\"0\"/></g></g><g class=\"shooting right label\" transform=\"translate(246,205)\"><g class=\"shift\"><text x=\"0\" y=\"0\"/></g></g><g class=\"shooting right label\" transform=\"translate(288,210)\"><g class=\"shift\"><text x=\"0\" y=\"0\"/></g></g><g class=\"shooting right label\" transform=\"translate(189,215)\"><g class=\"shift\"><text x=\"0\" y=\"0\"/></g></g><g class=\"shooting right label\" transform=\"translate(108,220)\"><g class=\"shift\"><text x=\"0\" y=\"0\"/></g></g><g class=\"shooting right label\" transform=\"translate(105,225)\"><g class=\"shift\"><text x=\"0\" y=\"0\"/></g></g><g class=\"shooting left label\" transform=\"translate(12,230)\"><g class=\"shift\"><text x=\"0\" y=\"0\"/></g></g><g class=\"shooting left label\" transform=\"translate(36,235)\"><g class=\"shift\"><text x=\"0\" y=\"0\"/></g></g><g class=\"shooting left label\" transform=\"translate(48,240)\"><g class=\"shift\"><text x=\"0\" y=\"0\"/></g></g><g class=\"shooting right label\" transform=\"translate(99,245)\"><g class=\"shift\"><text x=\"0\" y=\"0\"/></g></g><g class=\"shooting right label\" transform=\"translate(108,250)\"><g class=\"shift\"><text x=\"0\" y=\"0\"/></g></g><g class=\"shooting left label\" transform=\"translate(-147,255)\"><g class=\"shift\"><text x=\"0\" y=\"0\"/></g></g><g class=\"shooting right label\" transform=\"translate(126,260)\"><g class=\"shift\"><text x=\"0\" y=\"0\"/></g></g><g class=\"shooting left label\" transform=\"translate(-9,265)\"><g class=\"shift\"><text x=\"0\" y=\"0\"/></g></g><g class=\"shooting left label\" transform=\"translate(-105,270)\"><g class=\"shift\"><text x=\"0\" y=\"0\"/></g></g><g class=\"shooting left label\" transform=\"translate(57,275)\"><g class=\"shift\"><text x=\"0\" y=\"0\"/></g></g><g class=\"shooting right label\" transform=\"translate(114,280)\"><g class=\"shift\"><text x=\"0\" y=\"0\"/></g></g><g class=\"shooting left label\" transform=\"translate(60,285)\"><g class=\"shift\"><text x=\"0\" y=\"0\"/></g></g><g class=\"shooting left label\" transform=\"translate(66,290)\"><g class=\"shift\"><text x=\"0\" y=\"0\"/></g></g><g class=\"shooting left label\" transform=\"translate(69,295)\"><g class=\"shift\"><text x=\"0\" y=\"0\"/></g></g><g class=\"shooting left label\" transform=\"translate(54,300)\"><g class=\"shift\"><text x=\"0\" y=\"0\"/></g></g><g class=\"shooting right label\" transform=\"translate(114,305)\"><g class=\"shift\"><text x=\"0\" y=\"0\"/></g></g><g class=\"shooting left label\" transform=\"translate(48,310)\"><g class=\"shift\"><text x=\"0\" y=\"0\"/></g></g><g class=\"shooting right label\" transform=\"translate(153,315)\"><g class=\"shift\"><text x=\"0\" y=\"0\"/></g></g><g class=\"shooting right label\" transform=\"translate(156,320)\"><g class=\"shift\"><text x=\"0\" y=\"0\"/></g></g><g class=\"shooting right label\" transform=\"translate(171,325)\"><g class=\"shift\"><text x=\"0\" y=\"0\"/></g></g><g class=\"shooting right label\" transform=\"translate(135,330)\"><g class=\"shift\"><text x=\"0\" y=\"0\"/></g></g><g class=\"shooting left label\" transform=\"translate(21,335)\"><g class=\"shift\"><text x=\"0\" y=\"0\"/></g></g><g class=\"shooting left label\" transform=\"translate(57,340)\"><g class=\"shift\"><text x=\"0\" y=\"0\"/></g></g><g class=\"shooting left label\" transform=\"translate(-39,345)\"><g class=\"shift\"><text x=\"0\" y=\"0\"/></g></g><g class=\"shooting left label\" transform=\"translate(-9,350)\"><g class=\"shift\"><text x=\"0\" y=\"0\"/></g></g><g class=\"shooting left label\" transform=\"translate(-57,355)\"><g class=\"shift\"><text x=\"0\" y=\"0\"/></g></g><g class=\"shooting right label\" transform=\"translate(96,360)\"><g class=\"shift\"><text x=\"0\" y=\"0\"/></g></g><g class=\"shooting left label\" transform=\"translate(24,365)\"><g class=\"shift\"><text x=\"0\" y=\"0\"/></g></g><g class=\"shooting right label\" transform=\"translate(75,370)\"><g class=\"shift\"><text x=\"0\" y=\"0\"/></g></g><g class=\"shooting left label\" transform=\"translate(-33,375)\"><g class=\"shift\"><text x=\"0\" y=\"0\"/></g></g><g class=\"shooting left label\" transform=\"translate(-45,380)\"><g class=\"shift\"><text x=\"0\" y=\"0\"/></g></g><g class=\"shooting left label\" transform=\"translate(36,385)\"><g class=\"shift\"><text x=\"0\" y=\"0\"/></g></g><g class=\"shooting right label\" transform=\"translate(87,390)\"><g class=\"shift\"><text x=\"0\" y=\"0\"/></g></g><g class=\"shooting right label\" transform=\"translate(99,395)\"><g class=\"shift\"><text x=\"0\" y=\"0\"/></g></g><g class=\"shooting right label\" transform=\"translate(192,400)\"><g class=\"shift\"><text x=\"0\" y=\"0\"/></g></g><g class=\"shooting right label\" transform=\"translate(207,405)\"><g class=\"shift\"><text x=\"0\" y=\"0\"/></g></g><g class=\"shooting right label\" transform=\"translate(192,410)\"><g class=\"shift\"><text x=\"0\" y=\"0\"/></g></g><g class=\"shooting right label\" transform=\"translate(144,415)\"><g class=\"shift\"><text x=\"0\" y=\"0\"/></g></g><g class=\"shooting right label\" transform=\"translate(90,420)\"><g class=\"shift\"><text x=\"0\" y=\"0\"/></g></g><g class=\"shooting left label\" transform=\"translate(9,425)\"><g class=\"shift\"><text x=\"0\" y=\"0\"/></g></g><g class=\"shooting right label\" transform=\"translate(159,430)\"><g class=\"shift\"><text x=\"0\" y=\"0\"/></g></g><g class=\"shooting right label\" transform=\"translate(144,435)\"><g class=\"shift\"><text x=\"0\" y=\"0\"/></g></g><g class=\"shooting right label\" transform=\"translate(144,440)\"><g class=\"shift\"><text x=\"0\" y=\"0\"/></g></g><g class=\"shooting right label\" transform=\"translate(147,445)\"><g class=\"shift\"><text x=\"0\" y=\"0\"/></g></g><g class=\"shooting left label\" transform=\"translate(-39,450)\"><g class=\"shift\"><text x=\"0\" y=\"0\"/></g></g><g class=\"shooting right label\" transform=\"translate(138,455)\"><g class=\"shift\"><text x=\"0\" y=\"0\"/></g></g><g class=\"shooting right label\" transform=\"translate(186,460)\"><g class=\"shift\"><text x=\"0\" y=\"0\"/></g></g><g class=\"shooting left label\" transform=\"translate(-21,465)\"><g class=\"shift\"><text x=\"0\" y=\"0\"/></g></g><g class=\"shooting right label\" transform=\"translate(165,470)\"><g class=\"shift\"><text x=\"0\" y=\"0\"/></g></g><g class=\"shooting right label\" transform=\"translate(93,475)\"><g class=\"shift\"><text x=\"0\" y=\"0\"/></g></g><g class=\"shooting left label\" transform=\"translate(39,480)\"><g class=\"shift\"><text x=\"0\" y=\"0\"/></g></g><g class=\"shooting right label\" transform=\"translate(102,485)\"><g class=\"shift\"><text x=\"0\" y=\"0\"/></g></g><g class=\"shooting right label\" transform=\"translate(141,490)\"><g class=\"shift\"><text x=\"0\" y=\"0\"/></g></g><g class=\"shooting right label\" transform=\"translate(183,495)\"><g class=\"shift\"><text x=\"0\" y=\"0\"/></g></g><g class=\"shooting left label\" transform=\"translate(60,500)\"><g class=\"shift\"><text x=\"0\" y=\"0\"/></g></g><g class=\"shooting right label\" transform=\"translate(87,505)\"><g class=\"shift\"><text x=\"0\" y=\"0\"/></g></g><g class=\"shooting left label\" transform=\"translate(27,510)\"><g class=\"shift\"><text x=\"0\" y=\"0\"/></g></g><g class=\"shooting left label\" transform=\"translate(51,515)\"><g class=\"shift\"><text x=\"0\" y=\"0\"/></g></g><g class=\"shooting left label\" transform=\"translate(51,520)\"><g class=\"shift\"><text x=\"0\" y=\"0\"/></g></g><g class=\"shooting left label\" transform=\"translate(57,525)\"><g class=\"shift\"><text x=\"0\" y=\"0\"/></g></g><g class=\"shooting left label\" transform=\"translate(66,530)\"><g class=\"shift\"><text x=\"0\" y=\"0\"/></g></g><g class=\"shooting left label\" transform=\"translate(54,535)\"><g class=\"shift\"><text x=\"0\" y=\"0\"/></g></g><g class=\"shooting left label\" transform=\"translate(54,540)\"><g class=\"shift\"><text x=\"0\" y=\"0\"/></g></g></g><g class=\"shooting-hooks\"><line class=\"shooting bw connection v-connector\" x1=\"88.5\" x2=\"88.5\" y1=\"0.0\" y2=\"5.0\"/><line class=\"shooting bw connection v-connector\" x1=\"25.5\" x2=\"25.5\" y1=\"5.0\" y2=\"10.0\"/><line class=\"shooting bw connection v-connector\" x1=\"-13.5\" x2=\"-13.5\" y1=\"10.0\" y2=\"15.0\"/><line class=\"shooting bw connection v-connector\" x1=\"37.5\" x2=\"37.5\" y1=\"5.0\" y2=\"20.0\"/><line class=\"shooting fw connection v-connector\" x1=\"16.5\" x2=\"16.5\" y1=\"20.0\" y2=\"25.0\"/><line class=\"shooting fw connection v-connector\" x1=\"28.5\" x2=\"28.5\" y1=\"25.0\" y2=\"30.0\"/><line class=\"shooting fw connection v-connector\" x1=\"25.5\" x2=\"25.5\" y1=\"25.0\" y2=\"35.0\"/><line class=\"shooting bw connection v-connector\" x1=\"79.5\" x2=\"79.5\" y1=\"35.0\" y2=\"40.0\"/><line class=\"shooting fw connection v-connector\" x1=\"25.5\" x2=\"25.5\" y1=\"40.0\" y2=\"45.0\"/><line class=\"shooting bw connection v-connector\" x1=\"31.5\" x2=\"31.5\" y1=\"45.0\" y2=\"50.0\"/><line class=\"shooting bw connection v-connector\" x1=\"13.5\" x2=\"13.5\" y1=\"50.0\" y2=\"55.0\"/><line class=\"shooting bw connection v-connector\" x1=\"37.5\" x2=\"37.5\" y1=\"45.0\" y2=\"60.0\"/><line class=\"shooting fw connection v-connector\" x1=\"70.5\" x2=\"70.5\" y1=\"45.0\" y2=\"65.0\"/><line class=\"shooting fw connection v-connector\" x1=\"115.5\" x2=\"115.5\" y1=\"65.0\" y2=\"70.0\"/><line class=\"shooting bw connection v-connector\" x1=\"55.5\" x2=\"55.5\" y1=\"45.0\" y2=\"75.0\"/><line class=\"shooting bw connection v-connector\" x1=\"103.5\" x2=\"103.5\" y1=\"65.0\" y2=\"80.0\"/><line class=\"shooting fw connection v-connector\" x1=\"127.5\" x2=\"127.5\" y1=\"70.0\" y2=\"85.0\"/><line class=\"shooting bw connection v-connector\" x1=\"70.5\" x2=\"70.5\" y1=\"80.0\" y2=\"90.0\"/><line class=\"shooting bw connection v-connector\" x1=\"109.5\" x2=\"109.5\" y1=\"65.0\" y2=\"95.0\"/><line class=\"shooting fw connection v-connector\" x1=\"118.5\" x2=\"118.5\" y1=\"70.0\" y2=\"100.0\"/><line class=\"shooting bw connection v-connector\" x1=\"106.5\" x2=\"106.5\" y1=\"95.0\" y2=\"105.0\"/><line class=\"shooting bw connection v-connector\" x1=\"88.5\" x2=\"88.5\" y1=\"105.0\" y2=\"110.0\"/><line class=\"shooting bw connection v-connector\" x1=\"82.5\" x2=\"82.5\" y1=\"110.0\" y2=\"115.0\"/><line class=\"shooting fw connection v-connector\" x1=\"67.5\" x2=\"67.5\" y1=\"115.0\" y2=\"120.0\"/><line class=\"shooting bw connection v-connector\" x1=\"55.5\" x2=\"55.5\" y1=\"115.0\" y2=\"125.0\"/><line class=\"shooting fw connection v-connector\" x1=\"145.5\" x2=\"145.5\" y1=\"120.0\" y2=\"130.0\"/><line class=\"shooting bw connection v-connector\" x1=\"88.5\" x2=\"88.5\" y1=\"120.0\" y2=\"135.0\"/><line class=\"shooting bw connection v-connector\" x1=\"52.5\" x2=\"52.5\" y1=\"135.0\" y2=\"140.0\"/><line class=\"shooting fw connection v-connector\" x1=\"118.5\" x2=\"118.5\" y1=\"120.0\" y2=\"145.0\"/><line class=\"shooting bw connection v-connector\" x1=\"103.5\" x2=\"103.5\" y1=\"120.0\" y2=\"150.0\"/><line class=\"shooting fw connection v-connector\" x1=\"148.5\" x2=\"148.5\" y1=\"145.0\" y2=\"155.0\"/><line class=\"shooting fw connection v-connector\" x1=\"160.5\" x2=\"160.5\" y1=\"155.0\" y2=\"160.0\"/><line class=\"shooting bw connection v-connector\" x1=\"271.5\" x2=\"271.5\" y1=\"160.0\" y2=\"165.0\"/><line class=\"shooting bw connection v-connector\" x1=\"313.5\" x2=\"313.5\" y1=\"160.0\" y2=\"170.0\"/><line class=\"shooting fw connection v-connector\" x1=\"346.5\" x2=\"346.5\" y1=\"160.0\" y2=\"175.0\"/><line class=\"shooting fw connection v-connector\" x1=\"361.5\" x2=\"361.5\" y1=\"175.0\" y2=\"180.0\"/><line class=\"shooting bw connection v-connector\" x1=\"172.5\" x2=\"172.5\" y1=\"170.0\" y2=\"185.0\"/><line class=\"shooting bw connection v-connector\" x1=\"91.5\" x2=\"91.5\" y1=\"185.0\" y2=\"190.0\"/><line class=\"shooting bw connection v-connector\" x1=\"79.5\" x2=\"79.5\" y1=\"190.0\" y2=\"195.0\"/><line class=\"shooting fw connection v-connector\" x1=\"82.5\" x2=\"82.5\" y1=\"190.0\" y2=\"200.0\"/><line class=\"shooting fw connection v-connector\" x1=\"241.5\" x2=\"241.5\" y1=\"200.0\" y2=\"205.0\"/><line class=\"shooting fw connection v-connector\" x1=\"238.5\" x2=\"238.5\" y1=\"200.0\" y2=\"210.0\"/><line class=\"shooting fw connection v-connector\" x1=\"91.5\" x2=\"91.5\" y1=\"200.0\" y2=\"215.0\"/><line class=\"shooting fw connection v-connector\" x1=\"91.5\" x2=\"91.5\" y1=\"200.0\" y2=\"220.0\"/><line class=\"shooting fw connection v-connector\" x1=\"103.5\" x2=\"103.5\" y1=\"220.0\" y2=\"225.0\"/><line class=\"shooting bw connection v-connector\" x1=\"82.5\" x2=\"82.5\" y1=\"200.0\" y2=\"230.0\"/><line class=\"shooting bw connection v-connector\" x1=\"49.5\" x2=\"49.5\" y1=\"230.0\" y2=\"235.0\"/><line class=\"shooting bw connection v-connector\" x1=\"67.5\" x2=\"67.5\" y1=\"230.0\" y2=\"240.0\"/><line class=\"shooting fw connection v-connector\" x1=\"88.5\" x2=\"88.5\" y1=\"200.0\" y2=\"245.0\"/><line class=\"shooting fw connection v-connector\" x1=\"97.5\" x2=\"97.5\" y1=\"245.0\" y2=\"250.0\"/><line class=\"shooting bw connection v-connector\" x1=\"85.5\" x2=\"85.5\" y1=\"200.0\" y2=\"255.0\"/><line class=\"shooting fw connection v-connector\" x1=\"-55.5\" x2=\"-55.5\" y1=\"255.0\" y2=\"260.0\"/><line class=\"shooting bw connection v-connector\" x1=\"25.5\" x2=\"25.5\" y1=\"260.0\" y2=\"265.0\"/><line class=\"shooting bw connection v-connector\" x1=\"13.5\" x2=\"13.5\" y1=\"265.0\" y2=\"270.0\"/><line class=\"shooting bw connection v-connector\" x1=\"58.5\" x2=\"58.5\" y1=\"260.0\" y2=\"275.0\"/><line class=\"shooting fw connection v-connector\" x1=\"109.5\" x2=\"109.5\" y1=\"260.0\" y2=\"280.0\"/><line class=\"shooting bw connection v-connector\" x1=\"67.5\" x2=\"67.5\" y1=\"260.0\" y2=\"285.0\"/><line class=\"shooting bw connection v-connector\" x1=\"73.5\" x2=\"73.5\" y1=\"260.0\" y2=\"290.0\"/><line class=\"shooting bw connection v-connector\" x1=\"79.5\" x2=\"79.5\" y1=\"260.0\" y2=\"295.0\"/><line class=\"shooting bw connection v-connector\" x1=\"103.5\" x2=\"103.5\" y1=\"260.0\" y2=\"300.0\"/><line class=\"shooting fw connection v-connector\" x1=\"109.5\" x2=\"109.5\" y1=\"260.0\" y2=\"305.0\"/><line class=\"shooting bw connection v-connector\" x1=\"82.5\" x2=\"82.5\" y1=\"300.0\" y2=\"310.0\"/><line class=\"shooting fw connection v-connector\" x1=\"70.5\" x2=\"70.5\" y1=\"310.0\" y2=\"315.0\"/><line class=\"shooting fw connection v-connector\" x1=\"79.5\" x2=\"79.5\" y1=\"315.0\" y2=\"320.0\"/><line class=\"shooting fw connection v-connector\" x1=\"118.5\" x2=\"118.5\" y1=\"320.0\" y2=\"325.0\"/><line class=\"shooting fw connection v-connector\" x1=\"94.5\" x2=\"94.5\" y1=\"320.0\" y2=\"330.0\"/><line class=\"shooting bw connection v-connector\" x1=\"61.5\" x2=\"61.5\" y1=\"310.0\" y2=\"335.0\"/><line class=\"shooting bw connection v-connector\" x1=\"61.5\" x2=\"61.5\" y1=\"310.0\" y2=\"340.0\"/><line class=\"shooting bw connection v-connector\" x1=\"73.5\" x2=\"73.5\" y1=\"315.0\" y2=\"345.0\"/><line class=\"shooting bw connection v-connector\" x1=\"16.5\" x2=\"16.5\" y1=\"345.0\" y2=\"350.0\"/><line class=\"shooting bw connection v-connector\" x1=\"-7.5\" x2=\"-7.5\" y1=\"350.0\" y2=\"355.0\"/><line class=\"shooting fw connection v-connector\" x1=\"73.5\" x2=\"73.5\" y1=\"345.0\" y2=\"360.0\"/><line class=\"shooting bw connection v-connector\" x1=\"31.5\" x2=\"31.5\" y1=\"345.0\" y2=\"365.0\"/><line class=\"shooting fw connection v-connector\" x1=\"70.5\" x2=\"70.5\" y1=\"345.0\" y2=\"370.0\"/><line class=\"shooting bw connection v-connector\" x1=\"37.5\" x2=\"37.5\" y1=\"345.0\" y2=\"375.0\"/><line class=\"shooting bw connection v-connector\" x1=\"46.5\" x2=\"46.5\" y1=\"345.0\" y2=\"380.0\"/><line class=\"shooting bw connection v-connector\" x1=\"37.5\" x2=\"37.5\" y1=\"380.0\" y2=\"385.0\"/><line class=\"shooting fw connection v-connector\" x1=\"64.5\" x2=\"64.5\" y1=\"345.0\" y2=\"390.0\"/><line class=\"shooting fw connection v-connector\" x1=\"64.5\" x2=\"64.5\" y1=\"345.0\" y2=\"395.0\"/><line class=\"shooting fw connection v-connector\" x1=\"97.5\" x2=\"97.5\" y1=\"395.0\" y2=\"400.0\"/><line class=\"shooting fw connection v-connector\" x1=\"172.5\" x2=\"172.5\" y1=\"400.0\" y2=\"405.0\"/><line class=\"shooting fw connection v-connector\" x1=\"148.5\" x2=\"148.5\" y1=\"400.0\" y2=\"410.0\"/><line class=\"shooting fw connection v-connector\" x1=\"142.5\" x2=\"142.5\" y1=\"400.0\" y2=\"415.0\"/><line class=\"shooting fw connection v-connector\" x1=\"85.5\" x2=\"85.5\" y1=\"395.0\" y2=\"420.0\"/><line class=\"shooting bw connection v-connector\" x1=\"64.5\" x2=\"64.5\" y1=\"395.0\" y2=\"425.0\"/><line class=\"shooting fw connection v-connector\" x1=\"82.5\" x2=\"82.5\" y1=\"395.0\" y2=\"430.0\"/><line class=\"shooting fw connection v-connector\" x1=\"130.5\" x2=\"130.5\" y1=\"430.0\" y2=\"435.0\"/><line class=\"shooting fw connection v-connector\" x1=\"127.5\" x2=\"127.5\" y1=\"430.0\" y2=\"440.0\"/><line class=\"shooting fw connection v-connector\" x1=\"136.5\" x2=\"136.5\" y1=\"440.0\" y2=\"445.0\"/><line class=\"shooting bw connection v-connector\" x1=\"40.5\" x2=\"40.5\" y1=\"425.0\" y2=\"450.0\"/><line class=\"shooting fw connection v-connector\" x1=\"97.5\" x2=\"97.5\" y1=\"430.0\" y2=\"455.0\"/><line class=\"shooting fw connection v-connector\" x1=\"130.5\" x2=\"130.5\" y1=\"455.0\" y2=\"460.0\"/><line class=\"shooting bw connection v-connector\" x1=\"37.5\" x2=\"37.5\" y1=\"450.0\" y2=\"465.0\"/><line class=\"shooting fw connection v-connector\" x1=\"100.5\" x2=\"100.5\" y1=\"455.0\" y2=\"470.0\"/><line class=\"shooting fw connection v-connector\" x1=\"-10.5\" x2=\"-10.5\" y1=\"465.0\" y2=\"475.0\"/><line class=\"shooting bw connection v-connector\" x1=\"58.5\" x2=\"58.5\" y1=\"475.0\" y2=\"480.0\"/><line class=\"shooting fw connection v-connector\" x1=\"67.5\" x2=\"67.5\" y1=\"475.0\" y2=\"485.0\"/><line class=\"shooting fw connection v-connector\" x1=\"82.5\" x2=\"82.5\" y1=\"485.0\" y2=\"490.0\"/><line class=\"shooting fw connection v-connector\" x1=\"94.5\" x2=\"94.5\" y1=\"490.0\" y2=\"495.0\"/><line class=\"shooting bw connection v-connector\" x1=\"94.5\" x2=\"94.5\" y1=\"495.0\" y2=\"500.0\"/><line class=\"shooting fw connection v-connector\" x1=\"79.5\" x2=\"79.5\" y1=\"500.0\" y2=\"505.0\"/><line class=\"shooting bw connection v-connector\" x1=\"76.5\" x2=\"76.5\" y1=\"500.0\" y2=\"510.0\"/><line class=\"shooting bw connection v-connector\" x1=\"61.5\" x2=\"61.5\" y1=\"510.0\" y2=\"515.0\"/><line class=\"shooting bw connection v-connector\" x1=\"61.5\" x2=\"61.5\" y1=\"510.0\" y2=\"520.0\"/><line class=\"shooting bw connection v-connector\" x1=\"58.5\" x2=\"58.5\" y1=\"520.0\" y2=\"525.0\"/><line class=\"shooting bw connection v-connector\" x1=\"67.5\" x2=\"67.5\" y1=\"510.0\" y2=\"530.0\"/><line class=\"shooting bw connection v-connector\" x1=\"76.5\" x2=\"76.5\" y1=\"500.0\" y2=\"535.0\"/><line class=\"shooting bw connection v-connector\" x1=\"58.5\" x2=\"58.5\" y1=\"535.0\" y2=\"540.0\"/></g><g class=\"snapshot-blocks\"><g class=\"unknown new block\"><rect height=\"3.0\" width=\"243.0\" x=\"-1.5\" y=\"-1.5\"/><circle cx=\"241.5\" cy=\"0\" r=\"0.0\"/><text x=\"120.0\" y=\"0\"/></g><g class=\"shooting bw block\"><rect height=\"3.0\" width=\"72.0\" x=\"16.5\" y=\"3.5\"/><circle cx=\"88.5\" cy=\"5\" r=\"0.0\"/><text x=\"52.5\" y=\"5\"/></g><g class=\"shooting bw block\"><rect height=\"3.0\" width=\"75.0\" x=\"-49.5\" y=\"8.5\"/><circle cx=\"25.5\" cy=\"10\" r=\"0.0\"/><text x=\"-12.0\" y=\"10\"/></g><g class=\"shooting bw block\"><rect height=\"3.0\" width=\"66.0\" x=\"-79.5\" y=\"13.5\"/><circle cx=\"-13.5\" cy=\"15\" r=\"0.0\"/><text x=\"-46.5\" y=\"15\"/></g><g class=\"shooting bw block\"><rect height=\"3.0\" width=\"51.0\" x=\"-13.5\" y=\"18.5\"/><circle cx=\"37.5\" cy=\"20\" r=\"0.0\"/><text x=\"12.0\" y=\"20\"/></g><g class=\"shooting fw block\"><rect height=\"3.0\" width=\"39.0\" x=\"16.5\" y=\"23.5\"/><circle cx=\"55.5\" cy=\"25\" r=\"0.0\"/><text x=\"36.0\" y=\"25\"/></g><g class=\"shooting fw block\"><rect height=\"3.0\" width=\"33.0\" x=\"28.5\" y=\"28.5\"/><circle cx=\"61.5\" cy=\"30\" r=\"0.0\"/><text x=\"45.0\" y=\"30\"/></g><g class=\"shooting fw block\"><rect height=\"3.0\" width=\"93.0\" x=\"25.5\" y=\"33.5\"/><circle cx=\"118.5\" cy=\"35\" r=\"0.0\"/><text x=\"72.0\" y=\"35\"/></g><g class=\"shooting bw block\"><rect height=\"3.0\" width=\"72.0\" x=\"7.5\" y=\"38.5\"/><circle cx=\"79.5\" cy=\"40\" r=\"0.0\"/><text x=\"43.5\" y=\"40\"/></g><g class=\"shooting fw block\"><rect height=\"3.0\" width=\"105.0\" x=\"25.5\" y=\"43.5\"/><circle cx=\"130.5\" cy=\"45\" r=\"0.0\"/><text x=\"78.0\" y=\"45\"/></g><g class=\"shooting bw block\"><rect height=\"3.0\" width=\"126.0\" x=\"-94.5\" y=\"48.5\"/><circle cx=\"31.5\" cy=\"50\" r=\"0.0\"/><text x=\"-31.5\" y=\"50\"/></g><g class=\"shooting bw block\"><rect height=\"3.0\" width=\"9.0\" x=\"4.5\" y=\"53.5\"/><circle cx=\"13.5\" cy=\"55\" r=\"0.0\"/><text x=\"9.0\" y=\"55\"/></g><g class=\"shooting bw block\"><rect height=\"3.0\" width=\"21.0\" x=\"16.5\" y=\"58.5\"/><circle cx=\"37.5\" cy=\"60\" r=\"0.0\"/><text x=\"27.0\" y=\"60\"/></g><g class=\"shooting fw block\"><rect height=\"3.0\" width=\"69.0\" x=\"70.5\" y=\"63.5\"/><circle cx=\"139.5\" cy=\"65\" r=\"0.0\"/><text x=\"105.0\" y=\"65\"/></g><g class=\"shooting fw block\"><rect height=\"3.0\" width=\"18.0\" x=\"115.5\" y=\"68.5\"/><circle cx=\"133.5\" cy=\"70\" r=\"0.0\"/><text x=\"124.5\" y=\"70\"/></g><g class=\"shooting bw block\"><rect height=\"3.0\" width=\"84.0\" x=\"-28.5\" y=\"73.5\"/><circle cx=\"55.5\" cy=\"75\" r=\"0.0\"/><text x=\"13.5\" y=\"75\"/></g><g class=\"shooting bw block\"><rect height=\"3.0\" width=\"75.0\" x=\"28.5\" y=\"78.5\"/><circle cx=\"103.5\" cy=\"80\" r=\"0.0\"/><text x=\"66.0\" y=\"80\"/></g><g class=\"shooting fw block\"><rect height=\"3.0\" width=\"114.0\" x=\"127.5\" y=\"83.5\"/><circle cx=\"241.5\" cy=\"85\" r=\"0.0\"/><text x=\"184.5\" y=\"85\"/></g><g class=\"shooting bw block\"><rect height=\"3.0\" width=\"12.0\" x=\"58.5\" y=\"88.5\"/><circle cx=\"70.5\" cy=\"90\" r=\"0.0\"/><text x=\"64.5\" y=\"90\"/></g><g class=\"shooting bw block\"><rect height=\"3.0\" width=\"33.0\" x=\"76.5\" y=\"93.5\"/><circle cx=\"109.5\" cy=\"95\" r=\"0.0\"/><text x=\"93.0\" y=\"95\"/></g><g class=\"shooting fw block\"><rect height=\"3.0\" width=\"6.0\" x=\"118.5\" y=\"98.5\"/><circle cx=\"124.5\" cy=\"100\" r=\"0.0\"/><text x=\"121.5\" y=\"100\"/></g><g class=\"shooting bw block\"><rect height=\"3.0\" width=\"39.0\" x=\"67.5\" y=\"103.5\"/><circle cx=\"106.5\" cy=\"105\" r=\"0.0\"/><text x=\"87.0\" y=\"105\"/></g><g class=\"shooting bw block\"><rect height=\"3.0\" width=\"24.0\" x=\"64.5\" y=\"108.5\"/><circle cx=\"88.5\" cy=\"110\" r=\"0.0\"/><text x=\"76.5\" y=\"110\"/></g><g class=\"shooting bw block\"><rect height=\"3.0\" width=\"30.0\" x=\"52.5\" y=\"113.5\"/><circle cx=\"82.5\" cy=\"115\" r=\"0.0\"/><text x=\"67.5\" y=\"115\"/></g><g class=\"shooting fw block\"><rect height=\"3.0\" width=\"117.0\" x=\"67.5\" y=\"118.5\"/><circle cx=\"184.5\" cy=\"120\" r=\"0.0\"/><text x=\"126.0\" y=\"120\"/></g><g class=\"shooting bw block\"><rect height=\"3.0\" width=\"45.0\" x=\"10.5\" y=\"123.5\"/><circle cx=\"55.5\" cy=\"125\" r=\"0.0\"/><text x=\"33.0\" y=\"125\"/></g><g class=\"shooting fw block\"><rect height=\"3.0\" width=\"15.0\" x=\"145.5\" y=\"128.5\"/><circle cx=\"160.5\" cy=\"130\" r=\"0.0\"/><text x=\"153.0\" y=\"130\"/></g><g class=\"shooting bw block\"><rect height=\"3.0\" width=\"81.0\" x=\"7.5\" y=\"133.5\"/><circle cx=\"88.5\" cy=\"135\" r=\"0.0\"/><text x=\"48.0\" y=\"135\"/></g><g class=\"shooting bw block\"><rect height=\"3.0\" width=\"9.0\" x=\"43.5\" y=\"138.5\"/><circle cx=\"52.5\" cy=\"140\" r=\"0.0\"/><text x=\"48.0\" y=\"140\"/></g><g class=\"shooting fw block\"><rect height=\"3.0\" width=\"45.0\" x=\"118.5\" y=\"143.5\"/><circle cx=\"163.5\" cy=\"145\" r=\"0.0\"/><text x=\"141.0\" y=\"145\"/></g><g class=\"shooting bw block\"><rect height=\"3.0\" width=\"48.0\" x=\"55.5\" y=\"148.5\"/><circle cx=\"103.5\" cy=\"150\" r=\"0.0\"/><text x=\"79.5\" y=\"150\"/></g><g class=\"shooting fw block\"><rect height=\"3.0\" width=\"15.0\" x=\"148.5\" y=\"153.5\"/><circle cx=\"163.5\" cy=\"155\" r=\"0.0\"/><text x=\"156.0\" y=\"155\"/></g><g class=\"shooting fw block\"><rect height=\"3.0\" width=\"195.0\" x=\"160.5\" y=\"158.5\"/><circle cx=\"355.5\" cy=\"160\" r=\"0.0\"/><text x=\"258.0\" y=\"160\"/></g><g class=\"shooting bw block\"><rect height=\"3.0\" width=\"48.0\" x=\"223.5\" y=\"163.5\"/><circle cx=\"271.5\" cy=\"165\" r=\"0.0\"/><text x=\"247.5\" y=\"165\"/></g><g class=\"shooting bw block\"><rect height=\"3.0\" width=\"183.0\" x=\"130.5\" y=\"168.5\"/><circle cx=\"313.5\" cy=\"170\" r=\"0.0\"/><text x=\"222.0\" y=\"170\"/></g><g class=\"shooting fw block\"><rect height=\"3.0\" width=\"30.0\" x=\"346.5\" y=\"173.5\"/><circle cx=\"376.5\" cy=\"175\" r=\"0.0\"/><text x=\"361.5\" y=\"175\"/></g><g class=\"shooting fw block\"><rect height=\"3.0\" width=\"21.0\" x=\"361.5\" y=\"178.5\"/><circle cx=\"382.5\" cy=\"180\" r=\"0.0\"/><text x=\"372.0\" y=\"180\"/></g><g class=\"shooting bw block\"><rect height=\"3.0\" width=\"123.0\" x=\"49.5\" y=\"183.5\"/><circle cx=\"172.5\" cy=\"185\" r=\"0.0\"/><text x=\"111.0\" y=\"185\"/></g><g class=\"shooting bw block\"><rect height=\"3.0\" width=\"30.0\" x=\"61.5\" y=\"188.5\"/><circle cx=\"91.5\" cy=\"190\" r=\"0.0\"/><text x=\"76.5\" y=\"190\"/></g><g class=\"shooting bw block\"><rect height=\"3.0\" width=\"15.0\" x=\"64.5\" y=\"193.5\"/><circle cx=\"79.5\" cy=\"195\" r=\"0.0\"/><text x=\"72.0\" y=\"195\"/></g><g class=\"shooting fw block\"><rect height=\"3.0\" width=\"204.0\" x=\"82.5\" y=\"198.5\"/><circle cx=\"286.5\" cy=\"200\" r=\"0.0\"/><text x=\"184.5\" y=\"200\"/></g><g class=\"shooting fw block\"><rect height=\"3.0\" width=\"6.0\" x=\"241.5\" y=\"203.5\"/><circle cx=\"247.5\" cy=\"205\" r=\"0.0\"/><text x=\"244.5\" y=\"205\"/></g><g class=\"shooting fw block\"><rect height=\"3.0\" width=\"51.0\" x=\"238.5\" y=\"208.5\"/><circle cx=\"289.5\" cy=\"210\" r=\"0.0\"/><text x=\"264.0\" y=\"210\"/></g><g class=\"shooting fw block\"><rect height=\"3.0\" width=\"99.0\" x=\"91.5\" y=\"213.5\"/><circle cx=\"190.5\" cy=\"215\" r=\"0.0\"/><text x=\"141.0\" y=\"215\"/></g><g class=\"shooting fw block\"><rect height=\"3.0\" width=\"18.0\" x=\"91.5\" y=\"218.5\"/><circle cx=\"109.5\" cy=\"220\" r=\"0.0\"/><text x=\"100.5\" y=\"220\"/></g><g class=\"shooting fw block\"><rect height=\"3.0\" width=\"3.0\" x=\"103.5\" y=\"223.5\"/><circle cx=\"106.5\" cy=\"225\" r=\"0.0\"/><text x=\"105.0\" y=\"225\"/></g><g class=\"shooting bw block\"><rect height=\"3.0\" width=\"72.0\" x=\"10.5\" y=\"228.5\"/><circle cx=\"82.5\" cy=\"230\" r=\"0.0\"/><text x=\"46.5\" y=\"230\"/></g><g class=\"shooting bw block\"><rect height=\"3.0\" width=\"15.0\" x=\"34.5\" y=\"233.5\"/><circle cx=\"49.5\" cy=\"235\" r=\"0.0\"/><text x=\"42.0\" y=\"235\"/></g><g class=\"shooting bw block\"><rect height=\"3.0\" width=\"21.0\" x=\"46.5\" y=\"238.5\"/><circle cx=\"67.5\" cy=\"240\" r=\"0.0\"/><text x=\"57.0\" y=\"240\"/></g><g class=\"shooting fw block\"><rect height=\"3.0\" width=\"12.0\" x=\"88.5\" y=\"243.5\"/><circle cx=\"100.5\" cy=\"245\" r=\"0.0\"/><text x=\"94.5\" y=\"245\"/></g><g class=\"shooting fw block\"><rect height=\"3.0\" width=\"12.0\" x=\"97.5\" y=\"248.5\"/><circle cx=\"109.5\" cy=\"250\" r=\"0.0\"/><text x=\"103.5\" y=\"250\"/></g><g class=\"shooting bw block\"><rect height=\"3.0\" width=\"234.0\" x=\"-148.5\" y=\"253.5\"/><circle cx=\"85.5\" cy=\"255\" r=\"0.0\"/><text x=\"-31.5\" y=\"255\"/></g><g class=\"shooting fw block\"><rect height=\"3.0\" width=\"183.0\" x=\"-55.5\" y=\"258.5\"/><circle cx=\"127.5\" cy=\"260\" r=\"0.0\"/><text x=\"36.0\" y=\"260\"/></g><g class=\"shooting bw block\"><rect height=\"3.0\" width=\"36.0\" x=\"-10.5\" y=\"263.5\"/><circle cx=\"25.5\" cy=\"265\" r=\"0.0\"/><text x=\"7.5\" y=\"265\"/></g><g class=\"shooting bw block\"><rect height=\"3.0\" width=\"120.0\" x=\"-106.5\" y=\"268.5\"/><circle cx=\"13.5\" cy=\"270\" r=\"0.0\"/><text x=\"-46.5\" y=\"270\"/></g><g class=\"shooting bw block\"><rect height=\"3.0\" width=\"3.0\" x=\"55.5\" y=\"273.5\"/><circle cx=\"58.5\" cy=\"275\" r=\"0.0\"/><text x=\"57.0\" y=\"275\"/></g><g class=\"shooting fw block\"><rect height=\"3.0\" width=\"6.0\" x=\"109.5\" y=\"278.5\"/><circle cx=\"115.5\" cy=\"280\" r=\"0.0\"/><text x=\"112.5\" y=\"280\"/></g><g class=\"shooting bw block\"><rect height=\"3.0\" width=\"9.0\" x=\"58.5\" y=\"283.5\"/><circle cx=\"67.5\" cy=\"285\" r=\"0.0\"/><text x=\"63.0\" y=\"285\"/></g><g class=\"shooting bw block\"><rect height=\"3.0\" width=\"9.0\" x=\"64.5\" y=\"288.5\"/><circle cx=\"73.5\" cy=\"290\" r=\"0.0\"/><text x=\"69.0\" y=\"290\"/></g><g class=\"shooting bw block\"><rect height=\"3.0\" width=\"12.0\" x=\"67.5\" y=\"293.5\"/><circle cx=\"79.5\" cy=\"295\" r=\"0.0\"/><text x=\"73.5\" y=\"295\"/></g><g class=\"shooting bw block\"><rect height=\"3.0\" width=\"51.0\" x=\"52.5\" y=\"298.5\"/><circle cx=\"103.5\" cy=\"300\" r=\"0.0\"/><text x=\"78.0\" y=\"300\"/></g><g class=\"shooting fw block\"><rect height=\"3.0\" width=\"6.0\" x=\"109.5\" y=\"303.5\"/><circle cx=\"115.5\" cy=\"305\" r=\"0.0\"/><text x=\"112.5\" y=\"305\"/></g><g class=\"shooting bw block\"><rect height=\"3.0\" width=\"36.0\" x=\"46.5\" y=\"308.5\"/><circle cx=\"82.5\" cy=\"310\" r=\"0.0\"/><text x=\"64.5\" y=\"310\"/></g><g class=\"shooting fw block\"><rect height=\"3.0\" width=\"84.0\" x=\"70.5\" y=\"313.5\"/><circle cx=\"154.5\" cy=\"315\" r=\"0.0\"/><text x=\"112.5\" y=\"315\"/></g><g class=\"shooting fw block\"><rect height=\"3.0\" width=\"78.0\" x=\"79.5\" y=\"318.5\"/><circle cx=\"157.5\" cy=\"320\" r=\"0.0\"/><text x=\"118.5\" y=\"320\"/></g><g class=\"shooting fw block\"><rect height=\"3.0\" width=\"54.0\" x=\"118.5\" y=\"323.5\"/><circle cx=\"172.5\" cy=\"325\" r=\"0.0\"/><text x=\"145.5\" y=\"325\"/></g><g class=\"shooting fw block\"><rect height=\"3.0\" width=\"42.0\" x=\"94.5\" y=\"328.5\"/><circle cx=\"136.5\" cy=\"330\" r=\"0.0\"/><text x=\"115.5\" y=\"330\"/></g><g class=\"shooting bw block\"><rect height=\"3.0\" width=\"42.0\" x=\"19.5\" y=\"333.5\"/><circle cx=\"61.5\" cy=\"335\" r=\"0.0\"/><text x=\"40.5\" y=\"335\"/></g><g class=\"shooting bw block\"><rect height=\"3.0\" width=\"6.0\" x=\"55.5\" y=\"338.5\"/><circle cx=\"61.5\" cy=\"340\" r=\"0.0\"/><text x=\"58.5\" y=\"340\"/></g><g class=\"shooting bw block\"><rect height=\"3.0\" width=\"114.0\" x=\"-40.5\" y=\"343.5\"/><circle cx=\"73.5\" cy=\"345\" r=\"0.0\"/><text x=\"16.5\" y=\"345\"/></g><g class=\"shooting bw block\"><rect height=\"3.0\" width=\"27.0\" x=\"-10.5\" y=\"348.5\"/><circle cx=\"16.5\" cy=\"350\" r=\"0.0\"/><text x=\"3.0\" y=\"350\"/></g><g class=\"shooting bw block\"><rect height=\"3.0\" width=\"51.0\" x=\"-58.5\" y=\"353.5\"/><circle cx=\"-7.5\" cy=\"355\" r=\"0.0\"/><text x=\"-33.0\" y=\"355\"/></g><g class=\"shooting fw block\"><rect height=\"3.0\" width=\"24.0\" x=\"73.5\" y=\"358.5\"/><circle cx=\"97.5\" cy=\"360\" r=\"0.0\"/><text x=\"85.5\" y=\"360\"/></g><g class=\"shooting bw block\"><rect height=\"3.0\" width=\"9.0\" x=\"22.5\" y=\"363.5\"/><circle cx=\"31.5\" cy=\"365\" r=\"0.0\"/><text x=\"27.0\" y=\"365\"/></g><g class=\"shooting fw block\"><rect height=\"3.0\" width=\"6.0\" x=\"70.5\" y=\"368.5\"/><circle cx=\"76.5\" cy=\"370\" r=\"0.0\"/><text x=\"73.5\" y=\"370\"/></g><g class=\"shooting bw block\"><rect height=\"3.0\" width=\"72.0\" x=\"-34.5\" y=\"373.5\"/><circle cx=\"37.5\" cy=\"375\" r=\"0.0\"/><text x=\"1.5\" y=\"375\"/></g><g class=\"shooting bw block\"><rect height=\"3.0\" width=\"93.0\" x=\"-46.5\" y=\"378.5\"/><circle cx=\"46.5\" cy=\"380\" r=\"0.0\"/><text x=\"0.0\" y=\"380\"/></g><g class=\"shooting bw block\"><rect height=\"3.0\" width=\"3.0\" x=\"34.5\" y=\"383.5\"/><circle cx=\"37.5\" cy=\"385\" r=\"0.0\"/><text x=\"36.0\" y=\"385\"/></g><g class=\"shooting fw block\"><rect height=\"3.0\" width=\"24.0\" x=\"64.5\" y=\"388.5\"/><circle cx=\"88.5\" cy=\"390\" r=\"0.0\"/><text x=\"76.5\" y=\"390\"/></g><g class=\"shooting fw block\"><rect height=\"3.0\" width=\"36.0\" x=\"64.5\" y=\"393.5\"/><circle cx=\"100.5\" cy=\"395\" r=\"0.0\"/><text x=\"82.5\" y=\"395\"/></g><g class=\"shooting fw block\"><rect height=\"3.0\" width=\"96.0\" x=\"97.5\" y=\"398.5\"/><circle cx=\"193.5\" cy=\"400\" r=\"0.0\"/><text x=\"145.5\" y=\"400\"/></g><g class=\"shooting fw block\"><rect height=\"3.0\" width=\"36.0\" x=\"172.5\" y=\"403.5\"/><circle cx=\"208.5\" cy=\"405\" r=\"0.0\"/><text x=\"190.5\" y=\"405\"/></g><g class=\"shooting fw block\"><rect height=\"3.0\" width=\"45.0\" x=\"148.5\" y=\"408.5\"/><circle cx=\"193.5\" cy=\"410\" r=\"0.0\"/><text x=\"171.0\" y=\"410\"/></g><g class=\"shooting fw block\"><rect height=\"3.0\" width=\"3.0\" x=\"142.5\" y=\"413.5\"/><circle cx=\"145.5\" cy=\"415\" r=\"0.0\"/><text x=\"144.0\" y=\"415\"/></g><g class=\"shooting fw block\"><rect height=\"3.0\" width=\"6.0\" x=\"85.5\" y=\"418.5\"/><circle cx=\"91.5\" cy=\"420\" r=\"0.0\"/><text x=\"88.5\" y=\"420\"/></g><g class=\"shooting bw block\"><rect height=\"3.0\" width=\"57.0\" x=\"7.5\" y=\"423.5\"/><circle cx=\"64.5\" cy=\"425\" r=\"0.0\"/><text x=\"36.0\" y=\"425\"/></g><g class=\"shooting fw block\"><rect height=\"3.0\" width=\"78.0\" x=\"82.5\" y=\"428.5\"/><circle cx=\"160.5\" cy=\"430\" r=\"0.0\"/><text x=\"121.5\" y=\"430\"/></g><g class=\"shooting fw block\"><rect height=\"3.0\" width=\"15.0\" x=\"130.5\" y=\"433.5\"/><circle cx=\"145.5\" cy=\"435\" r=\"0.0\"/><text x=\"138.0\" y=\"435\"/></g><g class=\"shooting fw block\"><rect height=\"3.0\" width=\"18.0\" x=\"127.5\" y=\"438.5\"/><circle cx=\"145.5\" cy=\"440\" r=\"0.0\"/><text x=\"136.5\" y=\"440\"/></g><g class=\"shooting fw block\"><rect height=\"3.0\" width=\"12.0\" x=\"136.5\" y=\"443.5\"/><circle cx=\"148.5\" cy=\"445\" r=\"0.0\"/><text x=\"142.5\" y=\"445\"/></g><g class=\"shooting bw block\"><rect height=\"3.0\" width=\"81.0\" x=\"-40.5\" y=\"448.5\"/><circle cx=\"40.5\" cy=\"450\" r=\"0.0\"/><text x=\"0.0\" y=\"450\"/></g><g class=\"shooting fw block\"><rect height=\"3.0\" width=\"42.0\" x=\"97.5\" y=\"453.5\"/><circle cx=\"139.5\" cy=\"455\" r=\"0.0\"/><text x=\"118.5\" y=\"455\"/></g><g class=\"shooting fw block\"><rect height=\"3.0\" width=\"57.0\" x=\"130.5\" y=\"458.5\"/><circle cx=\"187.5\" cy=\"460\" r=\"0.0\"/><text x=\"159.0\" y=\"460\"/></g><g class=\"shooting bw block\"><rect height=\"3.0\" width=\"60.0\" x=\"-22.5\" y=\"463.5\"/><circle cx=\"37.5\" cy=\"465\" r=\"0.0\"/><text x=\"7.5\" y=\"465\"/></g><g class=\"shooting fw block\"><rect height=\"3.0\" width=\"66.0\" x=\"100.5\" y=\"468.5\"/><circle cx=\"166.5\" cy=\"470\" r=\"0.0\"/><text x=\"133.5\" y=\"470\"/></g><g class=\"shooting fw block\"><rect height=\"3.0\" width=\"105.0\" x=\"-10.5\" y=\"473.5\"/><circle cx=\"94.5\" cy=\"475\" r=\"0.0\"/><text x=\"42.0\" y=\"475\"/></g><g class=\"shooting bw block\"><rect height=\"3.0\" width=\"21.0\" x=\"37.5\" y=\"478.5\"/><circle cx=\"58.5\" cy=\"480\" r=\"0.0\"/><text x=\"48.0\" y=\"480\"/></g><g class=\"shooting fw block\"><rect height=\"3.0\" width=\"36.0\" x=\"67.5\" y=\"483.5\"/><circle cx=\"103.5\" cy=\"485\" r=\"0.0\"/><text x=\"85.5\" y=\"485\"/></g><g class=\"shooting fw block\"><rect height=\"3.0\" width=\"60.0\" x=\"82.5\" y=\"488.5\"/><circle cx=\"142.5\" cy=\"490\" r=\"0.0\"/><text x=\"112.5\" y=\"490\"/></g><g class=\"shooting fw block\"><rect height=\"3.0\" width=\"90.0\" x=\"94.5\" y=\"493.5\"/><circle cx=\"184.5\" cy=\"495\" r=\"0.0\"/><text x=\"139.5\" y=\"495\"/></g><g class=\"shooting bw block\"><rect height=\"3.0\" width=\"36.0\" x=\"58.5\" y=\"498.5\"/><circle cx=\"94.5\" cy=\"500\" r=\"0.0\"/><text x=\"76.5\" y=\"500\"/></g><g class=\"shooting fw block\"><rect height=\"3.0\" width=\"9.0\" x=\"79.5\" y=\"503.5\"/><circle cx=\"88.5\" cy=\"505\" r=\"0.0\"/><text x=\"84.0\" y=\"505\"/></g><g class=\"shooting bw block\"><rect height=\"3.0\" width=\"51.0\" x=\"25.5\" y=\"508.5\"/><circle cx=\"76.5\" cy=\"510\" r=\"0.0\"/><text x=\"51.0\" y=\"510\"/></g><g class=\"shooting bw block\"><rect height=\"3.0\" width=\"12.0\" x=\"49.5\" y=\"513.5\"/><circle cx=\"61.5\" cy=\"515\" r=\"0.0\"/><text x=\"55.5\" y=\"515\"/></g><g class=\"shooting bw block\"><rect height=\"3.0\" width=\"12.0\" x=\"49.5\" y=\"518.5\"/><circle cx=\"61.5\" cy=\"520\" r=\"0.0\"/><text x=\"55.5\" y=\"520\"/></g><g class=\"shooting bw block\"><rect height=\"3.0\" width=\"3.0\" x=\"55.5\" y=\"523.5\"/><circle cx=\"58.5\" cy=\"525\" r=\"0.0\"/><text x=\"57.0\" y=\"525\"/></g><g class=\"shooting bw block\"><rect height=\"3.0\" width=\"3.0\" x=\"64.5\" y=\"528.5\"/><circle cx=\"67.5\" cy=\"530\" r=\"0.0\"/><text x=\"66.0\" y=\"530\"/></g><g class=\"shooting bw block\"><rect height=\"3.0\" width=\"24.0\" x=\"52.5\" y=\"533.5\"/><circle cx=\"76.5\" cy=\"535\" r=\"0.0\"/><text x=\"64.5\" y=\"535\"/></g><g class=\"shooting bw block\"><rect height=\"3.0\" width=\"6.0\" x=\"52.5\" y=\"538.5\"/><circle cx=\"58.5\" cy=\"540\" r=\"0.0\"/><text x=\"55.5\" y=\"540\"/></g><g class=\"shade\"><rect fill=\"white\" height=\"1.25\" width=\"81.6\" x=\"1.2\" y=\"0.5\"/><rect fill=\"white\" height=\"1.25\" width=\"81.6\" x=\"1.2\" y=\"-1.75\"/><rect fill=\"orange\" height=\"0.75\" width=\"81\" x=\"1.5\" y=\"0.75\"/><rect fill=\"orange\" height=\"0.75\" width=\"81\" x=\"1.5\" y=\"-1.5\"/></g><g class=\"shade\"><rect fill=\"white\" height=\"1.25\" width=\"30.6\" x=\"19.2\" y=\"5.5\"/><rect fill=\"white\" height=\"1.25\" width=\"30.6\" x=\"19.2\" y=\"3.25\"/><rect fill=\"orange\" height=\"0.75\" width=\"30\" x=\"19.5\" y=\"5.75\"/><rect fill=\"orange\" height=\"0.75\" width=\"30\" x=\"19.5\" y=\"3.5\"/></g><g class=\"shade\"><rect fill=\"white\" height=\"1.25\" width=\"75.6\" x=\"-46.8\" y=\"10.5\"/><rect fill=\"white\" height=\"1.25\" width=\"75.6\" x=\"-46.8\" y=\"8.25\"/><rect fill=\"orange\" height=\"0.75\" width=\"75\" x=\"-46.5\" y=\"10.75\"/><rect fill=\"orange\" height=\"0.75\" width=\"75\" x=\"-46.5\" y=\"8.5\"/></g><g class=\"shade\"><rect fill=\"white\" height=\"1.25\" width=\"66.6\" x=\"-76.8\" y=\"15.5\"/><rect fill=\"white\" height=\"1.25\" width=\"66.6\" x=\"-76.8\" y=\"13.25\"/><rect fill=\"orange\" height=\"0.75\" width=\"66\" x=\"-76.5\" y=\"15.75\"/><rect fill=\"orange\" height=\"0.75\" width=\"66\" x=\"-76.5\" y=\"13.5\"/></g><g class=\"shade\"><rect fill=\"white\" height=\"1.25\" width=\"51.6\" x=\"-10.8\" y=\"20.5\"/><rect fill=\"white\" height=\"1.25\" width=\"51.6\" x=\"-10.8\" y=\"18.25\"/><rect fill=\"orange\" height=\"0.75\" width=\"51\" x=\"-10.5\" y=\"20.75\"/><rect fill=\"orange\" height=\"0.75\" width=\"51\" x=\"-10.5\" y=\"18.5\"/></g><g class=\"shade\"><rect fill=\"white\" height=\"1.25\" width=\"15.6\" x=\"16.2\" y=\"25.5\"/><rect fill=\"white\" height=\"1.25\" width=\"15.6\" x=\"16.2\" y=\"23.25\"/><rect fill=\"orange\" height=\"0.75\" width=\"15\" x=\"16.5\" y=\"25.75\"/><rect fill=\"orange\" height=\"0.75\" width=\"15\" x=\"16.5\" y=\"23.5\"/></g><g class=\"shade\"><rect fill=\"white\" height=\"1.25\" width=\"27.6\" x=\"28.2\" y=\"30.5\"/><rect fill=\"white\" height=\"1.25\" width=\"27.6\" x=\"28.2\" y=\"28.25\"/><rect fill=\"orange\" height=\"0.75\" width=\"27\" x=\"28.5\" y=\"30.75\"/><rect fill=\"orange\" height=\"0.75\" width=\"27\" x=\"28.5\" y=\"28.5\"/></g><g class=\"shade\"><rect fill=\"white\" height=\"1.25\" width=\"75.6\" x=\"25.2\" y=\"35.5\"/><rect fill=\"white\" height=\"1.25\" width=\"75.6\" x=\"25.2\" y=\"33.25\"/><rect fill=\"orange\" height=\"0.75\" width=\"75\" x=\"25.5\" y=\"35.75\"/><rect fill=\"orange\" height=\"0.75\" width=\"75\" x=\"25.5\" y=\"33.5\"/></g><g class=\"shade\"><rect fill=\"white\" height=\"1.25\" width=\"72.6\" x=\"10.2\" y=\"40.5\"/><rect fill=\"white\" height=\"1.25\" width=\"72.6\" x=\"10.2\" y=\"38.25\"/><rect fill=\"orange\" height=\"0.75\" width=\"72\" x=\"10.5\" y=\"40.75\"/><rect fill=\"orange\" height=\"0.75\" width=\"72\" x=\"10.5\" y=\"38.5\"/></g><g class=\"shade\"><rect fill=\"white\" height=\"1.25\" width=\"84.6\" x=\"25.2\" y=\"45.5\"/><rect fill=\"white\" height=\"1.25\" width=\"84.6\" x=\"25.2\" y=\"43.25\"/><rect fill=\"orange\" height=\"0.75\" width=\"84\" x=\"25.5\" y=\"45.75\"/><rect fill=\"orange\" height=\"0.75\" width=\"84\" x=\"25.5\" y=\"43.5\"/></g><g class=\"shade\"><rect fill=\"white\" height=\"1.25\" width=\"126.6\" x=\"-91.8\" y=\"50.5\"/><rect fill=\"white\" height=\"1.25\" width=\"126.6\" x=\"-91.8\" y=\"48.25\"/><rect fill=\"orange\" height=\"0.75\" width=\"126\" x=\"-91.5\" y=\"50.75\"/><rect fill=\"orange\" height=\"0.75\" width=\"126\" x=\"-91.5\" y=\"48.5\"/></g><g class=\"shade\"><rect fill=\"white\" height=\"1.25\" width=\"9.6\" x=\"7.2\" y=\"55.5\"/><rect fill=\"white\" height=\"1.25\" width=\"9.6\" x=\"7.2\" y=\"53.25\"/><rect fill=\"orange\" height=\"0.75\" width=\"9\" x=\"7.5\" y=\"55.75\"/><rect fill=\"orange\" height=\"0.75\" width=\"9\" x=\"7.5\" y=\"53.5\"/></g><g class=\"shade\"><rect fill=\"white\" height=\"1.25\" width=\"21.6\" x=\"19.2\" y=\"60.5\"/><rect fill=\"white\" height=\"1.25\" width=\"21.6\" x=\"19.2\" y=\"58.25\"/><rect fill=\"orange\" height=\"0.75\" width=\"21\" x=\"19.5\" y=\"60.75\"/><rect fill=\"orange\" height=\"0.75\" width=\"21\" x=\"19.5\" y=\"58.5\"/></g><g class=\"shade\"><rect fill=\"white\" height=\"1.25\" width=\"42.6\" x=\"70.2\" y=\"65.5\"/><rect fill=\"white\" height=\"1.25\" width=\"42.6\" x=\"70.2\" y=\"63.25\"/><rect fill=\"orange\" height=\"0.75\" width=\"42\" x=\"70.5\" y=\"65.75\"/><rect fill=\"orange\" height=\"0.75\" width=\"42\" x=\"70.5\" y=\"63.5\"/></g><g class=\"shade\"><rect fill=\"white\" height=\"1.25\" width=\"18.6\" x=\"115.2\" y=\"65.5\"/><rect fill=\"white\" height=\"1.25\" width=\"18.6\" x=\"115.2\" y=\"63.25\"/><rect fill=\"orange\" height=\"0.75\" width=\"18\" x=\"115.5\" y=\"65.75\"/><rect fill=\"orange\" height=\"0.75\" width=\"18\" x=\"115.5\" y=\"63.5\"/></g><g class=\"shade\"><rect fill=\"white\" height=\"1.25\" width=\"12.6\" x=\"-25.8\" y=\"75.5\"/><rect fill=\"white\" height=\"1.25\" width=\"12.6\" x=\"-25.8\" y=\"73.25\"/><rect fill=\"orange\" height=\"0.75\" width=\"12\" x=\"-25.5\" y=\"75.75\"/><rect fill=\"orange\" height=\"0.75\" width=\"12\" x=\"-25.5\" y=\"73.5\"/></g><g class=\"shade\"><rect fill=\"white\" height=\"1.25\" width=\"21.6\" x=\"37.2\" y=\"75.5\"/><rect fill=\"white\" height=\"1.25\" width=\"21.6\" x=\"37.2\" y=\"73.25\"/><rect fill=\"orange\" height=\"0.75\" width=\"21\" x=\"37.5\" y=\"75.75\"/><rect fill=\"orange\" height=\"0.75\" width=\"21\" x=\"37.5\" y=\"73.5\"/></g><g class=\"shade\"><rect fill=\"white\" height=\"1.25\" width=\"75.6\" x=\"31.2\" y=\"80.5\"/><rect fill=\"white\" height=\"1.25\" width=\"75.6\" x=\"31.2\" y=\"78.25\"/><rect fill=\"orange\" height=\"0.75\" width=\"75\" x=\"31.5\" y=\"80.75\"/><rect fill=\"orange\" height=\"0.75\" width=\"75\" x=\"31.5\" y=\"78.5\"/></g><g class=\"shade\"><rect fill=\"white\" height=\"1.25\" width=\"12.6\" x=\"61.2\" y=\"90.5\"/><rect fill=\"white\" height=\"1.25\" width=\"12.6\" x=\"61.2\" y=\"88.25\"/><rect fill=\"orange\" height=\"0.75\" width=\"12\" x=\"61.5\" y=\"90.75\"/><rect fill=\"orange\" height=\"0.75\" width=\"12\" x=\"61.5\" y=\"88.5\"/></g><g class=\"shade\"><rect fill=\"white\" height=\"1.25\" width=\"33.6\" x=\"79.2\" y=\"95.5\"/><rect fill=\"white\" height=\"1.25\" width=\"33.6\" x=\"79.2\" y=\"93.25\"/><rect fill=\"orange\" height=\"0.75\" width=\"33\" x=\"79.5\" y=\"95.75\"/><rect fill=\"orange\" height=\"0.75\" width=\"33\" x=\"79.5\" y=\"93.5\"/></g><g class=\"shade\"><rect fill=\"white\" height=\"1.25\" width=\"39.6\" x=\"70.2\" y=\"105.5\"/><rect fill=\"white\" height=\"1.25\" width=\"39.6\" x=\"70.2\" y=\"103.25\"/><rect fill=\"orange\" height=\"0.75\" width=\"39\" x=\"70.5\" y=\"105.75\"/><rect fill=\"orange\" height=\"0.75\" width=\"39\" x=\"70.5\" y=\"103.5\"/></g><g class=\"shade\"><rect fill=\"white\" height=\"1.25\" width=\"24.6\" x=\"67.2\" y=\"110.5\"/><rect fill=\"white\" height=\"1.25\" width=\"24.6\" x=\"67.2\" y=\"108.25\"/><rect fill=\"orange\" height=\"0.75\" width=\"24\" x=\"67.5\" y=\"110.75\"/><rect fill=\"orange\" height=\"0.75\" width=\"24\" x=\"67.5\" y=\"108.5\"/></g><g class=\"shade\"><rect fill=\"white\" height=\"1.25\" width=\"30.6\" x=\"55.2\" y=\"115.5\"/><rect fill=\"white\" height=\"1.25\" width=\"30.6\" x=\"55.2\" y=\"113.25\"/><rect fill=\"orange\" height=\"0.75\" width=\"30\" x=\"55.5\" y=\"115.75\"/><rect fill=\"orange\" height=\"0.75\" width=\"30\" x=\"55.5\" y=\"113.5\"/></g><g class=\"shade\"><rect fill=\"white\" height=\"1.25\" width=\"48.6\" x=\"67.2\" y=\"120.5\"/><rect fill=\"white\" height=\"1.25\" width=\"48.6\" x=\"67.2\" y=\"118.25\"/><rect fill=\"orange\" height=\"0.75\" width=\"48\" x=\"67.5\" y=\"120.75\"/><rect fill=\"orange\" height=\"0.75\" width=\"48\" x=\"67.5\" y=\"118.5\"/></g><g class=\"shade\"><rect fill=\"white\" height=\"1.25\" width=\"45.6\" x=\"13.2\" y=\"125.5\"/><rect fill=\"white\" height=\"1.25\" width=\"45.6\" x=\"13.2\" y=\"123.25\"/><rect fill=\"orange\" height=\"0.75\" width=\"45\" x=\"13.5\" y=\"125.75\"/><rect fill=\"orange\" height=\"0.75\" width=\"45\" x=\"13.5\" y=\"123.5\"/></g><g class=\"shade\"><rect fill=\"white\" height=\"1.25\" width=\"81.6\" x=\"10.2\" y=\"135.5\"/><rect fill=\"white\" height=\"1.25\" width=\"81.6\" x=\"10.2\" y=\"133.25\"/><rect fill=\"orange\" height=\"0.75\" width=\"81\" x=\"10.5\" y=\"135.75\"/><rect fill=\"orange\" height=\"0.75\" width=\"81\" x=\"10.5\" y=\"133.5\"/></g><g class=\"shade\"><rect fill=\"white\" height=\"1.25\" width=\"9.6\" x=\"46.2\" y=\"140.5\"/><rect fill=\"white\" height=\"1.25\" width=\"9.6\" x=\"46.2\" y=\"138.25\"/><rect fill=\"orange\" height=\"0.75\" width=\"9\" x=\"46.5\" y=\"140.75\"/><rect fill=\"orange\" height=\"0.75\" width=\"9\" x=\"46.5\" y=\"138.5\"/></g><g class=\"shade\"><rect fill=\"white\" height=\"1.25\" width=\"48.6\" x=\"58.2\" y=\"150.5\"/><rect fill=\"white\" height=\"1.25\" width=\"48.6\" x=\"58.2\" y=\"148.25\"/><rect fill=\"orange\" height=\"0.75\" width=\"48\" x=\"58.5\" y=\"150.75\"/><rect fill=\"orange\" height=\"0.75\" width=\"48\" x=\"58.5\" y=\"148.5\"/></g><g class=\"shade\"><rect fill=\"white\" height=\"1.25\" width=\"147.6\" x=\"184.2\" y=\"160.5\"/><rect fill=\"white\" height=\"1.25\" width=\"147.6\" x=\"184.2\" y=\"158.25\"/><rect fill=\"orange\" height=\"0.75\" width=\"147\" x=\"184.5\" y=\"160.75\"/><rect fill=\"orange\" height=\"0.75\" width=\"147\" x=\"184.5\" y=\"158.5\"/></g><g class=\"shade\"><rect fill=\"white\" height=\"1.25\" width=\"48.6\" x=\"226.2\" y=\"165.5\"/><rect fill=\"white\" height=\"1.25\" width=\"48.6\" x=\"226.2\" y=\"163.25\"/><rect fill=\"orange\" height=\"0.75\" width=\"48\" x=\"226.5\" y=\"165.75\"/><rect fill=\"orange\" height=\"0.75\" width=\"48\" x=\"226.5\" y=\"163.5\"/></g><g class=\"shade\"><rect fill=\"white\" height=\"1.25\" width=\"183.6\" x=\"133.2\" y=\"170.5\"/><rect fill=\"white\" height=\"1.25\" width=\"183.6\" x=\"133.2\" y=\"168.25\"/><rect fill=\"orange\" height=\"0.75\" width=\"183\" x=\"133.5\" y=\"170.75\"/><rect fill=\"orange\" height=\"0.75\" width=\"183\" x=\"133.5\" y=\"168.5\"/></g><g class=\"shade\"><rect fill=\"white\" height=\"1.25\" width=\"123.6\" x=\"52.2\" y=\"185.5\"/><rect fill=\"white\" height=\"1.25\" width=\"123.6\" x=\"52.2\" y=\"183.25\"/><rect fill=\"orange\" height=\"0.75\" width=\"123\" x=\"52.5\" y=\"185.75\"/><rect fill=\"orange\" height=\"0.75\" width=\"123\" x=\"52.5\" y=\"183.5\"/></g><g class=\"shade\"><rect fill=\"white\" height=\"1.25\" width=\"30.6\" x=\"64.2\" y=\"190.5\"/><rect fill=\"white\" height=\"1.25\" width=\"30.6\" x=\"64.2\" y=\"188.25\"/><rect fill=\"orange\" height=\"0.75\" width=\"30\" x=\"64.5\" y=\"190.75\"/><rect fill=\"orange\" height=\"0.75\" width=\"30\" x=\"64.5\" y=\"188.5\"/></g><g class=\"shade\"><rect fill=\"white\" height=\"1.25\" width=\"15.6\" x=\"67.2\" y=\"195.5\"/><rect fill=\"white\" height=\"1.25\" width=\"15.6\" x=\"67.2\" y=\"193.25\"/><rect fill=\"orange\" height=\"0.75\" width=\"15\" x=\"67.5\" y=\"195.75\"/><rect fill=\"orange\" height=\"0.75\" width=\"15\" x=\"67.5\" y=\"193.5\"/></g><g class=\"shade\"><rect fill=\"white\" height=\"1.25\" width=\"3.6\" x=\"82.2\" y=\"200.5\"/><rect fill=\"white\" height=\"1.25\" width=\"3.6\" x=\"82.2\" y=\"198.25\"/><rect fill=\"orange\" height=\"0.75\" width=\"3\" x=\"82.5\" y=\"200.75\"/><rect fill=\"orange\" height=\"0.75\" width=\"3\" x=\"82.5\" y=\"198.5\"/></g><g class=\"shade\"><rect fill=\"white\" height=\"1.25\" width=\"72.6\" x=\"13.2\" y=\"230.5\"/><rect fill=\"white\" height=\"1.25\" width=\"72.6\" x=\"13.2\" y=\"228.25\"/><rect fill=\"orange\" height=\"0.75\" width=\"72\" x=\"13.5\" y=\"230.75\"/><rect fill=\"orange\" height=\"0.75\" width=\"72\" x=\"13.5\" y=\"228.5\"/></g><g class=\"shade\"><rect fill=\"white\" height=\"1.25\" width=\"15.6\" x=\"37.2\" y=\"235.5\"/><rect fill=\"white\" height=\"1.25\" width=\"15.6\" x=\"37.2\" y=\"233.25\"/><rect fill=\"orange\" height=\"0.75\" width=\"15\" x=\"37.5\" y=\"235.75\"/><rect fill=\"orange\" height=\"0.75\" width=\"15\" x=\"37.5\" y=\"233.5\"/></g><g class=\"shade\"><rect fill=\"white\" height=\"1.25\" width=\"21.6\" x=\"49.2\" y=\"240.5\"/><rect fill=\"white\" height=\"1.25\" width=\"21.6\" x=\"49.2\" y=\"238.25\"/><rect fill=\"orange\" height=\"0.75\" width=\"21\" x=\"49.5\" y=\"240.75\"/><rect fill=\"orange\" height=\"0.75\" width=\"21\" x=\"49.5\" y=\"238.5\"/></g><g class=\"shade\"><rect fill=\"white\" height=\"1.25\" width=\"21.6\" x=\"-145.8\" y=\"255.5\"/><rect fill=\"white\" height=\"1.25\" width=\"21.6\" x=\"-145.8\" y=\"253.25\"/><rect fill=\"orange\" height=\"0.75\" width=\"21\" x=\"-145.5\" y=\"255.75\"/><rect fill=\"orange\" height=\"0.75\" width=\"21\" x=\"-145.5\" y=\"253.5\"/></g><g class=\"shade\"><rect fill=\"white\" height=\"1.25\" width=\"93.6\" x=\"-46.8\" y=\"255.5\"/><rect fill=\"white\" height=\"1.25\" width=\"93.6\" x=\"-46.8\" y=\"253.25\"/><rect fill=\"orange\" height=\"0.75\" width=\"93\" x=\"-46.5\" y=\"255.75\"/><rect fill=\"orange\" height=\"0.75\" width=\"93\" x=\"-46.5\" y=\"253.5\"/></g><g class=\"shade\"><rect fill=\"white\" height=\"1.25\" width=\"105.6\" x=\"1.2\" y=\"260.5\"/><rect fill=\"white\" height=\"1.25\" width=\"105.6\" x=\"1.2\" y=\"258.25\"/><rect fill=\"orange\" height=\"0.75\" width=\"105\" x=\"1.5\" y=\"260.75\"/><rect fill=\"orange\" height=\"0.75\" width=\"105\" x=\"1.5\" y=\"258.5\"/></g><g class=\"shade\"><rect fill=\"white\" height=\"1.25\" width=\"36.6\" x=\"-7.8\" y=\"265.5\"/><rect fill=\"white\" height=\"1.25\" width=\"36.6\" x=\"-7.8\" y=\"263.25\"/><rect fill=\"orange\" height=\"0.75\" width=\"36\" x=\"-7.5\" y=\"265.75\"/><rect fill=\"orange\" height=\"0.75\" width=\"36\" x=\"-7.5\" y=\"263.5\"/></g><g class=\"shade\"><rect fill=\"white\" height=\"1.25\" width=\"120.6\" x=\"-103.8\" y=\"270.5\"/><rect fill=\"white\" height=\"1.25\" width=\"120.6\" x=\"-103.8\" y=\"268.25\"/><rect fill=\"orange\" height=\"0.75\" width=\"120\" x=\"-103.5\" y=\"270.75\"/><rect fill=\"orange\" height=\"0.75\" width=\"120\" x=\"-103.5\" y=\"268.5\"/></g><g class=\"shade\"><rect fill=\"white\" height=\"1.25\" width=\"3.6\" x=\"58.2\" y=\"275.5\"/><rect fill=\"white\" height=\"1.25\" width=\"3.6\" x=\"58.2\" y=\"273.25\"/><rect fill=\"orange\" height=\"0.75\" width=\"3\" x=\"58.5\" y=\"275.75\"/><rect fill=\"orange\" height=\"0.75\" width=\"3\" x=\"58.5\" y=\"273.5\"/></g><g class=\"shade\"><rect fill=\"white\" height=\"1.25\" width=\"9.6\" x=\"61.2\" y=\"285.5\"/><rect fill=\"white\" height=\"1.25\" width=\"9.6\" x=\"61.2\" y=\"283.25\"/><rect fill=\"orange\" height=\"0.75\" width=\"9\" x=\"61.5\" y=\"285.75\"/><rect fill=\"orange\" height=\"0.75\" width=\"9\" x=\"61.5\" y=\"283.5\"/></g><g class=\"shade\"><rect fill=\"white\" height=\"1.25\" width=\"9.6\" x=\"67.2\" y=\"290.5\"/><rect fill=\"white\" height=\"1.25\" width=\"9.6\" x=\"67.2\" y=\"288.25\"/><rect fill=\"orange\" height=\"0.75\" width=\"9\" x=\"67.5\" y=\"290.75\"/><rect fill=\"orange\" height=\"0.75\" width=\"9\" x=\"67.5\" y=\"288.5\"/></g><g class=\"shade\"><rect fill=\"white\" height=\"1.25\" width=\"12.6\" x=\"70.2\" y=\"295.5\"/><rect fill=\"white\" height=\"1.25\" width=\"12.6\" x=\"70.2\" y=\"293.25\"/><rect fill=\"orange\" height=\"0.75\" width=\"12\" x=\"70.5\" y=\"295.75\"/><rect fill=\"orange\" height=\"0.75\" width=\"12\" x=\"70.5\" y=\"293.5\"/></g><g class=\"shade\"><rect fill=\"white\" height=\"1.25\" width=\"51.6\" x=\"55.2\" y=\"300.5\"/><rect fill=\"white\" height=\"1.25\" width=\"51.6\" x=\"55.2\" y=\"298.25\"/><rect fill=\"orange\" height=\"0.75\" width=\"51\" x=\"55.5\" y=\"300.75\"/><rect fill=\"orange\" height=\"0.75\" width=\"51\" x=\"55.5\" y=\"298.5\"/></g><g class=\"shade\"><rect fill=\"white\" height=\"1.25\" width=\"36.6\" x=\"49.2\" y=\"310.5\"/><rect fill=\"white\" height=\"1.25\" width=\"36.6\" x=\"49.2\" y=\"308.25\"/><rect fill=\"orange\" height=\"0.75\" width=\"36\" x=\"49.5\" y=\"310.75\"/><rect fill=\"orange\" height=\"0.75\" width=\"36\" x=\"49.5\" y=\"308.5\"/></g><g class=\"shade\"><rect fill=\"white\" height=\"1.25\" width=\"6.6\" x=\"70.2\" y=\"315.5\"/><rect fill=\"white\" height=\"1.25\" width=\"6.6\" x=\"70.2\" y=\"313.25\"/><rect fill=\"orange\" height=\"0.75\" width=\"6\" x=\"70.5\" y=\"315.75\"/><rect fill=\"orange\" height=\"0.75\" width=\"6\" x=\"70.5\" y=\"313.5\"/></g><g class=\"shade\"><rect fill=\"white\" height=\"1.25\" width=\"42.6\" x=\"22.2\" y=\"335.5\"/><rect fill=\"white\" height=\"1.25\" width=\"42.6\" x=\"22.2\" y=\"333.25\"/><rect fill=\"orange\" height=\"0.75\" width=\"42\" x=\"22.5\" y=\"335.75\"/><rect fill=\"orange\" height=\"0.75\" width=\"42\" x=\"22.5\" y=\"333.5\"/></g><g class=\"shade\"><rect fill=\"white\" height=\"1.25\" width=\"6.6\" x=\"58.2\" y=\"340.5\"/><rect fill=\"white\" height=\"1.25\" width=\"6.6\" x=\"58.2\" y=\"338.25\"/><rect fill=\"orange\" height=\"0.75\" width=\"6\" x=\"58.5\" y=\"340.75\"/><rect fill=\"orange\" height=\"0.75\" width=\"6\" x=\"58.5\" y=\"338.5\"/></g><g class=\"shade\"><rect fill=\"white\" height=\"1.25\" width=\"105.6\" x=\"-37.8\" y=\"345.5\"/><rect fill=\"white\" height=\"1.25\" width=\"105.6\" x=\"-37.8\" y=\"343.25\"/><rect fill=\"orange\" height=\"0.75\" width=\"105\" x=\"-37.5\" y=\"345.75\"/><rect fill=\"orange\" height=\"0.75\" width=\"105\" x=\"-37.5\" y=\"343.5\"/></g><g class=\"shade\"><rect fill=\"white\" height=\"1.25\" width=\"3.6\" x=\"73.2\" y=\"345.5\"/><rect fill=\"white\" height=\"1.25\" width=\"3.6\" x=\"73.2\" y=\"343.25\"/><rect fill=\"orange\" height=\"0.75\" width=\"3\" x=\"73.5\" y=\"345.75\"/><rect fill=\"orange\" height=\"0.75\" width=\"3\" x=\"73.5\" y=\"343.5\"/></g><g class=\"shade\"><rect fill=\"white\" height=\"1.25\" width=\"27.6\" x=\"-7.8\" y=\"350.5\"/><rect fill=\"white\" height=\"1.25\" width=\"27.6\" x=\"-7.8\" y=\"348.25\"/><rect fill=\"orange\" height=\"0.75\" width=\"27\" x=\"-7.5\" y=\"350.75\"/><rect fill=\"orange\" height=\"0.75\" width=\"27\" x=\"-7.5\" y=\"348.5\"/></g><g class=\"shade\"><rect fill=\"white\" height=\"1.25\" width=\"51.6\" x=\"-55.8\" y=\"355.5\"/><rect fill=\"white\" height=\"1.25\" width=\"51.6\" x=\"-55.8\" y=\"353.25\"/><rect fill=\"orange\" height=\"0.75\" width=\"51\" x=\"-55.5\" y=\"355.75\"/><rect fill=\"orange\" height=\"0.75\" width=\"51\" x=\"-55.5\" y=\"353.5\"/></g><g class=\"shade\"><rect fill=\"white\" height=\"1.25\" width=\"9.6\" x=\"25.2\" y=\"365.5\"/><rect fill=\"white\" height=\"1.25\" width=\"9.6\" x=\"25.2\" y=\"363.25\"/><rect fill=\"orange\" height=\"0.75\" width=\"9\" x=\"25.5\" y=\"365.75\"/><rect fill=\"orange\" height=\"0.75\" width=\"9\" x=\"25.5\" y=\"363.5\"/></g><g class=\"shade\"><rect fill=\"white\" height=\"1.25\" width=\"72.6\" x=\"-31.8\" y=\"375.5\"/><rect fill=\"white\" height=\"1.25\" width=\"72.6\" x=\"-31.8\" y=\"373.25\"/><rect fill=\"orange\" height=\"0.75\" width=\"72\" x=\"-31.5\" y=\"375.75\"/><rect fill=\"orange\" height=\"0.75\" width=\"72\" x=\"-31.5\" y=\"373.5\"/></g><g class=\"shade\"><rect fill=\"white\" height=\"1.25\" width=\"24.6\" x=\"-43.8\" y=\"380.5\"/><rect fill=\"white\" height=\"1.25\" width=\"24.6\" x=\"-43.8\" y=\"378.25\"/><rect fill=\"orange\" height=\"0.75\" width=\"24\" x=\"-43.5\" y=\"380.75\"/><rect fill=\"orange\" height=\"0.75\" width=\"24\" x=\"-43.5\" y=\"378.5\"/></g><g class=\"shade\"><rect fill=\"white\" height=\"1.25\" width=\"54.6\" x=\"-4.8\" y=\"380.5\"/><rect fill=\"white\" height=\"1.25\" width=\"54.6\" x=\"-4.8\" y=\"378.25\"/><rect fill=\"orange\" height=\"0.75\" width=\"54\" x=\"-4.5\" y=\"380.75\"/><rect fill=\"orange\" height=\"0.75\" width=\"54\" x=\"-4.5\" y=\"378.5\"/></g><g class=\"shade\"><rect fill=\"white\" height=\"1.25\" width=\"3.6\" x=\"37.2\" y=\"385.5\"/><rect fill=\"white\" height=\"1.25\" width=\"3.6\" x=\"37.2\" y=\"383.25\"/><rect fill=\"orange\" height=\"0.75\" width=\"3\" x=\"37.5\" y=\"385.75\"/><rect fill=\"orange\" height=\"0.75\" width=\"3\" x=\"37.5\" y=\"383.5\"/></g><g class=\"shade\"><rect fill=\"white\" height=\"1.25\" width=\"12.6\" x=\"64.2\" y=\"390.5\"/><rect fill=\"white\" height=\"1.25\" width=\"12.6\" x=\"64.2\" y=\"388.25\"/><rect fill=\"orange\" height=\"0.75\" width=\"12\" x=\"64.5\" y=\"390.75\"/><rect fill=\"orange\" height=\"0.75\" width=\"12\" x=\"64.5\" y=\"388.5\"/></g><g class=\"shade\"><rect fill=\"white\" height=\"1.25\" width=\"12.6\" x=\"64.2\" y=\"395.5\"/><rect fill=\"white\" height=\"1.25\" width=\"12.6\" x=\"64.2\" y=\"393.25\"/><rect fill=\"orange\" height=\"0.75\" width=\"12\" x=\"64.5\" y=\"395.75\"/><rect fill=\"orange\" height=\"0.75\" width=\"12\" x=\"64.5\" y=\"393.5\"/></g><g class=\"shade\"><rect fill=\"white\" height=\"1.25\" width=\"3.6\" x=\"166.2\" y=\"400.5\"/><rect fill=\"white\" height=\"1.25\" width=\"3.6\" x=\"166.2\" y=\"398.25\"/><rect fill=\"orange\" height=\"0.75\" width=\"3\" x=\"166.5\" y=\"400.75\"/><rect fill=\"orange\" height=\"0.75\" width=\"3\" x=\"166.5\" y=\"398.5\"/></g><g class=\"shade\"><rect fill=\"white\" height=\"1.25\" width=\"57.6\" x=\"10.2\" y=\"425.5\"/><rect fill=\"white\" height=\"1.25\" width=\"57.6\" x=\"10.2\" y=\"423.25\"/><rect fill=\"orange\" height=\"0.75\" width=\"57\" x=\"10.5\" y=\"425.75\"/><rect fill=\"orange\" height=\"0.75\" width=\"57\" x=\"10.5\" y=\"423.5\"/></g><g class=\"shade\"><rect fill=\"white\" height=\"1.25\" width=\"81.6\" x=\"-37.8\" y=\"450.5\"/><rect fill=\"white\" height=\"1.25\" width=\"81.6\" x=\"-37.8\" y=\"448.25\"/><rect fill=\"orange\" height=\"0.75\" width=\"81\" x=\"-37.5\" y=\"450.75\"/><rect fill=\"orange\" height=\"0.75\" width=\"81\" x=\"-37.5\" y=\"448.5\"/></g><g class=\"shade\"><rect fill=\"white\" height=\"1.25\" width=\"60.6\" x=\"-19.8\" y=\"465.5\"/><rect fill=\"white\" height=\"1.25\" width=\"60.6\" x=\"-19.8\" y=\"463.25\"/><rect fill=\"orange\" height=\"0.75\" width=\"60\" x=\"-19.5\" y=\"465.75\"/><rect fill=\"orange\" height=\"0.75\" width=\"60\" x=\"-19.5\" y=\"463.5\"/></g><g class=\"shade\"><rect fill=\"white\" height=\"1.25\" width=\"72.6\" x=\"-10.8\" y=\"475.5\"/><rect fill=\"white\" height=\"1.25\" width=\"72.6\" x=\"-10.8\" y=\"473.25\"/><rect fill=\"orange\" height=\"0.75\" width=\"72\" x=\"-10.5\" y=\"475.75\"/><rect fill=\"orange\" height=\"0.75\" width=\"72\" x=\"-10.5\" y=\"473.5\"/></g><g class=\"shade\"><rect fill=\"white\" height=\"1.25\" width=\"21.6\" x=\"40.2\" y=\"480.5\"/><rect fill=\"white\" height=\"1.25\" width=\"21.6\" x=\"40.2\" y=\"478.25\"/><rect fill=\"orange\" height=\"0.75\" width=\"21\" x=\"40.5\" y=\"480.75\"/><rect fill=\"orange\" height=\"0.75\" width=\"21\" x=\"40.5\" y=\"478.5\"/></g><g class=\"shade\"><rect fill=\"white\" height=\"1.25\" width=\"21.6\" x=\"61.2\" y=\"500.5\"/><rect fill=\"white\" height=\"1.25\" width=\"21.6\" x=\"61.2\" y=\"498.25\"/><rect fill=\"orange\" height=\"0.75\" width=\"21\" x=\"61.5\" y=\"500.75\"/><rect fill=\"orange\" height=\"0.75\" width=\"21\" x=\"61.5\" y=\"498.5\"/></g><g class=\"shade\"><rect fill=\"white\" height=\"1.25\" width=\"51.6\" x=\"28.2\" y=\"510.5\"/><rect fill=\"white\" height=\"1.25\" width=\"51.6\" x=\"28.2\" y=\"508.25\"/><rect fill=\"orange\" height=\"0.75\" width=\"51\" x=\"28.5\" y=\"510.75\"/><rect fill=\"orange\" height=\"0.75\" width=\"51\" x=\"28.5\" y=\"508.5\"/></g><g class=\"shade\"><rect fill=\"white\" height=\"1.25\" width=\"12.6\" x=\"52.2\" y=\"515.5\"/><rect fill=\"white\" height=\"1.25\" width=\"12.6\" x=\"52.2\" y=\"513.25\"/><rect fill=\"orange\" height=\"0.75\" width=\"12\" x=\"52.5\" y=\"515.75\"/><rect fill=\"orange\" height=\"0.75\" width=\"12\" x=\"52.5\" y=\"513.5\"/></g><g class=\"shade\"><rect fill=\"white\" height=\"1.25\" width=\"12.6\" x=\"52.2\" y=\"520.5\"/><rect fill=\"white\" height=\"1.25\" width=\"12.6\" x=\"52.2\" y=\"518.25\"/><rect fill=\"orange\" height=\"0.75\" width=\"12\" x=\"52.5\" y=\"520.75\"/><rect fill=\"orange\" height=\"0.75\" width=\"12\" x=\"52.5\" y=\"518.5\"/></g><g class=\"shade\"><rect fill=\"white\" height=\"1.25\" width=\"3.6\" x=\"58.2\" y=\"525.5\"/><rect fill=\"white\" height=\"1.25\" width=\"3.6\" x=\"58.2\" y=\"523.25\"/><rect fill=\"orange\" height=\"0.75\" width=\"3\" x=\"58.5\" y=\"525.75\"/><rect fill=\"orange\" height=\"0.75\" width=\"3\" x=\"58.5\" y=\"523.5\"/></g><g class=\"shade\"><rect fill=\"white\" height=\"1.25\" width=\"3.6\" x=\"67.2\" y=\"530.5\"/><rect fill=\"white\" height=\"1.25\" width=\"3.6\" x=\"67.2\" y=\"528.25\"/><rect fill=\"orange\" height=\"0.75\" width=\"3\" x=\"67.5\" y=\"530.75\"/><rect fill=\"orange\" height=\"0.75\" width=\"3\" x=\"67.5\" y=\"528.5\"/></g><g class=\"shade\"><rect fill=\"white\" height=\"1.25\" width=\"24.6\" x=\"55.2\" y=\"535.5\"/><rect fill=\"white\" height=\"1.25\" width=\"24.6\" x=\"55.2\" y=\"533.25\"/><rect fill=\"orange\" height=\"0.75\" width=\"24\" x=\"55.5\" y=\"535.75\"/><rect fill=\"orange\" height=\"0.75\" width=\"24\" x=\"55.5\" y=\"533.5\"/></g><g class=\"shade\"><rect fill=\"white\" height=\"1.25\" width=\"6.6\" x=\"55.2\" y=\"540.5\"/><rect fill=\"white\" height=\"1.25\" width=\"6.6\" x=\"55.2\" y=\"538.25\"/><rect fill=\"orange\" height=\"0.75\" width=\"6\" x=\"55.5\" y=\"540.75\"/><rect fill=\"orange\" height=\"0.75\" width=\"6\" x=\"55.5\" y=\"538.5\"/></g><g class=\"shade\"><rect fill=\"white\" height=\"1.25\" width=\"3.6\" x=\"238.2\" y=\"0.5\"/><rect fill=\"white\" height=\"1.25\" width=\"3.6\" x=\"238.2\" y=\"-1.75\"/><rect fill=\"green\" height=\"0.75\" width=\"3\" x=\"238.5\" y=\"0.75\"/><rect fill=\"green\" height=\"0.75\" width=\"3\" x=\"238.5\" y=\"-1.5\"/></g><g class=\"shade\"><rect fill=\"white\" height=\"1.25\" width=\"3.6\" x=\"52.2\" y=\"25.5\"/><rect fill=\"white\" height=\"1.25\" width=\"3.6\" x=\"52.2\" y=\"23.25\"/><rect fill=\"green\" height=\"0.75\" width=\"3\" x=\"52.5\" y=\"25.75\"/><rect fill=\"green\" height=\"0.75\" width=\"3\" x=\"52.5\" y=\"23.5\"/></g><g class=\"shade\"><rect fill=\"white\" height=\"1.25\" width=\"3.6\" x=\"58.2\" y=\"30.5\"/><rect fill=\"white\" height=\"1.25\" width=\"3.6\" x=\"58.2\" y=\"28.25\"/><rect fill=\"green\" height=\"0.75\" width=\"3\" x=\"58.5\" y=\"30.75\"/><rect fill=\"green\" height=\"0.75\" width=\"3\" x=\"58.5\" y=\"28.5\"/></g><g class=\"shade\"><rect fill=\"white\" height=\"1.25\" width=\"3.6\" x=\"115.2\" y=\"35.5\"/><rect fill=\"white\" height=\"1.25\" width=\"3.6\" x=\"115.2\" y=\"33.25\"/><rect fill=\"green\" height=\"0.75\" width=\"3\" x=\"115.5\" y=\"35.75\"/><rect fill=\"green\" height=\"0.75\" width=\"3\" x=\"115.5\" y=\"33.5\"/></g><g class=\"shade\"><rect fill=\"white\" height=\"1.25\" width=\"3.6\" x=\"127.2\" y=\"45.5\"/><rect fill=\"white\" height=\"1.25\" width=\"3.6\" x=\"127.2\" y=\"43.25\"/><rect fill=\"green\" height=\"0.75\" width=\"3\" x=\"127.5\" y=\"45.75\"/><rect fill=\"green\" height=\"0.75\" width=\"3\" x=\"127.5\" y=\"43.5\"/></g><g class=\"shade\"><rect fill=\"white\" height=\"1.25\" width=\"3.6\" x=\"136.2\" y=\"65.5\"/><rect fill=\"white\" height=\"1.25\" width=\"3.6\" x=\"136.2\" y=\"63.25\"/><rect fill=\"green\" height=\"0.75\" width=\"3\" x=\"136.5\" y=\"65.75\"/><rect fill=\"green\" height=\"0.75\" width=\"3\" x=\"136.5\" y=\"63.5\"/></g><g class=\"shade\"><rect fill=\"white\" height=\"1.25\" width=\"3.6\" x=\"130.2\" y=\"70.5\"/><rect fill=\"white\" height=\"1.25\" width=\"3.6\" x=\"130.2\" y=\"68.25\"/><rect fill=\"green\" height=\"0.75\" width=\"3\" x=\"130.5\" y=\"70.75\"/><rect fill=\"green\" height=\"0.75\" width=\"3\" x=\"130.5\" y=\"68.5\"/></g><g class=\"shade\"><rect fill=\"white\" height=\"1.25\" width=\"3.6\" x=\"238.2\" y=\"85.5\"/><rect fill=\"white\" height=\"1.25\" width=\"3.6\" x=\"238.2\" y=\"83.25\"/><rect fill=\"green\" height=\"0.75\" width=\"3\" x=\"238.5\" y=\"85.75\"/><rect fill=\"green\" height=\"0.75\" width=\"3\" x=\"238.5\" y=\"83.5\"/></g><g class=\"shade\"><rect fill=\"white\" height=\"1.25\" width=\"3.6\" x=\"121.2\" y=\"100.5\"/><rect fill=\"white\" height=\"1.25\" width=\"3.6\" x=\"121.2\" y=\"98.25\"/><rect fill=\"green\" height=\"0.75\" width=\"3\" x=\"121.5\" y=\"100.75\"/><rect fill=\"green\" height=\"0.75\" width=\"3\" x=\"121.5\" y=\"98.5\"/></g><g class=\"shade\"><rect fill=\"white\" height=\"1.25\" width=\"3.6\" x=\"181.2\" y=\"120.5\"/><rect fill=\"white\" height=\"1.25\" width=\"3.6\" x=\"181.2\" y=\"118.25\"/><rect fill=\"green\" height=\"0.75\" width=\"3\" x=\"181.5\" y=\"120.75\"/><rect fill=\"green\" height=\"0.75\" width=\"3\" x=\"181.5\" y=\"118.5\"/></g><g class=\"shade\"><rect fill=\"white\" height=\"1.25\" width=\"3.6\" x=\"157.2\" y=\"130.5\"/><rect fill=\"white\" height=\"1.25\" width=\"3.6\" x=\"157.2\" y=\"128.25\"/><rect fill=\"green\" height=\"0.75\" width=\"3\" x=\"157.5\" y=\"130.75\"/><rect fill=\"green\" height=\"0.75\" width=\"3\" x=\"157.5\" y=\"128.5\"/></g><g class=\"shade\"><rect fill=\"white\" height=\"1.25\" width=\"3.6\" x=\"160.2\" y=\"145.5\"/><rect fill=\"white\" height=\"1.25\" width=\"3.6\" x=\"160.2\" y=\"143.25\"/><rect fill=\"green\" height=\"0.75\" width=\"3\" x=\"160.5\" y=\"145.75\"/><rect fill=\"green\" height=\"0.75\" width=\"3\" x=\"160.5\" y=\"143.5\"/></g><g class=\"shade\"><rect fill=\"white\" height=\"1.25\" width=\"3.6\" x=\"160.2\" y=\"155.5\"/><rect fill=\"white\" height=\"1.25\" width=\"3.6\" x=\"160.2\" y=\"153.25\"/><rect fill=\"green\" height=\"0.75\" width=\"3\" x=\"160.5\" y=\"155.75\"/><rect fill=\"green\" height=\"0.75\" width=\"3\" x=\"160.5\" y=\"153.5\"/></g><g class=\"shade\"><rect fill=\"white\" height=\"1.25\" width=\"3.6\" x=\"352.2\" y=\"160.5\"/><rect fill=\"white\" height=\"1.25\" width=\"3.6\" x=\"352.2\" y=\"158.25\"/><rect fill=\"green\" height=\"0.75\" width=\"3\" x=\"352.5\" y=\"160.75\"/><rect fill=\"green\" height=\"0.75\" width=\"3\" x=\"352.5\" y=\"158.5\"/></g><g class=\"shade\"><rect fill=\"white\" height=\"1.25\" width=\"3.6\" x=\"373.2\" y=\"175.5\"/><rect fill=\"white\" height=\"1.25\" width=\"3.6\" x=\"373.2\" y=\"173.25\"/><rect fill=\"green\" height=\"0.75\" width=\"3\" x=\"373.5\" y=\"175.75\"/><rect fill=\"green\" height=\"0.75\" width=\"3\" x=\"373.5\" y=\"173.5\"/></g><g class=\"shade\"><rect fill=\"white\" height=\"1.25\" width=\"3.6\" x=\"379.2\" y=\"180.5\"/><rect fill=\"white\" height=\"1.25\" width=\"3.6\" x=\"379.2\" y=\"178.25\"/><rect fill=\"green\" height=\"0.75\" width=\"3\" x=\"379.5\" y=\"180.75\"/><rect fill=\"green\" height=\"0.75\" width=\"3\" x=\"379.5\" y=\"178.5\"/></g><g class=\"shade\"><rect fill=\"white\" height=\"1.25\" width=\"3.6\" x=\"283.2\" y=\"200.5\"/><rect fill=\"white\" height=\"1.25\" width=\"3.6\" x=\"283.2\" y=\"198.25\"/><rect fill=\"green\" height=\"0.75\" width=\"3\" x=\"283.5\" y=\"200.75\"/><rect fill=\"green\" height=\"0.75\" width=\"3\" x=\"283.5\" y=\"198.5\"/></g><g class=\"shade\"><rect fill=\"white\" height=\"1.25\" width=\"3.6\" x=\"244.2\" y=\"205.5\"/><rect fill=\"white\" height=\"1.25\" width=\"3.6\" x=\"244.2\" y=\"203.25\"/><rect fill=\"green\" height=\"0.75\" width=\"3\" x=\"244.5\" y=\"205.75\"/><rect fill=\"green\" height=\"0.75\" width=\"3\" x=\"244.5\" y=\"203.5\"/></g><g class=\"shade\"><rect fill=\"white\" height=\"1.25\" width=\"3.6\" x=\"286.2\" y=\"210.5\"/><rect fill=\"white\" height=\"1.25\" width=\"3.6\" x=\"286.2\" y=\"208.25\"/><rect fill=\"green\" height=\"0.75\" width=\"3\" x=\"286.5\" y=\"210.75\"/><rect fill=\"green\" height=\"0.75\" width=\"3\" x=\"286.5\" y=\"208.5\"/></g><g class=\"shade\"><rect fill=\"white\" height=\"1.25\" width=\"3.6\" x=\"187.2\" y=\"215.5\"/><rect fill=\"white\" height=\"1.25\" width=\"3.6\" x=\"187.2\" y=\"213.25\"/><rect fill=\"green\" height=\"0.75\" width=\"3\" x=\"187.5\" y=\"215.75\"/><rect fill=\"green\" height=\"0.75\" width=\"3\" x=\"187.5\" y=\"213.5\"/></g><g class=\"shade\"><rect fill=\"white\" height=\"1.25\" width=\"3.6\" x=\"106.2\" y=\"220.5\"/><rect fill=\"white\" height=\"1.25\" width=\"3.6\" x=\"106.2\" y=\"218.25\"/><rect fill=\"green\" height=\"0.75\" width=\"3\" x=\"106.5\" y=\"220.75\"/><rect fill=\"green\" height=\"0.75\" width=\"3\" x=\"106.5\" y=\"218.5\"/></g><g class=\"shade\"><rect fill=\"white\" height=\"1.25\" width=\"3.6\" x=\"103.2\" y=\"225.5\"/><rect fill=\"white\" height=\"1.25\" width=\"3.6\" x=\"103.2\" y=\"223.25\"/><rect fill=\"green\" height=\"0.75\" width=\"3\" x=\"103.5\" y=\"225.75\"/><rect fill=\"green\" height=\"0.75\" width=\"3\" x=\"103.5\" y=\"223.5\"/></g><g class=\"shade\"><rect fill=\"white\" height=\"1.25\" width=\"3.6\" x=\"97.2\" y=\"245.5\"/><rect fill=\"white\" height=\"1.25\" width=\"3.6\" x=\"97.2\" y=\"243.25\"/><rect fill=\"green\" height=\"0.75\" width=\"3\" x=\"97.5\" y=\"245.75\"/><rect fill=\"green\" height=\"0.75\" width=\"3\" x=\"97.5\" y=\"243.5\"/></g><g class=\"shade\"><rect fill=\"white\" height=\"1.25\" width=\"3.6\" x=\"106.2\" y=\"250.5\"/><rect fill=\"white\" height=\"1.25\" width=\"3.6\" x=\"106.2\" y=\"248.25\"/><rect fill=\"green\" height=\"0.75\" width=\"3\" x=\"106.5\" y=\"250.75\"/><rect fill=\"green\" height=\"0.75\" width=\"3\" x=\"106.5\" y=\"248.5\"/></g><g class=\"shade\"><rect fill=\"white\" height=\"1.25\" width=\"3.6\" x=\"124.2\" y=\"260.5\"/><rect fill=\"white\" height=\"1.25\" width=\"3.6\" x=\"124.2\" y=\"258.25\"/><rect fill=\"green\" height=\"0.75\" width=\"3\" x=\"124.5\" y=\"260.75\"/><rect fill=\"green\" height=\"0.75\" width=\"3\" x=\"124.5\" y=\"258.5\"/></g><g class=\"shade\"><rect fill=\"white\" height=\"1.25\" width=\"3.6\" x=\"112.2\" y=\"280.5\"/><rect fill=\"white\" height=\"1.25\" width=\"3.6\" x=\"112.2\" y=\"278.25\"/><rect fill=\"green\" height=\"0.75\" width=\"3\" x=\"112.5\" y=\"280.75\"/><rect fill=\"green\" height=\"0.75\" width=\"3\" x=\"112.5\" y=\"278.5\"/></g><g class=\"shade\"><rect fill=\"white\" height=\"1.25\" width=\"3.6\" x=\"112.2\" y=\"305.5\"/><rect fill=\"white\" height=\"1.25\" width=\"3.6\" x=\"112.2\" y=\"303.25\"/><rect fill=\"green\" height=\"0.75\" width=\"3\" x=\"112.5\" y=\"305.75\"/><rect fill=\"green\" height=\"0.75\" width=\"3\" x=\"112.5\" y=\"303.5\"/></g><g class=\"shade\"><rect fill=\"white\" height=\"1.25\" width=\"3.6\" x=\"151.2\" y=\"315.5\"/><rect fill=\"white\" height=\"1.25\" width=\"3.6\" x=\"151.2\" y=\"313.25\"/><rect fill=\"green\" height=\"0.75\" width=\"3\" x=\"151.5\" y=\"315.75\"/><rect fill=\"green\" height=\"0.75\" width=\"3\" x=\"151.5\" y=\"313.5\"/></g><g class=\"shade\"><rect fill=\"white\" height=\"1.25\" width=\"3.6\" x=\"154.2\" y=\"320.5\"/><rect fill=\"white\" height=\"1.25\" width=\"3.6\" x=\"154.2\" y=\"318.25\"/><rect fill=\"green\" height=\"0.75\" width=\"3\" x=\"154.5\" y=\"320.75\"/><rect fill=\"green\" height=\"0.75\" width=\"3\" x=\"154.5\" y=\"318.5\"/></g><g class=\"shade\"><rect fill=\"white\" height=\"1.25\" width=\"3.6\" x=\"169.2\" y=\"325.5\"/><rect fill=\"white\" height=\"1.25\" width=\"3.6\" x=\"169.2\" y=\"323.25\"/><rect fill=\"green\" height=\"0.75\" width=\"3\" x=\"169.5\" y=\"325.75\"/><rect fill=\"green\" height=\"0.75\" width=\"3\" x=\"169.5\" y=\"323.5\"/></g><g class=\"shade\"><rect fill=\"white\" height=\"1.25\" width=\"3.6\" x=\"133.2\" y=\"330.5\"/><rect fill=\"white\" height=\"1.25\" width=\"3.6\" x=\"133.2\" y=\"328.25\"/><rect fill=\"green\" height=\"0.75\" width=\"3\" x=\"133.5\" y=\"330.75\"/><rect fill=\"green\" height=\"0.75\" width=\"3\" x=\"133.5\" y=\"328.5\"/></g><g class=\"shade\"><rect fill=\"white\" height=\"1.25\" width=\"3.6\" x=\"94.2\" y=\"360.5\"/><rect fill=\"white\" height=\"1.25\" width=\"3.6\" x=\"94.2\" y=\"358.25\"/><rect fill=\"green\" height=\"0.75\" width=\"3\" x=\"94.5\" y=\"360.75\"/><rect fill=\"green\" height=\"0.75\" width=\"3\" x=\"94.5\" y=\"358.5\"/></g><g class=\"shade\"><rect fill=\"white\" height=\"1.25\" width=\"3.6\" x=\"73.2\" y=\"370.5\"/><rect fill=\"white\" height=\"1.25\" width=\"3.6\" x=\"73.2\" y=\"368.25\"/><rect fill=\"green\" height=\"0.75\" width=\"3\" x=\"73.5\" y=\"370.75\"/><rect fill=\"green\" height=\"0.75\" width=\"3\" x=\"73.5\" y=\"368.5\"/></g><g class=\"shade\"><rect fill=\"white\" height=\"1.25\" width=\"3.6\" x=\"85.2\" y=\"390.5\"/><rect fill=\"white\" height=\"1.25\" width=\"3.6\" x=\"85.2\" y=\"388.25\"/><rect fill=\"green\" height=\"0.75\" width=\"3\" x=\"85.5\" y=\"390.75\"/><rect fill=\"green\" height=\"0.75\" width=\"3\" x=\"85.5\" y=\"388.5\"/></g><g class=\"shade\"><rect fill=\"white\" height=\"1.25\" width=\"3.6\" x=\"97.2\" y=\"395.5\"/><rect fill=\"white\" height=\"1.25\" width=\"3.6\" x=\"97.2\" y=\"393.25\"/><rect fill=\"green\" height=\"0.75\" width=\"3\" x=\"97.5\" y=\"395.75\"/><rect fill=\"green\" height=\"0.75\" width=\"3\" x=\"97.5\" y=\"393.5\"/></g><g class=\"shade\"><rect fill=\"white\" height=\"1.25\" width=\"3.6\" x=\"190.2\" y=\"400.5\"/><rect fill=\"white\" height=\"1.25\" width=\"3.6\" x=\"190.2\" y=\"398.25\"/><rect fill=\"green\" height=\"0.75\" width=\"3\" x=\"190.5\" y=\"400.75\"/><rect fill=\"green\" height=\"0.75\" width=\"3\" x=\"190.5\" y=\"398.5\"/></g><g class=\"shade\"><rect fill=\"white\" height=\"1.25\" width=\"3.6\" x=\"205.2\" y=\"405.5\"/><rect fill=\"white\" height=\"1.25\" width=\"3.6\" x=\"205.2\" y=\"403.25\"/><rect fill=\"green\" height=\"0.75\" width=\"3\" x=\"205.5\" y=\"405.75\"/><rect fill=\"green\" height=\"0.75\" width=\"3\" x=\"205.5\" y=\"403.5\"/></g><g class=\"shade\"><rect fill=\"white\" height=\"1.25\" width=\"3.6\" x=\"190.2\" y=\"410.5\"/><rect fill=\"white\" height=\"1.25\" width=\"3.6\" x=\"190.2\" y=\"408.25\"/><rect fill=\"green\" height=\"0.75\" width=\"3\" x=\"190.5\" y=\"410.75\"/><rect fill=\"green\" height=\"0.75\" width=\"3\" x=\"190.5\" y=\"408.5\"/></g><g class=\"shade\"><rect fill=\"white\" height=\"1.25\" width=\"3.6\" x=\"142.2\" y=\"415.5\"/><rect fill=\"white\" height=\"1.25\" width=\"3.6\" x=\"142.2\" y=\"413.25\"/><rect fill=\"green\" height=\"0.75\" width=\"3\" x=\"142.5\" y=\"415.75\"/><rect fill=\"green\" height=\"0.75\" width=\"3\" x=\"142.5\" y=\"413.5\"/></g><g class=\"shade\"><rect fill=\"white\" height=\"1.25\" width=\"3.6\" x=\"88.2\" y=\"420.5\"/><rect fill=\"white\" height=\"1.25\" width=\"3.6\" x=\"88.2\" y=\"418.25\"/><rect fill=\"green\" height=\"0.75\" width=\"3\" x=\"88.5\" y=\"420.75\"/><rect fill=\"green\" height=\"0.75\" width=\"3\" x=\"88.5\" y=\"418.5\"/></g><g class=\"shade\"><rect fill=\"white\" height=\"1.25\" width=\"3.6\" x=\"157.2\" y=\"430.5\"/><rect fill=\"white\" height=\"1.25\" width=\"3.6\" x=\"157.2\" y=\"428.25\"/><rect fill=\"green\" height=\"0.75\" width=\"3\" x=\"157.5\" y=\"430.75\"/><rect fill=\"green\" height=\"0.75\" width=\"3\" x=\"157.5\" y=\"428.5\"/></g><g class=\"shade\"><rect fill=\"white\" height=\"1.25\" width=\"3.6\" x=\"142.2\" y=\"435.5\"/><rect fill=\"white\" height=\"1.25\" width=\"3.6\" x=\"142.2\" y=\"433.25\"/><rect fill=\"green\" height=\"0.75\" width=\"3\" x=\"142.5\" y=\"435.75\"/><rect fill=\"green\" height=\"0.75\" width=\"3\" x=\"142.5\" y=\"433.5\"/></g><g class=\"shade\"><rect fill=\"white\" height=\"1.25\" width=\"3.6\" x=\"142.2\" y=\"440.5\"/><rect fill=\"white\" height=\"1.25\" width=\"3.6\" x=\"142.2\" y=\"438.25\"/><rect fill=\"green\" height=\"0.75\" width=\"3\" x=\"142.5\" y=\"440.75\"/><rect fill=\"green\" height=\"0.75\" width=\"3\" x=\"142.5\" y=\"438.5\"/></g><g class=\"shade\"><rect fill=\"white\" height=\"1.25\" width=\"3.6\" x=\"145.2\" y=\"445.5\"/><rect fill=\"white\" height=\"1.25\" width=\"3.6\" x=\"145.2\" y=\"443.25\"/><rect fill=\"green\" height=\"0.75\" width=\"3\" x=\"145.5\" y=\"445.75\"/><rect fill=\"green\" height=\"0.75\" width=\"3\" x=\"145.5\" y=\"443.5\"/></g><g class=\"shade\"><rect fill=\"white\" height=\"1.25\" width=\"3.6\" x=\"136.2\" y=\"455.5\"/><rect fill=\"white\" height=\"1.25\" width=\"3.6\" x=\"136.2\" y=\"453.25\"/><rect fill=\"green\" height=\"0.75\" width=\"3\" x=\"136.5\" y=\"455.75\"/><rect fill=\"green\" height=\"0.75\" width=\"3\" x=\"136.5\" y=\"453.5\"/></g><g class=\"shade\"><rect fill=\"white\" height=\"1.25\" width=\"3.6\" x=\"184.2\" y=\"460.5\"/><rect fill=\"white\" height=\"1.25\" width=\"3.6\" x=\"184.2\" y=\"458.25\"/><rect fill=\"green\" height=\"0.75\" width=\"3\" x=\"184.5\" y=\"460.75\"/><rect fill=\"green\" height=\"0.75\" width=\"3\" x=\"184.5\" y=\"458.5\"/></g><g class=\"shade\"><rect fill=\"white\" height=\"1.25\" width=\"3.6\" x=\"163.2\" y=\"470.5\"/><rect fill=\"white\" height=\"1.25\" width=\"3.6\" x=\"163.2\" y=\"468.25\"/><rect fill=\"green\" height=\"0.75\" width=\"3\" x=\"163.5\" y=\"470.75\"/><rect fill=\"green\" height=\"0.75\" width=\"3\" x=\"163.5\" y=\"468.5\"/></g><g class=\"shade\"><rect fill=\"white\" height=\"1.25\" width=\"3.6\" x=\"91.2\" y=\"475.5\"/><rect fill=\"white\" height=\"1.25\" width=\"3.6\" x=\"91.2\" y=\"473.25\"/><rect fill=\"green\" height=\"0.75\" width=\"3\" x=\"91.5\" y=\"475.75\"/><rect fill=\"green\" height=\"0.75\" width=\"3\" x=\"91.5\" y=\"473.5\"/></g><g class=\"shade\"><rect fill=\"white\" height=\"1.25\" width=\"3.6\" x=\"100.2\" y=\"485.5\"/><rect fill=\"white\" height=\"1.25\" width=\"3.6\" x=\"100.2\" y=\"483.25\"/><rect fill=\"green\" height=\"0.75\" width=\"3\" x=\"100.5\" y=\"485.75\"/><rect fill=\"green\" height=\"0.75\" width=\"3\" x=\"100.5\" y=\"483.5\"/></g><g class=\"shade\"><rect fill=\"white\" height=\"1.25\" width=\"3.6\" x=\"139.2\" y=\"490.5\"/><rect fill=\"white\" height=\"1.25\" width=\"3.6\" x=\"139.2\" y=\"488.25\"/><rect fill=\"green\" height=\"0.75\" width=\"3\" x=\"139.5\" y=\"490.75\"/><rect fill=\"green\" height=\"0.75\" width=\"3\" x=\"139.5\" y=\"488.5\"/></g><g class=\"shade\"><rect fill=\"white\" height=\"1.25\" width=\"3.6\" x=\"181.2\" y=\"495.5\"/><rect fill=\"white\" height=\"1.25\" width=\"3.6\" x=\"181.2\" y=\"493.25\"/><rect fill=\"green\" height=\"0.75\" width=\"3\" x=\"181.5\" y=\"495.75\"/><rect fill=\"green\" height=\"0.75\" width=\"3\" x=\"181.5\" y=\"493.5\"/></g><g class=\"shade\"><rect fill=\"white\" height=\"1.25\" width=\"3.6\" x=\"85.2\" y=\"505.5\"/><rect fill=\"white\" height=\"1.25\" width=\"3.6\" x=\"85.2\" y=\"503.25\"/><rect fill=\"green\" height=\"0.75\" width=\"3\" x=\"85.5\" y=\"505.75\"/><rect fill=\"green\" height=\"0.75\" width=\"3\" x=\"85.5\" y=\"503.5\"/></g><g class=\"shade\"><rect fill=\"white\" height=\"1.25\" width=\"156.6\" x=\"82.2\" y=\"0.5\"/><rect fill=\"white\" height=\"1.25\" width=\"156.6\" x=\"82.2\" y=\"-1.75\"/><rect fill=\"greenyellow\" height=\"0.75\" width=\"156\" x=\"82.5\" y=\"0.75\"/><rect fill=\"greenyellow\" height=\"0.75\" width=\"156\" x=\"82.5\" y=\"-1.5\"/></g><g class=\"shade\"><rect fill=\"white\" height=\"1.25\" width=\"42.6\" x=\"49.2\" y=\"5.5\"/><rect fill=\"white\" height=\"1.25\" width=\"42.6\" x=\"49.2\" y=\"3.25\"/><rect fill=\"greenyellow\" height=\"0.75\" width=\"42\" x=\"49.5\" y=\"5.75\"/><rect fill=\"greenyellow\" height=\"0.75\" width=\"42\" x=\"49.5\" y=\"3.5\"/></g><g class=\"shade\"><rect fill=\"white\" height=\"1.25\" width=\"21.6\" x=\"31.2\" y=\"25.5\"/><rect fill=\"white\" height=\"1.25\" width=\"21.6\" x=\"31.2\" y=\"23.25\"/><rect fill=\"greenyellow\" height=\"0.75\" width=\"21\" x=\"31.5\" y=\"25.75\"/><rect fill=\"greenyellow\" height=\"0.75\" width=\"21\" x=\"31.5\" y=\"23.5\"/></g><g class=\"shade\"><rect fill=\"white\" height=\"1.25\" width=\"3.6\" x=\"55.2\" y=\"30.5\"/><rect fill=\"white\" height=\"1.25\" width=\"3.6\" x=\"55.2\" y=\"28.25\"/><rect fill=\"greenyellow\" height=\"0.75\" width=\"3\" x=\"55.5\" y=\"30.75\"/><rect fill=\"greenyellow\" height=\"0.75\" width=\"3\" x=\"55.5\" y=\"28.5\"/></g><g class=\"shade\"><rect fill=\"white\" height=\"1.25\" width=\"15.6\" x=\"100.2\" y=\"35.5\"/><rect fill=\"white\" height=\"1.25\" width=\"15.6\" x=\"100.2\" y=\"33.25\"/><rect fill=\"greenyellow\" height=\"0.75\" width=\"15\" x=\"100.5\" y=\"35.75\"/><rect fill=\"greenyellow\" height=\"0.75\" width=\"15\" x=\"100.5\" y=\"33.5\"/></g><g class=\"shade\"><rect fill=\"white\" height=\"1.25\" width=\"18.6\" x=\"109.2\" y=\"45.5\"/><rect fill=\"white\" height=\"1.25\" width=\"18.6\" x=\"109.2\" y=\"43.25\"/><rect fill=\"greenyellow\" height=\"0.75\" width=\"18\" x=\"109.5\" y=\"45.75\"/><rect fill=\"greenyellow\" height=\"0.75\" width=\"18\" x=\"109.5\" y=\"43.5\"/></g><g class=\"shade\"><rect fill=\"white\" height=\"1.25\" width=\"3.6\" x=\"112.2\" y=\"65.5\"/><rect fill=\"white\" height=\"1.25\" width=\"3.6\" x=\"112.2\" y=\"63.25\"/><rect fill=\"greenyellow\" height=\"0.75\" width=\"3\" x=\"112.5\" y=\"65.75\"/><rect fill=\"greenyellow\" height=\"0.75\" width=\"3\" x=\"112.5\" y=\"63.5\"/></g><g class=\"shade\"><rect fill=\"white\" height=\"1.25\" width=\"3.6\" x=\"133.2\" y=\"65.5\"/><rect fill=\"white\" height=\"1.25\" width=\"3.6\" x=\"133.2\" y=\"63.25\"/><rect fill=\"greenyellow\" height=\"0.75\" width=\"3\" x=\"133.5\" y=\"65.75\"/><rect fill=\"greenyellow\" height=\"0.75\" width=\"3\" x=\"133.5\" y=\"63.5\"/></g><g class=\"shade\"><rect fill=\"white\" height=\"1.25\" width=\"15.6\" x=\"115.2\" y=\"70.5\"/><rect fill=\"white\" height=\"1.25\" width=\"15.6\" x=\"115.2\" y=\"68.25\"/><rect fill=\"greenyellow\" height=\"0.75\" width=\"15\" x=\"115.5\" y=\"70.75\"/><rect fill=\"greenyellow\" height=\"0.75\" width=\"15\" x=\"115.5\" y=\"68.5\"/></g><g class=\"shade\"><rect fill=\"white\" height=\"1.25\" width=\"51.6\" x=\"-13.8\" y=\"75.5\"/><rect fill=\"white\" height=\"1.25\" width=\"51.6\" x=\"-13.8\" y=\"73.25\"/><rect fill=\"greenyellow\" height=\"0.75\" width=\"51\" x=\"-13.5\" y=\"75.75\"/><rect fill=\"greenyellow\" height=\"0.75\" width=\"51\" x=\"-13.5\" y=\"73.5\"/></g><g class=\"shade\"><rect fill=\"white\" height=\"1.25\" width=\"111.6\" x=\"127.2\" y=\"85.5\"/><rect fill=\"white\" height=\"1.25\" width=\"111.6\" x=\"127.2\" y=\"83.25\"/><rect fill=\"greenyellow\" height=\"0.75\" width=\"111\" x=\"127.5\" y=\"85.75\"/><rect fill=\"greenyellow\" height=\"0.75\" width=\"111\" x=\"127.5\" y=\"83.5\"/></g><g class=\"shade\"><rect fill=\"white\" height=\"1.25\" width=\"3.6\" x=\"118.2\" y=\"100.5\"/><rect fill=\"white\" height=\"1.25\" width=\"3.6\" x=\"118.2\" y=\"98.25\"/><rect fill=\"greenyellow\" height=\"0.75\" width=\"3\" x=\"118.5\" y=\"100.75\"/><rect fill=\"greenyellow\" height=\"0.75\" width=\"3\" x=\"118.5\" y=\"98.5\"/></g><g class=\"shade\"><rect fill=\"white\" height=\"1.25\" width=\"66.6\" x=\"115.2\" y=\"120.5\"/><rect fill=\"white\" height=\"1.25\" width=\"66.6\" x=\"115.2\" y=\"118.25\"/><rect fill=\"greenyellow\" height=\"0.75\" width=\"66\" x=\"115.5\" y=\"120.75\"/><rect fill=\"greenyellow\" height=\"0.75\" width=\"66\" x=\"115.5\" y=\"118.5\"/></g><g class=\"shade\"><rect fill=\"white\" height=\"1.25\" width=\"12.6\" x=\"145.2\" y=\"130.5\"/><rect fill=\"white\" height=\"1.25\" width=\"12.6\" x=\"145.2\" y=\"128.25\"/><rect fill=\"greenyellow\" height=\"0.75\" width=\"12\" x=\"145.5\" y=\"130.75\"/><rect fill=\"greenyellow\" height=\"0.75\" width=\"12\" x=\"145.5\" y=\"128.5\"/></g><g class=\"shade\"><rect fill=\"white\" height=\"1.25\" width=\"42.6\" x=\"118.2\" y=\"145.5\"/><rect fill=\"white\" height=\"1.25\" width=\"42.6\" x=\"118.2\" y=\"143.25\"/><rect fill=\"greenyellow\" height=\"0.75\" width=\"42\" x=\"118.5\" y=\"145.75\"/><rect fill=\"greenyellow\" height=\"0.75\" width=\"42\" x=\"118.5\" y=\"143.5\"/></g><g class=\"shade\"><rect fill=\"white\" height=\"1.25\" width=\"12.6\" x=\"148.2\" y=\"155.5\"/><rect fill=\"white\" height=\"1.25\" width=\"12.6\" x=\"148.2\" y=\"153.25\"/><rect fill=\"greenyellow\" height=\"0.75\" width=\"12\" x=\"148.5\" y=\"155.75\"/><rect fill=\"greenyellow\" height=\"0.75\" width=\"12\" x=\"148.5\" y=\"153.5\"/></g><g class=\"shade\"><rect fill=\"white\" height=\"1.25\" width=\"24.6\" x=\"160.2\" y=\"160.5\"/><rect fill=\"white\" height=\"1.25\" width=\"24.6\" x=\"160.2\" y=\"158.25\"/><rect fill=\"greenyellow\" height=\"0.75\" width=\"24\" x=\"160.5\" y=\"160.75\"/><rect fill=\"greenyellow\" height=\"0.75\" width=\"24\" x=\"160.5\" y=\"158.5\"/></g><g class=\"shade\"><rect fill=\"white\" height=\"1.25\" width=\"21.6\" x=\"331.2\" y=\"160.5\"/><rect fill=\"white\" height=\"1.25\" width=\"21.6\" x=\"331.2\" y=\"158.25\"/><rect fill=\"greenyellow\" height=\"0.75\" width=\"21\" x=\"331.5\" y=\"160.75\"/><rect fill=\"greenyellow\" height=\"0.75\" width=\"21\" x=\"331.5\" y=\"158.5\"/></g><g class=\"shade\"><rect fill=\"white\" height=\"1.25\" width=\"27.6\" x=\"346.2\" y=\"175.5\"/><rect fill=\"white\" height=\"1.25\" width=\"27.6\" x=\"346.2\" y=\"173.25\"/><rect fill=\"greenyellow\" height=\"0.75\" width=\"27\" x=\"346.5\" y=\"175.75\"/><rect fill=\"greenyellow\" height=\"0.75\" width=\"27\" x=\"346.5\" y=\"173.5\"/></g><g class=\"shade\"><rect fill=\"white\" height=\"1.25\" width=\"18.6\" x=\"361.2\" y=\"180.5\"/><rect fill=\"white\" height=\"1.25\" width=\"18.6\" x=\"361.2\" y=\"178.25\"/><rect fill=\"greenyellow\" height=\"0.75\" width=\"18\" x=\"361.5\" y=\"180.75\"/><rect fill=\"greenyellow\" height=\"0.75\" width=\"18\" x=\"361.5\" y=\"178.5\"/></g><g class=\"shade\"><rect fill=\"white\" height=\"1.25\" width=\"198.6\" x=\"85.2\" y=\"200.5\"/><rect fill=\"white\" height=\"1.25\" width=\"198.6\" x=\"85.2\" y=\"198.25\"/><rect fill=\"greenyellow\" height=\"0.75\" width=\"198\" x=\"85.5\" y=\"200.75\"/><rect fill=\"greenyellow\" height=\"0.75\" width=\"198\" x=\"85.5\" y=\"198.5\"/></g><g class=\"shade\"><rect fill=\"white\" height=\"1.25\" width=\"3.6\" x=\"241.2\" y=\"205.5\"/><rect fill=\"white\" height=\"1.25\" width=\"3.6\" x=\"241.2\" y=\"203.25\"/><rect fill=\"greenyellow\" height=\"0.75\" width=\"3\" x=\"241.5\" y=\"205.75\"/><rect fill=\"greenyellow\" height=\"0.75\" width=\"3\" x=\"241.5\" y=\"203.5\"/></g><g class=\"shade\"><rect fill=\"white\" height=\"1.25\" width=\"48.6\" x=\"238.2\" y=\"210.5\"/><rect fill=\"white\" height=\"1.25\" width=\"48.6\" x=\"238.2\" y=\"208.25\"/><rect fill=\"greenyellow\" height=\"0.75\" width=\"48\" x=\"238.5\" y=\"210.75\"/><rect fill=\"greenyellow\" height=\"0.75\" width=\"48\" x=\"238.5\" y=\"208.5\"/></g><g class=\"shade\"><rect fill=\"white\" height=\"1.25\" width=\"96.6\" x=\"91.2\" y=\"215.5\"/><rect fill=\"white\" height=\"1.25\" width=\"96.6\" x=\"91.2\" y=\"213.25\"/><rect fill=\"greenyellow\" height=\"0.75\" width=\"96\" x=\"91.5\" y=\"215.75\"/><rect fill=\"greenyellow\" height=\"0.75\" width=\"96\" x=\"91.5\" y=\"213.5\"/></g><g class=\"shade\"><rect fill=\"white\" height=\"1.25\" width=\"15.6\" x=\"91.2\" y=\"220.5\"/><rect fill=\"white\" height=\"1.25\" width=\"15.6\" x=\"91.2\" y=\"218.25\"/><rect fill=\"greenyellow\" height=\"0.75\" width=\"15\" x=\"91.5\" y=\"220.75\"/><rect fill=\"greenyellow\" height=\"0.75\" width=\"15\" x=\"91.5\" y=\"218.5\"/></g><g class=\"shade\"><rect fill=\"white\" height=\"1.25\" width=\"9.6\" x=\"88.2\" y=\"245.5\"/><rect fill=\"white\" height=\"1.25\" width=\"9.6\" x=\"88.2\" y=\"243.25\"/><rect fill=\"greenyellow\" height=\"0.75\" width=\"9\" x=\"88.5\" y=\"245.75\"/><rect fill=\"greenyellow\" height=\"0.75\" width=\"9\" x=\"88.5\" y=\"243.5\"/></g><g class=\"shade\"><rect fill=\"white\" height=\"1.25\" width=\"9.6\" x=\"97.2\" y=\"250.5\"/><rect fill=\"white\" height=\"1.25\" width=\"9.6\" x=\"97.2\" y=\"248.25\"/><rect fill=\"greenyellow\" height=\"0.75\" width=\"9\" x=\"97.5\" y=\"250.75\"/><rect fill=\"greenyellow\" height=\"0.75\" width=\"9\" x=\"97.5\" y=\"248.5\"/></g><g class=\"shade\"><rect fill=\"white\" height=\"1.25\" width=\"78.6\" x=\"-124.8\" y=\"255.5\"/><rect fill=\"white\" height=\"1.25\" width=\"78.6\" x=\"-124.8\" y=\"253.25\"/><rect fill=\"greenyellow\" height=\"0.75\" width=\"78\" x=\"-124.5\" y=\"255.75\"/><rect fill=\"greenyellow\" height=\"0.75\" width=\"78\" x=\"-124.5\" y=\"253.5\"/></g><g class=\"shade\"><rect fill=\"white\" height=\"1.25\" width=\"42.6\" x=\"46.2\" y=\"255.5\"/><rect fill=\"white\" height=\"1.25\" width=\"42.6\" x=\"46.2\" y=\"253.25\"/><rect fill=\"greenyellow\" height=\"0.75\" width=\"42\" x=\"46.5\" y=\"255.75\"/><rect fill=\"greenyellow\" height=\"0.75\" width=\"42\" x=\"46.5\" y=\"253.5\"/></g><g class=\"shade\"><rect fill=\"white\" height=\"1.25\" width=\"57.6\" x=\"-55.8\" y=\"260.5\"/><rect fill=\"white\" height=\"1.25\" width=\"57.6\" x=\"-55.8\" y=\"258.25\"/><rect fill=\"greenyellow\" height=\"0.75\" width=\"57\" x=\"-55.5\" y=\"260.75\"/><rect fill=\"greenyellow\" height=\"0.75\" width=\"57\" x=\"-55.5\" y=\"258.5\"/></g><g class=\"shade\"><rect fill=\"white\" height=\"1.25\" width=\"18.6\" x=\"106.2\" y=\"260.5\"/><rect fill=\"white\" height=\"1.25\" width=\"18.6\" x=\"106.2\" y=\"258.25\"/><rect fill=\"greenyellow\" height=\"0.75\" width=\"18\" x=\"106.5\" y=\"260.75\"/><rect fill=\"greenyellow\" height=\"0.75\" width=\"18\" x=\"106.5\" y=\"258.5\"/></g><g class=\"shade\"><rect fill=\"white\" height=\"1.25\" width=\"3.6\" x=\"109.2\" y=\"280.5\"/><rect fill=\"white\" height=\"1.25\" width=\"3.6\" x=\"109.2\" y=\"278.25\"/><rect fill=\"greenyellow\" height=\"0.75\" width=\"3\" x=\"109.5\" y=\"280.75\"/><rect fill=\"greenyellow\" height=\"0.75\" width=\"3\" x=\"109.5\" y=\"278.5\"/></g><g class=\"shade\"><rect fill=\"white\" height=\"1.25\" width=\"3.6\" x=\"109.2\" y=\"305.5\"/><rect fill=\"white\" height=\"1.25\" width=\"3.6\" x=\"109.2\" y=\"303.25\"/><rect fill=\"greenyellow\" height=\"0.75\" width=\"3\" x=\"109.5\" y=\"305.75\"/><rect fill=\"greenyellow\" height=\"0.75\" width=\"3\" x=\"109.5\" y=\"303.5\"/></g><g class=\"shade\"><rect fill=\"white\" height=\"1.25\" width=\"75.6\" x=\"76.2\" y=\"315.5\"/><rect fill=\"white\" height=\"1.25\" width=\"75.6\" x=\"76.2\" y=\"313.25\"/><rect fill=\"greenyellow\" height=\"0.75\" width=\"75\" x=\"76.5\" y=\"315.75\"/><rect fill=\"greenyellow\" height=\"0.75\" width=\"75\" x=\"76.5\" y=\"313.5\"/></g><g class=\"shade\"><rect fill=\"white\" height=\"1.25\" width=\"75.6\" x=\"79.2\" y=\"320.5\"/><rect fill=\"white\" height=\"1.25\" width=\"75.6\" x=\"79.2\" y=\"318.25\"/><rect fill=\"greenyellow\" height=\"0.75\" width=\"75\" x=\"79.5\" y=\"320.75\"/><rect fill=\"greenyellow\" height=\"0.75\" width=\"75\" x=\"79.5\" y=\"318.5\"/></g><g class=\"shade\"><rect fill=\"white\" height=\"1.25\" width=\"51.6\" x=\"118.2\" y=\"325.5\"/><rect fill=\"white\" height=\"1.25\" width=\"51.6\" x=\"118.2\" y=\"323.25\"/><rect fill=\"greenyellow\" height=\"0.75\" width=\"51\" x=\"118.5\" y=\"325.75\"/><rect fill=\"greenyellow\" height=\"0.75\" width=\"51\" x=\"118.5\" y=\"323.5\"/></g><g class=\"shade\"><rect fill=\"white\" height=\"1.25\" width=\"39.6\" x=\"94.2\" y=\"330.5\"/><rect fill=\"white\" height=\"1.25\" width=\"39.6\" x=\"94.2\" y=\"328.25\"/><rect fill=\"greenyellow\" height=\"0.75\" width=\"39\" x=\"94.5\" y=\"330.75\"/><rect fill=\"greenyellow\" height=\"0.75\" width=\"39\" x=\"94.5\" y=\"328.5\"/></g><g class=\"shade\"><rect fill=\"white\" height=\"1.25\" width=\"6.6\" x=\"67.2\" y=\"345.5\"/><rect fill=\"white\" height=\"1.25\" width=\"6.6\" x=\"67.2\" y=\"343.25\"/><rect fill=\"greenyellow\" height=\"0.75\" width=\"6\" x=\"67.5\" y=\"345.75\"/><rect fill=\"greenyellow\" height=\"0.75\" width=\"6\" x=\"67.5\" y=\"343.5\"/></g><g class=\"shade\"><rect fill=\"white\" height=\"1.25\" width=\"21.6\" x=\"73.2\" y=\"360.5\"/><rect fill=\"white\" height=\"1.25\" width=\"21.6\" x=\"73.2\" y=\"358.25\"/><rect fill=\"greenyellow\" height=\"0.75\" width=\"21\" x=\"73.5\" y=\"360.75\"/><rect fill=\"greenyellow\" height=\"0.75\" width=\"21\" x=\"73.5\" y=\"358.5\"/></g><g class=\"shade\"><rect fill=\"white\" height=\"1.25\" width=\"3.6\" x=\"70.2\" y=\"370.5\"/><rect fill=\"white\" height=\"1.25\" width=\"3.6\" x=\"70.2\" y=\"368.25\"/><rect fill=\"greenyellow\" height=\"0.75\" width=\"3\" x=\"70.5\" y=\"370.75\"/><rect fill=\"greenyellow\" height=\"0.75\" width=\"3\" x=\"70.5\" y=\"368.5\"/></g><g class=\"shade\"><rect fill=\"white\" height=\"1.25\" width=\"15.6\" x=\"-19.8\" y=\"380.5\"/><rect fill=\"white\" height=\"1.25\" width=\"15.6\" x=\"-19.8\" y=\"378.25\"/><rect fill=\"greenyellow\" height=\"0.75\" width=\"15\" x=\"-19.5\" y=\"380.75\"/><rect fill=\"greenyellow\" height=\"0.75\" width=\"15\" x=\"-19.5\" y=\"378.5\"/></g><g class=\"shade\"><rect fill=\"white\" height=\"1.25\" width=\"9.6\" x=\"76.2\" y=\"390.5\"/><rect fill=\"white\" height=\"1.25\" width=\"9.6\" x=\"76.2\" y=\"388.25\"/><rect fill=\"greenyellow\" height=\"0.75\" width=\"9\" x=\"76.5\" y=\"390.75\"/><rect fill=\"greenyellow\" height=\"0.75\" width=\"9\" x=\"76.5\" y=\"388.5\"/></g><g class=\"shade\"><rect fill=\"white\" height=\"1.25\" width=\"21.6\" x=\"76.2\" y=\"395.5\"/><rect fill=\"white\" height=\"1.25\" width=\"21.6\" x=\"76.2\" y=\"393.25\"/><rect fill=\"greenyellow\" height=\"0.75\" width=\"21\" x=\"76.5\" y=\"395.75\"/><rect fill=\"greenyellow\" height=\"0.75\" width=\"21\" x=\"76.5\" y=\"393.5\"/></g><g class=\"shade\"><rect fill=\"white\" height=\"1.25\" width=\"69.6\" x=\"97.2\" y=\"400.5\"/><rect fill=\"white\" height=\"1.25\" width=\"69.6\" x=\"97.2\" y=\"398.25\"/><rect fill=\"greenyellow\" height=\"0.75\" width=\"69\" x=\"97.5\" y=\"400.75\"/><rect fill=\"greenyellow\" height=\"0.75\" width=\"69\" x=\"97.5\" y=\"398.5\"/></g><g class=\"shade\"><rect fill=\"white\" height=\"1.25\" width=\"21.6\" x=\"169.2\" y=\"400.5\"/><rect fill=\"white\" height=\"1.25\" width=\"21.6\" x=\"169.2\" y=\"398.25\"/><rect fill=\"greenyellow\" height=\"0.75\" width=\"21\" x=\"169.5\" y=\"400.75\"/><rect fill=\"greenyellow\" height=\"0.75\" width=\"21\" x=\"169.5\" y=\"398.5\"/></g><g class=\"shade\"><rect fill=\"white\" height=\"1.25\" width=\"33.6\" x=\"172.2\" y=\"405.5\"/><rect fill=\"white\" height=\"1.25\" width=\"33.6\" x=\"172.2\" y=\"403.25\"/><rect fill=\"greenyellow\" height=\"0.75\" width=\"33\" x=\"172.5\" y=\"405.75\"/><rect fill=\"greenyellow\" height=\"0.75\" width=\"33\" x=\"172.5\" y=\"403.5\"/></g><g class=\"shade\"><rect fill=\"white\" height=\"1.25\" width=\"42.6\" x=\"148.2\" y=\"410.5\"/><rect fill=\"white\" height=\"1.25\" width=\"42.6\" x=\"148.2\" y=\"408.25\"/><rect fill=\"greenyellow\" height=\"0.75\" width=\"42\" x=\"148.5\" y=\"410.75\"/><rect fill=\"greenyellow\" height=\"0.75\" width=\"42\" x=\"148.5\" y=\"408.5\"/></g><g class=\"shade\"><rect fill=\"white\" height=\"1.25\" width=\"3.6\" x=\"85.2\" y=\"420.5\"/><rect fill=\"white\" height=\"1.25\" width=\"3.6\" x=\"85.2\" y=\"418.25\"/><rect fill=\"greenyellow\" height=\"0.75\" width=\"3\" x=\"85.5\" y=\"420.75\"/><rect fill=\"greenyellow\" height=\"0.75\" width=\"3\" x=\"85.5\" y=\"418.5\"/></g><g class=\"shade\"><rect fill=\"white\" height=\"1.25\" width=\"75.6\" x=\"82.2\" y=\"430.5\"/><rect fill=\"white\" height=\"1.25\" width=\"75.6\" x=\"82.2\" y=\"428.25\"/><rect fill=\"greenyellow\" height=\"0.75\" width=\"75\" x=\"82.5\" y=\"430.75\"/><rect fill=\"greenyellow\" height=\"0.75\" width=\"75\" x=\"82.5\" y=\"428.5\"/></g><g class=\"shade\"><rect fill=\"white\" height=\"1.25\" width=\"12.6\" x=\"130.2\" y=\"435.5\"/><rect fill=\"white\" height=\"1.25\" width=\"12.6\" x=\"130.2\" y=\"433.25\"/><rect fill=\"greenyellow\" height=\"0.75\" width=\"12\" x=\"130.5\" y=\"435.75\"/><rect fill=\"greenyellow\" height=\"0.75\" width=\"12\" x=\"130.5\" y=\"433.5\"/></g><g class=\"shade\"><rect fill=\"white\" height=\"1.25\" width=\"15.6\" x=\"127.2\" y=\"440.5\"/><rect fill=\"white\" height=\"1.25\" width=\"15.6\" x=\"127.2\" y=\"438.25\"/><rect fill=\"greenyellow\" height=\"0.75\" width=\"15\" x=\"127.5\" y=\"440.75\"/><rect fill=\"greenyellow\" height=\"0.75\" width=\"15\" x=\"127.5\" y=\"438.5\"/></g><g class=\"shade\"><rect fill=\"white\" height=\"1.25\" width=\"9.6\" x=\"136.2\" y=\"445.5\"/><rect fill=\"white\" height=\"1.25\" width=\"9.6\" x=\"136.2\" y=\"443.25\"/><rect fill=\"greenyellow\" height=\"0.75\" width=\"9\" x=\"136.5\" y=\"445.75\"/><rect fill=\"greenyellow\" height=\"0.75\" width=\"9\" x=\"136.5\" y=\"443.5\"/></g><g class=\"shade\"><rect fill=\"white\" height=\"1.25\" width=\"39.6\" x=\"97.2\" y=\"455.5\"/><rect fill=\"white\" height=\"1.25\" width=\"39.6\" x=\"97.2\" y=\"453.25\"/><rect fill=\"greenyellow\" height=\"0.75\" width=\"39\" x=\"97.5\" y=\"455.75\"/><rect fill=\"greenyellow\" height=\"0.75\" width=\"39\" x=\"97.5\" y=\"453.5\"/></g><g class=\"shade\"><rect fill=\"white\" height=\"1.25\" width=\"54.6\" x=\"130.2\" y=\"460.5\"/><rect fill=\"white\" height=\"1.25\" width=\"54.6\" x=\"130.2\" y=\"458.25\"/><rect fill=\"greenyellow\" height=\"0.75\" width=\"54\" x=\"130.5\" y=\"460.75\"/><rect fill=\"greenyellow\" height=\"0.75\" width=\"54\" x=\"130.5\" y=\"458.5\"/></g><g class=\"shade\"><rect fill=\"white\" height=\"1.25\" width=\"63.6\" x=\"100.2\" y=\"470.5\"/><rect fill=\"white\" height=\"1.25\" width=\"63.6\" x=\"100.2\" y=\"468.25\"/><rect fill=\"greenyellow\" height=\"0.75\" width=\"63\" x=\"100.5\" y=\"470.75\"/><rect fill=\"greenyellow\" height=\"0.75\" width=\"63\" x=\"100.5\" y=\"468.5\"/></g><g class=\"shade\"><rect fill=\"white\" height=\"1.25\" width=\"30.6\" x=\"61.2\" y=\"475.5\"/><rect fill=\"white\" height=\"1.25\" width=\"30.6\" x=\"61.2\" y=\"473.25\"/><rect fill=\"greenyellow\" height=\"0.75\" width=\"30\" x=\"61.5\" y=\"475.75\"/><rect fill=\"greenyellow\" height=\"0.75\" width=\"30\" x=\"61.5\" y=\"473.5\"/></g><g class=\"shade\"><rect fill=\"white\" height=\"1.25\" width=\"33.6\" x=\"67.2\" y=\"485.5\"/><rect fill=\"white\" height=\"1.25\" width=\"33.6\" x=\"67.2\" y=\"483.25\"/><rect fill=\"greenyellow\" height=\"0.75\" width=\"33\" x=\"67.5\" y=\"485.75\"/><rect fill=\"greenyellow\" height=\"0.75\" width=\"33\" x=\"67.5\" y=\"483.5\"/></g><g class=\"shade\"><rect fill=\"white\" height=\"1.25\" width=\"57.6\" x=\"82.2\" y=\"490.5\"/><rect fill=\"white\" height=\"1.25\" width=\"57.6\" x=\"82.2\" y=\"488.25\"/><rect fill=\"greenyellow\" height=\"0.75\" width=\"57\" x=\"82.5\" y=\"490.75\"/><rect fill=\"greenyellow\" height=\"0.75\" width=\"57\" x=\"82.5\" y=\"488.5\"/></g><g class=\"shade\"><rect fill=\"white\" height=\"1.25\" width=\"87.6\" x=\"94.2\" y=\"495.5\"/><rect fill=\"white\" height=\"1.25\" width=\"87.6\" x=\"94.2\" y=\"493.25\"/><rect fill=\"greenyellow\" height=\"0.75\" width=\"87\" x=\"94.5\" y=\"495.75\"/><rect fill=\"greenyellow\" height=\"0.75\" width=\"87\" x=\"94.5\" y=\"493.5\"/></g><g class=\"shade\"><rect fill=\"white\" height=\"1.25\" width=\"15.6\" x=\"82.2\" y=\"500.5\"/><rect fill=\"white\" height=\"1.25\" width=\"15.6\" x=\"82.2\" y=\"498.25\"/><rect fill=\"greenyellow\" height=\"0.75\" width=\"15\" x=\"82.5\" y=\"500.75\"/><rect fill=\"greenyellow\" height=\"0.75\" width=\"15\" x=\"82.5\" y=\"498.5\"/></g><g class=\"shade\"><rect fill=\"white\" height=\"1.25\" width=\"6.6\" x=\"79.2\" y=\"505.5\"/><rect fill=\"white\" height=\"1.25\" width=\"6.6\" x=\"79.2\" y=\"503.25\"/><rect fill=\"greenyellow\" height=\"0.75\" width=\"6\" x=\"79.5\" y=\"505.75\"/><rect fill=\"greenyellow\" height=\"0.75\" width=\"6\" x=\"79.5\" y=\"503.5\"/></g><g class=\"shade\"><rect fill=\"white\" height=\"1.25\" width=\"3.6\" x=\"-1.8\" y=\"0.5\"/><rect fill=\"white\" height=\"1.25\" width=\"3.6\" x=\"-1.8\" y=\"-1.75\"/><rect fill=\"red\" height=\"0.75\" width=\"3\" x=\"-1.5\" y=\"0.75\"/><rect fill=\"red\" height=\"0.75\" width=\"3\" x=\"-1.5\" y=\"-1.5\"/></g><g class=\"shade\"><rect fill=\"white\" height=\"1.25\" width=\"3.6\" x=\"16.2\" y=\"5.5\"/><rect fill=\"white\" height=\"1.25\" width=\"3.6\" x=\"16.2\" y=\"3.25\"/><rect fill=\"red\" height=\"0.75\" width=\"3\" x=\"16.5\" y=\"5.75\"/><rect fill=\"red\" height=\"0.75\" width=\"3\" x=\"16.5\" y=\"3.5\"/></g><g class=\"shade\"><rect fill=\"white\" height=\"1.25\" width=\"3.6\" x=\"-49.8\" y=\"10.5\"/><rect fill=\"white\" height=\"1.25\" width=\"3.6\" x=\"-49.8\" y=\"8.25\"/><rect fill=\"red\" height=\"0.75\" width=\"3\" x=\"-49.5\" y=\"10.75\"/><rect fill=\"red\" height=\"0.75\" width=\"3\" x=\"-49.5\" y=\"8.5\"/></g><g class=\"shade\"><rect fill=\"white\" height=\"1.25\" width=\"3.6\" x=\"-79.8\" y=\"15.5\"/><rect fill=\"white\" height=\"1.25\" width=\"3.6\" x=\"-79.8\" y=\"13.25\"/><rect fill=\"red\" height=\"0.75\" width=\"3\" x=\"-79.5\" y=\"15.75\"/><rect fill=\"red\" height=\"0.75\" width=\"3\" x=\"-79.5\" y=\"13.5\"/></g><g class=\"shade\"><rect fill=\"white\" height=\"1.25\" width=\"3.6\" x=\"-13.8\" y=\"20.5\"/><rect fill=\"white\" height=\"1.25\" width=\"3.6\" x=\"-13.8\" y=\"18.25\"/><rect fill=\"red\" height=\"0.75\" width=\"3\" x=\"-13.5\" y=\"20.75\"/><rect fill=\"red\" height=\"0.75\" width=\"3\" x=\"-13.5\" y=\"18.5\"/></g><g class=\"shade\"><rect fill=\"white\" height=\"1.25\" width=\"3.6\" x=\"7.2\" y=\"40.5\"/><rect fill=\"white\" height=\"1.25\" width=\"3.6\" x=\"7.2\" y=\"38.25\"/><rect fill=\"red\" height=\"0.75\" width=\"3\" x=\"7.5\" y=\"40.75\"/><rect fill=\"red\" height=\"0.75\" width=\"3\" x=\"7.5\" y=\"38.5\"/></g><g class=\"shade\"><rect fill=\"white\" height=\"1.25\" width=\"3.6\" x=\"-94.8\" y=\"50.5\"/><rect fill=\"white\" height=\"1.25\" width=\"3.6\" x=\"-94.8\" y=\"48.25\"/><rect fill=\"red\" height=\"0.75\" width=\"3\" x=\"-94.5\" y=\"50.75\"/><rect fill=\"red\" height=\"0.75\" width=\"3\" x=\"-94.5\" y=\"48.5\"/></g><g class=\"shade\"><rect fill=\"white\" height=\"1.25\" width=\"3.6\" x=\"4.2\" y=\"55.5\"/><rect fill=\"white\" height=\"1.25\" width=\"3.6\" x=\"4.2\" y=\"53.25\"/><rect fill=\"red\" height=\"0.75\" width=\"3\" x=\"4.5\" y=\"55.75\"/><rect fill=\"red\" height=\"0.75\" width=\"3\" x=\"4.5\" y=\"53.5\"/></g><g class=\"shade\"><rect fill=\"white\" height=\"1.25\" width=\"3.6\" x=\"16.2\" y=\"60.5\"/><rect fill=\"white\" height=\"1.25\" width=\"3.6\" x=\"16.2\" y=\"58.25\"/><rect fill=\"red\" height=\"0.75\" width=\"3\" x=\"16.5\" y=\"60.75\"/><rect fill=\"red\" height=\"0.75\" width=\"3\" x=\"16.5\" y=\"58.5\"/></g><g class=\"shade\"><rect fill=\"white\" height=\"1.25\" width=\"3.6\" x=\"-28.8\" y=\"75.5\"/><rect fill=\"white\" height=\"1.25\" width=\"3.6\" x=\"-28.8\" y=\"73.25\"/><rect fill=\"red\" height=\"0.75\" width=\"3\" x=\"-28.5\" y=\"75.75\"/><rect fill=\"red\" height=\"0.75\" width=\"3\" x=\"-28.5\" y=\"73.5\"/></g><g class=\"shade\"><rect fill=\"white\" height=\"1.25\" width=\"3.6\" x=\"28.2\" y=\"80.5\"/><rect fill=\"white\" height=\"1.25\" width=\"3.6\" x=\"28.2\" y=\"78.25\"/><rect fill=\"red\" height=\"0.75\" width=\"3\" x=\"28.5\" y=\"80.75\"/><rect fill=\"red\" height=\"0.75\" width=\"3\" x=\"28.5\" y=\"78.5\"/></g><g class=\"shade\"><rect fill=\"white\" height=\"1.25\" width=\"3.6\" x=\"58.2\" y=\"90.5\"/><rect fill=\"white\" height=\"1.25\" width=\"3.6\" x=\"58.2\" y=\"88.25\"/><rect fill=\"red\" height=\"0.75\" width=\"3\" x=\"58.5\" y=\"90.75\"/><rect fill=\"red\" height=\"0.75\" width=\"3\" x=\"58.5\" y=\"88.5\"/></g><g class=\"shade\"><rect fill=\"white\" height=\"1.25\" width=\"3.6\" x=\"76.2\" y=\"95.5\"/><rect fill=\"white\" height=\"1.25\" width=\"3.6\" x=\"76.2\" y=\"93.25\"/><rect fill=\"red\" height=\"0.75\" width=\"3\" x=\"76.5\" y=\"95.75\"/><rect fill=\"red\" height=\"0.75\" width=\"3\" x=\"76.5\" y=\"93.5\"/></g><g class=\"shade\"><rect fill=\"white\" height=\"1.25\" width=\"3.6\" x=\"67.2\" y=\"105.5\"/><rect fill=\"white\" height=\"1.25\" width=\"3.6\" x=\"67.2\" y=\"103.25\"/><rect fill=\"red\" height=\"0.75\" width=\"3\" x=\"67.5\" y=\"105.75\"/><rect fill=\"red\" height=\"0.75\" width=\"3\" x=\"67.5\" y=\"103.5\"/></g><g class=\"shade\"><rect fill=\"white\" height=\"1.25\" width=\"3.6\" x=\"64.2\" y=\"110.5\"/><rect fill=\"white\" height=\"1.25\" width=\"3.6\" x=\"64.2\" y=\"108.25\"/><rect fill=\"red\" height=\"0.75\" width=\"3\" x=\"64.5\" y=\"110.75\"/><rect fill=\"red\" height=\"0.75\" width=\"3\" x=\"64.5\" y=\"108.5\"/></g><g class=\"shade\"><rect fill=\"white\" height=\"1.25\" width=\"3.6\" x=\"52.2\" y=\"115.5\"/><rect fill=\"white\" height=\"1.25\" width=\"3.6\" x=\"52.2\" y=\"113.25\"/><rect fill=\"red\" height=\"0.75\" width=\"3\" x=\"52.5\" y=\"115.75\"/><rect fill=\"red\" height=\"0.75\" width=\"3\" x=\"52.5\" y=\"113.5\"/></g><g class=\"shade\"><rect fill=\"white\" height=\"1.25\" width=\"3.6\" x=\"10.2\" y=\"125.5\"/><rect fill=\"white\" height=\"1.25\" width=\"3.6\" x=\"10.2\" y=\"123.25\"/><rect fill=\"red\" height=\"0.75\" width=\"3\" x=\"10.5\" y=\"125.75\"/><rect fill=\"red\" height=\"0.75\" width=\"3\" x=\"10.5\" y=\"123.5\"/></g><g class=\"shade\"><rect fill=\"white\" height=\"1.25\" width=\"3.6\" x=\"7.2\" y=\"135.5\"/><rect fill=\"white\" height=\"1.25\" width=\"3.6\" x=\"7.2\" y=\"133.25\"/><rect fill=\"red\" height=\"0.75\" width=\"3\" x=\"7.5\" y=\"135.75\"/><rect fill=\"red\" height=\"0.75\" width=\"3\" x=\"7.5\" y=\"133.5\"/></g><g class=\"shade\"><rect fill=\"white\" height=\"1.25\" width=\"3.6\" x=\"43.2\" y=\"140.5\"/><rect fill=\"white\" height=\"1.25\" width=\"3.6\" x=\"43.2\" y=\"138.25\"/><rect fill=\"red\" height=\"0.75\" width=\"3\" x=\"43.5\" y=\"140.75\"/><rect fill=\"red\" height=\"0.75\" width=\"3\" x=\"43.5\" y=\"138.5\"/></g><g class=\"shade\"><rect fill=\"white\" height=\"1.25\" width=\"3.6\" x=\"55.2\" y=\"150.5\"/><rect fill=\"white\" height=\"1.25\" width=\"3.6\" x=\"55.2\" y=\"148.25\"/><rect fill=\"red\" height=\"0.75\" width=\"3\" x=\"55.5\" y=\"150.75\"/><rect fill=\"red\" height=\"0.75\" width=\"3\" x=\"55.5\" y=\"148.5\"/></g><g class=\"shade\"><rect fill=\"white\" height=\"1.25\" width=\"3.6\" x=\"223.2\" y=\"165.5\"/><rect fill=\"white\" height=\"1.25\" width=\"3.6\" x=\"223.2\" y=\"163.25\"/><rect fill=\"red\" height=\"0.75\" width=\"3\" x=\"223.5\" y=\"165.75\"/><rect fill=\"red\" height=\"0.75\" width=\"3\" x=\"223.5\" y=\"163.5\"/></g><g class=\"shade\"><rect fill=\"white\" height=\"1.25\" width=\"3.6\" x=\"130.2\" y=\"170.5\"/><rect fill=\"white\" height=\"1.25\" width=\"3.6\" x=\"130.2\" y=\"168.25\"/><rect fill=\"red\" height=\"0.75\" width=\"3\" x=\"130.5\" y=\"170.75\"/><rect fill=\"red\" height=\"0.75\" width=\"3\" x=\"130.5\" y=\"168.5\"/></g><g class=\"shade\"><rect fill=\"white\" height=\"1.25\" width=\"3.6\" x=\"49.2\" y=\"185.5\"/><rect fill=\"white\" height=\"1.25\" width=\"3.6\" x=\"49.2\" y=\"183.25\"/><rect fill=\"red\" height=\"0.75\" width=\"3\" x=\"49.5\" y=\"185.75\"/><rect fill=\"red\" height=\"0.75\" width=\"3\" x=\"49.5\" y=\"183.5\"/></g><g class=\"shade\"><rect fill=\"white\" height=\"1.25\" width=\"3.6\" x=\"61.2\" y=\"190.5\"/><rect fill=\"white\" height=\"1.25\" width=\"3.6\" x=\"61.2\" y=\"188.25\"/><rect fill=\"red\" height=\"0.75\" width=\"3\" x=\"61.5\" y=\"190.75\"/><rect fill=\"red\" height=\"0.75\" width=\"3\" x=\"61.5\" y=\"188.5\"/></g><g class=\"shade\"><rect fill=\"white\" height=\"1.25\" width=\"3.6\" x=\"64.2\" y=\"195.5\"/><rect fill=\"white\" height=\"1.25\" width=\"3.6\" x=\"64.2\" y=\"193.25\"/><rect fill=\"red\" height=\"0.75\" width=\"3\" x=\"64.5\" y=\"195.75\"/><rect fill=\"red\" height=\"0.75\" width=\"3\" x=\"64.5\" y=\"193.5\"/></g><g class=\"shade\"><rect fill=\"white\" height=\"1.25\" width=\"3.6\" x=\"10.2\" y=\"230.5\"/><rect fill=\"white\" height=\"1.25\" width=\"3.6\" x=\"10.2\" y=\"228.25\"/><rect fill=\"red\" height=\"0.75\" width=\"3\" x=\"10.5\" y=\"230.75\"/><rect fill=\"red\" height=\"0.75\" width=\"3\" x=\"10.5\" y=\"228.5\"/></g><g class=\"shade\"><rect fill=\"white\" height=\"1.25\" width=\"3.6\" x=\"34.2\" y=\"235.5\"/><rect fill=\"white\" height=\"1.25\" width=\"3.6\" x=\"34.2\" y=\"233.25\"/><rect fill=\"red\" height=\"0.75\" width=\"3\" x=\"34.5\" y=\"235.75\"/><rect fill=\"red\" height=\"0.75\" width=\"3\" x=\"34.5\" y=\"233.5\"/></g><g class=\"shade\"><rect fill=\"white\" height=\"1.25\" width=\"3.6\" x=\"46.2\" y=\"240.5\"/><rect fill=\"white\" height=\"1.25\" width=\"3.6\" x=\"46.2\" y=\"238.25\"/><rect fill=\"red\" height=\"0.75\" width=\"3\" x=\"46.5\" y=\"240.75\"/><rect fill=\"red\" height=\"0.75\" width=\"3\" x=\"46.5\" y=\"238.5\"/></g><g class=\"shade\"><rect fill=\"white\" height=\"1.25\" width=\"3.6\" x=\"-148.8\" y=\"255.5\"/><rect fill=\"white\" height=\"1.25\" width=\"3.6\" x=\"-148.8\" y=\"253.25\"/><rect fill=\"red\" height=\"0.75\" width=\"3\" x=\"-148.5\" y=\"255.75\"/><rect fill=\"red\" height=\"0.75\" width=\"3\" x=\"-148.5\" y=\"253.5\"/></g><g class=\"shade\"><rect fill=\"white\" height=\"1.25\" width=\"3.6\" x=\"-10.8\" y=\"265.5\"/><rect fill=\"white\" height=\"1.25\" width=\"3.6\" x=\"-10.8\" y=\"263.25\"/><rect fill=\"red\" height=\"0.75\" width=\"3\" x=\"-10.5\" y=\"265.75\"/><rect fill=\"red\" height=\"0.75\" width=\"3\" x=\"-10.5\" y=\"263.5\"/></g><g class=\"shade\"><rect fill=\"white\" height=\"1.25\" width=\"3.6\" x=\"-106.8\" y=\"270.5\"/><rect fill=\"white\" height=\"1.25\" width=\"3.6\" x=\"-106.8\" y=\"268.25\"/><rect fill=\"red\" height=\"0.75\" width=\"3\" x=\"-106.5\" y=\"270.75\"/><rect fill=\"red\" height=\"0.75\" width=\"3\" x=\"-106.5\" y=\"268.5\"/></g><g class=\"shade\"><rect fill=\"white\" height=\"1.25\" width=\"3.6\" x=\"55.2\" y=\"275.5\"/><rect fill=\"white\" height=\"1.25\" width=\"3.6\" x=\"55.2\" y=\"273.25\"/><rect fill=\"red\" height=\"0.75\" width=\"3\" x=\"55.5\" y=\"275.75\"/><rect fill=\"red\" height=\"0.75\" width=\"3\" x=\"55.5\" y=\"273.5\"/></g><g class=\"shade\"><rect fill=\"white\" height=\"1.25\" width=\"3.6\" x=\"58.2\" y=\"285.5\"/><rect fill=\"white\" height=\"1.25\" width=\"3.6\" x=\"58.2\" y=\"283.25\"/><rect fill=\"red\" height=\"0.75\" width=\"3\" x=\"58.5\" y=\"285.75\"/><rect fill=\"red\" height=\"0.75\" width=\"3\" x=\"58.5\" y=\"283.5\"/></g><g class=\"shade\"><rect fill=\"white\" height=\"1.25\" width=\"3.6\" x=\"64.2\" y=\"290.5\"/><rect fill=\"white\" height=\"1.25\" width=\"3.6\" x=\"64.2\" y=\"288.25\"/><rect fill=\"red\" height=\"0.75\" width=\"3\" x=\"64.5\" y=\"290.75\"/><rect fill=\"red\" height=\"0.75\" width=\"3\" x=\"64.5\" y=\"288.5\"/></g><g class=\"shade\"><rect fill=\"white\" height=\"1.25\" width=\"3.6\" x=\"67.2\" y=\"295.5\"/><rect fill=\"white\" height=\"1.25\" width=\"3.6\" x=\"67.2\" y=\"293.25\"/><rect fill=\"red\" height=\"0.75\" width=\"3\" x=\"67.5\" y=\"295.75\"/><rect fill=\"red\" height=\"0.75\" width=\"3\" x=\"67.5\" y=\"293.5\"/></g><g class=\"shade\"><rect fill=\"white\" height=\"1.25\" width=\"3.6\" x=\"52.2\" y=\"300.5\"/><rect fill=\"white\" height=\"1.25\" width=\"3.6\" x=\"52.2\" y=\"298.25\"/><rect fill=\"red\" height=\"0.75\" width=\"3\" x=\"52.5\" y=\"300.75\"/><rect fill=\"red\" height=\"0.75\" width=\"3\" x=\"52.5\" y=\"298.5\"/></g><g class=\"shade\"><rect fill=\"white\" height=\"1.25\" width=\"3.6\" x=\"46.2\" y=\"310.5\"/><rect fill=\"white\" height=\"1.25\" width=\"3.6\" x=\"46.2\" y=\"308.25\"/><rect fill=\"red\" height=\"0.75\" width=\"3\" x=\"46.5\" y=\"310.75\"/><rect fill=\"red\" height=\"0.75\" width=\"3\" x=\"46.5\" y=\"308.5\"/></g><g class=\"shade\"><rect fill=\"white\" height=\"1.25\" width=\"3.6\" x=\"19.2\" y=\"335.5\"/><rect fill=\"white\" height=\"1.25\" width=\"3.6\" x=\"19.2\" y=\"333.25\"/><rect fill=\"red\" height=\"0.75\" width=\"3\" x=\"19.5\" y=\"335.75\"/><rect fill=\"red\" height=\"0.75\" width=\"3\" x=\"19.5\" y=\"333.5\"/></g><g class=\"shade\"><rect fill=\"white\" height=\"1.25\" width=\"3.6\" x=\"55.2\" y=\"340.5\"/><rect fill=\"white\" height=\"1.25\" width=\"3.6\" x=\"55.2\" y=\"338.25\"/><rect fill=\"red\" height=\"0.75\" width=\"3\" x=\"55.5\" y=\"340.75\"/><rect fill=\"red\" height=\"0.75\" width=\"3\" x=\"55.5\" y=\"338.5\"/></g><g class=\"shade\"><rect fill=\"white\" height=\"1.25\" width=\"3.6\" x=\"-40.8\" y=\"345.5\"/><rect fill=\"white\" height=\"1.25\" width=\"3.6\" x=\"-40.8\" y=\"343.25\"/><rect fill=\"red\" height=\"0.75\" width=\"3\" x=\"-40.5\" y=\"345.75\"/><rect fill=\"red\" height=\"0.75\" width=\"3\" x=\"-40.5\" y=\"343.5\"/></g><g class=\"shade\"><rect fill=\"white\" height=\"1.25\" width=\"3.6\" x=\"-10.8\" y=\"350.5\"/><rect fill=\"white\" height=\"1.25\" width=\"3.6\" x=\"-10.8\" y=\"348.25\"/><rect fill=\"red\" height=\"0.75\" width=\"3\" x=\"-10.5\" y=\"350.75\"/><rect fill=\"red\" height=\"0.75\" width=\"3\" x=\"-10.5\" y=\"348.5\"/></g><g class=\"shade\"><rect fill=\"white\" height=\"1.25\" width=\"3.6\" x=\"-58.8\" y=\"355.5\"/><rect fill=\"white\" height=\"1.25\" width=\"3.6\" x=\"-58.8\" y=\"353.25\"/><rect fill=\"red\" height=\"0.75\" width=\"3\" x=\"-58.5\" y=\"355.75\"/><rect fill=\"red\" height=\"0.75\" width=\"3\" x=\"-58.5\" y=\"353.5\"/></g><g class=\"shade\"><rect fill=\"white\" height=\"1.25\" width=\"3.6\" x=\"22.2\" y=\"365.5\"/><rect fill=\"white\" height=\"1.25\" width=\"3.6\" x=\"22.2\" y=\"363.25\"/><rect fill=\"red\" height=\"0.75\" width=\"3\" x=\"22.5\" y=\"365.75\"/><rect fill=\"red\" height=\"0.75\" width=\"3\" x=\"22.5\" y=\"363.5\"/></g><g class=\"shade\"><rect fill=\"white\" height=\"1.25\" width=\"3.6\" x=\"-34.8\" y=\"375.5\"/><rect fill=\"white\" height=\"1.25\" width=\"3.6\" x=\"-34.8\" y=\"373.25\"/><rect fill=\"red\" height=\"0.75\" width=\"3\" x=\"-34.5\" y=\"375.75\"/><rect fill=\"red\" height=\"0.75\" width=\"3\" x=\"-34.5\" y=\"373.5\"/></g><g class=\"shade\"><rect fill=\"white\" height=\"1.25\" width=\"3.6\" x=\"-46.8\" y=\"380.5\"/><rect fill=\"white\" height=\"1.25\" width=\"3.6\" x=\"-46.8\" y=\"378.25\"/><rect fill=\"red\" height=\"0.75\" width=\"3\" x=\"-46.5\" y=\"380.75\"/><rect fill=\"red\" height=\"0.75\" width=\"3\" x=\"-46.5\" y=\"378.5\"/></g><g class=\"shade\"><rect fill=\"white\" height=\"1.25\" width=\"3.6\" x=\"34.2\" y=\"385.5\"/><rect fill=\"white\" height=\"1.25\" width=\"3.6\" x=\"34.2\" y=\"383.25\"/><rect fill=\"red\" height=\"0.75\" width=\"3\" x=\"34.5\" y=\"385.75\"/><rect fill=\"red\" height=\"0.75\" width=\"3\" x=\"34.5\" y=\"383.5\"/></g><g class=\"shade\"><rect fill=\"white\" height=\"1.25\" width=\"3.6\" x=\"7.2\" y=\"425.5\"/><rect fill=\"white\" height=\"1.25\" width=\"3.6\" x=\"7.2\" y=\"423.25\"/><rect fill=\"red\" height=\"0.75\" width=\"3\" x=\"7.5\" y=\"425.75\"/><rect fill=\"red\" height=\"0.75\" width=\"3\" x=\"7.5\" y=\"423.5\"/></g><g class=\"shade\"><rect fill=\"white\" height=\"1.25\" width=\"3.6\" x=\"-40.8\" y=\"450.5\"/><rect fill=\"white\" height=\"1.25\" width=\"3.6\" x=\"-40.8\" y=\"448.25\"/><rect fill=\"red\" height=\"0.75\" width=\"3\" x=\"-40.5\" y=\"450.75\"/><rect fill=\"red\" height=\"0.75\" width=\"3\" x=\"-40.5\" y=\"448.5\"/></g><g class=\"shade\"><rect fill=\"white\" height=\"1.25\" width=\"3.6\" x=\"-22.8\" y=\"465.5\"/><rect fill=\"white\" height=\"1.25\" width=\"3.6\" x=\"-22.8\" y=\"463.25\"/><rect fill=\"red\" height=\"0.75\" width=\"3\" x=\"-22.5\" y=\"465.75\"/><rect fill=\"red\" height=\"0.75\" width=\"3\" x=\"-22.5\" y=\"463.5\"/></g><g class=\"shade\"><rect fill=\"white\" height=\"1.25\" width=\"3.6\" x=\"37.2\" y=\"480.5\"/><rect fill=\"white\" height=\"1.25\" width=\"3.6\" x=\"37.2\" y=\"478.25\"/><rect fill=\"red\" height=\"0.75\" width=\"3\" x=\"37.5\" y=\"480.75\"/><rect fill=\"red\" height=\"0.75\" width=\"3\" x=\"37.5\" y=\"478.5\"/></g><g class=\"shade\"><rect fill=\"white\" height=\"1.25\" width=\"3.6\" x=\"58.2\" y=\"500.5\"/><rect fill=\"white\" height=\"1.25\" width=\"3.6\" x=\"58.2\" y=\"498.25\"/><rect fill=\"red\" height=\"0.75\" width=\"3\" x=\"58.5\" y=\"500.75\"/><rect fill=\"red\" height=\"0.75\" width=\"3\" x=\"58.5\" y=\"498.5\"/></g><g class=\"shade\"><rect fill=\"white\" height=\"1.25\" width=\"3.6\" x=\"25.2\" y=\"510.5\"/><rect fill=\"white\" height=\"1.25\" width=\"3.6\" x=\"25.2\" y=\"508.25\"/><rect fill=\"red\" height=\"0.75\" width=\"3\" x=\"25.5\" y=\"510.75\"/><rect fill=\"red\" height=\"0.75\" width=\"3\" x=\"25.5\" y=\"508.5\"/></g><g class=\"shade\"><rect fill=\"white\" height=\"1.25\" width=\"3.6\" x=\"49.2\" y=\"515.5\"/><rect fill=\"white\" height=\"1.25\" width=\"3.6\" x=\"49.2\" y=\"513.25\"/><rect fill=\"red\" height=\"0.75\" width=\"3\" x=\"49.5\" y=\"515.75\"/><rect fill=\"red\" height=\"0.75\" width=\"3\" x=\"49.5\" y=\"513.5\"/></g><g class=\"shade\"><rect fill=\"white\" height=\"1.25\" width=\"3.6\" x=\"49.2\" y=\"520.5\"/><rect fill=\"white\" height=\"1.25\" width=\"3.6\" x=\"49.2\" y=\"518.25\"/><rect fill=\"red\" height=\"0.75\" width=\"3\" x=\"49.5\" y=\"520.75\"/><rect fill=\"red\" height=\"0.75\" width=\"3\" x=\"49.5\" y=\"518.5\"/></g><g class=\"shade\"><rect fill=\"white\" height=\"1.25\" width=\"3.6\" x=\"55.2\" y=\"525.5\"/><rect fill=\"white\" height=\"1.25\" width=\"3.6\" x=\"55.2\" y=\"523.25\"/><rect fill=\"red\" height=\"0.75\" width=\"3\" x=\"55.5\" y=\"525.75\"/><rect fill=\"red\" height=\"0.75\" width=\"3\" x=\"55.5\" y=\"523.5\"/></g><g class=\"shade\"><rect fill=\"white\" height=\"1.25\" width=\"3.6\" x=\"64.2\" y=\"530.5\"/><rect fill=\"white\" height=\"1.25\" width=\"3.6\" x=\"64.2\" y=\"528.25\"/><rect fill=\"red\" height=\"0.75\" width=\"3\" x=\"64.5\" y=\"530.75\"/><rect fill=\"red\" height=\"0.75\" width=\"3\" x=\"64.5\" y=\"528.5\"/></g><g class=\"shade\"><rect fill=\"white\" height=\"1.25\" width=\"3.6\" x=\"52.2\" y=\"535.5\"/><rect fill=\"white\" height=\"1.25\" width=\"3.6\" x=\"52.2\" y=\"533.25\"/><rect fill=\"red\" height=\"0.75\" width=\"3\" x=\"52.5\" y=\"535.75\"/><rect fill=\"red\" height=\"0.75\" width=\"3\" x=\"52.5\" y=\"533.5\"/></g><g class=\"shade\"><rect fill=\"white\" height=\"1.25\" width=\"3.6\" x=\"52.2\" y=\"540.5\"/><rect fill=\"white\" height=\"1.25\" width=\"3.6\" x=\"52.2\" y=\"538.25\"/><rect fill=\"red\" height=\"0.75\" width=\"3\" x=\"52.5\" y=\"540.75\"/><rect fill=\"red\" height=\"0.75\" width=\"3\" x=\"52.5\" y=\"538.5\"/></g></g></g><g class=\"legend\"/><g class=\"hovering-blocks\"><rect class=\"tableline\" height=\"4.5\" width=\"614.0\" x=\"-16.0\" y=\"2.75\"/><rect class=\"tableline\" height=\"4.5\" width=\"614.0\" x=\"-16.0\" y=\"7.75\"/><rect class=\"tableline\" height=\"4.5\" width=\"614.0\" x=\"-16.0\" y=\"12.75\"/><rect class=\"tableline\" height=\"4.5\" width=\"614.0\" x=\"-16.0\" y=\"17.75\"/><rect class=\"tableline\" height=\"4.5\" width=\"614.0\" x=\"-16.0\" y=\"22.75\"/><rect class=\"tableline\" height=\"4.5\" width=\"614.0\" x=\"-16.0\" y=\"27.75\"/><rect class=\"tableline\" height=\"4.5\" width=\"614.0\" x=\"-16.0\" y=\"32.75\"/><rect class=\"tableline\" height=\"4.5\" width=\"614.0\" x=\"-16.0\" y=\"37.75\"/><rect class=\"tableline\" height=\"4.5\" width=\"614.0\" x=\"-16.0\" y=\"42.75\"/><rect class=\"tableline\" height=\"4.5\" width=\"614.0\" x=\"-16.0\" y=\"47.75\"/><rect class=\"tableline\" height=\"4.5\" width=\"614.0\" x=\"-16.0\" y=\"52.75\"/><rect class=\"tableline\" height=\"4.5\" width=\"614.0\" x=\"-16.0\" y=\"57.75\"/><rect class=\"tableline\" height=\"4.5\" width=\"614.0\" x=\"-16.0\" y=\"62.75\"/><rect class=\"tableline\" height=\"4.5\" width=\"614.0\" x=\"-16.0\" y=\"67.75\"/><rect class=\"tableline\" height=\"4.5\" width=\"614.0\" x=\"-16.0\" y=\"72.75\"/><rect class=\"tableline\" height=\"4.5\" width=\"614.0\" x=\"-16.0\" y=\"77.75\"/><rect class=\"tableline\" height=\"4.5\" width=\"614.0\" x=\"-16.0\" y=\"82.75\"/><rect class=\"tableline\" height=\"4.5\" width=\"614.0\" x=\"-16.0\" y=\"87.75\"/><rect class=\"tableline\" height=\"4.5\" width=\"614.0\" x=\"-16.0\" y=\"92.75\"/><rect class=\"tableline\" height=\"4.5\" width=\"614.0\" x=\"-16.0\" y=\"97.75\"/><rect class=\"tableline\" height=\"4.5\" width=\"614.0\" x=\"-16.0\" y=\"102.75\"/><rect class=\"tableline\" height=\"4.5\" width=\"614.0\" x=\"-16.0\" y=\"107.75\"/><rect class=\"tableline\" height=\"4.5\" width=\"614.0\" x=\"-16.0\" y=\"112.75\"/><rect class=\"tableline\" height=\"4.5\" width=\"614.0\" x=\"-16.0\" y=\"117.75\"/><rect class=\"tableline\" height=\"4.5\" width=\"614.0\" x=\"-16.0\" y=\"122.75\"/><rect class=\"tableline\" height=\"4.5\" width=\"614.0\" x=\"-16.0\" y=\"127.75\"/><rect class=\"tableline\" height=\"4.5\" width=\"614.0\" x=\"-16.0\" y=\"132.75\"/><rect class=\"tableline\" height=\"4.5\" width=\"614.0\" x=\"-16.0\" y=\"137.75\"/><rect class=\"tableline\" height=\"4.5\" width=\"614.0\" x=\"-16.0\" y=\"142.75\"/><rect class=\"tableline\" height=\"4.5\" width=\"614.0\" x=\"-16.0\" y=\"147.75\"/><rect class=\"tableline\" height=\"4.5\" width=\"614.0\" x=\"-16.0\" y=\"152.75\"/><rect class=\"tableline\" height=\"4.5\" width=\"614.0\" x=\"-16.0\" y=\"157.75\"/><rect class=\"tableline\" height=\"4.5\" width=\"614.0\" x=\"-16.0\" y=\"162.75\"/><rect class=\"tableline\" height=\"4.5\" width=\"614.0\" x=\"-16.0\" y=\"167.75\"/><rect class=\"tableline\" height=\"4.5\" width=\"614.0\" x=\"-16.0\" y=\"172.75\"/><rect class=\"tableline\" height=\"4.5\" width=\"614.0\" x=\"-16.0\" y=\"177.75\"/><rect class=\"tableline\" height=\"4.5\" width=\"614.0\" x=\"-16.0\" y=\"182.75\"/><rect class=\"tableline\" height=\"4.5\" width=\"614.0\" x=\"-16.0\" y=\"187.75\"/><rect class=\"tableline\" height=\"4.5\" width=\"614.0\" x=\"-16.0\" y=\"192.75\"/><rect class=\"tableline\" height=\"4.5\" width=\"614.0\" x=\"-16.0\" y=\"197.75\"/><rect class=\"tableline\" height=\"4.5\" width=\"614.0\" x=\"-16.0\" y=\"202.75\"/><rect class=\"tableline\" height=\"4.5\" width=\"614.0\" x=\"-16.0\" y=\"207.75\"/><rect class=\"tableline\" height=\"4.5\" width=\"614.0\" x=\"-16.0\" y=\"212.75\"/><rect class=\"tableline\" height=\"4.5\" width=\"614.0\" x=\"-16.0\" y=\"217.75\"/><rect class=\"tableline\" height=\"4.5\" width=\"614.0\" x=\"-16.0\" y=\"222.75\"/><rect class=\"tableline\" height=\"4.5\" width=\"614.0\" x=\"-16.0\" y=\"227.75\"/><rect class=\"tableline\" height=\"4.5\" width=\"614.0\" x=\"-16.0\" y=\"232.75\"/><rect class=\"tableline\" height=\"4.5\" width=\"614.0\" x=\"-16.0\" y=\"237.75\"/><rect class=\"tableline\" height=\"4.5\" width=\"614.0\" x=\"-16.0\" y=\"242.75\"/><rect class=\"tableline\" height=\"4.5\" width=\"614.0\" x=\"-16.0\" y=\"247.75\"/><rect class=\"tableline\" height=\"4.5\" width=\"614.0\" x=\"-16.0\" y=\"252.75\"/><rect class=\"tableline\" height=\"4.5\" width=\"614.0\" x=\"-16.0\" y=\"257.75\"/><rect class=\"tableline\" height=\"4.5\" width=\"614.0\" x=\"-16.0\" y=\"262.75\"/><rect class=\"tableline\" height=\"4.5\" width=\"614.0\" x=\"-16.0\" y=\"267.75\"/><rect class=\"tableline\" height=\"4.5\" width=\"614.0\" x=\"-16.0\" y=\"272.75\"/><rect class=\"tableline\" height=\"4.5\" width=\"614.0\" x=\"-16.0\" y=\"277.75\"/><rect class=\"tableline\" height=\"4.5\" width=\"614.0\" x=\"-16.0\" y=\"282.75\"/><rect class=\"tableline\" height=\"4.5\" width=\"614.0\" x=\"-16.0\" y=\"287.75\"/><rect class=\"tableline\" height=\"4.5\" width=\"614.0\" x=\"-16.0\" y=\"292.75\"/><rect class=\"tableline\" height=\"4.5\" width=\"614.0\" x=\"-16.0\" y=\"297.75\"/><rect class=\"tableline\" height=\"4.5\" width=\"614.0\" x=\"-16.0\" y=\"302.75\"/><rect class=\"tableline\" height=\"4.5\" width=\"614.0\" x=\"-16.0\" y=\"307.75\"/><rect class=\"tableline\" height=\"4.5\" width=\"614.0\" x=\"-16.0\" y=\"312.75\"/><rect class=\"tableline\" height=\"4.5\" width=\"614.0\" x=\"-16.0\" y=\"317.75\"/><rect class=\"tableline\" height=\"4.5\" width=\"614.0\" x=\"-16.0\" y=\"322.75\"/><rect class=\"tableline\" height=\"4.5\" width=\"614.0\" x=\"-16.0\" y=\"327.75\"/><rect class=\"tableline\" height=\"4.5\" width=\"614.0\" x=\"-16.0\" y=\"332.75\"/><rect class=\"tableline\" height=\"4.5\" width=\"614.0\" x=\"-16.0\" y=\"337.75\"/><rect class=\"tableline\" height=\"4.5\" width=\"614.0\" x=\"-16.0\" y=\"342.75\"/><rect class=\"tableline\" height=\"4.5\" width=\"614.0\" x=\"-16.0\" y=\"347.75\"/><rect class=\"tableline\" height=\"4.5\" width=\"614.0\" x=\"-16.0\" y=\"352.75\"/><rect class=\"tableline\" height=\"4.5\" width=\"614.0\" x=\"-16.0\" y=\"357.75\"/><rect class=\"tableline\" height=\"4.5\" width=\"614.0\" x=\"-16.0\" y=\"362.75\"/><rect class=\"tableline\" height=\"4.5\" width=\"614.0\" x=\"-16.0\" y=\"367.75\"/><rect class=\"tableline\" height=\"4.5\" width=\"614.0\" x=\"-16.0\" y=\"372.75\"/><rect class=\"tableline\" height=\"4.5\" width=\"614.0\" x=\"-16.0\" y=\"377.75\"/><rect class=\"tableline\" height=\"4.5\" width=\"614.0\" x=\"-16.0\" y=\"382.75\"/><rect class=\"tableline\" height=\"4.5\" width=\"614.0\" x=\"-16.0\" y=\"387.75\"/><rect class=\"tableline\" height=\"4.5\" width=\"614.0\" x=\"-16.0\" y=\"392.75\"/><rect class=\"tableline\" height=\"4.5\" width=\"614.0\" x=\"-16.0\" y=\"397.75\"/><rect class=\"tableline\" height=\"4.5\" width=\"614.0\" x=\"-16.0\" y=\"402.75\"/><rect class=\"tableline\" height=\"4.5\" width=\"614.0\" x=\"-16.0\" y=\"407.75\"/><rect class=\"tableline\" height=\"4.5\" width=\"614.0\" x=\"-16.0\" y=\"412.75\"/><rect class=\"tableline\" height=\"4.5\" width=\"614.0\" x=\"-16.0\" y=\"417.75\"/><rect class=\"tableline\" height=\"4.5\" width=\"614.0\" x=\"-16.0\" y=\"422.75\"/><rect class=\"tableline\" height=\"4.5\" width=\"614.0\" x=\"-16.0\" y=\"427.75\"/><rect class=\"tableline\" height=\"4.5\" width=\"614.0\" x=\"-16.0\" y=\"432.75\"/><rect class=\"tableline\" height=\"4.5\" width=\"614.0\" x=\"-16.0\" y=\"437.75\"/><rect class=\"tableline\" height=\"4.5\" width=\"614.0\" x=\"-16.0\" y=\"442.75\"/><rect class=\"tableline\" height=\"4.5\" width=\"614.0\" x=\"-16.0\" y=\"447.75\"/><rect class=\"tableline\" height=\"4.5\" width=\"614.0\" x=\"-16.0\" y=\"452.75\"/><rect class=\"tableline\" height=\"4.5\" width=\"614.0\" x=\"-16.0\" y=\"457.75\"/><rect class=\"tableline\" height=\"4.5\" width=\"614.0\" x=\"-16.0\" y=\"462.75\"/><rect class=\"tableline\" height=\"4.5\" width=\"614.0\" x=\"-16.0\" y=\"467.75\"/><rect class=\"tableline\" height=\"4.5\" width=\"614.0\" x=\"-16.0\" y=\"472.75\"/><rect class=\"tableline\" height=\"4.5\" width=\"614.0\" x=\"-16.0\" y=\"477.75\"/><rect class=\"tableline\" height=\"4.5\" width=\"614.0\" x=\"-16.0\" y=\"482.75\"/><rect class=\"tableline\" height=\"4.5\" width=\"614.0\" x=\"-16.0\" y=\"487.75\"/><rect class=\"tableline\" height=\"4.5\" width=\"614.0\" x=\"-16.0\" y=\"492.75\"/><rect class=\"tableline\" height=\"4.5\" width=\"614.0\" x=\"-16.0\" y=\"497.75\"/><rect class=\"tableline\" height=\"4.5\" width=\"614.0\" x=\"-16.0\" y=\"502.75\"/><rect class=\"tableline\" height=\"4.5\" width=\"614.0\" x=\"-16.0\" y=\"507.75\"/><rect class=\"tableline\" height=\"4.5\" width=\"614.0\" x=\"-16.0\" y=\"512.75\"/><rect class=\"tableline\" height=\"4.5\" width=\"614.0\" x=\"-16.0\" y=\"517.75\"/><rect class=\"tableline\" height=\"4.5\" width=\"614.0\" x=\"-16.0\" y=\"522.75\"/><rect class=\"tableline\" height=\"4.5\" width=\"614.0\" x=\"-16.0\" y=\"527.75\"/><rect class=\"tableline\" height=\"4.5\" width=\"614.0\" x=\"-16.0\" y=\"532.75\"/><rect class=\"tableline\" height=\"4.5\" width=\"614.0\" x=\"-16.0\" y=\"537.75\"/><rect class=\"tableline\" height=\"4.5\" width=\"614.0\" x=\"-16.0\" y=\"542.75\"/></g></g></svg>"
      ],
      "text/plain": [
       "<IPython.core.display.SVG object>"
      ]
     },
     "execution_count": 117,
     "metadata": {},
     "output_type": "execute_result"
    }
   ],
   "source": [
    "SVG(history.svg())"
   ]
  },
  {
   "cell_type": "markdown",
   "metadata": {},
   "source": [
    "Use our example 4-well potential"
   ]
  },
  {
   "cell_type": "code",
   "execution_count": null,
   "metadata": {
    "collapsed": true
   },
   "outputs": [],
   "source": [
    "p = lambda x: 4.0 * (x ** 8 + 0.5 * np.exp (-40.0 * ((x + 0.5) ** 2)) +\n",
    "   0.8 * np.exp (-80.0 * (x ** 2)) +\n",
    "   0.2 * np.exp (-80.0 * ((x - 0.5) ** 2)))"
   ]
  },
  {
   "cell_type": "code",
   "execution_count": null,
   "metadata": {
    "collapsed": true
   },
   "outputs": [],
   "source": [
    "ex = np.array(map(p, np.arange(-0.99, 1.00, 0.02)))"
   ]
  },
  {
   "cell_type": "code",
   "execution_count": null,
   "metadata": {},
   "outputs": [],
   "source": [
    "plt.plot(ex)"
   ]
  },
  {
   "cell_type": "code",
   "execution_count": null,
   "metadata": {},
   "outputs": [],
   "source": [
    "mat2 = np.zeros( (100, 100))\n",
    "beta = 1.0\n",
    "for y in range(100):\n",
    "    for dx in range(-1,2):\n",
    "        if y + dx >=0 and y + dx < 100:\n",
    "            mat2[y, y + dx] = np.exp(- beta * (np.max(ex[y + dx] - ex[y], 0) + 0 * dx*dx) )\n",
    "            \n",
    "    mat2[y] *= 1.0 / np.sum(mat2[y])    "
   ]
  },
  {
   "cell_type": "code",
   "execution_count": null,
   "metadata": {
    "collapsed": true
   },
   "outputs": [],
   "source": [
    "mat3 = np.linalg.matrix_power(mat2, 250)"
   ]
  },
  {
   "cell_type": "code",
   "execution_count": null,
   "metadata": {},
   "outputs": [],
   "source": [
    "plt.rcParams[\"figure.figsize\"] = 8,8\n",
    "plt.matshow(mat3);"
   ]
  },
  {
   "cell_type": "code",
   "execution_count": null,
   "metadata": {
    "collapsed": true
   },
   "outputs": [],
   "source": [
    "engine = msm.Engine(mat3)"
   ]
  },
  {
   "cell_type": "code",
   "execution_count": null,
   "metadata": {
    "collapsed": true
   },
   "outputs": [],
   "source": [
    "snap = msm.MicroState(\n",
    "    state=14,\n",
    "    engine=engine\n",
    ")\n",
    "engine.current_snapshot = snap"
   ]
  },
  {
   "cell_type": "code",
   "execution_count": null,
   "metadata": {},
   "outputs": [],
   "source": [
    "%%time\n",
    "traj = engine.generate_n_frames(1000)"
   ]
  },
  {
   "cell_type": "code",
   "execution_count": null,
   "metadata": {
    "collapsed": true
   },
   "outputs": [],
   "source": [
    "# row and column sharing\n",
    "f, ((ax1, ax2), (ax3, ax4)) = plt.subplots(2, 2, sharex='col', sharey='row')\n",
    "ax1.plot(x, y)\n",
    "ax1.set_title('Sharing x per column, y per row')\n",
    "ax2.scatter(x, y)\n",
    "ax3.scatter(x, 2 * y ** 2 - 1, color='r')\n",
    "ax4.plot(x, 2 * y ** 2 - 1, color='r')"
   ]
  },
  {
   "cell_type": "code",
   "execution_count": null,
   "metadata": {},
   "outputs": [],
   "source": [
    "plt.rcParams[\"figure.figsize\"] = 20,6\n",
    "# row and column sharing\n",
    "plt.plot(traj.state)\n",
    "plt.plot(ex * 50, range(0,100))"
   ]
  },
  {
   "cell_type": "code",
   "execution_count": null,
   "metadata": {
    "collapsed": true
   },
   "outputs": [],
   "source": [
    "stateA = msm.Block(range(00,15))\n",
    "stateB = msm.Block(range(35,40))\n",
    "stateC = msm.Block(range(60,65))\n",
    "stateD = msm.Block(range(85,100))"
   ]
  },
  {
   "cell_type": "code",
   "execution_count": null,
   "metadata": {
    "collapsed": true
   },
   "outputs": [],
   "source": [
    "intA = msm.Block(range(15,20))\n",
    "intB = msm.Block(range(30,45))\n",
    "intC = msm.Block(range(55,70))\n",
    "intD = msm.Block(range(80,85))"
   ]
  },
  {
   "cell_type": "code",
   "execution_count": null,
   "metadata": {
    "collapsed": true
   },
   "outputs": [],
   "source": [
    "network = paths.TPSNetwork(stateA, stateD)"
   ]
  },
  {
   "cell_type": "code",
   "execution_count": null,
   "metadata": {
    "collapsed": true
   },
   "outputs": [],
   "source": [
    "ensA2B = paths.SequentialEnsemble([\n",
    "        paths.SingleFrameEnsemble(paths.AllInXEnsemble(stateA)),\n",
    "        paths.AllOutXEnsemble(stateA | stateB),\n",
    "        paths.SingleFrameEnsemble(paths.AllInXEnsemble(stateB)),        \n",
    "    ])\n",
    "ensB2A = paths.SequentialEnsemble([\n",
    "        paths.SingleFrameEnsemble(paths.AllInXEnsemble(stateB)),\n",
    "        paths.AllOutXEnsemble(stateA | stateB),\n",
    "        paths.SingleFrameEnsemble(paths.AllInXEnsemble(stateA)),        \n",
    "    ])"
   ]
  },
  {
   "cell_type": "code",
   "execution_count": null,
   "metadata": {
    "collapsed": true
   },
   "outputs": [],
   "source": [
    "scheme = paths.OneWayShootingMoveScheme(\n",
    "    network, \n",
    "    selector=paths.UniformSelector(), \n",
    "    engine=engine\n",
    ")"
   ]
  },
  {
   "cell_type": "code",
   "execution_count": null,
   "metadata": {},
   "outputs": [],
   "source": [
    "initial_conditions = scheme.initial_conditions_from_trajectories(traj)\n",
    "print scheme.initial_conditions_report(initial_conditions)"
   ]
  },
  {
   "cell_type": "code",
   "execution_count": null,
   "metadata": {
    "collapsed": true
   },
   "outputs": [],
   "source": [
    "steps100=[]"
   ]
  },
  {
   "cell_type": "code",
   "execution_count": null,
   "metadata": {
    "collapsed": true
   },
   "outputs": [],
   "source": [
    "sampler = msm.StepSampling(\n",
    "    steplist=steps100,  \n",
    "    move_scheme=scheme,\n",
    "    sample_set=initial_conditions\n",
    ")"
   ]
  },
  {
   "cell_type": "code",
   "execution_count": null,
   "metadata": {},
   "outputs": [],
   "source": [
    "%%time\n",
    "sampler.run(2000)"
   ]
  },
  {
   "cell_type": "code",
   "execution_count": null,
   "metadata": {
    "collapsed": true
   },
   "outputs": [],
   "source": [
    "history100 = ops_vis.PathTree(\n",
    "    steps100[1:250],\n",
    "    ops_vis.ReplicaEvolution(\n",
    "        replica=0,\n",
    "        accepted=True\n",
    "    )\n",
    ")\n",
    "history100.states = {\n",
    "    'red': stateA,\n",
    "    'orange': stateB,\n",
    "    'green': stateC,\n",
    "    'blue': stateD\n",
    "}\n",
    "history100.options.css['scale_x'] = 3\n",
    "history100.options.css['scale_y'] = 5\n",
    "history100.options.movers['ForwardShootMover']['suffix'] = ''\n",
    "history100.options.movers['BackwardShootMover']['suffix'] = ''\n",
    "history100.options.ui['legends'] = []\n",
    "history100.options.css['width'] = '100%' \n",
    "history100.options.movers['ForwardShootMover']['css_class'] = ['unknown']\n",
    "history100.options.movers['BackwardShootMover']['css_class'] = ['unknown']\n",
    "history100.options.movers['default']['new'] = 'line'\n",
    "history100.options.movers['default']['label'] = ' '"
   ]
  },
  {
   "cell_type": "code",
   "execution_count": null,
   "metadata": {},
   "outputs": [],
   "source": [
    "SVG(history100.svg())"
   ]
  },
  {
   "cell_type": "code",
   "execution_count": null,
   "metadata": {
    "collapsed": true
   },
   "outputs": [],
   "source": [
    "path_lengths = [len(step.active[0].trajectory) for step in steps100[1:]]"
   ]
  },
  {
   "cell_type": "code",
   "execution_count": null,
   "metadata": {},
   "outputs": [],
   "source": [
    "print \"Maximum:\", max(path_lengths), \"(\"+str(max(path_lengths)*engine.snapshot_timestep)+\")\"\n",
    "print \"Average:\", \"{0:.2f}\".format(np.mean(path_lengths)), \"(\"+\"{0:.2f}\".format(np.mean(path_lengths)*engine.snapshot_timestep)+\")\"\n",
    "plt.hist(path_lengths, bins=40, alpha=0.5);"
   ]
  },
  {
   "cell_type": "code",
   "execution_count": null,
   "metadata": {},
   "outputs": [],
   "source": [
    "ooms100 = np.array([np.dot(np.diag([1 if x == row else 0 for x in range(len(mat3))]), mat3) for row in range(len(mat3))])"
   ]
  },
  {
   "cell_type": "code",
   "execution_count": null,
   "metadata": {},
   "outputs": [],
   "source": [
    "oA = np.sum(ooms100[list(stateA.states)], axis=0)\n",
    "oB = np.sum(ooms100[list(stateB.states)], axis=0)\n",
    "oC = np.sum(ooms100[list(stateC.states)], axis=0)\n",
    "oD = np.sum(ooms100[list(stateD.states)], axis=0)"
   ]
  },
  {
   "cell_type": "code",
   "execution_count": null,
   "metadata": {},
   "outputs": [],
   "source": [
    "oX = mat3 - oA - oD\n",
    "ones100 = np.ones(len(mat3))\n",
    "idx = 2\n",
    "np.linalg.eig(mat3)[0][idx]\n",
    "pin = np.linalg.eig(np.transpose(mat3))[1][:, idx]\n",
    "\n",
    "pi = pin / sum(pin)\n",
    "eye100 = np.eye(100)"
   ]
  },
  {
   "cell_type": "code",
   "execution_count": null,
   "metadata": {},
   "outputs": [],
   "source": [
    "plt.plot(pi)"
   ]
  },
  {
   "cell_type": "code",
   "execution_count": null,
   "metadata": {},
   "outputs": [],
   "source": [
    "v1 = np.dot(np.dot(pi, np.dot(np.dot(oA, np.dot(oX, np.linalg.inv(eye100 - oX))), oD)), ones)\n",
    "v2 = np.dot(np.dot(pi, oA), ones)\n",
    "v1 / v2"
   ]
  },
  {
   "cell_type": "code",
   "execution_count": null,
   "metadata": {
    "collapsed": true
   },
   "outputs": [],
   "source": [
    "xx = np.array([1 if x == 14 else 0 for x in range(len(mat3))])"
   ]
  },
  {
   "cell_type": "code",
   "execution_count": null,
   "metadata": {},
   "outputs": [],
   "source": [
    "v1 = np.dot(np.dot(xx, np.dot(np.dot(oA, np.dot(oX, np.linalg.inv(eye100 - oX))), oD)), ones)\n",
    "v2 = np.dot(np.dot(xx, oA), ones)\n",
    "v1 / v2"
   ]
  }
 ],
 "metadata": {
  "anaconda-cloud": {},
  "kernelspec": {
   "display_name": "Python 2",
   "language": "python",
   "name": "python2"
  },
  "language_info": {
   "codemirror_mode": {
    "name": "ipython",
    "version": 2
   },
   "file_extension": ".py",
   "mimetype": "text/x-python",
   "name": "python",
   "nbconvert_exporter": "python",
   "pygments_lexer": "ipython2",
   "version": "2.7.13"
  }
 },
 "nbformat": 4,
 "nbformat_minor": 1
}
