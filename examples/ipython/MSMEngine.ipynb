{
 "cells": [
  {
   "cell_type": "code",
   "execution_count": 1,
   "metadata": {
    "collapsed": false
   },
   "outputs": [],
   "source": [
    "import openpathsampling as paths\n",
    "import numpy as np\n",
    "import openpathsampling.engines.msm as msm\n",
    "import matplotlib.pyplot as plt\n",
    "%matplotlib inline"
   ]
  },
  {
   "cell_type": "markdown",
   "metadata": {},
   "source": [
    "Create a simple MSM, just 4 states, put in something bigger here"
   ]
  },
  {
   "cell_type": "code",
   "execution_count": 2,
   "metadata": {
    "collapsed": false
   },
   "outputs": [],
   "source": [
    "mat = np.array([\n",
    "        [0.95,0.05,0.0,0.0],\n",
    "        [0.05,0.94,0.01,0.0],\n",
    "        [0.0,0.01,0.94,0.05],\n",
    "        [0.0,0.0,0.05,0.95]\n",
    "    ])"
   ]
  },
  {
   "cell_type": "code",
   "execution_count": null,
   "metadata": {
    "collapsed": true
   },
   "outputs": [],
   "source": []
  },
  {
   "cell_type": "markdown",
   "metadata": {},
   "source": [
    "Create an engine first. The MSM engine takes a transition matrix. No checks are done so far."
   ]
  },
  {
   "cell_type": "code",
   "execution_count": 3,
   "metadata": {
    "collapsed": false
   },
   "outputs": [],
   "source": [
    "engine = msm.Engine(mat)"
   ]
  },
  {
   "cell_type": "markdown",
   "metadata": {},
   "source": [
    "create a first snapshot. in MSM these can also be called a `MicroState`"
   ]
  },
  {
   "cell_type": "code",
   "execution_count": 4,
   "metadata": {
    "collapsed": false
   },
   "outputs": [],
   "source": [
    "snap = msm.MicroState(\n",
    "    state=0,\n",
    "    engine=engine\n",
    ")\n",
    "engine.current_snapshot = snap"
   ]
  },
  {
   "cell_type": "code",
   "execution_count": 50,
   "metadata": {
    "collapsed": false
   },
   "outputs": [
    {
     "data": {
      "text/plain": [
       "<openpathsampling.engines.msm.snapshot.MSMSnapshot at 0x1256176d0>"
      ]
     },
     "execution_count": 50,
     "metadata": {},
     "output_type": "execute_result"
    }
   ],
   "source": [
    "snap"
   ]
  },
  {
   "cell_type": "code",
   "execution_count": 60,
   "metadata": {
    "collapsed": false
   },
   "outputs": [],
   "source": [
    "r = []\n",
    "ensA2AB = paths.SequentialEnsemble([\n",
    "        paths.SingleFrameEnsemble(paths.AllInXEnsemble(stateA)),\n",
    "        paths.AllOutXEnsemble(stateA | stateB),\n",
    "        paths.SingleFrameEnsemble(paths.AllInXEnsemble(stateB | stateA)),        \n",
    "    ])\n",
    "for x in range(100000):\n",
    "    tt = engine.generate(snap, ensA2AB.can_append)\n",
    "    r.append(stateB(tt[-1]))"
   ]
  },
  {
   "cell_type": "code",
   "execution_count": 61,
   "metadata": {
    "collapsed": false
   },
   "outputs": [
    {
     "data": {
      "text/plain": [
       "0.00679"
      ]
     },
     "execution_count": 61,
     "metadata": {},
     "output_type": "execute_result"
    }
   ],
   "source": [
    "1.0 * sum(r) / len(r)"
   ]
  },
  {
   "cell_type": "code",
   "execution_count": 62,
   "metadata": {
    "collapsed": true
   },
   "outputs": [],
   "source": [
    "p = 1.0 * sum(r) / len(r)"
   ]
  },
  {
   "cell_type": "code",
   "execution_count": 65,
   "metadata": {
    "collapsed": false
   },
   "outputs": [
    {
     "data": {
      "text/plain": [
       "0.0070496901211059056"
      ]
     },
     "execution_count": 65,
     "metadata": {},
     "output_type": "execute_result"
    }
   ],
   "source": [
    "p + np.sqrt(p * (1.0 - p) / len(r))"
   ]
  },
  {
   "cell_type": "markdown",
   "metadata": {},
   "source": [
    "Generate a first trajectory"
   ]
  },
  {
   "cell_type": "code",
   "execution_count": 5,
   "metadata": {
    "collapsed": false
   },
   "outputs": [
    {
     "name": "stdout",
     "output_type": "stream",
     "text": [
      "CPU times: user 40.6 ms, sys: 10.1 ms, total: 50.7 ms\n",
      "Wall time: 44.3 ms\n"
     ]
    }
   ],
   "source": [
    "%%time\n",
    "traj = engine.generate_n_frames(1000)"
   ]
  },
  {
   "cell_type": "markdown",
   "metadata": {},
   "source": [
    "Define macro states, here just out of single microstates"
   ]
  },
  {
   "cell_type": "code",
   "execution_count": 6,
   "metadata": {
    "collapsed": false
   },
   "outputs": [],
   "source": [
    "stateA = msm.Block([0])\n",
    "stateB = msm.Block([3])"
   ]
  },
  {
   "cell_type": "markdown",
   "metadata": {},
   "source": [
    "And some interfaces (not needed for TPS)"
   ]
  },
  {
   "cell_type": "code",
   "execution_count": 7,
   "metadata": {
    "collapsed": false
   },
   "outputs": [],
   "source": [
    "intA = msm.Block([0,1])\n",
    "intB = msm.Block([2,3])"
   ]
  },
  {
   "cell_type": "markdown",
   "metadata": {},
   "source": [
    "Define ensembles for A->B and B->A pathways"
   ]
  },
  {
   "cell_type": "code",
   "execution_count": 42,
   "metadata": {
    "collapsed": true
   },
   "outputs": [],
   "source": [
    "ensA2B = paths.SequentialEnsemble([\n",
    "        paths.SingleFrameEnsemble(paths.AllInXEnsemble(stateA)),\n",
    "        paths.AllOutXEnsemble(stateA | stateB),\n",
    "        paths.SingleFrameEnsemble(paths.AllInXEnsemble(stateB)),        \n",
    "    ])\n",
    "ensB2A = paths.SequentialEnsemble([\n",
    "        paths.SingleFrameEnsemble(paths.AllInXEnsemble(stateB)),\n",
    "        paths.AllOutXEnsemble(stateA | stateB),\n",
    "        paths.SingleFrameEnsemble(paths.AllInXEnsemble(stateA)),        \n",
    "    ])"
   ]
  },
  {
   "cell_type": "markdown",
   "metadata": {},
   "source": [
    "And pick the first AB path"
   ]
  },
  {
   "cell_type": "code",
   "execution_count": 9,
   "metadata": {
    "collapsed": false
   },
   "outputs": [],
   "source": [
    "# first_AB_list = ensA2B.split(traj)\n",
    "# firstAB = first_AB_list[0].state"
   ]
  },
  {
   "cell_type": "markdown",
   "metadata": {},
   "source": [
    "as well as the first BA path"
   ]
  },
  {
   "cell_type": "code",
   "execution_count": 10,
   "metadata": {
    "collapsed": false
   },
   "outputs": [],
   "source": [
    "# first_BA_list = ensB2A.split(traj)\n",
    "# firstBA = first_AB_list[0].state"
   ]
  },
  {
   "cell_type": "markdown",
   "metadata": {},
   "source": [
    "Now setting up a TPS network consisting of a transition from A2B "
   ]
  },
  {
   "cell_type": "code",
   "execution_count": 11,
   "metadata": {
    "collapsed": true
   },
   "outputs": [],
   "source": [
    "network = paths.TPSNetwork(stateA, stateB)"
   ]
  },
  {
   "cell_type": "markdown",
   "metadata": {},
   "source": [
    "and a scheme"
   ]
  },
  {
   "cell_type": "code",
   "execution_count": 12,
   "metadata": {
    "collapsed": true
   },
   "outputs": [],
   "source": [
    "scheme = paths.OneWayShootingMoveScheme(\n",
    "    network, \n",
    "    selector=paths.UniformSelector(), \n",
    "    engine=engine\n",
    ")"
   ]
  },
  {
   "cell_type": "markdown",
   "metadata": {},
   "source": [
    "generate the initial conditions, e.g. the sampleset that is used in the beginning. For TPS this is just a single sample that is in the A2B path ensemble. We will scan through all ensembles that are used and pick parts from the initial trajectory that match and add them all to a list. This list is then used to fill the initial sampleset."
   ]
  },
  {
   "cell_type": "code",
   "execution_count": 13,
   "metadata": {
    "collapsed": false
   },
   "outputs": [],
   "source": [
    "useful_trajectory_parts = []\n",
    "for ens in scheme.find_used_ensembles():\n",
    "    useful_trajectory_parts.extend(ens.split(traj))"
   ]
  },
  {
   "cell_type": "code",
   "execution_count": 14,
   "metadata": {
    "collapsed": false
   },
   "outputs": [
    {
     "name": "stdout",
     "output_type": "stream",
     "text": [
      "No missing ensembles.\n",
      "No extra ensembles.\n",
      "No missing ensembles.\n",
      "No extra ensembles.\n",
      "\n"
     ]
    }
   ],
   "source": [
    "initial_conditions = scheme.initial_conditions_from_trajectories(useful_trajectory_parts)\n",
    "print scheme.initial_conditions_report(initial_conditions)"
   ]
  },
  {
   "cell_type": "markdown",
   "metadata": {},
   "source": [
    "We could save for later, but we will do this in memory."
   ]
  },
  {
   "cell_type": "code",
   "execution_count": 15,
   "metadata": {
    "collapsed": false
   },
   "outputs": [],
   "source": [
    "# storage = paths.Storage(\"msm.nc\", \"w\", use_uuid=False)\n",
    "# storage.set_caching_mode('analysis')"
   ]
  },
  {
   "cell_type": "code",
   "execution_count": 16,
   "metadata": {
    "collapsed": false
   },
   "outputs": [
    {
     "data": {
      "text/plain": [
       "[<matplotlib.lines.Line2D at 0x10e888d10>]"
      ]
     },
     "execution_count": 16,
     "metadata": {},
     "output_type": "execute_result"
    },
    {
     "data": {
      "image/png": "[encoded data removed]",
      "text/plain": [
       "<matplotlib.figure.Figure at 0x1278df5d0>"
      ]
     },
     "metadata": {},
     "output_type": "display_data"
    }
   ],
   "source": [
    "plt.plot(traj.state)"
   ]
  },
  {
   "cell_type": "markdown",
   "metadata": {},
   "source": [
    "We use a special MSM step sampler that will add all the steps to a list instead of saving these to disk.\n",
    "You could later save these using `map(storage.steps, steps)`, but we don't want to do that here."
   ]
  },
  {
   "cell_type": "code",
   "execution_count": 17,
   "metadata": {
    "collapsed": true
   },
   "outputs": [],
   "source": [
    "steps=[]"
   ]
  },
  {
   "cell_type": "code",
   "execution_count": 18,
   "metadata": {
    "collapsed": false
   },
   "outputs": [],
   "source": [
    "sampler = msm.StepSampling(\n",
    "    steplist=steps,  \n",
    "    move_scheme=scheme,\n",
    "    sample_set=initial_conditions\n",
    ")"
   ]
  },
  {
   "cell_type": "code",
   "execution_count": 19,
   "metadata": {
    "collapsed": false
   },
   "outputs": [
    {
     "name": "stdout",
     "output_type": "stream",
     "text": [
      "Working on Monte Carlo cycle number 5000\n",
      "Running for 90 seconds - 55.35 steps per second\n",
      "Expected time to finish: 0 seconds\n",
      "DONE! Completed 5000 Monte Carlo cycles.\n",
      "CPU times: user 1min 21s, sys: 27 s, total: 1min 48s\n",
      "Wall time: 1min 30s\n"
     ]
    }
   ],
   "source": [
    "%%time\n",
    "sampler.run(5000)"
   ]
  },
  {
   "cell_type": "code",
   "execution_count": 20,
   "metadata": {
    "collapsed": false
   },
   "outputs": [
    {
     "data": {
      "text/plain": [
       "5001"
      ]
     },
     "execution_count": 20,
     "metadata": {},
     "output_type": "execute_result"
    }
   ],
   "source": [
    "len(steps)"
   ]
  },
  {
   "cell_type": "code",
   "execution_count": 20,
   "metadata": {
    "collapsed": false
   },
   "outputs": [],
   "source": [
    "# sum(map(len, storage.trajectories))"
   ]
  },
  {
   "cell_type": "code",
   "execution_count": 21,
   "metadata": {
    "collapsed": false
   },
   "outputs": [],
   "source": [
    "# len(storage.trajectories)"
   ]
  },
  {
   "cell_type": "markdown",
   "metadata": {},
   "source": [
    "In case we want to analyze from storage"
   ]
  },
  {
   "cell_type": "code",
   "execution_count": 22,
   "metadata": {
    "collapsed": true
   },
   "outputs": [],
   "source": [
    "# steps = storage.steps"
   ]
  },
  {
   "cell_type": "code",
   "execution_count": 21,
   "metadata": {
    "collapsed": false
   },
   "outputs": [
    {
     "data": {
      "text/plain": [
       "<openpathsampling.sample.SampleSet at 0x125617790>"
      ]
     },
     "execution_count": 21,
     "metadata": {},
     "output_type": "execute_result"
    }
   ],
   "source": [
    "steps[0].active"
   ]
  },
  {
   "cell_type": "markdown",
   "metadata": {},
   "source": [
    "Get the path lengths"
   ]
  },
  {
   "cell_type": "code",
   "execution_count": 22,
   "metadata": {
    "collapsed": false
   },
   "outputs": [],
   "source": [
    "path_lengths = [len(step.active[0].trajectory) for step in steps[1:]]"
   ]
  },
  {
   "cell_type": "code",
   "execution_count": 23,
   "metadata": {
    "collapsed": false
   },
   "outputs": [
    {
     "name": "stdout",
     "output_type": "stream",
     "text": [
      "Maximum: 179 (1790)\n",
      "Average: 37.71 (377.08)\n"
     ]
    },
    {
     "data": {
      "image/png": "[encoded data removed]",
      "text/plain": [
       "<matplotlib.figure.Figure at 0x12e581450>"
      ]
     },
     "metadata": {},
     "output_type": "display_data"
    }
   ],
   "source": [
    "print \"Maximum:\", max(path_lengths), \"(\"+str(max(path_lengths)*engine.snapshot_timestep)+\")\"\n",
    "print \"Average:\", \"{0:.2f}\".format(np.mean(path_lengths)), \"(\"+\"{0:.2f}\".format(np.mean(path_lengths)*engine.snapshot_timestep)+\")\"\n",
    "plt.hist(path_lengths, bins=40, alpha=0.5);\n"
   ]
  },
  {
   "cell_type": "code",
   "execution_count": 24,
   "metadata": {
    "collapsed": false
   },
   "outputs": [],
   "source": [
    "ooms = np.array([np.dot(np.diag([1 if x == row else 0 for x in range(4)]), mat) for row in range(len(mat))])"
   ]
  },
  {
   "cell_type": "markdown",
   "metadata": {},
   "source": [
    "Use OOM formalism to compute path probability"
   ]
  },
  {
   "cell_type": "code",
   "execution_count": 26,
   "metadata": {
    "collapsed": true
   },
   "outputs": [],
   "source": [
    "oA = ooms[0]\n",
    "oX = ooms[1] + ooms[2]\n",
    "oB = ooms[3]\n",
    "ones = np.ones(4)\n",
    "pin = np.linalg.eig(mat)[1][0]\n",
    "pi = pin / sum(pin)"
   ]
  },
  {
   "cell_type": "code",
   "execution_count": 27,
   "metadata": {
    "collapsed": false
   },
   "outputs": [],
   "source": [
    "v1 = np.dot(np.dot(pi, np.dot(np.dot(oA, np.dot(oX, np.linalg.inv(np.eye(4) - oX))), oB)), ones)\n",
    "v2 = np.dot(np.dot(pi, oA), ones)"
   ]
  },
  {
   "cell_type": "code",
   "execution_count": 32,
   "metadata": {
    "collapsed": false
   },
   "outputs": [
    {
     "data": {
      "text/plain": [
       "0.0071428571428571305"
      ]
     },
     "execution_count": 32,
     "metadata": {},
     "output_type": "execute_result"
    }
   ],
   "source": [
    "v1/v2"
   ]
  },
  {
   "cell_type": "markdown",
   "metadata": {},
   "source": [
    "**TODO: Use analytic expression for pathlength**"
   ]
  },
  {
   "cell_type": "markdown",
   "metadata": {},
   "source": [
    "And some visualization"
   ]
  },
  {
   "cell_type": "code",
   "execution_count": 29,
   "metadata": {
    "collapsed": true
   },
   "outputs": [],
   "source": [
    "import openpathsampling.visualize as ops_vis\n",
    "from IPython.display import SVG"
   ]
  },
  {
   "cell_type": "code",
   "execution_count": 30,
   "metadata": {
    "collapsed": false
   },
   "outputs": [],
   "source": [
    "history = ops_vis.PathTree(\n",
    "    steps[:250],\n",
    "    ops_vis.ReplicaEvolution(\n",
    "        replica=0,\n",
    "        accepted=True\n",
    "    )\n",
    ")\n",
    "history.states = {\n",
    "    'red': stateA,\n",
    "    'orange': msm.Block([1]),\n",
    "    'greenyellow': msm.Block([2]),\n",
    "    'green': stateB\n",
    "}\n",
    "history.options.css['scale_x'] = 3\n",
    "history.options.css['scale_y'] = 5\n",
    "history.options.movers['ForwardShootMover']['suffix'] = ''\n",
    "history.options.movers['BackwardShootMover']['suffix'] = ''\n",
    "history.options.ui['legends'] = []\n",
    "history.options.css['width'] = '100%'"
   ]
  },
  {
   "cell_type": "code",
   "execution_count": 31,
   "metadata": {
    "collapsed": false,
    "scrolled": false
   },
   "outputs": [
    {
     "data": {
      "image/svg+xml": [
       "<svg baseProfile=\"full\" class=\"opstree\" height=\"100%\" id=\"pathtree-0\" version=\"1.1\" viewBox=\"-16.00 -7.50 620.00 440.00\" width=\"100%\" xmlns=\"http://www.w3.org/2000/svg\" xmlns:ev=\"http://www.w3.org/2001/xml-events\" xmlns:xlink=\"http://www.w3.org/1999/xlink\"><defs><style type=\"text/css\"><![CDATA[.opstree text, .movetree text {\n",
       "    alignment-baseline: central;\n",
       "    font-size: 10px;\n",
       "    text-anchor: middle;\n",
       "    font-family: Futura-CondensedMedium;\n",
       "    font-weight: lighter;\n",
       "    stroke: none !important;\n",
       "}\n",
       ".opstree .block text, .movetree .block text {\n",
       "    alignment-baseline: central;\n",
       "    font-size: 8px;\n",
       "    text-anchor: middle;\n",
       "    font-family: Futura-CondensedMedium;\n",
       "    font-weight: lighter;\n",
       "    stroke: none !important;\n",
       "}\n",
       ".opstree text.shadow {\n",
       "    stroke-width: 3;\n",
       "    stroke: white !important;\n",
       "}\n",
       ".opstree .left.label .shift text {\n",
       "    text-anchor: end;\n",
       "}\n",
       ".opstree .right.label .shift text {\n",
       "    text-anchor: start;\n",
       "}\n",
       ".opstree .block text, .movetree .block text {\n",
       "    fill: white !important;\n",
       "    stroke: none !important;\n",
       "}\n",
       ".opstree .block {\n",
       "    stroke: none !important;\n",
       "}\n",
       ".opstree g.block:hover rect {\n",
       "    opacity: 0.5;\n",
       "}\n",
       ".opstree .repex {\n",
       "    fill: blue;\n",
       "    stroke: blue;\n",
       "}\n",
       ".opstree .extend {\n",
       "    fill: blue;\n",
       "    stroke: blue;\n",
       "}\n",
       ".opstree .truncate {\n",
       "    fill: blue;\n",
       "    stroke: blue;\n",
       "}\n",
       ".opstree .new {\n",
       "    fill: black;\n",
       "    stroke: black;\n",
       "}\n",
       ".opstree .unknown {\n",
       "    fill: gray;\n",
       "    stroke: gray;\n",
       "}\n",
       ".opstree .hop {\n",
       "    fill: blue;\n",
       "    stroke: blue;\n",
       "}\n",
       ".opstree .correlation {\n",
       "    fill: black;\n",
       "    stroke: black;\n",
       "}\n",
       ".opstree .shooting.bw {\n",
       "    fill: green;\n",
       "    stroke: green;\n",
       "}\n",
       ".opstree .shooting.fw {\n",
       "    fill: red;\n",
       "    stroke: red;\n",
       "}\n",
       ".opstree .shooting.overlap {\n",
       "    fill: #666;\n",
       "    stroke: #666;\n",
       "}\n",
       ".opstree .reversal {\n",
       "    fill: gold;\n",
       "    stroke: gold;\n",
       "}\n",
       ".opstree .virtual {\n",
       "    opacity: 0.1;\n",
       "    fill:gray;\n",
       "    stroke: none;\n",
       "}\n",
       ".opstree line {\n",
       "    stroke-width: 2px;\n",
       "}\n",
       ".opstree .label {\n",
       "    fill: black !important;\n",
       "}\n",
       ".opstree .h-connector {\n",
       "    stroke-width: 0.1px;\n",
       "    stroke-dasharray: 3 3;\n",
       "}\n",
       ".opstree .rejected {\n",
       "    opacity: 0.25;\n",
       "}\n",
       ".opstree .level {\n",
       "    opacity: 0.25;\n",
       "}\n",
       ".opstree .orange {\n",
       "    fill: orange;\n",
       "}\n",
       ".tableline {\n",
       "    fill: gray;\n",
       "    opacity: 0.0;\n",
       "}\n",
       ".tableline:hover {\n",
       "    opacity: 0.2;\n",
       "}\n",
       ".opstree .left.label g.shift {\n",
       "    transform: translateX(-6px);\n",
       "}\n",
       ".opstree .right.label g.shift {\n",
       "    transform: translateX(+6px);\n",
       "}\n",
       ".opstree .infobox text {\n",
       "    text-anchor: start;\n",
       "}\n",
       ".opstree .shade {\n",
       "    stroke: none;\n",
       "}\n",
       "\n",
       ".movetree .label .shift {\n",
       "    transform: translateX(-18px);\n",
       "}\n",
       "\n",
       ".movetree .label text {\n",
       "    text-anchor: end;\n",
       "}\n",
       ".movetree .v-connector {\n",
       "    stroke: black;\n",
       "}\n",
       ".movetree .v-hook {\n",
       "    stroke: black;\n",
       "}\n",
       ".movetree .h-connector {\n",
       "    stroke: black;\n",
       "}\n",
       ".movetree .ensembles .head .shift {\n",
       "    transform: translateY(0px) rotate(270deg) ;\n",
       "}\n",
       ".movetree .ensembles .head text {\n",
       "    text-anchor: start;\n",
       "}\n",
       ".movetree .connector.input {\n",
       "    fill: green;\n",
       "}\n",
       ".movetree .connector.output {\n",
       "    fill: red;\n",
       "}\n",
       ".movetree .unknown {\n",
       "    fill: gray;\n",
       "}]]></style></defs><g transform=\"scale(1.0)\"><g class=\"tree\" transform=\"translate(470,5)\"><g class=\"trajectory-label\"><g class=\"unknown left label\" transform=\"translate(0,0)\"><g class=\"shift\"><text x=\"0\" y=\"0\">+</text></g></g><g class=\"shooting left label\" transform=\"translate(-15,5)\"><g class=\"shift\"><text x=\"0\" y=\"0\"/></g></g><g class=\"shooting right label\" transform=\"translate(69,10)\"><g class=\"shift\"><text x=\"0\" y=\"0\"/></g></g><g class=\"shooting left label\" transform=\"translate(-15,15)\"><g class=\"shift\"><text x=\"0\" y=\"0\"/></g></g><g class=\"shooting right label\" transform=\"translate(54,20)\"><g class=\"shift\"><text x=\"0\" y=\"0\"/></g></g><g class=\"shooting left label\" transform=\"translate(-117,25)\"><g class=\"shift\"><text x=\"0\" y=\"0\"/></g></g><g class=\"shooting left label\" transform=\"translate(-6,30)\"><g class=\"shift\"><text x=\"0\" y=\"0\"/></g></g><g class=\"shooting left label\" transform=\"translate(-63,35)\"><g class=\"shift\"><text x=\"0\" y=\"0\"/></g></g><g class=\"shooting left label\" transform=\"translate(-18,40)\"><g class=\"shift\"><text x=\"0\" y=\"0\"/></g></g><g class=\"shooting left label\" transform=\"translate(-18,45)\"><g class=\"shift\"><text x=\"0\" y=\"0\"/></g></g><g class=\"shooting left label\" transform=\"translate(0,50)\"><g class=\"shift\"><text x=\"0\" y=\"0\"/></g></g><g class=\"shooting left label\" transform=\"translate(12,55)\"><g class=\"shift\"><text x=\"0\" y=\"0\"/></g></g><g class=\"shooting left label\" transform=\"translate(-78,60)\"><g class=\"shift\"><text x=\"0\" y=\"0\"/></g></g><g class=\"shooting left label\" transform=\"translate(24,65)\"><g class=\"shift\"><text x=\"0\" y=\"0\"/></g></g><g class=\"shooting right label\" transform=\"translate(60,70)\"><g class=\"shift\"><text x=\"0\" y=\"0\"/></g></g><g class=\"shooting left label\" transform=\"translate(-6,75)\"><g class=\"shift\"><text x=\"0\" y=\"0\"/></g></g><g class=\"shooting right label\" transform=\"translate(54,80)\"><g class=\"shift\"><text x=\"0\" y=\"0\"/></g></g><g class=\"shooting right label\" transform=\"translate(90,85)\"><g class=\"shift\"><text x=\"0\" y=\"0\"/></g></g><g class=\"shooting right label\" transform=\"translate(12,90)\"><g class=\"shift\"><text x=\"0\" y=\"0\"/></g></g><g class=\"shooting left label\" transform=\"translate(-6,95)\"><g class=\"shift\"><text x=\"0\" y=\"0\"/></g></g><g class=\"shooting right label\" transform=\"translate(36,100)\"><g class=\"shift\"><text x=\"0\" y=\"0\"/></g></g><g class=\"shooting right label\" transform=\"translate(60,105)\"><g class=\"shift\"><text x=\"0\" y=\"0\"/></g></g><g class=\"shooting left label\" transform=\"translate(39,110)\"><g class=\"shift\"><text x=\"0\" y=\"0\"/></g></g><g class=\"shooting right label\" transform=\"translate(75,115)\"><g class=\"shift\"><text x=\"0\" y=\"0\"/></g></g><g class=\"shooting right label\" transform=\"translate(99,120)\"><g class=\"shift\"><text x=\"0\" y=\"0\"/></g></g><g class=\"shooting right label\" transform=\"translate(78,125)\"><g class=\"shift\"><text x=\"0\" y=\"0\"/></g></g><g class=\"shooting right label\" transform=\"translate(87,130)\"><g class=\"shift\"><text x=\"0\" y=\"0\"/></g></g><g class=\"shooting left label\" transform=\"translate(-120,135)\"><g class=\"shift\"><text x=\"0\" y=\"0\"/></g></g><g class=\"shooting left label\" transform=\"translate(-51,140)\"><g class=\"shift\"><text x=\"0\" y=\"0\"/></g></g><g class=\"shooting left label\" transform=\"translate(-102,145)\"><g class=\"shift\"><text x=\"0\" y=\"0\"/></g></g><g class=\"shooting left label\" transform=\"translate(15,150)\"><g class=\"shift\"><text x=\"0\" y=\"0\"/></g></g><g class=\"shooting right label\" transform=\"translate(84,155)\"><g class=\"shift\"><text x=\"0\" y=\"0\"/></g></g><g class=\"shooting left label\" transform=\"translate(12,160)\"><g class=\"shift\"><text x=\"0\" y=\"0\"/></g></g><g class=\"shooting left label\" transform=\"translate(-9,165)\"><g class=\"shift\"><text x=\"0\" y=\"0\"/></g></g><g class=\"shooting left label\" transform=\"translate(-93,170)\"><g class=\"shift\"><text x=\"0\" y=\"0\"/></g></g><g class=\"shooting right label\" transform=\"translate(45,175)\"><g class=\"shift\"><text x=\"0\" y=\"0\"/></g></g><g class=\"shooting right label\" transform=\"translate(-63,180)\"><g class=\"shift\"><text x=\"0\" y=\"0\"/></g></g><g class=\"shooting right label\" transform=\"translate(-78,185)\"><g class=\"shift\"><text x=\"0\" y=\"0\"/></g></g><g class=\"shooting right label\" transform=\"translate(0,190)\"><g class=\"shift\"><text x=\"0\" y=\"0\"/></g></g><g class=\"shooting right label\" transform=\"translate(-9,195)\"><g class=\"shift\"><text x=\"0\" y=\"0\"/></g></g><g class=\"shooting right label\" transform=\"translate(-21,200)\"><g class=\"shift\"><text x=\"0\" y=\"0\"/></g></g><g class=\"shooting left label\" transform=\"translate(-435,205)\"><g class=\"shift\"><text x=\"0\" y=\"0\"/></g></g><g class=\"shooting right label\" transform=\"translate(-6,210)\"><g class=\"shift\"><text x=\"0\" y=\"0\"/></g></g><g class=\"shooting left label\" transform=\"translate(-360,215)\"><g class=\"shift\"><text x=\"0\" y=\"0\"/></g></g><g class=\"shooting right label\" transform=\"translate(-144,220)\"><g class=\"shift\"><text x=\"0\" y=\"0\"/></g></g><g class=\"shooting left label\" transform=\"translate(-309,225)\"><g class=\"shift\"><text x=\"0\" y=\"0\"/></g></g><g class=\"shooting right label\" transform=\"translate(-87,230)\"><g class=\"shift\"><text x=\"0\" y=\"0\"/></g></g><g class=\"shooting left label\" transform=\"translate(-282,235)\"><g class=\"shift\"><text x=\"0\" y=\"0\"/></g></g><g class=\"shooting right label\" transform=\"translate(-120,240)\"><g class=\"shift\"><text x=\"0\" y=\"0\"/></g></g><g class=\"shooting right label\" transform=\"translate(-120,245)\"><g class=\"shift\"><text x=\"0\" y=\"0\"/></g></g><g class=\"shooting right label\" transform=\"translate(-141,250)\"><g class=\"shift\"><text x=\"0\" y=\"0\"/></g></g><g class=\"shooting right label\" transform=\"translate(-219,255)\"><g class=\"shift\"><text x=\"0\" y=\"0\"/></g></g><g class=\"shooting right label\" transform=\"translate(-213,260)\"><g class=\"shift\"><text x=\"0\" y=\"0\"/></g></g><g class=\"shooting right label\" transform=\"translate(-246,265)\"><g class=\"shift\"><text x=\"0\" y=\"0\"/></g></g><g class=\"shooting right label\" transform=\"translate(-234,270)\"><g class=\"shift\"><text x=\"0\" y=\"0\"/></g></g><g class=\"shooting right label\" transform=\"translate(-240,275)\"><g class=\"shift\"><text x=\"0\" y=\"0\"/></g></g><g class=\"shooting left label\" transform=\"translate(-315,280)\"><g class=\"shift\"><text x=\"0\" y=\"0\"/></g></g><g class=\"shooting right label\" transform=\"translate(-189,285)\"><g class=\"shift\"><text x=\"0\" y=\"0\"/></g></g><g class=\"shooting right label\" transform=\"translate(-231,290)\"><g class=\"shift\"><text x=\"0\" y=\"0\"/></g></g><g class=\"shooting right label\" transform=\"translate(-156,295)\"><g class=\"shift\"><text x=\"0\" y=\"0\"/></g></g><g class=\"shooting right label\" transform=\"translate(-192,300)\"><g class=\"shift\"><text x=\"0\" y=\"0\"/></g></g><g class=\"shooting right label\" transform=\"translate(-183,305)\"><g class=\"shift\"><text x=\"0\" y=\"0\"/></g></g><g class=\"shooting right label\" transform=\"translate(-228,310)\"><g class=\"shift\"><text x=\"0\" y=\"0\"/></g></g><g class=\"shooting right label\" transform=\"translate(-276,315)\"><g class=\"shift\"><text x=\"0\" y=\"0\"/></g></g><g class=\"shooting left label\" transform=\"translate(-300,320)\"><g class=\"shift\"><text x=\"0\" y=\"0\"/></g></g><g class=\"shooting left label\" transform=\"translate(-357,325)\"><g class=\"shift\"><text x=\"0\" y=\"0\"/></g></g><g class=\"shooting left label\" transform=\"translate(-324,330)\"><g class=\"shift\"><text x=\"0\" y=\"0\"/></g></g><g class=\"shooting left label\" transform=\"translate(-345,335)\"><g class=\"shift\"><text x=\"0\" y=\"0\"/></g></g><g class=\"shooting left label\" transform=\"translate(-345,340)\"><g class=\"shift\"><text x=\"0\" y=\"0\"/></g></g><g class=\"shooting left label\" transform=\"translate(-333,345)\"><g class=\"shift\"><text x=\"0\" y=\"0\"/></g></g><g class=\"shooting left label\" transform=\"translate(-342,350)\"><g class=\"shift\"><text x=\"0\" y=\"0\"/></g></g><g class=\"shooting left label\" transform=\"translate(-396,355)\"><g class=\"shift\"><text x=\"0\" y=\"0\"/></g></g><g class=\"shooting left label\" transform=\"translate(-351,360)\"><g class=\"shift\"><text x=\"0\" y=\"0\"/></g></g><g class=\"shooting left label\" transform=\"translate(-339,365)\"><g class=\"shift\"><text x=\"0\" y=\"0\"/></g></g><g class=\"shooting left label\" transform=\"translate(-348,370)\"><g class=\"shift\"><text x=\"0\" y=\"0\"/></g></g><g class=\"shooting left label\" transform=\"translate(-363,375)\"><g class=\"shift\"><text x=\"0\" y=\"0\"/></g></g><g class=\"shooting left label\" transform=\"translate(-408,380)\"><g class=\"shift\"><text x=\"0\" y=\"0\"/></g></g><g class=\"shooting left label\" transform=\"translate(-348,385)\"><g class=\"shift\"><text x=\"0\" y=\"0\"/></g></g><g class=\"shooting left label\" transform=\"translate(-291,390)\"><g class=\"shift\"><text x=\"0\" y=\"0\"/></g></g><g class=\"shooting right label\" transform=\"translate(-276,395)\"><g class=\"shift\"><text x=\"0\" y=\"0\"/></g></g><g class=\"shooting right label\" transform=\"translate(-258,400)\"><g class=\"shift\"><text x=\"0\" y=\"0\"/></g></g><g class=\"shooting right label\" transform=\"translate(-228,405)\"><g class=\"shift\"><text x=\"0\" y=\"0\"/></g></g><g class=\"shooting left label\" transform=\"translate(-291,410)\"><g class=\"shift\"><text x=\"0\" y=\"0\"/></g></g><g class=\"shooting right label\" transform=\"translate(-273,415)\"><g class=\"shift\"><text x=\"0\" y=\"0\"/></g></g><g class=\"shooting left label\" transform=\"translate(-288,420)\"><g class=\"shift\"><text x=\"0\" y=\"0\"/></g></g><g class=\"shooting left label\" transform=\"translate(-294,425)\"><g class=\"shift\"><text x=\"0\" y=\"0\"/></g></g></g><g class=\"shooting-hooks\"><line class=\"shooting bw connection v-connector\" x1=\"4.5\" x2=\"4.5\" y1=\"0.0\" y2=\"5.0\"/><line class=\"shooting fw connection v-connector\" x1=\"37.5\" x2=\"37.5\" y1=\"0.0\" y2=\"10.0\"/><line class=\"shooting bw connection v-connector\" x1=\"-4.5\" x2=\"-4.5\" y1=\"5.0\" y2=\"15.0\"/><line class=\"shooting fw connection v-connector\" x1=\"43.5\" x2=\"43.5\" y1=\"10.0\" y2=\"20.0\"/><line class=\"shooting bw connection v-connector\" x1=\"28.5\" x2=\"28.5\" y1=\"0.0\" y2=\"25.0\"/><line class=\"shooting bw connection v-connector\" x1=\"4.5\" x2=\"4.5\" y1=\"25.0\" y2=\"30.0\"/><line class=\"shooting bw connection v-connector\" x1=\"-1.5\" x2=\"-1.5\" y1=\"30.0\" y2=\"35.0\"/><line class=\"shooting bw connection v-connector\" x1=\"10.5\" x2=\"10.5\" y1=\"25.0\" y2=\"40.0\"/><line class=\"shooting bw connection v-connector\" x1=\"1.5\" x2=\"1.5\" y1=\"40.0\" y2=\"45.0\"/><line class=\"shooting bw connection v-connector\" x1=\"4.5\" x2=\"4.5\" y1=\"40.0\" y2=\"50.0\"/><line class=\"shooting bw connection v-connector\" x1=\"13.5\" x2=\"13.5\" y1=\"25.0\" y2=\"55.0\"/><line class=\"shooting bw connection v-connector\" x1=\"16.5\" x2=\"16.5\" y1=\"25.0\" y2=\"60.0\"/><line class=\"shooting bw connection v-connector\" x1=\"28.5\" x2=\"28.5\" y1=\"0.0\" y2=\"65.0\"/><line class=\"shooting fw connection v-connector\" x1=\"37.5\" x2=\"37.5\" y1=\"0.0\" y2=\"70.0\"/><line class=\"shooting bw connection v-connector\" x1=\"52.5\" x2=\"52.5\" y1=\"70.0\" y2=\"75.0\"/><line class=\"shooting fw connection v-connector\" x1=\"52.5\" x2=\"52.5\" y1=\"75.0\" y2=\"80.0\"/><line class=\"shooting fw connection v-connector\" x1=\"43.5\" x2=\"43.5\" y1=\"75.0\" y2=\"85.0\"/><line class=\"shooting fw connection v-connector\" x1=\"4.5\" x2=\"4.5\" y1=\"75.0\" y2=\"90.0\"/><line class=\"shooting bw connection v-connector\" x1=\"-4.5\" x2=\"-4.5\" y1=\"75.0\" y2=\"95.0\"/><line class=\"shooting fw connection v-connector\" x1=\"7.5\" x2=\"7.5\" y1=\"90.0\" y2=\"100.0\"/><line class=\"shooting fw connection v-connector\" x1=\"10.5\" x2=\"10.5\" y1=\"100.0\" y2=\"105.0\"/><line class=\"shooting bw connection v-connector\" x1=\"49.5\" x2=\"49.5\" y1=\"105.0\" y2=\"110.0\"/><line class=\"shooting fw connection v-connector\" x1=\"58.5\" x2=\"58.5\" y1=\"105.0\" y2=\"115.0\"/><line class=\"shooting fw connection v-connector\" x1=\"58.5\" x2=\"58.5\" y1=\"105.0\" y2=\"120.0\"/><line class=\"shooting fw connection v-connector\" x1=\"76.5\" x2=\"76.5\" y1=\"120.0\" y2=\"125.0\"/><line class=\"shooting fw connection v-connector\" x1=\"61.5\" x2=\"61.5\" y1=\"120.0\" y2=\"130.0\"/><line class=\"shooting bw connection v-connector\" x1=\"67.5\" x2=\"67.5\" y1=\"130.0\" y2=\"135.0\"/><line class=\"shooting bw connection v-connector\" x1=\"-7.5\" x2=\"-7.5\" y1=\"135.0\" y2=\"140.0\"/><line class=\"shooting bw connection v-connector\" x1=\"-28.5\" x2=\"-28.5\" y1=\"140.0\" y2=\"145.0\"/><line class=\"shooting bw connection v-connector\" x1=\"19.5\" x2=\"19.5\" y1=\"135.0\" y2=\"150.0\"/><line class=\"shooting fw connection v-connector\" x1=\"58.5\" x2=\"58.5\" y1=\"135.0\" y2=\"155.0\"/><line class=\"shooting bw connection v-connector\" x1=\"31.5\" x2=\"31.5\" y1=\"135.0\" y2=\"160.0\"/><line class=\"shooting bw connection v-connector\" x1=\"31.5\" x2=\"31.5\" y1=\"135.0\" y2=\"165.0\"/><line class=\"shooting bw connection v-connector\" x1=\"70.5\" x2=\"70.5\" y1=\"155.0\" y2=\"170.0\"/><line class=\"shooting fw connection v-connector\" x1=\"25.5\" x2=\"25.5\" y1=\"170.0\" y2=\"175.0\"/><line class=\"shooting fw connection v-connector\" x1=\"-67.5\" x2=\"-67.5\" y1=\"170.0\" y2=\"180.0\"/><line class=\"shooting fw connection v-connector\" x1=\"-85.5\" x2=\"-85.5\" y1=\"170.0\" y2=\"185.0\"/><line class=\"shooting fw connection v-connector\" x1=\"-82.5\" x2=\"-82.5\" y1=\"185.0\" y2=\"190.0\"/><line class=\"shooting fw connection v-connector\" x1=\"-28.5\" x2=\"-28.5\" y1=\"190.0\" y2=\"195.0\"/><line class=\"shooting fw connection v-connector\" x1=\"-34.5\" x2=\"-34.5\" y1=\"190.0\" y2=\"200.0\"/><line class=\"shooting bw connection v-connector\" x1=\"-85.5\" x2=\"-85.5\" y1=\"185.0\" y2=\"205.0\"/><line class=\"shooting fw connection v-connector\" x1=\"-58.5\" x2=\"-58.5\" y1=\"190.0\" y2=\"210.0\"/><line class=\"shooting bw connection v-connector\" x1=\"-319.5\" x2=\"-319.5\" y1=\"205.0\" y2=\"215.0\"/><line class=\"shooting fw connection v-connector\" x1=\"-172.5\" x2=\"-172.5\" y1=\"205.0\" y2=\"220.0\"/><line class=\"shooting bw connection v-connector\" x1=\"-283.5\" x2=\"-283.5\" y1=\"205.0\" y2=\"225.0\"/><line class=\"shooting fw connection v-connector\" x1=\"-169.5\" x2=\"-169.5\" y1=\"220.0\" y2=\"230.0\"/><line class=\"shooting bw connection v-connector\" x1=\"-154.5\" x2=\"-154.5\" y1=\"230.0\" y2=\"235.0\"/><line class=\"shooting fw connection v-connector\" x1=\"-124.5\" x2=\"-124.5\" y1=\"230.0\" y2=\"240.0\"/><line class=\"shooting fw connection v-connector\" x1=\"-181.5\" x2=\"-181.5\" y1=\"235.0\" y2=\"245.0\"/><line class=\"shooting fw connection v-connector\" x1=\"-205.5\" x2=\"-205.5\" y1=\"235.0\" y2=\"250.0\"/><line class=\"shooting fw connection v-connector\" x1=\"-262.5\" x2=\"-262.5\" y1=\"235.0\" y2=\"255.0\"/><line class=\"shooting fw connection v-connector\" x1=\"-244.5\" x2=\"-244.5\" y1=\"255.0\" y2=\"260.0\"/><line class=\"shooting fw connection v-connector\" x1=\"-247.5\" x2=\"-247.5\" y1=\"255.0\" y2=\"265.0\"/><line class=\"shooting fw connection v-connector\" x1=\"-262.5\" x2=\"-262.5\" y1=\"235.0\" y2=\"270.0\"/><line class=\"shooting fw connection v-connector\" x1=\"-250.5\" x2=\"-250.5\" y1=\"270.0\" y2=\"275.0\"/><line class=\"shooting bw connection v-connector\" x1=\"-274.5\" x2=\"-274.5\" y1=\"235.0\" y2=\"280.0\"/><line class=\"shooting fw connection v-connector\" x1=\"-247.5\" x2=\"-247.5\" y1=\"275.0\" y2=\"285.0\"/><line class=\"shooting fw connection v-connector\" x1=\"-244.5\" x2=\"-244.5\" y1=\"285.0\" y2=\"290.0\"/><line class=\"shooting fw connection v-connector\" x1=\"-256.5\" x2=\"-256.5\" y1=\"270.0\" y2=\"295.0\"/><line class=\"shooting fw connection v-connector\" x1=\"-235.5\" x2=\"-235.5\" y1=\"295.0\" y2=\"300.0\"/><line class=\"shooting fw connection v-connector\" x1=\"-202.5\" x2=\"-202.5\" y1=\"300.0\" y2=\"305.0\"/><line class=\"shooting fw connection v-connector\" x1=\"-265.5\" x2=\"-265.5\" y1=\"235.0\" y2=\"310.0\"/><line class=\"shooting fw connection v-connector\" x1=\"-292.5\" x2=\"-292.5\" y1=\"280.0\" y2=\"315.0\"/><line class=\"shooting bw connection v-connector\" x1=\"-298.5\" x2=\"-298.5\" y1=\"280.0\" y2=\"320.0\"/><line class=\"shooting bw connection v-connector\" x1=\"-298.5\" x2=\"-298.5\" y1=\"280.0\" y2=\"325.0\"/><line class=\"shooting bw connection v-connector\" x1=\"-322.5\" x2=\"-322.5\" y1=\"325.0\" y2=\"330.0\"/><line class=\"shooting bw connection v-connector\" x1=\"-292.5\" x2=\"-292.5\" y1=\"315.0\" y2=\"335.0\"/><line class=\"shooting bw connection v-connector\" x1=\"-304.5\" x2=\"-304.5\" y1=\"335.0\" y2=\"340.0\"/><line class=\"shooting bw connection v-connector\" x1=\"-313.5\" x2=\"-313.5\" y1=\"340.0\" y2=\"345.0\"/><line class=\"shooting bw connection v-connector\" x1=\"-325.5\" x2=\"-325.5\" y1=\"345.0\" y2=\"350.0\"/><line class=\"shooting bw connection v-connector\" x1=\"-310.5\" x2=\"-310.5\" y1=\"340.0\" y2=\"355.0\"/><line class=\"shooting bw connection v-connector\" x1=\"-322.5\" x2=\"-322.5\" y1=\"355.0\" y2=\"360.0\"/><line class=\"shooting bw connection v-connector\" x1=\"-334.5\" x2=\"-334.5\" y1=\"360.0\" y2=\"365.0\"/><line class=\"shooting bw connection v-connector\" x1=\"-334.5\" x2=\"-334.5\" y1=\"360.0\" y2=\"370.0\"/><line class=\"shooting bw connection v-connector\" x1=\"-337.5\" x2=\"-337.5\" y1=\"370.0\" y2=\"375.0\"/><line class=\"shooting bw connection v-connector\" x1=\"-310.5\" x2=\"-310.5\" y1=\"340.0\" y2=\"380.0\"/><line class=\"shooting bw connection v-connector\" x1=\"-340.5\" x2=\"-340.5\" y1=\"380.0\" y2=\"385.0\"/><line class=\"shooting bw connection v-connector\" x1=\"-283.5\" x2=\"-283.5\" y1=\"315.0\" y2=\"390.0\"/><line class=\"shooting fw connection v-connector\" x1=\"-277.5\" x2=\"-277.5\" y1=\"315.0\" y2=\"395.0\"/><line class=\"shooting fw connection v-connector\" x1=\"-277.5\" x2=\"-277.5\" y1=\"315.0\" y2=\"400.0\"/><line class=\"shooting fw connection v-connector\" x1=\"-259.5\" x2=\"-259.5\" y1=\"400.0\" y2=\"405.0\"/><line class=\"shooting bw connection v-connector\" x1=\"-289.5\" x2=\"-289.5\" y1=\"390.0\" y2=\"410.0\"/><line class=\"shooting fw connection v-connector\" x1=\"-274.5\" x2=\"-274.5\" y1=\"400.0\" y2=\"415.0\"/><line class=\"shooting bw connection v-connector\" x1=\"-286.5\" x2=\"-286.5\" y1=\"390.0\" y2=\"420.0\"/><line class=\"shooting bw connection v-connector\" x1=\"-286.5\" x2=\"-286.5\" y1=\"390.0\" y2=\"425.0\"/></g><g class=\"snapshot-blocks\"><g class=\"unknown new block\"><rect height=\"3.0\" width=\"99.0\" x=\"-1.5\" y=\"-1.5\"/><circle cx=\"97.5\" cy=\"0\" r=\"0.0\"/><text x=\"48.0\" y=\"0\"/></g><g class=\"shooting bw block\"><rect height=\"3.0\" width=\"21.0\" x=\"-16.5\" y=\"3.5\"/><circle cx=\"4.5\" cy=\"5\" r=\"0.0\"/><text x=\"-6.0\" y=\"5\"/></g><g class=\"shooting fw block\"><rect height=\"3.0\" width=\"33.0\" x=\"37.5\" y=\"8.5\"/><circle cx=\"70.5\" cy=\"10\" r=\"0.0\"/><text x=\"54.0\" y=\"10\"/></g><g class=\"shooting bw block\"><rect height=\"3.0\" width=\"12.0\" x=\"-16.5\" y=\"13.5\"/><circle cx=\"-4.5\" cy=\"15\" r=\"0.0\"/><text x=\"-10.5\" y=\"15\"/></g><g class=\"shooting fw block\"><rect height=\"3.0\" width=\"12.0\" x=\"43.5\" y=\"18.5\"/><circle cx=\"55.5\" cy=\"20\" r=\"0.0\"/><text x=\"49.5\" y=\"20\"/></g><g class=\"shooting bw block\"><rect height=\"3.0\" width=\"147.0\" x=\"-118.5\" y=\"23.5\"/><circle cx=\"28.5\" cy=\"25\" r=\"0.0\"/><text x=\"-45.0\" y=\"25\"/></g><g class=\"shooting bw block\"><rect height=\"3.0\" width=\"12.0\" x=\"-7.5\" y=\"28.5\"/><circle cx=\"4.5\" cy=\"30\" r=\"0.0\"/><text x=\"-1.5\" y=\"30\"/></g><g class=\"shooting bw block\"><rect height=\"3.0\" width=\"63.0\" x=\"-64.5\" y=\"33.5\"/><circle cx=\"-1.5\" cy=\"35\" r=\"0.0\"/><text x=\"-33.0\" y=\"35\"/></g><g class=\"shooting bw block\"><rect height=\"3.0\" width=\"30.0\" x=\"-19.5\" y=\"38.5\"/><circle cx=\"10.5\" cy=\"40\" r=\"0.0\"/><text x=\"-4.5\" y=\"40\"/></g><g class=\"shooting bw block\"><rect height=\"3.0\" width=\"21.0\" x=\"-19.5\" y=\"43.5\"/><circle cx=\"1.5\" cy=\"45\" r=\"0.0\"/><text x=\"-9.0\" y=\"45\"/></g><g class=\"shooting bw block\"><rect height=\"3.0\" width=\"6.0\" x=\"-1.5\" y=\"48.5\"/><circle cx=\"4.5\" cy=\"50\" r=\"0.0\"/><text x=\"1.5\" y=\"50\"/></g><g class=\"shooting bw block\"><rect height=\"3.0\" width=\"3.0\" x=\"10.5\" y=\"53.5\"/><circle cx=\"13.5\" cy=\"55\" r=\"0.0\"/><text x=\"12.0\" y=\"55\"/></g><g class=\"shooting bw block\"><rect height=\"3.0\" width=\"96.0\" x=\"-79.5\" y=\"58.5\"/><circle cx=\"16.5\" cy=\"60\" r=\"0.0\"/><text x=\"-31.5\" y=\"60\"/></g><g class=\"shooting bw block\"><rect height=\"3.0\" width=\"6.0\" x=\"22.5\" y=\"63.5\"/><circle cx=\"28.5\" cy=\"65\" r=\"0.0\"/><text x=\"25.5\" y=\"65\"/></g><g class=\"shooting fw block\"><rect height=\"3.0\" width=\"24.0\" x=\"37.5\" y=\"68.5\"/><circle cx=\"61.5\" cy=\"70\" r=\"0.0\"/><text x=\"49.5\" y=\"70\"/></g><g class=\"shooting bw block\"><rect height=\"3.0\" width=\"60.0\" x=\"-7.5\" y=\"73.5\"/><circle cx=\"52.5\" cy=\"75\" r=\"0.0\"/><text x=\"22.5\" y=\"75\"/></g><g class=\"shooting fw block\"><rect height=\"3.0\" width=\"3.0\" x=\"52.5\" y=\"78.5\"/><circle cx=\"55.5\" cy=\"80\" r=\"0.0\"/><text x=\"54.0\" y=\"80\"/></g><g class=\"shooting fw block\"><rect height=\"3.0\" width=\"48.0\" x=\"43.5\" y=\"83.5\"/><circle cx=\"91.5\" cy=\"85\" r=\"0.0\"/><text x=\"67.5\" y=\"85\"/></g><g class=\"shooting fw block\"><rect height=\"3.0\" width=\"9.0\" x=\"4.5\" y=\"88.5\"/><circle cx=\"13.5\" cy=\"90\" r=\"0.0\"/><text x=\"9.0\" y=\"90\"/></g><g class=\"shooting bw block\"><rect height=\"3.0\" width=\"3.0\" x=\"-7.5\" y=\"93.5\"/><circle cx=\"-4.5\" cy=\"95\" r=\"0.0\"/><text x=\"-6.0\" y=\"95\"/></g><g class=\"shooting fw block\"><rect height=\"3.0\" width=\"30.0\" x=\"7.5\" y=\"98.5\"/><circle cx=\"37.5\" cy=\"100\" r=\"0.0\"/><text x=\"22.5\" y=\"100\"/></g><g class=\"shooting fw block\"><rect height=\"3.0\" width=\"51.0\" x=\"10.5\" y=\"103.5\"/><circle cx=\"61.5\" cy=\"105\" r=\"0.0\"/><text x=\"36.0\" y=\"105\"/></g><g class=\"shooting bw block\"><rect height=\"3.0\" width=\"12.0\" x=\"37.5\" y=\"108.5\"/><circle cx=\"49.5\" cy=\"110\" r=\"0.0\"/><text x=\"43.5\" y=\"110\"/></g><g class=\"shooting fw block\"><rect height=\"3.0\" width=\"18.0\" x=\"58.5\" y=\"113.5\"/><circle cx=\"76.5\" cy=\"115\" r=\"0.0\"/><text x=\"67.5\" y=\"115\"/></g><g class=\"shooting fw block\"><rect height=\"3.0\" width=\"42.0\" x=\"58.5\" y=\"118.5\"/><circle cx=\"100.5\" cy=\"120\" r=\"0.0\"/><text x=\"79.5\" y=\"120\"/></g><g class=\"shooting fw block\"><rect height=\"3.0\" width=\"3.0\" x=\"76.5\" y=\"123.5\"/><circle cx=\"79.5\" cy=\"125\" r=\"0.0\"/><text x=\"78.0\" y=\"125\"/></g><g class=\"shooting fw block\"><rect height=\"3.0\" width=\"27.0\" x=\"61.5\" y=\"128.5\"/><circle cx=\"88.5\" cy=\"130\" r=\"0.0\"/><text x=\"75.0\" y=\"130\"/></g><g class=\"shooting bw block\"><rect height=\"3.0\" width=\"189.0\" x=\"-121.5\" y=\"133.5\"/><circle cx=\"67.5\" cy=\"135\" r=\"0.0\"/><text x=\"-27.0\" y=\"135\"/></g><g class=\"shooting bw block\"><rect height=\"3.0\" width=\"45.0\" x=\"-52.5\" y=\"138.5\"/><circle cx=\"-7.5\" cy=\"140\" r=\"0.0\"/><text x=\"-30.0\" y=\"140\"/></g><g class=\"shooting bw block\"><rect height=\"3.0\" width=\"75.0\" x=\"-103.5\" y=\"143.5\"/><circle cx=\"-28.5\" cy=\"145\" r=\"0.0\"/><text x=\"-66.0\" y=\"145\"/></g><g class=\"shooting bw block\"><rect height=\"3.0\" width=\"6.0\" x=\"13.5\" y=\"148.5\"/><circle cx=\"19.5\" cy=\"150\" r=\"0.0\"/><text x=\"16.5\" y=\"150\"/></g><g class=\"shooting fw block\"><rect height=\"3.0\" width=\"27.0\" x=\"58.5\" y=\"153.5\"/><circle cx=\"85.5\" cy=\"155\" r=\"0.0\"/><text x=\"72.0\" y=\"155\"/></g><g class=\"shooting bw block\"><rect height=\"3.0\" width=\"21.0\" x=\"10.5\" y=\"158.5\"/><circle cx=\"31.5\" cy=\"160\" r=\"0.0\"/><text x=\"21.0\" y=\"160\"/></g><g class=\"shooting bw block\"><rect height=\"3.0\" width=\"42.0\" x=\"-10.5\" y=\"163.5\"/><circle cx=\"31.5\" cy=\"165\" r=\"0.0\"/><text x=\"10.5\" y=\"165\"/></g><g class=\"shooting bw block\"><rect height=\"3.0\" width=\"165.0\" x=\"-94.5\" y=\"168.5\"/><circle cx=\"70.5\" cy=\"170\" r=\"0.0\"/><text x=\"-12.0\" y=\"170\"/></g><g class=\"shooting fw block\"><rect height=\"3.0\" width=\"21.0\" x=\"25.5\" y=\"173.5\"/><circle cx=\"46.5\" cy=\"175\" r=\"0.0\"/><text x=\"36.0\" y=\"175\"/></g><g class=\"shooting fw block\"><rect height=\"3.0\" width=\"6.0\" x=\"-67.5\" y=\"178.5\"/><circle cx=\"-61.5\" cy=\"180\" r=\"0.0\"/><text x=\"-64.5\" y=\"180\"/></g><g class=\"shooting fw block\"><rect height=\"3.0\" width=\"9.0\" x=\"-85.5\" y=\"183.5\"/><circle cx=\"-76.5\" cy=\"185\" r=\"0.0\"/><text x=\"-81.0\" y=\"185\"/></g><g class=\"shooting fw block\"><rect height=\"3.0\" width=\"84.0\" x=\"-82.5\" y=\"188.5\"/><circle cx=\"1.5\" cy=\"190\" r=\"0.0\"/><text x=\"-40.5\" y=\"190\"/></g><g class=\"shooting fw block\"><rect height=\"3.0\" width=\"21.0\" x=\"-28.5\" y=\"193.5\"/><circle cx=\"-7.5\" cy=\"195\" r=\"0.0\"/><text x=\"-18.0\" y=\"195\"/></g><g class=\"shooting fw block\"><rect height=\"3.0\" width=\"15.0\" x=\"-34.5\" y=\"198.5\"/><circle cx=\"-19.5\" cy=\"200\" r=\"0.0\"/><text x=\"-27.0\" y=\"200\"/></g><g class=\"shooting bw block\"><rect height=\"3.0\" width=\"351.0\" x=\"-436.5\" y=\"203.5\"/><circle cx=\"-85.5\" cy=\"205\" r=\"0.0\"/><text x=\"-261.0\" y=\"205\"/></g><g class=\"shooting fw block\"><rect height=\"3.0\" width=\"54.0\" x=\"-58.5\" y=\"208.5\"/><circle cx=\"-4.5\" cy=\"210\" r=\"0.0\"/><text x=\"-31.5\" y=\"210\"/></g><g class=\"shooting bw block\"><rect height=\"3.0\" width=\"42.0\" x=\"-361.5\" y=\"213.5\"/><circle cx=\"-319.5\" cy=\"215\" r=\"0.0\"/><text x=\"-340.5\" y=\"215\"/></g><g class=\"shooting fw block\"><rect height=\"3.0\" width=\"30.0\" x=\"-172.5\" y=\"218.5\"/><circle cx=\"-142.5\" cy=\"220\" r=\"0.0\"/><text x=\"-157.5\" y=\"220\"/></g><g class=\"shooting bw block\"><rect height=\"3.0\" width=\"27.0\" x=\"-310.5\" y=\"223.5\"/><circle cx=\"-283.5\" cy=\"225\" r=\"0.0\"/><text x=\"-297.0\" y=\"225\"/></g><g class=\"shooting fw block\"><rect height=\"3.0\" width=\"84.0\" x=\"-169.5\" y=\"228.5\"/><circle cx=\"-85.5\" cy=\"230\" r=\"0.0\"/><text x=\"-127.5\" y=\"230\"/></g><g class=\"shooting bw block\"><rect height=\"3.0\" width=\"129.0\" x=\"-283.5\" y=\"233.5\"/><circle cx=\"-154.5\" cy=\"235\" r=\"0.0\"/><text x=\"-219.0\" y=\"235\"/></g><g class=\"shooting fw block\"><rect height=\"3.0\" width=\"6.0\" x=\"-124.5\" y=\"238.5\"/><circle cx=\"-118.5\" cy=\"240\" r=\"0.0\"/><text x=\"-121.5\" y=\"240\"/></g><g class=\"shooting fw block\"><rect height=\"3.0\" width=\"63.0\" x=\"-181.5\" y=\"243.5\"/><circle cx=\"-118.5\" cy=\"245\" r=\"0.0\"/><text x=\"-150.0\" y=\"245\"/></g><g class=\"shooting fw block\"><rect height=\"3.0\" width=\"66.0\" x=\"-205.5\" y=\"248.5\"/><circle cx=\"-139.5\" cy=\"250\" r=\"0.0\"/><text x=\"-172.5\" y=\"250\"/></g><g class=\"shooting fw block\"><rect height=\"3.0\" width=\"45.0\" x=\"-262.5\" y=\"253.5\"/><circle cx=\"-217.5\" cy=\"255\" r=\"0.0\"/><text x=\"-240.0\" y=\"255\"/></g><g class=\"shooting fw block\"><rect height=\"3.0\" width=\"33.0\" x=\"-244.5\" y=\"258.5\"/><circle cx=\"-211.5\" cy=\"260\" r=\"0.0\"/><text x=\"-228.0\" y=\"260\"/></g><g class=\"shooting fw block\"><rect height=\"3.0\" width=\"3.0\" x=\"-247.5\" y=\"263.5\"/><circle cx=\"-244.5\" cy=\"265\" r=\"0.0\"/><text x=\"-246.0\" y=\"265\"/></g><g class=\"shooting fw block\"><rect height=\"3.0\" width=\"30.0\" x=\"-262.5\" y=\"268.5\"/><circle cx=\"-232.5\" cy=\"270\" r=\"0.0\"/><text x=\"-247.5\" y=\"270\"/></g><g class=\"shooting fw block\"><rect height=\"3.0\" width=\"12.0\" x=\"-250.5\" y=\"273.5\"/><circle cx=\"-238.5\" cy=\"275\" r=\"0.0\"/><text x=\"-244.5\" y=\"275\"/></g><g class=\"shooting bw block\"><rect height=\"3.0\" width=\"42.0\" x=\"-316.5\" y=\"278.5\"/><circle cx=\"-274.5\" cy=\"280\" r=\"0.0\"/><text x=\"-295.5\" y=\"280\"/></g><g class=\"shooting fw block\"><rect height=\"3.0\" width=\"60.0\" x=\"-247.5\" y=\"283.5\"/><circle cx=\"-187.5\" cy=\"285\" r=\"0.0\"/><text x=\"-217.5\" y=\"285\"/></g><g class=\"shooting fw block\"><rect height=\"3.0\" width=\"15.0\" x=\"-244.5\" y=\"288.5\"/><circle cx=\"-229.5\" cy=\"290\" r=\"0.0\"/><text x=\"-237.0\" y=\"290\"/></g><g class=\"shooting fw block\"><rect height=\"3.0\" width=\"102.0\" x=\"-256.5\" y=\"293.5\"/><circle cx=\"-154.5\" cy=\"295\" r=\"0.0\"/><text x=\"-205.5\" y=\"295\"/></g><g class=\"shooting fw block\"><rect height=\"3.0\" width=\"45.0\" x=\"-235.5\" y=\"298.5\"/><circle cx=\"-190.5\" cy=\"300\" r=\"0.0\"/><text x=\"-213.0\" y=\"300\"/></g><g class=\"shooting fw block\"><rect height=\"3.0\" width=\"21.0\" x=\"-202.5\" y=\"303.5\"/><circle cx=\"-181.5\" cy=\"305\" r=\"0.0\"/><text x=\"-192.0\" y=\"305\"/></g><g class=\"shooting fw block\"><rect height=\"3.0\" width=\"39.0\" x=\"-265.5\" y=\"308.5\"/><circle cx=\"-226.5\" cy=\"310\" r=\"0.0\"/><text x=\"-246.0\" y=\"310\"/></g><g class=\"shooting fw block\"><rect height=\"3.0\" width=\"18.0\" x=\"-292.5\" y=\"313.5\"/><circle cx=\"-274.5\" cy=\"315\" r=\"0.0\"/><text x=\"-283.5\" y=\"315\"/></g><g class=\"shooting bw block\"><rect height=\"3.0\" width=\"3.0\" x=\"-301.5\" y=\"318.5\"/><circle cx=\"-298.5\" cy=\"320\" r=\"0.0\"/><text x=\"-300.0\" y=\"320\"/></g><g class=\"shooting bw block\"><rect height=\"3.0\" width=\"60.0\" x=\"-358.5\" y=\"323.5\"/><circle cx=\"-298.5\" cy=\"325\" r=\"0.0\"/><text x=\"-328.5\" y=\"325\"/></g><g class=\"shooting bw block\"><rect height=\"3.0\" width=\"3.0\" x=\"-325.5\" y=\"328.5\"/><circle cx=\"-322.5\" cy=\"330\" r=\"0.0\"/><text x=\"-324.0\" y=\"330\"/></g><g class=\"shooting bw block\"><rect height=\"3.0\" width=\"54.0\" x=\"-346.5\" y=\"333.5\"/><circle cx=\"-292.5\" cy=\"335\" r=\"0.0\"/><text x=\"-319.5\" y=\"335\"/></g><g class=\"shooting bw block\"><rect height=\"3.0\" width=\"42.0\" x=\"-346.5\" y=\"338.5\"/><circle cx=\"-304.5\" cy=\"340\" r=\"0.0\"/><text x=\"-325.5\" y=\"340\"/></g><g class=\"shooting bw block\"><rect height=\"3.0\" width=\"21.0\" x=\"-334.5\" y=\"343.5\"/><circle cx=\"-313.5\" cy=\"345\" r=\"0.0\"/><text x=\"-324.0\" y=\"345\"/></g><g class=\"shooting bw block\"><rect height=\"3.0\" width=\"18.0\" x=\"-343.5\" y=\"348.5\"/><circle cx=\"-325.5\" cy=\"350\" r=\"0.0\"/><text x=\"-334.5\" y=\"350\"/></g><g class=\"shooting bw block\"><rect height=\"3.0\" width=\"87.0\" x=\"-397.5\" y=\"353.5\"/><circle cx=\"-310.5\" cy=\"355\" r=\"0.0\"/><text x=\"-354.0\" y=\"355\"/></g><g class=\"shooting bw block\"><rect height=\"3.0\" width=\"30.0\" x=\"-352.5\" y=\"358.5\"/><circle cx=\"-322.5\" cy=\"360\" r=\"0.0\"/><text x=\"-337.5\" y=\"360\"/></g><g class=\"shooting bw block\"><rect height=\"3.0\" width=\"6.0\" x=\"-340.5\" y=\"363.5\"/><circle cx=\"-334.5\" cy=\"365\" r=\"0.0\"/><text x=\"-337.5\" y=\"365\"/></g><g class=\"shooting bw block\"><rect height=\"3.0\" width=\"15.0\" x=\"-349.5\" y=\"368.5\"/><circle cx=\"-334.5\" cy=\"370\" r=\"0.0\"/><text x=\"-342.0\" y=\"370\"/></g><g class=\"shooting bw block\"><rect height=\"3.0\" width=\"27.0\" x=\"-364.5\" y=\"373.5\"/><circle cx=\"-337.5\" cy=\"375\" r=\"0.0\"/><text x=\"-351.0\" y=\"375\"/></g><g class=\"shooting bw block\"><rect height=\"3.0\" width=\"99.0\" x=\"-409.5\" y=\"378.5\"/><circle cx=\"-310.5\" cy=\"380\" r=\"0.0\"/><text x=\"-360.0\" y=\"380\"/></g><g class=\"shooting bw block\"><rect height=\"3.0\" width=\"9.0\" x=\"-349.5\" y=\"383.5\"/><circle cx=\"-340.5\" cy=\"385\" r=\"0.0\"/><text x=\"-345.0\" y=\"385\"/></g><g class=\"shooting bw block\"><rect height=\"3.0\" width=\"9.0\" x=\"-292.5\" y=\"388.5\"/><circle cx=\"-283.5\" cy=\"390\" r=\"0.0\"/><text x=\"-288.0\" y=\"390\"/></g><g class=\"shooting fw block\"><rect height=\"3.0\" width=\"3.0\" x=\"-277.5\" y=\"393.5\"/><circle cx=\"-274.5\" cy=\"395\" r=\"0.0\"/><text x=\"-276.0\" y=\"395\"/></g><g class=\"shooting fw block\"><rect height=\"3.0\" width=\"21.0\" x=\"-277.5\" y=\"398.5\"/><circle cx=\"-256.5\" cy=\"400\" r=\"0.0\"/><text x=\"-267.0\" y=\"400\"/></g><g class=\"shooting fw block\"><rect height=\"3.0\" width=\"33.0\" x=\"-259.5\" y=\"403.5\"/><circle cx=\"-226.5\" cy=\"405\" r=\"0.0\"/><text x=\"-243.0\" y=\"405\"/></g><g class=\"shooting bw block\"><rect height=\"3.0\" width=\"3.0\" x=\"-292.5\" y=\"408.5\"/><circle cx=\"-289.5\" cy=\"410\" r=\"0.0\"/><text x=\"-291.0\" y=\"410\"/></g><g class=\"shooting fw block\"><rect height=\"3.0\" width=\"3.0\" x=\"-274.5\" y=\"413.5\"/><circle cx=\"-271.5\" cy=\"415\" r=\"0.0\"/><text x=\"-273.0\" y=\"415\"/></g><g class=\"shooting bw block\"><rect height=\"3.0\" width=\"3.0\" x=\"-289.5\" y=\"418.5\"/><circle cx=\"-286.5\" cy=\"420\" r=\"0.0\"/><text x=\"-288.0\" y=\"420\"/></g><g class=\"shooting bw block\"><rect height=\"3.0\" width=\"9.0\" x=\"-295.5\" y=\"423.5\"/><circle cx=\"-286.5\" cy=\"425\" r=\"0.0\"/><text x=\"-291.0\" y=\"425\"/></g><g class=\"shade\"><rect fill=\"white\" height=\"1.25\" width=\"33.6\" x=\"1.2\" y=\"0.5\"/><rect fill=\"white\" height=\"1.25\" width=\"33.6\" x=\"1.2\" y=\"-1.75\"/><rect fill=\"orange\" height=\"0.75\" width=\"33\" x=\"1.5\" y=\"0.75\"/><rect fill=\"orange\" height=\"0.75\" width=\"33\" x=\"1.5\" y=\"-1.5\"/></g><g class=\"shade\"><rect fill=\"white\" height=\"1.25\" width=\"21.6\" x=\"-13.8\" y=\"5.5\"/><rect fill=\"white\" height=\"1.25\" width=\"21.6\" x=\"-13.8\" y=\"3.25\"/><rect fill=\"orange\" height=\"0.75\" width=\"21\" x=\"-13.5\" y=\"5.75\"/><rect fill=\"orange\" height=\"0.75\" width=\"21\" x=\"-13.5\" y=\"3.5\"/></g><g class=\"shade\"><rect fill=\"white\" height=\"1.25\" width=\"12.6\" x=\"-13.8\" y=\"15.5\"/><rect fill=\"white\" height=\"1.25\" width=\"12.6\" x=\"-13.8\" y=\"13.25\"/><rect fill=\"orange\" height=\"0.75\" width=\"12\" x=\"-13.5\" y=\"15.75\"/><rect fill=\"orange\" height=\"0.75\" width=\"12\" x=\"-13.5\" y=\"13.5\"/></g><g class=\"shade\"><rect fill=\"white\" height=\"1.25\" width=\"147.6\" x=\"-115.8\" y=\"25.5\"/><rect fill=\"white\" height=\"1.25\" width=\"147.6\" x=\"-115.8\" y=\"23.25\"/><rect fill=\"orange\" height=\"0.75\" width=\"147\" x=\"-115.5\" y=\"25.75\"/><rect fill=\"orange\" height=\"0.75\" width=\"147\" x=\"-115.5\" y=\"23.5\"/></g><g class=\"shade\"><rect fill=\"white\" height=\"1.25\" width=\"12.6\" x=\"-4.8\" y=\"30.5\"/><rect fill=\"white\" height=\"1.25\" width=\"12.6\" x=\"-4.8\" y=\"28.25\"/><rect fill=\"orange\" height=\"0.75\" width=\"12\" x=\"-4.5\" y=\"30.75\"/><rect fill=\"orange\" height=\"0.75\" width=\"12\" x=\"-4.5\" y=\"28.5\"/></g><g class=\"shade\"><rect fill=\"white\" height=\"1.25\" width=\"63.6\" x=\"-61.8\" y=\"35.5\"/><rect fill=\"white\" height=\"1.25\" width=\"63.6\" x=\"-61.8\" y=\"33.25\"/><rect fill=\"orange\" height=\"0.75\" width=\"63\" x=\"-61.5\" y=\"35.75\"/><rect fill=\"orange\" height=\"0.75\" width=\"63\" x=\"-61.5\" y=\"33.5\"/></g><g class=\"shade\"><rect fill=\"white\" height=\"1.25\" width=\"30.6\" x=\"-16.8\" y=\"40.5\"/><rect fill=\"white\" height=\"1.25\" width=\"30.6\" x=\"-16.8\" y=\"38.25\"/><rect fill=\"orange\" height=\"0.75\" width=\"30\" x=\"-16.5\" y=\"40.75\"/><rect fill=\"orange\" height=\"0.75\" width=\"30\" x=\"-16.5\" y=\"38.5\"/></g><g class=\"shade\"><rect fill=\"white\" height=\"1.25\" width=\"21.6\" x=\"-16.8\" y=\"45.5\"/><rect fill=\"white\" height=\"1.25\" width=\"21.6\" x=\"-16.8\" y=\"43.25\"/><rect fill=\"orange\" height=\"0.75\" width=\"21\" x=\"-16.5\" y=\"45.75\"/><rect fill=\"orange\" height=\"0.75\" width=\"21\" x=\"-16.5\" y=\"43.5\"/></g><g class=\"shade\"><rect fill=\"white\" height=\"1.25\" width=\"6.6\" x=\"1.2\" y=\"50.5\"/><rect fill=\"white\" height=\"1.25\" width=\"6.6\" x=\"1.2\" y=\"48.25\"/><rect fill=\"orange\" height=\"0.75\" width=\"6\" x=\"1.5\" y=\"50.75\"/><rect fill=\"orange\" height=\"0.75\" width=\"6\" x=\"1.5\" y=\"48.5\"/></g><g class=\"shade\"><rect fill=\"white\" height=\"1.25\" width=\"3.6\" x=\"13.2\" y=\"55.5\"/><rect fill=\"white\" height=\"1.25\" width=\"3.6\" x=\"13.2\" y=\"53.25\"/><rect fill=\"orange\" height=\"0.75\" width=\"3\" x=\"13.5\" y=\"55.75\"/><rect fill=\"orange\" height=\"0.75\" width=\"3\" x=\"13.5\" y=\"53.5\"/></g><g class=\"shade\"><rect fill=\"white\" height=\"1.25\" width=\"96.6\" x=\"-76.8\" y=\"60.5\"/><rect fill=\"white\" height=\"1.25\" width=\"96.6\" x=\"-76.8\" y=\"58.25\"/><rect fill=\"orange\" height=\"0.75\" width=\"96\" x=\"-76.5\" y=\"60.75\"/><rect fill=\"orange\" height=\"0.75\" width=\"96\" x=\"-76.5\" y=\"58.5\"/></g><g class=\"shade\"><rect fill=\"white\" height=\"1.25\" width=\"6.6\" x=\"25.2\" y=\"65.5\"/><rect fill=\"white\" height=\"1.25\" width=\"6.6\" x=\"25.2\" y=\"63.25\"/><rect fill=\"orange\" height=\"0.75\" width=\"6\" x=\"25.5\" y=\"65.75\"/><rect fill=\"orange\" height=\"0.75\" width=\"6\" x=\"25.5\" y=\"63.5\"/></g><g class=\"shade\"><rect fill=\"white\" height=\"1.25\" width=\"6.6\" x=\"-4.8\" y=\"75.5\"/><rect fill=\"white\" height=\"1.25\" width=\"6.6\" x=\"-4.8\" y=\"73.25\"/><rect fill=\"orange\" height=\"0.75\" width=\"6\" x=\"-4.5\" y=\"75.75\"/><rect fill=\"orange\" height=\"0.75\" width=\"6\" x=\"-4.5\" y=\"73.5\"/></g><g class=\"shade\"><rect fill=\"white\" height=\"1.25\" width=\"3.6\" x=\"-4.8\" y=\"95.5\"/><rect fill=\"white\" height=\"1.25\" width=\"3.6\" x=\"-4.8\" y=\"93.25\"/><rect fill=\"orange\" height=\"0.75\" width=\"3\" x=\"-4.5\" y=\"95.75\"/><rect fill=\"orange\" height=\"0.75\" width=\"3\" x=\"-4.5\" y=\"93.5\"/></g><g class=\"shade\"><rect fill=\"white\" height=\"1.25\" width=\"9.6\" x=\"40.2\" y=\"110.5\"/><rect fill=\"white\" height=\"1.25\" width=\"9.6\" x=\"40.2\" y=\"108.25\"/><rect fill=\"orange\" height=\"0.75\" width=\"9\" x=\"40.5\" y=\"110.75\"/><rect fill=\"orange\" height=\"0.75\" width=\"9\" x=\"40.5\" y=\"108.5\"/></g><g class=\"shade\"><rect fill=\"white\" height=\"1.25\" width=\"156.6\" x=\"-118.8\" y=\"135.5\"/><rect fill=\"white\" height=\"1.25\" width=\"156.6\" x=\"-118.8\" y=\"133.25\"/><rect fill=\"orange\" height=\"0.75\" width=\"156\" x=\"-118.5\" y=\"135.75\"/><rect fill=\"orange\" height=\"0.75\" width=\"156\" x=\"-118.5\" y=\"133.5\"/></g><g class=\"shade\"><rect fill=\"white\" height=\"1.25\" width=\"45.6\" x=\"-49.8\" y=\"140.5\"/><rect fill=\"white\" height=\"1.25\" width=\"45.6\" x=\"-49.8\" y=\"138.25\"/><rect fill=\"orange\" height=\"0.75\" width=\"45\" x=\"-49.5\" y=\"140.75\"/><rect fill=\"orange\" height=\"0.75\" width=\"45\" x=\"-49.5\" y=\"138.5\"/></g><g class=\"shade\"><rect fill=\"white\" height=\"1.25\" width=\"75.6\" x=\"-100.8\" y=\"145.5\"/><rect fill=\"white\" height=\"1.25\" width=\"75.6\" x=\"-100.8\" y=\"143.25\"/><rect fill=\"orange\" height=\"0.75\" width=\"75\" x=\"-100.5\" y=\"145.75\"/><rect fill=\"orange\" height=\"0.75\" width=\"75\" x=\"-100.5\" y=\"143.5\"/></g><g class=\"shade\"><rect fill=\"white\" height=\"1.25\" width=\"6.6\" x=\"16.2\" y=\"150.5\"/><rect fill=\"white\" height=\"1.25\" width=\"6.6\" x=\"16.2\" y=\"148.25\"/><rect fill=\"orange\" height=\"0.75\" width=\"6\" x=\"16.5\" y=\"150.75\"/><rect fill=\"orange\" height=\"0.75\" width=\"6\" x=\"16.5\" y=\"148.5\"/></g><g class=\"shade\"><rect fill=\"white\" height=\"1.25\" width=\"21.6\" x=\"13.2\" y=\"160.5\"/><rect fill=\"white\" height=\"1.25\" width=\"21.6\" x=\"13.2\" y=\"158.25\"/><rect fill=\"orange\" height=\"0.75\" width=\"21\" x=\"13.5\" y=\"160.75\"/><rect fill=\"orange\" height=\"0.75\" width=\"21\" x=\"13.5\" y=\"158.5\"/></g><g class=\"shade\"><rect fill=\"white\" height=\"1.25\" width=\"42.6\" x=\"-7.8\" y=\"165.5\"/><rect fill=\"white\" height=\"1.25\" width=\"42.6\" x=\"-7.8\" y=\"163.25\"/><rect fill=\"orange\" height=\"0.75\" width=\"42\" x=\"-7.5\" y=\"165.75\"/><rect fill=\"orange\" height=\"0.75\" width=\"42\" x=\"-7.5\" y=\"163.5\"/></g><g class=\"shade\"><rect fill=\"white\" height=\"1.25\" width=\"3.6\" x=\"-91.8\" y=\"170.5\"/><rect fill=\"white\" height=\"1.25\" width=\"3.6\" x=\"-91.8\" y=\"168.25\"/><rect fill=\"orange\" height=\"0.75\" width=\"3\" x=\"-91.5\" y=\"170.75\"/><rect fill=\"orange\" height=\"0.75\" width=\"3\" x=\"-91.5\" y=\"168.5\"/></g><g class=\"shade\"><rect fill=\"white\" height=\"1.25\" width=\"222.6\" x=\"-433.8\" y=\"205.5\"/><rect fill=\"white\" height=\"1.25\" width=\"222.6\" x=\"-433.8\" y=\"203.25\"/><rect fill=\"orange\" height=\"0.75\" width=\"222\" x=\"-433.5\" y=\"205.75\"/><rect fill=\"orange\" height=\"0.75\" width=\"222\" x=\"-433.5\" y=\"203.5\"/></g><g class=\"shade\"><rect fill=\"white\" height=\"1.25\" width=\"42.6\" x=\"-358.8\" y=\"215.5\"/><rect fill=\"white\" height=\"1.25\" width=\"42.6\" x=\"-358.8\" y=\"213.25\"/><rect fill=\"orange\" height=\"0.75\" width=\"42\" x=\"-358.5\" y=\"215.75\"/><rect fill=\"orange\" height=\"0.75\" width=\"42\" x=\"-358.5\" y=\"213.5\"/></g><g class=\"shade\"><rect fill=\"white\" height=\"1.25\" width=\"27.6\" x=\"-307.8\" y=\"225.5\"/><rect fill=\"white\" height=\"1.25\" width=\"27.6\" x=\"-307.8\" y=\"223.25\"/><rect fill=\"orange\" height=\"0.75\" width=\"27\" x=\"-307.5\" y=\"225.75\"/><rect fill=\"orange\" height=\"0.75\" width=\"27\" x=\"-307.5\" y=\"223.5\"/></g><g class=\"shade\"><rect fill=\"white\" height=\"1.25\" width=\"12.6\" x=\"-280.8\" y=\"235.5\"/><rect fill=\"white\" height=\"1.25\" width=\"12.6\" x=\"-280.8\" y=\"233.25\"/><rect fill=\"orange\" height=\"0.75\" width=\"12\" x=\"-280.5\" y=\"235.75\"/><rect fill=\"orange\" height=\"0.75\" width=\"12\" x=\"-280.5\" y=\"233.5\"/></g><g class=\"shade\"><rect fill=\"white\" height=\"1.25\" width=\"42.6\" x=\"-313.8\" y=\"280.5\"/><rect fill=\"white\" height=\"1.25\" width=\"42.6\" x=\"-313.8\" y=\"278.25\"/><rect fill=\"orange\" height=\"0.75\" width=\"42\" x=\"-313.5\" y=\"280.75\"/><rect fill=\"orange\" height=\"0.75\" width=\"42\" x=\"-313.5\" y=\"278.5\"/></g><g class=\"shade\"><rect fill=\"white\" height=\"1.25\" width=\"12.6\" x=\"-292.8\" y=\"315.5\"/><rect fill=\"white\" height=\"1.25\" width=\"12.6\" x=\"-292.8\" y=\"313.25\"/><rect fill=\"orange\" height=\"0.75\" width=\"12\" x=\"-292.5\" y=\"315.75\"/><rect fill=\"orange\" height=\"0.75\" width=\"12\" x=\"-292.5\" y=\"313.5\"/></g><g class=\"shade\"><rect fill=\"white\" height=\"1.25\" width=\"3.6\" x=\"-298.8\" y=\"320.5\"/><rect fill=\"white\" height=\"1.25\" width=\"3.6\" x=\"-298.8\" y=\"318.25\"/><rect fill=\"orange\" height=\"0.75\" width=\"3\" x=\"-298.5\" y=\"320.75\"/><rect fill=\"orange\" height=\"0.75\" width=\"3\" x=\"-298.5\" y=\"318.5\"/></g><g class=\"shade\"><rect fill=\"white\" height=\"1.25\" width=\"60.6\" x=\"-355.8\" y=\"325.5\"/><rect fill=\"white\" height=\"1.25\" width=\"60.6\" x=\"-355.8\" y=\"323.25\"/><rect fill=\"orange\" height=\"0.75\" width=\"60\" x=\"-355.5\" y=\"325.75\"/><rect fill=\"orange\" height=\"0.75\" width=\"60\" x=\"-355.5\" y=\"323.5\"/></g><g class=\"shade\"><rect fill=\"white\" height=\"1.25\" width=\"3.6\" x=\"-322.8\" y=\"330.5\"/><rect fill=\"white\" height=\"1.25\" width=\"3.6\" x=\"-322.8\" y=\"328.25\"/><rect fill=\"orange\" height=\"0.75\" width=\"3\" x=\"-322.5\" y=\"330.75\"/><rect fill=\"orange\" height=\"0.75\" width=\"3\" x=\"-322.5\" y=\"328.5\"/></g><g class=\"shade\"><rect fill=\"white\" height=\"1.25\" width=\"54.6\" x=\"-343.8\" y=\"335.5\"/><rect fill=\"white\" height=\"1.25\" width=\"54.6\" x=\"-343.8\" y=\"333.25\"/><rect fill=\"orange\" height=\"0.75\" width=\"54\" x=\"-343.5\" y=\"335.75\"/><rect fill=\"orange\" height=\"0.75\" width=\"54\" x=\"-343.5\" y=\"333.5\"/></g><g class=\"shade\"><rect fill=\"white\" height=\"1.25\" width=\"42.6\" x=\"-343.8\" y=\"340.5\"/><rect fill=\"white\" height=\"1.25\" width=\"42.6\" x=\"-343.8\" y=\"338.25\"/><rect fill=\"orange\" height=\"0.75\" width=\"42\" x=\"-343.5\" y=\"340.75\"/><rect fill=\"orange\" height=\"0.75\" width=\"42\" x=\"-343.5\" y=\"338.5\"/></g><g class=\"shade\"><rect fill=\"white\" height=\"1.25\" width=\"21.6\" x=\"-331.8\" y=\"345.5\"/><rect fill=\"white\" height=\"1.25\" width=\"21.6\" x=\"-331.8\" y=\"343.25\"/><rect fill=\"orange\" height=\"0.75\" width=\"21\" x=\"-331.5\" y=\"345.75\"/><rect fill=\"orange\" height=\"0.75\" width=\"21\" x=\"-331.5\" y=\"343.5\"/></g><g class=\"shade\"><rect fill=\"white\" height=\"1.25\" width=\"18.6\" x=\"-340.8\" y=\"350.5\"/><rect fill=\"white\" height=\"1.25\" width=\"18.6\" x=\"-340.8\" y=\"348.25\"/><rect fill=\"orange\" height=\"0.75\" width=\"18\" x=\"-340.5\" y=\"350.75\"/><rect fill=\"orange\" height=\"0.75\" width=\"18\" x=\"-340.5\" y=\"348.5\"/></g><g class=\"shade\"><rect fill=\"white\" height=\"1.25\" width=\"87.6\" x=\"-394.8\" y=\"355.5\"/><rect fill=\"white\" height=\"1.25\" width=\"87.6\" x=\"-394.8\" y=\"353.25\"/><rect fill=\"orange\" height=\"0.75\" width=\"87\" x=\"-394.5\" y=\"355.75\"/><rect fill=\"orange\" height=\"0.75\" width=\"87\" x=\"-394.5\" y=\"353.5\"/></g><g class=\"shade\"><rect fill=\"white\" height=\"1.25\" width=\"30.6\" x=\"-349.8\" y=\"360.5\"/><rect fill=\"white\" height=\"1.25\" width=\"30.6\" x=\"-349.8\" y=\"358.25\"/><rect fill=\"orange\" height=\"0.75\" width=\"30\" x=\"-349.5\" y=\"360.75\"/><rect fill=\"orange\" height=\"0.75\" width=\"30\" x=\"-349.5\" y=\"358.5\"/></g><g class=\"shade\"><rect fill=\"white\" height=\"1.25\" width=\"6.6\" x=\"-337.8\" y=\"365.5\"/><rect fill=\"white\" height=\"1.25\" width=\"6.6\" x=\"-337.8\" y=\"363.25\"/><rect fill=\"orange\" height=\"0.75\" width=\"6\" x=\"-337.5\" y=\"365.75\"/><rect fill=\"orange\" height=\"0.75\" width=\"6\" x=\"-337.5\" y=\"363.5\"/></g><g class=\"shade\"><rect fill=\"white\" height=\"1.25\" width=\"15.6\" x=\"-346.8\" y=\"370.5\"/><rect fill=\"white\" height=\"1.25\" width=\"15.6\" x=\"-346.8\" y=\"368.25\"/><rect fill=\"orange\" height=\"0.75\" width=\"15\" x=\"-346.5\" y=\"370.75\"/><rect fill=\"orange\" height=\"0.75\" width=\"15\" x=\"-346.5\" y=\"368.5\"/></g><g class=\"shade\"><rect fill=\"white\" height=\"1.25\" width=\"27.6\" x=\"-361.8\" y=\"375.5\"/><rect fill=\"white\" height=\"1.25\" width=\"27.6\" x=\"-361.8\" y=\"373.25\"/><rect fill=\"orange\" height=\"0.75\" width=\"27\" x=\"-361.5\" y=\"375.75\"/><rect fill=\"orange\" height=\"0.75\" width=\"27\" x=\"-361.5\" y=\"373.5\"/></g><g class=\"shade\"><rect fill=\"white\" height=\"1.25\" width=\"99.6\" x=\"-406.8\" y=\"380.5\"/><rect fill=\"white\" height=\"1.25\" width=\"99.6\" x=\"-406.8\" y=\"378.25\"/><rect fill=\"orange\" height=\"0.75\" width=\"99\" x=\"-406.5\" y=\"380.75\"/><rect fill=\"orange\" height=\"0.75\" width=\"99\" x=\"-406.5\" y=\"378.5\"/></g><g class=\"shade\"><rect fill=\"white\" height=\"1.25\" width=\"9.6\" x=\"-346.8\" y=\"385.5\"/><rect fill=\"white\" height=\"1.25\" width=\"9.6\" x=\"-346.8\" y=\"383.25\"/><rect fill=\"orange\" height=\"0.75\" width=\"9\" x=\"-346.5\" y=\"385.75\"/><rect fill=\"orange\" height=\"0.75\" width=\"9\" x=\"-346.5\" y=\"383.5\"/></g><g class=\"shade\"><rect fill=\"white\" height=\"1.25\" width=\"9.6\" x=\"-289.8\" y=\"390.5\"/><rect fill=\"white\" height=\"1.25\" width=\"9.6\" x=\"-289.8\" y=\"388.25\"/><rect fill=\"orange\" height=\"0.75\" width=\"9\" x=\"-289.5\" y=\"390.75\"/><rect fill=\"orange\" height=\"0.75\" width=\"9\" x=\"-289.5\" y=\"388.5\"/></g><g class=\"shade\"><rect fill=\"white\" height=\"1.25\" width=\"3.6\" x=\"-289.8\" y=\"410.5\"/><rect fill=\"white\" height=\"1.25\" width=\"3.6\" x=\"-289.8\" y=\"408.25\"/><rect fill=\"orange\" height=\"0.75\" width=\"3\" x=\"-289.5\" y=\"410.75\"/><rect fill=\"orange\" height=\"0.75\" width=\"3\" x=\"-289.5\" y=\"408.5\"/></g><g class=\"shade\"><rect fill=\"white\" height=\"1.25\" width=\"3.6\" x=\"-286.8\" y=\"420.5\"/><rect fill=\"white\" height=\"1.25\" width=\"3.6\" x=\"-286.8\" y=\"418.25\"/><rect fill=\"orange\" height=\"0.75\" width=\"3\" x=\"-286.5\" y=\"420.75\"/><rect fill=\"orange\" height=\"0.75\" width=\"3\" x=\"-286.5\" y=\"418.5\"/></g><g class=\"shade\"><rect fill=\"white\" height=\"1.25\" width=\"9.6\" x=\"-292.8\" y=\"425.5\"/><rect fill=\"white\" height=\"1.25\" width=\"9.6\" x=\"-292.8\" y=\"423.25\"/><rect fill=\"orange\" height=\"0.75\" width=\"9\" x=\"-292.5\" y=\"425.75\"/><rect fill=\"orange\" height=\"0.75\" width=\"9\" x=\"-292.5\" y=\"423.5\"/></g><g class=\"shade\"><rect fill=\"white\" height=\"1.25\" width=\"3.6\" x=\"94.2\" y=\"0.5\"/><rect fill=\"white\" height=\"1.25\" width=\"3.6\" x=\"94.2\" y=\"-1.75\"/><rect fill=\"green\" height=\"0.75\" width=\"3\" x=\"94.5\" y=\"0.75\"/><rect fill=\"green\" height=\"0.75\" width=\"3\" x=\"94.5\" y=\"-1.5\"/></g><g class=\"shade\"><rect fill=\"white\" height=\"1.25\" width=\"3.6\" x=\"67.2\" y=\"10.5\"/><rect fill=\"white\" height=\"1.25\" width=\"3.6\" x=\"67.2\" y=\"8.25\"/><rect fill=\"green\" height=\"0.75\" width=\"3\" x=\"67.5\" y=\"10.75\"/><rect fill=\"green\" height=\"0.75\" width=\"3\" x=\"67.5\" y=\"8.5\"/></g><g class=\"shade\"><rect fill=\"white\" height=\"1.25\" width=\"3.6\" x=\"52.2\" y=\"20.5\"/><rect fill=\"white\" height=\"1.25\" width=\"3.6\" x=\"52.2\" y=\"18.25\"/><rect fill=\"green\" height=\"0.75\" width=\"3\" x=\"52.5\" y=\"20.75\"/><rect fill=\"green\" height=\"0.75\" width=\"3\" x=\"52.5\" y=\"18.5\"/></g><g class=\"shade\"><rect fill=\"white\" height=\"1.25\" width=\"3.6\" x=\"58.2\" y=\"70.5\"/><rect fill=\"white\" height=\"1.25\" width=\"3.6\" x=\"58.2\" y=\"68.25\"/><rect fill=\"green\" height=\"0.75\" width=\"3\" x=\"58.5\" y=\"70.75\"/><rect fill=\"green\" height=\"0.75\" width=\"3\" x=\"58.5\" y=\"68.5\"/></g><g class=\"shade\"><rect fill=\"white\" height=\"1.25\" width=\"3.6\" x=\"52.2\" y=\"80.5\"/><rect fill=\"white\" height=\"1.25\" width=\"3.6\" x=\"52.2\" y=\"78.25\"/><rect fill=\"green\" height=\"0.75\" width=\"3\" x=\"52.5\" y=\"80.75\"/><rect fill=\"green\" height=\"0.75\" width=\"3\" x=\"52.5\" y=\"78.5\"/></g><g class=\"shade\"><rect fill=\"white\" height=\"1.25\" width=\"3.6\" x=\"88.2\" y=\"85.5\"/><rect fill=\"white\" height=\"1.25\" width=\"3.6\" x=\"88.2\" y=\"83.25\"/><rect fill=\"green\" height=\"0.75\" width=\"3\" x=\"88.5\" y=\"85.75\"/><rect fill=\"green\" height=\"0.75\" width=\"3\" x=\"88.5\" y=\"83.5\"/></g><g class=\"shade\"><rect fill=\"white\" height=\"1.25\" width=\"3.6\" x=\"10.2\" y=\"90.5\"/><rect fill=\"white\" height=\"1.25\" width=\"3.6\" x=\"10.2\" y=\"88.25\"/><rect fill=\"green\" height=\"0.75\" width=\"3\" x=\"10.5\" y=\"90.75\"/><rect fill=\"green\" height=\"0.75\" width=\"3\" x=\"10.5\" y=\"88.5\"/></g><g class=\"shade\"><rect fill=\"white\" height=\"1.25\" width=\"3.6\" x=\"34.2\" y=\"100.5\"/><rect fill=\"white\" height=\"1.25\" width=\"3.6\" x=\"34.2\" y=\"98.25\"/><rect fill=\"green\" height=\"0.75\" width=\"3\" x=\"34.5\" y=\"100.75\"/><rect fill=\"green\" height=\"0.75\" width=\"3\" x=\"34.5\" y=\"98.5\"/></g><g class=\"shade\"><rect fill=\"white\" height=\"1.25\" width=\"3.6\" x=\"58.2\" y=\"105.5\"/><rect fill=\"white\" height=\"1.25\" width=\"3.6\" x=\"58.2\" y=\"103.25\"/><rect fill=\"green\" height=\"0.75\" width=\"3\" x=\"58.5\" y=\"105.75\"/><rect fill=\"green\" height=\"0.75\" width=\"3\" x=\"58.5\" y=\"103.5\"/></g><g class=\"shade\"><rect fill=\"white\" height=\"1.25\" width=\"3.6\" x=\"73.2\" y=\"115.5\"/><rect fill=\"white\" height=\"1.25\" width=\"3.6\" x=\"73.2\" y=\"113.25\"/><rect fill=\"green\" height=\"0.75\" width=\"3\" x=\"73.5\" y=\"115.75\"/><rect fill=\"green\" height=\"0.75\" width=\"3\" x=\"73.5\" y=\"113.5\"/></g><g class=\"shade\"><rect fill=\"white\" height=\"1.25\" width=\"3.6\" x=\"97.2\" y=\"120.5\"/><rect fill=\"white\" height=\"1.25\" width=\"3.6\" x=\"97.2\" y=\"118.25\"/><rect fill=\"green\" height=\"0.75\" width=\"3\" x=\"97.5\" y=\"120.75\"/><rect fill=\"green\" height=\"0.75\" width=\"3\" x=\"97.5\" y=\"118.5\"/></g><g class=\"shade\"><rect fill=\"white\" height=\"1.25\" width=\"3.6\" x=\"76.2\" y=\"125.5\"/><rect fill=\"white\" height=\"1.25\" width=\"3.6\" x=\"76.2\" y=\"123.25\"/><rect fill=\"green\" height=\"0.75\" width=\"3\" x=\"76.5\" y=\"125.75\"/><rect fill=\"green\" height=\"0.75\" width=\"3\" x=\"76.5\" y=\"123.5\"/></g><g class=\"shade\"><rect fill=\"white\" height=\"1.25\" width=\"3.6\" x=\"85.2\" y=\"130.5\"/><rect fill=\"white\" height=\"1.25\" width=\"3.6\" x=\"85.2\" y=\"128.25\"/><rect fill=\"green\" height=\"0.75\" width=\"3\" x=\"85.5\" y=\"130.75\"/><rect fill=\"green\" height=\"0.75\" width=\"3\" x=\"85.5\" y=\"128.5\"/></g><g class=\"shade\"><rect fill=\"white\" height=\"1.25\" width=\"3.6\" x=\"82.2\" y=\"155.5\"/><rect fill=\"white\" height=\"1.25\" width=\"3.6\" x=\"82.2\" y=\"153.25\"/><rect fill=\"green\" height=\"0.75\" width=\"3\" x=\"82.5\" y=\"155.75\"/><rect fill=\"green\" height=\"0.75\" width=\"3\" x=\"82.5\" y=\"153.5\"/></g><g class=\"shade\"><rect fill=\"white\" height=\"1.25\" width=\"3.6\" x=\"43.2\" y=\"175.5\"/><rect fill=\"white\" height=\"1.25\" width=\"3.6\" x=\"43.2\" y=\"173.25\"/><rect fill=\"green\" height=\"0.75\" width=\"3\" x=\"43.5\" y=\"175.75\"/><rect fill=\"green\" height=\"0.75\" width=\"3\" x=\"43.5\" y=\"173.5\"/></g><g class=\"shade\"><rect fill=\"white\" height=\"1.25\" width=\"3.6\" x=\"-64.8\" y=\"180.5\"/><rect fill=\"white\" height=\"1.25\" width=\"3.6\" x=\"-64.8\" y=\"178.25\"/><rect fill=\"green\" height=\"0.75\" width=\"3\" x=\"-64.5\" y=\"180.75\"/><rect fill=\"green\" height=\"0.75\" width=\"3\" x=\"-64.5\" y=\"178.5\"/></g><g class=\"shade\"><rect fill=\"white\" height=\"1.25\" width=\"3.6\" x=\"-79.8\" y=\"185.5\"/><rect fill=\"white\" height=\"1.25\" width=\"3.6\" x=\"-79.8\" y=\"183.25\"/><rect fill=\"green\" height=\"0.75\" width=\"3\" x=\"-79.5\" y=\"185.75\"/><rect fill=\"green\" height=\"0.75\" width=\"3\" x=\"-79.5\" y=\"183.5\"/></g><g class=\"shade\"><rect fill=\"white\" height=\"1.25\" width=\"3.6\" x=\"-1.8\" y=\"190.5\"/><rect fill=\"white\" height=\"1.25\" width=\"3.6\" x=\"-1.8\" y=\"188.25\"/><rect fill=\"green\" height=\"0.75\" width=\"3\" x=\"-1.5\" y=\"190.75\"/><rect fill=\"green\" height=\"0.75\" width=\"3\" x=\"-1.5\" y=\"188.5\"/></g><g class=\"shade\"><rect fill=\"white\" height=\"1.25\" width=\"3.6\" x=\"-10.8\" y=\"195.5\"/><rect fill=\"white\" height=\"1.25\" width=\"3.6\" x=\"-10.8\" y=\"193.25\"/><rect fill=\"green\" height=\"0.75\" width=\"3\" x=\"-10.5\" y=\"195.75\"/><rect fill=\"green\" height=\"0.75\" width=\"3\" x=\"-10.5\" y=\"193.5\"/></g><g class=\"shade\"><rect fill=\"white\" height=\"1.25\" width=\"3.6\" x=\"-22.8\" y=\"200.5\"/><rect fill=\"white\" height=\"1.25\" width=\"3.6\" x=\"-22.8\" y=\"198.25\"/><rect fill=\"green\" height=\"0.75\" width=\"3\" x=\"-22.5\" y=\"200.75\"/><rect fill=\"green\" height=\"0.75\" width=\"3\" x=\"-22.5\" y=\"198.5\"/></g><g class=\"shade\"><rect fill=\"white\" height=\"1.25\" width=\"3.6\" x=\"-7.8\" y=\"210.5\"/><rect fill=\"white\" height=\"1.25\" width=\"3.6\" x=\"-7.8\" y=\"208.25\"/><rect fill=\"green\" height=\"0.75\" width=\"3\" x=\"-7.5\" y=\"210.75\"/><rect fill=\"green\" height=\"0.75\" width=\"3\" x=\"-7.5\" y=\"208.5\"/></g><g class=\"shade\"><rect fill=\"white\" height=\"1.25\" width=\"3.6\" x=\"-145.8\" y=\"220.5\"/><rect fill=\"white\" height=\"1.25\" width=\"3.6\" x=\"-145.8\" y=\"218.25\"/><rect fill=\"green\" height=\"0.75\" width=\"3\" x=\"-145.5\" y=\"220.75\"/><rect fill=\"green\" height=\"0.75\" width=\"3\" x=\"-145.5\" y=\"218.5\"/></g><g class=\"shade\"><rect fill=\"white\" height=\"1.25\" width=\"3.6\" x=\"-88.8\" y=\"230.5\"/><rect fill=\"white\" height=\"1.25\" width=\"3.6\" x=\"-88.8\" y=\"228.25\"/><rect fill=\"green\" height=\"0.75\" width=\"3\" x=\"-88.5\" y=\"230.75\"/><rect fill=\"green\" height=\"0.75\" width=\"3\" x=\"-88.5\" y=\"228.5\"/></g><g class=\"shade\"><rect fill=\"white\" height=\"1.25\" width=\"3.6\" x=\"-121.8\" y=\"240.5\"/><rect fill=\"white\" height=\"1.25\" width=\"3.6\" x=\"-121.8\" y=\"238.25\"/><rect fill=\"green\" height=\"0.75\" width=\"3\" x=\"-121.5\" y=\"240.75\"/><rect fill=\"green\" height=\"0.75\" width=\"3\" x=\"-121.5\" y=\"238.5\"/></g><g class=\"shade\"><rect fill=\"white\" height=\"1.25\" width=\"3.6\" x=\"-121.8\" y=\"245.5\"/><rect fill=\"white\" height=\"1.25\" width=\"3.6\" x=\"-121.8\" y=\"243.25\"/><rect fill=\"green\" height=\"0.75\" width=\"3\" x=\"-121.5\" y=\"245.75\"/><rect fill=\"green\" height=\"0.75\" width=\"3\" x=\"-121.5\" y=\"243.5\"/></g><g class=\"shade\"><rect fill=\"white\" height=\"1.25\" width=\"3.6\" x=\"-142.8\" y=\"250.5\"/><rect fill=\"white\" height=\"1.25\" width=\"3.6\" x=\"-142.8\" y=\"248.25\"/><rect fill=\"green\" height=\"0.75\" width=\"3\" x=\"-142.5\" y=\"250.75\"/><rect fill=\"green\" height=\"0.75\" width=\"3\" x=\"-142.5\" y=\"248.5\"/></g><g class=\"shade\"><rect fill=\"white\" height=\"1.25\" width=\"3.6\" x=\"-220.8\" y=\"255.5\"/><rect fill=\"white\" height=\"1.25\" width=\"3.6\" x=\"-220.8\" y=\"253.25\"/><rect fill=\"green\" height=\"0.75\" width=\"3\" x=\"-220.5\" y=\"255.75\"/><rect fill=\"green\" height=\"0.75\" width=\"3\" x=\"-220.5\" y=\"253.5\"/></g><g class=\"shade\"><rect fill=\"white\" height=\"1.25\" width=\"3.6\" x=\"-214.8\" y=\"260.5\"/><rect fill=\"white\" height=\"1.25\" width=\"3.6\" x=\"-214.8\" y=\"258.25\"/><rect fill=\"green\" height=\"0.75\" width=\"3\" x=\"-214.5\" y=\"260.75\"/><rect fill=\"green\" height=\"0.75\" width=\"3\" x=\"-214.5\" y=\"258.5\"/></g><g class=\"shade\"><rect fill=\"white\" height=\"1.25\" width=\"3.6\" x=\"-247.8\" y=\"265.5\"/><rect fill=\"white\" height=\"1.25\" width=\"3.6\" x=\"-247.8\" y=\"263.25\"/><rect fill=\"green\" height=\"0.75\" width=\"3\" x=\"-247.5\" y=\"265.75\"/><rect fill=\"green\" height=\"0.75\" width=\"3\" x=\"-247.5\" y=\"263.5\"/></g><g class=\"shade\"><rect fill=\"white\" height=\"1.25\" width=\"3.6\" x=\"-235.8\" y=\"270.5\"/><rect fill=\"white\" height=\"1.25\" width=\"3.6\" x=\"-235.8\" y=\"268.25\"/><rect fill=\"green\" height=\"0.75\" width=\"3\" x=\"-235.5\" y=\"270.75\"/><rect fill=\"green\" height=\"0.75\" width=\"3\" x=\"-235.5\" y=\"268.5\"/></g><g class=\"shade\"><rect fill=\"white\" height=\"1.25\" width=\"3.6\" x=\"-241.8\" y=\"275.5\"/><rect fill=\"white\" height=\"1.25\" width=\"3.6\" x=\"-241.8\" y=\"273.25\"/><rect fill=\"green\" height=\"0.75\" width=\"3\" x=\"-241.5\" y=\"275.75\"/><rect fill=\"green\" height=\"0.75\" width=\"3\" x=\"-241.5\" y=\"273.5\"/></g><g class=\"shade\"><rect fill=\"white\" height=\"1.25\" width=\"3.6\" x=\"-190.8\" y=\"285.5\"/><rect fill=\"white\" height=\"1.25\" width=\"3.6\" x=\"-190.8\" y=\"283.25\"/><rect fill=\"green\" height=\"0.75\" width=\"3\" x=\"-190.5\" y=\"285.75\"/><rect fill=\"green\" height=\"0.75\" width=\"3\" x=\"-190.5\" y=\"283.5\"/></g><g class=\"shade\"><rect fill=\"white\" height=\"1.25\" width=\"3.6\" x=\"-232.8\" y=\"290.5\"/><rect fill=\"white\" height=\"1.25\" width=\"3.6\" x=\"-232.8\" y=\"288.25\"/><rect fill=\"green\" height=\"0.75\" width=\"3\" x=\"-232.5\" y=\"290.75\"/><rect fill=\"green\" height=\"0.75\" width=\"3\" x=\"-232.5\" y=\"288.5\"/></g><g class=\"shade\"><rect fill=\"white\" height=\"1.25\" width=\"3.6\" x=\"-157.8\" y=\"295.5\"/><rect fill=\"white\" height=\"1.25\" width=\"3.6\" x=\"-157.8\" y=\"293.25\"/><rect fill=\"green\" height=\"0.75\" width=\"3\" x=\"-157.5\" y=\"295.75\"/><rect fill=\"green\" height=\"0.75\" width=\"3\" x=\"-157.5\" y=\"293.5\"/></g><g class=\"shade\"><rect fill=\"white\" height=\"1.25\" width=\"3.6\" x=\"-193.8\" y=\"300.5\"/><rect fill=\"white\" height=\"1.25\" width=\"3.6\" x=\"-193.8\" y=\"298.25\"/><rect fill=\"green\" height=\"0.75\" width=\"3\" x=\"-193.5\" y=\"300.75\"/><rect fill=\"green\" height=\"0.75\" width=\"3\" x=\"-193.5\" y=\"298.5\"/></g><g class=\"shade\"><rect fill=\"white\" height=\"1.25\" width=\"3.6\" x=\"-184.8\" y=\"305.5\"/><rect fill=\"white\" height=\"1.25\" width=\"3.6\" x=\"-184.8\" y=\"303.25\"/><rect fill=\"green\" height=\"0.75\" width=\"3\" x=\"-184.5\" y=\"305.75\"/><rect fill=\"green\" height=\"0.75\" width=\"3\" x=\"-184.5\" y=\"303.5\"/></g><g class=\"shade\"><rect fill=\"white\" height=\"1.25\" width=\"3.6\" x=\"-229.8\" y=\"310.5\"/><rect fill=\"white\" height=\"1.25\" width=\"3.6\" x=\"-229.8\" y=\"308.25\"/><rect fill=\"green\" height=\"0.75\" width=\"3\" x=\"-229.5\" y=\"310.75\"/><rect fill=\"green\" height=\"0.75\" width=\"3\" x=\"-229.5\" y=\"308.5\"/></g><g class=\"shade\"><rect fill=\"white\" height=\"1.25\" width=\"3.6\" x=\"-277.8\" y=\"315.5\"/><rect fill=\"white\" height=\"1.25\" width=\"3.6\" x=\"-277.8\" y=\"313.25\"/><rect fill=\"green\" height=\"0.75\" width=\"3\" x=\"-277.5\" y=\"315.75\"/><rect fill=\"green\" height=\"0.75\" width=\"3\" x=\"-277.5\" y=\"313.5\"/></g><g class=\"shade\"><rect fill=\"white\" height=\"1.25\" width=\"3.6\" x=\"-277.8\" y=\"395.5\"/><rect fill=\"white\" height=\"1.25\" width=\"3.6\" x=\"-277.8\" y=\"393.25\"/><rect fill=\"green\" height=\"0.75\" width=\"3\" x=\"-277.5\" y=\"395.75\"/><rect fill=\"green\" height=\"0.75\" width=\"3\" x=\"-277.5\" y=\"393.5\"/></g><g class=\"shade\"><rect fill=\"white\" height=\"1.25\" width=\"3.6\" x=\"-259.8\" y=\"400.5\"/><rect fill=\"white\" height=\"1.25\" width=\"3.6\" x=\"-259.8\" y=\"398.25\"/><rect fill=\"green\" height=\"0.75\" width=\"3\" x=\"-259.5\" y=\"400.75\"/><rect fill=\"green\" height=\"0.75\" width=\"3\" x=\"-259.5\" y=\"398.5\"/></g><g class=\"shade\"><rect fill=\"white\" height=\"1.25\" width=\"3.6\" x=\"-229.8\" y=\"405.5\"/><rect fill=\"white\" height=\"1.25\" width=\"3.6\" x=\"-229.8\" y=\"403.25\"/><rect fill=\"green\" height=\"0.75\" width=\"3\" x=\"-229.5\" y=\"405.75\"/><rect fill=\"green\" height=\"0.75\" width=\"3\" x=\"-229.5\" y=\"403.5\"/></g><g class=\"shade\"><rect fill=\"white\" height=\"1.25\" width=\"3.6\" x=\"-274.8\" y=\"415.5\"/><rect fill=\"white\" height=\"1.25\" width=\"3.6\" x=\"-274.8\" y=\"413.25\"/><rect fill=\"green\" height=\"0.75\" width=\"3\" x=\"-274.5\" y=\"415.75\"/><rect fill=\"green\" height=\"0.75\" width=\"3\" x=\"-274.5\" y=\"413.5\"/></g><g class=\"shade\"><rect fill=\"white\" height=\"1.25\" width=\"60.6\" x=\"34.2\" y=\"0.5\"/><rect fill=\"white\" height=\"1.25\" width=\"60.6\" x=\"34.2\" y=\"-1.75\"/><rect fill=\"greenyellow\" height=\"0.75\" width=\"60\" x=\"34.5\" y=\"0.75\"/><rect fill=\"greenyellow\" height=\"0.75\" width=\"60\" x=\"34.5\" y=\"-1.5\"/></g><g class=\"shade\"><rect fill=\"white\" height=\"1.25\" width=\"30.6\" x=\"37.2\" y=\"10.5\"/><rect fill=\"white\" height=\"1.25\" width=\"30.6\" x=\"37.2\" y=\"8.25\"/><rect fill=\"greenyellow\" height=\"0.75\" width=\"30\" x=\"37.5\" y=\"10.75\"/><rect fill=\"greenyellow\" height=\"0.75\" width=\"30\" x=\"37.5\" y=\"8.5\"/></g><g class=\"shade\"><rect fill=\"white\" height=\"1.25\" width=\"9.6\" x=\"43.2\" y=\"20.5\"/><rect fill=\"white\" height=\"1.25\" width=\"9.6\" x=\"43.2\" y=\"18.25\"/><rect fill=\"greenyellow\" height=\"0.75\" width=\"9\" x=\"43.5\" y=\"20.75\"/><rect fill=\"greenyellow\" height=\"0.75\" width=\"9\" x=\"43.5\" y=\"18.5\"/></g><g class=\"shade\"><rect fill=\"white\" height=\"1.25\" width=\"21.6\" x=\"37.2\" y=\"70.5\"/><rect fill=\"white\" height=\"1.25\" width=\"21.6\" x=\"37.2\" y=\"68.25\"/><rect fill=\"greenyellow\" height=\"0.75\" width=\"21\" x=\"37.5\" y=\"70.75\"/><rect fill=\"greenyellow\" height=\"0.75\" width=\"21\" x=\"37.5\" y=\"68.5\"/></g><g class=\"shade\"><rect fill=\"white\" height=\"1.25\" width=\"54.6\" x=\"1.2\" y=\"75.5\"/><rect fill=\"white\" height=\"1.25\" width=\"54.6\" x=\"1.2\" y=\"73.25\"/><rect fill=\"greenyellow\" height=\"0.75\" width=\"54\" x=\"1.5\" y=\"75.75\"/><rect fill=\"greenyellow\" height=\"0.75\" width=\"54\" x=\"1.5\" y=\"73.5\"/></g><g class=\"shade\"><rect fill=\"white\" height=\"1.25\" width=\"45.6\" x=\"43.2\" y=\"85.5\"/><rect fill=\"white\" height=\"1.25\" width=\"45.6\" x=\"43.2\" y=\"83.25\"/><rect fill=\"greenyellow\" height=\"0.75\" width=\"45\" x=\"43.5\" y=\"85.75\"/><rect fill=\"greenyellow\" height=\"0.75\" width=\"45\" x=\"43.5\" y=\"83.5\"/></g><g class=\"shade\"><rect fill=\"white\" height=\"1.25\" width=\"6.6\" x=\"4.2\" y=\"90.5\"/><rect fill=\"white\" height=\"1.25\" width=\"6.6\" x=\"4.2\" y=\"88.25\"/><rect fill=\"greenyellow\" height=\"0.75\" width=\"6\" x=\"4.5\" y=\"90.75\"/><rect fill=\"greenyellow\" height=\"0.75\" width=\"6\" x=\"4.5\" y=\"88.5\"/></g><g class=\"shade\"><rect fill=\"white\" height=\"1.25\" width=\"27.6\" x=\"7.2\" y=\"100.5\"/><rect fill=\"white\" height=\"1.25\" width=\"27.6\" x=\"7.2\" y=\"98.25\"/><rect fill=\"greenyellow\" height=\"0.75\" width=\"27\" x=\"7.5\" y=\"100.75\"/><rect fill=\"greenyellow\" height=\"0.75\" width=\"27\" x=\"7.5\" y=\"98.5\"/></g><g class=\"shade\"><rect fill=\"white\" height=\"1.25\" width=\"48.6\" x=\"10.2\" y=\"105.5\"/><rect fill=\"white\" height=\"1.25\" width=\"48.6\" x=\"10.2\" y=\"103.25\"/><rect fill=\"greenyellow\" height=\"0.75\" width=\"48\" x=\"10.5\" y=\"105.75\"/><rect fill=\"greenyellow\" height=\"0.75\" width=\"48\" x=\"10.5\" y=\"103.5\"/></g><g class=\"shade\"><rect fill=\"white\" height=\"1.25\" width=\"3.6\" x=\"49.2\" y=\"110.5\"/><rect fill=\"white\" height=\"1.25\" width=\"3.6\" x=\"49.2\" y=\"108.25\"/><rect fill=\"greenyellow\" height=\"0.75\" width=\"3\" x=\"49.5\" y=\"110.75\"/><rect fill=\"greenyellow\" height=\"0.75\" width=\"3\" x=\"49.5\" y=\"108.5\"/></g><g class=\"shade\"><rect fill=\"white\" height=\"1.25\" width=\"15.6\" x=\"58.2\" y=\"115.5\"/><rect fill=\"white\" height=\"1.25\" width=\"15.6\" x=\"58.2\" y=\"113.25\"/><rect fill=\"greenyellow\" height=\"0.75\" width=\"15\" x=\"58.5\" y=\"115.75\"/><rect fill=\"greenyellow\" height=\"0.75\" width=\"15\" x=\"58.5\" y=\"113.5\"/></g><g class=\"shade\"><rect fill=\"white\" height=\"1.25\" width=\"39.6\" x=\"58.2\" y=\"120.5\"/><rect fill=\"white\" height=\"1.25\" width=\"39.6\" x=\"58.2\" y=\"118.25\"/><rect fill=\"greenyellow\" height=\"0.75\" width=\"39\" x=\"58.5\" y=\"120.75\"/><rect fill=\"greenyellow\" height=\"0.75\" width=\"39\" x=\"58.5\" y=\"118.5\"/></g><g class=\"shade\"><rect fill=\"white\" height=\"1.25\" width=\"24.6\" x=\"61.2\" y=\"130.5\"/><rect fill=\"white\" height=\"1.25\" width=\"24.6\" x=\"61.2\" y=\"128.25\"/><rect fill=\"greenyellow\" height=\"0.75\" width=\"24\" x=\"61.5\" y=\"130.75\"/><rect fill=\"greenyellow\" height=\"0.75\" width=\"24\" x=\"61.5\" y=\"128.5\"/></g><g class=\"shade\"><rect fill=\"white\" height=\"1.25\" width=\"33.6\" x=\"37.2\" y=\"135.5\"/><rect fill=\"white\" height=\"1.25\" width=\"33.6\" x=\"37.2\" y=\"133.25\"/><rect fill=\"greenyellow\" height=\"0.75\" width=\"33\" x=\"37.5\" y=\"135.75\"/><rect fill=\"greenyellow\" height=\"0.75\" width=\"33\" x=\"37.5\" y=\"133.5\"/></g><g class=\"shade\"><rect fill=\"white\" height=\"1.25\" width=\"24.6\" x=\"58.2\" y=\"155.5\"/><rect fill=\"white\" height=\"1.25\" width=\"24.6\" x=\"58.2\" y=\"153.25\"/><rect fill=\"greenyellow\" height=\"0.75\" width=\"24\" x=\"58.5\" y=\"155.75\"/><rect fill=\"greenyellow\" height=\"0.75\" width=\"24\" x=\"58.5\" y=\"153.5\"/></g><g class=\"shade\"><rect fill=\"white\" height=\"1.25\" width=\"162.6\" x=\"-88.8\" y=\"170.5\"/><rect fill=\"white\" height=\"1.25\" width=\"162.6\" x=\"-88.8\" y=\"168.25\"/><rect fill=\"greenyellow\" height=\"0.75\" width=\"162\" x=\"-88.5\" y=\"170.75\"/><rect fill=\"greenyellow\" height=\"0.75\" width=\"162\" x=\"-88.5\" y=\"168.5\"/></g><g class=\"shade\"><rect fill=\"white\" height=\"1.25\" width=\"18.6\" x=\"25.2\" y=\"175.5\"/><rect fill=\"white\" height=\"1.25\" width=\"18.6\" x=\"25.2\" y=\"173.25\"/><rect fill=\"greenyellow\" height=\"0.75\" width=\"18\" x=\"25.5\" y=\"175.75\"/><rect fill=\"greenyellow\" height=\"0.75\" width=\"18\" x=\"25.5\" y=\"173.5\"/></g><g class=\"shade\"><rect fill=\"white\" height=\"1.25\" width=\"3.6\" x=\"-67.8\" y=\"180.5\"/><rect fill=\"white\" height=\"1.25\" width=\"3.6\" x=\"-67.8\" y=\"178.25\"/><rect fill=\"greenyellow\" height=\"0.75\" width=\"3\" x=\"-67.5\" y=\"180.75\"/><rect fill=\"greenyellow\" height=\"0.75\" width=\"3\" x=\"-67.5\" y=\"178.5\"/></g><g class=\"shade\"><rect fill=\"white\" height=\"1.25\" width=\"6.6\" x=\"-85.8\" y=\"185.5\"/><rect fill=\"white\" height=\"1.25\" width=\"6.6\" x=\"-85.8\" y=\"183.25\"/><rect fill=\"greenyellow\" height=\"0.75\" width=\"6\" x=\"-85.5\" y=\"185.75\"/><rect fill=\"greenyellow\" height=\"0.75\" width=\"6\" x=\"-85.5\" y=\"183.5\"/></g><g class=\"shade\"><rect fill=\"white\" height=\"1.25\" width=\"81.6\" x=\"-82.8\" y=\"190.5\"/><rect fill=\"white\" height=\"1.25\" width=\"81.6\" x=\"-82.8\" y=\"188.25\"/><rect fill=\"greenyellow\" height=\"0.75\" width=\"81\" x=\"-82.5\" y=\"190.75\"/><rect fill=\"greenyellow\" height=\"0.75\" width=\"81\" x=\"-82.5\" y=\"188.5\"/></g><g class=\"shade\"><rect fill=\"white\" height=\"1.25\" width=\"18.6\" x=\"-28.8\" y=\"195.5\"/><rect fill=\"white\" height=\"1.25\" width=\"18.6\" x=\"-28.8\" y=\"193.25\"/><rect fill=\"greenyellow\" height=\"0.75\" width=\"18\" x=\"-28.5\" y=\"195.75\"/><rect fill=\"greenyellow\" height=\"0.75\" width=\"18\" x=\"-28.5\" y=\"193.5\"/></g><g class=\"shade\"><rect fill=\"white\" height=\"1.25\" width=\"12.6\" x=\"-34.8\" y=\"200.5\"/><rect fill=\"white\" height=\"1.25\" width=\"12.6\" x=\"-34.8\" y=\"198.25\"/><rect fill=\"greenyellow\" height=\"0.75\" width=\"12\" x=\"-34.5\" y=\"200.75\"/><rect fill=\"greenyellow\" height=\"0.75\" width=\"12\" x=\"-34.5\" y=\"198.5\"/></g><g class=\"shade\"><rect fill=\"white\" height=\"1.25\" width=\"129.6\" x=\"-211.8\" y=\"205.5\"/><rect fill=\"white\" height=\"1.25\" width=\"129.6\" x=\"-211.8\" y=\"203.25\"/><rect fill=\"greenyellow\" height=\"0.75\" width=\"129\" x=\"-211.5\" y=\"205.75\"/><rect fill=\"greenyellow\" height=\"0.75\" width=\"129\" x=\"-211.5\" y=\"203.5\"/></g><g class=\"shade\"><rect fill=\"white\" height=\"1.25\" width=\"51.6\" x=\"-58.8\" y=\"210.5\"/><rect fill=\"white\" height=\"1.25\" width=\"51.6\" x=\"-58.8\" y=\"208.25\"/><rect fill=\"greenyellow\" height=\"0.75\" width=\"51\" x=\"-58.5\" y=\"210.75\"/><rect fill=\"greenyellow\" height=\"0.75\" width=\"51\" x=\"-58.5\" y=\"208.5\"/></g><g class=\"shade\"><rect fill=\"white\" height=\"1.25\" width=\"27.6\" x=\"-172.8\" y=\"220.5\"/><rect fill=\"white\" height=\"1.25\" width=\"27.6\" x=\"-172.8\" y=\"218.25\"/><rect fill=\"greenyellow\" height=\"0.75\" width=\"27\" x=\"-172.5\" y=\"220.75\"/><rect fill=\"greenyellow\" height=\"0.75\" width=\"27\" x=\"-172.5\" y=\"218.5\"/></g><g class=\"shade\"><rect fill=\"white\" height=\"1.25\" width=\"81.6\" x=\"-169.8\" y=\"230.5\"/><rect fill=\"white\" height=\"1.25\" width=\"81.6\" x=\"-169.8\" y=\"228.25\"/><rect fill=\"greenyellow\" height=\"0.75\" width=\"81\" x=\"-169.5\" y=\"230.75\"/><rect fill=\"greenyellow\" height=\"0.75\" width=\"81\" x=\"-169.5\" y=\"228.5\"/></g><g class=\"shade\"><rect fill=\"white\" height=\"1.25\" width=\"117.6\" x=\"-268.8\" y=\"235.5\"/><rect fill=\"white\" height=\"1.25\" width=\"117.6\" x=\"-268.8\" y=\"233.25\"/><rect fill=\"greenyellow\" height=\"0.75\" width=\"117\" x=\"-268.5\" y=\"235.75\"/><rect fill=\"greenyellow\" height=\"0.75\" width=\"117\" x=\"-268.5\" y=\"233.5\"/></g><g class=\"shade\"><rect fill=\"white\" height=\"1.25\" width=\"3.6\" x=\"-124.8\" y=\"240.5\"/><rect fill=\"white\" height=\"1.25\" width=\"3.6\" x=\"-124.8\" y=\"238.25\"/><rect fill=\"greenyellow\" height=\"0.75\" width=\"3\" x=\"-124.5\" y=\"240.75\"/><rect fill=\"greenyellow\" height=\"0.75\" width=\"3\" x=\"-124.5\" y=\"238.5\"/></g><g class=\"shade\"><rect fill=\"white\" height=\"1.25\" width=\"60.6\" x=\"-181.8\" y=\"245.5\"/><rect fill=\"white\" height=\"1.25\" width=\"60.6\" x=\"-181.8\" y=\"243.25\"/><rect fill=\"greenyellow\" height=\"0.75\" width=\"60\" x=\"-181.5\" y=\"245.75\"/><rect fill=\"greenyellow\" height=\"0.75\" width=\"60\" x=\"-181.5\" y=\"243.5\"/></g><g class=\"shade\"><rect fill=\"white\" height=\"1.25\" width=\"63.6\" x=\"-205.8\" y=\"250.5\"/><rect fill=\"white\" height=\"1.25\" width=\"63.6\" x=\"-205.8\" y=\"248.25\"/><rect fill=\"greenyellow\" height=\"0.75\" width=\"63\" x=\"-205.5\" y=\"250.75\"/><rect fill=\"greenyellow\" height=\"0.75\" width=\"63\" x=\"-205.5\" y=\"248.5\"/></g><g class=\"shade\"><rect fill=\"white\" height=\"1.25\" width=\"42.6\" x=\"-262.8\" y=\"255.5\"/><rect fill=\"white\" height=\"1.25\" width=\"42.6\" x=\"-262.8\" y=\"253.25\"/><rect fill=\"greenyellow\" height=\"0.75\" width=\"42\" x=\"-262.5\" y=\"255.75\"/><rect fill=\"greenyellow\" height=\"0.75\" width=\"42\" x=\"-262.5\" y=\"253.5\"/></g><g class=\"shade\"><rect fill=\"white\" height=\"1.25\" width=\"30.6\" x=\"-244.8\" y=\"260.5\"/><rect fill=\"white\" height=\"1.25\" width=\"30.6\" x=\"-244.8\" y=\"258.25\"/><rect fill=\"greenyellow\" height=\"0.75\" width=\"30\" x=\"-244.5\" y=\"260.75\"/><rect fill=\"greenyellow\" height=\"0.75\" width=\"30\" x=\"-244.5\" y=\"258.5\"/></g><g class=\"shade\"><rect fill=\"white\" height=\"1.25\" width=\"27.6\" x=\"-262.8\" y=\"270.5\"/><rect fill=\"white\" height=\"1.25\" width=\"27.6\" x=\"-262.8\" y=\"268.25\"/><rect fill=\"greenyellow\" height=\"0.75\" width=\"27\" x=\"-262.5\" y=\"270.75\"/><rect fill=\"greenyellow\" height=\"0.75\" width=\"27\" x=\"-262.5\" y=\"268.5\"/></g><g class=\"shade\"><rect fill=\"white\" height=\"1.25\" width=\"9.6\" x=\"-250.8\" y=\"275.5\"/><rect fill=\"white\" height=\"1.25\" width=\"9.6\" x=\"-250.8\" y=\"273.25\"/><rect fill=\"greenyellow\" height=\"0.75\" width=\"9\" x=\"-250.5\" y=\"275.75\"/><rect fill=\"greenyellow\" height=\"0.75\" width=\"9\" x=\"-250.5\" y=\"273.5\"/></g><g class=\"shade\"><rect fill=\"white\" height=\"1.25\" width=\"57.6\" x=\"-247.8\" y=\"285.5\"/><rect fill=\"white\" height=\"1.25\" width=\"57.6\" x=\"-247.8\" y=\"283.25\"/><rect fill=\"greenyellow\" height=\"0.75\" width=\"57\" x=\"-247.5\" y=\"285.75\"/><rect fill=\"greenyellow\" height=\"0.75\" width=\"57\" x=\"-247.5\" y=\"283.5\"/></g><g class=\"shade\"><rect fill=\"white\" height=\"1.25\" width=\"12.6\" x=\"-244.8\" y=\"290.5\"/><rect fill=\"white\" height=\"1.25\" width=\"12.6\" x=\"-244.8\" y=\"288.25\"/><rect fill=\"greenyellow\" height=\"0.75\" width=\"12\" x=\"-244.5\" y=\"290.75\"/><rect fill=\"greenyellow\" height=\"0.75\" width=\"12\" x=\"-244.5\" y=\"288.5\"/></g><g class=\"shade\"><rect fill=\"white\" height=\"1.25\" width=\"99.6\" x=\"-256.8\" y=\"295.5\"/><rect fill=\"white\" height=\"1.25\" width=\"99.6\" x=\"-256.8\" y=\"293.25\"/><rect fill=\"greenyellow\" height=\"0.75\" width=\"99\" x=\"-256.5\" y=\"295.75\"/><rect fill=\"greenyellow\" height=\"0.75\" width=\"99\" x=\"-256.5\" y=\"293.5\"/></g><g class=\"shade\"><rect fill=\"white\" height=\"1.25\" width=\"42.6\" x=\"-235.8\" y=\"300.5\"/><rect fill=\"white\" height=\"1.25\" width=\"42.6\" x=\"-235.8\" y=\"298.25\"/><rect fill=\"greenyellow\" height=\"0.75\" width=\"42\" x=\"-235.5\" y=\"300.75\"/><rect fill=\"greenyellow\" height=\"0.75\" width=\"42\" x=\"-235.5\" y=\"298.5\"/></g><g class=\"shade\"><rect fill=\"white\" height=\"1.25\" width=\"18.6\" x=\"-202.8\" y=\"305.5\"/><rect fill=\"white\" height=\"1.25\" width=\"18.6\" x=\"-202.8\" y=\"303.25\"/><rect fill=\"greenyellow\" height=\"0.75\" width=\"18\" x=\"-202.5\" y=\"305.75\"/><rect fill=\"greenyellow\" height=\"0.75\" width=\"18\" x=\"-202.5\" y=\"303.5\"/></g><g class=\"shade\"><rect fill=\"white\" height=\"1.25\" width=\"36.6\" x=\"-265.8\" y=\"310.5\"/><rect fill=\"white\" height=\"1.25\" width=\"36.6\" x=\"-265.8\" y=\"308.25\"/><rect fill=\"greenyellow\" height=\"0.75\" width=\"36\" x=\"-265.5\" y=\"310.75\"/><rect fill=\"greenyellow\" height=\"0.75\" width=\"36\" x=\"-265.5\" y=\"308.5\"/></g><g class=\"shade\"><rect fill=\"white\" height=\"1.25\" width=\"3.6\" x=\"-280.8\" y=\"315.5\"/><rect fill=\"white\" height=\"1.25\" width=\"3.6\" x=\"-280.8\" y=\"313.25\"/><rect fill=\"greenyellow\" height=\"0.75\" width=\"3\" x=\"-280.5\" y=\"315.75\"/><rect fill=\"greenyellow\" height=\"0.75\" width=\"3\" x=\"-280.5\" y=\"313.5\"/></g><g class=\"shade\"><rect fill=\"white\" height=\"1.25\" width=\"18.6\" x=\"-277.8\" y=\"400.5\"/><rect fill=\"white\" height=\"1.25\" width=\"18.6\" x=\"-277.8\" y=\"398.25\"/><rect fill=\"greenyellow\" height=\"0.75\" width=\"18\" x=\"-277.5\" y=\"400.75\"/><rect fill=\"greenyellow\" height=\"0.75\" width=\"18\" x=\"-277.5\" y=\"398.5\"/></g><g class=\"shade\"><rect fill=\"white\" height=\"1.25\" width=\"30.6\" x=\"-259.8\" y=\"405.5\"/><rect fill=\"white\" height=\"1.25\" width=\"30.6\" x=\"-259.8\" y=\"403.25\"/><rect fill=\"greenyellow\" height=\"0.75\" width=\"30\" x=\"-259.5\" y=\"405.75\"/><rect fill=\"greenyellow\" height=\"0.75\" width=\"30\" x=\"-259.5\" y=\"403.5\"/></g><g class=\"shade\"><rect fill=\"white\" height=\"1.25\" width=\"3.6\" x=\"-1.8\" y=\"0.5\"/><rect fill=\"white\" height=\"1.25\" width=\"3.6\" x=\"-1.8\" y=\"-1.75\"/><rect fill=\"red\" height=\"0.75\" width=\"3\" x=\"-1.5\" y=\"0.75\"/><rect fill=\"red\" height=\"0.75\" width=\"3\" x=\"-1.5\" y=\"-1.5\"/></g><g class=\"shade\"><rect fill=\"white\" height=\"1.25\" width=\"3.6\" x=\"-16.8\" y=\"5.5\"/><rect fill=\"white\" height=\"1.25\" width=\"3.6\" x=\"-16.8\" y=\"3.25\"/><rect fill=\"red\" height=\"0.75\" width=\"3\" x=\"-16.5\" y=\"5.75\"/><rect fill=\"red\" height=\"0.75\" width=\"3\" x=\"-16.5\" y=\"3.5\"/></g><g class=\"shade\"><rect fill=\"white\" height=\"1.25\" width=\"3.6\" x=\"-16.8\" y=\"15.5\"/><rect fill=\"white\" height=\"1.25\" width=\"3.6\" x=\"-16.8\" y=\"13.25\"/><rect fill=\"red\" height=\"0.75\" width=\"3\" x=\"-16.5\" y=\"15.75\"/><rect fill=\"red\" height=\"0.75\" width=\"3\" x=\"-16.5\" y=\"13.5\"/></g><g class=\"shade\"><rect fill=\"white\" height=\"1.25\" width=\"3.6\" x=\"-118.8\" y=\"25.5\"/><rect fill=\"white\" height=\"1.25\" width=\"3.6\" x=\"-118.8\" y=\"23.25\"/><rect fill=\"red\" height=\"0.75\" width=\"3\" x=\"-118.5\" y=\"25.75\"/><rect fill=\"red\" height=\"0.75\" width=\"3\" x=\"-118.5\" y=\"23.5\"/></g><g class=\"shade\"><rect fill=\"white\" height=\"1.25\" width=\"3.6\" x=\"-7.8\" y=\"30.5\"/><rect fill=\"white\" height=\"1.25\" width=\"3.6\" x=\"-7.8\" y=\"28.25\"/><rect fill=\"red\" height=\"0.75\" width=\"3\" x=\"-7.5\" y=\"30.75\"/><rect fill=\"red\" height=\"0.75\" width=\"3\" x=\"-7.5\" y=\"28.5\"/></g><g class=\"shade\"><rect fill=\"white\" height=\"1.25\" width=\"3.6\" x=\"-64.8\" y=\"35.5\"/><rect fill=\"white\" height=\"1.25\" width=\"3.6\" x=\"-64.8\" y=\"33.25\"/><rect fill=\"red\" height=\"0.75\" width=\"3\" x=\"-64.5\" y=\"35.75\"/><rect fill=\"red\" height=\"0.75\" width=\"3\" x=\"-64.5\" y=\"33.5\"/></g><g class=\"shade\"><rect fill=\"white\" height=\"1.25\" width=\"3.6\" x=\"-19.8\" y=\"40.5\"/><rect fill=\"white\" height=\"1.25\" width=\"3.6\" x=\"-19.8\" y=\"38.25\"/><rect fill=\"red\" height=\"0.75\" width=\"3\" x=\"-19.5\" y=\"40.75\"/><rect fill=\"red\" height=\"0.75\" width=\"3\" x=\"-19.5\" y=\"38.5\"/></g><g class=\"shade\"><rect fill=\"white\" height=\"1.25\" width=\"3.6\" x=\"-19.8\" y=\"45.5\"/><rect fill=\"white\" height=\"1.25\" width=\"3.6\" x=\"-19.8\" y=\"43.25\"/><rect fill=\"red\" height=\"0.75\" width=\"3\" x=\"-19.5\" y=\"45.75\"/><rect fill=\"red\" height=\"0.75\" width=\"3\" x=\"-19.5\" y=\"43.5\"/></g><g class=\"shade\"><rect fill=\"white\" height=\"1.25\" width=\"3.6\" x=\"-1.8\" y=\"50.5\"/><rect fill=\"white\" height=\"1.25\" width=\"3.6\" x=\"-1.8\" y=\"48.25\"/><rect fill=\"red\" height=\"0.75\" width=\"3\" x=\"-1.5\" y=\"50.75\"/><rect fill=\"red\" height=\"0.75\" width=\"3\" x=\"-1.5\" y=\"48.5\"/></g><g class=\"shade\"><rect fill=\"white\" height=\"1.25\" width=\"3.6\" x=\"10.2\" y=\"55.5\"/><rect fill=\"white\" height=\"1.25\" width=\"3.6\" x=\"10.2\" y=\"53.25\"/><rect fill=\"red\" height=\"0.75\" width=\"3\" x=\"10.5\" y=\"55.75\"/><rect fill=\"red\" height=\"0.75\" width=\"3\" x=\"10.5\" y=\"53.5\"/></g><g class=\"shade\"><rect fill=\"white\" height=\"1.25\" width=\"3.6\" x=\"-79.8\" y=\"60.5\"/><rect fill=\"white\" height=\"1.25\" width=\"3.6\" x=\"-79.8\" y=\"58.25\"/><rect fill=\"red\" height=\"0.75\" width=\"3\" x=\"-79.5\" y=\"60.75\"/><rect fill=\"red\" height=\"0.75\" width=\"3\" x=\"-79.5\" y=\"58.5\"/></g><g class=\"shade\"><rect fill=\"white\" height=\"1.25\" width=\"3.6\" x=\"22.2\" y=\"65.5\"/><rect fill=\"white\" height=\"1.25\" width=\"3.6\" x=\"22.2\" y=\"63.25\"/><rect fill=\"red\" height=\"0.75\" width=\"3\" x=\"22.5\" y=\"65.75\"/><rect fill=\"red\" height=\"0.75\" width=\"3\" x=\"22.5\" y=\"63.5\"/></g><g class=\"shade\"><rect fill=\"white\" height=\"1.25\" width=\"3.6\" x=\"-7.8\" y=\"75.5\"/><rect fill=\"white\" height=\"1.25\" width=\"3.6\" x=\"-7.8\" y=\"73.25\"/><rect fill=\"red\" height=\"0.75\" width=\"3\" x=\"-7.5\" y=\"75.75\"/><rect fill=\"red\" height=\"0.75\" width=\"3\" x=\"-7.5\" y=\"73.5\"/></g><g class=\"shade\"><rect fill=\"white\" height=\"1.25\" width=\"3.6\" x=\"-7.8\" y=\"95.5\"/><rect fill=\"white\" height=\"1.25\" width=\"3.6\" x=\"-7.8\" y=\"93.25\"/><rect fill=\"red\" height=\"0.75\" width=\"3\" x=\"-7.5\" y=\"95.75\"/><rect fill=\"red\" height=\"0.75\" width=\"3\" x=\"-7.5\" y=\"93.5\"/></g><g class=\"shade\"><rect fill=\"white\" height=\"1.25\" width=\"3.6\" x=\"37.2\" y=\"110.5\"/><rect fill=\"white\" height=\"1.25\" width=\"3.6\" x=\"37.2\" y=\"108.25\"/><rect fill=\"red\" height=\"0.75\" width=\"3\" x=\"37.5\" y=\"110.75\"/><rect fill=\"red\" height=\"0.75\" width=\"3\" x=\"37.5\" y=\"108.5\"/></g><g class=\"shade\"><rect fill=\"white\" height=\"1.25\" width=\"3.6\" x=\"-121.8\" y=\"135.5\"/><rect fill=\"white\" height=\"1.25\" width=\"3.6\" x=\"-121.8\" y=\"133.25\"/><rect fill=\"red\" height=\"0.75\" width=\"3\" x=\"-121.5\" y=\"135.75\"/><rect fill=\"red\" height=\"0.75\" width=\"3\" x=\"-121.5\" y=\"133.5\"/></g><g class=\"shade\"><rect fill=\"white\" height=\"1.25\" width=\"3.6\" x=\"-52.8\" y=\"140.5\"/><rect fill=\"white\" height=\"1.25\" width=\"3.6\" x=\"-52.8\" y=\"138.25\"/><rect fill=\"red\" height=\"0.75\" width=\"3\" x=\"-52.5\" y=\"140.75\"/><rect fill=\"red\" height=\"0.75\" width=\"3\" x=\"-52.5\" y=\"138.5\"/></g><g class=\"shade\"><rect fill=\"white\" height=\"1.25\" width=\"3.6\" x=\"-103.8\" y=\"145.5\"/><rect fill=\"white\" height=\"1.25\" width=\"3.6\" x=\"-103.8\" y=\"143.25\"/><rect fill=\"red\" height=\"0.75\" width=\"3\" x=\"-103.5\" y=\"145.75\"/><rect fill=\"red\" height=\"0.75\" width=\"3\" x=\"-103.5\" y=\"143.5\"/></g><g class=\"shade\"><rect fill=\"white\" height=\"1.25\" width=\"3.6\" x=\"13.2\" y=\"150.5\"/><rect fill=\"white\" height=\"1.25\" width=\"3.6\" x=\"13.2\" y=\"148.25\"/><rect fill=\"red\" height=\"0.75\" width=\"3\" x=\"13.5\" y=\"150.75\"/><rect fill=\"red\" height=\"0.75\" width=\"3\" x=\"13.5\" y=\"148.5\"/></g><g class=\"shade\"><rect fill=\"white\" height=\"1.25\" width=\"3.6\" x=\"10.2\" y=\"160.5\"/><rect fill=\"white\" height=\"1.25\" width=\"3.6\" x=\"10.2\" y=\"158.25\"/><rect fill=\"red\" height=\"0.75\" width=\"3\" x=\"10.5\" y=\"160.75\"/><rect fill=\"red\" height=\"0.75\" width=\"3\" x=\"10.5\" y=\"158.5\"/></g><g class=\"shade\"><rect fill=\"white\" height=\"1.25\" width=\"3.6\" x=\"-10.8\" y=\"165.5\"/><rect fill=\"white\" height=\"1.25\" width=\"3.6\" x=\"-10.8\" y=\"163.25\"/><rect fill=\"red\" height=\"0.75\" width=\"3\" x=\"-10.5\" y=\"165.75\"/><rect fill=\"red\" height=\"0.75\" width=\"3\" x=\"-10.5\" y=\"163.5\"/></g><g class=\"shade\"><rect fill=\"white\" height=\"1.25\" width=\"3.6\" x=\"-94.8\" y=\"170.5\"/><rect fill=\"white\" height=\"1.25\" width=\"3.6\" x=\"-94.8\" y=\"168.25\"/><rect fill=\"red\" height=\"0.75\" width=\"3\" x=\"-94.5\" y=\"170.75\"/><rect fill=\"red\" height=\"0.75\" width=\"3\" x=\"-94.5\" y=\"168.5\"/></g><g class=\"shade\"><rect fill=\"white\" height=\"1.25\" width=\"3.6\" x=\"-436.8\" y=\"205.5\"/><rect fill=\"white\" height=\"1.25\" width=\"3.6\" x=\"-436.8\" y=\"203.25\"/><rect fill=\"red\" height=\"0.75\" width=\"3\" x=\"-436.5\" y=\"205.75\"/><rect fill=\"red\" height=\"0.75\" width=\"3\" x=\"-436.5\" y=\"203.5\"/></g><g class=\"shade\"><rect fill=\"white\" height=\"1.25\" width=\"3.6\" x=\"-361.8\" y=\"215.5\"/><rect fill=\"white\" height=\"1.25\" width=\"3.6\" x=\"-361.8\" y=\"213.25\"/><rect fill=\"red\" height=\"0.75\" width=\"3\" x=\"-361.5\" y=\"215.75\"/><rect fill=\"red\" height=\"0.75\" width=\"3\" x=\"-361.5\" y=\"213.5\"/></g><g class=\"shade\"><rect fill=\"white\" height=\"1.25\" width=\"3.6\" x=\"-310.8\" y=\"225.5\"/><rect fill=\"white\" height=\"1.25\" width=\"3.6\" x=\"-310.8\" y=\"223.25\"/><rect fill=\"red\" height=\"0.75\" width=\"3\" x=\"-310.5\" y=\"225.75\"/><rect fill=\"red\" height=\"0.75\" width=\"3\" x=\"-310.5\" y=\"223.5\"/></g><g class=\"shade\"><rect fill=\"white\" height=\"1.25\" width=\"3.6\" x=\"-283.8\" y=\"235.5\"/><rect fill=\"white\" height=\"1.25\" width=\"3.6\" x=\"-283.8\" y=\"233.25\"/><rect fill=\"red\" height=\"0.75\" width=\"3\" x=\"-283.5\" y=\"235.75\"/><rect fill=\"red\" height=\"0.75\" width=\"3\" x=\"-283.5\" y=\"233.5\"/></g><g class=\"shade\"><rect fill=\"white\" height=\"1.25\" width=\"3.6\" x=\"-316.8\" y=\"280.5\"/><rect fill=\"white\" height=\"1.25\" width=\"3.6\" x=\"-316.8\" y=\"278.25\"/><rect fill=\"red\" height=\"0.75\" width=\"3\" x=\"-316.5\" y=\"280.75\"/><rect fill=\"red\" height=\"0.75\" width=\"3\" x=\"-316.5\" y=\"278.5\"/></g><g class=\"shade\"><rect fill=\"white\" height=\"1.25\" width=\"3.6\" x=\"-301.8\" y=\"320.5\"/><rect fill=\"white\" height=\"1.25\" width=\"3.6\" x=\"-301.8\" y=\"318.25\"/><rect fill=\"red\" height=\"0.75\" width=\"3\" x=\"-301.5\" y=\"320.75\"/><rect fill=\"red\" height=\"0.75\" width=\"3\" x=\"-301.5\" y=\"318.5\"/></g><g class=\"shade\"><rect fill=\"white\" height=\"1.25\" width=\"3.6\" x=\"-358.8\" y=\"325.5\"/><rect fill=\"white\" height=\"1.25\" width=\"3.6\" x=\"-358.8\" y=\"323.25\"/><rect fill=\"red\" height=\"0.75\" width=\"3\" x=\"-358.5\" y=\"325.75\"/><rect fill=\"red\" height=\"0.75\" width=\"3\" x=\"-358.5\" y=\"323.5\"/></g><g class=\"shade\"><rect fill=\"white\" height=\"1.25\" width=\"3.6\" x=\"-325.8\" y=\"330.5\"/><rect fill=\"white\" height=\"1.25\" width=\"3.6\" x=\"-325.8\" y=\"328.25\"/><rect fill=\"red\" height=\"0.75\" width=\"3\" x=\"-325.5\" y=\"330.75\"/><rect fill=\"red\" height=\"0.75\" width=\"3\" x=\"-325.5\" y=\"328.5\"/></g><g class=\"shade\"><rect fill=\"white\" height=\"1.25\" width=\"3.6\" x=\"-346.8\" y=\"335.5\"/><rect fill=\"white\" height=\"1.25\" width=\"3.6\" x=\"-346.8\" y=\"333.25\"/><rect fill=\"red\" height=\"0.75\" width=\"3\" x=\"-346.5\" y=\"335.75\"/><rect fill=\"red\" height=\"0.75\" width=\"3\" x=\"-346.5\" y=\"333.5\"/></g><g class=\"shade\"><rect fill=\"white\" height=\"1.25\" width=\"3.6\" x=\"-346.8\" y=\"340.5\"/><rect fill=\"white\" height=\"1.25\" width=\"3.6\" x=\"-346.8\" y=\"338.25\"/><rect fill=\"red\" height=\"0.75\" width=\"3\" x=\"-346.5\" y=\"340.75\"/><rect fill=\"red\" height=\"0.75\" width=\"3\" x=\"-346.5\" y=\"338.5\"/></g><g class=\"shade\"><rect fill=\"white\" height=\"1.25\" width=\"3.6\" x=\"-334.8\" y=\"345.5\"/><rect fill=\"white\" height=\"1.25\" width=\"3.6\" x=\"-334.8\" y=\"343.25\"/><rect fill=\"red\" height=\"0.75\" width=\"3\" x=\"-334.5\" y=\"345.75\"/><rect fill=\"red\" height=\"0.75\" width=\"3\" x=\"-334.5\" y=\"343.5\"/></g><g class=\"shade\"><rect fill=\"white\" height=\"1.25\" width=\"3.6\" x=\"-343.8\" y=\"350.5\"/><rect fill=\"white\" height=\"1.25\" width=\"3.6\" x=\"-343.8\" y=\"348.25\"/><rect fill=\"red\" height=\"0.75\" width=\"3\" x=\"-343.5\" y=\"350.75\"/><rect fill=\"red\" height=\"0.75\" width=\"3\" x=\"-343.5\" y=\"348.5\"/></g><g class=\"shade\"><rect fill=\"white\" height=\"1.25\" width=\"3.6\" x=\"-397.8\" y=\"355.5\"/><rect fill=\"white\" height=\"1.25\" width=\"3.6\" x=\"-397.8\" y=\"353.25\"/><rect fill=\"red\" height=\"0.75\" width=\"3\" x=\"-397.5\" y=\"355.75\"/><rect fill=\"red\" height=\"0.75\" width=\"3\" x=\"-397.5\" y=\"353.5\"/></g><g class=\"shade\"><rect fill=\"white\" height=\"1.25\" width=\"3.6\" x=\"-352.8\" y=\"360.5\"/><rect fill=\"white\" height=\"1.25\" width=\"3.6\" x=\"-352.8\" y=\"358.25\"/><rect fill=\"red\" height=\"0.75\" width=\"3\" x=\"-352.5\" y=\"360.75\"/><rect fill=\"red\" height=\"0.75\" width=\"3\" x=\"-352.5\" y=\"358.5\"/></g><g class=\"shade\"><rect fill=\"white\" height=\"1.25\" width=\"3.6\" x=\"-340.8\" y=\"365.5\"/><rect fill=\"white\" height=\"1.25\" width=\"3.6\" x=\"-340.8\" y=\"363.25\"/><rect fill=\"red\" height=\"0.75\" width=\"3\" x=\"-340.5\" y=\"365.75\"/><rect fill=\"red\" height=\"0.75\" width=\"3\" x=\"-340.5\" y=\"363.5\"/></g><g class=\"shade\"><rect fill=\"white\" height=\"1.25\" width=\"3.6\" x=\"-349.8\" y=\"370.5\"/><rect fill=\"white\" height=\"1.25\" width=\"3.6\" x=\"-349.8\" y=\"368.25\"/><rect fill=\"red\" height=\"0.75\" width=\"3\" x=\"-349.5\" y=\"370.75\"/><rect fill=\"red\" height=\"0.75\" width=\"3\" x=\"-349.5\" y=\"368.5\"/></g><g class=\"shade\"><rect fill=\"white\" height=\"1.25\" width=\"3.6\" x=\"-364.8\" y=\"375.5\"/><rect fill=\"white\" height=\"1.25\" width=\"3.6\" x=\"-364.8\" y=\"373.25\"/><rect fill=\"red\" height=\"0.75\" width=\"3\" x=\"-364.5\" y=\"375.75\"/><rect fill=\"red\" height=\"0.75\" width=\"3\" x=\"-364.5\" y=\"373.5\"/></g><g class=\"shade\"><rect fill=\"white\" height=\"1.25\" width=\"3.6\" x=\"-409.8\" y=\"380.5\"/><rect fill=\"white\" height=\"1.25\" width=\"3.6\" x=\"-409.8\" y=\"378.25\"/><rect fill=\"red\" height=\"0.75\" width=\"3\" x=\"-409.5\" y=\"380.75\"/><rect fill=\"red\" height=\"0.75\" width=\"3\" x=\"-409.5\" y=\"378.5\"/></g><g class=\"shade\"><rect fill=\"white\" height=\"1.25\" width=\"3.6\" x=\"-349.8\" y=\"385.5\"/><rect fill=\"white\" height=\"1.25\" width=\"3.6\" x=\"-349.8\" y=\"383.25\"/><rect fill=\"red\" height=\"0.75\" width=\"3\" x=\"-349.5\" y=\"385.75\"/><rect fill=\"red\" height=\"0.75\" width=\"3\" x=\"-349.5\" y=\"383.5\"/></g><g class=\"shade\"><rect fill=\"white\" height=\"1.25\" width=\"3.6\" x=\"-292.8\" y=\"390.5\"/><rect fill=\"white\" height=\"1.25\" width=\"3.6\" x=\"-292.8\" y=\"388.25\"/><rect fill=\"red\" height=\"0.75\" width=\"3\" x=\"-292.5\" y=\"390.75\"/><rect fill=\"red\" height=\"0.75\" width=\"3\" x=\"-292.5\" y=\"388.5\"/></g><g class=\"shade\"><rect fill=\"white\" height=\"1.25\" width=\"3.6\" x=\"-292.8\" y=\"410.5\"/><rect fill=\"white\" height=\"1.25\" width=\"3.6\" x=\"-292.8\" y=\"408.25\"/><rect fill=\"red\" height=\"0.75\" width=\"3\" x=\"-292.5\" y=\"410.75\"/><rect fill=\"red\" height=\"0.75\" width=\"3\" x=\"-292.5\" y=\"408.5\"/></g><g class=\"shade\"><rect fill=\"white\" height=\"1.25\" width=\"3.6\" x=\"-289.8\" y=\"420.5\"/><rect fill=\"white\" height=\"1.25\" width=\"3.6\" x=\"-289.8\" y=\"418.25\"/><rect fill=\"red\" height=\"0.75\" width=\"3\" x=\"-289.5\" y=\"420.75\"/><rect fill=\"red\" height=\"0.75\" width=\"3\" x=\"-289.5\" y=\"418.5\"/></g><g class=\"shade\"><rect fill=\"white\" height=\"1.25\" width=\"3.6\" x=\"-295.8\" y=\"425.5\"/><rect fill=\"white\" height=\"1.25\" width=\"3.6\" x=\"-295.8\" y=\"423.25\"/><rect fill=\"red\" height=\"0.75\" width=\"3\" x=\"-295.5\" y=\"425.75\"/><rect fill=\"red\" height=\"0.75\" width=\"3\" x=\"-295.5\" y=\"423.5\"/></g></g></g><g class=\"legend\"/><g class=\"hovering-blocks\"><rect class=\"tableline\" height=\"4.5\" width=\"620.0\" x=\"-16.0\" y=\"2.75\"/><rect class=\"tableline\" height=\"4.5\" width=\"620.0\" x=\"-16.0\" y=\"7.75\"/><rect class=\"tableline\" height=\"4.5\" width=\"620.0\" x=\"-16.0\" y=\"12.75\"/><rect class=\"tableline\" height=\"4.5\" width=\"620.0\" x=\"-16.0\" y=\"17.75\"/><rect class=\"tableline\" height=\"4.5\" width=\"620.0\" x=\"-16.0\" y=\"22.75\"/><rect class=\"tableline\" height=\"4.5\" width=\"620.0\" x=\"-16.0\" y=\"27.75\"/><rect class=\"tableline\" height=\"4.5\" width=\"620.0\" x=\"-16.0\" y=\"32.75\"/><rect class=\"tableline\" height=\"4.5\" width=\"620.0\" x=\"-16.0\" y=\"37.75\"/><rect class=\"tableline\" height=\"4.5\" width=\"620.0\" x=\"-16.0\" y=\"42.75\"/><rect class=\"tableline\" height=\"4.5\" width=\"620.0\" x=\"-16.0\" y=\"47.75\"/><rect class=\"tableline\" height=\"4.5\" width=\"620.0\" x=\"-16.0\" y=\"52.75\"/><rect class=\"tableline\" height=\"4.5\" width=\"620.0\" x=\"-16.0\" y=\"57.75\"/><rect class=\"tableline\" height=\"4.5\" width=\"620.0\" x=\"-16.0\" y=\"62.75\"/><rect class=\"tableline\" height=\"4.5\" width=\"620.0\" x=\"-16.0\" y=\"67.75\"/><rect class=\"tableline\" height=\"4.5\" width=\"620.0\" x=\"-16.0\" y=\"72.75\"/><rect class=\"tableline\" height=\"4.5\" width=\"620.0\" x=\"-16.0\" y=\"77.75\"/><rect class=\"tableline\" height=\"4.5\" width=\"620.0\" x=\"-16.0\" y=\"82.75\"/><rect class=\"tableline\" height=\"4.5\" width=\"620.0\" x=\"-16.0\" y=\"87.75\"/><rect class=\"tableline\" height=\"4.5\" width=\"620.0\" x=\"-16.0\" y=\"92.75\"/><rect class=\"tableline\" height=\"4.5\" width=\"620.0\" x=\"-16.0\" y=\"97.75\"/><rect class=\"tableline\" height=\"4.5\" width=\"620.0\" x=\"-16.0\" y=\"102.75\"/><rect class=\"tableline\" height=\"4.5\" width=\"620.0\" x=\"-16.0\" y=\"107.75\"/><rect class=\"tableline\" height=\"4.5\" width=\"620.0\" x=\"-16.0\" y=\"112.75\"/><rect class=\"tableline\" height=\"4.5\" width=\"620.0\" x=\"-16.0\" y=\"117.75\"/><rect class=\"tableline\" height=\"4.5\" width=\"620.0\" x=\"-16.0\" y=\"122.75\"/><rect class=\"tableline\" height=\"4.5\" width=\"620.0\" x=\"-16.0\" y=\"127.75\"/><rect class=\"tableline\" height=\"4.5\" width=\"620.0\" x=\"-16.0\" y=\"132.75\"/><rect class=\"tableline\" height=\"4.5\" width=\"620.0\" x=\"-16.0\" y=\"137.75\"/><rect class=\"tableline\" height=\"4.5\" width=\"620.0\" x=\"-16.0\" y=\"142.75\"/><rect class=\"tableline\" height=\"4.5\" width=\"620.0\" x=\"-16.0\" y=\"147.75\"/><rect class=\"tableline\" height=\"4.5\" width=\"620.0\" x=\"-16.0\" y=\"152.75\"/><rect class=\"tableline\" height=\"4.5\" width=\"620.0\" x=\"-16.0\" y=\"157.75\"/><rect class=\"tableline\" height=\"4.5\" width=\"620.0\" x=\"-16.0\" y=\"162.75\"/><rect class=\"tableline\" height=\"4.5\" width=\"620.0\" x=\"-16.0\" y=\"167.75\"/><rect class=\"tableline\" height=\"4.5\" width=\"620.0\" x=\"-16.0\" y=\"172.75\"/><rect class=\"tableline\" height=\"4.5\" width=\"620.0\" x=\"-16.0\" y=\"177.75\"/><rect class=\"tableline\" height=\"4.5\" width=\"620.0\" x=\"-16.0\" y=\"182.75\"/><rect class=\"tableline\" height=\"4.5\" width=\"620.0\" x=\"-16.0\" y=\"187.75\"/><rect class=\"tableline\" height=\"4.5\" width=\"620.0\" x=\"-16.0\" y=\"192.75\"/><rect class=\"tableline\" height=\"4.5\" width=\"620.0\" x=\"-16.0\" y=\"197.75\"/><rect class=\"tableline\" height=\"4.5\" width=\"620.0\" x=\"-16.0\" y=\"202.75\"/><rect class=\"tableline\" height=\"4.5\" width=\"620.0\" x=\"-16.0\" y=\"207.75\"/><rect class=\"tableline\" height=\"4.5\" width=\"620.0\" x=\"-16.0\" y=\"212.75\"/><rect class=\"tableline\" height=\"4.5\" width=\"620.0\" x=\"-16.0\" y=\"217.75\"/><rect class=\"tableline\" height=\"4.5\" width=\"620.0\" x=\"-16.0\" y=\"222.75\"/><rect class=\"tableline\" height=\"4.5\" width=\"620.0\" x=\"-16.0\" y=\"227.75\"/><rect class=\"tableline\" height=\"4.5\" width=\"620.0\" x=\"-16.0\" y=\"232.75\"/><rect class=\"tableline\" height=\"4.5\" width=\"620.0\" x=\"-16.0\" y=\"237.75\"/><rect class=\"tableline\" height=\"4.5\" width=\"620.0\" x=\"-16.0\" y=\"242.75\"/><rect class=\"tableline\" height=\"4.5\" width=\"620.0\" x=\"-16.0\" y=\"247.75\"/><rect class=\"tableline\" height=\"4.5\" width=\"620.0\" x=\"-16.0\" y=\"252.75\"/><rect class=\"tableline\" height=\"4.5\" width=\"620.0\" x=\"-16.0\" y=\"257.75\"/><rect class=\"tableline\" height=\"4.5\" width=\"620.0\" x=\"-16.0\" y=\"262.75\"/><rect class=\"tableline\" height=\"4.5\" width=\"620.0\" x=\"-16.0\" y=\"267.75\"/><rect class=\"tableline\" height=\"4.5\" width=\"620.0\" x=\"-16.0\" y=\"272.75\"/><rect class=\"tableline\" height=\"4.5\" width=\"620.0\" x=\"-16.0\" y=\"277.75\"/><rect class=\"tableline\" height=\"4.5\" width=\"620.0\" x=\"-16.0\" y=\"282.75\"/><rect class=\"tableline\" height=\"4.5\" width=\"620.0\" x=\"-16.0\" y=\"287.75\"/><rect class=\"tableline\" height=\"4.5\" width=\"620.0\" x=\"-16.0\" y=\"292.75\"/><rect class=\"tableline\" height=\"4.5\" width=\"620.0\" x=\"-16.0\" y=\"297.75\"/><rect class=\"tableline\" height=\"4.5\" width=\"620.0\" x=\"-16.0\" y=\"302.75\"/><rect class=\"tableline\" height=\"4.5\" width=\"620.0\" x=\"-16.0\" y=\"307.75\"/><rect class=\"tableline\" height=\"4.5\" width=\"620.0\" x=\"-16.0\" y=\"312.75\"/><rect class=\"tableline\" height=\"4.5\" width=\"620.0\" x=\"-16.0\" y=\"317.75\"/><rect class=\"tableline\" height=\"4.5\" width=\"620.0\" x=\"-16.0\" y=\"322.75\"/><rect class=\"tableline\" height=\"4.5\" width=\"620.0\" x=\"-16.0\" y=\"327.75\"/><rect class=\"tableline\" height=\"4.5\" width=\"620.0\" x=\"-16.0\" y=\"332.75\"/><rect class=\"tableline\" height=\"4.5\" width=\"620.0\" x=\"-16.0\" y=\"337.75\"/><rect class=\"tableline\" height=\"4.5\" width=\"620.0\" x=\"-16.0\" y=\"342.75\"/><rect class=\"tableline\" height=\"4.5\" width=\"620.0\" x=\"-16.0\" y=\"347.75\"/><rect class=\"tableline\" height=\"4.5\" width=\"620.0\" x=\"-16.0\" y=\"352.75\"/><rect class=\"tableline\" height=\"4.5\" width=\"620.0\" x=\"-16.0\" y=\"357.75\"/><rect class=\"tableline\" height=\"4.5\" width=\"620.0\" x=\"-16.0\" y=\"362.75\"/><rect class=\"tableline\" height=\"4.5\" width=\"620.0\" x=\"-16.0\" y=\"367.75\"/><rect class=\"tableline\" height=\"4.5\" width=\"620.0\" x=\"-16.0\" y=\"372.75\"/><rect class=\"tableline\" height=\"4.5\" width=\"620.0\" x=\"-16.0\" y=\"377.75\"/><rect class=\"tableline\" height=\"4.5\" width=\"620.0\" x=\"-16.0\" y=\"382.75\"/><rect class=\"tableline\" height=\"4.5\" width=\"620.0\" x=\"-16.0\" y=\"387.75\"/><rect class=\"tableline\" height=\"4.5\" width=\"620.0\" x=\"-16.0\" y=\"392.75\"/><rect class=\"tableline\" height=\"4.5\" width=\"620.0\" x=\"-16.0\" y=\"397.75\"/><rect class=\"tableline\" height=\"4.5\" width=\"620.0\" x=\"-16.0\" y=\"402.75\"/><rect class=\"tableline\" height=\"4.5\" width=\"620.0\" x=\"-16.0\" y=\"407.75\"/><rect class=\"tableline\" height=\"4.5\" width=\"620.0\" x=\"-16.0\" y=\"412.75\"/><rect class=\"tableline\" height=\"4.5\" width=\"620.0\" x=\"-16.0\" y=\"417.75\"/><rect class=\"tableline\" height=\"4.5\" width=\"620.0\" x=\"-16.0\" y=\"422.75\"/><rect class=\"tableline\" height=\"4.5\" width=\"620.0\" x=\"-16.0\" y=\"427.75\"/></g></g></svg>"
      ],
      "text/plain": [
       "<IPython.core.display.SVG object>"
      ]
     },
     "execution_count": 31,
     "metadata": {},
     "output_type": "execute_result"
    }
   ],
   "source": [
    "SVG(history.svg())"
   ]
  },
  {
   "cell_type": "code",
   "execution_count": null,
   "metadata": {
    "collapsed": true
   },
   "outputs": [],
   "source": []
  }
 ],
 "metadata": {
  "anaconda-cloud": {},
  "kernelspec": {
   "display_name": "Python [default]",
   "language": "python",
   "name": "python2"
  },
  "language_info": {
   "codemirror_mode": {
    "name": "ipython",
    "version": 2
   },
   "file_extension": ".py",
   "mimetype": "text/x-python",
   "name": "python",
   "nbconvert_exporter": "python",
   "pygments_lexer": "ipython2",
   "version": "2.7.13"
  }
 },
 "nbformat": 4,
 "nbformat_minor": 0
}
