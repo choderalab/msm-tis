{
 "cells": [
  {
   "cell_type": "markdown",
   "metadata": {},
   "source": [
    "# OPENTIS\n",
    "## An Example with Alanine"
   ]
  },
  {
   "cell_type": "markdown",
   "metadata": {},
   "source": [
    "Import Modules"
   ]
  },
  {
   "cell_type": "code",
   "execution_count": 1,
   "metadata": {
    "collapsed": false
   },
   "outputs": [],
   "source": [
    "import numpy as np\n",
    "import mdtraj as md\n",
    "import pandas as pd\n",
    "import simtk.openmm as mm\n",
    "from simtk.openmm import app\n",
    "from simtk import unit\n",
    " \n",
    "from openpathsampling.visualize import PathTreeBuilder\n",
    "from IPython.display import SVG\n",
    "\n",
    "import openpathsampling as paths"
   ]
  },
  {
   "cell_type": "markdown",
   "metadata": {},
   "source": [
    "Radians to Degree conversion"
   ]
  },
  {
   "cell_type": "code",
   "execution_count": 2,
   "metadata": {
    "collapsed": true
   },
   "outputs": [],
   "source": [
    "deg = 3.14159265 / 180.0"
   ]
  },
  {
   "cell_type": "markdown",
   "metadata": {},
   "source": [
    "Create an AlanineOpenMMSimulator for demonstration purposes"
   ]
  },
  {
   "cell_type": "markdown",
   "metadata": {},
   "source": [
    "### Set simulation options and create a simulator object"
   ]
  },
  {
   "cell_type": "code",
   "execution_count": 3,
   "metadata": {
    "collapsed": true
   },
   "outputs": [],
   "source": [
    "template = paths.tools.snapshot_from_pdb(\"../data/Alanine_solvated.pdb\")"
   ]
  },
  {
   "cell_type": "code",
   "execution_count": 4,
   "metadata": {
    "collapsed": false
   },
   "outputs": [],
   "source": [
    "storage = paths.Storage(filename=\"trajectory.nc\", template=template, mode='w')"
   ]
  },
  {
   "cell_type": "markdown",
   "metadata": {},
   "source": [
    "Set up the OpenMM simulation"
   ]
  },
  {
   "cell_type": "code",
   "execution_count": 5,
   "metadata": {
    "collapsed": true
   },
   "outputs": [],
   "source": [
    "topology = paths.tools.to_openmm_topology(template)            \n",
    "\n",
    "# Generated using OpenMM Script Builder\n",
    "# http://builder.openmm.org\n",
    "\n",
    "forcefield = app.ForceField(\n",
    "    'amber96.xml',  # solute FF\n",
    "    'tip3p.xml'     # solvent FF\n",
    ")\n",
    "\n",
    "# OpenMM System\n",
    "system = forcefield.createSystem(\n",
    "    topology, \n",
    "    nonbondedMethod=app.PME, \n",
    "    nonbondedCutoff=1.0*unit.nanometers, \n",
    "    constraints=app.HBonds, \n",
    "    rigidWater=True, \n",
    "    ewaldErrorTolerance=0.0005\n",
    ")\n",
    "\n",
    "# OpenMM Integrator\n",
    "integrator = mm.LangevinIntegrator(\n",
    "    300*unit.kelvin, \n",
    "    1.0/unit.picoseconds, \n",
    "    2.0*unit.femtoseconds\n",
    ")\n",
    "integrator.setConstraintTolerance(0.00001)\n",
    "\n",
    "# Engine options\n",
    "options = {\n",
    "    'nsteps_per_frame': 10\n",
    "}\n",
    "\n",
    "engine = paths.OpenMMEngine(\n",
    "    template, \n",
    "    system,\n",
    "    integrator,\n",
    "    options\n",
    ")"
   ]
  },
  {
   "cell_type": "code",
   "execution_count": 6,
   "metadata": {
    "collapsed": false
   },
   "outputs": [
    {
     "data": {
      "text/plain": [
       "(store.engines[DynamicsEngine], 11, 0)"
      ]
     },
     "execution_count": 6,
     "metadata": {},
     "output_type": "execute_result"
    }
   ],
   "source": [
    "storage.save(engine)"
   ]
  },
  {
   "cell_type": "markdown",
   "metadata": {},
   "source": [
    "And save the storage in a separate variable for convenience"
   ]
  },
  {
   "cell_type": "code",
   "execution_count": 7,
   "metadata": {
    "collapsed": false
   },
   "outputs": [],
   "source": [
    "storage.set_caching_mode('lowmemory')"
   ]
  },
  {
   "cell_type": "code",
   "execution_count": 19,
   "metadata": {
    "collapsed": false
   },
   "outputs": [],
   "source": [
    "kinetic = paths.CollectiveVariable(\n",
    "    'kinetic', \n",
    "    cv_store_cache=True, \n",
    "    cv_time_reversible=True\n",
    ")"
   ]
  },
  {
   "cell_type": "code",
   "execution_count": 20,
   "metadata": {
    "collapsed": false
   },
   "outputs": [
    {
     "data": {
      "text/plain": [
       "'CollectiveVariable > ExpandSingle > ReversibleCacheChainDict'"
      ]
     },
     "execution_count": 20,
     "metadata": {},
     "output_type": "execute_result"
    }
   ],
   "source": [
    "kinetic.str_chain()"
   ]
  },
  {
   "cell_type": "code",
   "execution_count": 21,
   "metadata": {
    "collapsed": false
   },
   "outputs": [],
   "source": [
    "kinetic.register_as_attribute()"
   ]
  },
  {
   "cell_type": "code",
   "execution_count": 22,
   "metadata": {
    "collapsed": false
   },
   "outputs": [
    {
     "name": "stdout",
     "output_type": "stream",
     "text": [
      "<openpathsampling.chaindict.ReversibleCacheChainDict object at 0x113602150> <openpathsampling.snapshot.Snapshot object at 0x1127b7f10> 10.0\n"
     ]
    }
   ],
   "source": [
    "kinetic[template] = np.array(10.0)"
   ]
  },
  {
   "cell_type": "code",
   "execution_count": 12,
   "metadata": {
    "collapsed": false
   },
   "outputs": [
    {
     "data": {
      "text/plain": [
       "(store.cvs[CollectiveVariable], 6, 0)"
      ]
     },
     "execution_count": 12,
     "metadata": {},
     "output_type": "execute_result"
    }
   ],
   "source": [
    "storage.save(kinetic)"
   ]
  },
  {
   "cell_type": "code",
   "execution_count": 13,
   "metadata": {
    "collapsed": false
   },
   "outputs": [
    {
     "data": {
      "text/plain": [
       "u'{\"_cls\": \"CollectiveVariable\", \"_dict\": {\"cv_store_cache\": true, \"cv_time_reversible\": true, \"name\": \"kinetic\"}}'"
      ]
     },
     "execution_count": 13,
     "metadata": {},
     "output_type": "execute_result"
    }
   ],
   "source": [
    "storage.cvs.variables['json'][0]"
   ]
  },
  {
   "cell_type": "code",
   "execution_count": 14,
   "metadata": {
    "collapsed": false
   },
   "outputs": [
    {
     "data": {
      "text/plain": [
       "'CollectiveVariable > ExpandSingle > ReversibleStoredDict > ReversibleCacheChainDict'"
      ]
     },
     "execution_count": 14,
     "metadata": {},
     "output_type": "execute_result"
    }
   ],
   "source": [
    "kinetic.str_chain()"
   ]
  },
  {
   "cell_type": "code",
   "execution_count": 15,
   "metadata": {
    "collapsed": true
   },
   "outputs": [],
   "source": [
    "storage.cvs.sync()"
   ]
  },
  {
   "cell_type": "code",
   "execution_count": 16,
   "metadata": {
    "collapsed": false
   },
   "outputs": [
    {
     "data": {
      "text/plain": [
       "[10.0, 10.0]"
      ]
     },
     "execution_count": 16,
     "metadata": {},
     "output_type": "execute_result"
    }
   ],
   "source": [
    "storage.cvs.cache_var(kinetic)[:]"
   ]
  },
  {
   "cell_type": "markdown",
   "metadata": {},
   "source": [
    "### Order Parameters"
   ]
  },
  {
   "cell_type": "markdown",
   "metadata": {},
   "source": [
    "this generates an order parameter (callable) object named psi (so if we call `psi(trajectory)` we get a list of the values of psi for each frame in the trajectory). This particular order parameter uses mdtraj's compute_dihedrals function, with the atoms in psi_atoms"
   ]
  },
  {
   "cell_type": "code",
   "execution_count": 17,
   "metadata": {
    "collapsed": false
   },
   "outputs": [],
   "source": [
    "psi_atoms = [6,8,14,16]\n",
    "psi = paths.CV_MDTraj_Function(\"psi\", md.compute_dihedrals, indices=[psi_atoms])\n",
    "\n",
    "phi_atoms = [4,6,8,14]\n",
    "phi = paths.CV_MDTraj_Function(\"phi\", md.compute_dihedrals, indices=[phi_atoms])"
   ]
  },
  {
   "cell_type": "code",
   "execution_count": 18,
   "metadata": {
    "collapsed": false
   },
   "outputs": [],
   "source": [
    "def pp2_fnc(item, psi, phi):\n",
    "    return psi(item)**2 + phi(item)**2\n",
    "\n",
    "pp2 = paths.CV_Function('pp2', pp2_fnc, psi=psi, phi=phi)"
   ]
  },
  {
   "cell_type": "code",
   "execution_count": 19,
   "metadata": {
    "collapsed": false
   },
   "outputs": [
    {
     "data": {
      "text/plain": [
       "(store.cvs[CollectiveVariable], 6, 1)"
      ]
     },
     "execution_count": 19,
     "metadata": {},
     "output_type": "execute_result"
    }
   ],
   "source": [
    "storage.save(pp2)"
   ]
  },
  {
   "cell_type": "code",
   "execution_count": 20,
   "metadata": {
    "collapsed": false
   },
   "outputs": [
    {
     "data": {
      "text/plain": [
       "u'{\"_cls\": \"CV_Function\", \"_dict\": {\"name\": \"pp2\", \"f\": {\"_marshal\": \"YwMAAAADAAAAAwAAAEMAAABzHAAAAHwBAHwAAIMBAGQBABN8AgB8AACDAQBkAQATF1MoAgAAAE5pAgAAACgAAAAAKAMAAAB0BAAAAGl0ZW10AwAAAHBzaXQDAAAAcGhpKAAAAAAoAAAAAHMfAAAAPGlweXRob24taW5wdXQtMTgtYWNlMDdiZTliMGM1PnQHAAAAcHAyX2ZuYwEAAABzAgAAAAAB\", \"_module_vars\": [], \"_global_vars\": []}, \"cv_store_cache\": true, \"cv_time_reversible\": false, \"cv_wrap_numpy_array\": false, \"cv_requires_lists\": false, \"cv_scalarize_numpy_singletons\": false, \"**kwargs\": {\"phi\": {\"_obj\": \"cvs\", \"_idx\": 2}, \"psi\": {\"_obj\": \"cvs\", \"_idx\": 3}}}}'"
      ]
     },
     "execution_count": 20,
     "metadata": {},
     "output_type": "execute_result"
    }
   ],
   "source": [
    "storage.variables['cvs_json'][1]"
   ]
  },
  {
   "cell_type": "code",
   "execution_count": 21,
   "metadata": {
    "collapsed": false
   },
   "outputs": [
    {
     "data": {
      "text/plain": [
       "1.9918975"
      ]
     },
     "execution_count": 21,
     "metadata": {},
     "output_type": "execute_result"
    }
   ],
   "source": [
    "pp2(template)"
   ]
  },
  {
   "cell_type": "code",
   "execution_count": 22,
   "metadata": {
    "collapsed": false
   },
   "outputs": [
    {
     "data": {
      "text/plain": [
       "{'_cache_dict': <openpathsampling.chaindict.ReversibleCacheChainDict at 0x113b25ad0>,\n",
       " '_callable_dict': <openpathsampling.chaindict.Function at 0x112f19250>,\n",
       " '_name': 'pp2',\n",
       " '_name_fixed': True,\n",
       " '_post': <openpathsampling.chaindict.ExpandSingle at 0x112c8add0>,\n",
       " '_single_dict': <openpathsampling.chaindict.ExpandSingle at 0x112c8add0>,\n",
       " '_store_dict': <openpathsampling.chaindict.ReversibleStoredDict at 0x112805510>,\n",
       " 'cv_callable': <function __main__.pp2_fnc>,\n",
       " 'cv_requires_lists': False,\n",
       " 'cv_scalarize_numpy_singletons': False,\n",
       " 'cv_store_cache': True,\n",
       " 'cv_time_reversible': False,\n",
       " 'cv_wrap_numpy_array': False,\n",
       " 'kwargs': {'phi': <openpathsampling.collectivevariable.CV_MDTraj_Function at 0x113b25d90>,\n",
       "  'psi': <openpathsampling.collectivevariable.CV_MDTraj_Function at 0x113b25c10>}}"
      ]
     },
     "execution_count": 22,
     "metadata": {},
     "output_type": "execute_result"
    }
   ],
   "source": [
    "pp2.__dict__"
   ]
  },
  {
   "cell_type": "code",
   "execution_count": 23,
   "metadata": {
    "collapsed": false
   },
   "outputs": [
    {
     "data": {
      "text/plain": [
       "{'**kwargs': {'phi': <openpathsampling.collectivevariable.CV_MDTraj_Function at 0x113b25d90>,\n",
       "  'psi': <openpathsampling.collectivevariable.CV_MDTraj_Function at 0x113b25c10>},\n",
       " 'cv_requires_lists': False,\n",
       " 'cv_scalarize_numpy_singletons': False,\n",
       " 'cv_store_cache': True,\n",
       " 'cv_time_reversible': False,\n",
       " 'cv_wrap_numpy_array': False,\n",
       " 'f': {'_global_vars': [],\n",
       "  '_marshal': 'YwMAAAADAAAAAwAAAEMAAABzHAAAAHwBAHwAAIMBAGQBABN8AgB8AACDAQBkAQATF1MoAgAAAE5pAgAAACgAAAAAKAMAAAB0BAAAAGl0ZW10AwAAAHBzaXQDAAAAcGhpKAAAAAAoAAAAAHMfAAAAPGlweXRob24taW5wdXQtMTgtYWNlMDdiZTliMGM1PnQHAAAAcHAyX2ZuYwEAAABzAgAAAAAB',\n",
       "  '_module_vars': []},\n",
       " 'name': 'pp2'}"
      ]
     },
     "execution_count": 23,
     "metadata": {},
     "output_type": "execute_result"
    }
   ],
   "source": [
    "pp2.to_dict()"
   ]
  },
  {
   "cell_type": "code",
   "execution_count": 24,
   "metadata": {
    "collapsed": false
   },
   "outputs": [
    {
     "name": "stdout",
     "output_type": "stream",
     "text": [
      "pp2\n",
      "{'cv_callable': <function pp2_fnc at 0x113b30398>, 'cv_store_cache': True, 'cv_time_reversible': False, '_name': 'pp2', '_post': <openpathsampling.chaindict.ExpandSingle object at 0x112f19950>, 'cv_requires_lists': False, 'cv_scalarize_numpy_singletons': False, '_cache_dict': <openpathsampling.chaindict.ReversibleCacheChainDict object at 0x112f19090>, '_single_dict': <openpathsampling.chaindict.ExpandSingle object at 0x112f19950>, 'kwargs': {'phi': <openpathsampling.collectivevariable.CV_MDTraj_Function object at 0x113b25d90>, 'psi': <openpathsampling.collectivevariable.CV_MDTraj_Function object at 0x113b25c10>}, '_callable_dict': <openpathsampling.chaindict.Function object at 0x112f19850>, 'cv_wrap_numpy_array': False, '_name_fixed': False}\n"
     ]
    }
   ],
   "source": [
    "cv3 = storage.cvs.vars['json'][1]\n",
    "print cv3.name\n",
    "print cv3.__dict__"
   ]
  },
  {
   "cell_type": "code",
   "execution_count": 25,
   "metadata": {
    "collapsed": false
   },
   "outputs": [
    {
     "data": {
      "text/plain": [
       "'CV_Function > ExpandSingle > ReversibleStoredDict > ReversibleCacheChainDict > Function'"
      ]
     },
     "execution_count": 25,
     "metadata": {},
     "output_type": "execute_result"
    }
   ],
   "source": [
    "pp2.str_chain()"
   ]
  },
  {
   "cell_type": "code",
   "execution_count": 26,
   "metadata": {
    "collapsed": false
   },
   "outputs": [
    {
     "data": {
      "text/plain": [
       "'CV_Function > ExpandSingle > ReversibleCacheChainDict > Function'"
      ]
     },
     "execution_count": 26,
     "metadata": {},
     "output_type": "execute_result"
    }
   ],
   "source": [
    "cv3.str_chain()"
   ]
  },
  {
   "cell_type": "code",
   "execution_count": 27,
   "metadata": {
    "collapsed": true
   },
   "outputs": [],
   "source": [
    "storage.cvs.cache.clear()"
   ]
  },
  {
   "cell_type": "code",
   "execution_count": 28,
   "metadata": {
    "collapsed": true
   },
   "outputs": [],
   "source": [
    "cv4 = storage.cvs[1]"
   ]
  },
  {
   "cell_type": "code",
   "execution_count": 29,
   "metadata": {
    "collapsed": false
   },
   "outputs": [
    {
     "data": {
      "text/plain": [
       "{'_cache_dict': <openpathsampling.chaindict.ReversibleCacheChainDict at 0x113c873d0>,\n",
       " '_callable_dict': <openpathsampling.chaindict.Function at 0x113c87410>,\n",
       " '_name': u'pp2',\n",
       " '_name_fixed': True,\n",
       " '_post': <openpathsampling.chaindict.ExpandSingle at 0x113c87250>,\n",
       " '_single_dict': <openpathsampling.chaindict.ExpandSingle at 0x113c87250>,\n",
       " '_store_dict': <openpathsampling.chaindict.ReversibleStoredDict at 0x113c871d0>,\n",
       " 'cv_callable': <function openpathsampling.netcdfplus.dictify.pp2_fnc>,\n",
       " 'cv_requires_lists': False,\n",
       " 'cv_scalarize_numpy_singletons': False,\n",
       " 'cv_store_cache': True,\n",
       " 'cv_time_reversible': False,\n",
       " 'cv_wrap_numpy_array': False,\n",
       " 'kwargs': {'phi': <openpathsampling.collectivevariable.CV_MDTraj_Function at 0x112c8ad90>,\n",
       "  'psi': <openpathsampling.collectivevariable.CV_MDTraj_Function at 0x112f19210>}}"
      ]
     },
     "execution_count": 29,
     "metadata": {},
     "output_type": "execute_result"
    }
   ],
   "source": [
    "cv4.__dict__"
   ]
  },
  {
   "cell_type": "code",
   "execution_count": 30,
   "metadata": {
    "collapsed": false
   },
   "outputs": [
    {
     "data": {
      "text/plain": [
       "'CV_Function > ExpandSingle > ReversibleStoredDict > ReversibleCacheChainDict > Function'"
      ]
     },
     "execution_count": 30,
     "metadata": {},
     "output_type": "execute_result"
    }
   ],
   "source": [
    "cv4.str_chain()"
   ]
  },
  {
   "cell_type": "code",
   "execution_count": 31,
   "metadata": {
    "collapsed": false
   },
   "outputs": [
    {
     "data": {
      "text/plain": [
       "1.9918975"
      ]
     },
     "execution_count": 31,
     "metadata": {},
     "output_type": "execute_result"
    }
   ],
   "source": [
    "cv4(template)"
   ]
  },
  {
   "cell_type": "code",
   "execution_count": 32,
   "metadata": {
    "collapsed": false
   },
   "outputs": [
    {
     "data": {
      "text/plain": [
       "'CV_MDTraj_Function > MergeNumpy > ExpandSingle > ReversibleStoredDict > ReversibleCacheChainDict > Function'"
      ]
     },
     "execution_count": 32,
     "metadata": {},
     "output_type": "execute_result"
    }
   ],
   "source": [
    "psi.str_chain()"
   ]
  },
  {
   "cell_type": "code",
   "execution_count": 33,
   "metadata": {
    "collapsed": false
   },
   "outputs": [],
   "source": [
    "storage.save([psi, phi]);"
    "def pp2_fnc(item, psi, phi):\n",
    "    return psi(item)**2 + phi(item)**2\n",
    "\n",
    "pp2 = paths.CV_Function('psi2', pp2_fnc, psi=psi, phi=phi)"
   ]
  },
  {
   "cell_type": "code",
   "execution_count": 10,
   "metadata": {
    "collapsed": false
   },
   "outputs": [],
   "source": [
    "storage.save(pp2)"
   ]
  },
  {
   "cell_type": "code",
   "execution_count": 34,
   "metadata": {
    "collapsed": false
   },
   "outputs": [
    {
     "data": {
      "text/plain": [
       "array(-0.1793680489063263, dtype=float32)"
      ]
     },
     "execution_count": 34,
     "metadata": {},
     "output_type": "execute_result"
    }
   ],
   "source": [
    "psi(template)"
   ]
  },
  {
   "cell_type": "markdown",
   "metadata": {},
   "source": [
    "### Volumes"
   ]
  },
  {
   "cell_type": "markdown",
   "metadata": {},
   "source": [
    "This creates two states using a one-dimensional order parameter (called _Lambda_ in TIS terminology). A snapshot is in the State as long as the order parameter is with specific bounds. \n",
    "\n",
    "StateA is $\\psi \\in [-120, -30]$ and StateB is $\\psi \\in [100, 180]$"
   ]
  },
  {
   "cell_type": "code",
   "execution_count": 11,
   "metadata": {
    "collapsed": true
   },
   "outputs": [],
   "source": [
    "stateA = paths.CVRangeVolumePeriodic(\n",
    "    collectivevariable=psi, \n",
    "    lambda_min=-120.0*deg, \n",
    "    lambda_max=-30.0*deg, \n",
    "    period_min=-180.0*deg, \n",
    "    period_max=+180.0*deg\n",
    ")\n",
    "stateB = paths.CVRangeVolumePeriodic(\n",
    "    collectivevariable=psi, \n",
    "    lambda_min=100.0*deg, \n",
    "    lambda_max=180.0*deg, \n",
    "    period_min=-180.0*deg, \n",
    "    period_max=+180.0*deg\n",
    ")"
   ]
  },
  {
   "cell_type": "markdown",
   "metadata": {},
   "source": [
    "Now do the same for a set of lambda ranges to produce nested volumes."
   ]
  },
  {
   "cell_type": "code",
   "execution_count": 12,
   "metadata": {
    "collapsed": false
   },
   "outputs": [],
   "source": [
    "minima = map(deg.__mul__, [-125, -135, -140, -142.5, -145.0, -147.0, -150.0])\n",
    "maxima = map(deg.__mul__, [-25.0, -21.0, -18.5, -17.0, -15.0, -10.0, 0.0])\n",
    "\n",
    "volume_set = paths.VolumeFactory.CVRangeVolumePeriodicSet(psi, minima, maxima, -180.0*deg, +180.0*deg)"
   ]
  },
  {
   "cell_type": "markdown",
   "metadata": {},
   "source": [
    "Tag the two states for simpler access later"
   ]
  },
  {
   "cell_type": "code",
   "execution_count": 13,
   "metadata": {
    "collapsed": false
   },
   "outputs": [],
   "source": [
    "storage.tag['stateA'] = stateA\n",
    "storage.tag['stateB'] = stateB\n",
    "storage.tag['states'] = [stateA, stateB]"
   ]
  },
  {
   "cell_type": "markdown",
   "metadata": {},
   "source": [
    "### Ensembles"
   ]
  },
  {
   "cell_type": "markdown",
   "metadata": {},
   "source": [
    "Now do this automatically for all ensembles"
   ]
  },
  {
   "cell_type": "code",
   "execution_count": 14,
   "metadata": {
    "collapsed": true
   },
   "outputs": [],
   "source": [
    "interface0 = volume_set[0]\n",
    "interface_set = paths.EnsembleFactory.TISEnsembleSet(stateA, stateA | stateB, volume_set, psi)"
   ]
  },
  {
   "cell_type": "markdown",
   "metadata": {},
   "source": [
    "Give each interface a name"
   ]
  },
  {
   "cell_type": "code",
   "execution_count": 15,
   "metadata": {
    "collapsed": true
   },
   "outputs": [],
   "source": [
    "for no, interface in enumerate(interface_set):\n",
    "    interface.name = 'Interface ' + str(no)"
   ]
  },
  {
   "cell_type": "markdown",
   "metadata": {},
   "source": [
    "and save all of these"
   ]
  },
  {
   "cell_type": "code",
   "execution_count": 16,
   "metadata": {
    "collapsed": false
   },
   "outputs": [],
   "source": [
    "map(storage.ensembles.save, interface_set);"
   ]
  },
  {
   "cell_type": "markdown",
   "metadata": {},
   "source": [
    "And create a special ensemble, that will create a first trajectory in the innermost TIS ensemble independent from where we start"
   ]
  },
  {
   "cell_type": "markdown",
   "metadata": {},
   "source": [
    "The idea is to describe a trajectory type by a sequence of positions. First can be outside of stateA or not, then be inside stateA, etc..."
   ]
  },
  {
   "cell_type": "code",
   "execution_count": 17,
   "metadata": {
    "collapsed": true
   },
   "outputs": [],
   "source": [
    "inA = paths.AllInXEnsemble(stateA)\n",
    "outA = paths.AllOutXEnsemble(stateA)\n",
    "\n",
    "inI0 = paths.AllInXEnsemble(interface0)\n",
    "outI0 = paths.AllOutXEnsemble(interface0)\n",
    "\n",
    "first_traj_ensemble = paths.SequentialEnsemble([\n",
    "    paths.OptionalEnsemble(outA),\n",
    "    inA,\n",
    "    paths.OptionalEnsemble(outA & inI0),\n",
    "    paths.OptionalEnsemble(inI0),\n",
    "    outI0,\n",
    "    paths.OptionalEnsemble(outA),\n",
    "    paths.SingleFrameEnsemble(inA)\n",
    "])"
   ]
  },
  {
   "cell_type": "markdown",
   "metadata": {},
   "source": [
    "### start path generation"
   ]
  },
  {
   "cell_type": "markdown",
   "metadata": {},
   "source": [
    "so lets try and see if we can generate a first path"
   ]
  },
  {
   "cell_type": "markdown",
   "metadata": {},
   "source": [
    "load the initial snapshot (although we still have it) and generate using the Alanine simulator. The second option specifies a function : trajectory -> bool that keeps the simulation running as long as it is true. Our goal was to generate a path that belongs to a specific ensemble, so we use `forward` to determine if it makes sense to keep running or if the result cannot belong to the ensemble anymore."
   ]
  },
  {
   "cell_type": "code",
   "execution_count": 18,
   "metadata": {
    "collapsed": true
   },
   "outputs": [],
   "source": [
    "snapshot = storage.template\n",
    "total_path = engine.generate(\n",
    "    snapshot= snapshot, \n",
    "    running = [first_traj_ensemble.can_append]\n",
    ")"
   ]
  },
  {
   "cell_type": "markdown",
   "metadata": {},
   "source": [
    "Show the length"
   ]
  },
  {
   "cell_type": "code",
   "execution_count": 19,
   "metadata": {
    "collapsed": false
   },
   "outputs": [
    {
     "name": "stdout",
     "output_type": "stream",
     "text": [
      "Total trajectory length:  98\n"
     ]
    }
   ],
   "source": [
    "print \"Total trajectory length: \", len(total_path)"
   ]
  },
  {
   "cell_type": "markdown",
   "metadata": {},
   "source": [
    "And save the trajetory completely"
   ]
  },
  {
   "cell_type": "code",
   "execution_count": 20,
   "metadata": {
    "collapsed": true
   },
   "outputs": [],
   "source": [
    "storage.save(total_path);"
   ]
  },
  {
   "cell_type": "code",
   "execution_count": 21,
   "metadata": {
    "collapsed": true
   },
   "outputs": [],
   "source": [
    "storage.tag['first_path'] = total_path"
   ]
  },
  {
   "cell_type": "markdown",
   "metadata": {},
   "source": [
    "Split the trajectory into parts that belong to the TIS ensemble (not the one we generated)"
   ]
  },
  {
   "cell_type": "code",
   "execution_count": 22,
   "metadata": {
    "collapsed": false
   },
   "outputs": [
    {
     "name": "stdout",
     "output_type": "stream",
     "text": [
      "Traj in first_traj_ensemble? (should be) True\n",
      "Traj in TIS ensemble? (probably not) False\n",
      "Number of segments in TIS ensemble:  1\n",
      "Length of each segment:\n",
      "  seg[0]: 46\n"
     ]
    }
   ],
   "source": [
    "interface0_ensemble = interface_set[0]\n",
    "segments = interface0_ensemble.split(total_path)\n",
    "\n",
    "print \"Traj in first_traj_ensemble? (should be)\", \n",
    "print first_traj_ensemble(total_path)\n",
    "\n",
    "print \"Traj in TIS ensemble? (probably not)\", \n",
    "print interface0_ensemble(total_path)\n",
    "\n",
    "\n",
    "print \"Number of segments in TIS ensemble: \", len(segments)\n",
    "if len(segments):\n",
    "    print \"Length of each segment:\"\n",
    "    for i in range(len(segments)):\n",
    "        print \"  seg[{0}]: {1}\".format(i, len(segments[i]))"
   ]
  },
  {
   "cell_type": "markdown",
   "metadata": {},
   "source": [
    "Show some results and check if this worked"
   ]
  },
  {
   "cell_type": "code",
   "execution_count": 23,
   "metadata": {
    "collapsed": false
   },
   "outputs": [
    {
     "data": {
      "text/html": [
       "<div>\n",
       "<table border=\"1\" class=\"dataframe\">\n",
       "  <thead>\n",
       "    <tr style=\"text-align: right;\">\n",
       "      <th></th>\n",
       "      <th>phi</th>\n",
       "      <th>psi</th>\n",
       "      <th>stateA</th>\n",
       "      <th>interface0</th>\n",
       "      <th>stateB</th>\n",
       "      <th>appendable</th>\n",
       "    </tr>\n",
       "  </thead>\n",
       "  <tbody>\n",
       "    <tr>\n",
       "      <th>0</th>\n",
       "      <td>-80.208455</td>\n",
       "      <td>-10.277032</td>\n",
       "      <td>False</td>\n",
       "      <td>False</td>\n",
       "      <td>False</td>\n",
       "      <td>True</td>\n",
       "    </tr>\n",
       "    <tr>\n",
       "      <th>1</th>\n",
       "      <td>-82.623719</td>\n",
       "      <td>-10.857008</td>\n",
       "      <td>False</td>\n",
       "      <td>False</td>\n",
       "      <td>False</td>\n",
       "      <td>True</td>\n",
       "    </tr>\n",
       "    <tr>\n",
       "      <th>2</th>\n",
       "      <td>-79.881542</td>\n",
       "      <td>-12.703471</td>\n",
       "      <td>False</td>\n",
       "      <td>False</td>\n",
       "      <td>False</td>\n",
       "      <td>True</td>\n",
       "    </tr>\n",
       "    <tr>\n",
       "      <th>95</th>\n",
       "      <td>-117.476467</td>\n",
       "      <td>-16.512546</td>\n",
       "      <td>False</td>\n",
       "      <td>False</td>\n",
       "      <td>False</td>\n",
       "      <td>True</td>\n",
       "    </tr>\n",
       "    <tr>\n",
       "      <th>96</th>\n",
       "      <td>-118.655822</td>\n",
       "      <td>-22.221059</td>\n",
       "      <td>False</td>\n",
       "      <td>False</td>\n",
       "      <td>False</td>\n",
       "      <td>True</td>\n",
       "    </tr>\n",
       "    <tr>\n",
       "      <th>97</th>\n",
       "      <td>-113.455972</td>\n",
       "      <td>-33.076643</td>\n",
       "      <td>True</td>\n",
       "      <td>True</td>\n",
       "      <td>False</td>\n",
       "      <td>False</td>\n",
       "    </tr>\n",
       "  </tbody>\n",
       "</table>\n",
       "</div>"
      ],
      "text/plain": [
       "           phi        psi stateA interface0 stateB appendable\n",
       "0   -80.208455 -10.277032  False      False  False       True\n",
       "1   -82.623719 -10.857008  False      False  False       True\n",
       "2   -79.881542 -12.703471  False      False  False       True\n",
       "95 -117.476467 -16.512546  False      False  False       True\n",
       "96 -118.655822 -22.221059  False      False  False       True\n",
       "97 -113.455972 -33.076643   True       True  False      False"
      ]
     },
     "execution_count": 23,
     "metadata": {},
     "output_type": "execute_result"
    }
   ],
   "source": [
    "data = []\n",
    "for frame in total_path:\n",
    "    data.append((phi(frame) / deg, psi(frame)/deg, stateA(frame), interface0(frame), stateB(frame), first_traj_ensemble.can_append(total_path[slice(0,total_path.index(frame)+1)])))\n",
    "    \n",
    "dataframe = pd.DataFrame(data, columns=['phi', 'psi', 'stateA', 'interface0', 'stateB', 'appendable'])\n",
    "dataframe[[0,1,2,3,4,5]].ix[[0,1,2,len(dataframe)-3,len(dataframe)-2,len(dataframe)-1]]"
   ]
  },
  {
   "cell_type": "code",
   "execution_count": 24,
   "metadata": {
    "collapsed": false
   },
   "outputs": [
    {
     "name": "stdout",
     "output_type": "stream",
     "text": [
      "Do our segments satisfy the ensemble? True\n"
     ]
    }
   ],
   "source": [
    "print \"Do our segments satisfy the ensemble?\",\n",
    "for seg in segments:\n",
    "    print interface0_ensemble(seg),"
   ]
  },
  {
   "cell_type": "code",
   "execution_count": 25,
   "metadata": {
    "collapsed": false
   },
   "outputs": [
    {
     "data": {
      "text/html": [
       "<div>\n",
       "<table border=\"1\" class=\"dataframe\">\n",
       "  <thead>\n",
       "    <tr style=\"text-align: right;\">\n",
       "      <th></th>\n",
       "      <th>phi</th>\n",
       "      <th>psi</th>\n",
       "      <th>stateA</th>\n",
       "      <th>interface0</th>\n",
       "      <th>stateB</th>\n",
       "      <th>appendable</th>\n",
       "    </tr>\n",
       "  </thead>\n",
       "  <tbody>\n",
       "    <tr>\n",
       "      <th>0</th>\n",
       "      <td>-125.523086</td>\n",
       "      <td>-31.823692</td>\n",
       "      <td>True</td>\n",
       "      <td>True</td>\n",
       "      <td>False</td>\n",
       "      <td>True</td>\n",
       "    </tr>\n",
       "    <tr>\n",
       "      <th>1</th>\n",
       "      <td>-118.461408</td>\n",
       "      <td>-25.041085</td>\n",
       "      <td>False</td>\n",
       "      <td>True</td>\n",
       "      <td>False</td>\n",
       "      <td>True</td>\n",
       "    </tr>\n",
       "    <tr>\n",
       "      <th>2</th>\n",
       "      <td>-116.843568</td>\n",
       "      <td>-21.769324</td>\n",
       "      <td>False</td>\n",
       "      <td>False</td>\n",
       "      <td>False</td>\n",
       "      <td>True</td>\n",
       "    </tr>\n",
       "    <tr>\n",
       "      <th>3</th>\n",
       "      <td>-116.226406</td>\n",
       "      <td>-10.305777</td>\n",
       "      <td>False</td>\n",
       "      <td>False</td>\n",
       "      <td>False</td>\n",
       "      <td>True</td>\n",
       "    </tr>\n",
       "    <tr>\n",
       "      <th>4</th>\n",
       "      <td>-116.530062</td>\n",
       "      <td>-6.797168</td>\n",
       "      <td>False</td>\n",
       "      <td>False</td>\n",
       "      <td>False</td>\n",
       "      <td>True</td>\n",
       "    </tr>\n",
       "    <tr>\n",
       "      <th>5</th>\n",
       "      <td>-122.466617</td>\n",
       "      <td>2.955150</td>\n",
       "      <td>False</td>\n",
       "      <td>False</td>\n",
       "      <td>False</td>\n",
       "      <td>True</td>\n",
       "    </tr>\n",
       "    <tr>\n",
       "      <th>6</th>\n",
       "      <td>-119.229749</td>\n",
       "      <td>1.323381</td>\n",
       "      <td>False</td>\n",
       "      <td>False</td>\n",
       "      <td>False</td>\n",
       "      <td>True</td>\n",
       "    </tr>\n",
       "    <tr>\n",
       "      <th>7</th>\n",
       "      <td>-118.862517</td>\n",
       "      <td>9.086974</td>\n",
       "      <td>False</td>\n",
       "      <td>False</td>\n",
       "      <td>False</td>\n",
       "      <td>True</td>\n",
       "    </tr>\n",
       "    <tr>\n",
       "      <th>8</th>\n",
       "      <td>-125.325283</td>\n",
       "      <td>7.327733</td>\n",
       "      <td>False</td>\n",
       "      <td>False</td>\n",
       "      <td>False</td>\n",
       "      <td>True</td>\n",
       "    </tr>\n",
       "    <tr>\n",
       "      <th>9</th>\n",
       "      <td>-120.952501</td>\n",
       "      <td>12.186354</td>\n",
       "      <td>False</td>\n",
       "      <td>False</td>\n",
       "      <td>False</td>\n",
       "      <td>True</td>\n",
       "    </tr>\n",
       "    <tr>\n",
       "      <th>10</th>\n",
       "      <td>-123.164580</td>\n",
       "      <td>26.319748</td>\n",
       "      <td>False</td>\n",
       "      <td>False</td>\n",
       "      <td>False</td>\n",
       "      <td>True</td>\n",
       "    </tr>\n",
       "    <tr>\n",
       "      <th>11</th>\n",
       "      <td>-125.754315</td>\n",
       "      <td>28.663674</td>\n",
       "      <td>False</td>\n",
       "      <td>False</td>\n",
       "      <td>False</td>\n",
       "      <td>True</td>\n",
       "    </tr>\n",
       "    <tr>\n",
       "      <th>12</th>\n",
       "      <td>-132.565612</td>\n",
       "      <td>38.278224</td>\n",
       "      <td>False</td>\n",
       "      <td>False</td>\n",
       "      <td>False</td>\n",
       "      <td>True</td>\n",
       "    </tr>\n",
       "    <tr>\n",
       "      <th>13</th>\n",
       "      <td>-141.516643</td>\n",
       "      <td>40.963001</td>\n",
       "      <td>False</td>\n",
       "      <td>False</td>\n",
       "      <td>False</td>\n",
       "      <td>True</td>\n",
       "    </tr>\n",
       "    <tr>\n",
       "      <th>14</th>\n",
       "      <td>-151.910798</td>\n",
       "      <td>45.170008</td>\n",
       "      <td>False</td>\n",
       "      <td>False</td>\n",
       "      <td>False</td>\n",
       "      <td>True</td>\n",
       "    </tr>\n",
       "    <tr>\n",
       "      <th>15</th>\n",
       "      <td>-142.727963</td>\n",
       "      <td>39.964431</td>\n",
       "      <td>False</td>\n",
       "      <td>False</td>\n",
       "      <td>False</td>\n",
       "      <td>True</td>\n",
       "    </tr>\n",
       "    <tr>\n",
       "      <th>16</th>\n",
       "      <td>-149.442094</td>\n",
       "      <td>44.595371</td>\n",
       "      <td>False</td>\n",
       "      <td>False</td>\n",
       "      <td>False</td>\n",
       "      <td>True</td>\n",
       "    </tr>\n",
       "    <tr>\n",
       "      <th>17</th>\n",
       "      <td>-150.789827</td>\n",
       "      <td>39.260969</td>\n",
       "      <td>False</td>\n",
       "      <td>False</td>\n",
       "      <td>False</td>\n",
       "      <td>True</td>\n",
       "    </tr>\n",
       "    <tr>\n",
       "      <th>18</th>\n",
       "      <td>-146.536887</td>\n",
       "      <td>45.873026</td>\n",
       "      <td>False</td>\n",
       "      <td>False</td>\n",
       "      <td>False</td>\n",
       "      <td>True</td>\n",
       "    </tr>\n",
       "    <tr>\n",
       "      <th>19</th>\n",
       "      <td>-145.565456</td>\n",
       "      <td>33.548110</td>\n",
       "      <td>False</td>\n",
       "      <td>False</td>\n",
       "      <td>False</td>\n",
       "      <td>True</td>\n",
       "    </tr>\n",
       "    <tr>\n",
       "      <th>20</th>\n",
       "      <td>-135.240642</td>\n",
       "      <td>38.786588</td>\n",
       "      <td>False</td>\n",
       "      <td>False</td>\n",
       "      <td>False</td>\n",
       "      <td>True</td>\n",
       "    </tr>\n",
       "    <tr>\n",
       "      <th>21</th>\n",
       "      <td>-136.068707</td>\n",
       "      <td>29.118459</td>\n",
       "      <td>False</td>\n",
       "      <td>False</td>\n",
       "      <td>False</td>\n",
       "      <td>True</td>\n",
       "    </tr>\n",
       "    <tr>\n",
       "      <th>22</th>\n",
       "      <td>-134.062967</td>\n",
       "      <td>21.770729</td>\n",
       "      <td>False</td>\n",
       "      <td>False</td>\n",
       "      <td>False</td>\n",
       "      <td>True</td>\n",
       "    </tr>\n",
       "    <tr>\n",
       "      <th>23</th>\n",
       "      <td>-131.969623</td>\n",
       "      <td>26.174091</td>\n",
       "      <td>False</td>\n",
       "      <td>False</td>\n",
       "      <td>False</td>\n",
       "      <td>True</td>\n",
       "    </tr>\n",
       "    <tr>\n",
       "      <th>24</th>\n",
       "      <td>-128.071293</td>\n",
       "      <td>9.350006</td>\n",
       "      <td>False</td>\n",
       "      <td>False</td>\n",
       "      <td>False</td>\n",
       "      <td>True</td>\n",
       "    </tr>\n",
       "    <tr>\n",
       "      <th>25</th>\n",
       "      <td>-134.047790</td>\n",
       "      <td>18.887710</td>\n",
       "      <td>False</td>\n",
       "      <td>False</td>\n",
       "      <td>False</td>\n",
       "      <td>True</td>\n",
       "    </tr>\n",
       "    <tr>\n",
       "      <th>26</th>\n",
       "      <td>-121.095661</td>\n",
       "      <td>7.201765</td>\n",
       "      <td>False</td>\n",
       "      <td>False</td>\n",
       "      <td>False</td>\n",
       "      <td>True</td>\n",
       "    </tr>\n",
       "    <tr>\n",
       "      <th>27</th>\n",
       "      <td>-133.563735</td>\n",
       "      <td>10.961802</td>\n",
       "      <td>False</td>\n",
       "      <td>False</td>\n",
       "      <td>False</td>\n",
       "      <td>True</td>\n",
       "    </tr>\n",
       "    <tr>\n",
       "      <th>28</th>\n",
       "      <td>-122.764864</td>\n",
       "      <td>12.444112</td>\n",
       "      <td>False</td>\n",
       "      <td>False</td>\n",
       "      <td>False</td>\n",
       "      <td>True</td>\n",
       "    </tr>\n",
       "    <tr>\n",
       "      <th>29</th>\n",
       "      <td>-121.574280</td>\n",
       "      <td>-0.117102</td>\n",
       "      <td>False</td>\n",
       "      <td>False</td>\n",
       "      <td>False</td>\n",
       "      <td>True</td>\n",
       "    </tr>\n",
       "    <tr>\n",
       "      <th>30</th>\n",
       "      <td>-131.144932</td>\n",
       "      <td>3.058024</td>\n",
       "      <td>False</td>\n",
       "      <td>False</td>\n",
       "      <td>False</td>\n",
       "      <td>True</td>\n",
       "    </tr>\n",
       "    <tr>\n",
       "      <th>31</th>\n",
       "      <td>-132.461465</td>\n",
       "      <td>-5.252391</td>\n",
       "      <td>False</td>\n",
       "      <td>False</td>\n",
       "      <td>False</td>\n",
       "      <td>True</td>\n",
       "    </tr>\n",
       "    <tr>\n",
       "      <th>32</th>\n",
       "      <td>-133.254805</td>\n",
       "      <td>-5.061559</td>\n",
       "      <td>False</td>\n",
       "      <td>False</td>\n",
       "      <td>False</td>\n",
       "      <td>True</td>\n",
       "    </tr>\n",
       "    <tr>\n",
       "      <th>33</th>\n",
       "      <td>-137.808943</td>\n",
       "      <td>-2.903773</td>\n",
       "      <td>False</td>\n",
       "      <td>False</td>\n",
       "      <td>False</td>\n",
       "      <td>True</td>\n",
       "    </tr>\n",
       "    <tr>\n",
       "      <th>34</th>\n",
       "      <td>-134.647727</td>\n",
       "      <td>-10.024372</td>\n",
       "      <td>False</td>\n",
       "      <td>False</td>\n",
       "      <td>False</td>\n",
       "      <td>True</td>\n",
       "    </tr>\n",
       "    <tr>\n",
       "      <th>35</th>\n",
       "      <td>-129.242629</td>\n",
       "      <td>-10.752319</td>\n",
       "      <td>False</td>\n",
       "      <td>False</td>\n",
       "      <td>False</td>\n",
       "      <td>True</td>\n",
       "    </tr>\n",
       "    <tr>\n",
       "      <th>36</th>\n",
       "      <td>-127.085874</td>\n",
       "      <td>-7.058854</td>\n",
       "      <td>False</td>\n",
       "      <td>False</td>\n",
       "      <td>False</td>\n",
       "      <td>True</td>\n",
       "    </tr>\n",
       "    <tr>\n",
       "      <th>37</th>\n",
       "      <td>-121.710378</td>\n",
       "      <td>-10.629616</td>\n",
       "      <td>False</td>\n",
       "      <td>False</td>\n",
       "      <td>False</td>\n",
       "      <td>True</td>\n",
       "    </tr>\n",
       "    <tr>\n",
       "      <th>38</th>\n",
       "      <td>-115.656140</td>\n",
       "      <td>-12.520830</td>\n",
       "      <td>False</td>\n",
       "      <td>False</td>\n",
       "      <td>False</td>\n",
       "      <td>True</td>\n",
       "    </tr>\n",
       "    <tr>\n",
       "      <th>39</th>\n",
       "      <td>-117.445731</td>\n",
       "      <td>-9.767058</td>\n",
       "      <td>False</td>\n",
       "      <td>False</td>\n",
       "      <td>False</td>\n",
       "      <td>True</td>\n",
       "    </tr>\n",
       "    <tr>\n",
       "      <th>40</th>\n",
       "      <td>-113.450016</td>\n",
       "      <td>-14.767453</td>\n",
       "      <td>False</td>\n",
       "      <td>False</td>\n",
       "      <td>False</td>\n",
       "      <td>True</td>\n",
       "    </tr>\n",
       "    <tr>\n",
       "      <th>41</th>\n",
       "      <td>-114.222654</td>\n",
       "      <td>-7.935094</td>\n",
       "      <td>False</td>\n",
       "      <td>False</td>\n",
       "      <td>False</td>\n",
       "      <td>True</td>\n",
       "    </tr>\n",
       "    <tr>\n",
       "      <th>42</th>\n",
       "      <td>-118.994518</td>\n",
       "      <td>-19.547926</td>\n",
       "      <td>False</td>\n",
       "      <td>False</td>\n",
       "      <td>False</td>\n",
       "      <td>True</td>\n",
       "    </tr>\n",
       "    <tr>\n",
       "      <th>43</th>\n",
       "      <td>-117.476467</td>\n",
       "      <td>-16.512546</td>\n",
       "      <td>False</td>\n",
       "      <td>False</td>\n",
       "      <td>False</td>\n",
       "      <td>True</td>\n",
       "    </tr>\n",
       "    <tr>\n",
       "      <th>44</th>\n",
       "      <td>-118.655822</td>\n",
       "      <td>-22.221059</td>\n",
       "      <td>False</td>\n",
       "      <td>False</td>\n",
       "      <td>False</td>\n",
       "      <td>True</td>\n",
       "    </tr>\n",
       "    <tr>\n",
       "      <th>45</th>\n",
       "      <td>-113.455972</td>\n",
       "      <td>-33.076643</td>\n",
       "      <td>True</td>\n",
       "      <td>True</td>\n",
       "      <td>False</td>\n",
       "      <td>False</td>\n",
       "    </tr>\n",
       "  </tbody>\n",
       "</table>\n",
       "</div>"
      ],
      "text/plain": [
       "           phi        psi stateA interface0 stateB appendable\n",
       "0  -125.523086 -31.823692   True       True  False       True\n",
       "1  -118.461408 -25.041085  False       True  False       True\n",
       "2  -116.843568 -21.769324  False      False  False       True\n",
       "3  -116.226406 -10.305777  False      False  False       True\n",
       "4  -116.530062  -6.797168  False      False  False       True\n",
       "5  -122.466617   2.955150  False      False  False       True\n",
       "6  -119.229749   1.323381  False      False  False       True\n",
       "7  -118.862517   9.086974  False      False  False       True\n",
       "8  -125.325283   7.327733  False      False  False       True\n",
       "9  -120.952501  12.186354  False      False  False       True\n",
       "10 -123.164580  26.319748  False      False  False       True\n",
       "11 -125.754315  28.663674  False      False  False       True\n",
       "12 -132.565612  38.278224  False      False  False       True\n",
       "13 -141.516643  40.963001  False      False  False       True\n",
       "14 -151.910798  45.170008  False      False  False       True\n",
       "15 -142.727963  39.964431  False      False  False       True\n",
       "16 -149.442094  44.595371  False      False  False       True\n",
       "17 -150.789827  39.260969  False      False  False       True\n",
       "18 -146.536887  45.873026  False      False  False       True\n",
       "19 -145.565456  33.548110  False      False  False       True\n",
       "20 -135.240642  38.786588  False      False  False       True\n",
       "21 -136.068707  29.118459  False      False  False       True\n",
       "22 -134.062967  21.770729  False      False  False       True\n",
       "23 -131.969623  26.174091  False      False  False       True\n",
       "24 -128.071293   9.350006  False      False  False       True\n",
       "25 -134.047790  18.887710  False      False  False       True\n",
       "26 -121.095661   7.201765  False      False  False       True\n",
       "27 -133.563735  10.961802  False      False  False       True\n",
       "28 -122.764864  12.444112  False      False  False       True\n",
       "29 -121.574280  -0.117102  False      False  False       True\n",
       "30 -131.144932   3.058024  False      False  False       True\n",
       "31 -132.461465  -5.252391  False      False  False       True\n",
       "32 -133.254805  -5.061559  False      False  False       True\n",
       "33 -137.808943  -2.903773  False      False  False       True\n",
       "34 -134.647727 -10.024372  False      False  False       True\n",
       "35 -129.242629 -10.752319  False      False  False       True\n",
       "36 -127.085874  -7.058854  False      False  False       True\n",
       "37 -121.710378 -10.629616  False      False  False       True\n",
       "38 -115.656140 -12.520830  False      False  False       True\n",
       "39 -117.445731  -9.767058  False      False  False       True\n",
       "40 -113.450016 -14.767453  False      False  False       True\n",
       "41 -114.222654  -7.935094  False      False  False       True\n",
       "42 -118.994518 -19.547926  False      False  False       True\n",
       "43 -117.476467 -16.512546  False      False  False       True\n",
       "44 -118.655822 -22.221059  False      False  False       True\n",
       "45 -113.455972 -33.076643   True       True  False      False"
      ]
     },
     "execution_count": 25,
     "metadata": {},
     "output_type": "execute_result"
    }
   ],
   "source": [
    "data = []\n",
    "for frame in segments[0]:\n",
    "    data.append((phi(frame)/deg, psi(frame)/deg, stateA(frame), interface0(frame), stateB(frame), first_traj_ensemble.can_append(total_path[slice(0,total_path.index(frame)+1)])))\n",
    "    \n",
    "dataframe = pd.DataFrame(data, columns=['phi', 'psi', 'stateA', 'interface0', 'stateB', 'appendable'])\n",
    "dataframe[[0,1,2,3,4,5]]"
   ]
  },
  {
   "cell_type": "markdown",
   "metadata": {},
   "source": [
    "### Bootstrapping"
   ]
  },
  {
   "cell_type": "markdown",
   "metadata": {},
   "source": [
    "Run a bootstrapping (not TIS) simulation that shoots from an ensemble until the next interface is reached then switch to the next ensemble to drive the system out of stateA"
   ]
  },
  {
   "cell_type": "code",
   "execution_count": 26,
   "metadata": {
    "collapsed": true
   },
   "outputs": [],
   "source": [
    "mover_set = paths.PathMoverFactory.OneWayShootingSet(paths.UniformSelector(), interface_set)"
   ]
  },
  {
   "cell_type": "code",
   "execution_count": 27,
   "metadata": {
    "collapsed": true
   },
   "outputs": [],
   "source": [
    "bootstrap = paths.Bootstrapping(storage=storage,\n",
    "                          engine=engine,\n",
    "                          ensembles=interface_set,\n",
    "                          movers=mover_set,\n",
    "                          trajectory=segments[0])"
   ]
  },
  {
   "cell_type": "markdown",
   "metadata": {},
   "source": [
    "Run Bootstrapping with at most 50 attempts per ensemble"
   ]
  },
  {
   "cell_type": "code",
   "execution_count": 28,
   "metadata": {
    "collapsed": false
   },
   "outputs": [
    {
     "name": "stdout",
     "output_type": "stream",
     "text": [
      "DONE! Completed Bootstrapping cycle step 9 in ensemble 7/7 .\n",
      "\n"
     ]
    }
   ],
   "source": [
    "bootstrap.run(50)"
   ]
  },
  {
   "cell_type": "markdown",
   "metadata": {},
   "source": [
    "Save all computed phi/psi values which depends on whether they have been needed before"
   ]
  },
  {
   "cell_type": "code",
   "execution_count": 29,
   "metadata": {
    "collapsed": true
   },
   "outputs": [],
   "source": [
    "storage.cvs.sync()"
   ]
  },
  {
   "cell_type": "markdown",
   "metadata": {},
   "source": [
    "Create an collectivevariable from a volume which is just 1 or 0 and can thus be stored for later analysis"
   ]
  },
  {
   "cell_type": "code",
   "execution_count": 30,
   "metadata": {
    "collapsed": true
   },
   "outputs": [],
   "source": [
    "op_inA = paths.CV_Volume('StateA', stateA)\n",
    "op_inB = paths.CV_Volume('StateB', stateB)\n",
    "op_notinAorB = paths.CV_Volume('StateX', ~ (stateA | stateB))"
   ]
  },
  {
   "cell_type": "markdown",
   "metadata": {},
   "source": [
    "Save the new collectivevariables"
   ]
  },
  {
   "cell_type": "code",
   "execution_count": 31,
   "metadata": {
    "collapsed": false
   },
   "outputs": [
    {
     "data": {
      "text/plain": [
       "'CV_Volume > ExpandSingle > ReversibleCacheChainDict > Function'"
      ]
     },
     "execution_count": 53,
     "metadata": {},
     "output_type": "execute_result"
    }
   ],
   "source": [
    "op_inA.str_chain()"
   ]
  },
  {
   "cell_type": "code",
   "execution_count": 54,
   "metadata": {
    "collapsed": false
   },
   "outputs": [],
   "source": [
    "storage.save([op_inA, op_inB, op_notinAorB]);"
   ]
  },
  {
   "cell_type": "markdown",
   "metadata": {},
   "source": [
    "Compute the collectivevariable for all snapshots"
   ]
  },
  {
   "cell_type": "code",
   "execution_count": 32,
   "metadata": {
    "collapsed": true
   },
   "outputs": [],
   "source": [
    "psi(storage.snapshots.all());\n",
    "phi(storage.snapshots.all());"
   ]
  },
  {
   "cell_type": "code",
   "execution_count": 33,
   "metadata": {
    "collapsed": true
   },
   "outputs": [],
   "source": [
    "op_inA(storage.snapshots.all())\n",
    "op_inB(storage.snapshots.all())\n",
    "op_notinAorB(storage.snapshots.all());"
   ]
  },
  {
   "cell_type": "code",
   "execution_count": 34,
   "metadata": {
    "collapsed": true
   },
   "outputs": [],
   "source": [
    "storage.cvs.sync()\n",
    "storage.sync()"
   ]
  },
  {
   "cell_type": "code",
   "execution_count": 35,
   "metadata": {
    "collapsed": true
   },
   "outputs": [],
   "source": [
    "storage.close()"
   ]
  },
  {
   "cell_type": "code",
   "execution_count": 36,
   "metadata": {
    "collapsed": true
   },
   "outputs": [],
   "source": [
    "import openpathsampling as paths\n",
    "from openpathsampling.visualize import PathTreeBuilder\n",
    "from IPython.display import SVG\n",
    "import mdtraj"
   ]
  },
  {
   "cell_type": "code",
   "execution_count": 37,
   "metadata": {
    "collapsed": false
   },
   "outputs": [],
   "source": [
    "storage = paths.AnalysisStorage('trajectory.nc')"
   ]
  },
  {
   "cell_type": "markdown",
   "metadata": {},
   "source": [
    "## Visualization"
   ]
  },
  {
   "cell_type": "markdown",
   "metadata": {},
   "source": [
    "Create a PathTree generator"
   ]
  },
  {
   "cell_type": "code",
   "execution_count": 38,
   "metadata": {
    "collapsed": true
   },
   "outputs": [],
   "source": [
    "tree = PathTreeBuilder(storage)"
   ]
  },
  {
   "cell_type": "markdown",
   "metadata": {},
   "source": [
    "Change the settings to show rejected pathways, mark OrderParaemters `stateA` and `stateX`, and show the 'psi' value as text inside of the boxes"
   ]
  },
  {
   "cell_type": "code",
   "execution_count": 39,
   "metadata": {
    "collapsed": false
   },
   "outputs": [],
   "source": [
    "tree.rejected = False\n",
    "tree.states = [ ('orange',storage.cvs[3])]\n",
    "# Some ideas for collectivevariables to visualize\n",
    "tree.op = lambda snap : 'B' if snap.reversed else 'F'\n",
    "tree.op = lambda snap : int(psi(snap)[0]/3.1415926 * 180)\n",
    "tree.op = lambda snap : snap.configuration.idx(storage.configurations)\n",
    "samps = tree.construct_heritage(storage.samples.last)\n",
    "tree.from_samples(samps)\n",
    "#for sset in storage.samplesets:\n",
    "#    print sset.movepath\n",
    "    \n",
    "#for s in samps:\n",
    "#    print (s, s.ensemble.idx[storage], s.replica, len(tree.construct_heritage(s)), s.mover.__class__.__name__)"
   ]
  },
  {
   "cell_type": "markdown",
   "metadata": {},
   "source": [
    "Render the tree"
   ]
  },
  {
   "cell_type": "code",
   "execution_count": 40,
   "metadata": {
    "collapsed": false
   },
   "outputs": [
    {
     "data": {
      "image/svg+xml": [
       "<svg baseProfile=\"full\" height=\"396.0px\" version=\"1.1\" width=\"2838.0px\" xmlns=\"http://www.w3.org/2000/svg\" xmlns:ev=\"http://www.w3.org/2001/xml-events\" xmlns:xlink=\"http://www.w3.org/1999/xlink\"><defs/><rect fill=\"orange\" height=\"2.64\" stroke=\"orange\" stroke-width=\"1.32\" width=\"22.0\" x=\"2244.0\" y=\"299.64\"/><rect fill=\"orange\" height=\"2.64\" stroke=\"orange\" stroke-width=\"1.32\" width=\"22.0\" x=\"660.0\" y=\"246.84\"/><rect fill=\"orange\" height=\"2.64\" stroke=\"orange\" stroke-width=\"1.32\" width=\"22.0\" x=\"2244.0\" y=\"194.04\"/><rect fill=\"orange\" height=\"2.64\" stroke=\"orange\" stroke-width=\"1.32\" width=\"22.0\" x=\"858.0\" y=\"88.44\"/><rect fill=\"orange\" height=\"2.64\" stroke=\"orange\" stroke-width=\"1.32\" width=\"22.0\" x=\"1342.0\" y=\"35.64\"/><rect fill=\"orange\" height=\"2.64\" stroke=\"orange\" stroke-width=\"1.32\" width=\"22.0\" x=\"176.0\" y=\"35.64\"/><text alignment-baseline=\"middle\" fill=\"black\" font-family=\"Futura\" font-size=\"9.24\" text-anchor=\"end\" x=\"171.6\" y=\"27.72\">3b</text><rect fill=\"black\" height=\"15.84\" width=\"19.8\" x=\"177.1\" y=\"18.48\"/><circle cx=\"198.0\" cy=\"26.4\" fill=\"black\" r=\"1.1\" stroke=\"black\" stroke-width=\"0\"/><text alignment-baseline=\"middle\" fill=\"white\" font-family=\"Futura\" font-size=\"9.24\" text-anchor=\"middle\" x=\"187.0\" y=\"27.72\">52</text><rect fill=\"black\" height=\"15.84\" width=\"19.8\" x=\"199.1\" y=\"18.48\"/><circle cx=\"198.0\" cy=\"26.4\" fill=\"black\" r=\"1.1\" stroke=\"black\" stroke-width=\"0\"/><circle cx=\"220.0\" cy=\"26.4\" fill=\"black\" r=\"1.1\" stroke=\"black\" stroke-width=\"0\"/><text alignment-baseline=\"middle\" fill=\"white\" font-family=\"Futura\" font-size=\"9.24\" text-anchor=\"middle\" x=\"209.0\" y=\"27.72\">53</text><rect fill=\"black\" height=\"15.84\" width=\"19.8\" x=\"221.1\" y=\"18.48\"/><circle cx=\"220.0\" cy=\"26.4\" fill=\"black\" r=\"1.1\" stroke=\"black\" stroke-width=\"0\"/><circle cx=\"242.0\" cy=\"26.4\" fill=\"black\" r=\"1.1\" stroke=\"black\" stroke-width=\"0\"/><text alignment-baseline=\"middle\" fill=\"white\" font-family=\"Futura\" font-size=\"9.24\" text-anchor=\"middle\" x=\"231.0\" y=\"27.72\">54</text><rect fill=\"black\" height=\"15.84\" width=\"19.8\" x=\"243.1\" y=\"18.48\"/><circle cx=\"242.0\" cy=\"26.4\" fill=\"black\" r=\"1.1\" stroke=\"black\" stroke-width=\"0\"/><circle cx=\"264.0\" cy=\"26.4\" fill=\"black\" r=\"1.1\" stroke=\"black\" stroke-width=\"0\"/><text alignment-baseline=\"middle\" fill=\"white\" font-family=\"Futura\" font-size=\"9.24\" text-anchor=\"middle\" x=\"253.0\" y=\"27.72\">55</text><rect fill=\"black\" height=\"15.84\" width=\"19.8\" x=\"265.1\" y=\"18.48\"/><circle cx=\"264.0\" cy=\"26.4\" fill=\"black\" r=\"1.1\" stroke=\"black\" stroke-width=\"0\"/><circle cx=\"286.0\" cy=\"26.4\" fill=\"black\" r=\"1.1\" stroke=\"black\" stroke-width=\"0\"/><text alignment-baseline=\"middle\" fill=\"white\" font-family=\"Futura\" font-size=\"9.24\" text-anchor=\"middle\" x=\"275.0\" y=\"27.72\">56</text><rect fill=\"black\" height=\"15.84\" width=\"19.8\" x=\"287.1\" y=\"18.48\"/><circle cx=\"286.0\" cy=\"26.4\" fill=\"black\" r=\"1.1\" stroke=\"black\" stroke-width=\"0\"/><circle cx=\"308.0\" cy=\"26.4\" fill=\"black\" r=\"1.1\" stroke=\"black\" stroke-width=\"0\"/><text alignment-baseline=\"middle\" fill=\"white\" font-family=\"Futura\" font-size=\"9.24\" text-anchor=\"middle\" x=\"297.0\" y=\"27.72\">57</text><rect fill=\"black\" height=\"15.84\" width=\"19.8\" x=\"309.1\" y=\"18.48\"/><circle cx=\"308.0\" cy=\"26.4\" fill=\"black\" r=\"1.1\" stroke=\"black\" stroke-width=\"0\"/><circle cx=\"330.0\" cy=\"26.4\" fill=\"black\" r=\"1.1\" stroke=\"black\" stroke-width=\"0\"/><text alignment-baseline=\"middle\" fill=\"white\" font-family=\"Futura\" font-size=\"9.24\" text-anchor=\"middle\" x=\"319.0\" y=\"27.72\">58</text><rect fill=\"black\" height=\"15.84\" width=\"19.8\" x=\"331.1\" y=\"18.48\"/><circle cx=\"330.0\" cy=\"26.4\" fill=\"black\" r=\"1.1\" stroke=\"black\" stroke-width=\"0\"/><circle cx=\"352.0\" cy=\"26.4\" fill=\"black\" r=\"1.1\" stroke=\"black\" stroke-width=\"0\"/><text alignment-baseline=\"middle\" fill=\"white\" font-family=\"Futura\" font-size=\"9.24\" text-anchor=\"middle\" x=\"341.0\" y=\"27.72\">137</text><rect fill=\"black\" height=\"15.84\" width=\"19.8\" x=\"353.1\" y=\"18.48\"/><circle cx=\"352.0\" cy=\"26.4\" fill=\"black\" r=\"1.1\" stroke=\"black\" stroke-width=\"0\"/><circle cx=\"374.0\" cy=\"26.4\" fill=\"black\" r=\"1.1\" stroke=\"black\" stroke-width=\"0\"/><text alignment-baseline=\"middle\" fill=\"white\" font-family=\"Futura\" font-size=\"9.24\" text-anchor=\"middle\" x=\"363.0\" y=\"27.72\">138</text><rect fill=\"black\" height=\"15.84\" width=\"19.8\" x=\"375.1\" y=\"18.48\"/><circle cx=\"374.0\" cy=\"26.4\" fill=\"black\" r=\"1.1\" stroke=\"black\" stroke-width=\"0\"/><circle cx=\"396.0\" cy=\"26.4\" fill=\"black\" r=\"1.1\" stroke=\"black\" stroke-width=\"0\"/><text alignment-baseline=\"middle\" fill=\"white\" font-family=\"Futura\" font-size=\"9.24\" text-anchor=\"middle\" x=\"385.0\" y=\"27.72\">139</text><rect fill=\"black\" height=\"15.84\" width=\"19.8\" x=\"397.1\" y=\"18.48\"/><circle cx=\"396.0\" cy=\"26.4\" fill=\"black\" r=\"1.1\" stroke=\"black\" stroke-width=\"0\"/><circle cx=\"418.0\" cy=\"26.4\" fill=\"black\" r=\"1.1\" stroke=\"black\" stroke-width=\"0\"/><text alignment-baseline=\"middle\" fill=\"white\" font-family=\"Futura\" font-size=\"9.24\" text-anchor=\"middle\" x=\"407.0\" y=\"27.72\">140</text><rect fill=\"black\" height=\"15.84\" width=\"19.8\" x=\"419.1\" y=\"18.48\"/><circle cx=\"418.0\" cy=\"26.4\" fill=\"black\" r=\"1.1\" stroke=\"black\" stroke-width=\"0\"/><circle cx=\"440.0\" cy=\"26.4\" fill=\"black\" r=\"1.1\" stroke=\"black\" stroke-width=\"0\"/><text alignment-baseline=\"middle\" fill=\"white\" font-family=\"Futura\" font-size=\"9.24\" text-anchor=\"middle\" x=\"429.0\" y=\"27.72\">141</text><rect fill=\"black\" height=\"15.84\" width=\"19.8\" x=\"441.1\" y=\"18.48\"/><circle cx=\"440.0\" cy=\"26.4\" fill=\"black\" r=\"1.1\" stroke=\"black\" stroke-width=\"0\"/><circle cx=\"462.0\" cy=\"26.4\" fill=\"black\" r=\"1.1\" stroke=\"black\" stroke-width=\"0\"/><text alignment-baseline=\"middle\" fill=\"white\" font-family=\"Futura\" font-size=\"9.24\" text-anchor=\"middle\" x=\"451.0\" y=\"27.72\">142</text><rect fill=\"black\" height=\"15.84\" width=\"19.8\" x=\"463.1\" y=\"18.48\"/><circle cx=\"462.0\" cy=\"26.4\" fill=\"black\" r=\"1.1\" stroke=\"black\" stroke-width=\"0\"/><circle cx=\"484.0\" cy=\"26.4\" fill=\"black\" r=\"1.1\" stroke=\"black\" stroke-width=\"0\"/><text alignment-baseline=\"middle\" fill=\"white\" font-family=\"Futura\" font-size=\"9.24\" text-anchor=\"middle\" x=\"473.0\" y=\"27.72\">143</text><rect fill=\"black\" height=\"15.84\" width=\"19.8\" x=\"485.1\" y=\"18.48\"/><circle cx=\"484.0\" cy=\"26.4\" fill=\"black\" r=\"1.1\" stroke=\"black\" stroke-width=\"0\"/><circle cx=\"506.0\" cy=\"26.4\" fill=\"black\" r=\"1.1\" stroke=\"black\" stroke-width=\"0\"/><text alignment-baseline=\"middle\" fill=\"white\" font-family=\"Futura\" font-size=\"9.24\" text-anchor=\"middle\" x=\"495.0\" y=\"27.72\">144</text><rect fill=\"black\" height=\"15.84\" width=\"19.8\" x=\"507.1\" y=\"18.48\"/><circle cx=\"506.0\" cy=\"26.4\" fill=\"black\" r=\"1.1\" stroke=\"black\" stroke-width=\"0\"/><circle cx=\"528.0\" cy=\"26.4\" fill=\"black\" r=\"1.1\" stroke=\"black\" stroke-width=\"0\"/><text alignment-baseline=\"middle\" fill=\"white\" font-family=\"Futura\" font-size=\"9.24\" text-anchor=\"middle\" x=\"517.0\" y=\"27.72\">145</text><rect fill=\"black\" height=\"15.84\" width=\"19.8\" x=\"529.1\" y=\"18.48\"/><circle cx=\"528.0\" cy=\"26.4\" fill=\"black\" r=\"1.1\" stroke=\"black\" stroke-width=\"0\"/><circle cx=\"550.0\" cy=\"26.4\" fill=\"black\" r=\"1.1\" stroke=\"black\" stroke-width=\"0\"/><text alignment-baseline=\"middle\" fill=\"white\" font-family=\"Futura\" font-size=\"9.24\" text-anchor=\"middle\" x=\"539.0\" y=\"27.72\">146</text><rect fill=\"black\" height=\"15.84\" width=\"19.8\" x=\"551.1\" y=\"18.48\"/><circle cx=\"550.0\" cy=\"26.4\" fill=\"black\" r=\"1.1\" stroke=\"black\" stroke-width=\"0\"/><circle cx=\"572.0\" cy=\"26.4\" fill=\"black\" r=\"1.1\" stroke=\"black\" stroke-width=\"0\"/><text alignment-baseline=\"middle\" fill=\"white\" font-family=\"Futura\" font-size=\"9.24\" text-anchor=\"middle\" x=\"561.0\" y=\"27.72\">147</text><rect fill=\"black\" height=\"15.84\" width=\"19.8\" x=\"573.1\" y=\"18.48\"/><circle cx=\"572.0\" cy=\"26.4\" fill=\"black\" r=\"1.1\" stroke=\"black\" stroke-width=\"0\"/><circle cx=\"594.0\" cy=\"26.4\" fill=\"black\" r=\"1.1\" stroke=\"black\" stroke-width=\"0\"/><text alignment-baseline=\"middle\" fill=\"white\" font-family=\"Futura\" font-size=\"9.24\" text-anchor=\"middle\" x=\"583.0\" y=\"27.72\">148</text><rect fill=\"black\" height=\"15.84\" width=\"19.8\" x=\"595.1\" y=\"18.48\"/><circle cx=\"594.0\" cy=\"26.4\" fill=\"black\" r=\"1.1\" stroke=\"black\" stroke-width=\"0\"/><circle cx=\"616.0\" cy=\"26.4\" fill=\"black\" r=\"1.1\" stroke=\"black\" stroke-width=\"0\"/><text alignment-baseline=\"middle\" fill=\"white\" font-family=\"Futura\" font-size=\"9.24\" text-anchor=\"middle\" x=\"605.0\" y=\"27.72\">149</text><rect fill=\"black\" height=\"15.84\" width=\"19.8\" x=\"617.1\" y=\"18.48\"/><circle cx=\"616.0\" cy=\"26.4\" fill=\"black\" r=\"1.1\" stroke=\"black\" stroke-width=\"0\"/><circle cx=\"638.0\" cy=\"26.4\" fill=\"black\" r=\"1.1\" stroke=\"black\" stroke-width=\"0\"/><text alignment-baseline=\"middle\" fill=\"white\" font-family=\"Futura\" font-size=\"9.24\" text-anchor=\"middle\" x=\"627.0\" y=\"27.72\">150</text><rect fill=\"black\" height=\"15.84\" width=\"19.8\" x=\"639.1\" y=\"18.48\"/><circle cx=\"638.0\" cy=\"26.4\" fill=\"black\" r=\"1.1\" stroke=\"black\" stroke-width=\"0\"/><circle cx=\"660.0\" cy=\"26.4\" fill=\"black\" r=\"1.1\" stroke=\"black\" stroke-width=\"0\"/><text alignment-baseline=\"middle\" fill=\"white\" font-family=\"Futura\" font-size=\"9.24\" text-anchor=\"middle\" x=\"649.0\" y=\"27.72\">151</text><rect fill=\"black\" height=\"15.84\" width=\"19.8\" x=\"661.1\" y=\"18.48\"/><circle cx=\"660.0\" cy=\"26.4\" fill=\"black\" r=\"1.1\" stroke=\"black\" stroke-width=\"0\"/><circle cx=\"682.0\" cy=\"26.4\" fill=\"black\" r=\"1.1\" stroke=\"black\" stroke-width=\"0\"/><text alignment-baseline=\"middle\" fill=\"white\" font-family=\"Futura\" font-size=\"9.24\" text-anchor=\"middle\" x=\"671.0\" y=\"27.72\">152</text><rect fill=\"black\" height=\"15.84\" width=\"19.8\" x=\"683.1\" y=\"18.48\"/><circle cx=\"682.0\" cy=\"26.4\" fill=\"black\" r=\"1.1\" stroke=\"black\" stroke-width=\"0\"/><circle cx=\"704.0\" cy=\"26.4\" fill=\"black\" r=\"1.1\" stroke=\"black\" stroke-width=\"0\"/><text alignment-baseline=\"middle\" fill=\"white\" font-family=\"Futura\" font-size=\"9.24\" text-anchor=\"middle\" x=\"693.0\" y=\"27.72\">153</text><rect fill=\"black\" height=\"15.84\" width=\"19.8\" x=\"705.1\" y=\"18.48\"/><circle cx=\"704.0\" cy=\"26.4\" fill=\"black\" r=\"1.1\" stroke=\"black\" stroke-width=\"0\"/><circle cx=\"726.0\" cy=\"26.4\" fill=\"black\" r=\"1.1\" stroke=\"black\" stroke-width=\"0\"/><text alignment-baseline=\"middle\" fill=\"white\" font-family=\"Futura\" font-size=\"9.24\" text-anchor=\"middle\" x=\"715.0\" y=\"27.72\">154</text><rect fill=\"black\" height=\"15.84\" width=\"19.8\" x=\"727.1\" y=\"18.48\"/><circle cx=\"726.0\" cy=\"26.4\" fill=\"black\" r=\"1.1\" stroke=\"black\" stroke-width=\"0\"/><circle cx=\"748.0\" cy=\"26.4\" fill=\"black\" r=\"1.1\" stroke=\"black\" stroke-width=\"0\"/><text alignment-baseline=\"middle\" fill=\"white\" font-family=\"Futura\" font-size=\"9.24\" text-anchor=\"middle\" x=\"737.0\" y=\"27.72\">155</text><rect fill=\"black\" height=\"15.84\" width=\"19.8\" x=\"749.1\" y=\"18.48\"/><circle cx=\"748.0\" cy=\"26.4\" fill=\"black\" r=\"1.1\" stroke=\"black\" stroke-width=\"0\"/><circle cx=\"770.0\" cy=\"26.4\" fill=\"black\" r=\"1.1\" stroke=\"black\" stroke-width=\"0\"/><text alignment-baseline=\"middle\" fill=\"white\" font-family=\"Futura\" font-size=\"9.24\" text-anchor=\"middle\" x=\"759.0\" y=\"27.72\">156</text><rect fill=\"black\" height=\"15.84\" width=\"19.8\" x=\"771.1\" y=\"18.48\"/><circle cx=\"770.0\" cy=\"26.4\" fill=\"black\" r=\"1.1\" stroke=\"black\" stroke-width=\"0\"/><circle cx=\"792.0\" cy=\"26.4\" fill=\"black\" r=\"1.1\" stroke=\"black\" stroke-width=\"0\"/><text alignment-baseline=\"middle\" fill=\"white\" font-family=\"Futura\" font-size=\"9.24\" text-anchor=\"middle\" x=\"781.0\" y=\"27.72\">157</text><rect fill=\"black\" height=\"15.84\" width=\"19.8\" x=\"793.1\" y=\"18.48\"/><circle cx=\"792.0\" cy=\"26.4\" fill=\"black\" r=\"1.1\" stroke=\"black\" stroke-width=\"0\"/><circle cx=\"814.0\" cy=\"26.4\" fill=\"black\" r=\"1.1\" stroke=\"black\" stroke-width=\"0\"/><text alignment-baseline=\"middle\" fill=\"white\" font-family=\"Futura\" font-size=\"9.24\" text-anchor=\"middle\" x=\"803.0\" y=\"27.72\">158</text><rect fill=\"black\" height=\"15.84\" width=\"19.8\" x=\"815.1\" y=\"18.48\"/><circle cx=\"814.0\" cy=\"26.4\" fill=\"black\" r=\"1.1\" stroke=\"black\" stroke-width=\"0\"/><circle cx=\"836.0\" cy=\"26.4\" fill=\"black\" r=\"1.1\" stroke=\"black\" stroke-width=\"0\"/><text alignment-baseline=\"middle\" fill=\"white\" font-family=\"Futura\" font-size=\"9.24\" text-anchor=\"middle\" x=\"825.0\" y=\"27.72\">159</text><rect fill=\"black\" height=\"15.84\" width=\"19.8\" x=\"837.1\" y=\"18.48\"/><circle cx=\"836.0\" cy=\"26.4\" fill=\"black\" r=\"1.1\" stroke=\"black\" stroke-width=\"0\"/><circle cx=\"858.0\" cy=\"26.4\" fill=\"black\" r=\"1.1\" stroke=\"black\" stroke-width=\"0\"/><text alignment-baseline=\"middle\" fill=\"white\" font-family=\"Futura\" font-size=\"9.24\" text-anchor=\"middle\" x=\"847.0\" y=\"27.72\">160</text><rect fill=\"black\" height=\"15.84\" width=\"19.8\" x=\"859.1\" y=\"18.48\"/><circle cx=\"858.0\" cy=\"26.4\" fill=\"black\" r=\"1.1\" stroke=\"black\" stroke-width=\"0\"/><circle cx=\"880.0\" cy=\"26.4\" fill=\"black\" r=\"1.1\" stroke=\"black\" stroke-width=\"0\"/><text alignment-baseline=\"middle\" fill=\"white\" font-family=\"Futura\" font-size=\"9.24\" text-anchor=\"middle\" x=\"869.0\" y=\"27.72\">161</text><rect fill=\"black\" height=\"15.84\" width=\"19.8\" x=\"881.1\" y=\"18.48\"/><circle cx=\"880.0\" cy=\"26.4\" fill=\"black\" r=\"1.1\" stroke=\"black\" stroke-width=\"0\"/><circle cx=\"902.0\" cy=\"26.4\" fill=\"black\" r=\"1.1\" stroke=\"black\" stroke-width=\"0\"/><text alignment-baseline=\"middle\" fill=\"white\" font-family=\"Futura\" font-size=\"9.24\" text-anchor=\"middle\" x=\"891.0\" y=\"27.72\">162</text><rect fill=\"black\" height=\"15.84\" width=\"19.8\" x=\"903.1\" y=\"18.48\"/><circle cx=\"902.0\" cy=\"26.4\" fill=\"black\" r=\"1.1\" stroke=\"black\" stroke-width=\"0\"/><circle cx=\"924.0\" cy=\"26.4\" fill=\"black\" r=\"1.1\" stroke=\"black\" stroke-width=\"0\"/><text alignment-baseline=\"middle\" fill=\"white\" font-family=\"Futura\" font-size=\"9.24\" text-anchor=\"middle\" x=\"913.0\" y=\"27.72\">163</text><rect fill=\"black\" height=\"15.84\" width=\"19.8\" x=\"925.1\" y=\"18.48\"/><circle cx=\"924.0\" cy=\"26.4\" fill=\"black\" r=\"1.1\" stroke=\"black\" stroke-width=\"0\"/><circle cx=\"946.0\" cy=\"26.4\" fill=\"black\" r=\"1.1\" stroke=\"black\" stroke-width=\"0\"/><text alignment-baseline=\"middle\" fill=\"white\" font-family=\"Futura\" font-size=\"9.24\" text-anchor=\"middle\" x=\"935.0\" y=\"27.72\">164</text><rect fill=\"black\" height=\"15.84\" width=\"19.8\" x=\"947.1\" y=\"18.48\"/><circle cx=\"946.0\" cy=\"26.4\" fill=\"black\" r=\"1.1\" stroke=\"black\" stroke-width=\"0\"/><circle cx=\"968.0\" cy=\"26.4\" fill=\"black\" r=\"1.1\" stroke=\"black\" stroke-width=\"0\"/><text alignment-baseline=\"middle\" fill=\"white\" font-family=\"Futura\" font-size=\"9.24\" text-anchor=\"middle\" x=\"957.0\" y=\"27.72\">165</text><rect fill=\"black\" height=\"15.84\" width=\"19.8\" x=\"969.1\" y=\"18.48\"/><circle cx=\"968.0\" cy=\"26.4\" fill=\"black\" r=\"1.1\" stroke=\"black\" stroke-width=\"0\"/><circle cx=\"990.0\" cy=\"26.4\" fill=\"black\" r=\"1.1\" stroke=\"black\" stroke-width=\"0\"/><text alignment-baseline=\"middle\" fill=\"white\" font-family=\"Futura\" font-size=\"9.24\" text-anchor=\"middle\" x=\"979.0\" y=\"27.72\">166</text><rect fill=\"black\" height=\"15.84\" width=\"19.8\" x=\"991.1\" y=\"18.48\"/><circle cx=\"990.0\" cy=\"26.4\" fill=\"black\" r=\"1.1\" stroke=\"black\" stroke-width=\"0\"/><circle cx=\"1012.0\" cy=\"26.4\" fill=\"black\" r=\"1.1\" stroke=\"black\" stroke-width=\"0\"/><text alignment-baseline=\"middle\" fill=\"white\" font-family=\"Futura\" font-size=\"9.24\" text-anchor=\"middle\" x=\"1001.0\" y=\"27.72\">167</text><rect fill=\"black\" height=\"15.84\" width=\"19.8\" x=\"1013.1\" y=\"18.48\"/><circle cx=\"1012.0\" cy=\"26.4\" fill=\"black\" r=\"1.1\" stroke=\"black\" stroke-width=\"0\"/><circle cx=\"1034.0\" cy=\"26.4\" fill=\"black\" r=\"1.1\" stroke=\"black\" stroke-width=\"0\"/><text alignment-baseline=\"middle\" fill=\"white\" font-family=\"Futura\" font-size=\"9.24\" text-anchor=\"middle\" x=\"1023.0\" y=\"27.72\">168</text><rect fill=\"black\" height=\"15.84\" width=\"19.8\" x=\"1035.1\" y=\"18.48\"/><circle cx=\"1034.0\" cy=\"26.4\" fill=\"black\" r=\"1.1\" stroke=\"black\" stroke-width=\"0\"/><circle cx=\"1056.0\" cy=\"26.4\" fill=\"black\" r=\"1.1\" stroke=\"black\" stroke-width=\"0\"/><text alignment-baseline=\"middle\" fill=\"white\" font-family=\"Futura\" font-size=\"9.24\" text-anchor=\"middle\" x=\"1045.0\" y=\"27.72\">169</text><rect fill=\"black\" height=\"15.84\" width=\"19.8\" x=\"1057.1\" y=\"18.48\"/><circle cx=\"1056.0\" cy=\"26.4\" fill=\"black\" r=\"1.1\" stroke=\"black\" stroke-width=\"0\"/><circle cx=\"1078.0\" cy=\"26.4\" fill=\"black\" r=\"1.1\" stroke=\"black\" stroke-width=\"0\"/><text alignment-baseline=\"middle\" fill=\"white\" font-family=\"Futura\" font-size=\"9.24\" text-anchor=\"middle\" x=\"1067.0\" y=\"27.72\">170</text><rect fill=\"black\" height=\"15.84\" width=\"19.8\" x=\"1079.1\" y=\"18.48\"/><circle cx=\"1078.0\" cy=\"26.4\" fill=\"black\" r=\"1.1\" stroke=\"black\" stroke-width=\"0\"/><circle cx=\"1100.0\" cy=\"26.4\" fill=\"black\" r=\"1.1\" stroke=\"black\" stroke-width=\"0\"/><text alignment-baseline=\"middle\" fill=\"white\" font-family=\"Futura\" font-size=\"9.24\" text-anchor=\"middle\" x=\"1089.0\" y=\"27.72\">171</text><rect fill=\"black\" height=\"15.84\" width=\"19.8\" x=\"1101.1\" y=\"18.48\"/><circle cx=\"1100.0\" cy=\"26.4\" fill=\"black\" r=\"1.1\" stroke=\"black\" stroke-width=\"0\"/><circle cx=\"1122.0\" cy=\"26.4\" fill=\"black\" r=\"1.1\" stroke=\"black\" stroke-width=\"0\"/><text alignment-baseline=\"middle\" fill=\"white\" font-family=\"Futura\" font-size=\"9.24\" text-anchor=\"middle\" x=\"1111.0\" y=\"27.72\">172</text><rect fill=\"black\" height=\"15.84\" width=\"19.8\" x=\"1123.1\" y=\"18.48\"/><circle cx=\"1122.0\" cy=\"26.4\" fill=\"black\" r=\"1.1\" stroke=\"black\" stroke-width=\"0\"/><circle cx=\"1144.0\" cy=\"26.4\" fill=\"black\" r=\"1.1\" stroke=\"black\" stroke-width=\"0\"/><text alignment-baseline=\"middle\" fill=\"white\" font-family=\"Futura\" font-size=\"9.24\" text-anchor=\"middle\" x=\"1133.0\" y=\"27.72\">173</text><rect fill=\"black\" height=\"15.84\" width=\"19.8\" x=\"1145.1\" y=\"18.48\"/><circle cx=\"1144.0\" cy=\"26.4\" fill=\"black\" r=\"1.1\" stroke=\"black\" stroke-width=\"0\"/><circle cx=\"1166.0\" cy=\"26.4\" fill=\"black\" r=\"1.1\" stroke=\"black\" stroke-width=\"0\"/><text alignment-baseline=\"middle\" fill=\"white\" font-family=\"Futura\" font-size=\"9.24\" text-anchor=\"middle\" x=\"1155.0\" y=\"27.72\">174</text><rect fill=\"black\" height=\"15.84\" width=\"19.8\" x=\"1167.1\" y=\"18.48\"/><circle cx=\"1166.0\" cy=\"26.4\" fill=\"black\" r=\"1.1\" stroke=\"black\" stroke-width=\"0\"/><circle cx=\"1188.0\" cy=\"26.4\" fill=\"black\" r=\"1.1\" stroke=\"black\" stroke-width=\"0\"/><text alignment-baseline=\"middle\" fill=\"white\" font-family=\"Futura\" font-size=\"9.24\" text-anchor=\"middle\" x=\"1177.0\" y=\"27.72\">175</text><rect fill=\"black\" height=\"15.84\" width=\"19.8\" x=\"1189.1\" y=\"18.48\"/><circle cx=\"1188.0\" cy=\"26.4\" fill=\"black\" r=\"1.1\" stroke=\"black\" stroke-width=\"0\"/><circle cx=\"1210.0\" cy=\"26.4\" fill=\"black\" r=\"1.1\" stroke=\"black\" stroke-width=\"0\"/><text alignment-baseline=\"middle\" fill=\"white\" font-family=\"Futura\" font-size=\"9.24\" text-anchor=\"middle\" x=\"1199.0\" y=\"27.72\">176</text><rect fill=\"black\" height=\"15.84\" width=\"19.8\" x=\"1211.1\" y=\"18.48\"/><circle cx=\"1210.0\" cy=\"26.4\" fill=\"black\" r=\"1.1\" stroke=\"black\" stroke-width=\"0\"/><circle cx=\"1232.0\" cy=\"26.4\" fill=\"black\" r=\"1.1\" stroke=\"black\" stroke-width=\"0\"/><text alignment-baseline=\"middle\" fill=\"white\" font-family=\"Futura\" font-size=\"9.24\" text-anchor=\"middle\" x=\"1221.0\" y=\"27.72\">177</text><rect fill=\"black\" height=\"15.84\" width=\"19.8\" x=\"1233.1\" y=\"18.48\"/><circle cx=\"1232.0\" cy=\"26.4\" fill=\"black\" r=\"1.1\" stroke=\"black\" stroke-width=\"0\"/><circle cx=\"1254.0\" cy=\"26.4\" fill=\"black\" r=\"1.1\" stroke=\"black\" stroke-width=\"0\"/><text alignment-baseline=\"middle\" fill=\"white\" font-family=\"Futura\" font-size=\"9.24\" text-anchor=\"middle\" x=\"1243.0\" y=\"27.72\">178</text><rect fill=\"black\" height=\"15.84\" width=\"19.8\" x=\"1255.1\" y=\"18.48\"/><circle cx=\"1254.0\" cy=\"26.4\" fill=\"black\" r=\"1.1\" stroke=\"black\" stroke-width=\"0\"/><circle cx=\"1276.0\" cy=\"26.4\" fill=\"black\" r=\"1.1\" stroke=\"black\" stroke-width=\"0\"/><text alignment-baseline=\"middle\" fill=\"white\" font-family=\"Futura\" font-size=\"9.24\" text-anchor=\"middle\" x=\"1265.0\" y=\"27.72\">179</text><rect fill=\"black\" height=\"15.84\" width=\"19.8\" x=\"1277.1\" y=\"18.48\"/><circle cx=\"1276.0\" cy=\"26.4\" fill=\"black\" r=\"1.1\" stroke=\"black\" stroke-width=\"0\"/><circle cx=\"1298.0\" cy=\"26.4\" fill=\"black\" r=\"1.1\" stroke=\"black\" stroke-width=\"0\"/><text alignment-baseline=\"middle\" fill=\"white\" font-family=\"Futura\" font-size=\"9.24\" text-anchor=\"middle\" x=\"1287.0\" y=\"27.72\">180</text><rect fill=\"black\" height=\"15.84\" width=\"19.8\" x=\"1299.1\" y=\"18.48\"/><circle cx=\"1298.0\" cy=\"26.4\" fill=\"black\" r=\"1.1\" stroke=\"black\" stroke-width=\"0\"/><circle cx=\"1320.0\" cy=\"26.4\" fill=\"black\" r=\"1.1\" stroke=\"black\" stroke-width=\"0\"/><text alignment-baseline=\"middle\" fill=\"white\" font-family=\"Futura\" font-size=\"9.24\" text-anchor=\"middle\" x=\"1309.0\" y=\"27.72\">181</text><rect fill=\"black\" height=\"15.84\" width=\"19.8\" x=\"1321.1\" y=\"18.48\"/><circle cx=\"1320.0\" cy=\"26.4\" fill=\"black\" r=\"1.1\" stroke=\"black\" stroke-width=\"0\"/><circle cx=\"1342.0\" cy=\"26.4\" fill=\"black\" r=\"1.1\" stroke=\"black\" stroke-width=\"0\"/><text alignment-baseline=\"middle\" fill=\"white\" font-family=\"Futura\" font-size=\"9.24\" text-anchor=\"middle\" x=\"1331.0\" y=\"27.72\">182</text><rect fill=\"black\" height=\"15.84\" width=\"19.8\" x=\"1343.1\" y=\"18.48\"/><circle cx=\"1342.0\" cy=\"26.4\" fill=\"black\" r=\"1.1\" stroke=\"black\" stroke-width=\"0\"/><text alignment-baseline=\"middle\" fill=\"white\" font-family=\"Futura\" font-size=\"9.24\" text-anchor=\"middle\" x=\"1353.0\" y=\"27.72\">183</text><line stroke=\"red\" stroke-width=\"1.32\" x1=\"220.0\" x2=\"220.0\" y1=\"27.72\" y2=\"77.88\"/><text alignment-baseline=\"middle\" fill=\"black\" font-family=\"Futura\" font-size=\"9.24\" text-anchor=\"start\" x=\"884.4\" y=\"80.52\">4f</text><rect fill=\"red\" height=\"15.84\" width=\"19.8\" x=\"221.1\" y=\"71.28\"/><circle cx=\"220.0\" cy=\"79.2\" fill=\"red\" r=\"1.1\" stroke=\"red\" stroke-width=\"0\"/><circle cx=\"242.0\" cy=\"79.2\" fill=\"red\" r=\"1.1\" stroke=\"red\" stroke-width=\"0\"/><text alignment-baseline=\"middle\" fill=\"white\" font-family=\"Futura\" font-size=\"9.24\" text-anchor=\"middle\" x=\"231.0\" y=\"80.52\">184</text><rect fill=\"red\" height=\"15.84\" width=\"19.8\" x=\"243.1\" y=\"71.28\"/><circle cx=\"242.0\" cy=\"79.2\" fill=\"red\" r=\"1.1\" stroke=\"red\" stroke-width=\"0\"/><circle cx=\"264.0\" cy=\"79.2\" fill=\"red\" r=\"1.1\" stroke=\"red\" stroke-width=\"0\"/><text alignment-baseline=\"middle\" fill=\"white\" font-family=\"Futura\" font-size=\"9.24\" text-anchor=\"middle\" x=\"253.0\" y=\"80.52\">185</text><rect fill=\"red\" height=\"15.84\" width=\"19.8\" x=\"265.1\" y=\"71.28\"/><circle cx=\"264.0\" cy=\"79.2\" fill=\"red\" r=\"1.1\" stroke=\"red\" stroke-width=\"0\"/><circle cx=\"286.0\" cy=\"79.2\" fill=\"red\" r=\"1.1\" stroke=\"red\" stroke-width=\"0\"/><text alignment-baseline=\"middle\" fill=\"white\" font-family=\"Futura\" font-size=\"9.24\" text-anchor=\"middle\" x=\"275.0\" y=\"80.52\">186</text><rect fill=\"red\" height=\"15.84\" width=\"19.8\" x=\"287.1\" y=\"71.28\"/><circle cx=\"286.0\" cy=\"79.2\" fill=\"red\" r=\"1.1\" stroke=\"red\" stroke-width=\"0\"/><circle cx=\"308.0\" cy=\"79.2\" fill=\"red\" r=\"1.1\" stroke=\"red\" stroke-width=\"0\"/><text alignment-baseline=\"middle\" fill=\"white\" font-family=\"Futura\" font-size=\"9.24\" text-anchor=\"middle\" x=\"297.0\" y=\"80.52\">187</text><rect fill=\"red\" height=\"15.84\" width=\"19.8\" x=\"309.1\" y=\"71.28\"/><circle cx=\"308.0\" cy=\"79.2\" fill=\"red\" r=\"1.1\" stroke=\"red\" stroke-width=\"0\"/><circle cx=\"330.0\" cy=\"79.2\" fill=\"red\" r=\"1.1\" stroke=\"red\" stroke-width=\"0\"/><text alignment-baseline=\"middle\" fill=\"white\" font-family=\"Futura\" font-size=\"9.24\" text-anchor=\"middle\" x=\"319.0\" y=\"80.52\">188</text><rect fill=\"red\" height=\"15.84\" width=\"19.8\" x=\"331.1\" y=\"71.28\"/><circle cx=\"330.0\" cy=\"79.2\" fill=\"red\" r=\"1.1\" stroke=\"red\" stroke-width=\"0\"/><circle cx=\"352.0\" cy=\"79.2\" fill=\"red\" r=\"1.1\" stroke=\"red\" stroke-width=\"0\"/><text alignment-baseline=\"middle\" fill=\"white\" font-family=\"Futura\" font-size=\"9.24\" text-anchor=\"middle\" x=\"341.0\" y=\"80.52\">189</text><rect fill=\"red\" height=\"15.84\" width=\"19.8\" x=\"353.1\" y=\"71.28\"/><circle cx=\"352.0\" cy=\"79.2\" fill=\"red\" r=\"1.1\" stroke=\"red\" stroke-width=\"0\"/><circle cx=\"374.0\" cy=\"79.2\" fill=\"red\" r=\"1.1\" stroke=\"red\" stroke-width=\"0\"/><text alignment-baseline=\"middle\" fill=\"white\" font-family=\"Futura\" font-size=\"9.24\" text-anchor=\"middle\" x=\"363.0\" y=\"80.52\">190</text><rect fill=\"red\" height=\"15.84\" width=\"19.8\" x=\"375.1\" y=\"71.28\"/><circle cx=\"374.0\" cy=\"79.2\" fill=\"red\" r=\"1.1\" stroke=\"red\" stroke-width=\"0\"/><circle cx=\"396.0\" cy=\"79.2\" fill=\"red\" r=\"1.1\" stroke=\"red\" stroke-width=\"0\"/><text alignment-baseline=\"middle\" fill=\"white\" font-family=\"Futura\" font-size=\"9.24\" text-anchor=\"middle\" x=\"385.0\" y=\"80.52\">191</text><rect fill=\"red\" height=\"15.84\" width=\"19.8\" x=\"397.1\" y=\"71.28\"/><circle cx=\"396.0\" cy=\"79.2\" fill=\"red\" r=\"1.1\" stroke=\"red\" stroke-width=\"0\"/><circle cx=\"418.0\" cy=\"79.2\" fill=\"red\" r=\"1.1\" stroke=\"red\" stroke-width=\"0\"/><text alignment-baseline=\"middle\" fill=\"white\" font-family=\"Futura\" font-size=\"9.24\" text-anchor=\"middle\" x=\"407.0\" y=\"80.52\">192</text><rect fill=\"red\" height=\"15.84\" width=\"19.8\" x=\"419.1\" y=\"71.28\"/><circle cx=\"418.0\" cy=\"79.2\" fill=\"red\" r=\"1.1\" stroke=\"red\" stroke-width=\"0\"/><circle cx=\"440.0\" cy=\"79.2\" fill=\"red\" r=\"1.1\" stroke=\"red\" stroke-width=\"0\"/><text alignment-baseline=\"middle\" fill=\"white\" font-family=\"Futura\" font-size=\"9.24\" text-anchor=\"middle\" x=\"429.0\" y=\"80.52\">193</text><rect fill=\"red\" height=\"15.84\" width=\"19.8\" x=\"441.1\" y=\"71.28\"/><circle cx=\"440.0\" cy=\"79.2\" fill=\"red\" r=\"1.1\" stroke=\"red\" stroke-width=\"0\"/><circle cx=\"462.0\" cy=\"79.2\" fill=\"red\" r=\"1.1\" stroke=\"red\" stroke-width=\"0\"/><text alignment-baseline=\"middle\" fill=\"white\" font-family=\"Futura\" font-size=\"9.24\" text-anchor=\"middle\" x=\"451.0\" y=\"80.52\">194</text><rect fill=\"red\" height=\"15.84\" width=\"19.8\" x=\"463.1\" y=\"71.28\"/><circle cx=\"462.0\" cy=\"79.2\" fill=\"red\" r=\"1.1\" stroke=\"red\" stroke-width=\"0\"/><circle cx=\"484.0\" cy=\"79.2\" fill=\"red\" r=\"1.1\" stroke=\"red\" stroke-width=\"0\"/><text alignment-baseline=\"middle\" fill=\"white\" font-family=\"Futura\" font-size=\"9.24\" text-anchor=\"middle\" x=\"473.0\" y=\"80.52\">195</text><rect fill=\"red\" height=\"15.84\" width=\"19.8\" x=\"485.1\" y=\"71.28\"/><circle cx=\"484.0\" cy=\"79.2\" fill=\"red\" r=\"1.1\" stroke=\"red\" stroke-width=\"0\"/><circle cx=\"506.0\" cy=\"79.2\" fill=\"red\" r=\"1.1\" stroke=\"red\" stroke-width=\"0\"/><text alignment-baseline=\"middle\" fill=\"white\" font-family=\"Futura\" font-size=\"9.24\" text-anchor=\"middle\" x=\"495.0\" y=\"80.52\">196</text><rect fill=\"red\" height=\"15.84\" width=\"19.8\" x=\"507.1\" y=\"71.28\"/><circle cx=\"506.0\" cy=\"79.2\" fill=\"red\" r=\"1.1\" stroke=\"red\" stroke-width=\"0\"/><circle cx=\"528.0\" cy=\"79.2\" fill=\"red\" r=\"1.1\" stroke=\"red\" stroke-width=\"0\"/><text alignment-baseline=\"middle\" fill=\"white\" font-family=\"Futura\" font-size=\"9.24\" text-anchor=\"middle\" x=\"517.0\" y=\"80.52\">197</text><rect fill=\"red\" height=\"15.84\" width=\"19.8\" x=\"529.1\" y=\"71.28\"/><circle cx=\"528.0\" cy=\"79.2\" fill=\"red\" r=\"1.1\" stroke=\"red\" stroke-width=\"0\"/><circle cx=\"550.0\" cy=\"79.2\" fill=\"red\" r=\"1.1\" stroke=\"red\" stroke-width=\"0\"/><text alignment-baseline=\"middle\" fill=\"white\" font-family=\"Futura\" font-size=\"9.24\" text-anchor=\"middle\" x=\"539.0\" y=\"80.52\">198</text><rect fill=\"red\" height=\"15.84\" width=\"19.8\" x=\"551.1\" y=\"71.28\"/><circle cx=\"550.0\" cy=\"79.2\" fill=\"red\" r=\"1.1\" stroke=\"red\" stroke-width=\"0\"/><circle cx=\"572.0\" cy=\"79.2\" fill=\"red\" r=\"1.1\" stroke=\"red\" stroke-width=\"0\"/><text alignment-baseline=\"middle\" fill=\"white\" font-family=\"Futura\" font-size=\"9.24\" text-anchor=\"middle\" x=\"561.0\" y=\"80.52\">199</text><rect fill=\"red\" height=\"15.84\" width=\"19.8\" x=\"573.1\" y=\"71.28\"/><circle cx=\"572.0\" cy=\"79.2\" fill=\"red\" r=\"1.1\" stroke=\"red\" stroke-width=\"0\"/><circle cx=\"594.0\" cy=\"79.2\" fill=\"red\" r=\"1.1\" stroke=\"red\" stroke-width=\"0\"/><text alignment-baseline=\"middle\" fill=\"white\" font-family=\"Futura\" font-size=\"9.24\" text-anchor=\"middle\" x=\"583.0\" y=\"80.52\">200</text><rect fill=\"red\" height=\"15.84\" width=\"19.8\" x=\"595.1\" y=\"71.28\"/><circle cx=\"594.0\" cy=\"79.2\" fill=\"red\" r=\"1.1\" stroke=\"red\" stroke-width=\"0\"/><circle cx=\"616.0\" cy=\"79.2\" fill=\"red\" r=\"1.1\" stroke=\"red\" stroke-width=\"0\"/><text alignment-baseline=\"middle\" fill=\"white\" font-family=\"Futura\" font-size=\"9.24\" text-anchor=\"middle\" x=\"605.0\" y=\"80.52\">201</text><rect fill=\"red\" height=\"15.84\" width=\"19.8\" x=\"617.1\" y=\"71.28\"/><circle cx=\"616.0\" cy=\"79.2\" fill=\"red\" r=\"1.1\" stroke=\"red\" stroke-width=\"0\"/><circle cx=\"638.0\" cy=\"79.2\" fill=\"red\" r=\"1.1\" stroke=\"red\" stroke-width=\"0\"/><text alignment-baseline=\"middle\" fill=\"white\" font-family=\"Futura\" font-size=\"9.24\" text-anchor=\"middle\" x=\"627.0\" y=\"80.52\">202</text><rect fill=\"red\" height=\"15.84\" width=\"19.8\" x=\"639.1\" y=\"71.28\"/><circle cx=\"638.0\" cy=\"79.2\" fill=\"red\" r=\"1.1\" stroke=\"red\" stroke-width=\"0\"/><circle cx=\"660.0\" cy=\"79.2\" fill=\"red\" r=\"1.1\" stroke=\"red\" stroke-width=\"0\"/><text alignment-baseline=\"middle\" fill=\"white\" font-family=\"Futura\" font-size=\"9.24\" text-anchor=\"middle\" x=\"649.0\" y=\"80.52\">203</text><rect fill=\"red\" height=\"15.84\" width=\"19.8\" x=\"661.1\" y=\"71.28\"/><circle cx=\"660.0\" cy=\"79.2\" fill=\"red\" r=\"1.1\" stroke=\"red\" stroke-width=\"0\"/><circle cx=\"682.0\" cy=\"79.2\" fill=\"red\" r=\"1.1\" stroke=\"red\" stroke-width=\"0\"/><text alignment-baseline=\"middle\" fill=\"white\" font-family=\"Futura\" font-size=\"9.24\" text-anchor=\"middle\" x=\"671.0\" y=\"80.52\">204</text><rect fill=\"red\" height=\"15.84\" width=\"19.8\" x=\"683.1\" y=\"71.28\"/><circle cx=\"682.0\" cy=\"79.2\" fill=\"red\" r=\"1.1\" stroke=\"red\" stroke-width=\"0\"/><circle cx=\"704.0\" cy=\"79.2\" fill=\"red\" r=\"1.1\" stroke=\"red\" stroke-width=\"0\"/><text alignment-baseline=\"middle\" fill=\"white\" font-family=\"Futura\" font-size=\"9.24\" text-anchor=\"middle\" x=\"693.0\" y=\"80.52\">205</text><rect fill=\"red\" height=\"15.84\" width=\"19.8\" x=\"705.1\" y=\"71.28\"/><circle cx=\"704.0\" cy=\"79.2\" fill=\"red\" r=\"1.1\" stroke=\"red\" stroke-width=\"0\"/><circle cx=\"726.0\" cy=\"79.2\" fill=\"red\" r=\"1.1\" stroke=\"red\" stroke-width=\"0\"/><text alignment-baseline=\"middle\" fill=\"white\" font-family=\"Futura\" font-size=\"9.24\" text-anchor=\"middle\" x=\"715.0\" y=\"80.52\">206</text><rect fill=\"red\" height=\"15.84\" width=\"19.8\" x=\"727.1\" y=\"71.28\"/><circle cx=\"726.0\" cy=\"79.2\" fill=\"red\" r=\"1.1\" stroke=\"red\" stroke-width=\"0\"/><circle cx=\"748.0\" cy=\"79.2\" fill=\"red\" r=\"1.1\" stroke=\"red\" stroke-width=\"0\"/><text alignment-baseline=\"middle\" fill=\"white\" font-family=\"Futura\" font-size=\"9.24\" text-anchor=\"middle\" x=\"737.0\" y=\"80.52\">207</text><rect fill=\"red\" height=\"15.84\" width=\"19.8\" x=\"749.1\" y=\"71.28\"/><circle cx=\"748.0\" cy=\"79.2\" fill=\"red\" r=\"1.1\" stroke=\"red\" stroke-width=\"0\"/><circle cx=\"770.0\" cy=\"79.2\" fill=\"red\" r=\"1.1\" stroke=\"red\" stroke-width=\"0\"/><text alignment-baseline=\"middle\" fill=\"white\" font-family=\"Futura\" font-size=\"9.24\" text-anchor=\"middle\" x=\"759.0\" y=\"80.52\">208</text><rect fill=\"red\" height=\"15.84\" width=\"19.8\" x=\"771.1\" y=\"71.28\"/><circle cx=\"770.0\" cy=\"79.2\" fill=\"red\" r=\"1.1\" stroke=\"red\" stroke-width=\"0\"/><circle cx=\"792.0\" cy=\"79.2\" fill=\"red\" r=\"1.1\" stroke=\"red\" stroke-width=\"0\"/><text alignment-baseline=\"middle\" fill=\"white\" font-family=\"Futura\" font-size=\"9.24\" text-anchor=\"middle\" x=\"781.0\" y=\"80.52\">209</text><rect fill=\"red\" height=\"15.84\" width=\"19.8\" x=\"793.1\" y=\"71.28\"/><circle cx=\"792.0\" cy=\"79.2\" fill=\"red\" r=\"1.1\" stroke=\"red\" stroke-width=\"0\"/><circle cx=\"814.0\" cy=\"79.2\" fill=\"red\" r=\"1.1\" stroke=\"red\" stroke-width=\"0\"/><text alignment-baseline=\"middle\" fill=\"white\" font-family=\"Futura\" font-size=\"9.24\" text-anchor=\"middle\" x=\"803.0\" y=\"80.52\">210</text><rect fill=\"red\" height=\"15.84\" width=\"19.8\" x=\"815.1\" y=\"71.28\"/><circle cx=\"814.0\" cy=\"79.2\" fill=\"red\" r=\"1.1\" stroke=\"red\" stroke-width=\"0\"/><circle cx=\"836.0\" cy=\"79.2\" fill=\"red\" r=\"1.1\" stroke=\"red\" stroke-width=\"0\"/><text alignment-baseline=\"middle\" fill=\"white\" font-family=\"Futura\" font-size=\"9.24\" text-anchor=\"middle\" x=\"825.0\" y=\"80.52\">211</text><rect fill=\"red\" height=\"15.84\" width=\"19.8\" x=\"837.1\" y=\"71.28\"/><circle cx=\"836.0\" cy=\"79.2\" fill=\"red\" r=\"1.1\" stroke=\"red\" stroke-width=\"0\"/><circle cx=\"858.0\" cy=\"79.2\" fill=\"red\" r=\"1.1\" stroke=\"red\" stroke-width=\"0\"/><text alignment-baseline=\"middle\" fill=\"white\" font-family=\"Futura\" font-size=\"9.24\" text-anchor=\"middle\" x=\"847.0\" y=\"80.52\">212</text><rect fill=\"red\" height=\"15.84\" width=\"19.8\" x=\"859.1\" y=\"71.28\"/><circle cx=\"858.0\" cy=\"79.2\" fill=\"red\" r=\"1.1\" stroke=\"red\" stroke-width=\"0\"/><text alignment-baseline=\"middle\" fill=\"white\" font-family=\"Futura\" font-size=\"9.24\" text-anchor=\"middle\" x=\"869.0\" y=\"80.52\">213</text><line stroke=\"red\" stroke-width=\"1.32\" x1=\"660.0\" x2=\"660.0\" y1=\"80.52\" y2=\"130.68\"/><text alignment-baseline=\"middle\" fill=\"black\" font-family=\"Futura\" font-size=\"9.24\" text-anchor=\"start\" x=\"2820.4\" y=\"133.32\">5f</text><rect fill=\"red\" height=\"15.84\" width=\"19.8\" x=\"661.1\" y=\"124.08\"/><circle cx=\"660.0\" cy=\"132.0\" fill=\"red\" r=\"1.1\" stroke=\"red\" stroke-width=\"0\"/><circle cx=\"682.0\" cy=\"132.0\" fill=\"red\" r=\"1.1\" stroke=\"red\" stroke-width=\"0\"/><text alignment-baseline=\"middle\" fill=\"white\" font-family=\"Futura\" font-size=\"9.24\" text-anchor=\"middle\" x=\"671.0\" y=\"133.32\">214</text><rect fill=\"red\" height=\"15.84\" width=\"19.8\" x=\"683.1\" y=\"124.08\"/><circle cx=\"682.0\" cy=\"132.0\" fill=\"red\" r=\"1.1\" stroke=\"red\" stroke-width=\"0\"/><circle cx=\"704.0\" cy=\"132.0\" fill=\"red\" r=\"1.1\" stroke=\"red\" stroke-width=\"0\"/><text alignment-baseline=\"middle\" fill=\"white\" font-family=\"Futura\" font-size=\"9.24\" text-anchor=\"middle\" x=\"693.0\" y=\"133.32\">215</text><rect fill=\"red\" height=\"15.84\" width=\"19.8\" x=\"705.1\" y=\"124.08\"/><circle cx=\"704.0\" cy=\"132.0\" fill=\"red\" r=\"1.1\" stroke=\"red\" stroke-width=\"0\"/><circle cx=\"726.0\" cy=\"132.0\" fill=\"red\" r=\"1.1\" stroke=\"red\" stroke-width=\"0\"/><text alignment-baseline=\"middle\" fill=\"white\" font-family=\"Futura\" font-size=\"9.24\" text-anchor=\"middle\" x=\"715.0\" y=\"133.32\">216</text><rect fill=\"red\" height=\"15.84\" width=\"19.8\" x=\"727.1\" y=\"124.08\"/><circle cx=\"726.0\" cy=\"132.0\" fill=\"red\" r=\"1.1\" stroke=\"red\" stroke-width=\"0\"/><circle cx=\"748.0\" cy=\"132.0\" fill=\"red\" r=\"1.1\" stroke=\"red\" stroke-width=\"0\"/><text alignment-baseline=\"middle\" fill=\"white\" font-family=\"Futura\" font-size=\"9.24\" text-anchor=\"middle\" x=\"737.0\" y=\"133.32\">217</text><rect fill=\"red\" height=\"15.84\" width=\"19.8\" x=\"749.1\" y=\"124.08\"/><circle cx=\"748.0\" cy=\"132.0\" fill=\"red\" r=\"1.1\" stroke=\"red\" stroke-width=\"0\"/><circle cx=\"770.0\" cy=\"132.0\" fill=\"red\" r=\"1.1\" stroke=\"red\" stroke-width=\"0\"/><text alignment-baseline=\"middle\" fill=\"white\" font-family=\"Futura\" font-size=\"9.24\" text-anchor=\"middle\" x=\"759.0\" y=\"133.32\">218</text><rect fill=\"red\" height=\"15.84\" width=\"19.8\" x=\"771.1\" y=\"124.08\"/><circle cx=\"770.0\" cy=\"132.0\" fill=\"red\" r=\"1.1\" stroke=\"red\" stroke-width=\"0\"/><circle cx=\"792.0\" cy=\"132.0\" fill=\"red\" r=\"1.1\" stroke=\"red\" stroke-width=\"0\"/><text alignment-baseline=\"middle\" fill=\"white\" font-family=\"Futura\" font-size=\"9.24\" text-anchor=\"middle\" x=\"781.0\" y=\"133.32\">219</text><rect fill=\"red\" height=\"15.84\" width=\"19.8\" x=\"793.1\" y=\"124.08\"/><circle cx=\"792.0\" cy=\"132.0\" fill=\"red\" r=\"1.1\" stroke=\"red\" stroke-width=\"0\"/><circle cx=\"814.0\" cy=\"132.0\" fill=\"red\" r=\"1.1\" stroke=\"red\" stroke-width=\"0\"/><text alignment-baseline=\"middle\" fill=\"white\" font-family=\"Futura\" font-size=\"9.24\" text-anchor=\"middle\" x=\"803.0\" y=\"133.32\">220</text><rect fill=\"red\" height=\"15.84\" width=\"19.8\" x=\"815.1\" y=\"124.08\"/><circle cx=\"814.0\" cy=\"132.0\" fill=\"red\" r=\"1.1\" stroke=\"red\" stroke-width=\"0\"/><circle cx=\"836.0\" cy=\"132.0\" fill=\"red\" r=\"1.1\" stroke=\"red\" stroke-width=\"0\"/><text alignment-baseline=\"middle\" fill=\"white\" font-family=\"Futura\" font-size=\"9.24\" text-anchor=\"middle\" x=\"825.0\" y=\"133.32\">221</text><rect fill=\"red\" height=\"15.84\" width=\"19.8\" x=\"837.1\" y=\"124.08\"/><circle cx=\"836.0\" cy=\"132.0\" fill=\"red\" r=\"1.1\" stroke=\"red\" stroke-width=\"0\"/><circle cx=\"858.0\" cy=\"132.0\" fill=\"red\" r=\"1.1\" stroke=\"red\" stroke-width=\"0\"/><text alignment-baseline=\"middle\" fill=\"white\" font-family=\"Futura\" font-size=\"9.24\" text-anchor=\"middle\" x=\"847.0\" y=\"133.32\">222</text><rect fill=\"red\" height=\"15.84\" width=\"19.8\" x=\"859.1\" y=\"124.08\"/><circle cx=\"858.0\" cy=\"132.0\" fill=\"red\" r=\"1.1\" stroke=\"red\" stroke-width=\"0\"/><circle cx=\"880.0\" cy=\"132.0\" fill=\"red\" r=\"1.1\" stroke=\"red\" stroke-width=\"0\"/><text alignment-baseline=\"middle\" fill=\"white\" font-family=\"Futura\" font-size=\"9.24\" text-anchor=\"middle\" x=\"869.0\" y=\"133.32\">223</text><rect fill=\"red\" height=\"15.84\" width=\"19.8\" x=\"881.1\" y=\"124.08\"/><circle cx=\"880.0\" cy=\"132.0\" fill=\"red\" r=\"1.1\" stroke=\"red\" stroke-width=\"0\"/><circle cx=\"902.0\" cy=\"132.0\" fill=\"red\" r=\"1.1\" stroke=\"red\" stroke-width=\"0\"/><text alignment-baseline=\"middle\" fill=\"white\" font-family=\"Futura\" font-size=\"9.24\" text-anchor=\"middle\" x=\"891.0\" y=\"133.32\">224</text><rect fill=\"red\" height=\"15.84\" width=\"19.8\" x=\"903.1\" y=\"124.08\"/><circle cx=\"902.0\" cy=\"132.0\" fill=\"red\" r=\"1.1\" stroke=\"red\" stroke-width=\"0\"/><circle cx=\"924.0\" cy=\"132.0\" fill=\"red\" r=\"1.1\" stroke=\"red\" stroke-width=\"0\"/><text alignment-baseline=\"middle\" fill=\"white\" font-family=\"Futura\" font-size=\"9.24\" text-anchor=\"middle\" x=\"913.0\" y=\"133.32\">225</text><rect fill=\"red\" height=\"15.84\" width=\"19.8\" x=\"925.1\" y=\"124.08\"/><circle cx=\"924.0\" cy=\"132.0\" fill=\"red\" r=\"1.1\" stroke=\"red\" stroke-width=\"0\"/><circle cx=\"946.0\" cy=\"132.0\" fill=\"red\" r=\"1.1\" stroke=\"red\" stroke-width=\"0\"/><text alignment-baseline=\"middle\" fill=\"white\" font-family=\"Futura\" font-size=\"9.24\" text-anchor=\"middle\" x=\"935.0\" y=\"133.32\">226</text><rect fill=\"red\" height=\"15.84\" width=\"19.8\" x=\"947.1\" y=\"124.08\"/><circle cx=\"946.0\" cy=\"132.0\" fill=\"red\" r=\"1.1\" stroke=\"red\" stroke-width=\"0\"/><circle cx=\"968.0\" cy=\"132.0\" fill=\"red\" r=\"1.1\" stroke=\"red\" stroke-width=\"0\"/><text alignment-baseline=\"middle\" fill=\"white\" font-family=\"Futura\" font-size=\"9.24\" text-anchor=\"middle\" x=\"957.0\" y=\"133.32\">227</text><rect fill=\"red\" height=\"15.84\" width=\"19.8\" x=\"969.1\" y=\"124.08\"/><circle cx=\"968.0\" cy=\"132.0\" fill=\"red\" r=\"1.1\" stroke=\"red\" stroke-width=\"0\"/><circle cx=\"990.0\" cy=\"132.0\" fill=\"red\" r=\"1.1\" stroke=\"red\" stroke-width=\"0\"/><text alignment-baseline=\"middle\" fill=\"white\" font-family=\"Futura\" font-size=\"9.24\" text-anchor=\"middle\" x=\"979.0\" y=\"133.32\">228</text><rect fill=\"red\" height=\"15.84\" width=\"19.8\" x=\"991.1\" y=\"124.08\"/><circle cx=\"990.0\" cy=\"132.0\" fill=\"red\" r=\"1.1\" stroke=\"red\" stroke-width=\"0\"/><circle cx=\"1012.0\" cy=\"132.0\" fill=\"red\" r=\"1.1\" stroke=\"red\" stroke-width=\"0\"/><text alignment-baseline=\"middle\" fill=\"white\" font-family=\"Futura\" font-size=\"9.24\" text-anchor=\"middle\" x=\"1001.0\" y=\"133.32\">229</text><rect fill=\"red\" height=\"15.84\" width=\"19.8\" x=\"1013.1\" y=\"124.08\"/><circle cx=\"1012.0\" cy=\"132.0\" fill=\"red\" r=\"1.1\" stroke=\"red\" stroke-width=\"0\"/><circle cx=\"1034.0\" cy=\"132.0\" fill=\"red\" r=\"1.1\" stroke=\"red\" stroke-width=\"0\"/><text alignment-baseline=\"middle\" fill=\"white\" font-family=\"Futura\" font-size=\"9.24\" text-anchor=\"middle\" x=\"1023.0\" y=\"133.32\">230</text><rect fill=\"red\" height=\"15.84\" width=\"19.8\" x=\"1035.1\" y=\"124.08\"/><circle cx=\"1034.0\" cy=\"132.0\" fill=\"red\" r=\"1.1\" stroke=\"red\" stroke-width=\"0\"/><circle cx=\"1056.0\" cy=\"132.0\" fill=\"red\" r=\"1.1\" stroke=\"red\" stroke-width=\"0\"/><text alignment-baseline=\"middle\" fill=\"white\" font-family=\"Futura\" font-size=\"9.24\" text-anchor=\"middle\" x=\"1045.0\" y=\"133.32\">231</text><rect fill=\"red\" height=\"15.84\" width=\"19.8\" x=\"1057.1\" y=\"124.08\"/><circle cx=\"1056.0\" cy=\"132.0\" fill=\"red\" r=\"1.1\" stroke=\"red\" stroke-width=\"0\"/><circle cx=\"1078.0\" cy=\"132.0\" fill=\"red\" r=\"1.1\" stroke=\"red\" stroke-width=\"0\"/><text alignment-baseline=\"middle\" fill=\"white\" font-family=\"Futura\" font-size=\"9.24\" text-anchor=\"middle\" x=\"1067.0\" y=\"133.32\">232</text><rect fill=\"red\" height=\"15.84\" width=\"19.8\" x=\"1079.1\" y=\"124.08\"/><circle cx=\"1078.0\" cy=\"132.0\" fill=\"red\" r=\"1.1\" stroke=\"red\" stroke-width=\"0\"/><circle cx=\"1100.0\" cy=\"132.0\" fill=\"red\" r=\"1.1\" stroke=\"red\" stroke-width=\"0\"/><text alignment-baseline=\"middle\" fill=\"white\" font-family=\"Futura\" font-size=\"9.24\" text-anchor=\"middle\" x=\"1089.0\" y=\"133.32\">233</text><rect fill=\"red\" height=\"15.84\" width=\"19.8\" x=\"1101.1\" y=\"124.08\"/><circle cx=\"1100.0\" cy=\"132.0\" fill=\"red\" r=\"1.1\" stroke=\"red\" stroke-width=\"0\"/><circle cx=\"1122.0\" cy=\"132.0\" fill=\"red\" r=\"1.1\" stroke=\"red\" stroke-width=\"0\"/><text alignment-baseline=\"middle\" fill=\"white\" font-family=\"Futura\" font-size=\"9.24\" text-anchor=\"middle\" x=\"1111.0\" y=\"133.32\">234</text><rect fill=\"red\" height=\"15.84\" width=\"19.8\" x=\"1123.1\" y=\"124.08\"/><circle cx=\"1122.0\" cy=\"132.0\" fill=\"red\" r=\"1.1\" stroke=\"red\" stroke-width=\"0\"/><circle cx=\"1144.0\" cy=\"132.0\" fill=\"red\" r=\"1.1\" stroke=\"red\" stroke-width=\"0\"/><text alignment-baseline=\"middle\" fill=\"white\" font-family=\"Futura\" font-size=\"9.24\" text-anchor=\"middle\" x=\"1133.0\" y=\"133.32\">235</text><rect fill=\"red\" height=\"15.84\" width=\"19.8\" x=\"1145.1\" y=\"124.08\"/><circle cx=\"1144.0\" cy=\"132.0\" fill=\"red\" r=\"1.1\" stroke=\"red\" stroke-width=\"0\"/><circle cx=\"1166.0\" cy=\"132.0\" fill=\"red\" r=\"1.1\" stroke=\"red\" stroke-width=\"0\"/><text alignment-baseline=\"middle\" fill=\"white\" font-family=\"Futura\" font-size=\"9.24\" text-anchor=\"middle\" x=\"1155.0\" y=\"133.32\">236</text><rect fill=\"red\" height=\"15.84\" width=\"19.8\" x=\"1167.1\" y=\"124.08\"/><circle cx=\"1166.0\" cy=\"132.0\" fill=\"red\" r=\"1.1\" stroke=\"red\" stroke-width=\"0\"/><circle cx=\"1188.0\" cy=\"132.0\" fill=\"red\" r=\"1.1\" stroke=\"red\" stroke-width=\"0\"/><text alignment-baseline=\"middle\" fill=\"white\" font-family=\"Futura\" font-size=\"9.24\" text-anchor=\"middle\" x=\"1177.0\" y=\"133.32\">237</text><rect fill=\"red\" height=\"15.84\" width=\"19.8\" x=\"1189.1\" y=\"124.08\"/><circle cx=\"1188.0\" cy=\"132.0\" fill=\"red\" r=\"1.1\" stroke=\"red\" stroke-width=\"0\"/><circle cx=\"1210.0\" cy=\"132.0\" fill=\"red\" r=\"1.1\" stroke=\"red\" stroke-width=\"0\"/><text alignment-baseline=\"middle\" fill=\"white\" font-family=\"Futura\" font-size=\"9.24\" text-anchor=\"middle\" x=\"1199.0\" y=\"133.32\">238</text><rect fill=\"red\" height=\"15.84\" width=\"19.8\" x=\"1211.1\" y=\"124.08\"/><circle cx=\"1210.0\" cy=\"132.0\" fill=\"red\" r=\"1.1\" stroke=\"red\" stroke-width=\"0\"/><circle cx=\"1232.0\" cy=\"132.0\" fill=\"red\" r=\"1.1\" stroke=\"red\" stroke-width=\"0\"/><text alignment-baseline=\"middle\" fill=\"white\" font-family=\"Futura\" font-size=\"9.24\" text-anchor=\"middle\" x=\"1221.0\" y=\"133.32\">239</text><rect fill=\"red\" height=\"15.84\" width=\"19.8\" x=\"1233.1\" y=\"124.08\"/><circle cx=\"1232.0\" cy=\"132.0\" fill=\"red\" r=\"1.1\" stroke=\"red\" stroke-width=\"0\"/><circle cx=\"1254.0\" cy=\"132.0\" fill=\"red\" r=\"1.1\" stroke=\"red\" stroke-width=\"0\"/><text alignment-baseline=\"middle\" fill=\"white\" font-family=\"Futura\" font-size=\"9.24\" text-anchor=\"middle\" x=\"1243.0\" y=\"133.32\">240</text><rect fill=\"red\" height=\"15.84\" width=\"19.8\" x=\"1255.1\" y=\"124.08\"/><circle cx=\"1254.0\" cy=\"132.0\" fill=\"red\" r=\"1.1\" stroke=\"red\" stroke-width=\"0\"/><circle cx=\"1276.0\" cy=\"132.0\" fill=\"red\" r=\"1.1\" stroke=\"red\" stroke-width=\"0\"/><text alignment-baseline=\"middle\" fill=\"white\" font-family=\"Futura\" font-size=\"9.24\" text-anchor=\"middle\" x=\"1265.0\" y=\"133.32\">241</text><rect fill=\"red\" height=\"15.84\" width=\"19.8\" x=\"1277.1\" y=\"124.08\"/><circle cx=\"1276.0\" cy=\"132.0\" fill=\"red\" r=\"1.1\" stroke=\"red\" stroke-width=\"0\"/><circle cx=\"1298.0\" cy=\"132.0\" fill=\"red\" r=\"1.1\" stroke=\"red\" stroke-width=\"0\"/><text alignment-baseline=\"middle\" fill=\"white\" font-family=\"Futura\" font-size=\"9.24\" text-anchor=\"middle\" x=\"1287.0\" y=\"133.32\">242</text><rect fill=\"red\" height=\"15.84\" width=\"19.8\" x=\"1299.1\" y=\"124.08\"/><circle cx=\"1298.0\" cy=\"132.0\" fill=\"red\" r=\"1.1\" stroke=\"red\" stroke-width=\"0\"/><circle cx=\"1320.0\" cy=\"132.0\" fill=\"red\" r=\"1.1\" stroke=\"red\" stroke-width=\"0\"/><text alignment-baseline=\"middle\" fill=\"white\" font-family=\"Futura\" font-size=\"9.24\" text-anchor=\"middle\" x=\"1309.0\" y=\"133.32\">243</text><rect fill=\"red\" height=\"15.84\" width=\"19.8\" x=\"1321.1\" y=\"124.08\"/><circle cx=\"1320.0\" cy=\"132.0\" fill=\"red\" r=\"1.1\" stroke=\"red\" stroke-width=\"0\"/><circle cx=\"1342.0\" cy=\"132.0\" fill=\"red\" r=\"1.1\" stroke=\"red\" stroke-width=\"0\"/><text alignment-baseline=\"middle\" fill=\"white\" font-family=\"Futura\" font-size=\"9.24\" text-anchor=\"middle\" x=\"1331.0\" y=\"133.32\">244</text><rect fill=\"red\" height=\"15.84\" width=\"19.8\" x=\"1343.1\" y=\"124.08\"/><circle cx=\"1342.0\" cy=\"132.0\" fill=\"red\" r=\"1.1\" stroke=\"red\" stroke-width=\"0\"/><circle cx=\"1364.0\" cy=\"132.0\" fill=\"red\" r=\"1.1\" stroke=\"red\" stroke-width=\"0\"/><text alignment-baseline=\"middle\" fill=\"white\" font-family=\"Futura\" font-size=\"9.24\" text-anchor=\"middle\" x=\"1353.0\" y=\"133.32\">245</text><rect fill=\"red\" height=\"15.84\" width=\"19.8\" x=\"1365.1\" y=\"124.08\"/><circle cx=\"1364.0\" cy=\"132.0\" fill=\"red\" r=\"1.1\" stroke=\"red\" stroke-width=\"0\"/><circle cx=\"1386.0\" cy=\"132.0\" fill=\"red\" r=\"1.1\" stroke=\"red\" stroke-width=\"0\"/><text alignment-baseline=\"middle\" fill=\"white\" font-family=\"Futura\" font-size=\"9.24\" text-anchor=\"middle\" x=\"1375.0\" y=\"133.32\">246</text><rect fill=\"red\" height=\"15.84\" width=\"19.8\" x=\"1387.1\" y=\"124.08\"/><circle cx=\"1386.0\" cy=\"132.0\" fill=\"red\" r=\"1.1\" stroke=\"red\" stroke-width=\"0\"/><circle cx=\"1408.0\" cy=\"132.0\" fill=\"red\" r=\"1.1\" stroke=\"red\" stroke-width=\"0\"/><text alignment-baseline=\"middle\" fill=\"white\" font-family=\"Futura\" font-size=\"9.24\" text-anchor=\"middle\" x=\"1397.0\" y=\"133.32\">247</text><rect fill=\"red\" height=\"15.84\" width=\"19.8\" x=\"1409.1\" y=\"124.08\"/><circle cx=\"1408.0\" cy=\"132.0\" fill=\"red\" r=\"1.1\" stroke=\"red\" stroke-width=\"0\"/><circle cx=\"1430.0\" cy=\"132.0\" fill=\"red\" r=\"1.1\" stroke=\"red\" stroke-width=\"0\"/><text alignment-baseline=\"middle\" fill=\"white\" font-family=\"Futura\" font-size=\"9.24\" text-anchor=\"middle\" x=\"1419.0\" y=\"133.32\">248</text><rect fill=\"red\" height=\"15.84\" width=\"19.8\" x=\"1431.1\" y=\"124.08\"/><circle cx=\"1430.0\" cy=\"132.0\" fill=\"red\" r=\"1.1\" stroke=\"red\" stroke-width=\"0\"/><circle cx=\"1452.0\" cy=\"132.0\" fill=\"red\" r=\"1.1\" stroke=\"red\" stroke-width=\"0\"/><text alignment-baseline=\"middle\" fill=\"white\" font-family=\"Futura\" font-size=\"9.24\" text-anchor=\"middle\" x=\"1441.0\" y=\"133.32\">249</text><rect fill=\"red\" height=\"15.84\" width=\"19.8\" x=\"1453.1\" y=\"124.08\"/><circle cx=\"1452.0\" cy=\"132.0\" fill=\"red\" r=\"1.1\" stroke=\"red\" stroke-width=\"0\"/><circle cx=\"1474.0\" cy=\"132.0\" fill=\"red\" r=\"1.1\" stroke=\"red\" stroke-width=\"0\"/><text alignment-baseline=\"middle\" fill=\"white\" font-family=\"Futura\" font-size=\"9.24\" text-anchor=\"middle\" x=\"1463.0\" y=\"133.32\">250</text><rect fill=\"red\" height=\"15.84\" width=\"19.8\" x=\"1475.1\" y=\"124.08\"/><circle cx=\"1474.0\" cy=\"132.0\" fill=\"red\" r=\"1.1\" stroke=\"red\" stroke-width=\"0\"/><circle cx=\"1496.0\" cy=\"132.0\" fill=\"red\" r=\"1.1\" stroke=\"red\" stroke-width=\"0\"/><text alignment-baseline=\"middle\" fill=\"white\" font-family=\"Futura\" font-size=\"9.24\" text-anchor=\"middle\" x=\"1485.0\" y=\"133.32\">251</text><rect fill=\"red\" height=\"15.84\" width=\"19.8\" x=\"1497.1\" y=\"124.08\"/><circle cx=\"1496.0\" cy=\"132.0\" fill=\"red\" r=\"1.1\" stroke=\"red\" stroke-width=\"0\"/><circle cx=\"1518.0\" cy=\"132.0\" fill=\"red\" r=\"1.1\" stroke=\"red\" stroke-width=\"0\"/><text alignment-baseline=\"middle\" fill=\"white\" font-family=\"Futura\" font-size=\"9.24\" text-anchor=\"middle\" x=\"1507.0\" y=\"133.32\">252</text><rect fill=\"red\" height=\"15.84\" width=\"19.8\" x=\"1519.1\" y=\"124.08\"/><circle cx=\"1518.0\" cy=\"132.0\" fill=\"red\" r=\"1.1\" stroke=\"red\" stroke-width=\"0\"/><circle cx=\"1540.0\" cy=\"132.0\" fill=\"red\" r=\"1.1\" stroke=\"red\" stroke-width=\"0\"/><text alignment-baseline=\"middle\" fill=\"white\" font-family=\"Futura\" font-size=\"9.24\" text-anchor=\"middle\" x=\"1529.0\" y=\"133.32\">253</text><rect fill=\"red\" height=\"15.84\" width=\"19.8\" x=\"1541.1\" y=\"124.08\"/><circle cx=\"1540.0\" cy=\"132.0\" fill=\"red\" r=\"1.1\" stroke=\"red\" stroke-width=\"0\"/><circle cx=\"1562.0\" cy=\"132.0\" fill=\"red\" r=\"1.1\" stroke=\"red\" stroke-width=\"0\"/><text alignment-baseline=\"middle\" fill=\"white\" font-family=\"Futura\" font-size=\"9.24\" text-anchor=\"middle\" x=\"1551.0\" y=\"133.32\">254</text><rect fill=\"red\" height=\"15.84\" width=\"19.8\" x=\"1563.1\" y=\"124.08\"/><circle cx=\"1562.0\" cy=\"132.0\" fill=\"red\" r=\"1.1\" stroke=\"red\" stroke-width=\"0\"/><circle cx=\"1584.0\" cy=\"132.0\" fill=\"red\" r=\"1.1\" stroke=\"red\" stroke-width=\"0\"/><text alignment-baseline=\"middle\" fill=\"white\" font-family=\"Futura\" font-size=\"9.24\" text-anchor=\"middle\" x=\"1573.0\" y=\"133.32\">255</text><rect fill=\"red\" height=\"15.84\" width=\"19.8\" x=\"1585.1\" y=\"124.08\"/><circle cx=\"1584.0\" cy=\"132.0\" fill=\"red\" r=\"1.1\" stroke=\"red\" stroke-width=\"0\"/><circle cx=\"1606.0\" cy=\"132.0\" fill=\"red\" r=\"1.1\" stroke=\"red\" stroke-width=\"0\"/><text alignment-baseline=\"middle\" fill=\"white\" font-family=\"Futura\" font-size=\"9.24\" text-anchor=\"middle\" x=\"1595.0\" y=\"133.32\">256</text><rect fill=\"red\" height=\"15.84\" width=\"19.8\" x=\"1607.1\" y=\"124.08\"/><circle cx=\"1606.0\" cy=\"132.0\" fill=\"red\" r=\"1.1\" stroke=\"red\" stroke-width=\"0\"/><circle cx=\"1628.0\" cy=\"132.0\" fill=\"red\" r=\"1.1\" stroke=\"red\" stroke-width=\"0\"/><text alignment-baseline=\"middle\" fill=\"white\" font-family=\"Futura\" font-size=\"9.24\" text-anchor=\"middle\" x=\"1617.0\" y=\"133.32\">257</text><rect fill=\"red\" height=\"15.84\" width=\"19.8\" x=\"1629.1\" y=\"124.08\"/><circle cx=\"1628.0\" cy=\"132.0\" fill=\"red\" r=\"1.1\" stroke=\"red\" stroke-width=\"0\"/><circle cx=\"1650.0\" cy=\"132.0\" fill=\"red\" r=\"1.1\" stroke=\"red\" stroke-width=\"0\"/><text alignment-baseline=\"middle\" fill=\"white\" font-family=\"Futura\" font-size=\"9.24\" text-anchor=\"middle\" x=\"1639.0\" y=\"133.32\">258</text><rect fill=\"red\" height=\"15.84\" width=\"19.8\" x=\"1651.1\" y=\"124.08\"/><circle cx=\"1650.0\" cy=\"132.0\" fill=\"red\" r=\"1.1\" stroke=\"red\" stroke-width=\"0\"/><circle cx=\"1672.0\" cy=\"132.0\" fill=\"red\" r=\"1.1\" stroke=\"red\" stroke-width=\"0\"/><text alignment-baseline=\"middle\" fill=\"white\" font-family=\"Futura\" font-size=\"9.24\" text-anchor=\"middle\" x=\"1661.0\" y=\"133.32\">259</text><rect fill=\"red\" height=\"15.84\" width=\"19.8\" x=\"1673.1\" y=\"124.08\"/><circle cx=\"1672.0\" cy=\"132.0\" fill=\"red\" r=\"1.1\" stroke=\"red\" stroke-width=\"0\"/><circle cx=\"1694.0\" cy=\"132.0\" fill=\"red\" r=\"1.1\" stroke=\"red\" stroke-width=\"0\"/><text alignment-baseline=\"middle\" fill=\"white\" font-family=\"Futura\" font-size=\"9.24\" text-anchor=\"middle\" x=\"1683.0\" y=\"133.32\">260</text><rect fill=\"red\" height=\"15.84\" width=\"19.8\" x=\"1695.1\" y=\"124.08\"/><circle cx=\"1694.0\" cy=\"132.0\" fill=\"red\" r=\"1.1\" stroke=\"red\" stroke-width=\"0\"/><circle cx=\"1716.0\" cy=\"132.0\" fill=\"red\" r=\"1.1\" stroke=\"red\" stroke-width=\"0\"/><text alignment-baseline=\"middle\" fill=\"white\" font-family=\"Futura\" font-size=\"9.24\" text-anchor=\"middle\" x=\"1705.0\" y=\"133.32\">261</text><rect fill=\"red\" height=\"15.84\" width=\"19.8\" x=\"1717.1\" y=\"124.08\"/><circle cx=\"1716.0\" cy=\"132.0\" fill=\"red\" r=\"1.1\" stroke=\"red\" stroke-width=\"0\"/><circle cx=\"1738.0\" cy=\"132.0\" fill=\"red\" r=\"1.1\" stroke=\"red\" stroke-width=\"0\"/><text alignment-baseline=\"middle\" fill=\"white\" font-family=\"Futura\" font-size=\"9.24\" text-anchor=\"middle\" x=\"1727.0\" y=\"133.32\">262</text><rect fill=\"red\" height=\"15.84\" width=\"19.8\" x=\"1739.1\" y=\"124.08\"/><circle cx=\"1738.0\" cy=\"132.0\" fill=\"red\" r=\"1.1\" stroke=\"red\" stroke-width=\"0\"/><circle cx=\"1760.0\" cy=\"132.0\" fill=\"red\" r=\"1.1\" stroke=\"red\" stroke-width=\"0\"/><text alignment-baseline=\"middle\" fill=\"white\" font-family=\"Futura\" font-size=\"9.24\" text-anchor=\"middle\" x=\"1749.0\" y=\"133.32\">263</text><rect fill=\"red\" height=\"15.84\" width=\"19.8\" x=\"1761.1\" y=\"124.08\"/><circle cx=\"1760.0\" cy=\"132.0\" fill=\"red\" r=\"1.1\" stroke=\"red\" stroke-width=\"0\"/><circle cx=\"1782.0\" cy=\"132.0\" fill=\"red\" r=\"1.1\" stroke=\"red\" stroke-width=\"0\"/><text alignment-baseline=\"middle\" fill=\"white\" font-family=\"Futura\" font-size=\"9.24\" text-anchor=\"middle\" x=\"1771.0\" y=\"133.32\">264</text><rect fill=\"red\" height=\"15.84\" width=\"19.8\" x=\"1783.1\" y=\"124.08\"/><circle cx=\"1782.0\" cy=\"132.0\" fill=\"red\" r=\"1.1\" stroke=\"red\" stroke-width=\"0\"/><circle cx=\"1804.0\" cy=\"132.0\" fill=\"red\" r=\"1.1\" stroke=\"red\" stroke-width=\"0\"/><text alignment-baseline=\"middle\" fill=\"white\" font-family=\"Futura\" font-size=\"9.24\" text-anchor=\"middle\" x=\"1793.0\" y=\"133.32\">265</text><rect fill=\"red\" height=\"15.84\" width=\"19.8\" x=\"1805.1\" y=\"124.08\"/><circle cx=\"1804.0\" cy=\"132.0\" fill=\"red\" r=\"1.1\" stroke=\"red\" stroke-width=\"0\"/><circle cx=\"1826.0\" cy=\"132.0\" fill=\"red\" r=\"1.1\" stroke=\"red\" stroke-width=\"0\"/><text alignment-baseline=\"middle\" fill=\"white\" font-family=\"Futura\" font-size=\"9.24\" text-anchor=\"middle\" x=\"1815.0\" y=\"133.32\">266</text><rect fill=\"red\" height=\"15.84\" width=\"19.8\" x=\"1827.1\" y=\"124.08\"/><circle cx=\"1826.0\" cy=\"132.0\" fill=\"red\" r=\"1.1\" stroke=\"red\" stroke-width=\"0\"/><circle cx=\"1848.0\" cy=\"132.0\" fill=\"red\" r=\"1.1\" stroke=\"red\" stroke-width=\"0\"/><text alignment-baseline=\"middle\" fill=\"white\" font-family=\"Futura\" font-size=\"9.24\" text-anchor=\"middle\" x=\"1837.0\" y=\"133.32\">267</text><rect fill=\"red\" height=\"15.84\" width=\"19.8\" x=\"1849.1\" y=\"124.08\"/><circle cx=\"1848.0\" cy=\"132.0\" fill=\"red\" r=\"1.1\" stroke=\"red\" stroke-width=\"0\"/><circle cx=\"1870.0\" cy=\"132.0\" fill=\"red\" r=\"1.1\" stroke=\"red\" stroke-width=\"0\"/><text alignment-baseline=\"middle\" fill=\"white\" font-family=\"Futura\" font-size=\"9.24\" text-anchor=\"middle\" x=\"1859.0\" y=\"133.32\">268</text><rect fill=\"red\" height=\"15.84\" width=\"19.8\" x=\"1871.1\" y=\"124.08\"/><circle cx=\"1870.0\" cy=\"132.0\" fill=\"red\" r=\"1.1\" stroke=\"red\" stroke-width=\"0\"/><circle cx=\"1892.0\" cy=\"132.0\" fill=\"red\" r=\"1.1\" stroke=\"red\" stroke-width=\"0\"/><text alignment-baseline=\"middle\" fill=\"white\" font-family=\"Futura\" font-size=\"9.24\" text-anchor=\"middle\" x=\"1881.0\" y=\"133.32\">269</text><rect fill=\"red\" height=\"15.84\" width=\"19.8\" x=\"1893.1\" y=\"124.08\"/><circle cx=\"1892.0\" cy=\"132.0\" fill=\"red\" r=\"1.1\" stroke=\"red\" stroke-width=\"0\"/><circle cx=\"1914.0\" cy=\"132.0\" fill=\"red\" r=\"1.1\" stroke=\"red\" stroke-width=\"0\"/><text alignment-baseline=\"middle\" fill=\"white\" font-family=\"Futura\" font-size=\"9.24\" text-anchor=\"middle\" x=\"1903.0\" y=\"133.32\">270</text><rect fill=\"red\" height=\"15.84\" width=\"19.8\" x=\"1915.1\" y=\"124.08\"/><circle cx=\"1914.0\" cy=\"132.0\" fill=\"red\" r=\"1.1\" stroke=\"red\" stroke-width=\"0\"/><circle cx=\"1936.0\" cy=\"132.0\" fill=\"red\" r=\"1.1\" stroke=\"red\" stroke-width=\"0\"/><text alignment-baseline=\"middle\" fill=\"white\" font-family=\"Futura\" font-size=\"9.24\" text-anchor=\"middle\" x=\"1925.0\" y=\"133.32\">271</text><rect fill=\"red\" height=\"15.84\" width=\"19.8\" x=\"1937.1\" y=\"124.08\"/><circle cx=\"1936.0\" cy=\"132.0\" fill=\"red\" r=\"1.1\" stroke=\"red\" stroke-width=\"0\"/><circle cx=\"1958.0\" cy=\"132.0\" fill=\"red\" r=\"1.1\" stroke=\"red\" stroke-width=\"0\"/><text alignment-baseline=\"middle\" fill=\"white\" font-family=\"Futura\" font-size=\"9.24\" text-anchor=\"middle\" x=\"1947.0\" y=\"133.32\">272</text><rect fill=\"red\" height=\"15.84\" width=\"19.8\" x=\"1959.1\" y=\"124.08\"/><circle cx=\"1958.0\" cy=\"132.0\" fill=\"red\" r=\"1.1\" stroke=\"red\" stroke-width=\"0\"/><circle cx=\"1980.0\" cy=\"132.0\" fill=\"red\" r=\"1.1\" stroke=\"red\" stroke-width=\"0\"/><text alignment-baseline=\"middle\" fill=\"white\" font-family=\"Futura\" font-size=\"9.24\" text-anchor=\"middle\" x=\"1969.0\" y=\"133.32\">273</text><rect fill=\"red\" height=\"15.84\" width=\"19.8\" x=\"1981.1\" y=\"124.08\"/><circle cx=\"1980.0\" cy=\"132.0\" fill=\"red\" r=\"1.1\" stroke=\"red\" stroke-width=\"0\"/><circle cx=\"2002.0\" cy=\"132.0\" fill=\"red\" r=\"1.1\" stroke=\"red\" stroke-width=\"0\"/><text alignment-baseline=\"middle\" fill=\"white\" font-family=\"Futura\" font-size=\"9.24\" text-anchor=\"middle\" x=\"1991.0\" y=\"133.32\">274</text><rect fill=\"red\" height=\"15.84\" width=\"19.8\" x=\"2003.1\" y=\"124.08\"/><circle cx=\"2002.0\" cy=\"132.0\" fill=\"red\" r=\"1.1\" stroke=\"red\" stroke-width=\"0\"/><circle cx=\"2024.0\" cy=\"132.0\" fill=\"red\" r=\"1.1\" stroke=\"red\" stroke-width=\"0\"/><text alignment-baseline=\"middle\" fill=\"white\" font-family=\"Futura\" font-size=\"9.24\" text-anchor=\"middle\" x=\"2013.0\" y=\"133.32\">275</text><rect fill=\"red\" height=\"15.84\" width=\"19.8\" x=\"2025.1\" y=\"124.08\"/><circle cx=\"2024.0\" cy=\"132.0\" fill=\"red\" r=\"1.1\" stroke=\"red\" stroke-width=\"0\"/><circle cx=\"2046.0\" cy=\"132.0\" fill=\"red\" r=\"1.1\" stroke=\"red\" stroke-width=\"0\"/><text alignment-baseline=\"middle\" fill=\"white\" font-family=\"Futura\" font-size=\"9.24\" text-anchor=\"middle\" x=\"2035.0\" y=\"133.32\">276</text><rect fill=\"red\" height=\"15.84\" width=\"19.8\" x=\"2047.1\" y=\"124.08\"/><circle cx=\"2046.0\" cy=\"132.0\" fill=\"red\" r=\"1.1\" stroke=\"red\" stroke-width=\"0\"/><circle cx=\"2068.0\" cy=\"132.0\" fill=\"red\" r=\"1.1\" stroke=\"red\" stroke-width=\"0\"/><text alignment-baseline=\"middle\" fill=\"white\" font-family=\"Futura\" font-size=\"9.24\" text-anchor=\"middle\" x=\"2057.0\" y=\"133.32\">277</text><rect fill=\"red\" height=\"15.84\" width=\"19.8\" x=\"2069.1\" y=\"124.08\"/><circle cx=\"2068.0\" cy=\"132.0\" fill=\"red\" r=\"1.1\" stroke=\"red\" stroke-width=\"0\"/><circle cx=\"2090.0\" cy=\"132.0\" fill=\"red\" r=\"1.1\" stroke=\"red\" stroke-width=\"0\"/><text alignment-baseline=\"middle\" fill=\"white\" font-family=\"Futura\" font-size=\"9.24\" text-anchor=\"middle\" x=\"2079.0\" y=\"133.32\">278</text><rect fill=\"red\" height=\"15.84\" width=\"19.8\" x=\"2091.1\" y=\"124.08\"/><circle cx=\"2090.0\" cy=\"132.0\" fill=\"red\" r=\"1.1\" stroke=\"red\" stroke-width=\"0\"/><circle cx=\"2112.0\" cy=\"132.0\" fill=\"red\" r=\"1.1\" stroke=\"red\" stroke-width=\"0\"/><text alignment-baseline=\"middle\" fill=\"white\" font-family=\"Futura\" font-size=\"9.24\" text-anchor=\"middle\" x=\"2101.0\" y=\"133.32\">279</text><rect fill=\"red\" height=\"15.84\" width=\"19.8\" x=\"2113.1\" y=\"124.08\"/><circle cx=\"2112.0\" cy=\"132.0\" fill=\"red\" r=\"1.1\" stroke=\"red\" stroke-width=\"0\"/><circle cx=\"2134.0\" cy=\"132.0\" fill=\"red\" r=\"1.1\" stroke=\"red\" stroke-width=\"0\"/><text alignment-baseline=\"middle\" fill=\"white\" font-family=\"Futura\" font-size=\"9.24\" text-anchor=\"middle\" x=\"2123.0\" y=\"133.32\">280</text><rect fill=\"red\" height=\"15.84\" width=\"19.8\" x=\"2135.1\" y=\"124.08\"/><circle cx=\"2134.0\" cy=\"132.0\" fill=\"red\" r=\"1.1\" stroke=\"red\" stroke-width=\"0\"/><circle cx=\"2156.0\" cy=\"132.0\" fill=\"red\" r=\"1.1\" stroke=\"red\" stroke-width=\"0\"/><text alignment-baseline=\"middle\" fill=\"white\" font-family=\"Futura\" font-size=\"9.24\" text-anchor=\"middle\" x=\"2145.0\" y=\"133.32\">281</text><rect fill=\"red\" height=\"15.84\" width=\"19.8\" x=\"2157.1\" y=\"124.08\"/><circle cx=\"2156.0\" cy=\"132.0\" fill=\"red\" r=\"1.1\" stroke=\"red\" stroke-width=\"0\"/><circle cx=\"2178.0\" cy=\"132.0\" fill=\"red\" r=\"1.1\" stroke=\"red\" stroke-width=\"0\"/><text alignment-baseline=\"middle\" fill=\"white\" font-family=\"Futura\" font-size=\"9.24\" text-anchor=\"middle\" x=\"2167.0\" y=\"133.32\">282</text><rect fill=\"red\" height=\"15.84\" width=\"19.8\" x=\"2179.1\" y=\"124.08\"/><circle cx=\"2178.0\" cy=\"132.0\" fill=\"red\" r=\"1.1\" stroke=\"red\" stroke-width=\"0\"/><circle cx=\"2200.0\" cy=\"132.0\" fill=\"red\" r=\"1.1\" stroke=\"red\" stroke-width=\"0\"/><text alignment-baseline=\"middle\" fill=\"white\" font-family=\"Futura\" font-size=\"9.24\" text-anchor=\"middle\" x=\"2189.0\" y=\"133.32\">283</text><rect fill=\"red\" height=\"15.84\" width=\"19.8\" x=\"2201.1\" y=\"124.08\"/><circle cx=\"2200.0\" cy=\"132.0\" fill=\"red\" r=\"1.1\" stroke=\"red\" stroke-width=\"0\"/><circle cx=\"2222.0\" cy=\"132.0\" fill=\"red\" r=\"1.1\" stroke=\"red\" stroke-width=\"0\"/><text alignment-baseline=\"middle\" fill=\"white\" font-family=\"Futura\" font-size=\"9.24\" text-anchor=\"middle\" x=\"2211.0\" y=\"133.32\">284</text><rect fill=\"red\" height=\"15.84\" width=\"19.8\" x=\"2223.1\" y=\"124.08\"/><circle cx=\"2222.0\" cy=\"132.0\" fill=\"red\" r=\"1.1\" stroke=\"red\" stroke-width=\"0\"/><circle cx=\"2244.0\" cy=\"132.0\" fill=\"red\" r=\"1.1\" stroke=\"red\" stroke-width=\"0\"/><text alignment-baseline=\"middle\" fill=\"white\" font-family=\"Futura\" font-size=\"9.24\" text-anchor=\"middle\" x=\"2233.0\" y=\"133.32\">285</text><rect fill=\"red\" height=\"15.84\" width=\"19.8\" x=\"2245.1\" y=\"124.08\"/><circle cx=\"2244.0\" cy=\"132.0\" fill=\"red\" r=\"1.1\" stroke=\"red\" stroke-width=\"0\"/><circle cx=\"2266.0\" cy=\"132.0\" fill=\"red\" r=\"1.1\" stroke=\"red\" stroke-width=\"0\"/><text alignment-baseline=\"middle\" fill=\"white\" font-family=\"Futura\" font-size=\"9.24\" text-anchor=\"middle\" x=\"2255.0\" y=\"133.32\">286</text><rect fill=\"red\" height=\"15.84\" width=\"19.8\" x=\"2267.1\" y=\"124.08\"/><circle cx=\"2266.0\" cy=\"132.0\" fill=\"red\" r=\"1.1\" stroke=\"red\" stroke-width=\"0\"/><circle cx=\"2288.0\" cy=\"132.0\" fill=\"red\" r=\"1.1\" stroke=\"red\" stroke-width=\"0\"/><text alignment-baseline=\"middle\" fill=\"white\" font-family=\"Futura\" font-size=\"9.24\" text-anchor=\"middle\" x=\"2277.0\" y=\"133.32\">287</text><rect fill=\"red\" height=\"15.84\" width=\"19.8\" x=\"2289.1\" y=\"124.08\"/><circle cx=\"2288.0\" cy=\"132.0\" fill=\"red\" r=\"1.1\" stroke=\"red\" stroke-width=\"0\"/><circle cx=\"2310.0\" cy=\"132.0\" fill=\"red\" r=\"1.1\" stroke=\"red\" stroke-width=\"0\"/><text alignment-baseline=\"middle\" fill=\"white\" font-family=\"Futura\" font-size=\"9.24\" text-anchor=\"middle\" x=\"2299.0\" y=\"133.32\">288</text><rect fill=\"red\" height=\"15.84\" width=\"19.8\" x=\"2311.1\" y=\"124.08\"/><circle cx=\"2310.0\" cy=\"132.0\" fill=\"red\" r=\"1.1\" stroke=\"red\" stroke-width=\"0\"/><circle cx=\"2332.0\" cy=\"132.0\" fill=\"red\" r=\"1.1\" stroke=\"red\" stroke-width=\"0\"/><text alignment-baseline=\"middle\" fill=\"white\" font-family=\"Futura\" font-size=\"9.24\" text-anchor=\"middle\" x=\"2321.0\" y=\"133.32\">289</text><rect fill=\"red\" height=\"15.84\" width=\"19.8\" x=\"2333.1\" y=\"124.08\"/><circle cx=\"2332.0\" cy=\"132.0\" fill=\"red\" r=\"1.1\" stroke=\"red\" stroke-width=\"0\"/><circle cx=\"2354.0\" cy=\"132.0\" fill=\"red\" r=\"1.1\" stroke=\"red\" stroke-width=\"0\"/><text alignment-baseline=\"middle\" fill=\"white\" font-family=\"Futura\" font-size=\"9.24\" text-anchor=\"middle\" x=\"2343.0\" y=\"133.32\">290</text><rect fill=\"red\" height=\"15.84\" width=\"19.8\" x=\"2355.1\" y=\"124.08\"/><circle cx=\"2354.0\" cy=\"132.0\" fill=\"red\" r=\"1.1\" stroke=\"red\" stroke-width=\"0\"/><circle cx=\"2376.0\" cy=\"132.0\" fill=\"red\" r=\"1.1\" stroke=\"red\" stroke-width=\"0\"/><text alignment-baseline=\"middle\" fill=\"white\" font-family=\"Futura\" font-size=\"9.24\" text-anchor=\"middle\" x=\"2365.0\" y=\"133.32\">291</text><rect fill=\"red\" height=\"15.84\" width=\"19.8\" x=\"2377.1\" y=\"124.08\"/><circle cx=\"2376.0\" cy=\"132.0\" fill=\"red\" r=\"1.1\" stroke=\"red\" stroke-width=\"0\"/><circle cx=\"2398.0\" cy=\"132.0\" fill=\"red\" r=\"1.1\" stroke=\"red\" stroke-width=\"0\"/><text alignment-baseline=\"middle\" fill=\"white\" font-family=\"Futura\" font-size=\"9.24\" text-anchor=\"middle\" x=\"2387.0\" y=\"133.32\">292</text><rect fill=\"red\" height=\"15.84\" width=\"19.8\" x=\"2399.1\" y=\"124.08\"/><circle cx=\"2398.0\" cy=\"132.0\" fill=\"red\" r=\"1.1\" stroke=\"red\" stroke-width=\"0\"/><circle cx=\"2420.0\" cy=\"132.0\" fill=\"red\" r=\"1.1\" stroke=\"red\" stroke-width=\"0\"/><text alignment-baseline=\"middle\" fill=\"white\" font-family=\"Futura\" font-size=\"9.24\" text-anchor=\"middle\" x=\"2409.0\" y=\"133.32\">293</text><rect fill=\"red\" height=\"15.84\" width=\"19.8\" x=\"2421.1\" y=\"124.08\"/><circle cx=\"2420.0\" cy=\"132.0\" fill=\"red\" r=\"1.1\" stroke=\"red\" stroke-width=\"0\"/><circle cx=\"2442.0\" cy=\"132.0\" fill=\"red\" r=\"1.1\" stroke=\"red\" stroke-width=\"0\"/><text alignment-baseline=\"middle\" fill=\"white\" font-family=\"Futura\" font-size=\"9.24\" text-anchor=\"middle\" x=\"2431.0\" y=\"133.32\">294</text><rect fill=\"red\" height=\"15.84\" width=\"19.8\" x=\"2443.1\" y=\"124.08\"/><circle cx=\"2442.0\" cy=\"132.0\" fill=\"red\" r=\"1.1\" stroke=\"red\" stroke-width=\"0\"/><circle cx=\"2464.0\" cy=\"132.0\" fill=\"red\" r=\"1.1\" stroke=\"red\" stroke-width=\"0\"/><text alignment-baseline=\"middle\" fill=\"white\" font-family=\"Futura\" font-size=\"9.24\" text-anchor=\"middle\" x=\"2453.0\" y=\"133.32\">295</text><rect fill=\"red\" height=\"15.84\" width=\"19.8\" x=\"2465.1\" y=\"124.08\"/><circle cx=\"2464.0\" cy=\"132.0\" fill=\"red\" r=\"1.1\" stroke=\"red\" stroke-width=\"0\"/><circle cx=\"2486.0\" cy=\"132.0\" fill=\"red\" r=\"1.1\" stroke=\"red\" stroke-width=\"0\"/><text alignment-baseline=\"middle\" fill=\"white\" font-family=\"Futura\" font-size=\"9.24\" text-anchor=\"middle\" x=\"2475.0\" y=\"133.32\">296</text><rect fill=\"red\" height=\"15.84\" width=\"19.8\" x=\"2487.1\" y=\"124.08\"/><circle cx=\"2486.0\" cy=\"132.0\" fill=\"red\" r=\"1.1\" stroke=\"red\" stroke-width=\"0\"/><circle cx=\"2508.0\" cy=\"132.0\" fill=\"red\" r=\"1.1\" stroke=\"red\" stroke-width=\"0\"/><text alignment-baseline=\"middle\" fill=\"white\" font-family=\"Futura\" font-size=\"9.24\" text-anchor=\"middle\" x=\"2497.0\" y=\"133.32\">297</text><rect fill=\"red\" height=\"15.84\" width=\"19.8\" x=\"2509.1\" y=\"124.08\"/><circle cx=\"2508.0\" cy=\"132.0\" fill=\"red\" r=\"1.1\" stroke=\"red\" stroke-width=\"0\"/><circle cx=\"2530.0\" cy=\"132.0\" fill=\"red\" r=\"1.1\" stroke=\"red\" stroke-width=\"0\"/><text alignment-baseline=\"middle\" fill=\"white\" font-family=\"Futura\" font-size=\"9.24\" text-anchor=\"middle\" x=\"2519.0\" y=\"133.32\">298</text><rect fill=\"red\" height=\"15.84\" width=\"19.8\" x=\"2531.1\" y=\"124.08\"/><circle cx=\"2530.0\" cy=\"132.0\" fill=\"red\" r=\"1.1\" stroke=\"red\" stroke-width=\"0\"/><circle cx=\"2552.0\" cy=\"132.0\" fill=\"red\" r=\"1.1\" stroke=\"red\" stroke-width=\"0\"/><text alignment-baseline=\"middle\" fill=\"white\" font-family=\"Futura\" font-size=\"9.24\" text-anchor=\"middle\" x=\"2541.0\" y=\"133.32\">299</text><rect fill=\"red\" height=\"15.84\" width=\"19.8\" x=\"2553.1\" y=\"124.08\"/><circle cx=\"2552.0\" cy=\"132.0\" fill=\"red\" r=\"1.1\" stroke=\"red\" stroke-width=\"0\"/><circle cx=\"2574.0\" cy=\"132.0\" fill=\"red\" r=\"1.1\" stroke=\"red\" stroke-width=\"0\"/><text alignment-baseline=\"middle\" fill=\"white\" font-family=\"Futura\" font-size=\"9.24\" text-anchor=\"middle\" x=\"2563.0\" y=\"133.32\">300</text><rect fill=\"red\" height=\"15.84\" width=\"19.8\" x=\"2575.1\" y=\"124.08\"/><circle cx=\"2574.0\" cy=\"132.0\" fill=\"red\" r=\"1.1\" stroke=\"red\" stroke-width=\"0\"/><circle cx=\"2596.0\" cy=\"132.0\" fill=\"red\" r=\"1.1\" stroke=\"red\" stroke-width=\"0\"/><text alignment-baseline=\"middle\" fill=\"white\" font-family=\"Futura\" font-size=\"9.24\" text-anchor=\"middle\" x=\"2585.0\" y=\"133.32\">301</text><rect fill=\"red\" height=\"15.84\" width=\"19.8\" x=\"2597.1\" y=\"124.08\"/><circle cx=\"2596.0\" cy=\"132.0\" fill=\"red\" r=\"1.1\" stroke=\"red\" stroke-width=\"0\"/><circle cx=\"2618.0\" cy=\"132.0\" fill=\"red\" r=\"1.1\" stroke=\"red\" stroke-width=\"0\"/><text alignment-baseline=\"middle\" fill=\"white\" font-family=\"Futura\" font-size=\"9.24\" text-anchor=\"middle\" x=\"2607.0\" y=\"133.32\">302</text><rect fill=\"red\" height=\"15.84\" width=\"19.8\" x=\"2619.1\" y=\"124.08\"/><circle cx=\"2618.0\" cy=\"132.0\" fill=\"red\" r=\"1.1\" stroke=\"red\" stroke-width=\"0\"/><circle cx=\"2640.0\" cy=\"132.0\" fill=\"red\" r=\"1.1\" stroke=\"red\" stroke-width=\"0\"/><text alignment-baseline=\"middle\" fill=\"white\" font-family=\"Futura\" font-size=\"9.24\" text-anchor=\"middle\" x=\"2629.0\" y=\"133.32\">303</text><rect fill=\"red\" height=\"15.84\" width=\"19.8\" x=\"2641.1\" y=\"124.08\"/><circle cx=\"2640.0\" cy=\"132.0\" fill=\"red\" r=\"1.1\" stroke=\"red\" stroke-width=\"0\"/><circle cx=\"2662.0\" cy=\"132.0\" fill=\"red\" r=\"1.1\" stroke=\"red\" stroke-width=\"0\"/><text alignment-baseline=\"middle\" fill=\"white\" font-family=\"Futura\" font-size=\"9.24\" text-anchor=\"middle\" x=\"2651.0\" y=\"133.32\">304</text><rect fill=\"red\" height=\"15.84\" width=\"19.8\" x=\"2663.1\" y=\"124.08\"/><circle cx=\"2662.0\" cy=\"132.0\" fill=\"red\" r=\"1.1\" stroke=\"red\" stroke-width=\"0\"/><circle cx=\"2684.0\" cy=\"132.0\" fill=\"red\" r=\"1.1\" stroke=\"red\" stroke-width=\"0\"/><text alignment-baseline=\"middle\" fill=\"white\" font-family=\"Futura\" font-size=\"9.24\" text-anchor=\"middle\" x=\"2673.0\" y=\"133.32\">305</text><rect fill=\"red\" height=\"15.84\" width=\"19.8\" x=\"2685.1\" y=\"124.08\"/><circle cx=\"2684.0\" cy=\"132.0\" fill=\"red\" r=\"1.1\" stroke=\"red\" stroke-width=\"0\"/><circle cx=\"2706.0\" cy=\"132.0\" fill=\"red\" r=\"1.1\" stroke=\"red\" stroke-width=\"0\"/><text alignment-baseline=\"middle\" fill=\"white\" font-family=\"Futura\" font-size=\"9.24\" text-anchor=\"middle\" x=\"2695.0\" y=\"133.32\">306</text><rect fill=\"red\" height=\"15.84\" width=\"19.8\" x=\"2707.1\" y=\"124.08\"/><circle cx=\"2706.0\" cy=\"132.0\" fill=\"red\" r=\"1.1\" stroke=\"red\" stroke-width=\"0\"/><circle cx=\"2728.0\" cy=\"132.0\" fill=\"red\" r=\"1.1\" stroke=\"red\" stroke-width=\"0\"/><text alignment-baseline=\"middle\" fill=\"white\" font-family=\"Futura\" font-size=\"9.24\" text-anchor=\"middle\" x=\"2717.0\" y=\"133.32\">307</text><rect fill=\"red\" height=\"15.84\" width=\"19.8\" x=\"2729.1\" y=\"124.08\"/><circle cx=\"2728.0\" cy=\"132.0\" fill=\"red\" r=\"1.1\" stroke=\"red\" stroke-width=\"0\"/><circle cx=\"2750.0\" cy=\"132.0\" fill=\"red\" r=\"1.1\" stroke=\"red\" stroke-width=\"0\"/><text alignment-baseline=\"middle\" fill=\"white\" font-family=\"Futura\" font-size=\"9.24\" text-anchor=\"middle\" x=\"2739.0\" y=\"133.32\">308</text><rect fill=\"red\" height=\"15.84\" width=\"19.8\" x=\"2751.1\" y=\"124.08\"/><circle cx=\"2750.0\" cy=\"132.0\" fill=\"red\" r=\"1.1\" stroke=\"red\" stroke-width=\"0\"/><circle cx=\"2772.0\" cy=\"132.0\" fill=\"red\" r=\"1.1\" stroke=\"red\" stroke-width=\"0\"/><text alignment-baseline=\"middle\" fill=\"white\" font-family=\"Futura\" font-size=\"9.24\" text-anchor=\"middle\" x=\"2761.0\" y=\"133.32\">309</text><rect fill=\"red\" height=\"15.84\" width=\"19.8\" x=\"2773.1\" y=\"124.08\"/><circle cx=\"2772.0\" cy=\"132.0\" fill=\"red\" r=\"1.1\" stroke=\"red\" stroke-width=\"0\"/><circle cx=\"2794.0\" cy=\"132.0\" fill=\"red\" r=\"1.1\" stroke=\"red\" stroke-width=\"0\"/><text alignment-baseline=\"middle\" fill=\"white\" font-family=\"Futura\" font-size=\"9.24\" text-anchor=\"middle\" x=\"2783.0\" y=\"133.32\">310</text><rect fill=\"red\" height=\"15.84\" width=\"19.8\" x=\"2795.1\" y=\"124.08\"/><circle cx=\"2794.0\" cy=\"132.0\" fill=\"red\" r=\"1.1\" stroke=\"red\" stroke-width=\"0\"/><text alignment-baseline=\"middle\" fill=\"white\" font-family=\"Futura\" font-size=\"9.24\" text-anchor=\"middle\" x=\"2805.0\" y=\"133.32\">311</text><line stroke=\"red\" stroke-width=\"1.32\" x1=\"704.0\" x2=\"704.0\" y1=\"133.32\" y2=\"183.48\"/><text alignment-baseline=\"middle\" fill=\"black\" font-family=\"Futura\" font-size=\"9.24\" text-anchor=\"start\" x=\"2270.4\" y=\"186.12\">6f</text><rect fill=\"red\" height=\"15.84\" width=\"19.8\" x=\"705.1\" y=\"176.88\"/><circle cx=\"704.0\" cy=\"184.8\" fill=\"red\" r=\"1.1\" stroke=\"red\" stroke-width=\"0\"/><circle cx=\"726.0\" cy=\"184.8\" fill=\"red\" r=\"1.1\" stroke=\"red\" stroke-width=\"0\"/><text alignment-baseline=\"middle\" fill=\"white\" font-family=\"Futura\" font-size=\"9.24\" text-anchor=\"middle\" x=\"715.0\" y=\"186.12\">312</text><rect fill=\"red\" height=\"15.84\" width=\"19.8\" x=\"727.1\" y=\"176.88\"/><circle cx=\"726.0\" cy=\"184.8\" fill=\"red\" r=\"1.1\" stroke=\"red\" stroke-width=\"0\"/><circle cx=\"748.0\" cy=\"184.8\" fill=\"red\" r=\"1.1\" stroke=\"red\" stroke-width=\"0\"/><text alignment-baseline=\"middle\" fill=\"white\" font-family=\"Futura\" font-size=\"9.24\" text-anchor=\"middle\" x=\"737.0\" y=\"186.12\">313</text><rect fill=\"red\" height=\"15.84\" width=\"19.8\" x=\"749.1\" y=\"176.88\"/><circle cx=\"748.0\" cy=\"184.8\" fill=\"red\" r=\"1.1\" stroke=\"red\" stroke-width=\"0\"/><circle cx=\"770.0\" cy=\"184.8\" fill=\"red\" r=\"1.1\" stroke=\"red\" stroke-width=\"0\"/><text alignment-baseline=\"middle\" fill=\"white\" font-family=\"Futura\" font-size=\"9.24\" text-anchor=\"middle\" x=\"759.0\" y=\"186.12\">314</text><rect fill=\"red\" height=\"15.84\" width=\"19.8\" x=\"771.1\" y=\"176.88\"/><circle cx=\"770.0\" cy=\"184.8\" fill=\"red\" r=\"1.1\" stroke=\"red\" stroke-width=\"0\"/><circle cx=\"792.0\" cy=\"184.8\" fill=\"red\" r=\"1.1\" stroke=\"red\" stroke-width=\"0\"/><text alignment-baseline=\"middle\" fill=\"white\" font-family=\"Futura\" font-size=\"9.24\" text-anchor=\"middle\" x=\"781.0\" y=\"186.12\">315</text><rect fill=\"red\" height=\"15.84\" width=\"19.8\" x=\"793.1\" y=\"176.88\"/><circle cx=\"792.0\" cy=\"184.8\" fill=\"red\" r=\"1.1\" stroke=\"red\" stroke-width=\"0\"/><circle cx=\"814.0\" cy=\"184.8\" fill=\"red\" r=\"1.1\" stroke=\"red\" stroke-width=\"0\"/><text alignment-baseline=\"middle\" fill=\"white\" font-family=\"Futura\" font-size=\"9.24\" text-anchor=\"middle\" x=\"803.0\" y=\"186.12\">316</text><rect fill=\"red\" height=\"15.84\" width=\"19.8\" x=\"815.1\" y=\"176.88\"/><circle cx=\"814.0\" cy=\"184.8\" fill=\"red\" r=\"1.1\" stroke=\"red\" stroke-width=\"0\"/><circle cx=\"836.0\" cy=\"184.8\" fill=\"red\" r=\"1.1\" stroke=\"red\" stroke-width=\"0\"/><text alignment-baseline=\"middle\" fill=\"white\" font-family=\"Futura\" font-size=\"9.24\" text-anchor=\"middle\" x=\"825.0\" y=\"186.12\">317</text><rect fill=\"red\" height=\"15.84\" width=\"19.8\" x=\"837.1\" y=\"176.88\"/><circle cx=\"836.0\" cy=\"184.8\" fill=\"red\" r=\"1.1\" stroke=\"red\" stroke-width=\"0\"/><circle cx=\"858.0\" cy=\"184.8\" fill=\"red\" r=\"1.1\" stroke=\"red\" stroke-width=\"0\"/><text alignment-baseline=\"middle\" fill=\"white\" font-family=\"Futura\" font-size=\"9.24\" text-anchor=\"middle\" x=\"847.0\" y=\"186.12\">318</text><rect fill=\"red\" height=\"15.84\" width=\"19.8\" x=\"859.1\" y=\"176.88\"/><circle cx=\"858.0\" cy=\"184.8\" fill=\"red\" r=\"1.1\" stroke=\"red\" stroke-width=\"0\"/><circle cx=\"880.0\" cy=\"184.8\" fill=\"red\" r=\"1.1\" stroke=\"red\" stroke-width=\"0\"/><text alignment-baseline=\"middle\" fill=\"white\" font-family=\"Futura\" font-size=\"9.24\" text-anchor=\"middle\" x=\"869.0\" y=\"186.12\">319</text><rect fill=\"red\" height=\"15.84\" width=\"19.8\" x=\"881.1\" y=\"176.88\"/><circle cx=\"880.0\" cy=\"184.8\" fill=\"red\" r=\"1.1\" stroke=\"red\" stroke-width=\"0\"/><circle cx=\"902.0\" cy=\"184.8\" fill=\"red\" r=\"1.1\" stroke=\"red\" stroke-width=\"0\"/><text alignment-baseline=\"middle\" fill=\"white\" font-family=\"Futura\" font-size=\"9.24\" text-anchor=\"middle\" x=\"891.0\" y=\"186.12\">320</text><rect fill=\"red\" height=\"15.84\" width=\"19.8\" x=\"903.1\" y=\"176.88\"/><circle cx=\"902.0\" cy=\"184.8\" fill=\"red\" r=\"1.1\" stroke=\"red\" stroke-width=\"0\"/><circle cx=\"924.0\" cy=\"184.8\" fill=\"red\" r=\"1.1\" stroke=\"red\" stroke-width=\"0\"/><text alignment-baseline=\"middle\" fill=\"white\" font-family=\"Futura\" font-size=\"9.24\" text-anchor=\"middle\" x=\"913.0\" y=\"186.12\">321</text><rect fill=\"red\" height=\"15.84\" width=\"19.8\" x=\"925.1\" y=\"176.88\"/><circle cx=\"924.0\" cy=\"184.8\" fill=\"red\" r=\"1.1\" stroke=\"red\" stroke-width=\"0\"/><circle cx=\"946.0\" cy=\"184.8\" fill=\"red\" r=\"1.1\" stroke=\"red\" stroke-width=\"0\"/><text alignment-baseline=\"middle\" fill=\"white\" font-family=\"Futura\" font-size=\"9.24\" text-anchor=\"middle\" x=\"935.0\" y=\"186.12\">322</text><rect fill=\"red\" height=\"15.84\" width=\"19.8\" x=\"947.1\" y=\"176.88\"/><circle cx=\"946.0\" cy=\"184.8\" fill=\"red\" r=\"1.1\" stroke=\"red\" stroke-width=\"0\"/><circle cx=\"968.0\" cy=\"184.8\" fill=\"red\" r=\"1.1\" stroke=\"red\" stroke-width=\"0\"/><text alignment-baseline=\"middle\" fill=\"white\" font-family=\"Futura\" font-size=\"9.24\" text-anchor=\"middle\" x=\"957.0\" y=\"186.12\">323</text><rect fill=\"red\" height=\"15.84\" width=\"19.8\" x=\"969.1\" y=\"176.88\"/><circle cx=\"968.0\" cy=\"184.8\" fill=\"red\" r=\"1.1\" stroke=\"red\" stroke-width=\"0\"/><circle cx=\"990.0\" cy=\"184.8\" fill=\"red\" r=\"1.1\" stroke=\"red\" stroke-width=\"0\"/><text alignment-baseline=\"middle\" fill=\"white\" font-family=\"Futura\" font-size=\"9.24\" text-anchor=\"middle\" x=\"979.0\" y=\"186.12\">324</text><rect fill=\"red\" height=\"15.84\" width=\"19.8\" x=\"991.1\" y=\"176.88\"/><circle cx=\"990.0\" cy=\"184.8\" fill=\"red\" r=\"1.1\" stroke=\"red\" stroke-width=\"0\"/><circle cx=\"1012.0\" cy=\"184.8\" fill=\"red\" r=\"1.1\" stroke=\"red\" stroke-width=\"0\"/><text alignment-baseline=\"middle\" fill=\"white\" font-family=\"Futura\" font-size=\"9.24\" text-anchor=\"middle\" x=\"1001.0\" y=\"186.12\">325</text><rect fill=\"red\" height=\"15.84\" width=\"19.8\" x=\"1013.1\" y=\"176.88\"/><circle cx=\"1012.0\" cy=\"184.8\" fill=\"red\" r=\"1.1\" stroke=\"red\" stroke-width=\"0\"/><circle cx=\"1034.0\" cy=\"184.8\" fill=\"red\" r=\"1.1\" stroke=\"red\" stroke-width=\"0\"/><text alignment-baseline=\"middle\" fill=\"white\" font-family=\"Futura\" font-size=\"9.24\" text-anchor=\"middle\" x=\"1023.0\" y=\"186.12\">326</text><rect fill=\"red\" height=\"15.84\" width=\"19.8\" x=\"1035.1\" y=\"176.88\"/><circle cx=\"1034.0\" cy=\"184.8\" fill=\"red\" r=\"1.1\" stroke=\"red\" stroke-width=\"0\"/><circle cx=\"1056.0\" cy=\"184.8\" fill=\"red\" r=\"1.1\" stroke=\"red\" stroke-width=\"0\"/><text alignment-baseline=\"middle\" fill=\"white\" font-family=\"Futura\" font-size=\"9.24\" text-anchor=\"middle\" x=\"1045.0\" y=\"186.12\">327</text><rect fill=\"red\" height=\"15.84\" width=\"19.8\" x=\"1057.1\" y=\"176.88\"/><circle cx=\"1056.0\" cy=\"184.8\" fill=\"red\" r=\"1.1\" stroke=\"red\" stroke-width=\"0\"/><circle cx=\"1078.0\" cy=\"184.8\" fill=\"red\" r=\"1.1\" stroke=\"red\" stroke-width=\"0\"/><text alignment-baseline=\"middle\" fill=\"white\" font-family=\"Futura\" font-size=\"9.24\" text-anchor=\"middle\" x=\"1067.0\" y=\"186.12\">328</text><rect fill=\"red\" height=\"15.84\" width=\"19.8\" x=\"1079.1\" y=\"176.88\"/><circle cx=\"1078.0\" cy=\"184.8\" fill=\"red\" r=\"1.1\" stroke=\"red\" stroke-width=\"0\"/><circle cx=\"1100.0\" cy=\"184.8\" fill=\"red\" r=\"1.1\" stroke=\"red\" stroke-width=\"0\"/><text alignment-baseline=\"middle\" fill=\"white\" font-family=\"Futura\" font-size=\"9.24\" text-anchor=\"middle\" x=\"1089.0\" y=\"186.12\">329</text><rect fill=\"red\" height=\"15.84\" width=\"19.8\" x=\"1101.1\" y=\"176.88\"/><circle cx=\"1100.0\" cy=\"184.8\" fill=\"red\" r=\"1.1\" stroke=\"red\" stroke-width=\"0\"/><circle cx=\"1122.0\" cy=\"184.8\" fill=\"red\" r=\"1.1\" stroke=\"red\" stroke-width=\"0\"/><text alignment-baseline=\"middle\" fill=\"white\" font-family=\"Futura\" font-size=\"9.24\" text-anchor=\"middle\" x=\"1111.0\" y=\"186.12\">330</text><rect fill=\"red\" height=\"15.84\" width=\"19.8\" x=\"1123.1\" y=\"176.88\"/><circle cx=\"1122.0\" cy=\"184.8\" fill=\"red\" r=\"1.1\" stroke=\"red\" stroke-width=\"0\"/><circle cx=\"1144.0\" cy=\"184.8\" fill=\"red\" r=\"1.1\" stroke=\"red\" stroke-width=\"0\"/><text alignment-baseline=\"middle\" fill=\"white\" font-family=\"Futura\" font-size=\"9.24\" text-anchor=\"middle\" x=\"1133.0\" y=\"186.12\">331</text><rect fill=\"red\" height=\"15.84\" width=\"19.8\" x=\"1145.1\" y=\"176.88\"/><circle cx=\"1144.0\" cy=\"184.8\" fill=\"red\" r=\"1.1\" stroke=\"red\" stroke-width=\"0\"/><circle cx=\"1166.0\" cy=\"184.8\" fill=\"red\" r=\"1.1\" stroke=\"red\" stroke-width=\"0\"/><text alignment-baseline=\"middle\" fill=\"white\" font-family=\"Futura\" font-size=\"9.24\" text-anchor=\"middle\" x=\"1155.0\" y=\"186.12\">332</text><rect fill=\"red\" height=\"15.84\" width=\"19.8\" x=\"1167.1\" y=\"176.88\"/><circle cx=\"1166.0\" cy=\"184.8\" fill=\"red\" r=\"1.1\" stroke=\"red\" stroke-width=\"0\"/><circle cx=\"1188.0\" cy=\"184.8\" fill=\"red\" r=\"1.1\" stroke=\"red\" stroke-width=\"0\"/><text alignment-baseline=\"middle\" fill=\"white\" font-family=\"Futura\" font-size=\"9.24\" text-anchor=\"middle\" x=\"1177.0\" y=\"186.12\">333</text><rect fill=\"red\" height=\"15.84\" width=\"19.8\" x=\"1189.1\" y=\"176.88\"/><circle cx=\"1188.0\" cy=\"184.8\" fill=\"red\" r=\"1.1\" stroke=\"red\" stroke-width=\"0\"/><circle cx=\"1210.0\" cy=\"184.8\" fill=\"red\" r=\"1.1\" stroke=\"red\" stroke-width=\"0\"/><text alignment-baseline=\"middle\" fill=\"white\" font-family=\"Futura\" font-size=\"9.24\" text-anchor=\"middle\" x=\"1199.0\" y=\"186.12\">334</text><rect fill=\"red\" height=\"15.84\" width=\"19.8\" x=\"1211.1\" y=\"176.88\"/><circle cx=\"1210.0\" cy=\"184.8\" fill=\"red\" r=\"1.1\" stroke=\"red\" stroke-width=\"0\"/><circle cx=\"1232.0\" cy=\"184.8\" fill=\"red\" r=\"1.1\" stroke=\"red\" stroke-width=\"0\"/><text alignment-baseline=\"middle\" fill=\"white\" font-family=\"Futura\" font-size=\"9.24\" text-anchor=\"middle\" x=\"1221.0\" y=\"186.12\">335</text><rect fill=\"red\" height=\"15.84\" width=\"19.8\" x=\"1233.1\" y=\"176.88\"/><circle cx=\"1232.0\" cy=\"184.8\" fill=\"red\" r=\"1.1\" stroke=\"red\" stroke-width=\"0\"/><circle cx=\"1254.0\" cy=\"184.8\" fill=\"red\" r=\"1.1\" stroke=\"red\" stroke-width=\"0\"/><text alignment-baseline=\"middle\" fill=\"white\" font-family=\"Futura\" font-size=\"9.24\" text-anchor=\"middle\" x=\"1243.0\" y=\"186.12\">336</text><rect fill=\"red\" height=\"15.84\" width=\"19.8\" x=\"1255.1\" y=\"176.88\"/><circle cx=\"1254.0\" cy=\"184.8\" fill=\"red\" r=\"1.1\" stroke=\"red\" stroke-width=\"0\"/><circle cx=\"1276.0\" cy=\"184.8\" fill=\"red\" r=\"1.1\" stroke=\"red\" stroke-width=\"0\"/><text alignment-baseline=\"middle\" fill=\"white\" font-family=\"Futura\" font-size=\"9.24\" text-anchor=\"middle\" x=\"1265.0\" y=\"186.12\">337</text><rect fill=\"red\" height=\"15.84\" width=\"19.8\" x=\"1277.1\" y=\"176.88\"/><circle cx=\"1276.0\" cy=\"184.8\" fill=\"red\" r=\"1.1\" stroke=\"red\" stroke-width=\"0\"/><circle cx=\"1298.0\" cy=\"184.8\" fill=\"red\" r=\"1.1\" stroke=\"red\" stroke-width=\"0\"/><text alignment-baseline=\"middle\" fill=\"white\" font-family=\"Futura\" font-size=\"9.24\" text-anchor=\"middle\" x=\"1287.0\" y=\"186.12\">338</text><rect fill=\"red\" height=\"15.84\" width=\"19.8\" x=\"1299.1\" y=\"176.88\"/><circle cx=\"1298.0\" cy=\"184.8\" fill=\"red\" r=\"1.1\" stroke=\"red\" stroke-width=\"0\"/><circle cx=\"1320.0\" cy=\"184.8\" fill=\"red\" r=\"1.1\" stroke=\"red\" stroke-width=\"0\"/><text alignment-baseline=\"middle\" fill=\"white\" font-family=\"Futura\" font-size=\"9.24\" text-anchor=\"middle\" x=\"1309.0\" y=\"186.12\">339</text><rect fill=\"red\" height=\"15.84\" width=\"19.8\" x=\"1321.1\" y=\"176.88\"/><circle cx=\"1320.0\" cy=\"184.8\" fill=\"red\" r=\"1.1\" stroke=\"red\" stroke-width=\"0\"/><circle cx=\"1342.0\" cy=\"184.8\" fill=\"red\" r=\"1.1\" stroke=\"red\" stroke-width=\"0\"/><text alignment-baseline=\"middle\" fill=\"white\" font-family=\"Futura\" font-size=\"9.24\" text-anchor=\"middle\" x=\"1331.0\" y=\"186.12\">340</text><rect fill=\"red\" height=\"15.84\" width=\"19.8\" x=\"1343.1\" y=\"176.88\"/><circle cx=\"1342.0\" cy=\"184.8\" fill=\"red\" r=\"1.1\" stroke=\"red\" stroke-width=\"0\"/><circle cx=\"1364.0\" cy=\"184.8\" fill=\"red\" r=\"1.1\" stroke=\"red\" stroke-width=\"0\"/><text alignment-baseline=\"middle\" fill=\"white\" font-family=\"Futura\" font-size=\"9.24\" text-anchor=\"middle\" x=\"1353.0\" y=\"186.12\">341</text><rect fill=\"red\" height=\"15.84\" width=\"19.8\" x=\"1365.1\" y=\"176.88\"/><circle cx=\"1364.0\" cy=\"184.8\" fill=\"red\" r=\"1.1\" stroke=\"red\" stroke-width=\"0\"/><circle cx=\"1386.0\" cy=\"184.8\" fill=\"red\" r=\"1.1\" stroke=\"red\" stroke-width=\"0\"/><text alignment-baseline=\"middle\" fill=\"white\" font-family=\"Futura\" font-size=\"9.24\" text-anchor=\"middle\" x=\"1375.0\" y=\"186.12\">342</text><rect fill=\"red\" height=\"15.84\" width=\"19.8\" x=\"1387.1\" y=\"176.88\"/><circle cx=\"1386.0\" cy=\"184.8\" fill=\"red\" r=\"1.1\" stroke=\"red\" stroke-width=\"0\"/><circle cx=\"1408.0\" cy=\"184.8\" fill=\"red\" r=\"1.1\" stroke=\"red\" stroke-width=\"0\"/><text alignment-baseline=\"middle\" fill=\"white\" font-family=\"Futura\" font-size=\"9.24\" text-anchor=\"middle\" x=\"1397.0\" y=\"186.12\">343</text><rect fill=\"red\" height=\"15.84\" width=\"19.8\" x=\"1409.1\" y=\"176.88\"/><circle cx=\"1408.0\" cy=\"184.8\" fill=\"red\" r=\"1.1\" stroke=\"red\" stroke-width=\"0\"/><circle cx=\"1430.0\" cy=\"184.8\" fill=\"red\" r=\"1.1\" stroke=\"red\" stroke-width=\"0\"/><text alignment-baseline=\"middle\" fill=\"white\" font-family=\"Futura\" font-size=\"9.24\" text-anchor=\"middle\" x=\"1419.0\" y=\"186.12\">344</text><rect fill=\"red\" height=\"15.84\" width=\"19.8\" x=\"1431.1\" y=\"176.88\"/><circle cx=\"1430.0\" cy=\"184.8\" fill=\"red\" r=\"1.1\" stroke=\"red\" stroke-width=\"0\"/><circle cx=\"1452.0\" cy=\"184.8\" fill=\"red\" r=\"1.1\" stroke=\"red\" stroke-width=\"0\"/><text alignment-baseline=\"middle\" fill=\"white\" font-family=\"Futura\" font-size=\"9.24\" text-anchor=\"middle\" x=\"1441.0\" y=\"186.12\">345</text><rect fill=\"red\" height=\"15.84\" width=\"19.8\" x=\"1453.1\" y=\"176.88\"/><circle cx=\"1452.0\" cy=\"184.8\" fill=\"red\" r=\"1.1\" stroke=\"red\" stroke-width=\"0\"/><circle cx=\"1474.0\" cy=\"184.8\" fill=\"red\" r=\"1.1\" stroke=\"red\" stroke-width=\"0\"/><text alignment-baseline=\"middle\" fill=\"white\" font-family=\"Futura\" font-size=\"9.24\" text-anchor=\"middle\" x=\"1463.0\" y=\"186.12\">346</text><rect fill=\"red\" height=\"15.84\" width=\"19.8\" x=\"1475.1\" y=\"176.88\"/><circle cx=\"1474.0\" cy=\"184.8\" fill=\"red\" r=\"1.1\" stroke=\"red\" stroke-width=\"0\"/><circle cx=\"1496.0\" cy=\"184.8\" fill=\"red\" r=\"1.1\" stroke=\"red\" stroke-width=\"0\"/><text alignment-baseline=\"middle\" fill=\"white\" font-family=\"Futura\" font-size=\"9.24\" text-anchor=\"middle\" x=\"1485.0\" y=\"186.12\">347</text><rect fill=\"red\" height=\"15.84\" width=\"19.8\" x=\"1497.1\" y=\"176.88\"/><circle cx=\"1496.0\" cy=\"184.8\" fill=\"red\" r=\"1.1\" stroke=\"red\" stroke-width=\"0\"/><circle cx=\"1518.0\" cy=\"184.8\" fill=\"red\" r=\"1.1\" stroke=\"red\" stroke-width=\"0\"/><text alignment-baseline=\"middle\" fill=\"white\" font-family=\"Futura\" font-size=\"9.24\" text-anchor=\"middle\" x=\"1507.0\" y=\"186.12\">348</text><rect fill=\"red\" height=\"15.84\" width=\"19.8\" x=\"1519.1\" y=\"176.88\"/><circle cx=\"1518.0\" cy=\"184.8\" fill=\"red\" r=\"1.1\" stroke=\"red\" stroke-width=\"0\"/><circle cx=\"1540.0\" cy=\"184.8\" fill=\"red\" r=\"1.1\" stroke=\"red\" stroke-width=\"0\"/><text alignment-baseline=\"middle\" fill=\"white\" font-family=\"Futura\" font-size=\"9.24\" text-anchor=\"middle\" x=\"1529.0\" y=\"186.12\">349</text><rect fill=\"red\" height=\"15.84\" width=\"19.8\" x=\"1541.1\" y=\"176.88\"/><circle cx=\"1540.0\" cy=\"184.8\" fill=\"red\" r=\"1.1\" stroke=\"red\" stroke-width=\"0\"/><circle cx=\"1562.0\" cy=\"184.8\" fill=\"red\" r=\"1.1\" stroke=\"red\" stroke-width=\"0\"/><text alignment-baseline=\"middle\" fill=\"white\" font-family=\"Futura\" font-size=\"9.24\" text-anchor=\"middle\" x=\"1551.0\" y=\"186.12\">350</text><rect fill=\"red\" height=\"15.84\" width=\"19.8\" x=\"1563.1\" y=\"176.88\"/><circle cx=\"1562.0\" cy=\"184.8\" fill=\"red\" r=\"1.1\" stroke=\"red\" stroke-width=\"0\"/><circle cx=\"1584.0\" cy=\"184.8\" fill=\"red\" r=\"1.1\" stroke=\"red\" stroke-width=\"0\"/><text alignment-baseline=\"middle\" fill=\"white\" font-family=\"Futura\" font-size=\"9.24\" text-anchor=\"middle\" x=\"1573.0\" y=\"186.12\">351</text><rect fill=\"red\" height=\"15.84\" width=\"19.8\" x=\"1585.1\" y=\"176.88\"/><circle cx=\"1584.0\" cy=\"184.8\" fill=\"red\" r=\"1.1\" stroke=\"red\" stroke-width=\"0\"/><circle cx=\"1606.0\" cy=\"184.8\" fill=\"red\" r=\"1.1\" stroke=\"red\" stroke-width=\"0\"/><text alignment-baseline=\"middle\" fill=\"white\" font-family=\"Futura\" font-size=\"9.24\" text-anchor=\"middle\" x=\"1595.0\" y=\"186.12\">352</text><rect fill=\"red\" height=\"15.84\" width=\"19.8\" x=\"1607.1\" y=\"176.88\"/><circle cx=\"1606.0\" cy=\"184.8\" fill=\"red\" r=\"1.1\" stroke=\"red\" stroke-width=\"0\"/><circle cx=\"1628.0\" cy=\"184.8\" fill=\"red\" r=\"1.1\" stroke=\"red\" stroke-width=\"0\"/><text alignment-baseline=\"middle\" fill=\"white\" font-family=\"Futura\" font-size=\"9.24\" text-anchor=\"middle\" x=\"1617.0\" y=\"186.12\">353</text><rect fill=\"red\" height=\"15.84\" width=\"19.8\" x=\"1629.1\" y=\"176.88\"/><circle cx=\"1628.0\" cy=\"184.8\" fill=\"red\" r=\"1.1\" stroke=\"red\" stroke-width=\"0\"/><circle cx=\"1650.0\" cy=\"184.8\" fill=\"red\" r=\"1.1\" stroke=\"red\" stroke-width=\"0\"/><text alignment-baseline=\"middle\" fill=\"white\" font-family=\"Futura\" font-size=\"9.24\" text-anchor=\"middle\" x=\"1639.0\" y=\"186.12\">354</text><rect fill=\"red\" height=\"15.84\" width=\"19.8\" x=\"1651.1\" y=\"176.88\"/><circle cx=\"1650.0\" cy=\"184.8\" fill=\"red\" r=\"1.1\" stroke=\"red\" stroke-width=\"0\"/><circle cx=\"1672.0\" cy=\"184.8\" fill=\"red\" r=\"1.1\" stroke=\"red\" stroke-width=\"0\"/><text alignment-baseline=\"middle\" fill=\"white\" font-family=\"Futura\" font-size=\"9.24\" text-anchor=\"middle\" x=\"1661.0\" y=\"186.12\">355</text><rect fill=\"red\" height=\"15.84\" width=\"19.8\" x=\"1673.1\" y=\"176.88\"/><circle cx=\"1672.0\" cy=\"184.8\" fill=\"red\" r=\"1.1\" stroke=\"red\" stroke-width=\"0\"/><circle cx=\"1694.0\" cy=\"184.8\" fill=\"red\" r=\"1.1\" stroke=\"red\" stroke-width=\"0\"/><text alignment-baseline=\"middle\" fill=\"white\" font-family=\"Futura\" font-size=\"9.24\" text-anchor=\"middle\" x=\"1683.0\" y=\"186.12\">356</text><rect fill=\"red\" height=\"15.84\" width=\"19.8\" x=\"1695.1\" y=\"176.88\"/><circle cx=\"1694.0\" cy=\"184.8\" fill=\"red\" r=\"1.1\" stroke=\"red\" stroke-width=\"0\"/><circle cx=\"1716.0\" cy=\"184.8\" fill=\"red\" r=\"1.1\" stroke=\"red\" stroke-width=\"0\"/><text alignment-baseline=\"middle\" fill=\"white\" font-family=\"Futura\" font-size=\"9.24\" text-anchor=\"middle\" x=\"1705.0\" y=\"186.12\">357</text><rect fill=\"red\" height=\"15.84\" width=\"19.8\" x=\"1717.1\" y=\"176.88\"/><circle cx=\"1716.0\" cy=\"184.8\" fill=\"red\" r=\"1.1\" stroke=\"red\" stroke-width=\"0\"/><circle cx=\"1738.0\" cy=\"184.8\" fill=\"red\" r=\"1.1\" stroke=\"red\" stroke-width=\"0\"/><text alignment-baseline=\"middle\" fill=\"white\" font-family=\"Futura\" font-size=\"9.24\" text-anchor=\"middle\" x=\"1727.0\" y=\"186.12\">358</text><rect fill=\"red\" height=\"15.84\" width=\"19.8\" x=\"1739.1\" y=\"176.88\"/><circle cx=\"1738.0\" cy=\"184.8\" fill=\"red\" r=\"1.1\" stroke=\"red\" stroke-width=\"0\"/><circle cx=\"1760.0\" cy=\"184.8\" fill=\"red\" r=\"1.1\" stroke=\"red\" stroke-width=\"0\"/><text alignment-baseline=\"middle\" fill=\"white\" font-family=\"Futura\" font-size=\"9.24\" text-anchor=\"middle\" x=\"1749.0\" y=\"186.12\">359</text><rect fill=\"red\" height=\"15.84\" width=\"19.8\" x=\"1761.1\" y=\"176.88\"/><circle cx=\"1760.0\" cy=\"184.8\" fill=\"red\" r=\"1.1\" stroke=\"red\" stroke-width=\"0\"/><circle cx=\"1782.0\" cy=\"184.8\" fill=\"red\" r=\"1.1\" stroke=\"red\" stroke-width=\"0\"/><text alignment-baseline=\"middle\" fill=\"white\" font-family=\"Futura\" font-size=\"9.24\" text-anchor=\"middle\" x=\"1771.0\" y=\"186.12\">360</text><rect fill=\"red\" height=\"15.84\" width=\"19.8\" x=\"1783.1\" y=\"176.88\"/><circle cx=\"1782.0\" cy=\"184.8\" fill=\"red\" r=\"1.1\" stroke=\"red\" stroke-width=\"0\"/><circle cx=\"1804.0\" cy=\"184.8\" fill=\"red\" r=\"1.1\" stroke=\"red\" stroke-width=\"0\"/><text alignment-baseline=\"middle\" fill=\"white\" font-family=\"Futura\" font-size=\"9.24\" text-anchor=\"middle\" x=\"1793.0\" y=\"186.12\">361</text><rect fill=\"red\" height=\"15.84\" width=\"19.8\" x=\"1805.1\" y=\"176.88\"/><circle cx=\"1804.0\" cy=\"184.8\" fill=\"red\" r=\"1.1\" stroke=\"red\" stroke-width=\"0\"/><circle cx=\"1826.0\" cy=\"184.8\" fill=\"red\" r=\"1.1\" stroke=\"red\" stroke-width=\"0\"/><text alignment-baseline=\"middle\" fill=\"white\" font-family=\"Futura\" font-size=\"9.24\" text-anchor=\"middle\" x=\"1815.0\" y=\"186.12\">362</text><rect fill=\"red\" height=\"15.84\" width=\"19.8\" x=\"1827.1\" y=\"176.88\"/><circle cx=\"1826.0\" cy=\"184.8\" fill=\"red\" r=\"1.1\" stroke=\"red\" stroke-width=\"0\"/><circle cx=\"1848.0\" cy=\"184.8\" fill=\"red\" r=\"1.1\" stroke=\"red\" stroke-width=\"0\"/><text alignment-baseline=\"middle\" fill=\"white\" font-family=\"Futura\" font-size=\"9.24\" text-anchor=\"middle\" x=\"1837.0\" y=\"186.12\">363</text><rect fill=\"red\" height=\"15.84\" width=\"19.8\" x=\"1849.1\" y=\"176.88\"/><circle cx=\"1848.0\" cy=\"184.8\" fill=\"red\" r=\"1.1\" stroke=\"red\" stroke-width=\"0\"/><circle cx=\"1870.0\" cy=\"184.8\" fill=\"red\" r=\"1.1\" stroke=\"red\" stroke-width=\"0\"/><text alignment-baseline=\"middle\" fill=\"white\" font-family=\"Futura\" font-size=\"9.24\" text-anchor=\"middle\" x=\"1859.0\" y=\"186.12\">364</text><rect fill=\"red\" height=\"15.84\" width=\"19.8\" x=\"1871.1\" y=\"176.88\"/><circle cx=\"1870.0\" cy=\"184.8\" fill=\"red\" r=\"1.1\" stroke=\"red\" stroke-width=\"0\"/><circle cx=\"1892.0\" cy=\"184.8\" fill=\"red\" r=\"1.1\" stroke=\"red\" stroke-width=\"0\"/><text alignment-baseline=\"middle\" fill=\"white\" font-family=\"Futura\" font-size=\"9.24\" text-anchor=\"middle\" x=\"1881.0\" y=\"186.12\">365</text><rect fill=\"red\" height=\"15.84\" width=\"19.8\" x=\"1893.1\" y=\"176.88\"/><circle cx=\"1892.0\" cy=\"184.8\" fill=\"red\" r=\"1.1\" stroke=\"red\" stroke-width=\"0\"/><circle cx=\"1914.0\" cy=\"184.8\" fill=\"red\" r=\"1.1\" stroke=\"red\" stroke-width=\"0\"/><text alignment-baseline=\"middle\" fill=\"white\" font-family=\"Futura\" font-size=\"9.24\" text-anchor=\"middle\" x=\"1903.0\" y=\"186.12\">366</text><rect fill=\"red\" height=\"15.84\" width=\"19.8\" x=\"1915.1\" y=\"176.88\"/><circle cx=\"1914.0\" cy=\"184.8\" fill=\"red\" r=\"1.1\" stroke=\"red\" stroke-width=\"0\"/><circle cx=\"1936.0\" cy=\"184.8\" fill=\"red\" r=\"1.1\" stroke=\"red\" stroke-width=\"0\"/><text alignment-baseline=\"middle\" fill=\"white\" font-family=\"Futura\" font-size=\"9.24\" text-anchor=\"middle\" x=\"1925.0\" y=\"186.12\">367</text><rect fill=\"red\" height=\"15.84\" width=\"19.8\" x=\"1937.1\" y=\"176.88\"/><circle cx=\"1936.0\" cy=\"184.8\" fill=\"red\" r=\"1.1\" stroke=\"red\" stroke-width=\"0\"/><circle cx=\"1958.0\" cy=\"184.8\" fill=\"red\" r=\"1.1\" stroke=\"red\" stroke-width=\"0\"/><text alignment-baseline=\"middle\" fill=\"white\" font-family=\"Futura\" font-size=\"9.24\" text-anchor=\"middle\" x=\"1947.0\" y=\"186.12\">368</text><rect fill=\"red\" height=\"15.84\" width=\"19.8\" x=\"1959.1\" y=\"176.88\"/><circle cx=\"1958.0\" cy=\"184.8\" fill=\"red\" r=\"1.1\" stroke=\"red\" stroke-width=\"0\"/><circle cx=\"1980.0\" cy=\"184.8\" fill=\"red\" r=\"1.1\" stroke=\"red\" stroke-width=\"0\"/><text alignment-baseline=\"middle\" fill=\"white\" font-family=\"Futura\" font-size=\"9.24\" text-anchor=\"middle\" x=\"1969.0\" y=\"186.12\">369</text><rect fill=\"red\" height=\"15.84\" width=\"19.8\" x=\"1981.1\" y=\"176.88\"/><circle cx=\"1980.0\" cy=\"184.8\" fill=\"red\" r=\"1.1\" stroke=\"red\" stroke-width=\"0\"/><circle cx=\"2002.0\" cy=\"184.8\" fill=\"red\" r=\"1.1\" stroke=\"red\" stroke-width=\"0\"/><text alignment-baseline=\"middle\" fill=\"white\" font-family=\"Futura\" font-size=\"9.24\" text-anchor=\"middle\" x=\"1991.0\" y=\"186.12\">370</text><rect fill=\"red\" height=\"15.84\" width=\"19.8\" x=\"2003.1\" y=\"176.88\"/><circle cx=\"2002.0\" cy=\"184.8\" fill=\"red\" r=\"1.1\" stroke=\"red\" stroke-width=\"0\"/><circle cx=\"2024.0\" cy=\"184.8\" fill=\"red\" r=\"1.1\" stroke=\"red\" stroke-width=\"0\"/><text alignment-baseline=\"middle\" fill=\"white\" font-family=\"Futura\" font-size=\"9.24\" text-anchor=\"middle\" x=\"2013.0\" y=\"186.12\">371</text><rect fill=\"red\" height=\"15.84\" width=\"19.8\" x=\"2025.1\" y=\"176.88\"/><circle cx=\"2024.0\" cy=\"184.8\" fill=\"red\" r=\"1.1\" stroke=\"red\" stroke-width=\"0\"/><circle cx=\"2046.0\" cy=\"184.8\" fill=\"red\" r=\"1.1\" stroke=\"red\" stroke-width=\"0\"/><text alignment-baseline=\"middle\" fill=\"white\" font-family=\"Futura\" font-size=\"9.24\" text-anchor=\"middle\" x=\"2035.0\" y=\"186.12\">372</text><rect fill=\"red\" height=\"15.84\" width=\"19.8\" x=\"2047.1\" y=\"176.88\"/><circle cx=\"2046.0\" cy=\"184.8\" fill=\"red\" r=\"1.1\" stroke=\"red\" stroke-width=\"0\"/><circle cx=\"2068.0\" cy=\"184.8\" fill=\"red\" r=\"1.1\" stroke=\"red\" stroke-width=\"0\"/><text alignment-baseline=\"middle\" fill=\"white\" font-family=\"Futura\" font-size=\"9.24\" text-anchor=\"middle\" x=\"2057.0\" y=\"186.12\">373</text><rect fill=\"red\" height=\"15.84\" width=\"19.8\" x=\"2069.1\" y=\"176.88\"/><circle cx=\"2068.0\" cy=\"184.8\" fill=\"red\" r=\"1.1\" stroke=\"red\" stroke-width=\"0\"/><circle cx=\"2090.0\" cy=\"184.8\" fill=\"red\" r=\"1.1\" stroke=\"red\" stroke-width=\"0\"/><text alignment-baseline=\"middle\" fill=\"white\" font-family=\"Futura\" font-size=\"9.24\" text-anchor=\"middle\" x=\"2079.0\" y=\"186.12\">374</text><rect fill=\"red\" height=\"15.84\" width=\"19.8\" x=\"2091.1\" y=\"176.88\"/><circle cx=\"2090.0\" cy=\"184.8\" fill=\"red\" r=\"1.1\" stroke=\"red\" stroke-width=\"0\"/><circle cx=\"2112.0\" cy=\"184.8\" fill=\"red\" r=\"1.1\" stroke=\"red\" stroke-width=\"0\"/><text alignment-baseline=\"middle\" fill=\"white\" font-family=\"Futura\" font-size=\"9.24\" text-anchor=\"middle\" x=\"2101.0\" y=\"186.12\">375</text><rect fill=\"red\" height=\"15.84\" width=\"19.8\" x=\"2113.1\" y=\"176.88\"/><circle cx=\"2112.0\" cy=\"184.8\" fill=\"red\" r=\"1.1\" stroke=\"red\" stroke-width=\"0\"/><circle cx=\"2134.0\" cy=\"184.8\" fill=\"red\" r=\"1.1\" stroke=\"red\" stroke-width=\"0\"/><text alignment-baseline=\"middle\" fill=\"white\" font-family=\"Futura\" font-size=\"9.24\" text-anchor=\"middle\" x=\"2123.0\" y=\"186.12\">376</text><rect fill=\"red\" height=\"15.84\" width=\"19.8\" x=\"2135.1\" y=\"176.88\"/><circle cx=\"2134.0\" cy=\"184.8\" fill=\"red\" r=\"1.1\" stroke=\"red\" stroke-width=\"0\"/><circle cx=\"2156.0\" cy=\"184.8\" fill=\"red\" r=\"1.1\" stroke=\"red\" stroke-width=\"0\"/><text alignment-baseline=\"middle\" fill=\"white\" font-family=\"Futura\" font-size=\"9.24\" text-anchor=\"middle\" x=\"2145.0\" y=\"186.12\">377</text><rect fill=\"red\" height=\"15.84\" width=\"19.8\" x=\"2157.1\" y=\"176.88\"/><circle cx=\"2156.0\" cy=\"184.8\" fill=\"red\" r=\"1.1\" stroke=\"red\" stroke-width=\"0\"/><circle cx=\"2178.0\" cy=\"184.8\" fill=\"red\" r=\"1.1\" stroke=\"red\" stroke-width=\"0\"/><text alignment-baseline=\"middle\" fill=\"white\" font-family=\"Futura\" font-size=\"9.24\" text-anchor=\"middle\" x=\"2167.0\" y=\"186.12\">378</text><rect fill=\"red\" height=\"15.84\" width=\"19.8\" x=\"2179.1\" y=\"176.88\"/><circle cx=\"2178.0\" cy=\"184.8\" fill=\"red\" r=\"1.1\" stroke=\"red\" stroke-width=\"0\"/><circle cx=\"2200.0\" cy=\"184.8\" fill=\"red\" r=\"1.1\" stroke=\"red\" stroke-width=\"0\"/><text alignment-baseline=\"middle\" fill=\"white\" font-family=\"Futura\" font-size=\"9.24\" text-anchor=\"middle\" x=\"2189.0\" y=\"186.12\">379</text><rect fill=\"red\" height=\"15.84\" width=\"19.8\" x=\"2201.1\" y=\"176.88\"/><circle cx=\"2200.0\" cy=\"184.8\" fill=\"red\" r=\"1.1\" stroke=\"red\" stroke-width=\"0\"/><circle cx=\"2222.0\" cy=\"184.8\" fill=\"red\" r=\"1.1\" stroke=\"red\" stroke-width=\"0\"/><text alignment-baseline=\"middle\" fill=\"white\" font-family=\"Futura\" font-size=\"9.24\" text-anchor=\"middle\" x=\"2211.0\" y=\"186.12\">380</text><rect fill=\"red\" height=\"15.84\" width=\"19.8\" x=\"2223.1\" y=\"176.88\"/><circle cx=\"2222.0\" cy=\"184.8\" fill=\"red\" r=\"1.1\" stroke=\"red\" stroke-width=\"0\"/><circle cx=\"2244.0\" cy=\"184.8\" fill=\"red\" r=\"1.1\" stroke=\"red\" stroke-width=\"0\"/><text alignment-baseline=\"middle\" fill=\"white\" font-family=\"Futura\" font-size=\"9.24\" text-anchor=\"middle\" x=\"2233.0\" y=\"186.12\">381</text><rect fill=\"red\" height=\"15.84\" width=\"19.8\" x=\"2245.1\" y=\"176.88\"/><circle cx=\"2244.0\" cy=\"184.8\" fill=\"red\" r=\"1.1\" stroke=\"red\" stroke-width=\"0\"/><text alignment-baseline=\"middle\" fill=\"white\" font-family=\"Futura\" font-size=\"9.24\" text-anchor=\"middle\" x=\"2255.0\" y=\"186.12\">382</text><line stroke=\"green\" stroke-width=\"1.32\" x1=\"2090.0\" x2=\"2090.0\" y1=\"186.12\" y2=\"236.28\"/><text alignment-baseline=\"middle\" fill=\"black\" font-family=\"Futura\" font-size=\"9.24\" text-anchor=\"end\" x=\"655.6\" y=\"238.92\">7b</text><rect fill=\"green\" height=\"15.84\" width=\"19.8\" x=\"661.1\" y=\"229.68\"/><circle cx=\"682.0\" cy=\"237.6\" fill=\"green\" r=\"1.1\" stroke=\"green\" stroke-width=\"0\"/><text alignment-baseline=\"middle\" fill=\"white\" font-family=\"Futura\" font-size=\"9.24\" text-anchor=\"middle\" x=\"671.0\" y=\"238.92\">383</text><rect fill=\"green\" height=\"15.84\" width=\"19.8\" x=\"683.1\" y=\"229.68\"/><circle cx=\"682.0\" cy=\"237.6\" fill=\"green\" r=\"1.1\" stroke=\"green\" stroke-width=\"0\"/><circle cx=\"704.0\" cy=\"237.6\" fill=\"green\" r=\"1.1\" stroke=\"green\" stroke-width=\"0\"/><text alignment-baseline=\"middle\" fill=\"white\" font-family=\"Futura\" font-size=\"9.24\" text-anchor=\"middle\" x=\"693.0\" y=\"238.92\">384</text><rect fill=\"green\" height=\"15.84\" width=\"19.8\" x=\"705.1\" y=\"229.68\"/><circle cx=\"704.0\" cy=\"237.6\" fill=\"green\" r=\"1.1\" stroke=\"green\" stroke-width=\"0\"/><circle cx=\"726.0\" cy=\"237.6\" fill=\"green\" r=\"1.1\" stroke=\"green\" stroke-width=\"0\"/><text alignment-baseline=\"middle\" fill=\"white\" font-family=\"Futura\" font-size=\"9.24\" text-anchor=\"middle\" x=\"715.0\" y=\"238.92\">385</text><rect fill=\"green\" height=\"15.84\" width=\"19.8\" x=\"727.1\" y=\"229.68\"/><circle cx=\"726.0\" cy=\"237.6\" fill=\"green\" r=\"1.1\" stroke=\"green\" stroke-width=\"0\"/><circle cx=\"748.0\" cy=\"237.6\" fill=\"green\" r=\"1.1\" stroke=\"green\" stroke-width=\"0\"/><text alignment-baseline=\"middle\" fill=\"white\" font-family=\"Futura\" font-size=\"9.24\" text-anchor=\"middle\" x=\"737.0\" y=\"238.92\">386</text><rect fill=\"green\" height=\"15.84\" width=\"19.8\" x=\"749.1\" y=\"229.68\"/><circle cx=\"748.0\" cy=\"237.6\" fill=\"green\" r=\"1.1\" stroke=\"green\" stroke-width=\"0\"/><circle cx=\"770.0\" cy=\"237.6\" fill=\"green\" r=\"1.1\" stroke=\"green\" stroke-width=\"0\"/><text alignment-baseline=\"middle\" fill=\"white\" font-family=\"Futura\" font-size=\"9.24\" text-anchor=\"middle\" x=\"759.0\" y=\"238.92\">387</text><rect fill=\"green\" height=\"15.84\" width=\"19.8\" x=\"771.1\" y=\"229.68\"/><circle cx=\"770.0\" cy=\"237.6\" fill=\"green\" r=\"1.1\" stroke=\"green\" stroke-width=\"0\"/><circle cx=\"792.0\" cy=\"237.6\" fill=\"green\" r=\"1.1\" stroke=\"green\" stroke-width=\"0\"/><text alignment-baseline=\"middle\" fill=\"white\" font-family=\"Futura\" font-size=\"9.24\" text-anchor=\"middle\" x=\"781.0\" y=\"238.92\">388</text><rect fill=\"green\" height=\"15.84\" width=\"19.8\" x=\"793.1\" y=\"229.68\"/><circle cx=\"792.0\" cy=\"237.6\" fill=\"green\" r=\"1.1\" stroke=\"green\" stroke-width=\"0\"/><circle cx=\"814.0\" cy=\"237.6\" fill=\"green\" r=\"1.1\" stroke=\"green\" stroke-width=\"0\"/><text alignment-baseline=\"middle\" fill=\"white\" font-family=\"Futura\" font-size=\"9.24\" text-anchor=\"middle\" x=\"803.0\" y=\"238.92\">389</text><rect fill=\"green\" height=\"15.84\" width=\"19.8\" x=\"815.1\" y=\"229.68\"/><circle cx=\"814.0\" cy=\"237.6\" fill=\"green\" r=\"1.1\" stroke=\"green\" stroke-width=\"0\"/><circle cx=\"836.0\" cy=\"237.6\" fill=\"green\" r=\"1.1\" stroke=\"green\" stroke-width=\"0\"/><text alignment-baseline=\"middle\" fill=\"white\" font-family=\"Futura\" font-size=\"9.24\" text-anchor=\"middle\" x=\"825.0\" y=\"238.92\">390</text><rect fill=\"green\" height=\"15.84\" width=\"19.8\" x=\"837.1\" y=\"229.68\"/><circle cx=\"836.0\" cy=\"237.6\" fill=\"green\" r=\"1.1\" stroke=\"green\" stroke-width=\"0\"/><circle cx=\"858.0\" cy=\"237.6\" fill=\"green\" r=\"1.1\" stroke=\"green\" stroke-width=\"0\"/><text alignment-baseline=\"middle\" fill=\"white\" font-family=\"Futura\" font-size=\"9.24\" text-anchor=\"middle\" x=\"847.0\" y=\"238.92\">391</text><rect fill=\"green\" height=\"15.84\" width=\"19.8\" x=\"859.1\" y=\"229.68\"/><circle cx=\"858.0\" cy=\"237.6\" fill=\"green\" r=\"1.1\" stroke=\"green\" stroke-width=\"0\"/><circle cx=\"880.0\" cy=\"237.6\" fill=\"green\" r=\"1.1\" stroke=\"green\" stroke-width=\"0\"/><text alignment-baseline=\"middle\" fill=\"white\" font-family=\"Futura\" font-size=\"9.24\" text-anchor=\"middle\" x=\"869.0\" y=\"238.92\">392</text><rect fill=\"green\" height=\"15.84\" width=\"19.8\" x=\"881.1\" y=\"229.68\"/><circle cx=\"880.0\" cy=\"237.6\" fill=\"green\" r=\"1.1\" stroke=\"green\" stroke-width=\"0\"/><circle cx=\"902.0\" cy=\"237.6\" fill=\"green\" r=\"1.1\" stroke=\"green\" stroke-width=\"0\"/><text alignment-baseline=\"middle\" fill=\"white\" font-family=\"Futura\" font-size=\"9.24\" text-anchor=\"middle\" x=\"891.0\" y=\"238.92\">393</text><rect fill=\"green\" height=\"15.84\" width=\"19.8\" x=\"903.1\" y=\"229.68\"/><circle cx=\"902.0\" cy=\"237.6\" fill=\"green\" r=\"1.1\" stroke=\"green\" stroke-width=\"0\"/><circle cx=\"924.0\" cy=\"237.6\" fill=\"green\" r=\"1.1\" stroke=\"green\" stroke-width=\"0\"/><text alignment-baseline=\"middle\" fill=\"white\" font-family=\"Futura\" font-size=\"9.24\" text-anchor=\"middle\" x=\"913.0\" y=\"238.92\">394</text><rect fill=\"green\" height=\"15.84\" width=\"19.8\" x=\"925.1\" y=\"229.68\"/><circle cx=\"924.0\" cy=\"237.6\" fill=\"green\" r=\"1.1\" stroke=\"green\" stroke-width=\"0\"/><circle cx=\"946.0\" cy=\"237.6\" fill=\"green\" r=\"1.1\" stroke=\"green\" stroke-width=\"0\"/><text alignment-baseline=\"middle\" fill=\"white\" font-family=\"Futura\" font-size=\"9.24\" text-anchor=\"middle\" x=\"935.0\" y=\"238.92\">395</text><rect fill=\"green\" height=\"15.84\" width=\"19.8\" x=\"947.1\" y=\"229.68\"/><circle cx=\"946.0\" cy=\"237.6\" fill=\"green\" r=\"1.1\" stroke=\"green\" stroke-width=\"0\"/><circle cx=\"968.0\" cy=\"237.6\" fill=\"green\" r=\"1.1\" stroke=\"green\" stroke-width=\"0\"/><text alignment-baseline=\"middle\" fill=\"white\" font-family=\"Futura\" font-size=\"9.24\" text-anchor=\"middle\" x=\"957.0\" y=\"238.92\">396</text><rect fill=\"green\" height=\"15.84\" width=\"19.8\" x=\"969.1\" y=\"229.68\"/><circle cx=\"968.0\" cy=\"237.6\" fill=\"green\" r=\"1.1\" stroke=\"green\" stroke-width=\"0\"/><circle cx=\"990.0\" cy=\"237.6\" fill=\"green\" r=\"1.1\" stroke=\"green\" stroke-width=\"0\"/><text alignment-baseline=\"middle\" fill=\"white\" font-family=\"Futura\" font-size=\"9.24\" text-anchor=\"middle\" x=\"979.0\" y=\"238.92\">397</text><rect fill=\"green\" height=\"15.84\" width=\"19.8\" x=\"991.1\" y=\"229.68\"/><circle cx=\"990.0\" cy=\"237.6\" fill=\"green\" r=\"1.1\" stroke=\"green\" stroke-width=\"0\"/><circle cx=\"1012.0\" cy=\"237.6\" fill=\"green\" r=\"1.1\" stroke=\"green\" stroke-width=\"0\"/><text alignment-baseline=\"middle\" fill=\"white\" font-family=\"Futura\" font-size=\"9.24\" text-anchor=\"middle\" x=\"1001.0\" y=\"238.92\">398</text><rect fill=\"green\" height=\"15.84\" width=\"19.8\" x=\"1013.1\" y=\"229.68\"/><circle cx=\"1012.0\" cy=\"237.6\" fill=\"green\" r=\"1.1\" stroke=\"green\" stroke-width=\"0\"/><circle cx=\"1034.0\" cy=\"237.6\" fill=\"green\" r=\"1.1\" stroke=\"green\" stroke-width=\"0\"/><text alignment-baseline=\"middle\" fill=\"white\" font-family=\"Futura\" font-size=\"9.24\" text-anchor=\"middle\" x=\"1023.0\" y=\"238.92\">399</text><rect fill=\"green\" height=\"15.84\" width=\"19.8\" x=\"1035.1\" y=\"229.68\"/><circle cx=\"1034.0\" cy=\"237.6\" fill=\"green\" r=\"1.1\" stroke=\"green\" stroke-width=\"0\"/><circle cx=\"1056.0\" cy=\"237.6\" fill=\"green\" r=\"1.1\" stroke=\"green\" stroke-width=\"0\"/><text alignment-baseline=\"middle\" fill=\"white\" font-family=\"Futura\" font-size=\"9.24\" text-anchor=\"middle\" x=\"1045.0\" y=\"238.92\">400</text><rect fill=\"green\" height=\"15.84\" width=\"19.8\" x=\"1057.1\" y=\"229.68\"/><circle cx=\"1056.0\" cy=\"237.6\" fill=\"green\" r=\"1.1\" stroke=\"green\" stroke-width=\"0\"/><circle cx=\"1078.0\" cy=\"237.6\" fill=\"green\" r=\"1.1\" stroke=\"green\" stroke-width=\"0\"/><text alignment-baseline=\"middle\" fill=\"white\" font-family=\"Futura\" font-size=\"9.24\" text-anchor=\"middle\" x=\"1067.0\" y=\"238.92\">401</text><rect fill=\"green\" height=\"15.84\" width=\"19.8\" x=\"1079.1\" y=\"229.68\"/><circle cx=\"1078.0\" cy=\"237.6\" fill=\"green\" r=\"1.1\" stroke=\"green\" stroke-width=\"0\"/><circle cx=\"1100.0\" cy=\"237.6\" fill=\"green\" r=\"1.1\" stroke=\"green\" stroke-width=\"0\"/><text alignment-baseline=\"middle\" fill=\"white\" font-family=\"Futura\" font-size=\"9.24\" text-anchor=\"middle\" x=\"1089.0\" y=\"238.92\">402</text><rect fill=\"green\" height=\"15.84\" width=\"19.8\" x=\"1101.1\" y=\"229.68\"/><circle cx=\"1100.0\" cy=\"237.6\" fill=\"green\" r=\"1.1\" stroke=\"green\" stroke-width=\"0\"/><circle cx=\"1122.0\" cy=\"237.6\" fill=\"green\" r=\"1.1\" stroke=\"green\" stroke-width=\"0\"/><text alignment-baseline=\"middle\" fill=\"white\" font-family=\"Futura\" font-size=\"9.24\" text-anchor=\"middle\" x=\"1111.0\" y=\"238.92\">403</text><rect fill=\"green\" height=\"15.84\" width=\"19.8\" x=\"1123.1\" y=\"229.68\"/><circle cx=\"1122.0\" cy=\"237.6\" fill=\"green\" r=\"1.1\" stroke=\"green\" stroke-width=\"0\"/><circle cx=\"1144.0\" cy=\"237.6\" fill=\"green\" r=\"1.1\" stroke=\"green\" stroke-width=\"0\"/><text alignment-baseline=\"middle\" fill=\"white\" font-family=\"Futura\" font-size=\"9.24\" text-anchor=\"middle\" x=\"1133.0\" y=\"238.92\">404</text><rect fill=\"green\" height=\"15.84\" width=\"19.8\" x=\"1145.1\" y=\"229.68\"/><circle cx=\"1144.0\" cy=\"237.6\" fill=\"green\" r=\"1.1\" stroke=\"green\" stroke-width=\"0\"/><circle cx=\"1166.0\" cy=\"237.6\" fill=\"green\" r=\"1.1\" stroke=\"green\" stroke-width=\"0\"/><text alignment-baseline=\"middle\" fill=\"white\" font-family=\"Futura\" font-size=\"9.24\" text-anchor=\"middle\" x=\"1155.0\" y=\"238.92\">405</text><rect fill=\"green\" height=\"15.84\" width=\"19.8\" x=\"1167.1\" y=\"229.68\"/><circle cx=\"1166.0\" cy=\"237.6\" fill=\"green\" r=\"1.1\" stroke=\"green\" stroke-width=\"0\"/><circle cx=\"1188.0\" cy=\"237.6\" fill=\"green\" r=\"1.1\" stroke=\"green\" stroke-width=\"0\"/><text alignment-baseline=\"middle\" fill=\"white\" font-family=\"Futura\" font-size=\"9.24\" text-anchor=\"middle\" x=\"1177.0\" y=\"238.92\">406</text><rect fill=\"green\" height=\"15.84\" width=\"19.8\" x=\"1189.1\" y=\"229.68\"/><circle cx=\"1188.0\" cy=\"237.6\" fill=\"green\" r=\"1.1\" stroke=\"green\" stroke-width=\"0\"/><circle cx=\"1210.0\" cy=\"237.6\" fill=\"green\" r=\"1.1\" stroke=\"green\" stroke-width=\"0\"/><text alignment-baseline=\"middle\" fill=\"white\" font-family=\"Futura\" font-size=\"9.24\" text-anchor=\"middle\" x=\"1199.0\" y=\"238.92\">407</text><rect fill=\"green\" height=\"15.84\" width=\"19.8\" x=\"1211.1\" y=\"229.68\"/><circle cx=\"1210.0\" cy=\"237.6\" fill=\"green\" r=\"1.1\" stroke=\"green\" stroke-width=\"0\"/><circle cx=\"1232.0\" cy=\"237.6\" fill=\"green\" r=\"1.1\" stroke=\"green\" stroke-width=\"0\"/><text alignment-baseline=\"middle\" fill=\"white\" font-family=\"Futura\" font-size=\"9.24\" text-anchor=\"middle\" x=\"1221.0\" y=\"238.92\">408</text><rect fill=\"green\" height=\"15.84\" width=\"19.8\" x=\"1233.1\" y=\"229.68\"/><circle cx=\"1232.0\" cy=\"237.6\" fill=\"green\" r=\"1.1\" stroke=\"green\" stroke-width=\"0\"/><circle cx=\"1254.0\" cy=\"237.6\" fill=\"green\" r=\"1.1\" stroke=\"green\" stroke-width=\"0\"/><text alignment-baseline=\"middle\" fill=\"white\" font-family=\"Futura\" font-size=\"9.24\" text-anchor=\"middle\" x=\"1243.0\" y=\"238.92\">409</text><rect fill=\"green\" height=\"15.84\" width=\"19.8\" x=\"1255.1\" y=\"229.68\"/><circle cx=\"1254.0\" cy=\"237.6\" fill=\"green\" r=\"1.1\" stroke=\"green\" stroke-width=\"0\"/><circle cx=\"1276.0\" cy=\"237.6\" fill=\"green\" r=\"1.1\" stroke=\"green\" stroke-width=\"0\"/><text alignment-baseline=\"middle\" fill=\"white\" font-family=\"Futura\" font-size=\"9.24\" text-anchor=\"middle\" x=\"1265.0\" y=\"238.92\">410</text><rect fill=\"green\" height=\"15.84\" width=\"19.8\" x=\"1277.1\" y=\"229.68\"/><circle cx=\"1276.0\" cy=\"237.6\" fill=\"green\" r=\"1.1\" stroke=\"green\" stroke-width=\"0\"/><circle cx=\"1298.0\" cy=\"237.6\" fill=\"green\" r=\"1.1\" stroke=\"green\" stroke-width=\"0\"/><text alignment-baseline=\"middle\" fill=\"white\" font-family=\"Futura\" font-size=\"9.24\" text-anchor=\"middle\" x=\"1287.0\" y=\"238.92\">411</text><rect fill=\"green\" height=\"15.84\" width=\"19.8\" x=\"1299.1\" y=\"229.68\"/><circle cx=\"1298.0\" cy=\"237.6\" fill=\"green\" r=\"1.1\" stroke=\"green\" stroke-width=\"0\"/><circle cx=\"1320.0\" cy=\"237.6\" fill=\"green\" r=\"1.1\" stroke=\"green\" stroke-width=\"0\"/><text alignment-baseline=\"middle\" fill=\"white\" font-family=\"Futura\" font-size=\"9.24\" text-anchor=\"middle\" x=\"1309.0\" y=\"238.92\">412</text><rect fill=\"green\" height=\"15.84\" width=\"19.8\" x=\"1321.1\" y=\"229.68\"/><circle cx=\"1320.0\" cy=\"237.6\" fill=\"green\" r=\"1.1\" stroke=\"green\" stroke-width=\"0\"/><circle cx=\"1342.0\" cy=\"237.6\" fill=\"green\" r=\"1.1\" stroke=\"green\" stroke-width=\"0\"/><text alignment-baseline=\"middle\" fill=\"white\" font-family=\"Futura\" font-size=\"9.24\" text-anchor=\"middle\" x=\"1331.0\" y=\"238.92\">413</text><rect fill=\"green\" height=\"15.84\" width=\"19.8\" x=\"1343.1\" y=\"229.68\"/><circle cx=\"1342.0\" cy=\"237.6\" fill=\"green\" r=\"1.1\" stroke=\"green\" stroke-width=\"0\"/><circle cx=\"1364.0\" cy=\"237.6\" fill=\"green\" r=\"1.1\" stroke=\"green\" stroke-width=\"0\"/><text alignment-baseline=\"middle\" fill=\"white\" font-family=\"Futura\" font-size=\"9.24\" text-anchor=\"middle\" x=\"1353.0\" y=\"238.92\">414</text><rect fill=\"green\" height=\"15.84\" width=\"19.8\" x=\"1365.1\" y=\"229.68\"/><circle cx=\"1364.0\" cy=\"237.6\" fill=\"green\" r=\"1.1\" stroke=\"green\" stroke-width=\"0\"/><circle cx=\"1386.0\" cy=\"237.6\" fill=\"green\" r=\"1.1\" stroke=\"green\" stroke-width=\"0\"/><text alignment-baseline=\"middle\" fill=\"white\" font-family=\"Futura\" font-size=\"9.24\" text-anchor=\"middle\" x=\"1375.0\" y=\"238.92\">415</text><rect fill=\"green\" height=\"15.84\" width=\"19.8\" x=\"1387.1\" y=\"229.68\"/><circle cx=\"1386.0\" cy=\"237.6\" fill=\"green\" r=\"1.1\" stroke=\"green\" stroke-width=\"0\"/><circle cx=\"1408.0\" cy=\"237.6\" fill=\"green\" r=\"1.1\" stroke=\"green\" stroke-width=\"0\"/><text alignment-baseline=\"middle\" fill=\"white\" font-family=\"Futura\" font-size=\"9.24\" text-anchor=\"middle\" x=\"1397.0\" y=\"238.92\">416</text><rect fill=\"green\" height=\"15.84\" width=\"19.8\" x=\"1409.1\" y=\"229.68\"/><circle cx=\"1408.0\" cy=\"237.6\" fill=\"green\" r=\"1.1\" stroke=\"green\" stroke-width=\"0\"/><circle cx=\"1430.0\" cy=\"237.6\" fill=\"green\" r=\"1.1\" stroke=\"green\" stroke-width=\"0\"/><text alignment-baseline=\"middle\" fill=\"white\" font-family=\"Futura\" font-size=\"9.24\" text-anchor=\"middle\" x=\"1419.0\" y=\"238.92\">417</text><rect fill=\"green\" height=\"15.84\" width=\"19.8\" x=\"1431.1\" y=\"229.68\"/><circle cx=\"1430.0\" cy=\"237.6\" fill=\"green\" r=\"1.1\" stroke=\"green\" stroke-width=\"0\"/><circle cx=\"1452.0\" cy=\"237.6\" fill=\"green\" r=\"1.1\" stroke=\"green\" stroke-width=\"0\"/><text alignment-baseline=\"middle\" fill=\"white\" font-family=\"Futura\" font-size=\"9.24\" text-anchor=\"middle\" x=\"1441.0\" y=\"238.92\">418</text><rect fill=\"green\" height=\"15.84\" width=\"19.8\" x=\"1453.1\" y=\"229.68\"/><circle cx=\"1452.0\" cy=\"237.6\" fill=\"green\" r=\"1.1\" stroke=\"green\" stroke-width=\"0\"/><circle cx=\"1474.0\" cy=\"237.6\" fill=\"green\" r=\"1.1\" stroke=\"green\" stroke-width=\"0\"/><text alignment-baseline=\"middle\" fill=\"white\" font-family=\"Futura\" font-size=\"9.24\" text-anchor=\"middle\" x=\"1463.0\" y=\"238.92\">419</text><rect fill=\"green\" height=\"15.84\" width=\"19.8\" x=\"1475.1\" y=\"229.68\"/><circle cx=\"1474.0\" cy=\"237.6\" fill=\"green\" r=\"1.1\" stroke=\"green\" stroke-width=\"0\"/><circle cx=\"1496.0\" cy=\"237.6\" fill=\"green\" r=\"1.1\" stroke=\"green\" stroke-width=\"0\"/><text alignment-baseline=\"middle\" fill=\"white\" font-family=\"Futura\" font-size=\"9.24\" text-anchor=\"middle\" x=\"1485.0\" y=\"238.92\">420</text><rect fill=\"green\" height=\"15.84\" width=\"19.8\" x=\"1497.1\" y=\"229.68\"/><circle cx=\"1496.0\" cy=\"237.6\" fill=\"green\" r=\"1.1\" stroke=\"green\" stroke-width=\"0\"/><circle cx=\"1518.0\" cy=\"237.6\" fill=\"green\" r=\"1.1\" stroke=\"green\" stroke-width=\"0\"/><text alignment-baseline=\"middle\" fill=\"white\" font-family=\"Futura\" font-size=\"9.24\" text-anchor=\"middle\" x=\"1507.0\" y=\"238.92\">421</text><rect fill=\"green\" height=\"15.84\" width=\"19.8\" x=\"1519.1\" y=\"229.68\"/><circle cx=\"1518.0\" cy=\"237.6\" fill=\"green\" r=\"1.1\" stroke=\"green\" stroke-width=\"0\"/><circle cx=\"1540.0\" cy=\"237.6\" fill=\"green\" r=\"1.1\" stroke=\"green\" stroke-width=\"0\"/><text alignment-baseline=\"middle\" fill=\"white\" font-family=\"Futura\" font-size=\"9.24\" text-anchor=\"middle\" x=\"1529.0\" y=\"238.92\">422</text><rect fill=\"green\" height=\"15.84\" width=\"19.8\" x=\"1541.1\" y=\"229.68\"/><circle cx=\"1540.0\" cy=\"237.6\" fill=\"green\" r=\"1.1\" stroke=\"green\" stroke-width=\"0\"/><circle cx=\"1562.0\" cy=\"237.6\" fill=\"green\" r=\"1.1\" stroke=\"green\" stroke-width=\"0\"/><text alignment-baseline=\"middle\" fill=\"white\" font-family=\"Futura\" font-size=\"9.24\" text-anchor=\"middle\" x=\"1551.0\" y=\"238.92\">423</text><rect fill=\"green\" height=\"15.84\" width=\"19.8\" x=\"1563.1\" y=\"229.68\"/><circle cx=\"1562.0\" cy=\"237.6\" fill=\"green\" r=\"1.1\" stroke=\"green\" stroke-width=\"0\"/><circle cx=\"1584.0\" cy=\"237.6\" fill=\"green\" r=\"1.1\" stroke=\"green\" stroke-width=\"0\"/><text alignment-baseline=\"middle\" fill=\"white\" font-family=\"Futura\" font-size=\"9.24\" text-anchor=\"middle\" x=\"1573.0\" y=\"238.92\">424</text><rect fill=\"green\" height=\"15.84\" width=\"19.8\" x=\"1585.1\" y=\"229.68\"/><circle cx=\"1584.0\" cy=\"237.6\" fill=\"green\" r=\"1.1\" stroke=\"green\" stroke-width=\"0\"/><circle cx=\"1606.0\" cy=\"237.6\" fill=\"green\" r=\"1.1\" stroke=\"green\" stroke-width=\"0\"/><text alignment-baseline=\"middle\" fill=\"white\" font-family=\"Futura\" font-size=\"9.24\" text-anchor=\"middle\" x=\"1595.0\" y=\"238.92\">425</text><rect fill=\"green\" height=\"15.84\" width=\"19.8\" x=\"1607.1\" y=\"229.68\"/><circle cx=\"1606.0\" cy=\"237.6\" fill=\"green\" r=\"1.1\" stroke=\"green\" stroke-width=\"0\"/><circle cx=\"1628.0\" cy=\"237.6\" fill=\"green\" r=\"1.1\" stroke=\"green\" stroke-width=\"0\"/><text alignment-baseline=\"middle\" fill=\"white\" font-family=\"Futura\" font-size=\"9.24\" text-anchor=\"middle\" x=\"1617.0\" y=\"238.92\">426</text><rect fill=\"green\" height=\"15.84\" width=\"19.8\" x=\"1629.1\" y=\"229.68\"/><circle cx=\"1628.0\" cy=\"237.6\" fill=\"green\" r=\"1.1\" stroke=\"green\" stroke-width=\"0\"/><circle cx=\"1650.0\" cy=\"237.6\" fill=\"green\" r=\"1.1\" stroke=\"green\" stroke-width=\"0\"/><text alignment-baseline=\"middle\" fill=\"white\" font-family=\"Futura\" font-size=\"9.24\" text-anchor=\"middle\" x=\"1639.0\" y=\"238.92\">427</text><rect fill=\"green\" height=\"15.84\" width=\"19.8\" x=\"1651.1\" y=\"229.68\"/><circle cx=\"1650.0\" cy=\"237.6\" fill=\"green\" r=\"1.1\" stroke=\"green\" stroke-width=\"0\"/><circle cx=\"1672.0\" cy=\"237.6\" fill=\"green\" r=\"1.1\" stroke=\"green\" stroke-width=\"0\"/><text alignment-baseline=\"middle\" fill=\"white\" font-family=\"Futura\" font-size=\"9.24\" text-anchor=\"middle\" x=\"1661.0\" y=\"238.92\">428</text><rect fill=\"green\" height=\"15.84\" width=\"19.8\" x=\"1673.1\" y=\"229.68\"/><circle cx=\"1672.0\" cy=\"237.6\" fill=\"green\" r=\"1.1\" stroke=\"green\" stroke-width=\"0\"/><circle cx=\"1694.0\" cy=\"237.6\" fill=\"green\" r=\"1.1\" stroke=\"green\" stroke-width=\"0\"/><text alignment-baseline=\"middle\" fill=\"white\" font-family=\"Futura\" font-size=\"9.24\" text-anchor=\"middle\" x=\"1683.0\" y=\"238.92\">429</text><rect fill=\"green\" height=\"15.84\" width=\"19.8\" x=\"1695.1\" y=\"229.68\"/><circle cx=\"1694.0\" cy=\"237.6\" fill=\"green\" r=\"1.1\" stroke=\"green\" stroke-width=\"0\"/><circle cx=\"1716.0\" cy=\"237.6\" fill=\"green\" r=\"1.1\" stroke=\"green\" stroke-width=\"0\"/><text alignment-baseline=\"middle\" fill=\"white\" font-family=\"Futura\" font-size=\"9.24\" text-anchor=\"middle\" x=\"1705.0\" y=\"238.92\">430</text><rect fill=\"green\" height=\"15.84\" width=\"19.8\" x=\"1717.1\" y=\"229.68\"/><circle cx=\"1716.0\" cy=\"237.6\" fill=\"green\" r=\"1.1\" stroke=\"green\" stroke-width=\"0\"/><circle cx=\"1738.0\" cy=\"237.6\" fill=\"green\" r=\"1.1\" stroke=\"green\" stroke-width=\"0\"/><text alignment-baseline=\"middle\" fill=\"white\" font-family=\"Futura\" font-size=\"9.24\" text-anchor=\"middle\" x=\"1727.0\" y=\"238.92\">431</text><rect fill=\"green\" height=\"15.84\" width=\"19.8\" x=\"1739.1\" y=\"229.68\"/><circle cx=\"1738.0\" cy=\"237.6\" fill=\"green\" r=\"1.1\" stroke=\"green\" stroke-width=\"0\"/><circle cx=\"1760.0\" cy=\"237.6\" fill=\"green\" r=\"1.1\" stroke=\"green\" stroke-width=\"0\"/><text alignment-baseline=\"middle\" fill=\"white\" font-family=\"Futura\" font-size=\"9.24\" text-anchor=\"middle\" x=\"1749.0\" y=\"238.92\">432</text><rect fill=\"green\" height=\"15.84\" width=\"19.8\" x=\"1761.1\" y=\"229.68\"/><circle cx=\"1760.0\" cy=\"237.6\" fill=\"green\" r=\"1.1\" stroke=\"green\" stroke-width=\"0\"/><circle cx=\"1782.0\" cy=\"237.6\" fill=\"green\" r=\"1.1\" stroke=\"green\" stroke-width=\"0\"/><text alignment-baseline=\"middle\" fill=\"white\" font-family=\"Futura\" font-size=\"9.24\" text-anchor=\"middle\" x=\"1771.0\" y=\"238.92\">433</text><rect fill=\"green\" height=\"15.84\" width=\"19.8\" x=\"1783.1\" y=\"229.68\"/><circle cx=\"1782.0\" cy=\"237.6\" fill=\"green\" r=\"1.1\" stroke=\"green\" stroke-width=\"0\"/><circle cx=\"1804.0\" cy=\"237.6\" fill=\"green\" r=\"1.1\" stroke=\"green\" stroke-width=\"0\"/><text alignment-baseline=\"middle\" fill=\"white\" font-family=\"Futura\" font-size=\"9.24\" text-anchor=\"middle\" x=\"1793.0\" y=\"238.92\">434</text><rect fill=\"green\" height=\"15.84\" width=\"19.8\" x=\"1805.1\" y=\"229.68\"/><circle cx=\"1804.0\" cy=\"237.6\" fill=\"green\" r=\"1.1\" stroke=\"green\" stroke-width=\"0\"/><circle cx=\"1826.0\" cy=\"237.6\" fill=\"green\" r=\"1.1\" stroke=\"green\" stroke-width=\"0\"/><text alignment-baseline=\"middle\" fill=\"white\" font-family=\"Futura\" font-size=\"9.24\" text-anchor=\"middle\" x=\"1815.0\" y=\"238.92\">435</text><rect fill=\"green\" height=\"15.84\" width=\"19.8\" x=\"1827.1\" y=\"229.68\"/><circle cx=\"1826.0\" cy=\"237.6\" fill=\"green\" r=\"1.1\" stroke=\"green\" stroke-width=\"0\"/><circle cx=\"1848.0\" cy=\"237.6\" fill=\"green\" r=\"1.1\" stroke=\"green\" stroke-width=\"0\"/><text alignment-baseline=\"middle\" fill=\"white\" font-family=\"Futura\" font-size=\"9.24\" text-anchor=\"middle\" x=\"1837.0\" y=\"238.92\">436</text><rect fill=\"green\" height=\"15.84\" width=\"19.8\" x=\"1849.1\" y=\"229.68\"/><circle cx=\"1848.0\" cy=\"237.6\" fill=\"green\" r=\"1.1\" stroke=\"green\" stroke-width=\"0\"/><circle cx=\"1870.0\" cy=\"237.6\" fill=\"green\" r=\"1.1\" stroke=\"green\" stroke-width=\"0\"/><text alignment-baseline=\"middle\" fill=\"white\" font-family=\"Futura\" font-size=\"9.24\" text-anchor=\"middle\" x=\"1859.0\" y=\"238.92\">437</text><rect fill=\"green\" height=\"15.84\" width=\"19.8\" x=\"1871.1\" y=\"229.68\"/><circle cx=\"1870.0\" cy=\"237.6\" fill=\"green\" r=\"1.1\" stroke=\"green\" stroke-width=\"0\"/><circle cx=\"1892.0\" cy=\"237.6\" fill=\"green\" r=\"1.1\" stroke=\"green\" stroke-width=\"0\"/><text alignment-baseline=\"middle\" fill=\"white\" font-family=\"Futura\" font-size=\"9.24\" text-anchor=\"middle\" x=\"1881.0\" y=\"238.92\">438</text><rect fill=\"green\" height=\"15.84\" width=\"19.8\" x=\"1893.1\" y=\"229.68\"/><circle cx=\"1892.0\" cy=\"237.6\" fill=\"green\" r=\"1.1\" stroke=\"green\" stroke-width=\"0\"/><circle cx=\"1914.0\" cy=\"237.6\" fill=\"green\" r=\"1.1\" stroke=\"green\" stroke-width=\"0\"/><text alignment-baseline=\"middle\" fill=\"white\" font-family=\"Futura\" font-size=\"9.24\" text-anchor=\"middle\" x=\"1903.0\" y=\"238.92\">439</text><rect fill=\"green\" height=\"15.84\" width=\"19.8\" x=\"1915.1\" y=\"229.68\"/><circle cx=\"1914.0\" cy=\"237.6\" fill=\"green\" r=\"1.1\" stroke=\"green\" stroke-width=\"0\"/><circle cx=\"1936.0\" cy=\"237.6\" fill=\"green\" r=\"1.1\" stroke=\"green\" stroke-width=\"0\"/><text alignment-baseline=\"middle\" fill=\"white\" font-family=\"Futura\" font-size=\"9.24\" text-anchor=\"middle\" x=\"1925.0\" y=\"238.92\">440</text><rect fill=\"green\" height=\"15.84\" width=\"19.8\" x=\"1937.1\" y=\"229.68\"/><circle cx=\"1936.0\" cy=\"237.6\" fill=\"green\" r=\"1.1\" stroke=\"green\" stroke-width=\"0\"/><circle cx=\"1958.0\" cy=\"237.6\" fill=\"green\" r=\"1.1\" stroke=\"green\" stroke-width=\"0\"/><text alignment-baseline=\"middle\" fill=\"white\" font-family=\"Futura\" font-size=\"9.24\" text-anchor=\"middle\" x=\"1947.0\" y=\"238.92\">441</text><rect fill=\"green\" height=\"15.84\" width=\"19.8\" x=\"1959.1\" y=\"229.68\"/><circle cx=\"1958.0\" cy=\"237.6\" fill=\"green\" r=\"1.1\" stroke=\"green\" stroke-width=\"0\"/><circle cx=\"1980.0\" cy=\"237.6\" fill=\"green\" r=\"1.1\" stroke=\"green\" stroke-width=\"0\"/><text alignment-baseline=\"middle\" fill=\"white\" font-family=\"Futura\" font-size=\"9.24\" text-anchor=\"middle\" x=\"1969.0\" y=\"238.92\">442</text><rect fill=\"green\" height=\"15.84\" width=\"19.8\" x=\"1981.1\" y=\"229.68\"/><circle cx=\"1980.0\" cy=\"237.6\" fill=\"green\" r=\"1.1\" stroke=\"green\" stroke-width=\"0\"/><circle cx=\"2002.0\" cy=\"237.6\" fill=\"green\" r=\"1.1\" stroke=\"green\" stroke-width=\"0\"/><text alignment-baseline=\"middle\" fill=\"white\" font-family=\"Futura\" font-size=\"9.24\" text-anchor=\"middle\" x=\"1991.0\" y=\"238.92\">443</text><rect fill=\"green\" height=\"15.84\" width=\"19.8\" x=\"2003.1\" y=\"229.68\"/><circle cx=\"2002.0\" cy=\"237.6\" fill=\"green\" r=\"1.1\" stroke=\"green\" stroke-width=\"0\"/><circle cx=\"2024.0\" cy=\"237.6\" fill=\"green\" r=\"1.1\" stroke=\"green\" stroke-width=\"0\"/><text alignment-baseline=\"middle\" fill=\"white\" font-family=\"Futura\" font-size=\"9.24\" text-anchor=\"middle\" x=\"2013.0\" y=\"238.92\">444</text><rect fill=\"green\" height=\"15.84\" width=\"19.8\" x=\"2025.1\" y=\"229.68\"/><circle cx=\"2024.0\" cy=\"237.6\" fill=\"green\" r=\"1.1\" stroke=\"green\" stroke-width=\"0\"/><circle cx=\"2046.0\" cy=\"237.6\" fill=\"green\" r=\"1.1\" stroke=\"green\" stroke-width=\"0\"/><text alignment-baseline=\"middle\" fill=\"white\" font-family=\"Futura\" font-size=\"9.24\" text-anchor=\"middle\" x=\"2035.0\" y=\"238.92\">445</text><rect fill=\"green\" height=\"15.84\" width=\"19.8\" x=\"2047.1\" y=\"229.68\"/><circle cx=\"2046.0\" cy=\"237.6\" fill=\"green\" r=\"1.1\" stroke=\"green\" stroke-width=\"0\"/><circle cx=\"2068.0\" cy=\"237.6\" fill=\"green\" r=\"1.1\" stroke=\"green\" stroke-width=\"0\"/><text alignment-baseline=\"middle\" fill=\"white\" font-family=\"Futura\" font-size=\"9.24\" text-anchor=\"middle\" x=\"2057.0\" y=\"238.92\">446</text><rect fill=\"green\" height=\"15.84\" width=\"19.8\" x=\"2069.1\" y=\"229.68\"/><circle cx=\"2068.0\" cy=\"237.6\" fill=\"green\" r=\"1.1\" stroke=\"green\" stroke-width=\"0\"/><circle cx=\"2090.0\" cy=\"237.6\" fill=\"green\" r=\"1.1\" stroke=\"green\" stroke-width=\"0\"/><text alignment-baseline=\"middle\" fill=\"white\" font-family=\"Futura\" font-size=\"9.24\" text-anchor=\"middle\" x=\"2079.0\" y=\"238.92\">447</text><line stroke=\"red\" stroke-width=\"1.32\" x1=\"1936.0\" x2=\"1936.0\" y1=\"238.92\" y2=\"289.08\"/><text alignment-baseline=\"middle\" fill=\"black\" font-family=\"Futura\" font-size=\"9.24\" text-anchor=\"start\" x=\"2270.4\" y=\"291.72\">10f</text><rect fill=\"red\" height=\"15.84\" width=\"19.8\" x=\"1937.1\" y=\"282.48\"/><circle cx=\"1936.0\" cy=\"290.4\" fill=\"red\" r=\"1.1\" stroke=\"red\" stroke-width=\"0\"/><circle cx=\"1958.0\" cy=\"290.4\" fill=\"red\" r=\"1.1\" stroke=\"red\" stroke-width=\"0\"/><text alignment-baseline=\"middle\" fill=\"white\" font-family=\"Futura\" font-size=\"9.24\" text-anchor=\"middle\" x=\"1947.0\" y=\"291.72\">797</text><rect fill=\"red\" height=\"15.84\" width=\"19.8\" x=\"1959.1\" y=\"282.48\"/><circle cx=\"1958.0\" cy=\"290.4\" fill=\"red\" r=\"1.1\" stroke=\"red\" stroke-width=\"0\"/><circle cx=\"1980.0\" cy=\"290.4\" fill=\"red\" r=\"1.1\" stroke=\"red\" stroke-width=\"0\"/><text alignment-baseline=\"middle\" fill=\"white\" font-family=\"Futura\" font-size=\"9.24\" text-anchor=\"middle\" x=\"1969.0\" y=\"291.72\">798</text><rect fill=\"red\" height=\"15.84\" width=\"19.8\" x=\"1981.1\" y=\"282.48\"/><circle cx=\"1980.0\" cy=\"290.4\" fill=\"red\" r=\"1.1\" stroke=\"red\" stroke-width=\"0\"/><circle cx=\"2002.0\" cy=\"290.4\" fill=\"red\" r=\"1.1\" stroke=\"red\" stroke-width=\"0\"/><text alignment-baseline=\"middle\" fill=\"white\" font-family=\"Futura\" font-size=\"9.24\" text-anchor=\"middle\" x=\"1991.0\" y=\"291.72\">799</text><rect fill=\"red\" height=\"15.84\" width=\"19.8\" x=\"2003.1\" y=\"282.48\"/><circle cx=\"2002.0\" cy=\"290.4\" fill=\"red\" r=\"1.1\" stroke=\"red\" stroke-width=\"0\"/><circle cx=\"2024.0\" cy=\"290.4\" fill=\"red\" r=\"1.1\" stroke=\"red\" stroke-width=\"0\"/><text alignment-baseline=\"middle\" fill=\"white\" font-family=\"Futura\" font-size=\"9.24\" text-anchor=\"middle\" x=\"2013.0\" y=\"291.72\">800</text><rect fill=\"red\" height=\"15.84\" width=\"19.8\" x=\"2025.1\" y=\"282.48\"/><circle cx=\"2024.0\" cy=\"290.4\" fill=\"red\" r=\"1.1\" stroke=\"red\" stroke-width=\"0\"/><circle cx=\"2046.0\" cy=\"290.4\" fill=\"red\" r=\"1.1\" stroke=\"red\" stroke-width=\"0\"/><text alignment-baseline=\"middle\" fill=\"white\" font-family=\"Futura\" font-size=\"9.24\" text-anchor=\"middle\" x=\"2035.0\" y=\"291.72\">801</text><rect fill=\"red\" height=\"15.84\" width=\"19.8\" x=\"2047.1\" y=\"282.48\"/><circle cx=\"2046.0\" cy=\"290.4\" fill=\"red\" r=\"1.1\" stroke=\"red\" stroke-width=\"0\"/><circle cx=\"2068.0\" cy=\"290.4\" fill=\"red\" r=\"1.1\" stroke=\"red\" stroke-width=\"0\"/><text alignment-baseline=\"middle\" fill=\"white\" font-family=\"Futura\" font-size=\"9.24\" text-anchor=\"middle\" x=\"2057.0\" y=\"291.72\">802</text><rect fill=\"red\" height=\"15.84\" width=\"19.8\" x=\"2069.1\" y=\"282.48\"/><circle cx=\"2068.0\" cy=\"290.4\" fill=\"red\" r=\"1.1\" stroke=\"red\" stroke-width=\"0\"/><circle cx=\"2090.0\" cy=\"290.4\" fill=\"red\" r=\"1.1\" stroke=\"red\" stroke-width=\"0\"/><text alignment-baseline=\"middle\" fill=\"white\" font-family=\"Futura\" font-size=\"9.24\" text-anchor=\"middle\" x=\"2079.0\" y=\"291.72\">803</text><rect fill=\"red\" height=\"15.84\" width=\"19.8\" x=\"2091.1\" y=\"282.48\"/><circle cx=\"2090.0\" cy=\"290.4\" fill=\"red\" r=\"1.1\" stroke=\"red\" stroke-width=\"0\"/><circle cx=\"2112.0\" cy=\"290.4\" fill=\"red\" r=\"1.1\" stroke=\"red\" stroke-width=\"0\"/><text alignment-baseline=\"middle\" fill=\"white\" font-family=\"Futura\" font-size=\"9.24\" text-anchor=\"middle\" x=\"2101.0\" y=\"291.72\">804</text><rect fill=\"red\" height=\"15.84\" width=\"19.8\" x=\"2113.1\" y=\"282.48\"/><circle cx=\"2112.0\" cy=\"290.4\" fill=\"red\" r=\"1.1\" stroke=\"red\" stroke-width=\"0\"/><circle cx=\"2134.0\" cy=\"290.4\" fill=\"red\" r=\"1.1\" stroke=\"red\" stroke-width=\"0\"/><text alignment-baseline=\"middle\" fill=\"white\" font-family=\"Futura\" font-size=\"9.24\" text-anchor=\"middle\" x=\"2123.0\" y=\"291.72\">805</text><rect fill=\"red\" height=\"15.84\" width=\"19.8\" x=\"2135.1\" y=\"282.48\"/><circle cx=\"2134.0\" cy=\"290.4\" fill=\"red\" r=\"1.1\" stroke=\"red\" stroke-width=\"0\"/><circle cx=\"2156.0\" cy=\"290.4\" fill=\"red\" r=\"1.1\" stroke=\"red\" stroke-width=\"0\"/><text alignment-baseline=\"middle\" fill=\"white\" font-family=\"Futura\" font-size=\"9.24\" text-anchor=\"middle\" x=\"2145.0\" y=\"291.72\">806</text><rect fill=\"red\" height=\"15.84\" width=\"19.8\" x=\"2157.1\" y=\"282.48\"/><circle cx=\"2156.0\" cy=\"290.4\" fill=\"red\" r=\"1.1\" stroke=\"red\" stroke-width=\"0\"/><circle cx=\"2178.0\" cy=\"290.4\" fill=\"red\" r=\"1.1\" stroke=\"red\" stroke-width=\"0\"/><text alignment-baseline=\"middle\" fill=\"white\" font-family=\"Futura\" font-size=\"9.24\" text-anchor=\"middle\" x=\"2167.0\" y=\"291.72\">807</text><rect fill=\"red\" height=\"15.84\" width=\"19.8\" x=\"2179.1\" y=\"282.48\"/><circle cx=\"2178.0\" cy=\"290.4\" fill=\"red\" r=\"1.1\" stroke=\"red\" stroke-width=\"0\"/><circle cx=\"2200.0\" cy=\"290.4\" fill=\"red\" r=\"1.1\" stroke=\"red\" stroke-width=\"0\"/><text alignment-baseline=\"middle\" fill=\"white\" font-family=\"Futura\" font-size=\"9.24\" text-anchor=\"middle\" x=\"2189.0\" y=\"291.72\">808</text><rect fill=\"red\" height=\"15.84\" width=\"19.8\" x=\"2201.1\" y=\"282.48\"/><circle cx=\"2200.0\" cy=\"290.4\" fill=\"red\" r=\"1.1\" stroke=\"red\" stroke-width=\"0\"/><circle cx=\"2222.0\" cy=\"290.4\" fill=\"red\" r=\"1.1\" stroke=\"red\" stroke-width=\"0\"/><text alignment-baseline=\"middle\" fill=\"white\" font-family=\"Futura\" font-size=\"9.24\" text-anchor=\"middle\" x=\"2211.0\" y=\"291.72\">809</text><rect fill=\"red\" height=\"15.84\" width=\"19.8\" x=\"2223.1\" y=\"282.48\"/><circle cx=\"2222.0\" cy=\"290.4\" fill=\"red\" r=\"1.1\" stroke=\"red\" stroke-width=\"0\"/><circle cx=\"2244.0\" cy=\"290.4\" fill=\"red\" r=\"1.1\" stroke=\"red\" stroke-width=\"0\"/><text alignment-baseline=\"middle\" fill=\"white\" font-family=\"Futura\" font-size=\"9.24\" text-anchor=\"middle\" x=\"2233.0\" y=\"291.72\">810</text><rect fill=\"red\" height=\"15.84\" width=\"19.8\" x=\"2245.1\" y=\"282.48\"/><circle cx=\"2244.0\" cy=\"290.4\" fill=\"red\" r=\"1.1\" stroke=\"red\" stroke-width=\"0\"/><text alignment-baseline=\"middle\" fill=\"white\" font-family=\"Futura\" font-size=\"9.24\" text-anchor=\"middle\" x=\"2255.0\" y=\"291.72\">811</text><text alignment-baseline=\"middle\" fill=\"black\" font-family=\"Futura\" font-size=\"9.24\" text-anchor=\"end\" x=\"94.6\" y=\"27.72\">2</text><text alignment-baseline=\"middle\" fill=\"black\" font-family=\"Futura\" font-size=\"9.24\" text-anchor=\"end\" x=\"28.6\" y=\"27.72\">2</text><text alignment-baseline=\"middle\" fill=\"black\" font-family=\"Futura\" font-size=\"9.24\" text-anchor=\"end\" x=\"94.6\" y=\"54.12\">3</text><text alignment-baseline=\"middle\" fill=\"black\" font-family=\"Futura\" font-size=\"9.24\" text-anchor=\"end\" x=\"28.6\" y=\"54.12\">2</text><text alignment-baseline=\"middle\" fill=\"black\" font-family=\"Futura\" font-size=\"9.24\" text-anchor=\"end\" x=\"94.6\" y=\"80.52\">4</text><text alignment-baseline=\"middle\" fill=\"black\" font-family=\"Futura\" font-size=\"9.24\" text-anchor=\"end\" x=\"28.6\" y=\"80.52\">3</text><text alignment-baseline=\"middle\" fill=\"black\" font-family=\"Futura\" font-size=\"9.24\" text-anchor=\"end\" x=\"94.6\" y=\"106.92\">5</text><text alignment-baseline=\"middle\" fill=\"black\" font-family=\"Futura\" font-size=\"9.24\" text-anchor=\"end\" x=\"28.6\" y=\"106.92\">3</text><text alignment-baseline=\"middle\" fill=\"black\" font-family=\"Futura\" font-size=\"9.24\" text-anchor=\"end\" x=\"94.6\" y=\"133.32\">6</text><text alignment-baseline=\"middle\" fill=\"black\" font-family=\"Futura\" font-size=\"9.24\" text-anchor=\"end\" x=\"28.6\" y=\"133.32\">4</text><text alignment-baseline=\"middle\" fill=\"black\" font-family=\"Futura\" font-size=\"9.24\" text-anchor=\"end\" x=\"94.6\" y=\"159.72\">7</text><text alignment-baseline=\"middle\" fill=\"black\" font-family=\"Futura\" font-size=\"9.24\" text-anchor=\"end\" x=\"28.6\" y=\"159.72\">4</text><text alignment-baseline=\"middle\" fill=\"black\" font-family=\"Futura\" font-size=\"9.24\" text-anchor=\"end\" x=\"94.6\" y=\"186.12\">8</text><text alignment-baseline=\"middle\" fill=\"black\" font-family=\"Futura\" font-size=\"9.24\" text-anchor=\"end\" x=\"28.6\" y=\"186.12\">5</text><text alignment-baseline=\"middle\" fill=\"black\" font-family=\"Futura\" font-size=\"9.24\" text-anchor=\"end\" x=\"94.6\" y=\"212.52\">9</text><text alignment-baseline=\"middle\" fill=\"black\" font-family=\"Futura\" font-size=\"9.24\" text-anchor=\"end\" x=\"28.6\" y=\"212.52\">5</text><rect fill=\"black\" height=\"205.92\" width=\"2.2\" x=\"121.0\" y=\"15.84\"/><circle cx=\"121.0\" cy=\"15.84\" fill=\"black\" r=\"1.1\" stroke=\"black\" stroke-width=\"0\"/><rect fill=\"black\" height=\"2.64\" width=\"19.8\" x=\"111.1\" y=\"15.84\"/><circle cx=\"121.0\" cy=\"221.76\" fill=\"black\" r=\"1.1\" stroke=\"black\" stroke-width=\"0\"/><rect fill=\"black\" height=\"2.64\" width=\"19.8\" x=\"111.1\" y=\"219.12\"/><text alignment-baseline=\"middle\" fill=\"black\" font-family=\"Futura\" font-size=\"9.24\" text-anchor=\"middle\" x=\"114.4\" y=\"120.12\"/><text alignment-baseline=\"middle\" fill=\"black\" font-family=\"Futura\" font-size=\"9.24\" text-anchor=\"end\" x=\"94.6\" y=\"238.92\">10</text><text alignment-baseline=\"middle\" fill=\"black\" font-family=\"Futura\" font-size=\"9.24\" text-anchor=\"end\" x=\"28.6\" y=\"238.92\">6</text><text alignment-baseline=\"middle\" fill=\"black\" font-family=\"Futura\" font-size=\"9.24\" text-anchor=\"end\" x=\"94.6\" y=\"265.32\">11</text><text alignment-baseline=\"middle\" fill=\"black\" font-family=\"Futura\" font-size=\"9.24\" text-anchor=\"end\" x=\"28.6\" y=\"265.32\">6</text><text alignment-baseline=\"middle\" fill=\"black\" font-family=\"Futura\" font-size=\"9.24\" text-anchor=\"end\" x=\"94.6\" y=\"291.72\">14</text><text alignment-baseline=\"middle\" fill=\"black\" font-family=\"Futura\" font-size=\"9.24\" text-anchor=\"end\" x=\"28.6\" y=\"291.72\">9</text><text alignment-baseline=\"middle\" fill=\"black\" font-family=\"Futura\" font-size=\"9.24\" text-anchor=\"end\" x=\"94.6\" y=\"318.12\">15</text><text alignment-baseline=\"middle\" fill=\"black\" font-family=\"Futura\" font-size=\"9.24\" text-anchor=\"end\" x=\"28.6\" y=\"318.12\">9</text><rect fill=\"black\" height=\"311.52\" width=\"2.2\" x=\"44.0\" y=\"15.84\"/><circle cx=\"44.0\" cy=\"15.84\" fill=\"black\" r=\"1.1\" stroke=\"black\" stroke-width=\"0\"/><rect fill=\"black\" height=\"2.64\" width=\"19.8\" x=\"34.1\" y=\"15.84\"/><circle cx=\"44.0\" cy=\"327.36\" fill=\"black\" r=\"1.1\" stroke=\"black\" stroke-width=\"0\"/><rect fill=\"black\" height=\"2.64\" width=\"19.8\" x=\"34.1\" y=\"324.72\"/><text alignment-baseline=\"middle\" fill=\"black\" font-family=\"Futura\" font-size=\"9.24\" text-anchor=\"middle\" x=\"37.4\" y=\"172.92\"/><rect fill=\"black\" height=\"100.32\" width=\"2.2\" x=\"121.0\" y=\"227.04\"/><circle cx=\"121.0\" cy=\"227.04\" fill=\"black\" r=\"1.1\" stroke=\"black\" stroke-width=\"0\"/><rect fill=\"black\" height=\"2.64\" width=\"19.8\" x=\"111.1\" y=\"227.04\"/><text alignment-baseline=\"middle\" fill=\"black\" font-family=\"Futura\" font-size=\"9.24\" text-anchor=\"middle\" x=\"114.4\" y=\"278.52\"/></svg>"
      ],
      "text/plain": [
       "<IPython.core.display.SVG object>"
      ]
     },
     "execution_count": 40,
     "metadata": {},
     "output_type": "execute_result"
    }
   ],
   "source": [
    "view = tree.renderer\n",
    "view.zoom = 1.1\n",
    "view.scale_y = 24\n",
    "view.scale_x = 20\n",
    "view.font_size = 0.35\n",
    "SVG(view.to_svg())"
   ]
  },
  {
   "cell_type": "markdown",
   "metadata": {},
   "source": [
    "An alternate view which is similar to the standard way of plotting"
   ]
  },
  {
   "cell_type": "code",
   "execution_count": 41,
   "metadata": {
    "collapsed": false
   },
   "outputs": [
    {
     "data": {
      "image/svg+xml": [
       "<svg baseProfile=\"full\" height=\"247.5px\" version=\"1.1\" width=\"3405.6px\" xmlns=\"http://www.w3.org/2000/svg\" xmlns:ev=\"http://www.w3.org/2001/xml-events\" xmlns:xlink=\"http://www.w3.org/1999/xlink\"><defs/><text alignment-baseline=\"middle\" fill=\"black\" font-family=\"Times\" font-size=\"8.25\" text-anchor=\"end\" x=\"205.92\" y=\"17.325\">3b</text><rect fill=\"black\" height=\"9.9\" width=\"26.928\" x=\"210.936\" y=\"11.55\"/><circle cx=\"211.2\" cy=\"16.5\" fill=\"black\" r=\"-0.264\" stroke=\"black\" stroke-width=\"0\"/><circle cx=\"237.6\" cy=\"16.5\" fill=\"black\" r=\"-0.264\" stroke=\"black\" stroke-width=\"0\"/><text alignment-baseline=\"middle\" fill=\"white\" font-family=\"Times\" font-size=\"8.25\" text-anchor=\"middle\" x=\"224.4\" y=\"17.325\"/><rect fill=\"black\" height=\"9.9\" width=\"26.928\" x=\"237.336\" y=\"11.55\"/><circle cx=\"237.6\" cy=\"16.5\" fill=\"black\" r=\"-0.264\" stroke=\"black\" stroke-width=\"0\"/><circle cx=\"264.0\" cy=\"16.5\" fill=\"black\" r=\"-0.264\" stroke=\"black\" stroke-width=\"0\"/><text alignment-baseline=\"middle\" fill=\"white\" font-family=\"Times\" font-size=\"8.25\" text-anchor=\"middle\" x=\"250.8\" y=\"17.325\"/><rect fill=\"black\" height=\"9.9\" width=\"26.928\" x=\"263.736\" y=\"11.55\"/><circle cx=\"264.0\" cy=\"16.5\" fill=\"black\" r=\"-0.264\" stroke=\"black\" stroke-width=\"0\"/><circle cx=\"290.4\" cy=\"16.5\" fill=\"black\" r=\"-0.264\" stroke=\"black\" stroke-width=\"0\"/><text alignment-baseline=\"middle\" fill=\"white\" font-family=\"Times\" font-size=\"8.25\" text-anchor=\"middle\" x=\"277.2\" y=\"17.325\"/><rect fill=\"black\" height=\"9.9\" width=\"26.928\" x=\"290.136\" y=\"11.55\"/><circle cx=\"290.4\" cy=\"16.5\" fill=\"black\" r=\"-0.264\" stroke=\"black\" stroke-width=\"0\"/><circle cx=\"316.8\" cy=\"16.5\" fill=\"black\" r=\"-0.264\" stroke=\"black\" stroke-width=\"0\"/><text alignment-baseline=\"middle\" fill=\"white\" font-family=\"Times\" font-size=\"8.25\" text-anchor=\"middle\" x=\"303.6\" y=\"17.325\"/><rect fill=\"black\" height=\"9.9\" width=\"26.928\" x=\"316.536\" y=\"11.55\"/><circle cx=\"316.8\" cy=\"16.5\" fill=\"black\" r=\"-0.264\" stroke=\"black\" stroke-width=\"0\"/><circle cx=\"343.2\" cy=\"16.5\" fill=\"black\" r=\"-0.264\" stroke=\"black\" stroke-width=\"0\"/><text alignment-baseline=\"middle\" fill=\"white\" font-family=\"Times\" font-size=\"8.25\" text-anchor=\"middle\" x=\"330.0\" y=\"17.325\"/><rect fill=\"black\" height=\"9.9\" width=\"26.928\" x=\"342.936\" y=\"11.55\"/><circle cx=\"343.2\" cy=\"16.5\" fill=\"black\" r=\"-0.264\" stroke=\"black\" stroke-width=\"0\"/><circle cx=\"369.6\" cy=\"16.5\" fill=\"black\" r=\"-0.264\" stroke=\"black\" stroke-width=\"0\"/><text alignment-baseline=\"middle\" fill=\"white\" font-family=\"Times\" font-size=\"8.25\" text-anchor=\"middle\" x=\"356.4\" y=\"17.325\"/><rect fill=\"black\" height=\"9.9\" width=\"26.928\" x=\"369.336\" y=\"11.55\"/><circle cx=\"369.6\" cy=\"16.5\" fill=\"black\" r=\"-0.264\" stroke=\"black\" stroke-width=\"0\"/><circle cx=\"396.0\" cy=\"16.5\" fill=\"black\" r=\"-0.264\" stroke=\"black\" stroke-width=\"0\"/><text alignment-baseline=\"middle\" fill=\"white\" font-family=\"Times\" font-size=\"8.25\" text-anchor=\"middle\" x=\"382.8\" y=\"17.325\"/><rect fill=\"black\" height=\"9.9\" width=\"26.928\" x=\"395.736\" y=\"11.55\"/><circle cx=\"396.0\" cy=\"16.5\" fill=\"black\" r=\"-0.264\" stroke=\"black\" stroke-width=\"0\"/><circle cx=\"422.4\" cy=\"16.5\" fill=\"black\" r=\"-0.264\" stroke=\"black\" stroke-width=\"0\"/><text alignment-baseline=\"middle\" fill=\"white\" font-family=\"Times\" font-size=\"8.25\" text-anchor=\"middle\" x=\"409.2\" y=\"17.325\"/><rect fill=\"black\" height=\"9.9\" width=\"26.928\" x=\"422.136\" y=\"11.55\"/><circle cx=\"422.4\" cy=\"16.5\" fill=\"black\" r=\"-0.264\" stroke=\"black\" stroke-width=\"0\"/><circle cx=\"448.8\" cy=\"16.5\" fill=\"black\" r=\"-0.264\" stroke=\"black\" stroke-width=\"0\"/><text alignment-baseline=\"middle\" fill=\"white\" font-family=\"Times\" font-size=\"8.25\" text-anchor=\"middle\" x=\"435.6\" y=\"17.325\"/><rect fill=\"black\" height=\"9.9\" width=\"26.928\" x=\"448.536\" y=\"11.55\"/><circle cx=\"448.8\" cy=\"16.5\" fill=\"black\" r=\"-0.264\" stroke=\"black\" stroke-width=\"0\"/><circle cx=\"475.2\" cy=\"16.5\" fill=\"black\" r=\"-0.264\" stroke=\"black\" stroke-width=\"0\"/><text alignment-baseline=\"middle\" fill=\"white\" font-family=\"Times\" font-size=\"8.25\" text-anchor=\"middle\" x=\"462.0\" y=\"17.325\"/><rect fill=\"black\" height=\"9.9\" width=\"26.928\" x=\"474.936\" y=\"11.55\"/><circle cx=\"475.2\" cy=\"16.5\" fill=\"black\" r=\"-0.264\" stroke=\"black\" stroke-width=\"0\"/><circle cx=\"501.6\" cy=\"16.5\" fill=\"black\" r=\"-0.264\" stroke=\"black\" stroke-width=\"0\"/><text alignment-baseline=\"middle\" fill=\"white\" font-family=\"Times\" font-size=\"8.25\" text-anchor=\"middle\" x=\"488.4\" y=\"17.325\"/><rect fill=\"black\" height=\"9.9\" width=\"26.928\" x=\"501.336\" y=\"11.55\"/><circle cx=\"501.6\" cy=\"16.5\" fill=\"black\" r=\"-0.264\" stroke=\"black\" stroke-width=\"0\"/><circle cx=\"528.0\" cy=\"16.5\" fill=\"black\" r=\"-0.264\" stroke=\"black\" stroke-width=\"0\"/><text alignment-baseline=\"middle\" fill=\"white\" font-family=\"Times\" font-size=\"8.25\" text-anchor=\"middle\" x=\"514.8\" y=\"17.325\"/><rect fill=\"black\" height=\"9.9\" width=\"26.928\" x=\"527.736\" y=\"11.55\"/><circle cx=\"528.0\" cy=\"16.5\" fill=\"black\" r=\"-0.264\" stroke=\"black\" stroke-width=\"0\"/><circle cx=\"554.4\" cy=\"16.5\" fill=\"black\" r=\"-0.264\" stroke=\"black\" stroke-width=\"0\"/><text alignment-baseline=\"middle\" fill=\"white\" font-family=\"Times\" font-size=\"8.25\" text-anchor=\"middle\" x=\"541.2\" y=\"17.325\"/><rect fill=\"black\" height=\"9.9\" width=\"26.928\" x=\"554.136\" y=\"11.55\"/><circle cx=\"554.4\" cy=\"16.5\" fill=\"black\" r=\"-0.264\" stroke=\"black\" stroke-width=\"0\"/><circle cx=\"580.8\" cy=\"16.5\" fill=\"black\" r=\"-0.264\" stroke=\"black\" stroke-width=\"0\"/><text alignment-baseline=\"middle\" fill=\"white\" font-family=\"Times\" font-size=\"8.25\" text-anchor=\"middle\" x=\"567.6\" y=\"17.325\"/><rect fill=\"black\" height=\"9.9\" width=\"26.928\" x=\"580.536\" y=\"11.55\"/><circle cx=\"580.8\" cy=\"16.5\" fill=\"black\" r=\"-0.264\" stroke=\"black\" stroke-width=\"0\"/><circle cx=\"607.2\" cy=\"16.5\" fill=\"black\" r=\"-0.264\" stroke=\"black\" stroke-width=\"0\"/><text alignment-baseline=\"middle\" fill=\"white\" font-family=\"Times\" font-size=\"8.25\" text-anchor=\"middle\" x=\"594.0\" y=\"17.325\"/><rect fill=\"black\" height=\"9.9\" width=\"26.928\" x=\"606.936\" y=\"11.55\"/><circle cx=\"607.2\" cy=\"16.5\" fill=\"black\" r=\"-0.264\" stroke=\"black\" stroke-width=\"0\"/><circle cx=\"633.6\" cy=\"16.5\" fill=\"black\" r=\"-0.264\" stroke=\"black\" stroke-width=\"0\"/><text alignment-baseline=\"middle\" fill=\"white\" font-family=\"Times\" font-size=\"8.25\" text-anchor=\"middle\" x=\"620.4\" y=\"17.325\"/><rect fill=\"black\" height=\"9.9\" width=\"26.928\" x=\"633.336\" y=\"11.55\"/><circle cx=\"633.6\" cy=\"16.5\" fill=\"black\" r=\"-0.264\" stroke=\"black\" stroke-width=\"0\"/><circle cx=\"660.0\" cy=\"16.5\" fill=\"black\" r=\"-0.264\" stroke=\"black\" stroke-width=\"0\"/><text alignment-baseline=\"middle\" fill=\"white\" font-family=\"Times\" font-size=\"8.25\" text-anchor=\"middle\" x=\"646.8\" y=\"17.325\"/><rect fill=\"black\" height=\"9.9\" width=\"26.928\" x=\"659.736\" y=\"11.55\"/><circle cx=\"660.0\" cy=\"16.5\" fill=\"black\" r=\"-0.264\" stroke=\"black\" stroke-width=\"0\"/><circle cx=\"686.4\" cy=\"16.5\" fill=\"black\" r=\"-0.264\" stroke=\"black\" stroke-width=\"0\"/><text alignment-baseline=\"middle\" fill=\"white\" font-family=\"Times\" font-size=\"8.25\" text-anchor=\"middle\" x=\"673.2\" y=\"17.325\"/><rect fill=\"black\" height=\"9.9\" width=\"26.928\" x=\"686.136\" y=\"11.55\"/><circle cx=\"686.4\" cy=\"16.5\" fill=\"black\" r=\"-0.264\" stroke=\"black\" stroke-width=\"0\"/><circle cx=\"712.8\" cy=\"16.5\" fill=\"black\" r=\"-0.264\" stroke=\"black\" stroke-width=\"0\"/><text alignment-baseline=\"middle\" fill=\"white\" font-family=\"Times\" font-size=\"8.25\" text-anchor=\"middle\" x=\"699.6\" y=\"17.325\"/><rect fill=\"black\" height=\"9.9\" width=\"26.928\" x=\"712.536\" y=\"11.55\"/><circle cx=\"712.8\" cy=\"16.5\" fill=\"black\" r=\"-0.264\" stroke=\"black\" stroke-width=\"0\"/><circle cx=\"739.2\" cy=\"16.5\" fill=\"black\" r=\"-0.264\" stroke=\"black\" stroke-width=\"0\"/><text alignment-baseline=\"middle\" fill=\"white\" font-family=\"Times\" font-size=\"8.25\" text-anchor=\"middle\" x=\"726.0\" y=\"17.325\"/><rect fill=\"black\" height=\"9.9\" width=\"26.928\" x=\"738.936\" y=\"11.55\"/><circle cx=\"739.2\" cy=\"16.5\" fill=\"black\" r=\"-0.264\" stroke=\"black\" stroke-width=\"0\"/><circle cx=\"765.6\" cy=\"16.5\" fill=\"black\" r=\"-0.264\" stroke=\"black\" stroke-width=\"0\"/><text alignment-baseline=\"middle\" fill=\"white\" font-family=\"Times\" font-size=\"8.25\" text-anchor=\"middle\" x=\"752.4\" y=\"17.325\"/><rect fill=\"black\" height=\"9.9\" width=\"26.928\" x=\"765.336\" y=\"11.55\"/><circle cx=\"765.6\" cy=\"16.5\" fill=\"black\" r=\"-0.264\" stroke=\"black\" stroke-width=\"0\"/><circle cx=\"792.0\" cy=\"16.5\" fill=\"black\" r=\"-0.264\" stroke=\"black\" stroke-width=\"0\"/><text alignment-baseline=\"middle\" fill=\"white\" font-family=\"Times\" font-size=\"8.25\" text-anchor=\"middle\" x=\"778.8\" y=\"17.325\"/><rect fill=\"black\" height=\"9.9\" width=\"26.928\" x=\"791.736\" y=\"11.55\"/><circle cx=\"792.0\" cy=\"16.5\" fill=\"black\" r=\"-0.264\" stroke=\"black\" stroke-width=\"0\"/><circle cx=\"818.4\" cy=\"16.5\" fill=\"black\" r=\"-0.264\" stroke=\"black\" stroke-width=\"0\"/><text alignment-baseline=\"middle\" fill=\"white\" font-family=\"Times\" font-size=\"8.25\" text-anchor=\"middle\" x=\"805.2\" y=\"17.325\"/><rect fill=\"black\" height=\"9.9\" width=\"26.928\" x=\"818.136\" y=\"11.55\"/><circle cx=\"818.4\" cy=\"16.5\" fill=\"black\" r=\"-0.264\" stroke=\"black\" stroke-width=\"0\"/><circle cx=\"844.8\" cy=\"16.5\" fill=\"black\" r=\"-0.264\" stroke=\"black\" stroke-width=\"0\"/><text alignment-baseline=\"middle\" fill=\"white\" font-family=\"Times\" font-size=\"8.25\" text-anchor=\"middle\" x=\"831.6\" y=\"17.325\"/><rect fill=\"black\" height=\"9.9\" width=\"26.928\" x=\"844.536\" y=\"11.55\"/><circle cx=\"844.8\" cy=\"16.5\" fill=\"black\" r=\"-0.264\" stroke=\"black\" stroke-width=\"0\"/><circle cx=\"871.2\" cy=\"16.5\" fill=\"black\" r=\"-0.264\" stroke=\"black\" stroke-width=\"0\"/><text alignment-baseline=\"middle\" fill=\"white\" font-family=\"Times\" font-size=\"8.25\" text-anchor=\"middle\" x=\"858.0\" y=\"17.325\"/><rect fill=\"black\" height=\"9.9\" width=\"26.928\" x=\"870.936\" y=\"11.55\"/><circle cx=\"871.2\" cy=\"16.5\" fill=\"black\" r=\"-0.264\" stroke=\"black\" stroke-width=\"0\"/><circle cx=\"897.6\" cy=\"16.5\" fill=\"black\" r=\"-0.264\" stroke=\"black\" stroke-width=\"0\"/><text alignment-baseline=\"middle\" fill=\"white\" font-family=\"Times\" font-size=\"8.25\" text-anchor=\"middle\" x=\"884.4\" y=\"17.325\"/><rect fill=\"black\" height=\"9.9\" width=\"26.928\" x=\"897.336\" y=\"11.55\"/><circle cx=\"897.6\" cy=\"16.5\" fill=\"black\" r=\"-0.264\" stroke=\"black\" stroke-width=\"0\"/><circle cx=\"924.0\" cy=\"16.5\" fill=\"black\" r=\"-0.264\" stroke=\"black\" stroke-width=\"0\"/><text alignment-baseline=\"middle\" fill=\"white\" font-family=\"Times\" font-size=\"8.25\" text-anchor=\"middle\" x=\"910.8\" y=\"17.325\"/><rect fill=\"black\" height=\"9.9\" width=\"26.928\" x=\"923.736\" y=\"11.55\"/><circle cx=\"924.0\" cy=\"16.5\" fill=\"black\" r=\"-0.264\" stroke=\"black\" stroke-width=\"0\"/><circle cx=\"950.4\" cy=\"16.5\" fill=\"black\" r=\"-0.264\" stroke=\"black\" stroke-width=\"0\"/><text alignment-baseline=\"middle\" fill=\"white\" font-family=\"Times\" font-size=\"8.25\" text-anchor=\"middle\" x=\"937.2\" y=\"17.325\"/><rect fill=\"black\" height=\"9.9\" width=\"26.928\" x=\"950.136\" y=\"11.55\"/><circle cx=\"950.4\" cy=\"16.5\" fill=\"black\" r=\"-0.264\" stroke=\"black\" stroke-width=\"0\"/><circle cx=\"976.8\" cy=\"16.5\" fill=\"black\" r=\"-0.264\" stroke=\"black\" stroke-width=\"0\"/><text alignment-baseline=\"middle\" fill=\"white\" font-family=\"Times\" font-size=\"8.25\" text-anchor=\"middle\" x=\"963.6\" y=\"17.325\"/><rect fill=\"black\" height=\"9.9\" width=\"26.928\" x=\"976.536\" y=\"11.55\"/><circle cx=\"976.8\" cy=\"16.5\" fill=\"black\" r=\"-0.264\" stroke=\"black\" stroke-width=\"0\"/><circle cx=\"1003.2\" cy=\"16.5\" fill=\"black\" r=\"-0.264\" stroke=\"black\" stroke-width=\"0\"/><text alignment-baseline=\"middle\" fill=\"white\" font-family=\"Times\" font-size=\"8.25\" text-anchor=\"middle\" x=\"990.0\" y=\"17.325\"/><rect fill=\"black\" height=\"9.9\" width=\"26.928\" x=\"1002.936\" y=\"11.55\"/><circle cx=\"1003.2\" cy=\"16.5\" fill=\"black\" r=\"-0.264\" stroke=\"black\" stroke-width=\"0\"/><circle cx=\"1029.6\" cy=\"16.5\" fill=\"black\" r=\"-0.264\" stroke=\"black\" stroke-width=\"0\"/><text alignment-baseline=\"middle\" fill=\"white\" font-family=\"Times\" font-size=\"8.25\" text-anchor=\"middle\" x=\"1016.4\" y=\"17.325\"/><rect fill=\"black\" height=\"9.9\" width=\"26.928\" x=\"1029.336\" y=\"11.55\"/><circle cx=\"1029.6\" cy=\"16.5\" fill=\"black\" r=\"-0.264\" stroke=\"black\" stroke-width=\"0\"/><circle cx=\"1056.0\" cy=\"16.5\" fill=\"black\" r=\"-0.264\" stroke=\"black\" stroke-width=\"0\"/><text alignment-baseline=\"middle\" fill=\"white\" font-family=\"Times\" font-size=\"8.25\" text-anchor=\"middle\" x=\"1042.8\" y=\"17.325\"/><rect fill=\"black\" height=\"9.9\" width=\"26.928\" x=\"1055.736\" y=\"11.55\"/><circle cx=\"1056.0\" cy=\"16.5\" fill=\"black\" r=\"-0.264\" stroke=\"black\" stroke-width=\"0\"/><circle cx=\"1082.4\" cy=\"16.5\" fill=\"black\" r=\"-0.264\" stroke=\"black\" stroke-width=\"0\"/><text alignment-baseline=\"middle\" fill=\"white\" font-family=\"Times\" font-size=\"8.25\" text-anchor=\"middle\" x=\"1069.2\" y=\"17.325\"/><rect fill=\"black\" height=\"9.9\" width=\"26.928\" x=\"1082.136\" y=\"11.55\"/><circle cx=\"1082.4\" cy=\"16.5\" fill=\"black\" r=\"-0.264\" stroke=\"black\" stroke-width=\"0\"/><circle cx=\"1108.8\" cy=\"16.5\" fill=\"black\" r=\"-0.264\" stroke=\"black\" stroke-width=\"0\"/><text alignment-baseline=\"middle\" fill=\"white\" font-family=\"Times\" font-size=\"8.25\" text-anchor=\"middle\" x=\"1095.6\" y=\"17.325\"/><rect fill=\"black\" height=\"9.9\" width=\"26.928\" x=\"1108.536\" y=\"11.55\"/><circle cx=\"1108.8\" cy=\"16.5\" fill=\"black\" r=\"-0.264\" stroke=\"black\" stroke-width=\"0\"/><circle cx=\"1135.2\" cy=\"16.5\" fill=\"black\" r=\"-0.264\" stroke=\"black\" stroke-width=\"0\"/><text alignment-baseline=\"middle\" fill=\"white\" font-family=\"Times\" font-size=\"8.25\" text-anchor=\"middle\" x=\"1122.0\" y=\"17.325\"/><rect fill=\"black\" height=\"9.9\" width=\"26.928\" x=\"1134.936\" y=\"11.55\"/><circle cx=\"1135.2\" cy=\"16.5\" fill=\"black\" r=\"-0.264\" stroke=\"black\" stroke-width=\"0\"/><circle cx=\"1161.6\" cy=\"16.5\" fill=\"black\" r=\"-0.264\" stroke=\"black\" stroke-width=\"0\"/><text alignment-baseline=\"middle\" fill=\"white\" font-family=\"Times\" font-size=\"8.25\" text-anchor=\"middle\" x=\"1148.4\" y=\"17.325\"/><rect fill=\"black\" height=\"9.9\" width=\"26.928\" x=\"1161.336\" y=\"11.55\"/><circle cx=\"1161.6\" cy=\"16.5\" fill=\"black\" r=\"-0.264\" stroke=\"black\" stroke-width=\"0\"/><circle cx=\"1188.0\" cy=\"16.5\" fill=\"black\" r=\"-0.264\" stroke=\"black\" stroke-width=\"0\"/><text alignment-baseline=\"middle\" fill=\"white\" font-family=\"Times\" font-size=\"8.25\" text-anchor=\"middle\" x=\"1174.8\" y=\"17.325\"/><rect fill=\"black\" height=\"9.9\" width=\"26.928\" x=\"1187.736\" y=\"11.55\"/><circle cx=\"1188.0\" cy=\"16.5\" fill=\"black\" r=\"-0.264\" stroke=\"black\" stroke-width=\"0\"/><circle cx=\"1214.4\" cy=\"16.5\" fill=\"black\" r=\"-0.264\" stroke=\"black\" stroke-width=\"0\"/><text alignment-baseline=\"middle\" fill=\"white\" font-family=\"Times\" font-size=\"8.25\" text-anchor=\"middle\" x=\"1201.2\" y=\"17.325\"/><rect fill=\"black\" height=\"9.9\" width=\"26.928\" x=\"1214.136\" y=\"11.55\"/><circle cx=\"1214.4\" cy=\"16.5\" fill=\"black\" r=\"-0.264\" stroke=\"black\" stroke-width=\"0\"/><circle cx=\"1240.8\" cy=\"16.5\" fill=\"black\" r=\"-0.264\" stroke=\"black\" stroke-width=\"0\"/><text alignment-baseline=\"middle\" fill=\"white\" font-family=\"Times\" font-size=\"8.25\" text-anchor=\"middle\" x=\"1227.6\" y=\"17.325\"/><rect fill=\"black\" height=\"9.9\" width=\"26.928\" x=\"1240.536\" y=\"11.55\"/><circle cx=\"1240.8\" cy=\"16.5\" fill=\"black\" r=\"-0.264\" stroke=\"black\" stroke-width=\"0\"/><circle cx=\"1267.2\" cy=\"16.5\" fill=\"black\" r=\"-0.264\" stroke=\"black\" stroke-width=\"0\"/><text alignment-baseline=\"middle\" fill=\"white\" font-family=\"Times\" font-size=\"8.25\" text-anchor=\"middle\" x=\"1254.0\" y=\"17.325\"/><rect fill=\"black\" height=\"9.9\" width=\"26.928\" x=\"1266.936\" y=\"11.55\"/><circle cx=\"1267.2\" cy=\"16.5\" fill=\"black\" r=\"-0.264\" stroke=\"black\" stroke-width=\"0\"/><circle cx=\"1293.6\" cy=\"16.5\" fill=\"black\" r=\"-0.264\" stroke=\"black\" stroke-width=\"0\"/><text alignment-baseline=\"middle\" fill=\"white\" font-family=\"Times\" font-size=\"8.25\" text-anchor=\"middle\" x=\"1280.4\" y=\"17.325\"/><rect fill=\"black\" height=\"9.9\" width=\"26.928\" x=\"1293.336\" y=\"11.55\"/><circle cx=\"1293.6\" cy=\"16.5\" fill=\"black\" r=\"-0.264\" stroke=\"black\" stroke-width=\"0\"/><circle cx=\"1320.0\" cy=\"16.5\" fill=\"black\" r=\"-0.264\" stroke=\"black\" stroke-width=\"0\"/><text alignment-baseline=\"middle\" fill=\"white\" font-family=\"Times\" font-size=\"8.25\" text-anchor=\"middle\" x=\"1306.8\" y=\"17.325\"/><rect fill=\"black\" height=\"9.9\" width=\"26.928\" x=\"1319.736\" y=\"11.55\"/><circle cx=\"1320.0\" cy=\"16.5\" fill=\"black\" r=\"-0.264\" stroke=\"black\" stroke-width=\"0\"/><circle cx=\"1346.4\" cy=\"16.5\" fill=\"black\" r=\"-0.264\" stroke=\"black\" stroke-width=\"0\"/><text alignment-baseline=\"middle\" fill=\"white\" font-family=\"Times\" font-size=\"8.25\" text-anchor=\"middle\" x=\"1333.2\" y=\"17.325\"/><rect fill=\"black\" height=\"9.9\" width=\"26.928\" x=\"1346.136\" y=\"11.55\"/><circle cx=\"1346.4\" cy=\"16.5\" fill=\"black\" r=\"-0.264\" stroke=\"black\" stroke-width=\"0\"/><circle cx=\"1372.8\" cy=\"16.5\" fill=\"black\" r=\"-0.264\" stroke=\"black\" stroke-width=\"0\"/><text alignment-baseline=\"middle\" fill=\"white\" font-family=\"Times\" font-size=\"8.25\" text-anchor=\"middle\" x=\"1359.6\" y=\"17.325\"/><rect fill=\"black\" height=\"9.9\" width=\"26.928\" x=\"1372.536\" y=\"11.55\"/><circle cx=\"1372.8\" cy=\"16.5\" fill=\"black\" r=\"-0.264\" stroke=\"black\" stroke-width=\"0\"/><circle cx=\"1399.2\" cy=\"16.5\" fill=\"black\" r=\"-0.264\" stroke=\"black\" stroke-width=\"0\"/><text alignment-baseline=\"middle\" fill=\"white\" font-family=\"Times\" font-size=\"8.25\" text-anchor=\"middle\" x=\"1386.0\" y=\"17.325\"/><rect fill=\"black\" height=\"9.9\" width=\"26.928\" x=\"1398.936\" y=\"11.55\"/><circle cx=\"1399.2\" cy=\"16.5\" fill=\"black\" r=\"-0.264\" stroke=\"black\" stroke-width=\"0\"/><circle cx=\"1425.6\" cy=\"16.5\" fill=\"black\" r=\"-0.264\" stroke=\"black\" stroke-width=\"0\"/><text alignment-baseline=\"middle\" fill=\"white\" font-family=\"Times\" font-size=\"8.25\" text-anchor=\"middle\" x=\"1412.4\" y=\"17.325\"/><rect fill=\"black\" height=\"9.9\" width=\"26.928\" x=\"1425.336\" y=\"11.55\"/><circle cx=\"1425.6\" cy=\"16.5\" fill=\"black\" r=\"-0.264\" stroke=\"black\" stroke-width=\"0\"/><circle cx=\"1452.0\" cy=\"16.5\" fill=\"black\" r=\"-0.264\" stroke=\"black\" stroke-width=\"0\"/><text alignment-baseline=\"middle\" fill=\"white\" font-family=\"Times\" font-size=\"8.25\" text-anchor=\"middle\" x=\"1438.8\" y=\"17.325\"/><rect fill=\"black\" height=\"9.9\" width=\"26.928\" x=\"1451.736\" y=\"11.55\"/><circle cx=\"1452.0\" cy=\"16.5\" fill=\"black\" r=\"-0.264\" stroke=\"black\" stroke-width=\"0\"/><circle cx=\"1478.4\" cy=\"16.5\" fill=\"black\" r=\"-0.264\" stroke=\"black\" stroke-width=\"0\"/><text alignment-baseline=\"middle\" fill=\"white\" font-family=\"Times\" font-size=\"8.25\" text-anchor=\"middle\" x=\"1465.2\" y=\"17.325\"/><rect fill=\"black\" height=\"9.9\" width=\"26.928\" x=\"1478.136\" y=\"11.55\"/><circle cx=\"1478.4\" cy=\"16.5\" fill=\"black\" r=\"-0.264\" stroke=\"black\" stroke-width=\"0\"/><circle cx=\"1504.8\" cy=\"16.5\" fill=\"black\" r=\"-0.264\" stroke=\"black\" stroke-width=\"0\"/><text alignment-baseline=\"middle\" fill=\"white\" font-family=\"Times\" font-size=\"8.25\" text-anchor=\"middle\" x=\"1491.6\" y=\"17.325\"/><rect fill=\"black\" height=\"9.9\" width=\"26.928\" x=\"1504.536\" y=\"11.55\"/><circle cx=\"1504.8\" cy=\"16.5\" fill=\"black\" r=\"-0.264\" stroke=\"black\" stroke-width=\"0\"/><circle cx=\"1531.2\" cy=\"16.5\" fill=\"black\" r=\"-0.264\" stroke=\"black\" stroke-width=\"0\"/><text alignment-baseline=\"middle\" fill=\"white\" font-family=\"Times\" font-size=\"8.25\" text-anchor=\"middle\" x=\"1518.0\" y=\"17.325\"/><rect fill=\"black\" height=\"9.9\" width=\"26.928\" x=\"1530.936\" y=\"11.55\"/><circle cx=\"1531.2\" cy=\"16.5\" fill=\"black\" r=\"-0.264\" stroke=\"black\" stroke-width=\"0\"/><circle cx=\"1557.6\" cy=\"16.5\" fill=\"black\" r=\"-0.264\" stroke=\"black\" stroke-width=\"0\"/><text alignment-baseline=\"middle\" fill=\"white\" font-family=\"Times\" font-size=\"8.25\" text-anchor=\"middle\" x=\"1544.4\" y=\"17.325\"/><rect fill=\"black\" height=\"9.9\" width=\"26.928\" x=\"1557.336\" y=\"11.55\"/><circle cx=\"1557.6\" cy=\"16.5\" fill=\"black\" r=\"-0.264\" stroke=\"black\" stroke-width=\"0\"/><circle cx=\"1584.0\" cy=\"16.5\" fill=\"black\" r=\"-0.264\" stroke=\"black\" stroke-width=\"0\"/><text alignment-baseline=\"middle\" fill=\"white\" font-family=\"Times\" font-size=\"8.25\" text-anchor=\"middle\" x=\"1570.8\" y=\"17.325\"/><rect fill=\"black\" height=\"9.9\" width=\"26.928\" x=\"1583.736\" y=\"11.55\"/><circle cx=\"1584.0\" cy=\"16.5\" fill=\"black\" r=\"-0.264\" stroke=\"black\" stroke-width=\"0\"/><circle cx=\"1610.4\" cy=\"16.5\" fill=\"black\" r=\"-0.264\" stroke=\"black\" stroke-width=\"0\"/><text alignment-baseline=\"middle\" fill=\"white\" font-family=\"Times\" font-size=\"8.25\" text-anchor=\"middle\" x=\"1597.2\" y=\"17.325\"/><rect fill=\"black\" height=\"9.9\" width=\"26.928\" x=\"1610.136\" y=\"11.55\"/><circle cx=\"1610.4\" cy=\"16.5\" fill=\"black\" r=\"-0.264\" stroke=\"black\" stroke-width=\"0\"/><circle cx=\"1636.8\" cy=\"16.5\" fill=\"black\" r=\"-0.264\" stroke=\"black\" stroke-width=\"0\"/><text alignment-baseline=\"middle\" fill=\"white\" font-family=\"Times\" font-size=\"8.25\" text-anchor=\"middle\" x=\"1623.6\" y=\"17.325\"/><line stroke=\"red\" stroke-width=\"1.32\" x1=\"264.0\" x2=\"264.0\" y1=\"16.335\" y2=\"49.665\"/><text alignment-baseline=\"middle\" fill=\"black\" font-family=\"Times\" font-size=\"8.25\" text-anchor=\"start\" x=\"1061.28\" y=\"50.325\">4f</text><rect fill=\"red\" height=\"9.9\" width=\"26.928\" x=\"263.736\" y=\"44.55\"/><circle cx=\"264.0\" cy=\"49.5\" fill=\"red\" r=\"-0.264\" stroke=\"red\" stroke-width=\"0\"/><circle cx=\"290.4\" cy=\"49.5\" fill=\"red\" r=\"-0.264\" stroke=\"red\" stroke-width=\"0\"/><text alignment-baseline=\"middle\" fill=\"white\" font-family=\"Times\" font-size=\"8.25\" text-anchor=\"middle\" x=\"277.2\" y=\"50.325\"/><rect fill=\"red\" height=\"9.9\" width=\"26.928\" x=\"290.136\" y=\"44.55\"/><circle cx=\"290.4\" cy=\"49.5\" fill=\"red\" r=\"-0.264\" stroke=\"red\" stroke-width=\"0\"/><circle cx=\"316.8\" cy=\"49.5\" fill=\"red\" r=\"-0.264\" stroke=\"red\" stroke-width=\"0\"/><text alignment-baseline=\"middle\" fill=\"white\" font-family=\"Times\" font-size=\"8.25\" text-anchor=\"middle\" x=\"303.6\" y=\"50.325\"/><rect fill=\"red\" height=\"9.9\" width=\"26.928\" x=\"316.536\" y=\"44.55\"/><circle cx=\"316.8\" cy=\"49.5\" fill=\"red\" r=\"-0.264\" stroke=\"red\" stroke-width=\"0\"/><circle cx=\"343.2\" cy=\"49.5\" fill=\"red\" r=\"-0.264\" stroke=\"red\" stroke-width=\"0\"/><text alignment-baseline=\"middle\" fill=\"white\" font-family=\"Times\" font-size=\"8.25\" text-anchor=\"middle\" x=\"330.0\" y=\"50.325\"/><rect fill=\"red\" height=\"9.9\" width=\"26.928\" x=\"342.936\" y=\"44.55\"/><circle cx=\"343.2\" cy=\"49.5\" fill=\"red\" r=\"-0.264\" stroke=\"red\" stroke-width=\"0\"/><circle cx=\"369.6\" cy=\"49.5\" fill=\"red\" r=\"-0.264\" stroke=\"red\" stroke-width=\"0\"/><text alignment-baseline=\"middle\" fill=\"white\" font-family=\"Times\" font-size=\"8.25\" text-anchor=\"middle\" x=\"356.4\" y=\"50.325\"/><rect fill=\"red\" height=\"9.9\" width=\"26.928\" x=\"369.336\" y=\"44.55\"/><circle cx=\"369.6\" cy=\"49.5\" fill=\"red\" r=\"-0.264\" stroke=\"red\" stroke-width=\"0\"/><circle cx=\"396.0\" cy=\"49.5\" fill=\"red\" r=\"-0.264\" stroke=\"red\" stroke-width=\"0\"/><text alignment-baseline=\"middle\" fill=\"white\" font-family=\"Times\" font-size=\"8.25\" text-anchor=\"middle\" x=\"382.8\" y=\"50.325\"/><rect fill=\"red\" height=\"9.9\" width=\"26.928\" x=\"395.736\" y=\"44.55\"/><circle cx=\"396.0\" cy=\"49.5\" fill=\"red\" r=\"-0.264\" stroke=\"red\" stroke-width=\"0\"/><circle cx=\"422.4\" cy=\"49.5\" fill=\"red\" r=\"-0.264\" stroke=\"red\" stroke-width=\"0\"/><text alignment-baseline=\"middle\" fill=\"white\" font-family=\"Times\" font-size=\"8.25\" text-anchor=\"middle\" x=\"409.2\" y=\"50.325\"/><rect fill=\"red\" height=\"9.9\" width=\"26.928\" x=\"422.136\" y=\"44.55\"/><circle cx=\"422.4\" cy=\"49.5\" fill=\"red\" r=\"-0.264\" stroke=\"red\" stroke-width=\"0\"/><circle cx=\"448.8\" cy=\"49.5\" fill=\"red\" r=\"-0.264\" stroke=\"red\" stroke-width=\"0\"/><text alignment-baseline=\"middle\" fill=\"white\" font-family=\"Times\" font-size=\"8.25\" text-anchor=\"middle\" x=\"435.6\" y=\"50.325\"/><rect fill=\"red\" height=\"9.9\" width=\"26.928\" x=\"448.536\" y=\"44.55\"/><circle cx=\"448.8\" cy=\"49.5\" fill=\"red\" r=\"-0.264\" stroke=\"red\" stroke-width=\"0\"/><circle cx=\"475.2\" cy=\"49.5\" fill=\"red\" r=\"-0.264\" stroke=\"red\" stroke-width=\"0\"/><text alignment-baseline=\"middle\" fill=\"white\" font-family=\"Times\" font-size=\"8.25\" text-anchor=\"middle\" x=\"462.0\" y=\"50.325\"/><rect fill=\"red\" height=\"9.9\" width=\"26.928\" x=\"474.936\" y=\"44.55\"/><circle cx=\"475.2\" cy=\"49.5\" fill=\"red\" r=\"-0.264\" stroke=\"red\" stroke-width=\"0\"/><circle cx=\"501.6\" cy=\"49.5\" fill=\"red\" r=\"-0.264\" stroke=\"red\" stroke-width=\"0\"/><text alignment-baseline=\"middle\" fill=\"white\" font-family=\"Times\" font-size=\"8.25\" text-anchor=\"middle\" x=\"488.4\" y=\"50.325\"/><rect fill=\"red\" height=\"9.9\" width=\"26.928\" x=\"501.336\" y=\"44.55\"/><circle cx=\"501.6\" cy=\"49.5\" fill=\"red\" r=\"-0.264\" stroke=\"red\" stroke-width=\"0\"/><circle cx=\"528.0\" cy=\"49.5\" fill=\"red\" r=\"-0.264\" stroke=\"red\" stroke-width=\"0\"/><text alignment-baseline=\"middle\" fill=\"white\" font-family=\"Times\" font-size=\"8.25\" text-anchor=\"middle\" x=\"514.8\" y=\"50.325\"/><rect fill=\"red\" height=\"9.9\" width=\"26.928\" x=\"527.736\" y=\"44.55\"/><circle cx=\"528.0\" cy=\"49.5\" fill=\"red\" r=\"-0.264\" stroke=\"red\" stroke-width=\"0\"/><circle cx=\"554.4\" cy=\"49.5\" fill=\"red\" r=\"-0.264\" stroke=\"red\" stroke-width=\"0\"/><text alignment-baseline=\"middle\" fill=\"white\" font-family=\"Times\" font-size=\"8.25\" text-anchor=\"middle\" x=\"541.2\" y=\"50.325\"/><rect fill=\"red\" height=\"9.9\" width=\"26.928\" x=\"554.136\" y=\"44.55\"/><circle cx=\"554.4\" cy=\"49.5\" fill=\"red\" r=\"-0.264\" stroke=\"red\" stroke-width=\"0\"/><circle cx=\"580.8\" cy=\"49.5\" fill=\"red\" r=\"-0.264\" stroke=\"red\" stroke-width=\"0\"/><text alignment-baseline=\"middle\" fill=\"white\" font-family=\"Times\" font-size=\"8.25\" text-anchor=\"middle\" x=\"567.6\" y=\"50.325\"/><rect fill=\"red\" height=\"9.9\" width=\"26.928\" x=\"580.536\" y=\"44.55\"/><circle cx=\"580.8\" cy=\"49.5\" fill=\"red\" r=\"-0.264\" stroke=\"red\" stroke-width=\"0\"/><circle cx=\"607.2\" cy=\"49.5\" fill=\"red\" r=\"-0.264\" stroke=\"red\" stroke-width=\"0\"/><text alignment-baseline=\"middle\" fill=\"white\" font-family=\"Times\" font-size=\"8.25\" text-anchor=\"middle\" x=\"594.0\" y=\"50.325\"/><rect fill=\"red\" height=\"9.9\" width=\"26.928\" x=\"606.936\" y=\"44.55\"/><circle cx=\"607.2\" cy=\"49.5\" fill=\"red\" r=\"-0.264\" stroke=\"red\" stroke-width=\"0\"/><circle cx=\"633.6\" cy=\"49.5\" fill=\"red\" r=\"-0.264\" stroke=\"red\" stroke-width=\"0\"/><text alignment-baseline=\"middle\" fill=\"white\" font-family=\"Times\" font-size=\"8.25\" text-anchor=\"middle\" x=\"620.4\" y=\"50.325\"/><rect fill=\"red\" height=\"9.9\" width=\"26.928\" x=\"633.336\" y=\"44.55\"/><circle cx=\"633.6\" cy=\"49.5\" fill=\"red\" r=\"-0.264\" stroke=\"red\" stroke-width=\"0\"/><circle cx=\"660.0\" cy=\"49.5\" fill=\"red\" r=\"-0.264\" stroke=\"red\" stroke-width=\"0\"/><text alignment-baseline=\"middle\" fill=\"white\" font-family=\"Times\" font-size=\"8.25\" text-anchor=\"middle\" x=\"646.8\" y=\"50.325\"/><rect fill=\"red\" height=\"9.9\" width=\"26.928\" x=\"659.736\" y=\"44.55\"/><circle cx=\"660.0\" cy=\"49.5\" fill=\"red\" r=\"-0.264\" stroke=\"red\" stroke-width=\"0\"/><circle cx=\"686.4\" cy=\"49.5\" fill=\"red\" r=\"-0.264\" stroke=\"red\" stroke-width=\"0\"/><text alignment-baseline=\"middle\" fill=\"white\" font-family=\"Times\" font-size=\"8.25\" text-anchor=\"middle\" x=\"673.2\" y=\"50.325\"/><rect fill=\"red\" height=\"9.9\" width=\"26.928\" x=\"686.136\" y=\"44.55\"/><circle cx=\"686.4\" cy=\"49.5\" fill=\"red\" r=\"-0.264\" stroke=\"red\" stroke-width=\"0\"/><circle cx=\"712.8\" cy=\"49.5\" fill=\"red\" r=\"-0.264\" stroke=\"red\" stroke-width=\"0\"/><text alignment-baseline=\"middle\" fill=\"white\" font-family=\"Times\" font-size=\"8.25\" text-anchor=\"middle\" x=\"699.6\" y=\"50.325\"/><rect fill=\"red\" height=\"9.9\" width=\"26.928\" x=\"712.536\" y=\"44.55\"/><circle cx=\"712.8\" cy=\"49.5\" fill=\"red\" r=\"-0.264\" stroke=\"red\" stroke-width=\"0\"/><circle cx=\"739.2\" cy=\"49.5\" fill=\"red\" r=\"-0.264\" stroke=\"red\" stroke-width=\"0\"/><text alignment-baseline=\"middle\" fill=\"white\" font-family=\"Times\" font-size=\"8.25\" text-anchor=\"middle\" x=\"726.0\" y=\"50.325\"/><rect fill=\"red\" height=\"9.9\" width=\"26.928\" x=\"738.936\" y=\"44.55\"/><circle cx=\"739.2\" cy=\"49.5\" fill=\"red\" r=\"-0.264\" stroke=\"red\" stroke-width=\"0\"/><circle cx=\"765.6\" cy=\"49.5\" fill=\"red\" r=\"-0.264\" stroke=\"red\" stroke-width=\"0\"/><text alignment-baseline=\"middle\" fill=\"white\" font-family=\"Times\" font-size=\"8.25\" text-anchor=\"middle\" x=\"752.4\" y=\"50.325\"/><rect fill=\"red\" height=\"9.9\" width=\"26.928\" x=\"765.336\" y=\"44.55\"/><circle cx=\"765.6\" cy=\"49.5\" fill=\"red\" r=\"-0.264\" stroke=\"red\" stroke-width=\"0\"/><circle cx=\"792.0\" cy=\"49.5\" fill=\"red\" r=\"-0.264\" stroke=\"red\" stroke-width=\"0\"/><text alignment-baseline=\"middle\" fill=\"white\" font-family=\"Times\" font-size=\"8.25\" text-anchor=\"middle\" x=\"778.8\" y=\"50.325\"/><rect fill=\"red\" height=\"9.9\" width=\"26.928\" x=\"791.736\" y=\"44.55\"/><circle cx=\"792.0\" cy=\"49.5\" fill=\"red\" r=\"-0.264\" stroke=\"red\" stroke-width=\"0\"/><circle cx=\"818.4\" cy=\"49.5\" fill=\"red\" r=\"-0.264\" stroke=\"red\" stroke-width=\"0\"/><text alignment-baseline=\"middle\" fill=\"white\" font-family=\"Times\" font-size=\"8.25\" text-anchor=\"middle\" x=\"805.2\" y=\"50.325\"/><rect fill=\"red\" height=\"9.9\" width=\"26.928\" x=\"818.136\" y=\"44.55\"/><circle cx=\"818.4\" cy=\"49.5\" fill=\"red\" r=\"-0.264\" stroke=\"red\" stroke-width=\"0\"/><circle cx=\"844.8\" cy=\"49.5\" fill=\"red\" r=\"-0.264\" stroke=\"red\" stroke-width=\"0\"/><text alignment-baseline=\"middle\" fill=\"white\" font-family=\"Times\" font-size=\"8.25\" text-anchor=\"middle\" x=\"831.6\" y=\"50.325\"/><rect fill=\"red\" height=\"9.9\" width=\"26.928\" x=\"844.536\" y=\"44.55\"/><circle cx=\"844.8\" cy=\"49.5\" fill=\"red\" r=\"-0.264\" stroke=\"red\" stroke-width=\"0\"/><circle cx=\"871.2\" cy=\"49.5\" fill=\"red\" r=\"-0.264\" stroke=\"red\" stroke-width=\"0\"/><text alignment-baseline=\"middle\" fill=\"white\" font-family=\"Times\" font-size=\"8.25\" text-anchor=\"middle\" x=\"858.0\" y=\"50.325\"/><rect fill=\"red\" height=\"9.9\" width=\"26.928\" x=\"870.936\" y=\"44.55\"/><circle cx=\"871.2\" cy=\"49.5\" fill=\"red\" r=\"-0.264\" stroke=\"red\" stroke-width=\"0\"/><circle cx=\"897.6\" cy=\"49.5\" fill=\"red\" r=\"-0.264\" stroke=\"red\" stroke-width=\"0\"/><text alignment-baseline=\"middle\" fill=\"white\" font-family=\"Times\" font-size=\"8.25\" text-anchor=\"middle\" x=\"884.4\" y=\"50.325\"/><rect fill=\"red\" height=\"9.9\" width=\"26.928\" x=\"897.336\" y=\"44.55\"/><circle cx=\"897.6\" cy=\"49.5\" fill=\"red\" r=\"-0.264\" stroke=\"red\" stroke-width=\"0\"/><circle cx=\"924.0\" cy=\"49.5\" fill=\"red\" r=\"-0.264\" stroke=\"red\" stroke-width=\"0\"/><text alignment-baseline=\"middle\" fill=\"white\" font-family=\"Times\" font-size=\"8.25\" text-anchor=\"middle\" x=\"910.8\" y=\"50.325\"/><rect fill=\"red\" height=\"9.9\" width=\"26.928\" x=\"923.736\" y=\"44.55\"/><circle cx=\"924.0\" cy=\"49.5\" fill=\"red\" r=\"-0.264\" stroke=\"red\" stroke-width=\"0\"/><circle cx=\"950.4\" cy=\"49.5\" fill=\"red\" r=\"-0.264\" stroke=\"red\" stroke-width=\"0\"/><text alignment-baseline=\"middle\" fill=\"white\" font-family=\"Times\" font-size=\"8.25\" text-anchor=\"middle\" x=\"937.2\" y=\"50.325\"/><rect fill=\"red\" height=\"9.9\" width=\"26.928\" x=\"950.136\" y=\"44.55\"/><circle cx=\"950.4\" cy=\"49.5\" fill=\"red\" r=\"-0.264\" stroke=\"red\" stroke-width=\"0\"/><circle cx=\"976.8\" cy=\"49.5\" fill=\"red\" r=\"-0.264\" stroke=\"red\" stroke-width=\"0\"/><text alignment-baseline=\"middle\" fill=\"white\" font-family=\"Times\" font-size=\"8.25\" text-anchor=\"middle\" x=\"963.6\" y=\"50.325\"/><rect fill=\"red\" height=\"9.9\" width=\"26.928\" x=\"976.536\" y=\"44.55\"/><circle cx=\"976.8\" cy=\"49.5\" fill=\"red\" r=\"-0.264\" stroke=\"red\" stroke-width=\"0\"/><circle cx=\"1003.2\" cy=\"49.5\" fill=\"red\" r=\"-0.264\" stroke=\"red\" stroke-width=\"0\"/><text alignment-baseline=\"middle\" fill=\"white\" font-family=\"Times\" font-size=\"8.25\" text-anchor=\"middle\" x=\"990.0\" y=\"50.325\"/><rect fill=\"red\" height=\"9.9\" width=\"26.928\" x=\"1002.936\" y=\"44.55\"/><circle cx=\"1003.2\" cy=\"49.5\" fill=\"red\" r=\"-0.264\" stroke=\"red\" stroke-width=\"0\"/><circle cx=\"1029.6\" cy=\"49.5\" fill=\"red\" r=\"-0.264\" stroke=\"red\" stroke-width=\"0\"/><text alignment-baseline=\"middle\" fill=\"white\" font-family=\"Times\" font-size=\"8.25\" text-anchor=\"middle\" x=\"1016.4\" y=\"50.325\"/><rect fill=\"red\" height=\"9.9\" width=\"26.928\" x=\"1029.336\" y=\"44.55\"/><circle cx=\"1029.6\" cy=\"49.5\" fill=\"red\" r=\"-0.264\" stroke=\"red\" stroke-width=\"0\"/><circle cx=\"1056.0\" cy=\"49.5\" fill=\"red\" r=\"-0.264\" stroke=\"red\" stroke-width=\"0\"/><text alignment-baseline=\"middle\" fill=\"white\" font-family=\"Times\" font-size=\"8.25\" text-anchor=\"middle\" x=\"1042.8\" y=\"50.325\"/><line stroke=\"red\" stroke-width=\"1.32\" x1=\"792.0\" x2=\"792.0\" y1=\"49.335\" y2=\"82.665\"/><text alignment-baseline=\"middle\" fill=\"black\" font-family=\"Times\" font-size=\"8.25\" text-anchor=\"start\" x=\"3384.48\" y=\"83.325\">5f</text><rect fill=\"red\" height=\"9.9\" width=\"26.928\" x=\"791.736\" y=\"77.55\"/><circle cx=\"792.0\" cy=\"82.5\" fill=\"red\" r=\"-0.264\" stroke=\"red\" stroke-width=\"0\"/><circle cx=\"818.4\" cy=\"82.5\" fill=\"red\" r=\"-0.264\" stroke=\"red\" stroke-width=\"0\"/><text alignment-baseline=\"middle\" fill=\"white\" font-family=\"Times\" font-size=\"8.25\" text-anchor=\"middle\" x=\"805.2\" y=\"83.325\"/><rect fill=\"red\" height=\"9.9\" width=\"26.928\" x=\"818.136\" y=\"77.55\"/><circle cx=\"818.4\" cy=\"82.5\" fill=\"red\" r=\"-0.264\" stroke=\"red\" stroke-width=\"0\"/><circle cx=\"844.8\" cy=\"82.5\" fill=\"red\" r=\"-0.264\" stroke=\"red\" stroke-width=\"0\"/><text alignment-baseline=\"middle\" fill=\"white\" font-family=\"Times\" font-size=\"8.25\" text-anchor=\"middle\" x=\"831.6\" y=\"83.325\"/><rect fill=\"red\" height=\"9.9\" width=\"26.928\" x=\"844.536\" y=\"77.55\"/><circle cx=\"844.8\" cy=\"82.5\" fill=\"red\" r=\"-0.264\" stroke=\"red\" stroke-width=\"0\"/><circle cx=\"871.2\" cy=\"82.5\" fill=\"red\" r=\"-0.264\" stroke=\"red\" stroke-width=\"0\"/><text alignment-baseline=\"middle\" fill=\"white\" font-family=\"Times\" font-size=\"8.25\" text-anchor=\"middle\" x=\"858.0\" y=\"83.325\"/><rect fill=\"red\" height=\"9.9\" width=\"26.928\" x=\"870.936\" y=\"77.55\"/><circle cx=\"871.2\" cy=\"82.5\" fill=\"red\" r=\"-0.264\" stroke=\"red\" stroke-width=\"0\"/><circle cx=\"897.6\" cy=\"82.5\" fill=\"red\" r=\"-0.264\" stroke=\"red\" stroke-width=\"0\"/><text alignment-baseline=\"middle\" fill=\"white\" font-family=\"Times\" font-size=\"8.25\" text-anchor=\"middle\" x=\"884.4\" y=\"83.325\"/><rect fill=\"red\" height=\"9.9\" width=\"26.928\" x=\"897.336\" y=\"77.55\"/><circle cx=\"897.6\" cy=\"82.5\" fill=\"red\" r=\"-0.264\" stroke=\"red\" stroke-width=\"0\"/><circle cx=\"924.0\" cy=\"82.5\" fill=\"red\" r=\"-0.264\" stroke=\"red\" stroke-width=\"0\"/><text alignment-baseline=\"middle\" fill=\"white\" font-family=\"Times\" font-size=\"8.25\" text-anchor=\"middle\" x=\"910.8\" y=\"83.325\"/><rect fill=\"red\" height=\"9.9\" width=\"26.928\" x=\"923.736\" y=\"77.55\"/><circle cx=\"924.0\" cy=\"82.5\" fill=\"red\" r=\"-0.264\" stroke=\"red\" stroke-width=\"0\"/><circle cx=\"950.4\" cy=\"82.5\" fill=\"red\" r=\"-0.264\" stroke=\"red\" stroke-width=\"0\"/><text alignment-baseline=\"middle\" fill=\"white\" font-family=\"Times\" font-size=\"8.25\" text-anchor=\"middle\" x=\"937.2\" y=\"83.325\"/><rect fill=\"red\" height=\"9.9\" width=\"26.928\" x=\"950.136\" y=\"77.55\"/><circle cx=\"950.4\" cy=\"82.5\" fill=\"red\" r=\"-0.264\" stroke=\"red\" stroke-width=\"0\"/><circle cx=\"976.8\" cy=\"82.5\" fill=\"red\" r=\"-0.264\" stroke=\"red\" stroke-width=\"0\"/><text alignment-baseline=\"middle\" fill=\"white\" font-family=\"Times\" font-size=\"8.25\" text-anchor=\"middle\" x=\"963.6\" y=\"83.325\"/><rect fill=\"red\" height=\"9.9\" width=\"26.928\" x=\"976.536\" y=\"77.55\"/><circle cx=\"976.8\" cy=\"82.5\" fill=\"red\" r=\"-0.264\" stroke=\"red\" stroke-width=\"0\"/><circle cx=\"1003.2\" cy=\"82.5\" fill=\"red\" r=\"-0.264\" stroke=\"red\" stroke-width=\"0\"/><text alignment-baseline=\"middle\" fill=\"white\" font-family=\"Times\" font-size=\"8.25\" text-anchor=\"middle\" x=\"990.0\" y=\"83.325\"/><rect fill=\"red\" height=\"9.9\" width=\"26.928\" x=\"1002.936\" y=\"77.55\"/><circle cx=\"1003.2\" cy=\"82.5\" fill=\"red\" r=\"-0.264\" stroke=\"red\" stroke-width=\"0\"/><circle cx=\"1029.6\" cy=\"82.5\" fill=\"red\" r=\"-0.264\" stroke=\"red\" stroke-width=\"0\"/><text alignment-baseline=\"middle\" fill=\"white\" font-family=\"Times\" font-size=\"8.25\" text-anchor=\"middle\" x=\"1016.4\" y=\"83.325\"/><rect fill=\"red\" height=\"9.9\" width=\"26.928\" x=\"1029.336\" y=\"77.55\"/><circle cx=\"1029.6\" cy=\"82.5\" fill=\"red\" r=\"-0.264\" stroke=\"red\" stroke-width=\"0\"/><circle cx=\"1056.0\" cy=\"82.5\" fill=\"red\" r=\"-0.264\" stroke=\"red\" stroke-width=\"0\"/><text alignment-baseline=\"middle\" fill=\"white\" font-family=\"Times\" font-size=\"8.25\" text-anchor=\"middle\" x=\"1042.8\" y=\"83.325\"/><rect fill=\"red\" height=\"9.9\" width=\"26.928\" x=\"1055.736\" y=\"77.55\"/><circle cx=\"1056.0\" cy=\"82.5\" fill=\"red\" r=\"-0.264\" stroke=\"red\" stroke-width=\"0\"/><circle cx=\"1082.4\" cy=\"82.5\" fill=\"red\" r=\"-0.264\" stroke=\"red\" stroke-width=\"0\"/><text alignment-baseline=\"middle\" fill=\"white\" font-family=\"Times\" font-size=\"8.25\" text-anchor=\"middle\" x=\"1069.2\" y=\"83.325\"/><rect fill=\"red\" height=\"9.9\" width=\"26.928\" x=\"1082.136\" y=\"77.55\"/><circle cx=\"1082.4\" cy=\"82.5\" fill=\"red\" r=\"-0.264\" stroke=\"red\" stroke-width=\"0\"/><circle cx=\"1108.8\" cy=\"82.5\" fill=\"red\" r=\"-0.264\" stroke=\"red\" stroke-width=\"0\"/><text alignment-baseline=\"middle\" fill=\"white\" font-family=\"Times\" font-size=\"8.25\" text-anchor=\"middle\" x=\"1095.6\" y=\"83.325\"/><rect fill=\"red\" height=\"9.9\" width=\"26.928\" x=\"1108.536\" y=\"77.55\"/><circle cx=\"1108.8\" cy=\"82.5\" fill=\"red\" r=\"-0.264\" stroke=\"red\" stroke-width=\"0\"/><circle cx=\"1135.2\" cy=\"82.5\" fill=\"red\" r=\"-0.264\" stroke=\"red\" stroke-width=\"0\"/><text alignment-baseline=\"middle\" fill=\"white\" font-family=\"Times\" font-size=\"8.25\" text-anchor=\"middle\" x=\"1122.0\" y=\"83.325\"/><rect fill=\"red\" height=\"9.9\" width=\"26.928\" x=\"1134.936\" y=\"77.55\"/><circle cx=\"1135.2\" cy=\"82.5\" fill=\"red\" r=\"-0.264\" stroke=\"red\" stroke-width=\"0\"/><circle cx=\"1161.6\" cy=\"82.5\" fill=\"red\" r=\"-0.264\" stroke=\"red\" stroke-width=\"0\"/><text alignment-baseline=\"middle\" fill=\"white\" font-family=\"Times\" font-size=\"8.25\" text-anchor=\"middle\" x=\"1148.4\" y=\"83.325\"/><rect fill=\"red\" height=\"9.9\" width=\"26.928\" x=\"1161.336\" y=\"77.55\"/><circle cx=\"1161.6\" cy=\"82.5\" fill=\"red\" r=\"-0.264\" stroke=\"red\" stroke-width=\"0\"/><circle cx=\"1188.0\" cy=\"82.5\" fill=\"red\" r=\"-0.264\" stroke=\"red\" stroke-width=\"0\"/><text alignment-baseline=\"middle\" fill=\"white\" font-family=\"Times\" font-size=\"8.25\" text-anchor=\"middle\" x=\"1174.8\" y=\"83.325\"/><rect fill=\"red\" height=\"9.9\" width=\"26.928\" x=\"1187.736\" y=\"77.55\"/><circle cx=\"1188.0\" cy=\"82.5\" fill=\"red\" r=\"-0.264\" stroke=\"red\" stroke-width=\"0\"/><circle cx=\"1214.4\" cy=\"82.5\" fill=\"red\" r=\"-0.264\" stroke=\"red\" stroke-width=\"0\"/><text alignment-baseline=\"middle\" fill=\"white\" font-family=\"Times\" font-size=\"8.25\" text-anchor=\"middle\" x=\"1201.2\" y=\"83.325\"/><rect fill=\"red\" height=\"9.9\" width=\"26.928\" x=\"1214.136\" y=\"77.55\"/><circle cx=\"1214.4\" cy=\"82.5\" fill=\"red\" r=\"-0.264\" stroke=\"red\" stroke-width=\"0\"/><circle cx=\"1240.8\" cy=\"82.5\" fill=\"red\" r=\"-0.264\" stroke=\"red\" stroke-width=\"0\"/><text alignment-baseline=\"middle\" fill=\"white\" font-family=\"Times\" font-size=\"8.25\" text-anchor=\"middle\" x=\"1227.6\" y=\"83.325\"/><rect fill=\"red\" height=\"9.9\" width=\"26.928\" x=\"1240.536\" y=\"77.55\"/><circle cx=\"1240.8\" cy=\"82.5\" fill=\"red\" r=\"-0.264\" stroke=\"red\" stroke-width=\"0\"/><circle cx=\"1267.2\" cy=\"82.5\" fill=\"red\" r=\"-0.264\" stroke=\"red\" stroke-width=\"0\"/><text alignment-baseline=\"middle\" fill=\"white\" font-family=\"Times\" font-size=\"8.25\" text-anchor=\"middle\" x=\"1254.0\" y=\"83.325\"/><rect fill=\"red\" height=\"9.9\" width=\"26.928\" x=\"1266.936\" y=\"77.55\"/><circle cx=\"1267.2\" cy=\"82.5\" fill=\"red\" r=\"-0.264\" stroke=\"red\" stroke-width=\"0\"/><circle cx=\"1293.6\" cy=\"82.5\" fill=\"red\" r=\"-0.264\" stroke=\"red\" stroke-width=\"0\"/><text alignment-baseline=\"middle\" fill=\"white\" font-family=\"Times\" font-size=\"8.25\" text-anchor=\"middle\" x=\"1280.4\" y=\"83.325\"/><rect fill=\"red\" height=\"9.9\" width=\"26.928\" x=\"1293.336\" y=\"77.55\"/><circle cx=\"1293.6\" cy=\"82.5\" fill=\"red\" r=\"-0.264\" stroke=\"red\" stroke-width=\"0\"/><circle cx=\"1320.0\" cy=\"82.5\" fill=\"red\" r=\"-0.264\" stroke=\"red\" stroke-width=\"0\"/><text alignment-baseline=\"middle\" fill=\"white\" font-family=\"Times\" font-size=\"8.25\" text-anchor=\"middle\" x=\"1306.8\" y=\"83.325\"/><rect fill=\"red\" height=\"9.9\" width=\"26.928\" x=\"1319.736\" y=\"77.55\"/><circle cx=\"1320.0\" cy=\"82.5\" fill=\"red\" r=\"-0.264\" stroke=\"red\" stroke-width=\"0\"/><circle cx=\"1346.4\" cy=\"82.5\" fill=\"red\" r=\"-0.264\" stroke=\"red\" stroke-width=\"0\"/><text alignment-baseline=\"middle\" fill=\"white\" font-family=\"Times\" font-size=\"8.25\" text-anchor=\"middle\" x=\"1333.2\" y=\"83.325\"/><rect fill=\"red\" height=\"9.9\" width=\"26.928\" x=\"1346.136\" y=\"77.55\"/><circle cx=\"1346.4\" cy=\"82.5\" fill=\"red\" r=\"-0.264\" stroke=\"red\" stroke-width=\"0\"/><circle cx=\"1372.8\" cy=\"82.5\" fill=\"red\" r=\"-0.264\" stroke=\"red\" stroke-width=\"0\"/><text alignment-baseline=\"middle\" fill=\"white\" font-family=\"Times\" font-size=\"8.25\" text-anchor=\"middle\" x=\"1359.6\" y=\"83.325\"/><rect fill=\"red\" height=\"9.9\" width=\"26.928\" x=\"1372.536\" y=\"77.55\"/><circle cx=\"1372.8\" cy=\"82.5\" fill=\"red\" r=\"-0.264\" stroke=\"red\" stroke-width=\"0\"/><circle cx=\"1399.2\" cy=\"82.5\" fill=\"red\" r=\"-0.264\" stroke=\"red\" stroke-width=\"0\"/><text alignment-baseline=\"middle\" fill=\"white\" font-family=\"Times\" font-size=\"8.25\" text-anchor=\"middle\" x=\"1386.0\" y=\"83.325\"/><rect fill=\"red\" height=\"9.9\" width=\"26.928\" x=\"1398.936\" y=\"77.55\"/><circle cx=\"1399.2\" cy=\"82.5\" fill=\"red\" r=\"-0.264\" stroke=\"red\" stroke-width=\"0\"/><circle cx=\"1425.6\" cy=\"82.5\" fill=\"red\" r=\"-0.264\" stroke=\"red\" stroke-width=\"0\"/><text alignment-baseline=\"middle\" fill=\"white\" font-family=\"Times\" font-size=\"8.25\" text-anchor=\"middle\" x=\"1412.4\" y=\"83.325\"/><rect fill=\"red\" height=\"9.9\" width=\"26.928\" x=\"1425.336\" y=\"77.55\"/><circle cx=\"1425.6\" cy=\"82.5\" fill=\"red\" r=\"-0.264\" stroke=\"red\" stroke-width=\"0\"/><circle cx=\"1452.0\" cy=\"82.5\" fill=\"red\" r=\"-0.264\" stroke=\"red\" stroke-width=\"0\"/><text alignment-baseline=\"middle\" fill=\"white\" font-family=\"Times\" font-size=\"8.25\" text-anchor=\"middle\" x=\"1438.8\" y=\"83.325\"/><rect fill=\"red\" height=\"9.9\" width=\"26.928\" x=\"1451.736\" y=\"77.55\"/><circle cx=\"1452.0\" cy=\"82.5\" fill=\"red\" r=\"-0.264\" stroke=\"red\" stroke-width=\"0\"/><circle cx=\"1478.4\" cy=\"82.5\" fill=\"red\" r=\"-0.264\" stroke=\"red\" stroke-width=\"0\"/><text alignment-baseline=\"middle\" fill=\"white\" font-family=\"Times\" font-size=\"8.25\" text-anchor=\"middle\" x=\"1465.2\" y=\"83.325\"/><rect fill=\"red\" height=\"9.9\" width=\"26.928\" x=\"1478.136\" y=\"77.55\"/><circle cx=\"1478.4\" cy=\"82.5\" fill=\"red\" r=\"-0.264\" stroke=\"red\" stroke-width=\"0\"/><circle cx=\"1504.8\" cy=\"82.5\" fill=\"red\" r=\"-0.264\" stroke=\"red\" stroke-width=\"0\"/><text alignment-baseline=\"middle\" fill=\"white\" font-family=\"Times\" font-size=\"8.25\" text-anchor=\"middle\" x=\"1491.6\" y=\"83.325\"/><rect fill=\"red\" height=\"9.9\" width=\"26.928\" x=\"1504.536\" y=\"77.55\"/><circle cx=\"1504.8\" cy=\"82.5\" fill=\"red\" r=\"-0.264\" stroke=\"red\" stroke-width=\"0\"/><circle cx=\"1531.2\" cy=\"82.5\" fill=\"red\" r=\"-0.264\" stroke=\"red\" stroke-width=\"0\"/><text alignment-baseline=\"middle\" fill=\"white\" font-family=\"Times\" font-size=\"8.25\" text-anchor=\"middle\" x=\"1518.0\" y=\"83.325\"/><rect fill=\"red\" height=\"9.9\" width=\"26.928\" x=\"1530.936\" y=\"77.55\"/><circle cx=\"1531.2\" cy=\"82.5\" fill=\"red\" r=\"-0.264\" stroke=\"red\" stroke-width=\"0\"/><circle cx=\"1557.6\" cy=\"82.5\" fill=\"red\" r=\"-0.264\" stroke=\"red\" stroke-width=\"0\"/><text alignment-baseline=\"middle\" fill=\"white\" font-family=\"Times\" font-size=\"8.25\" text-anchor=\"middle\" x=\"1544.4\" y=\"83.325\"/><rect fill=\"red\" height=\"9.9\" width=\"26.928\" x=\"1557.336\" y=\"77.55\"/><circle cx=\"1557.6\" cy=\"82.5\" fill=\"red\" r=\"-0.264\" stroke=\"red\" stroke-width=\"0\"/><circle cx=\"1584.0\" cy=\"82.5\" fill=\"red\" r=\"-0.264\" stroke=\"red\" stroke-width=\"0\"/><text alignment-baseline=\"middle\" fill=\"white\" font-family=\"Times\" font-size=\"8.25\" text-anchor=\"middle\" x=\"1570.8\" y=\"83.325\"/><rect fill=\"red\" height=\"9.9\" width=\"26.928\" x=\"1583.736\" y=\"77.55\"/><circle cx=\"1584.0\" cy=\"82.5\" fill=\"red\" r=\"-0.264\" stroke=\"red\" stroke-width=\"0\"/><circle cx=\"1610.4\" cy=\"82.5\" fill=\"red\" r=\"-0.264\" stroke=\"red\" stroke-width=\"0\"/><text alignment-baseline=\"middle\" fill=\"white\" font-family=\"Times\" font-size=\"8.25\" text-anchor=\"middle\" x=\"1597.2\" y=\"83.325\"/><rect fill=\"red\" height=\"9.9\" width=\"26.928\" x=\"1610.136\" y=\"77.55\"/><circle cx=\"1610.4\" cy=\"82.5\" fill=\"red\" r=\"-0.264\" stroke=\"red\" stroke-width=\"0\"/><circle cx=\"1636.8\" cy=\"82.5\" fill=\"red\" r=\"-0.264\" stroke=\"red\" stroke-width=\"0\"/><text alignment-baseline=\"middle\" fill=\"white\" font-family=\"Times\" font-size=\"8.25\" text-anchor=\"middle\" x=\"1623.6\" y=\"83.325\"/><rect fill=\"red\" height=\"9.9\" width=\"26.928\" x=\"1636.536\" y=\"77.55\"/><circle cx=\"1636.8\" cy=\"82.5\" fill=\"red\" r=\"-0.264\" stroke=\"red\" stroke-width=\"0\"/><circle cx=\"1663.2\" cy=\"82.5\" fill=\"red\" r=\"-0.264\" stroke=\"red\" stroke-width=\"0\"/><text alignment-baseline=\"middle\" fill=\"white\" font-family=\"Times\" font-size=\"8.25\" text-anchor=\"middle\" x=\"1650.0\" y=\"83.325\"/><rect fill=\"red\" height=\"9.9\" width=\"26.928\" x=\"1662.936\" y=\"77.55\"/><circle cx=\"1663.2\" cy=\"82.5\" fill=\"red\" r=\"-0.264\" stroke=\"red\" stroke-width=\"0\"/><circle cx=\"1689.6\" cy=\"82.5\" fill=\"red\" r=\"-0.264\" stroke=\"red\" stroke-width=\"0\"/><text alignment-baseline=\"middle\" fill=\"white\" font-family=\"Times\" font-size=\"8.25\" text-anchor=\"middle\" x=\"1676.4\" y=\"83.325\"/><rect fill=\"red\" height=\"9.9\" width=\"26.928\" x=\"1689.336\" y=\"77.55\"/><circle cx=\"1689.6\" cy=\"82.5\" fill=\"red\" r=\"-0.264\" stroke=\"red\" stroke-width=\"0\"/><circle cx=\"1716.0\" cy=\"82.5\" fill=\"red\" r=\"-0.264\" stroke=\"red\" stroke-width=\"0\"/><text alignment-baseline=\"middle\" fill=\"white\" font-family=\"Times\" font-size=\"8.25\" text-anchor=\"middle\" x=\"1702.8\" y=\"83.325\"/><rect fill=\"red\" height=\"9.9\" width=\"26.928\" x=\"1715.736\" y=\"77.55\"/><circle cx=\"1716.0\" cy=\"82.5\" fill=\"red\" r=\"-0.264\" stroke=\"red\" stroke-width=\"0\"/><circle cx=\"1742.4\" cy=\"82.5\" fill=\"red\" r=\"-0.264\" stroke=\"red\" stroke-width=\"0\"/><text alignment-baseline=\"middle\" fill=\"white\" font-family=\"Times\" font-size=\"8.25\" text-anchor=\"middle\" x=\"1729.2\" y=\"83.325\"/><rect fill=\"red\" height=\"9.9\" width=\"26.928\" x=\"1742.136\" y=\"77.55\"/><circle cx=\"1742.4\" cy=\"82.5\" fill=\"red\" r=\"-0.264\" stroke=\"red\" stroke-width=\"0\"/><circle cx=\"1768.8\" cy=\"82.5\" fill=\"red\" r=\"-0.264\" stroke=\"red\" stroke-width=\"0\"/><text alignment-baseline=\"middle\" fill=\"white\" font-family=\"Times\" font-size=\"8.25\" text-anchor=\"middle\" x=\"1755.6\" y=\"83.325\"/><rect fill=\"red\" height=\"9.9\" width=\"26.928\" x=\"1768.536\" y=\"77.55\"/><circle cx=\"1768.8\" cy=\"82.5\" fill=\"red\" r=\"-0.264\" stroke=\"red\" stroke-width=\"0\"/><circle cx=\"1795.2\" cy=\"82.5\" fill=\"red\" r=\"-0.264\" stroke=\"red\" stroke-width=\"0\"/><text alignment-baseline=\"middle\" fill=\"white\" font-family=\"Times\" font-size=\"8.25\" text-anchor=\"middle\" x=\"1782.0\" y=\"83.325\"/><rect fill=\"red\" height=\"9.9\" width=\"26.928\" x=\"1794.936\" y=\"77.55\"/><circle cx=\"1795.2\" cy=\"82.5\" fill=\"red\" r=\"-0.264\" stroke=\"red\" stroke-width=\"0\"/><circle cx=\"1821.6\" cy=\"82.5\" fill=\"red\" r=\"-0.264\" stroke=\"red\" stroke-width=\"0\"/><text alignment-baseline=\"middle\" fill=\"white\" font-family=\"Times\" font-size=\"8.25\" text-anchor=\"middle\" x=\"1808.4\" y=\"83.325\"/><rect fill=\"red\" height=\"9.9\" width=\"26.928\" x=\"1821.336\" y=\"77.55\"/><circle cx=\"1821.6\" cy=\"82.5\" fill=\"red\" r=\"-0.264\" stroke=\"red\" stroke-width=\"0\"/><circle cx=\"1848.0\" cy=\"82.5\" fill=\"red\" r=\"-0.264\" stroke=\"red\" stroke-width=\"0\"/><text alignment-baseline=\"middle\" fill=\"white\" font-family=\"Times\" font-size=\"8.25\" text-anchor=\"middle\" x=\"1834.8\" y=\"83.325\"/><rect fill=\"red\" height=\"9.9\" width=\"26.928\" x=\"1847.736\" y=\"77.55\"/><circle cx=\"1848.0\" cy=\"82.5\" fill=\"red\" r=\"-0.264\" stroke=\"red\" stroke-width=\"0\"/><circle cx=\"1874.4\" cy=\"82.5\" fill=\"red\" r=\"-0.264\" stroke=\"red\" stroke-width=\"0\"/><text alignment-baseline=\"middle\" fill=\"white\" font-family=\"Times\" font-size=\"8.25\" text-anchor=\"middle\" x=\"1861.2\" y=\"83.325\"/><rect fill=\"red\" height=\"9.9\" width=\"26.928\" x=\"1874.136\" y=\"77.55\"/><circle cx=\"1874.4\" cy=\"82.5\" fill=\"red\" r=\"-0.264\" stroke=\"red\" stroke-width=\"0\"/><circle cx=\"1900.8\" cy=\"82.5\" fill=\"red\" r=\"-0.264\" stroke=\"red\" stroke-width=\"0\"/><text alignment-baseline=\"middle\" fill=\"white\" font-family=\"Times\" font-size=\"8.25\" text-anchor=\"middle\" x=\"1887.6\" y=\"83.325\"/><rect fill=\"red\" height=\"9.9\" width=\"26.928\" x=\"1900.536\" y=\"77.55\"/><circle cx=\"1900.8\" cy=\"82.5\" fill=\"red\" r=\"-0.264\" stroke=\"red\" stroke-width=\"0\"/><circle cx=\"1927.2\" cy=\"82.5\" fill=\"red\" r=\"-0.264\" stroke=\"red\" stroke-width=\"0\"/><text alignment-baseline=\"middle\" fill=\"white\" font-family=\"Times\" font-size=\"8.25\" text-anchor=\"middle\" x=\"1914.0\" y=\"83.325\"/><rect fill=\"red\" height=\"9.9\" width=\"26.928\" x=\"1926.936\" y=\"77.55\"/><circle cx=\"1927.2\" cy=\"82.5\" fill=\"red\" r=\"-0.264\" stroke=\"red\" stroke-width=\"0\"/><circle cx=\"1953.6\" cy=\"82.5\" fill=\"red\" r=\"-0.264\" stroke=\"red\" stroke-width=\"0\"/><text alignment-baseline=\"middle\" fill=\"white\" font-family=\"Times\" font-size=\"8.25\" text-anchor=\"middle\" x=\"1940.4\" y=\"83.325\"/><rect fill=\"red\" height=\"9.9\" width=\"26.928\" x=\"1953.336\" y=\"77.55\"/><circle cx=\"1953.6\" cy=\"82.5\" fill=\"red\" r=\"-0.264\" stroke=\"red\" stroke-width=\"0\"/><circle cx=\"1980.0\" cy=\"82.5\" fill=\"red\" r=\"-0.264\" stroke=\"red\" stroke-width=\"0\"/><text alignment-baseline=\"middle\" fill=\"white\" font-family=\"Times\" font-size=\"8.25\" text-anchor=\"middle\" x=\"1966.8\" y=\"83.325\"/><rect fill=\"red\" height=\"9.9\" width=\"26.928\" x=\"1979.736\" y=\"77.55\"/><circle cx=\"1980.0\" cy=\"82.5\" fill=\"red\" r=\"-0.264\" stroke=\"red\" stroke-width=\"0\"/><circle cx=\"2006.4\" cy=\"82.5\" fill=\"red\" r=\"-0.264\" stroke=\"red\" stroke-width=\"0\"/><text alignment-baseline=\"middle\" fill=\"white\" font-family=\"Times\" font-size=\"8.25\" text-anchor=\"middle\" x=\"1993.2\" y=\"83.325\"/><rect fill=\"red\" height=\"9.9\" width=\"26.928\" x=\"2006.136\" y=\"77.55\"/><circle cx=\"2006.4\" cy=\"82.5\" fill=\"red\" r=\"-0.264\" stroke=\"red\" stroke-width=\"0\"/><circle cx=\"2032.8\" cy=\"82.5\" fill=\"red\" r=\"-0.264\" stroke=\"red\" stroke-width=\"0\"/><text alignment-baseline=\"middle\" fill=\"white\" font-family=\"Times\" font-size=\"8.25\" text-anchor=\"middle\" x=\"2019.6\" y=\"83.325\"/><rect fill=\"red\" height=\"9.9\" width=\"26.928\" x=\"2032.536\" y=\"77.55\"/><circle cx=\"2032.8\" cy=\"82.5\" fill=\"red\" r=\"-0.264\" stroke=\"red\" stroke-width=\"0\"/><circle cx=\"2059.2\" cy=\"82.5\" fill=\"red\" r=\"-0.264\" stroke=\"red\" stroke-width=\"0\"/><text alignment-baseline=\"middle\" fill=\"white\" font-family=\"Times\" font-size=\"8.25\" text-anchor=\"middle\" x=\"2046.0\" y=\"83.325\"/><rect fill=\"red\" height=\"9.9\" width=\"26.928\" x=\"2058.936\" y=\"77.55\"/><circle cx=\"2059.2\" cy=\"82.5\" fill=\"red\" r=\"-0.264\" stroke=\"red\" stroke-width=\"0\"/><circle cx=\"2085.6\" cy=\"82.5\" fill=\"red\" r=\"-0.264\" stroke=\"red\" stroke-width=\"0\"/><text alignment-baseline=\"middle\" fill=\"white\" font-family=\"Times\" font-size=\"8.25\" text-anchor=\"middle\" x=\"2072.4\" y=\"83.325\"/><rect fill=\"red\" height=\"9.9\" width=\"26.928\" x=\"2085.336\" y=\"77.55\"/><circle cx=\"2085.6\" cy=\"82.5\" fill=\"red\" r=\"-0.264\" stroke=\"red\" stroke-width=\"0\"/><circle cx=\"2112.0\" cy=\"82.5\" fill=\"red\" r=\"-0.264\" stroke=\"red\" stroke-width=\"0\"/><text alignment-baseline=\"middle\" fill=\"white\" font-family=\"Times\" font-size=\"8.25\" text-anchor=\"middle\" x=\"2098.8\" y=\"83.325\"/><rect fill=\"red\" height=\"9.9\" width=\"26.928\" x=\"2111.736\" y=\"77.55\"/><circle cx=\"2112.0\" cy=\"82.5\" fill=\"red\" r=\"-0.264\" stroke=\"red\" stroke-width=\"0\"/><circle cx=\"2138.4\" cy=\"82.5\" fill=\"red\" r=\"-0.264\" stroke=\"red\" stroke-width=\"0\"/><text alignment-baseline=\"middle\" fill=\"white\" font-family=\"Times\" font-size=\"8.25\" text-anchor=\"middle\" x=\"2125.2\" y=\"83.325\"/><rect fill=\"red\" height=\"9.9\" width=\"26.928\" x=\"2138.136\" y=\"77.55\"/><circle cx=\"2138.4\" cy=\"82.5\" fill=\"red\" r=\"-0.264\" stroke=\"red\" stroke-width=\"0\"/><circle cx=\"2164.8\" cy=\"82.5\" fill=\"red\" r=\"-0.264\" stroke=\"red\" stroke-width=\"0\"/><text alignment-baseline=\"middle\" fill=\"white\" font-family=\"Times\" font-size=\"8.25\" text-anchor=\"middle\" x=\"2151.6\" y=\"83.325\"/><rect fill=\"red\" height=\"9.9\" width=\"26.928\" x=\"2164.536\" y=\"77.55\"/><circle cx=\"2164.8\" cy=\"82.5\" fill=\"red\" r=\"-0.264\" stroke=\"red\" stroke-width=\"0\"/><circle cx=\"2191.2\" cy=\"82.5\" fill=\"red\" r=\"-0.264\" stroke=\"red\" stroke-width=\"0\"/><text alignment-baseline=\"middle\" fill=\"white\" font-family=\"Times\" font-size=\"8.25\" text-anchor=\"middle\" x=\"2178.0\" y=\"83.325\"/><rect fill=\"red\" height=\"9.9\" width=\"26.928\" x=\"2190.936\" y=\"77.55\"/><circle cx=\"2191.2\" cy=\"82.5\" fill=\"red\" r=\"-0.264\" stroke=\"red\" stroke-width=\"0\"/><circle cx=\"2217.6\" cy=\"82.5\" fill=\"red\" r=\"-0.264\" stroke=\"red\" stroke-width=\"0\"/><text alignment-baseline=\"middle\" fill=\"white\" font-family=\"Times\" font-size=\"8.25\" text-anchor=\"middle\" x=\"2204.4\" y=\"83.325\"/><rect fill=\"red\" height=\"9.9\" width=\"26.928\" x=\"2217.336\" y=\"77.55\"/><circle cx=\"2217.6\" cy=\"82.5\" fill=\"red\" r=\"-0.264\" stroke=\"red\" stroke-width=\"0\"/><circle cx=\"2244.0\" cy=\"82.5\" fill=\"red\" r=\"-0.264\" stroke=\"red\" stroke-width=\"0\"/><text alignment-baseline=\"middle\" fill=\"white\" font-family=\"Times\" font-size=\"8.25\" text-anchor=\"middle\" x=\"2230.8\" y=\"83.325\"/><rect fill=\"red\" height=\"9.9\" width=\"26.928\" x=\"2243.736\" y=\"77.55\"/><circle cx=\"2244.0\" cy=\"82.5\" fill=\"red\" r=\"-0.264\" stroke=\"red\" stroke-width=\"0\"/><circle cx=\"2270.4\" cy=\"82.5\" fill=\"red\" r=\"-0.264\" stroke=\"red\" stroke-width=\"0\"/><text alignment-baseline=\"middle\" fill=\"white\" font-family=\"Times\" font-size=\"8.25\" text-anchor=\"middle\" x=\"2257.2\" y=\"83.325\"/><rect fill=\"red\" height=\"9.9\" width=\"26.928\" x=\"2270.136\" y=\"77.55\"/><circle cx=\"2270.4\" cy=\"82.5\" fill=\"red\" r=\"-0.264\" stroke=\"red\" stroke-width=\"0\"/><circle cx=\"2296.8\" cy=\"82.5\" fill=\"red\" r=\"-0.264\" stroke=\"red\" stroke-width=\"0\"/><text alignment-baseline=\"middle\" fill=\"white\" font-family=\"Times\" font-size=\"8.25\" text-anchor=\"middle\" x=\"2283.6\" y=\"83.325\"/><rect fill=\"red\" height=\"9.9\" width=\"26.928\" x=\"2296.536\" y=\"77.55\"/><circle cx=\"2296.8\" cy=\"82.5\" fill=\"red\" r=\"-0.264\" stroke=\"red\" stroke-width=\"0\"/><circle cx=\"2323.2\" cy=\"82.5\" fill=\"red\" r=\"-0.264\" stroke=\"red\" stroke-width=\"0\"/><text alignment-baseline=\"middle\" fill=\"white\" font-family=\"Times\" font-size=\"8.25\" text-anchor=\"middle\" x=\"2310.0\" y=\"83.325\"/><rect fill=\"red\" height=\"9.9\" width=\"26.928\" x=\"2322.936\" y=\"77.55\"/><circle cx=\"2323.2\" cy=\"82.5\" fill=\"red\" r=\"-0.264\" stroke=\"red\" stroke-width=\"0\"/><circle cx=\"2349.6\" cy=\"82.5\" fill=\"red\" r=\"-0.264\" stroke=\"red\" stroke-width=\"0\"/><text alignment-baseline=\"middle\" fill=\"white\" font-family=\"Times\" font-size=\"8.25\" text-anchor=\"middle\" x=\"2336.4\" y=\"83.325\"/><rect fill=\"red\" height=\"9.9\" width=\"26.928\" x=\"2349.336\" y=\"77.55\"/><circle cx=\"2349.6\" cy=\"82.5\" fill=\"red\" r=\"-0.264\" stroke=\"red\" stroke-width=\"0\"/><circle cx=\"2376.0\" cy=\"82.5\" fill=\"red\" r=\"-0.264\" stroke=\"red\" stroke-width=\"0\"/><text alignment-baseline=\"middle\" fill=\"white\" font-family=\"Times\" font-size=\"8.25\" text-anchor=\"middle\" x=\"2362.8\" y=\"83.325\"/><rect fill=\"red\" height=\"9.9\" width=\"26.928\" x=\"2375.736\" y=\"77.55\"/><circle cx=\"2376.0\" cy=\"82.5\" fill=\"red\" r=\"-0.264\" stroke=\"red\" stroke-width=\"0\"/><circle cx=\"2402.4\" cy=\"82.5\" fill=\"red\" r=\"-0.264\" stroke=\"red\" stroke-width=\"0\"/><text alignment-baseline=\"middle\" fill=\"white\" font-family=\"Times\" font-size=\"8.25\" text-anchor=\"middle\" x=\"2389.2\" y=\"83.325\"/><rect fill=\"red\" height=\"9.9\" width=\"26.928\" x=\"2402.136\" y=\"77.55\"/><circle cx=\"2402.4\" cy=\"82.5\" fill=\"red\" r=\"-0.264\" stroke=\"red\" stroke-width=\"0\"/><circle cx=\"2428.8\" cy=\"82.5\" fill=\"red\" r=\"-0.264\" stroke=\"red\" stroke-width=\"0\"/><text alignment-baseline=\"middle\" fill=\"white\" font-family=\"Times\" font-size=\"8.25\" text-anchor=\"middle\" x=\"2415.6\" y=\"83.325\"/><rect fill=\"red\" height=\"9.9\" width=\"26.928\" x=\"2428.536\" y=\"77.55\"/><circle cx=\"2428.8\" cy=\"82.5\" fill=\"red\" r=\"-0.264\" stroke=\"red\" stroke-width=\"0\"/><circle cx=\"2455.2\" cy=\"82.5\" fill=\"red\" r=\"-0.264\" stroke=\"red\" stroke-width=\"0\"/><text alignment-baseline=\"middle\" fill=\"white\" font-family=\"Times\" font-size=\"8.25\" text-anchor=\"middle\" x=\"2442.0\" y=\"83.325\"/><rect fill=\"red\" height=\"9.9\" width=\"26.928\" x=\"2454.936\" y=\"77.55\"/><circle cx=\"2455.2\" cy=\"82.5\" fill=\"red\" r=\"-0.264\" stroke=\"red\" stroke-width=\"0\"/><circle cx=\"2481.6\" cy=\"82.5\" fill=\"red\" r=\"-0.264\" stroke=\"red\" stroke-width=\"0\"/><text alignment-baseline=\"middle\" fill=\"white\" font-family=\"Times\" font-size=\"8.25\" text-anchor=\"middle\" x=\"2468.4\" y=\"83.325\"/><rect fill=\"red\" height=\"9.9\" width=\"26.928\" x=\"2481.336\" y=\"77.55\"/><circle cx=\"2481.6\" cy=\"82.5\" fill=\"red\" r=\"-0.264\" stroke=\"red\" stroke-width=\"0\"/><circle cx=\"2508.0\" cy=\"82.5\" fill=\"red\" r=\"-0.264\" stroke=\"red\" stroke-width=\"0\"/><text alignment-baseline=\"middle\" fill=\"white\" font-family=\"Times\" font-size=\"8.25\" text-anchor=\"middle\" x=\"2494.8\" y=\"83.325\"/><rect fill=\"red\" height=\"9.9\" width=\"26.928\" x=\"2507.736\" y=\"77.55\"/><circle cx=\"2508.0\" cy=\"82.5\" fill=\"red\" r=\"-0.264\" stroke=\"red\" stroke-width=\"0\"/><circle cx=\"2534.4\" cy=\"82.5\" fill=\"red\" r=\"-0.264\" stroke=\"red\" stroke-width=\"0\"/><text alignment-baseline=\"middle\" fill=\"white\" font-family=\"Times\" font-size=\"8.25\" text-anchor=\"middle\" x=\"2521.2\" y=\"83.325\"/><rect fill=\"red\" height=\"9.9\" width=\"26.928\" x=\"2534.136\" y=\"77.55\"/><circle cx=\"2534.4\" cy=\"82.5\" fill=\"red\" r=\"-0.264\" stroke=\"red\" stroke-width=\"0\"/><circle cx=\"2560.8\" cy=\"82.5\" fill=\"red\" r=\"-0.264\" stroke=\"red\" stroke-width=\"0\"/><text alignment-baseline=\"middle\" fill=\"white\" font-family=\"Times\" font-size=\"8.25\" text-anchor=\"middle\" x=\"2547.6\" y=\"83.325\"/><rect fill=\"red\" height=\"9.9\" width=\"26.928\" x=\"2560.536\" y=\"77.55\"/><circle cx=\"2560.8\" cy=\"82.5\" fill=\"red\" r=\"-0.264\" stroke=\"red\" stroke-width=\"0\"/><circle cx=\"2587.2\" cy=\"82.5\" fill=\"red\" r=\"-0.264\" stroke=\"red\" stroke-width=\"0\"/><text alignment-baseline=\"middle\" fill=\"white\" font-family=\"Times\" font-size=\"8.25\" text-anchor=\"middle\" x=\"2574.0\" y=\"83.325\"/><rect fill=\"red\" height=\"9.9\" width=\"26.928\" x=\"2586.936\" y=\"77.55\"/><circle cx=\"2587.2\" cy=\"82.5\" fill=\"red\" r=\"-0.264\" stroke=\"red\" stroke-width=\"0\"/><circle cx=\"2613.6\" cy=\"82.5\" fill=\"red\" r=\"-0.264\" stroke=\"red\" stroke-width=\"0\"/><text alignment-baseline=\"middle\" fill=\"white\" font-family=\"Times\" font-size=\"8.25\" text-anchor=\"middle\" x=\"2600.4\" y=\"83.325\"/><rect fill=\"red\" height=\"9.9\" width=\"26.928\" x=\"2613.336\" y=\"77.55\"/><circle cx=\"2613.6\" cy=\"82.5\" fill=\"red\" r=\"-0.264\" stroke=\"red\" stroke-width=\"0\"/><circle cx=\"2640.0\" cy=\"82.5\" fill=\"red\" r=\"-0.264\" stroke=\"red\" stroke-width=\"0\"/><text alignment-baseline=\"middle\" fill=\"white\" font-family=\"Times\" font-size=\"8.25\" text-anchor=\"middle\" x=\"2626.8\" y=\"83.325\"/><rect fill=\"red\" height=\"9.9\" width=\"26.928\" x=\"2639.736\" y=\"77.55\"/><circle cx=\"2640.0\" cy=\"82.5\" fill=\"red\" r=\"-0.264\" stroke=\"red\" stroke-width=\"0\"/><circle cx=\"2666.4\" cy=\"82.5\" fill=\"red\" r=\"-0.264\" stroke=\"red\" stroke-width=\"0\"/><text alignment-baseline=\"middle\" fill=\"white\" font-family=\"Times\" font-size=\"8.25\" text-anchor=\"middle\" x=\"2653.2\" y=\"83.325\"/><rect fill=\"red\" height=\"9.9\" width=\"26.928\" x=\"2666.136\" y=\"77.55\"/><circle cx=\"2666.4\" cy=\"82.5\" fill=\"red\" r=\"-0.264\" stroke=\"red\" stroke-width=\"0\"/><circle cx=\"2692.8\" cy=\"82.5\" fill=\"red\" r=\"-0.264\" stroke=\"red\" stroke-width=\"0\"/><text alignment-baseline=\"middle\" fill=\"white\" font-family=\"Times\" font-size=\"8.25\" text-anchor=\"middle\" x=\"2679.6\" y=\"83.325\"/><rect fill=\"red\" height=\"9.9\" width=\"26.928\" x=\"2692.536\" y=\"77.55\"/><circle cx=\"2692.8\" cy=\"82.5\" fill=\"red\" r=\"-0.264\" stroke=\"red\" stroke-width=\"0\"/><circle cx=\"2719.2\" cy=\"82.5\" fill=\"red\" r=\"-0.264\" stroke=\"red\" stroke-width=\"0\"/><text alignment-baseline=\"middle\" fill=\"white\" font-family=\"Times\" font-size=\"8.25\" text-anchor=\"middle\" x=\"2706.0\" y=\"83.325\"/><rect fill=\"red\" height=\"9.9\" width=\"26.928\" x=\"2718.936\" y=\"77.55\"/><circle cx=\"2719.2\" cy=\"82.5\" fill=\"red\" r=\"-0.264\" stroke=\"red\" stroke-width=\"0\"/><circle cx=\"2745.6\" cy=\"82.5\" fill=\"red\" r=\"-0.264\" stroke=\"red\" stroke-width=\"0\"/><text alignment-baseline=\"middle\" fill=\"white\" font-family=\"Times\" font-size=\"8.25\" text-anchor=\"middle\" x=\"2732.4\" y=\"83.325\"/><rect fill=\"red\" height=\"9.9\" width=\"26.928\" x=\"2745.336\" y=\"77.55\"/><circle cx=\"2745.6\" cy=\"82.5\" fill=\"red\" r=\"-0.264\" stroke=\"red\" stroke-width=\"0\"/><circle cx=\"2772.0\" cy=\"82.5\" fill=\"red\" r=\"-0.264\" stroke=\"red\" stroke-width=\"0\"/><text alignment-baseline=\"middle\" fill=\"white\" font-family=\"Times\" font-size=\"8.25\" text-anchor=\"middle\" x=\"2758.8\" y=\"83.325\"/><rect fill=\"red\" height=\"9.9\" width=\"26.928\" x=\"2771.736\" y=\"77.55\"/><circle cx=\"2772.0\" cy=\"82.5\" fill=\"red\" r=\"-0.264\" stroke=\"red\" stroke-width=\"0\"/><circle cx=\"2798.4\" cy=\"82.5\" fill=\"red\" r=\"-0.264\" stroke=\"red\" stroke-width=\"0\"/><text alignment-baseline=\"middle\" fill=\"white\" font-family=\"Times\" font-size=\"8.25\" text-anchor=\"middle\" x=\"2785.2\" y=\"83.325\"/><rect fill=\"red\" height=\"9.9\" width=\"26.928\" x=\"2798.136\" y=\"77.55\"/><circle cx=\"2798.4\" cy=\"82.5\" fill=\"red\" r=\"-0.264\" stroke=\"red\" stroke-width=\"0\"/><circle cx=\"2824.8\" cy=\"82.5\" fill=\"red\" r=\"-0.264\" stroke=\"red\" stroke-width=\"0\"/><text alignment-baseline=\"middle\" fill=\"white\" font-family=\"Times\" font-size=\"8.25\" text-anchor=\"middle\" x=\"2811.6\" y=\"83.325\"/><rect fill=\"red\" height=\"9.9\" width=\"26.928\" x=\"2824.536\" y=\"77.55\"/><circle cx=\"2824.8\" cy=\"82.5\" fill=\"red\" r=\"-0.264\" stroke=\"red\" stroke-width=\"0\"/><circle cx=\"2851.2\" cy=\"82.5\" fill=\"red\" r=\"-0.264\" stroke=\"red\" stroke-width=\"0\"/><text alignment-baseline=\"middle\" fill=\"white\" font-family=\"Times\" font-size=\"8.25\" text-anchor=\"middle\" x=\"2838.0\" y=\"83.325\"/><rect fill=\"red\" height=\"9.9\" width=\"26.928\" x=\"2850.936\" y=\"77.55\"/><circle cx=\"2851.2\" cy=\"82.5\" fill=\"red\" r=\"-0.264\" stroke=\"red\" stroke-width=\"0\"/><circle cx=\"2877.6\" cy=\"82.5\" fill=\"red\" r=\"-0.264\" stroke=\"red\" stroke-width=\"0\"/><text alignment-baseline=\"middle\" fill=\"white\" font-family=\"Times\" font-size=\"8.25\" text-anchor=\"middle\" x=\"2864.4\" y=\"83.325\"/><rect fill=\"red\" height=\"9.9\" width=\"26.928\" x=\"2877.336\" y=\"77.55\"/><circle cx=\"2877.6\" cy=\"82.5\" fill=\"red\" r=\"-0.264\" stroke=\"red\" stroke-width=\"0\"/><circle cx=\"2904.0\" cy=\"82.5\" fill=\"red\" r=\"-0.264\" stroke=\"red\" stroke-width=\"0\"/><text alignment-baseline=\"middle\" fill=\"white\" font-family=\"Times\" font-size=\"8.25\" text-anchor=\"middle\" x=\"2890.8\" y=\"83.325\"/><rect fill=\"red\" height=\"9.9\" width=\"26.928\" x=\"2903.736\" y=\"77.55\"/><circle cx=\"2904.0\" cy=\"82.5\" fill=\"red\" r=\"-0.264\" stroke=\"red\" stroke-width=\"0\"/><circle cx=\"2930.4\" cy=\"82.5\" fill=\"red\" r=\"-0.264\" stroke=\"red\" stroke-width=\"0\"/><text alignment-baseline=\"middle\" fill=\"white\" font-family=\"Times\" font-size=\"8.25\" text-anchor=\"middle\" x=\"2917.2\" y=\"83.325\"/><rect fill=\"red\" height=\"9.9\" width=\"26.928\" x=\"2930.136\" y=\"77.55\"/><circle cx=\"2930.4\" cy=\"82.5\" fill=\"red\" r=\"-0.264\" stroke=\"red\" stroke-width=\"0\"/><circle cx=\"2956.8\" cy=\"82.5\" fill=\"red\" r=\"-0.264\" stroke=\"red\" stroke-width=\"0\"/><text alignment-baseline=\"middle\" fill=\"white\" font-family=\"Times\" font-size=\"8.25\" text-anchor=\"middle\" x=\"2943.6\" y=\"83.325\"/><rect fill=\"red\" height=\"9.9\" width=\"26.928\" x=\"2956.536\" y=\"77.55\"/><circle cx=\"2956.8\" cy=\"82.5\" fill=\"red\" r=\"-0.264\" stroke=\"red\" stroke-width=\"0\"/><circle cx=\"2983.2\" cy=\"82.5\" fill=\"red\" r=\"-0.264\" stroke=\"red\" stroke-width=\"0\"/><text alignment-baseline=\"middle\" fill=\"white\" font-family=\"Times\" font-size=\"8.25\" text-anchor=\"middle\" x=\"2970.0\" y=\"83.325\"/><rect fill=\"red\" height=\"9.9\" width=\"26.928\" x=\"2982.936\" y=\"77.55\"/><circle cx=\"2983.2\" cy=\"82.5\" fill=\"red\" r=\"-0.264\" stroke=\"red\" stroke-width=\"0\"/><circle cx=\"3009.6\" cy=\"82.5\" fill=\"red\" r=\"-0.264\" stroke=\"red\" stroke-width=\"0\"/><text alignment-baseline=\"middle\" fill=\"white\" font-family=\"Times\" font-size=\"8.25\" text-anchor=\"middle\" x=\"2996.4\" y=\"83.325\"/><rect fill=\"red\" height=\"9.9\" width=\"26.928\" x=\"3009.336\" y=\"77.55\"/><circle cx=\"3009.6\" cy=\"82.5\" fill=\"red\" r=\"-0.264\" stroke=\"red\" stroke-width=\"0\"/><circle cx=\"3036.0\" cy=\"82.5\" fill=\"red\" r=\"-0.264\" stroke=\"red\" stroke-width=\"0\"/><text alignment-baseline=\"middle\" fill=\"white\" font-family=\"Times\" font-size=\"8.25\" text-anchor=\"middle\" x=\"3022.8\" y=\"83.325\"/><rect fill=\"red\" height=\"9.9\" width=\"26.928\" x=\"3035.736\" y=\"77.55\"/><circle cx=\"3036.0\" cy=\"82.5\" fill=\"red\" r=\"-0.264\" stroke=\"red\" stroke-width=\"0\"/><circle cx=\"3062.4\" cy=\"82.5\" fill=\"red\" r=\"-0.264\" stroke=\"red\" stroke-width=\"0\"/><text alignment-baseline=\"middle\" fill=\"white\" font-family=\"Times\" font-size=\"8.25\" text-anchor=\"middle\" x=\"3049.2\" y=\"83.325\"/><rect fill=\"red\" height=\"9.9\" width=\"26.928\" x=\"3062.136\" y=\"77.55\"/><circle cx=\"3062.4\" cy=\"82.5\" fill=\"red\" r=\"-0.264\" stroke=\"red\" stroke-width=\"0\"/><circle cx=\"3088.8\" cy=\"82.5\" fill=\"red\" r=\"-0.264\" stroke=\"red\" stroke-width=\"0\"/><text alignment-baseline=\"middle\" fill=\"white\" font-family=\"Times\" font-size=\"8.25\" text-anchor=\"middle\" x=\"3075.6\" y=\"83.325\"/><rect fill=\"red\" height=\"9.9\" width=\"26.928\" x=\"3088.536\" y=\"77.55\"/><circle cx=\"3088.8\" cy=\"82.5\" fill=\"red\" r=\"-0.264\" stroke=\"red\" stroke-width=\"0\"/><circle cx=\"3115.2\" cy=\"82.5\" fill=\"red\" r=\"-0.264\" stroke=\"red\" stroke-width=\"0\"/><text alignment-baseline=\"middle\" fill=\"white\" font-family=\"Times\" font-size=\"8.25\" text-anchor=\"middle\" x=\"3102.0\" y=\"83.325\"/><rect fill=\"red\" height=\"9.9\" width=\"26.928\" x=\"3114.936\" y=\"77.55\"/><circle cx=\"3115.2\" cy=\"82.5\" fill=\"red\" r=\"-0.264\" stroke=\"red\" stroke-width=\"0\"/><circle cx=\"3141.6\" cy=\"82.5\" fill=\"red\" r=\"-0.264\" stroke=\"red\" stroke-width=\"0\"/><text alignment-baseline=\"middle\" fill=\"white\" font-family=\"Times\" font-size=\"8.25\" text-anchor=\"middle\" x=\"3128.4\" y=\"83.325\"/><rect fill=\"red\" height=\"9.9\" width=\"26.928\" x=\"3141.336\" y=\"77.55\"/><circle cx=\"3141.6\" cy=\"82.5\" fill=\"red\" r=\"-0.264\" stroke=\"red\" stroke-width=\"0\"/><circle cx=\"3168.0\" cy=\"82.5\" fill=\"red\" r=\"-0.264\" stroke=\"red\" stroke-width=\"0\"/><text alignment-baseline=\"middle\" fill=\"white\" font-family=\"Times\" font-size=\"8.25\" text-anchor=\"middle\" x=\"3154.8\" y=\"83.325\"/><rect fill=\"red\" height=\"9.9\" width=\"26.928\" x=\"3167.736\" y=\"77.55\"/><circle cx=\"3168.0\" cy=\"82.5\" fill=\"red\" r=\"-0.264\" stroke=\"red\" stroke-width=\"0\"/><circle cx=\"3194.4\" cy=\"82.5\" fill=\"red\" r=\"-0.264\" stroke=\"red\" stroke-width=\"0\"/><text alignment-baseline=\"middle\" fill=\"white\" font-family=\"Times\" font-size=\"8.25\" text-anchor=\"middle\" x=\"3181.2\" y=\"83.325\"/><rect fill=\"red\" height=\"9.9\" width=\"26.928\" x=\"3194.136\" y=\"77.55\"/><circle cx=\"3194.4\" cy=\"82.5\" fill=\"red\" r=\"-0.264\" stroke=\"red\" stroke-width=\"0\"/><circle cx=\"3220.8\" cy=\"82.5\" fill=\"red\" r=\"-0.264\" stroke=\"red\" stroke-width=\"0\"/><text alignment-baseline=\"middle\" fill=\"white\" font-family=\"Times\" font-size=\"8.25\" text-anchor=\"middle\" x=\"3207.6\" y=\"83.325\"/><rect fill=\"red\" height=\"9.9\" width=\"26.928\" x=\"3220.536\" y=\"77.55\"/><circle cx=\"3220.8\" cy=\"82.5\" fill=\"red\" r=\"-0.264\" stroke=\"red\" stroke-width=\"0\"/><circle cx=\"3247.2\" cy=\"82.5\" fill=\"red\" r=\"-0.264\" stroke=\"red\" stroke-width=\"0\"/><text alignment-baseline=\"middle\" fill=\"white\" font-family=\"Times\" font-size=\"8.25\" text-anchor=\"middle\" x=\"3234.0\" y=\"83.325\"/><rect fill=\"red\" height=\"9.9\" width=\"26.928\" x=\"3246.936\" y=\"77.55\"/><circle cx=\"3247.2\" cy=\"82.5\" fill=\"red\" r=\"-0.264\" stroke=\"red\" stroke-width=\"0\"/><circle cx=\"3273.6\" cy=\"82.5\" fill=\"red\" r=\"-0.264\" stroke=\"red\" stroke-width=\"0\"/><text alignment-baseline=\"middle\" fill=\"white\" font-family=\"Times\" font-size=\"8.25\" text-anchor=\"middle\" x=\"3260.4\" y=\"83.325\"/><rect fill=\"red\" height=\"9.9\" width=\"26.928\" x=\"3273.336\" y=\"77.55\"/><circle cx=\"3273.6\" cy=\"82.5\" fill=\"red\" r=\"-0.264\" stroke=\"red\" stroke-width=\"0\"/><circle cx=\"3300.0\" cy=\"82.5\" fill=\"red\" r=\"-0.264\" stroke=\"red\" stroke-width=\"0\"/><text alignment-baseline=\"middle\" fill=\"white\" font-family=\"Times\" font-size=\"8.25\" text-anchor=\"middle\" x=\"3286.8\" y=\"83.325\"/><rect fill=\"red\" height=\"9.9\" width=\"26.928\" x=\"3299.736\" y=\"77.55\"/><circle cx=\"3300.0\" cy=\"82.5\" fill=\"red\" r=\"-0.264\" stroke=\"red\" stroke-width=\"0\"/><circle cx=\"3326.4\" cy=\"82.5\" fill=\"red\" r=\"-0.264\" stroke=\"red\" stroke-width=\"0\"/><text alignment-baseline=\"middle\" fill=\"white\" font-family=\"Times\" font-size=\"8.25\" text-anchor=\"middle\" x=\"3313.2\" y=\"83.325\"/><rect fill=\"red\" height=\"9.9\" width=\"26.928\" x=\"3326.136\" y=\"77.55\"/><circle cx=\"3326.4\" cy=\"82.5\" fill=\"red\" r=\"-0.264\" stroke=\"red\" stroke-width=\"0\"/><circle cx=\"3352.8\" cy=\"82.5\" fill=\"red\" r=\"-0.264\" stroke=\"red\" stroke-width=\"0\"/><text alignment-baseline=\"middle\" fill=\"white\" font-family=\"Times\" font-size=\"8.25\" text-anchor=\"middle\" x=\"3339.6\" y=\"83.325\"/><rect fill=\"red\" height=\"9.9\" width=\"26.928\" x=\"3352.536\" y=\"77.55\"/><circle cx=\"3352.8\" cy=\"82.5\" fill=\"red\" r=\"-0.264\" stroke=\"red\" stroke-width=\"0\"/><circle cx=\"3379.2\" cy=\"82.5\" fill=\"red\" r=\"-0.264\" stroke=\"red\" stroke-width=\"0\"/><text alignment-baseline=\"middle\" fill=\"white\" font-family=\"Times\" font-size=\"8.25\" text-anchor=\"middle\" x=\"3366.0\" y=\"83.325\"/><line stroke=\"red\" stroke-width=\"1.32\" x1=\"844.8\" x2=\"844.8\" y1=\"82.335\" y2=\"115.665\"/><text alignment-baseline=\"middle\" fill=\"black\" font-family=\"Times\" font-size=\"8.25\" text-anchor=\"start\" x=\"2724.48\" y=\"116.325\">6f</text><rect fill=\"red\" height=\"9.9\" width=\"26.928\" x=\"844.536\" y=\"110.55\"/><circle cx=\"844.8\" cy=\"115.5\" fill=\"red\" r=\"-0.264\" stroke=\"red\" stroke-width=\"0\"/><circle cx=\"871.2\" cy=\"115.5\" fill=\"red\" r=\"-0.264\" stroke=\"red\" stroke-width=\"0\"/><text alignment-baseline=\"middle\" fill=\"white\" font-family=\"Times\" font-size=\"8.25\" text-anchor=\"middle\" x=\"858.0\" y=\"116.325\"/><rect fill=\"red\" height=\"9.9\" width=\"26.928\" x=\"870.936\" y=\"110.55\"/><circle cx=\"871.2\" cy=\"115.5\" fill=\"red\" r=\"-0.264\" stroke=\"red\" stroke-width=\"0\"/><circle cx=\"897.6\" cy=\"115.5\" fill=\"red\" r=\"-0.264\" stroke=\"red\" stroke-width=\"0\"/><text alignment-baseline=\"middle\" fill=\"white\" font-family=\"Times\" font-size=\"8.25\" text-anchor=\"middle\" x=\"884.4\" y=\"116.325\"/><rect fill=\"red\" height=\"9.9\" width=\"26.928\" x=\"897.336\" y=\"110.55\"/><circle cx=\"897.6\" cy=\"115.5\" fill=\"red\" r=\"-0.264\" stroke=\"red\" stroke-width=\"0\"/><circle cx=\"924.0\" cy=\"115.5\" fill=\"red\" r=\"-0.264\" stroke=\"red\" stroke-width=\"0\"/><text alignment-baseline=\"middle\" fill=\"white\" font-family=\"Times\" font-size=\"8.25\" text-anchor=\"middle\" x=\"910.8\" y=\"116.325\"/><rect fill=\"red\" height=\"9.9\" width=\"26.928\" x=\"923.736\" y=\"110.55\"/><circle cx=\"924.0\" cy=\"115.5\" fill=\"red\" r=\"-0.264\" stroke=\"red\" stroke-width=\"0\"/><circle cx=\"950.4\" cy=\"115.5\" fill=\"red\" r=\"-0.264\" stroke=\"red\" stroke-width=\"0\"/><text alignment-baseline=\"middle\" fill=\"white\" font-family=\"Times\" font-size=\"8.25\" text-anchor=\"middle\" x=\"937.2\" y=\"116.325\"/><rect fill=\"red\" height=\"9.9\" width=\"26.928\" x=\"950.136\" y=\"110.55\"/><circle cx=\"950.4\" cy=\"115.5\" fill=\"red\" r=\"-0.264\" stroke=\"red\" stroke-width=\"0\"/><circle cx=\"976.8\" cy=\"115.5\" fill=\"red\" r=\"-0.264\" stroke=\"red\" stroke-width=\"0\"/><text alignment-baseline=\"middle\" fill=\"white\" font-family=\"Times\" font-size=\"8.25\" text-anchor=\"middle\" x=\"963.6\" y=\"116.325\"/><rect fill=\"red\" height=\"9.9\" width=\"26.928\" x=\"976.536\" y=\"110.55\"/><circle cx=\"976.8\" cy=\"115.5\" fill=\"red\" r=\"-0.264\" stroke=\"red\" stroke-width=\"0\"/><circle cx=\"1003.2\" cy=\"115.5\" fill=\"red\" r=\"-0.264\" stroke=\"red\" stroke-width=\"0\"/><text alignment-baseline=\"middle\" fill=\"white\" font-family=\"Times\" font-size=\"8.25\" text-anchor=\"middle\" x=\"990.0\" y=\"116.325\"/><rect fill=\"red\" height=\"9.9\" width=\"26.928\" x=\"1002.936\" y=\"110.55\"/><circle cx=\"1003.2\" cy=\"115.5\" fill=\"red\" r=\"-0.264\" stroke=\"red\" stroke-width=\"0\"/><circle cx=\"1029.6\" cy=\"115.5\" fill=\"red\" r=\"-0.264\" stroke=\"red\" stroke-width=\"0\"/><text alignment-baseline=\"middle\" fill=\"white\" font-family=\"Times\" font-size=\"8.25\" text-anchor=\"middle\" x=\"1016.4\" y=\"116.325\"/><rect fill=\"red\" height=\"9.9\" width=\"26.928\" x=\"1029.336\" y=\"110.55\"/><circle cx=\"1029.6\" cy=\"115.5\" fill=\"red\" r=\"-0.264\" stroke=\"red\" stroke-width=\"0\"/><circle cx=\"1056.0\" cy=\"115.5\" fill=\"red\" r=\"-0.264\" stroke=\"red\" stroke-width=\"0\"/><text alignment-baseline=\"middle\" fill=\"white\" font-family=\"Times\" font-size=\"8.25\" text-anchor=\"middle\" x=\"1042.8\" y=\"116.325\"/><rect fill=\"red\" height=\"9.9\" width=\"26.928\" x=\"1055.736\" y=\"110.55\"/><circle cx=\"1056.0\" cy=\"115.5\" fill=\"red\" r=\"-0.264\" stroke=\"red\" stroke-width=\"0\"/><circle cx=\"1082.4\" cy=\"115.5\" fill=\"red\" r=\"-0.264\" stroke=\"red\" stroke-width=\"0\"/><text alignment-baseline=\"middle\" fill=\"white\" font-family=\"Times\" font-size=\"8.25\" text-anchor=\"middle\" x=\"1069.2\" y=\"116.325\"/><rect fill=\"red\" height=\"9.9\" width=\"26.928\" x=\"1082.136\" y=\"110.55\"/><circle cx=\"1082.4\" cy=\"115.5\" fill=\"red\" r=\"-0.264\" stroke=\"red\" stroke-width=\"0\"/><circle cx=\"1108.8\" cy=\"115.5\" fill=\"red\" r=\"-0.264\" stroke=\"red\" stroke-width=\"0\"/><text alignment-baseline=\"middle\" fill=\"white\" font-family=\"Times\" font-size=\"8.25\" text-anchor=\"middle\" x=\"1095.6\" y=\"116.325\"/><rect fill=\"red\" height=\"9.9\" width=\"26.928\" x=\"1108.536\" y=\"110.55\"/><circle cx=\"1108.8\" cy=\"115.5\" fill=\"red\" r=\"-0.264\" stroke=\"red\" stroke-width=\"0\"/><circle cx=\"1135.2\" cy=\"115.5\" fill=\"red\" r=\"-0.264\" stroke=\"red\" stroke-width=\"0\"/><text alignment-baseline=\"middle\" fill=\"white\" font-family=\"Times\" font-size=\"8.25\" text-anchor=\"middle\" x=\"1122.0\" y=\"116.325\"/><rect fill=\"red\" height=\"9.9\" width=\"26.928\" x=\"1134.936\" y=\"110.55\"/><circle cx=\"1135.2\" cy=\"115.5\" fill=\"red\" r=\"-0.264\" stroke=\"red\" stroke-width=\"0\"/><circle cx=\"1161.6\" cy=\"115.5\" fill=\"red\" r=\"-0.264\" stroke=\"red\" stroke-width=\"0\"/><text alignment-baseline=\"middle\" fill=\"white\" font-family=\"Times\" font-size=\"8.25\" text-anchor=\"middle\" x=\"1148.4\" y=\"116.325\"/><rect fill=\"red\" height=\"9.9\" width=\"26.928\" x=\"1161.336\" y=\"110.55\"/><circle cx=\"1161.6\" cy=\"115.5\" fill=\"red\" r=\"-0.264\" stroke=\"red\" stroke-width=\"0\"/><circle cx=\"1188.0\" cy=\"115.5\" fill=\"red\" r=\"-0.264\" stroke=\"red\" stroke-width=\"0\"/><text alignment-baseline=\"middle\" fill=\"white\" font-family=\"Times\" font-size=\"8.25\" text-anchor=\"middle\" x=\"1174.8\" y=\"116.325\"/><rect fill=\"red\" height=\"9.9\" width=\"26.928\" x=\"1187.736\" y=\"110.55\"/><circle cx=\"1188.0\" cy=\"115.5\" fill=\"red\" r=\"-0.264\" stroke=\"red\" stroke-width=\"0\"/><circle cx=\"1214.4\" cy=\"115.5\" fill=\"red\" r=\"-0.264\" stroke=\"red\" stroke-width=\"0\"/><text alignment-baseline=\"middle\" fill=\"white\" font-family=\"Times\" font-size=\"8.25\" text-anchor=\"middle\" x=\"1201.2\" y=\"116.325\"/><rect fill=\"red\" height=\"9.9\" width=\"26.928\" x=\"1214.136\" y=\"110.55\"/><circle cx=\"1214.4\" cy=\"115.5\" fill=\"red\" r=\"-0.264\" stroke=\"red\" stroke-width=\"0\"/><circle cx=\"1240.8\" cy=\"115.5\" fill=\"red\" r=\"-0.264\" stroke=\"red\" stroke-width=\"0\"/><text alignment-baseline=\"middle\" fill=\"white\" font-family=\"Times\" font-size=\"8.25\" text-anchor=\"middle\" x=\"1227.6\" y=\"116.325\"/><rect fill=\"red\" height=\"9.9\" width=\"26.928\" x=\"1240.536\" y=\"110.55\"/><circle cx=\"1240.8\" cy=\"115.5\" fill=\"red\" r=\"-0.264\" stroke=\"red\" stroke-width=\"0\"/><circle cx=\"1267.2\" cy=\"115.5\" fill=\"red\" r=\"-0.264\" stroke=\"red\" stroke-width=\"0\"/><text alignment-baseline=\"middle\" fill=\"white\" font-family=\"Times\" font-size=\"8.25\" text-anchor=\"middle\" x=\"1254.0\" y=\"116.325\"/><rect fill=\"red\" height=\"9.9\" width=\"26.928\" x=\"1266.936\" y=\"110.55\"/><circle cx=\"1267.2\" cy=\"115.5\" fill=\"red\" r=\"-0.264\" stroke=\"red\" stroke-width=\"0\"/><circle cx=\"1293.6\" cy=\"115.5\" fill=\"red\" r=\"-0.264\" stroke=\"red\" stroke-width=\"0\"/><text alignment-baseline=\"middle\" fill=\"white\" font-family=\"Times\" font-size=\"8.25\" text-anchor=\"middle\" x=\"1280.4\" y=\"116.325\"/><rect fill=\"red\" height=\"9.9\" width=\"26.928\" x=\"1293.336\" y=\"110.55\"/><circle cx=\"1293.6\" cy=\"115.5\" fill=\"red\" r=\"-0.264\" stroke=\"red\" stroke-width=\"0\"/><circle cx=\"1320.0\" cy=\"115.5\" fill=\"red\" r=\"-0.264\" stroke=\"red\" stroke-width=\"0\"/><text alignment-baseline=\"middle\" fill=\"white\" font-family=\"Times\" font-size=\"8.25\" text-anchor=\"middle\" x=\"1306.8\" y=\"116.325\"/><rect fill=\"red\" height=\"9.9\" width=\"26.928\" x=\"1319.736\" y=\"110.55\"/><circle cx=\"1320.0\" cy=\"115.5\" fill=\"red\" r=\"-0.264\" stroke=\"red\" stroke-width=\"0\"/><circle cx=\"1346.4\" cy=\"115.5\" fill=\"red\" r=\"-0.264\" stroke=\"red\" stroke-width=\"0\"/><text alignment-baseline=\"middle\" fill=\"white\" font-family=\"Times\" font-size=\"8.25\" text-anchor=\"middle\" x=\"1333.2\" y=\"116.325\"/><rect fill=\"red\" height=\"9.9\" width=\"26.928\" x=\"1346.136\" y=\"110.55\"/><circle cx=\"1346.4\" cy=\"115.5\" fill=\"red\" r=\"-0.264\" stroke=\"red\" stroke-width=\"0\"/><circle cx=\"1372.8\" cy=\"115.5\" fill=\"red\" r=\"-0.264\" stroke=\"red\" stroke-width=\"0\"/><text alignment-baseline=\"middle\" fill=\"white\" font-family=\"Times\" font-size=\"8.25\" text-anchor=\"middle\" x=\"1359.6\" y=\"116.325\"/><rect fill=\"red\" height=\"9.9\" width=\"26.928\" x=\"1372.536\" y=\"110.55\"/><circle cx=\"1372.8\" cy=\"115.5\" fill=\"red\" r=\"-0.264\" stroke=\"red\" stroke-width=\"0\"/><circle cx=\"1399.2\" cy=\"115.5\" fill=\"red\" r=\"-0.264\" stroke=\"red\" stroke-width=\"0\"/><text alignment-baseline=\"middle\" fill=\"white\" font-family=\"Times\" font-size=\"8.25\" text-anchor=\"middle\" x=\"1386.0\" y=\"116.325\"/><rect fill=\"red\" height=\"9.9\" width=\"26.928\" x=\"1398.936\" y=\"110.55\"/><circle cx=\"1399.2\" cy=\"115.5\" fill=\"red\" r=\"-0.264\" stroke=\"red\" stroke-width=\"0\"/><circle cx=\"1425.6\" cy=\"115.5\" fill=\"red\" r=\"-0.264\" stroke=\"red\" stroke-width=\"0\"/><text alignment-baseline=\"middle\" fill=\"white\" font-family=\"Times\" font-size=\"8.25\" text-anchor=\"middle\" x=\"1412.4\" y=\"116.325\"/><rect fill=\"red\" height=\"9.9\" width=\"26.928\" x=\"1425.336\" y=\"110.55\"/><circle cx=\"1425.6\" cy=\"115.5\" fill=\"red\" r=\"-0.264\" stroke=\"red\" stroke-width=\"0\"/><circle cx=\"1452.0\" cy=\"115.5\" fill=\"red\" r=\"-0.264\" stroke=\"red\" stroke-width=\"0\"/><text alignment-baseline=\"middle\" fill=\"white\" font-family=\"Times\" font-size=\"8.25\" text-anchor=\"middle\" x=\"1438.8\" y=\"116.325\"/><rect fill=\"red\" height=\"9.9\" width=\"26.928\" x=\"1451.736\" y=\"110.55\"/><circle cx=\"1452.0\" cy=\"115.5\" fill=\"red\" r=\"-0.264\" stroke=\"red\" stroke-width=\"0\"/><circle cx=\"1478.4\" cy=\"115.5\" fill=\"red\" r=\"-0.264\" stroke=\"red\" stroke-width=\"0\"/><text alignment-baseline=\"middle\" fill=\"white\" font-family=\"Times\" font-size=\"8.25\" text-anchor=\"middle\" x=\"1465.2\" y=\"116.325\"/><rect fill=\"red\" height=\"9.9\" width=\"26.928\" x=\"1478.136\" y=\"110.55\"/><circle cx=\"1478.4\" cy=\"115.5\" fill=\"red\" r=\"-0.264\" stroke=\"red\" stroke-width=\"0\"/><circle cx=\"1504.8\" cy=\"115.5\" fill=\"red\" r=\"-0.264\" stroke=\"red\" stroke-width=\"0\"/><text alignment-baseline=\"middle\" fill=\"white\" font-family=\"Times\" font-size=\"8.25\" text-anchor=\"middle\" x=\"1491.6\" y=\"116.325\"/><rect fill=\"red\" height=\"9.9\" width=\"26.928\" x=\"1504.536\" y=\"110.55\"/><circle cx=\"1504.8\" cy=\"115.5\" fill=\"red\" r=\"-0.264\" stroke=\"red\" stroke-width=\"0\"/><circle cx=\"1531.2\" cy=\"115.5\" fill=\"red\" r=\"-0.264\" stroke=\"red\" stroke-width=\"0\"/><text alignment-baseline=\"middle\" fill=\"white\" font-family=\"Times\" font-size=\"8.25\" text-anchor=\"middle\" x=\"1518.0\" y=\"116.325\"/><rect fill=\"red\" height=\"9.9\" width=\"26.928\" x=\"1530.936\" y=\"110.55\"/><circle cx=\"1531.2\" cy=\"115.5\" fill=\"red\" r=\"-0.264\" stroke=\"red\" stroke-width=\"0\"/><circle cx=\"1557.6\" cy=\"115.5\" fill=\"red\" r=\"-0.264\" stroke=\"red\" stroke-width=\"0\"/><text alignment-baseline=\"middle\" fill=\"white\" font-family=\"Times\" font-size=\"8.25\" text-anchor=\"middle\" x=\"1544.4\" y=\"116.325\"/><rect fill=\"red\" height=\"9.9\" width=\"26.928\" x=\"1557.336\" y=\"110.55\"/><circle cx=\"1557.6\" cy=\"115.5\" fill=\"red\" r=\"-0.264\" stroke=\"red\" stroke-width=\"0\"/><circle cx=\"1584.0\" cy=\"115.5\" fill=\"red\" r=\"-0.264\" stroke=\"red\" stroke-width=\"0\"/><text alignment-baseline=\"middle\" fill=\"white\" font-family=\"Times\" font-size=\"8.25\" text-anchor=\"middle\" x=\"1570.8\" y=\"116.325\"/><rect fill=\"red\" height=\"9.9\" width=\"26.928\" x=\"1583.736\" y=\"110.55\"/><circle cx=\"1584.0\" cy=\"115.5\" fill=\"red\" r=\"-0.264\" stroke=\"red\" stroke-width=\"0\"/><circle cx=\"1610.4\" cy=\"115.5\" fill=\"red\" r=\"-0.264\" stroke=\"red\" stroke-width=\"0\"/><text alignment-baseline=\"middle\" fill=\"white\" font-family=\"Times\" font-size=\"8.25\" text-anchor=\"middle\" x=\"1597.2\" y=\"116.325\"/><rect fill=\"red\" height=\"9.9\" width=\"26.928\" x=\"1610.136\" y=\"110.55\"/><circle cx=\"1610.4\" cy=\"115.5\" fill=\"red\" r=\"-0.264\" stroke=\"red\" stroke-width=\"0\"/><circle cx=\"1636.8\" cy=\"115.5\" fill=\"red\" r=\"-0.264\" stroke=\"red\" stroke-width=\"0\"/><text alignment-baseline=\"middle\" fill=\"white\" font-family=\"Times\" font-size=\"8.25\" text-anchor=\"middle\" x=\"1623.6\" y=\"116.325\"/><rect fill=\"red\" height=\"9.9\" width=\"26.928\" x=\"1636.536\" y=\"110.55\"/><circle cx=\"1636.8\" cy=\"115.5\" fill=\"red\" r=\"-0.264\" stroke=\"red\" stroke-width=\"0\"/><circle cx=\"1663.2\" cy=\"115.5\" fill=\"red\" r=\"-0.264\" stroke=\"red\" stroke-width=\"0\"/><text alignment-baseline=\"middle\" fill=\"white\" font-family=\"Times\" font-size=\"8.25\" text-anchor=\"middle\" x=\"1650.0\" y=\"116.325\"/><rect fill=\"red\" height=\"9.9\" width=\"26.928\" x=\"1662.936\" y=\"110.55\"/><circle cx=\"1663.2\" cy=\"115.5\" fill=\"red\" r=\"-0.264\" stroke=\"red\" stroke-width=\"0\"/><circle cx=\"1689.6\" cy=\"115.5\" fill=\"red\" r=\"-0.264\" stroke=\"red\" stroke-width=\"0\"/><text alignment-baseline=\"middle\" fill=\"white\" font-family=\"Times\" font-size=\"8.25\" text-anchor=\"middle\" x=\"1676.4\" y=\"116.325\"/><rect fill=\"red\" height=\"9.9\" width=\"26.928\" x=\"1689.336\" y=\"110.55\"/><circle cx=\"1689.6\" cy=\"115.5\" fill=\"red\" r=\"-0.264\" stroke=\"red\" stroke-width=\"0\"/><circle cx=\"1716.0\" cy=\"115.5\" fill=\"red\" r=\"-0.264\" stroke=\"red\" stroke-width=\"0\"/><text alignment-baseline=\"middle\" fill=\"white\" font-family=\"Times\" font-size=\"8.25\" text-anchor=\"middle\" x=\"1702.8\" y=\"116.325\"/><rect fill=\"red\" height=\"9.9\" width=\"26.928\" x=\"1715.736\" y=\"110.55\"/><circle cx=\"1716.0\" cy=\"115.5\" fill=\"red\" r=\"-0.264\" stroke=\"red\" stroke-width=\"0\"/><circle cx=\"1742.4\" cy=\"115.5\" fill=\"red\" r=\"-0.264\" stroke=\"red\" stroke-width=\"0\"/><text alignment-baseline=\"middle\" fill=\"white\" font-family=\"Times\" font-size=\"8.25\" text-anchor=\"middle\" x=\"1729.2\" y=\"116.325\"/><rect fill=\"red\" height=\"9.9\" width=\"26.928\" x=\"1742.136\" y=\"110.55\"/><circle cx=\"1742.4\" cy=\"115.5\" fill=\"red\" r=\"-0.264\" stroke=\"red\" stroke-width=\"0\"/><circle cx=\"1768.8\" cy=\"115.5\" fill=\"red\" r=\"-0.264\" stroke=\"red\" stroke-width=\"0\"/><text alignment-baseline=\"middle\" fill=\"white\" font-family=\"Times\" font-size=\"8.25\" text-anchor=\"middle\" x=\"1755.6\" y=\"116.325\"/><rect fill=\"red\" height=\"9.9\" width=\"26.928\" x=\"1768.536\" y=\"110.55\"/><circle cx=\"1768.8\" cy=\"115.5\" fill=\"red\" r=\"-0.264\" stroke=\"red\" stroke-width=\"0\"/><circle cx=\"1795.2\" cy=\"115.5\" fill=\"red\" r=\"-0.264\" stroke=\"red\" stroke-width=\"0\"/><text alignment-baseline=\"middle\" fill=\"white\" font-family=\"Times\" font-size=\"8.25\" text-anchor=\"middle\" x=\"1782.0\" y=\"116.325\"/><rect fill=\"red\" height=\"9.9\" width=\"26.928\" x=\"1794.936\" y=\"110.55\"/><circle cx=\"1795.2\" cy=\"115.5\" fill=\"red\" r=\"-0.264\" stroke=\"red\" stroke-width=\"0\"/><circle cx=\"1821.6\" cy=\"115.5\" fill=\"red\" r=\"-0.264\" stroke=\"red\" stroke-width=\"0\"/><text alignment-baseline=\"middle\" fill=\"white\" font-family=\"Times\" font-size=\"8.25\" text-anchor=\"middle\" x=\"1808.4\" y=\"116.325\"/><rect fill=\"red\" height=\"9.9\" width=\"26.928\" x=\"1821.336\" y=\"110.55\"/><circle cx=\"1821.6\" cy=\"115.5\" fill=\"red\" r=\"-0.264\" stroke=\"red\" stroke-width=\"0\"/><circle cx=\"1848.0\" cy=\"115.5\" fill=\"red\" r=\"-0.264\" stroke=\"red\" stroke-width=\"0\"/><text alignment-baseline=\"middle\" fill=\"white\" font-family=\"Times\" font-size=\"8.25\" text-anchor=\"middle\" x=\"1834.8\" y=\"116.325\"/><rect fill=\"red\" height=\"9.9\" width=\"26.928\" x=\"1847.736\" y=\"110.55\"/><circle cx=\"1848.0\" cy=\"115.5\" fill=\"red\" r=\"-0.264\" stroke=\"red\" stroke-width=\"0\"/><circle cx=\"1874.4\" cy=\"115.5\" fill=\"red\" r=\"-0.264\" stroke=\"red\" stroke-width=\"0\"/><text alignment-baseline=\"middle\" fill=\"white\" font-family=\"Times\" font-size=\"8.25\" text-anchor=\"middle\" x=\"1861.2\" y=\"116.325\"/><rect fill=\"red\" height=\"9.9\" width=\"26.928\" x=\"1874.136\" y=\"110.55\"/><circle cx=\"1874.4\" cy=\"115.5\" fill=\"red\" r=\"-0.264\" stroke=\"red\" stroke-width=\"0\"/><circle cx=\"1900.8\" cy=\"115.5\" fill=\"red\" r=\"-0.264\" stroke=\"red\" stroke-width=\"0\"/><text alignment-baseline=\"middle\" fill=\"white\" font-family=\"Times\" font-size=\"8.25\" text-anchor=\"middle\" x=\"1887.6\" y=\"116.325\"/><rect fill=\"red\" height=\"9.9\" width=\"26.928\" x=\"1900.536\" y=\"110.55\"/><circle cx=\"1900.8\" cy=\"115.5\" fill=\"red\" r=\"-0.264\" stroke=\"red\" stroke-width=\"0\"/><circle cx=\"1927.2\" cy=\"115.5\" fill=\"red\" r=\"-0.264\" stroke=\"red\" stroke-width=\"0\"/><text alignment-baseline=\"middle\" fill=\"white\" font-family=\"Times\" font-size=\"8.25\" text-anchor=\"middle\" x=\"1914.0\" y=\"116.325\"/><rect fill=\"red\" height=\"9.9\" width=\"26.928\" x=\"1926.936\" y=\"110.55\"/><circle cx=\"1927.2\" cy=\"115.5\" fill=\"red\" r=\"-0.264\" stroke=\"red\" stroke-width=\"0\"/><circle cx=\"1953.6\" cy=\"115.5\" fill=\"red\" r=\"-0.264\" stroke=\"red\" stroke-width=\"0\"/><text alignment-baseline=\"middle\" fill=\"white\" font-family=\"Times\" font-size=\"8.25\" text-anchor=\"middle\" x=\"1940.4\" y=\"116.325\"/><rect fill=\"red\" height=\"9.9\" width=\"26.928\" x=\"1953.336\" y=\"110.55\"/><circle cx=\"1953.6\" cy=\"115.5\" fill=\"red\" r=\"-0.264\" stroke=\"red\" stroke-width=\"0\"/><circle cx=\"1980.0\" cy=\"115.5\" fill=\"red\" r=\"-0.264\" stroke=\"red\" stroke-width=\"0\"/><text alignment-baseline=\"middle\" fill=\"white\" font-family=\"Times\" font-size=\"8.25\" text-anchor=\"middle\" x=\"1966.8\" y=\"116.325\"/><rect fill=\"red\" height=\"9.9\" width=\"26.928\" x=\"1979.736\" y=\"110.55\"/><circle cx=\"1980.0\" cy=\"115.5\" fill=\"red\" r=\"-0.264\" stroke=\"red\" stroke-width=\"0\"/><circle cx=\"2006.4\" cy=\"115.5\" fill=\"red\" r=\"-0.264\" stroke=\"red\" stroke-width=\"0\"/><text alignment-baseline=\"middle\" fill=\"white\" font-family=\"Times\" font-size=\"8.25\" text-anchor=\"middle\" x=\"1993.2\" y=\"116.325\"/><rect fill=\"red\" height=\"9.9\" width=\"26.928\" x=\"2006.136\" y=\"110.55\"/><circle cx=\"2006.4\" cy=\"115.5\" fill=\"red\" r=\"-0.264\" stroke=\"red\" stroke-width=\"0\"/><circle cx=\"2032.8\" cy=\"115.5\" fill=\"red\" r=\"-0.264\" stroke=\"red\" stroke-width=\"0\"/><text alignment-baseline=\"middle\" fill=\"white\" font-family=\"Times\" font-size=\"8.25\" text-anchor=\"middle\" x=\"2019.6\" y=\"116.325\"/><rect fill=\"red\" height=\"9.9\" width=\"26.928\" x=\"2032.536\" y=\"110.55\"/><circle cx=\"2032.8\" cy=\"115.5\" fill=\"red\" r=\"-0.264\" stroke=\"red\" stroke-width=\"0\"/><circle cx=\"2059.2\" cy=\"115.5\" fill=\"red\" r=\"-0.264\" stroke=\"red\" stroke-width=\"0\"/><text alignment-baseline=\"middle\" fill=\"white\" font-family=\"Times\" font-size=\"8.25\" text-anchor=\"middle\" x=\"2046.0\" y=\"116.325\"/><rect fill=\"red\" height=\"9.9\" width=\"26.928\" x=\"2058.936\" y=\"110.55\"/><circle cx=\"2059.2\" cy=\"115.5\" fill=\"red\" r=\"-0.264\" stroke=\"red\" stroke-width=\"0\"/><circle cx=\"2085.6\" cy=\"115.5\" fill=\"red\" r=\"-0.264\" stroke=\"red\" stroke-width=\"0\"/><text alignment-baseline=\"middle\" fill=\"white\" font-family=\"Times\" font-size=\"8.25\" text-anchor=\"middle\" x=\"2072.4\" y=\"116.325\"/><rect fill=\"red\" height=\"9.9\" width=\"26.928\" x=\"2085.336\" y=\"110.55\"/><circle cx=\"2085.6\" cy=\"115.5\" fill=\"red\" r=\"-0.264\" stroke=\"red\" stroke-width=\"0\"/><circle cx=\"2112.0\" cy=\"115.5\" fill=\"red\" r=\"-0.264\" stroke=\"red\" stroke-width=\"0\"/><text alignment-baseline=\"middle\" fill=\"white\" font-family=\"Times\" font-size=\"8.25\" text-anchor=\"middle\" x=\"2098.8\" y=\"116.325\"/><rect fill=\"red\" height=\"9.9\" width=\"26.928\" x=\"2111.736\" y=\"110.55\"/><circle cx=\"2112.0\" cy=\"115.5\" fill=\"red\" r=\"-0.264\" stroke=\"red\" stroke-width=\"0\"/><circle cx=\"2138.4\" cy=\"115.5\" fill=\"red\" r=\"-0.264\" stroke=\"red\" stroke-width=\"0\"/><text alignment-baseline=\"middle\" fill=\"white\" font-family=\"Times\" font-size=\"8.25\" text-anchor=\"middle\" x=\"2125.2\" y=\"116.325\"/><rect fill=\"red\" height=\"9.9\" width=\"26.928\" x=\"2138.136\" y=\"110.55\"/><circle cx=\"2138.4\" cy=\"115.5\" fill=\"red\" r=\"-0.264\" stroke=\"red\" stroke-width=\"0\"/><circle cx=\"2164.8\" cy=\"115.5\" fill=\"red\" r=\"-0.264\" stroke=\"red\" stroke-width=\"0\"/><text alignment-baseline=\"middle\" fill=\"white\" font-family=\"Times\" font-size=\"8.25\" text-anchor=\"middle\" x=\"2151.6\" y=\"116.325\"/><rect fill=\"red\" height=\"9.9\" width=\"26.928\" x=\"2164.536\" y=\"110.55\"/><circle cx=\"2164.8\" cy=\"115.5\" fill=\"red\" r=\"-0.264\" stroke=\"red\" stroke-width=\"0\"/><circle cx=\"2191.2\" cy=\"115.5\" fill=\"red\" r=\"-0.264\" stroke=\"red\" stroke-width=\"0\"/><text alignment-baseline=\"middle\" fill=\"white\" font-family=\"Times\" font-size=\"8.25\" text-anchor=\"middle\" x=\"2178.0\" y=\"116.325\"/><rect fill=\"red\" height=\"9.9\" width=\"26.928\" x=\"2190.936\" y=\"110.55\"/><circle cx=\"2191.2\" cy=\"115.5\" fill=\"red\" r=\"-0.264\" stroke=\"red\" stroke-width=\"0\"/><circle cx=\"2217.6\" cy=\"115.5\" fill=\"red\" r=\"-0.264\" stroke=\"red\" stroke-width=\"0\"/><text alignment-baseline=\"middle\" fill=\"white\" font-family=\"Times\" font-size=\"8.25\" text-anchor=\"middle\" x=\"2204.4\" y=\"116.325\"/><rect fill=\"red\" height=\"9.9\" width=\"26.928\" x=\"2217.336\" y=\"110.55\"/><circle cx=\"2217.6\" cy=\"115.5\" fill=\"red\" r=\"-0.264\" stroke=\"red\" stroke-width=\"0\"/><circle cx=\"2244.0\" cy=\"115.5\" fill=\"red\" r=\"-0.264\" stroke=\"red\" stroke-width=\"0\"/><text alignment-baseline=\"middle\" fill=\"white\" font-family=\"Times\" font-size=\"8.25\" text-anchor=\"middle\" x=\"2230.8\" y=\"116.325\"/><rect fill=\"red\" height=\"9.9\" width=\"26.928\" x=\"2243.736\" y=\"110.55\"/><circle cx=\"2244.0\" cy=\"115.5\" fill=\"red\" r=\"-0.264\" stroke=\"red\" stroke-width=\"0\"/><circle cx=\"2270.4\" cy=\"115.5\" fill=\"red\" r=\"-0.264\" stroke=\"red\" stroke-width=\"0\"/><text alignment-baseline=\"middle\" fill=\"white\" font-family=\"Times\" font-size=\"8.25\" text-anchor=\"middle\" x=\"2257.2\" y=\"116.325\"/><rect fill=\"red\" height=\"9.9\" width=\"26.928\" x=\"2270.136\" y=\"110.55\"/><circle cx=\"2270.4\" cy=\"115.5\" fill=\"red\" r=\"-0.264\" stroke=\"red\" stroke-width=\"0\"/><circle cx=\"2296.8\" cy=\"115.5\" fill=\"red\" r=\"-0.264\" stroke=\"red\" stroke-width=\"0\"/><text alignment-baseline=\"middle\" fill=\"white\" font-family=\"Times\" font-size=\"8.25\" text-anchor=\"middle\" x=\"2283.6\" y=\"116.325\"/><rect fill=\"red\" height=\"9.9\" width=\"26.928\" x=\"2296.536\" y=\"110.55\"/><circle cx=\"2296.8\" cy=\"115.5\" fill=\"red\" r=\"-0.264\" stroke=\"red\" stroke-width=\"0\"/><circle cx=\"2323.2\" cy=\"115.5\" fill=\"red\" r=\"-0.264\" stroke=\"red\" stroke-width=\"0\"/><text alignment-baseline=\"middle\" fill=\"white\" font-family=\"Times\" font-size=\"8.25\" text-anchor=\"middle\" x=\"2310.0\" y=\"116.325\"/><rect fill=\"red\" height=\"9.9\" width=\"26.928\" x=\"2322.936\" y=\"110.55\"/><circle cx=\"2323.2\" cy=\"115.5\" fill=\"red\" r=\"-0.264\" stroke=\"red\" stroke-width=\"0\"/><circle cx=\"2349.6\" cy=\"115.5\" fill=\"red\" r=\"-0.264\" stroke=\"red\" stroke-width=\"0\"/><text alignment-baseline=\"middle\" fill=\"white\" font-family=\"Times\" font-size=\"8.25\" text-anchor=\"middle\" x=\"2336.4\" y=\"116.325\"/><rect fill=\"red\" height=\"9.9\" width=\"26.928\" x=\"2349.336\" y=\"110.55\"/><circle cx=\"2349.6\" cy=\"115.5\" fill=\"red\" r=\"-0.264\" stroke=\"red\" stroke-width=\"0\"/><circle cx=\"2376.0\" cy=\"115.5\" fill=\"red\" r=\"-0.264\" stroke=\"red\" stroke-width=\"0\"/><text alignment-baseline=\"middle\" fill=\"white\" font-family=\"Times\" font-size=\"8.25\" text-anchor=\"middle\" x=\"2362.8\" y=\"116.325\"/><rect fill=\"red\" height=\"9.9\" width=\"26.928\" x=\"2375.736\" y=\"110.55\"/><circle cx=\"2376.0\" cy=\"115.5\" fill=\"red\" r=\"-0.264\" stroke=\"red\" stroke-width=\"0\"/><circle cx=\"2402.4\" cy=\"115.5\" fill=\"red\" r=\"-0.264\" stroke=\"red\" stroke-width=\"0\"/><text alignment-baseline=\"middle\" fill=\"white\" font-family=\"Times\" font-size=\"8.25\" text-anchor=\"middle\" x=\"2389.2\" y=\"116.325\"/><rect fill=\"red\" height=\"9.9\" width=\"26.928\" x=\"2402.136\" y=\"110.55\"/><circle cx=\"2402.4\" cy=\"115.5\" fill=\"red\" r=\"-0.264\" stroke=\"red\" stroke-width=\"0\"/><circle cx=\"2428.8\" cy=\"115.5\" fill=\"red\" r=\"-0.264\" stroke=\"red\" stroke-width=\"0\"/><text alignment-baseline=\"middle\" fill=\"white\" font-family=\"Times\" font-size=\"8.25\" text-anchor=\"middle\" x=\"2415.6\" y=\"116.325\"/><rect fill=\"red\" height=\"9.9\" width=\"26.928\" x=\"2428.536\" y=\"110.55\"/><circle cx=\"2428.8\" cy=\"115.5\" fill=\"red\" r=\"-0.264\" stroke=\"red\" stroke-width=\"0\"/><circle cx=\"2455.2\" cy=\"115.5\" fill=\"red\" r=\"-0.264\" stroke=\"red\" stroke-width=\"0\"/><text alignment-baseline=\"middle\" fill=\"white\" font-family=\"Times\" font-size=\"8.25\" text-anchor=\"middle\" x=\"2442.0\" y=\"116.325\"/><rect fill=\"red\" height=\"9.9\" width=\"26.928\" x=\"2454.936\" y=\"110.55\"/><circle cx=\"2455.2\" cy=\"115.5\" fill=\"red\" r=\"-0.264\" stroke=\"red\" stroke-width=\"0\"/><circle cx=\"2481.6\" cy=\"115.5\" fill=\"red\" r=\"-0.264\" stroke=\"red\" stroke-width=\"0\"/><text alignment-baseline=\"middle\" fill=\"white\" font-family=\"Times\" font-size=\"8.25\" text-anchor=\"middle\" x=\"2468.4\" y=\"116.325\"/><rect fill=\"red\" height=\"9.9\" width=\"26.928\" x=\"2481.336\" y=\"110.55\"/><circle cx=\"2481.6\" cy=\"115.5\" fill=\"red\" r=\"-0.264\" stroke=\"red\" stroke-width=\"0\"/><circle cx=\"2508.0\" cy=\"115.5\" fill=\"red\" r=\"-0.264\" stroke=\"red\" stroke-width=\"0\"/><text alignment-baseline=\"middle\" fill=\"white\" font-family=\"Times\" font-size=\"8.25\" text-anchor=\"middle\" x=\"2494.8\" y=\"116.325\"/><rect fill=\"red\" height=\"9.9\" width=\"26.928\" x=\"2507.736\" y=\"110.55\"/><circle cx=\"2508.0\" cy=\"115.5\" fill=\"red\" r=\"-0.264\" stroke=\"red\" stroke-width=\"0\"/><circle cx=\"2534.4\" cy=\"115.5\" fill=\"red\" r=\"-0.264\" stroke=\"red\" stroke-width=\"0\"/><text alignment-baseline=\"middle\" fill=\"white\" font-family=\"Times\" font-size=\"8.25\" text-anchor=\"middle\" x=\"2521.2\" y=\"116.325\"/><rect fill=\"red\" height=\"9.9\" width=\"26.928\" x=\"2534.136\" y=\"110.55\"/><circle cx=\"2534.4\" cy=\"115.5\" fill=\"red\" r=\"-0.264\" stroke=\"red\" stroke-width=\"0\"/><circle cx=\"2560.8\" cy=\"115.5\" fill=\"red\" r=\"-0.264\" stroke=\"red\" stroke-width=\"0\"/><text alignment-baseline=\"middle\" fill=\"white\" font-family=\"Times\" font-size=\"8.25\" text-anchor=\"middle\" x=\"2547.6\" y=\"116.325\"/><rect fill=\"red\" height=\"9.9\" width=\"26.928\" x=\"2560.536\" y=\"110.55\"/><circle cx=\"2560.8\" cy=\"115.5\" fill=\"red\" r=\"-0.264\" stroke=\"red\" stroke-width=\"0\"/><circle cx=\"2587.2\" cy=\"115.5\" fill=\"red\" r=\"-0.264\" stroke=\"red\" stroke-width=\"0\"/><text alignment-baseline=\"middle\" fill=\"white\" font-family=\"Times\" font-size=\"8.25\" text-anchor=\"middle\" x=\"2574.0\" y=\"116.325\"/><rect fill=\"red\" height=\"9.9\" width=\"26.928\" x=\"2586.936\" y=\"110.55\"/><circle cx=\"2587.2\" cy=\"115.5\" fill=\"red\" r=\"-0.264\" stroke=\"red\" stroke-width=\"0\"/><circle cx=\"2613.6\" cy=\"115.5\" fill=\"red\" r=\"-0.264\" stroke=\"red\" stroke-width=\"0\"/><text alignment-baseline=\"middle\" fill=\"white\" font-family=\"Times\" font-size=\"8.25\" text-anchor=\"middle\" x=\"2600.4\" y=\"116.325\"/><rect fill=\"red\" height=\"9.9\" width=\"26.928\" x=\"2613.336\" y=\"110.55\"/><circle cx=\"2613.6\" cy=\"115.5\" fill=\"red\" r=\"-0.264\" stroke=\"red\" stroke-width=\"0\"/><circle cx=\"2640.0\" cy=\"115.5\" fill=\"red\" r=\"-0.264\" stroke=\"red\" stroke-width=\"0\"/><text alignment-baseline=\"middle\" fill=\"white\" font-family=\"Times\" font-size=\"8.25\" text-anchor=\"middle\" x=\"2626.8\" y=\"116.325\"/><rect fill=\"red\" height=\"9.9\" width=\"26.928\" x=\"2639.736\" y=\"110.55\"/><circle cx=\"2640.0\" cy=\"115.5\" fill=\"red\" r=\"-0.264\" stroke=\"red\" stroke-width=\"0\"/><circle cx=\"2666.4\" cy=\"115.5\" fill=\"red\" r=\"-0.264\" stroke=\"red\" stroke-width=\"0\"/><text alignment-baseline=\"middle\" fill=\"white\" font-family=\"Times\" font-size=\"8.25\" text-anchor=\"middle\" x=\"2653.2\" y=\"116.325\"/><rect fill=\"red\" height=\"9.9\" width=\"26.928\" x=\"2666.136\" y=\"110.55\"/><circle cx=\"2666.4\" cy=\"115.5\" fill=\"red\" r=\"-0.264\" stroke=\"red\" stroke-width=\"0\"/><circle cx=\"2692.8\" cy=\"115.5\" fill=\"red\" r=\"-0.264\" stroke=\"red\" stroke-width=\"0\"/><text alignment-baseline=\"middle\" fill=\"white\" font-family=\"Times\" font-size=\"8.25\" text-anchor=\"middle\" x=\"2679.6\" y=\"116.325\"/><rect fill=\"red\" height=\"9.9\" width=\"26.928\" x=\"2692.536\" y=\"110.55\"/><circle cx=\"2692.8\" cy=\"115.5\" fill=\"red\" r=\"-0.264\" stroke=\"red\" stroke-width=\"0\"/><circle cx=\"2719.2\" cy=\"115.5\" fill=\"red\" r=\"-0.264\" stroke=\"red\" stroke-width=\"0\"/><text alignment-baseline=\"middle\" fill=\"white\" font-family=\"Times\" font-size=\"8.25\" text-anchor=\"middle\" x=\"2706.0\" y=\"116.325\"/><line stroke=\"green\" stroke-width=\"1.32\" x1=\"2508.0\" x2=\"2508.0\" y1=\"115.335\" y2=\"148.665\"/><text alignment-baseline=\"middle\" fill=\"black\" font-family=\"Times\" font-size=\"8.25\" text-anchor=\"end\" x=\"786.72\" y=\"149.325\">7b</text><rect fill=\"green\" height=\"9.9\" width=\"26.928\" x=\"791.736\" y=\"143.55\"/><circle cx=\"792.0\" cy=\"148.5\" fill=\"green\" r=\"-0.264\" stroke=\"green\" stroke-width=\"0\"/><circle cx=\"818.4\" cy=\"148.5\" fill=\"green\" r=\"-0.264\" stroke=\"green\" stroke-width=\"0\"/><text alignment-baseline=\"middle\" fill=\"white\" font-family=\"Times\" font-size=\"8.25\" text-anchor=\"middle\" x=\"805.2\" y=\"149.325\"/><rect fill=\"green\" height=\"9.9\" width=\"26.928\" x=\"818.136\" y=\"143.55\"/><circle cx=\"818.4\" cy=\"148.5\" fill=\"green\" r=\"-0.264\" stroke=\"green\" stroke-width=\"0\"/><circle cx=\"844.8\" cy=\"148.5\" fill=\"green\" r=\"-0.264\" stroke=\"green\" stroke-width=\"0\"/><text alignment-baseline=\"middle\" fill=\"white\" font-family=\"Times\" font-size=\"8.25\" text-anchor=\"middle\" x=\"831.6\" y=\"149.325\"/><rect fill=\"green\" height=\"9.9\" width=\"26.928\" x=\"844.536\" y=\"143.55\"/><circle cx=\"844.8\" cy=\"148.5\" fill=\"green\" r=\"-0.264\" stroke=\"green\" stroke-width=\"0\"/><circle cx=\"871.2\" cy=\"148.5\" fill=\"green\" r=\"-0.264\" stroke=\"green\" stroke-width=\"0\"/><text alignment-baseline=\"middle\" fill=\"white\" font-family=\"Times\" font-size=\"8.25\" text-anchor=\"middle\" x=\"858.0\" y=\"149.325\"/><rect fill=\"green\" height=\"9.9\" width=\"26.928\" x=\"870.936\" y=\"143.55\"/><circle cx=\"871.2\" cy=\"148.5\" fill=\"green\" r=\"-0.264\" stroke=\"green\" stroke-width=\"0\"/><circle cx=\"897.6\" cy=\"148.5\" fill=\"green\" r=\"-0.264\" stroke=\"green\" stroke-width=\"0\"/><text alignment-baseline=\"middle\" fill=\"white\" font-family=\"Times\" font-size=\"8.25\" text-anchor=\"middle\" x=\"884.4\" y=\"149.325\"/><rect fill=\"green\" height=\"9.9\" width=\"26.928\" x=\"897.336\" y=\"143.55\"/><circle cx=\"897.6\" cy=\"148.5\" fill=\"green\" r=\"-0.264\" stroke=\"green\" stroke-width=\"0\"/><circle cx=\"924.0\" cy=\"148.5\" fill=\"green\" r=\"-0.264\" stroke=\"green\" stroke-width=\"0\"/><text alignment-baseline=\"middle\" fill=\"white\" font-family=\"Times\" font-size=\"8.25\" text-anchor=\"middle\" x=\"910.8\" y=\"149.325\"/><rect fill=\"green\" height=\"9.9\" width=\"26.928\" x=\"923.736\" y=\"143.55\"/><circle cx=\"924.0\" cy=\"148.5\" fill=\"green\" r=\"-0.264\" stroke=\"green\" stroke-width=\"0\"/><circle cx=\"950.4\" cy=\"148.5\" fill=\"green\" r=\"-0.264\" stroke=\"green\" stroke-width=\"0\"/><text alignment-baseline=\"middle\" fill=\"white\" font-family=\"Times\" font-size=\"8.25\" text-anchor=\"middle\" x=\"937.2\" y=\"149.325\"/><rect fill=\"green\" height=\"9.9\" width=\"26.928\" x=\"950.136\" y=\"143.55\"/><circle cx=\"950.4\" cy=\"148.5\" fill=\"green\" r=\"-0.264\" stroke=\"green\" stroke-width=\"0\"/><circle cx=\"976.8\" cy=\"148.5\" fill=\"green\" r=\"-0.264\" stroke=\"green\" stroke-width=\"0\"/><text alignment-baseline=\"middle\" fill=\"white\" font-family=\"Times\" font-size=\"8.25\" text-anchor=\"middle\" x=\"963.6\" y=\"149.325\"/><rect fill=\"green\" height=\"9.9\" width=\"26.928\" x=\"976.536\" y=\"143.55\"/><circle cx=\"976.8\" cy=\"148.5\" fill=\"green\" r=\"-0.264\" stroke=\"green\" stroke-width=\"0\"/><circle cx=\"1003.2\" cy=\"148.5\" fill=\"green\" r=\"-0.264\" stroke=\"green\" stroke-width=\"0\"/><text alignment-baseline=\"middle\" fill=\"white\" font-family=\"Times\" font-size=\"8.25\" text-anchor=\"middle\" x=\"990.0\" y=\"149.325\"/><rect fill=\"green\" height=\"9.9\" width=\"26.928\" x=\"1002.936\" y=\"143.55\"/><circle cx=\"1003.2\" cy=\"148.5\" fill=\"green\" r=\"-0.264\" stroke=\"green\" stroke-width=\"0\"/><circle cx=\"1029.6\" cy=\"148.5\" fill=\"green\" r=\"-0.264\" stroke=\"green\" stroke-width=\"0\"/><text alignment-baseline=\"middle\" fill=\"white\" font-family=\"Times\" font-size=\"8.25\" text-anchor=\"middle\" x=\"1016.4\" y=\"149.325\"/><rect fill=\"green\" height=\"9.9\" width=\"26.928\" x=\"1029.336\" y=\"143.55\"/><circle cx=\"1029.6\" cy=\"148.5\" fill=\"green\" r=\"-0.264\" stroke=\"green\" stroke-width=\"0\"/><circle cx=\"1056.0\" cy=\"148.5\" fill=\"green\" r=\"-0.264\" stroke=\"green\" stroke-width=\"0\"/><text alignment-baseline=\"middle\" fill=\"white\" font-family=\"Times\" font-size=\"8.25\" text-anchor=\"middle\" x=\"1042.8\" y=\"149.325\"/><rect fill=\"green\" height=\"9.9\" width=\"26.928\" x=\"1055.736\" y=\"143.55\"/><circle cx=\"1056.0\" cy=\"148.5\" fill=\"green\" r=\"-0.264\" stroke=\"green\" stroke-width=\"0\"/><circle cx=\"1082.4\" cy=\"148.5\" fill=\"green\" r=\"-0.264\" stroke=\"green\" stroke-width=\"0\"/><text alignment-baseline=\"middle\" fill=\"white\" font-family=\"Times\" font-size=\"8.25\" text-anchor=\"middle\" x=\"1069.2\" y=\"149.325\"/><rect fill=\"green\" height=\"9.9\" width=\"26.928\" x=\"1082.136\" y=\"143.55\"/><circle cx=\"1082.4\" cy=\"148.5\" fill=\"green\" r=\"-0.264\" stroke=\"green\" stroke-width=\"0\"/><circle cx=\"1108.8\" cy=\"148.5\" fill=\"green\" r=\"-0.264\" stroke=\"green\" stroke-width=\"0\"/><text alignment-baseline=\"middle\" fill=\"white\" font-family=\"Times\" font-size=\"8.25\" text-anchor=\"middle\" x=\"1095.6\" y=\"149.325\"/><rect fill=\"green\" height=\"9.9\" width=\"26.928\" x=\"1108.536\" y=\"143.55\"/><circle cx=\"1108.8\" cy=\"148.5\" fill=\"green\" r=\"-0.264\" stroke=\"green\" stroke-width=\"0\"/><circle cx=\"1135.2\" cy=\"148.5\" fill=\"green\" r=\"-0.264\" stroke=\"green\" stroke-width=\"0\"/><text alignment-baseline=\"middle\" fill=\"white\" font-family=\"Times\" font-size=\"8.25\" text-anchor=\"middle\" x=\"1122.0\" y=\"149.325\"/><rect fill=\"green\" height=\"9.9\" width=\"26.928\" x=\"1134.936\" y=\"143.55\"/><circle cx=\"1135.2\" cy=\"148.5\" fill=\"green\" r=\"-0.264\" stroke=\"green\" stroke-width=\"0\"/><circle cx=\"1161.6\" cy=\"148.5\" fill=\"green\" r=\"-0.264\" stroke=\"green\" stroke-width=\"0\"/><text alignment-baseline=\"middle\" fill=\"white\" font-family=\"Times\" font-size=\"8.25\" text-anchor=\"middle\" x=\"1148.4\" y=\"149.325\"/><rect fill=\"green\" height=\"9.9\" width=\"26.928\" x=\"1161.336\" y=\"143.55\"/><circle cx=\"1161.6\" cy=\"148.5\" fill=\"green\" r=\"-0.264\" stroke=\"green\" stroke-width=\"0\"/><circle cx=\"1188.0\" cy=\"148.5\" fill=\"green\" r=\"-0.264\" stroke=\"green\" stroke-width=\"0\"/><text alignment-baseline=\"middle\" fill=\"white\" font-family=\"Times\" font-size=\"8.25\" text-anchor=\"middle\" x=\"1174.8\" y=\"149.325\"/><rect fill=\"green\" height=\"9.9\" width=\"26.928\" x=\"1187.736\" y=\"143.55\"/><circle cx=\"1188.0\" cy=\"148.5\" fill=\"green\" r=\"-0.264\" stroke=\"green\" stroke-width=\"0\"/><circle cx=\"1214.4\" cy=\"148.5\" fill=\"green\" r=\"-0.264\" stroke=\"green\" stroke-width=\"0\"/><text alignment-baseline=\"middle\" fill=\"white\" font-family=\"Times\" font-size=\"8.25\" text-anchor=\"middle\" x=\"1201.2\" y=\"149.325\"/><rect fill=\"green\" height=\"9.9\" width=\"26.928\" x=\"1214.136\" y=\"143.55\"/><circle cx=\"1214.4\" cy=\"148.5\" fill=\"green\" r=\"-0.264\" stroke=\"green\" stroke-width=\"0\"/><circle cx=\"1240.8\" cy=\"148.5\" fill=\"green\" r=\"-0.264\" stroke=\"green\" stroke-width=\"0\"/><text alignment-baseline=\"middle\" fill=\"white\" font-family=\"Times\" font-size=\"8.25\" text-anchor=\"middle\" x=\"1227.6\" y=\"149.325\"/><rect fill=\"green\" height=\"9.9\" width=\"26.928\" x=\"1240.536\" y=\"143.55\"/><circle cx=\"1240.8\" cy=\"148.5\" fill=\"green\" r=\"-0.264\" stroke=\"green\" stroke-width=\"0\"/><circle cx=\"1267.2\" cy=\"148.5\" fill=\"green\" r=\"-0.264\" stroke=\"green\" stroke-width=\"0\"/><text alignment-baseline=\"middle\" fill=\"white\" font-family=\"Times\" font-size=\"8.25\" text-anchor=\"middle\" x=\"1254.0\" y=\"149.325\"/><rect fill=\"green\" height=\"9.9\" width=\"26.928\" x=\"1266.936\" y=\"143.55\"/><circle cx=\"1267.2\" cy=\"148.5\" fill=\"green\" r=\"-0.264\" stroke=\"green\" stroke-width=\"0\"/><circle cx=\"1293.6\" cy=\"148.5\" fill=\"green\" r=\"-0.264\" stroke=\"green\" stroke-width=\"0\"/><text alignment-baseline=\"middle\" fill=\"white\" font-family=\"Times\" font-size=\"8.25\" text-anchor=\"middle\" x=\"1280.4\" y=\"149.325\"/><rect fill=\"green\" height=\"9.9\" width=\"26.928\" x=\"1293.336\" y=\"143.55\"/><circle cx=\"1293.6\" cy=\"148.5\" fill=\"green\" r=\"-0.264\" stroke=\"green\" stroke-width=\"0\"/><circle cx=\"1320.0\" cy=\"148.5\" fill=\"green\" r=\"-0.264\" stroke=\"green\" stroke-width=\"0\"/><text alignment-baseline=\"middle\" fill=\"white\" font-family=\"Times\" font-size=\"8.25\" text-anchor=\"middle\" x=\"1306.8\" y=\"149.325\"/><rect fill=\"green\" height=\"9.9\" width=\"26.928\" x=\"1319.736\" y=\"143.55\"/><circle cx=\"1320.0\" cy=\"148.5\" fill=\"green\" r=\"-0.264\" stroke=\"green\" stroke-width=\"0\"/><circle cx=\"1346.4\" cy=\"148.5\" fill=\"green\" r=\"-0.264\" stroke=\"green\" stroke-width=\"0\"/><text alignment-baseline=\"middle\" fill=\"white\" font-family=\"Times\" font-size=\"8.25\" text-anchor=\"middle\" x=\"1333.2\" y=\"149.325\"/><rect fill=\"green\" height=\"9.9\" width=\"26.928\" x=\"1346.136\" y=\"143.55\"/><circle cx=\"1346.4\" cy=\"148.5\" fill=\"green\" r=\"-0.264\" stroke=\"green\" stroke-width=\"0\"/><circle cx=\"1372.8\" cy=\"148.5\" fill=\"green\" r=\"-0.264\" stroke=\"green\" stroke-width=\"0\"/><text alignment-baseline=\"middle\" fill=\"white\" font-family=\"Times\" font-size=\"8.25\" text-anchor=\"middle\" x=\"1359.6\" y=\"149.325\"/><rect fill=\"green\" height=\"9.9\" width=\"26.928\" x=\"1372.536\" y=\"143.55\"/><circle cx=\"1372.8\" cy=\"148.5\" fill=\"green\" r=\"-0.264\" stroke=\"green\" stroke-width=\"0\"/><circle cx=\"1399.2\" cy=\"148.5\" fill=\"green\" r=\"-0.264\" stroke=\"green\" stroke-width=\"0\"/><text alignment-baseline=\"middle\" fill=\"white\" font-family=\"Times\" font-size=\"8.25\" text-anchor=\"middle\" x=\"1386.0\" y=\"149.325\"/><rect fill=\"green\" height=\"9.9\" width=\"26.928\" x=\"1398.936\" y=\"143.55\"/><circle cx=\"1399.2\" cy=\"148.5\" fill=\"green\" r=\"-0.264\" stroke=\"green\" stroke-width=\"0\"/><circle cx=\"1425.6\" cy=\"148.5\" fill=\"green\" r=\"-0.264\" stroke=\"green\" stroke-width=\"0\"/><text alignment-baseline=\"middle\" fill=\"white\" font-family=\"Times\" font-size=\"8.25\" text-anchor=\"middle\" x=\"1412.4\" y=\"149.325\"/><rect fill=\"green\" height=\"9.9\" width=\"26.928\" x=\"1425.336\" y=\"143.55\"/><circle cx=\"1425.6\" cy=\"148.5\" fill=\"green\" r=\"-0.264\" stroke=\"green\" stroke-width=\"0\"/><circle cx=\"1452.0\" cy=\"148.5\" fill=\"green\" r=\"-0.264\" stroke=\"green\" stroke-width=\"0\"/><text alignment-baseline=\"middle\" fill=\"white\" font-family=\"Times\" font-size=\"8.25\" text-anchor=\"middle\" x=\"1438.8\" y=\"149.325\"/><rect fill=\"green\" height=\"9.9\" width=\"26.928\" x=\"1451.736\" y=\"143.55\"/><circle cx=\"1452.0\" cy=\"148.5\" fill=\"green\" r=\"-0.264\" stroke=\"green\" stroke-width=\"0\"/><circle cx=\"1478.4\" cy=\"148.5\" fill=\"green\" r=\"-0.264\" stroke=\"green\" stroke-width=\"0\"/><text alignment-baseline=\"middle\" fill=\"white\" font-family=\"Times\" font-size=\"8.25\" text-anchor=\"middle\" x=\"1465.2\" y=\"149.325\"/><rect fill=\"green\" height=\"9.9\" width=\"26.928\" x=\"1478.136\" y=\"143.55\"/><circle cx=\"1478.4\" cy=\"148.5\" fill=\"green\" r=\"-0.264\" stroke=\"green\" stroke-width=\"0\"/><circle cx=\"1504.8\" cy=\"148.5\" fill=\"green\" r=\"-0.264\" stroke=\"green\" stroke-width=\"0\"/><text alignment-baseline=\"middle\" fill=\"white\" font-family=\"Times\" font-size=\"8.25\" text-anchor=\"middle\" x=\"1491.6\" y=\"149.325\"/><rect fill=\"green\" height=\"9.9\" width=\"26.928\" x=\"1504.536\" y=\"143.55\"/><circle cx=\"1504.8\" cy=\"148.5\" fill=\"green\" r=\"-0.264\" stroke=\"green\" stroke-width=\"0\"/><circle cx=\"1531.2\" cy=\"148.5\" fill=\"green\" r=\"-0.264\" stroke=\"green\" stroke-width=\"0\"/><text alignment-baseline=\"middle\" fill=\"white\" font-family=\"Times\" font-size=\"8.25\" text-anchor=\"middle\" x=\"1518.0\" y=\"149.325\"/><rect fill=\"green\" height=\"9.9\" width=\"26.928\" x=\"1530.936\" y=\"143.55\"/><circle cx=\"1531.2\" cy=\"148.5\" fill=\"green\" r=\"-0.264\" stroke=\"green\" stroke-width=\"0\"/><circle cx=\"1557.6\" cy=\"148.5\" fill=\"green\" r=\"-0.264\" stroke=\"green\" stroke-width=\"0\"/><text alignment-baseline=\"middle\" fill=\"white\" font-family=\"Times\" font-size=\"8.25\" text-anchor=\"middle\" x=\"1544.4\" y=\"149.325\"/><rect fill=\"green\" height=\"9.9\" width=\"26.928\" x=\"1557.336\" y=\"143.55\"/><circle cx=\"1557.6\" cy=\"148.5\" fill=\"green\" r=\"-0.264\" stroke=\"green\" stroke-width=\"0\"/><circle cx=\"1584.0\" cy=\"148.5\" fill=\"green\" r=\"-0.264\" stroke=\"green\" stroke-width=\"0\"/><text alignment-baseline=\"middle\" fill=\"white\" font-family=\"Times\" font-size=\"8.25\" text-anchor=\"middle\" x=\"1570.8\" y=\"149.325\"/><rect fill=\"green\" height=\"9.9\" width=\"26.928\" x=\"1583.736\" y=\"143.55\"/><circle cx=\"1584.0\" cy=\"148.5\" fill=\"green\" r=\"-0.264\" stroke=\"green\" stroke-width=\"0\"/><circle cx=\"1610.4\" cy=\"148.5\" fill=\"green\" r=\"-0.264\" stroke=\"green\" stroke-width=\"0\"/><text alignment-baseline=\"middle\" fill=\"white\" font-family=\"Times\" font-size=\"8.25\" text-anchor=\"middle\" x=\"1597.2\" y=\"149.325\"/><rect fill=\"green\" height=\"9.9\" width=\"26.928\" x=\"1610.136\" y=\"143.55\"/><circle cx=\"1610.4\" cy=\"148.5\" fill=\"green\" r=\"-0.264\" stroke=\"green\" stroke-width=\"0\"/><circle cx=\"1636.8\" cy=\"148.5\" fill=\"green\" r=\"-0.264\" stroke=\"green\" stroke-width=\"0\"/><text alignment-baseline=\"middle\" fill=\"white\" font-family=\"Times\" font-size=\"8.25\" text-anchor=\"middle\" x=\"1623.6\" y=\"149.325\"/><rect fill=\"green\" height=\"9.9\" width=\"26.928\" x=\"1636.536\" y=\"143.55\"/><circle cx=\"1636.8\" cy=\"148.5\" fill=\"green\" r=\"-0.264\" stroke=\"green\" stroke-width=\"0\"/><circle cx=\"1663.2\" cy=\"148.5\" fill=\"green\" r=\"-0.264\" stroke=\"green\" stroke-width=\"0\"/><text alignment-baseline=\"middle\" fill=\"white\" font-family=\"Times\" font-size=\"8.25\" text-anchor=\"middle\" x=\"1650.0\" y=\"149.325\"/><rect fill=\"green\" height=\"9.9\" width=\"26.928\" x=\"1662.936\" y=\"143.55\"/><circle cx=\"1663.2\" cy=\"148.5\" fill=\"green\" r=\"-0.264\" stroke=\"green\" stroke-width=\"0\"/><circle cx=\"1689.6\" cy=\"148.5\" fill=\"green\" r=\"-0.264\" stroke=\"green\" stroke-width=\"0\"/><text alignment-baseline=\"middle\" fill=\"white\" font-family=\"Times\" font-size=\"8.25\" text-anchor=\"middle\" x=\"1676.4\" y=\"149.325\"/><rect fill=\"green\" height=\"9.9\" width=\"26.928\" x=\"1689.336\" y=\"143.55\"/><circle cx=\"1689.6\" cy=\"148.5\" fill=\"green\" r=\"-0.264\" stroke=\"green\" stroke-width=\"0\"/><circle cx=\"1716.0\" cy=\"148.5\" fill=\"green\" r=\"-0.264\" stroke=\"green\" stroke-width=\"0\"/><text alignment-baseline=\"middle\" fill=\"white\" font-family=\"Times\" font-size=\"8.25\" text-anchor=\"middle\" x=\"1702.8\" y=\"149.325\"/><rect fill=\"green\" height=\"9.9\" width=\"26.928\" x=\"1715.736\" y=\"143.55\"/><circle cx=\"1716.0\" cy=\"148.5\" fill=\"green\" r=\"-0.264\" stroke=\"green\" stroke-width=\"0\"/><circle cx=\"1742.4\" cy=\"148.5\" fill=\"green\" r=\"-0.264\" stroke=\"green\" stroke-width=\"0\"/><text alignment-baseline=\"middle\" fill=\"white\" font-family=\"Times\" font-size=\"8.25\" text-anchor=\"middle\" x=\"1729.2\" y=\"149.325\"/><rect fill=\"green\" height=\"9.9\" width=\"26.928\" x=\"1742.136\" y=\"143.55\"/><circle cx=\"1742.4\" cy=\"148.5\" fill=\"green\" r=\"-0.264\" stroke=\"green\" stroke-width=\"0\"/><circle cx=\"1768.8\" cy=\"148.5\" fill=\"green\" r=\"-0.264\" stroke=\"green\" stroke-width=\"0\"/><text alignment-baseline=\"middle\" fill=\"white\" font-family=\"Times\" font-size=\"8.25\" text-anchor=\"middle\" x=\"1755.6\" y=\"149.325\"/><rect fill=\"green\" height=\"9.9\" width=\"26.928\" x=\"1768.536\" y=\"143.55\"/><circle cx=\"1768.8\" cy=\"148.5\" fill=\"green\" r=\"-0.264\" stroke=\"green\" stroke-width=\"0\"/><circle cx=\"1795.2\" cy=\"148.5\" fill=\"green\" r=\"-0.264\" stroke=\"green\" stroke-width=\"0\"/><text alignment-baseline=\"middle\" fill=\"white\" font-family=\"Times\" font-size=\"8.25\" text-anchor=\"middle\" x=\"1782.0\" y=\"149.325\"/><rect fill=\"green\" height=\"9.9\" width=\"26.928\" x=\"1794.936\" y=\"143.55\"/><circle cx=\"1795.2\" cy=\"148.5\" fill=\"green\" r=\"-0.264\" stroke=\"green\" stroke-width=\"0\"/><circle cx=\"1821.6\" cy=\"148.5\" fill=\"green\" r=\"-0.264\" stroke=\"green\" stroke-width=\"0\"/><text alignment-baseline=\"middle\" fill=\"white\" font-family=\"Times\" font-size=\"8.25\" text-anchor=\"middle\" x=\"1808.4\" y=\"149.325\"/><rect fill=\"green\" height=\"9.9\" width=\"26.928\" x=\"1821.336\" y=\"143.55\"/><circle cx=\"1821.6\" cy=\"148.5\" fill=\"green\" r=\"-0.264\" stroke=\"green\" stroke-width=\"0\"/><circle cx=\"1848.0\" cy=\"148.5\" fill=\"green\" r=\"-0.264\" stroke=\"green\" stroke-width=\"0\"/><text alignment-baseline=\"middle\" fill=\"white\" font-family=\"Times\" font-size=\"8.25\" text-anchor=\"middle\" x=\"1834.8\" y=\"149.325\"/><rect fill=\"green\" height=\"9.9\" width=\"26.928\" x=\"1847.736\" y=\"143.55\"/><circle cx=\"1848.0\" cy=\"148.5\" fill=\"green\" r=\"-0.264\" stroke=\"green\" stroke-width=\"0\"/><circle cx=\"1874.4\" cy=\"148.5\" fill=\"green\" r=\"-0.264\" stroke=\"green\" stroke-width=\"0\"/><text alignment-baseline=\"middle\" fill=\"white\" font-family=\"Times\" font-size=\"8.25\" text-anchor=\"middle\" x=\"1861.2\" y=\"149.325\"/><rect fill=\"green\" height=\"9.9\" width=\"26.928\" x=\"1874.136\" y=\"143.55\"/><circle cx=\"1874.4\" cy=\"148.5\" fill=\"green\" r=\"-0.264\" stroke=\"green\" stroke-width=\"0\"/><circle cx=\"1900.8\" cy=\"148.5\" fill=\"green\" r=\"-0.264\" stroke=\"green\" stroke-width=\"0\"/><text alignment-baseline=\"middle\" fill=\"white\" font-family=\"Times\" font-size=\"8.25\" text-anchor=\"middle\" x=\"1887.6\" y=\"149.325\"/><rect fill=\"green\" height=\"9.9\" width=\"26.928\" x=\"1900.536\" y=\"143.55\"/><circle cx=\"1900.8\" cy=\"148.5\" fill=\"green\" r=\"-0.264\" stroke=\"green\" stroke-width=\"0\"/><circle cx=\"1927.2\" cy=\"148.5\" fill=\"green\" r=\"-0.264\" stroke=\"green\" stroke-width=\"0\"/><text alignment-baseline=\"middle\" fill=\"white\" font-family=\"Times\" font-size=\"8.25\" text-anchor=\"middle\" x=\"1914.0\" y=\"149.325\"/><rect fill=\"green\" height=\"9.9\" width=\"26.928\" x=\"1926.936\" y=\"143.55\"/><circle cx=\"1927.2\" cy=\"148.5\" fill=\"green\" r=\"-0.264\" stroke=\"green\" stroke-width=\"0\"/><circle cx=\"1953.6\" cy=\"148.5\" fill=\"green\" r=\"-0.264\" stroke=\"green\" stroke-width=\"0\"/><text alignment-baseline=\"middle\" fill=\"white\" font-family=\"Times\" font-size=\"8.25\" text-anchor=\"middle\" x=\"1940.4\" y=\"149.325\"/><rect fill=\"green\" height=\"9.9\" width=\"26.928\" x=\"1953.336\" y=\"143.55\"/><circle cx=\"1953.6\" cy=\"148.5\" fill=\"green\" r=\"-0.264\" stroke=\"green\" stroke-width=\"0\"/><circle cx=\"1980.0\" cy=\"148.5\" fill=\"green\" r=\"-0.264\" stroke=\"green\" stroke-width=\"0\"/><text alignment-baseline=\"middle\" fill=\"white\" font-family=\"Times\" font-size=\"8.25\" text-anchor=\"middle\" x=\"1966.8\" y=\"149.325\"/><rect fill=\"green\" height=\"9.9\" width=\"26.928\" x=\"1979.736\" y=\"143.55\"/><circle cx=\"1980.0\" cy=\"148.5\" fill=\"green\" r=\"-0.264\" stroke=\"green\" stroke-width=\"0\"/><circle cx=\"2006.4\" cy=\"148.5\" fill=\"green\" r=\"-0.264\" stroke=\"green\" stroke-width=\"0\"/><text alignment-baseline=\"middle\" fill=\"white\" font-family=\"Times\" font-size=\"8.25\" text-anchor=\"middle\" x=\"1993.2\" y=\"149.325\"/><rect fill=\"green\" height=\"9.9\" width=\"26.928\" x=\"2006.136\" y=\"143.55\"/><circle cx=\"2006.4\" cy=\"148.5\" fill=\"green\" r=\"-0.264\" stroke=\"green\" stroke-width=\"0\"/><circle cx=\"2032.8\" cy=\"148.5\" fill=\"green\" r=\"-0.264\" stroke=\"green\" stroke-width=\"0\"/><text alignment-baseline=\"middle\" fill=\"white\" font-family=\"Times\" font-size=\"8.25\" text-anchor=\"middle\" x=\"2019.6\" y=\"149.325\"/><rect fill=\"green\" height=\"9.9\" width=\"26.928\" x=\"2032.536\" y=\"143.55\"/><circle cx=\"2032.8\" cy=\"148.5\" fill=\"green\" r=\"-0.264\" stroke=\"green\" stroke-width=\"0\"/><circle cx=\"2059.2\" cy=\"148.5\" fill=\"green\" r=\"-0.264\" stroke=\"green\" stroke-width=\"0\"/><text alignment-baseline=\"middle\" fill=\"white\" font-family=\"Times\" font-size=\"8.25\" text-anchor=\"middle\" x=\"2046.0\" y=\"149.325\"/><rect fill=\"green\" height=\"9.9\" width=\"26.928\" x=\"2058.936\" y=\"143.55\"/><circle cx=\"2059.2\" cy=\"148.5\" fill=\"green\" r=\"-0.264\" stroke=\"green\" stroke-width=\"0\"/><circle cx=\"2085.6\" cy=\"148.5\" fill=\"green\" r=\"-0.264\" stroke=\"green\" stroke-width=\"0\"/><text alignment-baseline=\"middle\" fill=\"white\" font-family=\"Times\" font-size=\"8.25\" text-anchor=\"middle\" x=\"2072.4\" y=\"149.325\"/><rect fill=\"green\" height=\"9.9\" width=\"26.928\" x=\"2085.336\" y=\"143.55\"/><circle cx=\"2085.6\" cy=\"148.5\" fill=\"green\" r=\"-0.264\" stroke=\"green\" stroke-width=\"0\"/><circle cx=\"2112.0\" cy=\"148.5\" fill=\"green\" r=\"-0.264\" stroke=\"green\" stroke-width=\"0\"/><text alignment-baseline=\"middle\" fill=\"white\" font-family=\"Times\" font-size=\"8.25\" text-anchor=\"middle\" x=\"2098.8\" y=\"149.325\"/><rect fill=\"green\" height=\"9.9\" width=\"26.928\" x=\"2111.736\" y=\"143.55\"/><circle cx=\"2112.0\" cy=\"148.5\" fill=\"green\" r=\"-0.264\" stroke=\"green\" stroke-width=\"0\"/><circle cx=\"2138.4\" cy=\"148.5\" fill=\"green\" r=\"-0.264\" stroke=\"green\" stroke-width=\"0\"/><text alignment-baseline=\"middle\" fill=\"white\" font-family=\"Times\" font-size=\"8.25\" text-anchor=\"middle\" x=\"2125.2\" y=\"149.325\"/><rect fill=\"green\" height=\"9.9\" width=\"26.928\" x=\"2138.136\" y=\"143.55\"/><circle cx=\"2138.4\" cy=\"148.5\" fill=\"green\" r=\"-0.264\" stroke=\"green\" stroke-width=\"0\"/><circle cx=\"2164.8\" cy=\"148.5\" fill=\"green\" r=\"-0.264\" stroke=\"green\" stroke-width=\"0\"/><text alignment-baseline=\"middle\" fill=\"white\" font-family=\"Times\" font-size=\"8.25\" text-anchor=\"middle\" x=\"2151.6\" y=\"149.325\"/><rect fill=\"green\" height=\"9.9\" width=\"26.928\" x=\"2164.536\" y=\"143.55\"/><circle cx=\"2164.8\" cy=\"148.5\" fill=\"green\" r=\"-0.264\" stroke=\"green\" stroke-width=\"0\"/><circle cx=\"2191.2\" cy=\"148.5\" fill=\"green\" r=\"-0.264\" stroke=\"green\" stroke-width=\"0\"/><text alignment-baseline=\"middle\" fill=\"white\" font-family=\"Times\" font-size=\"8.25\" text-anchor=\"middle\" x=\"2178.0\" y=\"149.325\"/><rect fill=\"green\" height=\"9.9\" width=\"26.928\" x=\"2190.936\" y=\"143.55\"/><circle cx=\"2191.2\" cy=\"148.5\" fill=\"green\" r=\"-0.264\" stroke=\"green\" stroke-width=\"0\"/><circle cx=\"2217.6\" cy=\"148.5\" fill=\"green\" r=\"-0.264\" stroke=\"green\" stroke-width=\"0\"/><text alignment-baseline=\"middle\" fill=\"white\" font-family=\"Times\" font-size=\"8.25\" text-anchor=\"middle\" x=\"2204.4\" y=\"149.325\"/><rect fill=\"green\" height=\"9.9\" width=\"26.928\" x=\"2217.336\" y=\"143.55\"/><circle cx=\"2217.6\" cy=\"148.5\" fill=\"green\" r=\"-0.264\" stroke=\"green\" stroke-width=\"0\"/><circle cx=\"2244.0\" cy=\"148.5\" fill=\"green\" r=\"-0.264\" stroke=\"green\" stroke-width=\"0\"/><text alignment-baseline=\"middle\" fill=\"white\" font-family=\"Times\" font-size=\"8.25\" text-anchor=\"middle\" x=\"2230.8\" y=\"149.325\"/><rect fill=\"green\" height=\"9.9\" width=\"26.928\" x=\"2243.736\" y=\"143.55\"/><circle cx=\"2244.0\" cy=\"148.5\" fill=\"green\" r=\"-0.264\" stroke=\"green\" stroke-width=\"0\"/><circle cx=\"2270.4\" cy=\"148.5\" fill=\"green\" r=\"-0.264\" stroke=\"green\" stroke-width=\"0\"/><text alignment-baseline=\"middle\" fill=\"white\" font-family=\"Times\" font-size=\"8.25\" text-anchor=\"middle\" x=\"2257.2\" y=\"149.325\"/><rect fill=\"green\" height=\"9.9\" width=\"26.928\" x=\"2270.136\" y=\"143.55\"/><circle cx=\"2270.4\" cy=\"148.5\" fill=\"green\" r=\"-0.264\" stroke=\"green\" stroke-width=\"0\"/><circle cx=\"2296.8\" cy=\"148.5\" fill=\"green\" r=\"-0.264\" stroke=\"green\" stroke-width=\"0\"/><text alignment-baseline=\"middle\" fill=\"white\" font-family=\"Times\" font-size=\"8.25\" text-anchor=\"middle\" x=\"2283.6\" y=\"149.325\"/><rect fill=\"green\" height=\"9.9\" width=\"26.928\" x=\"2296.536\" y=\"143.55\"/><circle cx=\"2296.8\" cy=\"148.5\" fill=\"green\" r=\"-0.264\" stroke=\"green\" stroke-width=\"0\"/><circle cx=\"2323.2\" cy=\"148.5\" fill=\"green\" r=\"-0.264\" stroke=\"green\" stroke-width=\"0\"/><text alignment-baseline=\"middle\" fill=\"white\" font-family=\"Times\" font-size=\"8.25\" text-anchor=\"middle\" x=\"2310.0\" y=\"149.325\"/><rect fill=\"green\" height=\"9.9\" width=\"26.928\" x=\"2322.936\" y=\"143.55\"/><circle cx=\"2323.2\" cy=\"148.5\" fill=\"green\" r=\"-0.264\" stroke=\"green\" stroke-width=\"0\"/><circle cx=\"2349.6\" cy=\"148.5\" fill=\"green\" r=\"-0.264\" stroke=\"green\" stroke-width=\"0\"/><text alignment-baseline=\"middle\" fill=\"white\" font-family=\"Times\" font-size=\"8.25\" text-anchor=\"middle\" x=\"2336.4\" y=\"149.325\"/><rect fill=\"green\" height=\"9.9\" width=\"26.928\" x=\"2349.336\" y=\"143.55\"/><circle cx=\"2349.6\" cy=\"148.5\" fill=\"green\" r=\"-0.264\" stroke=\"green\" stroke-width=\"0\"/><circle cx=\"2376.0\" cy=\"148.5\" fill=\"green\" r=\"-0.264\" stroke=\"green\" stroke-width=\"0\"/><text alignment-baseline=\"middle\" fill=\"white\" font-family=\"Times\" font-size=\"8.25\" text-anchor=\"middle\" x=\"2362.8\" y=\"149.325\"/><rect fill=\"green\" height=\"9.9\" width=\"26.928\" x=\"2375.736\" y=\"143.55\"/><circle cx=\"2376.0\" cy=\"148.5\" fill=\"green\" r=\"-0.264\" stroke=\"green\" stroke-width=\"0\"/><circle cx=\"2402.4\" cy=\"148.5\" fill=\"green\" r=\"-0.264\" stroke=\"green\" stroke-width=\"0\"/><text alignment-baseline=\"middle\" fill=\"white\" font-family=\"Times\" font-size=\"8.25\" text-anchor=\"middle\" x=\"2389.2\" y=\"149.325\"/><rect fill=\"green\" height=\"9.9\" width=\"26.928\" x=\"2402.136\" y=\"143.55\"/><circle cx=\"2402.4\" cy=\"148.5\" fill=\"green\" r=\"-0.264\" stroke=\"green\" stroke-width=\"0\"/><circle cx=\"2428.8\" cy=\"148.5\" fill=\"green\" r=\"-0.264\" stroke=\"green\" stroke-width=\"0\"/><text alignment-baseline=\"middle\" fill=\"white\" font-family=\"Times\" font-size=\"8.25\" text-anchor=\"middle\" x=\"2415.6\" y=\"149.325\"/><rect fill=\"green\" height=\"9.9\" width=\"26.928\" x=\"2428.536\" y=\"143.55\"/><circle cx=\"2428.8\" cy=\"148.5\" fill=\"green\" r=\"-0.264\" stroke=\"green\" stroke-width=\"0\"/><circle cx=\"2455.2\" cy=\"148.5\" fill=\"green\" r=\"-0.264\" stroke=\"green\" stroke-width=\"0\"/><text alignment-baseline=\"middle\" fill=\"white\" font-family=\"Times\" font-size=\"8.25\" text-anchor=\"middle\" x=\"2442.0\" y=\"149.325\"/><rect fill=\"green\" height=\"9.9\" width=\"26.928\" x=\"2454.936\" y=\"143.55\"/><circle cx=\"2455.2\" cy=\"148.5\" fill=\"green\" r=\"-0.264\" stroke=\"green\" stroke-width=\"0\"/><circle cx=\"2481.6\" cy=\"148.5\" fill=\"green\" r=\"-0.264\" stroke=\"green\" stroke-width=\"0\"/><text alignment-baseline=\"middle\" fill=\"white\" font-family=\"Times\" font-size=\"8.25\" text-anchor=\"middle\" x=\"2468.4\" y=\"149.325\"/><rect fill=\"green\" height=\"9.9\" width=\"26.928\" x=\"2481.336\" y=\"143.55\"/><circle cx=\"2481.6\" cy=\"148.5\" fill=\"green\" r=\"-0.264\" stroke=\"green\" stroke-width=\"0\"/><circle cx=\"2508.0\" cy=\"148.5\" fill=\"green\" r=\"-0.264\" stroke=\"green\" stroke-width=\"0\"/><text alignment-baseline=\"middle\" fill=\"white\" font-family=\"Times\" font-size=\"8.25\" text-anchor=\"middle\" x=\"2494.8\" y=\"149.325\"/><line stroke=\"red\" stroke-width=\"1.32\" x1=\"2323.2\" x2=\"2323.2\" y1=\"148.335\" y2=\"181.665\"/><text alignment-baseline=\"middle\" fill=\"black\" font-family=\"Times\" font-size=\"8.25\" text-anchor=\"start\" x=\"2724.48\" y=\"182.325\">10f</text><rect fill=\"red\" height=\"9.9\" width=\"26.928\" x=\"2322.936\" y=\"176.55\"/><circle cx=\"2323.2\" cy=\"181.5\" fill=\"red\" r=\"-0.264\" stroke=\"red\" stroke-width=\"0\"/><circle cx=\"2349.6\" cy=\"181.5\" fill=\"red\" r=\"-0.264\" stroke=\"red\" stroke-width=\"0\"/><text alignment-baseline=\"middle\" fill=\"white\" font-family=\"Times\" font-size=\"8.25\" text-anchor=\"middle\" x=\"2336.4\" y=\"182.325\"/><rect fill=\"red\" height=\"9.9\" width=\"26.928\" x=\"2349.336\" y=\"176.55\"/><circle cx=\"2349.6\" cy=\"181.5\" fill=\"red\" r=\"-0.264\" stroke=\"red\" stroke-width=\"0\"/><circle cx=\"2376.0\" cy=\"181.5\" fill=\"red\" r=\"-0.264\" stroke=\"red\" stroke-width=\"0\"/><text alignment-baseline=\"middle\" fill=\"white\" font-family=\"Times\" font-size=\"8.25\" text-anchor=\"middle\" x=\"2362.8\" y=\"182.325\"/><rect fill=\"red\" height=\"9.9\" width=\"26.928\" x=\"2375.736\" y=\"176.55\"/><circle cx=\"2376.0\" cy=\"181.5\" fill=\"red\" r=\"-0.264\" stroke=\"red\" stroke-width=\"0\"/><circle cx=\"2402.4\" cy=\"181.5\" fill=\"red\" r=\"-0.264\" stroke=\"red\" stroke-width=\"0\"/><text alignment-baseline=\"middle\" fill=\"white\" font-family=\"Times\" font-size=\"8.25\" text-anchor=\"middle\" x=\"2389.2\" y=\"182.325\"/><rect fill=\"red\" height=\"9.9\" width=\"26.928\" x=\"2402.136\" y=\"176.55\"/><circle cx=\"2402.4\" cy=\"181.5\" fill=\"red\" r=\"-0.264\" stroke=\"red\" stroke-width=\"0\"/><circle cx=\"2428.8\" cy=\"181.5\" fill=\"red\" r=\"-0.264\" stroke=\"red\" stroke-width=\"0\"/><text alignment-baseline=\"middle\" fill=\"white\" font-family=\"Times\" font-size=\"8.25\" text-anchor=\"middle\" x=\"2415.6\" y=\"182.325\"/><rect fill=\"red\" height=\"9.9\" width=\"26.928\" x=\"2428.536\" y=\"176.55\"/><circle cx=\"2428.8\" cy=\"181.5\" fill=\"red\" r=\"-0.264\" stroke=\"red\" stroke-width=\"0\"/><circle cx=\"2455.2\" cy=\"181.5\" fill=\"red\" r=\"-0.264\" stroke=\"red\" stroke-width=\"0\"/><text alignment-baseline=\"middle\" fill=\"white\" font-family=\"Times\" font-size=\"8.25\" text-anchor=\"middle\" x=\"2442.0\" y=\"182.325\"/><rect fill=\"red\" height=\"9.9\" width=\"26.928\" x=\"2454.936\" y=\"176.55\"/><circle cx=\"2455.2\" cy=\"181.5\" fill=\"red\" r=\"-0.264\" stroke=\"red\" stroke-width=\"0\"/><circle cx=\"2481.6\" cy=\"181.5\" fill=\"red\" r=\"-0.264\" stroke=\"red\" stroke-width=\"0\"/><text alignment-baseline=\"middle\" fill=\"white\" font-family=\"Times\" font-size=\"8.25\" text-anchor=\"middle\" x=\"2468.4\" y=\"182.325\"/><rect fill=\"red\" height=\"9.9\" width=\"26.928\" x=\"2481.336\" y=\"176.55\"/><circle cx=\"2481.6\" cy=\"181.5\" fill=\"red\" r=\"-0.264\" stroke=\"red\" stroke-width=\"0\"/><circle cx=\"2508.0\" cy=\"181.5\" fill=\"red\" r=\"-0.264\" stroke=\"red\" stroke-width=\"0\"/><text alignment-baseline=\"middle\" fill=\"white\" font-family=\"Times\" font-size=\"8.25\" text-anchor=\"middle\" x=\"2494.8\" y=\"182.325\"/><rect fill=\"red\" height=\"9.9\" width=\"26.928\" x=\"2507.736\" y=\"176.55\"/><circle cx=\"2508.0\" cy=\"181.5\" fill=\"red\" r=\"-0.264\" stroke=\"red\" stroke-width=\"0\"/><circle cx=\"2534.4\" cy=\"181.5\" fill=\"red\" r=\"-0.264\" stroke=\"red\" stroke-width=\"0\"/><text alignment-baseline=\"middle\" fill=\"white\" font-family=\"Times\" font-size=\"8.25\" text-anchor=\"middle\" x=\"2521.2\" y=\"182.325\"/><rect fill=\"red\" height=\"9.9\" width=\"26.928\" x=\"2534.136\" y=\"176.55\"/><circle cx=\"2534.4\" cy=\"181.5\" fill=\"red\" r=\"-0.264\" stroke=\"red\" stroke-width=\"0\"/><circle cx=\"2560.8\" cy=\"181.5\" fill=\"red\" r=\"-0.264\" stroke=\"red\" stroke-width=\"0\"/><text alignment-baseline=\"middle\" fill=\"white\" font-family=\"Times\" font-size=\"8.25\" text-anchor=\"middle\" x=\"2547.6\" y=\"182.325\"/><rect fill=\"red\" height=\"9.9\" width=\"26.928\" x=\"2560.536\" y=\"176.55\"/><circle cx=\"2560.8\" cy=\"181.5\" fill=\"red\" r=\"-0.264\" stroke=\"red\" stroke-width=\"0\"/><circle cx=\"2587.2\" cy=\"181.5\" fill=\"red\" r=\"-0.264\" stroke=\"red\" stroke-width=\"0\"/><text alignment-baseline=\"middle\" fill=\"white\" font-family=\"Times\" font-size=\"8.25\" text-anchor=\"middle\" x=\"2574.0\" y=\"182.325\"/><rect fill=\"red\" height=\"9.9\" width=\"26.928\" x=\"2586.936\" y=\"176.55\"/><circle cx=\"2587.2\" cy=\"181.5\" fill=\"red\" r=\"-0.264\" stroke=\"red\" stroke-width=\"0\"/><circle cx=\"2613.6\" cy=\"181.5\" fill=\"red\" r=\"-0.264\" stroke=\"red\" stroke-width=\"0\"/><text alignment-baseline=\"middle\" fill=\"white\" font-family=\"Times\" font-size=\"8.25\" text-anchor=\"middle\" x=\"2600.4\" y=\"182.325\"/><rect fill=\"red\" height=\"9.9\" width=\"26.928\" x=\"2613.336\" y=\"176.55\"/><circle cx=\"2613.6\" cy=\"181.5\" fill=\"red\" r=\"-0.264\" stroke=\"red\" stroke-width=\"0\"/><circle cx=\"2640.0\" cy=\"181.5\" fill=\"red\" r=\"-0.264\" stroke=\"red\" stroke-width=\"0\"/><text alignment-baseline=\"middle\" fill=\"white\" font-family=\"Times\" font-size=\"8.25\" text-anchor=\"middle\" x=\"2626.8\" y=\"182.325\"/><rect fill=\"red\" height=\"9.9\" width=\"26.928\" x=\"2639.736\" y=\"176.55\"/><circle cx=\"2640.0\" cy=\"181.5\" fill=\"red\" r=\"-0.264\" stroke=\"red\" stroke-width=\"0\"/><circle cx=\"2666.4\" cy=\"181.5\" fill=\"red\" r=\"-0.264\" stroke=\"red\" stroke-width=\"0\"/><text alignment-baseline=\"middle\" fill=\"white\" font-family=\"Times\" font-size=\"8.25\" text-anchor=\"middle\" x=\"2653.2\" y=\"182.325\"/><rect fill=\"red\" height=\"9.9\" width=\"26.928\" x=\"2666.136\" y=\"176.55\"/><circle cx=\"2666.4\" cy=\"181.5\" fill=\"red\" r=\"-0.264\" stroke=\"red\" stroke-width=\"0\"/><circle cx=\"2692.8\" cy=\"181.5\" fill=\"red\" r=\"-0.264\" stroke=\"red\" stroke-width=\"0\"/><text alignment-baseline=\"middle\" fill=\"white\" font-family=\"Times\" font-size=\"8.25\" text-anchor=\"middle\" x=\"2679.6\" y=\"182.325\"/><rect fill=\"red\" height=\"9.9\" width=\"26.928\" x=\"2692.536\" y=\"176.55\"/><circle cx=\"2692.8\" cy=\"181.5\" fill=\"red\" r=\"-0.264\" stroke=\"red\" stroke-width=\"0\"/><circle cx=\"2719.2\" cy=\"181.5\" fill=\"red\" r=\"-0.264\" stroke=\"red\" stroke-width=\"0\"/><text alignment-baseline=\"middle\" fill=\"white\" font-family=\"Times\" font-size=\"8.25\" text-anchor=\"middle\" x=\"2706.0\" y=\"182.325\"/><text alignment-baseline=\"middle\" fill=\"black\" font-family=\"Times\" font-size=\"8.25\" text-anchor=\"end\" x=\"113.52\" y=\"17.325\">2</text><text alignment-baseline=\"middle\" fill=\"black\" font-family=\"Times\" font-size=\"8.25\" text-anchor=\"end\" x=\"34.32\" y=\"17.325\">2</text><text alignment-baseline=\"middle\" fill=\"black\" font-family=\"Times\" font-size=\"8.25\" text-anchor=\"end\" x=\"113.52\" y=\"33.825\">3</text><text alignment-baseline=\"middle\" fill=\"black\" font-family=\"Times\" font-size=\"8.25\" text-anchor=\"end\" x=\"34.32\" y=\"33.825\">2</text><text alignment-baseline=\"middle\" fill=\"black\" font-family=\"Times\" font-size=\"8.25\" text-anchor=\"end\" x=\"113.52\" y=\"50.325\">4</text><text alignment-baseline=\"middle\" fill=\"black\" font-family=\"Times\" font-size=\"8.25\" text-anchor=\"end\" x=\"34.32\" y=\"50.325\">3</text><text alignment-baseline=\"middle\" fill=\"black\" font-family=\"Times\" font-size=\"8.25\" text-anchor=\"end\" x=\"113.52\" y=\"66.825\">5</text><text alignment-baseline=\"middle\" fill=\"black\" font-family=\"Times\" font-size=\"8.25\" text-anchor=\"end\" x=\"34.32\" y=\"66.825\">3</text><text alignment-baseline=\"middle\" fill=\"black\" font-family=\"Times\" font-size=\"8.25\" text-anchor=\"end\" x=\"113.52\" y=\"83.325\">6</text><text alignment-baseline=\"middle\" fill=\"black\" font-family=\"Times\" font-size=\"8.25\" text-anchor=\"end\" x=\"34.32\" y=\"83.325\">4</text><text alignment-baseline=\"middle\" fill=\"black\" font-family=\"Times\" font-size=\"8.25\" text-anchor=\"end\" x=\"113.52\" y=\"99.825\">7</text><text alignment-baseline=\"middle\" fill=\"black\" font-family=\"Times\" font-size=\"8.25\" text-anchor=\"end\" x=\"34.32\" y=\"99.825\">4</text><text alignment-baseline=\"middle\" fill=\"black\" font-family=\"Times\" font-size=\"8.25\" text-anchor=\"end\" x=\"113.52\" y=\"116.325\">8</text><text alignment-baseline=\"middle\" fill=\"black\" font-family=\"Times\" font-size=\"8.25\" text-anchor=\"end\" x=\"34.32\" y=\"116.325\">5</text><text alignment-baseline=\"middle\" fill=\"black\" font-family=\"Times\" font-size=\"8.25\" text-anchor=\"end\" x=\"113.52\" y=\"132.825\">9</text><text alignment-baseline=\"middle\" fill=\"black\" font-family=\"Times\" font-size=\"8.25\" text-anchor=\"end\" x=\"34.32\" y=\"132.825\">5</text><rect fill=\"black\" height=\"128.7\" width=\"2.64\" x=\"145.2\" y=\"9.9\"/><circle cx=\"145.2\" cy=\"9.9\" fill=\"black\" r=\"-0.264\" stroke=\"black\" stroke-width=\"0\"/><rect fill=\"black\" height=\"1.65\" width=\"26.928\" x=\"131.736\" y=\"9.9\"/><circle cx=\"145.2\" cy=\"138.6\" fill=\"black\" r=\"-0.264\" stroke=\"black\" stroke-width=\"0\"/><rect fill=\"black\" height=\"1.65\" width=\"26.928\" x=\"131.736\" y=\"136.95\"/><text alignment-baseline=\"middle\" fill=\"black\" font-family=\"Times\" font-size=\"8.25\" text-anchor=\"middle\" x=\"137.28\" y=\"75.075\"/><text alignment-baseline=\"middle\" fill=\"black\" font-family=\"Times\" font-size=\"8.25\" text-anchor=\"end\" x=\"113.52\" y=\"149.325\">10</text><text alignment-baseline=\"middle\" fill=\"black\" font-family=\"Times\" font-size=\"8.25\" text-anchor=\"end\" x=\"34.32\" y=\"149.325\">6</text><text alignment-baseline=\"middle\" fill=\"black\" font-family=\"Times\" font-size=\"8.25\" text-anchor=\"end\" x=\"113.52\" y=\"165.825\">11</text><text alignment-baseline=\"middle\" fill=\"black\" font-family=\"Times\" font-size=\"8.25\" text-anchor=\"end\" x=\"34.32\" y=\"165.825\">6</text><text alignment-baseline=\"middle\" fill=\"black\" font-family=\"Times\" font-size=\"8.25\" text-anchor=\"end\" x=\"113.52\" y=\"182.325\">14</text><text alignment-baseline=\"middle\" fill=\"black\" font-family=\"Times\" font-size=\"8.25\" text-anchor=\"end\" x=\"34.32\" y=\"182.325\">9</text><text alignment-baseline=\"middle\" fill=\"black\" font-family=\"Times\" font-size=\"8.25\" text-anchor=\"end\" x=\"113.52\" y=\"198.825\">15</text><text alignment-baseline=\"middle\" fill=\"black\" font-family=\"Times\" font-size=\"8.25\" text-anchor=\"end\" x=\"34.32\" y=\"198.825\">9</text><rect fill=\"black\" height=\"194.7\" width=\"2.64\" x=\"52.8\" y=\"9.9\"/><circle cx=\"52.8\" cy=\"9.9\" fill=\"black\" r=\"-0.264\" stroke=\"black\" stroke-width=\"0\"/><rect fill=\"black\" height=\"1.65\" width=\"26.928\" x=\"39.336\" y=\"9.9\"/><circle cx=\"52.8\" cy=\"204.6\" fill=\"black\" r=\"-0.264\" stroke=\"black\" stroke-width=\"0\"/><rect fill=\"black\" height=\"1.65\" width=\"26.928\" x=\"39.336\" y=\"202.95\"/><text alignment-baseline=\"middle\" fill=\"black\" font-family=\"Times\" font-size=\"8.25\" text-anchor=\"middle\" x=\"44.88\" y=\"108.075\"/><rect fill=\"black\" height=\"62.7\" width=\"2.64\" x=\"145.2\" y=\"141.9\"/><circle cx=\"145.2\" cy=\"141.9\" fill=\"black\" r=\"-0.264\" stroke=\"black\" stroke-width=\"0\"/><rect fill=\"black\" height=\"1.65\" width=\"26.928\" x=\"131.736\" y=\"141.9\"/><text alignment-baseline=\"middle\" fill=\"black\" font-family=\"Times\" font-size=\"8.25\" text-anchor=\"middle\" x=\"137.28\" y=\"174.075\"/></svg>"
      ],
      "text/plain": [
       "<IPython.core.display.SVG object>"
      ]
     },
     "execution_count": 41,
     "metadata": {},
     "output_type": "execute_result"
    }
   ],
   "source": [
    "tree.rejected = False\n",
    "tree.states = []\n",
    "tree.op = None\n",
    "tree.from_samples(samps)\n",
    "view = tree.renderer\n",
    "view.zoom = 1.1\n",
    "view.horizontal_gap = -0.01\n",
    "view.scale_y = 15\n",
    "view.scale_x = 24\n",
    "view.font_size = 0.5\n",
    "view.font_family = 'Times'\n",
    "SVG(view.to_svg())"
   ]
  },
  {
   "cell_type": "markdown",
   "metadata": {},
   "source": [
    "### Phi/Psi Plots"
   ]
  },
  {
   "cell_type": "code",
   "execution_count": 42,
   "metadata": {
    "collapsed": true
   },
   "outputs": [],
   "source": [
    "# Imports for plotting\n",
    "%matplotlib inline\n",
    "import matplotlib\n",
    "import matplotlib.pyplot as plt\n",
    "import matplotlib.pylab as pylab\n",
    "from matplotlib.legend_handler import HandlerLine2D"
   ]
  },
  {
   "cell_type": "markdown",
   "metadata": {},
   "source": [
    "Make sure that all phi/psi values have been computed!"
   ]
  },
  {
   "cell_type": "code",
   "execution_count": 43,
   "metadata": {
    "collapsed": false
   },
   "outputs": [],
   "source": [
    "psi = storage.cvs['psi']\n",
    "phi = storage.cvs['phi']\n",
    "opA = storage.cvs['StateA']"
   ]
  },
  {
   "cell_type": "code",
   "execution_count": 44,
   "metadata": {
    "collapsed": false
   },
   "outputs": [
    {
     "data": {
      "image/png": "iVBORw0KGgoAAAANSUhEUgAAAewAAAHaCAYAAADCCXrQAAAABHNCSVQICAgIfAhkiAAAAAlwSFlz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\ntiRJGfj/nDvBfGg+/50AAAAASUVORK5CYII=\n",
      "text/plain": [
       "<matplotlib.figure.Figure at 0x11eb709d0>"
      ]
     },
     "metadata": {},
     "output_type": "display_data"
    }
   ],
   "source": [
    "plt.figure(figsize=(8, 8))\n",
    "\n",
    "for traj in storage.trajectories[1:]:\n",
    "    phi_angles = np.array(phi(traj)).flatten() / deg\n",
    "    psi_angles = np.array(psi(traj)).flatten() / deg\n",
    "    plt.plot(phi_angles, psi_angles, 'ro', linewidth=1);\n",
    "    \n",
    "plt.xlim(-180, 180);\n",
    "plt.ylim(-180, 180);"
   ]
  },
  {
   "cell_type": "code",
   "execution_count": 45,
   "metadata": {
    "collapsed": false
   },
   "outputs": [
    {
     "data": {
      "image/png": "iVBORw0KGgoAAAANSUhEUgAAAewAAAHaCAYAAADCCXrQAAAABHNCSVQICAgIfAhkiAAAAAlwSFlz\nAAALEgAACxIB0t1+/AAAIABJREFUeJzs3XdUFcfbB/DvXi69946ggIogShTFSgRFsUfsJfYSEzUm\nakxTo1FjTGI3UWPDEmvsigoqv6iAhSLYpVkQEGlK5z7vH8i+Xik2BK4+n3P25O7s7uzsmHMepuys\nQERgjDHGWO0mqekCMMYYY+zlOGAzxhhjCoADNmOMMaYAOGAzxhhjCoADNmOMMaYApDVdgMoIgsBT\n2BljjH1QiEgoL73Wt7CJqFZts2bNqvEy8HPzc/Nz83Pzc7+fz12ZWh+wGWOMMcYBmzHGGFMIHLBf\nk6enZ00XoUbwc39Y+Lk/LPzcikF4WZ95TRIEgWpz+RhjjLGqJAgCSFEnnTHGGGOMAzZjjDGmEDhg\nM8YYYwqAAzZjjDGmADhgM8YYYwqAAzZjjDGmADhgM8YYYwqAAzZjjDGmADhgM8YYYwqAAzZjjDGm\nADhgM8YYYwqAAzZjjDGmADhgM8YYYwqAAzZjjDGmADhgM8YYYwqAAzZjjDGmADhgM8YYYwqAAzZj\njDGmADhgM8YYYwqAAzZjjDGmADhgM8YYYwqAAzZjjDGmADhgM8YYYwqAAzZjjDGmADhgM8YYYwqA\nAzZjjDGmADhgM8YYYwqgSgK2IAh/C4KQLAhC1HNpswRBuCcIwuVnW+fnjs0UBOGWIAjXBEHoVBVl\nYIwxxt5nVdXC3gDAp5z034nI7dl2DAAEQWgIoB+AhgC6AFglCIJQReVgjDHG3ktVErCJ6D8A6eUc\nKi8Q9wTwDxEVEVE8gFsA3KuiHIwxxtj76l2PYX8uCEKEIAjrBEHQfZZmCeDuc+fcf5bGGGOMsQq8\ny4C9CkBdImoC4CGA397hvRhjjLH3mvRdZUxEqc/trgVw8Nnv+wCsnztm9SytXLNnzxZ/e3p6wtPT\ns8rKyBhjjNWk06dP4/Tp0690rkBEVXJTQRBsARwkIpdn+2ZE9PDZ7y8BNCeiQYIgOAHYCqAFSrrC\nTwBwoHIKIghCecmMMcbYe0kQBBBRuROxq6SFLQjCNgCeAAwFQUgEMAvAx4IgNAEgAxAPYBwAENFV\nQRB2ArgKoBDAZxyVGWOMscpVWQv7XeAWNmOMsQ9JZS1sXumMMcYYUwAcsBljjDEFwAGbMcYYUwAc\nsBljjDEFwAGbMcYYUwAcsBljjDEFwAGbMcYYUwAcsBljjDEFwAGbMcYYUwAcsBljjDEFwAGbMcYY\nUwAcsBljjDEFwAGbMcYYUwAcsBljjDEFwAGbMcYYUwAcsBljjDEFwAGbMcYYUwAcsBljjDEFwAGb\nMcYYUwAcsBljjDEFwAGbMcYYUwAcsBljjDEFwAGbMcYYUwAcsBljjDEFwAGbMcYYUwAcsBljjDEF\nwAGbMcYYUwAcsBljjDEFwAGbMcYYUwAcsBljjDEFwAGbMcYYUwAcsBljjDEFwAGbMcYYUwAcsBlj\njDEFwAGbMcYYUwAcsBljjDEFwAGbMcYYUwAcsBljjDEFwAGbMcYYUwAcsBljjDEFwAGbMcYYUwAc\nsN9AbGwsevbsWdPFYIwx9gHhgP0GwsPDa7oIjDHGPjAcsN9AREQEmjRpUtPFYIwx9gHhgP0GOGAz\nxhirbhyw3wAHbMYYY9WNA/ZrevToEbKzs2Fra1vTRWGMMfYB4YD9miIjI+Hq6gpBEGq6KIwxxj4g\nHLBfU2RkJHeHM8YYq3YcsF8Tj18zxhirCRywXxMHbMYYYzVBIKKaLkOFBEGg2lS+vLw8GBgYID09\nHaqqqjVdHMYYY+8ZQRBAROVOkuIW9mu4evUq7O3tqzVY5+TkVNu9GGOM1V5VErAFQfhbEIRkQRCi\nnkvTFwThuCAINwRBCBAEQfe5YzMFQbglCMI1QRA6VUUZqtoff/yB06dPy6VVd3d4dnY2jI2NUZt6\nGRhjjNWMqmphbwDg80LaNwBOElF9AEEAZgKAIAhOAPoBaAigC4BVQi18Ryo8PBwJCQlyadUdsBMT\nE2FjY8OvkDHGGKuagE1E/wFIfyG5J4BNz35vAtDr2e8eAP4hoiIiigdwC4B7VZSjKikpKaG4uFgu\nrSYCdp06dartfowxxmqvdzmGbUJEyQBARA8BmDxLtwRw97nz7j9Lq1VeDNgymUxcNKW6JCQkwMbG\nptruxxhjrPaqzklnCjUQ+2LAjo+Ph66uLgwNDautDKVd4owxxpj0HeadLAiCKRElC4JgBiDlWfp9\nANbPnWf1LK1cs2fPFn97enrC09Oz6ktajhcDdk28f52YmAgfnxenBjDGGHtfnD59uswE54pUZcAW\nnm2lDgAYDuAXAJ8C2P9c+lZBEP5ASVe4PYCwijJ9PmBXp9oQsLlLnDHG3m8vNkTnzJlT4blV9VrX\nNgDnADgKgpAoCMIIAAsBdBQE4QYAr2f7IKKrAHYCuArgCIDPatXqKM+8asAuLi5GXl7eOykDTzpj\njDFWqkpa2EQ0qIJD3hWcvwDAgqq497tSUcCOi4uDubk51NTUAAALFy7E2bNnceTIkSq9f1FREZKS\nkmBpWevm4zHGGKsBvNJZBaRSqRiw09LSkJmZidu3b8PZ2Rn+/v7ieTt27MCZM2dw8eLFKr3/gwcP\nYGJiAmVl5SrNlzHGmGLigF0BDQ0NLF26FI6Ojhg9ejSKioowcOBAdO3aFRs3bkR6ejpu3bqF1NRU\nzJs3D/Pnz39pnsXFxbh06RIOHTr00nO5O5wxxtjz+OMfFSgoKECnTp2QlpaG6OhoAIC5uTmSkpIA\nlEyGU1NTQ0JCAhYvXoy6desiKCgITk5OYh5EhNu3b+PkyZMIDAzEqVOn8PjxYwwaNAhbt26t9P5b\nt27FoUOHsH379nf3kIwxxmqVyj7+wQG7AuHh4ejatSvu3LmDO3fuYM6cOQgKCoK7uzuOHTsGfX19\npKen48SJE/D29saCBQtw9epVLFq0CEFBQWKQvnv3Lvz8/NC+fXv8/vvvqFevHiZNmgSJRAKZTAYi\nKnebP38+MjIysGHDBrRr165G6oAxxlj14oD9Bnr37o327dtjypQpYlp8fDy6deuGmJgYrFmzBmPH\njkV0dDQaNWqEzMxMmJqaIj8/H8bGxpg1axbatWuHxo0b4/Llyxg5ciQaNWqE6OhoxMTEoKioSMzX\nzs4OTk5OkEqlEAQBgiDg33//BQCoq6sjKysLUum7fGWeMcZYbcCf13xN4eHhCA0Nxbhx4+TSbW1t\noaqqCldXV/Gzl71798bjx4+hq6sLd3d3/P7777C2tsa///6L+/dL1oPx8fFBjx490KRJE0RGRiIr\nKwvnzp1Dq1at4OzsDKlUiuDgYGRkZMDe3h4DBw5E27ZtcfDgQZiZmSE2Nrba64Axxljtws22csyZ\nMwczZsyAurq6XHpaWhrCw8PRvXt37NmzBwcPHsSpU6fQt29fHDt2DKamprCwsEBoaCiWLl2KLl26\nAABSU1MxefJkcVnTxo0bw8nJCbdv30ZOTg7279+Ppk2b4uLFiwgLC8OWLVtw//59NGrUCE5OTrh6\n9SocHR2rvR4YY4zVHtzCfkF4eDguXLiAsWPHljl26tQpEBGkUimioqLg7e2NRYsWQU1NDZMmTYKJ\niQmSk5MhlUrh5eUld21psP7000+xa9cuDBw4EGlpabCxsYG3tzdcXFzw999/Q01NDV999RUiIyPF\nrvKrV69Wy7MzxhirvThgP/Pw4UP89ddfGDZsGKZPn16mdQ0AgYGBUFNTw8WLF9GlSxeoqalBSUkJ\n27dvR3BwMAICApCcnIyzZ8/i448/Ro8ePcrksXLlSjRp0gRNmjSBra0tYmJisG/fPuTk5MDe3h4R\nERFo3749dHR00LZtWzg5OSEmJqY6qoAxxlgt9kFPOouNjcW///6Lf//9FzExMejSpQt69+6NTz75\nBEpKSmXOd3BwQIMGDXDo0CHs2rULfn5+cnm5u7tDQ0MDjx49Qm5uLry9vXHy5EkAwM6dO7Fr1y5c\nuHABq1evxtOnT7F582bs378fcXFxWLx4MdatWwepVAp9fX08ePAABgYG0NbWhp6eHsLDw99ZPTDG\nGKsdeNLZM0SEqKgozJkzB66urmjatClu3LiB7777Dg8fPsS2bdvQt2/fcoN1QkICMjMz8euvvwIA\nbty4gcLCQvF43bp1sXPnTty9exeDBg1CVFQUjh8/Lh4fN24cNDU10atXL3Tt2hU7d+5EUlISGjZs\nCA8PD+Tk5Igt+w0bNqB169b4/PPPsXTpUgwdOvTdVw5jjLFa7YNpYRcVFcHPzw+RkZHo3bs3unbt\nCm9vb4SHh7/SV7h2796NTZs2wc/PD8OHDwcAGBsbY8CAARg6dCiaNWsGQRBQXFwsBvz169dj+fLl\nCA0NRUpKCiZPnoy9e/fK5evq6opGjRqhoKAA+fn5SEpKwvXr17Fy5UrMnDkTGzduRMeOHaukDhhj\njNVuH/x72ESE0aNH48GDBzhw4IC4PrcgCGjWrBkuXLjw0jwiIyMxYMAAODg4wM3NDXPmzMGqVauQ\nkpICf39/SKVSDB06FIMHD4atrS3i4+PRvHlzBAUFwcXFBQBw5swZBAUFAQDWrFmDTz/9FPb29lBV\nVRW3xYsXo3Hjxti1axdGjRqFDRs2ICwsjD+zyRhjH4APPmB///33OH78OIKCgqClpSWm9+7dG/v2\n7YNMJoMglFs/oqKiIujp6UEikSAxMRH6+vpiukQiQUhICPz9/bFz5040atQIT548Qf/+/TF9+vQy\neRUWFkJHRwdpaWnQ0NAQ03Nzc2FhYYGYmBgkJCSgZ8+eaNiwIfLy8hAcHAxVVdW3rgvGGGO11wc9\nhr1y5Urs3LkThw8flgvWQEkgB/BKE7qkUinc3NzQunVr6OnpwdnZGRoaGti0aRMEQYCHhwdWrVqF\nBw8eYOrUqejatSu++uqrcvO6ffs2LC0t5YI1ABw8eBDNmjWDhYUFPDw8cOjQIVy7dg0REREV5sUY\nY+wDUdFa1rVhKynem9u1axdZWFhQbGxsuceLi4sJAPXt2/eV8luzZg0dOHCA8vPzSV1dnYKDg8nc\n3JyysrJeq1y7d++mHj16lEnv1q0bbdq0SS7t0qVLpK+vTwBoy5Ytr3UfxhhjiuVZ3Cs3Jr63XeKn\nT59Gv379EBAQgKZNm1Z4nqurK6KiolBYWPjK63VHRUVhwIABuHr1KoYOHQpbW1vMnTv3lcv2008/\nITc3FwsWLBDTUlNT4eDggHv37pXpCYiMjISXlxdycnIQGhoqjokzxhh7v3xwXeJRUVHo168f/vnn\nn0qDNQB89tlnAID9+/e/Vv6NGzcGAMyfPx+rVq1CYmLiK11bXFyMwMDAMkF3x44d6Nq1a5lgDZT8\nUXHq1CloaWmhT58+yMrKeuWyMsYYez+8dy3s5ORkuLm5YfHixRg4cOBLz79z5w7s7e0BAK96r9IJ\nao8ePYKhoSF+/PFHxMbGYsuWLXLnPX36FBoaGqV/MeHGjRtYtGgR4uLicOzYMblJZC1atMCcOXPQ\nuXPnCu979epVdOjQAa1bt8bu3btfOlGOMcaYYvmgWtiCIKBOnTpYsWIFoqOjX3p+3bp1xd/Lly9H\nWFgYnj59Cjs7O4wZMwYJCQly5yclJYm/nZycsHbtWnTv3h3BwcFl8u7Tpw+mTZuGr7/+GvXr14e3\ntzfU1dWxd+9euWB948YNJCQkwNvbu9KyOjk54cyZMwgJCcEff/zx0mdjjDH2HqlocLs2bHjDSWfF\nxcW0evVqMjIyopkzZ1JOTk6F58pkMjI3NyddXV0SBIGUlJRIIpEQAHGrU6cOhYSE0JMnT0hHR0dM\n7969O7Vq1YoAULdu3cQ84+PjaciQIaSkpERSqZS+/fZbunTpEslksnLL8MMPP9CUKVNe+flu3bpF\na9asefUKYYwxphBQyaSz966FDQASiQTjx49HVFQUbt++DRcXF3FN7xddv34dysrK+Pnnn8VK+eij\njzBixAjxnISEBLRs2RJaWlpy48cHDx7Enj17AACHDx/G+PHjkZaWhrNnzyIuLg6Ojo5wdHSElpYW\n3Nzcyu3CJiJs2bLltZYftbe3x5gxY175fMYYY4rvvQzYpczNzbFz504sWbIEo0ePxtChQ5Gamip3\nTkBAAHx8fHDw4EEAQEhICJo3b44NGzaI53h4eCAuLg6DBg0q9x4A0KtXL/z1118wMjLCuXPnoK+v\nj6KiIixatAi///47Hj9+XG4Zz549C3V19ZdOjmOMMfZhe68Ddqlu3bohOjoaJiYmcHZ2xoYNG8QJ\nZqUB+9tvvwUAHDlyBCtXrsSBAwfE6yMiIjB48GCsWrUK3333XZn8zc3NYWpqCgBwcXHB6dOncebM\nGdy6dQuNGzdGnz59sHDhwnLLtmXLFgwZMoQnkDHGGKtcRX3ltWHDWy6cUp5Lly7RRx99RJ6enhQZ\nGUna2tqUnp5ORER2dnb0/D1Lx6cBUL169cjNzY2GDBlCGhoadO7cOfFY69atxd+tWrWi8+fPk62t\nLQEgMzMzOnfuHOnr65cpS15eHhkYGFBCQkKVPydjjDHFgw9tDLsybm5uCAkJQc+ePeHp6Ym8vDx0\n6tQJ33zzjbj4SXZ2NgBg4MCBGDJkCICS17+ys7Oxe/duDBw4EC1btkRISAjs7e1Rv359Mf9z584h\nPz8f8fHxAICHDx+iV69eSE9PR1pamlxZDh8+DBcXF/6wB2OMsZd6797Dfh2JiYmYMGECoqOj0aFD\nB8TFxeHixYto1KgRWrduDTs7O8ydOxdRUVHiWHWp6OhoODk5QSIp+Zunf//++Oyzz9C+ffsy99m/\nfz969uwJqVSK8+fPo1mzZgCATz75BF27dsWoUaPe2TMyxhhTHB/817oqU1RUhPHjx+Pvv//Gnj17\n4Ovri9DQUIwfPx7Xr18vc76VlRXu3bsHbW1tnDx5Ei1atAAAXLp0CTNnzkRISIjcTHI9PT3Y2NjA\nysoKEokEFy5cQK9evfD111/jo48+QmJiInR1dd/pMzLGGFMMH9TCKa8qOjoa06ZNg7W1NWJiYvDn\nn3/Cx8cHampqqFevHgYMGCB3fr169dCjRw/cu3cP3bt3h6OjoxisAaBjx47w8vLCxIkT5a7LyMiA\ni4sL7t27B09PT1y7dg1SqRTOzs7w8fF5o2Cdk5OD8+fP48GDB2/28IwxxhTOq33t4j2RlpaGf/75\nBxs3bkRSUhKGDRuG06dPo379+iguLsbRo0exZs0a/Pfffxg4cCDCw8MRFhaGSZMmwdfXF4sWLYK6\nujoOHjyIO3fuwMHBQfyW9vTp0zF58mTxO9nPy8zMRHp6OuLi4qCvr48VK1Zg/Pjx0NbWfmmZZTIZ\nbt68idDQUISEhCA0NBQ3btxA/fr1ER8fDxsbG3Tp0gVdunSBh4cHlJWV30XVMcYYq2HvfZd4UVER\njh07ho0bN+LkyZPw9fXF8OHD4eXlBSUlJdy9exfr16/HunXrYGlpibFjx6J///7Q1NQEABQWFsLI\nyAgtW7ZEVlYWli1bBnd3d7l7tGjRAgYGBrC2tkZqaioCAwPlusUbNWqEW7duwdvbG4cPHxbTnzx5\ngtzcXBgbGwMAcnNzER0djcjISERERCAyMhKRkZEwNDREy5Yt0aJFC7Ro0QJNmzaFmpoaioqKEBoa\niqNHj+Lo0aOIjY2Fl5cXunTpgs6dO8PS0vKt6o4xxlj1+iDHsG/fvo0///wTW7ZsQd26dTF8+HD0\n69cPenp6yMvLw7Zt2+Dv74/IyEgMHDgQY8eOhaura7l5+fn5wdfXF6mpqfjjjz+goqKCu3fvwsTE\nBI8fP4anpyciIiKQlpYGOzs7ZGZmIi0tDTo6OsjKyoK/vz+GDRuGBg0a4OrVqwCA+Ph4+Pr6wsrK\nCkZGRoiIiEBcXBzq168PV1dXNGnSBK6urjAwMEBmZma5k9le9PDhQwQEBODo0aM4ceIErKys0KVL\nF/Ts2RMeHh5vVI+MMcaqT2UBu8bfta5sw1u8hz158mSSSCS0ZcsWMS0rK4sWLVpE5ubm5OvrS3v2\n7KHc3NyX5rV+/Xrq27cvERGdOnVKfOe6fv36ZGpqSgEBAWRkZEQXLlyga9eukZ+fHwGgJk2akIOD\nA7Vp04aUlZXF97Tx3DrlAwYMoI0bN1JERATl5+eL9ywuLqYVK1aQlpYWzZs377Wfv7CwkA4fPkx6\nenpkY2NDhYWFr50HY4yx6oVK3sOu8aBc2fY2AVsmk9HmzZvJ1NSUpkyZQr/99hsZGRlR//79KSIi\n4rXySkpKIj09PSooKCAioo4dO4oBV19fnwBQr169aMmSJTR58mRSUlKSC8oASF1dnTw8PMR9JSUl\nMjIyouLi4jL3u3btmrgYy7Bhwyr8aEhlwsPDycLCgsaNGycuDMMYY6x2qyxgv7dd4qUePXqEr7/+\nGnv27IGbmxvOnDnzRvk0a9YMixcvxqlTp/DTTz9BEARIJBIUFxcDAHx9fWFnZwc7OzsEBgbi6NGj\ncHZ2hr29Pfbt2yfmo6mpiadPn8LQ0BAmJiZiFzkAFBQUYNGiRViyZAny8vLQqlUrHDp0CCoqKq9d\n3qFDh8LFxQXTp09/o+dljDFW/T7ILvEX7d+/n6RSKbVv354ePHhQ5rhMJiMfHx/q06cPPXnypMzx\nH3/8kcaNGyfXau7atav4+9dffxVbwj///HOZFjYA0tXVJS0tLVq3bh0pKSmRoaEhBQYGEhFRaGgo\nubi4kK+vL40dO5aaNm1KWVlZb/SsmZmZpKurSykpKW90PWOMsZqBD7FLvDy7du0ifX19MjIyoj//\n/JPu3btHW7dupVGjRpGhoSEJgkBmZmbk6OhIly9flrs2NDSUVFRUyg3Ez29t2rQhY2NjubSGDRsS\nABIEgY4fP05ERFeuXKEDBw6QsbExjRkzhkxNTWnr1q20fv16srW1LfePilf1999/U8+ePd+qrhhj\njFW/ygL2B7Vwip+fH3x8fGBtbY0vv/wSderUwfr162FtbQ2ZTIZPPvkEHh4emDVrFjp16oQlS5aU\n/uGAZs2aoX79+ujTpw9GjhwJAwMDuLu74/vvv4eampp4j//++6/MJzzV1dUBAIsWLULHjh0BAM7O\nzlBTU0NqairWrl2L6OhoGBgYYObMmTh69GiZpVBfx6ZNm/Dpp5++8fWMMcZqoYoieW3Y8A6+1pWW\nlkarV6+mCxcu0IoVK8jQ0JAA0I8//ii2iImI7ty5Qy1atKAuXbpQcnIyEZV0my9fvpwA0NChQ6lR\no0a0cuXKSlvcpqampKOjQ40bN6aFCxeKZfj000+pTp069M8//5C1tTUtXLiQjI2N6ezZs2/1fLGx\nsWRkZCQ345wxxphiAHeJV6w0UNetW1cMsocOHSIiooKCApo5cyZZWFhQQEAAERE5ODgQAPrzzz8J\ngLgPgGbNmkWTJk0iiUQiF7SDgoLIxMSE3N3daceOHWRubk5ffPGFOEa9atUqAkCbNm166+eZPXs2\nffHFF2+dD2OMserHAfsFO3bsoJCQEIqLiyMtLS1ycHCgevXqiYHb2NiYrl27Jp4fGBhIlpaW1K9f\nPzEIl45TW1hY0DfffEOxsbFkZWVFGzdupIkTJ8oF7KtXr1KjRo1IW1ubGjZsSOfOnRPzTklJEYP+\n6NGj3+q5iouLyc7Oji5evPhW+TDGGKsZlQXsD2oMu1RoaChatmyJpk2borCwEMOHD0dMTAyAkrHq\nBQsWoGfPnsjIyAAAdOjQARcvXpR7Peuzzz5D3bp18eDBA4wcORLXrl2DnZ0dhg8fjpUrV0JNTQ1u\nbm4AACcnJ6Snp8PHxwfh4eHiqmM5OTno3r07/Pz8kJmZiRMnTuDYsWNv/Fz//fcfNDQ0xPsyxhh7\nf3xQH/8oNWfOHOzduxf6+vooKCjAli1bYGZmBqBk7fBRo0YhIiICgwcPxoEDB1BUVITt27dDQ0MD\n9evXx9WrV2FhYYHHjx8DABwdHVGnTh08evRIvMeAAQPQtWtX+Pv7o0GDBigsLMTGjRtLew5QVFSE\nAQMGoH79+vj5558hCALWrVuHESNG4MqVK9DT03vt59q0aROGDx8OQSj/FT7GGGMKrKKmd23Y8A7H\nsE+ePEnW1taUkZFBJ0+eJB8fH7lJZwUFBdS+fXuys7MjOzs76tq1K0VHR1NMTIy4clnpKmcA6OjR\no3LLjRobG9PWrVvJ0NBQXB61Q4cOtGvXLpLJZDR27Fjq2LFjmclhEyZMoBEjRlBkZCRNmDDhlZ/n\nyZMnpKen91avgzHGGKtZ4DHs8o0ePZrGjRsn7j8fsIODg8WJaGPHjhXPSUhIKDMT/IcffiizPviR\nI0fIyMiINm/eTPXq1aMpU6bQunXrqFOnTtS3b19yc3Mrd2GU7OxsMjMzExdaeVX+/v7k6+v7FrXB\nGGOspnHArkBGRgZZWVnRqVOnKCUlhQCQqqoq9ezZk2xsbMjf358uX75MRkZG4kIqZ8+eJQBkZmZG\nzs7OpKysTFpaWmWCeGnarFmzKC0tjTp16iQemzx5MuXk5JRbpqioKLl8HBwcaOLEiXTgwAHKzs6u\n8Fm8vb1px44d76SeGGOMVY/KAvYHOemslK6uLlatWoXRo0fjl19+AQDk5+ejVatWuHHjBvr164em\nTZti1apV6N27N3799Vdx4RMHBweoqqqisLAQT548KZN3adqcOXPQrl07nD17Vjymra0tLqZSKiYm\nBlKpFI0bNwYASCQl/zQLFiyAtbU1/vjjD5ibm+Pjjz/GwoULER4eDplMBgC4e/cuLl++jB49elRx\nDTHGGKs1KorktWFDNbyHTUQ0cOBAAiB+TYuIaNCgQQSA7t69S0Ql7ze7ubmRnp4eAaB58+bR5s2b\n5VrD9evXf+nSpQBoxIgR4r3XrVtX7vG+ffuK+0+fPiWiku7ygwcP0ueff04ODg5kYmJCQ4YMIScn\nJ+rdu3e11BVjjLF3B9wlXrkTJ04QADp37pxc4Fy2bJl4jkwmI09PT/rjjz8IAO3atYsePHggt2iK\nTCYjQRCgyOPrAAAgAElEQVRIXV39pUH79OnTcvs7d+4Uf5d+iKR039fXt9xPbMbGxtLq1avF85o0\naUIzZsygoKAgXumMMcYUUGUB+4PuEgeAUaNGYejQodDV1UWrVq3E9ISEBHzxxRfi/vr16/HkyRMx\nLS0tDdOmTUOfPn0AAK1atUJBQQGkUinmzp0rXtezZ09oampCTU0NSkpKYrqnpycAoEGDBrC0tMTo\n0aMBlHSlC4KAxMRE6OvrAwCOHDmCyZMni++Fl7Kzs4OrqyscHR1RUFCA5cuXQ1lZGTNmzICxsTG6\nd++OFStW4Pbt21VYY4wxxmrCe/897Jfx8PBAVFQUZDIZ8vLyAACqqqqwsLCAq6srGjdujAYNGmDy\n5Mk4ceIEXF1dIQgCxowZg2PHjiEmJgYuLi64dOkSiAjGxsZl7hEWFoYxY8YgMjJSTJs/fz6+/fZb\ndOvWDREREbh37x7OnTsHDw8PEBF0dHRgaWmJGzduyOX1Yn1MmDABly5dQqtWrZCWliZusbGxePTo\nEQRBgIWFBa5fvw4tLa13UIOMMcaqSmXfw/7gA3bDhg1x/fp1AMCSJUswa9YsLFmyRAzkkZGRiIyM\nRMeOHTFp0qTScsHIyAirVq1C3759AQCpqalwc3PDvXv3XnpPbW1tZGdnAwDq1KmDcePGwcnJCT17\n9kR+fj6+/PJLrF69usLrw8LC0Lx5cwDA9u3bERMTA0NDQxgaGsLAwED8bWhoCD09PbmWPWOMsdqr\nsoBd4+PUlW14x2PYKSkppKSkRADo/v37RFSyoMr169crvQ4A6evr0+bNm2n//v3UsmXLcsepJ0yY\nIP4+e/Ys7dq1iwDIfRzE0dGRbGxsaOnSpeTl5SV3/cyZMwkA2dnZ0bRp0+SOdezYkU6fPl3u2DZj\njDHFhJqcdAYgHkAkgHAAYc/S9AEcB3ADQAAA3QqufWeVcvbsWbK2tiZra2s6efJkpeeGhoYSAHry\n5AlRScEIAAmCIP6eMWMGhYWFUcOGDQkAeXp6Uk5ODvn7+5OXlxcNGjSI5syZU+EkNBUVFZJKpQSA\nDhw4QEQlk+FK77FixQoaPHiweP6XX35J9vb21Lp1azp8+DAHbsYYew/UdMCOBaD/QtovAKY/+z0D\nwMIKrq3yypDJZPTbb7+RlpYWbdiwgdq2bUsnTpyo9JqsrCwxUKakpNCxY8cIABkaGpKlpSXt3LmT\nUlNT6fz58+J5z3/tKycnhzp37kw2Njbi6mm6urqkqakpF/QBULNmzah9+/ZERHTp0iUxvVWrVpSX\nl0dOTk5i2t27d2n79u3k4uJCTZs2pV27dlFRUVGV1xljjLHqUVnAfudj2IIgxAFoRkRpz6VdB9Ce\niJIFQTADcJqIGpRzLVV1+dLS0tC2bVtkZmYiNzcXmZmZkMlkUFFRgbq6eoVbVlYWQkNDAQBxcXGw\ns7MDABgYGEBNTQ1r1qyBuro6vLy8AJSdHLZ27VqMHz9erHgvLy9ERETAyMiozMSy+fPnY+bMmdDT\n00NmZiYAQEVFBfn5+UhLS4ORkZF47uXLlxEeHo6ff/4ZsbGx+P333/Hll19WaZ0xxhirHpWNYVfH\n17oIwAlBEIoB/EVE6wCYElEyABDRQ0EQTKqhHAAAQ0NDXL16Vdz39vbGjBkz0KZNG+Tl5SE3N7fC\nLSwsDAsWLMDp06ehrKyMwsJCyGQyPHjwAAYGBkhLK/mbxM/PT74CiPDTTz9BVVUVxcXFKCgoQGBg\nIB48eICePXuiW7du2Lx5M3bv3o2xY8di27ZtkMlkYrAGgIKCAly9ehU5OTmYOHEiVq5cCQBwc3OD\nn58fvvrqK7Ru3RrOzs7VUIuMMcaqXUVN76raAJg/+68xSsax2wJ4/MI5aRVcW4UdDeXz9vamgICA\nVz7/wIEDZG5uTjo6OnJd2bq6uuLvr776ii5dukQFBQVEVNK1ra+vTxKJhCQSCbVo0YLatm1LRETN\nmzen8+fPU35+Pjk6OpK/vz9ZWVmVmZxWurm4uNCECRPkJrSZmZnxGDZjjL0HUEmX+DtvYRNR0rP/\npgqCsA+AO4BkQRBM6f+7xFMqun727Nnib09PT3HBkaoikUjKdF9Xpnv37rh58ybmzJkjl25ubg5b\nW1tERkZi69at2Lx5M7Kzs2FmZoakpCQIggCZTAapVIrExEQsW7YMZ86cwY0bN1CvXj0sWbIEjo6O\nGDJkCPz8/KCnp4f8/Pwy97e3t4e7uzs6deqE5s2bY+TIkXj48CE8PT1x5syZt64Pxhhj1ef06dM4\nffr0K537TsewBUHQACAhoieCIGiiZGb4HABeKGll/yIIwgyUTEr7ppzr6V2WDwA6d+6MyZMno0uX\nLq98DRGhefPmuHTpkphmZWWF7OxsGBgYwNnZGQcPHoSNjY24IEtaWlq5fxiMHj0aAwcORJ8+fRAW\nFgYACAoKwl9//YXw8PAy59epUwfu7u44efIkrK2tERUVJR779NNPsXHjxtd4esYYY7VJZWPY73pp\nUlMA/wmCEA4gBMBBIjqOklniHQVBuIGS4L3wHZejQs8q57WvycrKAgBYW1sDADIyMpCZmYkWLVog\nICAAAJCYmIi0tDQ8fvwY6urq4he4BKHk38LR0REpKSnw8vJCRkYGnJ2d0aRJE+zevRtmZmaYPn06\nvvrqK7l7JyQkQEtLCxcuXMDIkSNhbm4OoKSFv2nTJvzwww9vXhmMMcZqr4r6ymvDhmoYw/b19aVD\nhw7JpclkMoqMjKS5c+dSy5Yt6eDBg3LHg4KCxPHjF8eZ1dTUyNHRUS5NS0uLfHx8yMjISPyYx/nz\n5yk+Pl5cLMXFxYUEQaCmTZvS1KlT5T7oAZR9b1tZWZkkEgkpKSlR586diajki2L6+vrvvM4YY4y9\nG+CPf1SsdGy5sLAQq1evRv369WFnZ4devXohLS0N7u7u2LFjBwBgxIgRWL16NQYNGgQTExPo6+uL\nLexSeXl5iI+Pl0szNzdHQEAAHj16BEtLS+zduxePHj2Ct7c3AgMDAQBDhw7FlStX8PHHH2Pr1q3i\ntREREeWWu3SGulQqRUBAADZv3oxZs2bh8ePHVVg7jDHGao2KInlt2FANLWxbW1vS0NAQv3MNgNau\nXSvOuo6NjSVBEMjV1ZV69+5NAKhevXqkra1dbsu3tNVb3jEA9PHHH5Oenh6ZmZmRubk5AaDRo0fT\n7t27ycHBgfr3709btmwRz582bZq4uErpSmilrfopU6bQlStXaNKkSaSsrExJSUnvvL4YY4y9O6jJ\nhVPeRnVMOhMEAcbGxoiMjISRkRFMTEygqqqKCxcuiK1nS0tL5ObmIj09/ZXyVFZWhomJCe7fv1/m\nWJ06daCnp4eUlBR88sknSE1Nxc6dO8vN5/mPhAAlM9plMlmF93V0dCyzCAtjjDHFUZOTzhRCu3bt\nYG5uDmVlZXTr1g3a2tro2bMnnj59CgDo3bs3evXqVeH1y5Ytg7q6urhfWFhYbrAGgLt37yIhIQHD\nhw+HnZ0d2rVrhz59+kBFRUU8Z+LEiVBWVsaTJ0/QuHFjMf3x48cICwtDeno6bt++DXV1daiqqkJZ\nWRl169ZFbGwspk2bJp5/6NChN64TxhhjtUxFTe/asKEausTnzZtHFy5cEPf37NlD3t7eNHToUOrb\nty/JZDLav38/2djYkImJSYVd3R999FGFx8rbfv75Z/Ge33zzTZkPihgZGVFgYCDdvXtXPNagQQPS\n0NCgcePGUUREBDVu3JjWrl1LTk5OlJ2dTevWrSNBECgsLIxyc3MJKPmqWG5u7juvR8YYY28PNfnx\nj7fZqiNgv+jJkyekra1NSUlJ1LJlS5ozZw5lZWWRlpYW6enpyc0KV1ZWfqXgrKKiQgDIxMSEFi5c\nSCYmJtS8eXPKzMykmTNnkqWlJdnZ2cld8+WXXxIR0ZgxY8S0X375hZKTk8nAwIC2b99Obdq0IZlM\nRiNGjKABAwaQTCYjb29v0tPTo/z8fHJ3dxfHvM+dO1ftdckYY+z1cMB+TT169CB/f39KSkoia2tr\n2r17N7Vu3bpMIP7nn39eq1Vd3iaRSMRWdWkLvvSPAhUVFZoxYwb99ddfJJVKKSwsjIiIfvzxR/Ly\n8qKuXbsSUcnXwJo2bUpLly6l/Px80tXVFV/1UlNTE+/17bff1kh9MsYYezWVBewPftJZeTZu3IjV\nq1dj3759SEpKgo+PD6ysrBAREQGpVIqioqLXzlNJSQk2Nja4desWjh8/jmHDhkEikSAlJQUmJiZw\ncXGBqakpiouLsWPHDrRr1w5hYWHIy8sDAJiammLTpk3w8fFBRkYGbGxs0K5dO3GcOjY2Fh4eHti7\ndy8kEglat26NjRs3okOHDnKvnrm5ucmt0MYYY6z24Elnr2nQoEHw8vKCq6srLl26hJUrV4rvQ5eu\nYlZKQ0MDqqqq+O677yrNs7i4GHFxcZBKpfD19cWjR4+QlpaGFStWIDk5GQcPHkRCQgIsLS3h7e2N\n4OBg9O7dW7w+OTkZY8aMQVFREfT09PDxxx/LzQivW7cu1q9fjwEDBuDUqVMQBAHHjh2DlZWVuPqZ\nqqoqLl++DC0tLWRkZFRVdTHGGKsGHLDLoaKigvnz5+PkyZNYt24dVq5cidatWwMA/vnnHwAl38G2\nsLCATCaDnZ3dG7W6i4uLMXfuXIwdOxYqKirQ0tLCvn370LlzZ7i6umL79u3o3LmzuBDL3bt3oaKi\ngmnTpuGjjz5CUlISoqOjxfzat28PAPjuu+8wc+ZMbNu2DRcuXBDXF8/Pz8eyZcuQk5MDAwMDHDt2\n7C1qiTHGWLWqqK+8NmyooTHs5xUVFdGyZcvIwMBAHAtWV1enIUOG0A8//EAAyNbWVjymq6tLampq\npKGhUenYta2tLd2+fZs+++wzUlZWJlVVVQJAwcHBZG1tTa1atRLPXbduHbVt25Y2bdpElpaWYrqD\ngwN98sknRER05MgR0tDQIGNjY2rVqhVNnz6d1qxZQ/r6+gSA/P39SVlZmZSUlCg9PZ00NTUJAE2Y\nMKGGa5gxxlgp8KSzt5eYmEht2rQhAGRubk5NmjShsLAwqlu3Lqmrq4tB9OrVq2RhYVFpsDY0NCQ1\nNTVKSUkhmUwmnr906VIiKplUpqSkRPv27SNTU1NxNbR+/foREVFgYKBcfp6eniQIAvXv35+Ki4vp\n3r174rFRo0ZRx44dSSaT0fXr1wkA2dvbExGRm5sbASBHR8caq1fGGGP/jwN2FZHJZLRq1SoCQEpK\nSnT//n0aMmSIXPAkIho/fnylr3eVBv1mzZqJQbNNmzakqalJ//33HwEgU1NT0tfXp7CwMNLR0RGv\ny8rKIiKiFi1ayOWtpaVF48ePp0uXLlGzZs3kWv137twRn+Hbb78lADRz5ky5fVVVVV7alDHGahgH\n7CoWGhpK2traZGlpSX369JF7N7tly5Zid3jp61ov21RUVMjV1ZVUVFRISUmJ+vfvL6arq6tTSEiI\n2GU+f/58IiJycHCoML/FixeTTCYT9588eSJX/tJrr1+/TkRE586dE59h69at1V6fjDHGSlQWsPm1\nrjewZ88ebN68GV999RX8/PyQmpoK4P+/ra2iooKCggIAJTOz8/PzxWO6urrIzMyUy09FRQVFRUWV\nrhNuZ2eHuLg4AED9+vXLrBmurKyMwsJCACWvkOnr66O4uBi+vr4gImzZskX8DndRURHU1NQgkUjE\ncubl5cHCwgLp6eno16+f+IUyxhhj1Ydf66pi0dHRcHZ2Rrt27TBhwgQxXRAEuLm5obi4GC4uLvDw\n8EBAQACGDh2KBg0aAECZYA0ABQUFYrAeP358ufcsDdYAygRrT09PMVgPGTIExsbGePToEdLT07F1\n61Zs27YNZmZmuHDhAgBAKpUiLCwMhYWFcHZ2BgCoqanh8ePH+Pjjj7Fz505YW1u/0cx3xhhj7wYH\n7DdQGrABICoqSkyXyWS4fPkyfv31V+zZswfJyclwcnJCUVER8vPzceTIESgpKVWa959//gk9PT2o\nqqpCS0sLhYWFmDp1arnnNmjQAJqamrh8+TI0NDQAAGfOnEGnTp0wceJE6OnpieempKTA3d0dgiBA\nV1cXc+fOxYgRIxATE4OFCxeK5wUFBWHx4sW4d+8e1NXVcfv27TeuJ8YYY1Woor7y2rChlo5hN2jQ\ngKKioig1NVVuItnEiRPJzc2NZDIZPX36lKRSKZmYmNDXX39NkZGRZcaaFy5cSJMmTRInjb14HADV\nr1+f5s6dW+4xPz8/atCgAUmlUpo+fbqYrqGhIY5Jb9q0iXJzc0lXV1futbQX8xo0aBBlZ2eLzxgd\nHS1+13vFihU1WNuMMfbhAE86qzq5ubmkpqZG+fn5tGrVKhIEgerVq0epqank5ORER44cofj4ePLx\n8SElJSXavn07TZw4kQwNDemnn34ie3t7uUCpr69P+vr6ZG9vT/Pmzat0opqysjKZm5uL+6Uf99DT\n06MpU6ZQo0aNxGNSqZTi4uLkyu7l5SUX7P/3v/9Ry5Yt5e4hkUjIxsaG5s2bR4WFheL9fHx8aqbC\nGWPsA1JZwOZJZ68pMjISgwYNQkxMDG7evIm5c+fC2dkZVlZWWLJkCTw9PbFhwwZ8/vnnmDNnDgBg\n8uTJ+P7777F06VIcO3YMkZGR4pjzi4YNG4bt27fLHS+dsPa6zMzMkJSUJO4XFxejc+fOOH/+PJ4+\nfQoVFRUEBgYCANq2bQsLCwvo6uri1q1b4vi1VCqFIAgoLCyEkZERkpKSIJVKX7ssjDHGXo4nnVWh\n58evHR0dkZubCysrK8yePRvR0dFYvHgxlJSU8OeffwIABg4cCE1NTWzYsAF//fUXevToAXV1ddja\n2qJTp05l8t+8eTOkUik6duwopr3pHy3/+9//5PaVlJSwbds2GBgYYN68eQBKAvXUqVMxYsQIPHjw\nABMmTEBhYSFWr14NDQ0NFBUViX88PHr0CGpqam9UFsYYY2+HA/Zrej5gA0BCQgLi4+ORnJyMiRMn\nAiiZ4JWdnY1evXohOjoakZGRmDVrFp4+fYo//vgDeXl5YtAGSgLp8xPEDhw4gJs3b75VOdXU1KCi\nolIm3djYGLt27cLSpUsRExMDPz8/ufXGJ02aBEEQMGHCBOTn58PBwQHr1q0DULJWuaur61uVizHG\n2BuqqK+8NmyohWPY3bp1o+3bt1NUVBTJZDIyNjamGzduUHJyMhUVFVFISAgVFRXR3LlzSSKRUL16\n9ahjx440YsQIKi4upsOHD4uLqpROWGvcuDFNnTpVbgIbALKxsSFXV9cyY9ml64BXtpmampKenh7t\n3buXZDJZmeeYN29ehZPdBEGg3NxcufMBUGBgYHVVM2OMfZDAY9hVx87ODvr6+oiNjYWJiQliY2Px\n+PFj6OjolDn33Llz+PTTT5GdnY2bN29CR0cHMpkMampqEAQBTk5OiIqKgoGBAYCSLmcAcHBwQFRU\nFAoLC2FmZoacnJxXLl///v3FRU8MDQ1hZmYGU1NTLF68GLt27cKGDRuQnJxcbje7IAgwMjJCamoq\n2rVrhzNnzsgdCwsLQ/PmzV+rvhhjjL06HsOuItnZ2YiPj4eOjg4ePnyIDh06QCaToU6dOpgyZUqZ\nbmx7e3skJibCx8cHf/31F3x9fWFsbCxO4srLy4NMJsOjR4/EYA0AGRkZGDVqlDhp7XWUButx48ah\ne/fuOHXqFAoLC+Hm5oYFCxbg4cOHEAQB2traaNiwIQDg22+/BRFBJpMhJSUFfn5+CA4OFrvJS5W+\n680YY6wGVNT0rg0balmXeGJiIrVu3ZoeP35MRET79u0jJSUlatKkCU2bNo1MTEyoY8eOtG/fPios\nLKTmzZuX213t4eEht6+trU2CIFT4LnbpVvpedHmbVCotk2ep9PR0+v7772nYsGFkbGxMS5cupYKC\nAiIiunnzJhkbG1NISIjcs5Z+TjQ9PZ2ISrpp7t69W001zRhjHybwe9jvxpo1a8jR0ZEEQaCRI0dS\nbm4u+fv7U8uWLUkqlZKysjIBoK+//pp27dpFPXr0KBNoVVVVxXev1dXVxQVPZs+e/dJx6ucXQylv\nK090dDR17NiRGjZsSAEBAURU8oeHtbU1paSkiOdlZ2eTIAiko6NDRCX/Ez2/sApjjLGqV1nA5i7x\nt5CQkIA2bdrAysoKYWFh+Pvvv9G2bVtMnDgRMplMfB1q8+bNsLa2xv79+8uMR+fn54Oo5KMgRUVF\n6NmzJwBg9uzZL71/3bp1QURYs2ZNmWPlzRAHgEaNGiEgIAALFy7EZ599hh49esDJyQmDBg3CoEGD\nUFxcDADQ0tLCzp07kZWVBV9fXwDgV7oYY6wGccB+C6UBW1VVFd988w0+//xz2NraYvHixeLHPLS0\ntJCSkoL27dujS5cuFY4DN2/eHMXFxXBzc5NLt7OzK/d8QRDQtm1bAMCYMWOQkZEhd7z0K1wVXduj\nRw/ExMSgbdu28PDwQEFBATIyMjBr1izxPD8/P3Tp0gVHjx4FAF4whTHGalJFTe/asKEWd4nn5ORQ\n48aNKSgoiAYPHizXFR0bGyt+c9rFxYUaNGhAycnJL+3ifnFTUVGhzz77rMLjYWFhcmV6+PCh3PEh\nQ4a80rMkJSXRyJEjxdfKDhw4IHdcR0enwi52xhhjVQfcJV61IiIi0KxZMzg6OiI4OBhbt24FAOTk\n5GDRokXo27cvzp8/DwC4cuUKrl+/jv/9738wNjZGdHQ0CgoKxO7l6dOnl8lfS0sLQEkredeuXRWW\nIygoSPxdUFCAPn36AChZgQ0AtmzZgsOHD7/0eczMzPD333/j7NmzaNWqFYYOHSq3pGlCQgLatWv3\n0nwYY4y9OxywX4NMJsPixYvRqVMnDBgwADdv3sS+ffvg7+8PALCyskLHjh3h4OCAL774Qu5aPz8/\nuLu7Q19fH9evX0deXh4AYNasWSguLoampqZ47pMnT8TfqampkEjK/2d6/rylS5fi7NmzAICtW7eK\nXeTdunXDhAkT8PTp05c+X7NmzfDff/9h69atcuXR09OTeyebMcZY9eOFU17DwYMHMXXqVHh5eeHf\nf//Fb7/9hgkTJqBTp04QBAF79uwpc83zH+5QUlKCpqYmNDU1oaOjg7i4ONSpUwfu7u64c+cOQkJC\nyr2vRCIRx8SVlZXFyWyjR4/G2rVrAQDp6eniAiympqYYOHAgoqKiYG1tDZlMhpCQEGzZsgXu7u5V\nXi+MMcaqBi+cUkWioqLw4MEDZGZm4sqVKxgyZAgkEgn279+PlStXQk9PD8HBwVBWVhavKQ3W33zz\nDVRVVZGVlYWkpCTcuHEDBQUFaNasGf755x+0aNECEokEOjo6ZWZ4lwZrVVVVxMbGiukbNmwQZ3Xv\n3bsXQEmLOjg4GDo6Ojh//jw2bdoEFRUVCIKAFi1aYPz48eKXuBhjjCkObmG/gszMTMyYMQN79uyB\nmZkZrly5gvPnz8PLywu5ubkASmZzN2vWDO7u7tDW1sbEiRPFYFrK09MTp0+flksTBAGHDh3C2rVr\nsW/fvkrLsWPHDvTr1w+C8P9/fHl4eMDQ0BCHDh0CACQnJ8PExAQymQxnzpxBhw4dyuTj7u6OLVu2\nwMHB4U2qgzHG2DtSWQubA/ZLBAcHY/DgwfD19cWAAQMwffp0XLhwAQUFBTAwMCh3bFhTUxN5eXll\nAjZQMh6cm5uL/Px8MU0QBNja2iIuLu6l5UlKSoK5uTmAkqVPb9++LR7z9/dH27ZtsWnTJmzcuBGa\nmppIT0/H/fv3sWLFCtSpUwdbt27Fvn37IJFIsHz5cowcOfJNqoUxxtg7wF3ibyE5ORmCIODixYsI\nCgoSJ3OpqKjg77//Fn9LpVLxwxgWFhZy7ywLggCJRAJVVVW0atUKysrK4vvY5ubmICIkJiZCIpFA\nXV290vKUButSpfdZuXIlNm7cCFtbW8THx2Pnzp0YPnw4ZDIZTE1NAZR0l2/fvh0pKSlYvXo1rl27\nVgU1xBhjrDpwC/sVFBcXIygoCMuXL8ehQ4fQv39/9OnTB507d4a2tjaAkm7mqKgoTJ8+Henp6cjJ\nycG9e/cQEBCAqVOnQklJCSkpKdi4cSPS09Px+eefY9u2bVBSUgIRQVNTE9nZ2VBWVoaOjg7S0tJe\nuXw6Ojrw8PDAiBEjMGDAAABA3759cfPmTRw4cAD379/HoEGDcOvWLV78hDHGarHKWtg1vjhKZRtq\n2WId6enppK2tTcuXLydNTU2SSCTiBztK1wMfPHgwGRkZ0axZs2jmzJkEgGxtbcvkFRgYSADop59+\nKvMd7PI2fX39ctMHDBhAiYmJYr5ZWVnisefX/m7bti1t3769WuqJMcbYmwEvnFI1NDU1kZOTg4kT\nJ6Jz586QyWTiu9D0rCdgx44dcHJyQkZGBuLj46GsrIz4+HhcvHhRLi81NTWoq6tj2bJlCAoKElu+\nnTp1kjuvdIZ3enp6uWXy9/eHtbW1uK+trY3Hjx/D1dUVv/76q5g+ffp0/PLLL2I5GWOMKRYO2K9B\nWVkZUqkUqampSE1NLfecoqIimJqa4tKlS4iLi0O/fv0AACNHjpRb3/vJkyfIzc1FixYtMGbMGAwd\nOhQAcPz4cbn8DA0N0aBBA7k0Ozs78dWv4ODgMmXQ19fH8ePHsWPHDixatAgA4Ovri8LCQpw4ceIN\nn54xxliNqqjpXRs21LIu8by8PAJAEomE2rRpQyoqKqShoSHXJV66aWpqkrGxMe3cuVMuvXXr1mRo\naCiXZmZmJrf/Yl5KSkpy39bW1NQkOzs7AkAODg5UWFhIxcXFNHXqVLp+/bpY3nv37pGdnR2tXLmS\niIg2btxIXl5eb10Pjx49ojVr1rx1PowxxuSBu8Srxrp16wCULFKyY8cOFBQUwNnZGRKJpMxkrqdP\nnyI1NVVc4rP0neeMjAz4+vqKX9pq3rw5Hj58KHctvdBtXVxcjAsXLsjlff/+fTG/iRMnQhAErF+/\nHiIX1/AAACAASURBVB999BFmz56N/Px8WFpaIjAwEAsWLMCmTZswcOBA3LhxA5cuXSpzv5iYGPz7\n778vrYO7d++ibdu2uHz58kvPZYwxVnU4YL+G0rHiunXrwsLCAoIgIDs7G//X3n2HV1El7gN/T3ol\nPYEQEnpT6U0EjDSBZZWSxdhAUEThi4plEVZ+FH0AZd1lV6RYQAUUAVFWRESkrIhKCV1KaAIRCEVK\nIJBy398fSWZzSW4EkkAG3s/zzMPNtHvO3IT3zsyZc9q0aYPo6GindfN6O+vatSsAYMCAAZg6dSr8\n/f0xY8YMzJ07FwCcgvhyl48/3bt3b+t13uX1Ro0a4eeff8aECRNQr149TJo0CZs2bUL9+vWxcuVK\nVKlSBd9++y2GDRuGhQsXYsiQIRg/fjy2bNmCt956CwkJCYiMjES9evXw2WefWb2qFWb79u1o2bIl\ngoKCMHHixCs9bCIiUhJcnXqXhQll7JL4wYMHCYA//PADSdLPz49RUVFs2bIljx07Rg8PD6dL2R4e\nHuzfv7/184MPPsi77rqLf//73/nKK68U2urb19fXet2gQYNCh9zM/3P58uV56NAhVqpUiREREfzH\nP/5Bkvz8888ZExPDvn37MjU1lR988EGh7xcUFMSXXnqJBw4cKLLuP/zwA0NCQlihQgWmpKSU+rEW\nEbkVoYhL4jc8lIuaylpgOxwOAuCMGTNIkhUrVqSfnx+bNGlCMudRrcvvPzdu3NgK8qCgoAKh3qVL\nlz98pMvNza3I5RkZGZw/fz4BsGbNmiTJnTt3cuTIkU7r1a1b1+nnSZMmOT365cp//vMf+vj40MvL\niz/++GOpHV8RkVudArsEAeC4ceNIkk2aNKGbmxvr1atnLR81alSBQG3SpAkBMCsriy+88EKhodu+\nfXsr7Js0aVIg+AubLj/bzgvk3bt3s0ePHtYXgnfeeafQ7Y8dO/aH9Z0+fbrVsO7dd98tteMqIiIK\n7BJ14sQJXrp0iST5l7/8hQBYp04dOhwOa51WrVoVGqxHjx4lSZ47d86pZXhQUBAvXLjAunXr0s/P\nj76+vlYr8CuZPD09C8zr378/u3Xr5jSve/fuDAsLs8rXtWtXl/V0OBwcO3YsY2NjWatWLQ4cOLB0\nD6yIiKiVeEkKCwuznoGuW7cuADj1Ax4WFobVq1c7bZM3CEjjxo2tzlRq1qxpLT9//jwqVKgALy8v\nREVFwdvbGwcOHHDaR/4RuvJzd3e3xsfOExIS4jT6l5tbzsf8+eefo0OHDtYIY4sWLSq0tbfD4cBz\nzz2HTz75BB07dkRkZCT++c9/XtHxERGR0qGOpYvhwoULAHJCM+/1hQsX8Pbbb2PkyJHWenmBnZKS\ngipVqjjtw8fHB59++ikmTZqEb7/91upNzcvLy2oJnvftqnz58k6PgFWtWtUp2OvVq4ctW7YgOjoa\njz/+OEJCQlC7dm0cP34ckydPxpYtWzBnzhyn92/cuDHee+89lC9fHpmZmTh//jxGjRqFChUqYMiQ\nIRg5ciTWrVtXYIxuERG5vjT4xzVITU3FoEGDsGnTJuzZswcVK1bE4cOHreVfffUVhg4digsXLjgN\nmRkTE4MOHTrgww8/tB6fcnNzQ3h4ODw9PXH69GlcunQJWVlZ11Su6OhoZGZmWr2w1ahRA2+88Qae\nf/75Pxy6s3HjxggKCsLy5csBAOvXr0enTp3w9ddfo0mTJtdUHhERuToaXvMa7NixA1u2bCkwf968\neahXrx6qVq2KrVu3whiD1NRUp65KT506hQYNGmDbtm1WhykAcPjwYSxduhTt27cHkPPBOBwOpKam\nwsfHB5mZmViyZAlWr16NyMjIKy6rm5sbjDG48847ceHCBfj7+6NcuXKYM2cOunXrhn379hW4F3Lv\nvfc67WPDhg1WWO/duxeJiYl48803FdYiImWEAtuFxYsXo2HDhhg4cCBOnTqF48eP44EHHsCIESPw\nxRdf4PXXX4ePjw/8/PzgcDgwefJka9uTJ08iLCwMfn5+2LVrlzUEJ5BzWTyvv/A+ffqgZs2a8Pf3\nx969e5GRkYHTp0+jRYsWOHr0KIYPH16gH/HCOBwOkMTp06dx/vx5tGzZEv369UOXLl1w8ODBQrc5\ncuSIy/098sgj6Nq1q1NHLX/k9OnTeOmll1CrVi34+vrCGANjDB577LEr3oeIiBTBVWu00p4AdAKw\nE8BuAENdrFOire+uxpEjR+jl5cVHH32UkZGRLF++PF988UVeuHDBab1KlSrR29ub4eHh1rIRI0Zw\n1KhRPHnyJCdNmuTUAcrgwYOZkZHB5s2bO3Wwkv+1p6cnIyIiGBUVRSCnb/G8x7yKetyrTp06hT7D\n3blzZ44dO5bLly/n2bNnSZIREREcNGgQ3d3dC2zTs2dPZmZmujw2+/fv5+OPP864uLgCj5a5u7sz\nIiKCXbp0Yf369QmAlSpVKnJ/IiKSA2XtsS7knNnvARAHwBPAJgC1C1mv9I7KFejWrRvfeecdbt26\nlUlJSYWu06xZM/r4+BAAp0yZQpIcOHAge/fuzcDAQCYmJnLp0qV8/fXX6ePjw8jISD7//PPs3Lmz\nFXJ5vZvlD09/f396e3tbj31Vq1aN4eHhrFChgsvAnj17NlevXu00LzQ01Gm/bm5uvP3222mM4fjx\n453WnTp1qvX6jjvuYGZmJteuXcuEhARWqFChQKcvnp6ejI6OZmJiIjdv3lzo8Rk3bpxVt0WLFnHZ\nsmXqKU1ExIWiAvuGNDozxrQAMJJk59yfX84t5OuXrccbUb48ixcvxujRo/Hzzz+7XOfBBx/EwoUL\nkZ6ejho1amDUqFFYsGABmjZtir///e84duwY3NzcMHPmTPTu3Ru1atVCamqq0/jWvXr1wty5c/Ma\nG6BKlSooX7481q5di+zsbLi5uRXZx/flOnfujIMHD2L79u3WvNatWyM4OBjLli1DREQEDh48iICA\nAGs87zwXL14s0Ic5AHh7e6NixYro2LEj/va3vyEmJgYAkJmZiSNHjuC3337Djh07sHPnThhjkJKS\ngpSUFPz222/YvXt33hcwuLu7IzExEbNmzbri+oiI3CqKanR2o86wewJ4J9/PjwD4dyHrlexXl6uU\nlZXFmJgYl2ePJPnqq69aZ875O0NZsmQJa9asybVr13L8+PHWWXSlSpUYGRlZ4Ow4ICCAsbGxV9xZ\nyuWXv/39/Tl06FCWK1fO5Tbdu3fnhg0bGBAQYG2T1+lKXvenMTExrF69eoFtb7/9doaHh1sdrjRq\n1IhRUVHWWXbTpk1ZoUIFenp6MjY2lgMGDODixYu5fft2nj59mpmZmU710yVyEZGCoI5Tro27uzv6\n9etnDatZmA4dOiA4OBh33nknWrVqZc0PDAxEaGgomjVrhuXLl1tnu4cOHUJaWhqGDRvmtJ/z588X\n2kDM09MTwcHB1qhfeR2o7Nixw2k9h8OBf/7zn5gzZw42bdpUaCvzzz//HI0bN7bOqs+fP291upJ3\nBn/48GF4eXmhYcOGTttu27YNJ06cgKenJ/r27YupU6ciKSkJ6enpSElJwcSJE+Hu7o6TJ09i4sSJ\nSE5ORr9+/fCf//zHGn70119/Rd++fQEAfn5+OH36tMvjKiIil3GV5KU5AWgBYEm+n19GIQ3PAHDk\nyJHWtGLFilL6TuPa/v37GRYWVqCx2eXGjRvHwYMHF3pmm9dtad7Pn3zyCVNSUujm5ubUjamPj491\nP/zyKa8/ck9PTzZv3pw7d+7kpk2b6O7ubt1bDg4Opru7Ox9++GECYHx8PCdOnMigoKBC93l5A7a8\nM28AvO222xgYGMgGDRpY99Lz3n/p0qVOdXc4HGzZsqU1KEqerVu38sEHH2RERATHjh1rNXjr2bOn\ntb/PPvus5D4sERGbWbFihVPOoQw2OnPH/xqdeSGn0VmdQtYrvaN0FTp27MhZs2YVuc6KFSvYokUL\npwDs1KkTAwICmJ6eTjJnsJBu3bqRJDMzMwmATzzxBP/617/Sz8+PoaGhzMrK4vDhw10Gd97k7+/P\n+vXrW43X3N3d6ePjY4Wzr68vo6OjmZ2dTYfDwdtvv/2KL7dfPgUEBPDrr792mlezZk3rsvaCBQt4\nxx13MCsrq9Bj88svv1jBPXr0aCYkJDg1hEtMTCzBT0tExL7KXGDnlAmdAOwCkAzgZRfrlNYxuSrz\n5s3j3XffXeQ6eWNlFzYtX76cp06d4qeffsoWLVpY2wDgs88+y+nTp9PT05NhYWFcv349PT09uXr1\n6iKH1QwKCvrDYTe9vLz41ltvkSQPHDhgBf21hHZQUBDbtGnjNM/Hx4cZGRmsWbMmlyxZ8ofH8Ztv\nvnH6EvDxxx9bP1eoUEH3tUXklldUYN+we9gkl5CsRbIGyfE3qhxX4r777sOOHTuwe/fuAstIYt68\neWjevDmAnAE1Lm9l/cQTT2DJkiVITEzEunXrkJSUZN079vDwwKlTpxAWFoaYmBicOHECL7/8Ml57\n7bVCW2vnL1NGRgZIYsaMGQD+N8hHnoyMDAwePBhRUVFYtWoVPDw8nPo4zy86OrrQ+Z06dQIAeHl5\nwdvbGzExMTDGICoqCg6HA40bN0ZwcDDCwsLyvmS5NGHCBAQHB2PEiBGIiIhA//79MXjwYHh6euLI\nkSPw9vYutHc5ERFRT2dXxMvLC71798b06dOd5h8+fBjdunXDyJEjMX/+fDz11FNITk5GXFwc/Pz8\nEB4ejpCQEOzbtw/Tp0+Hv78//P39ce+996JLly4wxiArKws7d+5Eq1atkJGRgS1btuDPf/4zvvvu\nOxhjMGzYMEREROChhx5yeu+ZM2eicuXKWL16NR577DHce++9cDgcVlei77//vrVuamoq+vTpgxYt\nWqBChQpO+6latSqMMU6DiuT/orB+/XoAQLt27XDPPffgkUcewb59+zBy5Eg0adIE27dvx759+9C0\naVO4ubnhlVdesUYDu9zChQsxadIk/PTTTzh+/Djc3d3x5ZdfWgOLOBwO1K9fH6NHj77aj0hE5Obn\n6tS7LEwoI5fESXLHjh2MiopiRkYGU1NT+eKLLzIkJIQjR47kxYsXSZIffPABH3jgAfbo0YMAOG3a\nNKcGXnmXsKtXr862bdsSAKOioli5cmXOmzePvr6+rFOnDiMiItiyZUsGBATw3Llz7N69O8uVK8dd\nu3YVern6kUce4aOPPkpjDG+77TYaYzhq1CieO3eOd911l7Ve/sZj3t7eBRqj9ejRg82bN2fr1q35\nww8/OI2zHRERUehxOX/+PC9dusS3337baV9Dhw7lkSNHXB7P5ORkent7F/oIma+vb6l8hiIiZR3K\n4j3sK5nKUmCTZOvWrXn//fczNDSUgwYN4uHDh52W79y5k3Fxcfx//+//EQA3btxohVBCQoL1ulKl\nSk6trm+77TYOGTKEnp6e9Pf359GjR9mrVy/eddddfOGFF3ju3Dm6ubnxjTfesBqjPfXUU07PfUdG\nRnLSpEkEcro3ffDBB0nmPEtevXp1p7AGwIoVKzr97O7ubq3/r3/9i2FhYXz22WedvnD8kczMTL72\n2mtOwfvYY4+5fI69Z8+enD59eqFfQtq0acPTp08X8xMTEbEXBXYJWbJkCf/v//6PBw8eLHR5dnY2\nQ0JCOHHiRALg1q1b2bt37wJhNHz4cI4ZM8appbS7u7t1Rjt69GjGxcVxxYoVjIiIYFJSEuPj4xkY\nGMg2bdowKCiIY8eO5ZkzZ/jCCy/Qw8ODERERnDdvnvVl4K677rLK9eOPP7J169YF+g0PDAzkjz/+\nyMqVKxMAx48fb23z66+/skuXLoyIiLDWL+qM+fLjsHTpUp44cYJjx45ldHQ027Vrx0WLFjE7O9ta\n78MPP2T37t25c+fOAt2e5k1jxoxRcIvILUOBfR117tyZr776qnWGvWjRIit8WrRowUcffZReXl6c\nNGkSIyIi6O7uzrvvvpsVK1Zk1apVCeQ85mSMYbly5WiMYWhoKF9++WW2b9+e/v7+HDZsGKOjo3np\n0iWS5Pbt29muXTsCYPv27a3L7iSdAnL//v1WWaKjo1m/fn2SZEpKCj09Penu7s41a9ZY6zscDn7y\nySfW89q33XbbNR2TS5cucebMmWzYsCFr1arFKVOm8Pz58zx+/DjLlSvH9PR0ZmRkWI/FXf7Foly5\nclywYMG1fiQiIrahwL6ORo8ezeeee44A+MUXXxR4DGrChAnWKFx33HEHR48ezdTUVD799NMMDAxk\nQEAAfXx8GBYWxtDQUPbp04ceHh40xrBWrVr09vZmQkIC27Vrx5kzZ1rv63A4nM6wAwICuHjxYrZr\n186pfC+99BLbtWvH48ePc/bs2db8AQMG0MPDg+Hh4UxOTnba5sSJE9YjXePGjbvmY5Odnc2VK1fy\nvvvuY0REBIcPH87atWvzq6++IplzVh8SEsLmzZtzwYIFDA0NdfqCsXPnzmt+bxEROygqsNVKvIS1\naNECSUlJAIC0tDSUK1fOWhYaGop///vf6NmzJwBg69atWLVqFerWrQtPT0/s378f//rXv3I+GDc3\npKWloU6dOti8eTN8fX2xf/9+1K9fH7t27YK/vz/+8Y9/5H2xgTEGCQkJVpelaWlp6Nu3L3755Ren\n8vXo0QN//vOfER4e7tTy/JVXXkFWVhZq1aqFLl264MSJE9aysLAwrFq1CsuWLcPChQtx7ty5qz4u\nmzdvRpUqVTBz5kzMnDkTP/zwA86ePYuDBw/iu+++AwDExsbigw8+wM8//4ypU6fiyJEjOHXqFHx8\nfPDbb7+hdu3a8PPzw/jxZfopQBGR0uEqycvCBBueYf/+++9OnZP07duXGRkZBe7N5l1m9vf3Z2xs\nLH/44QeS5KlTp+jp6UkfHx+GhoZy69atJMlhw4YRAJs3b87bb7+dwcHBdHNzc+quNSUlxWlgkbx7\n4h9//LHVPWphNm7cyGPHjjEsLIxDhgzh/fffz5YtW5ZYRyZLlixheHg4Z8yYwf79+zMuLo7Lly+3\n6nv06FGn9fOuUDzwwAPMysqiw+GwhunMG38773K+iMjNBLokfn3VrVuXANioUSNmZGSQJF988UWr\nj++8Ke8edV4f3kFBQWzbti1DQ0MZFhbGadOmWfvM6xXsiy++4HPPPWd9KWjRooV1Lzs9Pd1p/3mP\nnsXFxTntK79XXnnFamXes2dPVq1alZmZmXzzzTf/sP/0K/Huu+8yKiqK33//vTVv8eLFrFixIp95\n5hmeP3++wDaXLl2y+k4fOHCg9WVj/vz5jIiIYK1atQhoxC8RufkosK+zfv36EQCPHz9uzdu+fbvV\n/eb48eOtUA0PD2dERARnzZrF++67j+XLl2fDhg2ZkJDgdFbcsWNH9uvXj7GxsaxWrRrbtm3LZs2a\nWcH/0EMPce7cufz888+tfScnJ7NZs2ZctWqV9ax4nszMTLZp04bu7u586623GBgYyNq1a9MYY/V9\nXhwOh4PDhw9ntWrVuGvXrgLLT548yYcffpg1atRwauiWZ+/evdYXmpdfftn68rB27VpGR0cTADt2\n7FjscoqIlCUK7OvsnXfeIQD+/vvvTvObN29uNbAKCwtzOhv29/fn+vXr+be//c16jvrkyZMkydTU\nVPr4+PD8+fPs06cPq1WrxgoVKvCnn35ivXr12KdPH06dOpWdOnViYGCgtc9Vq1axZ8+enDNnjlM5\nDhw4wMjISJYrV856RnrdunVWxy55/Y8Xx4QJE9igQQOmpqYWud68efMYFRXFl19+ucCXinnz5tHP\nz4+1a9dmuXLl2LNnT86ePZtbt2616ph3BUNE5GagwL7OtmzZQgA8d+6c0/ypU6cyISGBJFm1alXe\nc8897Nu3L1u0aGFdBg8NDeXy5cs5ePBgli9fni+88AITExPp7e3NKVOm8OzZs9yxYwffeOMNJiYm\ncteuXXz00Uet9zhz5owVZnFxcezduzcnTJhgLV+wYAE9PT1Zr149p8vRL774onVpvkmTJsWq/9Kl\nS1m+fHn++uuvV7T+0aNHef/99/OOO+5gUlKS07L4+HgaY/j5559z+vTp7Nq1qzXsJ3KfJb/8i5GI\niF0psK+zrKwsdujQocDZ3+nTpxkUFMTjx48zKCiIcXFx3LFjB0nyyJEjjIyMZOvWrTl37lz26tWL\nAQEB9PPzY3BwMOPj4xkeHs7ffvuNJHn27FmGhYUVeARr06ZNBHJ6O8vrVOWZZ54hSS5cuJAAOGDA\nAKdtDh06ZHVcEhgYSDc3N2vs6qu1d+9eRkZGctWqVVe1ncPh4Icffsjw8HCOGTPGuj89a9Ysenl5\nMSAggL/88otV908//dT6YtKgQYMiG9WJiNhFUYGtx7pKgbu7O5YuXQpPT0+n+UFBQejatStmzpyJ\ntLQ0HD16FNWrV0daWhoGDBgAYww2bdqE9957D+3bt8e+ffuwf/9+ZGRkYPPmzahRowaee+45AEBg\nYCCefvppTJgwwek93nrrLQBATEwMxo8fj7vvvhuHDx8GADRr1gw+Pj44dOiQ0zaTJ0+2BuA4duwY\nWrVqhebNmxc6OllR0tLS0K1bN4wYMQJt2rS5qm2NMejduzeSkpLw/fffo2XLltixYwciIyPRuHFj\nGGPQvn17pKamIjAwEL169cLSpUsBAA888ACMMVf1fiIituMqycvCBJueYRdl2bJljIuLY1BQEENC\nQtitWzf6+fnR29ubEydO5IkTJ5zWHz16NHv37s3vvvvOumSddx/8+PHjDAkJYUpKCknny+H9+vUj\nmfPY1M8//2zt76effqK7uzuff/55kuSFCxcYHh7OIUOGMP/xnjZtGiMiIrho0aIrqpfD4WBCQgL7\n9u1b7LNdh8PByZMnMywsjH369GGTJk04e/ZshoaGskmTJk6t1729vRkQEFCs9xMRKSugS+JlR3Z2\nNuPi4hgXF8cePXpw4sSJLF++vPVccn6nTp1yuuydv+e0vPvjzz77LF944QWS5NixY63lP/74I+fO\nnet0fzclJYXe3t7WoCFdu3blM888wz/96U+cPHkyAViPiJHkDz/8wOjoaL766qtOXZwWZty4cWzW\nrFmJtDDPs2fPHrZq1Yp169YlST7++OPWccsrzxtvvEEA3LZtW4m9r4jIjaLALmNGjhzJ5s2bMzs7\nm+3bt+eIESMKXW/EiBHWmXKeDz74gACsxmsHDx5kSEgIT5w4UeAZ77CwMM6aNctp+5deeonVq1dn\nt27daIxhmzZt+NNPP3Ho0KEEwO3btzutn5KSwhYtWrB79+4u72svXryY0dHRBUYvKwlZWVlW47Xz\n58/ztttuY40aNfjXv/7VWsfNzY0xMTEl/t4iItebAruMOXbsGBcsWMCxY8eydevWhXYAcuLECYaG\nhnLfvn0Flg0fPpwA+PXXXzMzM7PAUJkAePLkSQ4fPpyjR4922nbdunUMDAzkpEmTmJCQQC8vLx44\ncIDdunUjAM6bN6/A+128eJH9+/dnnTp1CjxTvXv3bkZGRnL16tXFPCpXZvv27QwLC2NsbKzVGUyv\nXr0KbZUvImI3CuwyaMuWLYyMjHQ5VOewYcP45JNPutw+b5CPsLAwBgUFWUGd9yw1SU6fPp2PPvoo\nMzMzOX/+fLZu3ZoxMTEcN24c3377bc6dO5c1atRguXLlWKlSJXbt2rVAwOd3+X3ts2fPsm7dupwy\nZUoxjsTVmzFjBqtVq8bIyEguWbKEmZmZBMBmzZpd13KIiJS0ogLb5Cwvm4wxLMvlK46hQ4fC09MT\nr732WoFlx48fR+3atbFx40bExsYWuj2ZM0BI06ZN8corr+D++++3lrm7uyMrKwsLFy5Et27dEBsb\ni5iYGDz77LPo3r07PD09UaNGDbi5uSEkJATr1q2Dw+EAADz++ON47733XJZ7zZo1+Mtf/oKnn34a\nGzduRFhYGKZNm3bdW2n36dMHJ06cwLp167Bs2TI89thj2LhxI27W3xcRuTUYY0Cy8P9QXSV5WZhw\nE59hN2rUyOVl5L///e+Mi4vjN998U2Rjr9TUVI4bN46NGjUqcEn88umjjz5yei588eLFrFatGtPT\n0/nTTz/RGMN77rnnivoPz7uvfeeddxbonay07dmzh5999hm3bdvG2rVr8+mnn2ZsbCy3b99OAOzT\npw8TEhL43nvvXddyiYiUBOgMu2w5ffo0KlWqhJMnT1rPP+eXlpaGWbNmYdq0aThz5gz69++Pvn37\nonz58i73+eqrr+LNN9/EmTNnAAARERHo3LkzDh06hBUrVjitGxsbi9atW2P27NmIjo7GU089ha++\n+grr16/HwIED8e9///sP65CdnY3s7OxCy1+annzySaxZswanT5/G2bNncfHiRQQHB6NSpUpISUmx\nhgXNzs5Gs2bN8PPPP1/X8omIFIfOsMuYL7/8km3btv3D9RwOB9euXcvHH3+cwcHB7NmzJ+fPn1/o\nCFf9+vVjUFAQ3dzcGBcXV+i+1qxZw86dO1tn3X5+fgTAGjVq8O233+a8efNojOHkyZNLoppXrbB6\nXa5Ro0b88ccfSeZ0aTp48GBGRUWxV69e/OqrrwiAPj4+Vh29vb0L9AYnIlJWQY3OypYXX3yRY8aM\nuaptzpw5w2nTprF9+/YsV64ce/TowdmzZ/PMmTMkySeffNIaY3vmzJlF7is9PZ1z5szhvffeS2MM\nH3zwQWvZa6+9Rjc3Ny5btuzqK1YM6enpjIqK4t13383vvvuu0M5XLl68SF9fX6fL9g6Hg4mJiVYD\nvfxjka9Zs4bu7u4EwGHDhl23uoiIXCsFdhnTtGnTq+5rO78TJ07w/fffZ5cuXRgYGMiuXbvS19eX\nAOjp6XlV+zp06BDXrl3rNO+hhx6ip6cn9+zZc81lvFozZ85ku3bt+NFHH7FmzZps1aoVly5d6hTc\n69atY7169Qpse+bMGVavXp2ffPIJZ8yYYQX25s2bmZmZyRo1aliDoWgMbREpyxTYZciZM2fog3BP\n/QAAFGpJREFU7+9fYj2CnT59mrNmzbLOrvOmWbNm/WHvZEVp0qQJg4KCrDP40tayZUsuWLCAZE5n\nKbNnz2bt2rV555138uuvv6bD4eCUKVMKdCSTZ8OGDQwPD2dycrJ1Vt21a1dr+ahRo6zH3r777rvr\nUicRkatVVGCr0dl19vXXX+ONN94o0BCsODIyMuDt7V3osttvvx2bNm2Cu7v7Ve0zKysLcXFx8PHx\nQXJyMtzcSm+cmC1btqBLly44cOAAPDw8rPnZ2dmYP38+Xn31Vfj5+cHHxweJiYkYOHBgofuZNGkS\npk+fjubNm2Pq1KkIDQ3FyZMnreUHDhxAnTp1cPHiRfTq1QuffvppqdVJRORaFNXoTKN1XWcrV65E\nfHx8ie0vLS3NCus5c+agc+fOSEhIQGBgIGrVqoWjR49aLcevhoeHBzZv3oxjx46hffv2JVbewkyZ\nMgX9+/d3Cmsg53nyBx54AFu2bMHQoUNBEvfcc4/L/QwaNAhVqlSBh4cHjDH4/fffnZZXrlwZ6enp\naN26NebOnYuQkBCkpaWVSp1EREqcq1PvsjDhJrwk3rx5c65YsaJE9nXkyBHrEviSJUtIkqtXr2aV\nKlW4Zs0aVq1alU8//fQVPVvtyubNm+nh4cGnnnqqRMp8ubNnzzI4OLjE+iH//fffWaVKFVatWpUA\nXN6znj17tnUbYcaMGSXy3iIixQWNh33jORwOfP/999i8eTOaNm1a7P3t2bMHFSpUAJDT+9i9994L\nALjrrrsQGxuLvXv3IikpCadOnUKLFi2wY8eOa3qfevXqYf78+Zg2bZo11nZJmj17Ntq2bYuKFSuW\nyP6Cg4MxZ84cnD17Ft7e3i7PoB966CGcPXsWoaGh6Nu3L+68884SeX8RkVLjKsnLwoSb5Aw7KWkb\nGzQYTG/vT+nmNosNGgxmUtK1Dwe5efNmp5bQl/vmm29Yt25dZmdn0+Fw8N1332V4eDinT59Oh8PB\n7Oxsrl+/nuvXr7/ihmmvv/463dzcuGjRIs6cOZMzZ84sdotrh8PBevXq8dtvvy3Wfgrz5ptvslmz\nZk7Dhbry8MMP65ltESkToFbiN052djYbNBhMIJsAc6eceVcSlufOnWPbtm3Ztm1bnjt3jqtWrbLC\nOm/Yycs5HA42adLEanVNktu2bWPdunXZqdN9vOOOgfTz+4x+fp9d1ZeHu+7qQKANgTkEPqWvb3d+\n/PHCKzsQhdi0aRPDw8OZlZV1zftwxeFwsGvXrnz++eev6AvK999/b7UuHz58eImXR0TkSiiwb6D1\n69fTz++zfGGdM/n5zef69euL3LZDh4cI/InAp7lTFwKeBMAjR44Uue3nn3/Oxo0bOz3HfO7cOYaG\ndrumLw+ZmZn09e1eYFtf3+7XfKadlpbGli1b8oknnmB2dvY1nfkX5cSJE4yKqsQqVXpf0ReUzMxM\nVqtWjQBYuXJlPbMtItddUYGte9hlVFpaGr799gyA/wDolTt9CaA1jhw5UmS/4gBw3333IT09HW+/\n/TY2bNgAh8OBXbt24eLFR+H8cIAbdu++Gxs3bixyf3PmzEF6emKBbdPTH8CcOXOuoYaAv78/vvnm\nGyQnJ+O++xLQqNGzaNPmV7Rp8ysaN34OGzduv6b95gkJCUFgYAfs3z8DFy70wIULPbBp00T06zfN\nGp0sPw8PD+zZswcjRozAgQMH4O3tjf/+97/FKoOISElRYJeyhg0bombNlQDyB4QDNWuuQsOGDV1u\nlzNcZm9cHpDAk3j44Yf/8H03b96BtLSGePbZECsAd+7cey1VKFUBAQFYtGgRVq26iM2b/3VFwXql\nNm7ciN9++xOu9gvKmDFjsH//fnh5eeHuu+/Ggw8+eM1lEBEpKQrsUubm5obp0wegQYPn4Of3Gfz8\nPkP9+s9i+vQBpdYZicPhQL9+03Dw4EdwOB62AnDChO9Ro8YKXO2XBwBITEyEr++cAtv6+n6KxMTE\nYpV3165dcDgex7Wc+ZeWvGe2W7VqhTlz5uiZbRG54RTY10HDhrdhw4aJ+O9/K+O//62MpKR/oWHD\n24rcZuHChQA+wuUBCczMXebaxo0bsXt3PC4PwOTkeLz0Uptr+vLg4eGB999/DL6+CQA+BfApfHx6\n4v33HyvQ4cm1KXw0ueK41qsb+X3//ff48MMPcebMGQQGBuKDDz4o8XKKiFwJdU1ahnXs+HDufexH\nc+d8hA4dgrF06ewit9uwYQPatPkVFy70cJrv5/cZ/vvfymjYsKF15tqwYcOrOtPPysqy7lknJiaW\nSFg7HA40bvwcNm2aiP99yXCgQYPnsGHDxGJdidi4cTv69ZuG3bvvBgDUqLESM2Y89YdfmC6XlpaG\nuLg4nDp1CnfeeSfWrFlzzWUSEXGlqK5JFdhlXFpaWu797Jyz7oCAgD/cpjQDsLSUVLAWxuFwXPMX\nlMs9/PDD+Pjjj+Hj44MdO3agcuXKxS6fiEgeBfYtqDQDsLSUZLCWptWrVyM+Ph7Z2dkYMWIExowZ\nc6OLJCI3CQX2LcouAWhHWVlZqFWrFvbt24eqVati165dJXQvX0RuZRqt6xbl5uaGxo0bo3Hjxgrr\nEubh4YG9e/dixIgR2LdvH3x8fLB69eobXSwRuYnpDFukmPKPs/3QQw9h9uyiGwWKiLiiS+Ii10HL\nli3x448/IjQ0FL/++isCAgJw8eJFDBkyBADwz3/+Ez4+Pje4lCJSlimwRa6TDz74AH379oUxBvfc\n0x3Ll19CTo91APARBg1qiEmTXr2RRRSRMkyBLXIdpaWlISYmBmfO1AOwEvkfrQPuQ3r6fJ1pi0ih\n1OhM5DoKCAjI7X98IAr2Bf+odYlcRORqKLBFSo3+vESk5OiSuEgpuHjxYm6/6/+BLomLyJXSJXGR\n68zHxweDBjUEcB/yBksB/oxBgxoqrEXkmugMW6QU6bEuEbkaaiUuIiJiA7okLiIiYnOlFtjGmJHG\nmMPGmKTcqVO+ZcOMMcnGmB3GmI6lVQYREZGbRWkPL/QPkv/IP8MYUwdALwB1AMQAWGaMqaFr3yIi\nIq6V9iXxwq7D3w9gDskskgcAJANoVsrlEBERsbXSDuz/M8ZsMsa8Z4wJyp1XEcChfOuk5M4TERER\nF4oV2MaYb40xW/JNW3P//TOAyQCqkmwA4CiAN0uiwCIiIreiYt3DJtnhCld9F8CXua9TAFTKtywm\nd16hRo0aZb2Oj49HfHz8VZVRRESkrFq5ciVWrlx5ReuW2nPYxpjyJI/mvh4CoCnJh4wxdQHMBtAc\nOZfCvwVQaKMzPYctIiK3kqKewy7NVuJvGGMaIKcD5QMABgAAyV+MMXMB/AIgE8BApbKIiEjR1NOZ\niIhIGaGezkRERGxOgS0iImIDCmwREREbUGCLiIjYgAJbRETEBhTYIiIiNqDAFhERsQEFtoiIiA0o\nsEVERGxAgS0iImIDCmwREREbUGCLiIjYgAJbRETEBhTYIiIiNqDAFhERsQEFtoiIiA0osEVERGxA\ngS0iImIDCmwREREbUGCLiIjYgAJbRETEBhTYIiIiNqDAFhERsQEFtoiIiA0osEVERGxAgS0iImID\nCmwREREbUGCLiIjYgAJbRETEBhTYIiIiNqDAFhERsQEFtoiIiA0osEVERGxAgS0iImIDCmwREREb\nUGCLiIjYgAJbRETEBhTYIiIiNqDAFhERsQEFtoiIiA0osEVERGxAgS0iImIDCmwREREbUGCLiIjY\ngAJbRETEBhTYIiIiNqDAFhERsQEFtoiIiA0osEVERGxAgS0iImIDCmwREREbUGCLiIjYgAJbRETE\nBooV2MaYBGPMNmNMtjGm0WXLhhljko0xO4wxHfPNb2SM2WKM2W2MmVic9xcREblVFPcMeyuA7gBW\n5Z9pjKkDoBeAOgA6A5hsjDG5i6cAeJxkTQA1jTH3FrMMIiIiN71iBTbJXSSTAZjLFt0PYA7JLJIH\nACQDaGaMKQ8gkOS63PU+AtCtOGUQERG5FZTWPeyKAA7l+zkld15FAIfzzT+cO09ERESK4PFHKxhj\nvgUQlX8WAAL4G8kvS6tgIiIi8j9/GNgkO1zDflMAVMr3c0zuPFfzXRo1apT1Oj4+HvHx8ddQHBER\nkbJn5cqVWLly5RWta0gW+w2NMSsAvEhyQ+7PdQHMBtAcOZe8vwVQgySNMT8BeAbAOgBfAfg3ySUu\n9suSKJ+IiIgdGGNA8vJ2YQCK/1hXN2PMIQAtACwyxnwNACR/ATAXwC8AFgMYmC95BwF4H8BuAMmu\nwlpERET+p0TOsEuLzrBFRORWUmpn2CIiInJ9KLBFRERsQIEtIiJiAwpsERERG1Bgi4iI2IACW0RE\nxAYU2CIiIjagwBYREbEBBbaIiIgNKLBFRERsQIEtIiJiAwpsERERG1Bgi4iI2IACW0RExAYU2CIi\nIjagwBYREbEBBbaIiIgNKLBFRERsQIEtIiJiAwpsERERG1Bgi4iI2IACW0RExAYU2CIiIjagwBYR\nEbEBBbaIiIgNKLBFRERsQIEtIiJiAwpsERERG1Bgi4iI2IACW0RExAYU2CIiIjagwBYREbEBBbaI\niIgNKLBFRERsQIEtIiJiAwpsERERG1Bgi4iI2IACW0RExAYU2CIiIjagwBYREbEBBbaIiIgNKLBF\nRERsQIEtIiJiAwpsERERG1Bgi4iI2IACW0RExAYU2CIiIjagwBYREbEBBbaIiIgNKLBFRERsQIEt\nIiJiAwpsERERG1Bgi4iI2ECxAtsYk2CM2WaMyTbGNMo3P84Yc8EYk5Q7Tc63rJExZosxZrcxZmJx\n3l9ERORWUdwz7K0AugNYVciyPSQb5U4D882fAuBxkjUB1DTG3FvMMoiIiNz0ihXYJHeRTAZgCllc\nYJ4xpjyAQJLrcmd9BKBbccogIiJyKyjNe9iVcy+HrzDGtMqdVxHA4XzrHM6dJyIiIkXw+KMVjDHf\nAojKPwsAAfyN5JcuNvsNQCzJ33PvbX9hjKlb7NKKiIjcov4wsEl2uNqdkswE8Hvu6yRjzF4ANQGk\nAKiUb9WY3HkujRo1ynodHx+P+Pj4qy2OiIhImbRy5UqsXLnyitY1JIv9hsaYFQBeJLkh9+dwAKdI\nOowxVZHTKO0OkqeNMT8BeAbAOgBfAfg3ySUu9suSKJ+IiIgdGGNAsrB2YcV+rKubMeYQgBYAFhlj\nvs5d1AbAFmNMEoC5AAaQPJ27bBCA9wHsBpDsKqxFRETkf0rkDLu06AxbRERuJaV2hi0iIiLXhwJb\nRETEBhTYIiIiNqDAFhERsQEFtoiIiA0osEVERGxAgS0iImIDCmwREREbUGCLiIjYgAJbRETEBhTY\nIiIiNqDAFhERsQEFtoiIiA0osEVERGxAgS0iImIDCmwREREbUGCLiIjYgAJbRETEBhTYIiIiNqDA\nFhERsQEFtoiIiA0osEVERGxAgS0iImIDCmwREREbUGCLiIjYgAJbRETEBhTYIiIiNqDAFhERsQEF\ntoiIiA0osK/SypUrb3QRbgjV+9aiet9aVG97UGBfJbt9wCVF9b61qN63FtXbHhTYIiIiNqDAFhER\nsQFD8kaXwSVjTNktnIiISCkgaQqbX6YDW0RERHLokriIiIgNKLBFRERsQIEtIiJiAwpsF4wxCcaY\nbcaYbGNMo3zz44wxF4wxSbnT5HzLGhljthhjdhtjJt6YkhePq3rnLhtmjEk2xuwwxnTMN9/29c7P\nGDPSGHM432fcKd+yQo/BzcIY08kYszP3sxx6o8tTmowxB4wxm40xG40xa3PnhRhjlhpjdhljvjHG\nBN3ochaXMeZ9Y8wxY8yWfPNc1vNm+R13UW97/22T1FTIBKAWgBoAlgNolG9+HIAtLrb5GUDT3NeL\nAdx7o+tRgvWuA2AjAA8AlQHswf8aLdq+3pcdg5EAni9kvstjcDNMyPkCvyf3d9wTwCYAtW90uUqx\nvvsAhFw273UAf819PRTA+BtdzhKoZysADfL/v+WqngDq3iy/4y7qbeu/bZ1hu0ByF8lkAIU1ry8w\nzxhTHkAgyXW5sz4C0K0Ui1gqiqj3/QDmkMwieQBAMoBmN0u9C1HY517oMbiupSpdzQAkk/yVZCaA\nOcip883KoOBVxvsBfJj7+kPcBL/LJFcD+P2y2a7qeR9ukt9xF/UGbPy3rcC+NpVzL6esMMa0yp1X\nEcDhfOsczp13s6gI4FC+n1Ny592s9f4/Y8wmY8x7+S4XujoGN4vL63ezfJauEMC3xph1xpgncudF\nkTwGACSPAoi8YaUrXZEu6nmz/44DNv7b9rjRBbiRjDHfAojKPws5f8R/I/mli81+AxBL8vfce7xf\nGGPqlnJRS9Q11vumUtQxADAZwBiSNMa8BuBNAE8U3IvY3F0kjxhjIgAsNcbsQs7vQH63SkcVt0o9\nbf23fUsHNskO17BNJnIvs5BMMsbsBVATOd/IKuVbNSZ3XplzLfWG6/rZpt75XcUxeBdA3pcYW9b1\nKqQAiM33881WPyckj+T+e9wY8wVyLoEeM8ZEkTyWe7sn9YYWsvS4qudN/TtO8ni+H233t61L4lfG\nuudhjAk3xrjlvq4KoDqAfbmXlc4YY5oZYwyA3gAW3pDSlpz893r+AyDRGONljKmCnHqvvRnrnfsf\nWJ4eALblvi70GFzv8pWidQCq5z4J4QUgETl1vukYY/yMMQG5r/0BdASwFTn1fSx3tT6w+e9yPgYF\n/54fy32dv5432++4U71t/7d9o1u9ldUJOY0wDgFIB3AEwNe58/M+5CQA6wF0ybdNY+T80ScD+NeN\nrkNJ1jt32TDktJ7cAaDjzVTvy47BRwC2IKeV9BfIua9Z5DG4WSYAnQDsyv0sX77R5SnFelbJ/Xw3\n5v7uvpw7PxTAstxjsBRA8I0uawnU9WPk3Mq7BOAggL4AQlzV82b5HXdRb1v/basvcRERERvQJXER\nEREbUGCLiIjYgAJbRETEBhTYIiIiNqDAFhERsQEFtoiIiA0osEVERGzg/wMrDwkWvOqjNQAAAABJ\nRU5ErkJggg==\n",
      "text/plain": [
       "<matplotlib.figure.Figure at 0x11e69aad0>"
      ]
     },
     "metadata": {},
     "output_type": "display_data"
    }
   ],
   "source": [
    "plt.figure(figsize=(8, 8))\n",
    "\n",
    "\n",
    "for traj in storage.trajectories[1:]:\n",
    "    phi_angles = np.array(phi(traj)).flatten() / deg\n",
    "    psi_angles = np.array(psi(traj)).flatten() / deg\n",
    "    plt.plot(phi_angles, psi_angles, 'k-', linewidth=1);\n",
    "    for idx, snapshot in enumerate(traj):\n",
    "        if opA(snapshot):\n",
    "            plt.plot(phi_angles[idx], psi_angles[idx], 'bo', linewidth=1);\n",
    "        \n",
    "plt.xlim(-180, 180);\n",
    "plt.ylim(-180, 180);"
   ]
  },
  {
   "cell_type": "code",
   "execution_count": null,
   "metadata": {
    "collapsed": true
   },
   "outputs": [],
   "source": []
  }
 ],
 "metadata": {
  "kernelspec": {
   "display_name": "Python 2",
   "language": "python",
   "name": "python2"
  },
  "language_info": {
   "codemirror_mode": {
    "name": "ipython",
    "version": 2
   },
   "file_extension": ".py",
   "mimetype": "text/x-python",
   "name": "python",
   "nbconvert_exporter": "python",
   "pygments_lexer": "ipython2",
   "version": "2.7.10"
  }
 },
 "nbformat": 4,
 "nbformat_minor": 0
}
