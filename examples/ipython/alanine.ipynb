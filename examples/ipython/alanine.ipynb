{
 "cells": [
  {
   "cell_type": "markdown",
   "metadata": {},
   "source": [
    "# OPENTIS\n",
    "## An Example with Alanine"
   ]
  },
  {
   "cell_type": "markdown",
   "metadata": {},
   "source": [
    "Import Modules"
   ]
  },
  {
   "cell_type": "code",
   "execution_count": 1,
   "metadata": {
    "collapsed": true
   },
   "outputs": [],
   "source": [
    "import numpy as np\n",
    "import mdtraj as md\n",
    "import pandas as pd\n",
    "import simtk.openmm as mm\n",
    "from simtk.openmm import app\n",
    "from simtk import unit\n",
    " \n",
    "from openpathsampling.visualize import PathTreeBuilder\n",
    "from IPython.display import SVG\n",
    "\n",
    "import openpathsampling as paths"
   ]
  },
  {
   "cell_type": "markdown",
   "metadata": {},
   "source": [
    "Radians to Degree conversion"
   ]
  },
  {
   "cell_type": "code",
   "execution_count": 2,
   "metadata": {
    "collapsed": true
   },
   "outputs": [],
   "source": [
    "deg = 3.14159265 / 180.0"
   ]
  },
  {
   "cell_type": "markdown",
   "metadata": {},
   "source": [
    "Create an AlanineOpenMMSimulator for demonstration purposes"
   ]
  },
  {
   "cell_type": "markdown",
   "metadata": {},
   "source": [
    "### Set simulation options and create a simulator object"
   ]
  },
  {
   "cell_type": "code",
   "execution_count": 3,
   "metadata": {
    "collapsed": true
   },
   "outputs": [],
   "source": [
    "template = paths.tools.snapshot_from_pdb(\"../data/Alanine_solvated.pdb\")"
   ]
  },
  {
   "cell_type": "code",
   "execution_count": 4,
   "metadata": {
    "collapsed": true
   },
   "outputs": [],
   "source": [
    "storage = paths.Storage(filename=\"trajectory.nc\", template=template, mode='w')"
   ]
  },
  {
   "cell_type": "markdown",
   "metadata": {},
   "source": [
    "Set up the OpenMM simulation"
   ]
  },
  {
   "cell_type": "code",
   "execution_count": 5,
   "metadata": {
    "collapsed": true
   },
   "outputs": [],
   "source": [
    "topology = paths.tools.to_openmm_topology(template)            \n",
    "\n",
    "# Generated using OpenMM Script Builder\n",
    "# http://builder.openmm.org\n",
    "\n",
    "forcefield = app.ForceField(\n",
    "    'amber96.xml',  # solute FF\n",
    "    'tip3p.xml'     # solvent FF\n",
    ")\n",
    "\n",
    "# OpenMM System\n",
    "system = forcefield.createSystem(\n",
    "    topology, \n",
    "    nonbondedMethod=app.PME, \n",
    "    nonbondedCutoff=1.0*unit.nanometers, \n",
    "    constraints=app.HBonds, \n",
    "    rigidWater=True, \n",
    "    ewaldErrorTolerance=0.0005\n",
    ")\n",
    "\n",
    "# OpenMM Integrator\n",
    "integrator = mm.LangevinIntegrator(\n",
    "    300*unit.kelvin, \n",
    "    1.0/unit.picoseconds, \n",
    "    2.0*unit.femtoseconds\n",
    ")\n",
    "integrator.setConstraintTolerance(0.00001)\n",
    "\n",
    "# Engine options\n",
    "options = {\n",
    "    'nsteps_per_frame': 10\n",
    "}\n",
    "\n",
    "engine = paths.OpenMMEngine(\n",
    "    template, \n",
    "    system,\n",
    "    integrator,\n",
    "    options\n",
    ")"
   ]
  },
  {
   "cell_type": "code",
   "execution_count": 6,
   "metadata": {
    "collapsed": true
   },
   "outputs": [],
   "source": [
    "storage.save(engine)"
   ]
  },
  {
   "cell_type": "markdown",
   "metadata": {},
   "source": [
    "And save the storage in a separate variable for convenience"
   ]
  },
  {
   "cell_type": "code",
   "execution_count": 7,
   "metadata": {
    "collapsed": true
   },
   "outputs": [],
   "source": [
    "storage.set_caching_mode('lowmemory')"
   ]
  },
  {
   "cell_type": "markdown",
   "metadata": {},
   "source": [
    "### Order Parameters"
   ]
  },
  {
   "cell_type": "markdown",
   "metadata": {},
   "source": [
    "this generates an order parameter (callable) object named psi (so if we call `psi(trajectory)` we get a list of the values of psi for each frame in the trajectory). This particular order parameter uses mdtraj's compute_dihedrals function, with the atoms in psi_atoms"
   ]
  },
  {
   "cell_type": "code",
   "execution_count": 8,
   "metadata": {
    "collapsed": true
   },
   "outputs": [],
   "source": [
    "psi_atoms = [6,8,14,16]\n",
    "psi = paths.CV_MDTraj_Function(\"psi\", md.compute_dihedrals, indices=[psi_atoms])\n",
    "\n",
    "phi_atoms = [4,6,8,14]\n",
    "phi = paths.CV_MDTraj_Function(\"phi\", md.compute_dihedrals, indices=[phi_atoms])"
   ]
  },
  {
   "cell_type": "code",
   "execution_count": 9,
   "metadata": {
    "collapsed": true
   },
   "outputs": [],
   "source": [
    "storage.save([psi, phi]);"
   ]
  },
  {
   "cell_type": "markdown",
   "metadata": {},
   "source": [
    "### Volumes"
   ]
  },
  {
   "cell_type": "markdown",
   "metadata": {},
   "source": [
    "This creates two states using a one-dimensional order parameter (called _Lambda_ in TIS terminology). A snapshot is in the State as long as the order parameter is with specific bounds. \n",
    "\n",
    "StateA is $\\psi \\in [-120, -30]$ and StateB is $\\psi \\in [100, 180]$"
   ]
  },
  {
   "cell_type": "code",
   "execution_count": 10,
   "metadata": {
    "collapsed": true
   },
   "outputs": [],
   "source": [
    "stateA = paths.CVRangeVolumePeriodic(\n",
    "    collectivevariable=psi, \n",
    "    lambda_min=-120.0*deg, \n",
    "    lambda_max=-30.0*deg, \n",
    "    period_min=-180.0*deg, \n",
    "    period_max=+180.0*deg\n",
    ")\n",
    "stateB = paths.CVRangeVolumePeriodic(\n",
    "    collectivevariable=psi, \n",
    "    lambda_min=100.0*deg, \n",
    "    lambda_max=180.0*deg, \n",
    "    period_min=-180.0*deg, \n",
    "    period_max=+180.0*deg\n",
    ")"
   ]
  },
  {
   "cell_type": "markdown",
   "metadata": {},
   "source": [
    "Now do the same for a set of lambda ranges to produce nested volumes."
   ]
  },
  {
   "cell_type": "code",
   "execution_count": 11,
   "metadata": {
    "collapsed": true
   },
   "outputs": [],
   "source": [
    "minima = map(deg.__mul__, [-125, -135, -140, -142.5, -145.0, -147.0, -150.0])\n",
    "maxima = map(deg.__mul__, [-25.0, -21.0, -18.5, -17.0, -15.0, -10.0, 0.0])\n",
    "\n",
    "volume_set = paths.VolumeFactory.CVRangeVolumePeriodicSet(psi, minima, maxima, -180.0*deg, +180.0*deg)"
   ]
  },
  {
   "cell_type": "markdown",
   "metadata": {},
   "source": [
    "### Ensembles"
   ]
  },
  {
   "cell_type": "markdown",
   "metadata": {},
   "source": [
    "Now do this automatically for all ensembles"
   ]
  },
  {
   "cell_type": "code",
   "execution_count": 12,
   "metadata": {
    "collapsed": true
   },
   "outputs": [],
   "source": [
    "interface0 = volume_set[0]\n",
    "interface_set = paths.EnsembleFactory.TISEnsembleSet(stateA, stateA | stateB, volume_set, psi)"
   ]
  },
  {
   "cell_type": "markdown",
   "metadata": {},
   "source": [
    "Give each interface a name"
   ]
  },
  {
   "cell_type": "code",
   "execution_count": 13,
   "metadata": {
    "collapsed": true
   },
   "outputs": [],
   "source": [
    "for no, interface in enumerate(interface_set):\n",
    "    interface.name = 'Interface ' + str(no)"
   ]
  },
  {
   "cell_type": "markdown",
   "metadata": {},
   "source": [
    "and save all of these"
   ]
  },
  {
   "cell_type": "code",
   "execution_count": 14,
   "metadata": {
    "collapsed": true
   },
   "outputs": [],
   "source": [
    "map(storage.ensembles.save, interface_set);"
   ]
  },
  {
   "cell_type": "markdown",
   "metadata": {},
   "source": [
    "And create a special ensemble, that will create a first trajectory in the innermost TIS ensemble independent from where we start"
   ]
  },
  {
   "cell_type": "markdown",
   "metadata": {},
   "source": [
    "The idea is to describe a trajectory type by a sequence of positions. First can be outside of stateA or not, then be inside stateA, etc..."
   ]
  },
  {
   "cell_type": "code",
   "execution_count": 15,
   "metadata": {
    "collapsed": true
   },
   "outputs": [],
   "source": [
    "inA = paths.AllInXEnsemble(stateA)\n",
    "outA = paths.AllOutXEnsemble(stateA)\n",
    "\n",
    "inI0 = paths.AllInXEnsemble(interface0)\n",
    "outI0 = paths.AllOutXEnsemble(interface0)\n",
    "\n",
    "first_traj_ensemble = paths.SequentialEnsemble([\n",
    "    paths.OptionalEnsemble(outA),\n",
    "    inA,\n",
    "    paths.OptionalEnsemble(outA & inI0),\n",
    "    paths.OptionalEnsemble(inI0),\n",
    "    outI0,\n",
    "    paths.OptionalEnsemble(outA),\n",
    "    paths.SingleFrameEnsemble(inA)\n",
    "])"
   ]
  },
  {
   "cell_type": "markdown",
   "metadata": {},
   "source": [
    "### start path generation"
   ]
  },
  {
   "cell_type": "markdown",
   "metadata": {},
   "source": [
    "so lets try and see if we can generate a first path"
   ]
  },
  {
   "cell_type": "markdown",
   "metadata": {},
   "source": [
    "load the initial snapshot (although we still have it) and generate using the Alanine simulator. The second option specifies a function : trajectory -> bool that keeps the simulation running as long as it is true. Our goal was to generate a path that belongs to a specific ensemble, so we use `forward` to determine if it makes sense to keep running or if the result cannot belong to the ensemble anymore."
   ]
  },
  {
   "cell_type": "code",
   "execution_count": 16,
   "metadata": {
    "collapsed": true
   },
   "outputs": [],
   "source": [
    "snapshot = storage.template\n",
    "total_path = engine.generate(\n",
    "    snapshot= snapshot, \n",
    "    running = [first_traj_ensemble.can_append]\n",
    ")"
   ]
  },
  {
   "cell_type": "markdown",
   "metadata": {},
   "source": [
    "Show the length"
   ]
  },
  {
   "cell_type": "code",
   "execution_count": 17,
   "metadata": {
    "collapsed": false
   },
   "outputs": [
    {
     "name": "stdout",
     "output_type": "stream",
     "text": [
      "Total trajectory length:  60\n"
     ]
    }
   ],
   "source": [
    "print \"Total trajectory length: \", len(total_path)"
   ]
  },
  {
   "cell_type": "markdown",
   "metadata": {},
   "source": [
    "And save the trajetory completely"
   ]
  },
  {
   "cell_type": "code",
   "execution_count": 18,
   "metadata": {
    "collapsed": true
   },
   "outputs": [],
   "source": [
    "storage.save(total_path);"
   ]
  },
  {
   "cell_type": "markdown",
   "metadata": {},
   "source": [
    "Split the trajectory into parts that belong to the TIS ensemble (not the one we generated)"
   ]
  },
  {
   "cell_type": "code",
   "execution_count": 19,
   "metadata": {
    "collapsed": false
   },
   "outputs": [
    {
     "name": "stdout",
     "output_type": "stream",
     "text": [
      "Traj in first_traj_ensemble? (should be) True\n",
      "Traj in TIS ensemble? (probably not) False\n",
      "Number of segments in TIS ensemble:  1\n",
      "Length of each segment:\n",
      "  seg[0]: 5\n"
     ]
    }
   ],
   "source": [
    "interface0_ensemble = interface_set[0]\n",
    "segments = interface0_ensemble.split(total_path)\n",
    "\n",
    "print \"Traj in first_traj_ensemble? (should be)\", \n",
    "print first_traj_ensemble(total_path)\n",
    "\n",
    "print \"Traj in TIS ensemble? (probably not)\", \n",
    "print interface0_ensemble(total_path)\n",
    "\n",
    "\n",
    "print \"Number of segments in TIS ensemble: \", len(segments)\n",
    "if len(segments):\n",
    "    print \"Length of each segment:\"\n",
    "    for i in range(len(segments)):\n",
    "        print \"  seg[{0}]: {1}\".format(i, len(segments[i]))"
   ]
  },
  {
   "cell_type": "markdown",
   "metadata": {},
   "source": [
    "Show some results and check if this worked"
   ]
  },
  {
   "cell_type": "code",
   "execution_count": 20,
   "metadata": {
    "collapsed": false
   },
   "outputs": [
    {
     "data": {
      "text/html": [
       "<div>\n",
       "<table border=\"1\" class=\"dataframe\">\n",
       "  <thead>\n",
       "    <tr style=\"text-align: right;\">\n",
       "      <th></th>\n",
       "      <th>phi</th>\n",
       "      <th>psi</th>\n",
       "      <th>stateA</th>\n",
       "      <th>interface0</th>\n",
       "      <th>stateB</th>\n",
       "      <th>appendable</th>\n",
       "    </tr>\n",
       "  </thead>\n",
       "  <tbody>\n",
       "    <tr>\n",
       "      <th>0</th>\n",
       "      <td>-80.208455</td>\n",
       "      <td>-10.277032</td>\n",
       "      <td>False</td>\n",
       "      <td>False</td>\n",
       "      <td>False</td>\n",
       "      <td>True</td>\n",
       "    </tr>\n",
       "    <tr>\n",
       "      <th>1</th>\n",
       "      <td>-82.682623</td>\n",
       "      <td>-11.590987</td>\n",
       "      <td>False</td>\n",
       "      <td>False</td>\n",
       "      <td>False</td>\n",
       "      <td>True</td>\n",
       "    </tr>\n",
       "    <tr>\n",
       "      <th>2</th>\n",
       "      <td>-78.268333</td>\n",
       "      <td>-12.684361</td>\n",
       "      <td>False</td>\n",
       "      <td>False</td>\n",
       "      <td>False</td>\n",
       "      <td>True</td>\n",
       "    </tr>\n",
       "    <tr>\n",
       "      <th>57</th>\n",
       "      <td>-102.854022</td>\n",
       "      <td>-29.696474</td>\n",
       "      <td>False</td>\n",
       "      <td>True</td>\n",
       "      <td>False</td>\n",
       "      <td>True</td>\n",
       "    </tr>\n",
       "    <tr>\n",
       "      <th>58</th>\n",
       "      <td>-88.720770</td>\n",
       "      <td>-27.891873</td>\n",
       "      <td>False</td>\n",
       "      <td>True</td>\n",
       "      <td>False</td>\n",
       "      <td>True</td>\n",
       "    </tr>\n",
       "    <tr>\n",
       "      <th>59</th>\n",
       "      <td>-90.888549</td>\n",
       "      <td>-30.882482</td>\n",
       "      <td>True</td>\n",
       "      <td>True</td>\n",
       "      <td>False</td>\n",
       "      <td>False</td>\n",
       "    </tr>\n",
       "  </tbody>\n",
       "</table>\n",
       "</div>"
      ],
      "text/plain": [
       "           phi        psi stateA interface0 stateB appendable\n",
       "0   -80.208455 -10.277032  False      False  False       True\n",
       "1   -82.682623 -11.590987  False      False  False       True\n",
       "2   -78.268333 -12.684361  False      False  False       True\n",
       "57 -102.854022 -29.696474  False       True  False       True\n",
       "58  -88.720770 -27.891873  False       True  False       True\n",
       "59  -90.888549 -30.882482   True       True  False      False"
      ]
     },
     "execution_count": 20,
     "metadata": {},
     "output_type": "execute_result"
    }
   ],
   "source": [
    "data = []\n",
    "for frame in total_path:\n",
    "    data.append((phi(frame) / deg, psi(frame)/deg, stateA(frame), interface0(frame), stateB(frame), first_traj_ensemble.can_append(total_path[slice(0,total_path.index(frame)+1)])))\n",
    "    \n",
    "dataframe = pd.DataFrame(data, columns=['phi', 'psi', 'stateA', 'interface0', 'stateB', 'appendable'])\n",
    "dataframe[[0,1,2,3,4,5]].ix[[0,1,2,len(dataframe)-3,len(dataframe)-2,len(dataframe)-1]]"
   ]
  },
  {
   "cell_type": "code",
   "execution_count": 21,
   "metadata": {
    "collapsed": false
   },
   "outputs": [
    {
     "name": "stdout",
     "output_type": "stream",
     "text": [
      "Do our segments satisfy the ensemble? True\n"
     ]
    }
   ],
   "source": [
    "print \"Do our segments satisfy the ensemble?\",\n",
    "for seg in segments:\n",
    "    print interface0_ensemble(seg),"
   ]
  },
  {
   "cell_type": "code",
   "execution_count": 22,
   "metadata": {
    "collapsed": false
   },
   "outputs": [
    {
     "data": {
      "text/html": [
       "<div>\n",
       "<table border=\"1\" class=\"dataframe\">\n",
       "  <thead>\n",
       "    <tr style=\"text-align: right;\">\n",
       "      <th></th>\n",
       "      <th>phi</th>\n",
       "      <th>psi</th>\n",
       "      <th>stateA</th>\n",
       "      <th>interface0</th>\n",
       "      <th>stateB</th>\n",
       "      <th>appendable</th>\n",
       "    </tr>\n",
       "  </thead>\n",
       "  <tbody>\n",
       "    <tr>\n",
       "      <th>0</th>\n",
       "      <td>-99.322897</td>\n",
       "      <td>-33.415461</td>\n",
       "      <td>True</td>\n",
       "      <td>True</td>\n",
       "      <td>False</td>\n",
       "      <td>True</td>\n",
       "    </tr>\n",
       "    <tr>\n",
       "      <th>1</th>\n",
       "      <td>-97.719079</td>\n",
       "      <td>-22.500834</td>\n",
       "      <td>False</td>\n",
       "      <td>False</td>\n",
       "      <td>False</td>\n",
       "      <td>True</td>\n",
       "    </tr>\n",
       "    <tr>\n",
       "      <th>2</th>\n",
       "      <td>-102.854022</td>\n",
       "      <td>-29.696474</td>\n",
       "      <td>False</td>\n",
       "      <td>True</td>\n",
       "      <td>False</td>\n",
       "      <td>True</td>\n",
       "    </tr>\n",
       "    <tr>\n",
       "      <th>3</th>\n",
       "      <td>-88.720770</td>\n",
       "      <td>-27.891873</td>\n",
       "      <td>False</td>\n",
       "      <td>True</td>\n",
       "      <td>False</td>\n",
       "      <td>True</td>\n",
       "    </tr>\n",
       "    <tr>\n",
       "      <th>4</th>\n",
       "      <td>-90.888549</td>\n",
       "      <td>-30.882482</td>\n",
       "      <td>True</td>\n",
       "      <td>True</td>\n",
       "      <td>False</td>\n",
       "      <td>False</td>\n",
       "    </tr>\n",
       "  </tbody>\n",
       "</table>\n",
       "</div>"
      ],
      "text/plain": [
       "          phi        psi stateA interface0 stateB appendable\n",
       "0  -99.322897 -33.415461   True       True  False       True\n",
       "1  -97.719079 -22.500834  False      False  False       True\n",
       "2 -102.854022 -29.696474  False       True  False       True\n",
       "3  -88.720770 -27.891873  False       True  False       True\n",
       "4  -90.888549 -30.882482   True       True  False      False"
      ]
     },
     "execution_count": 22,
     "metadata": {},
     "output_type": "execute_result"
    }
   ],
   "source": [
    "data = []\n",
    "for frame in segments[0]:\n",
    "    data.append((phi(frame)/deg, psi(frame)/deg, stateA(frame), interface0(frame), stateB(frame), first_traj_ensemble.can_append(total_path[slice(0,total_path.index(frame)+1)])))\n",
    "    \n",
    "dataframe = pd.DataFrame(data, columns=['phi', 'psi', 'stateA', 'interface0', 'stateB', 'appendable'])\n",
    "dataframe[[0,1,2,3,4,5]]"
   ]
  },
  {
   "cell_type": "markdown",
   "metadata": {},
   "source": [
    "### Bootstrapping"
   ]
  },
  {
   "cell_type": "markdown",
   "metadata": {},
   "source": [
    "Run a bootstrapping (not TIS) simulation that shoots from an ensemble until the next interface is reached then switch to the next ensemble to drive the system out of stateA"
   ]
  },
  {
   "cell_type": "code",
   "execution_count": 23,
   "metadata": {
    "collapsed": true
   },
   "outputs": [],
   "source": [
    "mover_set = paths.PathMoverFactory.OneWayShootingSet(paths.UniformSelector(), interface_set)"
   ]
  },
  {
   "cell_type": "code",
   "execution_count": 24,
   "metadata": {
    "collapsed": true
   },
   "outputs": [],
   "source": [
    "bootstrap = paths.Bootstrapping(storage=storage,\n",
    "                          engine=engine,\n",
    "                          ensembles=interface_set,\n",
    "                          movers=mover_set,\n",
    "                          trajectory=segments[0])"
   ]
  },
  {
   "cell_type": "markdown",
   "metadata": {},
   "source": [
    "Run Bootstrapping with at most 50 attempts per ensemble"
   ]
  },
  {
   "cell_type": "code",
   "execution_count": 25,
   "metadata": {
    "collapsed": false
   },
   "outputs": [
    {
     "name": "stdout",
     "output_type": "stream",
     "text": [
      "DONE! Completed Bootstrapping cycle step 50 in ensemble 1/7 .\n",
      "\n"
     ]
    }
   ],
   "source": [
    "bootstrap.run(50)"
   ]
  },
  {
   "cell_type": "markdown",
   "metadata": {},
   "source": [
    "Save all computed phi/psi values which depends on whether they have been needed before"
   ]
  },
  {
   "cell_type": "code",
   "execution_count": 26,
   "metadata": {
    "collapsed": true
   },
   "outputs": [],
   "source": [
    "storage.cvs.sync()"
   ]
  },
  {
   "cell_type": "markdown",
   "metadata": {},
   "source": [
    "Create an collectivevariable from a volume which is just 1 or 0 and can thus be stored for later analysis"
   ]
  },
  {
   "cell_type": "code",
   "execution_count": 27,
   "metadata": {
    "collapsed": true
   },
   "outputs": [],
   "source": [
    "op_inA = paths.CV_Volume('StateA', stateA)\n",
    "op_inB = paths.CV_Volume('StateB', stateB)\n",
    "op_notinAorB = paths.CV_Volume('StateX', ~ (stateA | stateB))"
   ]
  },
  {
   "cell_type": "markdown",
   "metadata": {},
   "source": [
    "Save the new collectivevariables"
   ]
  },
  {
   "cell_type": "code",
   "execution_count": 28,
   "metadata": {
    "collapsed": true
   },
   "outputs": [],
   "source": [
    "storage.save([op_inA, op_inB, op_notinAorB]);"
   ]
  },
  {
   "cell_type": "markdown",
   "metadata": {},
   "source": [
    "Compute the collectivevariable for all snapshots"
   ]
  },
  {
   "cell_type": "code",
   "execution_count": 29,
   "metadata": {
    "collapsed": true
   },
   "outputs": [],
   "source": [
    "psi(storage.snapshots.all());\n",
    "phi(storage.snapshots.all());"
   ]
  },
  {
   "cell_type": "code",
   "execution_count": 30,
   "metadata": {
    "collapsed": true
   },
   "outputs": [],
   "source": [
    "op_inA(storage.snapshots.all())\n",
    "op_inB(storage.snapshots.all())\n",
    "op_notinAorB(storage.snapshots.all());"
   ]
  },
  {
   "cell_type": "code",
   "execution_count": 31,
   "metadata": {
    "collapsed": true
   },
   "outputs": [],
   "source": [
    "storage.cvs.sync()\n",
    "storage.sync()"
   ]
  },
  {
   "cell_type": "code",
   "execution_count": 32,
   "metadata": {
    "collapsed": true
   },
   "outputs": [],
   "source": [
    "storage.close()"
   ]
  },
  {
   "cell_type": "code",
   "execution_count": 33,
   "metadata": {
    "collapsed": true
   },
   "outputs": [],
   "source": [
    "import openpathsampling as paths\n",
    "from openpathsampling.visualize import PathTreeBuilder\n",
    "from IPython.display import SVG\n",
    "import mdtraj"
   ]
  },
  {
   "cell_type": "code",
   "execution_count": 34,
   "metadata": {
    "collapsed": false
   },
   "outputs": [],
   "source": [
    "storage = paths.AnalysisStorage('trajectory.nc')"
   ]
  },
  {
   "cell_type": "markdown",
   "metadata": {},
   "source": [
    "## Visualization"
   ]
  },
  {
   "cell_type": "markdown",
   "metadata": {},
   "source": [
    "Create a PathTree generator"
   ]
  },
  {
   "cell_type": "code",
   "execution_count": 35,
   "metadata": {
    "collapsed": true
   },
   "outputs": [],
   "source": [
    "tree = PathTreeBuilder(storage)"
   ]
  },
  {
   "cell_type": "markdown",
   "metadata": {},
   "source": [
    "Change the settings to show rejected pathways, mark OrderParaemters `stateA` and `stateX`, and show the 'psi' value as text inside of the boxes"
   ]
  },
  {
   "cell_type": "code",
   "execution_count": 36,
   "metadata": {
    "collapsed": true
   },
   "outputs": [],
   "source": [
    "tree.rejected = False\n",
    "tree.states = [ ('orange',storage.cvs[2])]\n",
    "# Some ideas for collectivevariables to visualize\n",
    "tree.op = lambda snap : 'B' if snap.reversed else 'F'\n",
    "tree.op = lambda snap : int(psi(snap)[0]/3.1415926 * 180)\n",
    "tree.op = lambda snap : snap.configuration.idx(storage.configurations)\n",
    "samps = tree.construct_heritage(storage.samples.last)\n",
    "tree.from_samples(samps)\n",
    "#for sset in storage.samplesets:\n",
    "#    print sset.movepath\n",
    "    \n",
    "#for s in samps:\n",
    "#    print (s, s.ensemble.idx[storage], s.replica, len(tree.construct_heritage(s)), s.mover.__class__.__name__)"
   ]
  },
  {
   "cell_type": "markdown",
   "metadata": {},
   "source": [
    "Render the tree"
   ]
  },
  {
   "cell_type": "code",
   "execution_count": 37,
   "metadata": {
    "collapsed": false
   },
   "outputs": [
    {
     "data": {
      "image/svg+xml": [
       "<svg baseProfile=\"full\" height=\"1372.8px\" version=\"1.1\" width=\"308.0px\" xmlns=\"http://www.w3.org/2000/svg\" xmlns:ev=\"http://www.w3.org/2001/xml-events\" xmlns:xlink=\"http://www.w3.org/1999/xlink\"><defs/><rect fill=\"orange\" height=\"2.64\" stroke=\"orange\" stroke-width=\"1.32\" width=\"22.0\" x=\"176.0\" y=\"1276.44\"/><rect fill=\"orange\" height=\"2.64\" stroke=\"orange\" stroke-width=\"1.32\" width=\"22.0\" x=\"176.0\" y=\"1250.04\"/><rect fill=\"orange\" height=\"2.64\" stroke=\"orange\" stroke-width=\"1.32\" width=\"22.0\" x=\"220.0\" y=\"1223.64\"/><rect fill=\"orange\" height=\"2.64\" stroke=\"orange\" stroke-width=\"1.32\" width=\"22.0\" x=\"176.0\" y=\"1197.24\"/><rect fill=\"orange\" height=\"2.64\" stroke=\"orange\" stroke-width=\"1.32\" width=\"22.0\" x=\"220.0\" y=\"1170.84\"/><rect fill=\"orange\" height=\"2.64\" stroke=\"orange\" stroke-width=\"1.32\" width=\"22.0\" x=\"176.0\" y=\"1144.44\"/><rect fill=\"orange\" height=\"2.64\" stroke=\"orange\" stroke-width=\"1.32\" width=\"22.0\" x=\"220.0\" y=\"1118.04\"/><rect fill=\"orange\" height=\"2.64\" stroke=\"orange\" stroke-width=\"1.32\" width=\"22.0\" x=\"220.0\" y=\"1091.64\"/><rect fill=\"orange\" height=\"2.64\" stroke=\"orange\" stroke-width=\"1.32\" width=\"22.0\" x=\"176.0\" y=\"1065.24\"/><rect fill=\"orange\" height=\"2.64\" stroke=\"orange\" stroke-width=\"1.32\" width=\"22.0\" x=\"220.0\" y=\"1038.84\"/><rect fill=\"orange\" height=\"2.64\" stroke=\"orange\" stroke-width=\"1.32\" width=\"22.0\" x=\"176.0\" y=\"1012.44\"/><rect fill=\"orange\" height=\"2.64\" stroke=\"orange\" stroke-width=\"1.32\" width=\"22.0\" x=\"220.0\" y=\"986.04\"/><rect fill=\"orange\" height=\"2.64\" stroke=\"orange\" stroke-width=\"1.32\" width=\"22.0\" x=\"176.0\" y=\"959.64\"/><rect fill=\"orange\" height=\"2.64\" stroke=\"orange\" stroke-width=\"1.32\" width=\"22.0\" x=\"220.0\" y=\"933.24\"/><rect fill=\"orange\" height=\"2.64\" stroke=\"orange\" stroke-width=\"1.32\" width=\"22.0\" x=\"176.0\" y=\"906.84\"/><rect fill=\"orange\" height=\"2.64\" stroke=\"orange\" stroke-width=\"1.32\" width=\"22.0\" x=\"220.0\" y=\"880.44\"/><rect fill=\"orange\" height=\"2.64\" stroke=\"orange\" stroke-width=\"1.32\" width=\"22.0\" x=\"176.0\" y=\"854.04\"/><rect fill=\"orange\" height=\"2.64\" stroke=\"orange\" stroke-width=\"1.32\" width=\"22.0\" x=\"220.0\" y=\"827.64\"/><rect fill=\"orange\" height=\"2.64\" stroke=\"orange\" stroke-width=\"1.32\" width=\"22.0\" x=\"220.0\" y=\"801.24\"/><rect fill=\"orange\" height=\"2.64\" stroke=\"orange\" stroke-width=\"1.32\" width=\"22.0\" x=\"176.0\" y=\"774.84\"/><rect fill=\"orange\" height=\"2.64\" stroke=\"orange\" stroke-width=\"1.32\" width=\"22.0\" x=\"176.0\" y=\"748.44\"/><rect fill=\"orange\" height=\"2.64\" stroke=\"orange\" stroke-width=\"1.32\" width=\"22.0\" x=\"176.0\" y=\"722.04\"/><rect fill=\"orange\" height=\"2.64\" stroke=\"orange\" stroke-width=\"1.32\" width=\"22.0\" x=\"176.0\" y=\"695.64\"/><rect fill=\"orange\" height=\"2.64\" stroke=\"orange\" stroke-width=\"1.32\" width=\"22.0\" x=\"176.0\" y=\"669.24\"/><rect fill=\"orange\" height=\"2.64\" stroke=\"orange\" stroke-width=\"1.32\" width=\"22.0\" x=\"220.0\" y=\"642.84\"/><rect fill=\"orange\" height=\"2.64\" stroke=\"orange\" stroke-width=\"1.32\" width=\"22.0\" x=\"176.0\" y=\"616.44\"/><rect fill=\"orange\" height=\"2.64\" stroke=\"orange\" stroke-width=\"1.32\" width=\"22.0\" x=\"176.0\" y=\"590.04\"/><rect fill=\"orange\" height=\"2.64\" stroke=\"orange\" stroke-width=\"1.32\" width=\"22.0\" x=\"176.0\" y=\"563.64\"/><rect fill=\"orange\" height=\"2.64\" stroke=\"orange\" stroke-width=\"1.32\" width=\"22.0\" x=\"220.0\" y=\"537.24\"/><rect fill=\"orange\" height=\"2.64\" stroke=\"orange\" stroke-width=\"1.32\" width=\"22.0\" x=\"176.0\" y=\"510.84\"/><rect fill=\"orange\" height=\"2.64\" stroke=\"orange\" stroke-width=\"1.32\" width=\"22.0\" x=\"220.0\" y=\"484.44\"/><rect fill=\"orange\" height=\"2.64\" stroke=\"orange\" stroke-width=\"1.32\" width=\"22.0\" x=\"220.0\" y=\"458.04\"/><rect fill=\"orange\" height=\"2.64\" stroke=\"orange\" stroke-width=\"1.32\" width=\"22.0\" x=\"176.0\" y=\"431.64\"/><rect fill=\"orange\" height=\"2.64\" stroke=\"orange\" stroke-width=\"1.32\" width=\"22.0\" x=\"176.0\" y=\"405.24\"/><rect fill=\"orange\" height=\"2.64\" stroke=\"orange\" stroke-width=\"1.32\" width=\"22.0\" x=\"220.0\" y=\"378.84\"/><rect fill=\"orange\" height=\"2.64\" stroke=\"orange\" stroke-width=\"1.32\" width=\"22.0\" x=\"176.0\" y=\"352.44\"/><rect fill=\"orange\" height=\"2.64\" stroke=\"orange\" stroke-width=\"1.32\" width=\"22.0\" x=\"264.0\" y=\"326.04\"/><rect fill=\"orange\" height=\"2.64\" stroke=\"orange\" stroke-width=\"1.32\" width=\"22.0\" x=\"176.0\" y=\"299.64\"/><rect fill=\"orange\" height=\"2.64\" stroke=\"orange\" stroke-width=\"1.32\" width=\"22.0\" x=\"176.0\" y=\"273.24\"/><rect fill=\"orange\" height=\"2.64\" stroke=\"orange\" stroke-width=\"1.32\" width=\"22.0\" x=\"176.0\" y=\"246.84\"/><rect fill=\"orange\" height=\"2.64\" stroke=\"orange\" stroke-width=\"1.32\" width=\"22.0\" x=\"176.0\" y=\"220.44\"/><rect fill=\"orange\" height=\"2.64\" stroke=\"orange\" stroke-width=\"1.32\" width=\"22.0\" x=\"176.0\" y=\"194.04\"/><rect fill=\"orange\" height=\"2.64\" stroke=\"orange\" stroke-width=\"1.32\" width=\"22.0\" x=\"176.0\" y=\"167.64\"/><rect fill=\"orange\" height=\"2.64\" stroke=\"orange\" stroke-width=\"1.32\" width=\"22.0\" x=\"264.0\" y=\"141.24\"/><rect fill=\"orange\" height=\"2.64\" stroke=\"orange\" stroke-width=\"1.32\" width=\"22.0\" x=\"176.0\" y=\"114.84\"/><rect fill=\"orange\" height=\"2.64\" stroke=\"orange\" stroke-width=\"1.32\" width=\"22.0\" x=\"264.0\" y=\"88.44\"/><rect fill=\"orange\" height=\"2.64\" stroke=\"orange\" stroke-width=\"1.32\" width=\"22.0\" x=\"264.0\" y=\"62.04\"/><rect fill=\"orange\" height=\"2.64\" stroke=\"orange\" stroke-width=\"1.32\" width=\"22.0\" x=\"264.0\" y=\"35.64\"/><rect fill=\"orange\" height=\"2.64\" stroke=\"orange\" stroke-width=\"1.32\" width=\"22.0\" x=\"176.0\" y=\"35.64\"/><text alignment-baseline=\"middle\" fill=\"black\" font-family=\"Futura\" font-size=\"9.24\" text-anchor=\"end\" x=\"171.6\" y=\"27.72\">2b</text><rect fill=\"black\" height=\"15.84\" width=\"19.8\" x=\"177.1\" y=\"18.48\"/><circle cx=\"198.0\" cy=\"26.4\" fill=\"black\" r=\"1.1\" stroke=\"black\" stroke-width=\"0\"/><text alignment-baseline=\"middle\" fill=\"white\" font-family=\"Futura\" font-size=\"9.24\" text-anchor=\"middle\" x=\"187.0\" y=\"27.72\">55</text><rect fill=\"black\" height=\"15.84\" width=\"19.8\" x=\"199.1\" y=\"18.48\"/><circle cx=\"198.0\" cy=\"26.4\" fill=\"black\" r=\"1.1\" stroke=\"black\" stroke-width=\"0\"/><circle cx=\"220.0\" cy=\"26.4\" fill=\"black\" r=\"1.1\" stroke=\"black\" stroke-width=\"0\"/><text alignment-baseline=\"middle\" fill=\"white\" font-family=\"Futura\" font-size=\"9.24\" text-anchor=\"middle\" x=\"209.0\" y=\"27.72\">56</text><rect fill=\"black\" height=\"15.84\" width=\"19.8\" x=\"221.1\" y=\"18.48\"/><circle cx=\"220.0\" cy=\"26.4\" fill=\"black\" r=\"1.1\" stroke=\"black\" stroke-width=\"0\"/><circle cx=\"242.0\" cy=\"26.4\" fill=\"black\" r=\"1.1\" stroke=\"black\" stroke-width=\"0\"/><text alignment-baseline=\"middle\" fill=\"white\" font-family=\"Futura\" font-size=\"9.24\" text-anchor=\"middle\" x=\"231.0\" y=\"27.72\">60</text><rect fill=\"black\" height=\"15.84\" width=\"19.8\" x=\"243.1\" y=\"18.48\"/><circle cx=\"242.0\" cy=\"26.4\" fill=\"black\" r=\"1.1\" stroke=\"black\" stroke-width=\"0\"/><circle cx=\"264.0\" cy=\"26.4\" fill=\"black\" r=\"1.1\" stroke=\"black\" stroke-width=\"0\"/><text alignment-baseline=\"middle\" fill=\"white\" font-family=\"Futura\" font-size=\"9.24\" text-anchor=\"middle\" x=\"253.0\" y=\"27.72\">61</text><rect fill=\"black\" height=\"15.84\" width=\"19.8\" x=\"265.1\" y=\"18.48\"/><circle cx=\"264.0\" cy=\"26.4\" fill=\"black\" r=\"1.1\" stroke=\"black\" stroke-width=\"0\"/><text alignment-baseline=\"middle\" fill=\"white\" font-family=\"Futura\" font-size=\"9.24\" text-anchor=\"middle\" x=\"275.0\" y=\"27.72\">62</text><line stroke=\"red\" stroke-width=\"1.32\" x1=\"220.0\" x2=\"220.0\" y1=\"27.72\" y2=\"51.48\"/><text alignment-baseline=\"middle\" fill=\"black\" font-family=\"Futura\" font-size=\"9.24\" text-anchor=\"start\" x=\"290.4\" y=\"54.12\">3f</text><rect fill=\"red\" height=\"15.84\" width=\"19.8\" x=\"221.1\" y=\"44.88\"/><circle cx=\"220.0\" cy=\"52.8\" fill=\"red\" r=\"1.1\" stroke=\"red\" stroke-width=\"0\"/><circle cx=\"242.0\" cy=\"52.8\" fill=\"red\" r=\"1.1\" stroke=\"red\" stroke-width=\"0\"/><text alignment-baseline=\"middle\" fill=\"white\" font-family=\"Futura\" font-size=\"9.24\" text-anchor=\"middle\" x=\"231.0\" y=\"54.12\">63</text><rect fill=\"red\" height=\"15.84\" width=\"19.8\" x=\"243.1\" y=\"44.88\"/><circle cx=\"242.0\" cy=\"52.8\" fill=\"red\" r=\"1.1\" stroke=\"red\" stroke-width=\"0\"/><circle cx=\"264.0\" cy=\"52.8\" fill=\"red\" r=\"1.1\" stroke=\"red\" stroke-width=\"0\"/><text alignment-baseline=\"middle\" fill=\"white\" font-family=\"Futura\" font-size=\"9.24\" text-anchor=\"middle\" x=\"253.0\" y=\"54.12\">64</text><rect fill=\"red\" height=\"15.84\" width=\"19.8\" x=\"265.1\" y=\"44.88\"/><circle cx=\"264.0\" cy=\"52.8\" fill=\"red\" r=\"1.1\" stroke=\"red\" stroke-width=\"0\"/><text alignment-baseline=\"middle\" fill=\"white\" font-family=\"Futura\" font-size=\"9.24\" text-anchor=\"middle\" x=\"275.0\" y=\"54.12\">65</text><line stroke=\"red\" stroke-width=\"1.32\" x1=\"220.0\" x2=\"220.0\" y1=\"27.72\" y2=\"77.88\"/><text alignment-baseline=\"middle\" fill=\"black\" font-family=\"Futura\" font-size=\"9.24\" text-anchor=\"start\" x=\"290.4\" y=\"80.52\">4f</text><rect fill=\"red\" height=\"15.84\" width=\"19.8\" x=\"221.1\" y=\"71.28\"/><circle cx=\"220.0\" cy=\"79.2\" fill=\"red\" r=\"1.1\" stroke=\"red\" stroke-width=\"0\"/><circle cx=\"242.0\" cy=\"79.2\" fill=\"red\" r=\"1.1\" stroke=\"red\" stroke-width=\"0\"/><text alignment-baseline=\"middle\" fill=\"white\" font-family=\"Futura\" font-size=\"9.24\" text-anchor=\"middle\" x=\"231.0\" y=\"80.52\">66</text><rect fill=\"red\" height=\"15.84\" width=\"19.8\" x=\"243.1\" y=\"71.28\"/><circle cx=\"242.0\" cy=\"79.2\" fill=\"red\" r=\"1.1\" stroke=\"red\" stroke-width=\"0\"/><circle cx=\"264.0\" cy=\"79.2\" fill=\"red\" r=\"1.1\" stroke=\"red\" stroke-width=\"0\"/><text alignment-baseline=\"middle\" fill=\"white\" font-family=\"Futura\" font-size=\"9.24\" text-anchor=\"middle\" x=\"253.0\" y=\"80.52\">67</text><rect fill=\"red\" height=\"15.84\" width=\"19.8\" x=\"265.1\" y=\"71.28\"/><circle cx=\"264.0\" cy=\"79.2\" fill=\"red\" r=\"1.1\" stroke=\"red\" stroke-width=\"0\"/><text alignment-baseline=\"middle\" fill=\"white\" font-family=\"Futura\" font-size=\"9.24\" text-anchor=\"middle\" x=\"275.0\" y=\"80.52\">68</text><line stroke=\"green\" stroke-width=\"1.32\" x1=\"242.0\" x2=\"242.0\" y1=\"80.52\" y2=\"104.28\"/><text alignment-baseline=\"middle\" fill=\"black\" font-family=\"Futura\" font-size=\"9.24\" text-anchor=\"end\" x=\"171.6\" y=\"106.92\">5b</text><rect fill=\"green\" height=\"15.84\" width=\"19.8\" x=\"177.1\" y=\"97.68\"/><circle cx=\"198.0\" cy=\"105.6\" fill=\"green\" r=\"1.1\" stroke=\"green\" stroke-width=\"0\"/><text alignment-baseline=\"middle\" fill=\"white\" font-family=\"Futura\" font-size=\"9.24\" text-anchor=\"middle\" x=\"187.0\" y=\"106.92\">69</text><rect fill=\"green\" height=\"15.84\" width=\"19.8\" x=\"199.1\" y=\"97.68\"/><circle cx=\"198.0\" cy=\"105.6\" fill=\"green\" r=\"1.1\" stroke=\"green\" stroke-width=\"0\"/><circle cx=\"220.0\" cy=\"105.6\" fill=\"green\" r=\"1.1\" stroke=\"green\" stroke-width=\"0\"/><text alignment-baseline=\"middle\" fill=\"white\" font-family=\"Futura\" font-size=\"9.24\" text-anchor=\"middle\" x=\"209.0\" y=\"106.92\">70</text><rect fill=\"green\" height=\"15.84\" width=\"19.8\" x=\"221.1\" y=\"97.68\"/><circle cx=\"220.0\" cy=\"105.6\" fill=\"green\" r=\"1.1\" stroke=\"green\" stroke-width=\"0\"/><circle cx=\"242.0\" cy=\"105.6\" fill=\"green\" r=\"1.1\" stroke=\"green\" stroke-width=\"0\"/><text alignment-baseline=\"middle\" fill=\"white\" font-family=\"Futura\" font-size=\"9.24\" text-anchor=\"middle\" x=\"231.0\" y=\"106.92\">71</text><line stroke=\"red\" stroke-width=\"1.32\" x1=\"264.0\" x2=\"264.0\" y1=\"80.52\" y2=\"130.68\"/><text alignment-baseline=\"middle\" fill=\"black\" font-family=\"Futura\" font-size=\"9.24\" text-anchor=\"start\" x=\"290.4\" y=\"133.32\">6f</text><rect fill=\"red\" height=\"15.84\" width=\"19.8\" x=\"265.1\" y=\"124.08\"/><circle cx=\"264.0\" cy=\"132.0\" fill=\"red\" r=\"1.1\" stroke=\"red\" stroke-width=\"0\"/><text alignment-baseline=\"middle\" fill=\"white\" font-family=\"Futura\" font-size=\"9.24\" text-anchor=\"middle\" x=\"275.0\" y=\"133.32\">72</text><line stroke=\"green\" stroke-width=\"1.32\" x1=\"198.0\" x2=\"198.0\" y1=\"106.92\" y2=\"157.08\"/><text alignment-baseline=\"middle\" fill=\"black\" font-family=\"Futura\" font-size=\"9.24\" text-anchor=\"end\" x=\"171.6\" y=\"159.72\">7b</text><rect fill=\"green\" height=\"15.84\" width=\"19.8\" x=\"177.1\" y=\"150.48\"/><circle cx=\"198.0\" cy=\"158.4\" fill=\"green\" r=\"1.1\" stroke=\"green\" stroke-width=\"0\"/><text alignment-baseline=\"middle\" fill=\"white\" font-family=\"Futura\" font-size=\"9.24\" text-anchor=\"middle\" x=\"187.0\" y=\"159.72\">73</text><line stroke=\"green\" stroke-width=\"1.32\" x1=\"198.0\" x2=\"198.0\" y1=\"106.92\" y2=\"183.48\"/><text alignment-baseline=\"middle\" fill=\"black\" font-family=\"Futura\" font-size=\"9.24\" text-anchor=\"end\" x=\"171.6\" y=\"186.12\">10b</text><rect fill=\"green\" height=\"15.84\" width=\"19.8\" x=\"177.1\" y=\"176.88\"/><circle cx=\"198.0\" cy=\"184.8\" fill=\"green\" r=\"1.1\" stroke=\"green\" stroke-width=\"0\"/><text alignment-baseline=\"middle\" fill=\"white\" font-family=\"Futura\" font-size=\"9.24\" text-anchor=\"middle\" x=\"187.0\" y=\"186.12\">76</text><line stroke=\"green\" stroke-width=\"1.32\" x1=\"198.0\" x2=\"198.0\" y1=\"106.92\" y2=\"209.88\"/><text alignment-baseline=\"middle\" fill=\"black\" font-family=\"Futura\" font-size=\"9.24\" text-anchor=\"end\" x=\"171.6\" y=\"212.52\">11b</text><rect fill=\"green\" height=\"15.84\" width=\"19.8\" x=\"177.1\" y=\"203.28\"/><circle cx=\"198.0\" cy=\"211.2\" fill=\"green\" r=\"1.1\" stroke=\"green\" stroke-width=\"0\"/><text alignment-baseline=\"middle\" fill=\"white\" font-family=\"Futura\" font-size=\"9.24\" text-anchor=\"middle\" x=\"187.0\" y=\"212.52\">77</text><line stroke=\"green\" stroke-width=\"1.32\" x1=\"220.0\" x2=\"220.0\" y1=\"106.92\" y2=\"236.28\"/><text alignment-baseline=\"middle\" fill=\"black\" font-family=\"Futura\" font-size=\"9.24\" text-anchor=\"end\" x=\"171.6\" y=\"238.92\">12b</text><rect fill=\"green\" height=\"15.84\" width=\"19.8\" x=\"177.1\" y=\"229.68\"/><circle cx=\"198.0\" cy=\"237.6\" fill=\"green\" r=\"1.1\" stroke=\"green\" stroke-width=\"0\"/><text alignment-baseline=\"middle\" fill=\"white\" font-family=\"Futura\" font-size=\"9.24\" text-anchor=\"middle\" x=\"187.0\" y=\"238.92\">78</text><rect fill=\"green\" height=\"15.84\" width=\"19.8\" x=\"199.1\" y=\"229.68\"/><circle cx=\"198.0\" cy=\"237.6\" fill=\"green\" r=\"1.1\" stroke=\"green\" stroke-width=\"0\"/><circle cx=\"220.0\" cy=\"237.6\" fill=\"green\" r=\"1.1\" stroke=\"green\" stroke-width=\"0\"/><text alignment-baseline=\"middle\" fill=\"white\" font-family=\"Futura\" font-size=\"9.24\" text-anchor=\"middle\" x=\"209.0\" y=\"238.92\">79</text><line stroke=\"green\" stroke-width=\"1.32\" x1=\"220.0\" x2=\"220.0\" y1=\"106.92\" y2=\"262.68\"/><text alignment-baseline=\"middle\" fill=\"black\" font-family=\"Futura\" font-size=\"9.24\" text-anchor=\"end\" x=\"171.6\" y=\"265.32\">13b</text><rect fill=\"green\" height=\"15.84\" width=\"19.8\" x=\"177.1\" y=\"256.08\"/><circle cx=\"198.0\" cy=\"264.0\" fill=\"green\" r=\"1.1\" stroke=\"green\" stroke-width=\"0\"/><text alignment-baseline=\"middle\" fill=\"white\" font-family=\"Futura\" font-size=\"9.24\" text-anchor=\"middle\" x=\"187.0\" y=\"265.32\">80</text><rect fill=\"green\" height=\"15.84\" width=\"19.8\" x=\"199.1\" y=\"256.08\"/><circle cx=\"198.0\" cy=\"264.0\" fill=\"green\" r=\"1.1\" stroke=\"green\" stroke-width=\"0\"/><circle cx=\"220.0\" cy=\"264.0\" fill=\"green\" r=\"1.1\" stroke=\"green\" stroke-width=\"0\"/><text alignment-baseline=\"middle\" fill=\"white\" font-family=\"Futura\" font-size=\"9.24\" text-anchor=\"middle\" x=\"209.0\" y=\"265.32\">81</text><line stroke=\"green\" stroke-width=\"1.32\" x1=\"220.0\" x2=\"220.0\" y1=\"106.92\" y2=\"289.08\"/><text alignment-baseline=\"middle\" fill=\"black\" font-family=\"Futura\" font-size=\"9.24\" text-anchor=\"end\" x=\"171.6\" y=\"291.72\">14b</text><rect fill=\"green\" height=\"15.84\" width=\"19.8\" x=\"177.1\" y=\"282.48\"/><circle cx=\"198.0\" cy=\"290.4\" fill=\"green\" r=\"1.1\" stroke=\"green\" stroke-width=\"0\"/><text alignment-baseline=\"middle\" fill=\"white\" font-family=\"Futura\" font-size=\"9.24\" text-anchor=\"middle\" x=\"187.0\" y=\"291.72\">82</text><rect fill=\"green\" height=\"15.84\" width=\"19.8\" x=\"199.1\" y=\"282.48\"/><circle cx=\"198.0\" cy=\"290.4\" fill=\"green\" r=\"1.1\" stroke=\"green\" stroke-width=\"0\"/><circle cx=\"220.0\" cy=\"290.4\" fill=\"green\" r=\"1.1\" stroke=\"green\" stroke-width=\"0\"/><text alignment-baseline=\"middle\" fill=\"white\" font-family=\"Futura\" font-size=\"9.24\" text-anchor=\"middle\" x=\"209.0\" y=\"291.72\">83</text><line stroke=\"red\" stroke-width=\"1.32\" x1=\"242.0\" x2=\"242.0\" y1=\"106.92\" y2=\"315.48\"/><text alignment-baseline=\"middle\" fill=\"black\" font-family=\"Futura\" font-size=\"9.24\" text-anchor=\"start\" x=\"290.4\" y=\"318.12\">15f</text><rect fill=\"red\" height=\"15.84\" width=\"19.8\" x=\"243.1\" y=\"308.88\"/><circle cx=\"242.0\" cy=\"316.8\" fill=\"red\" r=\"1.1\" stroke=\"red\" stroke-width=\"0\"/><circle cx=\"264.0\" cy=\"316.8\" fill=\"red\" r=\"1.1\" stroke=\"red\" stroke-width=\"0\"/><text alignment-baseline=\"middle\" fill=\"white\" font-family=\"Futura\" font-size=\"9.24\" text-anchor=\"middle\" x=\"253.0\" y=\"318.12\">84</text><rect fill=\"red\" height=\"15.84\" width=\"19.8\" x=\"265.1\" y=\"308.88\"/><circle cx=\"264.0\" cy=\"316.8\" fill=\"red\" r=\"1.1\" stroke=\"red\" stroke-width=\"0\"/><text alignment-baseline=\"middle\" fill=\"white\" font-family=\"Futura\" font-size=\"9.24\" text-anchor=\"middle\" x=\"275.0\" y=\"318.12\">85</text><line stroke=\"green\" stroke-width=\"1.32\" x1=\"198.0\" x2=\"198.0\" y1=\"291.72\" y2=\"341.88\"/><text alignment-baseline=\"middle\" fill=\"black\" font-family=\"Futura\" font-size=\"9.24\" text-anchor=\"end\" x=\"171.6\" y=\"344.52\">16b</text><rect fill=\"green\" height=\"15.84\" width=\"19.8\" x=\"177.1\" y=\"335.28\"/><circle cx=\"198.0\" cy=\"343.2\" fill=\"green\" r=\"1.1\" stroke=\"green\" stroke-width=\"0\"/><text alignment-baseline=\"middle\" fill=\"white\" font-family=\"Futura\" font-size=\"9.24\" text-anchor=\"middle\" x=\"187.0\" y=\"344.52\">86</text><line stroke=\"red\" stroke-width=\"1.32\" x1=\"220.0\" x2=\"220.0\" y1=\"291.72\" y2=\"368.28\"/><text alignment-baseline=\"middle\" fill=\"black\" font-family=\"Futura\" font-size=\"9.24\" text-anchor=\"start\" x=\"246.4\" y=\"370.92\">17f</text><rect fill=\"red\" height=\"15.84\" width=\"19.8\" x=\"221.1\" y=\"361.68\"/><circle cx=\"220.0\" cy=\"369.6\" fill=\"red\" r=\"1.1\" stroke=\"red\" stroke-width=\"0\"/><text alignment-baseline=\"middle\" fill=\"white\" font-family=\"Futura\" font-size=\"9.24\" text-anchor=\"middle\" x=\"231.0\" y=\"370.92\">87</text><line stroke=\"green\" stroke-width=\"1.32\" x1=\"198.0\" x2=\"198.0\" y1=\"291.72\" y2=\"394.68\"/><text alignment-baseline=\"middle\" fill=\"black\" font-family=\"Futura\" font-size=\"9.24\" text-anchor=\"end\" x=\"171.6\" y=\"397.32\">18b</text><rect fill=\"green\" height=\"15.84\" width=\"19.8\" x=\"177.1\" y=\"388.08\"/><circle cx=\"198.0\" cy=\"396.0\" fill=\"green\" r=\"1.1\" stroke=\"green\" stroke-width=\"0\"/><text alignment-baseline=\"middle\" fill=\"white\" font-family=\"Futura\" font-size=\"9.24\" text-anchor=\"middle\" x=\"187.0\" y=\"397.32\">88</text><line stroke=\"green\" stroke-width=\"1.32\" x1=\"198.0\" x2=\"198.0\" y1=\"291.72\" y2=\"421.08\"/><text alignment-baseline=\"middle\" fill=\"black\" font-family=\"Futura\" font-size=\"9.24\" text-anchor=\"end\" x=\"171.6\" y=\"423.72\">19b</text><rect fill=\"green\" height=\"15.84\" width=\"19.8\" x=\"177.1\" y=\"414.48\"/><circle cx=\"198.0\" cy=\"422.4\" fill=\"green\" r=\"1.1\" stroke=\"green\" stroke-width=\"0\"/><text alignment-baseline=\"middle\" fill=\"white\" font-family=\"Futura\" font-size=\"9.24\" text-anchor=\"middle\" x=\"187.0\" y=\"423.72\">89</text><line stroke=\"red\" stroke-width=\"1.32\" x1=\"220.0\" x2=\"220.0\" y1=\"291.72\" y2=\"447.48\"/><text alignment-baseline=\"middle\" fill=\"black\" font-family=\"Futura\" font-size=\"9.24\" text-anchor=\"start\" x=\"246.4\" y=\"450.12\">20f</text><rect fill=\"red\" height=\"15.84\" width=\"19.8\" x=\"221.1\" y=\"440.88\"/><circle cx=\"220.0\" cy=\"448.8\" fill=\"red\" r=\"1.1\" stroke=\"red\" stroke-width=\"0\"/><text alignment-baseline=\"middle\" fill=\"white\" font-family=\"Futura\" font-size=\"9.24\" text-anchor=\"middle\" x=\"231.0\" y=\"450.12\">90</text><line stroke=\"red\" stroke-width=\"1.32\" x1=\"220.0\" x2=\"220.0\" y1=\"291.72\" y2=\"473.88\"/><text alignment-baseline=\"middle\" fill=\"black\" font-family=\"Futura\" font-size=\"9.24\" text-anchor=\"start\" x=\"246.4\" y=\"476.52\">21f</text><rect fill=\"red\" height=\"15.84\" width=\"19.8\" x=\"221.1\" y=\"467.28\"/><circle cx=\"220.0\" cy=\"475.2\" fill=\"red\" r=\"1.1\" stroke=\"red\" stroke-width=\"0\"/><text alignment-baseline=\"middle\" fill=\"white\" font-family=\"Futura\" font-size=\"9.24\" text-anchor=\"middle\" x=\"231.0\" y=\"476.52\">91</text><line stroke=\"green\" stroke-width=\"1.32\" x1=\"198.0\" x2=\"198.0\" y1=\"291.72\" y2=\"500.28\"/><text alignment-baseline=\"middle\" fill=\"black\" font-family=\"Futura\" font-size=\"9.24\" text-anchor=\"end\" x=\"171.6\" y=\"502.92\">22b</text><rect fill=\"green\" height=\"15.84\" width=\"19.8\" x=\"177.1\" y=\"493.68\"/><circle cx=\"198.0\" cy=\"501.6\" fill=\"green\" r=\"1.1\" stroke=\"green\" stroke-width=\"0\"/><text alignment-baseline=\"middle\" fill=\"white\" font-family=\"Futura\" font-size=\"9.24\" text-anchor=\"middle\" x=\"187.0\" y=\"502.92\">92</text><line stroke=\"red\" stroke-width=\"1.32\" x1=\"220.0\" x2=\"220.0\" y1=\"291.72\" y2=\"526.68\"/><text alignment-baseline=\"middle\" fill=\"black\" font-family=\"Futura\" font-size=\"9.24\" text-anchor=\"start\" x=\"246.4\" y=\"529.32\">23f</text><rect fill=\"red\" height=\"15.84\" width=\"19.8\" x=\"221.1\" y=\"520.08\"/><circle cx=\"220.0\" cy=\"528.0\" fill=\"red\" r=\"1.1\" stroke=\"red\" stroke-width=\"0\"/><text alignment-baseline=\"middle\" fill=\"white\" font-family=\"Futura\" font-size=\"9.24\" text-anchor=\"middle\" x=\"231.0\" y=\"529.32\">93</text><line stroke=\"green\" stroke-width=\"1.32\" x1=\"198.0\" x2=\"198.0\" y1=\"291.72\" y2=\"553.08\"/><text alignment-baseline=\"middle\" fill=\"black\" font-family=\"Futura\" font-size=\"9.24\" text-anchor=\"end\" x=\"171.6\" y=\"555.72\">24b</text><rect fill=\"green\" height=\"15.84\" width=\"19.8\" x=\"177.1\" y=\"546.48\"/><circle cx=\"198.0\" cy=\"554.4\" fill=\"green\" r=\"1.1\" stroke=\"green\" stroke-width=\"0\"/><text alignment-baseline=\"middle\" fill=\"white\" font-family=\"Futura\" font-size=\"9.24\" text-anchor=\"middle\" x=\"187.0\" y=\"555.72\">94</text><line stroke=\"green\" stroke-width=\"1.32\" x1=\"198.0\" x2=\"198.0\" y1=\"291.72\" y2=\"579.48\"/><text alignment-baseline=\"middle\" fill=\"black\" font-family=\"Futura\" font-size=\"9.24\" text-anchor=\"end\" x=\"171.6\" y=\"582.12\">25b</text><rect fill=\"green\" height=\"15.84\" width=\"19.8\" x=\"177.1\" y=\"572.88\"/><circle cx=\"198.0\" cy=\"580.8\" fill=\"green\" r=\"1.1\" stroke=\"green\" stroke-width=\"0\"/><text alignment-baseline=\"middle\" fill=\"white\" font-family=\"Futura\" font-size=\"9.24\" text-anchor=\"middle\" x=\"187.0\" y=\"582.12\">95</text><line stroke=\"green\" stroke-width=\"1.32\" x1=\"198.0\" x2=\"198.0\" y1=\"291.72\" y2=\"605.88\"/><text alignment-baseline=\"middle\" fill=\"black\" font-family=\"Futura\" font-size=\"9.24\" text-anchor=\"end\" x=\"171.6\" y=\"608.52\">26b</text><rect fill=\"green\" height=\"15.84\" width=\"19.8\" x=\"177.1\" y=\"599.28\"/><circle cx=\"198.0\" cy=\"607.2\" fill=\"green\" r=\"1.1\" stroke=\"green\" stroke-width=\"0\"/><text alignment-baseline=\"middle\" fill=\"white\" font-family=\"Futura\" font-size=\"9.24\" text-anchor=\"middle\" x=\"187.0\" y=\"608.52\">96</text><line stroke=\"red\" stroke-width=\"1.32\" x1=\"220.0\" x2=\"220.0\" y1=\"291.72\" y2=\"632.28\"/><text alignment-baseline=\"middle\" fill=\"black\" font-family=\"Futura\" font-size=\"9.24\" text-anchor=\"start\" x=\"246.4\" y=\"634.92\">27f</text><rect fill=\"red\" height=\"15.84\" width=\"19.8\" x=\"221.1\" y=\"625.68\"/><circle cx=\"220.0\" cy=\"633.6\" fill=\"red\" r=\"1.1\" stroke=\"red\" stroke-width=\"0\"/><text alignment-baseline=\"middle\" fill=\"white\" font-family=\"Futura\" font-size=\"9.24\" text-anchor=\"middle\" x=\"231.0\" y=\"634.92\">97</text><line stroke=\"green\" stroke-width=\"1.32\" x1=\"198.0\" x2=\"198.0\" y1=\"291.72\" y2=\"658.68\"/><text alignment-baseline=\"middle\" fill=\"black\" font-family=\"Futura\" font-size=\"9.24\" text-anchor=\"end\" x=\"171.6\" y=\"661.32\">28b</text><rect fill=\"green\" height=\"15.84\" width=\"19.8\" x=\"177.1\" y=\"652.08\"/><circle cx=\"198.0\" cy=\"660.0\" fill=\"green\" r=\"1.1\" stroke=\"green\" stroke-width=\"0\"/><text alignment-baseline=\"middle\" fill=\"white\" font-family=\"Futura\" font-size=\"9.24\" text-anchor=\"middle\" x=\"187.0\" y=\"661.32\">98</text><line stroke=\"green\" stroke-width=\"1.32\" x1=\"198.0\" x2=\"198.0\" y1=\"291.72\" y2=\"685.08\"/><text alignment-baseline=\"middle\" fill=\"black\" font-family=\"Futura\" font-size=\"9.24\" text-anchor=\"end\" x=\"171.6\" y=\"687.72\">29b</text><rect fill=\"green\" height=\"15.84\" width=\"19.8\" x=\"177.1\" y=\"678.48\"/><circle cx=\"198.0\" cy=\"686.4\" fill=\"green\" r=\"1.1\" stroke=\"green\" stroke-width=\"0\"/><text alignment-baseline=\"middle\" fill=\"white\" font-family=\"Futura\" font-size=\"9.24\" text-anchor=\"middle\" x=\"187.0\" y=\"687.72\">99</text><line stroke=\"green\" stroke-width=\"1.32\" x1=\"198.0\" x2=\"198.0\" y1=\"291.72\" y2=\"711.48\"/><text alignment-baseline=\"middle\" fill=\"black\" font-family=\"Futura\" font-size=\"9.24\" text-anchor=\"end\" x=\"171.6\" y=\"714.12\">30b</text><rect fill=\"green\" height=\"15.84\" width=\"19.8\" x=\"177.1\" y=\"704.88\"/><circle cx=\"198.0\" cy=\"712.8\" fill=\"green\" r=\"1.1\" stroke=\"green\" stroke-width=\"0\"/><text alignment-baseline=\"middle\" fill=\"white\" font-family=\"Futura\" font-size=\"9.24\" text-anchor=\"middle\" x=\"187.0\" y=\"714.12\">100</text><line stroke=\"green\" stroke-width=\"1.32\" x1=\"198.0\" x2=\"198.0\" y1=\"291.72\" y2=\"737.88\"/><text alignment-baseline=\"middle\" fill=\"black\" font-family=\"Futura\" font-size=\"9.24\" text-anchor=\"end\" x=\"171.6\" y=\"740.52\">31b</text><rect fill=\"green\" height=\"15.84\" width=\"19.8\" x=\"177.1\" y=\"731.28\"/><circle cx=\"198.0\" cy=\"739.2\" fill=\"green\" r=\"1.1\" stroke=\"green\" stroke-width=\"0\"/><text alignment-baseline=\"middle\" fill=\"white\" font-family=\"Futura\" font-size=\"9.24\" text-anchor=\"middle\" x=\"187.0\" y=\"740.52\">101</text><line stroke=\"green\" stroke-width=\"1.32\" x1=\"198.0\" x2=\"198.0\" y1=\"291.72\" y2=\"764.28\"/><text alignment-baseline=\"middle\" fill=\"black\" font-family=\"Futura\" font-size=\"9.24\" text-anchor=\"end\" x=\"171.6\" y=\"766.92\">32b</text><rect fill=\"green\" height=\"15.84\" width=\"19.8\" x=\"177.1\" y=\"757.68\"/><circle cx=\"198.0\" cy=\"765.6\" fill=\"green\" r=\"1.1\" stroke=\"green\" stroke-width=\"0\"/><text alignment-baseline=\"middle\" fill=\"white\" font-family=\"Futura\" font-size=\"9.24\" text-anchor=\"middle\" x=\"187.0\" y=\"766.92\">102</text><line stroke=\"red\" stroke-width=\"1.32\" x1=\"220.0\" x2=\"220.0\" y1=\"291.72\" y2=\"790.68\"/><text alignment-baseline=\"middle\" fill=\"black\" font-family=\"Futura\" font-size=\"9.24\" text-anchor=\"start\" x=\"246.4\" y=\"793.32\">33f</text><rect fill=\"red\" height=\"15.84\" width=\"19.8\" x=\"221.1\" y=\"784.08\"/><circle cx=\"220.0\" cy=\"792.0\" fill=\"red\" r=\"1.1\" stroke=\"red\" stroke-width=\"0\"/><text alignment-baseline=\"middle\" fill=\"white\" font-family=\"Futura\" font-size=\"9.24\" text-anchor=\"middle\" x=\"231.0\" y=\"793.32\">103</text><line stroke=\"red\" stroke-width=\"1.32\" x1=\"220.0\" x2=\"220.0\" y1=\"291.72\" y2=\"817.08\"/><text alignment-baseline=\"middle\" fill=\"black\" font-family=\"Futura\" font-size=\"9.24\" text-anchor=\"start\" x=\"246.4\" y=\"819.72\">34f</text><rect fill=\"red\" height=\"15.84\" width=\"19.8\" x=\"221.1\" y=\"810.48\"/><circle cx=\"220.0\" cy=\"818.4\" fill=\"red\" r=\"1.1\" stroke=\"red\" stroke-width=\"0\"/><text alignment-baseline=\"middle\" fill=\"white\" font-family=\"Futura\" font-size=\"9.24\" text-anchor=\"middle\" x=\"231.0\" y=\"819.72\">104</text><line stroke=\"green\" stroke-width=\"1.32\" x1=\"198.0\" x2=\"198.0\" y1=\"291.72\" y2=\"843.48\"/><text alignment-baseline=\"middle\" fill=\"black\" font-family=\"Futura\" font-size=\"9.24\" text-anchor=\"end\" x=\"171.6\" y=\"846.12\">35b</text><rect fill=\"green\" height=\"15.84\" width=\"19.8\" x=\"177.1\" y=\"836.88\"/><circle cx=\"198.0\" cy=\"844.8\" fill=\"green\" r=\"1.1\" stroke=\"green\" stroke-width=\"0\"/><text alignment-baseline=\"middle\" fill=\"white\" font-family=\"Futura\" font-size=\"9.24\" text-anchor=\"middle\" x=\"187.0\" y=\"846.12\">105</text><line stroke=\"red\" stroke-width=\"1.32\" x1=\"220.0\" x2=\"220.0\" y1=\"291.72\" y2=\"869.88\"/><text alignment-baseline=\"middle\" fill=\"black\" font-family=\"Futura\" font-size=\"9.24\" text-anchor=\"start\" x=\"246.4\" y=\"872.52\">36f</text><rect fill=\"red\" height=\"15.84\" width=\"19.8\" x=\"221.1\" y=\"863.28\"/><circle cx=\"220.0\" cy=\"871.2\" fill=\"red\" r=\"1.1\" stroke=\"red\" stroke-width=\"0\"/><text alignment-baseline=\"middle\" fill=\"white\" font-family=\"Futura\" font-size=\"9.24\" text-anchor=\"middle\" x=\"231.0\" y=\"872.52\">106</text><line stroke=\"green\" stroke-width=\"1.32\" x1=\"198.0\" x2=\"198.0\" y1=\"291.72\" y2=\"896.28\"/><text alignment-baseline=\"middle\" fill=\"black\" font-family=\"Futura\" font-size=\"9.24\" text-anchor=\"end\" x=\"171.6\" y=\"898.92\">37b</text><rect fill=\"green\" height=\"15.84\" width=\"19.8\" x=\"177.1\" y=\"889.68\"/><circle cx=\"198.0\" cy=\"897.6\" fill=\"green\" r=\"1.1\" stroke=\"green\" stroke-width=\"0\"/><text alignment-baseline=\"middle\" fill=\"white\" font-family=\"Futura\" font-size=\"9.24\" text-anchor=\"middle\" x=\"187.0\" y=\"898.92\">107</text><line stroke=\"red\" stroke-width=\"1.32\" x1=\"220.0\" x2=\"220.0\" y1=\"291.72\" y2=\"922.68\"/><text alignment-baseline=\"middle\" fill=\"black\" font-family=\"Futura\" font-size=\"9.24\" text-anchor=\"start\" x=\"246.4\" y=\"925.32\">38f</text><rect fill=\"red\" height=\"15.84\" width=\"19.8\" x=\"221.1\" y=\"916.08\"/><circle cx=\"220.0\" cy=\"924.0\" fill=\"red\" r=\"1.1\" stroke=\"red\" stroke-width=\"0\"/><text alignment-baseline=\"middle\" fill=\"white\" font-family=\"Futura\" font-size=\"9.24\" text-anchor=\"middle\" x=\"231.0\" y=\"925.32\">108</text><line stroke=\"green\" stroke-width=\"1.32\" x1=\"198.0\" x2=\"198.0\" y1=\"291.72\" y2=\"949.08\"/><text alignment-baseline=\"middle\" fill=\"black\" font-family=\"Futura\" font-size=\"9.24\" text-anchor=\"end\" x=\"171.6\" y=\"951.72\">39b</text><rect fill=\"green\" height=\"15.84\" width=\"19.8\" x=\"177.1\" y=\"942.48\"/><circle cx=\"198.0\" cy=\"950.4\" fill=\"green\" r=\"1.1\" stroke=\"green\" stroke-width=\"0\"/><text alignment-baseline=\"middle\" fill=\"white\" font-family=\"Futura\" font-size=\"9.24\" text-anchor=\"middle\" x=\"187.0\" y=\"951.72\">109</text><line stroke=\"red\" stroke-width=\"1.32\" x1=\"220.0\" x2=\"220.0\" y1=\"291.72\" y2=\"975.48\"/><text alignment-baseline=\"middle\" fill=\"black\" font-family=\"Futura\" font-size=\"9.24\" text-anchor=\"start\" x=\"246.4\" y=\"978.12\">40f</text><rect fill=\"red\" height=\"15.84\" width=\"19.8\" x=\"221.1\" y=\"968.88\"/><circle cx=\"220.0\" cy=\"976.8\" fill=\"red\" r=\"1.1\" stroke=\"red\" stroke-width=\"0\"/><text alignment-baseline=\"middle\" fill=\"white\" font-family=\"Futura\" font-size=\"9.24\" text-anchor=\"middle\" x=\"231.0\" y=\"978.12\">110</text><line stroke=\"green\" stroke-width=\"1.32\" x1=\"198.0\" x2=\"198.0\" y1=\"291.72\" y2=\"1001.88\"/><text alignment-baseline=\"middle\" fill=\"black\" font-family=\"Futura\" font-size=\"9.24\" text-anchor=\"end\" x=\"171.6\" y=\"1004.52\">41b</text><rect fill=\"green\" height=\"15.84\" width=\"19.8\" x=\"177.1\" y=\"995.28\"/><circle cx=\"198.0\" cy=\"1003.2\" fill=\"green\" r=\"1.1\" stroke=\"green\" stroke-width=\"0\"/><text alignment-baseline=\"middle\" fill=\"white\" font-family=\"Futura\" font-size=\"9.24\" text-anchor=\"middle\" x=\"187.0\" y=\"1004.52\">111</text><line stroke=\"red\" stroke-width=\"1.32\" x1=\"220.0\" x2=\"220.0\" y1=\"291.72\" y2=\"1028.28\"/><text alignment-baseline=\"middle\" fill=\"black\" font-family=\"Futura\" font-size=\"9.24\" text-anchor=\"start\" x=\"246.4\" y=\"1030.92\">42f</text><rect fill=\"red\" height=\"15.84\" width=\"19.8\" x=\"221.1\" y=\"1021.68\"/><circle cx=\"220.0\" cy=\"1029.6\" fill=\"red\" r=\"1.1\" stroke=\"red\" stroke-width=\"0\"/><text alignment-baseline=\"middle\" fill=\"white\" font-family=\"Futura\" font-size=\"9.24\" text-anchor=\"middle\" x=\"231.0\" y=\"1030.92\">112</text><line stroke=\"green\" stroke-width=\"1.32\" x1=\"198.0\" x2=\"198.0\" y1=\"291.72\" y2=\"1054.68\"/><text alignment-baseline=\"middle\" fill=\"black\" font-family=\"Futura\" font-size=\"9.24\" text-anchor=\"end\" x=\"171.6\" y=\"1057.32\">43b</text><rect fill=\"green\" height=\"15.84\" width=\"19.8\" x=\"177.1\" y=\"1048.08\"/><circle cx=\"198.0\" cy=\"1056.0\" fill=\"green\" r=\"1.1\" stroke=\"green\" stroke-width=\"0\"/><text alignment-baseline=\"middle\" fill=\"white\" font-family=\"Futura\" font-size=\"9.24\" text-anchor=\"middle\" x=\"187.0\" y=\"1057.32\">113</text><line stroke=\"red\" stroke-width=\"1.32\" x1=\"220.0\" x2=\"220.0\" y1=\"291.72\" y2=\"1081.08\"/><text alignment-baseline=\"middle\" fill=\"black\" font-family=\"Futura\" font-size=\"9.24\" text-anchor=\"start\" x=\"246.4\" y=\"1083.72\">44f</text><rect fill=\"red\" height=\"15.84\" width=\"19.8\" x=\"221.1\" y=\"1074.48\"/><circle cx=\"220.0\" cy=\"1082.4\" fill=\"red\" r=\"1.1\" stroke=\"red\" stroke-width=\"0\"/><text alignment-baseline=\"middle\" fill=\"white\" font-family=\"Futura\" font-size=\"9.24\" text-anchor=\"middle\" x=\"231.0\" y=\"1083.72\">114</text><line stroke=\"red\" stroke-width=\"1.32\" x1=\"220.0\" x2=\"220.0\" y1=\"291.72\" y2=\"1107.48\"/><text alignment-baseline=\"middle\" fill=\"black\" font-family=\"Futura\" font-size=\"9.24\" text-anchor=\"start\" x=\"246.4\" y=\"1110.12\">45f</text><rect fill=\"red\" height=\"15.84\" width=\"19.8\" x=\"221.1\" y=\"1100.88\"/><circle cx=\"220.0\" cy=\"1108.8\" fill=\"red\" r=\"1.1\" stroke=\"red\" stroke-width=\"0\"/><text alignment-baseline=\"middle\" fill=\"white\" font-family=\"Futura\" font-size=\"9.24\" text-anchor=\"middle\" x=\"231.0\" y=\"1110.12\">115</text><line stroke=\"green\" stroke-width=\"1.32\" x1=\"198.0\" x2=\"198.0\" y1=\"291.72\" y2=\"1133.88\"/><text alignment-baseline=\"middle\" fill=\"black\" font-family=\"Futura\" font-size=\"9.24\" text-anchor=\"end\" x=\"171.6\" y=\"1136.52\">46b</text><rect fill=\"green\" height=\"15.84\" width=\"19.8\" x=\"177.1\" y=\"1127.28\"/><circle cx=\"198.0\" cy=\"1135.2\" fill=\"green\" r=\"1.1\" stroke=\"green\" stroke-width=\"0\"/><text alignment-baseline=\"middle\" fill=\"white\" font-family=\"Futura\" font-size=\"9.24\" text-anchor=\"middle\" x=\"187.0\" y=\"1136.52\">116</text><line stroke=\"red\" stroke-width=\"1.32\" x1=\"220.0\" x2=\"220.0\" y1=\"291.72\" y2=\"1160.28\"/><text alignment-baseline=\"middle\" fill=\"black\" font-family=\"Futura\" font-size=\"9.24\" text-anchor=\"start\" x=\"246.4\" y=\"1162.92\">47f</text><rect fill=\"red\" height=\"15.84\" width=\"19.8\" x=\"221.1\" y=\"1153.68\"/><circle cx=\"220.0\" cy=\"1161.6\" fill=\"red\" r=\"1.1\" stroke=\"red\" stroke-width=\"0\"/><text alignment-baseline=\"middle\" fill=\"white\" font-family=\"Futura\" font-size=\"9.24\" text-anchor=\"middle\" x=\"231.0\" y=\"1162.92\">117</text><line stroke=\"green\" stroke-width=\"1.32\" x1=\"198.0\" x2=\"198.0\" y1=\"291.72\" y2=\"1186.68\"/><text alignment-baseline=\"middle\" fill=\"black\" font-family=\"Futura\" font-size=\"9.24\" text-anchor=\"end\" x=\"171.6\" y=\"1189.32\">48b</text><rect fill=\"green\" height=\"15.84\" width=\"19.8\" x=\"177.1\" y=\"1180.08\"/><circle cx=\"198.0\" cy=\"1188.0\" fill=\"green\" r=\"1.1\" stroke=\"green\" stroke-width=\"0\"/><text alignment-baseline=\"middle\" fill=\"white\" font-family=\"Futura\" font-size=\"9.24\" text-anchor=\"middle\" x=\"187.0\" y=\"1189.32\">118</text><line stroke=\"red\" stroke-width=\"1.32\" x1=\"220.0\" x2=\"220.0\" y1=\"291.72\" y2=\"1213.08\"/><text alignment-baseline=\"middle\" fill=\"black\" font-family=\"Futura\" font-size=\"9.24\" text-anchor=\"start\" x=\"246.4\" y=\"1215.72\">49f</text><rect fill=\"red\" height=\"15.84\" width=\"19.8\" x=\"221.1\" y=\"1206.48\"/><circle cx=\"220.0\" cy=\"1214.4\" fill=\"red\" r=\"1.1\" stroke=\"red\" stroke-width=\"0\"/><text alignment-baseline=\"middle\" fill=\"white\" font-family=\"Futura\" font-size=\"9.24\" text-anchor=\"middle\" x=\"231.0\" y=\"1215.72\">119</text><line stroke=\"green\" stroke-width=\"1.32\" x1=\"198.0\" x2=\"198.0\" y1=\"291.72\" y2=\"1239.48\"/><text alignment-baseline=\"middle\" fill=\"black\" font-family=\"Futura\" font-size=\"9.24\" text-anchor=\"end\" x=\"171.6\" y=\"1242.12\">50b</text><rect fill=\"green\" height=\"15.84\" width=\"19.8\" x=\"177.1\" y=\"1232.88\"/><circle cx=\"198.0\" cy=\"1240.8\" fill=\"green\" r=\"1.1\" stroke=\"green\" stroke-width=\"0\"/><text alignment-baseline=\"middle\" fill=\"white\" font-family=\"Futura\" font-size=\"9.24\" text-anchor=\"middle\" x=\"187.0\" y=\"1242.12\">120</text><line stroke=\"green\" stroke-width=\"1.32\" x1=\"198.0\" x2=\"198.0\" y1=\"291.72\" y2=\"1265.88\"/><text alignment-baseline=\"middle\" fill=\"black\" font-family=\"Futura\" font-size=\"9.24\" text-anchor=\"end\" x=\"171.6\" y=\"1268.52\">51b</text><rect fill=\"green\" height=\"15.84\" width=\"19.8\" x=\"177.1\" y=\"1259.28\"/><circle cx=\"198.0\" cy=\"1267.2\" fill=\"green\" r=\"1.1\" stroke=\"green\" stroke-width=\"0\"/><text alignment-baseline=\"middle\" fill=\"white\" font-family=\"Futura\" font-size=\"9.24\" text-anchor=\"middle\" x=\"187.0\" y=\"1268.52\">121</text><text alignment-baseline=\"middle\" fill=\"black\" font-family=\"Futura\" font-size=\"9.24\" text-anchor=\"end\" x=\"94.6\" y=\"27.72\">1</text><text alignment-baseline=\"middle\" fill=\"black\" font-family=\"Futura\" font-size=\"9.24\" text-anchor=\"end\" x=\"28.6\" y=\"27.72\">1</text><text alignment-baseline=\"middle\" fill=\"black\" font-family=\"Futura\" font-size=\"9.24\" text-anchor=\"end\" x=\"94.6\" y=\"54.12\">3</text><text alignment-baseline=\"middle\" fill=\"black\" font-family=\"Futura\" font-size=\"9.24\" text-anchor=\"end\" x=\"28.6\" y=\"54.12\">2</text><text alignment-baseline=\"middle\" fill=\"black\" font-family=\"Futura\" font-size=\"9.24\" text-anchor=\"end\" x=\"94.6\" y=\"80.52\">5</text><text alignment-baseline=\"middle\" fill=\"black\" font-family=\"Futura\" font-size=\"9.24\" text-anchor=\"end\" x=\"28.6\" y=\"80.52\">3</text><rect fill=\"black\" height=\"73.92\" width=\"2.2\" x=\"121.0\" y=\"15.84\"/><circle cx=\"121.0\" cy=\"15.84\" fill=\"black\" r=\"1.1\" stroke=\"black\" stroke-width=\"0\"/><rect fill=\"black\" height=\"2.64\" width=\"19.8\" x=\"111.1\" y=\"15.84\"/><circle cx=\"121.0\" cy=\"89.76\" fill=\"black\" r=\"1.1\" stroke=\"black\" stroke-width=\"0\"/><rect fill=\"black\" height=\"2.64\" width=\"19.8\" x=\"111.1\" y=\"87.12\"/><text alignment-baseline=\"middle\" fill=\"black\" font-family=\"Futura\" font-size=\"9.24\" text-anchor=\"middle\" x=\"114.4\" y=\"54.12\"/><text alignment-baseline=\"middle\" fill=\"black\" font-family=\"Futura\" font-size=\"9.24\" text-anchor=\"end\" x=\"94.6\" y=\"106.92\">7</text><text alignment-baseline=\"middle\" fill=\"black\" font-family=\"Futura\" font-size=\"9.24\" text-anchor=\"end\" x=\"28.6\" y=\"106.92\">4</text><text alignment-baseline=\"middle\" fill=\"black\" font-family=\"Futura\" font-size=\"9.24\" text-anchor=\"end\" x=\"94.6\" y=\"133.32\">9</text><text alignment-baseline=\"middle\" fill=\"black\" font-family=\"Futura\" font-size=\"9.24\" text-anchor=\"end\" x=\"28.6\" y=\"133.32\">5</text><text alignment-baseline=\"middle\" fill=\"black\" font-family=\"Futura\" font-size=\"9.24\" text-anchor=\"end\" x=\"94.6\" y=\"159.72\">11</text><text alignment-baseline=\"middle\" fill=\"black\" font-family=\"Futura\" font-size=\"9.24\" text-anchor=\"end\" x=\"28.6\" y=\"159.72\">6</text><text alignment-baseline=\"middle\" fill=\"black\" font-family=\"Futura\" font-size=\"9.24\" text-anchor=\"end\" x=\"94.6\" y=\"186.12\">15</text><text alignment-baseline=\"middle\" fill=\"black\" font-family=\"Futura\" font-size=\"9.24\" text-anchor=\"end\" x=\"28.6\" y=\"186.12\">9</text><text alignment-baseline=\"middle\" fill=\"black\" font-family=\"Futura\" font-size=\"9.24\" text-anchor=\"end\" x=\"94.6\" y=\"212.52\">17</text><text alignment-baseline=\"middle\" fill=\"black\" font-family=\"Futura\" font-size=\"9.24\" text-anchor=\"end\" x=\"28.6\" y=\"212.52\">10</text><text alignment-baseline=\"middle\" fill=\"black\" font-family=\"Futura\" font-size=\"9.24\" text-anchor=\"end\" x=\"94.6\" y=\"238.92\">19</text><text alignment-baseline=\"middle\" fill=\"black\" font-family=\"Futura\" font-size=\"9.24\" text-anchor=\"end\" x=\"28.6\" y=\"238.92\">11</text><text alignment-baseline=\"middle\" fill=\"black\" font-family=\"Futura\" font-size=\"9.24\" text-anchor=\"end\" x=\"94.6\" y=\"265.32\">21</text><text alignment-baseline=\"middle\" fill=\"black\" font-family=\"Futura\" font-size=\"9.24\" text-anchor=\"end\" x=\"28.6\" y=\"265.32\">12</text><text alignment-baseline=\"middle\" fill=\"black\" font-family=\"Futura\" font-size=\"9.24\" text-anchor=\"end\" x=\"94.6\" y=\"291.72\">23</text><text alignment-baseline=\"middle\" fill=\"black\" font-family=\"Futura\" font-size=\"9.24\" text-anchor=\"end\" x=\"28.6\" y=\"291.72\">13</text><text alignment-baseline=\"middle\" fill=\"black\" font-family=\"Futura\" font-size=\"9.24\" text-anchor=\"end\" x=\"94.6\" y=\"318.12\">25</text><text alignment-baseline=\"middle\" fill=\"black\" font-family=\"Futura\" font-size=\"9.24\" text-anchor=\"end\" x=\"28.6\" y=\"318.12\">14</text><text alignment-baseline=\"middle\" fill=\"black\" font-family=\"Futura\" font-size=\"9.24\" text-anchor=\"end\" x=\"94.6\" y=\"344.52\">27</text><text alignment-baseline=\"middle\" fill=\"black\" font-family=\"Futura\" font-size=\"9.24\" text-anchor=\"end\" x=\"28.6\" y=\"344.52\">15</text><rect fill=\"black\" height=\"258.72\" width=\"2.2\" x=\"121.0\" y=\"95.04\"/><circle cx=\"121.0\" cy=\"95.04\" fill=\"black\" r=\"1.1\" stroke=\"black\" stroke-width=\"0\"/><rect fill=\"black\" height=\"2.64\" width=\"19.8\" x=\"111.1\" y=\"95.04\"/><circle cx=\"121.0\" cy=\"353.76\" fill=\"black\" r=\"1.1\" stroke=\"black\" stroke-width=\"0\"/><rect fill=\"black\" height=\"2.64\" width=\"19.8\" x=\"111.1\" y=\"351.12\"/><text alignment-baseline=\"middle\" fill=\"black\" font-family=\"Futura\" font-size=\"9.24\" text-anchor=\"middle\" x=\"114.4\" y=\"225.72\"/><text alignment-baseline=\"middle\" fill=\"black\" font-family=\"Futura\" font-size=\"9.24\" text-anchor=\"end\" x=\"94.6\" y=\"370.92\">29</text><text alignment-baseline=\"middle\" fill=\"black\" font-family=\"Futura\" font-size=\"9.24\" text-anchor=\"end\" x=\"28.6\" y=\"370.92\">16</text><text alignment-baseline=\"middle\" fill=\"black\" font-family=\"Futura\" font-size=\"9.24\" text-anchor=\"end\" x=\"94.6\" y=\"397.32\">31</text><text alignment-baseline=\"middle\" fill=\"black\" font-family=\"Futura\" font-size=\"9.24\" text-anchor=\"end\" x=\"28.6\" y=\"397.32\">17</text><text alignment-baseline=\"middle\" fill=\"black\" font-family=\"Futura\" font-size=\"9.24\" text-anchor=\"end\" x=\"94.6\" y=\"423.72\">33</text><text alignment-baseline=\"middle\" fill=\"black\" font-family=\"Futura\" font-size=\"9.24\" text-anchor=\"end\" x=\"28.6\" y=\"423.72\">18</text><text alignment-baseline=\"middle\" fill=\"black\" font-family=\"Futura\" font-size=\"9.24\" text-anchor=\"end\" x=\"94.6\" y=\"450.12\">35</text><text alignment-baseline=\"middle\" fill=\"black\" font-family=\"Futura\" font-size=\"9.24\" text-anchor=\"end\" x=\"28.6\" y=\"450.12\">19</text><text alignment-baseline=\"middle\" fill=\"black\" font-family=\"Futura\" font-size=\"9.24\" text-anchor=\"end\" x=\"94.6\" y=\"476.52\">37</text><text alignment-baseline=\"middle\" fill=\"black\" font-family=\"Futura\" font-size=\"9.24\" text-anchor=\"end\" x=\"28.6\" y=\"476.52\">20</text><text alignment-baseline=\"middle\" fill=\"black\" font-family=\"Futura\" font-size=\"9.24\" text-anchor=\"end\" x=\"94.6\" y=\"502.92\">39</text><text alignment-baseline=\"middle\" fill=\"black\" font-family=\"Futura\" font-size=\"9.24\" text-anchor=\"end\" x=\"28.6\" y=\"502.92\">21</text><text alignment-baseline=\"middle\" fill=\"black\" font-family=\"Futura\" font-size=\"9.24\" text-anchor=\"end\" x=\"94.6\" y=\"529.32\">41</text><text alignment-baseline=\"middle\" fill=\"black\" font-family=\"Futura\" font-size=\"9.24\" text-anchor=\"end\" x=\"28.6\" y=\"529.32\">22</text><text alignment-baseline=\"middle\" fill=\"black\" font-family=\"Futura\" font-size=\"9.24\" text-anchor=\"end\" x=\"94.6\" y=\"555.72\">43</text><text alignment-baseline=\"middle\" fill=\"black\" font-family=\"Futura\" font-size=\"9.24\" text-anchor=\"end\" x=\"28.6\" y=\"555.72\">23</text><text alignment-baseline=\"middle\" fill=\"black\" font-family=\"Futura\" font-size=\"9.24\" text-anchor=\"end\" x=\"94.6\" y=\"582.12\">45</text><text alignment-baseline=\"middle\" fill=\"black\" font-family=\"Futura\" font-size=\"9.24\" text-anchor=\"end\" x=\"28.6\" y=\"582.12\">24</text><text alignment-baseline=\"middle\" fill=\"black\" font-family=\"Futura\" font-size=\"9.24\" text-anchor=\"end\" x=\"94.6\" y=\"608.52\">47</text><text alignment-baseline=\"middle\" fill=\"black\" font-family=\"Futura\" font-size=\"9.24\" text-anchor=\"end\" x=\"28.6\" y=\"608.52\">25</text><text alignment-baseline=\"middle\" fill=\"black\" font-family=\"Futura\" font-size=\"9.24\" text-anchor=\"end\" x=\"94.6\" y=\"634.92\">49</text><text alignment-baseline=\"middle\" fill=\"black\" font-family=\"Futura\" font-size=\"9.24\" text-anchor=\"end\" x=\"28.6\" y=\"634.92\">26</text><text alignment-baseline=\"middle\" fill=\"black\" font-family=\"Futura\" font-size=\"9.24\" text-anchor=\"end\" x=\"94.6\" y=\"661.32\">51</text><text alignment-baseline=\"middle\" fill=\"black\" font-family=\"Futura\" font-size=\"9.24\" text-anchor=\"end\" x=\"28.6\" y=\"661.32\">27</text><text alignment-baseline=\"middle\" fill=\"black\" font-family=\"Futura\" font-size=\"9.24\" text-anchor=\"end\" x=\"94.6\" y=\"687.72\">53</text><text alignment-baseline=\"middle\" fill=\"black\" font-family=\"Futura\" font-size=\"9.24\" text-anchor=\"end\" x=\"28.6\" y=\"687.72\">28</text><text alignment-baseline=\"middle\" fill=\"black\" font-family=\"Futura\" font-size=\"9.24\" text-anchor=\"end\" x=\"94.6\" y=\"714.12\">55</text><text alignment-baseline=\"middle\" fill=\"black\" font-family=\"Futura\" font-size=\"9.24\" text-anchor=\"end\" x=\"28.6\" y=\"714.12\">29</text><text alignment-baseline=\"middle\" fill=\"black\" font-family=\"Futura\" font-size=\"9.24\" text-anchor=\"end\" x=\"94.6\" y=\"740.52\">57</text><text alignment-baseline=\"middle\" fill=\"black\" font-family=\"Futura\" font-size=\"9.24\" text-anchor=\"end\" x=\"28.6\" y=\"740.52\">30</text><text alignment-baseline=\"middle\" fill=\"black\" font-family=\"Futura\" font-size=\"9.24\" text-anchor=\"end\" x=\"94.6\" y=\"766.92\">59</text><text alignment-baseline=\"middle\" fill=\"black\" font-family=\"Futura\" font-size=\"9.24\" text-anchor=\"end\" x=\"28.6\" y=\"766.92\">31</text><text alignment-baseline=\"middle\" fill=\"black\" font-family=\"Futura\" font-size=\"9.24\" text-anchor=\"end\" x=\"94.6\" y=\"793.32\">61</text><text alignment-baseline=\"middle\" fill=\"black\" font-family=\"Futura\" font-size=\"9.24\" text-anchor=\"end\" x=\"28.6\" y=\"793.32\">32</text><text alignment-baseline=\"middle\" fill=\"black\" font-family=\"Futura\" font-size=\"9.24\" text-anchor=\"end\" x=\"94.6\" y=\"819.72\">63</text><text alignment-baseline=\"middle\" fill=\"black\" font-family=\"Futura\" font-size=\"9.24\" text-anchor=\"end\" x=\"28.6\" y=\"819.72\">33</text><text alignment-baseline=\"middle\" fill=\"black\" font-family=\"Futura\" font-size=\"9.24\" text-anchor=\"end\" x=\"94.6\" y=\"846.12\">65</text><text alignment-baseline=\"middle\" fill=\"black\" font-family=\"Futura\" font-size=\"9.24\" text-anchor=\"end\" x=\"28.6\" y=\"846.12\">34</text><text alignment-baseline=\"middle\" fill=\"black\" font-family=\"Futura\" font-size=\"9.24\" text-anchor=\"end\" x=\"94.6\" y=\"872.52\">67</text><text alignment-baseline=\"middle\" fill=\"black\" font-family=\"Futura\" font-size=\"9.24\" text-anchor=\"end\" x=\"28.6\" y=\"872.52\">35</text><text alignment-baseline=\"middle\" fill=\"black\" font-family=\"Futura\" font-size=\"9.24\" text-anchor=\"end\" x=\"94.6\" y=\"898.92\">69</text><text alignment-baseline=\"middle\" fill=\"black\" font-family=\"Futura\" font-size=\"9.24\" text-anchor=\"end\" x=\"28.6\" y=\"898.92\">36</text><text alignment-baseline=\"middle\" fill=\"black\" font-family=\"Futura\" font-size=\"9.24\" text-anchor=\"end\" x=\"94.6\" y=\"925.32\">71</text><text alignment-baseline=\"middle\" fill=\"black\" font-family=\"Futura\" font-size=\"9.24\" text-anchor=\"end\" x=\"28.6\" y=\"925.32\">37</text><text alignment-baseline=\"middle\" fill=\"black\" font-family=\"Futura\" font-size=\"9.24\" text-anchor=\"end\" x=\"94.6\" y=\"951.72\">73</text><text alignment-baseline=\"middle\" fill=\"black\" font-family=\"Futura\" font-size=\"9.24\" text-anchor=\"end\" x=\"28.6\" y=\"951.72\">38</text><text alignment-baseline=\"middle\" fill=\"black\" font-family=\"Futura\" font-size=\"9.24\" text-anchor=\"end\" x=\"94.6\" y=\"978.12\">75</text><text alignment-baseline=\"middle\" fill=\"black\" font-family=\"Futura\" font-size=\"9.24\" text-anchor=\"end\" x=\"28.6\" y=\"978.12\">39</text><text alignment-baseline=\"middle\" fill=\"black\" font-family=\"Futura\" font-size=\"9.24\" text-anchor=\"end\" x=\"94.6\" y=\"1004.52\">77</text><text alignment-baseline=\"middle\" fill=\"black\" font-family=\"Futura\" font-size=\"9.24\" text-anchor=\"end\" x=\"28.6\" y=\"1004.52\">40</text><text alignment-baseline=\"middle\" fill=\"black\" font-family=\"Futura\" font-size=\"9.24\" text-anchor=\"end\" x=\"94.6\" y=\"1030.92\">79</text><text alignment-baseline=\"middle\" fill=\"black\" font-family=\"Futura\" font-size=\"9.24\" text-anchor=\"end\" x=\"28.6\" y=\"1030.92\">41</text><text alignment-baseline=\"middle\" fill=\"black\" font-family=\"Futura\" font-size=\"9.24\" text-anchor=\"end\" x=\"94.6\" y=\"1057.32\">81</text><text alignment-baseline=\"middle\" fill=\"black\" font-family=\"Futura\" font-size=\"9.24\" text-anchor=\"end\" x=\"28.6\" y=\"1057.32\">42</text><text alignment-baseline=\"middle\" fill=\"black\" font-family=\"Futura\" font-size=\"9.24\" text-anchor=\"end\" x=\"94.6\" y=\"1083.72\">83</text><text alignment-baseline=\"middle\" fill=\"black\" font-family=\"Futura\" font-size=\"9.24\" text-anchor=\"end\" x=\"28.6\" y=\"1083.72\">43</text><text alignment-baseline=\"middle\" fill=\"black\" font-family=\"Futura\" font-size=\"9.24\" text-anchor=\"end\" x=\"94.6\" y=\"1110.12\">85</text><text alignment-baseline=\"middle\" fill=\"black\" font-family=\"Futura\" font-size=\"9.24\" text-anchor=\"end\" x=\"28.6\" y=\"1110.12\">44</text><text alignment-baseline=\"middle\" fill=\"black\" font-family=\"Futura\" font-size=\"9.24\" text-anchor=\"end\" x=\"94.6\" y=\"1136.52\">87</text><text alignment-baseline=\"middle\" fill=\"black\" font-family=\"Futura\" font-size=\"9.24\" text-anchor=\"end\" x=\"28.6\" y=\"1136.52\">45</text><text alignment-baseline=\"middle\" fill=\"black\" font-family=\"Futura\" font-size=\"9.24\" text-anchor=\"end\" x=\"94.6\" y=\"1162.92\">89</text><text alignment-baseline=\"middle\" fill=\"black\" font-family=\"Futura\" font-size=\"9.24\" text-anchor=\"end\" x=\"28.6\" y=\"1162.92\">46</text><text alignment-baseline=\"middle\" fill=\"black\" font-family=\"Futura\" font-size=\"9.24\" text-anchor=\"end\" x=\"94.6\" y=\"1189.32\">91</text><text alignment-baseline=\"middle\" fill=\"black\" font-family=\"Futura\" font-size=\"9.24\" text-anchor=\"end\" x=\"28.6\" y=\"1189.32\">47</text><text alignment-baseline=\"middle\" fill=\"black\" font-family=\"Futura\" font-size=\"9.24\" text-anchor=\"end\" x=\"94.6\" y=\"1215.72\">93</text><text alignment-baseline=\"middle\" fill=\"black\" font-family=\"Futura\" font-size=\"9.24\" text-anchor=\"end\" x=\"28.6\" y=\"1215.72\">48</text><text alignment-baseline=\"middle\" fill=\"black\" font-family=\"Futura\" font-size=\"9.24\" text-anchor=\"end\" x=\"94.6\" y=\"1242.12\">95</text><text alignment-baseline=\"middle\" fill=\"black\" font-family=\"Futura\" font-size=\"9.24\" text-anchor=\"end\" x=\"28.6\" y=\"1242.12\">49</text><text alignment-baseline=\"middle\" fill=\"black\" font-family=\"Futura\" font-size=\"9.24\" text-anchor=\"end\" x=\"94.6\" y=\"1268.52\">97</text><text alignment-baseline=\"middle\" fill=\"black\" font-family=\"Futura\" font-size=\"9.24\" text-anchor=\"end\" x=\"28.6\" y=\"1268.52\">50</text><text alignment-baseline=\"middle\" fill=\"black\" font-family=\"Futura\" font-size=\"9.24\" text-anchor=\"end\" x=\"94.6\" y=\"1294.92\">98</text><text alignment-baseline=\"middle\" fill=\"black\" font-family=\"Futura\" font-size=\"9.24\" text-anchor=\"end\" x=\"28.6\" y=\"1294.92\">50</text><rect fill=\"black\" height=\"1288.32\" width=\"2.2\" x=\"44.0\" y=\"15.84\"/><circle cx=\"44.0\" cy=\"15.84\" fill=\"black\" r=\"1.1\" stroke=\"black\" stroke-width=\"0\"/><rect fill=\"black\" height=\"2.64\" width=\"19.8\" x=\"34.1\" y=\"15.84\"/><circle cx=\"44.0\" cy=\"1304.16\" fill=\"black\" r=\"1.1\" stroke=\"black\" stroke-width=\"0\"/><rect fill=\"black\" height=\"2.64\" width=\"19.8\" x=\"34.1\" y=\"1301.52\"/><text alignment-baseline=\"middle\" fill=\"black\" font-family=\"Futura\" font-size=\"9.24\" text-anchor=\"middle\" x=\"37.4\" y=\"661.32\"/><rect fill=\"black\" height=\"945.12\" width=\"2.2\" x=\"121.0\" y=\"359.04\"/><circle cx=\"121.0\" cy=\"359.04\" fill=\"black\" r=\"1.1\" stroke=\"black\" stroke-width=\"0\"/><rect fill=\"black\" height=\"2.64\" width=\"19.8\" x=\"111.1\" y=\"359.04\"/><text alignment-baseline=\"middle\" fill=\"black\" font-family=\"Futura\" font-size=\"9.24\" text-anchor=\"middle\" x=\"114.4\" y=\"832.92\"/></svg>"
      ],
      "text/plain": [
       "<IPython.core.display.SVG object>"
      ]
     },
     "execution_count": 37,
     "metadata": {},
     "output_type": "execute_result"
    }
   ],
   "source": [
    "view = tree.renderer\n",
    "view.zoom = 1.1\n",
    "view.scale_y = 24\n",
    "view.scale_x = 20\n",
    "view.font_size = 0.35\n",
    "SVG(view.to_svg())"
   ]
  },
  {
   "cell_type": "markdown",
   "metadata": {},
   "source": [
    "An alternate view which is similar to the standard way of plotting"
   ]
  },
  {
   "cell_type": "code",
   "execution_count": 38,
   "metadata": {
    "collapsed": false
   },
   "outputs": [
    {
     "data": {
      "image/svg+xml": [
       "<svg baseProfile=\"full\" height=\"858.0px\" version=\"1.1\" width=\"369.6px\" xmlns=\"http://www.w3.org/2000/svg\" xmlns:ev=\"http://www.w3.org/2001/xml-events\" xmlns:xlink=\"http://www.w3.org/1999/xlink\"><defs/><text alignment-baseline=\"middle\" fill=\"black\" font-family=\"Times\" font-size=\"8.25\" text-anchor=\"end\" x=\"205.92\" y=\"17.325\">2b</text><rect fill=\"black\" height=\"9.9\" width=\"26.928\" x=\"210.936\" y=\"11.55\"/><circle cx=\"211.2\" cy=\"16.5\" fill=\"black\" r=\"-0.264\" stroke=\"black\" stroke-width=\"0\"/><circle cx=\"237.6\" cy=\"16.5\" fill=\"black\" r=\"-0.264\" stroke=\"black\" stroke-width=\"0\"/><text alignment-baseline=\"middle\" fill=\"white\" font-family=\"Times\" font-size=\"8.25\" text-anchor=\"middle\" x=\"224.4\" y=\"17.325\"/><rect fill=\"black\" height=\"9.9\" width=\"26.928\" x=\"237.336\" y=\"11.55\"/><circle cx=\"237.6\" cy=\"16.5\" fill=\"black\" r=\"-0.264\" stroke=\"black\" stroke-width=\"0\"/><circle cx=\"264.0\" cy=\"16.5\" fill=\"black\" r=\"-0.264\" stroke=\"black\" stroke-width=\"0\"/><text alignment-baseline=\"middle\" fill=\"white\" font-family=\"Times\" font-size=\"8.25\" text-anchor=\"middle\" x=\"250.8\" y=\"17.325\"/><rect fill=\"black\" height=\"9.9\" width=\"26.928\" x=\"263.736\" y=\"11.55\"/><circle cx=\"264.0\" cy=\"16.5\" fill=\"black\" r=\"-0.264\" stroke=\"black\" stroke-width=\"0\"/><circle cx=\"290.4\" cy=\"16.5\" fill=\"black\" r=\"-0.264\" stroke=\"black\" stroke-width=\"0\"/><text alignment-baseline=\"middle\" fill=\"white\" font-family=\"Times\" font-size=\"8.25\" text-anchor=\"middle\" x=\"277.2\" y=\"17.325\"/><rect fill=\"black\" height=\"9.9\" width=\"26.928\" x=\"290.136\" y=\"11.55\"/><circle cx=\"290.4\" cy=\"16.5\" fill=\"black\" r=\"-0.264\" stroke=\"black\" stroke-width=\"0\"/><circle cx=\"316.8\" cy=\"16.5\" fill=\"black\" r=\"-0.264\" stroke=\"black\" stroke-width=\"0\"/><text alignment-baseline=\"middle\" fill=\"white\" font-family=\"Times\" font-size=\"8.25\" text-anchor=\"middle\" x=\"303.6\" y=\"17.325\"/><rect fill=\"black\" height=\"9.9\" width=\"26.928\" x=\"316.536\" y=\"11.55\"/><circle cx=\"316.8\" cy=\"16.5\" fill=\"black\" r=\"-0.264\" stroke=\"black\" stroke-width=\"0\"/><circle cx=\"343.2\" cy=\"16.5\" fill=\"black\" r=\"-0.264\" stroke=\"black\" stroke-width=\"0\"/><text alignment-baseline=\"middle\" fill=\"white\" font-family=\"Times\" font-size=\"8.25\" text-anchor=\"middle\" x=\"330.0\" y=\"17.325\"/><line stroke=\"red\" stroke-width=\"1.32\" x1=\"264.0\" x2=\"264.0\" y1=\"16.335\" y2=\"33.165\"/><text alignment-baseline=\"middle\" fill=\"black\" font-family=\"Times\" font-size=\"8.25\" text-anchor=\"start\" x=\"348.48\" y=\"33.825\">3f</text><rect fill=\"red\" height=\"9.9\" width=\"26.928\" x=\"263.736\" y=\"28.05\"/><circle cx=\"264.0\" cy=\"33.0\" fill=\"red\" r=\"-0.264\" stroke=\"red\" stroke-width=\"0\"/><circle cx=\"290.4\" cy=\"33.0\" fill=\"red\" r=\"-0.264\" stroke=\"red\" stroke-width=\"0\"/><text alignment-baseline=\"middle\" fill=\"white\" font-family=\"Times\" font-size=\"8.25\" text-anchor=\"middle\" x=\"277.2\" y=\"33.825\"/><rect fill=\"red\" height=\"9.9\" width=\"26.928\" x=\"290.136\" y=\"28.05\"/><circle cx=\"290.4\" cy=\"33.0\" fill=\"red\" r=\"-0.264\" stroke=\"red\" stroke-width=\"0\"/><circle cx=\"316.8\" cy=\"33.0\" fill=\"red\" r=\"-0.264\" stroke=\"red\" stroke-width=\"0\"/><text alignment-baseline=\"middle\" fill=\"white\" font-family=\"Times\" font-size=\"8.25\" text-anchor=\"middle\" x=\"303.6\" y=\"33.825\"/><rect fill=\"red\" height=\"9.9\" width=\"26.928\" x=\"316.536\" y=\"28.05\"/><circle cx=\"316.8\" cy=\"33.0\" fill=\"red\" r=\"-0.264\" stroke=\"red\" stroke-width=\"0\"/><circle cx=\"343.2\" cy=\"33.0\" fill=\"red\" r=\"-0.264\" stroke=\"red\" stroke-width=\"0\"/><text alignment-baseline=\"middle\" fill=\"white\" font-family=\"Times\" font-size=\"8.25\" text-anchor=\"middle\" x=\"330.0\" y=\"33.825\"/><line stroke=\"red\" stroke-width=\"1.32\" x1=\"264.0\" x2=\"264.0\" y1=\"16.335\" y2=\"49.665\"/><text alignment-baseline=\"middle\" fill=\"black\" font-family=\"Times\" font-size=\"8.25\" text-anchor=\"start\" x=\"348.48\" y=\"50.325\">4f</text><rect fill=\"red\" height=\"9.9\" width=\"26.928\" x=\"263.736\" y=\"44.55\"/><circle cx=\"264.0\" cy=\"49.5\" fill=\"red\" r=\"-0.264\" stroke=\"red\" stroke-width=\"0\"/><circle cx=\"290.4\" cy=\"49.5\" fill=\"red\" r=\"-0.264\" stroke=\"red\" stroke-width=\"0\"/><text alignment-baseline=\"middle\" fill=\"white\" font-family=\"Times\" font-size=\"8.25\" text-anchor=\"middle\" x=\"277.2\" y=\"50.325\"/><rect fill=\"red\" height=\"9.9\" width=\"26.928\" x=\"290.136\" y=\"44.55\"/><circle cx=\"290.4\" cy=\"49.5\" fill=\"red\" r=\"-0.264\" stroke=\"red\" stroke-width=\"0\"/><circle cx=\"316.8\" cy=\"49.5\" fill=\"red\" r=\"-0.264\" stroke=\"red\" stroke-width=\"0\"/><text alignment-baseline=\"middle\" fill=\"white\" font-family=\"Times\" font-size=\"8.25\" text-anchor=\"middle\" x=\"303.6\" y=\"50.325\"/><rect fill=\"red\" height=\"9.9\" width=\"26.928\" x=\"316.536\" y=\"44.55\"/><circle cx=\"316.8\" cy=\"49.5\" fill=\"red\" r=\"-0.264\" stroke=\"red\" stroke-width=\"0\"/><circle cx=\"343.2\" cy=\"49.5\" fill=\"red\" r=\"-0.264\" stroke=\"red\" stroke-width=\"0\"/><text alignment-baseline=\"middle\" fill=\"white\" font-family=\"Times\" font-size=\"8.25\" text-anchor=\"middle\" x=\"330.0\" y=\"50.325\"/><line stroke=\"green\" stroke-width=\"1.32\" x1=\"290.4\" x2=\"290.4\" y1=\"49.335\" y2=\"66.165\"/><text alignment-baseline=\"middle\" fill=\"black\" font-family=\"Times\" font-size=\"8.25\" text-anchor=\"end\" x=\"205.92\" y=\"66.825\">5b</text><rect fill=\"green\" height=\"9.9\" width=\"26.928\" x=\"210.936\" y=\"61.05\"/><circle cx=\"211.2\" cy=\"66.0\" fill=\"green\" r=\"-0.264\" stroke=\"green\" stroke-width=\"0\"/><circle cx=\"237.6\" cy=\"66.0\" fill=\"green\" r=\"-0.264\" stroke=\"green\" stroke-width=\"0\"/><text alignment-baseline=\"middle\" fill=\"white\" font-family=\"Times\" font-size=\"8.25\" text-anchor=\"middle\" x=\"224.4\" y=\"66.825\"/><rect fill=\"green\" height=\"9.9\" width=\"26.928\" x=\"237.336\" y=\"61.05\"/><circle cx=\"237.6\" cy=\"66.0\" fill=\"green\" r=\"-0.264\" stroke=\"green\" stroke-width=\"0\"/><circle cx=\"264.0\" cy=\"66.0\" fill=\"green\" r=\"-0.264\" stroke=\"green\" stroke-width=\"0\"/><text alignment-baseline=\"middle\" fill=\"white\" font-family=\"Times\" font-size=\"8.25\" text-anchor=\"middle\" x=\"250.8\" y=\"66.825\"/><rect fill=\"green\" height=\"9.9\" width=\"26.928\" x=\"263.736\" y=\"61.05\"/><circle cx=\"264.0\" cy=\"66.0\" fill=\"green\" r=\"-0.264\" stroke=\"green\" stroke-width=\"0\"/><circle cx=\"290.4\" cy=\"66.0\" fill=\"green\" r=\"-0.264\" stroke=\"green\" stroke-width=\"0\"/><text alignment-baseline=\"middle\" fill=\"white\" font-family=\"Times\" font-size=\"8.25\" text-anchor=\"middle\" x=\"277.2\" y=\"66.825\"/><line stroke=\"red\" stroke-width=\"1.32\" x1=\"316.8\" x2=\"316.8\" y1=\"49.335\" y2=\"82.665\"/><text alignment-baseline=\"middle\" fill=\"black\" font-family=\"Times\" font-size=\"8.25\" text-anchor=\"start\" x=\"348.48\" y=\"83.325\">6f</text><rect fill=\"red\" height=\"9.9\" width=\"26.928\" x=\"316.536\" y=\"77.55\"/><circle cx=\"316.8\" cy=\"82.5\" fill=\"red\" r=\"-0.264\" stroke=\"red\" stroke-width=\"0\"/><circle cx=\"343.2\" cy=\"82.5\" fill=\"red\" r=\"-0.264\" stroke=\"red\" stroke-width=\"0\"/><text alignment-baseline=\"middle\" fill=\"white\" font-family=\"Times\" font-size=\"8.25\" text-anchor=\"middle\" x=\"330.0\" y=\"83.325\"/><line stroke=\"green\" stroke-width=\"1.32\" x1=\"237.6\" x2=\"237.6\" y1=\"65.835\" y2=\"99.165\"/><text alignment-baseline=\"middle\" fill=\"black\" font-family=\"Times\" font-size=\"8.25\" text-anchor=\"end\" x=\"205.92\" y=\"99.825\">7b</text><rect fill=\"green\" height=\"9.9\" width=\"26.928\" x=\"210.936\" y=\"94.05\"/><circle cx=\"211.2\" cy=\"99.0\" fill=\"green\" r=\"-0.264\" stroke=\"green\" stroke-width=\"0\"/><circle cx=\"237.6\" cy=\"99.0\" fill=\"green\" r=\"-0.264\" stroke=\"green\" stroke-width=\"0\"/><text alignment-baseline=\"middle\" fill=\"white\" font-family=\"Times\" font-size=\"8.25\" text-anchor=\"middle\" x=\"224.4\" y=\"99.825\"/><line stroke=\"green\" stroke-width=\"1.32\" x1=\"237.6\" x2=\"237.6\" y1=\"65.835\" y2=\"115.665\"/><text alignment-baseline=\"middle\" fill=\"black\" font-family=\"Times\" font-size=\"8.25\" text-anchor=\"end\" x=\"205.92\" y=\"116.325\">10b</text><rect fill=\"green\" height=\"9.9\" width=\"26.928\" x=\"210.936\" y=\"110.55\"/><circle cx=\"211.2\" cy=\"115.5\" fill=\"green\" r=\"-0.264\" stroke=\"green\" stroke-width=\"0\"/><circle cx=\"237.6\" cy=\"115.5\" fill=\"green\" r=\"-0.264\" stroke=\"green\" stroke-width=\"0\"/><text alignment-baseline=\"middle\" fill=\"white\" font-family=\"Times\" font-size=\"8.25\" text-anchor=\"middle\" x=\"224.4\" y=\"116.325\"/><line stroke=\"green\" stroke-width=\"1.32\" x1=\"237.6\" x2=\"237.6\" y1=\"65.835\" y2=\"132.165\"/><text alignment-baseline=\"middle\" fill=\"black\" font-family=\"Times\" font-size=\"8.25\" text-anchor=\"end\" x=\"205.92\" y=\"132.825\">11b</text><rect fill=\"green\" height=\"9.9\" width=\"26.928\" x=\"210.936\" y=\"127.05\"/><circle cx=\"211.2\" cy=\"132.0\" fill=\"green\" r=\"-0.264\" stroke=\"green\" stroke-width=\"0\"/><circle cx=\"237.6\" cy=\"132.0\" fill=\"green\" r=\"-0.264\" stroke=\"green\" stroke-width=\"0\"/><text alignment-baseline=\"middle\" fill=\"white\" font-family=\"Times\" font-size=\"8.25\" text-anchor=\"middle\" x=\"224.4\" y=\"132.825\"/><line stroke=\"green\" stroke-width=\"1.32\" x1=\"264.0\" x2=\"264.0\" y1=\"65.835\" y2=\"148.665\"/><text alignment-baseline=\"middle\" fill=\"black\" font-family=\"Times\" font-size=\"8.25\" text-anchor=\"end\" x=\"205.92\" y=\"149.325\">12b</text><rect fill=\"green\" height=\"9.9\" width=\"26.928\" x=\"210.936\" y=\"143.55\"/><circle cx=\"211.2\" cy=\"148.5\" fill=\"green\" r=\"-0.264\" stroke=\"green\" stroke-width=\"0\"/><circle cx=\"237.6\" cy=\"148.5\" fill=\"green\" r=\"-0.264\" stroke=\"green\" stroke-width=\"0\"/><text alignment-baseline=\"middle\" fill=\"white\" font-family=\"Times\" font-size=\"8.25\" text-anchor=\"middle\" x=\"224.4\" y=\"149.325\"/><rect fill=\"green\" height=\"9.9\" width=\"26.928\" x=\"237.336\" y=\"143.55\"/><circle cx=\"237.6\" cy=\"148.5\" fill=\"green\" r=\"-0.264\" stroke=\"green\" stroke-width=\"0\"/><circle cx=\"264.0\" cy=\"148.5\" fill=\"green\" r=\"-0.264\" stroke=\"green\" stroke-width=\"0\"/><text alignment-baseline=\"middle\" fill=\"white\" font-family=\"Times\" font-size=\"8.25\" text-anchor=\"middle\" x=\"250.8\" y=\"149.325\"/><line stroke=\"green\" stroke-width=\"1.32\" x1=\"264.0\" x2=\"264.0\" y1=\"65.835\" y2=\"165.165\"/><text alignment-baseline=\"middle\" fill=\"black\" font-family=\"Times\" font-size=\"8.25\" text-anchor=\"end\" x=\"205.92\" y=\"165.825\">13b</text><rect fill=\"green\" height=\"9.9\" width=\"26.928\" x=\"210.936\" y=\"160.05\"/><circle cx=\"211.2\" cy=\"165.0\" fill=\"green\" r=\"-0.264\" stroke=\"green\" stroke-width=\"0\"/><circle cx=\"237.6\" cy=\"165.0\" fill=\"green\" r=\"-0.264\" stroke=\"green\" stroke-width=\"0\"/><text alignment-baseline=\"middle\" fill=\"white\" font-family=\"Times\" font-size=\"8.25\" text-anchor=\"middle\" x=\"224.4\" y=\"165.825\"/><rect fill=\"green\" height=\"9.9\" width=\"26.928\" x=\"237.336\" y=\"160.05\"/><circle cx=\"237.6\" cy=\"165.0\" fill=\"green\" r=\"-0.264\" stroke=\"green\" stroke-width=\"0\"/><circle cx=\"264.0\" cy=\"165.0\" fill=\"green\" r=\"-0.264\" stroke=\"green\" stroke-width=\"0\"/><text alignment-baseline=\"middle\" fill=\"white\" font-family=\"Times\" font-size=\"8.25\" text-anchor=\"middle\" x=\"250.8\" y=\"165.825\"/><line stroke=\"green\" stroke-width=\"1.32\" x1=\"264.0\" x2=\"264.0\" y1=\"65.835\" y2=\"181.665\"/><text alignment-baseline=\"middle\" fill=\"black\" font-family=\"Times\" font-size=\"8.25\" text-anchor=\"end\" x=\"205.92\" y=\"182.325\">14b</text><rect fill=\"green\" height=\"9.9\" width=\"26.928\" x=\"210.936\" y=\"176.55\"/><circle cx=\"211.2\" cy=\"181.5\" fill=\"green\" r=\"-0.264\" stroke=\"green\" stroke-width=\"0\"/><circle cx=\"237.6\" cy=\"181.5\" fill=\"green\" r=\"-0.264\" stroke=\"green\" stroke-width=\"0\"/><text alignment-baseline=\"middle\" fill=\"white\" font-family=\"Times\" font-size=\"8.25\" text-anchor=\"middle\" x=\"224.4\" y=\"182.325\"/><rect fill=\"green\" height=\"9.9\" width=\"26.928\" x=\"237.336\" y=\"176.55\"/><circle cx=\"237.6\" cy=\"181.5\" fill=\"green\" r=\"-0.264\" stroke=\"green\" stroke-width=\"0\"/><circle cx=\"264.0\" cy=\"181.5\" fill=\"green\" r=\"-0.264\" stroke=\"green\" stroke-width=\"0\"/><text alignment-baseline=\"middle\" fill=\"white\" font-family=\"Times\" font-size=\"8.25\" text-anchor=\"middle\" x=\"250.8\" y=\"182.325\"/><line stroke=\"red\" stroke-width=\"1.32\" x1=\"290.4\" x2=\"290.4\" y1=\"65.835\" y2=\"198.165\"/><text alignment-baseline=\"middle\" fill=\"black\" font-family=\"Times\" font-size=\"8.25\" text-anchor=\"start\" x=\"348.48\" y=\"198.825\">15f</text><rect fill=\"red\" height=\"9.9\" width=\"26.928\" x=\"290.136\" y=\"193.05\"/><circle cx=\"290.4\" cy=\"198.0\" fill=\"red\" r=\"-0.264\" stroke=\"red\" stroke-width=\"0\"/><circle cx=\"316.8\" cy=\"198.0\" fill=\"red\" r=\"-0.264\" stroke=\"red\" stroke-width=\"0\"/><text alignment-baseline=\"middle\" fill=\"white\" font-family=\"Times\" font-size=\"8.25\" text-anchor=\"middle\" x=\"303.6\" y=\"198.825\"/><rect fill=\"red\" height=\"9.9\" width=\"26.928\" x=\"316.536\" y=\"193.05\"/><circle cx=\"316.8\" cy=\"198.0\" fill=\"red\" r=\"-0.264\" stroke=\"red\" stroke-width=\"0\"/><circle cx=\"343.2\" cy=\"198.0\" fill=\"red\" r=\"-0.264\" stroke=\"red\" stroke-width=\"0\"/><text alignment-baseline=\"middle\" fill=\"white\" font-family=\"Times\" font-size=\"8.25\" text-anchor=\"middle\" x=\"330.0\" y=\"198.825\"/><line stroke=\"green\" stroke-width=\"1.32\" x1=\"237.6\" x2=\"237.6\" y1=\"181.335\" y2=\"214.665\"/><text alignment-baseline=\"middle\" fill=\"black\" font-family=\"Times\" font-size=\"8.25\" text-anchor=\"end\" x=\"205.92\" y=\"215.325\">16b</text><rect fill=\"green\" height=\"9.9\" width=\"26.928\" x=\"210.936\" y=\"209.55\"/><circle cx=\"211.2\" cy=\"214.5\" fill=\"green\" r=\"-0.264\" stroke=\"green\" stroke-width=\"0\"/><circle cx=\"237.6\" cy=\"214.5\" fill=\"green\" r=\"-0.264\" stroke=\"green\" stroke-width=\"0\"/><text alignment-baseline=\"middle\" fill=\"white\" font-family=\"Times\" font-size=\"8.25\" text-anchor=\"middle\" x=\"224.4\" y=\"215.325\"/><line stroke=\"red\" stroke-width=\"1.32\" x1=\"264.0\" x2=\"264.0\" y1=\"181.335\" y2=\"231.165\"/><text alignment-baseline=\"middle\" fill=\"black\" font-family=\"Times\" font-size=\"8.25\" text-anchor=\"start\" x=\"295.68\" y=\"231.825\">17f</text><rect fill=\"red\" height=\"9.9\" width=\"26.928\" x=\"263.736\" y=\"226.05\"/><circle cx=\"264.0\" cy=\"231.0\" fill=\"red\" r=\"-0.264\" stroke=\"red\" stroke-width=\"0\"/><circle cx=\"290.4\" cy=\"231.0\" fill=\"red\" r=\"-0.264\" stroke=\"red\" stroke-width=\"0\"/><text alignment-baseline=\"middle\" fill=\"white\" font-family=\"Times\" font-size=\"8.25\" text-anchor=\"middle\" x=\"277.2\" y=\"231.825\"/><line stroke=\"green\" stroke-width=\"1.32\" x1=\"237.6\" x2=\"237.6\" y1=\"181.335\" y2=\"247.665\"/><text alignment-baseline=\"middle\" fill=\"black\" font-family=\"Times\" font-size=\"8.25\" text-anchor=\"end\" x=\"205.92\" y=\"248.325\">18b</text><rect fill=\"green\" height=\"9.9\" width=\"26.928\" x=\"210.936\" y=\"242.55\"/><circle cx=\"211.2\" cy=\"247.5\" fill=\"green\" r=\"-0.264\" stroke=\"green\" stroke-width=\"0\"/><circle cx=\"237.6\" cy=\"247.5\" fill=\"green\" r=\"-0.264\" stroke=\"green\" stroke-width=\"0\"/><text alignment-baseline=\"middle\" fill=\"white\" font-family=\"Times\" font-size=\"8.25\" text-anchor=\"middle\" x=\"224.4\" y=\"248.325\"/><line stroke=\"green\" stroke-width=\"1.32\" x1=\"237.6\" x2=\"237.6\" y1=\"181.335\" y2=\"264.165\"/><text alignment-baseline=\"middle\" fill=\"black\" font-family=\"Times\" font-size=\"8.25\" text-anchor=\"end\" x=\"205.92\" y=\"264.825\">19b</text><rect fill=\"green\" height=\"9.9\" width=\"26.928\" x=\"210.936\" y=\"259.05\"/><circle cx=\"211.2\" cy=\"264.0\" fill=\"green\" r=\"-0.264\" stroke=\"green\" stroke-width=\"0\"/><circle cx=\"237.6\" cy=\"264.0\" fill=\"green\" r=\"-0.264\" stroke=\"green\" stroke-width=\"0\"/><text alignment-baseline=\"middle\" fill=\"white\" font-family=\"Times\" font-size=\"8.25\" text-anchor=\"middle\" x=\"224.4\" y=\"264.825\"/><line stroke=\"red\" stroke-width=\"1.32\" x1=\"264.0\" x2=\"264.0\" y1=\"181.335\" y2=\"280.665\"/><text alignment-baseline=\"middle\" fill=\"black\" font-family=\"Times\" font-size=\"8.25\" text-anchor=\"start\" x=\"295.68\" y=\"281.325\">20f</text><rect fill=\"red\" height=\"9.9\" width=\"26.928\" x=\"263.736\" y=\"275.55\"/><circle cx=\"264.0\" cy=\"280.5\" fill=\"red\" r=\"-0.264\" stroke=\"red\" stroke-width=\"0\"/><circle cx=\"290.4\" cy=\"280.5\" fill=\"red\" r=\"-0.264\" stroke=\"red\" stroke-width=\"0\"/><text alignment-baseline=\"middle\" fill=\"white\" font-family=\"Times\" font-size=\"8.25\" text-anchor=\"middle\" x=\"277.2\" y=\"281.325\"/><line stroke=\"red\" stroke-width=\"1.32\" x1=\"264.0\" x2=\"264.0\" y1=\"181.335\" y2=\"297.165\"/><text alignment-baseline=\"middle\" fill=\"black\" font-family=\"Times\" font-size=\"8.25\" text-anchor=\"start\" x=\"295.68\" y=\"297.825\">21f</text><rect fill=\"red\" height=\"9.9\" width=\"26.928\" x=\"263.736\" y=\"292.05\"/><circle cx=\"264.0\" cy=\"297.0\" fill=\"red\" r=\"-0.264\" stroke=\"red\" stroke-width=\"0\"/><circle cx=\"290.4\" cy=\"297.0\" fill=\"red\" r=\"-0.264\" stroke=\"red\" stroke-width=\"0\"/><text alignment-baseline=\"middle\" fill=\"white\" font-family=\"Times\" font-size=\"8.25\" text-anchor=\"middle\" x=\"277.2\" y=\"297.825\"/><line stroke=\"green\" stroke-width=\"1.32\" x1=\"237.6\" x2=\"237.6\" y1=\"181.335\" y2=\"313.665\"/><text alignment-baseline=\"middle\" fill=\"black\" font-family=\"Times\" font-size=\"8.25\" text-anchor=\"end\" x=\"205.92\" y=\"314.325\">22b</text><rect fill=\"green\" height=\"9.9\" width=\"26.928\" x=\"210.936\" y=\"308.55\"/><circle cx=\"211.2\" cy=\"313.5\" fill=\"green\" r=\"-0.264\" stroke=\"green\" stroke-width=\"0\"/><circle cx=\"237.6\" cy=\"313.5\" fill=\"green\" r=\"-0.264\" stroke=\"green\" stroke-width=\"0\"/><text alignment-baseline=\"middle\" fill=\"white\" font-family=\"Times\" font-size=\"8.25\" text-anchor=\"middle\" x=\"224.4\" y=\"314.325\"/><line stroke=\"red\" stroke-width=\"1.32\" x1=\"264.0\" x2=\"264.0\" y1=\"181.335\" y2=\"330.165\"/><text alignment-baseline=\"middle\" fill=\"black\" font-family=\"Times\" font-size=\"8.25\" text-anchor=\"start\" x=\"295.68\" y=\"330.825\">23f</text><rect fill=\"red\" height=\"9.9\" width=\"26.928\" x=\"263.736\" y=\"325.05\"/><circle cx=\"264.0\" cy=\"330.0\" fill=\"red\" r=\"-0.264\" stroke=\"red\" stroke-width=\"0\"/><circle cx=\"290.4\" cy=\"330.0\" fill=\"red\" r=\"-0.264\" stroke=\"red\" stroke-width=\"0\"/><text alignment-baseline=\"middle\" fill=\"white\" font-family=\"Times\" font-size=\"8.25\" text-anchor=\"middle\" x=\"277.2\" y=\"330.825\"/><line stroke=\"green\" stroke-width=\"1.32\" x1=\"237.6\" x2=\"237.6\" y1=\"181.335\" y2=\"346.665\"/><text alignment-baseline=\"middle\" fill=\"black\" font-family=\"Times\" font-size=\"8.25\" text-anchor=\"end\" x=\"205.92\" y=\"347.325\">24b</text><rect fill=\"green\" height=\"9.9\" width=\"26.928\" x=\"210.936\" y=\"341.55\"/><circle cx=\"211.2\" cy=\"346.5\" fill=\"green\" r=\"-0.264\" stroke=\"green\" stroke-width=\"0\"/><circle cx=\"237.6\" cy=\"346.5\" fill=\"green\" r=\"-0.264\" stroke=\"green\" stroke-width=\"0\"/><text alignment-baseline=\"middle\" fill=\"white\" font-family=\"Times\" font-size=\"8.25\" text-anchor=\"middle\" x=\"224.4\" y=\"347.325\"/><line stroke=\"green\" stroke-width=\"1.32\" x1=\"237.6\" x2=\"237.6\" y1=\"181.335\" y2=\"363.165\"/><text alignment-baseline=\"middle\" fill=\"black\" font-family=\"Times\" font-size=\"8.25\" text-anchor=\"end\" x=\"205.92\" y=\"363.825\">25b</text><rect fill=\"green\" height=\"9.9\" width=\"26.928\" x=\"210.936\" y=\"358.05\"/><circle cx=\"211.2\" cy=\"363.0\" fill=\"green\" r=\"-0.264\" stroke=\"green\" stroke-width=\"0\"/><circle cx=\"237.6\" cy=\"363.0\" fill=\"green\" r=\"-0.264\" stroke=\"green\" stroke-width=\"0\"/><text alignment-baseline=\"middle\" fill=\"white\" font-family=\"Times\" font-size=\"8.25\" text-anchor=\"middle\" x=\"224.4\" y=\"363.825\"/><line stroke=\"green\" stroke-width=\"1.32\" x1=\"237.6\" x2=\"237.6\" y1=\"181.335\" y2=\"379.665\"/><text alignment-baseline=\"middle\" fill=\"black\" font-family=\"Times\" font-size=\"8.25\" text-anchor=\"end\" x=\"205.92\" y=\"380.325\">26b</text><rect fill=\"green\" height=\"9.9\" width=\"26.928\" x=\"210.936\" y=\"374.55\"/><circle cx=\"211.2\" cy=\"379.5\" fill=\"green\" r=\"-0.264\" stroke=\"green\" stroke-width=\"0\"/><circle cx=\"237.6\" cy=\"379.5\" fill=\"green\" r=\"-0.264\" stroke=\"green\" stroke-width=\"0\"/><text alignment-baseline=\"middle\" fill=\"white\" font-family=\"Times\" font-size=\"8.25\" text-anchor=\"middle\" x=\"224.4\" y=\"380.325\"/><line stroke=\"red\" stroke-width=\"1.32\" x1=\"264.0\" x2=\"264.0\" y1=\"181.335\" y2=\"396.165\"/><text alignment-baseline=\"middle\" fill=\"black\" font-family=\"Times\" font-size=\"8.25\" text-anchor=\"start\" x=\"295.68\" y=\"396.825\">27f</text><rect fill=\"red\" height=\"9.9\" width=\"26.928\" x=\"263.736\" y=\"391.05\"/><circle cx=\"264.0\" cy=\"396.0\" fill=\"red\" r=\"-0.264\" stroke=\"red\" stroke-width=\"0\"/><circle cx=\"290.4\" cy=\"396.0\" fill=\"red\" r=\"-0.264\" stroke=\"red\" stroke-width=\"0\"/><text alignment-baseline=\"middle\" fill=\"white\" font-family=\"Times\" font-size=\"8.25\" text-anchor=\"middle\" x=\"277.2\" y=\"396.825\"/><line stroke=\"green\" stroke-width=\"1.32\" x1=\"237.6\" x2=\"237.6\" y1=\"181.335\" y2=\"412.665\"/><text alignment-baseline=\"middle\" fill=\"black\" font-family=\"Times\" font-size=\"8.25\" text-anchor=\"end\" x=\"205.92\" y=\"413.325\">28b</text><rect fill=\"green\" height=\"9.9\" width=\"26.928\" x=\"210.936\" y=\"407.55\"/><circle cx=\"211.2\" cy=\"412.5\" fill=\"green\" r=\"-0.264\" stroke=\"green\" stroke-width=\"0\"/><circle cx=\"237.6\" cy=\"412.5\" fill=\"green\" r=\"-0.264\" stroke=\"green\" stroke-width=\"0\"/><text alignment-baseline=\"middle\" fill=\"white\" font-family=\"Times\" font-size=\"8.25\" text-anchor=\"middle\" x=\"224.4\" y=\"413.325\"/><line stroke=\"green\" stroke-width=\"1.32\" x1=\"237.6\" x2=\"237.6\" y1=\"181.335\" y2=\"429.165\"/><text alignment-baseline=\"middle\" fill=\"black\" font-family=\"Times\" font-size=\"8.25\" text-anchor=\"end\" x=\"205.92\" y=\"429.825\">29b</text><rect fill=\"green\" height=\"9.9\" width=\"26.928\" x=\"210.936\" y=\"424.05\"/><circle cx=\"211.2\" cy=\"429.0\" fill=\"green\" r=\"-0.264\" stroke=\"green\" stroke-width=\"0\"/><circle cx=\"237.6\" cy=\"429.0\" fill=\"green\" r=\"-0.264\" stroke=\"green\" stroke-width=\"0\"/><text alignment-baseline=\"middle\" fill=\"white\" font-family=\"Times\" font-size=\"8.25\" text-anchor=\"middle\" x=\"224.4\" y=\"429.825\"/><line stroke=\"green\" stroke-width=\"1.32\" x1=\"237.6\" x2=\"237.6\" y1=\"181.335\" y2=\"445.665\"/><text alignment-baseline=\"middle\" fill=\"black\" font-family=\"Times\" font-size=\"8.25\" text-anchor=\"end\" x=\"205.92\" y=\"446.325\">30b</text><rect fill=\"green\" height=\"9.9\" width=\"26.928\" x=\"210.936\" y=\"440.55\"/><circle cx=\"211.2\" cy=\"445.5\" fill=\"green\" r=\"-0.264\" stroke=\"green\" stroke-width=\"0\"/><circle cx=\"237.6\" cy=\"445.5\" fill=\"green\" r=\"-0.264\" stroke=\"green\" stroke-width=\"0\"/><text alignment-baseline=\"middle\" fill=\"white\" font-family=\"Times\" font-size=\"8.25\" text-anchor=\"middle\" x=\"224.4\" y=\"446.325\"/><line stroke=\"green\" stroke-width=\"1.32\" x1=\"237.6\" x2=\"237.6\" y1=\"181.335\" y2=\"462.165\"/><text alignment-baseline=\"middle\" fill=\"black\" font-family=\"Times\" font-size=\"8.25\" text-anchor=\"end\" x=\"205.92\" y=\"462.825\">31b</text><rect fill=\"green\" height=\"9.9\" width=\"26.928\" x=\"210.936\" y=\"457.05\"/><circle cx=\"211.2\" cy=\"462.0\" fill=\"green\" r=\"-0.264\" stroke=\"green\" stroke-width=\"0\"/><circle cx=\"237.6\" cy=\"462.0\" fill=\"green\" r=\"-0.264\" stroke=\"green\" stroke-width=\"0\"/><text alignment-baseline=\"middle\" fill=\"white\" font-family=\"Times\" font-size=\"8.25\" text-anchor=\"middle\" x=\"224.4\" y=\"462.825\"/><line stroke=\"green\" stroke-width=\"1.32\" x1=\"237.6\" x2=\"237.6\" y1=\"181.335\" y2=\"478.665\"/><text alignment-baseline=\"middle\" fill=\"black\" font-family=\"Times\" font-size=\"8.25\" text-anchor=\"end\" x=\"205.92\" y=\"479.325\">32b</text><rect fill=\"green\" height=\"9.9\" width=\"26.928\" x=\"210.936\" y=\"473.55\"/><circle cx=\"211.2\" cy=\"478.5\" fill=\"green\" r=\"-0.264\" stroke=\"green\" stroke-width=\"0\"/><circle cx=\"237.6\" cy=\"478.5\" fill=\"green\" r=\"-0.264\" stroke=\"green\" stroke-width=\"0\"/><text alignment-baseline=\"middle\" fill=\"white\" font-family=\"Times\" font-size=\"8.25\" text-anchor=\"middle\" x=\"224.4\" y=\"479.325\"/><line stroke=\"red\" stroke-width=\"1.32\" x1=\"264.0\" x2=\"264.0\" y1=\"181.335\" y2=\"495.165\"/><text alignment-baseline=\"middle\" fill=\"black\" font-family=\"Times\" font-size=\"8.25\" text-anchor=\"start\" x=\"295.68\" y=\"495.825\">33f</text><rect fill=\"red\" height=\"9.9\" width=\"26.928\" x=\"263.736\" y=\"490.05\"/><circle cx=\"264.0\" cy=\"495.0\" fill=\"red\" r=\"-0.264\" stroke=\"red\" stroke-width=\"0\"/><circle cx=\"290.4\" cy=\"495.0\" fill=\"red\" r=\"-0.264\" stroke=\"red\" stroke-width=\"0\"/><text alignment-baseline=\"middle\" fill=\"white\" font-family=\"Times\" font-size=\"8.25\" text-anchor=\"middle\" x=\"277.2\" y=\"495.825\"/><line stroke=\"red\" stroke-width=\"1.32\" x1=\"264.0\" x2=\"264.0\" y1=\"181.335\" y2=\"511.665\"/><text alignment-baseline=\"middle\" fill=\"black\" font-family=\"Times\" font-size=\"8.25\" text-anchor=\"start\" x=\"295.68\" y=\"512.325\">34f</text><rect fill=\"red\" height=\"9.9\" width=\"26.928\" x=\"263.736\" y=\"506.55\"/><circle cx=\"264.0\" cy=\"511.5\" fill=\"red\" r=\"-0.264\" stroke=\"red\" stroke-width=\"0\"/><circle cx=\"290.4\" cy=\"511.5\" fill=\"red\" r=\"-0.264\" stroke=\"red\" stroke-width=\"0\"/><text alignment-baseline=\"middle\" fill=\"white\" font-family=\"Times\" font-size=\"8.25\" text-anchor=\"middle\" x=\"277.2\" y=\"512.325\"/><line stroke=\"green\" stroke-width=\"1.32\" x1=\"237.6\" x2=\"237.6\" y1=\"181.335\" y2=\"528.165\"/><text alignment-baseline=\"middle\" fill=\"black\" font-family=\"Times\" font-size=\"8.25\" text-anchor=\"end\" x=\"205.92\" y=\"528.825\">35b</text><rect fill=\"green\" height=\"9.9\" width=\"26.928\" x=\"210.936\" y=\"523.05\"/><circle cx=\"211.2\" cy=\"528.0\" fill=\"green\" r=\"-0.264\" stroke=\"green\" stroke-width=\"0\"/><circle cx=\"237.6\" cy=\"528.0\" fill=\"green\" r=\"-0.264\" stroke=\"green\" stroke-width=\"0\"/><text alignment-baseline=\"middle\" fill=\"white\" font-family=\"Times\" font-size=\"8.25\" text-anchor=\"middle\" x=\"224.4\" y=\"528.825\"/><line stroke=\"red\" stroke-width=\"1.32\" x1=\"264.0\" x2=\"264.0\" y1=\"181.335\" y2=\"544.665\"/><text alignment-baseline=\"middle\" fill=\"black\" font-family=\"Times\" font-size=\"8.25\" text-anchor=\"start\" x=\"295.68\" y=\"545.325\">36f</text><rect fill=\"red\" height=\"9.9\" width=\"26.928\" x=\"263.736\" y=\"539.55\"/><circle cx=\"264.0\" cy=\"544.5\" fill=\"red\" r=\"-0.264\" stroke=\"red\" stroke-width=\"0\"/><circle cx=\"290.4\" cy=\"544.5\" fill=\"red\" r=\"-0.264\" stroke=\"red\" stroke-width=\"0\"/><text alignment-baseline=\"middle\" fill=\"white\" font-family=\"Times\" font-size=\"8.25\" text-anchor=\"middle\" x=\"277.2\" y=\"545.325\"/><line stroke=\"green\" stroke-width=\"1.32\" x1=\"237.6\" x2=\"237.6\" y1=\"181.335\" y2=\"561.165\"/><text alignment-baseline=\"middle\" fill=\"black\" font-family=\"Times\" font-size=\"8.25\" text-anchor=\"end\" x=\"205.92\" y=\"561.825\">37b</text><rect fill=\"green\" height=\"9.9\" width=\"26.928\" x=\"210.936\" y=\"556.05\"/><circle cx=\"211.2\" cy=\"561.0\" fill=\"green\" r=\"-0.264\" stroke=\"green\" stroke-width=\"0\"/><circle cx=\"237.6\" cy=\"561.0\" fill=\"green\" r=\"-0.264\" stroke=\"green\" stroke-width=\"0\"/><text alignment-baseline=\"middle\" fill=\"white\" font-family=\"Times\" font-size=\"8.25\" text-anchor=\"middle\" x=\"224.4\" y=\"561.825\"/><line stroke=\"red\" stroke-width=\"1.32\" x1=\"264.0\" x2=\"264.0\" y1=\"181.335\" y2=\"577.665\"/><text alignment-baseline=\"middle\" fill=\"black\" font-family=\"Times\" font-size=\"8.25\" text-anchor=\"start\" x=\"295.68\" y=\"578.325\">38f</text><rect fill=\"red\" height=\"9.9\" width=\"26.928\" x=\"263.736\" y=\"572.55\"/><circle cx=\"264.0\" cy=\"577.5\" fill=\"red\" r=\"-0.264\" stroke=\"red\" stroke-width=\"0\"/><circle cx=\"290.4\" cy=\"577.5\" fill=\"red\" r=\"-0.264\" stroke=\"red\" stroke-width=\"0\"/><text alignment-baseline=\"middle\" fill=\"white\" font-family=\"Times\" font-size=\"8.25\" text-anchor=\"middle\" x=\"277.2\" y=\"578.325\"/><line stroke=\"green\" stroke-width=\"1.32\" x1=\"237.6\" x2=\"237.6\" y1=\"181.335\" y2=\"594.165\"/><text alignment-baseline=\"middle\" fill=\"black\" font-family=\"Times\" font-size=\"8.25\" text-anchor=\"end\" x=\"205.92\" y=\"594.825\">39b</text><rect fill=\"green\" height=\"9.9\" width=\"26.928\" x=\"210.936\" y=\"589.05\"/><circle cx=\"211.2\" cy=\"594.0\" fill=\"green\" r=\"-0.264\" stroke=\"green\" stroke-width=\"0\"/><circle cx=\"237.6\" cy=\"594.0\" fill=\"green\" r=\"-0.264\" stroke=\"green\" stroke-width=\"0\"/><text alignment-baseline=\"middle\" fill=\"white\" font-family=\"Times\" font-size=\"8.25\" text-anchor=\"middle\" x=\"224.4\" y=\"594.825\"/><line stroke=\"red\" stroke-width=\"1.32\" x1=\"264.0\" x2=\"264.0\" y1=\"181.335\" y2=\"610.665\"/><text alignment-baseline=\"middle\" fill=\"black\" font-family=\"Times\" font-size=\"8.25\" text-anchor=\"start\" x=\"295.68\" y=\"611.325\">40f</text><rect fill=\"red\" height=\"9.9\" width=\"26.928\" x=\"263.736\" y=\"605.55\"/><circle cx=\"264.0\" cy=\"610.5\" fill=\"red\" r=\"-0.264\" stroke=\"red\" stroke-width=\"0\"/><circle cx=\"290.4\" cy=\"610.5\" fill=\"red\" r=\"-0.264\" stroke=\"red\" stroke-width=\"0\"/><text alignment-baseline=\"middle\" fill=\"white\" font-family=\"Times\" font-size=\"8.25\" text-anchor=\"middle\" x=\"277.2\" y=\"611.325\"/><line stroke=\"green\" stroke-width=\"1.32\" x1=\"237.6\" x2=\"237.6\" y1=\"181.335\" y2=\"627.165\"/><text alignment-baseline=\"middle\" fill=\"black\" font-family=\"Times\" font-size=\"8.25\" text-anchor=\"end\" x=\"205.92\" y=\"627.825\">41b</text><rect fill=\"green\" height=\"9.9\" width=\"26.928\" x=\"210.936\" y=\"622.05\"/><circle cx=\"211.2\" cy=\"627.0\" fill=\"green\" r=\"-0.264\" stroke=\"green\" stroke-width=\"0\"/><circle cx=\"237.6\" cy=\"627.0\" fill=\"green\" r=\"-0.264\" stroke=\"green\" stroke-width=\"0\"/><text alignment-baseline=\"middle\" fill=\"white\" font-family=\"Times\" font-size=\"8.25\" text-anchor=\"middle\" x=\"224.4\" y=\"627.825\"/><line stroke=\"red\" stroke-width=\"1.32\" x1=\"264.0\" x2=\"264.0\" y1=\"181.335\" y2=\"643.665\"/><text alignment-baseline=\"middle\" fill=\"black\" font-family=\"Times\" font-size=\"8.25\" text-anchor=\"start\" x=\"295.68\" y=\"644.325\">42f</text><rect fill=\"red\" height=\"9.9\" width=\"26.928\" x=\"263.736\" y=\"638.55\"/><circle cx=\"264.0\" cy=\"643.5\" fill=\"red\" r=\"-0.264\" stroke=\"red\" stroke-width=\"0\"/><circle cx=\"290.4\" cy=\"643.5\" fill=\"red\" r=\"-0.264\" stroke=\"red\" stroke-width=\"0\"/><text alignment-baseline=\"middle\" fill=\"white\" font-family=\"Times\" font-size=\"8.25\" text-anchor=\"middle\" x=\"277.2\" y=\"644.325\"/><line stroke=\"green\" stroke-width=\"1.32\" x1=\"237.6\" x2=\"237.6\" y1=\"181.335\" y2=\"660.165\"/><text alignment-baseline=\"middle\" fill=\"black\" font-family=\"Times\" font-size=\"8.25\" text-anchor=\"end\" x=\"205.92\" y=\"660.825\">43b</text><rect fill=\"green\" height=\"9.9\" width=\"26.928\" x=\"210.936\" y=\"655.05\"/><circle cx=\"211.2\" cy=\"660.0\" fill=\"green\" r=\"-0.264\" stroke=\"green\" stroke-width=\"0\"/><circle cx=\"237.6\" cy=\"660.0\" fill=\"green\" r=\"-0.264\" stroke=\"green\" stroke-width=\"0\"/><text alignment-baseline=\"middle\" fill=\"white\" font-family=\"Times\" font-size=\"8.25\" text-anchor=\"middle\" x=\"224.4\" y=\"660.825\"/><line stroke=\"red\" stroke-width=\"1.32\" x1=\"264.0\" x2=\"264.0\" y1=\"181.335\" y2=\"676.665\"/><text alignment-baseline=\"middle\" fill=\"black\" font-family=\"Times\" font-size=\"8.25\" text-anchor=\"start\" x=\"295.68\" y=\"677.325\">44f</text><rect fill=\"red\" height=\"9.9\" width=\"26.928\" x=\"263.736\" y=\"671.55\"/><circle cx=\"264.0\" cy=\"676.5\" fill=\"red\" r=\"-0.264\" stroke=\"red\" stroke-width=\"0\"/><circle cx=\"290.4\" cy=\"676.5\" fill=\"red\" r=\"-0.264\" stroke=\"red\" stroke-width=\"0\"/><text alignment-baseline=\"middle\" fill=\"white\" font-family=\"Times\" font-size=\"8.25\" text-anchor=\"middle\" x=\"277.2\" y=\"677.325\"/><line stroke=\"red\" stroke-width=\"1.32\" x1=\"264.0\" x2=\"264.0\" y1=\"181.335\" y2=\"693.165\"/><text alignment-baseline=\"middle\" fill=\"black\" font-family=\"Times\" font-size=\"8.25\" text-anchor=\"start\" x=\"295.68\" y=\"693.825\">45f</text><rect fill=\"red\" height=\"9.9\" width=\"26.928\" x=\"263.736\" y=\"688.05\"/><circle cx=\"264.0\" cy=\"693.0\" fill=\"red\" r=\"-0.264\" stroke=\"red\" stroke-width=\"0\"/><circle cx=\"290.4\" cy=\"693.0\" fill=\"red\" r=\"-0.264\" stroke=\"red\" stroke-width=\"0\"/><text alignment-baseline=\"middle\" fill=\"white\" font-family=\"Times\" font-size=\"8.25\" text-anchor=\"middle\" x=\"277.2\" y=\"693.825\"/><line stroke=\"green\" stroke-width=\"1.32\" x1=\"237.6\" x2=\"237.6\" y1=\"181.335\" y2=\"709.665\"/><text alignment-baseline=\"middle\" fill=\"black\" font-family=\"Times\" font-size=\"8.25\" text-anchor=\"end\" x=\"205.92\" y=\"710.325\">46b</text><rect fill=\"green\" height=\"9.9\" width=\"26.928\" x=\"210.936\" y=\"704.55\"/><circle cx=\"211.2\" cy=\"709.5\" fill=\"green\" r=\"-0.264\" stroke=\"green\" stroke-width=\"0\"/><circle cx=\"237.6\" cy=\"709.5\" fill=\"green\" r=\"-0.264\" stroke=\"green\" stroke-width=\"0\"/><text alignment-baseline=\"middle\" fill=\"white\" font-family=\"Times\" font-size=\"8.25\" text-anchor=\"middle\" x=\"224.4\" y=\"710.325\"/><line stroke=\"red\" stroke-width=\"1.32\" x1=\"264.0\" x2=\"264.0\" y1=\"181.335\" y2=\"726.165\"/><text alignment-baseline=\"middle\" fill=\"black\" font-family=\"Times\" font-size=\"8.25\" text-anchor=\"start\" x=\"295.68\" y=\"726.825\">47f</text><rect fill=\"red\" height=\"9.9\" width=\"26.928\" x=\"263.736\" y=\"721.05\"/><circle cx=\"264.0\" cy=\"726.0\" fill=\"red\" r=\"-0.264\" stroke=\"red\" stroke-width=\"0\"/><circle cx=\"290.4\" cy=\"726.0\" fill=\"red\" r=\"-0.264\" stroke=\"red\" stroke-width=\"0\"/><text alignment-baseline=\"middle\" fill=\"white\" font-family=\"Times\" font-size=\"8.25\" text-anchor=\"middle\" x=\"277.2\" y=\"726.825\"/><line stroke=\"green\" stroke-width=\"1.32\" x1=\"237.6\" x2=\"237.6\" y1=\"181.335\" y2=\"742.665\"/><text alignment-baseline=\"middle\" fill=\"black\" font-family=\"Times\" font-size=\"8.25\" text-anchor=\"end\" x=\"205.92\" y=\"743.325\">48b</text><rect fill=\"green\" height=\"9.9\" width=\"26.928\" x=\"210.936\" y=\"737.55\"/><circle cx=\"211.2\" cy=\"742.5\" fill=\"green\" r=\"-0.264\" stroke=\"green\" stroke-width=\"0\"/><circle cx=\"237.6\" cy=\"742.5\" fill=\"green\" r=\"-0.264\" stroke=\"green\" stroke-width=\"0\"/><text alignment-baseline=\"middle\" fill=\"white\" font-family=\"Times\" font-size=\"8.25\" text-anchor=\"middle\" x=\"224.4\" y=\"743.325\"/><line stroke=\"red\" stroke-width=\"1.32\" x1=\"264.0\" x2=\"264.0\" y1=\"181.335\" y2=\"759.165\"/><text alignment-baseline=\"middle\" fill=\"black\" font-family=\"Times\" font-size=\"8.25\" text-anchor=\"start\" x=\"295.68\" y=\"759.825\">49f</text><rect fill=\"red\" height=\"9.9\" width=\"26.928\" x=\"263.736\" y=\"754.05\"/><circle cx=\"264.0\" cy=\"759.0\" fill=\"red\" r=\"-0.264\" stroke=\"red\" stroke-width=\"0\"/><circle cx=\"290.4\" cy=\"759.0\" fill=\"red\" r=\"-0.264\" stroke=\"red\" stroke-width=\"0\"/><text alignment-baseline=\"middle\" fill=\"white\" font-family=\"Times\" font-size=\"8.25\" text-anchor=\"middle\" x=\"277.2\" y=\"759.825\"/><line stroke=\"green\" stroke-width=\"1.32\" x1=\"237.6\" x2=\"237.6\" y1=\"181.335\" y2=\"775.665\"/><text alignment-baseline=\"middle\" fill=\"black\" font-family=\"Times\" font-size=\"8.25\" text-anchor=\"end\" x=\"205.92\" y=\"776.325\">50b</text><rect fill=\"green\" height=\"9.9\" width=\"26.928\" x=\"210.936\" y=\"770.55\"/><circle cx=\"211.2\" cy=\"775.5\" fill=\"green\" r=\"-0.264\" stroke=\"green\" stroke-width=\"0\"/><circle cx=\"237.6\" cy=\"775.5\" fill=\"green\" r=\"-0.264\" stroke=\"green\" stroke-width=\"0\"/><text alignment-baseline=\"middle\" fill=\"white\" font-family=\"Times\" font-size=\"8.25\" text-anchor=\"middle\" x=\"224.4\" y=\"776.325\"/><line stroke=\"green\" stroke-width=\"1.32\" x1=\"237.6\" x2=\"237.6\" y1=\"181.335\" y2=\"792.165\"/><text alignment-baseline=\"middle\" fill=\"black\" font-family=\"Times\" font-size=\"8.25\" text-anchor=\"end\" x=\"205.92\" y=\"792.825\">51b</text><rect fill=\"green\" height=\"9.9\" width=\"26.928\" x=\"210.936\" y=\"787.05\"/><circle cx=\"211.2\" cy=\"792.0\" fill=\"green\" r=\"-0.264\" stroke=\"green\" stroke-width=\"0\"/><circle cx=\"237.6\" cy=\"792.0\" fill=\"green\" r=\"-0.264\" stroke=\"green\" stroke-width=\"0\"/><text alignment-baseline=\"middle\" fill=\"white\" font-family=\"Times\" font-size=\"8.25\" text-anchor=\"middle\" x=\"224.4\" y=\"792.825\"/><text alignment-baseline=\"middle\" fill=\"black\" font-family=\"Times\" font-size=\"8.25\" text-anchor=\"end\" x=\"113.52\" y=\"17.325\">1</text><text alignment-baseline=\"middle\" fill=\"black\" font-family=\"Times\" font-size=\"8.25\" text-anchor=\"end\" x=\"34.32\" y=\"17.325\">1</text><text alignment-baseline=\"middle\" fill=\"black\" font-family=\"Times\" font-size=\"8.25\" text-anchor=\"end\" x=\"113.52\" y=\"33.825\">3</text><text alignment-baseline=\"middle\" fill=\"black\" font-family=\"Times\" font-size=\"8.25\" text-anchor=\"end\" x=\"34.32\" y=\"33.825\">2</text><text alignment-baseline=\"middle\" fill=\"black\" font-family=\"Times\" font-size=\"8.25\" text-anchor=\"end\" x=\"113.52\" y=\"50.325\">5</text><text alignment-baseline=\"middle\" fill=\"black\" font-family=\"Times\" font-size=\"8.25\" text-anchor=\"end\" x=\"34.32\" y=\"50.325\">3</text><rect fill=\"black\" height=\"46.2\" width=\"2.64\" x=\"145.2\" y=\"9.9\"/><circle cx=\"145.2\" cy=\"9.9\" fill=\"black\" r=\"-0.264\" stroke=\"black\" stroke-width=\"0\"/><rect fill=\"black\" height=\"1.65\" width=\"26.928\" x=\"131.736\" y=\"9.9\"/><circle cx=\"145.2\" cy=\"56.1\" fill=\"black\" r=\"-0.264\" stroke=\"black\" stroke-width=\"0\"/><rect fill=\"black\" height=\"1.65\" width=\"26.928\" x=\"131.736\" y=\"54.45\"/><text alignment-baseline=\"middle\" fill=\"black\" font-family=\"Times\" font-size=\"8.25\" text-anchor=\"middle\" x=\"137.28\" y=\"33.825\"/><text alignment-baseline=\"middle\" fill=\"black\" font-family=\"Times\" font-size=\"8.25\" text-anchor=\"end\" x=\"113.52\" y=\"66.825\">7</text><text alignment-baseline=\"middle\" fill=\"black\" font-family=\"Times\" font-size=\"8.25\" text-anchor=\"end\" x=\"34.32\" y=\"66.825\">4</text><text alignment-baseline=\"middle\" fill=\"black\" font-family=\"Times\" font-size=\"8.25\" text-anchor=\"end\" x=\"113.52\" y=\"83.325\">9</text><text alignment-baseline=\"middle\" fill=\"black\" font-family=\"Times\" font-size=\"8.25\" text-anchor=\"end\" x=\"34.32\" y=\"83.325\">5</text><text alignment-baseline=\"middle\" fill=\"black\" font-family=\"Times\" font-size=\"8.25\" text-anchor=\"end\" x=\"113.52\" y=\"99.825\">11</text><text alignment-baseline=\"middle\" fill=\"black\" font-family=\"Times\" font-size=\"8.25\" text-anchor=\"end\" x=\"34.32\" y=\"99.825\">6</text><text alignment-baseline=\"middle\" fill=\"black\" font-family=\"Times\" font-size=\"8.25\" text-anchor=\"end\" x=\"113.52\" y=\"116.325\">15</text><text alignment-baseline=\"middle\" fill=\"black\" font-family=\"Times\" font-size=\"8.25\" text-anchor=\"end\" x=\"34.32\" y=\"116.325\">9</text><text alignment-baseline=\"middle\" fill=\"black\" font-family=\"Times\" font-size=\"8.25\" text-anchor=\"end\" x=\"113.52\" y=\"132.825\">17</text><text alignment-baseline=\"middle\" fill=\"black\" font-family=\"Times\" font-size=\"8.25\" text-anchor=\"end\" x=\"34.32\" y=\"132.825\">10</text><text alignment-baseline=\"middle\" fill=\"black\" font-family=\"Times\" font-size=\"8.25\" text-anchor=\"end\" x=\"113.52\" y=\"149.325\">19</text><text alignment-baseline=\"middle\" fill=\"black\" font-family=\"Times\" font-size=\"8.25\" text-anchor=\"end\" x=\"34.32\" y=\"149.325\">11</text><text alignment-baseline=\"middle\" fill=\"black\" font-family=\"Times\" font-size=\"8.25\" text-anchor=\"end\" x=\"113.52\" y=\"165.825\">21</text><text alignment-baseline=\"middle\" fill=\"black\" font-family=\"Times\" font-size=\"8.25\" text-anchor=\"end\" x=\"34.32\" y=\"165.825\">12</text><text alignment-baseline=\"middle\" fill=\"black\" font-family=\"Times\" font-size=\"8.25\" text-anchor=\"end\" x=\"113.52\" y=\"182.325\">23</text><text alignment-baseline=\"middle\" fill=\"black\" font-family=\"Times\" font-size=\"8.25\" text-anchor=\"end\" x=\"34.32\" y=\"182.325\">13</text><text alignment-baseline=\"middle\" fill=\"black\" font-family=\"Times\" font-size=\"8.25\" text-anchor=\"end\" x=\"113.52\" y=\"198.825\">25</text><text alignment-baseline=\"middle\" fill=\"black\" font-family=\"Times\" font-size=\"8.25\" text-anchor=\"end\" x=\"34.32\" y=\"198.825\">14</text><text alignment-baseline=\"middle\" fill=\"black\" font-family=\"Times\" font-size=\"8.25\" text-anchor=\"end\" x=\"113.52\" y=\"215.325\">27</text><text alignment-baseline=\"middle\" fill=\"black\" font-family=\"Times\" font-size=\"8.25\" text-anchor=\"end\" x=\"34.32\" y=\"215.325\">15</text><rect fill=\"black\" height=\"161.7\" width=\"2.64\" x=\"145.2\" y=\"59.4\"/><circle cx=\"145.2\" cy=\"59.4\" fill=\"black\" r=\"-0.264\" stroke=\"black\" stroke-width=\"0\"/><rect fill=\"black\" height=\"1.65\" width=\"26.928\" x=\"131.736\" y=\"59.4\"/><circle cx=\"145.2\" cy=\"221.1\" fill=\"black\" r=\"-0.264\" stroke=\"black\" stroke-width=\"0\"/><rect fill=\"black\" height=\"1.65\" width=\"26.928\" x=\"131.736\" y=\"219.45\"/><text alignment-baseline=\"middle\" fill=\"black\" font-family=\"Times\" font-size=\"8.25\" text-anchor=\"middle\" x=\"137.28\" y=\"141.075\"/><text alignment-baseline=\"middle\" fill=\"black\" font-family=\"Times\" font-size=\"8.25\" text-anchor=\"end\" x=\"113.52\" y=\"231.825\">29</text><text alignment-baseline=\"middle\" fill=\"black\" font-family=\"Times\" font-size=\"8.25\" text-anchor=\"end\" x=\"34.32\" y=\"231.825\">16</text><text alignment-baseline=\"middle\" fill=\"black\" font-family=\"Times\" font-size=\"8.25\" text-anchor=\"end\" x=\"113.52\" y=\"248.325\">31</text><text alignment-baseline=\"middle\" fill=\"black\" font-family=\"Times\" font-size=\"8.25\" text-anchor=\"end\" x=\"34.32\" y=\"248.325\">17</text><text alignment-baseline=\"middle\" fill=\"black\" font-family=\"Times\" font-size=\"8.25\" text-anchor=\"end\" x=\"113.52\" y=\"264.825\">33</text><text alignment-baseline=\"middle\" fill=\"black\" font-family=\"Times\" font-size=\"8.25\" text-anchor=\"end\" x=\"34.32\" y=\"264.825\">18</text><text alignment-baseline=\"middle\" fill=\"black\" font-family=\"Times\" font-size=\"8.25\" text-anchor=\"end\" x=\"113.52\" y=\"281.325\">35</text><text alignment-baseline=\"middle\" fill=\"black\" font-family=\"Times\" font-size=\"8.25\" text-anchor=\"end\" x=\"34.32\" y=\"281.325\">19</text><text alignment-baseline=\"middle\" fill=\"black\" font-family=\"Times\" font-size=\"8.25\" text-anchor=\"end\" x=\"113.52\" y=\"297.825\">37</text><text alignment-baseline=\"middle\" fill=\"black\" font-family=\"Times\" font-size=\"8.25\" text-anchor=\"end\" x=\"34.32\" y=\"297.825\">20</text><text alignment-baseline=\"middle\" fill=\"black\" font-family=\"Times\" font-size=\"8.25\" text-anchor=\"end\" x=\"113.52\" y=\"314.325\">39</text><text alignment-baseline=\"middle\" fill=\"black\" font-family=\"Times\" font-size=\"8.25\" text-anchor=\"end\" x=\"34.32\" y=\"314.325\">21</text><text alignment-baseline=\"middle\" fill=\"black\" font-family=\"Times\" font-size=\"8.25\" text-anchor=\"end\" x=\"113.52\" y=\"330.825\">41</text><text alignment-baseline=\"middle\" fill=\"black\" font-family=\"Times\" font-size=\"8.25\" text-anchor=\"end\" x=\"34.32\" y=\"330.825\">22</text><text alignment-baseline=\"middle\" fill=\"black\" font-family=\"Times\" font-size=\"8.25\" text-anchor=\"end\" x=\"113.52\" y=\"347.325\">43</text><text alignment-baseline=\"middle\" fill=\"black\" font-family=\"Times\" font-size=\"8.25\" text-anchor=\"end\" x=\"34.32\" y=\"347.325\">23</text><text alignment-baseline=\"middle\" fill=\"black\" font-family=\"Times\" font-size=\"8.25\" text-anchor=\"end\" x=\"113.52\" y=\"363.825\">45</text><text alignment-baseline=\"middle\" fill=\"black\" font-family=\"Times\" font-size=\"8.25\" text-anchor=\"end\" x=\"34.32\" y=\"363.825\">24</text><text alignment-baseline=\"middle\" fill=\"black\" font-family=\"Times\" font-size=\"8.25\" text-anchor=\"end\" x=\"113.52\" y=\"380.325\">47</text><text alignment-baseline=\"middle\" fill=\"black\" font-family=\"Times\" font-size=\"8.25\" text-anchor=\"end\" x=\"34.32\" y=\"380.325\">25</text><text alignment-baseline=\"middle\" fill=\"black\" font-family=\"Times\" font-size=\"8.25\" text-anchor=\"end\" x=\"113.52\" y=\"396.825\">49</text><text alignment-baseline=\"middle\" fill=\"black\" font-family=\"Times\" font-size=\"8.25\" text-anchor=\"end\" x=\"34.32\" y=\"396.825\">26</text><text alignment-baseline=\"middle\" fill=\"black\" font-family=\"Times\" font-size=\"8.25\" text-anchor=\"end\" x=\"113.52\" y=\"413.325\">51</text><text alignment-baseline=\"middle\" fill=\"black\" font-family=\"Times\" font-size=\"8.25\" text-anchor=\"end\" x=\"34.32\" y=\"413.325\">27</text><text alignment-baseline=\"middle\" fill=\"black\" font-family=\"Times\" font-size=\"8.25\" text-anchor=\"end\" x=\"113.52\" y=\"429.825\">53</text><text alignment-baseline=\"middle\" fill=\"black\" font-family=\"Times\" font-size=\"8.25\" text-anchor=\"end\" x=\"34.32\" y=\"429.825\">28</text><text alignment-baseline=\"middle\" fill=\"black\" font-family=\"Times\" font-size=\"8.25\" text-anchor=\"end\" x=\"113.52\" y=\"446.325\">55</text><text alignment-baseline=\"middle\" fill=\"black\" font-family=\"Times\" font-size=\"8.25\" text-anchor=\"end\" x=\"34.32\" y=\"446.325\">29</text><text alignment-baseline=\"middle\" fill=\"black\" font-family=\"Times\" font-size=\"8.25\" text-anchor=\"end\" x=\"113.52\" y=\"462.825\">57</text><text alignment-baseline=\"middle\" fill=\"black\" font-family=\"Times\" font-size=\"8.25\" text-anchor=\"end\" x=\"34.32\" y=\"462.825\">30</text><text alignment-baseline=\"middle\" fill=\"black\" font-family=\"Times\" font-size=\"8.25\" text-anchor=\"end\" x=\"113.52\" y=\"479.325\">59</text><text alignment-baseline=\"middle\" fill=\"black\" font-family=\"Times\" font-size=\"8.25\" text-anchor=\"end\" x=\"34.32\" y=\"479.325\">31</text><text alignment-baseline=\"middle\" fill=\"black\" font-family=\"Times\" font-size=\"8.25\" text-anchor=\"end\" x=\"113.52\" y=\"495.825\">61</text><text alignment-baseline=\"middle\" fill=\"black\" font-family=\"Times\" font-size=\"8.25\" text-anchor=\"end\" x=\"34.32\" y=\"495.825\">32</text><text alignment-baseline=\"middle\" fill=\"black\" font-family=\"Times\" font-size=\"8.25\" text-anchor=\"end\" x=\"113.52\" y=\"512.325\">63</text><text alignment-baseline=\"middle\" fill=\"black\" font-family=\"Times\" font-size=\"8.25\" text-anchor=\"end\" x=\"34.32\" y=\"512.325\">33</text><text alignment-baseline=\"middle\" fill=\"black\" font-family=\"Times\" font-size=\"8.25\" text-anchor=\"end\" x=\"113.52\" y=\"528.825\">65</text><text alignment-baseline=\"middle\" fill=\"black\" font-family=\"Times\" font-size=\"8.25\" text-anchor=\"end\" x=\"34.32\" y=\"528.825\">34</text><text alignment-baseline=\"middle\" fill=\"black\" font-family=\"Times\" font-size=\"8.25\" text-anchor=\"end\" x=\"113.52\" y=\"545.325\">67</text><text alignment-baseline=\"middle\" fill=\"black\" font-family=\"Times\" font-size=\"8.25\" text-anchor=\"end\" x=\"34.32\" y=\"545.325\">35</text><text alignment-baseline=\"middle\" fill=\"black\" font-family=\"Times\" font-size=\"8.25\" text-anchor=\"end\" x=\"113.52\" y=\"561.825\">69</text><text alignment-baseline=\"middle\" fill=\"black\" font-family=\"Times\" font-size=\"8.25\" text-anchor=\"end\" x=\"34.32\" y=\"561.825\">36</text><text alignment-baseline=\"middle\" fill=\"black\" font-family=\"Times\" font-size=\"8.25\" text-anchor=\"end\" x=\"113.52\" y=\"578.325\">71</text><text alignment-baseline=\"middle\" fill=\"black\" font-family=\"Times\" font-size=\"8.25\" text-anchor=\"end\" x=\"34.32\" y=\"578.325\">37</text><text alignment-baseline=\"middle\" fill=\"black\" font-family=\"Times\" font-size=\"8.25\" text-anchor=\"end\" x=\"113.52\" y=\"594.825\">73</text><text alignment-baseline=\"middle\" fill=\"black\" font-family=\"Times\" font-size=\"8.25\" text-anchor=\"end\" x=\"34.32\" y=\"594.825\">38</text><text alignment-baseline=\"middle\" fill=\"black\" font-family=\"Times\" font-size=\"8.25\" text-anchor=\"end\" x=\"113.52\" y=\"611.325\">75</text><text alignment-baseline=\"middle\" fill=\"black\" font-family=\"Times\" font-size=\"8.25\" text-anchor=\"end\" x=\"34.32\" y=\"611.325\">39</text><text alignment-baseline=\"middle\" fill=\"black\" font-family=\"Times\" font-size=\"8.25\" text-anchor=\"end\" x=\"113.52\" y=\"627.825\">77</text><text alignment-baseline=\"middle\" fill=\"black\" font-family=\"Times\" font-size=\"8.25\" text-anchor=\"end\" x=\"34.32\" y=\"627.825\">40</text><text alignment-baseline=\"middle\" fill=\"black\" font-family=\"Times\" font-size=\"8.25\" text-anchor=\"end\" x=\"113.52\" y=\"644.325\">79</text><text alignment-baseline=\"middle\" fill=\"black\" font-family=\"Times\" font-size=\"8.25\" text-anchor=\"end\" x=\"34.32\" y=\"644.325\">41</text><text alignment-baseline=\"middle\" fill=\"black\" font-family=\"Times\" font-size=\"8.25\" text-anchor=\"end\" x=\"113.52\" y=\"660.825\">81</text><text alignment-baseline=\"middle\" fill=\"black\" font-family=\"Times\" font-size=\"8.25\" text-anchor=\"end\" x=\"34.32\" y=\"660.825\">42</text><text alignment-baseline=\"middle\" fill=\"black\" font-family=\"Times\" font-size=\"8.25\" text-anchor=\"end\" x=\"113.52\" y=\"677.325\">83</text><text alignment-baseline=\"middle\" fill=\"black\" font-family=\"Times\" font-size=\"8.25\" text-anchor=\"end\" x=\"34.32\" y=\"677.325\">43</text><text alignment-baseline=\"middle\" fill=\"black\" font-family=\"Times\" font-size=\"8.25\" text-anchor=\"end\" x=\"113.52\" y=\"693.825\">85</text><text alignment-baseline=\"middle\" fill=\"black\" font-family=\"Times\" font-size=\"8.25\" text-anchor=\"end\" x=\"34.32\" y=\"693.825\">44</text><text alignment-baseline=\"middle\" fill=\"black\" font-family=\"Times\" font-size=\"8.25\" text-anchor=\"end\" x=\"113.52\" y=\"710.325\">87</text><text alignment-baseline=\"middle\" fill=\"black\" font-family=\"Times\" font-size=\"8.25\" text-anchor=\"end\" x=\"34.32\" y=\"710.325\">45</text><text alignment-baseline=\"middle\" fill=\"black\" font-family=\"Times\" font-size=\"8.25\" text-anchor=\"end\" x=\"113.52\" y=\"726.825\">89</text><text alignment-baseline=\"middle\" fill=\"black\" font-family=\"Times\" font-size=\"8.25\" text-anchor=\"end\" x=\"34.32\" y=\"726.825\">46</text><text alignment-baseline=\"middle\" fill=\"black\" font-family=\"Times\" font-size=\"8.25\" text-anchor=\"end\" x=\"113.52\" y=\"743.325\">91</text><text alignment-baseline=\"middle\" fill=\"black\" font-family=\"Times\" font-size=\"8.25\" text-anchor=\"end\" x=\"34.32\" y=\"743.325\">47</text><text alignment-baseline=\"middle\" fill=\"black\" font-family=\"Times\" font-size=\"8.25\" text-anchor=\"end\" x=\"113.52\" y=\"759.825\">93</text><text alignment-baseline=\"middle\" fill=\"black\" font-family=\"Times\" font-size=\"8.25\" text-anchor=\"end\" x=\"34.32\" y=\"759.825\">48</text><text alignment-baseline=\"middle\" fill=\"black\" font-family=\"Times\" font-size=\"8.25\" text-anchor=\"end\" x=\"113.52\" y=\"776.325\">95</text><text alignment-baseline=\"middle\" fill=\"black\" font-family=\"Times\" font-size=\"8.25\" text-anchor=\"end\" x=\"34.32\" y=\"776.325\">49</text><text alignment-baseline=\"middle\" fill=\"black\" font-family=\"Times\" font-size=\"8.25\" text-anchor=\"end\" x=\"113.52\" y=\"792.825\">97</text><text alignment-baseline=\"middle\" fill=\"black\" font-family=\"Times\" font-size=\"8.25\" text-anchor=\"end\" x=\"34.32\" y=\"792.825\">50</text><text alignment-baseline=\"middle\" fill=\"black\" font-family=\"Times\" font-size=\"8.25\" text-anchor=\"end\" x=\"113.52\" y=\"809.325\">98</text><text alignment-baseline=\"middle\" fill=\"black\" font-family=\"Times\" font-size=\"8.25\" text-anchor=\"end\" x=\"34.32\" y=\"809.325\">50</text><rect fill=\"black\" height=\"805.2\" width=\"2.64\" x=\"52.8\" y=\"9.9\"/><circle cx=\"52.8\" cy=\"9.9\" fill=\"black\" r=\"-0.264\" stroke=\"black\" stroke-width=\"0\"/><rect fill=\"black\" height=\"1.65\" width=\"26.928\" x=\"39.336\" y=\"9.9\"/><circle cx=\"52.8\" cy=\"815.1\" fill=\"black\" r=\"-0.264\" stroke=\"black\" stroke-width=\"0\"/><rect fill=\"black\" height=\"1.65\" width=\"26.928\" x=\"39.336\" y=\"813.45\"/><text alignment-baseline=\"middle\" fill=\"black\" font-family=\"Times\" font-size=\"8.25\" text-anchor=\"middle\" x=\"44.88\" y=\"413.325\"/><rect fill=\"black\" height=\"590.7\" width=\"2.64\" x=\"145.2\" y=\"224.4\"/><circle cx=\"145.2\" cy=\"224.4\" fill=\"black\" r=\"-0.264\" stroke=\"black\" stroke-width=\"0\"/><rect fill=\"black\" height=\"1.65\" width=\"26.928\" x=\"131.736\" y=\"224.4\"/><text alignment-baseline=\"middle\" fill=\"black\" font-family=\"Times\" font-size=\"8.25\" text-anchor=\"middle\" x=\"137.28\" y=\"520.575\"/></svg>"
      ],
      "text/plain": [
       "<IPython.core.display.SVG object>"
      ]
     },
     "execution_count": 38,
     "metadata": {},
     "output_type": "execute_result"
    }
   ],
   "source": [
    "tree.rejected = False\n",
    "tree.states = []\n",
    "tree.op = None\n",
    "tree.from_samples(samps)\n",
    "view = tree.renderer\n",
    "view.zoom = 1.1\n",
    "view.horizontal_gap = -0.01\n",
    "view.scale_y = 15\n",
    "view.scale_x = 24\n",
    "view.font_size = 0.5\n",
    "view.font_family = 'Times'\n",
    "SVG(view.to_svg())"
   ]
  },
  {
   "cell_type": "markdown",
   "metadata": {},
   "source": [
    "### Phi/Psi Plots"
   ]
  },
  {
   "cell_type": "code",
   "execution_count": 39,
   "metadata": {
    "collapsed": true
   },
   "outputs": [],
   "source": [
    "# Imports for plotting\n",
    "%matplotlib inline\n",
    "import matplotlib\n",
    "import matplotlib.pyplot as plt\n",
    "import matplotlib.pylab as pylab\n",
    "from matplotlib.legend_handler import HandlerLine2D"
   ]
  },
  {
   "cell_type": "markdown",
   "metadata": {},
   "source": [
    "Make sure that all phi/psi values have been computed!"
   ]
  },
  {
   "cell_type": "code",
   "execution_count": 40,
   "metadata": {
    "collapsed": true
   },
   "outputs": [],
   "source": [
    "psi = storage.cvs['psi']\n",
    "phi = storage.cvs['phi']\n",
    "opA = storage.cvs['StateA']"
   ]
  },
  {
   "cell_type": "code",
   "execution_count": 41,
   "metadata": {
    "collapsed": false
   },
   "outputs": [
    {
     "data": {
      "image/png": "[encoded data removed]",
      "text/plain": [
       "<matplotlib.figure.Figure at 0x113a84990>"
      ]
     },
     "metadata": {},
     "output_type": "display_data"
    }
   ],
   "source": [
    "plt.figure(figsize=(8, 8))\n",
    "\n",
    "for traj in storage.trajectories[1:]:\n",
    "    phi_angles = np.array(phi(traj)).flatten() / deg\n",
    "    psi_angles = np.array(psi(traj)).flatten() / deg\n",
    "    plt.plot(phi_angles, psi_angles, 'ro', linewidth=1);\n",
    "    \n",
    "plt.xlim(-180, 180);\n",
    "plt.ylim(-180, 180);"
   ]
  },
  {
   "cell_type": "code",
   "execution_count": 42,
   "metadata": {
    "collapsed": false
   },
   "outputs": [
    {
     "data": {
      "image/png": "[encoded data removed]",
      "text/plain": [
       "<matplotlib.figure.Figure at 0x113a84550>"
      ]
     },
     "metadata": {},
     "output_type": "display_data"
    }
   ],
   "source": [
    "plt.figure(figsize=(8, 8))\n",
    "\n",
    "\n",
    "for traj in storage.trajectories[1:]:\n",
    "    phi_angles = np.array(phi(traj)).flatten() / deg\n",
    "    psi_angles = np.array(psi(traj)).flatten() / deg\n",
    "    plt.plot(phi_angles, psi_angles, 'k-', linewidth=1);\n",
    "    for idx, snapshot in enumerate(traj):\n",
    "        if opA(snapshot):\n",
    "            plt.plot(phi_angles[idx], psi_angles[idx], 'bo', linewidth=1);\n",
    "        \n",
    "plt.xlim(-180, 180);\n",
    "plt.ylim(-180, 180);"
   ]
  },
  {
   "cell_type": "code",
   "execution_count": null,
   "metadata": {
    "collapsed": true
   },
   "outputs": [],
   "source": []
  }
 ],
 "metadata": {
  "kernelspec": {
   "display_name": "Python 2",
   "language": "python",
   "name": "python2"
  },
  "language_info": {
   "codemirror_mode": {
    "name": "ipython",
    "version": 2
   },
   "file_extension": ".py",
   "mimetype": "text/x-python",
   "name": "python",
   "nbconvert_exporter": "python",
   "pygments_lexer": "ipython2",
   "version": "2.7.10"
  }
 },
 "nbformat": 4,
 "nbformat_minor": 0
}
