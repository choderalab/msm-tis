{
 "cells": [
  {
   "cell_type": "markdown",
   "metadata": {},
   "source": [
    "# OPENTIS\n",
    "## An Example with Alanine"
   ]
  },
  {
   "cell_type": "markdown",
   "metadata": {},
   "source": [
    "Import Modules"
   ]
  },
  {
   "cell_type": "code",
   "execution_count": 1,
   "metadata": {
    "collapsed": false
   },
   "outputs": [],
   "source": [
    "import numpy as np\n",
    "import mdtraj as md\n",
    "import pandas as pd\n",
    "import time\n",
    "import sys, os\n",
    " \n",
    "# in principle, all of these imports should be simplified once this is a package\n",
    "from openpathsampling.collectivevariable import CV_Function, CV_Volume, CV_MD_Function\n",
    "from openpathsampling.snapshot import Snapshot\n",
    "from openpathsampling.volume import LambdaVolumePeriodic, VolumeFactory as vf\n",
    "from openpathsampling.pathmover import PathMoverFactory as mf\n",
    "from openpathsampling.ensemble import EnsembleFactory as ef\n",
    "from openpathsampling.ensemble import (LengthEnsemble, SequentialEnsemble, AllOutEnsemble,\n",
    "                      AllInEnsemble, PartInEnsemble, PartOutEnsemble)\n",
    "from openpathsampling.storage import Storage\n",
    "from openpathsampling.trajectory import Trajectory\n",
    "from openpathsampling.calculation import Bootstrapping\n",
    "from openpathsampling.shooting import UniformSelector\n",
    "from openpathsampling.pathmover import PathMover\n",
    "import simtk.unit as u\n",
    "\n",
    "from openpathsampling.openmm_engine import OpenMMEngine\n",
    "\n",
    "from openpathsampling.storage import Storage\n",
    "from openpathsampling.visualize import PathTreeBuilder\n",
    "from IPython.display import SVG"
   ]
  },
  {
   "cell_type": "markdown",
   "metadata": {},
   "source": [
    "Radians to Degree conversion"
   ]
  },
  {
   "cell_type": "code",
   "execution_count": 2,
   "metadata": {
    "collapsed": false
   },
   "outputs": [],
   "source": [
    "degrees = 180/3.14159 # psi reports in radians; I think in degrees"
   ]
  },
  {
   "cell_type": "markdown",
   "metadata": {},
   "source": [
    "Create an AlanineOpenMMSimulator for demonstration purposes"
   ]
  },
  {
   "cell_type": "markdown",
   "metadata": {},
   "source": [
    "### Set simulation options and create a simulator object"
   ]
  },
  {
   "cell_type": "code",
   "execution_count": 3,
   "metadata": {
    "collapsed": false
   },
   "outputs": [],
   "source": [
    "options = {\n",
    "            'temperature' : 300.0 * u.kelvin,\n",
    "            'collision_rate' : 1.0 / u.picoseconds,\n",
    "            'timestep' : 2.0 * u.femtoseconds,\n",
    "            'nsteps_per_frame' : 10,\n",
    "            'n_frames_max' : 5000,\n",
    "            'start_time' : time.time(),\n",
    "            'fn_initial_pdb' : \"../data/Alanine_solvated.pdb\",\n",
    "            'platform' : 'fastest',\n",
    "            'solute_indices' : range(22),\n",
    "            'forcefield_solute' : 'amber96.xml',\n",
    "            'forcefield_solvent' : 'tip3p.xml'\n",
    "           }"
   ]
  },
  {
   "cell_type": "code",
   "execution_count": 4,
   "metadata": {
    "collapsed": false
   },
   "outputs": [],
   "source": [
    "engine = OpenMMEngine.auto(\n",
    "                filename=\"trajectory.nc\",\n",
    "                template=\"../data/Alanine_solvated.pdb\",\n",
    "                options=options,\n",
    "                mode='create'\n",
    "                )"
   ]
  },
  {
   "cell_type": "markdown",
   "metadata": {},
   "source": [
    "And save the storage in a separate variable for convenience"
   ]
  },
  {
   "cell_type": "code",
   "execution_count": 5,
   "metadata": {
    "collapsed": false
   },
   "outputs": [],
   "source": [
    "storage = engine.storage\n",
    "PathMover.engine = engine"
   ]
  },
  {
   "cell_type": "markdown",
   "metadata": {},
   "source": [
    "Equilibrate"
   ]
  },
  {
   "cell_type": "code",
   "execution_count": 6,
   "metadata": {
    "collapsed": false
   },
   "outputs": [],
   "source": [
    "engine.current_snapshot = engine.template\n",
    "engine.equilibrate(5)\n",
    "engine.initialized = True"
   ]
  },
  {
   "cell_type": "markdown",
   "metadata": {},
   "source": [
    "Save equilibrated snapshot with index 0"
   ]
  },
  {
   "cell_type": "code",
   "execution_count": 7,
   "metadata": {
    "collapsed": false
   },
   "outputs": [],
   "source": [
    "storage.save(engine.current_snapshot);"
   ]
  },
  {
   "cell_type": "markdown",
   "metadata": {},
   "source": [
    "### Order Parameters"
   ]
  },
  {
   "cell_type": "markdown",
   "metadata": {},
   "source": [
    "this generates an order parameter (callable) object named psi (so if we call `psi(trajectory)` we get a list of the values of psi for each frame in the trajectory). This particular order parameter uses mdtraj's compute_dihedrals function, with the atoms in psi_atoms"
   ]
  },
  {
   "cell_type": "code",
   "execution_count": 8,
   "metadata": {
    "collapsed": false
   },
   "outputs": [],
   "source": [
    "psi_atoms = [6,8,14,16]\n",
    "psi = CV_MD_Function(\"psi\", md.compute_dihedrals,\n",
    "                  indices=[psi_atoms])\n",
    "\n",
    "phi_atoms = [4,6,8,14]\n",
    "phi = CV_MD_Function(\"phi\", md.compute_dihedrals,\n",
    "                  indices=[phi_atoms])\n",
    "\n",
    "storage.save([psi, phi]);"
   ]
  },
  {
   "cell_type": "markdown",
   "metadata": {},
   "source": [
    "### Volumes"
   ]
  },
  {
   "cell_type": "markdown",
   "metadata": {},
   "source": [
    "This creates two states using a one-dimensional order parameter (called _Lambda_ in TIS terminology). A snapshot is in the State as long as the order parameter is with specific bounds. "
   ]
  },
  {
   "cell_type": "code",
   "execution_count": 9,
   "metadata": {
    "collapsed": false
   },
   "outputs": [],
   "source": [
    "stateA = LambdaVolumePeriodic(\n",
    "    collectivevariable=psi, \n",
    "    lambda_min=-120.0/degrees, \n",
    "    lambda_max=-30.0/degrees, \n",
    "    period_min=-180.0/degrees, \n",
    "    period_max=+180.0/degrees\n",
    ")\n",
    "stateB = LambdaVolumePeriodic(psi, 100/degrees, 180/degrees, -180.0/degrees, +180.0/degrees)"
   ]
  },
  {
   "cell_type": "markdown",
   "metadata": {},
   "source": [
    "Now do the same for a set of lambda ranges to produce nested volumes."
   ]
  },
  {
   "cell_type": "code",
   "execution_count": 10,
   "metadata": {
    "collapsed": false
   },
   "outputs": [],
   "source": [
    "minima = map((1.0 / degrees).__mul__,\n",
    "             [-125, -135, -140, -142.5, -145.0, -147.0, -150.0])\n",
    "\n",
    "maxima = map((1.0 / degrees).__mul__,\n",
    "             [-25.0, -21.0, -18.5, -17.0, -15.0, -10.0, 0.0])\n",
    "\n",
    "volume_set = vf.LambdaVolumePeriodicSet(psi, minima, maxima, -180.0/degrees, +180.0/degrees)"
   ]
  },
  {
   "cell_type": "markdown",
   "metadata": {},
   "source": [
    "### Ensembles"
   ]
  },
  {
   "cell_type": "markdown",
   "metadata": {},
   "source": [
    "Now do this automatically for all ensembles"
   ]
  },
  {
   "cell_type": "code",
   "execution_count": 11,
   "metadata": {
    "collapsed": false
   },
   "outputs": [],
   "source": [
    "interface0 = volume_set[0]\n",
    "interface_set = ef.TISEnsembleSet(stateA, stateA | stateB, volume_set)\n",
    "for no, interface in enumerate(interface_set):\n",
    "    # Give each interface a name\n",
    "    interface.name = 'Interface '+str(no)\n",
    "    # And save all of these\n",
    "    storage.ensembles.save(interface)"
   ]
  },
  {
   "cell_type": "markdown",
   "metadata": {},
   "source": [
    "And create a special ensemble, that will create a first trajectory in the innermost TIS ensemble independent from where we start"
   ]
  },
  {
   "cell_type": "markdown",
   "metadata": {},
   "source": [
    "The idea is to describe a trajectory type by a sequence of positions. First can be outside of stateA or not, then be inside stateA, etc..."
   ]
  },
  {
   "cell_type": "code",
   "execution_count": 12,
   "metadata": {
    "collapsed": false
   },
   "outputs": [],
   "source": [
    "    first_traj_ensemble = SequentialEnsemble([\n",
    "        AllOutEnsemble(stateA) | LengthEnsemble(0),\n",
    "        AllInEnsemble(stateA),\n",
    "        (AllOutEnsemble(stateA) & AllInEnsemble(interface0)) | LengthEnsemble(0),\n",
    "        AllInEnsemble(interface0) | LengthEnsemble(0),\n",
    "        AllOutEnsemble(interface0),\n",
    "        AllOutEnsemble(stateA) | LengthEnsemble(0),\n",
    "        AllInEnsemble(stateA) & LengthEnsemble(1)\n",
    "    ])"
   ]
  },
  {
   "cell_type": "markdown",
   "metadata": {},
   "source": [
    "### start path generation"
   ]
  },
  {
   "cell_type": "markdown",
   "metadata": {},
   "source": [
    "so lets try and see if we can generate a first path"
   ]
  },
  {
   "cell_type": "markdown",
   "metadata": {},
   "source": [
    "load the initial snapshot (although we still have it) and generate using the Alanine simulator. The second option specifies a function : trajectory -> bool that keeps the simulation running as long as it is true. Our goal was to generate a path that belongs to a specific ensemble, so we use `forward` to determine if it makes sense to keep running or if the result cannot belong to the ensemble anymore."
   ]
  },
  {
   "cell_type": "code",
   "execution_count": 13,
   "metadata": {
    "collapsed": false
   },
   "outputs": [],
   "source": [
    "snapshot = storage.load(Snapshot, 0)\n",
    "total_path = engine.generate(\n",
    "    snapshot= snapshot, \n",
    "    running = [first_traj_ensemble.can_append]\n",
    ")"
   ]
  },
  {
   "cell_type": "markdown",
   "metadata": {},
   "source": [
    "Show the length"
   ]
  },
  {
   "cell_type": "code",
   "execution_count": 14,
   "metadata": {
    "collapsed": false
   },
   "outputs": [
    {
     "name": "stdout",
     "output_type": "stream",
     "text": [
      "Total trajectory length:  114\n"
     ]
    }
   ],
   "source": [
    "print \"Total trajectory length: \", len(total_path)"
   ]
  },
  {
   "cell_type": "markdown",
   "metadata": {},
   "source": [
    "And save the trajetory completely"
   ]
  },
  {
   "cell_type": "code",
   "execution_count": 15,
   "metadata": {
    "collapsed": false
   },
   "outputs": [],
   "source": [
    "storage.save(total_path);"
   ]
  },
  {
   "cell_type": "markdown",
   "metadata": {},
   "source": [
    "Split the trajectory into parts that belong to the TIS ensemble (not the one we generated)"
   ]
  },
  {
   "cell_type": "code",
   "execution_count": 16,
   "metadata": {
    "collapsed": false
   },
   "outputs": [
    {
     "name": "stdout",
     "output_type": "stream",
     "text": [
      "Traj in first_traj_ensemble? (should be) True\n",
      "Traj in TIS ensemble? (probably not) False\n",
      "Number of segments in TIS ensemble:  1\n",
      "Length of each segment:\n",
      "  seg[0]: 3\n"
     ]
    }
   ],
   "source": [
    "interface0_ensemble = interface_set[0]\n",
    "segments = interface0_ensemble.split(total_path)\n",
    "\n",
    "print \"Traj in first_traj_ensemble? (should be)\", \n",
    "print first_traj_ensemble(total_path)\n",
    "\n",
    "print \"Traj in TIS ensemble? (probably not)\", \n",
    "print interface0_ensemble(total_path)\n",
    "\n",
    "\n",
    "print \"Number of segments in TIS ensemble: \", len(segments)\n",
    "if len(segments):\n",
    "    print \"Length of each segment:\"\n",
    "    for i in range(len(segments)):\n",
    "        print \"  seg[{0}]: {1}\".format(i, len(segments[i]))"
   ]
  },
  {
   "cell_type": "markdown",
   "metadata": {},
   "source": [
    "Show some results and check if this worked"
   ]
  },
  {
   "cell_type": "code",
   "execution_count": 17,
   "metadata": {
    "collapsed": false
   },
   "outputs": [
    {
     "data": {
      "text/html": [
       "<div style=\"max-height:1000px;max-width:1500px;overflow:auto;\">\n",
       "<table border=\"1\" class=\"dataframe\">\n",
       "  <thead>\n",
       "    <tr style=\"text-align: right;\">\n",
       "      <th></th>\n",
       "      <th>phi</th>\n",
       "      <th>psi</th>\n",
       "      <th>stateA</th>\n",
       "      <th>interface0</th>\n",
       "      <th>stateB</th>\n",
       "      <th>appendable</th>\n",
       "    </tr>\n",
       "  </thead>\n",
       "  <tbody>\n",
       "    <tr>\n",
       "      <th>0  </th>\n",
       "      <td>-80.208523</td>\n",
       "      <td>-10.277041</td>\n",
       "      <td> [False]</td>\n",
       "      <td> [False]</td>\n",
       "      <td> [False]</td>\n",
       "      <td>  True</td>\n",
       "    </tr>\n",
       "    <tr>\n",
       "      <th>1  </th>\n",
       "      <td>-83.283832</td>\n",
       "      <td>-11.220055</td>\n",
       "      <td> [False]</td>\n",
       "      <td> [False]</td>\n",
       "      <td> [False]</td>\n",
       "      <td>  True</td>\n",
       "    </tr>\n",
       "    <tr>\n",
       "      <th>2  </th>\n",
       "      <td>-82.628365</td>\n",
       "      <td>-11.207163</td>\n",
       "      <td> [False]</td>\n",
       "      <td> [False]</td>\n",
       "      <td> [False]</td>\n",
       "      <td>  True</td>\n",
       "    </tr>\n",
       "    <tr>\n",
       "      <th>111</th>\n",
       "      <td>-52.975402</td>\n",
       "      <td>-36.518146</td>\n",
       "      <td>  [True]</td>\n",
       "      <td>  [True]</td>\n",
       "      <td> [False]</td>\n",
       "      <td>  True</td>\n",
       "    </tr>\n",
       "    <tr>\n",
       "      <th>112</th>\n",
       "      <td>-64.175849</td>\n",
       "      <td>-19.844165</td>\n",
       "      <td> [False]</td>\n",
       "      <td> [False]</td>\n",
       "      <td> [False]</td>\n",
       "      <td>  True</td>\n",
       "    </tr>\n",
       "    <tr>\n",
       "      <th>113</th>\n",
       "      <td>-51.821980</td>\n",
       "      <td>-30.488580</td>\n",
       "      <td>  [True]</td>\n",
       "      <td>  [True]</td>\n",
       "      <td> [False]</td>\n",
       "      <td> False</td>\n",
       "    </tr>\n",
       "  </tbody>\n",
       "</table>\n",
       "</div>"
      ],
      "text/plain": [
       "           phi        psi   stateA interface0   stateB appendable\n",
       "0   -80.208523 -10.277041  [False]    [False]  [False]       True\n",
       "1   -83.283832 -11.220055  [False]    [False]  [False]       True\n",
       "2   -82.628365 -11.207163  [False]    [False]  [False]       True\n",
       "111 -52.975402 -36.518146   [True]     [True]  [False]       True\n",
       "112 -64.175849 -19.844165  [False]    [False]  [False]       True\n",
       "113 -51.821980 -30.488580   [True]     [True]  [False]      False"
      ]
     },
     "execution_count": 17,
     "metadata": {},
     "output_type": "execute_result"
    }
   ],
   "source": [
    "data = []\n",
    "for frame in total_path:\n",
    "    data.append((phi(frame)[0]*degrees, psi(frame)[0]*degrees, stateA(frame), interface0(frame), stateB(frame), first_traj_ensemble.can_append(total_path[slice(0,total_path.index(frame)+1)])))\n",
    "    \n",
    "dataframe = pd.DataFrame(data, columns=['phi', 'psi', 'stateA', 'interface0', 'stateB', 'appendable'])\n",
    "dataframe[[0,1,2,3,4,5]].ix[[0,1,2,len(dataframe)-3,len(dataframe)-2,len(dataframe)-1]]"
   ]
  },
  {
   "cell_type": "code",
   "execution_count": 18,
   "metadata": {
    "collapsed": false
   },
   "outputs": [
    {
     "name": "stdout",
     "output_type": "stream",
     "text": [
      "Do our segments satisfy the ensemble? True\n"
     ]
    }
   ],
   "source": [
    "print \"Do our segments satisfy the ensemble?\",\n",
    "for seg in segments:\n",
    "    print interface0_ensemble(seg),"
   ]
  },
  {
   "cell_type": "code",
   "execution_count": 19,
   "metadata": {
    "collapsed": false
   },
   "outputs": [
    {
     "data": {
      "text/html": [
       "<div style=\"max-height:1000px;max-width:1500px;overflow:auto;\">\n",
       "<table border=\"1\" class=\"dataframe\">\n",
       "  <thead>\n",
       "    <tr style=\"text-align: right;\">\n",
       "      <th></th>\n",
       "      <th>phi</th>\n",
       "      <th>psi</th>\n",
       "      <th>stateA</th>\n",
       "      <th>interface0</th>\n",
       "      <th>stateB</th>\n",
       "      <th>appendable</th>\n",
       "    </tr>\n",
       "  </thead>\n",
       "  <tbody>\n",
       "    <tr>\n",
       "      <th>0</th>\n",
       "      <td>-52.975402</td>\n",
       "      <td>-36.518146</td>\n",
       "      <td>  [True]</td>\n",
       "      <td>  [True]</td>\n",
       "      <td> [False]</td>\n",
       "      <td>  True</td>\n",
       "    </tr>\n",
       "    <tr>\n",
       "      <th>1</th>\n",
       "      <td>-64.175849</td>\n",
       "      <td>-19.844165</td>\n",
       "      <td> [False]</td>\n",
       "      <td> [False]</td>\n",
       "      <td> [False]</td>\n",
       "      <td>  True</td>\n",
       "    </tr>\n",
       "    <tr>\n",
       "      <th>2</th>\n",
       "      <td>-51.821980</td>\n",
       "      <td>-30.488580</td>\n",
       "      <td>  [True]</td>\n",
       "      <td>  [True]</td>\n",
       "      <td> [False]</td>\n",
       "      <td> False</td>\n",
       "    </tr>\n",
       "  </tbody>\n",
       "</table>\n",
       "</div>"
      ],
      "text/plain": [
       "         phi        psi   stateA interface0   stateB appendable\n",
       "0 -52.975402 -36.518146   [True]     [True]  [False]       True\n",
       "1 -64.175849 -19.844165  [False]    [False]  [False]       True\n",
       "2 -51.821980 -30.488580   [True]     [True]  [False]      False"
      ]
     },
     "execution_count": 19,
     "metadata": {},
     "output_type": "execute_result"
    }
   ],
   "source": [
    "data = []\n",
    "for frame in segments[0]:\n",
    "    data.append((phi(frame)[0]*degrees, psi(frame)[0]*degrees, stateA(frame), interface0(frame), stateB(frame), first_traj_ensemble.can_append(total_path[slice(0,total_path.index(frame)+1)])))\n",
    "    \n",
    "dataframe = pd.DataFrame(data, columns=['phi', 'psi', 'stateA', 'interface0', 'stateB', 'appendable'])\n",
    "dataframe[[0,1,2,3,4,5]]"
   ]
  },
  {
   "cell_type": "markdown",
   "metadata": {},
   "source": [
    "### Bootstrapping"
   ]
  },
  {
   "cell_type": "markdown",
   "metadata": {},
   "source": [
    "Run a bootstrapping (not TIS) simulation that shoots from an ensemble until the next interface is reached then switch to the next ensemble to drive the system out of stateA"
   ]
  },
  {
   "cell_type": "code",
   "execution_count": 20,
   "metadata": {
    "collapsed": false
   },
   "outputs": [],
   "source": [
    "mover_set = mf.OneWayShootingSet(UniformSelector(), interface_set)"
   ]
  },
  {
   "cell_type": "code",
   "execution_count": 21,
   "metadata": {
    "collapsed": false
   },
   "outputs": [],
   "source": [
    "bootstrap = Bootstrapping(storage=storage,\n",
    "                          engine=engine,\n",
    "                          ensembles=interface_set,\n",
    "                          movers=mover_set,\n",
    "                          trajectory=segments[0])"
   ]
  },
  {
   "cell_type": "markdown",
   "metadata": {},
   "source": [
    "Run Bootstrapping with at most 50 attempts per ensemble"
   ]
  },
  {
   "cell_type": "code",
   "execution_count": 22,
   "metadata": {
    "collapsed": false
   },
   "outputs": [],
   "source": [
    "bootstrap.run(10)"
   ]
  },
  {
   "cell_type": "markdown",
   "metadata": {},
   "source": [
    "Save all computed phi/psi values which depends on whether they have been needed before"
   ]
  },
  {
   "cell_type": "code",
   "execution_count": 23,
   "metadata": {
    "collapsed": false
   },
   "outputs": [],
   "source": [
    "storage.collectivevariables.sync(psi);\n",
    "storage.collectivevariables.sync(phi);"
   ]
  },
  {
   "cell_type": "markdown",
   "metadata": {},
   "source": [
    "Create an orderparameter from a volume which is just 1 or 0 and can thus be stored for later analysis"
   ]
  },
  {
   "cell_type": "code",
   "execution_count": 24,
   "metadata": {
    "collapsed": false
   },
   "outputs": [],
   "source": [
    "op_inA = CV_Volume('StateA', stateA)\n",
    "op_inB = CV_Volume('StateB', stateB)\n",
    "op_notinAorB = CV_Volume('StateX', ~ (stateA | stateB))"
   ]
  },
  {
   "cell_type": "markdown",
   "metadata": {},
   "source": [
    "Compute the orderparameter for all snapshots"
   ]
  },
  {
   "cell_type": "code",
   "execution_count": 25,
   "metadata": {
    "collapsed": false
   },
   "outputs": [],
   "source": [
    "traj = storage.snapshots.all()\n",
    "traj0 = storage.trajectories[0]"
   ]
  },
  {
   "cell_type": "code",
   "execution_count": 26,
   "metadata": {
    "collapsed": false
   },
   "outputs": [],
   "source": [
    "op_inA(storage.snapshots.all())\n",
    "op_inB(storage.snapshots.all())\n",
    "op_notinAorB(storage.snapshots.all());"
   ]
  },
  {
   "cell_type": "markdown",
   "metadata": {},
   "source": [
    "Save the new orderparameters"
   ]
  },
  {
   "cell_type": "code",
   "execution_count": 27,
   "metadata": {
    "collapsed": false
   },
   "outputs": [],
   "source": [
    "storage.save([op_inA, op_inB, op_notinAorB]);"
   ]
  },
  {
   "cell_type": "markdown",
   "metadata": {},
   "source": [
    "## Visualization"
   ]
  },
  {
   "cell_type": "markdown",
   "metadata": {},
   "source": [
    "Create a PathTree generator"
   ]
  },
  {
   "cell_type": "code",
   "execution_count": 28,
   "metadata": {
    "collapsed": false
   },
   "outputs": [
    {
     "data": {
      "text/plain": [
       "{Storage @ 'trajectory.nc': 2}"
      ]
     },
     "execution_count": 28,
     "metadata": {},
     "output_type": "execute_result"
    }
   ],
   "source": [
    "tree = PathTreeBuilder(storage)\n",
    "op_inA.name\n",
    "storage.save(op_inA)\n",
    "storage.cvs.load(0)\n",
    "op_inA.idx"
   ]
  },
  {
   "cell_type": "markdown",
   "metadata": {},
   "source": [
    "Change the settings to show rejected pathways, mark OrderParaemters `stateA` and `stateX`, and show the 'psi' value as text inside of the boxes"
   ]
  },
  {
   "cell_type": "code",
   "execution_count": 29,
   "metadata": {
    "collapsed": false
   },
   "outputs": [],
   "source": [
    "tree.rejected = True\n",
    "tree.states = [('StateA','orange'),('StateX','black')]\n",
    "# Some ideas for orderparameters to visualize\n",
    "tree.op = lambda snap : 'B' if snap.reversed else 'F'\n",
    "tree.op = storage.configurations.op_idx\n",
    "tree.op = lambda snap : int(psi(snap)[0]/3.1415926 * 180)\n",
    "\n",
    "tree.from_samples(tree.construct_heritage(storage, storage.samples.last()))"
   ]
  },
  {
   "cell_type": "markdown",
   "metadata": {},
   "source": [
    "Render the tree"
   ]
  },
  {
   "cell_type": "code",
   "execution_count": 30,
   "metadata": {
    "collapsed": false
   },
   "outputs": [
    {
     "data": {
      "image/svg+xml": [
       "<svg baseProfile=\"full\" height=\"316.8px\" version=\"1.1\" width=\"237.6px\" xmlns=\"http://www.w3.org/2000/svg\" xmlns:ev=\"http://www.w3.org/2001/xml-events\" xmlns:xlink=\"http://www.w3.org/1999/xlink\"><defs/><rect fill=\"orange\" height=\"2.64\" stroke=\"orange\" stroke-width=\"1.32\" width=\"26.4\" x=\"132.0\" y=\"299.64\"/><rect fill=\"black\" height=\"2.64\" stroke=\"black\" stroke-width=\"1.32\" width=\"26.4\" x=\"105.6\" y=\"299.64\"/><rect fill=\"black\" height=\"2.64\" stroke=\"black\" stroke-width=\"1.32\" width=\"79.2\" x=\"52.8\" y=\"273.24\"/><rect fill=\"orange\" height=\"2.64\" stroke=\"orange\" stroke-width=\"1.32\" width=\"26.4\" x=\"26.4\" y=\"273.24\"/><rect fill=\"orange\" height=\"2.64\" stroke=\"orange\" stroke-width=\"1.32\" width=\"26.4\" x=\"132.0\" y=\"246.84\"/><rect fill=\"black\" height=\"2.64\" stroke=\"black\" stroke-width=\"1.32\" width=\"26.4\" x=\"105.6\" y=\"246.84\"/><rect fill=\"orange\" height=\"2.64\" stroke=\"orange\" stroke-width=\"1.32\" width=\"26.4\" x=\"184.8\" y=\"220.44\"/><rect fill=\"black\" height=\"2.64\" stroke=\"black\" stroke-width=\"1.32\" width=\"79.2\" x=\"105.6\" y=\"220.44\"/><rect fill=\"black\" height=\"2.64\" stroke=\"black\" stroke-width=\"1.32\" width=\"79.2\" x=\"52.8\" y=\"194.04\"/><rect fill=\"orange\" height=\"2.64\" stroke=\"orange\" stroke-width=\"1.32\" width=\"26.4\" x=\"26.4\" y=\"194.04\"/><rect fill=\"black\" height=\"2.64\" stroke=\"black\" stroke-width=\"1.32\" width=\"52.8\" x=\"52.8\" y=\"167.64\"/><rect fill=\"orange\" height=\"2.64\" stroke=\"orange\" stroke-width=\"1.32\" width=\"26.4\" x=\"26.4\" y=\"167.64\"/><rect fill=\"orange\" height=\"2.64\" stroke=\"orange\" stroke-width=\"1.32\" width=\"26.4\" x=\"184.8\" y=\"141.24\"/><rect fill=\"black\" height=\"2.64\" stroke=\"black\" stroke-width=\"1.32\" width=\"105.6\" x=\"79.2\" y=\"141.24\"/><rect fill=\"black\" height=\"2.64\" stroke=\"black\" stroke-width=\"1.32\" width=\"26.4\" x=\"52.8\" y=\"114.84\"/><rect fill=\"orange\" height=\"2.64\" stroke=\"orange\" stroke-width=\"1.32\" width=\"26.4\" x=\"26.4\" y=\"114.84\"/><rect fill=\"orange\" height=\"2.64\" stroke=\"orange\" stroke-width=\"1.32\" width=\"26.4\" x=\"132.0\" y=\"88.44\"/><rect fill=\"black\" height=\"2.64\" stroke=\"black\" stroke-width=\"1.32\" width=\"79.2\" x=\"52.8\" y=\"88.44\"/><rect fill=\"orange\" height=\"2.64\" stroke=\"orange\" stroke-width=\"1.32\" width=\"26.4\" x=\"79.2\" y=\"62.04\"/><rect fill=\"black\" height=\"2.64\" stroke=\"black\" stroke-width=\"1.32\" width=\"26.4\" x=\"52.8\" y=\"62.04\"/><rect fill=\"orange\" height=\"2.64\" stroke=\"orange\" stroke-width=\"1.32\" width=\"26.4\" x=\"79.2\" y=\"35.64\"/><rect fill=\"black\" height=\"2.64\" stroke=\"black\" stroke-width=\"1.32\" width=\"26.4\" x=\"52.8\" y=\"35.64\"/><rect fill=\"orange\" height=\"2.64\" stroke=\"orange\" stroke-width=\"1.32\" width=\"26.4\" x=\"26.4\" y=\"35.64\"/><rect fill=\"black\" height=\"15.84\" width=\"23.76\" x=\"27.72\" y=\"18.48\"/><circle cx=\"26.4\" cy=\"26.4\" fill=\"black\" r=\"1.32\" stroke=\"black\" stroke-width=\"0\"/><circle cx=\"52.8\" cy=\"26.4\" fill=\"black\" r=\"1.32\" stroke=\"black\" stroke-width=\"0\"/><text alignment-baseline=\"middle\" fill=\"white\" font-family=\"Futura\" font-size=\"9.24\" text-anchor=\"middle\" x=\"39.6\" y=\"27.72\">-36</text><rect fill=\"black\" height=\"15.84\" width=\"23.76\" x=\"54.12\" y=\"18.48\"/><circle cx=\"52.8\" cy=\"26.4\" fill=\"black\" r=\"1.32\" stroke=\"black\" stroke-width=\"0\"/><circle cx=\"79.2\" cy=\"26.4\" fill=\"black\" r=\"1.32\" stroke=\"black\" stroke-width=\"0\"/><text alignment-baseline=\"middle\" fill=\"white\" font-family=\"Futura\" font-size=\"9.24\" text-anchor=\"middle\" x=\"66.0\" y=\"27.72\">-19</text><rect fill=\"black\" height=\"15.84\" width=\"23.76\" x=\"80.52\" y=\"18.48\"/><circle cx=\"79.2\" cy=\"26.4\" fill=\"black\" r=\"1.32\" stroke=\"black\" stroke-width=\"0\"/><circle cx=\"105.6\" cy=\"26.4\" fill=\"black\" r=\"1.32\" stroke=\"black\" stroke-width=\"0\"/><text alignment-baseline=\"middle\" fill=\"white\" font-family=\"Futura\" font-size=\"9.24\" text-anchor=\"middle\" x=\"92.4\" y=\"27.72\">-30</text><text alignment-baseline=\"middle\" fill=\"black\" font-family=\"Futura\" font-size=\"9.24\" text-anchor=\"end\" x=\"21.12\" y=\"27.72\">5b</text><line stroke=\"red\" stroke-width=\"1.32\" x1=\"79.2\" x2=\"79.2\" y1=\"27.72\" y2=\"51.48\"/><text alignment-baseline=\"middle\" fill=\"black\" font-family=\"Futura\" font-size=\"9.24\" text-anchor=\"start\" x=\"110.88\" y=\"54.12\">5f</text><rect fill=\"red\" height=\"15.84\" width=\"23.76\" x=\"54.12\" y=\"44.88\"/><circle cx=\"52.8\" cy=\"52.8\" fill=\"red\" r=\"1.32\" stroke=\"red\" stroke-width=\"0\"/><circle cx=\"79.2\" cy=\"52.8\" fill=\"red\" r=\"1.32\" stroke=\"red\" stroke-width=\"0\"/><text alignment-baseline=\"middle\" fill=\"white\" font-family=\"Futura\" font-size=\"9.24\" text-anchor=\"middle\" x=\"66.0\" y=\"54.12\">-19</text><rect fill=\"red\" height=\"15.84\" width=\"23.76\" x=\"80.52\" y=\"44.88\"/><circle cx=\"79.2\" cy=\"52.8\" fill=\"red\" r=\"1.32\" stroke=\"red\" stroke-width=\"0\"/><circle cx=\"105.6\" cy=\"52.8\" fill=\"red\" r=\"1.32\" stroke=\"red\" stroke-width=\"0\"/><text alignment-baseline=\"middle\" fill=\"white\" font-family=\"Futura\" font-size=\"9.24\" text-anchor=\"middle\" x=\"92.4\" y=\"54.12\">-30</text><line stroke=\"red\" stroke-width=\"1.32\" x1=\"79.2\" x2=\"79.2\" y1=\"54.12\" y2=\"77.88\"/><text alignment-baseline=\"middle\" fill=\"black\" font-family=\"Futura\" font-size=\"9.24\" text-anchor=\"start\" x=\"163.68\" y=\"80.52\">6f</text><rect fill=\"red\" height=\"15.84\" width=\"23.76\" x=\"54.12\" y=\"71.28\"/><circle cx=\"52.8\" cy=\"79.2\" fill=\"red\" r=\"1.32\" stroke=\"red\" stroke-width=\"0\"/><circle cx=\"79.2\" cy=\"79.2\" fill=\"red\" r=\"1.32\" stroke=\"red\" stroke-width=\"0\"/><text alignment-baseline=\"middle\" fill=\"white\" font-family=\"Futura\" font-size=\"9.24\" text-anchor=\"middle\" x=\"66.0\" y=\"80.52\">-19</text><rect fill=\"red\" height=\"15.84\" width=\"23.76\" x=\"80.52\" y=\"71.28\"/><circle cx=\"79.2\" cy=\"79.2\" fill=\"red\" r=\"1.32\" stroke=\"red\" stroke-width=\"0\"/><circle cx=\"105.6\" cy=\"79.2\" fill=\"red\" r=\"1.32\" stroke=\"red\" stroke-width=\"0\"/><text alignment-baseline=\"middle\" fill=\"white\" font-family=\"Futura\" font-size=\"9.24\" text-anchor=\"middle\" x=\"92.4\" y=\"80.52\">-28</text><rect fill=\"red\" height=\"15.84\" width=\"23.76\" x=\"106.92\" y=\"71.28\"/><circle cx=\"105.6\" cy=\"79.2\" fill=\"red\" r=\"1.32\" stroke=\"red\" stroke-width=\"0\"/><circle cx=\"132.0\" cy=\"79.2\" fill=\"red\" r=\"1.32\" stroke=\"red\" stroke-width=\"0\"/><text alignment-baseline=\"middle\" fill=\"white\" font-family=\"Futura\" font-size=\"9.24\" text-anchor=\"middle\" x=\"118.8\" y=\"80.52\">-14</text><rect fill=\"red\" height=\"15.84\" width=\"23.76\" x=\"133.32\" y=\"71.28\"/><circle cx=\"132.0\" cy=\"79.2\" fill=\"red\" r=\"1.32\" stroke=\"red\" stroke-width=\"0\"/><circle cx=\"158.4\" cy=\"79.2\" fill=\"red\" r=\"1.32\" stroke=\"red\" stroke-width=\"0\"/><text alignment-baseline=\"middle\" fill=\"white\" font-family=\"Futura\" font-size=\"9.24\" text-anchor=\"middle\" x=\"145.2\" y=\"80.52\">-30</text><line stroke=\"green\" stroke-width=\"1.32\" x1=\"52.8\" x2=\"52.8\" y1=\"80.52\" y2=\"104.28\"/><text alignment-baseline=\"middle\" fill=\"black\" font-family=\"Futura\" font-size=\"9.24\" text-anchor=\"end\" x=\"21.12\" y=\"106.92\">7b</text><rect fill=\"green\" height=\"15.84\" width=\"23.76\" x=\"27.72\" y=\"97.68\"/><circle cx=\"26.4\" cy=\"105.6\" fill=\"green\" r=\"1.32\" stroke=\"green\" stroke-width=\"0\"/><circle cx=\"52.8\" cy=\"105.6\" fill=\"green\" r=\"1.32\" stroke=\"green\" stroke-width=\"0\"/><text alignment-baseline=\"middle\" fill=\"white\" font-family=\"Futura\" font-size=\"9.24\" text-anchor=\"middle\" x=\"39.6\" y=\"106.92\">-36</text><rect fill=\"green\" height=\"15.84\" width=\"23.76\" x=\"54.12\" y=\"97.68\"/><circle cx=\"52.8\" cy=\"105.6\" fill=\"green\" r=\"1.32\" stroke=\"green\" stroke-width=\"0\"/><circle cx=\"79.2\" cy=\"105.6\" fill=\"green\" r=\"1.32\" stroke=\"green\" stroke-width=\"0\"/><text alignment-baseline=\"middle\" fill=\"white\" font-family=\"Futura\" font-size=\"9.24\" text-anchor=\"middle\" x=\"66.0\" y=\"106.92\">-19</text><line stroke=\"red\" stroke-width=\"1.32\" x1=\"105.6\" x2=\"105.6\" y1=\"80.52\" y2=\"130.68\"/><text alignment-baseline=\"middle\" fill=\"black\" font-family=\"Futura\" font-size=\"9.24\" text-anchor=\"start\" x=\"216.48\" y=\"133.32\">8f</text><rect fill=\"red\" height=\"15.84\" width=\"23.76\" x=\"80.52\" y=\"124.08\"/><circle cx=\"79.2\" cy=\"132.0\" fill=\"red\" r=\"1.32\" stroke=\"red\" stroke-width=\"0\"/><circle cx=\"105.6\" cy=\"132.0\" fill=\"red\" r=\"1.32\" stroke=\"red\" stroke-width=\"0\"/><text alignment-baseline=\"middle\" fill=\"white\" font-family=\"Futura\" font-size=\"9.24\" text-anchor=\"middle\" x=\"92.4\" y=\"133.32\">-28</text><rect fill=\"red\" height=\"15.84\" width=\"23.76\" x=\"106.92\" y=\"124.08\"/><circle cx=\"105.6\" cy=\"132.0\" fill=\"red\" r=\"1.32\" stroke=\"red\" stroke-width=\"0\"/><circle cx=\"132.0\" cy=\"132.0\" fill=\"red\" r=\"1.32\" stroke=\"red\" stroke-width=\"0\"/><text alignment-baseline=\"middle\" fill=\"white\" font-family=\"Futura\" font-size=\"9.24\" text-anchor=\"middle\" x=\"118.8\" y=\"133.32\">-13</text><rect fill=\"red\" height=\"15.84\" width=\"23.76\" x=\"133.32\" y=\"124.08\"/><circle cx=\"132.0\" cy=\"132.0\" fill=\"red\" r=\"1.32\" stroke=\"red\" stroke-width=\"0\"/><circle cx=\"158.4\" cy=\"132.0\" fill=\"red\" r=\"1.32\" stroke=\"red\" stroke-width=\"0\"/><text alignment-baseline=\"middle\" fill=\"white\" font-family=\"Futura\" font-size=\"9.24\" text-anchor=\"middle\" x=\"145.2\" y=\"133.32\">-29</text><rect fill=\"red\" height=\"15.84\" width=\"23.76\" x=\"159.72\" y=\"124.08\"/><circle cx=\"158.4\" cy=\"132.0\" fill=\"red\" r=\"1.32\" stroke=\"red\" stroke-width=\"0\"/><circle cx=\"184.8\" cy=\"132.0\" fill=\"red\" r=\"1.32\" stroke=\"red\" stroke-width=\"0\"/><text alignment-baseline=\"middle\" fill=\"white\" font-family=\"Futura\" font-size=\"9.24\" text-anchor=\"middle\" x=\"171.6\" y=\"133.32\">-24</text><rect fill=\"red\" height=\"15.84\" width=\"23.76\" x=\"186.12\" y=\"124.08\"/><circle cx=\"184.8\" cy=\"132.0\" fill=\"red\" r=\"1.32\" stroke=\"red\" stroke-width=\"0\"/><circle cx=\"211.2\" cy=\"132.0\" fill=\"red\" r=\"1.32\" stroke=\"red\" stroke-width=\"0\"/><text alignment-baseline=\"middle\" fill=\"white\" font-family=\"Futura\" font-size=\"9.24\" text-anchor=\"middle\" x=\"198.0\" y=\"133.32\">-36</text><line stroke=\"green\" stroke-width=\"1.32\" x1=\"79.2\" x2=\"79.2\" y1=\"133.32\" y2=\"157.08\"/><text alignment-baseline=\"middle\" fill=\"black\" font-family=\"Futura\" font-size=\"9.24\" text-anchor=\"end\" x=\"21.12\" y=\"159.72\">9b</text><rect fill=\"green\" height=\"15.84\" width=\"23.76\" x=\"27.72\" y=\"150.48\"/><circle cx=\"26.4\" cy=\"158.4\" fill=\"green\" r=\"1.32\" stroke=\"green\" stroke-width=\"0\"/><circle cx=\"52.8\" cy=\"158.4\" fill=\"green\" r=\"1.32\" stroke=\"green\" stroke-width=\"0\"/><text alignment-baseline=\"middle\" fill=\"white\" font-family=\"Futura\" font-size=\"9.24\" text-anchor=\"middle\" x=\"39.6\" y=\"159.72\">-37</text><rect fill=\"green\" height=\"15.84\" width=\"23.76\" x=\"54.12\" y=\"150.48\"/><circle cx=\"52.8\" cy=\"158.4\" fill=\"green\" r=\"1.32\" stroke=\"green\" stroke-width=\"0\"/><circle cx=\"79.2\" cy=\"158.4\" fill=\"green\" r=\"1.32\" stroke=\"green\" stroke-width=\"0\"/><text alignment-baseline=\"middle\" fill=\"white\" font-family=\"Futura\" font-size=\"9.24\" text-anchor=\"middle\" x=\"66.0\" y=\"159.72\">-19</text><rect fill=\"green\" height=\"15.84\" width=\"23.76\" x=\"80.52\" y=\"150.48\"/><circle cx=\"79.2\" cy=\"158.4\" fill=\"green\" r=\"1.32\" stroke=\"green\" stroke-width=\"0\"/><circle cx=\"105.6\" cy=\"158.4\" fill=\"green\" r=\"1.32\" stroke=\"green\" stroke-width=\"0\"/><text alignment-baseline=\"middle\" fill=\"white\" font-family=\"Futura\" font-size=\"9.24\" text-anchor=\"middle\" x=\"92.4\" y=\"159.72\">-28</text><line stroke=\"green\" stroke-width=\"1.32\" x1=\"105.6\" x2=\"105.6\" y1=\"133.32\" y2=\"183.48\"/><text alignment-baseline=\"middle\" fill=\"black\" font-family=\"Futura\" font-size=\"9.24\" text-anchor=\"end\" x=\"21.12\" y=\"186.12\">10b</text><rect fill=\"green\" height=\"15.84\" width=\"23.76\" x=\"27.72\" y=\"176.88\"/><circle cx=\"26.4\" cy=\"184.8\" fill=\"green\" r=\"1.32\" stroke=\"green\" stroke-width=\"0\"/><circle cx=\"52.8\" cy=\"184.8\" fill=\"green\" r=\"1.32\" stroke=\"green\" stroke-width=\"0\"/><text alignment-baseline=\"middle\" fill=\"white\" font-family=\"Futura\" font-size=\"9.24\" text-anchor=\"middle\" x=\"39.6\" y=\"186.12\">-38</text><rect fill=\"green\" height=\"15.84\" width=\"23.76\" x=\"54.12\" y=\"176.88\"/><circle cx=\"52.8\" cy=\"184.8\" fill=\"green\" r=\"1.32\" stroke=\"green\" stroke-width=\"0\"/><circle cx=\"79.2\" cy=\"184.8\" fill=\"green\" r=\"1.32\" stroke=\"green\" stroke-width=\"0\"/><text alignment-baseline=\"middle\" fill=\"white\" font-family=\"Futura\" font-size=\"9.24\" text-anchor=\"middle\" x=\"66.0\" y=\"186.12\">-18</text><rect fill=\"green\" height=\"15.84\" width=\"23.76\" x=\"80.52\" y=\"176.88\"/><circle cx=\"79.2\" cy=\"184.8\" fill=\"green\" r=\"1.32\" stroke=\"green\" stroke-width=\"0\"/><circle cx=\"105.6\" cy=\"184.8\" fill=\"green\" r=\"1.32\" stroke=\"green\" stroke-width=\"0\"/><text alignment-baseline=\"middle\" fill=\"white\" font-family=\"Futura\" font-size=\"9.24\" text-anchor=\"middle\" x=\"92.4\" y=\"186.12\">-27</text><rect fill=\"green\" height=\"15.84\" width=\"23.76\" x=\"106.92\" y=\"176.88\"/><circle cx=\"105.6\" cy=\"184.8\" fill=\"green\" r=\"1.32\" stroke=\"green\" stroke-width=\"0\"/><circle cx=\"132.0\" cy=\"184.8\" fill=\"green\" r=\"1.32\" stroke=\"green\" stroke-width=\"0\"/><text alignment-baseline=\"middle\" fill=\"white\" font-family=\"Futura\" font-size=\"9.24\" text-anchor=\"middle\" x=\"118.8\" y=\"186.12\">-13</text><line stroke=\"red\" stroke-width=\"1.32\" x1=\"132.0\" x2=\"132.0\" y1=\"186.12\" y2=\"209.88\"/><text alignment-baseline=\"middle\" fill=\"black\" font-family=\"Futura\" font-size=\"9.24\" text-anchor=\"start\" x=\"216.48\" y=\"212.52\">12f</text><rect fill=\"red\" height=\"15.84\" width=\"23.76\" x=\"106.92\" y=\"203.28\"/><circle cx=\"105.6\" cy=\"211.2\" fill=\"red\" r=\"1.32\" stroke=\"red\" stroke-width=\"0\"/><circle cx=\"132.0\" cy=\"211.2\" fill=\"red\" r=\"1.32\" stroke=\"red\" stroke-width=\"0\"/><text alignment-baseline=\"middle\" fill=\"white\" font-family=\"Futura\" font-size=\"9.24\" text-anchor=\"middle\" x=\"118.8\" y=\"212.52\">-13</text><rect fill=\"red\" height=\"15.84\" width=\"23.76\" x=\"133.32\" y=\"203.28\"/><circle cx=\"132.0\" cy=\"211.2\" fill=\"red\" r=\"1.32\" stroke=\"red\" stroke-width=\"0\"/><circle cx=\"158.4\" cy=\"211.2\" fill=\"red\" r=\"1.32\" stroke=\"red\" stroke-width=\"0\"/><text alignment-baseline=\"middle\" fill=\"white\" font-family=\"Futura\" font-size=\"9.24\" text-anchor=\"middle\" x=\"145.2\" y=\"212.52\">-29</text><rect fill=\"red\" height=\"15.84\" width=\"23.76\" x=\"159.72\" y=\"203.28\"/><circle cx=\"158.4\" cy=\"211.2\" fill=\"red\" r=\"1.32\" stroke=\"red\" stroke-width=\"0\"/><circle cx=\"184.8\" cy=\"211.2\" fill=\"red\" r=\"1.32\" stroke=\"red\" stroke-width=\"0\"/><text alignment-baseline=\"middle\" fill=\"white\" font-family=\"Futura\" font-size=\"9.24\" text-anchor=\"middle\" x=\"171.6\" y=\"212.52\">-24</text><rect fill=\"red\" height=\"15.84\" width=\"23.76\" x=\"186.12\" y=\"203.28\"/><circle cx=\"184.8\" cy=\"211.2\" fill=\"red\" r=\"1.32\" stroke=\"red\" stroke-width=\"0\"/><circle cx=\"211.2\" cy=\"211.2\" fill=\"red\" r=\"1.32\" stroke=\"red\" stroke-width=\"0\"/><text alignment-baseline=\"middle\" fill=\"white\" font-family=\"Futura\" font-size=\"9.24\" text-anchor=\"middle\" x=\"198.0\" y=\"212.52\">-36</text><line stroke=\"red\" stroke-width=\"1.32\" x1=\"132.0\" x2=\"132.0\" y1=\"212.52\" y2=\"236.28\"/><text alignment-baseline=\"middle\" fill=\"black\" font-family=\"Futura\" font-size=\"9.24\" text-anchor=\"start\" x=\"163.68\" y=\"238.92\">13f</text><rect fill=\"red\" height=\"15.84\" width=\"23.76\" x=\"106.92\" y=\"229.68\"/><circle cx=\"105.6\" cy=\"237.6\" fill=\"red\" r=\"1.32\" stroke=\"red\" stroke-width=\"0\"/><circle cx=\"132.0\" cy=\"237.6\" fill=\"red\" r=\"1.32\" stroke=\"red\" stroke-width=\"0\"/><text alignment-baseline=\"middle\" fill=\"white\" font-family=\"Futura\" font-size=\"9.24\" text-anchor=\"middle\" x=\"118.8\" y=\"238.92\">-13</text><rect fill=\"red\" height=\"15.84\" width=\"23.76\" x=\"133.32\" y=\"229.68\"/><circle cx=\"132.0\" cy=\"237.6\" fill=\"red\" r=\"1.32\" stroke=\"red\" stroke-width=\"0\"/><circle cx=\"158.4\" cy=\"237.6\" fill=\"red\" r=\"1.32\" stroke=\"red\" stroke-width=\"0\"/><text alignment-baseline=\"middle\" fill=\"white\" font-family=\"Futura\" font-size=\"9.24\" text-anchor=\"middle\" x=\"145.2\" y=\"238.92\">-30</text><line stroke=\"green\" stroke-width=\"1.32\" x1=\"105.6\" x2=\"105.6\" y1=\"238.92\" y2=\"262.68\"/><text alignment-baseline=\"middle\" fill=\"black\" font-family=\"Futura\" font-size=\"9.24\" text-anchor=\"end\" x=\"21.12\" y=\"265.32\">14b</text><rect fill=\"green\" height=\"15.84\" width=\"23.76\" x=\"27.72\" y=\"256.08\"/><circle cx=\"26.4\" cy=\"264.0\" fill=\"green\" r=\"1.32\" stroke=\"green\" stroke-width=\"0\"/><circle cx=\"52.8\" cy=\"264.0\" fill=\"green\" r=\"1.32\" stroke=\"green\" stroke-width=\"0\"/><text alignment-baseline=\"middle\" fill=\"white\" font-family=\"Futura\" font-size=\"9.24\" text-anchor=\"middle\" x=\"39.6\" y=\"265.32\">-39</text><rect fill=\"green\" height=\"15.84\" width=\"23.76\" x=\"54.12\" y=\"256.08\"/><circle cx=\"52.8\" cy=\"264.0\" fill=\"green\" r=\"1.32\" stroke=\"green\" stroke-width=\"0\"/><circle cx=\"79.2\" cy=\"264.0\" fill=\"green\" r=\"1.32\" stroke=\"green\" stroke-width=\"0\"/><text alignment-baseline=\"middle\" fill=\"white\" font-family=\"Futura\" font-size=\"9.24\" text-anchor=\"middle\" x=\"66.0\" y=\"265.32\">-20</text><rect fill=\"green\" height=\"15.84\" width=\"23.76\" x=\"80.52\" y=\"256.08\"/><circle cx=\"79.2\" cy=\"264.0\" fill=\"green\" r=\"1.32\" stroke=\"green\" stroke-width=\"0\"/><circle cx=\"105.6\" cy=\"264.0\" fill=\"green\" r=\"1.32\" stroke=\"green\" stroke-width=\"0\"/><text alignment-baseline=\"middle\" fill=\"white\" font-family=\"Futura\" font-size=\"9.24\" text-anchor=\"middle\" x=\"92.4\" y=\"265.32\">-27</text><rect fill=\"green\" height=\"15.84\" width=\"23.76\" x=\"106.92\" y=\"256.08\"/><circle cx=\"105.6\" cy=\"264.0\" fill=\"green\" r=\"1.32\" stroke=\"green\" stroke-width=\"0\"/><circle cx=\"132.0\" cy=\"264.0\" fill=\"green\" r=\"1.32\" stroke=\"green\" stroke-width=\"0\"/><text alignment-baseline=\"middle\" fill=\"white\" font-family=\"Futura\" font-size=\"9.24\" text-anchor=\"middle\" x=\"118.8\" y=\"265.32\">-13</text><line stroke=\"red\" stroke-width=\"1.32\" x1=\"132.0\" x2=\"132.0\" y1=\"265.32\" y2=\"289.08\"/><text alignment-baseline=\"middle\" fill=\"black\" font-family=\"Futura\" font-size=\"9.24\" text-anchor=\"start\" x=\"163.68\" y=\"291.72\">15f</text><rect fill=\"red\" height=\"15.84\" width=\"23.76\" x=\"106.92\" y=\"282.48\"/><circle cx=\"105.6\" cy=\"290.4\" fill=\"red\" r=\"1.32\" stroke=\"red\" stroke-width=\"0\"/><circle cx=\"132.0\" cy=\"290.4\" fill=\"red\" r=\"1.32\" stroke=\"red\" stroke-width=\"0\"/><text alignment-baseline=\"middle\" fill=\"white\" font-family=\"Futura\" font-size=\"9.24\" text-anchor=\"middle\" x=\"118.8\" y=\"291.72\">-13</text><rect fill=\"red\" height=\"15.84\" width=\"23.76\" x=\"133.32\" y=\"282.48\"/><circle cx=\"132.0\" cy=\"290.4\" fill=\"red\" r=\"1.32\" stroke=\"red\" stroke-width=\"0\"/><circle cx=\"158.4\" cy=\"290.4\" fill=\"red\" r=\"1.32\" stroke=\"red\" stroke-width=\"0\"/><text alignment-baseline=\"middle\" fill=\"white\" font-family=\"Futura\" font-size=\"9.24\" text-anchor=\"middle\" x=\"145.2\" y=\"291.72\">-30</text></svg>"
      ],
      "text/plain": [
       "<IPython.core.display.SVG object>"
      ]
     },
     "execution_count": 30,
     "metadata": {},
     "output_type": "execute_result"
    }
   ],
   "source": [
    "view = tree.renderer\n",
    "view.zoom = 1.1\n",
    "view.scale_y = 24\n",
    "view.scale_x = 24\n",
    "view.font_size = 0.35\n",
    "SVG(view.to_svg())"
   ]
  },
  {
   "cell_type": "markdown",
   "metadata": {},
   "source": [
    "An alternate view which is similar to the standard way of plotting"
   ]
  },
  {
   "cell_type": "code",
   "execution_count": 31,
   "metadata": {
    "collapsed": false
   },
   "outputs": [
    {
     "data": {
      "image/svg+xml": [
       "<svg baseProfile=\"full\" height=\"132.0px\" version=\"1.1\" width=\"237.6px\" xmlns=\"http://www.w3.org/2000/svg\" xmlns:ev=\"http://www.w3.org/2001/xml-events\" xmlns:xlink=\"http://www.w3.org/1999/xlink\"><defs/><rect fill=\"black\" height=\"9.9\" width=\"26.928\" x=\"26.136\" y=\"11.55\"/><circle cx=\"26.4\" cy=\"16.5\" fill=\"black\" r=\"-0.264\" stroke=\"black\" stroke-width=\"0\"/><circle cx=\"52.8\" cy=\"16.5\" fill=\"black\" r=\"-0.264\" stroke=\"black\" stroke-width=\"0\"/><text alignment-baseline=\"middle\" fill=\"white\" font-family=\"Times\" font-size=\"13.2\" text-anchor=\"middle\" x=\"39.6\" y=\"17.325\"/><rect fill=\"black\" height=\"9.9\" width=\"26.928\" x=\"52.536\" y=\"11.55\"/><circle cx=\"52.8\" cy=\"16.5\" fill=\"black\" r=\"-0.264\" stroke=\"black\" stroke-width=\"0\"/><circle cx=\"79.2\" cy=\"16.5\" fill=\"black\" r=\"-0.264\" stroke=\"black\" stroke-width=\"0\"/><text alignment-baseline=\"middle\" fill=\"white\" font-family=\"Times\" font-size=\"13.2\" text-anchor=\"middle\" x=\"66.0\" y=\"17.325\"/><rect fill=\"black\" height=\"9.9\" width=\"26.928\" x=\"78.936\" y=\"11.55\"/><circle cx=\"79.2\" cy=\"16.5\" fill=\"black\" r=\"-0.264\" stroke=\"black\" stroke-width=\"0\"/><circle cx=\"105.6\" cy=\"16.5\" fill=\"black\" r=\"-0.264\" stroke=\"black\" stroke-width=\"0\"/><text alignment-baseline=\"middle\" fill=\"white\" font-family=\"Times\" font-size=\"13.2\" text-anchor=\"middle\" x=\"92.4\" y=\"17.325\"/><rect fill=\"black\" height=\"9.9\" width=\"26.928\" x=\"105.336\" y=\"11.55\"/><circle cx=\"105.6\" cy=\"16.5\" fill=\"black\" r=\"-0.264\" stroke=\"black\" stroke-width=\"0\"/><circle cx=\"132.0\" cy=\"16.5\" fill=\"black\" r=\"-0.264\" stroke=\"black\" stroke-width=\"0\"/><text alignment-baseline=\"middle\" fill=\"white\" font-family=\"Times\" font-size=\"13.2\" text-anchor=\"middle\" x=\"118.8\" y=\"17.325\"/><rect fill=\"black\" height=\"9.9\" width=\"26.928\" x=\"131.736\" y=\"11.55\"/><circle cx=\"132.0\" cy=\"16.5\" fill=\"black\" r=\"-0.264\" stroke=\"black\" stroke-width=\"0\"/><circle cx=\"158.4\" cy=\"16.5\" fill=\"black\" r=\"-0.264\" stroke=\"black\" stroke-width=\"0\"/><text alignment-baseline=\"middle\" fill=\"white\" font-family=\"Times\" font-size=\"13.2\" text-anchor=\"middle\" x=\"145.2\" y=\"17.325\"/><rect fill=\"black\" height=\"9.9\" width=\"26.928\" x=\"158.136\" y=\"11.55\"/><circle cx=\"158.4\" cy=\"16.5\" fill=\"black\" r=\"-0.264\" stroke=\"black\" stroke-width=\"0\"/><circle cx=\"184.8\" cy=\"16.5\" fill=\"black\" r=\"-0.264\" stroke=\"black\" stroke-width=\"0\"/><text alignment-baseline=\"middle\" fill=\"white\" font-family=\"Times\" font-size=\"13.2\" text-anchor=\"middle\" x=\"171.6\" y=\"17.325\"/><rect fill=\"black\" height=\"9.9\" width=\"26.928\" x=\"184.536\" y=\"11.55\"/><circle cx=\"184.8\" cy=\"16.5\" fill=\"black\" r=\"-0.264\" stroke=\"black\" stroke-width=\"0\"/><circle cx=\"211.2\" cy=\"16.5\" fill=\"black\" r=\"-0.264\" stroke=\"black\" stroke-width=\"0\"/><text alignment-baseline=\"middle\" fill=\"white\" font-family=\"Times\" font-size=\"13.2\" text-anchor=\"middle\" x=\"198.0\" y=\"17.325\"/><text alignment-baseline=\"middle\" fill=\"black\" font-family=\"Times\" font-size=\"13.2\" text-anchor=\"end\" x=\"21.12\" y=\"17.325\">9b</text><line stroke=\"green\" stroke-width=\"1.32\" x1=\"79.2\" x2=\"79.2\" y1=\"16.335\" y2=\"33.165\"/><text alignment-baseline=\"middle\" fill=\"black\" font-family=\"Times\" font-size=\"13.2\" text-anchor=\"end\" x=\"21.12\" y=\"33.825\">9b</text><rect fill=\"green\" height=\"9.9\" width=\"26.928\" x=\"26.136\" y=\"28.05\"/><circle cx=\"26.4\" cy=\"33.0\" fill=\"green\" r=\"-0.264\" stroke=\"green\" stroke-width=\"0\"/><circle cx=\"52.8\" cy=\"33.0\" fill=\"green\" r=\"-0.264\" stroke=\"green\" stroke-width=\"0\"/><text alignment-baseline=\"middle\" fill=\"white\" font-family=\"Times\" font-size=\"13.2\" text-anchor=\"middle\" x=\"39.6\" y=\"33.825\"/><rect fill=\"green\" height=\"9.9\" width=\"26.928\" x=\"52.536\" y=\"28.05\"/><circle cx=\"52.8\" cy=\"33.0\" fill=\"green\" r=\"-0.264\" stroke=\"green\" stroke-width=\"0\"/><circle cx=\"79.2\" cy=\"33.0\" fill=\"green\" r=\"-0.264\" stroke=\"green\" stroke-width=\"0\"/><text alignment-baseline=\"middle\" fill=\"white\" font-family=\"Times\" font-size=\"13.2\" text-anchor=\"middle\" x=\"66.0\" y=\"33.825\"/><rect fill=\"green\" height=\"9.9\" width=\"26.928\" x=\"78.936\" y=\"28.05\"/><circle cx=\"79.2\" cy=\"33.0\" fill=\"green\" r=\"-0.264\" stroke=\"green\" stroke-width=\"0\"/><circle cx=\"105.6\" cy=\"33.0\" fill=\"green\" r=\"-0.264\" stroke=\"green\" stroke-width=\"0\"/><text alignment-baseline=\"middle\" fill=\"white\" font-family=\"Times\" font-size=\"13.2\" text-anchor=\"middle\" x=\"92.4\" y=\"33.825\"/><line stroke=\"green\" stroke-width=\"1.32\" x1=\"105.6\" x2=\"105.6\" y1=\"16.335\" y2=\"49.665\"/><text alignment-baseline=\"middle\" fill=\"black\" font-family=\"Times\" font-size=\"13.2\" text-anchor=\"end\" x=\"21.12\" y=\"50.325\">10b</text><rect fill=\"green\" height=\"9.9\" width=\"26.928\" x=\"26.136\" y=\"44.55\"/><circle cx=\"26.4\" cy=\"49.5\" fill=\"green\" r=\"-0.264\" stroke=\"green\" stroke-width=\"0\"/><circle cx=\"52.8\" cy=\"49.5\" fill=\"green\" r=\"-0.264\" stroke=\"green\" stroke-width=\"0\"/><text alignment-baseline=\"middle\" fill=\"white\" font-family=\"Times\" font-size=\"13.2\" text-anchor=\"middle\" x=\"39.6\" y=\"50.325\"/><rect fill=\"green\" height=\"9.9\" width=\"26.928\" x=\"52.536\" y=\"44.55\"/><circle cx=\"52.8\" cy=\"49.5\" fill=\"green\" r=\"-0.264\" stroke=\"green\" stroke-width=\"0\"/><circle cx=\"79.2\" cy=\"49.5\" fill=\"green\" r=\"-0.264\" stroke=\"green\" stroke-width=\"0\"/><text alignment-baseline=\"middle\" fill=\"white\" font-family=\"Times\" font-size=\"13.2\" text-anchor=\"middle\" x=\"66.0\" y=\"50.325\"/><rect fill=\"green\" height=\"9.9\" width=\"26.928\" x=\"78.936\" y=\"44.55\"/><circle cx=\"79.2\" cy=\"49.5\" fill=\"green\" r=\"-0.264\" stroke=\"green\" stroke-width=\"0\"/><circle cx=\"105.6\" cy=\"49.5\" fill=\"green\" r=\"-0.264\" stroke=\"green\" stroke-width=\"0\"/><text alignment-baseline=\"middle\" fill=\"white\" font-family=\"Times\" font-size=\"13.2\" text-anchor=\"middle\" x=\"92.4\" y=\"50.325\"/><rect fill=\"green\" height=\"9.9\" width=\"26.928\" x=\"105.336\" y=\"44.55\"/><circle cx=\"105.6\" cy=\"49.5\" fill=\"green\" r=\"-0.264\" stroke=\"green\" stroke-width=\"0\"/><circle cx=\"132.0\" cy=\"49.5\" fill=\"green\" r=\"-0.264\" stroke=\"green\" stroke-width=\"0\"/><text alignment-baseline=\"middle\" fill=\"white\" font-family=\"Times\" font-size=\"13.2\" text-anchor=\"middle\" x=\"118.8\" y=\"50.325\"/><line stroke=\"red\" stroke-width=\"1.32\" x1=\"132.0\" x2=\"132.0\" y1=\"49.335\" y2=\"66.165\"/><text alignment-baseline=\"middle\" fill=\"black\" font-family=\"Times\" font-size=\"13.2\" text-anchor=\"start\" x=\"216.48\" y=\"66.825\">12f</text><rect fill=\"red\" height=\"9.9\" width=\"26.928\" x=\"105.336\" y=\"61.05\"/><circle cx=\"105.6\" cy=\"66.0\" fill=\"red\" r=\"-0.264\" stroke=\"red\" stroke-width=\"0\"/><circle cx=\"132.0\" cy=\"66.0\" fill=\"red\" r=\"-0.264\" stroke=\"red\" stroke-width=\"0\"/><text alignment-baseline=\"middle\" fill=\"white\" font-family=\"Times\" font-size=\"13.2\" text-anchor=\"middle\" x=\"118.8\" y=\"66.825\"/><rect fill=\"red\" height=\"9.9\" width=\"26.928\" x=\"131.736\" y=\"61.05\"/><circle cx=\"132.0\" cy=\"66.0\" fill=\"red\" r=\"-0.264\" stroke=\"red\" stroke-width=\"0\"/><circle cx=\"158.4\" cy=\"66.0\" fill=\"red\" r=\"-0.264\" stroke=\"red\" stroke-width=\"0\"/><text alignment-baseline=\"middle\" fill=\"white\" font-family=\"Times\" font-size=\"13.2\" text-anchor=\"middle\" x=\"145.2\" y=\"66.825\"/><rect fill=\"red\" height=\"9.9\" width=\"26.928\" x=\"158.136\" y=\"61.05\"/><circle cx=\"158.4\" cy=\"66.0\" fill=\"red\" r=\"-0.264\" stroke=\"red\" stroke-width=\"0\"/><circle cx=\"184.8\" cy=\"66.0\" fill=\"red\" r=\"-0.264\" stroke=\"red\" stroke-width=\"0\"/><text alignment-baseline=\"middle\" fill=\"white\" font-family=\"Times\" font-size=\"13.2\" text-anchor=\"middle\" x=\"171.6\" y=\"66.825\"/><rect fill=\"red\" height=\"9.9\" width=\"26.928\" x=\"184.536\" y=\"61.05\"/><circle cx=\"184.8\" cy=\"66.0\" fill=\"red\" r=\"-0.264\" stroke=\"red\" stroke-width=\"0\"/><circle cx=\"211.2\" cy=\"66.0\" fill=\"red\" r=\"-0.264\" stroke=\"red\" stroke-width=\"0\"/><text alignment-baseline=\"middle\" fill=\"white\" font-family=\"Times\" font-size=\"13.2\" text-anchor=\"middle\" x=\"198.0\" y=\"66.825\"/><line stroke=\"red\" stroke-width=\"1.32\" x1=\"132.0\" x2=\"132.0\" y1=\"65.835\" y2=\"82.665\"/><text alignment-baseline=\"middle\" fill=\"black\" font-family=\"Times\" font-size=\"13.2\" text-anchor=\"start\" x=\"163.68\" y=\"83.325\">13f</text><rect fill=\"red\" height=\"9.9\" width=\"26.928\" x=\"105.336\" y=\"77.55\"/><circle cx=\"105.6\" cy=\"82.5\" fill=\"red\" r=\"-0.264\" stroke=\"red\" stroke-width=\"0\"/><circle cx=\"132.0\" cy=\"82.5\" fill=\"red\" r=\"-0.264\" stroke=\"red\" stroke-width=\"0\"/><text alignment-baseline=\"middle\" fill=\"white\" font-family=\"Times\" font-size=\"13.2\" text-anchor=\"middle\" x=\"118.8\" y=\"83.325\"/><rect fill=\"red\" height=\"9.9\" width=\"26.928\" x=\"131.736\" y=\"77.55\"/><circle cx=\"132.0\" cy=\"82.5\" fill=\"red\" r=\"-0.264\" stroke=\"red\" stroke-width=\"0\"/><circle cx=\"158.4\" cy=\"82.5\" fill=\"red\" r=\"-0.264\" stroke=\"red\" stroke-width=\"0\"/><text alignment-baseline=\"middle\" fill=\"white\" font-family=\"Times\" font-size=\"13.2\" text-anchor=\"middle\" x=\"145.2\" y=\"83.325\"/><line stroke=\"green\" stroke-width=\"1.32\" x1=\"105.6\" x2=\"105.6\" y1=\"82.335\" y2=\"99.165\"/><text alignment-baseline=\"middle\" fill=\"black\" font-family=\"Times\" font-size=\"13.2\" text-anchor=\"end\" x=\"21.12\" y=\"99.825\">14b</text><rect fill=\"green\" height=\"9.9\" width=\"26.928\" x=\"26.136\" y=\"94.05\"/><circle cx=\"26.4\" cy=\"99.0\" fill=\"green\" r=\"-0.264\" stroke=\"green\" stroke-width=\"0\"/><circle cx=\"52.8\" cy=\"99.0\" fill=\"green\" r=\"-0.264\" stroke=\"green\" stroke-width=\"0\"/><text alignment-baseline=\"middle\" fill=\"white\" font-family=\"Times\" font-size=\"13.2\" text-anchor=\"middle\" x=\"39.6\" y=\"99.825\"/><rect fill=\"green\" height=\"9.9\" width=\"26.928\" x=\"52.536\" y=\"94.05\"/><circle cx=\"52.8\" cy=\"99.0\" fill=\"green\" r=\"-0.264\" stroke=\"green\" stroke-width=\"0\"/><circle cx=\"79.2\" cy=\"99.0\" fill=\"green\" r=\"-0.264\" stroke=\"green\" stroke-width=\"0\"/><text alignment-baseline=\"middle\" fill=\"white\" font-family=\"Times\" font-size=\"13.2\" text-anchor=\"middle\" x=\"66.0\" y=\"99.825\"/><rect fill=\"green\" height=\"9.9\" width=\"26.928\" x=\"78.936\" y=\"94.05\"/><circle cx=\"79.2\" cy=\"99.0\" fill=\"green\" r=\"-0.264\" stroke=\"green\" stroke-width=\"0\"/><circle cx=\"105.6\" cy=\"99.0\" fill=\"green\" r=\"-0.264\" stroke=\"green\" stroke-width=\"0\"/><text alignment-baseline=\"middle\" fill=\"white\" font-family=\"Times\" font-size=\"13.2\" text-anchor=\"middle\" x=\"92.4\" y=\"99.825\"/><rect fill=\"green\" height=\"9.9\" width=\"26.928\" x=\"105.336\" y=\"94.05\"/><circle cx=\"105.6\" cy=\"99.0\" fill=\"green\" r=\"-0.264\" stroke=\"green\" stroke-width=\"0\"/><circle cx=\"132.0\" cy=\"99.0\" fill=\"green\" r=\"-0.264\" stroke=\"green\" stroke-width=\"0\"/><text alignment-baseline=\"middle\" fill=\"white\" font-family=\"Times\" font-size=\"13.2\" text-anchor=\"middle\" x=\"118.8\" y=\"99.825\"/><line stroke=\"red\" stroke-width=\"1.32\" x1=\"132.0\" x2=\"132.0\" y1=\"98.835\" y2=\"115.665\"/><text alignment-baseline=\"middle\" fill=\"black\" font-family=\"Times\" font-size=\"13.2\" text-anchor=\"start\" x=\"163.68\" y=\"116.325\">15f</text><rect fill=\"red\" height=\"9.9\" width=\"26.928\" x=\"105.336\" y=\"110.55\"/><circle cx=\"105.6\" cy=\"115.5\" fill=\"red\" r=\"-0.264\" stroke=\"red\" stroke-width=\"0\"/><circle cx=\"132.0\" cy=\"115.5\" fill=\"red\" r=\"-0.264\" stroke=\"red\" stroke-width=\"0\"/><text alignment-baseline=\"middle\" fill=\"white\" font-family=\"Times\" font-size=\"13.2\" text-anchor=\"middle\" x=\"118.8\" y=\"116.325\"/><rect fill=\"red\" height=\"9.9\" width=\"26.928\" x=\"131.736\" y=\"110.55\"/><circle cx=\"132.0\" cy=\"115.5\" fill=\"red\" r=\"-0.264\" stroke=\"red\" stroke-width=\"0\"/><circle cx=\"158.4\" cy=\"115.5\" fill=\"red\" r=\"-0.264\" stroke=\"red\" stroke-width=\"0\"/><text alignment-baseline=\"middle\" fill=\"white\" font-family=\"Times\" font-size=\"13.2\" text-anchor=\"middle\" x=\"145.2\" y=\"116.325\"/></svg>"
      ],
      "text/plain": [
       "<IPython.core.display.SVG object>"
      ]
     },
     "execution_count": 31,
     "metadata": {},
     "output_type": "execute_result"
    }
   ],
   "source": [
    "tree.rejected = False\n",
    "tree.states = []\n",
    "tree.op = None\n",
    "samples = storage.samples.by_ensemble(storage.ensembles.load(4))\n",
    "tree.from_samples(samples)\n",
    "view = tree.renderer\n",
    "view.zoom = 1.1\n",
    "view.horizontal_gap = -0.01\n",
    "view.scale_y = 15\n",
    "view.scale_x = 24\n",
    "view.font_size = 0.8\n",
    "view.font_family = 'Times'\n",
    "SVG(view.to_svg())"
   ]
  },
  {
   "cell_type": "markdown",
   "metadata": {},
   "source": [
    "### Phi/Psi Plots"
   ]
  },
  {
   "cell_type": "code",
   "execution_count": 32,
   "metadata": {
    "collapsed": false
   },
   "outputs": [],
   "source": [
    "# Imports for plotting\n",
    "%matplotlib inline\n",
    "import matplotlib\n",
    "import matplotlib.pyplot as plt\n",
    "import matplotlib.pylab as pylab\n",
    "from matplotlib.legend_handler import HandlerLine2D"
   ]
  },
  {
   "cell_type": "markdown",
   "metadata": {},
   "source": [
    "Make sure that all phi/psi values have been computed!"
   ]
  },
  {
   "cell_type": "code",
   "execution_count": 33,
   "metadata": {
    "collapsed": false
   },
   "outputs": [],
   "source": [
    "phi(storage.snapshots.all());\n",
    "psi(storage.snapshots.all());"
   ]
  },
  {
   "cell_type": "code",
   "execution_count": 34,
   "metadata": {
    "collapsed": false
   },
   "outputs": [
    {
     "data": {
      "image/png": "[encoded data removed]",
      "text/plain": [
       "<matplotlib.figure.Figure at 0x110e62750>"
      ]
     },
     "metadata": {},
     "output_type": "display_data"
    }
   ],
   "source": [
    "plt.figure(figsize=(5, 5))\n",
    "\n",
    "for traj in storage.trajectories.iterator():\n",
    "    phi_angles = degrees * np.array(phi(traj)).flatten()\n",
    "    psi_angles = degrees * np.array(psi(traj)).flatten()\n",
    "    plt.plot(phi_angles, psi_angles, 'ro', linewidth=1);\n",
    "    \n",
    "plt.xlim(-180, 180);\n",
    "plt.ylim(-180, 180);"
   ]
  },
  {
   "cell_type": "code",
   "execution_count": 35,
   "metadata": {
    "collapsed": false
   },
   "outputs": [
    {
     "data": {
      "image/png": "[encoded data removed]",
      "text/plain": [
       "<matplotlib.figure.Figure at 0x110e682d0>"
      ]
     },
     "metadata": {},
     "output_type": "display_data"
    }
   ],
   "source": [
    "plt.figure(figsize=(8, 8))\n",
    "\n",
    "traj = storage.trajectories.last()\n",
    "phi_angles = degrees * np.array(phi(traj)).flatten()\n",
    "psi_angles = degrees * np.array(psi(traj)).flatten()\n",
    "plt.plot(phi_angles, psi_angles, 'k-', linewidth=1);\n",
    "\n",
    "for snapshot in traj:\n",
    "    phi_angles = degrees * np.array(phi(snapshot)).flatten()\n",
    "    psi_angles = degrees * np.array(psi(snapshot)).flatten()\n",
    "    if op_notinAorB(snapshot):\n",
    "        plt.plot(phi_angles, psi_angles, 'ro', linewidth=1);\n",
    "    else:\n",
    "        plt.plot(phi_angles, psi_angles, 'bo', linewidth=1);\n",
    "        \n",
    "plt.xlim(-180, 180);\n",
    "plt.ylim(-180, 180);"
   ]
  },
  {
   "cell_type": "code",
   "execution_count": 36,
   "metadata": {
    "collapsed": false
   },
   "outputs": [
    {
     "data": {
      "image/png": "[encoded data removed]",
      "text/plain": [
       "<matplotlib.figure.Figure at 0x110bcef90>"
      ]
     },
     "metadata": {},
     "output_type": "display_data"
    }
   ],
   "source": [
    "plt.figure(figsize=(8, 8))\n",
    "\n",
    "traj = storage.samples.last().trajectory\n",
    "phi_angles = degrees * np.array(phi(traj)).flatten()\n",
    "psi_angles = degrees * np.array(psi(traj)).flatten()\n",
    "plt.plot(phi_angles, psi_angles, 'k-', linewidth=1);\n",
    "\n",
    "\n",
    "#for snapshot in simulator.storage.snapshot.iterator():\n",
    "for snapshot in traj:\n",
    "    phi_angles = degrees * np.array(phi(snapshot)).flatten()\n",
    "    psi_angles = degrees * np.array(psi(snapshot)).flatten()\n",
    "    if op_notinAorB(snapshot):\n",
    "        plt.plot(phi_angles, psi_angles, 'ro', linewidth=1);\n",
    "    else:\n",
    "        plt.plot(phi_angles, psi_angles, 'bo', linewidth=1);\n",
    "        \n",
    "plt.xlim(-180, 180);\n",
    "plt.ylim(-180, 180);"
   ]
  },
  {
   "cell_type": "code",
   "execution_count": 37,
   "metadata": {
    "collapsed": false
   },
   "outputs": [],
   "source": [
    "storage.cvs.sync()\n",
    "storage.sync()"
   ]
  },
  {
   "cell_type": "code",
   "execution_count": null,
   "metadata": {
    "collapsed": true
   },
   "outputs": [],
   "source": []
  }
 ],
 "metadata": {
  "kernelspec": {
   "display_name": "Python 2",
   "language": "python",
   "name": "python2"
  },
  "language_info": {
   "codemirror_mode": {
    "name": "ipython",
    "version": 2
   },
   "file_extension": ".py",
   "mimetype": "text/x-python",
   "name": "python",
   "nbconvert_exporter": "python",
   "pygments_lexer": "ipython2",
   "version": "2.7.9"
  }
 },
 "nbformat": 4,
 "nbformat_minor": 0
}
