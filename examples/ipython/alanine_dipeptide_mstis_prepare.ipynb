{
 "cells": [
  {
   "cell_type": "markdown",
   "metadata": {},
   "source": [
    "# Prepare from bootstrap paths\n",
    "\n",
    "Now we will use the initial trajectories we obtained from bootstrapping to run an MSTIS simulation. This will show both how objects can be regenerated from storage and how regenerated equivalent objects can be used in place of objects that weren't stored.\n",
    "\n",
    "Tasks covered in this notebook:\n",
    "* Loading OPS objects from storage\n",
    "* Ways of assigning initial trajectories to initial samples\n",
    "* Setting up a path sampling simulation with various move schemes\n",
    "* Visualizing trajectories while the path sampling is running"
   ]
  },
  {
   "cell_type": "code",
   "execution_count": 1,
   "metadata": {
    "collapsed": false
   },
   "outputs": [],
   "source": [
    "%matplotlib inline\n",
    "import openpathsampling as paths\n",
    "import numpy as np\n",
    "import math"
   ]
  },
  {
   "cell_type": "code",
   "execution_count": 2,
   "metadata": {
    "collapsed": true
   },
   "outputs": [],
   "source": [
    "# Imports for plotting\n",
    "%matplotlib inline\n",
    "import matplotlib\n",
    "import matplotlib.pyplot as plt\n",
    "import matplotlib.pylab as pylab\n",
    "from matplotlib.legend_handler import HandlerLine2D"
   ]
  },
  {
   "cell_type": "markdown",
   "metadata": {},
   "source": [
    "### Loading things from storage\n",
    "\n",
    "First we'll reload some of the stuff we stored before. Of course, this starts with opening the file."
   ]
  },
  {
   "cell_type": "code",
   "execution_count": 3,
   "metadata": {
    "collapsed": false
   },
   "outputs": [],
   "source": [
    "old_store = paths.AnalysisStorage(\"ala.nc\")"
   ]
  },
  {
   "cell_type": "markdown",
   "metadata": {},
   "source": [
    "A lot of information can be recovered from the old storage, and so we don't have the recreate it. However, we did not save our network, so we'll have to create a new one. Since the network creates the ensembles, that means we will have to translate the trajectories from the old ensembles to new ensembles."
   ]
  },
  {
   "cell_type": "code",
   "execution_count": 4,
   "metadata": {
    "collapsed": false
   },
   "outputs": [
    {
     "name": "stdout",
     "output_type": "stream",
     "text": [
      "PathMovers: 0\n",
      "Engines: 3\n",
      "Samples: 28\n",
      "Ensembles: 351\n",
      "SampleSets: 1\n",
      "Snapshots: 5982\n",
      "Networks: 1\n"
     ]
    }
   ],
   "source": [
    "print \"PathMovers:\", len(old_store.pathmovers)\n",
    "print \"Engines:\", len(old_store.engines)\n",
    "print \"Samples:\", len(old_store.samples)\n",
    "print \"Ensembles:\", len(old_store.ensembles)\n",
    "print \"SampleSets:\", len(old_store.samplesets)\n",
    "print \"Snapshots:\", len(old_store.snapshots)\n",
    "print \"Networks:\", len(old_store.networks)"
   ]
  },
  {
   "cell_type": "markdown",
   "metadata": {},
   "source": [
    "Loading from storage is very easy. Each store is a list. We take the 0th snapshot as a template (it doesn't actually matter which one) for the next storage we'll create. There's only one engine stored, so we take the only one."
   ]
  },
  {
   "cell_type": "code",
   "execution_count": 5,
   "metadata": {
    "collapsed": true
   },
   "outputs": [],
   "source": [
    "template = old_store.snapshots[0]"
   ]
  },
  {
   "cell_type": "code",
   "execution_count": 6,
   "metadata": {
    "collapsed": false
   },
   "outputs": [],
   "source": [
    "engine = old_store.engines['default']"
   ]
  },
  {
   "cell_type": "code",
   "execution_count": 7,
   "metadata": {
    "collapsed": true
   },
   "outputs": [],
   "source": [
    "mstis = old_store.networks[0]"
   ]
  },
  {
   "cell_type": "markdown",
   "metadata": {
    "collapsed": true
   },
   "source": [
    "Now we need to set up real trajectories that we can use for each of these. We can start by loading the stored sample set."
   ]
  },
  {
   "cell_type": "code",
   "execution_count": 8,
   "metadata": {
    "collapsed": false
   },
   "outputs": [],
   "source": [
    "sset = paths.SampleSet(old_store.samplesets[0])"
   ]
  },
  {
   "cell_type": "code",
   "execution_count": 9,
   "metadata": {
    "collapsed": false
   },
   "outputs": [],
   "source": [
    "sset.sanity_check()\n",
    "assert(len(sset)==28)"
   ]
  },
  {
   "cell_type": "markdown",
   "metadata": {},
   "source": [
    "### Setting up special ensembles\n",
    "\n",
    "Whichever way we initially set up the `SampleSet`, at this point it only contains samples for the main sampling trajectories of each transition. Now we need to put trajectories into various auxiliary ensembles."
   ]
  },
  {
   "cell_type": "markdown",
   "metadata": {},
   "source": [
    "#### Multiple state outer ensemble\n",
    "\n",
    "The multiple state outer ensemble is, in fact, sampled during the bootstrapping. However, it is actually sampled once for every state that shares it. It is very easy to find a trajectory that satisfies the ensemble and to load add that sample to our sample set."
   ]
  },
  {
   "cell_type": "code",
   "execution_count": 10,
   "metadata": {
    "collapsed": false
   },
   "outputs": [],
   "source": [
    "for outer_ens in mstis.special_ensembles['ms_outer']:\n",
    "    # doesn't matter which we take, so we take the first\n",
    "    traj = next(s.trajectory for s in old_store.samplesets[0] if outer_ens(s.trajectory)==True)\n",
    "    samp = paths.Sample(\n",
    "            replica=None,\n",
    "            ensemble=outer_ens,\n",
    "            trajectory=traj\n",
    "    )\n",
    "    # now we apply it and correct for the replica ID\n",
    "    sset.append_as_new_replica(samp)"
   ]
  },
  {
   "cell_type": "code",
   "execution_count": 11,
   "metadata": {
    "collapsed": false
   },
   "outputs": [],
   "source": [
    "sset.sanity_check()\n",
    "assert(len(sset)==29)"
   ]
  },
  {
   "cell_type": "markdown",
   "metadata": {},
   "source": [
    "#### Minus interface ensemble\n",
    "\n",
    "The minus interface ensembles do not yet have a trajectory. We will generate them by starting with same-state trajectories (A-to-A, B-to-B, C-to-C) in each interface, and extending into the minus ensemble.\n",
    "\n",
    "* check whether the traj is A-to-A\n",
    "* extend"
   ]
  },
  {
   "cell_type": "markdown",
   "metadata": {},
   "source": [
    "First we need to make sure that the trajectory in the innermost ensemble of each state also ends in that state. This is necessary so that when we extend the trajectory, it can extends into the minus ensemble.\n",
    "\n",
    "If the trajectory isn't right, we run a shooting move on it until it is."
   ]
  },
  {
   "cell_type": "code",
   "execution_count": 12,
   "metadata": {
    "collapsed": false
   },
   "outputs": [],
   "source": [
    "for transition in mstis.sampling_transitions:\n",
    "    innermost_ensemble = transition.ensembles[0]\n",
    "    shooter = None\n",
    "    if not transition.stateA(sset[innermost_ensemble].trajectory[-1]):\n",
    "        shooter = paths.OneWayShootingMover(ensemble=innermost_ensemble,\n",
    "                                            selector=paths.UniformSelector(),\n",
    "                                            engine=engine)\n",
    "        pseudoscheme = paths.LockedMoveScheme(root_mover=shooter)\n",
    "        pseudosim = paths.PathSampling(storage=None, \n",
    "                                       move_scheme=pseudoscheme, \n",
    "                                       globalstate=sset)\n",
    "    while not transition.stateA(sset[innermost_ensemble].trajectory[-1]):\n",
    "        pseudosim.run(1)\n",
    "        sset = pseudosim.globalstate\n",
    "\n",
    "    "
   ]
  },
  {
   "cell_type": "markdown",
   "metadata": {},
   "source": [
    "Now that all the innermost ensembles are safe to use for extending into a minus interface, we extend them into a minus interface:"
   ]
  },
  {
   "cell_type": "code",
   "execution_count": 13,
   "metadata": {
    "collapsed": false
   },
   "outputs": [],
   "source": [
    "def traj_info(traj, ensemble):\n",
    "    return traj.summarize_by_volumes_str(\n",
    "            {\"A\" : ensemble.state_vol,\n",
    "             \"I\" : ~ensemble.state_vol & ensemble.innermost_vol,\n",
    "             \"X\" : ~ensemble.innermost_vol})"
   ]
  },
  {
   "cell_type": "code",
   "execution_count": 14,
   "metadata": {
    "collapsed": false
   },
   "outputs": [
    {
     "name": "stdout",
     "output_type": "stream",
     "text": [
      "Out C0 10 15 20 25 (89) A-X-A-X-A\n",
      "Out B0 10 15 20 25 30 35 40 45 50 55 60 65 70 75 (66) A-X-A-X-A\n",
      "Out A0 10 (14) A-X-A-X-A\n",
      "Out D0 10 (22) A-X-A-X-A\n",
      "Out E0 10 15 (24) A-X-A-X-A\n",
      "Out F0 10 (17) A-X-A-X-A\n"
     ]
    }
   ],
   "source": [
    "minus_samples = []\n",
    "for transition in mstis.sampling_transitions:\n",
    "#    paths.tools.refresh_output('Creating minus sample for %s' % transition.name) \n",
    "    print transition.name,\n",
    "    choices = list()\n",
    "    from_state = transition.stateA\n",
    "    max_length = 10\n",
    "    while len(choices) == 0: \n",
    "        leaveSt = paths.SequentialEnsemble([\n",
    "                paths.AllInXEnsemble(from_state),\n",
    "                paths.SingleFrameEnsemble(\n",
    "                    paths.AllOutXEnsemble(from_state)\n",
    "                )\n",
    "            ])\n",
    "        extend = paths.LengthEnsemble(slice(0,max_length)) & paths.SequentialEnsemble([\n",
    "                paths.AllOutXEnsemble(from_state),\n",
    "                paths.SingleFrameEnsemble(\n",
    "                    paths.AllInXEnsemble(from_state)\n",
    "                )\n",
    "            ])\n",
    "        part1 = sset[transition.ensembles[0]].trajectory\n",
    "        part2 = engine.generate_forward(part1[-1], leaveSt)\n",
    "        part3 = engine.generate_forward(part2[-1], extend)\n",
    "        \n",
    "#        print len(part1), len(part2), len(part3)\n",
    "        \n",
    "        attempt = part1 + part2[1:] + part3[1:]\n",
    "        \n",
    "#         attempt = transition.minus_ensemble.populate_minus_ensemble(\n",
    "#             partial_traj=sset[transition.ensembles[0]].trajectory,\n",
    "#             minus_replica_id=-len(minus_samples)-1,\n",
    "#             engine=engine\n",
    "#         )\n",
    "        choices = transition.minus_ensemble.split(attempt)\n",
    "    \n",
    "        print '%2d' % max_length,\n",
    "        \n",
    "        max_length += 5\n",
    "\n",
    "    print '(%2d) %s' % (len(attempt), traj_info(attempt, transition.minus_ensemble))\n",
    "        \n",
    "    minus_samples.append(\n",
    "        paths.Sample(\n",
    "            replica=-len(minus_samples)-1,\n",
    "            trajectory=choices[0],\n",
    "            ensemble=transition.minus_ensemble\n",
    "        )        \n",
    "    )\n",
    "    \n",
    "sset = sset.apply_samples(minus_samples)"
   ]
  },
  {
   "cell_type": "code",
   "execution_count": 15,
   "metadata": {
    "collapsed": false
   },
   "outputs": [],
   "source": [
    "sset.sanity_check()\n",
    "assert(len(sset)==35)"
   ]
  },
  {
   "cell_type": "code",
   "execution_count": 16,
   "metadata": {
    "collapsed": false
   },
   "outputs": [
    {
     "name": "stdout",
     "output_type": "stream",
     "text": [
      "0 7 I'face 0 True\n",
      "1 48 I'face 1 True\n",
      "2 90 I'face 2 True\n",
      "3 84 I'face 3 True\n",
      "4 84 [TISEnsemble] True\n",
      "5 67 I'face 0 True\n",
      "6 52 I'face 1 True\n",
      "7 87 I'face 2 True\n",
      "8 87 [TISEnsemble] True\n",
      "9 6 I'face 0 True\n",
      "10 66 I'face 1 True\n",
      "11 92 I'face 2 True\n",
      "12 48 I'face 3 True\n",
      "13 48 [TISEnsemble] True\n",
      "14 11 I'face 0 True\n",
      "15 11 I'face 1 True\n",
      "16 48 I'face 2 True\n",
      "17 26 I'face 3 True\n",
      "18 26 [TISEnsemble] True\n",
      "19 16 I'face 0 True\n",
      "20 17 I'face 1 True\n",
      "21 15 I'face 2 True\n",
      "22 15 [TISEnsemble] True\n",
      "23 15 I'face 0 True\n",
      "24 15 I'face 1 True\n",
      "25 33 I'face 2 True\n",
      "26 71 I'face 3 True\n",
      "27 71 [TISEnsemble] True\n",
      "28 90 [UnionEnsemble] True\n",
      "-1 89 [MinusInterfaceEnsemble] True\n",
      "-2 66 [MinusInterfaceEnsemble] True\n",
      "-3 14 [MinusInterfaceEnsemble] True\n",
      "-4 22 [MinusInterfaceEnsemble] True\n",
      "-5 24 [MinusInterfaceEnsemble] True\n",
      "-6 17 [MinusInterfaceEnsemble] True\n"
     ]
    }
   ],
   "source": [
    "for s in sset:\n",
    "    print s.replica, len(s.trajectory), s.ensemble.name, s.ensemble(s.trajectory)"
   ]
  },
  {
   "cell_type": "markdown",
   "metadata": {},
   "source": [
    "## Equilibration\n",
    "\n",
    "In molecular dynamics, you need to equilibrate if you don't start with an equilibrium frame (e.g., if you start with solvent molecules on a grid, your system should equilibrate before you start taking statistics). Similarly, if you start with a set of paths which are far from the path ensemble equilibrium, you need to equilibrate. This could either be because your trajectories are not from the real dynamics (generated with metadynamics, high temperature, etc.) or because your trajectories are not representative of the path ensemble (e.g., if you put transition trajectories into all interfaces).\n",
    "\n",
    "As with MD, running equilibration can be the same process as running the total simulation. However, in path sampling, it doesn't have to be: we can equilibrate without replica exchange moves or path reversal moves, for example. In the example below, we create a `MoveScheme` that only includes shooting movers."
   ]
  },
  {
   "cell_type": "code",
   "execution_count": 17,
   "metadata": {
    "collapsed": false
   },
   "outputs": [],
   "source": [
    "equil_scheme = paths.MoveScheme(mstis)\n",
    "import openpathsampling.analysis.move_strategy as strat\n",
    "equil_scheme.append([\n",
    "        strat.OneWayShootingStrategy(engine=engine), \n",
    "        strat.OrganizeByMoveGroupStrategy()\n",
    "    ])"
   ]
  },
  {
   "cell_type": "code",
   "execution_count": 18,
   "metadata": {
    "collapsed": false
   },
   "outputs": [],
   "source": [
    "equilibration = paths.PathSampling(\n",
    "    storage=None,\n",
    "    globalstate=sset,\n",
    "    move_scheme=equil_scheme\n",
    ")"
   ]
  },
  {
   "cell_type": "code",
   "execution_count": 19,
   "metadata": {
    "collapsed": false
   },
   "outputs": [
    {
     "name": "stdout",
     "output_type": "stream",
     "text": [
      "Working on Monte Carlo cycle number 20.\n",
      "DONE! Completed 20 Monte Carlo cycles.\n"
     ]
    }
   ],
   "source": [
    "equilibration.run(20)"
   ]
  },
  {
   "cell_type": "code",
   "execution_count": 20,
   "metadata": {
    "collapsed": true
   },
   "outputs": [],
   "source": [
    "sset = equilibration.globalstate"
   ]
  },
  {
   "cell_type": "code",
   "execution_count": 22,
   "metadata": {
    "collapsed": true
   },
   "outputs": [],
   "source": [
    "import openpathsampling as paths"
   ]
  },
  {
   "cell_type": "code",
   "execution_count": 23,
   "metadata": {
    "collapsed": false
   },
   "outputs": [],
   "source": [
    "storage = paths.storage.Storage(\"weina_pre.nc\", \"w\")"
   ]
  },
  {
   "cell_type": "code",
   "execution_count": 24,
   "metadata": {
    "collapsed": false
   },
   "outputs": [
    {
     "data": {
      "text/plain": [
       "(store.snapshots[BaseSnapshot],\n",
       " 2,\n",
       " UUID('52e49e51-4765-11e6-a326-000000000042'))"
      ]
     },
     "execution_count": 24,
     "metadata": {},
     "output_type": "execute_result"
    }
   ],
   "source": [
    "storage.save(template)"
   ]
  },
  {
   "cell_type": "code",
   "execution_count": 25,
   "metadata": {
    "collapsed": false
   },
   "outputs": [
    {
     "data": {
      "text/plain": [
       "array([u'52e49e51-4765-11e6-a326-000000000042'], dtype=object)"
      ]
     },
     "execution_count": 25,
     "metadata": {},
     "output_type": "execute_result"
    }
   ],
   "source": [
    "storage.snapshots.variables['uuid'][:]"
   ]
  },
  {
   "cell_type": "code",
   "execution_count": 7,
   "metadata": {
    "collapsed": false
   },
   "outputs": [],
   "source": [
    "tt = old_store.trajectories[0]"
   ]
  },
  {
   "cell_type": "code",
   "execution_count": 8,
   "metadata": {
    "collapsed": false
   },
   "outputs": [
    {
     "name": "stdout",
     "output_type": "stream",
     "text": [
      "True 52e49e51-4765-11e6-a326-00000000000c 4 None\n",
      "True 52e49e51-4765-11e6-a326-00000000013a 6 None\n",
      "True 52e49e51-4765-11e6-a326-000000000154 8 None\n",
      "True 52e49e51-4765-11e6-a326-00000000016e 10 None\n",
      "True 52e49e51-4765-11e6-a326-000000000188 12 None\n",
      "True 52e49e51-4765-11e6-a326-0000000001a2 14 None\n",
      "True 52e49e51-4765-11e6-a326-0000000001bc 16 None\n",
      "True 52e49e51-4765-11e6-a326-0000000001d6 18 None\n"
     ]
    }
   ],
   "source": [
    "for snap in tt.iter_proxies():\n",
    "    i = snap._idx\n",
    "    \n",
    "    print snap._store is old_store.snapshots, i, old_store.snapshots.pos(i), storage.snapshots.pos(i)"
   ]
  },
  {
   "cell_type": "code",
   "execution_count": 9,
   "metadata": {
    "collapsed": false
   },
   "outputs": [
    {
     "data": {
      "text/plain": [
       "UUID('52e49e51-4765-11e6-a326-000000000120')"
      ]
     },
     "execution_count": 9,
     "metadata": {},
     "output_type": "execute_result"
    }
   ],
   "source": [
    "storage.trajectories.save(tt)"
   ]
  },
  {
   "cell_type": "code",
   "execution_count": 26,
   "metadata": {
    "collapsed": false
   },
   "outputs": [
    {
     "data": {
      "text/plain": [
       "(store.engines[DynamicsEngine],\n",
       " 11,\n",
       " UUID('52e49e51-4765-11e6-a326-000000000010'))"
      ]
     },
     "execution_count": 26,
     "metadata": {},
     "output_type": "execute_result"
    }
   ],
   "source": [
    "storage.save(sset)\n",
    "storage.save(mstis)\n",
    "storage.save(engine)"
   ]
  },
  {
   "cell_type": "code",
   "execution_count": 27,
   "metadata": {
    "collapsed": true
   },
   "outputs": [],
   "source": [
    "for tag in ['states', 'state_centers', 'state_letter', 'interface_levels']:\n",
    "    storage.tag[tag] = old_store.tag[tag]"
   ]
  },
  {
   "cell_type": "code",
   "execution_count": 28,
   "metadata": {
    "collapsed": true
   },
   "outputs": [],
   "source": [
    "storage.tag['engine'] = engine\n",
    "storage.tag['initial_sampleset'] = sset\n",
    "storage.tag['mstis'] = mstis"
   ]
  },
  {
   "cell_type": "code",
   "execution_count": 29,
   "metadata": {
    "collapsed": true
   },
   "outputs": [],
   "source": [
    "import os"
   ]
  },
  {
   "cell_type": "code",
   "execution_count": 30,
   "metadata": {
    "collapsed": false
   },
   "outputs": [
    {
     "name": "stdout",
     "output_type": "stream",
     "text": [
      "filesize : 37 MB\n"
     ]
    }
   ],
   "source": [
    "print 'filesize : %d MB' % (os.stat('weina_pre.nc').st_size / 1024 / 1024)"
   ]
  },
  {
   "cell_type": "code",
   "execution_count": 31,
   "metadata": {
    "collapsed": true
   },
   "outputs": [],
   "source": [
    "storage.close()"
   ]
  },
  {
   "cell_type": "code",
   "execution_count": null,
   "metadata": {
    "collapsed": true
   },
   "outputs": [],
   "source": []
  }
 ],
 "metadata": {
  "kernelspec": {
   "display_name": "Python 2",
   "language": "python",
   "name": "python2"
  },
  "language_info": {
   "codemirror_mode": {
    "name": "ipython",
    "version": 2
   },
   "file_extension": ".py",
   "mimetype": "text/x-python",
   "name": "python",
   "nbconvert_exporter": "python",
   "pygments_lexer": "ipython2",
   "version": "2.7.11"
  }
 },
 "nbformat": 4,
 "nbformat_minor": 0
}
