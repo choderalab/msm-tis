{
 "cells": [
  {
   "cell_type": "code",
   "execution_count": 1,
   "metadata": {
    "collapsed": true
   },
   "outputs": [],
   "source": [
    "import openpathsampling as paths\n",
    "storage = paths.storage.Storage(\"mistis.nc\", \"r\")"
   ]
  },
  {
   "cell_type": "code",
   "execution_count": 2,
   "metadata": {
    "collapsed": false
   },
   "outputs": [],
   "source": [
    "mistis = storage.networks.load(0)"
   ]
  },
  {
   "cell_type": "code",
   "execution_count": 3,
   "metadata": {
    "collapsed": false
   },
   "outputs": [
    {
     "name": "stdout",
     "output_type": "stream",
     "text": [
      "<openpathsampling.analysis.tis_analysis.RETISTransition object at 0x1103111d0>\n",
      "<openpathsampling.analysis.tis_analysis.RETISTransition object at 0x1103021d0>\n",
      "<openpathsampling.analysis.tis_analysis.RETISTransition object at 0x1105d05d0>\n"
     ]
    }
   ],
   "source": [
    "for t in mistis.input_transitions:\n",
    "    print repr(t)"
   ]
  },
  {
   "cell_type": "code",
   "execution_count": 4,
   "metadata": {
    "collapsed": false
   },
   "outputs": [
    {
     "name": "stdout",
     "output_type": "stream",
     "text": [
      "[<openpathsampling.pathmover.ReplicaExchangeMover object at 0x110349c10>, <openpathsampling.pathmover.ReplicaExchangeMover object at 0x110302ed0>, <openpathsampling.pathmover.ReplicaExchangeMover object at 0x1105c2090>, <openpathsampling.pathmover.ReplicaExchangeMover object at 0x11031a490>, <openpathsampling.pathmover.ReplicaExchangeMover object at 0x110349310>, <openpathsampling.pathmover.ReplicaExchangeMover object at 0x110359c50>, <openpathsampling.pathmover.ReplicaExchangeMover object at 0x1105c2890>]\n"
     ]
    }
   ],
   "source": [
    "print mistis.movers['repex']"
   ]
  },
  {
   "cell_type": "code",
   "execution_count": 8,
   "metadata": {
    "collapsed": false
   },
   "outputs": [
    {
     "name": "stdout",
     "output_type": "stream",
     "text": [
      "True\n",
      "True\n",
      "True\n"
     ]
    }
   ],
   "source": [
    "# this should be true if we restored correctly\n",
    "for ens in mistis.sampling_transitions[0].ensembles:\n",
    "    print ens in storage.ensembles[:]"
   ]
  }
 ],
 "metadata": {
  "kernelspec": {
   "display_name": "Python 2",
   "language": "python",
   "name": "python2"
  },
  "language_info": {
   "codemirror_mode": {
    "name": "ipython",
    "version": 2
   },
   "file_extension": ".py",
   "mimetype": "text/x-python",
   "name": "python",
   "nbconvert_exporter": "python",
   "pygments_lexer": "ipython2",
   "version": "2.7.10"
  }
 },
 "nbformat": 4,
 "nbformat_minor": 0
}
