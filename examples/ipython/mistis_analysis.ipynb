{
 "cells": [
  {
   "cell_type": "code",
   "execution_count": 1,
   "metadata": {
    "collapsed": false
   },
   "outputs": [],
   "source": [
    "%matplotlib inline\n",
    "import matplotlib.pyplot as plt\n",
    "import numpy as np\n",
    "\n",
    "import openpathsampling as paths\n",
    "from openpathsampling.storage import Storage\n",
    "storage = Storage(\"mistis.nc\", \"r\")"
   ]
  },
  {
   "cell_type": "code",
   "execution_count": 2,
   "metadata": {
    "collapsed": false
   },
   "outputs": [],
   "source": [
    "mistis = storage.networks.load(0)"
   ]
  },
  {
   "cell_type": "code",
   "execution_count": 3,
   "metadata": {
    "collapsed": false
   },
   "outputs": [
    {
     "name": "stdout",
     "output_type": "stream",
     "text": [
      "True <openpathsampling.ensemble.TISEnsemble object at 0x10f29a6d0>\n",
      "True <openpathsampling.ensemble.TISEnsemble object at 0x10f2bcfd0>\n",
      "True <openpathsampling.ensemble.TISEnsemble object at 0x10f2897d0>\n"
     ]
    }
   ],
   "source": [
    "# this should be true if we restored correctly\n",
    "for ens in mistis.sampling_transitions[0].ensembles:\n",
    "    print ens in storage.ensembles[:], repr(ens)\n"
   ]
  },
  {
   "cell_type": "code",
   "execution_count": 4,
   "metadata": {
    "collapsed": false
   },
   "outputs": [],
   "source": [
    "mistis.hist_args['max_lambda'] = { 'bin_width' : 0.02, 'bin_range' : (-0.3, 0.5) }\n",
    "mistis.hist_args['pathlength'] = { 'bin_width' : 5, 'bin_range' : (0, 150) }"
   ]
  },
  {
   "cell_type": "code",
   "execution_count": 5,
   "metadata": {
    "collapsed": false
   },
   "outputs": [
    {
     "name": "stdout",
     "output_type": "stream",
     "text": [
      "repex ran 13.4328358209% of the cycles with acceptance 10/27 (0.37037037037) \n",
      "msouter_shooting ran 5.47263681592% of the cycles with acceptance 8/11 (0.727272727273) \n",
      "msouter_repex ran 3.48258706468% of the cycles with acceptance 2/7 (0.285714285714) \n",
      "pathreversal ran 22.3880597015% of the cycles with acceptance 32/45 (0.711111111111) \n",
      "shooting ran 51.2437810945% of the cycles with acceptance 75/103 (0.728155339806) \n",
      "minus ran 0.497512437811% of the cycles with acceptance 1/1 (1.0) \n",
      "msouter_pathreversal ran 2.98507462687% of the cycles with acceptance 6/6 (1.0) \n"
     ]
    }
   ],
   "source": [
    "movers = paths.MoveScheme(mistis)\n",
    "movers.move_summary(storage)"
   ]
  },
  {
   "cell_type": "code",
   "execution_count": 6,
   "metadata": {
    "collapsed": false
   },
   "outputs": [],
   "source": [
    "for trans in mistis.transitions.values():\n",
    "    trans._flux = 1.0"
   ]
  },
  {
   "cell_type": "code",
   "execution_count": 7,
   "metadata": {
    "collapsed": false
   },
   "outputs": [
    {
     "data": {
      "text/html": [
       "<div>\n",
       "<table border=\"1\" class=\"dataframe\">\n",
       "  <thead>\n",
       "    <tr style=\"text-align: right;\">\n",
       "      <th></th>\n",
       "      <th>({x|opX(x) in [0.3, inf]} and {x|opY(x) in [-inf, -0.3]})</th>\n",
       "      <th>({x|opX(x) in [-inf, -0.3]} and {x|opY(x) in [0.3, inf]})</th>\n",
       "      <th>({x|opX(x) in [-inf, -0.3]} and {x|opY(x) in [-inf, -0.3]})</th>\n",
       "    </tr>\n",
       "  </thead>\n",
       "  <tbody>\n",
       "    <tr>\n",
       "      <th>({x|opX(x) in [0.3, inf]} and {x|opY(x) in [-inf, -0.3]})</th>\n",
       "      <td>NaN</td>\n",
       "      <td>NaN</td>\n",
       "      <td>0.05196408</td>\n",
       "    </tr>\n",
       "    <tr>\n",
       "      <th>({x|opX(x) in [-inf, -0.3]} and {x|opY(x) in [-inf, -0.3]})</th>\n",
       "      <td>0.4669794</td>\n",
       "      <td>1</td>\n",
       "      <td>NaN</td>\n",
       "    </tr>\n",
       "  </tbody>\n",
       "</table>\n",
       "</div>"
      ],
      "text/plain": [
       "                                                   ({x|opX(x) in [0.3, inf]} and {x|opY(x) in [-inf, -0.3]})  \\\n",
       "({x|opX(x) in [0.3, inf]} and {x|opY(x) in [-in...                                                NaN          \n",
       "({x|opX(x) in [-inf, -0.3]} and {x|opY(x) in [-...                                          0.4669794          \n",
       "\n",
       "                                                   ({x|opX(x) in [-inf, -0.3]} and {x|opY(x) in [0.3, inf]})  \\\n",
       "({x|opX(x) in [0.3, inf]} and {x|opY(x) in [-in...                                                NaN          \n",
       "({x|opX(x) in [-inf, -0.3]} and {x|opY(x) in [-...                                                  1          \n",
       "\n",
       "                                                   ({x|opX(x) in [-inf, -0.3]} and {x|opY(x) in [-inf, -0.3]})  \n",
       "({x|opX(x) in [0.3, inf]} and {x|opY(x) in [-in...                                         0.05196408           \n",
       "({x|opX(x) in [-inf, -0.3]} and {x|opY(x) in [-...                                                NaN           "
      ]
     },
     "execution_count": 7,
     "metadata": {},
     "output_type": "execute_result"
    }
   ],
   "source": [
    "mistis.rate_matrix(storage, force=True)"
   ]
  },
  {
   "cell_type": "code",
   "execution_count": 8,
   "metadata": {
    "collapsed": false
   },
   "outputs": [],
   "source": [
    "trans = mistis.transitions.values()[0]\n",
    "trans_hists = trans.histograms['max_lambda']"
   ]
  },
  {
   "cell_type": "code",
   "execution_count": 9,
   "metadata": {
    "collapsed": false
   },
   "outputs": [
    {
     "data": {
      "text/plain": [
       "[<matplotlib.lines.Line2D at 0x1121f0c10>]"
      ]
     },
     "execution_count": 9,
     "metadata": {},
     "output_type": "execute_result"
    },
    {
     "data": {
      "image/png": "[encoded data removed]",
      "text/plain": [
       "<matplotlib.figure.Figure at 0x11213c810>"
      ]
     },
     "metadata": {},
     "output_type": "display_data"
    }
   ],
   "source": [
    "for hist in trans_hists:\n",
    "    cross_prob = trans_hists[hist].reverse_cumulative()\n",
    "    plt.plot(cross_prob.x, np.log(cross_prob))\n",
    "plt.plot(trans.tcp.x, np.log(trans.tcp))"
   ]
  }
 ],
 "metadata": {
  "kernelspec": {
   "display_name": "Python 2",
   "language": "python",
   "name": "python2"
  },
  "language_info": {
   "codemirror_mode": {
    "name": "ipython",
    "version": 2
   },
   "file_extension": ".py",
   "mimetype": "text/x-python",
   "name": "python",
   "nbconvert_exporter": "python",
   "pygments_lexer": "ipython2",
   "version": "2.7.10"
  }
 },
 "nbformat": 4,
 "nbformat_minor": 0
}
