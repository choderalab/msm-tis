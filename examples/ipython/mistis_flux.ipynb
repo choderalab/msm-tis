{
 "cells": [
  {
   "cell_type": "code",
   "execution_count": 1,
   "metadata": {
    "collapsed": false
   },
   "outputs": [],
   "source": [
    "%matplotlib inline\n",
    "import openpathsampling as paths\n",
    "import numpy as np"
   ]
  },
  {
   "cell_type": "markdown",
   "metadata": {},
   "source": [
    "As always, we load things from files so we don't have to set them up again."
   ]
  },
  {
   "cell_type": "code",
   "execution_count": 2,
   "metadata": {
    "collapsed": false
   },
   "outputs": [],
   "source": [
    "old = paths.AnalysisStorage(\"mistis.nc\")\n",
    "engine = old.engines[0]\n",
    "network = old.networks[0]\n",
    "states = set(network.initial_states + network.final_states)"
   ]
  },
  {
   "cell_type": "markdown",
   "metadata": {},
   "source": [
    "The `flux_pairs` variable is a list of 2-tuples, where the first element is the state we're calculating the flux out of, and the second element is the interface we're calculating the flux through."
   ]
  },
  {
   "cell_type": "code",
   "execution_count": 3,
   "metadata": {
    "collapsed": true
   },
   "outputs": [],
   "source": [
    "flux_pairs = [(trans.stateA, trans.interfaces[0]) for trans in network.transitions.values()]"
   ]
  },
  {
   "cell_type": "markdown",
   "metadata": {},
   "source": [
    "Set up the simulation and run it!"
   ]
  },
  {
   "cell_type": "code",
   "execution_count": 4,
   "metadata": {
    "collapsed": false
   },
   "outputs": [],
   "source": [
    "sim = paths.DirectSimulation(\n",
    "    storage=None,\n",
    "    engine=engine,\n",
    "    states=states,\n",
    "    flux_pairs=flux_pairs,\n",
    "    initial_snapshot=old.snapshots[0]\n",
    ")"
   ]
  },
  {
   "cell_type": "code",
   "execution_count": 5,
   "metadata": {
    "collapsed": false
   },
   "outputs": [
    {
     "name": "stdout",
     "output_type": "stream",
     "text": [
      "CPU times: user 6min 6s, sys: 1.13 s, total: 6min 7s\n",
      "Wall time: 6min 10s\n"
     ]
    }
   ],
   "source": [
    "%%time\n",
    "sim.run(150000)"
   ]
  },
  {
   "cell_type": "markdown",
   "metadata": {},
   "source": [
    "Now we move on to the analysis."
   ]
  },
  {
   "cell_type": "code",
   "execution_count": 6,
   "metadata": {
    "collapsed": false
   },
   "outputs": [
    {
     "data": {
      "text/html": [
       "<div>\n",
       "<table border=\"1\" class=\"dataframe\">\n",
       "  <thead>\n",
       "    <tr style=\"text-align: right;\">\n",
       "      <th></th>\n",
       "      <th>({x|opX(x) in [-inf, -0.3]} and {x|opY(x) in [-inf, -0.3]})</th>\n",
       "      <th>({x|opX(x) in [-inf, -0.3]} and {x|opY(x) in [0.3, inf]})</th>\n",
       "      <th>({x|opX(x) in [0.3, inf]} and {x|opY(x) in [-inf, -0.3]})</th>\n",
       "    </tr>\n",
       "  </thead>\n",
       "  <tbody>\n",
       "    <tr>\n",
       "      <th>({x|opX(x) in [-inf, -0.3]} and {x|opY(x) in [-inf, -0.3]})</th>\n",
       "      <td>NaN</td>\n",
       "      <td>0.000113593</td>\n",
       "      <td>7.93139e-05</td>\n",
       "    </tr>\n",
       "    <tr>\n",
       "      <th>({x|opX(x) in [-inf, -0.3]} and {x|opY(x) in [0.3, inf]})</th>\n",
       "      <td>5.23322e-05</td>\n",
       "      <td>NaN</td>\n",
       "      <td>5.16412e-05</td>\n",
       "    </tr>\n",
       "    <tr>\n",
       "      <th>({x|opX(x) in [0.3, inf]} and {x|opY(x) in [-inf, -0.3]})</th>\n",
       "      <td>5.8578e-05</td>\n",
       "      <td>4.93234e-05</td>\n",
       "      <td>NaN</td>\n",
       "    </tr>\n",
       "  </tbody>\n",
       "</table>\n",
       "</div>"
      ],
      "text/plain": [
       "                                                   ({x|opX(x) in [-inf, -0.3]} and {x|opY(x) in [-inf, -0.3]})  \\\n",
       "({x|opX(x) in [-inf, -0.3]} and {x|opY(x) in [-...                                                NaN            \n",
       "({x|opX(x) in [-inf, -0.3]} and {x|opY(x) in [0...                                        5.23322e-05            \n",
       "({x|opX(x) in [0.3, inf]} and {x|opY(x) in [-in...                                         5.8578e-05            \n",
       "\n",
       "                                                   ({x|opX(x) in [-inf, -0.3]} and {x|opY(x) in [0.3, inf]})  \\\n",
       "({x|opX(x) in [-inf, -0.3]} and {x|opY(x) in [-...                                        0.000113593          \n",
       "({x|opX(x) in [-inf, -0.3]} and {x|opY(x) in [0...                                                NaN          \n",
       "({x|opX(x) in [0.3, inf]} and {x|opY(x) in [-in...                                        4.93234e-05          \n",
       "\n",
       "                                                   ({x|opX(x) in [0.3, inf]} and {x|opY(x) in [-inf, -0.3]})  \n",
       "({x|opX(x) in [-inf, -0.3]} and {x|opY(x) in [-...                                        7.93139e-05         \n",
       "({x|opX(x) in [-inf, -0.3]} and {x|opY(x) in [0...                                        5.16412e-05         \n",
       "({x|opX(x) in [0.3, inf]} and {x|opY(x) in [-in...                                                NaN         "
      ]
     },
     "execution_count": 6,
     "metadata": {},
     "output_type": "execute_result"
    }
   ],
   "source": [
    "sim.rate_matrix"
   ]
  },
  {
   "cell_type": "code",
   "execution_count": 7,
   "metadata": {
    "collapsed": false
   },
   "outputs": [
    {
     "data": {
      "text/plain": [
       "{(<openpathsampling.volume.IntersectionVolume at 0x11595a290>,\n",
       "  <openpathsampling.volume.IntersectionVolume at 0x11595a390>): 20,\n",
       " (<openpathsampling.volume.IntersectionVolume at 0x11595a290>,\n",
       "  <openpathsampling.volume.IntersectionVolume at 0x11595a990>): 10,\n",
       " (<openpathsampling.volume.IntersectionVolume at 0x11595a390>,\n",
       "  <openpathsampling.volume.IntersectionVolume at 0x11595a290>): 19,\n",
       " (<openpathsampling.volume.IntersectionVolume at 0x11595a390>,\n",
       "  <openpathsampling.volume.IntersectionVolume at 0x11595a990>): 16,\n",
       " (<openpathsampling.volume.IntersectionVolume at 0x11595a990>,\n",
       "  <openpathsampling.volume.IntersectionVolume at 0x11595a290>): 11,\n",
       " (<openpathsampling.volume.IntersectionVolume at 0x11595a990>,\n",
       "  <openpathsampling.volume.IntersectionVolume at 0x11595a390>): 16}"
      ]
     },
     "execution_count": 7,
     "metadata": {},
     "output_type": "execute_result"
    }
   ],
   "source": [
    "sim.n_transitions"
   ]
  },
  {
   "cell_type": "code",
   "execution_count": 8,
   "metadata": {
    "collapsed": false
   },
   "outputs": [
    {
     "name": "stdout",
     "output_type": "stream",
     "text": [
      "A -inf<opY<-0.3 0.00130918783318\n",
      "B -inf<opXprime<-0.3 0.00129306050463\n",
      "A -inf<opX<-0.3 0.00134206626387\n"
     ]
    }
   ],
   "source": [
    "fluxes = sim.fluxes\n",
    "for f in fluxes:\n",
    "    print f[0].name, f[1].name, fluxes[f]"
   ]
  },
  {
   "cell_type": "code",
   "execution_count": 9,
   "metadata": {
    "collapsed": false
   },
   "outputs": [
    {
     "data": {
      "text/plain": [
       "{(<openpathsampling.volume.IntersectionVolume at 0x11595a390>,\n",
       "  <openpathsampling.volume.CVRangeVolume at 0x11593e9d0>): 501,\n",
       " (<openpathsampling.volume.IntersectionVolume at 0x11595a390>,\n",
       "  <openpathsampling.volume.CVRangeVolume at 0x115952cd0>): 518,\n",
       " (<openpathsampling.volume.IntersectionVolume at 0x11595a990>,\n",
       "  <openpathsampling.volume.CVRangeVolume at 0x115945b90>): 610}"
      ]
     },
     "execution_count": 9,
     "metadata": {},
     "output_type": "execute_result"
    }
   ],
   "source": [
    "sim.n_flux_events"
   ]
  },
  {
   "cell_type": "code",
   "execution_count": null,
   "metadata": {
    "collapsed": true
   },
   "outputs": [],
   "source": []
  }
 ],
 "metadata": {
  "kernelspec": {
   "display_name": "Python 2",
   "language": "python",
   "name": "python2"
  },
  "language_info": {
   "codemirror_mode": {
    "name": "ipython",
    "version": 2
   },
   "file_extension": ".py",
   "mimetype": "text/x-python",
   "name": "python",
   "nbconvert_exporter": "python",
   "pygments_lexer": "ipython2",
   "version": "2.7.11"
  }
 },
 "nbformat": 4,
 "nbformat_minor": 0
}
