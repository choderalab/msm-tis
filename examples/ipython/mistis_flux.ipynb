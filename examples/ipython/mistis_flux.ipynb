{
 "cells": [
  {
   "cell_type": "code",
   "execution_count": 1,
   "metadata": {
    "collapsed": false
   },
   "outputs": [],
   "source": [
    "%matplotlib inline\n",
    "import openpathsampling as paths\n",
    "import numpy as np\n",
    "\n",
    "from openpathsampling.pathsimulator import DirectSimulation # until officially added"
   ]
  },
  {
   "cell_type": "markdown",
   "metadata": {},
   "source": [
    "As always, we load things from files so we don't have to set them up again."
   ]
  },
  {
   "cell_type": "code",
   "execution_count": 2,
   "metadata": {
    "collapsed": false
   },
   "outputs": [],
   "source": [
    "old = paths.AnalysisStorage(\"mistis.nc\")\n",
    "engine = old.engines[0]\n",
    "network = old.networks[0]\n",
    "states = set(network.initial_states + network.final_states)"
   ]
  },
  {
   "cell_type": "markdown",
   "metadata": {},
   "source": [
    "The `flux_pairs` variable is a list of 2-tuples, where the first element is the state we're calculating the flux out of, and the second element in the interface we're calculating the flux through."
   ]
  },
  {
   "cell_type": "code",
   "execution_count": 3,
   "metadata": {
    "collapsed": true
   },
   "outputs": [],
   "source": [
    "flux_pairs = [(trans.stateA, trans.interfaces[0]) for trans in network.transitions.values()]"
   ]
  },
  {
   "cell_type": "markdown",
   "metadata": {},
   "source": [
    "Set up the simulation and run it!"
   ]
  },
  {
   "cell_type": "code",
   "execution_count": 4,
   "metadata": {
    "collapsed": false
   },
   "outputs": [],
   "source": [
    "sim = DirectSimulation(\n",
    "    storage=None,\n",
    "    engine=engine,\n",
    "    states=states,\n",
    "    flux_pairs=flux_pairs,\n",
    "    initial_snapshot=old.snapshots[0]\n",
    ")"
   ]
  },
  {
   "cell_type": "code",
   "execution_count": 5,
   "metadata": {
    "collapsed": false
   },
   "outputs": [
    {
     "name": "stdout",
     "output_type": "stream",
     "text": [
      "CPU times: user 34.6 s, sys: 40 ms, total: 34.7 s\n",
      "Wall time: 34.7 s\n"
     ]
    }
   ],
   "source": [
    "%%time\n",
    "sim.run(150000)"
   ]
  },
  {
   "cell_type": "markdown",
   "metadata": {},
   "source": [
    "Now we move on to the analysis."
   ]
  },
  {
   "cell_type": "code",
   "execution_count": 8,
   "metadata": {
    "collapsed": false
   },
   "outputs": [
    {
     "data": {
      "text/html": [
       "<div>\n",
       "<table border=\"1\" class=\"dataframe\">\n",
       "  <thead>\n",
       "    <tr style=\"text-align: right;\">\n",
       "      <th></th>\n",
       "      <th>({x|opX(x) in [0.3, inf]} and {x|opY(x) in [-inf, -0.3]})</th>\n",
       "      <th>({x|opX(x) in [-inf, -0.3]} and {x|opY(x) in [-inf, -0.3]})</th>\n",
       "      <th>({x|opX(x) in [-inf, -0.3]} and {x|opY(x) in [0.3, inf]})</th>\n",
       "    </tr>\n",
       "  </thead>\n",
       "  <tbody>\n",
       "    <tr>\n",
       "      <th>({x|opX(x) in [0.3, inf]} and {x|opY(x) in [-inf, -0.3]})</th>\n",
       "      <td>NaN</td>\n",
       "      <td>4.8746e-05</td>\n",
       "      <td>0.000285878</td>\n",
       "    </tr>\n",
       "    <tr>\n",
       "      <th>({x|opX(x) in [-inf, -0.3]} and {x|opY(x) in [-inf, -0.3]})</th>\n",
       "      <td>0.00127065</td>\n",
       "      <td>NaN</td>\n",
       "      <td>0.000315457</td>\n",
       "    </tr>\n",
       "    <tr>\n",
       "      <th>({x|opX(x) in [-inf, -0.3]} and {x|opY(x) in [0.3, inf]})</th>\n",
       "      <td>2.74699e-05</td>\n",
       "      <td>0.00016372</td>\n",
       "      <td>NaN</td>\n",
       "    </tr>\n",
       "  </tbody>\n",
       "</table>\n",
       "</div>"
      ],
      "text/plain": [
       "                                                   ({x|opX(x) in [0.3, inf]} and {x|opY(x) in [-inf, -0.3]})  \\\n",
       "({x|opX(x) in [0.3, inf]} and {x|opY(x) in [-in...                                                NaN          \n",
       "({x|opX(x) in [-inf, -0.3]} and {x|opY(x) in [-...                                         0.00127065          \n",
       "({x|opX(x) in [-inf, -0.3]} and {x|opY(x) in [0...                                        2.74699e-05          \n",
       "\n",
       "                                                   ({x|opX(x) in [-inf, -0.3]} and {x|opY(x) in [-inf, -0.3]})  \\\n",
       "({x|opX(x) in [0.3, inf]} and {x|opY(x) in [-in...                                         4.8746e-05            \n",
       "({x|opX(x) in [-inf, -0.3]} and {x|opY(x) in [-...                                                NaN            \n",
       "({x|opX(x) in [-inf, -0.3]} and {x|opY(x) in [0...                                         0.00016372            \n",
       "\n",
       "                                                   ({x|opX(x) in [-inf, -0.3]} and {x|opY(x) in [0.3, inf]})  \n",
       "({x|opX(x) in [0.3, inf]} and {x|opY(x) in [-in...                                        0.000285878         \n",
       "({x|opX(x) in [-inf, -0.3]} and {x|opY(x) in [-...                                        0.000315457         \n",
       "({x|opX(x) in [-inf, -0.3]} and {x|opY(x) in [0...                                                NaN         "
      ]
     },
     "execution_count": 8,
     "metadata": {},
     "output_type": "execute_result"
    }
   ],
   "source": [
    "sim.rate_matrix"
   ]
  },
  {
   "cell_type": "code",
   "execution_count": 9,
   "metadata": {
    "collapsed": false
   },
   "outputs": [
    {
     "data": {
      "text/plain": [
       "{(<openpathsampling.volume.IntersectionVolume at 0x115180f10>,\n",
       "  <openpathsampling.volume.IntersectionVolume at 0x11526d9d0>): 2,\n",
       " (<openpathsampling.volume.IntersectionVolume at 0x115180f10>,\n",
       "  <openpathsampling.volume.IntersectionVolume at 0x11526de90>): 1,\n",
       " (<openpathsampling.volume.IntersectionVolume at 0x11526d9d0>,\n",
       "  <openpathsampling.volume.IntersectionVolume at 0x115180f10>): 1,\n",
       " (<openpathsampling.volume.IntersectionVolume at 0x11526d9d0>,\n",
       "  <openpathsampling.volume.IntersectionVolume at 0x11526de90>): 2,\n",
       " (<openpathsampling.volume.IntersectionVolume at 0x11526de90>,\n",
       "  <openpathsampling.volume.IntersectionVolume at 0x115180f10>): 2,\n",
       " (<openpathsampling.volume.IntersectionVolume at 0x11526de90>,\n",
       "  <openpathsampling.volume.IntersectionVolume at 0x11526d9d0>): 1}"
      ]
     },
     "execution_count": 9,
     "metadata": {},
     "output_type": "execute_result"
    }
   ],
   "source": [
    "sim.n_transitions"
   ]
  },
  {
   "cell_type": "code",
   "execution_count": 10,
   "metadata": {
    "collapsed": false
   },
   "outputs": [
    {
     "data": {
      "text/plain": [
       "{(<openpathsampling.volume.IntersectionVolume at 0x115180f10>,\n",
       "  <openpathsampling.volume.CVRangeVolume at 0x115180e90>): 1.4441222676433058e-05,\n",
       " (<openpathsampling.volume.IntersectionVolume at 0x11526d9d0>,\n",
       "  <openpathsampling.volume.CVRangeVolume at 0x115255b90>): 1.5083045633215883e-05,\n",
       " (<openpathsampling.volume.IntersectionVolume at 0x11526d9d0>,\n",
       "  <openpathsampling.volume.CVRangeVolume at 0x1152a65d0>): 2.6099058207808377e-05}"
      ]
     },
     "execution_count": 10,
     "metadata": {},
     "output_type": "execute_result"
    }
   ],
   "source": [
    "sim.fluxes"
   ]
  },
  {
   "cell_type": "code",
   "execution_count": 11,
   "metadata": {
    "collapsed": false
   },
   "outputs": [
    {
     "data": {
      "text/plain": [
       "{(<openpathsampling.volume.IntersectionVolume at 0x115180f10>,\n",
       "  <openpathsampling.volume.CVRangeVolume at 0x115180e90>): 63,\n",
       " (<openpathsampling.volume.IntersectionVolume at 0x11526d9d0>,\n",
       "  <openpathsampling.volume.CVRangeVolume at 0x115255b90>): 14,\n",
       " (<openpathsampling.volume.IntersectionVolume at 0x11526d9d0>,\n",
       "  <openpathsampling.volume.CVRangeVolume at 0x1152a65d0>): 17}"
      ]
     },
     "execution_count": 11,
     "metadata": {},
     "output_type": "execute_result"
    }
   ],
   "source": [
    "sim.n_flux_events"
   ]
  },
  {
   "cell_type": "code",
   "execution_count": null,
   "metadata": {
    "collapsed": true
   },
   "outputs": [],
   "source": []
  }
 ],
 "metadata": {
  "kernelspec": {
   "display_name": "Python 2",
   "language": "python",
   "name": "python2"
  },
  "language_info": {
   "codemirror_mode": {
    "name": "ipython",
    "version": 2
   },
   "file_extension": ".py",
   "mimetype": "text/x-python",
   "name": "python",
   "nbconvert_exporter": "python",
   "pygments_lexer": "ipython2",
   "version": "2.7.11"
  }
 },
 "nbformat": 4,
 "nbformat_minor": 0
}
