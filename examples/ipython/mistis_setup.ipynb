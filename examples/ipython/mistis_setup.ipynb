{
 "cells": [
  {
   "cell_type": "code",
   "execution_count": null,
   "metadata": {
    "collapsed": true
   },
   "outputs": [],
   "source": [
    "%matplotlib inline\n",
    "import openpathsampling as paths\n",
    "import numpy as np\n",
    "from toy_plot_helpers import ToyPlot"
   ]
  },
  {
   "cell_type": "code",
   "execution_count": null,
   "metadata": {
    "collapsed": false
   },
   "outputs": [],
   "source": [
    "import openpathsampling.toy_dynamics as toys\n",
    "plot = ToyPlot()\n",
    "pes = (\n",
    "    toys.toy_pes.OuterWalls([1.0, 1.0], [0.0, 0.0]) +\n",
    "    toys.toy_pes.Gaussian(-0.7, [12.0, 12.0], [-0.5, 0.5]) +\n",
    "    toys.toy_pes.Gaussian(-0.7, [12.0, 12.0], [-0.5, -0.5]) +\n",
    "    toys.toy_pes.Gaussian(-0.7, [12.0, 12.0], [0.5, -0.5])\n",
    ")\n",
    "\n",
    "plot.contour_range = np.arange(-1.5, 1.0, 0.1)\n",
    "\n",
    "topology=paths.ToyTopology(\n",
    "    n_spatial = 2,\n",
    "    masses =[1.0, 1.0],\n",
    "    pes = pes\n",
    ")\n",
    "\n",
    "template = paths.Snapshot(\n",
    "    coordinates=np.array([[-0.5, -0.5]]), \n",
    "    velocities=np.array([[0.0,0.0]]),\n",
    "    potential_energy = 0.0, # Important to set energies dimensionless otherwise kcal/mol is default\n",
    "    kinetic_energy = 0.0,\n",
    "    topology=topology\n",
    ")\n",
    "\n",
    "integ = toys.toy_integrators.LangevinBAOABIntegrator(dt=0.02, temperature=0.1, gamma=2.5)\n",
    "\n",
    "options={\n",
    "    'integ' : integ,\n",
    "    'n_frames_max' : 5000,\n",
    "    'nsteps_per_frame' : 10\n",
    "}\n",
    "\n",
    "toy_eng = toys.toy_engine.ToyEngine(\n",
    "    options=options,\n",
    "    template=template\n",
    ")\n",
    "toy_eng.initialized = True\n",
    "\n",
    "toy_eng.current_snapshot = template\n",
    "paths.PathMover.engine = toy_eng"
   ]
  },
  {
   "cell_type": "code",
   "execution_count": null,
   "metadata": {
    "collapsed": false
   },
   "outputs": [],
   "source": [
    "plot.add_pes(pes)\n",
    "plot.plot()"
   ]
  },
  {
   "cell_type": "code",
   "execution_count": null,
   "metadata": {
    "collapsed": false
   },
   "outputs": [],
   "source": [
    "def xval(snapshot):\n",
    "    return snapshot.xyz[0][0]\n",
    "\n",
    "def xprime(snapshot):\n",
    "    # this only exists until we set up the ability for the order parameter to decrease\n",
    "    return -snapshot.xyz[0][0]\n",
    "\n",
    "def yval(snapshot):\n",
    "    return snapshot.xyz[0][1]\n",
    "    \n",
    "opX = paths.CV_Function(name=\"opX\", fcn=xval)\n",
    "opY = paths.CV_Function(name=\"opY\", fcn=yval)\n",
    "opXprime = paths.CV_Function(name=\"opXprime\", fcn=xprime)"
   ]
  },
  {
   "cell_type": "code",
   "execution_count": null,
   "metadata": {
    "collapsed": false
   },
   "outputs": [],
   "source": [
    "x_under_min = paths.CVRangeVolume(opX, float(\"-inf\"), -0.3)\n",
    "x_over_max = paths.CVRangeVolume(opX, 0.3, float(\"inf\")) \n",
    "y_under_min = paths.CVRangeVolume(opY, float(\"-inf\"), -0.3)\n",
    "y_over_max = paths.CVRangeVolume(opY, 0.3, float(\"inf\")) \n",
    "\n",
    "stateA = x_under_min & y_under_min\n",
    "stateB = x_over_max & y_under_min\n",
    "stateC = x_under_min & y_over_max"
   ]
  },
  {
   "cell_type": "code",
   "execution_count": null,
   "metadata": {
    "collapsed": false
   },
   "outputs": [],
   "source": [
    "#plot.add_states([stateA, stateB, stateC])\n",
    "#plot.plot()"
   ]
  },
  {
   "cell_type": "code",
   "execution_count": null,
   "metadata": {
    "collapsed": true
   },
   "outputs": [],
   "source": [
    "interfacesAB = paths.VolumeFactory.CVRangeVolumeSet(opX, float(\"-inf\"), [-0.3, -0.2, -0.1, 0.0])\n",
    "interfacesAC = paths.VolumeFactory.CVRangeVolumeSet(opY, float(\"-inf\"), [-0.3, -0.2, -0.1, 0.0])\n",
    "interfacesBA = paths.VolumeFactory.CVRangeVolumeSet(opXprime, float(\"-inf\"), [-0.3, -0.2, -0.1, 0.0])"
   ]
  },
  {
   "cell_type": "code",
   "execution_count": null,
   "metadata": {
    "collapsed": false
   },
   "outputs": [],
   "source": [
    "retisAB = paths.RETISTransition(stateA, stateB, interfacesAB, orderparameter=opX, name=\"A->B\")\n",
    "retisAC = paths.RETISTransition(stateA, stateC, interfacesAC, orderparameter=opY, name=\"A->C\")\n",
    "retisBA = paths.RETISTransition(stateB, stateA, interfacesBA, orderparameter=opXprime, name=\"B->A\")"
   ]
  },
  {
   "cell_type": "code",
   "execution_count": null,
   "metadata": {
    "collapsed": false
   },
   "outputs": [],
   "source": [
    "mistis = paths.MISTISNetwork([retisAB, retisAC, retisBA])"
   ]
  },
  {
   "cell_type": "code",
   "execution_count": null,
   "metadata": {
    "collapsed": true
   },
   "outputs": [],
   "source": [
    "import logging.config\n",
    "logging.config.fileConfig(\"logging.conf\", disable_existing_loggers=False)"
   ]
  },
  {
   "cell_type": "code",
   "execution_count": null,
   "metadata": {
    "collapsed": false
   },
   "outputs": [],
   "source": [
    "# the other option might be to turn this into a class FullBootstrap, but this function seems to work for now\n",
    "# TODO: move this function into openpathsampling (maybe have a module bootstrap_interfaces?)\n",
    "import sys\n",
    "def full_bootstrap(transition, snapshot, engine, extra_interfaces=[], forbidden_states=[], storage=None):\n",
    "    interface0 = transition.interfaces[0]\n",
    "    ensemble0 = transition.ensembles[0]\n",
    "    state = transition.stateA\n",
    "    first_traj_ensemble = paths.SequentialEnsemble([\n",
    "        paths.OptionalEnsemble(paths.AllOutXEnsemble(state)),\n",
    "        paths.AllInXEnsemble(state),\n",
    "        paths.OptionalEnsemble(paths.AllOutXEnsemble(state) & paths.AllInXEnsemble(interface0)),\n",
    "        paths.OptionalEnsemble(paths.AllInXEnsemble(interface0)),\n",
    "        paths.AllOutXEnsemble(interface0),\n",
    "        paths.OptionalEnsemble(paths.AllOutXEnsemble(state)),\n",
    "        paths.SingleFrameEnsemble(paths.AllInXEnsemble(state))\n",
    "    ]) & paths.AllOutXEnsemble(paths.join_volumes(forbidden_states))\n",
    "    #print first_traj_ensemble #DEBUG\n",
    "    has_AA_path = False\n",
    "    while not has_AA_path:\n",
    "        engine.current_snapshot = snapshot.copy()\n",
    "        engine.snapshot = snapshot.copy()\n",
    "        print \"Building first trajectory\"\n",
    "        sys.stdout.flush()\n",
    "        first_traj = engine.generate(engine.current_snapshot, [first_traj_ensemble.can_append])\n",
    "        print \"Selecting segment\"\n",
    "        sys.stdout.flush()\n",
    "        subtraj = ensemble0.split(first_traj)[0]\n",
    "        # check that this is A->A as well\n",
    "        has_AA_path = state(subtraj[-1]) and state(subtraj[0])\n",
    "        \n",
    "    extra_ensembles = [\n",
    "        paths.TISEnsemble(transition.stateA, transition.stateB, iface, transition.orderparameter)\n",
    "        for iface in extra_interfaces\n",
    "    ]\n",
    "    extra_shooters = [paths.OneWayShootingMover(paths.UniformSelector(), ens) for ens in extra_ensembles]\n",
    "    print \"Sampling \" + str(len(transition.ensembles+extra_ensembles)) + \" ensembles.\"\n",
    "    bootstrap = paths.Bootstrapping(\n",
    "        storage=storage,\n",
    "        ensembles=transition.ensembles+extra_ensembles,\n",
    "        movers=transition.movers['shooting']+extra_shooters,\n",
    "        trajectory=subtraj\n",
    "    )\n",
    "    print \"Beginning bootstrapping\"\n",
    "    while len(bootstrap.globalstate) < len(transition.ensembles+extra_ensembles):\n",
    "        bootstrap.run(20)\n",
    "    return bootstrap.globalstate\n"
   ]
  },
  {
   "cell_type": "code",
   "execution_count": null,
   "metadata": {
    "collapsed": false
   },
   "outputs": [],
   "source": [
    "snapA = paths.Snapshot(\n",
    "    coordinates=[[-0.5, -0.5]],\n",
    "    velocities=[[0.5, 0.0]]\n",
    ")\n",
    "init_AB = full_bootstrap(retisAB, snapA, toy_eng, forbidden_states=[stateC])"
   ]
  },
  {
   "cell_type": "code",
   "execution_count": null,
   "metadata": {
    "collapsed": false
   },
   "outputs": [],
   "source": [
    "snapA = paths.Snapshot(\n",
    "    coordinates=[[-0.5, -0.5]],\n",
    "    velocities=[[0.0, 0.5]]\n",
    ")\n",
    "init_AC = full_bootstrap(retisAC, snapA, toy_eng, forbidden_states=[stateB])"
   ]
  },
  {
   "cell_type": "code",
   "execution_count": null,
   "metadata": {
    "collapsed": false
   },
   "outputs": [],
   "source": [
    "snapB = paths.Snapshot(\n",
    "    coordinates=[[0.5, -0.5]],\n",
    "    velocities=[[-0.5, 0.0]]\n",
    ")\n",
    "init_BA = full_bootstrap(retisBA, snapB, toy_eng, forbidden_states=[stateC])"
   ]
  },
  {
   "cell_type": "code",
   "execution_count": null,
   "metadata": {
    "collapsed": false
   },
   "outputs": [],
   "source": [
    "plot.plot([s.trajectory for s in list(init_AB)+list(init_AC)+list(init_BA)])"
   ]
  },
  {
   "cell_type": "code",
   "execution_count": null,
   "metadata": {
    "collapsed": false
   },
   "outputs": [],
   "source": [
    "# TODO: it would be really nice if all of this could be handled somewhat automatically\n",
    "samples = []\n",
    "trans2trajs = {retisAB : init_AB, retisAC : init_AC, retisBA : init_BA}\n",
    "for trans in trans2trajs.keys():\n",
    "    new_trans = mistis.transition_to_sampling[trans]\n",
    "    for i in range(len(new_trans.ensembles)):\n",
    "        samples.append(paths.Sample(\n",
    "                trajectory=trans2trajs[trans][i].trajectory,\n",
    "                ensemble=new_trans.ensembles[i],\n",
    "                replica=len(samples)\n",
    "        ))\n",
    "sset = paths.SampleSet(samples)\n",
    "sset.sanity_check()\n",
    "\n",
    "outer_sset = paths.SampleSet([init.samples[-1] for init in [init_AB, init_BA]])\n",
    "outer_sample = paths.Sample(\n",
    "    replica=len(sset),\n",
    "    trajectory=init_AB.samples[-1].trajectory,\n",
    "    ensemble=mistis.ms_outers[0]\n",
    ")\n",
    "sset = sset.apply_samples([outer_sample])\n",
    "sset.sanity_check()\n",
    "\n",
    "minus_samples = []\n",
    "for minus in mistis.minus_ensembles:\n",
    "    for partial_traj in [s.trajectory for s in sset]:\n",
    "        if minus._segment_ensemble(partial_traj):\n",
    "            break\n",
    "    #print minus._segment_ensemble(partial_traj)\n",
    "    good_sample = False\n",
    "    while not good_sample:\n",
    "        samp = minus.populate_minus_ensemble(\n",
    "            partial_traj=partial_traj,\n",
    "            minus_replica_id=-mistis.minus_ensembles.index(minus)-1,\n",
    "            engine=toy_eng\n",
    "        )\n",
    "        good_sample = samp.ensemble(samp.trajectory)\n",
    "    minus_samples.append(samp)\n",
    "\n",
    "sset = sset.apply_samples(minus_samples)\n",
    "sset.sanity_check()"
   ]
  },
  {
   "cell_type": "code",
   "execution_count": null,
   "metadata": {
    "collapsed": false
   },
   "outputs": [],
   "source": [
    "#logging.config.fileConfig(\"debug_logging.conf\", disable_existing_loggers=False)\n",
    "storage = paths.storage.Storage(\"mistis.nc\", \"w\", template=template)"
   ]
  },
  {
   "cell_type": "code",
   "execution_count": null,
   "metadata": {
    "collapsed": false
   },
   "outputs": [],
   "source": [
    "storage.save(mistis)\n",
    "storage.sync()"
   ]
  },
  {
   "cell_type": "code",
   "execution_count": null,
   "metadata": {
    "collapsed": false
   },
   "outputs": [],
   "source": [
    "scheme = paths.DefaultScheme(mistis)"
   ]
  },
  {
   "cell_type": "code",
   "execution_count": null,
   "metadata": {
    "collapsed": false
   },
   "outputs": [],
   "source": [
    "mistis_calc = paths.PathSampling(\n",
    "    storage=storage,\n",
    "    engine=toy_eng,\n",
    "    move_scheme=scheme.move_decision_tree(),\n",
    "    globalstate=sset\n",
    ")\n",
    "mistis_calc.save_frequency = 100"
   ]
  },
  {
   "cell_type": "code",
   "execution_count": null,
   "metadata": {
    "collapsed": true
   },
   "outputs": [],
   "source": [
    "storage.save(scheme)\n",
    "storage.sync()"
   ]
  },
  {
   "cell_type": "code",
   "execution_count": null,
   "metadata": {
    "collapsed": false
   },
   "outputs": [],
   "source": [
    "import logging.config\n",
    "logging.config.fileConfig(\"logging.conf\", disable_existing_loggers=False)\n",
    "\n",
    "mistis_calc.run_until(250)"
   ]
  }
 ],
 "metadata": {
  "kernelspec": {
   "display_name": "Python 2",
   "language": "python",
   "name": "python2"
  },
  "language_info": {
   "codemirror_mode": {
    "name": "ipython",
    "version": 2
   },
   "file_extension": ".py",
   "mimetype": "text/x-python",
   "name": "python",
   "nbconvert_exporter": "python",
   "pygments_lexer": "ipython2",
   "version": "2.7.9"
  }
 },
 "nbformat": 4,
 "nbformat_minor": 0
}
