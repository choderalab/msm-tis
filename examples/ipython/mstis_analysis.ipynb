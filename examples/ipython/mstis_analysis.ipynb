{
 "cells": [
  {
   "cell_type": "code",
   "execution_count": null,
   "metadata": {
    "collapsed": false
   },
   "outputs": [],
   "source": [
    "%matplotlib inline\n",
    "import matplotlib.pyplot as plt\n",
    "import openpathsampling as paths\n",
    "import numpy as np\n",
    "\n",
    "storage = paths.storage.Storage(\"mstis.nc\")"
   ]
  },
  {
   "cell_type": "code",
   "execution_count": null,
   "metadata": {
    "collapsed": false,
    "scrolled": true
   },
   "outputs": [],
   "source": [
    "mstis = storage.networks.load(0)"
   ]
  },
  {
   "cell_type": "code",
   "execution_count": null,
   "metadata": {
    "collapsed": false
   },
   "outputs": [],
   "source": [
    "# these things speed up the analysis\n",
    "storage.samples.cache_all()\n",
    "storage.samplesets.cache_all()\n",
    "storage.pathmovechanges.cache_all()\n",
    "storage.steps.cache_all()\n",
    "map(lambda x : x.cache_all(storage), storage.cvs)"
   ]
  },
  {
   "cell_type": "markdown",
   "metadata": {},
   "source": [
    "## Reaction rates\n",
    "\n",
    "TIS methods are especially good at determining reaction rates, and OPS makes it extremely easy to obtain the rate from a TIS network.\n",
    "\n",
    "Note that, although you can get the rate directly, it is very important to look at other results of the sampling (illustrated in this notebook and in notebooks referred to herein) in order to check the validity of the rates you obtain."
   ]
  },
  {
   "cell_type": "markdown",
   "metadata": {},
   "source": [
    "By default, the built-in analysis calculates histograms the maximum value of some order parameter and the pathlength of every sampled ensemble. You can add other things to this list as well, but you must always specify histogram parameters for these two. The pathlength is in units of frames."
   ]
  },
  {
   "cell_type": "code",
   "execution_count": null,
   "metadata": {
    "collapsed": false
   },
   "outputs": [],
   "source": [
    "mstis.hist_args['max_lambda'] = { 'bin_width' : 0.02, 'bin_range' : (0.0, 0.5) }\n",
    "mstis.hist_args['pathlength'] = { 'bin_width' : 5, 'bin_range' : (0, 150) }"
   ]
  },
  {
   "cell_type": "code",
   "execution_count": null,
   "metadata": {
    "collapsed": false
   },
   "outputs": [],
   "source": [
    "mstis.rate_matrix(storage)"
   ]
  },
  {
   "cell_type": "markdown",
   "metadata": {
    "collapsed": true
   },
   "source": [
    "The self-rates (the rate of returning the to initial state) are undefined, and return not-a-number.\n",
    "\n",
    "The rate is calcuated according to the formula:\n",
    "\n",
    "$$k_{AB} = \\phi_{A,0} P(B|\\lambda_m) \\prod_{i=0}^{m-1} P(\\lambda_{i+1} | \\lambda_i)$$\n",
    "\n",
    "where $\\phi_{A,0}$ is the flux from state A through its innermost interface, $P(B|\\lambda_m)$ is the conditional transition probability (the probability that a path which crosses the interface at $\\lambda_m$ ends in state B), and $\\prod_{i=0}^{m-1} P(\\lambda_{i+1} | \\lambda_i)$ is the total crossing probability. We can look at each of these terms individually."
   ]
  },
  {
   "cell_type": "markdown",
   "metadata": {},
   "source": [
    "### Total crossing probability"
   ]
  },
  {
   "cell_type": "code",
   "execution_count": null,
   "metadata": {
    "collapsed": true
   },
   "outputs": [],
   "source": [
    "stateA = storage.volumes.find_first(\"A\")\n",
    "stateB = storage.volumes.find_first(\"B\")\n",
    "stateC = storage.volumes.find_first(\"C\")"
   ]
  },
  {
   "cell_type": "code",
   "execution_count": null,
   "metadata": {
    "collapsed": false
   },
   "outputs": [],
   "source": [
    "tcp_AB = mstis.transitions[(stateA, stateB)].tcp\n",
    "tcp_AC = mstis.transitions[(stateA, stateC)].tcp\n",
    "tcp_BC = mstis.transitions[(stateB, stateC)].tcp\n",
    "tcp_BA = mstis.transitions[(stateB, stateA)].tcp\n",
    "tcp_CA = mstis.transitions[(stateC, stateA)].tcp\n",
    "tcp_CB = mstis.transitions[(stateC, stateB)].tcp\n",
    "\n",
    "plt.plot(tcp_AB.x, tcp_AB)\n",
    "plt.plot(tcp_CA.x, tcp_CA)\n",
    "plt.plot(tcp_BC.x, tcp_BC)\n",
    "plt.plot(tcp_AC.x, tcp_AC) # same as tcp_AB in MSTIS"
   ]
  },
  {
   "cell_type": "markdown",
   "metadata": {},
   "source": [
    "We normally look at these on a log scale:"
   ]
  },
  {
   "cell_type": "code",
   "execution_count": null,
   "metadata": {
    "collapsed": false
   },
   "outputs": [],
   "source": [
    "plt.plot(tcp_AB.x, np.log(tcp_AB))\n",
    "plt.plot(tcp_CA.x, np.log(tcp_CA))\n",
    "plt.plot(tcp_BC.x, np.log(tcp_BC))"
   ]
  },
  {
   "cell_type": "markdown",
   "metadata": {},
   "source": [
    "### Flux\n",
    "\n",
    "Here we also calculate the flux contribution to each transition. The flux is calculated based on "
   ]
  },
  {
   "cell_type": "code",
   "execution_count": null,
   "metadata": {
    "collapsed": false
   },
   "outputs": [],
   "source": [
    "import pandas as pd\n",
    "flux_matrix = pd.DataFrame(columns=mstis.states, index=mstis.states)\n",
    "for state_pair in mstis.transitions:\n",
    "    transition = mstis.transitions[state_pair]\n",
    "    flux_matrix.set_value(state_pair[0], state_pair[1], transition._flux)\n",
    "\n",
    "flux_matrix"
   ]
  },
  {
   "cell_type": "markdown",
   "metadata": {},
   "source": [
    "### Conditional transition probability"
   ]
  },
  {
   "cell_type": "code",
   "execution_count": null,
   "metadata": {
    "collapsed": false
   },
   "outputs": [],
   "source": [
    "outer_ctp_matrix = pd.DataFrame(columns=mstis.states, index=mstis.states)\n",
    "for state_pair in mstis.transitions:\n",
    "    transition = mstis.transitions[state_pair]\n",
    "    outer_ctp_matrix.set_value(state_pair[0], state_pair[1], transition.ctp[transition.ensembles[-1]])    \n",
    "\n",
    "outer_ctp_matrix"
   ]
  },
  {
   "cell_type": "code",
   "execution_count": null,
   "metadata": {
    "collapsed": false
   },
   "outputs": [],
   "source": [
    "ctp_by_interface = pd.DataFrame(index=mstis.transitions)\n",
    "for state_pair in mstis.transitions:\n",
    "    transition = mstis.transitions[state_pair]\n",
    "    for ensemble_i in range(len(transition.ensembles)):\n",
    "        ctp_by_interface.set_value(\n",
    "            state_pair, ensemble_i,\n",
    "            transition.conditional_transition_probability(\n",
    "                storage,\n",
    "                transition.ensembles[ensemble_i]\n",
    "        ))\n",
    "    \n",
    "    \n",
    "ctp_by_interface  "
   ]
  },
  {
   "cell_type": "markdown",
   "metadata": {},
   "source": [
    "## Path ensemble properties"
   ]
  },
  {
   "cell_type": "code",
   "execution_count": null,
   "metadata": {
    "collapsed": true
   },
   "outputs": [],
   "source": [
    "hists_A = mstis.transitions[(stateA, stateB)].histograms\n",
    "hists_B = mstis.transitions[(stateB, stateC)].histograms\n",
    "hists_C = mstis.transitions[(stateC, stateB)].histograms"
   ]
  },
  {
   "cell_type": "markdown",
   "metadata": {},
   "source": [
    "### Interface crossing probabilities\n",
    "\n",
    "We obtain the total crossing probability, shown above, by combining the individual crossing probabilities of "
   ]
  },
  {
   "cell_type": "code",
   "execution_count": null,
   "metadata": {
    "collapsed": false
   },
   "outputs": [],
   "source": [
    "for hist in [hists_A, hists_B, hists_C]:\n",
    "    for ens in hist['max_lambda']:\n",
    "        normalized = hist['max_lambda'][ens].normalized()\n",
    "        plt.plot(normalized.x, normalized)"
   ]
  },
  {
   "cell_type": "code",
   "execution_count": null,
   "metadata": {
    "collapsed": true
   },
   "outputs": [],
   "source": [
    "# add visualization of the sum"
   ]
  },
  {
   "cell_type": "code",
   "execution_count": null,
   "metadata": {
    "collapsed": false,
    "scrolled": true
   },
   "outputs": [],
   "source": [
    "for hist in [hists_A, hists_B, hists_C]:\n",
    "    for ens in hist['max_lambda']:\n",
    "        reverse_cumulative = hist['max_lambda'][ens].reverse_cumulative()\n",
    "        plt.plot(reverse_cumulative.x, reverse_cumulative)"
   ]
  },
  {
   "cell_type": "code",
   "execution_count": null,
   "metadata": {
    "collapsed": false
   },
   "outputs": [],
   "source": [
    "for hist in [hists_A, hists_B, hists_C]:\n",
    "    for ens in hist['max_lambda']:\n",
    "        reverse_cumulative = hist['max_lambda'][ens].reverse_cumulative()\n",
    "        plt.plot(reverse_cumulative.x, np.log(reverse_cumulative))"
   ]
  },
  {
   "cell_type": "markdown",
   "metadata": {},
   "source": [
    "### Path length histograms"
   ]
  },
  {
   "cell_type": "code",
   "execution_count": null,
   "metadata": {
    "collapsed": false
   },
   "outputs": [],
   "source": [
    "for hist in [hists_A, hists_B, hists_C]:\n",
    "    for ens in hist['pathlength']:\n",
    "        normalized = hist['pathlength'][ens].normalized()\n",
    "        plt.plot(normalized.x, normalized)"
   ]
  },
  {
   "cell_type": "code",
   "execution_count": null,
   "metadata": {
    "collapsed": false
   },
   "outputs": [],
   "source": [
    "for ens in hists_A['pathlength']:\n",
    "    normalized = hists_A['pathlength'][ens].normalized()\n",
    "    plt.plot(normalized.x, normalized)"
   ]
  },
  {
   "cell_type": "markdown",
   "metadata": {},
   "source": [
    "## Sampling properties\n",
    "\n",
    "The properties we illustrated above were properties of the path ensembles. If your path ensembles are sufficiently well-sampled, these will never depend on how you sample them.\n",
    "\n",
    "But to figure out whether you've done a good job of sampling, you often want to look at properties related to the sampling process. OPS also makes these very easy."
   ]
  },
  {
   "cell_type": "code",
   "execution_count": null,
   "metadata": {
    "collapsed": true
   },
   "outputs": [],
   "source": []
  },
  {
   "cell_type": "markdown",
   "metadata": {},
   "source": [
    "### Move scheme analysis"
   ]
  },
  {
   "cell_type": "code",
   "execution_count": null,
   "metadata": {
    "collapsed": false,
    "scrolled": true
   },
   "outputs": [],
   "source": [
    "scheme = storage.schemes[0]"
   ]
  },
  {
   "cell_type": "code",
   "execution_count": null,
   "metadata": {
    "collapsed": false
   },
   "outputs": [],
   "source": [
    "scheme.move_summary(storage)"
   ]
  },
  {
   "cell_type": "code",
   "execution_count": null,
   "metadata": {
    "collapsed": false
   },
   "outputs": [],
   "source": [
    "scheme.move_summary(storage, 'shooting')"
   ]
  },
  {
   "cell_type": "code",
   "execution_count": null,
   "metadata": {
    "collapsed": false
   },
   "outputs": [],
   "source": [
    "for mover in scheme.movers['shooting']:\n",
    "    print mover, scheme.choice_probability[mover]*100"
   ]
  },
  {
   "cell_type": "code",
   "execution_count": null,
   "metadata": {
    "collapsed": false
   },
   "outputs": [],
   "source": [
    "scheme.move_summary(storage, 'minus')"
   ]
  },
  {
   "cell_type": "code",
   "execution_count": null,
   "metadata": {
    "collapsed": false
   },
   "outputs": [],
   "source": [
    "for mover in scheme.movers['minus']:\n",
    "    print mover, scheme.choice_probability[mover]*100"
   ]
  },
  {
   "cell_type": "code",
   "execution_count": null,
   "metadata": {
    "collapsed": false
   },
   "outputs": [],
   "source": [
    "scheme.move_summary(storage, 'repex')"
   ]
  },
  {
   "cell_type": "code",
   "execution_count": null,
   "metadata": {
    "collapsed": false
   },
   "outputs": [],
   "source": [
    "for mover in scheme.movers['repex']:\n",
    "    print mover, scheme.choice_probability[mover]*100"
   ]
  },
  {
   "cell_type": "code",
   "execution_count": null,
   "metadata": {
    "collapsed": false
   },
   "outputs": [],
   "source": [
    "scheme.move_summary(storage, 'pathreversal')"
   ]
  },
  {
   "cell_type": "code",
   "execution_count": null,
   "metadata": {
    "collapsed": false
   },
   "outputs": [],
   "source": [
    "for mover in scheme.movers['pathreversal']:\n",
    "    print mover, scheme.choice_probability[mover]*100"
   ]
  },
  {
   "cell_type": "markdown",
   "metadata": {},
   "source": [
    "### Replica exchange sampling\n",
    "\n",
    "See the notebook `repex_networks.ipynb` for more details on tools to study the convergence of replica exchange. However, a few simple examples are shown here. All of these are analyzed with a separate object, `ReplicaNetwork`."
   ]
  },
  {
   "cell_type": "code",
   "execution_count": null,
   "metadata": {
    "collapsed": true
   },
   "outputs": [],
   "source": [
    "repx_net = paths.ReplicaNetwork(storage=storage)"
   ]
  },
  {
   "cell_type": "markdown",
   "metadata": {},
   "source": [
    "#### Replica exchange mixing matrix"
   ]
  },
  {
   "cell_type": "code",
   "execution_count": null,
   "metadata": {
    "collapsed": false
   },
   "outputs": [],
   "source": [
    "repx_net.mixing_matrix()"
   ]
  },
  {
   "cell_type": "markdown",
   "metadata": {},
   "source": [
    "#### Replica exchange graph\n",
    "\n",
    "The mixing matrix tells a story of how well various interfaces are connected to other interfaces. The replica exchange graph is essentially a visualization of the mixing matrix (actually, of the transition matrix -- the mixing matrix is a symmetrized version of the transition matrix).\n",
    "\n",
    "Note: We're still developing better layout tools to visualize these."
   ]
  },
  {
   "cell_type": "code",
   "execution_count": null,
   "metadata": {
    "collapsed": false
   },
   "outputs": [],
   "source": [
    "repxG = paths.ReplicaNetworkGraph(repx_net)\n",
    "repxG.draw('spring')"
   ]
  },
  {
   "cell_type": "markdown",
   "metadata": {},
   "source": [
    "#### Replica exchange flow\n",
    "\n",
    "Replica flow is defined as ***TODO***\n",
    "\n",
    "Flow is designed for calculations where the replica exchange graph is linear, which ours clearly is not. However, we can define the flow over a subset of the interfaces."
   ]
  },
  {
   "cell_type": "code",
   "execution_count": null,
   "metadata": {
    "collapsed": true
   },
   "outputs": [],
   "source": []
  },
  {
   "cell_type": "markdown",
   "metadata": {},
   "source": [
    "### Replica move history tree"
   ]
  },
  {
   "cell_type": "code",
   "execution_count": null,
   "metadata": {
    "collapsed": false
   },
   "outputs": [],
   "source": [
    "import openpathsampling.visualize as visualizations\n",
    "reload(visualizations)\n",
    "from IPython.display import SVG\n",
    "\n",
    "history = visualizations.ReplicaHistoryTree(\n",
    "    storage=storage,\n",
    "    steps=storage.steps[0:200],\n",
    "    replica=1\n",
    ")"
   ]
  },
  {
   "cell_type": "code",
   "execution_count": null,
   "metadata": {
    "collapsed": false
   },
   "outputs": [],
   "source": [
    "history.view.zoom = 1.0\n",
    "history.view.scale_y = 24\n",
    "history.view.scale_x = 10\n",
    "history.view.font_size = 0.35\n",
    "history.view.horizontal_gap = 0.05\n",
    "\n",
    "SVG(history.view.to_svg())"
   ]
  },
  {
   "cell_type": "code",
   "execution_count": null,
   "metadata": {
    "collapsed": false
   },
   "outputs": [],
   "source": [
    "decorrelated = history.decorrelated_trajectories\n",
    "print \"We have \" + str(len(decorrelated)) + \" decorrelated trajectories.\""
   ]
  },
  {
   "cell_type": "markdown",
   "metadata": {},
   "source": [
    "### Visualizing trajectories"
   ]
  },
  {
   "cell_type": "code",
   "execution_count": null,
   "metadata": {
    "collapsed": true
   },
   "outputs": [],
   "source": [
    "from toy_plot_helpers import ToyPlot\n",
    "background = ToyPlot()\n",
    "background.contour_range = np.arange(-1.5, 1.0, 0.1)\n",
    "background.add_pes(storage.engines[0].pes)"
   ]
  },
  {
   "cell_type": "code",
   "execution_count": null,
   "metadata": {
    "collapsed": false
   },
   "outputs": [],
   "source": [
    "xval = paths.CV_Function(\"xval\", lambda snap : snap.xyz[0][0])\n",
    "yval = paths.CV_Function(\"yval\", lambda snap : snap.xyz[0][1])\n",
    "vis = paths.LiveVisualization(mstis, xval, yval, [-1.0, 1.0], [-1.0, 1.0])\n",
    "vis.background = background.plot()"
   ]
  },
  {
   "cell_type": "code",
   "execution_count": null,
   "metadata": {
    "collapsed": false
   },
   "outputs": [],
   "source": [
    "vis.draw_samples(history.trial_samples)"
   ]
  },
  {
   "cell_type": "code",
   "execution_count": null,
   "metadata": {
    "collapsed": false
   },
   "outputs": [],
   "source": [
    "import time\n",
    "max_step = 10\n",
    "for step in storage.steps[0:max_step]:\n",
    "    vis.draw_ipynb(step)\n",
    "    time.sleep(0.1)"
   ]
  },
  {
   "cell_type": "markdown",
   "metadata": {},
   "source": [
    "## Histogramming data (TODO)"
   ]
  },
  {
   "cell_type": "code",
   "execution_count": null,
   "metadata": {
    "collapsed": true
   },
   "outputs": [],
   "source": []
  }
 ],
 "metadata": {
  "kernelspec": {
   "display_name": "Python 2",
   "language": "python",
   "name": "python2"
  }
 },
 "nbformat": 4,
 "nbformat_minor": 0
}
