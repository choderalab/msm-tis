{
 "cells": [
  {
   "cell_type": "markdown",
   "metadata": {},
   "source": [
    "## Simple OpenMM Example\n",
    "\n",
    "Loading PDB, Solvating, Minimizing and short production run\n",
    "\n",
    "#### authors\n",
    "- Antonia Mey\n",
    "- Jan-Hendrik Prinz"
   ]
  },
  {
   "cell_type": "markdown",
   "metadata": {},
   "source": [
    "This is a simple introduction and example on how to use openmm. More examples can be found on the openmm website under\n",
    "http://openmm.org"
   ]
  },
  {
   "cell_type": "markdown",
   "metadata": {},
   "source": [
    "Misc Imports"
   ]
  },
  {
   "cell_type": "code",
   "execution_count": 1,
   "metadata": {
    "collapsed": true
   },
   "outputs": [],
   "source": [
    "import time\n",
    "from sys import stdout"
   ]
  },
  {
   "cell_type": "markdown",
   "metadata": {},
   "source": [
    "Import OpenMM"
   ]
  },
  {
   "cell_type": "code",
   "execution_count": 2,
   "metadata": {
    "collapsed": true
   },
   "outputs": [],
   "source": [
    "from simtk.openmm.app import *\n",
    "from simtk.openmm import *\n",
    "from simtk.unit import *"
   ]
  },
  {
   "cell_type": "code",
   "execution_count": 3,
   "metadata": {
    "collapsed": false
   },
   "outputs": [
    {
     "name": "stdout",
     "output_type": "stream",
     "text": [
      "OpenMM version is : 6.2.0.dev-59ab6fc\n"
     ]
    }
   ],
   "source": [
    "print ('OpenMM version is : ' + version.full_version)\n",
    "start_time = time.time()"
   ]
  },
  {
   "cell_type": "markdown",
   "metadata": {},
   "source": [
    "Check available OpenMM platforms"
   ]
  },
  {
   "cell_type": "code",
   "execution_count": 4,
   "metadata": {
    "collapsed": false
   },
   "outputs": [
    {
     "name": "stdout",
     "output_type": "stream",
     "text": [
      "Platform used is : CUDA\n"
     ]
    }
   ],
   "source": [
    "platform = openmm.Platform.getPlatformByName('CUDA')\n",
    "print ('Platform used is : ' + platform.getName())"
   ]
  },
  {
   "cell_type": "markdown",
   "metadata": {},
   "source": [
    "Loading the unsolvated pdb file"
   ]
  },
  {
   "cell_type": "code",
   "execution_count": 5,
   "metadata": {
    "collapsed": false
   },
   "outputs": [],
   "source": [
    "pdb = PDBFile('../data/input.pdb')\n",
    "forcefield = ForceField('amber99sb.xml', 'tip3p.xml')"
   ]
  },
  {
   "cell_type": "markdown",
   "metadata": {},
   "source": [
    "Adding solvent"
   ]
  },
  {
   "cell_type": "code",
   "execution_count": 6,
   "metadata": {
    "collapsed": false
   },
   "outputs": [],
   "source": [
    "modeller = Modeller(pdb.topology, pdb.positions)\n",
    "modeller.addSolvent(forcefield, model='tip3p', padding=1*nanometer)"
   ]
  },
  {
   "cell_type": "markdown",
   "metadata": {},
   "source": [
    "Create System"
   ]
  },
  {
   "cell_type": "code",
   "execution_count": 7,
   "metadata": {
    "collapsed": true
   },
   "outputs": [],
   "source": [
    "system1 = forcefield.createSystem(modeller.topology, nonbondedMethod=PME)"
   ]
  },
  {
   "cell_type": "markdown",
   "metadata": {},
   "source": [
    "Minimizing"
   ]
  },
  {
   "cell_type": "code",
   "execution_count": 8,
   "metadata": {
    "collapsed": true
   },
   "outputs": [],
   "source": [
    "integrator1 = VerletIntegrator(0.001*picoseconds)\n",
    "simulation1 = Simulation(modeller.topology, system1, integrator1, platform)\n",
    "simulation1.context.setPositions(modeller.positions)\n",
    "simulation1.minimizeEnergy(maxIterations=200)"
   ]
  },
  {
   "cell_type": "markdown",
   "metadata": {},
   "source": [
    "Simulate"
   ]
  },
  {
   "cell_type": "code",
   "execution_count": 9,
   "metadata": {
    "collapsed": true
   },
   "outputs": [],
   "source": [
    "system2 = forcefield.createSystem(modeller.topology, nonbondedMethod=PME, nonbondedCutoff=1.0*nanometer, constraints=HBonds)\n",
    "integrator2 = LangevinIntegrator(300*kelvin, 1/picosecond, 0.002*picoseconds)"
   ]
  },
  {
   "cell_type": "markdown",
   "metadata": {},
   "source": [
    "Creating simulation context"
   ]
  },
  {
   "cell_type": "code",
   "execution_count": 10,
   "metadata": {
    "collapsed": true
   },
   "outputs": [],
   "source": [
    "simulation2 = Simulation(modeller.topology, system2, integrator2) \n",
    "simulation2.context.setPositions(simulation1.context.getState(getPositions=True).getPositions())"
   ]
  },
  {
   "cell_type": "markdown",
   "metadata": {},
   "source": [
    "Minimizing System "
   ]
  },
  {
   "cell_type": "code",
   "execution_count": 11,
   "metadata": {
    "collapsed": true
   },
   "outputs": [],
   "source": [
    "simulation2.minimizeEnergy(maxIterations=25)"
   ]
  },
  {
   "cell_type": "markdown",
   "metadata": {},
   "source": [
    "Adding Reporters "
   ]
  },
  {
   "cell_type": "code",
   "execution_count": 12,
   "metadata": {
    "collapsed": false
   },
   "outputs": [],
   "source": [
    "simulation2.reporters.append(PDBReporter('output_exercise1.pdb', 5)) \n",
    "simulation2.reporters.append(StateDataReporter(stdout, 100, step=True, potentialEnergy=True, temperature=True))"
   ]
  },
  {
   "cell_type": "markdown",
   "metadata": {},
   "source": [
    "Running simulation"
   ]
  },
  {
   "cell_type": "code",
   "execution_count": 13,
   "metadata": {
    "collapsed": false
   },
   "outputs": [
    {
     "name": "stdout",
     "output_type": "stream",
     "text": [
      "#\"Step\",\"Potential Energy (kJ/mole)\",\"Temperature (K)\"\n",
      "100,-24905.441484,104.002083718\n",
      "200,-24491.3622441,144.448023954\n",
      "300,-24254.8811314,178.261835181\n",
      "400,-23887.5246872,199.763655856\n",
      "500,-23524.1666682,222.002724012\n",
      "600,-23242.3643317,231.738077702\n",
      "700,-23000.5672438,241.867759347\n",
      "800,-22911.9797696,252.738879434\n",
      "900,-22681.1618459,245.539832028\n",
      "1000,-22621.5378603,264.964602195\n",
      "CPU times: user 7.94 s, sys: 422 ms, total: 8.36 s\n",
      "Wall time: 12.1 s\n"
     ]
    }
   ],
   "source": [
    "%%time\n",
    "simulation2.step(1000)"
   ]
  }
 ],
 "metadata": {
  "kernelspec": {
   "display_name": "Python 2",
   "language": "python",
   "name": "python2"
  },
  "language_info": {
   "codemirror_mode": {
    "name": "ipython",
    "version": 2
   },
   "file_extension": ".py",
   "mimetype": "text/x-python",
   "name": "python",
   "nbconvert_exporter": "python",
   "pygments_lexer": "ipython2",
   "version": "2.7.9"
  }
 },
 "nbformat": 4,
 "nbformat_minor": 0
}
