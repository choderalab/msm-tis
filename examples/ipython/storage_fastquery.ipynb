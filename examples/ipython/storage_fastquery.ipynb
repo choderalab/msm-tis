{
 "cells": [
  {
   "cell_type": "markdown",
   "metadata": {},
   "source": [
    "# A test for fast storage"
   ]
  },
  {
   "cell_type": "markdown",
   "metadata": {},
   "source": [
    "### Introduction"
   ]
  },
  {
   "cell_type": "markdown",
   "metadata": {},
   "source": [
    "All we need is contained in the `openpathsampling` package"
   ]
  },
  {
   "cell_type": "code",
   "execution_count": 1,
   "metadata": {
    "collapsed": false
   },
   "outputs": [],
   "source": [
    "import openpathsampling as paths"
   ]
  },
  {
   "cell_type": "markdown",
   "metadata": {},
   "source": [
    "Open the test storage for demonstrataion"
   ]
  },
  {
   "cell_type": "code",
   "execution_count": 2,
   "metadata": {
    "collapsed": false
   },
   "outputs": [],
   "source": [
    "storage = paths.storage.Storage('toy_tis.nc', mode='r')"
   ]
  },
  {
   "cell_type": "markdown",
   "metadata": {},
   "source": [
    "extract an orderparameter and choose an ensemble"
   ]
  },
  {
   "cell_type": "code",
   "execution_count": 3,
   "metadata": {
    "collapsed": true
   },
   "outputs": [],
   "source": [
    "op = storage.cv[0]\n",
    "ens = storage.ensemble[0]"
   ]
  },
  {
   "cell_type": "markdown",
   "metadata": {},
   "source": [
    "get all values for orderparameters in all samples found in samplesets for a specific ensemble"
   ]
  },
  {
   "cell_type": "code",
   "execution_count": 4,
   "metadata": {
    "collapsed": false
   },
   "outputs": [
    {
     "name": "stdout",
     "output_type": "stream",
     "text": [
      "CPU times: user 497 ms, sys: 78.6 ms, total: 576 ms\n",
      "Wall time: 573 ms\n"
     ]
    }
   ],
   "source": [
    "%%time\n",
    "result = storage.query.trajectory_orderparameter(op,ens)"
   ]
  },
  {
   "cell_type": "code",
   "execution_count": 5,
   "metadata": {
    "collapsed": false
   },
   "outputs": [
    {
     "name": "stdout",
     "output_type": "stream",
     "text": [
      "CPU times: user 1.18 s, sys: 95.9 ms, total: 1.27 s\n",
      "Wall time: 1.25 s\n"
     ]
    }
   ],
   "source": [
    "%%time\n",
    "result2 = [op(sample.trajectory) for sset in storage.sampleset for sample in sset if sample.ensemble is ens]"
   ]
  },
  {
   "cell_type": "markdown",
   "metadata": {},
   "source": [
    "the second is slower when run first since it creates the sample objects. Every second time it is much faster while the first implementation has always the same speed. Also the second approach is much more flexible and is a one-liner compared to the 20+ line implementation of the first call."
   ]
  },
  {
   "cell_type": "code",
   "execution_count": 6,
   "metadata": {
    "collapsed": false
   },
   "outputs": [
    {
     "name": "stdout",
     "output_type": "stream",
     "text": [
      "CPU times: user 501 ms, sys: 75.8 ms, total: 576 ms\n",
      "Wall time: 576 ms\n"
     ]
    }
   ],
   "source": [
    "%%time\n",
    "result = storage.query.trajectory_orderparameter(op,ens)"
   ]
  },
  {
   "cell_type": "code",
   "execution_count": 7,
   "metadata": {
    "collapsed": false
   },
   "outputs": [
    {
     "name": "stdout",
     "output_type": "stream",
     "text": [
      "CPU times: user 8.18 ms, sys: 2.56 ms, total: 10.7 ms\n",
      "Wall time: 8.86 ms\n"
     ]
    }
   ],
   "source": [
    "%%time\n",
    "result2 = [op(sample.trajectory) for sset in storage.sampleset for sample in sset if sample.ensemble is ens]"
   ]
  },
  {
   "cell_type": "markdown",
   "metadata": {},
   "source": [
    "compare an arbitrary element"
   ]
  },
  {
   "cell_type": "code",
   "execution_count": 8,
   "metadata": {
    "collapsed": false
   },
   "outputs": [
    {
     "name": "stdout",
     "output_type": "stream",
     "text": [
      "55\n",
      "55\n"
     ]
    }
   ],
   "source": [
    "print len(result[7])\n",
    "print len(result2[7])"
   ]
  },
  {
   "cell_type": "code",
   "execution_count": 9,
   "metadata": {
    "collapsed": false
   },
   "outputs": [
    {
     "name": "stdout",
     "output_type": "stream",
     "text": [
      "[-0.31501707434654236, -0.2983115017414093, -0.28195512294769287, -0.2657774090766907, -0.2497573047876358, -0.23495522141456604, -0.2195422351360321, -0.20341312885284424, -0.1872008889913559, -0.17233675718307495, -0.1587161123752594, -0.14402228593826294, -0.12843017280101776, -0.11265084892511368, -0.09750621765851974, -0.0836426168680191, -0.07128995656967163, -0.05995384603738785, -0.050597257912158966, -0.04296416416764259, -0.03672653064131737, -0.030981525778770447, -0.02509918063879013, -0.019207026809453964, -0.013423428870737553, -0.008521359413862228, -0.003990653902292252, 9.130006947088987e-05, 0.004414321389049292, 0.009233315475285053, 0.013210050761699677, 0.01668120175600052, 0.021027227863669395, 0.02659408375620842, 0.03332369029521942, 0.04136587306857109, 0.050867959856987, 0.06245562434196472, 0.07525467872619629, 0.08768647909164429, 0.10013026744127274, 0.11302581429481506, 0.12543348968029022, 0.13700954616069794, 0.15035530924797058, 0.16429296135902405, 0.17654328048229218, 0.18928666412830353, 0.20326165854930878, 0.21824216842651367, 0.23418055474758148, 0.25103849172592163, 0.26920178532600403, 0.2876758277416229, 0.3063449561595917]\n",
      "[-0.31501707434654236, -0.2983115017414093, -0.28195512294769287, -0.2657774090766907, -0.2497573047876358, -0.23495522141456604, -0.2195422351360321, -0.20341312885284424, -0.1872008889913559, -0.17233675718307495, -0.1587161123752594, -0.14402228593826294, -0.12843017280101776, -0.11265084892511368, -0.09750621765851974, -0.0836426168680191, -0.07128995656967163, -0.05995384603738785, -0.050597257912158966, -0.04296416416764259, -0.03672653064131737, -0.030981525778770447, -0.02509918063879013, -0.019207026809453964, -0.013423428870737553, -0.008521359413862228, -0.003990653902292252, 9.130006947088987e-05, 0.004414321389049292, 0.009233315475285053, 0.013210050761699677, 0.01668120175600052, 0.021027227863669395, 0.02659408375620842, 0.03332369029521942, 0.04136587306857109, 0.050867959856987, 0.06245562434196472, 0.07525467872619629, 0.08768647909164429, 0.10013026744127274, 0.11302581429481506, 0.12543348968029022, 0.13700954616069794, 0.15035530924797058, 0.16429296135902405, 0.17654328048229218, 0.18928666412830353, 0.20326165854930878, 0.21824216842651367, 0.23418055474758148, 0.25103849172592163, 0.26920178532600403, 0.2876758277416229, 0.3063449561595917]\n"
     ]
    },
    {
     "data": {
      "text/plain": [
       "<openpathsampling.snapshot.Snapshot at 0x10ffd6550>"
      ]
     },
     "execution_count": 9,
     "metadata": {},
     "output_type": "execute_result"
    }
   ],
   "source": [
    "traj = storage.trajectory[0]\n",
    "print result[0]\n",
    "print result2[0]\n",
    "traj[2]"
   ]
  },
  {
   "cell_type": "code",
   "execution_count": 10,
   "metadata": {
    "collapsed": false
   },
   "outputs": [
    {
     "name": "stdout",
     "output_type": "stream",
     "text": [
      "101\n",
      "101\n"
     ]
    }
   ],
   "source": [
    "print len(result)\n",
    "print len(result2)"
   ]
  },
  {
   "cell_type": "markdown",
   "metadata": {},
   "source": [
    "lets check the same for the replica ID"
   ]
  },
  {
   "cell_type": "code",
   "execution_count": 11,
   "metadata": {
    "collapsed": false
   },
   "outputs": [
    {
     "name": "stdout",
     "output_type": "stream",
     "text": [
      "CPU times: user 507 ms, sys: 77.6 ms, total: 585 ms\n",
      "Wall time: 581 ms\n"
     ]
    }
   ],
   "source": [
    "%%time\n",
    "result_rep1 = storage.query.trajectory_orderparameter(op, replica=5)"
   ]
  },
  {
   "cell_type": "code",
   "execution_count": 12,
   "metadata": {
    "collapsed": false
   },
   "outputs": [
    {
     "name": "stdout",
     "output_type": "stream",
     "text": [
      "CPU times: user 13.9 ms, sys: 4.29 ms, total: 18.2 ms\n",
      "Wall time: 15.4 ms\n"
     ]
    }
   ],
   "source": [
    "%%time\n",
    "result_rep2 = [op(sample.trajectory) for sset in storage.sampleset for sample in sset if sample.replica == 5]"
   ]
  },
  {
   "cell_type": "code",
   "execution_count": 13,
   "metadata": {
    "collapsed": false
   },
   "outputs": [
    {
     "name": "stdout",
     "output_type": "stream",
     "text": [
      "-0.281955122948\n",
      "-0.281955122948\n"
     ]
    }
   ],
   "source": [
    "print result[7][2]\n",
    "print result2[7][2]"
   ]
  },
  {
   "cell_type": "markdown",
   "metadata": {},
   "source": [
    "let also get a list of trajectory lengths"
   ]
  },
  {
   "cell_type": "code",
   "execution_count": 14,
   "metadata": {
    "collapsed": false
   },
   "outputs": [
    {
     "name": "stdout",
     "output_type": "stream",
     "text": [
      "CPU times: user 489 ms, sys: 75.6 ms, total: 565 ms\n",
      "Wall time: 560 ms\n"
     ]
    }
   ],
   "source": [
    "%%time\n",
    "result_len1 = storage.query.trajectory_length(replica=5)"
   ]
  },
  {
   "cell_type": "code",
   "execution_count": 15,
   "metadata": {
    "collapsed": false
   },
   "outputs": [
    {
     "name": "stdout",
     "output_type": "stream",
     "text": [
      "CPU times: user 873 µs, sys: 385 µs, total: 1.26 ms\n",
      "Wall time: 1 ms\n"
     ]
    }
   ],
   "source": [
    "%%time\n",
    "result_len2 = [len(sample.trajectory) for sset in storage.sampleset for sample in sset if sample.replica == 5 ]"
   ]
  },
  {
   "cell_type": "code",
   "execution_count": 16,
   "metadata": {
    "collapsed": false
   },
   "outputs": [
    {
     "name": "stdout",
     "output_type": "stream",
     "text": [
      "[51, 51, 51, 51, 51, 51, 51, 51, 51, 51, 51, 51, 51, 51, 51, 49, 49, 49, 49, 49, 49, 49, 49, 49, 49, 49, 49, 49, 49, 49, 49, 49, 49, 49, 50, 50, 50, 50, 55, 55, 55, 55, 55, 55, 55, 55, 55, 55, 55, 55, 55, 55, 55, 53, 53, 53, 53, 53, 53, 53, 53, 53, 53, 53, 53, 67, 67, 67, 67, 67, 67, 67, 67, 67, 67, 67, 67, 67, 67, 67, 67, 67, 67, 67, 67, 67, 67, 67, 67, 67, 67, 67, 67, 67, 65, 65, 65, 65, 65, 65, 65]\n",
      "[51, 51, 51, 51, 51, 51, 51, 51, 51, 51, 51, 51, 51, 51, 51, 49, 49, 49, 49, 49, 49, 49, 49, 49, 49, 49, 49, 49, 49, 49, 49, 49, 49, 49, 50, 50, 50, 50, 55, 55, 55, 55, 55, 55, 55, 55, 55, 55, 55, 55, 55, 55, 55, 53, 53, 53, 53, 53, 53, 53, 53, 53, 53, 53, 53, 67, 67, 67, 67, 67, 67, 67, 67, 67, 67, 67, 67, 67, 67, 67, 67, 67, 67, 67, 67, 67, 67, 67, 67, 67, 67, 67, 67, 67, 65, 65, 65, 65, 65, 65, 65]\n"
     ]
    }
   ],
   "source": [
    "print result_len1\n",
    "print result_len2"
   ]
  }
 ],
 "metadata": {
  "kernelspec": {
   "display_name": "Python 2",
   "language": "python",
   "name": "python2"
  },
  "language_info": {
   "codemirror_mode": {
    "name": "ipython",
    "version": 2
   },
   "file_extension": ".py",
   "mimetype": "text/x-python",
   "name": "python",
   "nbconvert_exporter": "python",
   "pygments_lexer": "ipython2",
   "version": "2.7.9"
  }
 },
 "nbformat": 4,
 "nbformat_minor": 0
}
