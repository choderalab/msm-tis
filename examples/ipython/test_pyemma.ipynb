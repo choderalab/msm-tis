{
 "cells": [
  {
   "cell_type": "markdown",
   "metadata": {},
   "source": [
    "### PyEmma Featurizer Support"
   ]
  },
  {
   "cell_type": "code",
   "execution_count": 1,
   "metadata": {
    "collapsed": false
   },
   "outputs": [],
   "source": [
    "import openpathsampling as ps\n",
    "import openpathsampling.storage as st"
   ]
  },
  {
   "cell_type": "code",
   "execution_count": 2,
   "metadata": {
    "collapsed": false
   },
   "outputs": [],
   "source": [
    "storage = st.Storage('trajectory.nc', mode='a')"
   ]
  },
  {
   "cell_type": "markdown",
   "metadata": {},
   "source": [
    "Import a PyEmma Coordinates Module"
   ]
  },
  {
   "cell_type": "code",
   "execution_count": 4,
   "metadata": {
    "collapsed": false
   },
   "outputs": [],
   "source": [
    "import pyemma.coordinates as coor"
   ]
  },
  {
   "cell_type": "markdown",
   "metadata": {},
   "source": [
    "Using of pyemma featurizers or general other complex code requires a little trick to be storable. Since storing of code only works if we are not dependend on the context (scope) we need to wrap the construction of our featurizer in a function, that gets all it needs from the global scope as a parameter"
   ]
  },
  {
   "cell_type": "code",
   "execution_count": 5,
   "metadata": {
    "collapsed": true
   },
   "outputs": [],
   "source": [
    "def pyemma_generator(f):\n",
    "    f.add_inverse_distances(f.pairs(f.select_Backbone()))"
   ]
  },
  {
   "cell_type": "code",
   "execution_count": 6,
   "metadata": {
    "collapsed": false
   },
   "outputs": [],
   "source": [
    "cv = ps.collectivevariable.CV_PyEMMA_Featurizer('pyemma', pyemma_generator, topology=storage.template.topology)"
   ]
  },
  {
   "cell_type": "markdown",
   "metadata": {},
   "source": [
    "Now use this featurizer generating function to build a collective variable out of it. All we need for that is a name as usual, the generating function, the list of parameters - here only the topology and at best a test snapshot, a template."
   ]
  },
  {
   "cell_type": "code",
   "execution_count": 7,
   "metadata": {
    "collapsed": false
   },
   "outputs": [],
   "source": [
    "cv(storage.trajectories[0]);"
   ]
  },
  {
   "cell_type": "markdown",
   "metadata": {},
   "source": [
    "Let's save it to the storage"
   ]
  },
  {
   "cell_type": "code",
   "execution_count": 8,
   "metadata": {
    "collapsed": false
   },
   "outputs": [],
   "source": [
    "cv.save(storage)"
   ]
  },
  {
   "cell_type": "markdown",
   "metadata": {},
   "source": [
    "and apply the featurizer to a trajectory"
   ]
  },
  {
   "cell_type": "code",
   "execution_count": 9,
   "metadata": {
    "collapsed": false
   },
   "outputs": [],
   "source": [
    "cv(storage.trajectories[2]);"
   ]
  },
  {
   "cell_type": "markdown",
   "metadata": {},
   "source": [
    "Sync to make sure the cache is written to the netCDF file."
   ]
  },
  {
   "cell_type": "code",
   "execution_count": 10,
   "metadata": {
    "collapsed": false
   },
   "outputs": [],
   "source": [
    "storage.sync_all()"
   ]
  },
  {
   "cell_type": "code",
   "execution_count": 11,
   "metadata": {
    "collapsed": false
   },
   "outputs": [],
   "source": [
    "cv(storage.snapshots.all());"
   ]
  },
  {
   "cell_type": "code",
   "execution_count": 12,
   "metadata": {
    "collapsed": false
   },
   "outputs": [],
   "source": [
    "storage.cvs.sync()"
   ]
  },
  {
   "cell_type": "code",
   "execution_count": 13,
   "metadata": {
    "collapsed": false
   },
   "outputs": [],
   "source": [
    "storage.sync_all()"
   ]
  },
  {
   "cell_type": "code",
   "execution_count": 14,
   "metadata": {
    "collapsed": false
   },
   "outputs": [],
   "source": [
    "py_cv = storage.cvs['pyemma']"
   ]
  },
  {
   "cell_type": "code",
   "execution_count": 15,
   "metadata": {
    "collapsed": false
   },
   "outputs": [],
   "source": [
    "nc_var = storage.variables['snapshots_cv_%d_values' % storage.idx(py_cv)]"
   ]
  },
  {
   "cell_type": "code",
   "execution_count": 16,
   "metadata": {
    "collapsed": false
   },
   "outputs": [
    {
     "name": "stdout",
     "output_type": "stream",
     "text": [
      "15\n"
     ]
    }
   ],
   "source": [
    "assert(nc_var.shape[1] == 15)\n",
    "print nc_var.shape[1]"
   ]
  },
  {
   "cell_type": "code",
   "execution_count": 17,
   "metadata": {
    "collapsed": false
   },
   "outputs": [
    {
     "name": "stdout",
     "output_type": "stream",
     "text": [
      "numpy.float32\n"
     ]
    }
   ],
   "source": [
    "assert(nc_var.var_type == 'numpy.float32')\n",
    "print nc_var.var_type"
   ]
  },
  {
   "cell_type": "code",
   "execution_count": 18,
   "metadata": {
    "collapsed": false
   },
   "outputs": [
    {
     "name": "stdout",
     "output_type": "stream",
     "text": [
      "[ u'{\"_cls\": \"CV_MDTraj_Function\", \"_dict\": {\"store_cache\": true, \"name\": \"psi\", \"f\": {\"_module\": \"mdtraj.geometry.dihedral\", \"_name\": \"compute_dihedrals\"}, \"scalarize_numpy_singletons\": true, \"wrap_numpy_array\": true, \"kwargs\": {\"indices\": [[6, 8, 14, 16]]}, \"requires_lists\": true, \"time_reversible\": true}}'\n",
      " u'{\"_cls\": \"CV_MDTraj_Function\", \"_dict\": {\"store_cache\": true, \"name\": \"phi\", \"f\": {\"_module\": \"mdtraj.geometry.dihedral\", \"_name\": \"compute_dihedrals\"}, \"scalarize_numpy_singletons\": true, \"wrap_numpy_array\": true, \"kwargs\": {\"indices\": [[4, 6, 8, 14]]}, \"requires_lists\": true, \"time_reversible\": true}}'\n",
      " u'{\"_cls\": \"CV_Volume\", \"_dict\": {\"volume\": {\"_obj\": \"volumes\", \"_idx\": 0}, \"store_cache\": true, \"name\": \"StateA\"}}'\n",
      " u'{\"_cls\": \"CV_Volume\", \"_dict\": {\"volume\": {\"_obj\": \"volumes\", \"_idx\": 25}, \"store_cache\": true, \"name\": \"StateB\"}}'\n",
      " u'{\"_cls\": \"CV_Volume\", \"_dict\": {\"volume\": {\"_obj\": \"volumes\", \"_idx\": 26}, \"store_cache\": true, \"name\": \"StateX\"}}'\n",
      " u'{\"_cls\": \"CV_PyEMMA_Featurizer\", \"_dict\": {\"kwargs\": {}, \"store_cache\": true, \"name\": \"pyemma\", \"featurizer\": {\"_marshal\": \"YwEAAAABAAAAAwAAAEMAAABzIAAAAHwAAGoAAHwAAGoBAHwAAGoCAIMAAIMBAIMBAAFkAABTKAEAAABOKAMAAAB0FQAAAGFkZF9pbnZlcnNlX2Rpc3RhbmNlc3QFAAAAcGFpcnN0DwAAAHNlbGVjdF9CYWNrYm9uZSgBAAAAdAEAAABmKAAAAAAoAAAAAHMeAAAAPGlweXRob24taW5wdXQtNC00Nzc0ZDhlZGRkMDA+dBAAAABweWVtbWFfZ2VuZXJhdG9yAQAAAHMCAAAAAAE=\", \"_module_vars\": [], \"_global_vars\": []}, \"topology\": {\"_obj\": \"topologies\", \"_idx\": 0}}}'\n",
      " u'{\"_cls\": \"CV_PyEMMA_Featurizer\", \"_dict\": {\"kwargs\": {}, \"store_cache\": true, \"name\": \"pyemma\", \"featurizer\": {\"_marshal\": \"YwEAAAABAAAAAwAAAEMAAABzIAAAAHwAAGoAAHwAAGoBAHwAAGoCAIMAAIMBAIMBAAFkAABTKAEAAABOKAMAAAB0FQAAAGFkZF9pbnZlcnNlX2Rpc3RhbmNlc3QFAAAAcGFpcnN0DwAAAHNlbGVjdF9CYWNrYm9uZSgBAAAAdAEAAABmKAAAAAAoAAAAAHMeAAAAPGlweXRob24taW5wdXQtNC00Nzc0ZDhlZGRkMDA+dBAAAABweWVtbWFfZ2VuZXJhdG9yAQAAAHMCAAAAAAE=\", \"_module_vars\": [], \"_global_vars\": []}, \"topology\": {\"_obj\": \"topologies\", \"_idx\": 0}}}'\n",
      " u'{\"_cls\": \"CV_PyEMMA_Featurizer\", \"_dict\": {\"kwargs\": {}, \"store_cache\": true, \"name\": \"pyemma\", \"featurizer\": {\"_marshal\": \"YwEAAAABAAAAAwAAAEMAAABzIAAAAHwAAGoAAHwAAGoBAHwAAGoCAIMAAIMBAIMBAAFkAABTKAEAAABOKAMAAAB0FQAAAGFkZF9pbnZlcnNlX2Rpc3RhbmNlc3QFAAAAcGFpcnN0DwAAAHNlbGVjdF9CYWNrYm9uZSgBAAAAdAEAAABmKAAAAAAoAAAAAHMeAAAAPGlweXRob24taW5wdXQtNS00Nzc0ZDhlZGRkMDA+dBAAAABweWVtbWFfZ2VuZXJhdG9yAQAAAHMCAAAAAAE=\", \"_module_vars\": [], \"_global_vars\": []}, \"topology\": {\"_obj\": \"topologies\", \"_idx\": 0}}}']\n"
     ]
    }
   ],
   "source": [
    "#! ignore\n",
    "print storage.variables['cvs_json'][:]"
   ]
  },
  {
   "cell_type": "code",
   "execution_count": 19,
   "metadata": {
    "collapsed": false
   },
   "outputs": [],
   "source": [
    "py_emma_feat = storage.vars['cvs_json'][5]"
   ]
  },
  {
   "cell_type": "code",
   "execution_count": 20,
   "metadata": {
    "collapsed": false
   },
   "outputs": [],
   "source": [
    "erg = py_emma_feat(storage.snapshots);"
   ]
  },
  {
   "cell_type": "code",
   "execution_count": 21,
   "metadata": {
    "collapsed": false
   },
   "outputs": [
    {
     "name": "stdout",
     "output_type": "stream",
     "text": [
      "[ 4.05474138  4.08869648  4.02007341  4.04071331  4.04777765  4.12398911\n",
      "  3.97356868  3.96233702  3.99706006  4.0870719   4.03449965  4.01160955\n",
      "  3.95180297  4.03023672  3.93415093  4.0085144   3.97549605  3.94362783\n",
      "  3.97176313  3.99334955  3.99146152  4.06641769  4.16512966  4.04492378\n",
      "  4.15058517  4.04605961  3.94790721  3.95720506  4.02582121  4.08820391\n",
      "  3.98605466  3.90670562  3.81981516  4.01113605  3.88823342  4.10035563\n",
      "  4.14985943  3.91612959  3.98040414  3.89736295  4.12943125  3.93787169\n",
      "  3.91101813  3.95772362]\n"
     ]
    }
   ],
   "source": [
    "print erg[0::10,1]"
   ]
  },
  {
   "cell_type": "code",
   "execution_count": null,
   "metadata": {
    "collapsed": true
   },
   "outputs": [],
   "source": []
  }
 ],
 "metadata": {
  "kernelspec": {
   "display_name": "Python 2",
   "language": "python",
   "name": "python2"
  },
  "language_info": {
   "codemirror_mode": {
    "name": "ipython",
    "version": 2
   },
   "file_extension": ".py",
   "mimetype": "text/x-python",
   "name": "python",
   "nbconvert_exporter": "python",
   "pygments_lexer": "ipython2",
   "version": "2.7.10"
  }
 },
 "nbformat": 4,
 "nbformat_minor": 0
}
