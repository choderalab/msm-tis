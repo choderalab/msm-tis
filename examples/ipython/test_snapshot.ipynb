{
 "cells": [
  {
   "cell_type": "markdown",
   "metadata": {},
   "source": [
    "## Some testing and analysis of the new `Snapshot` implementation"
   ]
  },
  {
   "cell_type": "code",
   "execution_count": 1,
   "metadata": {
    "collapsed": false
   },
   "outputs": [],
   "source": [
    "import numpy as np\n",
    "import mdtraj as md\n",
    "import pandas as pd\n",
    "import simtk.openmm as mm\n",
    "from simtk.openmm import app\n",
    "from simtk import unit\n",
    " \n",
    "from openpathsampling.visualize import PathTreeBuilder\n",
    "from IPython.display import SVG\n",
    "\n",
    "import openpathsampling as paths"
   ]
  },
  {
   "cell_type": "code",
   "execution_count": 2,
   "metadata": {
    "collapsed": false
   },
   "outputs": [],
   "source": [
    "from IPython.display import Markdown\n",
    "\n",
    "def code_to_md(snapshot_class):\n",
    "    md = '```py\\n'\n",
    "    for f, s in snapshot_class.__features__['debug'].iteritems():\n",
    "        md += s\n",
    "        md += '\\n\\n'\n",
    "    md += '```'\n",
    "\n",
    "    return md"
   ]
  },
  {
   "cell_type": "markdown",
   "metadata": {},
   "source": [
    "### Show the generated source code"
   ]
  },
  {
   "cell_type": "code",
   "execution_count": 3,
   "metadata": {
    "collapsed": true
   },
   "outputs": [],
   "source": [
    "EmptySnap = paths.snapshot.SnapshotFactory('no', [], 'Empty', use_lazy_reversed=False)"
   ]
  },
  {
   "cell_type": "code",
   "execution_count": 4,
   "metadata": {
    "collapsed": false
   },
   "outputs": [
    {
     "data": {
      "text/markdown": [
       "```py\n",
       "@staticmethod\n",
       "def init_copy(self):\n",
       "    self._reversed = None\n",
       "\n",
       "def create_reversed(self):\n",
       "    this = cls.__new__(cls)\n",
       "    this._reversed = self\n",
       "    return this\n",
       "\n",
       "def copy_to(self, target):\n",
       "    target._reversed = None\n",
       "\n",
       "def init_empty(self):\n",
       "    self._reversed = None\n",
       "\n",
       "def copy(self):\n",
       "    this = cls.__new__(cls)\n",
       "    this._reversed = None\n",
       "    return this\n",
       "\n",
       "def __init__(self):\n",
       "    self._reversed = None\n",
       "\n",
       "```"
      ],
      "text/plain": [
       "<IPython.core.display.Markdown object>"
      ]
     },
     "execution_count": 4,
     "metadata": {},
     "output_type": "execute_result"
    }
   ],
   "source": [
    "Markdown(code_to_md(EmptySnap))"
   ]
  },
  {
   "cell_type": "code",
   "execution_count": 5,
   "metadata": {
    "collapsed": true
   },
   "outputs": [],
   "source": [
    "SuperSnap = paths.snapshot.SnapshotFactory(\n",
    "    'my', [\n",
    "        paths.features.coordinates,\n",
    "        paths.features.box_vectors,\n",
    "        paths.features.velocities\n",
    "    ], 'No desc', use_lazy_reversed=False)"
   ]
  },
  {
   "cell_type": "code",
   "execution_count": 6,
   "metadata": {
    "collapsed": false
   },
   "outputs": [
    {
     "data": {
      "text/markdown": [
       "```py\n",
       "@staticmethod\n",
       "def init_copy(self, coordinates=None, box_vectors=None, velocities=None):\n",
       "    self._reversed = None\n",
       "    np.copyto(self.coordinates, coordinates)\n",
       "    np.copyto(self.box_vectors, box_vectors)\n",
       "    np.copyto(self.velocities, velocities)\n",
       "\n",
       "def create_reversed(self):\n",
       "    this = cls.__new__(cls)\n",
       "    this._reversed = self\n",
       "    this.coordinates = self.coordinates\n",
       "    this.box_vectors = self.box_vectors\n",
       "    this.velocities = - self.velocities\n",
       "    return this\n",
       "\n",
       "def copy_to(self, target):\n",
       "    target._reversed = None\n",
       "    np.copyto(target.coordinates, self.coordinates)\n",
       "    np.copyto(target.box_vectors, self.box_vectors)\n",
       "    np.copyto(target.velocities, self.velocities)\n",
       "\n",
       "def init_empty(self):\n",
       "    self._reversed = None\n",
       "\n",
       "def copy(self):\n",
       "    this = cls.__new__(cls)\n",
       "    this._reversed = None\n",
       "    this.coordinates = self.coordinates\n",
       "    this.box_vectors = self.box_vectors\n",
       "    this.velocities = self.velocities\n",
       "    return this\n",
       "\n",
       "def __init__(self, coordinates=None, box_vectors=None, velocities=None):\n",
       "    self._reversed = None\n",
       "    self.coordinates = coordinates\n",
       "    self.box_vectors = box_vectors\n",
       "    self.velocities = velocities\n",
       "\n",
       "```"
      ],
      "text/plain": [
       "<IPython.core.display.Markdown object>"
      ]
     },
     "execution_count": 6,
     "metadata": {},
     "output_type": "execute_result"
    }
   ],
   "source": [
    "Markdown(code_to_md(SuperSnap))"
   ]
  },
  {
   "cell_type": "code",
   "execution_count": 7,
   "metadata": {
    "collapsed": false
   },
   "outputs": [],
   "source": [
    "MegaSnap = paths.snapshot.SnapshotFactory(\n",
    "    'mega', [\n",
    "        paths.features.configuration,\n",
    "        paths.features.momentum,\n",
    "        paths.features.engine\n",
    "    ], 'Long desc', use_lazy_reversed=False)"
   ]
  },
  {
   "cell_type": "code",
   "execution_count": 8,
   "metadata": {
    "collapsed": false
   },
   "outputs": [
    {
     "data": {
      "text/markdown": [
       "```py\n",
       "@staticmethod\n",
       "def init_copy(self, configuration=None, momentum=None, is_reversed=False, engine=None):\n",
       "    self._lazy = {\n",
       "       cls.configuration : configuration,\n",
       "       cls.momentum : momentum,\n",
       "    }\n",
       "    self._reversed = None\n",
       "    self.is_reversed = is_reversed\n",
       "    self.engine = engine\n",
       "\n",
       "def create_reversed(self):\n",
       "    this = cls.__new__(cls)\n",
       "    this._lazy = {\n",
       "       cls.configuration : self._lazy[cls.configuration],\n",
       "       cls.momentum : self._lazy[cls.momentum],\n",
       "    }\n",
       "    this._reversed = self\n",
       "    this.engine = self.engine\n",
       "    this.is_reversed = ~ self.is_reversed\n",
       "    return this\n",
       "\n",
       "def copy_to(self, target):\n",
       "    target._lazy = {\n",
       "       cls.configuration : self._lazy[cls.configuration],\n",
       "       cls.momentum : self._lazy[cls.momentum],\n",
       "    }\n",
       "    target._reversed = None\n",
       "    target.is_reversed = self.is_reversed\n",
       "    target.engine = self.engine\n",
       "\n",
       "def init_empty(self):\n",
       "    self._lazy = {}\n",
       "    self._reversed = None\n",
       "\n",
       "def copy(self):\n",
       "    this = cls.__new__(cls)\n",
       "    this._lazy = {\n",
       "       cls.configuration : self._lazy[cls.configuration],\n",
       "       cls.momentum : self._lazy[cls.momentum],\n",
       "    }\n",
       "    this._reversed = None\n",
       "    this.is_reversed = self.is_reversed\n",
       "    this.engine = self.engine\n",
       "    return this\n",
       "\n",
       "def __init__(self, configuration=None, momentum=None, is_reversed=False, engine=None):\n",
       "    self._lazy = {\n",
       "       cls.configuration : configuration,\n",
       "       cls.momentum : momentum,\n",
       "    }\n",
       "    self._reversed = None\n",
       "    self.is_reversed = is_reversed\n",
       "    self.engine = engine\n",
       "\n",
       "```"
      ],
      "text/plain": [
       "<IPython.core.display.Markdown object>"
      ]
     },
     "execution_count": 8,
     "metadata": {},
     "output_type": "execute_result"
    }
   ],
   "source": [
    "Markdown(code_to_md(MegaSnap))"
   ]
  },
  {
   "cell_type": "markdown",
   "metadata": {},
   "source": [
    "### Check the timing"
   ]
  },
  {
   "cell_type": "code",
   "execution_count": 9,
   "metadata": {
    "collapsed": true
   },
   "outputs": [],
   "source": [
    "arr = np.array(range(200000))\n",
    "brr = np.array(range(200000))"
   ]
  },
  {
   "cell_type": "code",
   "execution_count": 10,
   "metadata": {
    "collapsed": true
   },
   "outputs": [],
   "source": [
    "a = SuperSnap(arr, arr, arr)"
   ]
  },
  {
   "cell_type": "code",
   "execution_count": 11,
   "metadata": {
    "collapsed": false
   },
   "outputs": [
    {
     "name": "stdout",
     "output_type": "stream",
     "text": [
      "The slowest run took 24.69 times longer than the fastest. This could mean that an intermediate result is being cached.\n",
      "1000000 loops, best of 3: 686 ns per loop\n"
     ]
    }
   ],
   "source": [
    "%%timeit\n",
    "a = SuperSnap(arr, arr, arr)"
   ]
  },
  {
   "cell_type": "code",
   "execution_count": 12,
   "metadata": {
    "collapsed": false
   },
   "outputs": [
    {
     "name": "stdout",
     "output_type": "stream",
     "text": [
      "The slowest run took 6.83 times longer than the fastest. This could mean that an intermediate result is being cached.\n",
      "1000000 loops, best of 3: 593 ns per loop\n"
     ]
    }
   ],
   "source": [
    "%%timeit\n",
    "b = SuperSnap()"
   ]
  },
  {
   "cell_type": "code",
   "execution_count": 13,
   "metadata": {
    "collapsed": false
   },
   "outputs": [
    {
     "name": "stdout",
     "output_type": "stream",
     "text": [
      "The slowest run took 5.89 times longer than the fastest. This could mean that an intermediate result is being cached.\n",
      "1000000 loops, best of 3: 850 ns per loop\n"
     ]
    }
   ],
   "source": [
    "%%timeit\n",
    "b = SuperSnap(coordinates=arr, box_vectors=arr, velocities=arr)"
   ]
  },
  {
   "cell_type": "code",
   "execution_count": 14,
   "metadata": {
    "collapsed": true
   },
   "outputs": [],
   "source": [
    "x = EmptySnap()"
   ]
  },
  {
   "cell_type": "code",
   "execution_count": 15,
   "metadata": {
    "collapsed": false
   },
   "outputs": [
    {
     "name": "stdout",
     "output_type": "stream",
     "text": [
      "The slowest run took 9.91 times longer than the fastest. This could mean that an intermediate result is being cached.\n",
      "1000000 loops, best of 3: 385 ns per loop\n"
     ]
    }
   ],
   "source": [
    "%%timeit\n",
    "x = EmptySnap()"
   ]
  },
  {
   "cell_type": "code",
   "execution_count": 16,
   "metadata": {
    "collapsed": false
   },
   "outputs": [
    {
     "name": "stdout",
     "output_type": "stream",
     "text": [
      "The slowest run took 24.47 times longer than the fastest. This could mean that an intermediate result is being cached.\n",
      "1000000 loops, best of 3: 292 ns per loop\n"
     ]
    }
   ],
   "source": [
    "%%timeit\n",
    "x.reversed"
   ]
  },
  {
   "cell_type": "code",
   "execution_count": 17,
   "metadata": {
    "collapsed": false
   },
   "outputs": [
    {
     "name": "stdout",
     "output_type": "stream",
     "text": [
      "The slowest run took 894.47 times longer than the fastest. This could mean that an intermediate result is being cached.\n",
      "1000000 loops, best of 3: 291 ns per loop\n"
     ]
    }
   ],
   "source": [
    "%%timeit\n",
    "a.reversed"
   ]
  },
  {
   "cell_type": "code",
   "execution_count": 18,
   "metadata": {
    "collapsed": true
   },
   "outputs": [],
   "source": [
    "assert(x.reversed.reversed is x)\n",
    "assert(a.reversed.reversed is a)"
   ]
  },
  {
   "cell_type": "code",
   "execution_count": 19,
   "metadata": {
    "collapsed": false
   },
   "outputs": [
    {
     "name": "stdout",
     "output_type": "stream",
     "text": [
      "The slowest run took 30.20 times longer than the fastest. This could mean that an intermediate result is being cached.\n",
      "1000000 loops, best of 3: 268 ns per loop\n"
     ]
    }
   ],
   "source": [
    "%%timeit\n",
    "EmptySnap.__init__(x)"
   ]
  },
  {
   "cell_type": "code",
   "execution_count": 20,
   "metadata": {
    "collapsed": true
   },
   "outputs": [],
   "source": [
    "b = SuperSnap()"
   ]
  },
  {
   "cell_type": "code",
   "execution_count": 21,
   "metadata": {
    "collapsed": false
   },
   "outputs": [
    {
     "name": "stdout",
     "output_type": "stream",
     "text": [
      "The slowest run took 15.01 times longer than the fastest. This could mean that an intermediate result is being cached.\n",
      "1000000 loops, best of 3: 588 ns per loop\n"
     ]
    }
   ],
   "source": [
    "%%timeit\n",
    "SuperSnap.__init__(b, arr, arr, arr)"
   ]
  },
  {
   "cell_type": "code",
   "execution_count": 22,
   "metadata": {
    "collapsed": false
   },
   "outputs": [
    {
     "name": "stdout",
     "output_type": "stream",
     "text": [
      "The slowest run took 6.56 times longer than the fastest. This could mean that an intermediate result is being cached.\n",
      "1000000 loops, best of 3: 764 ns per loop\n"
     ]
    }
   ],
   "source": [
    "%%timeit\n",
    "c = a.copy()"
   ]
  },
  {
   "cell_type": "code",
   "execution_count": 23,
   "metadata": {
    "collapsed": false
   },
   "outputs": [
    {
     "name": "stdout",
     "output_type": "stream",
     "text": [
      "The slowest run took 7.92 times longer than the fastest. This could mean that an intermediate result is being cached.\n",
      "1000000 loops, best of 3: 1.02 µs per loop\n"
     ]
    }
   ],
   "source": [
    "%%timeit\n",
    "a.copy_to(b)"
   ]
  },
  {
   "cell_type": "code",
   "execution_count": 24,
   "metadata": {
    "collapsed": false
   },
   "outputs": [
    {
     "name": "stdout",
     "output_type": "stream",
     "text": [
      "The slowest run took 22.58 times longer than the fastest. This could mean that an intermediate result is being cached.\n",
      "1000000 loops, best of 3: 929 ns per loop\n"
     ]
    }
   ],
   "source": [
    "%%timeit\n",
    "SuperSnap.init_copy(a, arr, arr, arr)"
   ]
  },
  {
   "cell_type": "code",
   "execution_count": 25,
   "metadata": {
    "collapsed": false
   },
   "outputs": [
    {
     "name": "stdout",
     "output_type": "stream",
     "text": [
      "The slowest run took 11.33 times longer than the fastest. This could mean that an intermediate result is being cached.\n",
      "1000000 loops, best of 3: 252 ns per loop\n"
     ]
    }
   ],
   "source": [
    "%%timeit\n",
    "SuperSnap.init_empty(a)"
   ]
  },
  {
   "cell_type": "code",
   "execution_count": null,
   "metadata": {
    "collapsed": true
   },
   "outputs": [],
   "source": []
  },
  {
   "cell_type": "code",
   "execution_count": null,
   "metadata": {
    "collapsed": true
   },
   "outputs": [],
   "source": []
  }
 ],
 "metadata": {
  "kernelspec": {
   "display_name": "Python 2",
   "language": "python",
   "name": "python2"
  },
  "language_info": {
   "codemirror_mode": {
    "name": "ipython",
    "version": 2
   },
   "file_extension": ".py",
   "mimetype": "text/x-python",
   "name": "python",
   "nbconvert_exporter": "python",
   "pygments_lexer": "ipython2",
   "version": "2.7.11"
  }
 },
 "nbformat": 4,
 "nbformat_minor": 0
}
