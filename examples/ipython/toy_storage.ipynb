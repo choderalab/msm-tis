{
 "cells": [
  {
   "cell_type": "code",
   "execution_count": 1,
   "metadata": {},
   "outputs": [],
   "source": [
    "# Note: in practice, one should put all the imports at the top of a Python script. \n",
    "# But for educational purposes here, I put the import immediately before usage. \n",
    "# This Python block is just to set up some plotting stuff.\n",
    "\n",
    "# Imports for plotting\n",
    "import openpathsampling as paths\n",
    "import numpy as np"
   ]
  },
  {
   "cell_type": "code",
   "execution_count": 2,
   "metadata": {},
   "outputs": [],
   "source": [
    "from openpathsampling.toy_dynamics.toy_engine import ToyEngine\n",
    "from openpathsampling.toy_dynamics.toy_integrators import LangevinBAOABIntegrator\n",
    "from openpathsampling.toy_dynamics.toy_pes import Gaussian, OuterWalls\n",
    "\n",
    "#import logging.config\n",
    "#logging.config.fileConfig(\"logging.conf\", disable_existing_loggers=False)"
   ]
  },
  {
   "cell_type": "markdown",
   "metadata": {},
   "source": [
    "### Set up the toy system\n",
    "This includes the potential energy surface (PES), and an initial configuration"
   ]
  },
  {
   "cell_type": "code",
   "execution_count": 3,
   "metadata": {},
   "outputs": [],
   "source": [
    "# Toy_PES supports adding/subtracting various PESs. The OuterWalls PES type gives an x^6+y^6 boundary to the system\n",
    "pes = (OuterWalls([1.0, 1.0], [0.0, 0.0]) + \n",
    "       Gaussian(2.0, [1.0, 4.0], [0.0,1.0]) + \n",
    "       Gaussian(2.0, [25.0, 1.0], [0.0, -1.0])\n",
    "      )\n",
    "topology=paths.ToyTopology(\n",
    "    n_spatial = 2,\n",
    "    masses =[1.0, 1.0],\n",
    "    pes = pes\n",
    ")\n",
    "template = paths.Snapshot(\n",
    "    coordinates=np.array([[-0.5, 0.0]]), \n",
    "    velocities=np.array([[0.0,0.0]]),\n",
    "    potential_energy = 0.0, # Important to set energies dimensionless otherwise kcal/mol is default\n",
    "    kinetic_energy = 0.0,\n",
    "    topology=topology\n",
    ")"
   ]
  },
  {
   "cell_type": "markdown",
   "metadata": {},
   "source": [
    "### Setup engine"
   ]
  },
  {
   "cell_type": "code",
   "execution_count": 4,
   "metadata": {},
   "outputs": [],
   "source": [
    "integ = LangevinBAOABIntegrator(dt=0.02, temperature=0.1, gamma=1.0)\n",
    "options={\n",
    "         'integ' : integ,\n",
    "         'n_frames_max' : 5000,\n",
    "         'nsteps_per_frame' : 10}\n",
    "sim = ToyEngine(\n",
    "        options=options,\n",
    "        template=template\n",
    ")\n",
    "\n",
    "sim.current_snapshot = template"
   ]
  },
  {
   "cell_type": "markdown",
   "metadata": {},
   "source": [
    "### Storage setup"
   ]
  },
  {
   "cell_type": "code",
   "execution_count": 5,
   "metadata": {},
   "outputs": [],
   "source": [
    "storage = paths.storage.Storage('toy_dynamics_storage.nc', mode='w', template=template)"
   ]
  },
  {
   "cell_type": "code",
   "execution_count": 6,
   "metadata": {},
   "outputs": [],
   "source": [
    "from openpathsampling.collectivevariable import CV_Function\n",
    "from openpathsampling.volume import VolumeFactory as vf\n",
    "from openpathsampling.volume import LambdaVolume\n",
    "from openpathsampling.trajectory import Trajectory\n",
    "\n",
    "# Note that we select from the first atom coordinate one, although\n",
    "# there is only one atom. This is to make it consistant with\n",
    "# multiple atom simulations!\n",
    "try:\n",
    "    op_line = CV_Function(name=\"xval\", \n",
    "                          fcn=lambda snap : snap.coordinates[0,0])\n",
    "except ValueError:\n",
    "    print \"xval already made\"\n",
    "# this defines a set of LambdaVolumes for which the minimum is -1.0 and the maximum is given in the array\n",
    "line_volume_set = vf.LambdaVolumeSet(op_line, minvals=-1.0, maxvals=[-0.30, -0.25, -0.20, -0.13, -0.05, 0.0])\n",
    "stateA = LambdaVolume(op_line, -1.0, -0.3)\n",
    "stateB = LambdaVolume(op_line, 0.3, 1.0)"
   ]
  },
  {
   "cell_type": "code",
   "execution_count": 7,
   "metadata": {},
   "outputs": [],
   "source": [
    "from openpathsampling.ensemble import EnsembleFactory as ef\n",
    "from openpathsampling.ensemble import LengthEnsemble, AllInEnsemble, AllOutEnsemble, SequentialEnsemble, OptionalEnsemble, SingleFrameEnsemble\n",
    "\n",
    "interface0 = line_volume_set[0]\n",
    "interface_ensemble_set = ef.TISEnsembleSet(stateA, stateB, line_volume_set)\n",
    "first_traj_ensemble = SequentialEnsemble([\n",
    "    OptionalEnsemble(AllOutEnsemble(stateA)),\n",
    "    AllInEnsemble(stateA),\n",
    "    OptionalEnsemble(AllOutEnsemble(stateA) & AllInEnsemble(interface0)),\n",
    "    OptionalEnsemble(AllInEnsemble(interface0)),\n",
    "    AllOutEnsemble(interface0),\n",
    "    OptionalEnsemble(AllOutEnsemble(stateA)),\n",
    "    SingleFrameEnsemble(AllInEnsemble(stateA))\n",
    "])\n",
    "first_traj_ensemble.name = 'first trajectory ensemble'"
   ]
  },
  {
   "cell_type": "code",
   "execution_count": 8,
   "metadata": {},
   "outputs": [],
   "source": [
    "first_traj = sim.generate(sim.current_snapshot, [first_traj_ensemble.can_append])"
   ]
  },
  {
   "cell_type": "code",
   "execution_count": 9,
   "metadata": {},
   "outputs": [],
   "source": [
    "subtraj = interface_ensemble_set[0].split(first_traj)[0]"
   ]
  },
  {
   "cell_type": "markdown",
   "metadata": {},
   "source": [
    "### Saving some stuff"
   ]
  },
  {
   "cell_type": "code",
   "execution_count": 10,
   "metadata": {},
   "outputs": [],
   "source": [
    "storage.save(first_traj);\n",
    "storage.save(subtraj);\n",
    "storage.save(first_traj_ensemble);"
   ]
  },
  {
   "cell_type": "markdown",
   "metadata": {},
   "source": [
    "Don't forget to sync once in a while!"
   ]
  },
  {
   "cell_type": "code",
   "execution_count": 11,
   "metadata": {},
   "outputs": [],
   "source": [
    "storage.sync() # necessary to make sure all changes are stored to disk!"
   ]
  },
  {
   "cell_type": "code",
   "execution_count": 12,
   "metadata": {},
   "outputs": [],
   "source": [
    "from openpathsampling.pathmover import PathMoverFactory as mf\n",
    "from openpathsampling.shooting import UniformSelector\n",
    "\n",
    "# might be nice to get rid of these two lines somehow\n",
    "from openpathsampling.pathmover import PathMover\n",
    "PathMover.engine = sim\n",
    "\n",
    "shooting_movers = mf.OneWayShootingSet(UniformSelector(), interface_ensemble_set)"
   ]
  },
  {
   "cell_type": "code",
   "execution_count": 13,
   "metadata": {},
   "outputs": [],
   "source": [
    "from openpathsampling.pathsimulator import Bootstrapping\n",
    "\n",
    "# TODO: add storage\n",
    "bootstrap = Bootstrapping(storage=None,\n",
    "                          engine=sim,\n",
    "                          ensembles=interface_ensemble_set,\n",
    "                          movers=shooting_movers,\n",
    "                          trajectory=subtraj)"
   ]
  },
  {
   "cell_type": "code",
   "execution_count": 14,
   "metadata": {},
   "outputs": [],
   "source": [
    "bootstrap.run(300)"
   ]
  },
  {
   "cell_type": "code",
   "execution_count": 15,
   "metadata": {},
   "outputs": [],
   "source": [
    "from openpathsampling.pathmover import PathReversalSet\n",
    "reversal_movers = PathReversalSet(interface_ensemble_set)"
   ]
  },
  {
   "cell_type": "code",
   "execution_count": 16,
   "metadata": {},
   "outputs": [],
   "source": [
    "from openpathsampling.pathmover import RandomChoiceMover\n",
    "shooting_chooser = RandomChoiceMover(shooting_movers)\n",
    "reversal_chooser = RandomChoiceMover(reversal_movers)\n",
    "equilibration_movers = RandomChoiceMover([shooting_chooser, reversal_chooser])"
   ]
  },
  {
   "cell_type": "code",
   "execution_count": 17,
   "metadata": {},
   "outputs": [],
   "source": [
    "from openpathsampling.pathsimulator import PathSampling\n",
    "equilibration = PathSampling(storage=None, engine=sim, root_mover=equilibration_movers, globalstate=bootstrap.globalstate)"
   ]
  },
  {
   "cell_type": "code",
   "execution_count": 18,
   "metadata": {},
   "outputs": [],
   "source": [
    "# does not work with the current configuration of creating an initial ensemble\n",
    "# bootstrapping uses ONLY 1 replica, but several ensembles, this is also\n",
    "# in the tests. I assume here we want to use a set of several replica so we\n",
    "# need to rewrite this in either way. But @David know here more\n",
    "\n",
    "#equilibration.run(200)"
   ]
  },
  {
   "cell_type": "code",
   "execution_count": 19,
   "metadata": {},
   "outputs": [],
   "source": [
    "from openpathsampling.pathmover import NeighborEnsembleReplicaExchange\n",
    "repex_movers = NeighborEnsembleReplicaExchange(interface_ensemble_set)\n",
    "repex_chooser = RandomChoiceMover(repex_movers)"
   ]
  },
  {
   "cell_type": "code",
   "execution_count": 20,
   "metadata": {},
   "outputs": [],
   "source": [
    "retis_root_mover = RandomChoiceMover([shooting_chooser, reversal_chooser, repex_chooser])\n",
    "production = PathSampling(storage=storage, engine=sim, root_mover=retis_root_mover, globalstate=equilibration.globalstate)"
   ]
  },
  {
   "cell_type": "code",
   "execution_count": 21,
   "metadata": {},
   "outputs": [],
   "source": [
    "#production.run(500)"
   ]
  },
  {
   "cell_type": "code",
   "metadata": {},
   "outputs": [],
   "source": [
    ""
   ]
  }
 ],
 "metadata": {
  "kernelspec": {
   "display_name": "Python 2",
   "language": "python",
   "name": "python2"
  },
  "language_info": {
   "codemirror_mode": {
    "name": "ipython",
    "version": 2.0
   },
   "file_extension": ".py",
   "mimetype": "text/x-python",
   "name": "python",
   "nbconvert_exporter": "python",
   "pygments_lexer": "ipython2",
   "version": "2.7.9"
  }
 },
 "nbformat": 4,
 "nbformat_minor": 0
}