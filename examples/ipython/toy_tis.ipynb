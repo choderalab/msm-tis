{
 "cells": [
  {
   "cell_type": "code",
   "execution_count": 1,
   "metadata": {},
   "outputs": [],
   "source": [
    "%matplotlib inline\n",
    "import openpathsampling as paths\n",
    "import numpy as np\n",
    "from toy_plot_helpers import ToyPlot\n",
    "plot = ToyPlot()"
   ]
  },
  {
   "cell_type": "markdown",
   "metadata": {},
   "source": [
    "## Setting up the engine\n",
    "\n",
    "We always need to set up an MD engine which knows the details of the system we're simulating. The MD engine always takes a template snapshot as an example of what the system looks like. Importantly, the template includes a `topology`, which contains information about how to calculate the interactions."
   ]
  },
  {
   "cell_type": "code",
   "execution_count": 2,
   "metadata": {},
   "outputs": [],
   "source": [
    "import openpathsampling.toy_dynamics as toys\n",
    "\n",
    "pes = (\n",
    "    toys.toy_pes.OuterWalls([1.0, 1.0], [0.0, 0.0]) + \n",
    "    toys.toy_pes.Gaussian(2.0, [1.0, 4.0], [0.0,1.0]) + \n",
    "    toys.toy_pes.Gaussian(2.0, [25.0, 1.0], [0.0, -1.0])\n",
    ")\n",
    "\n",
    "topology=paths.ToyTopology(\n",
    "    n_spatial = 2,\n",
    "    masses =[1.0, 1.0],\n",
    "    pes = pes\n",
    ")\n",
    "\n",
    "template = paths.Snapshot(\n",
    "    coordinates=np.array([[-0.5, 0.0]]), \n",
    "    velocities=np.array([[0.0,0.0]]),\n",
    "    potential_energy = 0.0, # Important to set energies dimensionless otherwise kcal/mol is default\n",
    "    kinetic_energy = 0.0,\n",
    "    topology=topology\n",
    ")\n",
    "\n",
    "integ = toys.toy_integrators.LangevinBAOABIntegrator(dt=0.02, temperature=0.1, gamma=2.5)\n",
    "\n",
    "options={\n",
    "    'integ' : integ,\n",
    "    'n_frames_max' : 5000,\n",
    "    'nsteps_per_frame' : 10\n",
    "}\n",
    "\n",
    "toy_eng = toys.toy_engine.ToyEngine(\n",
    "    options=options,\n",
    "    template=template\n",
    ")\n",
    "\n",
    "toy_eng.current_snapshot = template"
   ]
  },
  {
   "cell_type": "markdown",
   "metadata": {},
   "source": [
    "Register this engine with the PathMovers"
   ]
  },
  {
   "cell_type": "code",
   "execution_count": 3,
   "metadata": {},
   "outputs": [],
   "source": [
    "paths.PathMover.engine = toy_eng"
   ]
  },
  {
   "cell_type": "markdown",
   "metadata": {},
   "source": [
    "## Loading trajectories from a previous pathsimulator\n",
    "\n",
    "Path sampling pathsimulators take trajectories as input, so we need an input trajectory. We get that by running the `toy_bootstrap.ipynb`. Since that's a more advanced example, don't worry about understanding everything in there. Assuming you have an initial trajectory, all you need in order to run TIS is what's included in this notebook.\n"
   ]
  },
  {
   "cell_type": "code",
   "execution_count": 4,
   "metadata": {},
   "outputs": [],
   "source": [
    "store_bootstrap = paths.storage.Storage('toy_bootstrap.nc', mode='r')\n",
    "\n",
    "# note that the next three lines could be combined into one; they're separated here for educational purposes\n",
    "final_sample_set = store_bootstrap.sample_sets[len(store_bootstrap.sample_sets)-1]\n",
    "final_sample = final_sample_set.samples[-1]\n",
    "traj = final_sample.trajectory"
   ]
  },
  {
   "cell_type": "markdown",
   "metadata": {},
   "source": [
    "## Setting up order parameter, states, and interfaces"
   ]
  },
  {
   "cell_type": "markdown",
   "metadata": {},
   "source": [
    "First we define the order parameter. We do this in two stages: first, we actually define a normal Python function which takes a `Snapshot` and return a number: in this case, the x-coordinate. Then we wrap that function into an OpenPathSampling order parameter using `paths.CV_Function`."
   ]
  },
  {
   "cell_type": "code",
   "execution_count": 5,
   "metadata": {},
   "outputs": [],
   "source": [
    "def xval(snapshot):\n",
    "    \"\"\"Return atom 0, coordinate 0 from the given snapshot\"\"\"\n",
    "    return snapshot.xyz[0][0]\n",
    "    \n",
    "\n",
    "op_xval = paths.CV_Function(name=\"xval\", fcn=xval)"
   ]
  },
  {
   "cell_type": "markdown",
   "metadata": {},
   "source": [
    "Now we use that order parameter to define several volumes of interest. First we define the states. Note that we Python's `float(\"inf\")` notation to create infinity (and negative infinity). The choice of where to set the state boundaries is based on the image or the PES above.\n",
    "\n",
    "Then we set the interfaces using `LambdaVolumeSet`."
   ]
  },
  {
   "cell_type": "code",
   "execution_count": 6,
   "metadata": {},
   "outputs": [],
   "source": [
    "stateA = paths.LambdaVolume(op_xval, float(\"-inf\"), -0.3)\n",
    "stateB = paths.LambdaVolume(op_xval, 0.3, float(\"inf\"))\n",
    "\n",
    "interfaces = paths.VolumeFactory.LambdaVolumeSet(\n",
    "    op_xval, \n",
    "    minvals=float(\"-inf\"), \n",
    "    maxvals=[-0.30, -0.25, -0.20, -0.13, -0.05, 0.0]\n",
    ")"
   ]
  },
  {
   "cell_type": "markdown",
   "metadata": {},
   "source": [
    "## Equilibration in the path ensemble\n",
    "\n",
    "At the end of the bootstrapping process, we have a set of paths which we can use to start TIS sampling. Before doing a production run, we should let these paths equilibrate within the ensembles. If you generate your initial path through dynamics that aren't the true dynamics (e.g., using high temperature runs or using metadynamics), this stage is **extremely** important. It's important here as well, but less so than if your initial path is non-physical.\n",
    "\n",
    "First, we'll set up the `TISTransition` we're interested in. Since this particular pathsimulator is just studying the A-to-B transition, we use this object. In general, you'll want to use one of the `TransitionNetwork` objects. See the `toy_network.ipynb` notebook for more information on studying networks of transitions."
   ]
  },
  {
   "cell_type": "code",
   "execution_count": 7,
   "metadata": {},
   "outputs": [],
   "source": [
    "tis_trans = paths.TISTransition(\n",
    "    stateA=stateA,\n",
    "    stateB=stateB,\n",
    "    interfaces=interfaces,\n",
    "    name=\"A->B equil\",\n",
    "    collectivevariable=None # default order parameter for analysis; not used\n",
    ")"
   ]
  },
  {
   "cell_type": "code",
   "execution_count": 8,
   "metadata": {},
   "outputs": [],
   "source": [
    "initial_globalstate = paths.SampleSet.map_trajectory_to_ensembles(traj, tis_trans.ensembles)"
   ]
  },
  {
   "cell_type": "markdown",
   "metadata": {},
   "source": [
    "This will be an example of a \"normal\" TIS run, i.e., TIS without replica exchange. We will sampling using only shooter movers (the same ones defined for the bootstrapping) and path reversal movers."
   ]
  },
  {
   "cell_type": "code",
   "execution_count": 9,
   "metadata": {},
   "outputs": [],
   "source": [
    "try:\n",
    "    store_equil = paths.storage.Storage(\"toy_equil.nc\", \"w\", template=template)\n",
    "except RuntimeError:\n",
    "    pass\n",
    "equilibration = paths.PathSampling(\n",
    "    storage=store_equil, \n",
    "    engine=toy_eng, \n",
    "    root_mover=tis_trans.default_movers(toy_eng),\n",
    "    globalstate=initial_globalstate\n",
    ")"
   ]
  },
  {
   "cell_type": "code",
   "execution_count": 10,
   "metadata": {},
   "outputs": [],
   "source": [
    "equilibration.run(10)"
   ]
  },
  {
   "cell_type": "markdown",
   "metadata": {},
   "source": [
    "## RETIS: Production run\n",
    "\n",
    "Now we'll do a full production run using replica exchange TIS (RETIS).\n",
    "\n",
    "First, we create a `RETISTransition`, in the same way that we created the `TISTransition`."
   ]
  },
  {
   "cell_type": "code",
   "execution_count": 11,
   "metadata": {},
   "outputs": [],
   "source": [
    "retis_trans = paths.RETISTransition(\n",
    "    stateA=stateA,\n",
    "    stateB=stateB,\n",
    "    interfaces=interfaces,\n",
    "    name=\"A->B\",\n",
    "    collectivevariable=op_xval # we'll use this in the analysis notebook\n",
    ")\n",
    "start_gs = paths.SampleSet.translate_ensembles(equilibration.globalstate, retis_trans.ensembles)"
   ]
  },
  {
   "cell_type": "markdown",
   "metadata": {},
   "source": [
    "At this point, we still don't have a path that satisfies the minus interface. "
   ]
  },
  {
   "cell_type": "code",
   "execution_count": 12,
   "metadata": {},
   "outputs": [],
   "source": [
    "minus_segment = equilibration.globalstate[0].trajectory\n",
    "last_frame = minus_segment[-1]\n",
    "extension = toy_eng.generate(last_frame, [retis_trans.minus_ensemble.can_append])\n",
    "first_minus = minus_segment + extension[1:]\n",
    "minus_samp = paths.Sample(\n",
    "    replica=-1,\n",
    "    trajectory=first_minus,\n",
    "    ensemble=retis_trans.minus_ensemble,\n",
    "    details=paths.MoveDetails.initialization_from_scratch(first_minus, retis_trans.minus_ensemble)\n",
    ")\n",
    "start_gs = start_gs.apply_samples([minus_samp])"
   ]
  },
  {
   "cell_type": "code",
   "execution_count": 13,
   "metadata": {},
   "outputs": [],
   "source": [
    "try:\n",
    "    store_retis = paths.storage.Storage(\"toy_retis.nc\", \"w\", template=template)\n",
    "except RuntimeError:\n",
    "    pass\n",
    "\n",
    "#store_retis.save(retis_trans) # TODO\n",
    "\n",
    "production = paths.PathSampling(\n",
    "    storage=store_retis,\n",
    "    engine=toy_eng,\n",
    "    root_mover=retis_trans.default_movers(toy_eng),\n",
    "    globalstate=start_gs\n",
    ")"
   ]
  },
  {
   "cell_type": "code",
   "execution_count": 14,
   "metadata": {},
   "outputs": [],
   "source": [
    "import logging.config\n",
    "logging.config.fileConfig(\"logging.conf\", disable_existing_loggers=False)"
   ]
  },
  {
   "cell_type": "code",
   "execution_count": 15,
   "metadata": {},
   "outputs": [],
   "source": [
    "production.run(10)"
   ]
  },
  {
   "cell_type": "code",
   "execution_count": 17,
   "metadata": {},
   "outputs": [],
   "source": [
    "op_xval(store_retis.snapshots);"
   ]
  },
  {
   "cell_type": "code",
   "execution_count": 18,
   "metadata": {},
   "outputs": [],
   "source": [
    "store_retis.cvs.sync(op_xval)"
   ]
  },
  {
   "cell_type": "code",
   "execution_count": 19,
   "metadata": {},
   "outputs": [],
   "source": [
    "store_retis.sync()"
   ]
  },
  {
   "cell_type": "code",
   "metadata": {},
   "outputs": [],
   "source": [
    ""
   ]
  }
 ],
 "metadata": {
  "kernelspec": {
   "display_name": "Python 2",
   "language": "python",
   "name": "python2"
  },
  "language_info": {
   "codemirror_mode": {
    "name": "ipython",
    "version": 2.0
   },
   "file_extension": ".py",
   "mimetype": "text/x-python",
   "name": "python",
   "nbconvert_exporter": "python",
   "pygments_lexer": "ipython2",
   "version": "2.7.9"
  }
 },
 "nbformat": 4,
 "nbformat_minor": 0
}