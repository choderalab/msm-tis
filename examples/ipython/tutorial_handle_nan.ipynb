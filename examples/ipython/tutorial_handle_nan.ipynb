{
 "cells": [
  {
   "cell_type": "markdown",
   "metadata": {},
   "source": [
    "# How to deal with errors in engines"
   ]
  },
  {
   "cell_type": "markdown",
   "metadata": {},
   "source": [
    "## Imports"
   ]
  },
  {
   "cell_type": "code",
   "execution_count": 1,
   "metadata": {
    "collapsed": true
   },
   "outputs": [],
   "source": [
    "import openpathsampling as paths\n",
    "\n",
    "import openpathsampling.engines.openmm as dyn_omm\n",
    "import openpathsampling.engines as dyn\n",
    "from simtk.openmm import app\n",
    "import simtk.openmm as mm\n",
    "import simtk.unit as unit\n",
    "\n",
    "import mdtraj as md\n",
    "\n",
    "import numpy as np"
   ]
  },
  {
   "cell_type": "markdown",
   "metadata": {},
   "source": [
    "## Setting up the engine"
   ]
  },
  {
   "cell_type": "markdown",
   "metadata": {},
   "source": [
    "Now we set things up for the OpenMM simulation. We will need a `openmm.System` object and an `openmm.Integrator` object.\n",
    "\n",
    "To learn more about OpenMM, read the [OpenMM documentation](http://docs.openmm.org). The code we use here is based on output from the convenient web-based [OpenMM builder](http://builder.openmm.org)."
   ]
  },
  {
   "cell_type": "code",
   "execution_count": 2,
   "metadata": {
    "collapsed": false
   },
   "outputs": [],
   "source": [
    "# this cell is all OpenMM specific\n",
    "forcefield = app.ForceField('amber96.xml', 'tip3p.xml')\n",
    "pdb = app.PDBFile(\"../data/Alanine_solvated.pdb\")\n",
    "system = forcefield.createSystem(\n",
    "    pdb.topology, \n",
    "    nonbondedMethod=app.PME, \n",
    "    nonbondedCutoff=1.0*unit.nanometers,\n",
    "    constraints=app.HBonds, \n",
    "    rigidWater=True,\n",
    "    ewaldErrorTolerance=0.0005\n",
    ")\n",
    "hi_T_integrator = mm.LangevinIntegrator(\n",
    "    500*unit.kelvin, \n",
    "    1.0/unit.picoseconds, \n",
    "    2.0*unit.femtoseconds)\n",
    "hi_T_integrator.setConstraintTolerance(0.00001)"
   ]
  },
  {
   "cell_type": "markdown",
   "metadata": {},
   "source": [
    "The storage file will need a template snapshot. In addition, the OPS OpenMM-based `Engine` has a few properties and options that are set by these dictionaries."
   ]
  },
  {
   "cell_type": "code",
   "execution_count": 3,
   "metadata": {
    "collapsed": true
   },
   "outputs": [],
   "source": [
    "template = dyn_omm.snapshot_from_pdb(\"../data/Alanine_solvated.pdb\")\n",
    "openmm_properties = {'OpenCLPrecision': 'mixed'}\n",
    "engine_options = {\n",
    "    'n_frames_max': 2000,\n",
    "    'nsteps_per_frame': 10\n",
    "}"
   ]
  },
  {
   "cell_type": "code",
   "execution_count": 4,
   "metadata": {
    "collapsed": false
   },
   "outputs": [],
   "source": [
    "engine = dyn_omm.Engine(\n",
    "    template.topology, \n",
    "    system, \n",
    "    hi_T_integrator, \n",
    "    openmm_properties=openmm_properties,\n",
    "    options=engine_options\n",
    ").named('500K')"
   ]
  },
  {
   "cell_type": "code",
   "execution_count": 5,
   "metadata": {
    "collapsed": false
   },
   "outputs": [],
   "source": [
    "engine.initialize('OpenCL')"
   ]
  },
  {
   "cell_type": "markdown",
   "metadata": {},
   "source": [
    "## Defining states\n",
    "\n",
    "We define stupid non-existant states which we can never hit. Good grounds to generate nan or too long trajectories."
   ]
  },
  {
   "cell_type": "code",
   "execution_count": 6,
   "metadata": {
    "collapsed": true
   },
   "outputs": [],
   "source": [
    "volA = paths.EmptyVolume()\n",
    "volB = paths.EmptyVolume()"
   ]
  },
  {
   "cell_type": "code",
   "execution_count": 7,
   "metadata": {
    "collapsed": false
   },
   "outputs": [],
   "source": [
    "init_traj_ensemble = paths.AllOutXEnsemble(volA) | paths.AllOutXEnsemble(volB)"
   ]
  },
  {
   "cell_type": "markdown",
   "metadata": {},
   "source": [
    "Create a bad snapshot"
   ]
  },
  {
   "cell_type": "code",
   "execution_count": 8,
   "metadata": {
    "collapsed": false
   },
   "outputs": [],
   "source": [
    "nan_causing_template = template.copy()\n",
    "kinetics = template.kinetics.copy()\n",
    "# this is crude but does the trick\n",
    "kinetics.velocities = kinetics.velocities.copy()\n",
    "kinetics.velocities[0] = \\\n",
    "    (np.zeros(template.velocities.shape[1]) + 1000000.) * \\\n",
    "    unit.nanometers / unit.picoseconds\n",
    "nan_causing_template.kinetics = kinetics"
   ]
  },
  {
   "cell_type": "code",
   "execution_count": 9,
   "metadata": {
    "collapsed": false
   },
   "outputs": [
    {
     "name": "stdout",
     "output_type": "stream",
     "text": [
      "we got NaNs, oh no.\n",
      "last valid trajectory was of length 1\n"
     ]
    }
   ],
   "source": [
    "# generate trajectory that includes frame in both states\n",
    "try:\n",
    "    trajectory = engine.generate(nan_causing_template, [init_traj_ensemble.can_append])\n",
    "except dyn.EngineNaNError as e:\n",
    "    print 'we got NaNs, oh no.'\n",
    "    print 'last valid trajectory was of length %d' % len(e.last_trajectory)\n",
    "except dyn.EngineMaxLengthError as e:\n",
    "    print 'we ran into max length.'\n",
    "    print 'last valid trajectory was of length %d' % len(e.last_trajectory)\n"
   ]
  },
  {
   "cell_type": "markdown",
   "metadata": {},
   "source": [
    "Now we will make a long trajectory"
   ]
  },
  {
   "cell_type": "code",
   "execution_count": 10,
   "metadata": {
    "collapsed": true
   },
   "outputs": [],
   "source": [
    "engine.options['n_frames_max'] = 10\n",
    "engine.options['on_max_length'] = 'fail'"
   ]
  },
  {
   "cell_type": "code",
   "execution_count": 11,
   "metadata": {
    "collapsed": false
   },
   "outputs": [
    {
     "name": "stdout",
     "output_type": "stream",
     "text": [
      "0 0 2 10\n",
      "0 0 3 10\n",
      "0 0 4 10\n",
      "0 0 5 10\n",
      "0 0 6 10\n",
      "0 0 7 10\n",
      "0 0 8 10\n",
      "0 0 9 10\n",
      "0 0 10 10\n",
      "we ran into max length.\n",
      "last valid trajectory was of length 10\n"
     ]
    }
   ],
   "source": [
    "# generate trajectory that includes frame in both states\n",
    "try:\n",
    "    trajectory = engine.generate(template, [init_traj_ensemble.can_append])\n",
    "except dyn.EngineNaNError as e:\n",
    "    print 'we got NaNs, oh no.'\n",
    "    print 'last valid trajectory was of length %d' % len(e.last_trajectory)\n",
    "except dyn.EngineMaxLengthError as e:\n",
    "    print 'we ran into max length.'\n",
    "    print 'last valid trajectory was of length %d' % len(e.last_trajectory)\n",
    "\n"
   ]
  },
  {
   "cell_type": "markdown",
   "metadata": {},
   "source": [
    "What, if that happens inside of a simulation?"
   ]
  },
  {
   "cell_type": "code",
   "execution_count": 12,
   "metadata": {
    "collapsed": true
   },
   "outputs": [],
   "source": [
    "mover = paths.ForwardShootMover(\n",
    "    ensemble=init_traj_ensemble, \n",
    "    selector=paths.UniformSelector(),\n",
    "    engine=engine)"
   ]
  },
  {
   "cell_type": "markdown",
   "metadata": {},
   "source": [
    "Should run indefinitely and hit the max frames of 10."
   ]
  },
  {
   "cell_type": "code",
   "execution_count": 13,
   "metadata": {
    "collapsed": false
   },
   "outputs": [],
   "source": [
    "init_sampleset = paths.SampleSet([paths.Sample(\n",
    "            trajectory=paths.Trajectory([template] * 5),\n",
    "            replica=0,\n",
    "            ensemble = init_traj_ensemble\n",
    "    )])"
   ]
  },
  {
   "cell_type": "markdown",
   "metadata": {},
   "source": [
    "Run the PathMover and check the change"
   ]
  },
  {
   "cell_type": "code",
   "execution_count": 14,
   "metadata": {
    "collapsed": false
   },
   "outputs": [
    {
     "name": "stdout",
     "output_type": "stream",
     "text": [
      "0 0 2 10\n",
      "0 0 3 10\n",
      "0 0 4 10\n",
      "0 0 5 10\n",
      "0 0 6 10\n",
      "0 0 7 10\n",
      "0 0 8 10\n",
      "0 0 9 10\n",
      "0 0 10 10\n"
     ]
    }
   ],
   "source": [
    "change = mover.move(init_sampleset)"
   ]
  },
  {
   "cell_type": "code",
   "execution_count": 15,
   "metadata": {
    "collapsed": true
   },
   "outputs": [],
   "source": [
    "assert(isinstance(change, paths.movechange.RejectedMaxLengthSampleMoveChange))"
   ]
  },
  {
   "cell_type": "code",
   "execution_count": 16,
   "metadata": {
    "collapsed": false
   },
   "outputs": [],
   "source": [
    "assert(not change.accepted)"
   ]
  },
  {
   "cell_type": "code",
   "execution_count": 17,
   "metadata": {
    "collapsed": false
   },
   "outputs": [
    {
     "data": {
      "text/plain": [
       "'max_length'"
      ]
     },
     "execution_count": 17,
     "metadata": {},
     "output_type": "execute_result"
    }
   ],
   "source": [
    "change.samples[0].details.__dict__.get('stopping_reason')"
   ]
  },
  {
   "cell_type": "markdown",
   "metadata": {},
   "source": [
    "Let's try again what happens when nan is encountered"
   ]
  },
  {
   "cell_type": "code",
   "execution_count": 18,
   "metadata": {
    "collapsed": false
   },
   "outputs": [],
   "source": [
    "init_sampleset = paths.SampleSet([paths.Sample(\n",
    "            trajectory=paths.Trajectory([nan_causing_template] * 5),\n",
    "            replica=0,\n",
    "            ensemble = init_traj_ensemble\n",
    "    )])"
   ]
  },
  {
   "cell_type": "code",
   "execution_count": 19,
   "metadata": {
    "collapsed": true
   },
   "outputs": [],
   "source": [
    "change = mover.move(init_sampleset)"
   ]
  },
  {
   "cell_type": "code",
   "execution_count": 20,
   "metadata": {
    "collapsed": false
   },
   "outputs": [],
   "source": [
    "assert(isinstance(change, paths.movechange.RejectedNaNSampleMoveChange))"
   ]
  },
  {
   "cell_type": "code",
   "execution_count": 21,
   "metadata": {
    "collapsed": true
   },
   "outputs": [],
   "source": [
    "assert(not change.accepted)"
   ]
  },
  {
   "cell_type": "code",
   "execution_count": 22,
   "metadata": {
    "collapsed": false
   },
   "outputs": [
    {
     "data": {
      "text/plain": [
       "'nan'"
      ]
     },
     "execution_count": 22,
     "metadata": {},
     "output_type": "execute_result"
    }
   ],
   "source": [
    "change.samples[0].details.__dict__.get('stopping_reason')"
   ]
  },
  {
   "cell_type": "markdown",
   "metadata": {},
   "source": [
    "Change the behaviour of the engine to ignore nans. This is really not advised, because not all platforms support this. `CPU` will always throw an `nan` error and "
   ]
  },
  {
   "cell_type": "code",
   "execution_count": 23,
   "metadata": {
    "collapsed": false
   },
   "outputs": [
    {
     "data": {
      "text/plain": [
       "{'n_frames_max': 10,\n",
       " 'n_steps_per_frame': 10,\n",
       " 'on_error': 'fail',\n",
       " 'on_max_length': 'fail',\n",
       " 'on_nan': 'ignore',\n",
       " 'on_retry': 'full',\n",
       " 'retries_when_error': 0,\n",
       " 'retries_when_max_length': 0,\n",
       " 'retries_when_nan': 2,\n",
       " 'timestep': None}"
      ]
     },
     "execution_count": 23,
     "metadata": {},
     "output_type": "execute_result"
    }
   ],
   "source": [
    "engine.options['on_nan'] = 'ignore'\n",
    "engine.options"
   ]
  },
  {
   "cell_type": "code",
   "execution_count": 24,
   "metadata": {
    "collapsed": false
   },
   "outputs": [
    {
     "name": "stdout",
     "output_type": "stream",
     "text": [
      "0 0 2 10\n",
      "0 0 3 10\n",
      "0 0 4 10\n",
      "0 0 5 10\n",
      "0 0 6 10\n",
      "0 0 7 10\n",
      "0 0 8 10\n",
      "0 0 9 10\n",
      "0 0 10 10\n"
     ]
    }
   ],
   "source": [
    "change = mover.move(init_sampleset)"
   ]
  },
  {
   "cell_type": "code",
   "execution_count": null,
   "metadata": {
    "collapsed": true
   },
   "outputs": [],
   "source": []
  }
 ],
 "metadata": {
  "kernelspec": {
   "display_name": "Python 2",
   "language": "python",
   "name": "python2"
  },
  "language_info": {
   "codemirror_mode": {
    "name": "ipython",
    "version": 2
   },
   "file_extension": ".py",
   "mimetype": "text/x-python",
   "name": "python",
   "nbconvert_exporter": "python",
   "pygments_lexer": "ipython2",
   "version": "2.7.12"
  }
 },
 "nbformat": 4,
 "nbformat_minor": 0
}
