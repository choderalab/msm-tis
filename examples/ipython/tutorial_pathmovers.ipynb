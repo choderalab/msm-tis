{
 "cells": [
  {
   "cell_type": "markdown",
   "metadata": {},
   "source": [
    "### PathMovers"
   ]
  },
  {
   "cell_type": "markdown",
   "metadata": {},
   "source": [
    "This notebook is an introduction to handling `PathMover` and `PathMoveChange` instances. It mostly covers the questions on \n",
    "1. how to check if a certain mover was part of a change. \n",
    "2. What are the possible changes a mover can generate.\n",
    "3. ..."
   ]
  },
  {
   "cell_type": "markdown",
   "metadata": {},
   "source": [
    "Load OPENPATHSAMPLING"
   ]
  },
  {
   "cell_type": "code",
   "execution_count": 1,
   "metadata": {
    "collapsed": false
   },
   "outputs": [],
   "source": [
    "import openpathsampling as p"
   ]
  },
  {
   "cell_type": "markdown",
   "metadata": {},
   "source": [
    "Let's open a file that contains a mover and lot's of changes"
   ]
  },
  {
   "cell_type": "code",
   "execution_count": 2,
   "metadata": {
    "collapsed": false
   },
   "outputs": [],
   "source": [
    "st = p.storage.Storage('mstis.nc', mode='r')"
   ]
  },
  {
   "cell_type": "markdown",
   "metadata": {},
   "source": [
    "A Simulator creates simulation steps. So we load a single step."
   ]
  },
  {
   "cell_type": "code",
   "execution_count": 3,
   "metadata": {
    "collapsed": false
   },
   "outputs": [
    {
     "name": "stdout",
     "output_type": "stream",
     "text": [
      "<openpathsampling.pathsimulator.MCStep object at 0x10f60d450>\n"
     ]
    }
   ],
   "source": [
    "mc = st.steps[3]\n",
    "print mc"
   ]
  },
  {
   "cell_type": "markdown",
   "metadata": {},
   "source": [
    "Each step posesses a pathmovechange which we will get"
   ]
  },
  {
   "cell_type": "code",
   "execution_count": 4,
   "metadata": {
    "collapsed": false
   },
   "outputs": [
    {
     "name": "stdout",
     "output_type": "stream",
     "text": [
      "PathSimulatorStep : PathSampling : Step # 3 with 0 samples\n",
      " +- RandomChoice :\n",
      "     +- RandomChoice :\n",
      "         +- SampleMove : ReplicaExchangeMover : False :[]\n"
     ]
    }
   ],
   "source": [
    "pmc = mc.change\n",
    "print pmc"
   ]
  },
  {
   "cell_type": "markdown",
   "metadata": {},
   "source": [
    "And the mover that was used to generate this change"
   ]
  },
  {
   "cell_type": "code",
   "execution_count": 5,
   "metadata": {
    "collapsed": false
   },
   "outputs": [
    {
     "name": "stdout",
     "output_type": "stream",
     "text": [
      "PathSimulator(10f60df50)\n",
      " +- RandomChoice(10f3bb990)\n",
      "     +- ShootingChooser(10f3af810)\n",
      "     |   +- OneWayShootingMover I'face 0(10f3c79d0)\n",
      "     |   |   +- ForwardShoot(1060e4e50)\n",
      "     |   |   +- BackwardShoot(10f3c7f10)\n",
      "     |   +- OneWayShootingMover I'face 1(1060f5850)\n",
      "     |   |   +- ForwardShoot(10f0b2110)\n",
      "     |   |   +- BackwardShoot(10f3d0e10)\n",
      "     |   +- OneWayShootingMover I'face 2(10f3c7150)\n",
      "     |   |   +- ForwardShoot(10f3c0050)\n",
      "     |   |   +- BackwardShoot(10f3c7ad0)\n",
      "     |   +- OneWayShootingMover I'face 0(10f3af610)\n",
      "     |   |   +- ForwardShoot(10f3c0990)\n",
      "     |   |   +- BackwardShoot(10f3af3d0)\n",
      "     |   +- OneWayShootingMover I'face 1(10f3c7390)\n",
      "     |   |   +- ForwardShoot(10f3d0290)\n",
      "     |   |   +- BackwardShoot(10f3c7050)\n",
      "     |   +- OneWayShootingMover I'face 2(10f3aff50)\n",
      "     |   |   +- ForwardShoot(10f3c0450)\n",
      "     |   |   +- BackwardShoot(10f3af210)\n",
      "     |   +- OneWayShootingMover I'face 0(10f3c7090)\n",
      "     |   |   +- ForwardShoot(10f3d0d90)\n",
      "     |   |   +- BackwardShoot(10f3c71d0)\n",
      "     |   +- OneWayShootingMover I'face 1(10f3af310)\n",
      "     |   |   +- ForwardShoot(10f3c0f90)\n",
      "     |   |   +- BackwardShoot(10f3afc10)\n",
      "     |   +- OneWayShootingMover I'face 2(10f3c7d10)\n",
      "     |   |   +- ForwardShoot(10f3af790)\n",
      "     |   |   +- BackwardShoot(10f3c70d0)\n",
      "     |   +- OneWayShooting(10f3afd50)\n",
      "     |       +- ForwardShoot(10f3c0cd0)\n",
      "     |       +- BackwardShoot(10f3afad0)\n",
      "     +- RepExChooser(10f3afa50)\n",
      "     |   +- ReplicaExchange(10f3af650)\n",
      "     |   +- ReplicaExchange(10f3afbd0)\n",
      "     |   +- ReplicaExchange(10f3af390)\n",
      "     |   +- ReplicaExchange(10f3afed0)\n",
      "     |   +- ReplicaExchange(10f3afa10)\n",
      "     |   +- ReplicaExchange(10f3a76d0)\n",
      "     +- ReversalChooser(10f3af6d0)\n",
      "     |   +- PathReversal(10f3c72d0)\n",
      "     |   +- PathReversal(10f3d0d50)\n",
      "     |   +- PathReversal(10f3c7690)\n",
      "     |   +- PathReversal(10f3d0250)\n",
      "     |   +- PathReversal(10f3c7550)\n",
      "     |   +- PathReversal(10f3d0590)\n",
      "     |   +- PathReversal(10f3c78d0)\n",
      "     |   +- PathReversal(10f3d08d0)\n",
      "     |   +- PathReversal(10f3c7b90)\n",
      "     |   +- PathReversal(10f3d0a10)\n",
      "     +- MinusChooser(10f3a71d0)\n",
      "     |   +- Minus(1060f5a10)\n",
      "     |   |   +- EnsembleFilter(10f604b90)\n",
      "     |   |       +- ConditionalSequential(10f604b50)\n",
      "     |   |           +- MinusSubtrajectoryChooser(10f3b3310)\n",
      "     |   |           |   +- FirstSubtrajectorySelect(10f3a7410)\n",
      "     |   |           |   +- FinalSubtrajectorySelect(10f3b3c90)\n",
      "     |   |           +- InterfaceSetChooser(10f3a7110)\n",
      "     |   |           |   +- ReplicaExchange(10f3a7710)\n",
      "     |   |           +- MinusExtensionDirectionChooser(10f604290)\n",
      "     |   |               +- ForwardExtend(10f3a73d0)\n",
      "     |   |               +- BackwardExtend(10f604ed0)\n",
      "     |   +- Minus(10f60d2d0)\n",
      "     |   |   +- EnsembleFilter(10f60d890)\n",
      "     |   |       +- ConditionalSequential(10f60de10)\n",
      "     |   |           +- MinusSubtrajectoryChooser(10f60d690)\n",
      "     |   |           |   +- FirstSubtrajectorySelect(10f3c5a10)\n",
      "     |   |           |   +- FinalSubtrajectorySelect(10f60de50)\n",
      "     |   |           +- InterfaceSetChooser(10f3c5cd0)\n",
      "     |   |           |   +- ReplicaExchange(10f3c5610)\n",
      "     |   |           +- MinusExtensionDirectionChooser(10f60da90)\n",
      "     |   |               +- ForwardExtend(10f3c53d0)\n",
      "     |   |               +- BackwardExtend(10f60d390)\n",
      "     |   +- Minus(10f3a7690)\n",
      "     |       +- EnsembleFilter(10f3a7d90)\n",
      "     |           +- ConditionalSequential(10f3a7a10)\n",
      "     |               +- MinusSubtrajectoryChooser(10f3bb3d0)\n",
      "     |               |   +- FirstSubtrajectorySelect(10f3c0f50)\n",
      "     |               |   +- FinalSubtrajectorySelect(10f3bbe50)\n",
      "     |               +- InterfaceSetChooser(10f3c7d50)\n",
      "     |               |   +- ReplicaExchange(10f3c7890)\n",
      "     |               +- MinusExtensionDirectionChooser(10f3a7550)\n",
      "     |                   +- ForwardExtend(10f3c0a50)\n",
      "     |                   +- BackwardExtend(10f3a7590)\n",
      "     +- MSOuterRepexChooser(10f3bbb90)\n",
      "         +- ReplicaExchange(10f3bb590)\n",
      "         +- ReplicaExchange(10f60d3d0)\n",
      "         +- ReplicaExchange(10f3bb190)\n"
     ]
    }
   ],
   "source": [
    "pm = pmc.mover\n",
    "print pm.treeprint()"
   ]
  },
  {
   "cell_type": "markdown",
   "metadata": {},
   "source": [
    "Let's first check if the pmc was really created by the pathmover"
   ]
  },
  {
   "cell_type": "code",
   "execution_count": 6,
   "metadata": {
    "collapsed": false
   },
   "outputs": [
    {
     "data": {
      "text/plain": [
       "True"
      ]
     },
     "execution_count": 6,
     "metadata": {},
     "output_type": "execute_result"
    }
   ],
   "source": [
    "pmc in pm"
   ]
  },
  {
   "cell_type": "markdown",
   "metadata": {},
   "source": [
    "This should be obvious, but under the hood there is some more fancy stuff happening. The `in` keyword with pathmovers and changes actually works on trees of movers. These trees are used to represent a specific order or movers being called and these trees are unique for changes. This means there is a way to label each possible pmc that can be generated by a mover. This possible only refers to choices in actual movers. \n",
    "\n",
    "This is due to special PathMovers that can pick one or more movers among a set of possibilities. The simplest of these is the OneWayShooter which choses equal between forward and backward shooting. So a OneWayShooter has two possible outcomes. Let's look at these"
   ]
  },
  {
   "cell_type": "code",
   "execution_count": 7,
   "metadata": {
    "collapsed": false
   },
   "outputs": [],
   "source": [
    "ow_mover = p.OneWayShootingMover([], []) # we use dummy arguments since are not going to use it"
   ]
  },
  {
   "cell_type": "markdown",
   "metadata": {},
   "source": [
    "The property `enum` will evaluate the (potentially VERY large) number of all possible changes"
   ]
  },
  {
   "cell_type": "code",
   "execution_count": 8,
   "metadata": {
    "collapsed": false
   },
   "outputs": [
    {
     "data": {
      "text/plain": [
       "[(OneWayShooting(10f3c7b50), (ForwardShoot(10f3c7350))),\n",
       " (OneWayShooting(10f3c7b50), (BackwardShoot(10f3c7f50)))]"
      ]
     },
     "execution_count": 8,
     "metadata": {},
     "output_type": "execute_result"
    }
   ],
   "source": [
    "list(ow_mover.enum)"
   ]
  },
  {
   "cell_type": "markdown",
   "metadata": {},
   "source": [
    "which is two in our case. Another example"
   ]
  },
  {
   "cell_type": "code",
   "execution_count": 9,
   "metadata": {
    "collapsed": false
   },
   "outputs": [],
   "source": [
    "ow_mover_2 = p.RandomChoiceMover([\n",
    "        p.OneWayShootingMover([], []),\n",
    "        p.OneWayShootingMover([], [])\n",
    "        ])"
   ]
  },
  {
   "cell_type": "code",
   "execution_count": 10,
   "metadata": {
    "collapsed": false
   },
   "outputs": [
    {
     "data": {
      "text/plain": [
       "[(RandomChoice(10f60d790),\n",
       "     (OneWayShooting(10f3c0b10), (BackwardShoot(10f60d750)))),\n",
       " (RandomChoice(10f60d790),\n",
       "     (OneWayShooting(10f3c0b10), (ForwardShoot(10f0b2590)))),\n",
       " (RandomChoice(10f60d790),\n",
       "     (OneWayShooting(10f3c0610), (ForwardShoot(10f60d050)))),\n",
       " (RandomChoice(10f60d790),\n",
       "     (OneWayShooting(10f3c0610), (BackwardShoot(10f60d410))))]"
      ]
     },
     "execution_count": 10,
     "metadata": {},
     "output_type": "execute_result"
    }
   ],
   "source": [
    "list(ow_mover_2.enum)"
   ]
  },
  {
   "cell_type": "markdown",
   "metadata": {},
   "source": [
    "Now we have 4 choices as expected 2 for the RandomChoice * 2 for the OneWayShooter. Although effectively there are only 2 distinct ones. Why is that? The problem in `ow_mover_2` is that we defined two separate instances of the OneWayShootingMover and in general different instances are considered different. In this case it might even be possible to check for equality, but we decided to leave this to the user. If you create two instances we assume there is a reason. Maybe just calling the differently (although it makes no sense for the monte carlo scheme).\n",
    "\n",
    "The next example uses the same mover twice"
   ]
  },
  {
   "cell_type": "code",
   "execution_count": 11,
   "metadata": {
    "collapsed": false
   },
   "outputs": [],
   "source": [
    "ow_mover_3 = p.RandomChoiceMover([\n",
    "        ow_mover,\n",
    "        ow_mover\n",
    "        ])"
   ]
  },
  {
   "cell_type": "code",
   "execution_count": 12,
   "metadata": {
    "collapsed": false
   },
   "outputs": [
    {
     "data": {
      "text/plain": [
       "[(RandomChoice(10f3c0350),\n",
       "     (OneWayShooting(10f3c7b50), (ForwardShoot(10f3c7350)))),\n",
       " (RandomChoice(10f3c0350),\n",
       "     (OneWayShooting(10f3c7b50), (BackwardShoot(10f3c7f50))))]"
      ]
     },
     "execution_count": 12,
     "metadata": {},
     "output_type": "execute_result"
    }
   ],
   "source": [
    "list(ow_mover_3.enum)"
   ]
  },
  {
   "cell_type": "markdown",
   "metadata": {},
   "source": [
    "And we get only two distinct movers as we wanted to."
   ]
  },
  {
   "cell_type": "markdown",
   "metadata": {},
   "source": [
    "Let's look at the real mover"
   ]
  },
  {
   "cell_type": "code",
   "execution_count": 13,
   "metadata": {
    "collapsed": false,
    "scrolled": true
   },
   "outputs": [
    {
     "name": "stdout",
     "output_type": "stream",
     "text": [
      "63\n"
     ]
    }
   ],
   "source": [
    "all_changes = list(pm.enum)\n",
    "print len(all_changes)"
   ]
  },
  {
   "cell_type": "markdown",
   "metadata": {},
   "source": [
    "This one has 63. Let's if we can reconstruct that number. The pathmover first choses between 5 different move types. \n",
    "\n",
    "1. Shooting, with one shooter for each of the 3 x 3 + 1? ensembles and two directions (forward and backward) are 10 * 2 = 20 in total. \n",
    "2. Reversal moves for each ensemble = 10\n",
    "3. ReplicaExchange moves between all neighboring ensembles 3 x [1,2], [2,3]  = 6\n",
    "4. OuterRexEx for each state = 3\n",
    "5. And a choice of a Minus Move for each state that consists of choices for picking the first or final inner trajectory from the minus ensemble and 2 choices for extending forward or backward. Here is important that we use a ConditionalSequentialMover that might call only some of its inner sequence. To be precise it could call only the subtrajectoryselection (2 choices), the selection and the replicaexchange (also 2 choices) or all three movers (4 choices). This will give a total of 8 possibilities for the minus move per state and thus = 24.\n",
    "\n",
    "In total we have 20 + 10 + 6 + 3 + 24 = 63 as `enum` predicted. \n",
    "\n",
    "> Note that this is only the maximal possible number of moves and not the real accessible moves. It could be that in a conditional mover some moves are always run in sequence. E.g. in our case the subtrajectoryselection should always work and hence the first 2 choices of the minus mover will never happen. It will always try a swap (which can fail if by chance the trajectory in the innermost interface crosses away from the state). So the effective number of choices will be 57 and not 63."
   ]
  },
  {
   "cell_type": "markdown",
   "metadata": {},
   "source": [
    "Let's do some more testing"
   ]
  },
  {
   "cell_type": "markdown",
   "metadata": {},
   "source": [
    "First let's check if the keys we get for all changes in the storage are actually contained in the mover or put more simple the mover could have generated these changes. This should be true for all changes that originate from our mover."
   ]
  },
  {
   "cell_type": "code",
   "execution_count": 14,
   "metadata": {
    "collapsed": false
   },
   "outputs": [
    {
     "name": "stdout",
     "output_type": "stream",
     "text": [
      "[False, False, True, False, False, False, False, True, False, False, False, False, False, True, False, False, False, False, True, False]\n"
     ]
    }
   ],
   "source": [
    "print [pc in pm for pc in st.pathmovechanges[0:20]]"
   ]
  },
  {
   "cell_type": "markdown",
   "metadata": {},
   "source": [
    "What happened here? Why are only some changes in the storage made by our mover? Shouldn't all of them (except the 2 in the beginning) be the result of our pathmover? Yes and no. They are, but we are checking if the total change is made from a mover and we are also loading all subchanges."
   ]
  },
  {
   "cell_type": "code",
   "execution_count": 15,
   "metadata": {
    "collapsed": false
   },
   "outputs": [
    {
     "name": "stdout",
     "output_type": "stream",
     "text": [
      "PathSimulatorStep : PathSampling : Step # 1 with 2 samples\n",
      " +- RandomChoice :\n",
      "     +- RandomChoice :\n",
      "         +- SampleMove : ReplicaExchangeMover : True : 2 samples [<Sample @ 0x10f0b2390>, <Sample @ 0x10f0b2090>]\n",
      "True\n",
      "\n",
      "SampleMove : ReplicaExchangeMover : True : 2 samples [<Sample @ 0x10f0b2390>, <Sample @ 0x10f0b2090>]\n",
      "False\n"
     ]
    }
   ],
   "source": [
    "print st.pathmovechanges[2]\n",
    "print st.pathmovechanges[2] in pm\n",
    "print\n",
    "print st.pathmovechanges[5]\n",
    "print st.pathmovechanges[5] in pm"
   ]
  },
  {
   "cell_type": "markdown",
   "metadata": {},
   "source": [
    "We will now cache all changes to see if the next steps are really fast or not."
   ]
  },
  {
   "cell_type": "code",
   "execution_count": 16,
   "metadata": {
    "collapsed": false
   },
   "outputs": [],
   "source": [
    "_ = list(st.pathmovechanges)\n",
    "_ = list(st.steps)"
   ]
  },
  {
   "cell_type": "markdown",
   "metadata": {},
   "source": [
    "Now the question is: \n",
    "How do we get all the changes that are really important? One way is to scan all changes and use only the ones from the mover"
   ]
  },
  {
   "cell_type": "code",
   "execution_count": 17,
   "metadata": {
    "collapsed": false
   },
   "outputs": [
    {
     "name": "stdout",
     "output_type": "stream",
     "text": [
      "300 of 1693\n"
     ]
    }
   ],
   "source": [
    "real_changes = filter(lambda x : x in pm, st.pathmovechanges)\n",
    "print len(real_changes), 'of', len(st.pathmovechanges)"
   ]
  },
  {
   "cell_type": "markdown",
   "metadata": {},
   "source": [
    "While this works it would be better to rely on the steps in the simulation and not on the changes itself. We might store some other changes for whatever reason, but we only want the ones that are associated with a MC step. The steps in the storage do exactly that and point to the changes that are used to generate the next sampleset that we wanted. "
   ]
  },
  {
   "cell_type": "code",
   "execution_count": 18,
   "metadata": {
    "collapsed": false
   },
   "outputs": [
    {
     "name": "stdout",
     "output_type": "stream",
     "text": [
      "300\n"
     ]
    }
   ],
   "source": [
    "step_changes = [step.change for step in st.steps[1:]]\n",
    "print len(step_changes)"
   ]
  },
  {
   "cell_type": "markdown",
   "metadata": {},
   "source": [
    "We exclude the first step since it is the initialization which is not generated by our pathmover."
   ]
  },
  {
   "cell_type": "markdown",
   "metadata": {},
   "source": [
    "Let's now check which and how often one the 31 possible steps was called."
   ]
  },
  {
   "cell_type": "code",
   "execution_count": 19,
   "metadata": {
    "collapsed": true
   },
   "outputs": [],
   "source": [
    "import collections\n",
    "counter = collections.defaultdict(lambda: 0)\n",
    "for ch in step_changes:\n",
    "    counter[ch.unique] += 1"
   ]
  },
  {
   "cell_type": "code",
   "execution_count": 20,
   "metadata": {
    "collapsed": false,
    "scrolled": false
   },
   "outputs": [
    {
     "name": "stdout",
     "output_type": "stream",
     "text": [
      "45 of 63 different changes run \n",
      "------------------------------ \n",
      "\n",
      "\n",
      "16 x\n",
      "PathSimulator(10f60df50)\n",
      " +- RandomChoice(10f3bb990)\n",
      "     +- MSOuterRepexChooser(10f3bbb90)\n",
      "         +- ReplicaExchange(10f3bb590)\n",
      "\n",
      "14 x\n",
      "PathSimulator(10f60df50)\n",
      " +- RandomChoice(10f3bb990)\n",
      "     +- ReversalChooser(10f3af6d0)\n",
      "         +- PathReversal(10f3c7690)\n",
      "\n",
      "14 x\n",
      "PathSimulator(10f60df50)\n",
      " +- RandomChoice(10f3bb990)\n",
      "     +- MSOuterRepexChooser(10f3bbb90)\n",
      "         +- ReplicaExchange(10f60d3d0)\n",
      "\n",
      "14 x\n",
      "PathSimulator(10f60df50)\n",
      " +- RandomChoice(10f3bb990)\n",
      "     +- MSOuterRepexChooser(10f3bbb90)\n",
      "         +- ReplicaExchange(10f3bb190)\n",
      "\n",
      "12 x\n",
      "PathSimulator(10f60df50)\n",
      " +- RandomChoice(10f3bb990)\n",
      "     +- ReversalChooser(10f3af6d0)\n",
      "         +- PathReversal(10f3c7550)\n",
      "\n",
      "11 x\n",
      "PathSimulator(10f60df50)\n",
      " +- RandomChoice(10f3bb990)\n",
      "     +- ShootingChooser(10f3af810)\n",
      "         +- OneWayShootingMover I'face 1(10f3af310)\n",
      "             +- BackwardShoot(10f3afc10)\n",
      "\n",
      "10 x\n",
      "PathSimulator(10f60df50)\n",
      " +- RandomChoice(10f3bb990)\n",
      "     +- ShootingChooser(10f3af810)\n",
      "         +- OneWayShootingMover I'face 2(10f3c7d10)\n",
      "             +- ForwardShoot(10f3af790)\n",
      "\n",
      "10 x\n",
      "PathSimulator(10f60df50)\n",
      " +- RandomChoice(10f3bb990)\n",
      "     +- RepExChooser(10f3afa50)\n",
      "         +- ReplicaExchange(10f3af650)\n",
      "\n",
      "10 x\n",
      "PathSimulator(10f60df50)\n",
      " +- RandomChoice(10f3bb990)\n",
      "     +- ShootingChooser(10f3af810)\n",
      "         +- OneWayShootingMover I'face 2(10f3aff50)\n",
      "             +- ForwardShoot(10f3c0450)\n",
      "\n",
      "10 x\n",
      "PathSimulator(10f60df50)\n",
      " +- RandomChoice(10f3bb990)\n",
      "     +- ReversalChooser(10f3af6d0)\n",
      "         +- PathReversal(10f3c72d0)\n",
      "\n",
      "10 x\n",
      "PathSimulator(10f60df50)\n",
      " +- RandomChoice(10f3bb990)\n",
      "     +- ShootingChooser(10f3af810)\n",
      "         +- OneWayShootingMover I'face 0(10f3c7090)\n",
      "             +- BackwardShoot(10f3c71d0)\n",
      "\n",
      "9 x\n",
      "PathSimulator(10f60df50)\n",
      " +- RandomChoice(10f3bb990)\n",
      "     +- RepExChooser(10f3afa50)\n",
      "         +- ReplicaExchange(10f3afa10)\n",
      "\n",
      "9 x\n",
      "PathSimulator(10f60df50)\n",
      " +- RandomChoice(10f3bb990)\n",
      "     +- ReversalChooser(10f3af6d0)\n",
      "         +- PathReversal(10f3d0590)\n",
      "\n",
      "8 x\n",
      "PathSimulator(10f60df50)\n",
      " +- RandomChoice(10f3bb990)\n",
      "     +- ShootingChooser(10f3af810)\n",
      "         +- OneWayShootingMover I'face 2(10f3aff50)\n",
      "             +- BackwardShoot(10f3af210)\n",
      "\n",
      "8 x\n",
      "PathSimulator(10f60df50)\n",
      " +- RandomChoice(10f3bb990)\n",
      "     +- ShootingChooser(10f3af810)\n",
      "         +- OneWayShooting(10f3afd50)\n",
      "             +- ForwardShoot(10f3c0cd0)\n",
      "\n",
      "8 x\n",
      "PathSimulator(10f60df50)\n",
      " +- RandomChoice(10f3bb990)\n",
      "     +- ReversalChooser(10f3af6d0)\n",
      "         +- PathReversal(10f3d0250)\n",
      "\n",
      "8 x\n",
      "PathSimulator(10f60df50)\n",
      " +- RandomChoice(10f3bb990)\n",
      "     +- ShootingChooser(10f3af810)\n",
      "         +- OneWayShootingMover I'face 1(10f3af310)\n",
      "             +- ForwardShoot(10f3c0f90)\n",
      "\n",
      "7 x\n",
      "PathSimulator(10f60df50)\n",
      " +- RandomChoice(10f3bb990)\n",
      "     +- ShootingChooser(10f3af810)\n",
      "         +- OneWayShootingMover I'face 0(10f3c79d0)\n",
      "             +- BackwardShoot(10f3c7f10)\n",
      "\n",
      "7 x\n",
      "PathSimulator(10f60df50)\n",
      " +- RandomChoice(10f3bb990)\n",
      "     +- RepExChooser(10f3afa50)\n",
      "         +- ReplicaExchange(10f3afbd0)\n",
      "\n",
      "7 x\n",
      "PathSimulator(10f60df50)\n",
      " +- RandomChoice(10f3bb990)\n",
      "     +- ShootingChooser(10f3af810)\n",
      "         +- OneWayShootingMover I'face 2(10f3c7150)\n",
      "             +- BackwardShoot(10f3c7ad0)\n",
      "\n",
      "7 x\n",
      "PathSimulator(10f60df50)\n",
      " +- RandomChoice(10f3bb990)\n",
      "     +- ShootingChooser(10f3af810)\n",
      "         +- OneWayShootingMover I'face 0(10f3c7090)\n",
      "             +- ForwardShoot(10f3d0d90)\n",
      "\n",
      "7 x\n",
      "PathSimulator(10f60df50)\n",
      " +- RandomChoice(10f3bb990)\n",
      "     +- ShootingChooser(10f3af810)\n",
      "         +- OneWayShootingMover I'face 2(10f3c7d10)\n",
      "             +- BackwardShoot(10f3c70d0)\n",
      "\n",
      "7 x\n",
      "PathSimulator(10f60df50)\n",
      " +- RandomChoice(10f3bb990)\n",
      "     +- ShootingChooser(10f3af810)\n",
      "         +- OneWayShooting(10f3afd50)\n",
      "             +- BackwardShoot(10f3afad0)\n",
      "\n",
      "7 x\n",
      "PathSimulator(10f60df50)\n",
      " +- RandomChoice(10f3bb990)\n",
      "     +- ReversalChooser(10f3af6d0)\n",
      "         +- PathReversal(10f3c7b90)\n",
      "\n",
      "6 x\n",
      "PathSimulator(10f60df50)\n",
      " +- RandomChoice(10f3bb990)\n",
      "     +- ShootingChooser(10f3af810)\n",
      "         +- OneWayShootingMover I'face 2(10f3c7150)\n",
      "             +- ForwardShoot(10f3c0050)\n",
      "\n",
      "6 x\n",
      "PathSimulator(10f60df50)\n",
      " +- RandomChoice(10f3bb990)\n",
      "     +- ShootingChooser(10f3af810)\n",
      "         +- OneWayShootingMover I'face 1(10f3c7390)\n",
      "             +- ForwardShoot(10f3d0290)\n",
      "\n",
      "6 x\n",
      "PathSimulator(10f60df50)\n",
      " +- RandomChoice(10f3bb990)\n",
      "     +- ReversalChooser(10f3af6d0)\n",
      "         +- PathReversal(10f3c78d0)\n",
      "\n",
      "6 x\n",
      "PathSimulator(10f60df50)\n",
      " +- RandomChoice(10f3bb990)\n",
      "     +- ReversalChooser(10f3af6d0)\n",
      "         +- PathReversal(10f3d0a10)\n",
      "\n",
      "6 x\n",
      "PathSimulator(10f60df50)\n",
      " +- RandomChoice(10f3bb990)\n",
      "     +- ShootingChooser(10f3af810)\n",
      "         +- OneWayShootingMover I'face 0(10f3af610)\n",
      "             +- ForwardShoot(10f3c0990)\n",
      "\n",
      "6 x\n",
      "PathSimulator(10f60df50)\n",
      " +- RandomChoice(10f3bb990)\n",
      "     +- ShootingChooser(10f3af810)\n",
      "         +- OneWayShootingMover I'face 1(1060f5850)\n",
      "             +- ForwardShoot(10f0b2110)\n",
      "\n",
      "5 x\n",
      "PathSimulator(10f60df50)\n",
      " +- RandomChoice(10f3bb990)\n",
      "     +- ShootingChooser(10f3af810)\n",
      "         +- OneWayShootingMover I'face 1(10f3c7390)\n",
      "             +- BackwardShoot(10f3c7050)\n",
      "\n",
      "5 x\n",
      "PathSimulator(10f60df50)\n",
      " +- RandomChoice(10f3bb990)\n",
      "     +- RepExChooser(10f3afa50)\n",
      "         +- ReplicaExchange(10f3afed0)\n",
      "\n",
      "3 x\n",
      "PathSimulator(10f60df50)\n",
      " +- RandomChoice(10f3bb990)\n",
      "     +- ReversalChooser(10f3af6d0)\n",
      "         +- PathReversal(10f3d08d0)\n",
      "\n",
      "3 x\n",
      "PathSimulator(10f60df50)\n",
      " +- RandomChoice(10f3bb990)\n",
      "     +- RepExChooser(10f3afa50)\n",
      "         +- ReplicaExchange(10f3a76d0)\n",
      "\n",
      "3 x\n",
      "PathSimulator(10f60df50)\n",
      " +- RandomChoice(10f3bb990)\n",
      "     +- ShootingChooser(10f3af810)\n",
      "         +- OneWayShootingMover I'face 1(1060f5850)\n",
      "             +- BackwardShoot(10f3d0e10)\n",
      "\n",
      "3 x\n",
      "PathSimulator(10f60df50)\n",
      " +- RandomChoice(10f3bb990)\n",
      "     +- RepExChooser(10f3afa50)\n",
      "         +- ReplicaExchange(10f3af390)\n",
      "\n",
      "2 x\n",
      "PathSimulator(10f60df50)\n",
      " +- RandomChoice(10f3bb990)\n",
      "     +- ShootingChooser(10f3af810)\n",
      "         +- OneWayShootingMover I'face 0(10f3c79d0)\n",
      "             +- ForwardShoot(1060e4e50)\n",
      "\n",
      "2 x\n",
      "PathSimulator(10f60df50)\n",
      " +- RandomChoice(10f3bb990)\n",
      "     +- ReversalChooser(10f3af6d0)\n",
      "         +- PathReversal(10f3d0d50)\n",
      "\n",
      "2 x\n",
      "PathSimulator(10f60df50)\n",
      " +- RandomChoice(10f3bb990)\n",
      "     +- MinusChooser(10f3a71d0)\n",
      "         +- Minus(10f3a7690)\n",
      "             +- EnsembleFilter(10f3a7d90)\n",
      "                 +- ConditionalSequential(10f3a7a10)\n",
      "                     +- MinusSubtrajectoryChooser(10f3bb3d0)\n",
      "                     |   +- FirstSubtrajectorySelect(10f3c0f50)\n",
      "                     +- InterfaceSetChooser(10f3c7d50)\n",
      "                     +- MinusExtensionDirectionChooser(10f3a7550)\n",
      "                         +- BackwardExtend(10f3a7590)\n",
      "\n",
      "1 x\n",
      "PathSimulator(10f60df50)\n",
      " +- RandomChoice(10f3bb990)\n",
      "     +- MinusChooser(10f3a71d0)\n",
      "         +- Minus(10f3a7690)\n",
      "             +- EnsembleFilter(10f3a7d90)\n",
      "                 +- ConditionalSequential(10f3a7a10)\n",
      "                     +- MinusSubtrajectoryChooser(10f3bb3d0)\n",
      "                     |   +- FinalSubtrajectorySelect(10f3bbe50)\n",
      "                     +- InterfaceSetChooser(10f3c7d50)\n",
      "                     +- MinusExtensionDirectionChooser(10f3a7550)\n",
      "                         +- BackwardExtend(10f3a7590)\n",
      "\n",
      "1 x\n",
      "PathSimulator(10f60df50)\n",
      " +- RandomChoice(10f3bb990)\n",
      "     +- MinusChooser(10f3a71d0)\n",
      "         +- Minus(10f60d2d0)\n",
      "             +- EnsembleFilter(10f60d890)\n",
      "                 +- ConditionalSequential(10f60de10)\n",
      "                     +- MinusSubtrajectoryChooser(10f60d690)\n",
      "                     |   +- FinalSubtrajectorySelect(10f60de50)\n",
      "                     +- InterfaceSetChooser(10f3c5cd0)\n",
      "                     +- MinusExtensionDirectionChooser(10f60da90)\n",
      "                         +- ForwardExtend(10f3c53d0)\n",
      "\n",
      "1 x\n",
      "PathSimulator(10f60df50)\n",
      " +- RandomChoice(10f3bb990)\n",
      "     +- MinusChooser(10f3a71d0)\n",
      "         +- Minus(10f60d2d0)\n",
      "             +- EnsembleFilter(10f60d890)\n",
      "                 +- ConditionalSequential(10f60de10)\n",
      "                     +- MinusSubtrajectoryChooser(10f60d690)\n",
      "                     |   +- FirstSubtrajectorySelect(10f3c5a10)\n",
      "                     +- InterfaceSetChooser(10f3c5cd0)\n",
      "                     +- MinusExtensionDirectionChooser(10f60da90)\n",
      "                         +- ForwardExtend(10f3c53d0)\n",
      "\n",
      "1 x\n",
      "PathSimulator(10f60df50)\n",
      " +- RandomChoice(10f3bb990)\n",
      "     +- ShootingChooser(10f3af810)\n",
      "         +- OneWayShootingMover I'face 0(10f3af610)\n",
      "             +- BackwardShoot(10f3af3d0)\n",
      "\n",
      "1 x\n",
      "PathSimulator(10f60df50)\n",
      " +- RandomChoice(10f3bb990)\n",
      "     +- MinusChooser(10f3a71d0)\n",
      "         +- Minus(1060f5a10)\n",
      "             +- EnsembleFilter(10f604b90)\n",
      "                 +- ConditionalSequential(10f604b50)\n",
      "                     +- MinusSubtrajectoryChooser(10f3b3310)\n",
      "                     |   +- FirstSubtrajectorySelect(10f3a7410)\n",
      "                     +- InterfaceSetChooser(10f3a7110)\n",
      "                     +- MinusExtensionDirectionChooser(10f604290)\n",
      "                         +- BackwardExtend(10f604ed0)\n",
      "\n",
      "1 x\n",
      "PathSimulator(10f60df50)\n",
      " +- RandomChoice(10f3bb990)\n",
      "     +- MinusChooser(10f3a71d0)\n",
      "         +- Minus(1060f5a10)\n",
      "             +- EnsembleFilter(10f604b90)\n",
      "                 +- ConditionalSequential(10f604b50)\n",
      "                     +- MinusSubtrajectoryChooser(10f3b3310)\n",
      "                     |   +- FinalSubtrajectorySelect(10f3b3c90)\n",
      "                     +- InterfaceSetChooser(10f3a7110)\n",
      "                     +- MinusExtensionDirectionChooser(10f604290)\n",
      "                         +- ForwardExtend(10f3a73d0)\n"
     ]
    }
   ],
   "source": [
    "s = '%d of %d different changes run' % (len(counter), len(list(pm.enum)))\n",
    "print s, '\\n', '-' * len(s), '\\n'\n",
    "\n",
    "for y in sorted(counter.items(), key=lambda x : -x[1]):\n",
    "    print\n",
    "    print y[1], 'x'\n",
    "    print y[0].treeprint()"
   ]
  },
  {
   "cell_type": "markdown",
   "metadata": {},
   "source": [
    "We see that especially minus moves are underrepresented. This is due to the standard weighting of the minus move which runs minus moves much less frequent than other moves. "
   ]
  },
  {
   "cell_type": "markdown",
   "metadata": {},
   "source": [
    "Let's just do that again and pick a random chance among all the possibilities. This is done only from the possibilities without regard for acceptance etc. We only assume that all possible choices for a single mover are equally likely."
   ]
  },
  {
   "cell_type": "code",
   "execution_count": 21,
   "metadata": {
    "collapsed": true
   },
   "outputs": [],
   "source": [
    "pmc_list = [pm.random() for x in xrange(10000)]"
   ]
  },
  {
   "cell_type": "code",
   "execution_count": 22,
   "metadata": {
    "collapsed": true
   },
   "outputs": [],
   "source": [
    "counter2 = collections.defaultdict(lambda: 0)\n",
    "for ch in pmc_list:\n",
    "    counter2[ch] += 1"
   ]
  },
  {
   "cell_type": "code",
   "execution_count": 23,
   "metadata": {
    "collapsed": false
   },
   "outputs": [
    {
     "name": "stdout",
     "output_type": "stream",
     "text": [
      "63 of 63 different changes run \n",
      "------------------------------ \n",
      "\n",
      "6.98 % (PathSimulator(10f60df50), (RandomChoice(10f3bb990), (MSOuterRepexChooser(10f3bbb90), (ReplicaExchange(10f3bb190),))))\n",
      "6.81 % (PathSimulator(10f60df50), (RandomChoice(10f3bb990), (MSOuterRepexChooser(10f3bbb90), (ReplicaExchange(10f3bb590),))))\n",
      "6.45 % (PathSimulator(10f60df50), (RandomChoice(10f3bb990), (MSOuterRepexChooser(10f3bbb90), (ReplicaExchange(10f60d3d0),))))\n",
      "3.6 % (PathSimulator(10f60df50), (RandomChoice(10f3bb990), (RepExChooser(10f3afa50), (ReplicaExchange(10f3a76d0),))))\n",
      "3.41 % (PathSimulator(10f60df50), (RandomChoice(10f3bb990), (RepExChooser(10f3afa50), (ReplicaExchange(10f3af650),))))\n",
      "3.37 % (PathSimulator(10f60df50), (RandomChoice(10f3bb990), (RepExChooser(10f3afa50), (ReplicaExchange(10f3af390),))))\n",
      "3.28 % (PathSimulator(10f60df50), (RandomChoice(10f3bb990), (RepExChooser(10f3afa50), (ReplicaExchange(10f3afbd0),))))\n",
      "3.25 % (PathSimulator(10f60df50), (RandomChoice(10f3bb990), (RepExChooser(10f3afa50), (ReplicaExchange(10f3afed0),))))\n",
      "3.18 % (PathSimulator(10f60df50), (RandomChoice(10f3bb990), (RepExChooser(10f3afa50), (ReplicaExchange(10f3afa10),))))\n",
      "2.28 % (PathSimulator(10f60df50), (RandomChoice(10f3bb990), (ReversalChooser(10f3af6d0), (PathReversal(10f3d08d0),))))\n",
      "2.24 % (PathSimulator(10f60df50), (RandomChoice(10f3bb990), (ReversalChooser(10f3af6d0), (PathReversal(10f3c7550),))))\n",
      "1.96 % (PathSimulator(10f60df50), (RandomChoice(10f3bb990), (ReversalChooser(10f3af6d0), (PathReversal(10f3c7b90),))))\n",
      "1.95 % (PathSimulator(10f60df50), (RandomChoice(10f3bb990), (ReversalChooser(10f3af6d0), (PathReversal(10f3c7690),))))\n",
      "1.95 % (PathSimulator(10f60df50), (RandomChoice(10f3bb990), (ReversalChooser(10f3af6d0), (PathReversal(10f3d0d50),))))\n",
      "1.87 % (PathSimulator(10f60df50), (RandomChoice(10f3bb990), (ReversalChooser(10f3af6d0), (PathReversal(10f3d0250),))))\n",
      "1.85 % (PathSimulator(10f60df50), (RandomChoice(10f3bb990), (ReversalChooser(10f3af6d0), (PathReversal(10f3c72d0),))))\n",
      "1.83 % (PathSimulator(10f60df50), (RandomChoice(10f3bb990), (ReversalChooser(10f3af6d0), (PathReversal(10f3d0a10),))))\n",
      "1.8 % (PathSimulator(10f60df50), (RandomChoice(10f3bb990), (ReversalChooser(10f3af6d0), (PathReversal(10f3c78d0),))))\n",
      "1.8 % (PathSimulator(10f60df50), (RandomChoice(10f3bb990), (ReversalChooser(10f3af6d0), (PathReversal(10f3d0590),))))\n",
      "1.27 % (PathSimulator(10f60df50), (RandomChoice(10f3bb990), (MinusChooser(10f3a71d0), (Minus(10f60d2d0), (EnsembleFilter(10f60d890), (ConditionalSequential(10f60de10), (MinusSubtrajectoryChooser(10f60d690), (FirstSubtrajectorySelect(10f3c5a10),))))))))\n",
      "1.26 % (PathSimulator(10f60df50), (RandomChoice(10f3bb990), (MinusChooser(10f3a71d0), (Minus(10f3a7690), (EnsembleFilter(10f3a7d90), (ConditionalSequential(10f3a7a10), (MinusSubtrajectoryChooser(10f3bb3d0), (FirstSubtrajectorySelect(10f3c0f50),))))))))\n",
      "1.21 % (PathSimulator(10f60df50), (RandomChoice(10f3bb990), (ShootingChooser(10f3af810), (OneWayShooting(10f3afd50), (ForwardShoot(10f3c0cd0),)))))\n",
      "1.16 % (PathSimulator(10f60df50), (RandomChoice(10f3bb990), (MinusChooser(10f3a71d0), (Minus(1060f5a10), (EnsembleFilter(10f604b90), (ConditionalSequential(10f604b50), (MinusSubtrajectoryChooser(10f3b3310), (FinalSubtrajectorySelect(10f3b3c90),))))))))\n",
      "1.14 % (PathSimulator(10f60df50), (RandomChoice(10f3bb990), (MinusChooser(10f3a71d0), (Minus(10f60d2d0), (EnsembleFilter(10f60d890), (ConditionalSequential(10f60de10), (MinusSubtrajectoryChooser(10f60d690), (FirstSubtrajectorySelect(10f3c5a10),)), (InterfaceSetChooser(10f3c5cd0), (ReplicaExchange(10f3c5610),))))))))\n",
      "1.14 % (PathSimulator(10f60df50), (RandomChoice(10f3bb990), (ShootingChooser(10f3af810), (OneWayShootingMover I'face 0(10f3af610), (BackwardShoot(10f3af3d0),)))))\n",
      "1.13 % (PathSimulator(10f60df50), (RandomChoice(10f3bb990), (MinusChooser(10f3a71d0), (Minus(10f3a7690), (EnsembleFilter(10f3a7d90), (ConditionalSequential(10f3a7a10), (MinusSubtrajectoryChooser(10f3bb3d0), (FirstSubtrajectorySelect(10f3c0f50),)), (InterfaceSetChooser(10f3c7d50), (ReplicaExchange(10f3c7890),))))))))\n",
      "1.13 % (PathSimulator(10f60df50), (RandomChoice(10f3bb990), (MinusChooser(10f3a71d0), (Minus(10f3a7690), (EnsembleFilter(10f3a7d90), (ConditionalSequential(10f3a7a10), (MinusSubtrajectoryChooser(10f3bb3d0), (FinalSubtrajectorySelect(10f3bbe50),))))))))\n",
      "1.11 % (PathSimulator(10f60df50), (RandomChoice(10f3bb990), (ShootingChooser(10f3af810), (OneWayShootingMover I'face 1(1060f5850), (ForwardShoot(10f0b2110),)))))\n",
      "1.09 % (PathSimulator(10f60df50), (RandomChoice(10f3bb990), (ShootingChooser(10f3af810), (OneWayShootingMover I'face 2(10f3c7150), (ForwardShoot(10f3c0050),)))))\n",
      "1.08 % (PathSimulator(10f60df50), (RandomChoice(10f3bb990), (MinusChooser(10f3a71d0), (Minus(1060f5a10), (EnsembleFilter(10f604b90), (ConditionalSequential(10f604b50), (MinusSubtrajectoryChooser(10f3b3310), (FirstSubtrajectorySelect(10f3a7410),)), (InterfaceSetChooser(10f3a7110), (ReplicaExchange(10f3a7710),))))))))\n",
      "1.07 % (PathSimulator(10f60df50), (RandomChoice(10f3bb990), (ShootingChooser(10f3af810), (OneWayShootingMover I'face 2(10f3aff50), (BackwardShoot(10f3af210),)))))\n",
      "1.07 % (PathSimulator(10f60df50), (RandomChoice(10f3bb990), (MinusChooser(10f3a71d0), (Minus(10f60d2d0), (EnsembleFilter(10f60d890), (ConditionalSequential(10f60de10), (MinusSubtrajectoryChooser(10f60d690), (FinalSubtrajectorySelect(10f60de50),)), (InterfaceSetChooser(10f3c5cd0), (ReplicaExchange(10f3c5610),))))))))\n",
      "1.06 % (PathSimulator(10f60df50), (RandomChoice(10f3bb990), (ShootingChooser(10f3af810), (OneWayShootingMover I'face 2(10f3c7150), (BackwardShoot(10f3c7ad0),)))))\n",
      "1.05 % (PathSimulator(10f60df50), (RandomChoice(10f3bb990), (MinusChooser(10f3a71d0), (Minus(1060f5a10), (EnsembleFilter(10f604b90), (ConditionalSequential(10f604b50), (MinusSubtrajectoryChooser(10f3b3310), (FirstSubtrajectorySelect(10f3a7410),))))))))\n",
      "1.05 % (PathSimulator(10f60df50), (RandomChoice(10f3bb990), (ShootingChooser(10f3af810), (OneWayShootingMover I'face 1(10f3af310), (BackwardShoot(10f3afc10),)))))\n",
      "1.03 % (PathSimulator(10f60df50), (RandomChoice(10f3bb990), (ShootingChooser(10f3af810), (OneWayShootingMover I'face 0(10f3c79d0), (BackwardShoot(10f3c7f10),)))))\n",
      "1.03 % (PathSimulator(10f60df50), (RandomChoice(10f3bb990), (ShootingChooser(10f3af810), (OneWayShootingMover I'face 1(10f3c7390), (BackwardShoot(10f3c7050),)))))\n",
      "1.02 % (PathSimulator(10f60df50), (RandomChoice(10f3bb990), (ShootingChooser(10f3af810), (OneWayShootingMover I'face 0(10f3c79d0), (ForwardShoot(1060e4e50),)))))\n",
      "1.01 % (PathSimulator(10f60df50), (RandomChoice(10f3bb990), (MinusChooser(10f3a71d0), (Minus(1060f5a10), (EnsembleFilter(10f604b90), (ConditionalSequential(10f604b50), (MinusSubtrajectoryChooser(10f3b3310), (FinalSubtrajectorySelect(10f3b3c90),)), (InterfaceSetChooser(10f3a7110), (ReplicaExchange(10f3a7710),))))))))\n",
      "1.01 % (PathSimulator(10f60df50), (RandomChoice(10f3bb990), (ShootingChooser(10f3af810), (OneWayShooting(10f3afd50), (BackwardShoot(10f3afad0),)))))\n",
      "1.0 % (PathSimulator(10f60df50), (RandomChoice(10f3bb990), (MinusChooser(10f3a71d0), (Minus(10f3a7690), (EnsembleFilter(10f3a7d90), (ConditionalSequential(10f3a7a10), (MinusSubtrajectoryChooser(10f3bb3d0), (FinalSubtrajectorySelect(10f3bbe50),)), (InterfaceSetChooser(10f3c7d50), (ReplicaExchange(10f3c7890),))))))))\n",
      "0.99 % (PathSimulator(10f60df50), (RandomChoice(10f3bb990), (ShootingChooser(10f3af810), (OneWayShootingMover I'face 1(1060f5850), (BackwardShoot(10f3d0e10),)))))\n",
      "0.99 % (PathSimulator(10f60df50), (RandomChoice(10f3bb990), (ShootingChooser(10f3af810), (OneWayShootingMover I'face 2(10f3c7d10), (ForwardShoot(10f3af790),)))))\n",
      "0.97 % (PathSimulator(10f60df50), (RandomChoice(10f3bb990), (ShootingChooser(10f3af810), (OneWayShootingMover I'face 2(10f3c7d10), (BackwardShoot(10f3c70d0),)))))\n",
      "0.94 % (PathSimulator(10f60df50), (RandomChoice(10f3bb990), (ShootingChooser(10f3af810), (OneWayShootingMover I'face 2(10f3aff50), (ForwardShoot(10f3c0450),)))))\n",
      "0.93 % (PathSimulator(10f60df50), (RandomChoice(10f3bb990), (ShootingChooser(10f3af810), (OneWayShootingMover I'face 0(10f3c7090), (ForwardShoot(10f3d0d90),)))))\n",
      "0.93 % (PathSimulator(10f60df50), (RandomChoice(10f3bb990), (ShootingChooser(10f3af810), (OneWayShootingMover I'face 1(10f3af310), (ForwardShoot(10f3c0f90),)))))\n",
      "0.92 % (PathSimulator(10f60df50), (RandomChoice(10f3bb990), (ShootingChooser(10f3af810), (OneWayShootingMover I'face 0(10f3af610), (ForwardShoot(10f3c0990),)))))\n",
      "0.9 % (PathSimulator(10f60df50), (RandomChoice(10f3bb990), (MinusChooser(10f3a71d0), (Minus(10f60d2d0), (EnsembleFilter(10f60d890), (ConditionalSequential(10f60de10), (MinusSubtrajectoryChooser(10f60d690), (FinalSubtrajectorySelect(10f60de50),))))))))\n",
      "0.83 % (PathSimulator(10f60df50), (RandomChoice(10f3bb990), (ShootingChooser(10f3af810), (OneWayShootingMover I'face 1(10f3c7390), (ForwardShoot(10f3d0290),)))))\n",
      "0.83 % (PathSimulator(10f60df50), (RandomChoice(10f3bb990), (ShootingChooser(10f3af810), (OneWayShootingMover I'face 0(10f3c7090), (BackwardShoot(10f3c71d0),)))))\n",
      "0.63 % (PathSimulator(10f60df50), (RandomChoice(10f3bb990), (MinusChooser(10f3a71d0), (Minus(10f3a7690), (EnsembleFilter(10f3a7d90), (ConditionalSequential(10f3a7a10), (MinusSubtrajectoryChooser(10f3bb3d0), (FirstSubtrajectorySelect(10f3c0f50),)), (InterfaceSetChooser(10f3c7d50), (ReplicaExchange(10f3c7890),)), (MinusExtensionDirectionChooser(10f3a7550), (ForwardExtend(10f3c0a50),))))))))\n",
      "0.63 % (PathSimulator(10f60df50), (RandomChoice(10f3bb990), (MinusChooser(10f3a71d0), (Minus(1060f5a10), (EnsembleFilter(10f604b90), (ConditionalSequential(10f604b50), (MinusSubtrajectoryChooser(10f3b3310), (FirstSubtrajectorySelect(10f3a7410),)), (InterfaceSetChooser(10f3a7110), (ReplicaExchange(10f3a7710),)), (MinusExtensionDirectionChooser(10f604290), (BackwardExtend(10f604ed0),))))))))\n",
      "0.62 % (PathSimulator(10f60df50), (RandomChoice(10f3bb990), (MinusChooser(10f3a71d0), (Minus(10f60d2d0), (EnsembleFilter(10f60d890), (ConditionalSequential(10f60de10), (MinusSubtrajectoryChooser(10f60d690), (FirstSubtrajectorySelect(10f3c5a10),)), (InterfaceSetChooser(10f3c5cd0), (ReplicaExchange(10f3c5610),)), (MinusExtensionDirectionChooser(10f60da90), (BackwardExtend(10f60d390),))))))))\n",
      "0.59 % (PathSimulator(10f60df50), (RandomChoice(10f3bb990), (MinusChooser(10f3a71d0), (Minus(1060f5a10), (EnsembleFilter(10f604b90), (ConditionalSequential(10f604b50), (MinusSubtrajectoryChooser(10f3b3310), (FirstSubtrajectorySelect(10f3a7410),)), (InterfaceSetChooser(10f3a7110), (ReplicaExchange(10f3a7710),)), (MinusExtensionDirectionChooser(10f604290), (ForwardExtend(10f3a73d0),))))))))\n",
      "0.59 % (PathSimulator(10f60df50), (RandomChoice(10f3bb990), (MinusChooser(10f3a71d0), (Minus(10f60d2d0), (EnsembleFilter(10f60d890), (ConditionalSequential(10f60de10), (MinusSubtrajectoryChooser(10f60d690), (FinalSubtrajectorySelect(10f60de50),)), (InterfaceSetChooser(10f3c5cd0), (ReplicaExchange(10f3c5610),)), (MinusExtensionDirectionChooser(10f60da90), (ForwardExtend(10f3c53d0),))))))))\n",
      "0.58 % (PathSimulator(10f60df50), (RandomChoice(10f3bb990), (MinusChooser(10f3a71d0), (Minus(10f3a7690), (EnsembleFilter(10f3a7d90), (ConditionalSequential(10f3a7a10), (MinusSubtrajectoryChooser(10f3bb3d0), (FinalSubtrajectorySelect(10f3bbe50),)), (InterfaceSetChooser(10f3c7d50), (ReplicaExchange(10f3c7890),)), (MinusExtensionDirectionChooser(10f3a7550), (BackwardExtend(10f3a7590),))))))))\n",
      "0.55 % (PathSimulator(10f60df50), (RandomChoice(10f3bb990), (MinusChooser(10f3a71d0), (Minus(1060f5a10), (EnsembleFilter(10f604b90), (ConditionalSequential(10f604b50), (MinusSubtrajectoryChooser(10f3b3310), (FinalSubtrajectorySelect(10f3b3c90),)), (InterfaceSetChooser(10f3a7110), (ReplicaExchange(10f3a7710),)), (MinusExtensionDirectionChooser(10f604290), (BackwardExtend(10f604ed0),))))))))\n",
      "0.55 % (PathSimulator(10f60df50), (RandomChoice(10f3bb990), (MinusChooser(10f3a71d0), (Minus(10f60d2d0), (EnsembleFilter(10f60d890), (ConditionalSequential(10f60de10), (MinusSubtrajectoryChooser(10f60d690), (FinalSubtrajectorySelect(10f60de50),)), (InterfaceSetChooser(10f3c5cd0), (ReplicaExchange(10f3c5610),)), (MinusExtensionDirectionChooser(10f60da90), (BackwardExtend(10f60d390),))))))))\n",
      "0.55 % (PathSimulator(10f60df50), (RandomChoice(10f3bb990), (MinusChooser(10f3a71d0), (Minus(1060f5a10), (EnsembleFilter(10f604b90), (ConditionalSequential(10f604b50), (MinusSubtrajectoryChooser(10f3b3310), (FinalSubtrajectorySelect(10f3b3c90),)), (InterfaceSetChooser(10f3a7110), (ReplicaExchange(10f3a7710),)), (MinusExtensionDirectionChooser(10f604290), (ForwardExtend(10f3a73d0),))))))))\n",
      "0.52 % (PathSimulator(10f60df50), (RandomChoice(10f3bb990), (MinusChooser(10f3a71d0), (Minus(10f3a7690), (EnsembleFilter(10f3a7d90), (ConditionalSequential(10f3a7a10), (MinusSubtrajectoryChooser(10f3bb3d0), (FirstSubtrajectorySelect(10f3c0f50),)), (InterfaceSetChooser(10f3c7d50), (ReplicaExchange(10f3c7890),)), (MinusExtensionDirectionChooser(10f3a7550), (BackwardExtend(10f3a7590),))))))))\n",
      "0.52 % (PathSimulator(10f60df50), (RandomChoice(10f3bb990), (MinusChooser(10f3a71d0), (Minus(10f3a7690), (EnsembleFilter(10f3a7d90), (ConditionalSequential(10f3a7a10), (MinusSubtrajectoryChooser(10f3bb3d0), (FinalSubtrajectorySelect(10f3bbe50),)), (InterfaceSetChooser(10f3c7d50), (ReplicaExchange(10f3c7890),)), (MinusExtensionDirectionChooser(10f3a7550), (ForwardExtend(10f3c0a50),))))))))\n",
      "0.46 % (PathSimulator(10f60df50), (RandomChoice(10f3bb990), (MinusChooser(10f3a71d0), (Minus(10f60d2d0), (EnsembleFilter(10f60d890), (ConditionalSequential(10f60de10), (MinusSubtrajectoryChooser(10f60d690), (FirstSubtrajectorySelect(10f3c5a10),)), (InterfaceSetChooser(10f3c5cd0), (ReplicaExchange(10f3c5610),)), (MinusExtensionDirectionChooser(10f60da90), (ForwardExtend(10f3c53d0),))))))))\n"
     ]
    }
   ],
   "source": [
    "s = '%d of %d different changes run' % (len(counter2), len(list(pm.enum)))\n",
    "print s, '\\n', '-' * len(s), '\\n'\n",
    "\n",
    "for y in sorted(counter2.items(), key=lambda x : -x[1]):\n",
    "    print (100.0 * y[1]) / len(pmc_list), '%', repr(y[0])"
   ]
  },
  {
   "cell_type": "markdown",
   "metadata": {},
   "source": [
    "We realize that a specific shooter is called less likely than other movers\n",
    "\n",
    "> not sure if this is helpful. We could have additional weighting factors for the randomchoice, but each mover would have to know about it. Problem is that in most movers these weighting probabilities are dependent on the context and hence make no sense here!\n",
    "\n",
    "> One solution is to let a mover be able to give a formal expression for each possible choice, since each mover will only depend on \n",
    "1. results of accepted/rejected of submoves and ultimately if certain samples are accepted which in turn depends on `.valid` and `.proposal_probability`\n",
    "2. some random numbers (choices)\n",
    "\n",
    "> So the SampleGeneratingMovers will return something like `[acc(samp[]), acc(samp[])]`\n",
    "\n",
    "> while other movers will return something that depends on the submovers, it could just be a list of products.\n",
    "\n",
    "> Each mover has an expression for it being accepted\n",
    "\n",
    "> Each mover has an expression for picking a specific choice\n",
    "\n",
    "> Finally `.random()` will use the product of all probabilities and a specific value for accepting"
   ]
  },
  {
   "cell_type": "markdown",
   "metadata": {},
   "source": [
    "PathMovers and PathMoveChanges now have a `.treeprint()` function"
   ]
  },
  {
   "cell_type": "code",
   "execution_count": 24,
   "metadata": {
    "collapsed": false
   },
   "outputs": [
    {
     "name": "stdout",
     "output_type": "stream",
     "text": [
      "PathSimulator(10f60df50)\n",
      " +- RandomChoice(10f3bb990)\n",
      "     +- ShootingChooser(10f3af810)\n",
      "     |   +- OneWayShootingMover I'face 0(10f3c79d0)\n",
      "     |   |   +- ForwardShoot(1060e4e50)\n",
      "     |   |   +- BackwardShoot(10f3c7f10)\n",
      "     |   +- OneWayShootingMover I'face 1(1060f5850)\n",
      "     |   |   +- ForwardShoot(10f0b2110)\n",
      "     |   |   +- BackwardShoot(10f3d0e10)\n",
      "     |   +- OneWayShootingMover I'face 2(10f3c7150)\n",
      "     |   |   +- ForwardShoot(10f3c0050)\n",
      "     |   |   +- BackwardShoot(10f3c7ad0)\n",
      "     |   +- OneWayShootingMover I'face 0(10f3af610)\n",
      "     |   |   +- ForwardShoot(10f3c0990)\n",
      "     |   |   +- BackwardShoot(10f3af3d0)\n",
      "     |   +- OneWayShootingMover I'face 1(10f3c7390)\n",
      "     |   |   +- ForwardShoot(10f3d0290)\n",
      "     |   |   +- BackwardShoot(10f3c7050)\n",
      "     |   +- OneWayShootingMover I'face 2(10f3aff50)\n",
      "     |   |   +- ForwardShoot(10f3c0450)\n",
      "     |   |   +- BackwardShoot(10f3af210)\n",
      "     |   +- OneWayShootingMover I'face 0(10f3c7090)\n",
      "     |   |   +- ForwardShoot(10f3d0d90)\n",
      "     |   |   +- BackwardShoot(10f3c71d0)\n",
      "     |   +- OneWayShootingMover I'face 1(10f3af310)\n",
      "     |   |   +- ForwardShoot(10f3c0f90)\n",
      "     |   |   +- BackwardShoot(10f3afc10)\n",
      "     |   +- OneWayShootingMover I'face 2(10f3c7d10)\n",
      "     |   |   +- ForwardShoot(10f3af790)\n",
      "     |   |   +- BackwardShoot(10f3c70d0)\n",
      "     |   +- OneWayShooting(10f3afd50)\n",
      "     |       +- ForwardShoot(10f3c0cd0)\n",
      "     |       +- BackwardShoot(10f3afad0)\n",
      "     +- RepExChooser(10f3afa50)\n",
      "     |   +- ReplicaExchange(10f3af650)\n",
      "     |   +- ReplicaExchange(10f3afbd0)\n",
      "     |   +- ReplicaExchange(10f3af390)\n",
      "     |   +- ReplicaExchange(10f3afed0)\n",
      "     |   +- ReplicaExchange(10f3afa10)\n",
      "     |   +- ReplicaExchange(10f3a76d0)\n",
      "     +- ReversalChooser(10f3af6d0)\n",
      "     |   +- PathReversal(10f3c72d0)\n",
      "     |   +- PathReversal(10f3d0d50)\n",
      "     |   +- PathReversal(10f3c7690)\n",
      "     |   +- PathReversal(10f3d0250)\n",
      "     |   +- PathReversal(10f3c7550)\n",
      "     |   +- PathReversal(10f3d0590)\n",
      "     |   +- PathReversal(10f3c78d0)\n",
      "     |   +- PathReversal(10f3d08d0)\n",
      "     |   +- PathReversal(10f3c7b90)\n",
      "     |   +- PathReversal(10f3d0a10)\n",
      "     +- MinusChooser(10f3a71d0)\n",
      "     |   +- Minus(1060f5a10)\n",
      "     |   |   +- EnsembleFilter(10f604b90)\n",
      "     |   |       +- ConditionalSequential(10f604b50)\n",
      "     |   |           +- MinusSubtrajectoryChooser(10f3b3310)\n",
      "     |   |           |   +- FirstSubtrajectorySelect(10f3a7410)\n",
      "     |   |           |   +- FinalSubtrajectorySelect(10f3b3c90)\n",
      "     |   |           +- InterfaceSetChooser(10f3a7110)\n",
      "     |   |           |   +- ReplicaExchange(10f3a7710)\n",
      "     |   |           +- MinusExtensionDirectionChooser(10f604290)\n",
      "     |   |               +- ForwardExtend(10f3a73d0)\n",
      "     |   |               +- BackwardExtend(10f604ed0)\n",
      "     |   +- Minus(10f60d2d0)\n",
      "     |   |   +- EnsembleFilter(10f60d890)\n",
      "     |   |       +- ConditionalSequential(10f60de10)\n",
      "     |   |           +- MinusSubtrajectoryChooser(10f60d690)\n",
      "     |   |           |   +- FirstSubtrajectorySelect(10f3c5a10)\n",
      "     |   |           |   +- FinalSubtrajectorySelect(10f60de50)\n",
      "     |   |           +- InterfaceSetChooser(10f3c5cd0)\n",
      "     |   |           |   +- ReplicaExchange(10f3c5610)\n",
      "     |   |           +- MinusExtensionDirectionChooser(10f60da90)\n",
      "     |   |               +- ForwardExtend(10f3c53d0)\n",
      "     |   |               +- BackwardExtend(10f60d390)\n",
      "     |   +- Minus(10f3a7690)\n",
      "     |       +- EnsembleFilter(10f3a7d90)\n",
      "     |           +- ConditionalSequential(10f3a7a10)\n",
      "     |               +- MinusSubtrajectoryChooser(10f3bb3d0)\n",
      "     |               |   +- FirstSubtrajectorySelect(10f3c0f50)\n",
      "     |               |   +- FinalSubtrajectorySelect(10f3bbe50)\n",
      "     |               +- InterfaceSetChooser(10f3c7d50)\n",
      "     |               |   +- ReplicaExchange(10f3c7890)\n",
      "     |               +- MinusExtensionDirectionChooser(10f3a7550)\n",
      "     |                   +- ForwardExtend(10f3c0a50)\n",
      "     |                   +- BackwardExtend(10f3a7590)\n",
      "     +- MSOuterRepexChooser(10f3bbb90)\n",
      "         +- ReplicaExchange(10f3bb590)\n",
      "         +- ReplicaExchange(10f60d3d0)\n",
      "         +- ReplicaExchange(10f3bb190)\n"
     ]
    }
   ],
   "source": [
    "print pm.treeprint()"
   ]
  },
  {
   "cell_type": "code",
   "execution_count": 25,
   "metadata": {
    "collapsed": false
   },
   "outputs": [
    {
     "name": "stdout",
     "output_type": "stream",
     "text": [
      "['PathSimulator', 'BackwardExtend', 'ForwardShoot', 'EnsembleFilter', 'EnsembleFilter', 'BackwardShoot', 'PathReversal', u'InterfaceSetChooser', 'Minus', 'PathReversal', 'ForwardShoot', 'ForwardExtend', 'FinalSubtrajectorySelect', u'MinusExtensionDirectionChooser', 'ReplicaExchange', 'PathReversal', 'ForwardShoot', u\"OneWayShootingMover I'face 0\", 'ForwardShoot', 'ReplicaExchange', 'ReplicaExchange', 'ConditionalSequential', 'BackwardShoot', 'ForwardShoot', 'ReplicaExchange', 'BackwardShoot', 'ReplicaExchange', 'ConditionalSequential', 'FirstSubtrajectorySelect', 'PathReversal', 'BackwardShoot', u\"OneWayShootingMover I'face 0\", 'ForwardShoot', u\"OneWayShootingMover I'face 1\", u'InterfaceSetChooser', u'MinusExtensionDirectionChooser', 'OneWayShooting', 'ForwardShoot', 'ConditionalSequential', 'ReplicaExchange', 'FirstSubtrajectorySelect', u'MinusSubtrajectoryChooser', 'PathReversal', u'MinusSubtrajectoryChooser', 'BackwardShoot', 'BackwardShoot', 'FirstSubtrajectorySelect', u\"OneWayShootingMover I'face 0\", u\"OneWayShootingMover I'face 1\", u\"OneWayShootingMover I'face 2\", 'BackwardShoot', 'PathReversal', 'BackwardShoot', u'MinusSubtrajectoryChooser', u'MinusExtensionDirectionChooser', 'ReplicaExchange', u'ShootingChooser', 'BackwardShoot', 'PathReversal', 'FinalSubtrajectorySelect', 'BackwardExtend', 'Minus', 'ForwardExtend', 'Minus', 'ReplicaExchange', 'BackwardShoot', 'ForwardShoot', u'RepExChooser', u\"OneWayShootingMover I'face 2\", 'ReplicaExchange', 'PathReversal', 'RandomChoice', u'MinusChooser', 'ForwardShoot', u\"OneWayShootingMover I'face 1\", u'ReversalChooser', 'PathReversal', 'ReplicaExchange', 'ForwardExtend', 'FinalSubtrajectorySelect', u'InterfaceSetChooser', 'PathReversal', 'ReplicaExchange', u\"OneWayShootingMover I'face 2\", 'ForwardShoot', 'BackwardExtend', 'EnsembleFilter', 'ReplicaExchange', u'MSOuterRepexChooser']\n"
     ]
    }
   ],
   "source": [
    "print [m.name for key, m in pm.iteritems()]"
   ]
  },
  {
   "cell_type": "markdown",
   "metadata": {},
   "source": [
    "Get the (unique) location of the randomchoicemover. You can search for Mover classes, Mover instances or by the `.name` property of a mover which is a string."
   ]
  },
  {
   "cell_type": "code",
   "execution_count": 26,
   "metadata": {
    "collapsed": false
   },
   "outputs": [
    {
     "name": "stdout",
     "output_type": "stream",
     "text": [
      "PathSimulator(10f60df50)\n",
      " +- RandomChoice(10f3bb990)\n",
      "     +- ShootingChooser(10f3af810)\n",
      "         +- OneWayShootingMover I'face 2(10f3c7150)\n"
     ]
    }
   ],
   "source": [
    "loc_rc = pm.locate(\"OneWayShootingMover I'face 2\")[0]\n",
    "print loc_rc"
   ]
  },
  {
   "cell_type": "code",
   "execution_count": 27,
   "metadata": {
    "collapsed": false
   },
   "outputs": [
    {
     "name": "stdout",
     "output_type": "stream",
     "text": [
      "PathSimulator(10f60df50)\n",
      " +- RandomChoice(10f3bb990)\n"
     ]
    }
   ],
   "source": [
    "loc_rc = pm.locate('RandomChoice')\n",
    "print loc_rc"
   ]
  },
  {
   "cell_type": "markdown",
   "metadata": {},
   "source": [
    "the location object is effectively a tree mover instances described by nested tuples. For convenience it is wrapped to make searching easier and format the output. "
   ]
  },
  {
   "cell_type": "code",
   "execution_count": 28,
   "metadata": {
    "collapsed": false
   },
   "outputs": [
    {
     "name": "stdout",
     "output_type": "stream",
     "text": [
      "<class 'openpathsampling.treelogic.TupleTree'>\n",
      "True\n",
      "(PathSimulator(10f60df50), (RandomChoice(10f3bb990),))\n",
      "PathSimulator(10f60df50)\n",
      " +- RandomChoice(10f3bb990)\n"
     ]
    }
   ],
   "source": [
    "print type(loc_rc)\n",
    "print isinstance(loc_rc, tuple)\n",
    "print repr(loc_rc)\n",
    "print str(loc_rc)"
   ]
  },
  {
   "cell_type": "markdown",
   "metadata": {},
   "source": [
    "In most cases you can use python tuples instead of TupleTree. The structure of a tree of tuples looks as follows:\n",
    "\n",
    "Each node has the following structure\n",
    "\n",
    "    (head, (child1, ), (child2, ), ...)\n",
    "    \n",
    "where head is a the node content (almost always a `Mover` instance) and child is again a node. It is important to note that a tuple tree does not support choices of different children like a real pathmover can. Therefore we could generate a tree tuple of the content of a pathmover but it will not reflect the possible choices in it. To get the associated tree tuple of a change (which has no choice in it) we can use `.unique`."
   ]
  },
  {
   "cell_type": "code",
   "execution_count": 29,
   "metadata": {
    "collapsed": false
   },
   "outputs": [
    {
     "name": "stdout",
     "output_type": "stream",
     "text": [
      "PathSimulatorStep : PathSampling : Step # 3 with 0 samples\n",
      " +- RandomChoice :\n",
      "     +- RandomChoice :\n",
      "         +- SampleMove : ReplicaExchangeMover : False :[]\n",
      "(PathSimulator(10f60df50), (RandomChoice(10f3bb990), (MSOuterRepexChooser(10f3bbb90), (ReplicaExchange(10f60d3d0),))))\n"
     ]
    }
   ],
   "source": [
    "print pmc\n",
    "print repr(pmc.unique)"
   ]
  },
  {
   "cell_type": "markdown",
   "metadata": {},
   "source": [
    "Instead of checking for a pmc directly we can also check for the tuple tree representation"
   ]
  },
  {
   "cell_type": "code",
   "execution_count": 30,
   "metadata": {
    "collapsed": false
   },
   "outputs": [
    {
     "name": "stdout",
     "output_type": "stream",
     "text": [
      "PathSimulatorStep : PathSampling : Step # 3 with 0 samples\n",
      " +- RandomChoice :\n",
      "     +- RandomChoice :\n",
      "         +- SampleMove : ReplicaExchangeMover : False :[]\n",
      "True\n",
      "True\n"
     ]
    }
   ],
   "source": [
    "print pmc\n",
    "print pmc in pm # check if pmc could have been generated by pm\n",
    "print pmc.unique in pm # check if the tuple tree representation could have been generated by pm"
   ]
  },
  {
   "cell_type": "markdown",
   "metadata": {},
   "source": [
    "Now get the mover at the `loc_rc` location (which is of course a RandomChoiceMover)."
   ]
  },
  {
   "cell_type": "code",
   "execution_count": 31,
   "metadata": {
    "collapsed": false
   },
   "outputs": [],
   "source": [
    "rc = pm[loc_rc]"
   ]
  },
  {
   "cell_type": "markdown",
   "metadata": {},
   "source": [
    "These are the weights by mover"
   ]
  },
  {
   "cell_type": "code",
   "execution_count": 32,
   "metadata": {
    "collapsed": false
   },
   "outputs": [
    {
     "data": {
      "text/plain": [
       "{MinusChooser(10f3a71d0): 0.6000000000000001,\n",
       " ReversalChooser(10f3af6d0): 5,\n",
       " ShootingChooser(10f3af810): 10,\n",
       " RepExChooser(10f3afa50): 3,\n",
       " MSOuterRepexChooser(10f3bbb90): 3}"
      ]
     },
     "execution_count": 32,
     "metadata": {},
     "output_type": "execute_result"
    }
   ],
   "source": [
    "dict(zip(rc.movers, rc.weights))"
   ]
  },
  {
   "cell_type": "markdown",
   "metadata": {},
   "source": [
    "Finally do some more checks"
   ]
  },
  {
   "cell_type": "code",
   "execution_count": 33,
   "metadata": {
    "collapsed": false
   },
   "outputs": [
    {
     "name": "stdout",
     "output_type": "stream",
     "text": [
      "True\n",
      "True\n"
     ]
    }
   ],
   "source": [
    "print rc in pmc # check if the RandomChoiceMover was called in pmc\n",
    "print rc in pm # check if the pathmover has a RandomChoiceMover at that position in the tree"
   ]
  },
  {
   "cell_type": "markdown",
   "metadata": {},
   "source": [
    "> Note, that certain trees of movers can be arranged differently in a tree, but result in the same possible steps. Like `Sequential(Forward, Sequential([Forward, Forward]))` and `Sequential([Forward, Forward, Forward])`. We can regard this as being _associative_ (placing arbitrary brackets) but we will not check for these types of equality. We assume that you arrange steps in a certain way for a reason and that your grouping of sequenced will reflect a certain logical idea. On the other hand are your locators / keys dependend on that choice!"
   ]
  },
  {
   "cell_type": "markdown",
   "metadata": {},
   "source": [
    "What else can we learn or ask for?"
   ]
  },
  {
   "cell_type": "markdown",
   "metadata": {},
   "source": [
    "We can check if a particular mover was run. Let's pick the very last MinusExtensionDirectionChoser. To check for it we can either just check for the instance in a pmc"
   ]
  },
  {
   "cell_type": "code",
   "execution_count": 34,
   "metadata": {
    "collapsed": false
   },
   "outputs": [
    {
     "name": "stdout",
     "output_type": "stream",
     "text": [
      "MinusChooser(10f3a71d0)\n"
     ]
    }
   ],
   "source": [
    "loc_medc = pm.locate('MinusChooser')\n",
    "medc = pm[loc_medc]\n",
    "print medc"
   ]
  },
  {
   "cell_type": "code",
   "execution_count": 35,
   "metadata": {
    "collapsed": false
   },
   "outputs": [
    {
     "name": "stdout",
     "output_type": "stream",
     "text": [
      "PathSimulator([24])\n",
      "PathSimulator(10f60df50)\n",
      " +- RandomChoice(10f3bb990)\n",
      "     +- MinusChooser(10f3a71d0)\n",
      "         +- Minus(1060f5a10)\n",
      "             +- EnsembleFilter(10f604b90)\n",
      "                 +- ConditionalSequential(10f604b50)\n",
      "                     +- MinusSubtrajectoryChooser(10f3b3310)\n",
      "                     |   +- FinalSubtrajectorySelect(10f3b3c90)\n",
      "                     +- InterfaceSetChooser(10f3a7110)\n",
      "                     +- MinusExtensionDirectionChooser(10f604290)\n",
      "                         +- ForwardExtend(10f3a73d0)\n",
      "\n",
      "PathSimulator([284])\n",
      "PathSimulator(10f60df50)\n",
      " +- RandomChoice(10f3bb990)\n",
      "     +- MinusChooser(10f3a71d0)\n",
      "         +- Minus(1060f5a10)\n",
      "             +- EnsembleFilter(10f604b90)\n",
      "                 +- ConditionalSequential(10f604b50)\n",
      "                     +- MinusSubtrajectoryChooser(10f3b3310)\n",
      "                     |   +- FirstSubtrajectorySelect(10f3a7410)\n",
      "                     +- InterfaceSetChooser(10f3a7110)\n",
      "                     +- MinusExtensionDirectionChooser(10f604290)\n",
      "                         +- BackwardExtend(10f604ed0)\n",
      "\n",
      "PathSimulator([493])\n",
      "PathSimulator(10f60df50)\n",
      " +- RandomChoice(10f3bb990)\n",
      "     +- MinusChooser(10f3a71d0)\n",
      "         +- Minus(10f60d2d0)\n",
      "             +- EnsembleFilter(10f60d890)\n",
      "                 +- ConditionalSequential(10f60de10)\n",
      "                     +- MinusSubtrajectoryChooser(10f60d690)\n",
      "                     |   +- FirstSubtrajectorySelect(10f3c5a10)\n",
      "                     +- InterfaceSetChooser(10f3c5cd0)\n",
      "                     +- MinusExtensionDirectionChooser(10f60da90)\n",
      "                         +- ForwardExtend(10f3c53d0)\n",
      "\n",
      "PathSimulator([872])\n",
      "PathSimulator(10f60df50)\n",
      " +- RandomChoice(10f3bb990)\n",
      "     +- MinusChooser(10f3a71d0)\n",
      "         +- Minus(10f3a7690)\n",
      "             +- EnsembleFilter(10f3a7d90)\n",
      "                 +- ConditionalSequential(10f3a7a10)\n",
      "                     +- MinusSubtrajectoryChooser(10f3bb3d0)\n",
      "                     |   +- FinalSubtrajectorySelect(10f3bbe50)\n",
      "                     +- InterfaceSetChooser(10f3c7d50)\n",
      "                     +- MinusExtensionDirectionChooser(10f3a7550)\n",
      "                         +- BackwardExtend(10f3a7590)\n",
      "\n",
      "PathSimulator([1121])\n",
      "PathSimulator(10f60df50)\n",
      " +- RandomChoice(10f3bb990)\n",
      "     +- MinusChooser(10f3a71d0)\n",
      "         +- Minus(10f3a7690)\n",
      "             +- EnsembleFilter(10f3a7d90)\n",
      "                 +- ConditionalSequential(10f3a7a10)\n",
      "                     +- MinusSubtrajectoryChooser(10f3bb3d0)\n",
      "                     |   +- FirstSubtrajectorySelect(10f3c0f50)\n",
      "                     +- InterfaceSetChooser(10f3c7d50)\n",
      "                     +- MinusExtensionDirectionChooser(10f3a7550)\n",
      "                         +- BackwardExtend(10f3a7590)\n",
      "\n",
      "PathSimulator([1472])\n",
      "PathSimulator(10f60df50)\n",
      " +- RandomChoice(10f3bb990)\n",
      "     +- MinusChooser(10f3a71d0)\n",
      "         +- Minus(10f3a7690)\n",
      "             +- EnsembleFilter(10f3a7d90)\n",
      "                 +- ConditionalSequential(10f3a7a10)\n",
      "                     +- MinusSubtrajectoryChooser(10f3bb3d0)\n",
      "                     |   +- FirstSubtrajectorySelect(10f3c0f50)\n",
      "                     +- InterfaceSetChooser(10f3c7d50)\n",
      "                     +- MinusExtensionDirectionChooser(10f3a7550)\n",
      "                         +- BackwardExtend(10f3a7590)\n",
      "\n",
      "PathSimulator([1670])\n",
      "PathSimulator(10f60df50)\n",
      " +- RandomChoice(10f3bb990)\n",
      "     +- MinusChooser(10f3a71d0)\n",
      "         +- Minus(10f60d2d0)\n",
      "             +- EnsembleFilter(10f60d890)\n",
      "                 +- ConditionalSequential(10f60de10)\n",
      "                     +- MinusSubtrajectoryChooser(10f60d690)\n",
      "                     |   +- FinalSubtrajectorySelect(10f60de50)\n",
      "                     +- InterfaceSetChooser(10f3c5cd0)\n",
      "                     +- MinusExtensionDirectionChooser(10f60da90)\n",
      "                         +- ForwardExtend(10f3c53d0)\n",
      "\n",
      "CPU times: user 6.4 ms, sys: 2.36 ms, total: 8.76 ms\n",
      "Wall time: 7.13 ms\n"
     ]
    }
   ],
   "source": [
    "%%time\n",
    "for pc in step_changes:\n",
    "    if medc in pc:\n",
    "        print repr(pc)\n",
    "        print pc.unique\n",
    "        print"
   ]
  },
  {
   "cell_type": "markdown",
   "metadata": {},
   "source": [
    "the expression `locator in pmc` checks for the overall appearance of a specific mover somewhere dependent of the location. While using `mover_instance in pmc` checks for the appearance of that mover instance independent of the location. If a particular mover_instance appears only once then both methods are equal."
   ]
  },
  {
   "cell_type": "code",
   "execution_count": 36,
   "metadata": {
    "collapsed": false
   },
   "outputs": [
    {
     "name": "stdout",
     "output_type": "stream",
     "text": [
      "PathSimulatorStep : PathSampling : Step # 3 with 0 samples\n",
      " +- RandomChoice :\n",
      "     +- RandomChoice :\n",
      "         +- SampleMove : ReplicaExchangeMover : False :[]\n",
      "True\n",
      "True\n",
      "False\n",
      "False\n"
     ]
    }
   ],
   "source": [
    "print pmc\n",
    "print loc_medc in pm\n",
    "print medc in pm\n",
    "print loc_medc in pmc\n",
    "print medc in pmc"
   ]
  },
  {
   "cell_type": "markdown",
   "metadata": {},
   "source": [
    "In this case the _MinusChooser_ was not called in this particular pmc."
   ]
  },
  {
   "cell_type": "markdown",
   "metadata": {},
   "source": [
    "### Remember the following things about moves and changes\n",
    "\n",
    "1. movers and changes represent a tree like structure of movers.\n",
    "2. a change is a concrete realization of moves (and hence movers) while a mover itself has a certain degree of choice. \n",
    "3. Some nodes in a mover can have different outcomes, like a RandomChoiceMover which will pick one out of several choices. The change it generates will have only the chosen one, while the RandomChoiceMover itself has all possibilities.\n",
    "4. A concrete tree like structure (without choice) of movers can be represented by a tree of tuples. Reading the tuple-tree from left to right the opening bracket '(' means go down a level (a new child) while the closing bracket means trael up a level ')' go to the parent.\n",
    "5. The smallest unique tupletree for a pmc can be accessed using `.unique`"
   ]
  },
  {
   "cell_type": "code",
   "execution_count": 37,
   "metadata": {
    "collapsed": false
   },
   "outputs": [],
   "source": [
    "first_minus_change = filter(lambda x : p.MinusMover in x, step_changes)[0]"
   ]
  },
  {
   "cell_type": "markdown",
   "metadata": {},
   "source": [
    "will be interpreted as"
   ]
  },
  {
   "cell_type": "code",
   "execution_count": 38,
   "metadata": {
    "collapsed": false
   },
   "outputs": [
    {
     "name": "stdout",
     "output_type": "stream",
     "text": [
      "PathSimulator(10f60df50)\n",
      " +- RandomChoice(10f3bb990)\n",
      "     +- MinusChooser(10f3a71d0)\n",
      "         +- Minus(1060f5a10)\n",
      "             +- EnsembleFilter(10f604b90)\n",
      "                 +- ConditionalSequential(10f604b50)\n",
      "                     +- MinusSubtrajectoryChooser(10f3b3310)\n",
      "                     |   +- FinalSubtrajectorySelect(10f3b3c90)\n",
      "                     +- InterfaceSetChooser(10f3a7110)\n",
      "                     +- MinusExtensionDirectionChooser(10f604290)\n",
      "                         +- ForwardExtend(10f3a73d0)\n"
     ]
    }
   ],
   "source": [
    "print first_minus_change.unique"
   ]
  },
  {
   "cell_type": "code",
   "execution_count": 39,
   "metadata": {
    "collapsed": false
   },
   "outputs": [
    {
     "data": {
      "text/plain": [
       "(13,\n",
       "    (12,\n",
       "        (15,\n",
       "            (28, (12), (13)),\n",
       "            (28, (12), (13)),\n",
       "            (28, (12), (13)),\n",
       "            (28, (12), (13)),\n",
       "            (28, (12), (13)),\n",
       "            (28, (12), (13)),\n",
       "            (28, (12), (13)),\n",
       "            (28, (12), (13)),\n",
       "            (28, (12), (13)),\n",
       "            (14, (12), (13))),\n",
       "        (12, (15), (15), (15), (15), (15), (15)),\n",
       "        (15, (12), (12), (12), (12), (12), (12), (12), (12), (12), (12)),\n",
       "        (12,\n",
       "            (5, (14, (21, (25, (24), (24)), (19, (15)), (30, (13), (14))))),\n",
       "            (5, (14, (21, (25, (24), (24)), (19, (15)), (30, (13), (14))))),\n",
       "            (5, (14, (21, (25, (24), (24)), (19, (15)), (30, (13), (14)))))),\n",
       "        (19, (15), (15), (15))))"
      ]
     },
     "execution_count": 39,
     "metadata": {},
     "output_type": "execute_result"
    }
   ],
   "source": [
    "pm.map_tree(lambda x : len(x.name))"
   ]
  },
  {
   "cell_type": "markdown",
   "metadata": {
    "collapsed": true
   },
   "source": [
    "### Some speed tests"
   ]
  },
  {
   "cell_type": "code",
   "execution_count": 40,
   "metadata": {
    "collapsed": false
   },
   "outputs": [
    {
     "name": "stdout",
     "output_type": "stream",
     "text": [
      "The slowest run took 15.01 times longer than the fastest. This could mean that an intermediate result is being cached \n",
      "1000000 loops, best of 3: 524 ns per loop\n"
     ]
    }
   ],
   "source": [
    "%%timeit\n",
    "pm.enum"
   ]
  },
  {
   "cell_type": "code",
   "execution_count": 41,
   "metadata": {
    "collapsed": false
   },
   "outputs": [
    {
     "name": "stdout",
     "output_type": "stream",
     "text": [
      "10000 loops, best of 3: 46.6 µs per loop\n"
     ]
    }
   ],
   "source": [
    "%%timeit\n",
    "pmc in pm"
   ]
  },
  {
   "cell_type": "code",
   "execution_count": 42,
   "metadata": {
    "collapsed": false
   },
   "outputs": [
    {
     "name": "stdout",
     "output_type": "stream",
     "text": [
      "100 loops, best of 3: 2.03 ms per loop\n"
     ]
    }
   ],
   "source": [
    "%%timeit\n",
    "[p in pmc for p in pm.enum]"
   ]
  },
  {
   "cell_type": "code",
   "execution_count": 43,
   "metadata": {
    "collapsed": false
   },
   "outputs": [
    {
     "name": "stdout",
     "output_type": "stream",
     "text": [
      "The slowest run took 5.05 times longer than the fastest. This could mean that an intermediate result is being cached \n",
      "100000 loops, best of 3: 2.74 µs per loop\n"
     ]
    }
   ],
   "source": [
    "%%timeit\n",
    "pm in pm"
   ]
  },
  {
   "cell_type": "code",
   "execution_count": 44,
   "metadata": {
    "collapsed": false
   },
   "outputs": [
    {
     "name": "stdout",
     "output_type": "stream",
     "text": [
      "10000 loops, best of 3: 45.1 µs per loop\n"
     ]
    }
   ],
   "source": [
    "%%timeit\n",
    "pmc.unique in pm"
   ]
  }
 ],
 "metadata": {
  "kernelspec": {
   "display_name": "Python 2",
   "language": "python",
   "name": "python2"
  },
  "language_info": {
   "codemirror_mode": {
    "name": "ipython",
    "version": 2
   },
   "file_extension": ".py",
   "mimetype": "text/x-python",
   "name": "python",
   "nbconvert_exporter": "python",
   "pygments_lexer": "ipython2",
   "version": "2.7.10"
  }
 },
 "nbformat": 4,
 "nbformat_minor": 0
}
