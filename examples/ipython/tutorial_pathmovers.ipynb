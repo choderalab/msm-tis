{
 "cells": [
  {
   "cell_type": "markdown",
   "metadata": {},
   "source": [
    "### PathMovers"
   ]
  },
  {
   "cell_type": "markdown",
   "metadata": {},
   "source": [
    "This notebook is an introduction to handling `PathMover` and `PathMoveChange` instances. It mostly covers the questions on \n",
    "1. how to check if a certain mover was part of a change. \n",
    "2. What are the possible changes a mover can generate.\n",
    "3. ..."
   ]
  },
  {
   "cell_type": "markdown",
   "metadata": {},
   "source": [
    "Load OPENPATHSAMPLING"
   ]
  },
  {
   "cell_type": "code",
   "execution_count": 1,
   "metadata": {},
   "outputs": [],
   "source": [
    "import openpathsampling as p"
   ]
  },
  {
   "cell_type": "markdown",
   "metadata": {},
   "source": [
    "Let's open a file that contains a mover and lot's of changes"
   ]
  },
  {
   "cell_type": "code",
   "execution_count": 2,
   "metadata": {},
   "outputs": [],
   "source": [
    "st = p.storage.Storage('mstis.nc', mode='r')"
   ]
  },
  {
   "cell_type": "markdown",
   "metadata": {},
   "source": [
    "A Simulator creates simulation steps. So we load a single step."
   ]
  },
  {
   "cell_type": "code",
   "execution_count": 3,
   "metadata": {},
   "outputs": [
    {
     "name": "stdout",
     "output_type": "stream",
     "text": [
      "<openpathsampling.pathsimulator.MCStep object at 0x10f3329d0>\n"
     ]
    }
   ],
   "source": [
    "mc = st.steps[3]\n",
    "print mc"
   ]
  },
  {
   "cell_type": "markdown",
   "metadata": {},
   "source": [
    "Each step posesses a pathmovechange which we will get"
   ]
  },
  {
   "cell_type": "code",
   "execution_count": 4,
   "metadata": {},
   "outputs": [
    {
     "name": "stdout",
     "output_type": "stream",
     "text": [
      "PathSimulatorStep : PathSampling : Step # 3 with 1 samples\n",
      " +- RandomChoice :\n",
      "     +- RandomChoice :\n",
      "         +- OneWayShooting :\n",
      "             +- SampleMove : BackwardShootMover : True : 1 samples [<Sample @ 0x10f32ddd0>]\n"
     ]
    }
   ],
   "source": [
    "pmc = mc.change\n",
    "print pmc"
   ]
  },
  {
   "cell_type": "markdown",
   "metadata": {},
   "source": [
    "And the mover that was used to generate this change"
   ]
  },
  {
   "cell_type": "code",
   "execution_count": 5,
   "metadata": {},
   "outputs": [
    {
     "name": "stdout",
     "output_type": "stream",
     "text": [
      "PathSimulator(10f332b50)\n",
      " +- RootMover(10f337850)\n",
      "     +- Ms_outer_shootingChooser(1060f3850)\n",
      "     |   +- OneWayShootingMover [UnionEnsemble](10f32f450)\n",
      "     |       +- ForwardShoot(10f332250)\n",
      "     |       +- BackwardShoot(10f32f550)\n",
      "     +- RepexChooser(10f6544d0)\n",
      "     |   +- ReplicaExchange(10f654910)\n",
      "     |   +- ReplicaExchange(10f32dd90)\n",
      "     |   +- ReplicaExchange(10f654f10)\n",
      "     |   +- ReplicaExchange(10f337750)\n",
      "     |   +- ReplicaExchange(10f654210)\n",
      "     |   +- ReplicaExchange(10f337ad0)\n",
      "     |   +- ReplicaExchange(10f654690)\n",
      "     |   +- ReplicaExchange(10f337090)\n",
      "     |   +- ReplicaExchange(10f654bd0)\n",
      "     +- Msouter_shootingChooser(10f337d90)\n",
      "     |   +- OneWayShooting(10f337990)\n",
      "     |       +- ForwardShoot(10f6549d0)\n",
      "     |       +- BackwardShoot(10f337410)\n",
      "     +- Msouter_pathreversalChooser(10f654410)\n",
      "     |   +- PathReversal(10f654750)\n",
      "     +- Msouter_repexChooser(10f3371d0)\n",
      "     |   +- ReplicaExchange(10f337590)\n",
      "     |   +- ReplicaExchange(10f308a50)\n",
      "     |   +- ReplicaExchange(10f3374d0)\n",
      "     +- ShootingChooser(10f303610)\n",
      "     |   +- OneWayShootingMover I'face 1(10f332390)\n",
      "     |   |   +- ForwardShoot(10f32fa10)\n",
      "     |   |   +- BackwardShoot(10f332750)\n",
      "     |   +- OneWayShootingMover I'face 1(10f32f2d0)\n",
      "     |   |   +- ForwardShoot(10f332610)\n",
      "     |   |   +- BackwardShoot(10f32f850)\n",
      "     |   +- OneWayShootingMover I'face 2(10f332c50)\n",
      "     |   |   +- ForwardShoot(10f32fed0)\n",
      "     |   |   +- BackwardShoot(10f3328d0)\n",
      "     |   +- OneWayShootingMover I'face 0(10f32ff50)\n",
      "     |   |   +- ForwardShoot(10f332c90)\n",
      "     |   |   +- BackwardShoot(10f32f510)\n",
      "     |   +- OneWayShootingMover I'face 2(10f303d90)\n",
      "     |   |   +- ForwardShoot(10f332510)\n",
      "     |   |   +- BackwardShoot(10f303110)\n",
      "     |   +- OneWayShootingMover I'face 2(10f32f650)\n",
      "     |   |   +- ForwardShoot(10f332e50)\n",
      "     |   |   +- BackwardShoot(10f32fe90)\n",
      "     |   +- OneWayShootingMover I'face 0(10f303510)\n",
      "     |   |   +- ForwardShoot(10f332bd0)\n",
      "     |   |   +- BackwardShoot(10f303910)\n",
      "     |   +- OneWayShootingMover I'face 0(10f32f250)\n",
      "     |   |   +- ForwardShoot(10f332350)\n",
      "     |   |   +- BackwardShoot(10f32f590)\n",
      "     |   +- OneWayShootingMover I'face 1(10f303950)\n",
      "     |       +- ForwardShoot(10f332e10)\n",
      "     |       +- BackwardShoot(10f303c50)\n",
      "     +- MinusChooser(10f32d410)\n",
      "     |   +- Minus(10f337a10)\n",
      "     |   |   +- EnsembleFilter(10f337610)\n",
      "     |   |       +- ConditionalSequential(10f337510)\n",
      "     |   |           +- MinusSubtrajectoryChooser(10f673250)\n",
      "     |   |           |   +- FirstSubtrajectorySelect(10f337550)\n",
      "     |   |           |   +- FinalSubtrajectorySelect(10f673c10)\n",
      "     |   |           +- InterfaceSetChooser(1060f3a10)\n",
      "     |   |           |   +- ReplicaExchange(10f32d690)\n",
      "     |   |           +- MinusExtensionDirectionChooser(10f3379d0)\n",
      "     |   |               +- ForwardExtend(10f673fd0)\n",
      "     |   |               +- BackwardExtend(10f337d10)\n",
      "     |   +- Minus(10f32f3d0)\n",
      "     |   |   +- EnsembleFilter(10f32f750)\n",
      "     |   |       +- ConditionalSequential(10f32f390)\n",
      "     |   |           +- MinusSubtrajectoryChooser(10f654610)\n",
      "     |   |           |   +- FirstSubtrajectorySelect(10f332150)\n",
      "     |   |           |   +- FinalSubtrajectorySelect(10f654290)\n",
      "     |   |           +- InterfaceSetChooser(10f654990)\n",
      "     |   |           |   +- ReplicaExchange(10f654810)\n",
      "     |   |           +- MinusExtensionDirectionChooser(10f32f890)\n",
      "     |   |               +- ForwardExtend(10f303550)\n",
      "     |   |               +- BackwardExtend(10f32fd50)\n",
      "     |   +- Minus(10f32dc50)\n",
      "     |       +- EnsembleFilter(10f32d550)\n",
      "     |           +- ConditionalSequential(10f32db50)\n",
      "     |               +- MinusSubtrajectoryChooser(10f308cd0)\n",
      "     |               |   +- FirstSubtrajectorySelect(10f0dd950)\n",
      "     |               |   +- FinalSubtrajectorySelect(10f308bd0)\n",
      "     |               +- InterfaceSetChooser(10f0dddd0)\n",
      "     |               |   +- ReplicaExchange(10f0dda10)\n",
      "     |               +- MinusExtensionDirectionChooser(10f32da90)\n",
      "     |                   +- ForwardExtend(10f674b10)\n",
      "     |                   +- BackwardExtend(10f32da10)\n",
      "     +- PathreversalChooser(10f3378d0)\n",
      "         +- PathReversal(10f654590)\n",
      "         +- PathReversal(10f337e90)\n",
      "         +- PathReversal(10f6540d0)\n",
      "         +- PathReversal(10f3372d0)\n",
      "         +- PathReversal(10f654310)\n",
      "         +- PathReversal(10f337690)\n",
      "         +- PathReversal(10f654d50)\n",
      "         +- PathReversal(10f337cd0)\n",
      "         +- PathReversal(10f654a90)\n",
      "         +- PathReversal(10f337950)\n"
     ]
    }
   ],
   "source": [
    "pm = pmc.mover\n",
    "print pm.treeprint()"
   ]
  },
  {
   "cell_type": "markdown",
   "metadata": {},
   "source": [
    "Let's first check if the pmc was really created by the pathmover"
   ]
  },
  {
   "cell_type": "code",
   "execution_count": 6,
   "metadata": {},
   "outputs": [
    {
     "data": {
      "text/plain": [
       "True"
      ]
     },
     "execution_count": 6,
     "output_type": "execute_result",
     "metadata": {}
    }
   ],
   "source": [
    "pmc in pm"
   ]
  },
  {
   "cell_type": "markdown",
   "metadata": {},
   "source": [
    "This should be obvious, but under the hood there is some more fancy stuff happening. The `in` keyword with pathmovers and changes actually works on trees of movers. These trees are used to represent a specific order or movers being called and these trees are unique for changes. This means there is a way to label each possible pmc that can be generated by a mover. This possible only refers to choices in actual movers. \n",
    "\n",
    "This is due to special PathMovers that can pick one or more movers among a set of possibilities. The simplest of these is the OneWayShooter which choses equal between forward and backward shooting. So a OneWayShooter has two possible outcomes. Let's look at these"
   ]
  },
  {
   "cell_type": "code",
   "execution_count": 7,
   "metadata": {},
   "outputs": [],
   "source": [
    "ow_mover = p.OneWayShootingMover([], []) # we use dummy arguments since are not going to use it"
   ]
  },
  {
   "cell_type": "markdown",
   "metadata": {},
   "source": [
    "The property `enum` will evaluate the (potentially VERY large) number of all possible changes"
   ]
  },
  {
   "cell_type": "code",
   "execution_count": 8,
   "metadata": {},
   "outputs": [
    {
     "data": {
      "text/plain": [
       "[(OneWayShooting(10f6542d0), (BackwardShoot(10f303e90))),\n",
       " (OneWayShooting(10f6542d0), (ForwardShoot(10f303310)))]"
      ]
     },
     "execution_count": 8,
     "output_type": "execute_result",
     "metadata": {}
    }
   ],
   "source": [
    "list(ow_mover.enum)"
   ]
  },
  {
   "cell_type": "markdown",
   "metadata": {},
   "source": [
    "which is two in our case. Another example"
   ]
  },
  {
   "cell_type": "code",
   "execution_count": 9,
   "metadata": {},
   "outputs": [],
   "source": [
    "ow_mover_2 = p.RandomChoiceMover([\n",
    "        p.OneWayShootingMover([], []),\n",
    "        p.OneWayShootingMover([], [])\n",
    "        ])"
   ]
  },
  {
   "cell_type": "code",
   "execution_count": 10,
   "metadata": {},
   "outputs": [
    {
     "data": {
      "text/plain": [
       "[(RandomChoice(10f303a50),\n",
       "     (OneWayShooting(10f3324d0), (ForwardShoot(10f303e50)))),\n",
       " (RandomChoice(10f303a50),\n",
       "     (OneWayShooting(10f3324d0), (BackwardShoot(10f303f10)))),\n",
       " (RandomChoice(10f303a50),\n",
       "     (OneWayShooting(10ef23190), (BackwardShoot(10f3034d0)))),\n",
       " (RandomChoice(10f303a50),\n",
       "     (OneWayShooting(10ef23190), (ForwardShoot(10f303f90))))]"
      ]
     },
     "execution_count": 10,
     "output_type": "execute_result",
     "metadata": {}
    }
   ],
   "source": [
    "list(ow_mover_2.enum)"
   ]
  },
  {
   "cell_type": "markdown",
   "metadata": {},
   "source": [
    "Now we have 4 choices as expected 2 for the RandomChoice * 2 for the OneWayShooter. Although effectively there are only 2 distinct ones. Why is that? The problem in `ow_mover_2` is that we defined two separate instances of the OneWayShootingMover and in general different instances are considered different. In this case it might even be possible to check for equality, but we decided to leave this to the user. If you create two instances we assume there is a reason. Maybe just calling the differently (although it makes no sense for the monte carlo scheme).\n",
    "\n",
    "The next example uses the same mover twice"
   ]
  },
  {
   "cell_type": "code",
   "execution_count": 11,
   "metadata": {},
   "outputs": [],
   "source": [
    "ow_mover_3 = p.RandomChoiceMover([\n",
    "        ow_mover,\n",
    "        ow_mover\n",
    "        ])"
   ]
  },
  {
   "cell_type": "code",
   "execution_count": 12,
   "metadata": {},
   "outputs": [
    {
     "data": {
      "text/plain": [
       "[(RandomChoice(10f654650),\n",
       "     (OneWayShooting(10f6542d0), (BackwardShoot(10f303e90)))),\n",
       " (RandomChoice(10f654650),\n",
       "     (OneWayShooting(10f6542d0), (ForwardShoot(10f303310))))]"
      ]
     },
     "execution_count": 12,
     "output_type": "execute_result",
     "metadata": {}
    }
   ],
   "source": [
    "list(ow_mover_3.enum)"
   ]
  },
  {
   "cell_type": "markdown",
   "metadata": {},
   "source": [
    "And we get only two distinct movers as we wanted to."
   ]
  },
  {
   "cell_type": "markdown",
   "metadata": {},
   "source": [
    "Let's look at the real mover"
   ]
  },
  {
   "cell_type": "code",
   "execution_count": 13,
   "metadata": {},
   "outputs": [
    {
     "name": "stdout",
     "output_type": "stream",
     "text": [
      "69\n"
     ]
    }
   ],
   "source": [
    "all_changes = list(pm.enum)\n",
    "print len(all_changes)"
   ]
  },
  {
   "cell_type": "markdown",
   "metadata": {},
   "source": [
    "This one has 63. Let's if we can reconstruct that number. The pathmover first choses between 5 different move types. \n",
    "\n",
    "1. Shooting, with one shooter for each of the 3 x 3 + 1? ensembles and two directions (forward and backward) are 10 * 2 = 20 in total. \n",
    "2. Reversal moves for each ensemble = 10\n",
    "3. ReplicaExchange moves between all neighboring ensembles 3 x [1,2], [2,3]  = 6\n",
    "4. OuterRexEx for each state = 3\n",
    "5. And a choice of a Minus Move for each state that consists of choices for picking the first or final inner trajectory from the minus ensemble and 2 choices for extending forward or backward. Here is important that we use a ConditionalSequentialMover that might call only some of its inner sequence. To be precise it could call only the subtrajectoryselection (2 choices), the selection and the replicaexchange (also 2 choices) or all three movers (4 choices). This will give a total of 8 possibilities for the minus move per state and thus = 24.\n",
    "\n",
    "In total we have 20 + 10 + 6 + 3 + 24 = 63 as `enum` predicted. \n",
    "\n",
    "> Note that this is only the maximal possible number of moves and not the real accessible moves. It could be that in a conditional mover some moves are always run in sequence. E.g. in our case the subtrajectoryselection should always work and hence the first 2 choices of the minus mover will never happen. It will always try a swap (which can fail if by chance the trajectory in the innermost interface crosses away from the state). So the effective number of choices will be 57 and not 63."
   ]
  },
  {
   "cell_type": "markdown",
   "metadata": {},
   "source": [
    "Let's do some more testing"
   ]
  },
  {
   "cell_type": "markdown",
   "metadata": {},
   "source": [
    "First let's check if the keys we get for all changes in the storage are actually contained in the mover or put more simple the mover could have generated these changes. This should be true for all changes that originate from our mover."
   ]
  },
  {
   "cell_type": "code",
   "execution_count": 14,
   "metadata": {},
   "outputs": [
    {
     "name": "stdout",
     "output_type": "stream",
     "text": [
      "[False, False, True, False, False, False, False, True, False, False, False, False, True, False, False, False, False, False, True, False]\n"
     ]
    }
   ],
   "source": [
    "print [pc in pm for pc in st.pathmovechanges[0:20]]"
   ]
  },
  {
   "cell_type": "markdown",
   "metadata": {},
   "source": [
    "What happened here? Why are only some changes in the storage made by our mover? Shouldn't all of them (except the 2 in the beginning) be the result of our pathmover? Yes and no. They are, but we are checking if the total change is made from a mover and we are also loading all subchanges."
   ]
  },
  {
   "cell_type": "code",
   "execution_count": 15,
   "metadata": {},
   "outputs": [
    {
     "name": "stdout",
     "output_type": "stream",
     "text": [
      "PathSimulatorStep : PathSampling : Step # 1 with 0 samples\n",
      " +- RandomChoice :\n",
      "     +- RandomChoice :\n",
      "         +- SampleMove : ReplicaExchangeMover : False :[]\n",
      "True\n",
      "\n",
      "SampleMove : ReplicaExchangeMover : False :[]\n",
      "False\n"
     ]
    }
   ],
   "source": [
    "print st.pathmovechanges[2]\n",
    "print st.pathmovechanges[2] in pm\n",
    "print\n",
    "print st.pathmovechanges[5]\n",
    "print st.pathmovechanges[5] in pm"
   ]
  },
  {
   "cell_type": "markdown",
   "metadata": {},
   "source": [
    "We will now cache all changes to see if the next steps are really fast or not."
   ]
  },
  {
   "cell_type": "code",
   "execution_count": 16,
   "metadata": {},
   "outputs": [],
   "source": [
    "_ = list(st.pathmovechanges)\n",
    "_ = list(st.steps)"
   ]
  },
  {
   "cell_type": "markdown",
   "metadata": {},
   "source": [
    "Now the question is: \n",
    "How do we get all the changes that are really important? One way is to scan all changes and use only the ones from the mover"
   ]
  },
  {
   "cell_type": "code",
   "execution_count": 17,
   "metadata": {},
   "outputs": [
    {
     "name": "stdout",
     "output_type": "stream",
     "text": [
      "300 of 1677\n"
     ]
    }
   ],
   "source": [
    "real_changes = filter(lambda x : x in pm, st.pathmovechanges)\n",
    "print len(real_changes), 'of', len(st.pathmovechanges)"
   ]
  },
  {
   "cell_type": "markdown",
   "metadata": {},
   "source": [
    "While this works it would be better to rely on the steps in the simulation and not on the changes itself. We might store some other changes for whatever reason, but we only want the ones that are associated with a MC step. The steps in the storage do exactly that and point to the changes that are used to generate the next sampleset that we wanted. "
   ]
  },
  {
   "cell_type": "code",
   "execution_count": 18,
   "metadata": {},
   "outputs": [
    {
     "name": "stdout",
     "output_type": "stream",
     "text": [
      "300\n"
     ]
    }
   ],
   "source": [
    "step_changes = [step.change for step in st.steps[1:]]\n",
    "print len(step_changes)"
   ]
  },
  {
   "cell_type": "markdown",
   "metadata": {},
   "source": [
    "We exclude the first step since it is the initialization which is not generated by our pathmover."
   ]
  },
  {
   "cell_type": "markdown",
   "metadata": {},
   "source": [
    "Let's now check which and how often one the 31 possible steps was called."
   ]
  },
  {
   "cell_type": "code",
   "execution_count": 19,
   "metadata": {},
   "outputs": [],
   "source": [
    "import collections\n",
    "counter = collections.defaultdict(lambda: 0)\n",
    "for ch in step_changes:\n",
    "    counter[ch.unique] += 1"
   ]
  },
  {
   "cell_type": "code",
   "execution_count": 20,
   "metadata": {},
   "outputs": [
    {
     "name": "stdout",
     "output_type": "stream",
     "text": [
      "50 of 69 different changes run \n",
      "------------------------------ \n",
      "\n",
      "\n",
      "15 x\n",
      "PathSimulator(10f332b50)\n",
      " +- RootMover(10f337850)\n",
      "     +- Msouter_repexChooser(10f3371d0)\n",
      "         +- ReplicaExchange(10f3374d0)\n",
      "\n",
      "13 x\n",
      "PathSimulator(10f332b50)\n",
      " +- RootMover(10f337850)\n",
      "     +- Msouter_pathreversalChooser(10f654410)\n",
      "\n",
      "13 x\n",
      "PathSimulator(10f332b50)\n",
      " +- RootMover(10f337850)\n",
      "     +- Msouter_repexChooser(10f3371d0)\n",
      "         +- ReplicaExchange(10f308a50)\n",
      "\n",
      "13 x\n",
      "PathSimulator(10f332b50)\n",
      " +- RootMover(10f337850)\n",
      "     +- PathreversalChooser(10f3378d0)\n",
      "         +- PathReversal(10f654310)\n",
      "\n",
      "12 x\n",
      "PathSimulator(10f332b50)\n",
      " +- RootMover(10f337850)\n",
      "     +- ShootingChooser(10f303610)\n",
      "         +- OneWayShootingMover I'face 0(10f32ff50)\n",
      "             +- BackwardShoot(10f32f510)\n",
      "\n",
      "9 x\n",
      "PathSimulator(10f332b50)\n",
      " +- RootMover(10f337850)\n",
      "     +- PathreversalChooser(10f3378d0)\n",
      "         +- PathReversal(10f337690)\n",
      "\n",
      "9 x\n",
      "PathSimulator(10f332b50)\n",
      " +- RootMover(10f337850)\n",
      "     +- ShootingChooser(10f303610)\n",
      "         +- OneWayShootingMover I'face 2(10f303d90)\n",
      "             +- ForwardShoot(10f332510)\n",
      "\n",
      "9 x\n",
      "PathSimulator(10f332b50)\n",
      " +- RootMover(10f337850)\n",
      "     +- ShootingChooser(10f303610)\n",
      "         +- OneWayShootingMover I'face 0(10f303510)\n",
      "             +- BackwardShoot(10f303910)\n",
      "\n",
      "9 x\n",
      "PathSimulator(10f332b50)\n",
      " +- RootMover(10f337850)\n",
      "     +- PathreversalChooser(10f3378d0)\n",
      "         +- PathReversal(10f654d50)\n",
      "\n",
      "8 x\n",
      "PathSimulator(10f332b50)\n",
      " +- RootMover(10f337850)\n",
      "     +- RepexChooser(10f6544d0)\n",
      "         +- ReplicaExchange(10f654210)\n",
      "\n",
      "8 x\n",
      "PathSimulator(10f332b50)\n",
      " +- RootMover(10f337850)\n",
      "     +- Msouter_repexChooser(10f3371d0)\n",
      "         +- ReplicaExchange(10f337590)\n",
      "\n",
      "8 x\n",
      "PathSimulator(10f332b50)\n",
      " +- RootMover(10f337850)\n",
      "     +- ShootingChooser(10f303610)\n",
      "         +- OneWayShootingMover I'face 1(10f332390)\n",
      "             +- BackwardShoot(10f332750)\n",
      "\n",
      "8 x\n",
      "PathSimulator(10f332b50)\n",
      " +- RootMover(10f337850)\n",
      "     +- ShootingChooser(10f303610)\n",
      "         +- OneWayShootingMover I'face 1(10f32f2d0)\n",
      "             +- ForwardShoot(10f332610)\n",
      "\n",
      "7 x\n",
      "PathSimulator(10f332b50)\n",
      " +- RootMover(10f337850)\n",
      "     +- PathreversalChooser(10f3378d0)\n",
      "         +- PathReversal(10f337950)\n",
      "\n",
      "7 x\n",
      "PathSimulator(10f332b50)\n",
      " +- RootMover(10f337850)\n",
      "     +- RepexChooser(10f6544d0)\n",
      "         +- ReplicaExchange(10f337750)\n",
      "\n",
      "7 x\n",
      "PathSimulator(10f332b50)\n",
      " +- RootMover(10f337850)\n",
      "     +- ShootingChooser(10f303610)\n",
      "         +- OneWayShootingMover I'face 1(10f332390)\n",
      "             +- ForwardShoot(10f32fa10)\n",
      "\n",
      "7 x\n",
      "PathSimulator(10f332b50)\n",
      " +- RootMover(10f337850)\n",
      "     +- RepexChooser(10f6544d0)\n",
      "         +- ReplicaExchange(10f337ad0)\n",
      "\n",
      "7 x\n",
      "PathSimulator(10f332b50)\n",
      " +- RootMover(10f337850)\n",
      "     +- PathreversalChooser(10f3378d0)\n",
      "         +- PathReversal(10f654590)\n",
      "\n",
      "7 x\n",
      "PathSimulator(10f332b50)\n",
      " +- RootMover(10f337850)\n",
      "     +- RepexChooser(10f6544d0)\n",
      "         +- ReplicaExchange(10f654f10)\n",
      "\n",
      "7 x\n",
      "PathSimulator(10f332b50)\n",
      " +- RootMover(10f337850)\n",
      "     +- ShootingChooser(10f303610)\n",
      "         +- OneWayShootingMover I'face 1(10f303950)\n",
      "             +- ForwardShoot(10f332e10)\n",
      "\n",
      "7 x\n",
      "PathSimulator(10f332b50)\n",
      " +- RootMover(10f337850)\n",
      "     +- ShootingChooser(10f303610)\n",
      "         +- OneWayShootingMover I'face 2(10f303d90)\n",
      "             +- BackwardShoot(10f303110)\n",
      "\n",
      "6 x\n",
      "PathSimulator(10f332b50)\n",
      " +- RootMover(10f337850)\n",
      "     +- RepexChooser(10f6544d0)\n",
      "         +- ReplicaExchange(10f337090)\n",
      "\n",
      "6 x\n",
      "PathSimulator(10f332b50)\n",
      " +- RootMover(10f337850)\n",
      "     +- PathreversalChooser(10f3378d0)\n",
      "         +- PathReversal(10f3372d0)\n",
      "\n",
      "6 x\n",
      "PathSimulator(10f332b50)\n",
      " +- RootMover(10f337850)\n",
      "     +- RepexChooser(10f6544d0)\n",
      "         +- ReplicaExchange(10f32dd90)\n",
      "\n",
      "6 x\n",
      "PathSimulator(10f332b50)\n",
      " +- RootMover(10f337850)\n",
      "     +- PathreversalChooser(10f3378d0)\n",
      "         +- PathReversal(10f337cd0)\n",
      "\n",
      "6 x\n",
      "PathSimulator(10f332b50)\n",
      " +- RootMover(10f337850)\n",
      "     +- PathreversalChooser(10f3378d0)\n",
      "         +- PathReversal(10f654a90)\n",
      "\n",
      "5 x\n",
      "PathSimulator(10f332b50)\n",
      " +- RootMover(10f337850)\n",
      "     +- Ms_outer_shootingChooser(1060f3850)\n",
      "         +- OneWayShootingMover [UnionEnsemble](10f32f450)\n",
      "             +- ForwardShoot(10f332250)\n",
      "\n",
      "5 x\n",
      "PathSimulator(10f332b50)\n",
      " +- RootMover(10f337850)\n",
      "     +- Msouter_shootingChooser(10f337d90)\n",
      "         +- OneWayShooting(10f337990)\n",
      "             +- ForwardShoot(10f6549d0)\n",
      "\n",
      "5 x\n",
      "PathSimulator(10f332b50)\n",
      " +- RootMover(10f337850)\n",
      "     +- PathreversalChooser(10f3378d0)\n",
      "         +- PathReversal(10f337e90)\n",
      "\n",
      "5 x\n",
      "PathSimulator(10f332b50)\n",
      " +- RootMover(10f337850)\n",
      "     +- RepexChooser(10f6544d0)\n",
      "         +- ReplicaExchange(10f654bd0)\n",
      "\n",
      "5 x\n",
      "PathSimulator(10f332b50)\n",
      " +- RootMover(10f337850)\n",
      "     +- Ms_outer_shootingChooser(1060f3850)\n",
      "         +- OneWayShootingMover [UnionEnsemble](10f32f450)\n",
      "             +- BackwardShoot(10f32f550)\n",
      "\n",
      "5 x\n",
      "PathSimulator(10f332b50)\n",
      " +- RootMover(10f337850)\n",
      "     +- PathreversalChooser(10f3378d0)\n",
      "         +- PathReversal(10f6540d0)\n",
      "\n",
      "4 x\n",
      "PathSimulator(10f332b50)\n",
      " +- RootMover(10f337850)\n",
      "     +- ShootingChooser(10f303610)\n",
      "         +- OneWayShootingMover I'face 0(10f32ff50)\n",
      "             +- ForwardShoot(10f332c90)\n",
      "\n",
      "4 x\n",
      "PathSimulator(10f332b50)\n",
      " +- RootMover(10f337850)\n",
      "     +- ShootingChooser(10f303610)\n",
      "         +- OneWayShootingMover I'face 2(10f332c50)\n",
      "             +- ForwardShoot(10f32fed0)\n",
      "\n",
      "4 x\n",
      "PathSimulator(10f332b50)\n",
      " +- RootMover(10f337850)\n",
      "     +- ShootingChooser(10f303610)\n",
      "         +- OneWayShootingMover I'face 2(10f32f650)\n",
      "             +- ForwardShoot(10f332e50)\n",
      "\n",
      "4 x\n",
      "PathSimulator(10f332b50)\n",
      " +- RootMover(10f337850)\n",
      "     +- Msouter_shootingChooser(10f337d90)\n",
      "         +- OneWayShooting(10f337990)\n",
      "             +- BackwardShoot(10f337410)\n",
      "\n",
      "4 x\n",
      "PathSimulator(10f332b50)\n",
      " +- RootMover(10f337850)\n",
      "     +- ShootingChooser(10f303610)\n",
      "         +- OneWayShootingMover I'face 1(10f303950)\n",
      "             +- BackwardShoot(10f303c50)\n",
      "\n",
      "4 x\n",
      "PathSimulator(10f332b50)\n",
      " +- RootMover(10f337850)\n",
      "     +- ShootingChooser(10f303610)\n",
      "         +- OneWayShootingMover I'face 1(10f32f2d0)\n",
      "             +- BackwardShoot(10f32f850)\n",
      "\n",
      "3 x\n",
      "PathSimulator(10f332b50)\n",
      " +- RootMover(10f337850)\n",
      "     +- RepexChooser(10f6544d0)\n",
      "         +- ReplicaExchange(10f654910)\n",
      "\n",
      "3 x\n",
      "PathSimulator(10f332b50)\n",
      " +- RootMover(10f337850)\n",
      "     +- ShootingChooser(10f303610)\n",
      "         +- OneWayShootingMover I'face 0(10f32f250)\n",
      "             +- BackwardShoot(10f32f590)\n",
      "\n",
      "3 x\n",
      "PathSimulator(10f332b50)\n",
      " +- RootMover(10f337850)\n",
      "     +- ShootingChooser(10f303610)\n",
      "         +- OneWayShootingMover I'face 0(10f32f250)\n",
      "             +- ForwardShoot(10f332350)\n",
      "\n",
      "3 x\n",
      "PathSimulator(10f332b50)\n",
      " +- RootMover(10f337850)\n",
      "     +- RepexChooser(10f6544d0)\n",
      "         +- ReplicaExchange(10f654690)\n",
      "\n",
      "3 x\n",
      "PathSimulator(10f332b50)\n",
      " +- RootMover(10f337850)\n",
      "     +- ShootingChooser(10f303610)\n",
      "         +- OneWayShootingMover I'face 0(10f303510)\n",
      "             +- ForwardShoot(10f332bd0)\n",
      "\n",
      "2 x\n",
      "PathSimulator(10f332b50)\n",
      " +- RootMover(10f337850)\n",
      "     +- MinusChooser(10f32d410)\n",
      "         +- Minus(10f337a10)\n",
      "             +- EnsembleFilter(10f337610)\n",
      "                 +- ConditionalSequential(10f337510)\n",
      "                     +- MinusSubtrajectoryChooser(10f673250)\n",
      "                     |   +- FinalSubtrajectorySelect(10f673c10)\n",
      "                     +- InterfaceSetChooser(1060f3a10)\n",
      "                     +- MinusExtensionDirectionChooser(10f3379d0)\n",
      "                         +- ForwardExtend(10f673fd0)\n",
      "\n",
      "2 x\n",
      "PathSimulator(10f332b50)\n",
      " +- RootMover(10f337850)\n",
      "     +- ShootingChooser(10f303610)\n",
      "         +- OneWayShootingMover I'face 2(10f32f650)\n",
      "             +- BackwardShoot(10f32fe90)\n",
      "\n",
      "2 x\n",
      "PathSimulator(10f332b50)\n",
      " +- RootMover(10f337850)\n",
      "     +- MinusChooser(10f32d410)\n",
      "         +- Minus(10f337a10)\n",
      "             +- EnsembleFilter(10f337610)\n",
      "                 +- ConditionalSequential(10f337510)\n",
      "                     +- MinusSubtrajectoryChooser(10f673250)\n",
      "                     |   +- FirstSubtrajectorySelect(10f337550)\n",
      "                     +- InterfaceSetChooser(1060f3a10)\n",
      "                     +- MinusExtensionDirectionChooser(10f3379d0)\n",
      "                         +- BackwardExtend(10f337d10)\n",
      "\n",
      "2 x\n",
      "PathSimulator(10f332b50)\n",
      " +- RootMover(10f337850)\n",
      "     +- ShootingChooser(10f303610)\n",
      "         +- OneWayShootingMover I'face 2(10f332c50)\n",
      "             +- BackwardShoot(10f3328d0)\n",
      "\n",
      "1 x\n",
      "PathSimulator(10f332b50)\n",
      " +- RootMover(10f337850)\n",
      "     +- MinusChooser(10f32d410)\n",
      "         +- Minus(10f32f3d0)\n",
      "             +- EnsembleFilter(10f32f750)\n",
      "                 +- ConditionalSequential(10f32f390)\n",
      "                     +- MinusSubtrajectoryChooser(10f654610)\n",
      "                     |   +- FirstSubtrajectorySelect(10f332150)\n",
      "                     +- InterfaceSetChooser(10f654990)\n",
      "                     +- MinusExtensionDirectionChooser(10f32f890)\n",
      "                         +- ForwardExtend(10f303550)\n",
      "\n",
      "1 x\n",
      "PathSimulator(10f332b50)\n",
      " +- RootMover(10f337850)\n",
      "     +- MinusChooser(10f32d410)\n",
      "         +- Minus(10f32dc50)\n",
      "             +- EnsembleFilter(10f32d550)\n",
      "                 +- ConditionalSequential(10f32db50)\n",
      "                     +- MinusSubtrajectoryChooser(10f308cd0)\n",
      "                     |   +- FinalSubtrajectorySelect(10f308bd0)\n",
      "                     +- InterfaceSetChooser(10f0dddd0)\n",
      "                     +- MinusExtensionDirectionChooser(10f32da90)\n",
      "                         +- BackwardExtend(10f32da10)\n",
      "\n",
      "1 x\n",
      "PathSimulator(10f332b50)\n",
      " +- RootMover(10f337850)\n",
      "     +- MinusChooser(10f32d410)\n",
      "         +- Minus(10f32dc50)\n",
      "             +- EnsembleFilter(10f32d550)\n",
      "                 +- ConditionalSequential(10f32db50)\n",
      "                     +- MinusSubtrajectoryChooser(10f308cd0)\n",
      "                     |   +- FinalSubtrajectorySelect(10f308bd0)\n",
      "                     +- InterfaceSetChooser(10f0dddd0)\n",
      "                     +- MinusExtensionDirectionChooser(10f32da90)\n",
      "                         +- ForwardExtend(10f674b10)\n"
     ]
    }
   ],
   "source": [
    "s = '%d of %d different changes run' % (len(counter), len(list(pm.enum)))\n",
    "print s, '\\n', '-' * len(s), '\\n'\n",
    "\n",
    "for y in sorted(counter.items(), key=lambda x : -x[1]):\n",
    "    print\n",
    "    print y[1], 'x'\n",
    "    print y[0].treeprint()"
   ]
  },
  {
   "cell_type": "markdown",
   "metadata": {},
   "source": [
    "We see that especially minus moves are underrepresented. This is due to the standard weighting of the minus move which runs minus moves much less frequent than other moves. "
   ]
  },
  {
   "cell_type": "markdown",
   "metadata": {},
   "source": [
    "Let's just do that again and pick a random chance among all the possibilities. This is done only from the possibilities without regard for acceptance etc. We only assume that all possible choices for a single mover are equally likely."
   ]
  },
  {
   "cell_type": "code",
   "execution_count": 21,
   "metadata": {},
   "outputs": [],
   "source": [
    "pmc_list = [pm.random() for x in xrange(10000)]"
   ]
  },
  {
   "cell_type": "code",
   "execution_count": 22,
   "metadata": {},
   "outputs": [],
   "source": [
    "counter2 = collections.defaultdict(lambda: 0)\n",
    "for ch in pmc_list:\n",
    "    counter2[ch] += 1"
   ]
  },
  {
   "cell_type": "code",
   "execution_count": 23,
   "metadata": {},
   "outputs": [
    {
     "name": "stdout",
     "output_type": "stream",
     "text": [
      "69 of 69 different changes run \n",
      "------------------------------ \n",
      "\n",
      "12.53 % (PathSimulator(10f332b50), (RootMover(10f337850), (Msouter_pathreversalChooser(10f654410), (PathReversal(10f654750),))))\n",
      "6.53 % (PathSimulator(10f332b50), (RootMover(10f337850), (Ms_outer_shootingChooser(1060f3850), (OneWayShootingMover [UnionEnsemble](10f32f450), (ForwardShoot(10f332250),)))))\n",
      "6.4 % (PathSimulator(10f332b50), (RootMover(10f337850), (Ms_outer_shootingChooser(1060f3850), (OneWayShootingMover [UnionEnsemble](10f32f450), (BackwardShoot(10f32f550),)))))\n",
      "6.18 % (PathSimulator(10f332b50), (RootMover(10f337850), (Msouter_shootingChooser(10f337d90), (OneWayShooting(10f337990), (ForwardShoot(10f6549d0),)))))\n",
      "6.14 % (PathSimulator(10f332b50), (RootMover(10f337850), (Msouter_shootingChooser(10f337d90), (OneWayShooting(10f337990), (BackwardShoot(10f337410),)))))\n",
      "4.29 % (PathSimulator(10f332b50), (RootMover(10f337850), (Msouter_repexChooser(10f3371d0), (ReplicaExchange(10f337590),))))\n",
      "4.16 % (PathSimulator(10f332b50), (RootMover(10f337850), (Msouter_repexChooser(10f3371d0), (ReplicaExchange(10f3374d0),))))\n",
      "3.84 % (PathSimulator(10f332b50), (RootMover(10f337850), (Msouter_repexChooser(10f3371d0), (ReplicaExchange(10f308a50),))))\n",
      "1.59 % (PathSimulator(10f332b50), (RootMover(10f337850), (RepexChooser(10f6544d0), (ReplicaExchange(10f654210),))))\n",
      "1.43 % (PathSimulator(10f332b50), (RootMover(10f337850), (RepexChooser(10f6544d0), (ReplicaExchange(10f32dd90),))))\n",
      "1.42 % (PathSimulator(10f332b50), (RootMover(10f337850), (RepexChooser(10f6544d0), (ReplicaExchange(10f654910),))))\n",
      "1.39 % (PathSimulator(10f332b50), (RootMover(10f337850), (RepexChooser(10f6544d0), (ReplicaExchange(10f337090),))))\n",
      "1.39 % (PathSimulator(10f332b50), (RootMover(10f337850), (RepexChooser(10f6544d0), (ReplicaExchange(10f337ad0),))))\n",
      "1.38 % (PathSimulator(10f332b50), (RootMover(10f337850), (RepexChooser(10f6544d0), (ReplicaExchange(10f654690),))))\n",
      "1.38 % (PathSimulator(10f332b50), (RootMover(10f337850), (RepexChooser(10f6544d0), (ReplicaExchange(10f654f10),))))\n",
      "1.37 % (PathSimulator(10f332b50), (RootMover(10f337850), (PathreversalChooser(10f3378d0), (PathReversal(10f654310),))))\n",
      "1.36 % (PathSimulator(10f332b50), (RootMover(10f337850), (RepexChooser(10f6544d0), (ReplicaExchange(10f337750),))))\n",
      "1.36 % (PathSimulator(10f332b50), (RootMover(10f337850), (PathreversalChooser(10f3378d0), (PathReversal(10f654d50),))))\n",
      "1.35 % (PathSimulator(10f332b50), (RootMover(10f337850), (PathreversalChooser(10f3378d0), (PathReversal(10f337cd0),))))\n",
      "1.31 % (PathSimulator(10f332b50), (RootMover(10f337850), (PathreversalChooser(10f3378d0), (PathReversal(10f337690),))))\n",
      "1.31 % (PathSimulator(10f332b50), (RootMover(10f337850), (PathreversalChooser(10f3378d0), (PathReversal(10f6540d0),))))\n",
      "1.28 % (PathSimulator(10f332b50), (RootMover(10f337850), (PathreversalChooser(10f3378d0), (PathReversal(10f337e90),))))\n",
      "1.26 % (PathSimulator(10f332b50), (RootMover(10f337850), (RepexChooser(10f6544d0), (ReplicaExchange(10f654bd0),))))\n",
      "1.14 % (PathSimulator(10f332b50), (RootMover(10f337850), (PathreversalChooser(10f3378d0), (PathReversal(10f654590),))))\n",
      "1.13 % (PathSimulator(10f332b50), (RootMover(10f337850), (PathreversalChooser(10f3378d0), (PathReversal(10f654a90),))))\n",
      "1.13 % (PathSimulator(10f332b50), (RootMover(10f337850), (PathreversalChooser(10f3378d0), (PathReversal(10f3372d0),))))\n",
      "1.06 % (PathSimulator(10f332b50), (RootMover(10f337850), (PathreversalChooser(10f3378d0), (PathReversal(10f337950),))))\n",
      "0.85 % (PathSimulator(10f332b50), (RootMover(10f337850), (ShootingChooser(10f303610), (OneWayShootingMover I'face 2(10f303d90), (BackwardShoot(10f303110),)))))\n",
      "0.82 % (PathSimulator(10f332b50), (RootMover(10f337850), (MinusChooser(10f32d410), (Minus(10f32f3d0), (EnsembleFilter(10f32f750), (ConditionalSequential(10f32f390), (MinusSubtrajectoryChooser(10f654610), (FirstSubtrajectorySelect(10f332150),)), (InterfaceSetChooser(10f654990), (ReplicaExchange(10f654810),))))))))\n",
      "0.79 % (PathSimulator(10f332b50), (RootMover(10f337850), (ShootingChooser(10f303610), (OneWayShootingMover I'face 0(10f303510), (BackwardShoot(10f303910),)))))\n",
      "0.79 % (PathSimulator(10f332b50), (RootMover(10f337850), (ShootingChooser(10f303610), (OneWayShootingMover I'face 0(10f32f250), (BackwardShoot(10f32f590),)))))\n",
      "0.76 % (PathSimulator(10f332b50), (RootMover(10f337850), (MinusChooser(10f32d410), (Minus(10f32dc50), (EnsembleFilter(10f32d550), (ConditionalSequential(10f32db50), (MinusSubtrajectoryChooser(10f308cd0), (FirstSubtrajectorySelect(10f0dd950),))))))))\n",
      "0.75 % (PathSimulator(10f332b50), (RootMover(10f337850), (ShootingChooser(10f303610), (OneWayShootingMover I'face 1(10f32f2d0), (BackwardShoot(10f32f850),)))))\n",
      "0.73 % (PathSimulator(10f332b50), (RootMover(10f337850), (ShootingChooser(10f303610), (OneWayShootingMover I'face 1(10f332390), (BackwardShoot(10f332750),)))))\n",
      "0.72 % (PathSimulator(10f332b50), (RootMover(10f337850), (ShootingChooser(10f303610), (OneWayShootingMover I'face 2(10f332c50), (ForwardShoot(10f32fed0),)))))\n",
      "0.72 % (PathSimulator(10f332b50), (RootMover(10f337850), (ShootingChooser(10f303610), (OneWayShootingMover I'face 1(10f303950), (ForwardShoot(10f332e10),)))))\n",
      "0.71 % (PathSimulator(10f332b50), (RootMover(10f337850), (ShootingChooser(10f303610), (OneWayShootingMover I'face 0(10f32f250), (ForwardShoot(10f332350),)))))\n",
      "0.71 % (PathSimulator(10f332b50), (RootMover(10f337850), (ShootingChooser(10f303610), (OneWayShootingMover I'face 1(10f32f2d0), (ForwardShoot(10f332610),)))))\n",
      "0.7 % (PathSimulator(10f332b50), (RootMover(10f337850), (MinusChooser(10f32d410), (Minus(10f32dc50), (EnsembleFilter(10f32d550), (ConditionalSequential(10f32db50), (MinusSubtrajectoryChooser(10f308cd0), (FirstSubtrajectorySelect(10f0dd950),)), (InterfaceSetChooser(10f0dddd0), (ReplicaExchange(10f0dda10),))))))))\n",
      "0.7 % (PathSimulator(10f332b50), (RootMover(10f337850), (MinusChooser(10f32d410), (Minus(10f32f3d0), (EnsembleFilter(10f32f750), (ConditionalSequential(10f32f390), (MinusSubtrajectoryChooser(10f654610), (FinalSubtrajectorySelect(10f654290),))))))))\n",
      "0.68 % (PathSimulator(10f332b50), (RootMover(10f337850), (MinusChooser(10f32d410), (Minus(10f32dc50), (EnsembleFilter(10f32d550), (ConditionalSequential(10f32db50), (MinusSubtrajectoryChooser(10f308cd0), (FinalSubtrajectorySelect(10f308bd0),)), (InterfaceSetChooser(10f0dddd0), (ReplicaExchange(10f0dda10),))))))))\n",
      "0.68 % (PathSimulator(10f332b50), (RootMover(10f337850), (MinusChooser(10f32d410), (Minus(10f32dc50), (EnsembleFilter(10f32d550), (ConditionalSequential(10f32db50), (MinusSubtrajectoryChooser(10f308cd0), (FinalSubtrajectorySelect(10f308bd0),))))))))\n",
      "0.68 % (PathSimulator(10f332b50), (RootMover(10f337850), (ShootingChooser(10f303610), (OneWayShootingMover I'face 2(10f303d90), (ForwardShoot(10f332510),)))))\n",
      "0.68 % (PathSimulator(10f332b50), (RootMover(10f337850), (MinusChooser(10f32d410), (Minus(10f32f3d0), (EnsembleFilter(10f32f750), (ConditionalSequential(10f32f390), (MinusSubtrajectoryChooser(10f654610), (FirstSubtrajectorySelect(10f332150),))))))))\n",
      "0.67 % (PathSimulator(10f332b50), (RootMover(10f337850), (ShootingChooser(10f303610), (OneWayShootingMover I'face 0(10f32ff50), (BackwardShoot(10f32f510),)))))\n",
      "0.67 % (PathSimulator(10f332b50), (RootMover(10f337850), (ShootingChooser(10f303610), (OneWayShootingMover I'face 1(10f303950), (BackwardShoot(10f303c50),)))))\n",
      "0.67 % (PathSimulator(10f332b50), (RootMover(10f337850), (MinusChooser(10f32d410), (Minus(10f337a10), (EnsembleFilter(10f337610), (ConditionalSequential(10f337510), (MinusSubtrajectoryChooser(10f673250), (FirstSubtrajectorySelect(10f337550),))))))))\n",
      "0.66 % (PathSimulator(10f332b50), (RootMover(10f337850), (ShootingChooser(10f303610), (OneWayShootingMover I'face 2(10f32f650), (ForwardShoot(10f332e50),)))))\n",
      "0.66 % (PathSimulator(10f332b50), (RootMover(10f337850), (ShootingChooser(10f303610), (OneWayShootingMover I'face 2(10f332c50), (BackwardShoot(10f3328d0),)))))\n",
      "0.64 % (PathSimulator(10f332b50), (RootMover(10f337850), (ShootingChooser(10f303610), (OneWayShootingMover I'face 2(10f32f650), (BackwardShoot(10f32fe90),)))))\n",
      "0.64 % (PathSimulator(10f332b50), (RootMover(10f337850), (MinusChooser(10f32d410), (Minus(10f32f3d0), (EnsembleFilter(10f32f750), (ConditionalSequential(10f32f390), (MinusSubtrajectoryChooser(10f654610), (FinalSubtrajectorySelect(10f654290),)), (InterfaceSetChooser(10f654990), (ReplicaExchange(10f654810),))))))))\n",
      "0.62 % (PathSimulator(10f332b50), (RootMover(10f337850), (MinusChooser(10f32d410), (Minus(10f337a10), (EnsembleFilter(10f337610), (ConditionalSequential(10f337510), (MinusSubtrajectoryChooser(10f673250), (FinalSubtrajectorySelect(10f673c10),))))))))\n",
      "0.61 % (PathSimulator(10f332b50), (RootMover(10f337850), (ShootingChooser(10f303610), (OneWayShootingMover I'face 1(10f332390), (ForwardShoot(10f32fa10),)))))\n",
      "0.6 % (PathSimulator(10f332b50), (RootMover(10f337850), (ShootingChooser(10f303610), (OneWayShootingMover I'face 0(10f32ff50), (ForwardShoot(10f332c90),)))))\n",
      "0.6 % (PathSimulator(10f332b50), (RootMover(10f337850), (MinusChooser(10f32d410), (Minus(10f337a10), (EnsembleFilter(10f337610), (ConditionalSequential(10f337510), (MinusSubtrajectoryChooser(10f673250), (FirstSubtrajectorySelect(10f337550),)), (InterfaceSetChooser(1060f3a10), (ReplicaExchange(10f32d690),))))))))\n",
      "0.59 % (PathSimulator(10f332b50), (RootMover(10f337850), (ShootingChooser(10f303610), (OneWayShootingMover I'face 0(10f303510), (ForwardShoot(10f332bd0),)))))\n",
      "0.58 % (PathSimulator(10f332b50), (RootMover(10f337850), (MinusChooser(10f32d410), (Minus(10f337a10), (EnsembleFilter(10f337610), (ConditionalSequential(10f337510), (MinusSubtrajectoryChooser(10f673250), (FinalSubtrajectorySelect(10f673c10),)), (InterfaceSetChooser(1060f3a10), (ReplicaExchange(10f32d690),))))))))\n",
      "0.5 % (PathSimulator(10f332b50), (RootMover(10f337850), (MinusChooser(10f32d410), (Minus(10f32f3d0), (EnsembleFilter(10f32f750), (ConditionalSequential(10f32f390), (MinusSubtrajectoryChooser(10f654610), (FinalSubtrajectorySelect(10f654290),)), (InterfaceSetChooser(10f654990), (ReplicaExchange(10f654810),)), (MinusExtensionDirectionChooser(10f32f890), (BackwardExtend(10f32fd50),))))))))\n",
      "0.43 % (PathSimulator(10f332b50), (RootMover(10f337850), (MinusChooser(10f32d410), (Minus(10f337a10), (EnsembleFilter(10f337610), (ConditionalSequential(10f337510), (MinusSubtrajectoryChooser(10f673250), (FirstSubtrajectorySelect(10f337550),)), (InterfaceSetChooser(1060f3a10), (ReplicaExchange(10f32d690),)), (MinusExtensionDirectionChooser(10f3379d0), (BackwardExtend(10f337d10),))))))))\n",
      "0.37 % (PathSimulator(10f332b50), (RootMover(10f337850), (MinusChooser(10f32d410), (Minus(10f337a10), (EnsembleFilter(10f337610), (ConditionalSequential(10f337510), (MinusSubtrajectoryChooser(10f673250), (FinalSubtrajectorySelect(10f673c10),)), (InterfaceSetChooser(1060f3a10), (ReplicaExchange(10f32d690),)), (MinusExtensionDirectionChooser(10f3379d0), (BackwardExtend(10f337d10),))))))))\n",
      "0.35 % (PathSimulator(10f332b50), (RootMover(10f337850), (MinusChooser(10f32d410), (Minus(10f337a10), (EnsembleFilter(10f337610), (ConditionalSequential(10f337510), (MinusSubtrajectoryChooser(10f673250), (FinalSubtrajectorySelect(10f673c10),)), (InterfaceSetChooser(1060f3a10), (ReplicaExchange(10f32d690),)), (MinusExtensionDirectionChooser(10f3379d0), (ForwardExtend(10f673fd0),))))))))\n",
      "0.34 % (PathSimulator(10f332b50), (RootMover(10f337850), (MinusChooser(10f32d410), (Minus(10f32dc50), (EnsembleFilter(10f32d550), (ConditionalSequential(10f32db50), (MinusSubtrajectoryChooser(10f308cd0), (FirstSubtrajectorySelect(10f0dd950),)), (InterfaceSetChooser(10f0dddd0), (ReplicaExchange(10f0dda10),)), (MinusExtensionDirectionChooser(10f32da90), (ForwardExtend(10f674b10),))))))))\n",
      "0.33 % (PathSimulator(10f332b50), (RootMover(10f337850), (MinusChooser(10f32d410), (Minus(10f337a10), (EnsembleFilter(10f337610), (ConditionalSequential(10f337510), (MinusSubtrajectoryChooser(10f673250), (FirstSubtrajectorySelect(10f337550),)), (InterfaceSetChooser(1060f3a10), (ReplicaExchange(10f32d690),)), (MinusExtensionDirectionChooser(10f3379d0), (ForwardExtend(10f673fd0),))))))))\n",
      "0.33 % (PathSimulator(10f332b50), (RootMover(10f337850), (MinusChooser(10f32d410), (Minus(10f32f3d0), (EnsembleFilter(10f32f750), (ConditionalSequential(10f32f390), (MinusSubtrajectoryChooser(10f654610), (FirstSubtrajectorySelect(10f332150),)), (InterfaceSetChooser(10f654990), (ReplicaExchange(10f654810),)), (MinusExtensionDirectionChooser(10f32f890), (BackwardExtend(10f32fd50),))))))))\n",
      "0.33 % (PathSimulator(10f332b50), (RootMover(10f337850), (MinusChooser(10f32d410), (Minus(10f32f3d0), (EnsembleFilter(10f32f750), (ConditionalSequential(10f32f390), (MinusSubtrajectoryChooser(10f654610), (FirstSubtrajectorySelect(10f332150),)), (InterfaceSetChooser(10f654990), (ReplicaExchange(10f654810),)), (MinusExtensionDirectionChooser(10f32f890), (ForwardExtend(10f303550),))))))))\n",
      "0.33 % (PathSimulator(10f332b50), (RootMover(10f337850), (MinusChooser(10f32d410), (Minus(10f32dc50), (EnsembleFilter(10f32d550), (ConditionalSequential(10f32db50), (MinusSubtrajectoryChooser(10f308cd0), (FinalSubtrajectorySelect(10f308bd0),)), (InterfaceSetChooser(10f0dddd0), (ReplicaExchange(10f0dda10),)), (MinusExtensionDirectionChooser(10f32da90), (ForwardExtend(10f674b10),))))))))\n",
      "0.32 % (PathSimulator(10f332b50), (RootMover(10f337850), (MinusChooser(10f32d410), (Minus(10f32dc50), (EnsembleFilter(10f32d550), (ConditionalSequential(10f32db50), (MinusSubtrajectoryChooser(10f308cd0), (FirstSubtrajectorySelect(10f0dd950),)), (InterfaceSetChooser(10f0dddd0), (ReplicaExchange(10f0dda10),)), (MinusExtensionDirectionChooser(10f32da90), (BackwardExtend(10f32da10),))))))))\n",
      "0.31 % (PathSimulator(10f332b50), (RootMover(10f337850), (MinusChooser(10f32d410), (Minus(10f32dc50), (EnsembleFilter(10f32d550), (ConditionalSequential(10f32db50), (MinusSubtrajectoryChooser(10f308cd0), (FinalSubtrajectorySelect(10f308bd0),)), (InterfaceSetChooser(10f0dddd0), (ReplicaExchange(10f0dda10),)), (MinusExtensionDirectionChooser(10f32da90), (BackwardExtend(10f32da10),))))))))\n",
      "0.27 % (PathSimulator(10f332b50), (RootMover(10f337850), (MinusChooser(10f32d410), (Minus(10f32f3d0), (EnsembleFilter(10f32f750), (ConditionalSequential(10f32f390), (MinusSubtrajectoryChooser(10f654610), (FinalSubtrajectorySelect(10f654290),)), (InterfaceSetChooser(10f654990), (ReplicaExchange(10f654810),)), (MinusExtensionDirectionChooser(10f32f890), (ForwardExtend(10f303550),))))))))\n"
     ]
    }
   ],
   "source": [
    "s = '%d of %d different changes run' % (len(counter2), len(list(pm.enum)))\n",
    "print s, '\\n', '-' * len(s), '\\n'\n",
    "\n",
    "for y in sorted(counter2.items(), key=lambda x : -x[1]):\n",
    "    print (100.0 * y[1]) / len(pmc_list), '%', repr(y[0])"
   ]
  },
  {
   "cell_type": "markdown",
   "metadata": {},
   "source": [
    "We realize that a specific shooter is called less likely than other movers\n",
    "\n",
    "> not sure if this is helpful. We could have additional weighting factors for the randomchoice, but each mover would have to know about it. Problem is that in most movers these weighting probabilities are dependent on the context and hence make no sense here!\n",
    "\n",
    "> One solution is to let a mover be able to give a formal expression for each possible choice, since each mover will only depend on \n",
    "1. results of accepted/rejected of submoves and ultimately if certain samples are accepted which in turn depends on `.valid` and `.proposal_probability`\n",
    "2. some random numbers (choices)\n",
    "\n",
    "> So the SampleGeneratingMovers will return something like `[acc(samp[]), acc(samp[])]`\n",
    "\n",
    "> while other movers will return something that depends on the submovers, it could just be a list of products.\n",
    "\n",
    "> Each mover has an expression for it being accepted\n",
    "\n",
    "> Each mover has an expression for picking a specific choice\n",
    "\n",
    "> Finally `.random()` will use the product of all probabilities and a specific value for accepting"
   ]
  },
  {
   "cell_type": "markdown",
   "metadata": {},
   "source": [
    "PathMovers and PathMoveChanges now have a `.treeprint()` function"
   ]
  },
  {
   "cell_type": "code",
   "execution_count": 24,
   "metadata": {},
   "outputs": [
    {
     "name": "stdout",
     "output_type": "stream",
     "text": [
      "PathSimulator(10f332b50)\n",
      " +- RootMover(10f337850)\n",
      "     +- Ms_outer_shootingChooser(1060f3850)\n",
      "     |   +- OneWayShootingMover [UnionEnsemble](10f32f450)\n",
      "     |       +- ForwardShoot(10f332250)\n",
      "     |       +- BackwardShoot(10f32f550)\n",
      "     +- RepexChooser(10f6544d0)\n",
      "     |   +- ReplicaExchange(10f654910)\n",
      "     |   +- ReplicaExchange(10f32dd90)\n",
      "     |   +- ReplicaExchange(10f654f10)\n",
      "     |   +- ReplicaExchange(10f337750)\n",
      "     |   +- ReplicaExchange(10f654210)\n",
      "     |   +- ReplicaExchange(10f337ad0)\n",
      "     |   +- ReplicaExchange(10f654690)\n",
      "     |   +- ReplicaExchange(10f337090)\n",
      "     |   +- ReplicaExchange(10f654bd0)\n",
      "     +- Msouter_shootingChooser(10f337d90)\n",
      "     |   +- OneWayShooting(10f337990)\n",
      "     |       +- ForwardShoot(10f6549d0)\n",
      "     |       +- BackwardShoot(10f337410)\n",
      "     +- Msouter_pathreversalChooser(10f654410)\n",
      "     |   +- PathReversal(10f654750)\n",
      "     +- Msouter_repexChooser(10f3371d0)\n",
      "     |   +- ReplicaExchange(10f337590)\n",
      "     |   +- ReplicaExchange(10f308a50)\n",
      "     |   +- ReplicaExchange(10f3374d0)\n",
      "     +- ShootingChooser(10f303610)\n",
      "     |   +- OneWayShootingMover I'face 1(10f332390)\n",
      "     |   |   +- ForwardShoot(10f32fa10)\n",
      "     |   |   +- BackwardShoot(10f332750)\n",
      "     |   +- OneWayShootingMover I'face 1(10f32f2d0)\n",
      "     |   |   +- ForwardShoot(10f332610)\n",
      "     |   |   +- BackwardShoot(10f32f850)\n",
      "     |   +- OneWayShootingMover I'face 2(10f332c50)\n",
      "     |   |   +- ForwardShoot(10f32fed0)\n",
      "     |   |   +- BackwardShoot(10f3328d0)\n",
      "     |   +- OneWayShootingMover I'face 0(10f32ff50)\n",
      "     |   |   +- ForwardShoot(10f332c90)\n",
      "     |   |   +- BackwardShoot(10f32f510)\n",
      "     |   +- OneWayShootingMover I'face 2(10f303d90)\n",
      "     |   |   +- ForwardShoot(10f332510)\n",
      "     |   |   +- BackwardShoot(10f303110)\n",
      "     |   +- OneWayShootingMover I'face 2(10f32f650)\n",
      "     |   |   +- ForwardShoot(10f332e50)\n",
      "     |   |   +- BackwardShoot(10f32fe90)\n",
      "     |   +- OneWayShootingMover I'face 0(10f303510)\n",
      "     |   |   +- ForwardShoot(10f332bd0)\n",
      "     |   |   +- BackwardShoot(10f303910)\n",
      "     |   +- OneWayShootingMover I'face 0(10f32f250)\n",
      "     |   |   +- ForwardShoot(10f332350)\n",
      "     |   |   +- BackwardShoot(10f32f590)\n",
      "     |   +- OneWayShootingMover I'face 1(10f303950)\n",
      "     |       +- ForwardShoot(10f332e10)\n",
      "     |       +- BackwardShoot(10f303c50)\n",
      "     +- MinusChooser(10f32d410)\n",
      "     |   +- Minus(10f337a10)\n",
      "     |   |   +- EnsembleFilter(10f337610)\n",
      "     |   |       +- ConditionalSequential(10f337510)\n",
      "     |   |           +- MinusSubtrajectoryChooser(10f673250)\n",
      "     |   |           |   +- FirstSubtrajectorySelect(10f337550)\n",
      "     |   |           |   +- FinalSubtrajectorySelect(10f673c10)\n",
      "     |   |           +- InterfaceSetChooser(1060f3a10)\n",
      "     |   |           |   +- ReplicaExchange(10f32d690)\n",
      "     |   |           +- MinusExtensionDirectionChooser(10f3379d0)\n",
      "     |   |               +- ForwardExtend(10f673fd0)\n",
      "     |   |               +- BackwardExtend(10f337d10)\n",
      "     |   +- Minus(10f32f3d0)\n",
      "     |   |   +- EnsembleFilter(10f32f750)\n",
      "     |   |       +- ConditionalSequential(10f32f390)\n",
      "     |   |           +- MinusSubtrajectoryChooser(10f654610)\n",
      "     |   |           |   +- FirstSubtrajectorySelect(10f332150)\n",
      "     |   |           |   +- FinalSubtrajectorySelect(10f654290)\n",
      "     |   |           +- InterfaceSetChooser(10f654990)\n",
      "     |   |           |   +- ReplicaExchange(10f654810)\n",
      "     |   |           +- MinusExtensionDirectionChooser(10f32f890)\n",
      "     |   |               +- ForwardExtend(10f303550)\n",
      "     |   |               +- BackwardExtend(10f32fd50)\n",
      "     |   +- Minus(10f32dc50)\n",
      "     |       +- EnsembleFilter(10f32d550)\n",
      "     |           +- ConditionalSequential(10f32db50)\n",
      "     |               +- MinusSubtrajectoryChooser(10f308cd0)\n",
      "     |               |   +- FirstSubtrajectorySelect(10f0dd950)\n",
      "     |               |   +- FinalSubtrajectorySelect(10f308bd0)\n",
      "     |               +- InterfaceSetChooser(10f0dddd0)\n",
      "     |               |   +- ReplicaExchange(10f0dda10)\n",
      "     |               +- MinusExtensionDirectionChooser(10f32da90)\n",
      "     |                   +- ForwardExtend(10f674b10)\n",
      "     |                   +- BackwardExtend(10f32da10)\n",
      "     +- PathreversalChooser(10f3378d0)\n",
      "         +- PathReversal(10f654590)\n",
      "         +- PathReversal(10f337e90)\n",
      "         +- PathReversal(10f6540d0)\n",
      "         +- PathReversal(10f3372d0)\n",
      "         +- PathReversal(10f654310)\n",
      "         +- PathReversal(10f337690)\n",
      "         +- PathReversal(10f654d50)\n",
      "         +- PathReversal(10f337cd0)\n",
      "         +- PathReversal(10f654a90)\n",
      "         +- PathReversal(10f337950)\n"
     ]
    }
   ],
   "source": [
    "print pm.treeprint()"
   ]
  },
  {
   "cell_type": "code",
   "execution_count": 25,
   "metadata": {},
   "outputs": [
    {
     "name": "stdout",
     "output_type": "stream",
     "text": [
      "['PathSimulator', u'RepexChooser', 'ForwardShoot', 'FinalSubtrajectorySelect', 'BackwardExtend', u\"OneWayShootingMover I'face 2\", 'BackwardShoot', 'Minus', 'BackwardShoot', 'PathReversal', 'ReplicaExchange', 'ForwardShoot', u'PathreversalChooser', 'EnsembleFilter', u'MinusExtensionDirectionChooser', 'BackwardShoot', 'PathReversal', 'ReplicaExchange', 'PathReversal', 'PathReversal', u\"OneWayShootingMover I'face 1\", 'ForwardShoot', 'ReplicaExchange', 'BackwardShoot', 'ReplicaExchange', u'MinusExtensionDirectionChooser', 'FinalSubtrajectorySelect', 'ReplicaExchange', 'ReplicaExchange', 'FirstSubtrajectorySelect', u'Msouter_shootingChooser', 'ForwardExtend', 'PathReversal', 'BackwardShoot', 'ConditionalSequential', u\"OneWayShootingMover I'face 0\", 'ReplicaExchange', u'ShootingChooser', 'ConditionalSequential', u'MinusExtensionDirectionChooser', u'Msouter_pathreversalChooser', 'PathReversal', 'ForwardShoot', 'ReplicaExchange', u'Msouter_repexChooser', 'FirstSubtrajectorySelect', u'MinusChooser', 'ForwardShoot', 'OneWayShooting', 'ForwardShoot', 'PathReversal', u'MinusSubtrajectoryChooser', u'InterfaceSetChooser', 'BackwardExtend', 'ForwardShoot', 'ReplicaExchange', 'ForwardExtend', 'PathReversal', 'ForwardExtend', 'BackwardShoot', u'OneWayShootingMover [UnionEnsemble]', u'InterfaceSetChooser', u\"OneWayShootingMover I'face 1\", u\"OneWayShootingMover I'face 0\", 'ReplicaExchange', 'BackwardExtend', u'RootMover', u\"OneWayShootingMover I'face 2\", 'EnsembleFilter', u\"OneWayShootingMover I'face 1\", 'ReplicaExchange', 'PathReversal', 'ForwardShoot', u\"OneWayShootingMover I'face 2\", 'ConditionalSequential', 'EnsembleFilter', 'BackwardShoot', 'ForwardShoot', 'Minus', 'FinalSubtrajectorySelect', 'ForwardShoot', 'ReplicaExchange', 'BackwardShoot', u'InterfaceSetChooser', 'ReplicaExchange', u'MinusSubtrajectoryChooser', 'PathReversal', u'MinusSubtrajectoryChooser', 'Minus', 'BackwardShoot', 'FirstSubtrajectorySelect', 'ReplicaExchange', 'ForwardShoot', u\"OneWayShootingMover I'face 0\", u'Ms_outer_shootingChooser', 'BackwardShoot', 'ReplicaExchange', 'PathReversal', 'BackwardShoot']\n"
     ]
    }
   ],
   "source": [
    "print [m.name for key, m in pm.iteritems()]"
   ]
  },
  {
   "cell_type": "markdown",
   "metadata": {},
   "source": [
    "Get the (unique) location of the randomchoicemover. You can search for Mover classes, Mover instances or by the `.name` property of a mover which is a string."
   ]
  },
  {
   "cell_type": "code",
   "execution_count": 26,
   "metadata": {},
   "outputs": [
    {
     "name": "stdout",
     "output_type": "stream",
     "text": [
      "PathSimulator(10f332b50)\n",
      " +- RootMover(10f337850)\n",
      "     +- ShootingChooser(10f303610)\n",
      "         +- OneWayShootingMover I'face 2(10f32f650)\n"
     ]
    }
   ],
   "source": [
    "loc_rc = pm.locate(\"OneWayShootingMover I'face 2\")[0]\n",
    "print loc_rc"
   ]
  },
  {
   "cell_type": "code",
   "execution_count": 27,
   "metadata": {},
   "outputs": [
    {
     "name": "stdout",
     "output_type": "stream",
     "text": [
      "PathSimulator(10f332b50)\n",
      " +- RootMover(10f337850)\n"
     ]
    }
   ],
   "source": [
    "loc_rc = pm.locate('RootMover')\n",
    "print loc_rc"
   ]
  },
  {
   "cell_type": "markdown",
   "metadata": {},
   "source": [
    "the location object is effectively a tree mover instances described by nested tuples. For convenience it is wrapped to make searching easier and format the output. "
   ]
  },
  {
   "cell_type": "code",
   "execution_count": 28,
   "metadata": {},
   "outputs": [
    {
     "name": "stdout",
     "output_type": "stream",
     "text": [
      "<class 'openpathsampling.treelogic.TupleTree'>\n",
      "True\n",
      "(PathSimulator(10f332b50), (RootMover(10f337850),))\n",
      "PathSimulator(10f332b50)\n",
      " +- RootMover(10f337850)\n"
     ]
    }
   ],
   "source": [
    "print type(loc_rc)\n",
    "print isinstance(loc_rc, tuple)\n",
    "print repr(loc_rc)\n",
    "print str(loc_rc)"
   ]
  },
  {
   "cell_type": "markdown",
   "metadata": {},
   "source": [
    "In most cases you can use python tuples instead of TupleTree. The structure of a tree of tuples looks as follows:\n",
    "\n",
    "Each node has the following structure\n",
    "\n",
    "    (head, (child1, ), (child2, ), ...)\n",
    "    \n",
    "where head is a the node content (almost always a `Mover` instance) and child is again a node. It is important to note that a tuple tree does not support choices of different children like a real pathmover can. Therefore we could generate a tree tuple of the content of a pathmover but it will not reflect the possible choices in it. To get the associated tree tuple of a change (which has no choice in it) we can use `.unique`."
   ]
  },
  {
   "cell_type": "code",
   "execution_count": 29,
   "metadata": {},
   "outputs": [
    {
     "name": "stdout",
     "output_type": "stream",
     "text": [
      "PathSimulatorStep : PathSampling : Step # 3 with 1 samples\n",
      " +- RandomChoice :\n",
      "     +- RandomChoice :\n",
      "         +- OneWayShooting :\n",
      "             +- SampleMove : BackwardShootMover : True : 1 samples [<Sample @ 0x10f32ddd0>]\n",
      "(PathSimulator(10f332b50), (RootMover(10f337850), (ShootingChooser(10f303610), (OneWayShootingMover I'face 0(10f303510), (BackwardShoot(10f303910),)))))\n"
     ]
    }
   ],
   "source": [
    "print pmc\n",
    "print repr(pmc.unique)"
   ]
  },
  {
   "cell_type": "markdown",
   "metadata": {},
   "source": [
    "Instead of checking for a pmc directly we can also check for the tuple tree representation"
   ]
  },
  {
   "cell_type": "code",
   "execution_count": 30,
   "metadata": {},
   "outputs": [
    {
     "name": "stdout",
     "output_type": "stream",
     "text": [
      "PathSimulatorStep : PathSampling : Step # 3 with 1 samples\n",
      " +- RandomChoice :\n",
      "     +- RandomChoice :\n",
      "         +- OneWayShooting :\n",
      "             +- SampleMove : BackwardShootMover : True : 1 samples [<Sample @ 0x10f32ddd0>]\n",
      "True\n",
      "True\n"
     ]
    }
   ],
   "source": [
    "print pmc\n",
    "print pmc in pm # check if pmc could have been generated by pm\n",
    "print pmc.unique in pm # check if the tuple tree representation could have been generated by pm"
   ]
  },
  {
   "cell_type": "markdown",
   "metadata": {},
   "source": [
    "Now get the mover at the `loc_rc` location (which is of course a RandomChoiceMover)."
   ]
  },
  {
   "cell_type": "code",
   "execution_count": 31,
   "metadata": {},
   "outputs": [],
   "source": [
    "rc = pm[loc_rc]"
   ]
  },
  {
   "cell_type": "markdown",
   "metadata": {},
   "source": [
    "These are the weights by mover"
   ]
  },
  {
   "cell_type": "code",
   "execution_count": 32,
   "metadata": {},
   "outputs": [
    {
     "data": {
      "text/plain": [
       "{Ms_outer_shootingChooser(1060f3850): 1.0,\n",
       " ShootingChooser(10f303610): 9.0,\n",
       " MinusChooser(10f32d410): 0.6000000000000001,\n",
       " Msouter_repexChooser(10f3371d0): 3.0,\n",
       " PathreversalChooser(10f3378d0): 5.0,\n",
       " Msouter_shootingChooser(10f337d90): 1.0,\n",
       " Msouter_pathreversalChooser(10f654410): 1.0,\n",
       " RepexChooser(10f6544d0): 4.5}"
      ]
     },
     "execution_count": 32,
     "output_type": "execute_result",
     "metadata": {}
    }
   ],
   "source": [
    "dict(zip(rc.movers, rc.weights))"
   ]
  },
  {
   "cell_type": "markdown",
   "metadata": {},
   "source": [
    "Finally do some more checks"
   ]
  },
  {
   "cell_type": "code",
   "execution_count": 33,
   "metadata": {},
   "outputs": [
    {
     "name": "stdout",
     "output_type": "stream",
     "text": [
      "True\n",
      "True\n"
     ]
    }
   ],
   "source": [
    "print rc in pmc # check if the RandomChoiceMover was called in pmc\n",
    "print rc in pm # check if the pathmover has a RandomChoiceMover at that position in the tree"
   ]
  },
  {
   "cell_type": "markdown",
   "metadata": {},
   "source": [
    "> Note, that certain trees of movers can be arranged differently in a tree, but result in the same possible steps. Like `Sequential(Forward, Sequential([Forward, Forward]))` and `Sequential([Forward, Forward, Forward])`. We can regard this as being _associative_ (placing arbitrary brackets) but we will not check for these types of equality. We assume that you arrange steps in a certain way for a reason and that your grouping of sequenced will reflect a certain logical idea. On the other hand are your locators / keys dependend on that choice!"
   ]
  },
  {
   "cell_type": "markdown",
   "metadata": {},
   "source": [
    "What else can we learn or ask for?"
   ]
  },
  {
   "cell_type": "markdown",
   "metadata": {},
   "source": [
    "We can check if a particular mover was run. Let's pick the very last MinusExtensionDirectionChoser. To check for it we can either just check for the instance in a pmc"
   ]
  },
  {
   "cell_type": "code",
   "execution_count": 34,
   "metadata": {},
   "outputs": [
    {
     "name": "stdout",
     "output_type": "stream",
     "text": [
      "MinusChooser(10f32d410)\n"
     ]
    }
   ],
   "source": [
    "loc_medc = pm.locate('MinusChooser')\n",
    "medc = pm[loc_medc]\n",
    "print medc"
   ]
  },
  {
   "cell_type": "code",
   "execution_count": 35,
   "metadata": {},
   "outputs": [
    {
     "name": "stdout",
     "output_type": "stream",
     "text": [
      "PathSimulator([313])\n",
      "PathSimulator(10f332b50)\n",
      " +- RootMover(10f337850)\n",
      "     +- MinusChooser(10f32d410)\n",
      "         +- Minus(10f32f3d0)\n",
      "             +- EnsembleFilter(10f32f750)\n",
      "                 +- ConditionalSequential(10f32f390)\n",
      "                     +- MinusSubtrajectoryChooser(10f654610)\n",
      "                     |   +- FirstSubtrajectorySelect(10f332150)\n",
      "                     +- InterfaceSetChooser(10f654990)\n",
      "                     +- MinusExtensionDirectionChooser(10f32f890)\n",
      "                         +- ForwardExtend(10f303550)\n",
      "\n",
      "PathSimulator([478])\n",
      "PathSimulator(10f332b50)\n",
      " +- RootMover(10f337850)\n",
      "     +- MinusChooser(10f32d410)\n",
      "         +- Minus(10f337a10)\n",
      "             +- EnsembleFilter(10f337610)\n",
      "                 +- ConditionalSequential(10f337510)\n",
      "                     +- MinusSubtrajectoryChooser(10f673250)\n",
      "                     |   +- FirstSubtrajectorySelect(10f337550)\n",
      "                     +- InterfaceSetChooser(1060f3a10)\n",
      "                     +- MinusExtensionDirectionChooser(10f3379d0)\n",
      "                         +- BackwardExtend(10f337d10)\n",
      "\n",
      "PathSimulator([743])\n",
      "PathSimulator(10f332b50)\n",
      " +- RootMover(10f337850)\n",
      "     +- MinusChooser(10f32d410)\n",
      "         +- Minus(10f32dc50)\n",
      "             +- EnsembleFilter(10f32d550)\n",
      "                 +- ConditionalSequential(10f32db50)\n",
      "                     +- MinusSubtrajectoryChooser(10f308cd0)\n",
      "                     |   +- FinalSubtrajectorySelect(10f308bd0)\n",
      "                     +- InterfaceSetChooser(10f0dddd0)\n",
      "                     +- MinusExtensionDirectionChooser(10f32da90)\n",
      "                         +- ForwardExtend(10f674b10)\n",
      "\n",
      "PathSimulator([987])\n",
      "PathSimulator(10f332b50)\n",
      " +- RootMover(10f337850)\n",
      "     +- MinusChooser(10f32d410)\n",
      "         +- Minus(10f337a10)\n",
      "             +- EnsembleFilter(10f337610)\n",
      "                 +- ConditionalSequential(10f337510)\n",
      "                     +- MinusSubtrajectoryChooser(10f673250)\n",
      "                     |   +- FinalSubtrajectorySelect(10f673c10)\n",
      "                     +- InterfaceSetChooser(1060f3a10)\n",
      "                     +- MinusExtensionDirectionChooser(10f3379d0)\n",
      "                         +- ForwardExtend(10f673fd0)\n",
      "\n",
      "PathSimulator([1139])\n",
      "PathSimulator(10f332b50)\n",
      " +- RootMover(10f337850)\n",
      "     +- MinusChooser(10f32d410)\n",
      "         +- Minus(10f337a10)\n",
      "             +- EnsembleFilter(10f337610)\n",
      "                 +- ConditionalSequential(10f337510)\n",
      "                     +- MinusSubtrajectoryChooser(10f673250)\n",
      "                     |   +- FirstSubtrajectorySelect(10f337550)\n",
      "                     +- InterfaceSetChooser(1060f3a10)\n",
      "                     +- MinusExtensionDirectionChooser(10f3379d0)\n",
      "                         +- BackwardExtend(10f337d10)\n",
      "\n",
      "PathSimulator([1212])\n",
      "PathSimulator(10f332b50)\n",
      " +- RootMover(10f337850)\n",
      "     +- MinusChooser(10f32d410)\n",
      "         +- Minus(10f32dc50)\n",
      "             +- EnsembleFilter(10f32d550)\n",
      "                 +- ConditionalSequential(10f32db50)\n",
      "                     +- MinusSubtrajectoryChooser(10f308cd0)\n",
      "                     |   +- FinalSubtrajectorySelect(10f308bd0)\n",
      "                     +- InterfaceSetChooser(10f0dddd0)\n",
      "                     +- MinusExtensionDirectionChooser(10f32da90)\n",
      "                         +- BackwardExtend(10f32da10)\n",
      "\n",
      "PathSimulator([1659])\n",
      "PathSimulator(10f332b50)\n",
      " +- RootMover(10f337850)\n",
      "     +- MinusChooser(10f32d410)\n",
      "         +- Minus(10f337a10)\n",
      "             +- EnsembleFilter(10f337610)\n",
      "                 +- ConditionalSequential(10f337510)\n",
      "                     +- MinusSubtrajectoryChooser(10f673250)\n",
      "                     |   +- FinalSubtrajectorySelect(10f673c10)\n",
      "                     +- InterfaceSetChooser(1060f3a10)\n",
      "                     +- MinusExtensionDirectionChooser(10f3379d0)\n",
      "                         +- ForwardExtend(10f673fd0)\n",
      "\n",
      "CPU times: user 6.55 ms, sys: 2.47 ms, total: 9.02 ms\n",
      "Wall time: 7.32 ms\n"
     ]
    }
   ],
   "source": [
    "%%time\n",
    "for pc in step_changes:\n",
    "    if medc in pc:\n",
    "        print repr(pc)\n",
    "        print pc.unique\n",
    "        print"
   ]
  },
  {
   "cell_type": "markdown",
   "metadata": {},
   "source": [
    "the expression `locator in pmc` checks for the overall appearance of a specific mover somewhere dependent of the location. While using `mover_instance in pmc` checks for the appearance of that mover instance independent of the location. If a particular mover_instance appears only once then both methods are equal."
   ]
  },
  {
   "cell_type": "code",
   "execution_count": 36,
   "metadata": {},
   "outputs": [
    {
     "name": "stdout",
     "output_type": "stream",
     "text": [
      "PathSimulatorStep : PathSampling : Step # 3 with 1 samples\n",
      " +- RandomChoice :\n",
      "     +- RandomChoice :\n",
      "         +- OneWayShooting :\n",
      "             +- SampleMove : BackwardShootMover : True : 1 samples [<Sample @ 0x10f32ddd0>]\n",
      "True\n",
      "True\n",
      "False\n",
      "False\n"
     ]
    }
   ],
   "source": [
    "print pmc\n",
    "print loc_medc in pm\n",
    "print medc in pm\n",
    "print loc_medc in pmc\n",
    "print medc in pmc"
   ]
  },
  {
   "cell_type": "markdown",
   "metadata": {},
   "source": [
    "In this case the _MinusChooser_ was not called in this particular pmc."
   ]
  },
  {
   "cell_type": "markdown",
   "metadata": {},
   "source": [
    "### Remember the following things about moves and changes\n",
    "\n",
    "1. movers and changes represent a tree like structure of movers.\n",
    "2. a change is a concrete realization of moves (and hence movers) while a mover itself has a certain degree of choice. \n",
    "3. Some nodes in a mover can have different outcomes, like a RandomChoiceMover which will pick one out of several choices. The change it generates will have only the chosen one, while the RandomChoiceMover itself has all possibilities.\n",
    "4. A concrete tree like structure (without choice) of movers can be represented by a tree of tuples. Reading the tuple-tree from left to right the opening bracket '(' means go down a level (a new child) while the closing bracket means trael up a level ')' go to the parent.\n",
    "5. The smallest unique tupletree for a pmc can be accessed using `.unique`"
   ]
  },
  {
   "cell_type": "code",
   "execution_count": 37,
   "metadata": {},
   "outputs": [],
   "source": [
    "first_minus_change = filter(lambda x : p.MinusMover in x, step_changes)[0]"
   ]
  },
  {
   "cell_type": "markdown",
   "metadata": {},
   "source": [
    "will be interpreted as"
   ]
  },
  {
   "cell_type": "code",
   "execution_count": 38,
   "metadata": {},
   "outputs": [
    {
     "name": "stdout",
     "output_type": "stream",
     "text": [
      "PathSimulator(10f332b50)\n",
      " +- RootMover(10f337850)\n",
      "     +- MinusChooser(10f32d410)\n",
      "         +- Minus(10f32f3d0)\n",
      "             +- EnsembleFilter(10f32f750)\n",
      "                 +- ConditionalSequential(10f32f390)\n",
      "                     +- MinusSubtrajectoryChooser(10f654610)\n",
      "                     |   +- FirstSubtrajectorySelect(10f332150)\n",
      "                     +- InterfaceSetChooser(10f654990)\n",
      "                     +- MinusExtensionDirectionChooser(10f32f890)\n",
      "                         +- ForwardExtend(10f303550)\n"
     ]
    }
   ],
   "source": [
    "print first_minus_change.unique"
   ]
  },
  {
   "cell_type": "code",
   "execution_count": 39,
   "metadata": {},
   "outputs": [
    {
     "data": {
      "text/plain": [
       "(13,\n",
       "    (9,\n",
       "        (24, (35, (12), (13))),\n",
       "        (12, (15), (15), (15), (15), (15), (15), (15), (15), (15)),\n",
       "        (23, (14, (12), (13))),\n",
       "        (27, (12)),\n",
       "        (20, (15), (15), (15)),\n",
       "        (15,\n",
       "            (28, (12), (13)),\n",
       "            (28, (12), (13)),\n",
       "            (28, (12), (13)),\n",
       "            (28, (12), (13)),\n",
       "            (28, (12), (13)),\n",
       "            (28, (12), (13)),\n",
       "            (28, (12), (13)),\n",
       "            (28, (12), (13)),\n",
       "            (28, (12), (13))),\n",
       "        (12,\n",
       "            (5, (14, (21, (25, (24), (24)), (19, (15)), (30, (13), (14))))),\n",
       "            (5, (14, (21, (25, (24), (24)), (19, (15)), (30, (13), (14))))),\n",
       "            (5, (14, (21, (25, (24), (24)), (19, (15)), (30, (13), (14)))))),\n",
       "        (19, (12), (12), (12), (12), (12), (12), (12), (12), (12), (12))))"
      ]
     },
     "execution_count": 39,
     "output_type": "execute_result",
     "metadata": {}
    }
   ],
   "source": [
    "pm.map_tree(lambda x : len(x.name))"
   ]
  },
  {
   "cell_type": "markdown",
   "metadata": {},
   "source": [
    "### Some speed tests"
   ]
  },
  {
   "cell_type": "code",
   "execution_count": 40,
   "metadata": {},
   "outputs": [
    {
     "name": "stdout",
     "output_type": "stream",
     "text": [
      "The slowest run took 15.22 times longer than the fastest. This could mean that an intermediate result is being cached \n",
      "1000000 loops, best of 3: 517 ns per loop\n"
     ]
    }
   ],
   "source": [
    "%%timeit\n",
    "pm.enum"
   ]
  },
  {
   "cell_type": "code",
   "execution_count": 41,
   "metadata": {},
   "outputs": [
    {
     "name": "stdout",
     "output_type": "stream",
     "text": [
      "1000 loops, best of 3: 257 µs per loop\n"
     ]
    }
   ],
   "source": [
    "%%timeit\n",
    "pmc in pm"
   ]
  },
  {
   "cell_type": "code",
   "execution_count": 42,
   "metadata": {},
   "outputs": [
    {
     "name": "stdout",
     "output_type": "stream",
     "text": [
      "100 loops, best of 3: 2.42 ms per loop\n"
     ]
    }
   ],
   "source": [
    "%%timeit\n",
    "[p in pmc for p in pm.enum]"
   ]
  },
  {
   "cell_type": "code",
   "execution_count": 43,
   "metadata": {},
   "outputs": [
    {
     "name": "stdout",
     "output_type": "stream",
     "text": [
      "The slowest run took 5.44 times longer than the fastest. This could mean that an intermediate result is being cached \n",
      "100000 loops, best of 3: 2.76 µs per loop\n"
     ]
    }
   ],
   "source": [
    "%%timeit\n",
    "pm in pm"
   ]
  },
  {
   "cell_type": "code",
   "execution_count": 44,
   "metadata": {},
   "outputs": [
    {
     "name": "stdout",
     "output_type": "stream",
     "text": [
      "1000 loops, best of 3: 258 µs per loop\n"
     ]
    }
   ],
   "source": [
    "%%timeit\n",
    "pmc.unique in pm"
   ]
  }
 ],
 "metadata": {
  "kernelspec": {
   "display_name": "Python 2",
   "language": "python",
   "name": "python2"
  },
  "language_info": {
   "codemirror_mode": {
    "name": "ipython",
    "version": 2.0
   },
   "file_extension": ".py",
   "mimetype": "text/x-python",
   "name": "python",
   "nbconvert_exporter": "python",
   "pygments_lexer": "ipython2",
   "version": "2.7.10"
  }
 },
 "nbformat": 4,
 "nbformat_minor": 0
}