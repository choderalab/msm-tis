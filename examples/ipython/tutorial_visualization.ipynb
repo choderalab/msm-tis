{
 "cells": [
  {
   "cell_type": "markdown",
   "metadata": {},
   "source": [
    "### Introduction to visualization"
   ]
  },
  {
   "cell_type": "markdown",
   "metadata": {},
   "source": [
    "The usual imports and we want to use `PathTreeBuilder` and `MoveTreeBuilder`."
   ]
  },
  {
   "cell_type": "code",
   "execution_count": 1,
   "metadata": {
    "collapsed": false
   },
   "outputs": [],
   "source": [
    "%matplotlib inline\n",
    "import openpathsampling as paths\n",
    "from openpathsampling.visualize import PathTreeBuilder, PathTreeBuilder\n",
    "from IPython.display import SVG, HTML\n",
    "import openpathsampling.visualize as visualization"
   ]
  },
  {
   "cell_type": "markdown",
   "metadata": {},
   "source": [
    "Let's load some data from our usual suspects the toy simulation."
   ]
  },
  {
   "cell_type": "code",
   "execution_count": 2,
   "metadata": {
    "collapsed": false
   },
   "outputs": [],
   "source": [
    "st = paths.Storage('mstis.nc', mode='r')"
   ]
  },
  {
   "cell_type": "markdown",
   "metadata": {},
   "source": [
    "Retrieve the move scheme and one of the transitions:"
   ]
  },
  {
   "cell_type": "code",
   "execution_count": 3,
   "metadata": {
    "collapsed": false
   },
   "outputs": [],
   "source": [
    "scheme = st.schemes[0]\n",
    "transition = scheme.network.sampling_transitions[0]"
   ]
  },
  {
   "cell_type": "code",
   "execution_count": 4,
   "metadata": {
    "collapsed": false
   },
   "outputs": [
    {
     "name": "stdout",
     "output_type": "stream",
     "text": [
      "TISTransition: Out C\n",
      "C -> C or all states except C\n",
      "Interface: 0.0<opC<0.04\n",
      "Interface: 0.0<opC<0.09\n",
      "Interface: 0.0<opC<0.16\n",
      "\n"
     ]
    }
   ],
   "source": [
    "print transition"
   ]
  },
  {
   "cell_type": "code",
   "execution_count": 5,
   "metadata": {
    "collapsed": false
   },
   "outputs": [
    {
     "data": {
      "text/plain": [
       "u'all states except C'"
      ]
     },
     "execution_count": 5,
     "metadata": {},
     "output_type": "execute_result"
    }
   ],
   "source": [
    "transition.stateB.name"
   ]
  },
  {
   "cell_type": "code",
   "execution_count": 6,
   "metadata": {
    "collapsed": true
   },
   "outputs": [],
   "source": [
    "import openpathsampling.visualize as v"
   ]
  },
  {
   "cell_type": "code",
   "execution_count": 550,
   "metadata": {
    "collapsed": false
   },
   "outputs": [],
   "source": [
    "heritage = tree.construct_heritage(st.samples[len(st.samples) - 2])"
   ]
  },
  {
   "cell_type": "code",
   "execution_count": 125,
   "metadata": {
    "collapsed": false
   },
   "outputs": [
    {
     "data": {
      "text/plain": [
       "<module 'openpathsampling.visualize' from '/Users/jan-hendrikprinz/Studium/git/openpathsampling/openpathsampling/visualize.py'>"
      ]
     },
     "execution_count": 125,
     "metadata": {},
     "output_type": "execute_result"
    }
   ],
   "source": [
    "reload(v)"
   ]
  },
  {
   "cell_type": "code",
   "execution_count": 126,
   "metadata": {
    "collapsed": false
   },
   "outputs": [],
   "source": [
    "tree = v.PathTreeBuilder()"
   ]
  },
  {
   "cell_type": "code",
   "execution_count": 127,
   "metadata": {
    "collapsed": false
   },
   "outputs": [],
   "source": [
    "q = v.SampleList(heritage)"
   ]
  },
  {
   "cell_type": "code",
   "execution_count": 128,
   "metadata": {
    "collapsed": true
   },
   "outputs": [],
   "source": [
    "q.flip_time_direction = False"
   ]
  },
  {
   "cell_type": "code",
   "execution_count": 129,
   "metadata": {
    "collapsed": false
   },
   "outputs": [],
   "source": [
    "q.analyze()"
   ]
  },
  {
   "cell_type": "code",
   "execution_count": 130,
   "metadata": {
    "collapsed": false
   },
   "outputs": [],
   "source": [
    "subt = q[5].trajectory.shared_subtrajectory(q[6].trajectory)"
   ]
  },
  {
   "cell_type": "code",
   "execution_count": 131,
   "metadata": {
    "collapsed": false
   },
   "outputs": [
    {
     "data": {
      "text/plain": [
       "[Trajectory[56], Trajectory[104], Trajectory[162], Trajectory[177]]"
      ]
     },
     "execution_count": 131,
     "metadata": {},
     "output_type": "execute_result"
    }
   ],
   "source": [
    "q.decorrelated_trajectories"
   ]
  },
  {
   "cell_type": "code",
   "execution_count": 132,
   "metadata": {
    "collapsed": false
   },
   "outputs": [
    {
     "data": {
      "text/plain": [
       "[0.0, 0.9107142857142857, 1.0, 0.0, 0.0]"
      ]
     },
     "execution_count": 132,
     "metadata": {},
     "output_type": "execute_result"
    }
   ],
   "source": [
    "q.correlation[0:5]"
   ]
  },
  {
   "cell_type": "code",
   "execution_count": 133,
   "metadata": {
    "collapsed": false
   },
   "outputs": [
    {
     "name": "stdout",
     "output_type": "stream",
     "text": [
      "0 0x1233043d0 -> - 0x000000000\n",
      "1 0x123304390 -> 0 0x1233043d0\n",
      "2 0x123304350 -> 1 0x123304390\n",
      "3 0x123304310 -> 2 0x123304350\n",
      "4 0x1233042d0 -> 3 0x123304310\n"
     ]
    }
   ],
   "source": [
    "for s in q[0:5]:\n",
    "    print q.index(s), hex(id(s)), '->', q.parent(s) if q.parent(s) is not None else '-', hex(id(q[q.parent(s)])) if q.parent(s) is not None else '0x000000000'"
   ]
  },
  {
   "cell_type": "markdown",
   "metadata": {},
   "source": [
    "Now build a PathTreeBuilder using the storage with some settings and showing some states.\n",
    "Blue is `stateA` and should be the first and last frame only unless the trajectory crosses to `stateB`\n",
    "The Interfaces are indicated by shades of red. \n",
    "\n",
    "Finally the number in the snapshot references the stored index of associated configuration holding the coordinates."
   ]
  },
  {
   "cell_type": "code",
   "execution_count": 216,
   "metadata": {
    "collapsed": true
   },
   "outputs": [],
   "source": [
    "st.set_caching_mode('analysis')"
   ]
  },
  {
   "cell_type": "code",
   "execution_count": 219,
   "metadata": {
    "collapsed": true
   },
   "outputs": [],
   "source": [
    "paths.AnalysisStorage.cache_for_analysis(st)"
   ]
  },
  {
   "cell_type": "code",
   "execution_count": 672,
   "metadata": {
    "collapsed": false
   },
   "outputs": [],
   "source": [
    "reload(v)\n",
    "tree = v.PathTreeBuilder()\n",
    "tree.states = {\n",
    "    'blue': transition.stateA,\n",
    "    'gray': transition.stateB,\n",
    "}\n",
    "\n",
    "tree.op = lambda snap : 'B' if snap.reversed else 'F'\n",
    "tree.op = st.idx\n",
    "tree.op = lambda snap : str(st.idx(snap))[-2:]\n",
    "tree.op = lambda snap: '+'\n",
    "tree.op = None\n",
    "\n",
    "heritage = tree.construct_heritage(st.samples[len(st.samples) - 1])\n",
    "q = v.SampleList(heritage)\n",
    "q.analyze()\n",
    "tree.samples = q\n",
    "tree.options.css['scale_y'] = 20\n",
    "tree.options.css['scale_x'] = 2\n",
    "tree.use_storage_indices(st)\n",
    "tree.options.movers['default']['new'] = 'block'\n",
    "tree.options.movers['default']['overlap'] = 'none'"
   ]
  },
  {
   "cell_type": "code",
   "execution_count": 673,
   "metadata": {
    "collapsed": false,
    "scrolled": false
   },
   "outputs": [
    {
     "data": {
      "image/svg+xml": [
       "<svg baseProfile=\"full\" class=\"opstree\" height=\"100%\" version=\"1.1\" viewBox=\"-112.00 -30.00 602.00 640.00\" width=\"100%\" xmlns=\"http://www.w3.org/2000/svg\" xmlns:ev=\"http://www.w3.org/2001/xml-events\" xmlns:xlink=\"http://www.w3.org/1999/xlink\"><defs><style type=\"text/css\"><![CDATA[\n",
       ".opstree text, .movetree text {\n",
       "    alignment-baseline: central;\n",
       "    font-size: 10px;\n",
       "    text-anchor: middle;\n",
       "    font-family: Futura-CondensedMedium;\n",
       "    font-weight: lighter;\n",
       "    stroke: none !important;\n",
       "}\n",
       ".opstree text.shadow {\n",
       "    stroke-width: 3;\n",
       "    stroke: white !important;\n",
       "}\n",
       ".opstree .left.label .shift text {\n",
       "    text-anchor: end;\n",
       "}\n",
       ".opstree .right.label .shift text {\n",
       "    text-anchor: start;\n",
       "}\n",
       ".opstree .block text, .movetree .block text {\n",
       "    fill: white !important;\n",
       "    stroke: none !important;\n",
       "}\n",
       ".opstree g.block:hover rect {\n",
       "    opacity: 0.5;\n",
       "}\n",
       ".opstree .repex {\n",
       "    fill: blue;\n",
       "    stroke: blue;\n",
       "}\n",
       ".opstree .extend {\n",
       "    fill: blue;\n",
       "    stroke: blue;\n",
       "}\n",
       ".opstree .truncate {\n",
       "    fill: blue;\n",
       "    stroke: blue;\n",
       "}\n",
       ".opstree .new {\n",
       "    fill: black;\n",
       "    stroke: black;\n",
       "}\n",
       ".opstree .unknown {\n",
       "    fill: gray;\n",
       "    stroke: gray;\n",
       "}\n",
       ".opstree .hop {\n",
       "    fill: blue;\n",
       "    stroke: blue;\n",
       "}\n",
       ".opstree .correlation {\n",
       "    fill: black;\n",
       "    stroke: black;\n",
       "}\n",
       ".opstree .shooting.bw {\n",
       "    fill: green;\n",
       "    stroke: green;\n",
       "}\n",
       ".opstree .shooting.fw {\n",
       "    fill: red;\n",
       "    stroke: red;\n",
       "}\n",
       ".opstree .shooting.overlap {\n",
       "    fill: #666;\n",
       "    stroke: #666;\n",
       "}\n",
       ".opstree .reversal {\n",
       "    fill: gold;\n",
       "    stroke: gold;\n",
       "}\n",
       ".opstree .virtual {\n",
       "    opacity: 0.1;\n",
       "    fill:gray;\n",
       "    stroke: none;\n",
       "}\n",
       ".opstree line {\n",
       "    stroke-width: 2px;\n",
       "}\n",
       ".opstree .label {\n",
       "    fill: black !important;\n",
       "}\n",
       ".opstree .h-connector {\n",
       "    stroke-width: 0.1px;\n",
       "    stroke-dasharray: 3 3;\n",
       "}\n",
       ".opstree .rejected {\n",
       "    opacity: 0.3;\n",
       "}\n",
       ".opstree .orange {\n",
       "    fill: orange;\n",
       "}\n",
       ".tableline {\n",
       "    fill: gray;\n",
       "    opacity: 0.0;\n",
       "}\n",
       ".tableline:hover {\n",
       "    opacity: 0.2;\n",
       "}\n",
       ".opstree .left.label g.shift {\n",
       "    transform: translateX(-6px);\n",
       "}\n",
       ".opstree .right.label g.shift {\n",
       "    transform: translateX(+6px);\n",
       "}\n",
       ".opstree .infobox text {\n",
       "    text-anchor: start;\n",
       "}\n",
       ".opstree .shade {\n",
       "    stroke: none;\n",
       "}\n",
       "\n",
       ".movetree .label .shift {\n",
       "    transform: translateX(-18px);\n",
       "}\n",
       "\n",
       ".movetree .label text {\n",
       "    text-anchor: end;\n",
       "}\n",
       ".movetree .v-connector {\n",
       "    stroke: black;\n",
       "}\n",
       ".movetree .v-hook {\n",
       "    stroke: black;\n",
       "}\n",
       ".movetree .ensembles .head .shift {\n",
       "    transform: translateY(0px) rotate(270deg) ;\n",
       "}\n",
       ".movetree .ensembles .head text {\n",
       "    text-anchor: start;\n",
       "}\n",
       ".movetree .connector.input {\n",
       "    fill: green;\n",
       "}\n",
       ".movetree .connector.output {\n",
       "    fill: red;\n",
       "}\n",
       ".movetree .unknown {\n",
       "    fill: gray;\n",
       "}\n",
       "]]></style></defs><g transform=\"scale(1.0)\"><g class=\"legend\"><g class=\"label\" transform=\"translate(-64,0)\"><g class=\"shift\"><text x=\"0\" y=\"0\">smp</text></g></g><g class=\"label\" transform=\"translate(-96,0)\"><g class=\"shift\"><text x=\"0\" y=\"0\">cyc</text></g></g><g class=\"label\" transform=\"translate(-32,0)\"><g class=\"shift\"><text x=\"0\" y=\"0\">cor</text></g></g><rect class=\"tableline\" height=\"18.0\" width=\"602.0\" x=\"-112.0\" y=\"11.0\"/><g class=\"label\" transform=\"translate(-64,20)\"><g class=\"shift\"><text x=\"0\" y=\"0\">39</text></g></g><g class=\"label\" transform=\"translate(-96,20)\"><g class=\"shift\"><text x=\"0\" y=\"0\">---</text></g></g><rect class=\"tableline\" height=\"18.0\" width=\"602.0\" x=\"-112.0\" y=\"31.0\"/><g class=\"label\" transform=\"translate(-64,40)\"><g class=\"shift\"><text x=\"0\" y=\"0\">49</text></g></g><g class=\"label\" transform=\"translate(-96,40)\"><g class=\"shift\"><text x=\"0\" y=\"0\">---</text></g></g><rect class=\"tableline\" height=\"18.0\" width=\"602.0\" x=\"-112.0\" y=\"51.0\"/><g class=\"label\" transform=\"translate(-64,60)\"><g class=\"shift\"><text x=\"0\" y=\"0\">58</text></g></g><g class=\"label\" transform=\"translate(-96,60)\"><g class=\"shift\"><text x=\"0\" y=\"0\">---</text></g></g><rect class=\"tableline\" height=\"18.0\" width=\"602.0\" x=\"-112.0\" y=\"71.0\"/><g class=\"label\" transform=\"translate(-64,80)\"><g class=\"shift\"><text x=\"0\" y=\"0\">62</text></g></g><g class=\"label\" transform=\"translate(-96,80)\"><g class=\"shift\"><text x=\"0\" y=\"0\">---</text></g></g><rect class=\"tableline\" height=\"18.0\" width=\"602.0\" x=\"-112.0\" y=\"91.0\"/><g class=\"label\" transform=\"translate(-64,100)\"><g class=\"shift\"><text x=\"0\" y=\"0\">90</text></g></g><g class=\"label\" transform=\"translate(-96,100)\"><g class=\"shift\"><text x=\"0\" y=\"0\">---</text></g></g><rect class=\"tableline\" height=\"18.0\" width=\"602.0\" x=\"-112.0\" y=\"111.0\"/><g class=\"label\" transform=\"translate(-64,120)\"><g class=\"shift\"><text x=\"0\" y=\"0\">93</text></g></g><g class=\"label\" transform=\"translate(-96,120)\"><g class=\"shift\"><text x=\"0\" y=\"0\">---</text></g></g><rect class=\"tableline\" height=\"18.0\" width=\"602.0\" x=\"-112.0\" y=\"131.0\"/><g class=\"correlation v-region\"><line x1=\"-32\" x2=\"-32\" y1=\"10.0\" y2=\"130.0\"/><circle cx=\"-32\" cy=\"10.0\" r=\"0.0\"/><line x1=\"-32.0\" x2=\"-25.6\" y1=\"10.0\" y2=\"10.0\"/><circle cx=\"-32\" cy=\"130.0\" r=\"0.0\"/><line x1=\"-32.0\" x2=\"-25.6\" y1=\"130.0\" y2=\"130.0\"/><text x=\"-38.4\" y=\"70.0\"/></g><g class=\"label\" transform=\"translate(-64,140)\"><g class=\"shift\"><text x=\"0\" y=\"0\">160</text></g></g><g class=\"label\" transform=\"translate(-96,140)\"><g class=\"shift\"><text x=\"0\" y=\"0\">---</text></g></g><rect class=\"tableline\" height=\"18.0\" width=\"602.0\" x=\"-112.0\" y=\"151.0\"/><g class=\"label\" transform=\"translate(-64,160)\"><g class=\"shift\"><text x=\"0\" y=\"0\">203</text></g></g><g class=\"label\" transform=\"translate(-96,160)\"><g class=\"shift\"><text x=\"0\" y=\"0\">---</text></g></g><rect class=\"tableline\" height=\"18.0\" width=\"602.0\" x=\"-112.0\" y=\"171.0\"/><g class=\"label\" transform=\"translate(-64,180)\"><g class=\"shift\"><text x=\"0\" y=\"0\">304</text></g></g><g class=\"label\" transform=\"translate(-96,180)\"><g class=\"shift\"><text x=\"0\" y=\"0\">---</text></g></g><rect class=\"tableline\" height=\"18.0\" width=\"602.0\" x=\"-112.0\" y=\"191.0\"/><g class=\"label\" transform=\"translate(-64,200)\"><g class=\"shift\"><text x=\"0\" y=\"0\">318</text></g></g><g class=\"label\" transform=\"translate(-96,200)\"><g class=\"shift\"><text x=\"0\" y=\"0\">---</text></g></g><rect class=\"tableline\" height=\"18.0\" width=\"602.0\" x=\"-112.0\" y=\"211.0\"/><g class=\"label\" transform=\"translate(-64,220)\"><g class=\"shift\"><text x=\"0\" y=\"0\">355</text></g></g><g class=\"label\" transform=\"translate(-96,220)\"><g class=\"shift\"><text x=\"0\" y=\"0\">---</text></g></g><rect class=\"tableline\" height=\"18.0\" width=\"602.0\" x=\"-112.0\" y=\"231.0\"/><g class=\"label\" transform=\"translate(-64,240)\"><g class=\"shift\"><text x=\"0\" y=\"0\">432</text></g></g><g class=\"label\" transform=\"translate(-96,240)\"><g class=\"shift\"><text x=\"0\" y=\"0\">---</text></g></g><rect class=\"tableline\" height=\"18.0\" width=\"602.0\" x=\"-112.0\" y=\"251.0\"/><g class=\"label\" transform=\"translate(-64,260)\"><g class=\"shift\"><text x=\"0\" y=\"0\">458</text></g></g><g class=\"label\" transform=\"translate(-96,260)\"><g class=\"shift\"><text x=\"0\" y=\"0\">---</text></g></g><rect class=\"tableline\" height=\"18.0\" width=\"602.0\" x=\"-112.0\" y=\"271.0\"/><g class=\"correlation v-region\"><line x1=\"-32\" x2=\"-32\" y1=\"130.0\" y2=\"270.0\"/><circle cx=\"-32\" cy=\"130.0\" r=\"0.0\"/><line x1=\"-32.0\" x2=\"-25.6\" y1=\"130.0\" y2=\"130.0\"/><circle cx=\"-32\" cy=\"270.0\" r=\"0.0\"/><line x1=\"-32.0\" x2=\"-25.6\" y1=\"270.0\" y2=\"270.0\"/><text x=\"-38.4\" y=\"200.0\"/></g><g class=\"label\" transform=\"translate(-64,280)\"><g class=\"shift\"><text x=\"0\" y=\"0\">475</text></g></g><g class=\"label\" transform=\"translate(-96,280)\"><g class=\"shift\"><text x=\"0\" y=\"0\">---</text></g></g><rect class=\"tableline\" height=\"18.0\" width=\"602.0\" x=\"-112.0\" y=\"291.0\"/><g class=\"label\" transform=\"translate(-64,300)\"><g class=\"shift\"><text x=\"0\" y=\"0\">489</text></g></g><g class=\"label\" transform=\"translate(-96,300)\"><g class=\"shift\"><text x=\"0\" y=\"0\">---</text></g></g><rect class=\"tableline\" height=\"18.0\" width=\"602.0\" x=\"-112.0\" y=\"311.0\"/><g class=\"label\" transform=\"translate(-64,320)\"><g class=\"shift\"><text x=\"0\" y=\"0\">495</text></g></g><g class=\"label\" transform=\"translate(-96,320)\"><g class=\"shift\"><text x=\"0\" y=\"0\">---</text></g></g><rect class=\"tableline\" height=\"18.0\" width=\"602.0\" x=\"-112.0\" y=\"331.0\"/><g class=\"label\" transform=\"translate(-64,340)\"><g class=\"shift\"><text x=\"0\" y=\"0\">497</text></g></g><g class=\"label\" transform=\"translate(-96,340)\"><g class=\"shift\"><text x=\"0\" y=\"0\">---</text></g></g><rect class=\"tableline\" height=\"18.0\" width=\"602.0\" x=\"-112.0\" y=\"351.0\"/><g class=\"label\" transform=\"translate(-64,360)\"><g class=\"shift\"><text x=\"0\" y=\"0\">504</text></g></g><g class=\"label\" transform=\"translate(-96,360)\"><g class=\"shift\"><text x=\"0\" y=\"0\">---</text></g></g><rect class=\"tableline\" height=\"18.0\" width=\"602.0\" x=\"-112.0\" y=\"371.0\"/><g class=\"label\" transform=\"translate(-64,380)\"><g class=\"shift\"><text x=\"0\" y=\"0\">507</text></g></g><g class=\"label\" transform=\"translate(-96,380)\"><g class=\"shift\"><text x=\"0\" y=\"0\">---</text></g></g><rect class=\"tableline\" height=\"18.0\" width=\"602.0\" x=\"-112.0\" y=\"391.0\"/><g class=\"label\" transform=\"translate(-64,400)\"><g class=\"shift\"><text x=\"0\" y=\"0\">513</text></g></g><g class=\"label\" transform=\"translate(-96,400)\"><g class=\"shift\"><text x=\"0\" y=\"0\">---</text></g></g><rect class=\"tableline\" height=\"18.0\" width=\"602.0\" x=\"-112.0\" y=\"411.0\"/><g class=\"label\" transform=\"translate(-64,420)\"><g class=\"shift\"><text x=\"0\" y=\"0\">533</text></g></g><g class=\"label\" transform=\"translate(-96,420)\"><g class=\"shift\"><text x=\"0\" y=\"0\">---</text></g></g><rect class=\"tableline\" height=\"18.0\" width=\"602.0\" x=\"-112.0\" y=\"431.0\"/><g class=\"label\" transform=\"translate(-64,440)\"><g class=\"shift\"><text x=\"0\" y=\"0\">546</text></g></g><g class=\"label\" transform=\"translate(-96,440)\"><g class=\"shift\"><text x=\"0\" y=\"0\">---</text></g></g><rect class=\"tableline\" height=\"18.0\" width=\"602.0\" x=\"-112.0\" y=\"451.0\"/><g class=\"label\" transform=\"translate(-64,460)\"><g class=\"shift\"><text x=\"0\" y=\"0\">562</text></g></g><g class=\"label\" transform=\"translate(-96,460)\"><g class=\"shift\"><text x=\"0\" y=\"0\">---</text></g></g><rect class=\"tableline\" height=\"18.0\" width=\"602.0\" x=\"-112.0\" y=\"471.0\"/><g class=\"label\" transform=\"translate(-64,480)\"><g class=\"shift\"><text x=\"0\" y=\"0\">570</text></g></g><g class=\"label\" transform=\"translate(-96,480)\"><g class=\"shift\"><text x=\"0\" y=\"0\">---</text></g></g><rect class=\"tableline\" height=\"18.0\" width=\"602.0\" x=\"-112.0\" y=\"491.0\"/><g class=\"label\" transform=\"translate(-64,500)\"><g class=\"shift\"><text x=\"0\" y=\"0\">608</text></g></g><g class=\"label\" transform=\"translate(-96,500)\"><g class=\"shift\"><text x=\"0\" y=\"0\">---</text></g></g><rect class=\"tableline\" height=\"18.0\" width=\"602.0\" x=\"-112.0\" y=\"511.0\"/><g class=\"label\" transform=\"translate(-64,520)\"><g class=\"shift\"><text x=\"0\" y=\"0\">611</text></g></g><g class=\"label\" transform=\"translate(-96,520)\"><g class=\"shift\"><text x=\"0\" y=\"0\">---</text></g></g><rect class=\"tableline\" height=\"18.0\" width=\"602.0\" x=\"-112.0\" y=\"531.0\"/><g class=\"label\" transform=\"translate(-64,540)\"><g class=\"shift\"><text x=\"0\" y=\"0\">622</text></g></g><g class=\"label\" transform=\"translate(-96,540)\"><g class=\"shift\"><text x=\"0\" y=\"0\">---</text></g></g><rect class=\"tableline\" height=\"18.0\" width=\"602.0\" x=\"-112.0\" y=\"551.0\"/><g class=\"label\" transform=\"translate(-64,560)\"><g class=\"shift\"><text x=\"0\" y=\"0\">629</text></g></g><g class=\"label\" transform=\"translate(-96,560)\"><g class=\"shift\"><text x=\"0\" y=\"0\">---</text></g></g><rect class=\"tableline\" height=\"18.0\" width=\"602.0\" x=\"-112.0\" y=\"571.0\"/><g class=\"label\" transform=\"translate(-64,580)\"><g class=\"shift\"><text x=\"0\" y=\"0\">630</text></g></g><g class=\"label\" transform=\"translate(-96,580)\"><g class=\"shift\"><text x=\"0\" y=\"0\">---</text></g></g><rect class=\"tableline\" height=\"18.0\" width=\"602.0\" x=\"-112.0\" y=\"591.0\"/><g class=\"correlation v-region\"><line x1=\"-32\" x2=\"-32\" y1=\"270.0\" y2=\"590.0\"/><circle cx=\"-32\" cy=\"270.0\" r=\"0.0\"/><line x1=\"-32.0\" x2=\"-25.6\" y1=\"270.0\" y2=\"270.0\"/><circle cx=\"-32\" cy=\"590.0\" r=\"0.0\"/><line x1=\"-32.0\" x2=\"-25.6\" y1=\"590.0\" y2=\"590.0\"/><text x=\"-38.4\" y=\"430.0\"/></g><g class=\"label\" transform=\"translate(-64,600)\"><g class=\"shift\"><text x=\"0\" y=\"0\">637</text></g></g><g class=\"label\" transform=\"translate(-96,600)\"><g class=\"shift\"><text x=\"0\" y=\"0\">---</text></g></g><g class=\"correlation v-region\"><line x1=\"-32\" x2=\"-32\" y1=\"590.0\" y2=\"610.0\"/><circle cx=\"-32\" cy=\"590.0\" r=\"0.0\"/><line x1=\"-32.0\" x2=\"-25.6\" y1=\"590.0\" y2=\"590.0\"/><text x=\"-38.4\" y=\"600.0\"/></g></g><g class=\"tree\" transform=\"translate(296,20)\"><g class=\"unknown left label\" transform=\"translate(0,0)\"><g class=\"shift\"><text x=\"0\" y=\"0\">32+</text></g></g><g class=\"unknown new block\"><rect height=\"12.0\" width=\"112.0\" x=\"-1.0\" y=\"-6.0\"/><circle cx=\"111.0\" cy=\"0\" r=\"0.0\"/><text x=\"55.0\" y=\"0\"/></g><g class=\"shooting right label\" transform=\"translate(110,20)\"><g class=\"shift\"><text x=\"0\" y=\"0\">40F</text></g></g><line class=\"shooting fw connection v-connector\" x1=\"101.0\" x2=\"101.0\" y1=\"0.0\" y2=\"20.0\"/><g class=\"shooting fw block\"><rect height=\"12.0\" width=\"10.0\" x=\"101.0\" y=\"14.0\"/><circle cx=\"111.0\" cy=\"20\" r=\"0.0\"/><text x=\"106.0\" y=\"20\"/></g><g class=\"repex left label\" transform=\"translate(0,40)\"><g class=\"shift\"><text x=\"0\" y=\"0\">40X</text></g></g><g class=\"repex full h-region\"><line x1=\"-1.0\" x2=\"111.0\" y1=\"40\" y2=\"40\"/><text class=\"shadow\" x=\"55.0\" y=\"40\">RepEx</text><text x=\"55.0\" y=\"40\">RepEx</text></g><g class=\"reversal left label\" transform=\"translate(0,60)\"><g class=\"shift\"><text x=\"0\" y=\"0\">47R</text></g></g><g class=\"reversal reversed block\"><rect height=\"12.0\" width=\"112.0\" x=\"-1.0\" y=\"54.0\"/><circle cx=\"111.0\" cy=\"60\" r=\"0.0\"/><text x=\"55.0\" y=\"60\"/></g><g class=\"reversal left label\" transform=\"translate(0,80)\"><g class=\"shift\"><text x=\"0\" y=\"0\">67R</text></g></g><g class=\"reversal reversed block\"><rect height=\"12.0\" width=\"112.0\" x=\"-1.0\" y=\"74.0\"/><circle cx=\"111.0\" cy=\"80\" r=\"0.0\"/><text x=\"55.0\" y=\"80\"/></g><g class=\"shooting right label\" transform=\"translate(160,100)\"><g class=\"shift\"><text x=\"0\" y=\"0\">70F</text></g></g><line class=\"shooting fw connection v-connector\" x1=\"21.0\" x2=\"21.0\" y1=\"80.0\" y2=\"100.0\"/><g class=\"shooting fw block\"><rect height=\"12.0\" width=\"140.0\" x=\"21.0\" y=\"94.0\"/><circle cx=\"161.0\" cy=\"100\" r=\"0.0\"/><text x=\"91.0\" y=\"100\"/></g><g class=\"shooting left label\" transform=\"translate(-46,120)\"><g class=\"shift\"><text x=\"0\" y=\"0\">115B</text></g></g><line class=\"shooting bw connection v-connector\" x1=\"45.0\" x2=\"45.0\" y1=\"100.0\" y2=\"120.0\"/><g class=\"shooting bw block\"><rect height=\"12.0\" width=\"92.0\" x=\"-47.0\" y=\"114.0\"/><circle cx=\"45.0\" cy=\"120\" r=\"0.0\"/><text x=\"-1.0\" y=\"120\"/></g><g class=\"shooting left label\" transform=\"translate(-62,140)\"><g class=\"shift\"><text x=\"0\" y=\"0\">146B</text></g></g><line class=\"shooting bw connection v-connector\" x1=\"11.0\" x2=\"11.0\" y1=\"120.0\" y2=\"140.0\"/><g class=\"shooting bw block\"><rect height=\"12.0\" width=\"74.0\" x=\"-63.0\" y=\"134.0\"/><circle cx=\"11.0\" cy=\"140\" r=\"0.0\"/><text x=\"-26.0\" y=\"140\"/></g><g class=\"shooting left label\" transform=\"translate(-34,160)\"><g class=\"shift\"><text x=\"0\" y=\"0\">211B</text></g></g><line class=\"shooting bw connection v-connector\" x1=\"35.0\" x2=\"35.0\" y1=\"120.0\" y2=\"160.0\"/><g class=\"shooting bw block\"><rect height=\"12.0\" width=\"70.0\" x=\"-35.0\" y=\"154.0\"/><circle cx=\"35.0\" cy=\"160\" r=\"0.0\"/><text x=\"0.0\" y=\"160\"/></g><g class=\"shooting right label\" transform=\"translate(142,180)\"><g class=\"shift\"><text x=\"0\" y=\"0\">221F</text></g></g><line class=\"shooting fw connection v-connector\" x1=\"85.0\" x2=\"85.0\" y1=\"100.0\" y2=\"180.0\"/><g class=\"shooting fw block\"><rect height=\"12.0\" width=\"58.0\" x=\"85.0\" y=\"174.0\"/><circle cx=\"143.0\" cy=\"180\" r=\"0.0\"/><text x=\"114.0\" y=\"180\"/></g><g class=\"shooting left label\" transform=\"translate(-38,200)\"><g class=\"shift\"><text x=\"0\" y=\"0\">244B</text></g></g><line class=\"shooting bw connection v-connector\" x1=\"-9.0\" x2=\"-9.0\" y1=\"160.0\" y2=\"200.0\"/><g class=\"shooting bw block\"><rect height=\"12.0\" width=\"30.0\" x=\"-39.0\" y=\"194.0\"/><circle cx=\"-9.0\" cy=\"200\" r=\"0.0\"/><text x=\"-24.0\" y=\"200\"/></g><g class=\"shooting left label\" transform=\"translate(-36,220)\"><g class=\"shift\"><text x=\"0\" y=\"0\">299B</text></g></g><line class=\"shooting bw connection v-connector\" x1=\"-19.0\" x2=\"-19.0\" y1=\"200.0\" y2=\"220.0\"/><g class=\"shooting bw block\"><rect height=\"12.0\" width=\"18.0\" x=\"-37.0\" y=\"214.0\"/><circle cx=\"-19.0\" cy=\"220\" r=\"0.0\"/><text x=\"-28.0\" y=\"220\"/></g><g class=\"shooting left label\" transform=\"translate(-230,240)\"><g class=\"shift\"><text x=\"0\" y=\"0\">317B</text></g></g><line class=\"shooting bw connection v-connector\" x1=\"73.0\" x2=\"73.0\" y1=\"100.0\" y2=\"240.0\"/><g class=\"shooting bw block\"><rect height=\"12.0\" width=\"304.0\" x=\"-231.0\" y=\"234.0\"/><circle cx=\"73.0\" cy=\"240\" r=\"0.0\"/><text x=\"-79.0\" y=\"240\"/></g><g class=\"shooting right label\" transform=\"translate(92,260)\"><g class=\"shift\"><text x=\"0\" y=\"0\">332F</text></g></g><line class=\"shooting fw connection v-connector\" x1=\"-79.0\" x2=\"-79.0\" y1=\"240.0\" y2=\"260.0\"/><g class=\"shooting fw block\"><rect height=\"12.0\" width=\"172.0\" x=\"-79.0\" y=\"254.0\"/><circle cx=\"93.0\" cy=\"260\" r=\"0.0\"/><text x=\"7.0\" y=\"260\"/></g><g class=\"shooting right label\" transform=\"translate(90,280)\"><g class=\"shift\"><text x=\"0\" y=\"0\">342F</text></g></g><line class=\"shooting fw connection v-connector\" x1=\"79.0\" x2=\"79.0\" y1=\"260.0\" y2=\"280.0\"/><g class=\"shooting fw block\"><rect height=\"12.0\" width=\"12.0\" x=\"79.0\" y=\"274.0\"/><circle cx=\"91.0\" cy=\"280\" r=\"0.0\"/><text x=\"85.0\" y=\"280\"/></g><g class=\"shooting left label\" transform=\"translate(-174,300)\"><g class=\"shift\"><text x=\"0\" y=\"0\">346B</text></g></g><line class=\"shooting bw connection v-connector\" x1=\"-147.0\" x2=\"-147.0\" y1=\"240.0\" y2=\"300.0\"/><g class=\"shooting bw block\"><rect height=\"12.0\" width=\"28.0\" x=\"-175.0\" y=\"294.0\"/><circle cx=\"-147.0\" cy=\"300\" r=\"0.0\"/><text x=\"-161.0\" y=\"300\"/></g><g class=\"repex left label\" transform=\"translate(-174,320)\"><g class=\"shift\"><text x=\"0\" y=\"0\">346X</text></g></g><g class=\"repex full h-region\"><line x1=\"-175.0\" x2=\"91.0\" y1=\"320\" y2=\"320\"/><text class=\"shadow\" x=\"-42.0\" y=\"320\">RepEx</text><text x=\"-42.0\" y=\"320\">RepEx</text></g><g class=\"repex left label\" transform=\"translate(-174,340)\"><g class=\"shift\"><text x=\"0\" y=\"0\">346X</text></g></g><g class=\"repex full h-region\"><line x1=\"-175.0\" x2=\"91.0\" y1=\"340\" y2=\"340\"/><text class=\"shadow\" x=\"-42.0\" y=\"340\">RepEx</text><text x=\"-42.0\" y=\"340\">RepEx</text></g><g class=\"reversal left label\" transform=\"translate(-174,360)\"><g class=\"shift\"><text x=\"0\" y=\"0\">352R</text></g></g><g class=\"reversal reversed block\"><rect height=\"12.0\" width=\"266.0\" x=\"-175.0\" y=\"354.0\"/><circle cx=\"91.0\" cy=\"360\" r=\"0.0\"/><text x=\"-42.0\" y=\"360\"/></g><g class=\"repex left label\" transform=\"translate(-174,380)\"><g class=\"shift\"><text x=\"0\" y=\"0\">352X</text></g></g><g class=\"repex full h-region\"><line x1=\"-175.0\" x2=\"91.0\" y1=\"380\" y2=\"380\"/><text class=\"shadow\" x=\"-42.0\" y=\"380\">RepEx</text><text x=\"-42.0\" y=\"380\">RepEx</text></g><g class=\"shooting left label\" transform=\"translate(-166,400)\"><g class=\"shift\"><text x=\"0\" y=\"0\">368B</text></g></g><line class=\"shooting bw connection v-connector\" x1=\"-151.0\" x2=\"-151.0\" y1=\"360.0\" y2=\"400.0\"/><g class=\"shooting bw block\"><rect height=\"12.0\" width=\"16.0\" x=\"-167.0\" y=\"394.0\"/><circle cx=\"-151.0\" cy=\"400\" r=\"0.0\"/><text x=\"-159.0\" y=\"400\"/></g><g class=\"reversal left label\" transform=\"translate(-166,420)\"><g class=\"shift\"><text x=\"0\" y=\"0\">379R</text></g></g><g class=\"reversal reversed block\"><rect height=\"12.0\" width=\"258.0\" x=\"-167.0\" y=\"414.0\"/><circle cx=\"91.0\" cy=\"420\" r=\"0.0\"/><text x=\"-38.0\" y=\"420\"/></g><g class=\"reversal left label\" transform=\"translate(-166,440)\"><g class=\"shift\"><text x=\"0\" y=\"0\">389R</text></g></g><g class=\"reversal reversed block\"><rect height=\"12.0\" width=\"258.0\" x=\"-167.0\" y=\"434.0\"/><circle cx=\"91.0\" cy=\"440\" r=\"0.0\"/><text x=\"-38.0\" y=\"440\"/></g><g class=\"reversal left label\" transform=\"translate(-166,460)\"><g class=\"shift\"><text x=\"0\" y=\"0\">395R</text></g></g><g class=\"reversal reversed block\"><rect height=\"12.0\" width=\"258.0\" x=\"-167.0\" y=\"454.0\"/><circle cx=\"91.0\" cy=\"460\" r=\"0.0\"/><text x=\"-38.0\" y=\"460\"/></g><g class=\"reversal left label\" transform=\"translate(-166,480)\"><g class=\"shift\"><text x=\"0\" y=\"0\">419R</text></g></g><g class=\"reversal reversed block\"><rect height=\"12.0\" width=\"258.0\" x=\"-167.0\" y=\"474.0\"/><circle cx=\"91.0\" cy=\"480\" r=\"0.0\"/><text x=\"-38.0\" y=\"480\"/></g><g class=\"repex left label\" transform=\"translate(-166,500)\"><g class=\"shift\"><text x=\"0\" y=\"0\">419X</text></g></g><g class=\"repex full h-region\"><line x1=\"-167.0\" x2=\"91.0\" y1=\"500\" y2=\"500\"/><text class=\"shadow\" x=\"-38.0\" y=\"500\">RepEx</text><text x=\"-38.0\" y=\"500\">RepEx</text></g><g class=\"reversal left label\" transform=\"translate(-166,520)\"><g class=\"shift\"><text x=\"0\" y=\"0\">429R</text></g></g><g class=\"reversal reversed block\"><rect height=\"12.0\" width=\"258.0\" x=\"-167.0\" y=\"514.0\"/><circle cx=\"91.0\" cy=\"520\" r=\"0.0\"/><text x=\"-38.0\" y=\"520\"/></g><g class=\"repex left label\" transform=\"translate(-166,540)\"><g class=\"shift\"><text x=\"0\" y=\"0\">429X</text></g></g><g class=\"repex full h-region\"><line x1=\"-167.0\" x2=\"91.0\" y1=\"540\" y2=\"540\"/><text class=\"shadow\" x=\"-38.0\" y=\"540\">RepEx</text><text x=\"-38.0\" y=\"540\">RepEx</text></g><g class=\"reversal left label\" transform=\"translate(-166,560)\"><g class=\"shift\"><text x=\"0\" y=\"0\">435R</text></g></g><g class=\"reversal reversed block\"><rect height=\"12.0\" width=\"258.0\" x=\"-167.0\" y=\"554.0\"/><circle cx=\"91.0\" cy=\"560\" r=\"0.0\"/><text x=\"-38.0\" y=\"560\"/></g><g class=\"shooting left label\" transform=\"translate(-262,580)\"><g class=\"shift\"><text x=\"0\" y=\"0\">440B</text></g></g><line class=\"shooting bw connection v-connector\" x1=\"67.0\" x2=\"67.0\" y1=\"560.0\" y2=\"580.0\"/><g class=\"shooting bw block\"><rect height=\"12.0\" width=\"330.0\" x=\"-263.0\" y=\"574.0\"/><circle cx=\"67.0\" cy=\"580\" r=\"0.0\"/><text x=\"-98.0\" y=\"580\"/></g><g class=\"shade\"><rect fill=\"white\" height=\"5.0\" width=\"2.4\" x=\"158.8\" y=\"102.0\"/><rect fill=\"white\" height=\"5.0\" width=\"2.4\" x=\"158.8\" y=\"93.0\"/><rect fill=\"blue\" height=\"3.0\" width=\"2\" x=\"159.0\" y=\"103.0\"/><rect fill=\"blue\" height=\"3.0\" width=\"2\" x=\"159.0\" y=\"94.0\"/></g><g class=\"shade\"><rect fill=\"white\" height=\"5.0\" width=\"2.4\" x=\"140.8\" y=\"182.0\"/><rect fill=\"white\" height=\"5.0\" width=\"2.4\" x=\"140.8\" y=\"173.0\"/><rect fill=\"blue\" height=\"3.0\" width=\"2\" x=\"141.0\" y=\"183.0\"/><rect fill=\"blue\" height=\"3.0\" width=\"2\" x=\"141.0\" y=\"174.0\"/></g><g class=\"shade\"><rect fill=\"white\" height=\"5.0\" width=\"2.4\" x=\"-1.2\" y=\"2.0\"/><rect fill=\"white\" height=\"5.0\" width=\"2.4\" x=\"-1.2\" y=\"-7.0\"/><rect fill=\"gray\" height=\"3.0\" width=\"2\" x=\"-1.0\" y=\"3.0\"/><rect fill=\"gray\" height=\"3.0\" width=\"2\" x=\"-1.0\" y=\"-6.0\"/></g><g class=\"shade\"><rect fill=\"white\" height=\"5.0\" width=\"2.4\" x=\"108.8\" y=\"2.0\"/><rect fill=\"white\" height=\"5.0\" width=\"2.4\" x=\"108.8\" y=\"-7.0\"/><rect fill=\"gray\" height=\"3.0\" width=\"2\" x=\"109.0\" y=\"3.0\"/><rect fill=\"gray\" height=\"3.0\" width=\"2\" x=\"109.0\" y=\"-6.0\"/></g><g class=\"shade\"><rect fill=\"white\" height=\"5.0\" width=\"2.4\" x=\"108.8\" y=\"22.0\"/><rect fill=\"white\" height=\"5.0\" width=\"2.4\" x=\"108.8\" y=\"13.0\"/><rect fill=\"gray\" height=\"3.0\" width=\"2\" x=\"109.0\" y=\"23.0\"/><rect fill=\"gray\" height=\"3.0\" width=\"2\" x=\"109.0\" y=\"14.0\"/></g><g class=\"shade\"><rect fill=\"white\" height=\"5.0\" width=\"2.4\" x=\"-1.2\" y=\"42.0\"/><rect fill=\"white\" height=\"5.0\" width=\"2.4\" x=\"-1.2\" y=\"33.0\"/><rect fill=\"gray\" height=\"3.0\" width=\"2\" x=\"-1.0\" y=\"43.0\"/><rect fill=\"gray\" height=\"3.0\" width=\"2\" x=\"-1.0\" y=\"34.0\"/></g><g class=\"shade\"><rect fill=\"white\" height=\"5.0\" width=\"2.4\" x=\"108.8\" y=\"42.0\"/><rect fill=\"white\" height=\"5.0\" width=\"2.4\" x=\"108.8\" y=\"33.0\"/><rect fill=\"gray\" height=\"3.0\" width=\"2\" x=\"109.0\" y=\"43.0\"/><rect fill=\"gray\" height=\"3.0\" width=\"2\" x=\"109.0\" y=\"34.0\"/></g><g class=\"shade\"><rect fill=\"white\" height=\"5.0\" width=\"2.4\" x=\"-1.2\" y=\"62.0\"/><rect fill=\"white\" height=\"5.0\" width=\"2.4\" x=\"-1.2\" y=\"53.0\"/><rect fill=\"gray\" height=\"3.0\" width=\"2\" x=\"-1.0\" y=\"63.0\"/><rect fill=\"gray\" height=\"3.0\" width=\"2\" x=\"-1.0\" y=\"54.0\"/></g><g class=\"shade\"><rect fill=\"white\" height=\"5.0\" width=\"2.4\" x=\"108.8\" y=\"62.0\"/><rect fill=\"white\" height=\"5.0\" width=\"2.4\" x=\"108.8\" y=\"53.0\"/><rect fill=\"gray\" height=\"3.0\" width=\"2\" x=\"109.0\" y=\"63.0\"/><rect fill=\"gray\" height=\"3.0\" width=\"2\" x=\"109.0\" y=\"54.0\"/></g><g class=\"shade\"><rect fill=\"white\" height=\"5.0\" width=\"2.4\" x=\"-1.2\" y=\"82.0\"/><rect fill=\"white\" height=\"5.0\" width=\"2.4\" x=\"-1.2\" y=\"73.0\"/><rect fill=\"gray\" height=\"3.0\" width=\"2\" x=\"-1.0\" y=\"83.0\"/><rect fill=\"gray\" height=\"3.0\" width=\"2\" x=\"-1.0\" y=\"74.0\"/></g><g class=\"shade\"><rect fill=\"white\" height=\"5.0\" width=\"2.4\" x=\"108.8\" y=\"82.0\"/><rect fill=\"white\" height=\"5.0\" width=\"2.4\" x=\"108.8\" y=\"73.0\"/><rect fill=\"gray\" height=\"3.0\" width=\"2\" x=\"109.0\" y=\"83.0\"/><rect fill=\"gray\" height=\"3.0\" width=\"2\" x=\"109.0\" y=\"74.0\"/></g><g class=\"shade\"><rect fill=\"white\" height=\"5.0\" width=\"2.4\" x=\"-47.2\" y=\"122.0\"/><rect fill=\"white\" height=\"5.0\" width=\"2.4\" x=\"-47.2\" y=\"113.0\"/><rect fill=\"gray\" height=\"3.0\" width=\"2\" x=\"-47.0\" y=\"123.0\"/><rect fill=\"gray\" height=\"3.0\" width=\"2\" x=\"-47.0\" y=\"114.0\"/></g><g class=\"shade\"><rect fill=\"white\" height=\"5.0\" width=\"2.4\" x=\"-63.2\" y=\"142.0\"/><rect fill=\"white\" height=\"5.0\" width=\"2.4\" x=\"-63.2\" y=\"133.0\"/><rect fill=\"gray\" height=\"3.0\" width=\"2\" x=\"-63.0\" y=\"143.0\"/><rect fill=\"gray\" height=\"3.0\" width=\"2\" x=\"-63.0\" y=\"134.0\"/></g><g class=\"shade\"><rect fill=\"white\" height=\"5.0\" width=\"2.4\" x=\"-35.2\" y=\"162.0\"/><rect fill=\"white\" height=\"5.0\" width=\"2.4\" x=\"-35.2\" y=\"153.0\"/><rect fill=\"gray\" height=\"3.0\" width=\"2\" x=\"-35.0\" y=\"163.0\"/><rect fill=\"gray\" height=\"3.0\" width=\"2\" x=\"-35.0\" y=\"154.0\"/></g><g class=\"shade\"><rect fill=\"white\" height=\"5.0\" width=\"2.4\" x=\"-39.2\" y=\"202.0\"/><rect fill=\"white\" height=\"5.0\" width=\"2.4\" x=\"-39.2\" y=\"193.0\"/><rect fill=\"gray\" height=\"3.0\" width=\"2\" x=\"-39.0\" y=\"203.0\"/><rect fill=\"gray\" height=\"3.0\" width=\"2\" x=\"-39.0\" y=\"194.0\"/></g><g class=\"shade\"><rect fill=\"white\" height=\"5.0\" width=\"2.4\" x=\"-37.2\" y=\"222.0\"/><rect fill=\"white\" height=\"5.0\" width=\"2.4\" x=\"-37.2\" y=\"213.0\"/><rect fill=\"gray\" height=\"3.0\" width=\"2\" x=\"-37.0\" y=\"223.0\"/><rect fill=\"gray\" height=\"3.0\" width=\"2\" x=\"-37.0\" y=\"214.0\"/></g><g class=\"shade\"><rect fill=\"white\" height=\"5.0\" width=\"2.4\" x=\"-231.2\" y=\"242.0\"/><rect fill=\"white\" height=\"5.0\" width=\"2.4\" x=\"-231.2\" y=\"233.0\"/><rect fill=\"gray\" height=\"3.0\" width=\"2\" x=\"-231.0\" y=\"243.0\"/><rect fill=\"gray\" height=\"3.0\" width=\"2\" x=\"-231.0\" y=\"234.0\"/></g><g class=\"shade\"><rect fill=\"white\" height=\"5.0\" width=\"2.4\" x=\"90.8\" y=\"262.0\"/><rect fill=\"white\" height=\"5.0\" width=\"2.4\" x=\"90.8\" y=\"253.0\"/><rect fill=\"gray\" height=\"3.0\" width=\"2\" x=\"91.0\" y=\"263.0\"/><rect fill=\"gray\" height=\"3.0\" width=\"2\" x=\"91.0\" y=\"254.0\"/></g><g class=\"shade\"><rect fill=\"white\" height=\"5.0\" width=\"2.4\" x=\"88.8\" y=\"282.0\"/><rect fill=\"white\" height=\"5.0\" width=\"2.4\" x=\"88.8\" y=\"273.0\"/><rect fill=\"gray\" height=\"3.0\" width=\"2\" x=\"89.0\" y=\"283.0\"/><rect fill=\"gray\" height=\"3.0\" width=\"2\" x=\"89.0\" y=\"274.0\"/></g><g class=\"shade\"><rect fill=\"white\" height=\"5.0\" width=\"2.4\" x=\"-175.2\" y=\"302.0\"/><rect fill=\"white\" height=\"5.0\" width=\"2.4\" x=\"-175.2\" y=\"293.0\"/><rect fill=\"gray\" height=\"3.0\" width=\"2\" x=\"-175.0\" y=\"303.0\"/><rect fill=\"gray\" height=\"3.0\" width=\"2\" x=\"-175.0\" y=\"294.0\"/></g><g class=\"shade\"><rect fill=\"white\" height=\"5.0\" width=\"2.4\" x=\"-175.2\" y=\"322.0\"/><rect fill=\"white\" height=\"5.0\" width=\"2.4\" x=\"-175.2\" y=\"313.0\"/><rect fill=\"gray\" height=\"3.0\" width=\"2\" x=\"-175.0\" y=\"323.0\"/><rect fill=\"gray\" height=\"3.0\" width=\"2\" x=\"-175.0\" y=\"314.0\"/></g><g class=\"shade\"><rect fill=\"white\" height=\"5.0\" width=\"2.4\" x=\"88.8\" y=\"322.0\"/><rect fill=\"white\" height=\"5.0\" width=\"2.4\" x=\"88.8\" y=\"313.0\"/><rect fill=\"gray\" height=\"3.0\" width=\"2\" x=\"89.0\" y=\"323.0\"/><rect fill=\"gray\" height=\"3.0\" width=\"2\" x=\"89.0\" y=\"314.0\"/></g><g class=\"shade\"><rect fill=\"white\" height=\"5.0\" width=\"2.4\" x=\"-175.2\" y=\"342.0\"/><rect fill=\"white\" height=\"5.0\" width=\"2.4\" x=\"-175.2\" y=\"333.0\"/><rect fill=\"gray\" height=\"3.0\" width=\"2\" x=\"-175.0\" y=\"343.0\"/><rect fill=\"gray\" height=\"3.0\" width=\"2\" x=\"-175.0\" y=\"334.0\"/></g><g class=\"shade\"><rect fill=\"white\" height=\"5.0\" width=\"2.4\" x=\"88.8\" y=\"342.0\"/><rect fill=\"white\" height=\"5.0\" width=\"2.4\" x=\"88.8\" y=\"333.0\"/><rect fill=\"gray\" height=\"3.0\" width=\"2\" x=\"89.0\" y=\"343.0\"/><rect fill=\"gray\" height=\"3.0\" width=\"2\" x=\"89.0\" y=\"334.0\"/></g><g class=\"shade\"><rect fill=\"white\" height=\"5.0\" width=\"2.4\" x=\"-175.2\" y=\"362.0\"/><rect fill=\"white\" height=\"5.0\" width=\"2.4\" x=\"-175.2\" y=\"353.0\"/><rect fill=\"gray\" height=\"3.0\" width=\"2\" x=\"-175.0\" y=\"363.0\"/><rect fill=\"gray\" height=\"3.0\" width=\"2\" x=\"-175.0\" y=\"354.0\"/></g><g class=\"shade\"><rect fill=\"white\" height=\"5.0\" width=\"2.4\" x=\"88.8\" y=\"362.0\"/><rect fill=\"white\" height=\"5.0\" width=\"2.4\" x=\"88.8\" y=\"353.0\"/><rect fill=\"gray\" height=\"3.0\" width=\"2\" x=\"89.0\" y=\"363.0\"/><rect fill=\"gray\" height=\"3.0\" width=\"2\" x=\"89.0\" y=\"354.0\"/></g><g class=\"shade\"><rect fill=\"white\" height=\"5.0\" width=\"2.4\" x=\"-175.2\" y=\"382.0\"/><rect fill=\"white\" height=\"5.0\" width=\"2.4\" x=\"-175.2\" y=\"373.0\"/><rect fill=\"gray\" height=\"3.0\" width=\"2\" x=\"-175.0\" y=\"383.0\"/><rect fill=\"gray\" height=\"3.0\" width=\"2\" x=\"-175.0\" y=\"374.0\"/></g><g class=\"shade\"><rect fill=\"white\" height=\"5.0\" width=\"2.4\" x=\"88.8\" y=\"382.0\"/><rect fill=\"white\" height=\"5.0\" width=\"2.4\" x=\"88.8\" y=\"373.0\"/><rect fill=\"gray\" height=\"3.0\" width=\"2\" x=\"89.0\" y=\"383.0\"/><rect fill=\"gray\" height=\"3.0\" width=\"2\" x=\"89.0\" y=\"374.0\"/></g><g class=\"shade\"><rect fill=\"white\" height=\"5.0\" width=\"2.4\" x=\"-167.2\" y=\"402.0\"/><rect fill=\"white\" height=\"5.0\" width=\"2.4\" x=\"-167.2\" y=\"393.0\"/><rect fill=\"gray\" height=\"3.0\" width=\"2\" x=\"-167.0\" y=\"403.0\"/><rect fill=\"gray\" height=\"3.0\" width=\"2\" x=\"-167.0\" y=\"394.0\"/></g><g class=\"shade\"><rect fill=\"white\" height=\"5.0\" width=\"2.4\" x=\"-167.2\" y=\"422.0\"/><rect fill=\"white\" height=\"5.0\" width=\"2.4\" x=\"-167.2\" y=\"413.0\"/><rect fill=\"gray\" height=\"3.0\" width=\"2\" x=\"-167.0\" y=\"423.0\"/><rect fill=\"gray\" height=\"3.0\" width=\"2\" x=\"-167.0\" y=\"414.0\"/></g><g class=\"shade\"><rect fill=\"white\" height=\"5.0\" width=\"2.4\" x=\"88.8\" y=\"422.0\"/><rect fill=\"white\" height=\"5.0\" width=\"2.4\" x=\"88.8\" y=\"413.0\"/><rect fill=\"gray\" height=\"3.0\" width=\"2\" x=\"89.0\" y=\"423.0\"/><rect fill=\"gray\" height=\"3.0\" width=\"2\" x=\"89.0\" y=\"414.0\"/></g><g class=\"shade\"><rect fill=\"white\" height=\"5.0\" width=\"2.4\" x=\"-167.2\" y=\"442.0\"/><rect fill=\"white\" height=\"5.0\" width=\"2.4\" x=\"-167.2\" y=\"433.0\"/><rect fill=\"gray\" height=\"3.0\" width=\"2\" x=\"-167.0\" y=\"443.0\"/><rect fill=\"gray\" height=\"3.0\" width=\"2\" x=\"-167.0\" y=\"434.0\"/></g><g class=\"shade\"><rect fill=\"white\" height=\"5.0\" width=\"2.4\" x=\"88.8\" y=\"442.0\"/><rect fill=\"white\" height=\"5.0\" width=\"2.4\" x=\"88.8\" y=\"433.0\"/><rect fill=\"gray\" height=\"3.0\" width=\"2\" x=\"89.0\" y=\"443.0\"/><rect fill=\"gray\" height=\"3.0\" width=\"2\" x=\"89.0\" y=\"434.0\"/></g><g class=\"shade\"><rect fill=\"white\" height=\"5.0\" width=\"2.4\" x=\"-167.2\" y=\"462.0\"/><rect fill=\"white\" height=\"5.0\" width=\"2.4\" x=\"-167.2\" y=\"453.0\"/><rect fill=\"gray\" height=\"3.0\" width=\"2\" x=\"-167.0\" y=\"463.0\"/><rect fill=\"gray\" height=\"3.0\" width=\"2\" x=\"-167.0\" y=\"454.0\"/></g><g class=\"shade\"><rect fill=\"white\" height=\"5.0\" width=\"2.4\" x=\"88.8\" y=\"462.0\"/><rect fill=\"white\" height=\"5.0\" width=\"2.4\" x=\"88.8\" y=\"453.0\"/><rect fill=\"gray\" height=\"3.0\" width=\"2\" x=\"89.0\" y=\"463.0\"/><rect fill=\"gray\" height=\"3.0\" width=\"2\" x=\"89.0\" y=\"454.0\"/></g><g class=\"shade\"><rect fill=\"white\" height=\"5.0\" width=\"2.4\" x=\"-167.2\" y=\"482.0\"/><rect fill=\"white\" height=\"5.0\" width=\"2.4\" x=\"-167.2\" y=\"473.0\"/><rect fill=\"gray\" height=\"3.0\" width=\"2\" x=\"-167.0\" y=\"483.0\"/><rect fill=\"gray\" height=\"3.0\" width=\"2\" x=\"-167.0\" y=\"474.0\"/></g><g class=\"shade\"><rect fill=\"white\" height=\"5.0\" width=\"2.4\" x=\"88.8\" y=\"482.0\"/><rect fill=\"white\" height=\"5.0\" width=\"2.4\" x=\"88.8\" y=\"473.0\"/><rect fill=\"gray\" height=\"3.0\" width=\"2\" x=\"89.0\" y=\"483.0\"/><rect fill=\"gray\" height=\"3.0\" width=\"2\" x=\"89.0\" y=\"474.0\"/></g><g class=\"shade\"><rect fill=\"white\" height=\"5.0\" width=\"2.4\" x=\"-167.2\" y=\"502.0\"/><rect fill=\"white\" height=\"5.0\" width=\"2.4\" x=\"-167.2\" y=\"493.0\"/><rect fill=\"gray\" height=\"3.0\" width=\"2\" x=\"-167.0\" y=\"503.0\"/><rect fill=\"gray\" height=\"3.0\" width=\"2\" x=\"-167.0\" y=\"494.0\"/></g><g class=\"shade\"><rect fill=\"white\" height=\"5.0\" width=\"2.4\" x=\"88.8\" y=\"502.0\"/><rect fill=\"white\" height=\"5.0\" width=\"2.4\" x=\"88.8\" y=\"493.0\"/><rect fill=\"gray\" height=\"3.0\" width=\"2\" x=\"89.0\" y=\"503.0\"/><rect fill=\"gray\" height=\"3.0\" width=\"2\" x=\"89.0\" y=\"494.0\"/></g><g class=\"shade\"><rect fill=\"white\" height=\"5.0\" width=\"2.4\" x=\"-167.2\" y=\"522.0\"/><rect fill=\"white\" height=\"5.0\" width=\"2.4\" x=\"-167.2\" y=\"513.0\"/><rect fill=\"gray\" height=\"3.0\" width=\"2\" x=\"-167.0\" y=\"523.0\"/><rect fill=\"gray\" height=\"3.0\" width=\"2\" x=\"-167.0\" y=\"514.0\"/></g><g class=\"shade\"><rect fill=\"white\" height=\"5.0\" width=\"2.4\" x=\"88.8\" y=\"522.0\"/><rect fill=\"white\" height=\"5.0\" width=\"2.4\" x=\"88.8\" y=\"513.0\"/><rect fill=\"gray\" height=\"3.0\" width=\"2\" x=\"89.0\" y=\"523.0\"/><rect fill=\"gray\" height=\"3.0\" width=\"2\" x=\"89.0\" y=\"514.0\"/></g><g class=\"shade\"><rect fill=\"white\" height=\"5.0\" width=\"2.4\" x=\"-167.2\" y=\"542.0\"/><rect fill=\"white\" height=\"5.0\" width=\"2.4\" x=\"-167.2\" y=\"533.0\"/><rect fill=\"gray\" height=\"3.0\" width=\"2\" x=\"-167.0\" y=\"543.0\"/><rect fill=\"gray\" height=\"3.0\" width=\"2\" x=\"-167.0\" y=\"534.0\"/></g><g class=\"shade\"><rect fill=\"white\" height=\"5.0\" width=\"2.4\" x=\"88.8\" y=\"542.0\"/><rect fill=\"white\" height=\"5.0\" width=\"2.4\" x=\"88.8\" y=\"533.0\"/><rect fill=\"gray\" height=\"3.0\" width=\"2\" x=\"89.0\" y=\"543.0\"/><rect fill=\"gray\" height=\"3.0\" width=\"2\" x=\"89.0\" y=\"534.0\"/></g><g class=\"shade\"><rect fill=\"white\" height=\"5.0\" width=\"2.4\" x=\"-167.2\" y=\"562.0\"/><rect fill=\"white\" height=\"5.0\" width=\"2.4\" x=\"-167.2\" y=\"553.0\"/><rect fill=\"gray\" height=\"3.0\" width=\"2\" x=\"-167.0\" y=\"563.0\"/><rect fill=\"gray\" height=\"3.0\" width=\"2\" x=\"-167.0\" y=\"554.0\"/></g><g class=\"shade\"><rect fill=\"white\" height=\"5.0\" width=\"2.4\" x=\"88.8\" y=\"562.0\"/><rect fill=\"white\" height=\"5.0\" width=\"2.4\" x=\"88.8\" y=\"553.0\"/><rect fill=\"gray\" height=\"3.0\" width=\"2\" x=\"89.0\" y=\"563.0\"/><rect fill=\"gray\" height=\"3.0\" width=\"2\" x=\"89.0\" y=\"554.0\"/></g></g></g></svg>"
      ],
      "text/plain": [
       "<IPython.core.display.SVG object>"
      ]
     },
     "execution_count": 673,
     "metadata": {},
     "output_type": "execute_result"
    }
   ],
   "source": [
    "tree.options.css['width'] ='100%'\n",
    "tree.samples.flip_time_direction = False\n",
    "tree.samples.analyze()\n",
    "SVG(tree.svg())"
   ]
  },
  {
   "cell_type": "code",
   "execution_count": 792,
   "metadata": {
    "collapsed": false
   },
   "outputs": [
    {
     "data": {
      "image/svg+xml": [
       "<svg baseProfile=\"full\" class=\"opstree\" height=\"100%\" version=\"1.1\" viewBox=\"-80.00 -22.50 1489.00 315.00\" width=\"100%\" xmlns=\"http://www.w3.org/2000/svg\" xmlns:ev=\"http://www.w3.org/2001/xml-events\" xmlns:xlink=\"http://www.w3.org/1999/xlink\"><defs><style type=\"text/css\"><![CDATA[\n",
       ".opstree text, .movetree text {\n",
       "    alignment-baseline: central;\n",
       "    font-size: 10px;\n",
       "    text-anchor: middle;\n",
       "    font-family: Futura-CondensedMedium;\n",
       "    font-weight: lighter;\n",
       "    stroke: none !important;\n",
       "}\n",
       ".opstree text.shadow {\n",
       "    stroke-width: 3;\n",
       "    stroke: white !important;\n",
       "}\n",
       ".opstree .left.label .shift text {\n",
       "    text-anchor: end;\n",
       "}\n",
       ".opstree .right.label .shift text {\n",
       "    text-anchor: start;\n",
       "}\n",
       ".opstree .block text, .movetree .block text {\n",
       "    fill: white !important;\n",
       "    stroke: none !important;\n",
       "}\n",
       ".opstree g.block:hover rect {\n",
       "    opacity: 0.5;\n",
       "}\n",
       ".opstree .repex {\n",
       "    fill: blue;\n",
       "    stroke: blue;\n",
       "}\n",
       ".opstree .extend {\n",
       "    fill: blue;\n",
       "    stroke: blue;\n",
       "}\n",
       ".opstree .truncate {\n",
       "    fill: blue;\n",
       "    stroke: blue;\n",
       "}\n",
       ".opstree .new {\n",
       "    fill: black;\n",
       "    stroke: black;\n",
       "}\n",
       ".opstree .unknown {\n",
       "    fill: gray;\n",
       "    stroke: gray;\n",
       "}\n",
       ".opstree .hop {\n",
       "    fill: blue;\n",
       "    stroke: blue;\n",
       "}\n",
       ".opstree .correlation {\n",
       "    fill: black;\n",
       "    stroke: black;\n",
       "}\n",
       ".opstree .shooting.bw {\n",
       "    fill: green;\n",
       "    stroke: green;\n",
       "}\n",
       ".opstree .shooting.fw {\n",
       "    fill: red;\n",
       "    stroke: red;\n",
       "}\n",
       ".opstree .shooting.overlap {\n",
       "    fill: #666;\n",
       "    stroke: #666;\n",
       "}\n",
       ".opstree .reversal {\n",
       "    fill: gold;\n",
       "    stroke: gold;\n",
       "}\n",
       ".opstree .virtual {\n",
       "    opacity: 0.1;\n",
       "    fill:gray;\n",
       "    stroke: none;\n",
       "}\n",
       ".opstree line {\n",
       "    stroke-width: 2px;\n",
       "}\n",
       ".opstree .label {\n",
       "    fill: black !important;\n",
       "}\n",
       ".opstree .h-connector {\n",
       "    stroke-width: 0.1px;\n",
       "    stroke-dasharray: 3 3;\n",
       "}\n",
       ".opstree .rejected {\n",
       "    opacity: 0.3;\n",
       "}\n",
       ".opstree .level {\n",
       "    opacity: 0.1;\n",
       "}\n",
       ".opstree .orange {\n",
       "    fill: orange;\n",
       "}\n",
       ".tableline {\n",
       "    fill: gray;\n",
       "    opacity: 0.0;\n",
       "}\n",
       ".tableline:hover {\n",
       "    opacity: 0.2;\n",
       "}\n",
       ".opstree .left.label g.shift {\n",
       "    transform: translateX(-6px);\n",
       "}\n",
       ".opstree .right.label g.shift {\n",
       "    transform: translateX(+6px);\n",
       "}\n",
       ".opstree .infobox text {\n",
       "    text-anchor: start;\n",
       "}\n",
       ".opstree .shade {\n",
       "    stroke: none;\n",
       "}\n",
       "\n",
       ".movetree .label .shift {\n",
       "    transform: translateX(-18px);\n",
       "}\n",
       "\n",
       ".movetree .label text {\n",
       "    text-anchor: end;\n",
       "}\n",
       ".movetree .v-connector {\n",
       "    stroke: black;\n",
       "}\n",
       ".movetree .v-hook {\n",
       "    stroke: black;\n",
       "}\n",
       ".movetree .ensembles .head .shift {\n",
       "    transform: translateY(0px) rotate(270deg) ;\n",
       "}\n",
       ".movetree .ensembles .head text {\n",
       "    text-anchor: start;\n",
       "}\n",
       ".movetree .connector.input {\n",
       "    fill: green;\n",
       "}\n",
       ".movetree .connector.output {\n",
       "    fill: red;\n",
       "}\n",
       ".movetree .unknown {\n",
       "    fill: gray;\n",
       "}\n",
       "]]></style></defs><g transform=\"scale(1.0)\"><g class=\"legend\"><g class=\"label\" transform=\"translate(-64,0)\"><g class=\"shift\"><text x=\"0\" y=\"0\">smp</text></g></g><g class=\"label\" transform=\"translate(-32,0)\"><g class=\"shift\"><text x=\"0\" y=\"0\">cor</text></g></g><rect class=\"tableline\" height=\"13.5\" width=\"1489.0\" x=\"-80.0\" y=\"8.25\"/><g class=\"label\" transform=\"translate(-64,15)\"><g class=\"shift\"><text x=\"0\" y=\"0\">2</text></g></g><rect class=\"tableline\" height=\"13.5\" width=\"1489.0\" x=\"-80.0\" y=\"23.25\"/><g class=\"label\" transform=\"translate(-64,30)\"><g class=\"shift\"><text x=\"0\" y=\"0\">29</text></g></g><rect class=\"tableline\" height=\"13.5\" width=\"1489.0\" x=\"-80.0\" y=\"38.25\"/><g class=\"label\" transform=\"translate(-64,45)\"><g class=\"shift\"><text x=\"0\" y=\"0\">30</text></g></g><rect class=\"tableline\" height=\"13.5\" width=\"1489.0\" x=\"-80.0\" y=\"53.25\"/><g class=\"label\" transform=\"translate(-64,60)\"><g class=\"shift\"><text x=\"0\" y=\"0\">31</text></g></g><rect class=\"tableline\" height=\"13.5\" width=\"1489.0\" x=\"-80.0\" y=\"68.25\"/><g class=\"correlation v-region\"><line x1=\"-32\" x2=\"-32\" y1=\"7.5\" y2=\"67.5\"/><circle cx=\"-32\" cy=\"7.5\" r=\"0.0\"/><line x1=\"-32.0\" x2=\"-25.6\" y1=\"7.5\" y2=\"7.5\"/><circle cx=\"-32\" cy=\"67.5\" r=\"0.0\"/><line x1=\"-32.0\" x2=\"-25.6\" y1=\"67.5\" y2=\"67.5\"/><text x=\"-38.4\" y=\"37.5\"/></g><g class=\"label\" transform=\"translate(-64,75)\"><g class=\"shift\"><text x=\"0\" y=\"0\">32</text></g></g><rect class=\"tableline\" height=\"13.5\" width=\"1489.0\" x=\"-80.0\" y=\"83.25\"/><g class=\"label\" transform=\"translate(-64,90)\"><g class=\"shift\"><text x=\"0\" y=\"0\">66</text></g></g><rect class=\"tableline\" height=\"13.5\" width=\"1489.0\" x=\"-80.0\" y=\"98.25\"/><g class=\"label\" transform=\"translate(-64,105)\"><g class=\"shift\"><text x=\"0\" y=\"0\">146</text></g></g><rect class=\"tableline\" height=\"13.5\" width=\"1489.0\" x=\"-80.0\" y=\"113.25\"/><g class=\"correlation v-region\"><line x1=\"-32\" x2=\"-32\" y1=\"67.5\" y2=\"112.5\"/><circle cx=\"-32\" cy=\"67.5\" r=\"0.0\"/><line x1=\"-32.0\" x2=\"-25.6\" y1=\"67.5\" y2=\"67.5\"/><circle cx=\"-32\" cy=\"112.5\" r=\"0.0\"/><line x1=\"-32.0\" x2=\"-25.6\" y1=\"112.5\" y2=\"112.5\"/><text x=\"-38.4\" y=\"90.0\"/></g><g class=\"label\" transform=\"translate(-64,120)\"><g class=\"shift\"><text x=\"0\" y=\"0\">176</text></g></g><rect class=\"tableline\" height=\"13.5\" width=\"1489.0\" x=\"-80.0\" y=\"128.25\"/><g class=\"label\" transform=\"translate(-64,135)\"><g class=\"shift\"><text x=\"0\" y=\"0\">207</text></g></g><rect class=\"tableline\" height=\"13.5\" width=\"1489.0\" x=\"-80.0\" y=\"143.25\"/><g class=\"correlation v-region\"><line x1=\"-32\" x2=\"-32\" y1=\"112.5\" y2=\"142.5\"/><circle cx=\"-32\" cy=\"112.5\" r=\"0.0\"/><line x1=\"-32.0\" x2=\"-25.6\" y1=\"112.5\" y2=\"112.5\"/><circle cx=\"-32\" cy=\"142.5\" r=\"0.0\"/><line x1=\"-32.0\" x2=\"-25.6\" y1=\"142.5\" y2=\"142.5\"/><text x=\"-38.4\" y=\"127.5\"/></g><g class=\"label\" transform=\"translate(-64,150)\"><g class=\"shift\"><text x=\"0\" y=\"0\">210</text></g></g><rect class=\"tableline\" height=\"13.5\" width=\"1489.0\" x=\"-80.0\" y=\"158.25\"/><g class=\"label\" transform=\"translate(-64,165)\"><g class=\"shift\"><text x=\"0\" y=\"0\">213</text></g></g><rect class=\"tableline\" height=\"13.5\" width=\"1489.0\" x=\"-80.0\" y=\"173.25\"/><g class=\"label\" transform=\"translate(-64,180)\"><g class=\"shift\"><text x=\"0\" y=\"0\">220</text></g></g><rect class=\"tableline\" height=\"13.5\" width=\"1489.0\" x=\"-80.0\" y=\"188.25\"/><g class=\"label\" transform=\"translate(-64,195)\"><g class=\"shift\"><text x=\"0\" y=\"0\">230</text></g></g><rect class=\"tableline\" height=\"13.5\" width=\"1489.0\" x=\"-80.0\" y=\"203.25\"/><g class=\"correlation v-region\"><line x1=\"-32\" x2=\"-32\" y1=\"142.5\" y2=\"202.5\"/><circle cx=\"-32\" cy=\"142.5\" r=\"0.0\"/><line x1=\"-32.0\" x2=\"-25.6\" y1=\"142.5\" y2=\"142.5\"/><circle cx=\"-32\" cy=\"202.5\" r=\"0.0\"/><line x1=\"-32.0\" x2=\"-25.6\" y1=\"202.5\" y2=\"202.5\"/><text x=\"-38.4\" y=\"172.5\"/></g><g class=\"label\" transform=\"translate(-64,210)\"><g class=\"shift\"><text x=\"0\" y=\"0\">347</text></g></g><rect class=\"tableline\" height=\"13.5\" width=\"1489.0\" x=\"-80.0\" y=\"218.25\"/><g class=\"label\" transform=\"translate(-64,225)\"><g class=\"shift\"><text x=\"0\" y=\"0\">360</text></g></g><rect class=\"tableline\" height=\"13.5\" width=\"1489.0\" x=\"-80.0\" y=\"233.25\"/><g class=\"label\" transform=\"translate(-64,240)\"><g class=\"shift\"><text x=\"0\" y=\"0\">411</text></g></g><rect class=\"tableline\" height=\"13.5\" width=\"1489.0\" x=\"-80.0\" y=\"248.25\"/><g class=\"correlation v-region\"><line x1=\"-32\" x2=\"-32\" y1=\"202.5\" y2=\"247.5\"/><circle cx=\"-32\" cy=\"202.5\" r=\"0.0\"/><line x1=\"-32.0\" x2=\"-25.6\" y1=\"202.5\" y2=\"202.5\"/><circle cx=\"-32\" cy=\"247.5\" r=\"0.0\"/><line x1=\"-32.0\" x2=\"-25.6\" y1=\"247.5\" y2=\"247.5\"/><text x=\"-38.4\" y=\"225.0\"/></g><g class=\"label\" transform=\"translate(-64,255)\"><g class=\"shift\"><text x=\"0\" y=\"0\">419</text></g></g><rect class=\"tableline\" height=\"13.5\" width=\"1489.0\" x=\"-80.0\" y=\"263.25\"/><g class=\"label\" transform=\"translate(-64,270)\"><g class=\"shift\"><text x=\"0\" y=\"0\">466</text></g></g><rect class=\"tableline\" height=\"13.5\" width=\"1489.0\" x=\"-80.0\" y=\"278.25\"/><g class=\"correlation v-region\"><line x1=\"-32\" x2=\"-32\" y1=\"247.5\" y2=\"277.5\"/><circle cx=\"-32\" cy=\"247.5\" r=\"0.0\"/><line x1=\"-32.0\" x2=\"-25.6\" y1=\"247.5\" y2=\"247.5\"/><circle cx=\"-32\" cy=\"277.5\" r=\"0.0\"/><line x1=\"-32.0\" x2=\"-25.6\" y1=\"277.5\" y2=\"277.5\"/><text x=\"-38.4\" y=\"262.5\"/></g><g class=\"label\" transform=\"translate(-64,285)\"><g class=\"shift\"><text x=\"0\" y=\"0\">539</text></g></g><g class=\"correlation v-region\"><line x1=\"-32\" x2=\"-32\" y1=\"277.5\" y2=\"292.5\"/><circle cx=\"-32\" cy=\"277.5\" r=\"0.0\"/><line x1=\"-32.0\" x2=\"-25.6\" y1=\"277.5\" y2=\"277.5\"/><text x=\"-38.4\" y=\"285.0\"/></g></g><g class=\"tree\" transform=\"translate(37,15)\"><g class=\"unknown left label\" transform=\"translate(0,0)\"><g class=\"shift\"><text x=\"0\" y=\"0\">+</text></g></g><g class=\"unknown new block\"><rect height=\"9.0\" width=\"1245.0\" x=\"-2.5\" y=\"-4.5\"/><circle cx=\"1242.5\" cy=\"0\" r=\"0.0\"/><text x=\"620.0\" y=\"0\"/></g><g class=\"shooting right label\" transform=\"translate(1240,15)\"><g class=\"shift\"><text x=\"0\" y=\"0\">B</text></g></g><line class=\"shooting bw connection v-connector\" x1=\"1237.5\" x2=\"1237.5\" y1=\"0.0\" y2=\"15.0\"/><g class=\"shooting bw block\"><rect height=\"9.0\" width=\"5.0\" x=\"1237.5\" y=\"10.5\"/><circle cx=\"1242.5\" cy=\"15\" r=\"0.0\"/><text x=\"1240.0\" y=\"15\"/></g><g class=\"shooting left label\" transform=\"translate(430,30)\"><g class=\"shift\"><text x=\"0\" y=\"0\">F</text></g></g><line class=\"shooting fw connection v-connector\" x1=\"767.5\" x2=\"767.5\" y1=\"0.0\" y2=\"30.0\"/><g class=\"shooting fw block\"><rect height=\"9.0\" width=\"340.0\" x=\"427.5\" y=\"25.5\"/><circle cx=\"767.5\" cy=\"30\" r=\"0.0\"/><text x=\"597.5\" y=\"30\"/></g><g class=\"shooting right label\" transform=\"translate(975,45)\"><g class=\"shift\"><text x=\"0\" y=\"0\">B</text></g></g><line class=\"shooting bw connection v-connector\" x1=\"817.5\" x2=\"817.5\" y1=\"0.0\" y2=\"45.0\"/><g class=\"shooting bw block\"><rect height=\"9.0\" width=\"160.0\" x=\"817.5\" y=\"40.5\"/><circle cx=\"977.5\" cy=\"45\" r=\"0.0\"/><text x=\"897.5\" y=\"45\"/></g><g class=\"shooting left label\" transform=\"translate(250,60)\"><g class=\"shift\"><text x=\"0\" y=\"0\">F</text></g></g><line class=\"shooting fw connection v-connector\" x1=\"907.5\" x2=\"907.5\" y1=\"45.0\" y2=\"60.0\"/><g class=\"shooting fw block\"><rect height=\"9.0\" width=\"660.0\" x=\"247.5\" y=\"55.5\"/><circle cx=\"907.5\" cy=\"60\" r=\"0.0\"/><text x=\"577.5\" y=\"60\"/></g><g class=\"shooting right label\" transform=\"translate(1175,75)\"><g class=\"shift\"><text x=\"0\" y=\"0\">B</text></g></g><line class=\"shooting bw connection v-connector\" x1=\"732.5\" x2=\"732.5\" y1=\"60.0\" y2=\"75.0\"/><g class=\"shooting bw block\"><rect height=\"9.0\" width=\"445.0\" x=\"732.5\" y=\"70.5\"/><circle cx=\"1177.5\" cy=\"75\" r=\"0.0\"/><text x=\"955.0\" y=\"75\"/></g><g class=\"shooting left label\" transform=\"translate(70,90)\"><g class=\"shift\"><text x=\"0\" y=\"0\">B</text></g></g><line class=\"shooting bw connection v-connector\" x1=\"662.5\" x2=\"662.5\" y1=\"60.0\" y2=\"90.0\"/><g class=\"shooting bw block\"><rect height=\"9.0\" width=\"595.0\" x=\"67.5\" y=\"85.5\"/><circle cx=\"662.5\" cy=\"90\" r=\"0.0\"/><text x=\"365.0\" y=\"90\"/></g><g class=\"shooting left label\" transform=\"translate(520,105)\"><g class=\"shift\"><text x=\"0\" y=\"0\">B</text></g></g><line class=\"shooting bw connection v-connector\" x1=\"832.5\" x2=\"832.5\" y1=\"75.0\" y2=\"105.0\"/><g class=\"shooting bw block\"><rect height=\"9.0\" width=\"315.0\" x=\"517.5\" y=\"100.5\"/><circle cx=\"832.5\" cy=\"105\" r=\"0.0\"/><text x=\"675.0\" y=\"105\"/></g><g class=\"shooting right label\" transform=\"translate(1125,120)\"><g class=\"shift\"><text x=\"0\" y=\"0\">F</text></g></g><line class=\"shooting fw connection v-connector\" x1=\"877.5\" x2=\"877.5\" y1=\"75.0\" y2=\"120.0\"/><g class=\"shooting fw block\"><rect height=\"9.0\" width=\"250.0\" x=\"877.5\" y=\"115.5\"/><circle cx=\"1127.5\" cy=\"120\" r=\"0.0\"/><text x=\"1002.5\" y=\"120\"/></g><g class=\"shooting left label\" transform=\"translate(540,135)\"><g class=\"shift\"><text x=\"0\" y=\"0\">B</text></g></g><line class=\"shooting bw connection v-connector\" x1=\"877.5\" x2=\"877.5\" y1=\"120.0\" y2=\"135.0\"/><g class=\"shooting bw block\"><rect height=\"9.0\" width=\"340.0\" x=\"537.5\" y=\"130.5\"/><circle cx=\"877.5\" cy=\"135\" r=\"0.0\"/><text x=\"707.5\" y=\"135\"/></g><g class=\"shooting left label\" transform=\"translate(575,150)\"><g class=\"shift\"><text x=\"0\" y=\"0\">B</text></g></g><line class=\"shooting bw connection v-connector\" x1=\"862.5\" x2=\"862.5\" y1=\"135.0\" y2=\"150.0\"/><g class=\"shooting bw block\"><rect height=\"9.0\" width=\"290.0\" x=\"572.5\" y=\"145.5\"/><circle cx=\"862.5\" cy=\"150\" r=\"0.0\"/><text x=\"717.5\" y=\"150\"/></g><g class=\"shooting right label\" transform=\"translate(1125,165)\"><g class=\"shift\"><text x=\"0\" y=\"0\">F</text></g></g><line class=\"shooting fw connection v-connector\" x1=\"997.5\" x2=\"997.5\" y1=\"120.0\" y2=\"165.0\"/><g class=\"shooting fw block\"><rect height=\"9.0\" width=\"130.0\" x=\"997.5\" y=\"160.5\"/><circle cx=\"1127.5\" cy=\"165\" r=\"0.0\"/><text x=\"1062.5\" y=\"165\"/></g><g class=\"shooting left label\" transform=\"translate(515,180)\"><g class=\"shift\"><text x=\"0\" y=\"0\">B</text></g></g><line class=\"shooting bw connection v-connector\" x1=\"717.5\" x2=\"717.5\" y1=\"150.0\" y2=\"180.0\"/><g class=\"shooting bw block\"><rect height=\"9.0\" width=\"205.0\" x=\"512.5\" y=\"175.5\"/><circle cx=\"717.5\" cy=\"180\" r=\"0.0\"/><text x=\"615.0\" y=\"180\"/></g><g class=\"shooting right label\" transform=\"translate(1145,195)\"><g class=\"shift\"><text x=\"0\" y=\"0\">B</text></g></g><line class=\"shooting bw connection v-connector\" x1=\"842.5\" x2=\"842.5\" y1=\"150.0\" y2=\"195.0\"/><g class=\"shooting bw block\"><rect height=\"9.0\" width=\"305.0\" x=\"842.5\" y=\"190.5\"/><circle cx=\"1147.5\" cy=\"195\" r=\"0.0\"/><text x=\"995.0\" y=\"195\"/></g><g class=\"shooting right label\" transform=\"translate(1170,210)\"><g class=\"shift\"><text x=\"0\" y=\"0\">B</text></g></g><line class=\"shooting bw connection v-connector\" x1=\"732.5\" x2=\"732.5\" y1=\"150.0\" y2=\"210.0\"/><g class=\"shooting bw block\"><rect height=\"9.0\" width=\"440.0\" x=\"732.5\" y=\"205.5\"/><circle cx=\"1172.5\" cy=\"210\" r=\"0.0\"/><text x=\"952.5\" y=\"210\"/></g><g class=\"shooting right label\" transform=\"translate(1265,225)\"><g class=\"shift\"><text x=\"0\" y=\"0\">B</text></g></g><line class=\"shooting bw connection v-connector\" x1=\"722.5\" x2=\"722.5\" y1=\"150.0\" y2=\"225.0\"/><g class=\"shooting bw block\"><rect height=\"9.0\" width=\"545.0\" x=\"722.5\" y=\"220.5\"/><circle cx=\"1267.5\" cy=\"225\" r=\"0.0\"/><text x=\"995.0\" y=\"225\"/></g><g class=\"shooting left label\" transform=\"translate(380,240)\"><g class=\"shift\"><text x=\"0\" y=\"0\">F</text></g></g><line class=\"shooting fw connection v-connector\" x1=\"932.5\" x2=\"932.5\" y1=\"225.0\" y2=\"240.0\"/><g class=\"shooting fw block\"><rect height=\"9.0\" width=\"555.0\" x=\"377.5\" y=\"235.5\"/><circle cx=\"932.5\" cy=\"240\" r=\"0.0\"/><text x=\"655.0\" y=\"240\"/></g><g class=\"shooting left label\" transform=\"translate(370,255)\"><g class=\"shift\"><text x=\"0\" y=\"0\">B</text></g></g><line class=\"shooting bw connection v-connector\" x1=\"1152.5\" x2=\"1152.5\" y1=\"225.0\" y2=\"255.0\"/><g class=\"shooting bw block\"><rect height=\"9.0\" width=\"785.0\" x=\"367.5\" y=\"250.5\"/><circle cx=\"1152.5\" cy=\"255\" r=\"0.0\"/><text x=\"760.0\" y=\"255\"/></g><g class=\"shooting right label\" transform=\"translate(1335,270)\"><g class=\"shift\"><text x=\"0\" y=\"0\">B</text></g></g><line class=\"shooting bw connection v-connector\" x1=\"1142.5\" x2=\"1142.5\" y1=\"255.0\" y2=\"270.0\"/><g class=\"shooting bw block\"><rect height=\"9.0\" width=\"195.0\" x=\"1142.5\" y=\"265.5\"/><circle cx=\"1337.5\" cy=\"270\" r=\"0.0\"/><text x=\"1240.0\" y=\"270\"/></g></g></g></svg>"
      ],
      "text/plain": [
       "<IPython.core.display.SVG object>"
      ]
     },
     "execution_count": 792,
     "metadata": {},
     "output_type": "execute_result"
    }
   ],
   "source": [
    "reload(v)\n",
    "tree = v.PathTreeBuilder()\n",
    "tree.samples = v.SampleList.from_steps(st.steps[10:], 3, True)\n",
    "tree.samples.flip_time_direction = True\n",
    "tree.samples.time_symmetric = True\n",
    "\n",
    "tree.samples.remove_redundant()\n",
    "tree.options.movers['default']['new'] = 'block'\n",
    "#tree.options.movers['default']['overlap'] = 'single'\n",
    "\n",
    "tree.states = {}\n",
    "tree.options.css['width'] = '100%'\n",
    "tree.use_storage_indices(st)\n",
    "#tree.op = st.idx\n",
    "SVG(tree.svg())"
   ]
  },
  {
   "cell_type": "markdown",
   "metadata": {},
   "source": [
    "Next is the movetreebuilder"
   ]
  },
  {
   "cell_type": "code",
   "execution_count": 793,
   "metadata": {
    "collapsed": false
   },
   "outputs": [],
   "source": [
    "reload(visualization)\n",
    "movevis = visualization.MoveTreeBuilder()"
   ]
  },
  {
   "cell_type": "markdown",
   "metadata": {},
   "source": [
    "This shows the full movepath of all steps (right now this disables and only shows the first step!)"
   ]
  },
  {
   "cell_type": "code",
   "execution_count": 794,
   "metadata": {
    "collapsed": false
   },
   "outputs": [],
   "source": [
    "movevis.set_ensembles(scheme.ensembles_for_move_tree())\n",
    "movevis.set_mover(scheme.root_mover)"
   ]
  },
  {
   "cell_type": "code",
   "execution_count": 795,
   "metadata": {
    "collapsed": false
   },
   "outputs": [
    {
     "data": {
      "image/svg+xml": [
       "<svg baseProfile=\"full\" class=\"movetree\" height=\"100%\" version=\"1.1\" viewBox=\"-180.00 -120.00 550.00 1300.00\" width=\"550.0\" xmlns=\"http://www.w3.org/2000/svg\" xmlns:ev=\"http://www.w3.org/2001/xml-events\" xmlns:xlink=\"http://www.w3.org/1999/xlink\"><defs><style type=\"text/css\"><![CDATA[\n",
       ".opstree text, .movetree text {\n",
       "    alignment-baseline: central;\n",
       "    font-size: 10px;\n",
       "    text-anchor: middle;\n",
       "    font-family: Futura-CondensedMedium;\n",
       "    font-weight: lighter;\n",
       "    stroke: none !important;\n",
       "}\n",
       ".opstree text.shadow {\n",
       "    stroke-width: 3;\n",
       "    stroke: white !important;\n",
       "}\n",
       ".opstree .left.label .shift text {\n",
       "    text-anchor: end;\n",
       "}\n",
       ".opstree .right.label .shift text {\n",
       "    text-anchor: start;\n",
       "}\n",
       ".opstree .block text, .movetree .block text {\n",
       "    fill: white !important;\n",
       "    stroke: none !important;\n",
       "}\n",
       ".opstree g.block:hover rect {\n",
       "    opacity: 0.5;\n",
       "}\n",
       ".opstree .repex {\n",
       "    fill: blue;\n",
       "    stroke: blue;\n",
       "}\n",
       ".opstree .extend {\n",
       "    fill: blue;\n",
       "    stroke: blue;\n",
       "}\n",
       ".opstree .truncate {\n",
       "    fill: blue;\n",
       "    stroke: blue;\n",
       "}\n",
       ".opstree .new {\n",
       "    fill: black;\n",
       "    stroke: black;\n",
       "}\n",
       ".opstree .unknown {\n",
       "    fill: gray;\n",
       "    stroke: gray;\n",
       "}\n",
       ".opstree .hop {\n",
       "    fill: blue;\n",
       "    stroke: blue;\n",
       "}\n",
       ".opstree .correlation {\n",
       "    fill: black;\n",
       "    stroke: black;\n",
       "}\n",
       ".opstree .shooting.bw {\n",
       "    fill: green;\n",
       "    stroke: green;\n",
       "}\n",
       ".opstree .shooting.fw {\n",
       "    fill: red;\n",
       "    stroke: red;\n",
       "}\n",
       ".opstree .shooting.overlap {\n",
       "    fill: #666;\n",
       "    stroke: #666;\n",
       "}\n",
       ".opstree .reversal {\n",
       "    fill: gold;\n",
       "    stroke: gold;\n",
       "}\n",
       ".opstree .virtual {\n",
       "    opacity: 0.1;\n",
       "    fill:gray;\n",
       "    stroke: none;\n",
       "}\n",
       ".opstree line {\n",
       "    stroke-width: 2px;\n",
       "}\n",
       ".opstree .label {\n",
       "    fill: black !important;\n",
       "}\n",
       ".opstree .h-connector {\n",
       "    stroke-width: 0.1px;\n",
       "    stroke-dasharray: 3 3;\n",
       "}\n",
       ".opstree .rejected {\n",
       "    opacity: 0.3;\n",
       "}\n",
       ".opstree .level {\n",
       "    opacity: 0.1;\n",
       "}\n",
       ".opstree .orange {\n",
       "    fill: orange;\n",
       "}\n",
       ".tableline {\n",
       "    fill: gray;\n",
       "    opacity: 0.0;\n",
       "}\n",
       ".tableline:hover {\n",
       "    opacity: 0.2;\n",
       "}\n",
       ".opstree .left.label g.shift {\n",
       "    transform: translateX(-6px);\n",
       "}\n",
       ".opstree .right.label g.shift {\n",
       "    transform: translateX(+6px);\n",
       "}\n",
       ".opstree .infobox text {\n",
       "    text-anchor: start;\n",
       "}\n",
       ".opstree .shade {\n",
       "    stroke: none;\n",
       "}\n",
       "\n",
       ".movetree .label .shift {\n",
       "    transform: translateX(-18px);\n",
       "}\n",
       "\n",
       ".movetree .label text {\n",
       "    text-anchor: end;\n",
       "}\n",
       ".movetree .v-connector {\n",
       "    stroke: black;\n",
       "}\n",
       ".movetree .v-hook {\n",
       "    stroke: black;\n",
       "}\n",
       ".movetree .ensembles .head .shift {\n",
       "    transform: translateY(0px) rotate(270deg) ;\n",
       "}\n",
       ".movetree .ensembles .head text {\n",
       "    text-anchor: start;\n",
       "}\n",
       ".movetree .connector.input {\n",
       "    fill: green;\n",
       "}\n",
       ".movetree .connector.output {\n",
       "    fill: red;\n",
       "}\n",
       ".movetree .unknown {\n",
       "    fill: gray;\n",
       "}\n",
       "]]></style></defs><g class=\"tree\"><g class=\"block\"><rect height=\"12.0\" width=\"18.0\" x=\"-9.0\" y=\"-6.0\"/><circle cx=\"-10.0\" cy=\"0.0\" r=\"1.0\"/><circle cx=\"10.0\" cy=\"0.0\" r=\"1.0\"/><text x=\"0.0\" y=\"0.0\"/></g><g class=\"label\" transform=\"translate(0.0,0.0)\"><g class=\"shift\"><text x=\"0\" y=\"0\">RandomChoice</text></g></g><g class=\"block\"><rect height=\"12.0\" width=\"18.0\" x=\"-29.0\" y=\"14.0\"/><circle cx=\"-30.0\" cy=\"20.0\" r=\"1.0\"/><circle cx=\"-10.0\" cy=\"20.0\" r=\"1.0\"/><text x=\"-20.0\" y=\"20.0\"/></g><g class=\"label\" transform=\"translate(-20.0,20.0)\"><g class=\"shift\"><text x=\"0\" y=\"0\">RandomChoice</text></g></g><line class=\"v-connector\" x1=\"-10.0\" x2=\"-10.0\" y1=\"21.0\" y2=\"-1.0\"/><g class=\"block\"><rect height=\"12.0\" width=\"18.0\" x=\"-49.0\" y=\"34.0\"/><circle cx=\"-50.0\" cy=\"40.0\" r=\"1.0\"/><circle cx=\"-30.0\" cy=\"40.0\" r=\"1.0\"/><text x=\"-40.0\" y=\"40.0\"/></g><g class=\"label\" transform=\"translate(-40.0,40.0)\"><g class=\"shift\"><text x=\"0\" y=\"0\">OneWayShooting</text></g></g><line class=\"v-connector\" x1=\"-30.0\" x2=\"-30.0\" y1=\"41.0\" y2=\"19.0\"/><g class=\"block\"><rect height=\"12.0\" width=\"18.0\" x=\"-69.0\" y=\"54.0\"/><circle cx=\"-70.0\" cy=\"60.0\" r=\"1.0\"/><circle cx=\"-50.0\" cy=\"60.0\" r=\"1.0\"/><text x=\"-60.0\" y=\"60.0\"/></g><g class=\"label\" transform=\"translate(-60.0,60.0)\"><g class=\"shift\"><text x=\"0\" y=\"0\">ForwardShoot</text></g></g><line class=\"v-connector\" x1=\"-50.0\" x2=\"-50.0\" y1=\"61.0\" y2=\"39.0\"/><g class=\"block\"><rect height=\"12.0\" width=\"18.0\" x=\"-69.0\" y=\"74.0\"/><circle cx=\"-70.0\" cy=\"80.0\" r=\"1.0\"/><circle cx=\"-50.0\" cy=\"80.0\" r=\"1.0\"/><text x=\"-60.0\" y=\"80.0\"/></g><g class=\"label\" transform=\"translate(-60.0,80.0)\"><g class=\"shift\"><text x=\"0\" y=\"0\">BackwardShoot</text></g></g><line class=\"v-connector\" x1=\"-50.0\" x2=\"-50.0\" y1=\"81.0\" y2=\"59.0\"/><g class=\"block\"><rect height=\"12.0\" width=\"18.0\" x=\"-29.0\" y=\"94.0\"/><circle cx=\"-30.0\" cy=\"100.0\" r=\"1.0\"/><circle cx=\"-10.0\" cy=\"100.0\" r=\"1.0\"/><text x=\"-20.0\" y=\"100.0\"/></g><g class=\"label\" transform=\"translate(-20.0,100.0)\"><g class=\"shift\"><text x=\"0\" y=\"0\">RandomChoice</text></g></g><line class=\"v-connector\" x1=\"-10.0\" x2=\"-10.0\" y1=\"101.0\" y2=\"19.0\"/><g class=\"block\"><rect height=\"12.0\" width=\"18.0\" x=\"-49.0\" y=\"114.0\"/><circle cx=\"-50.0\" cy=\"120.0\" r=\"1.0\"/><circle cx=\"-30.0\" cy=\"120.0\" r=\"1.0\"/><text x=\"-40.0\" y=\"120.0\"/></g><g class=\"label\" transform=\"translate(-40.0,120.0)\"><g class=\"shift\"><text x=\"0\" y=\"0\">ReplicaExchange</text></g></g><line class=\"v-connector\" x1=\"-30.0\" x2=\"-30.0\" y1=\"121.0\" y2=\"99.0\"/><g class=\"block\"><rect height=\"12.0\" width=\"18.0\" x=\"-49.0\" y=\"134.0\"/><circle cx=\"-50.0\" cy=\"140.0\" r=\"1.0\"/><circle cx=\"-30.0\" cy=\"140.0\" r=\"1.0\"/><text x=\"-40.0\" y=\"140.0\"/></g><g class=\"label\" transform=\"translate(-40.0,140.0)\"><g class=\"shift\"><text x=\"0\" y=\"0\">ReplicaExchange</text></g></g><line class=\"v-connector\" x1=\"-30.0\" x2=\"-30.0\" y1=\"141.0\" y2=\"119.0\"/><g class=\"block\"><rect height=\"12.0\" width=\"18.0\" x=\"-49.0\" y=\"154.0\"/><circle cx=\"-50.0\" cy=\"160.0\" r=\"1.0\"/><circle cx=\"-30.0\" cy=\"160.0\" r=\"1.0\"/><text x=\"-40.0\" y=\"160.0\"/></g><g class=\"label\" transform=\"translate(-40.0,160.0)\"><g class=\"shift\"><text x=\"0\" y=\"0\">ReplicaExchange</text></g></g><line class=\"v-connector\" x1=\"-30.0\" x2=\"-30.0\" y1=\"161.0\" y2=\"139.0\"/><g class=\"block\"><rect height=\"12.0\" width=\"18.0\" x=\"-49.0\" y=\"174.0\"/><circle cx=\"-50.0\" cy=\"180.0\" r=\"1.0\"/><circle cx=\"-30.0\" cy=\"180.0\" r=\"1.0\"/><text x=\"-40.0\" y=\"180.0\"/></g><g class=\"label\" transform=\"translate(-40.0,180.0)\"><g class=\"shift\"><text x=\"0\" y=\"0\">ReplicaExchange</text></g></g><line class=\"v-connector\" x1=\"-30.0\" x2=\"-30.0\" y1=\"181.0\" y2=\"159.0\"/><g class=\"block\"><rect height=\"12.0\" width=\"18.0\" x=\"-49.0\" y=\"194.0\"/><circle cx=\"-50.0\" cy=\"200.0\" r=\"1.0\"/><circle cx=\"-30.0\" cy=\"200.0\" r=\"1.0\"/><text x=\"-40.0\" y=\"200.0\"/></g><g class=\"label\" transform=\"translate(-40.0,200.0)\"><g class=\"shift\"><text x=\"0\" y=\"0\">ReplicaExchange</text></g></g><line class=\"v-connector\" x1=\"-30.0\" x2=\"-30.0\" y1=\"201.0\" y2=\"179.0\"/><g class=\"block\"><rect height=\"12.0\" width=\"18.0\" x=\"-49.0\" y=\"214.0\"/><circle cx=\"-50.0\" cy=\"220.0\" r=\"1.0\"/><circle cx=\"-30.0\" cy=\"220.0\" r=\"1.0\"/><text x=\"-40.0\" y=\"220.0\"/></g><g class=\"label\" transform=\"translate(-40.0,220.0)\"><g class=\"shift\"><text x=\"0\" y=\"0\">ReplicaExchange</text></g></g><line class=\"v-connector\" x1=\"-30.0\" x2=\"-30.0\" y1=\"221.0\" y2=\"199.0\"/><g class=\"block\"><rect height=\"12.0\" width=\"18.0\" x=\"-49.0\" y=\"234.0\"/><circle cx=\"-50.0\" cy=\"240.0\" r=\"1.0\"/><circle cx=\"-30.0\" cy=\"240.0\" r=\"1.0\"/><text x=\"-40.0\" y=\"240.0\"/></g><g class=\"label\" transform=\"translate(-40.0,240.0)\"><g class=\"shift\"><text x=\"0\" y=\"0\">ReplicaExchange</text></g></g><line class=\"v-connector\" x1=\"-30.0\" x2=\"-30.0\" y1=\"241.0\" y2=\"219.0\"/><g class=\"block\"><rect height=\"12.0\" width=\"18.0\" x=\"-49.0\" y=\"254.0\"/><circle cx=\"-50.0\" cy=\"260.0\" r=\"1.0\"/><circle cx=\"-30.0\" cy=\"260.0\" r=\"1.0\"/><text x=\"-40.0\" y=\"260.0\"/></g><g class=\"label\" transform=\"translate(-40.0,260.0)\"><g class=\"shift\"><text x=\"0\" y=\"0\">ReplicaExchange</text></g></g><line class=\"v-connector\" x1=\"-30.0\" x2=\"-30.0\" y1=\"261.0\" y2=\"239.0\"/><g class=\"block\"><rect height=\"12.0\" width=\"18.0\" x=\"-49.0\" y=\"274.0\"/><circle cx=\"-50.0\" cy=\"280.0\" r=\"1.0\"/><circle cx=\"-30.0\" cy=\"280.0\" r=\"1.0\"/><text x=\"-40.0\" y=\"280.0\"/></g><g class=\"label\" transform=\"translate(-40.0,280.0)\"><g class=\"shift\"><text x=\"0\" y=\"0\">ReplicaExchange</text></g></g><line class=\"v-connector\" x1=\"-30.0\" x2=\"-30.0\" y1=\"281.0\" y2=\"259.0\"/><g class=\"block\"><rect height=\"12.0\" width=\"18.0\" x=\"-29.0\" y=\"294.0\"/><circle cx=\"-30.0\" cy=\"300.0\" r=\"1.0\"/><circle cx=\"-10.0\" cy=\"300.0\" r=\"1.0\"/><text x=\"-20.0\" y=\"300.0\"/></g><g class=\"label\" transform=\"translate(-20.0,300.0)\"><g class=\"shift\"><text x=\"0\" y=\"0\">RandomChoice</text></g></g><line class=\"v-connector\" x1=\"-10.0\" x2=\"-10.0\" y1=\"301.0\" y2=\"99.0\"/><g class=\"block\"><rect height=\"12.0\" width=\"18.0\" x=\"-49.0\" y=\"314.0\"/><circle cx=\"-50.0\" cy=\"320.0\" r=\"1.0\"/><circle cx=\"-30.0\" cy=\"320.0\" r=\"1.0\"/><text x=\"-40.0\" y=\"320.0\"/></g><g class=\"label\" transform=\"translate(-40.0,320.0)\"><g class=\"shift\"><text x=\"0\" y=\"0\">OneWayShooting</text></g></g><line class=\"v-connector\" x1=\"-30.0\" x2=\"-30.0\" y1=\"321.0\" y2=\"299.0\"/><g class=\"block\"><rect height=\"12.0\" width=\"18.0\" x=\"-69.0\" y=\"334.0\"/><circle cx=\"-70.0\" cy=\"340.0\" r=\"1.0\"/><circle cx=\"-50.0\" cy=\"340.0\" r=\"1.0\"/><text x=\"-60.0\" y=\"340.0\"/></g><g class=\"label\" transform=\"translate(-60.0,340.0)\"><g class=\"shift\"><text x=\"0\" y=\"0\">ForwardShoot</text></g></g><line class=\"v-connector\" x1=\"-50.0\" x2=\"-50.0\" y1=\"341.0\" y2=\"319.0\"/><g class=\"block\"><rect height=\"12.0\" width=\"18.0\" x=\"-69.0\" y=\"354.0\"/><circle cx=\"-70.0\" cy=\"360.0\" r=\"1.0\"/><circle cx=\"-50.0\" cy=\"360.0\" r=\"1.0\"/><text x=\"-60.0\" y=\"360.0\"/></g><g class=\"label\" transform=\"translate(-60.0,360.0)\"><g class=\"shift\"><text x=\"0\" y=\"0\">BackwardShoot</text></g></g><line class=\"v-connector\" x1=\"-50.0\" x2=\"-50.0\" y1=\"361.0\" y2=\"339.0\"/><g class=\"block\"><rect height=\"12.0\" width=\"18.0\" x=\"-49.0\" y=\"374.0\"/><circle cx=\"-50.0\" cy=\"380.0\" r=\"1.0\"/><circle cx=\"-30.0\" cy=\"380.0\" r=\"1.0\"/><text x=\"-40.0\" y=\"380.0\"/></g><g class=\"label\" transform=\"translate(-40.0,380.0)\"><g class=\"shift\"><text x=\"0\" y=\"0\">OneWayShooting</text></g></g><line class=\"v-connector\" x1=\"-30.0\" x2=\"-30.0\" y1=\"381.0\" y2=\"319.0\"/><g class=\"block\"><rect height=\"12.0\" width=\"18.0\" x=\"-69.0\" y=\"394.0\"/><circle cx=\"-70.0\" cy=\"400.0\" r=\"1.0\"/><circle cx=\"-50.0\" cy=\"400.0\" r=\"1.0\"/><text x=\"-60.0\" y=\"400.0\"/></g><g class=\"label\" transform=\"translate(-60.0,400.0)\"><g class=\"shift\"><text x=\"0\" y=\"0\">ForwardShoot</text></g></g><line class=\"v-connector\" x1=\"-50.0\" x2=\"-50.0\" y1=\"401.0\" y2=\"379.0\"/><g class=\"block\"><rect height=\"12.0\" width=\"18.0\" x=\"-69.0\" y=\"414.0\"/><circle cx=\"-70.0\" cy=\"420.0\" r=\"1.0\"/><circle cx=\"-50.0\" cy=\"420.0\" r=\"1.0\"/><text x=\"-60.0\" y=\"420.0\"/></g><g class=\"label\" transform=\"translate(-60.0,420.0)\"><g class=\"shift\"><text x=\"0\" y=\"0\">BackwardShoot</text></g></g><line class=\"v-connector\" x1=\"-50.0\" x2=\"-50.0\" y1=\"421.0\" y2=\"399.0\"/><g class=\"block\"><rect height=\"12.0\" width=\"18.0\" x=\"-49.0\" y=\"434.0\"/><circle cx=\"-50.0\" cy=\"440.0\" r=\"1.0\"/><circle cx=\"-30.0\" cy=\"440.0\" r=\"1.0\"/><text x=\"-40.0\" y=\"440.0\"/></g><g class=\"label\" transform=\"translate(-40.0,440.0)\"><g class=\"shift\"><text x=\"0\" y=\"0\">OneWayShooting</text></g></g><line class=\"v-connector\" x1=\"-30.0\" x2=\"-30.0\" y1=\"441.0\" y2=\"379.0\"/><g class=\"block\"><rect height=\"12.0\" width=\"18.0\" x=\"-69.0\" y=\"454.0\"/><circle cx=\"-70.0\" cy=\"460.0\" r=\"1.0\"/><circle cx=\"-50.0\" cy=\"460.0\" r=\"1.0\"/><text x=\"-60.0\" y=\"460.0\"/></g><g class=\"label\" transform=\"translate(-60.0,460.0)\"><g class=\"shift\"><text x=\"0\" y=\"0\">ForwardShoot</text></g></g><line class=\"v-connector\" x1=\"-50.0\" x2=\"-50.0\" y1=\"461.0\" y2=\"439.0\"/><g class=\"block\"><rect height=\"12.0\" width=\"18.0\" x=\"-69.0\" y=\"474.0\"/><circle cx=\"-70.0\" cy=\"480.0\" r=\"1.0\"/><circle cx=\"-50.0\" cy=\"480.0\" r=\"1.0\"/><text x=\"-60.0\" y=\"480.0\"/></g><g class=\"label\" transform=\"translate(-60.0,480.0)\"><g class=\"shift\"><text x=\"0\" y=\"0\">BackwardShoot</text></g></g><line class=\"v-connector\" x1=\"-50.0\" x2=\"-50.0\" y1=\"481.0\" y2=\"459.0\"/><g class=\"block\"><rect height=\"12.0\" width=\"18.0\" x=\"-49.0\" y=\"494.0\"/><circle cx=\"-50.0\" cy=\"500.0\" r=\"1.0\"/><circle cx=\"-30.0\" cy=\"500.0\" r=\"1.0\"/><text x=\"-40.0\" y=\"500.0\"/></g><g class=\"label\" transform=\"translate(-40.0,500.0)\"><g class=\"shift\"><text x=\"0\" y=\"0\">OneWayShooting</text></g></g><line class=\"v-connector\" x1=\"-30.0\" x2=\"-30.0\" y1=\"501.0\" y2=\"439.0\"/><g class=\"block\"><rect height=\"12.0\" width=\"18.0\" x=\"-69.0\" y=\"514.0\"/><circle cx=\"-70.0\" cy=\"520.0\" r=\"1.0\"/><circle cx=\"-50.0\" cy=\"520.0\" r=\"1.0\"/><text x=\"-60.0\" y=\"520.0\"/></g><g class=\"label\" transform=\"translate(-60.0,520.0)\"><g class=\"shift\"><text x=\"0\" y=\"0\">ForwardShoot</text></g></g><line class=\"v-connector\" x1=\"-50.0\" x2=\"-50.0\" y1=\"521.0\" y2=\"499.0\"/><g class=\"block\"><rect height=\"12.0\" width=\"18.0\" x=\"-69.0\" y=\"534.0\"/><circle cx=\"-70.0\" cy=\"540.0\" r=\"1.0\"/><circle cx=\"-50.0\" cy=\"540.0\" r=\"1.0\"/><text x=\"-60.0\" y=\"540.0\"/></g><g class=\"label\" transform=\"translate(-60.0,540.0)\"><g class=\"shift\"><text x=\"0\" y=\"0\">BackwardShoot</text></g></g><line class=\"v-connector\" x1=\"-50.0\" x2=\"-50.0\" y1=\"541.0\" y2=\"519.0\"/><g class=\"block\"><rect height=\"12.0\" width=\"18.0\" x=\"-49.0\" y=\"554.0\"/><circle cx=\"-50.0\" cy=\"560.0\" r=\"1.0\"/><circle cx=\"-30.0\" cy=\"560.0\" r=\"1.0\"/><text x=\"-40.0\" y=\"560.0\"/></g><g class=\"label\" transform=\"translate(-40.0,560.0)\"><g class=\"shift\"><text x=\"0\" y=\"0\">OneWayShooting</text></g></g><line class=\"v-connector\" x1=\"-30.0\" x2=\"-30.0\" y1=\"561.0\" y2=\"499.0\"/><g class=\"block\"><rect height=\"12.0\" width=\"18.0\" x=\"-69.0\" y=\"574.0\"/><circle cx=\"-70.0\" cy=\"580.0\" r=\"1.0\"/><circle cx=\"-50.0\" cy=\"580.0\" r=\"1.0\"/><text x=\"-60.0\" y=\"580.0\"/></g><g class=\"label\" transform=\"translate(-60.0,580.0)\"><g class=\"shift\"><text x=\"0\" y=\"0\">ForwardShoot</text></g></g><line class=\"v-connector\" x1=\"-50.0\" x2=\"-50.0\" y1=\"581.0\" y2=\"559.0\"/><g class=\"block\"><rect height=\"12.0\" width=\"18.0\" x=\"-69.0\" y=\"594.0\"/><circle cx=\"-70.0\" cy=\"600.0\" r=\"1.0\"/><circle cx=\"-50.0\" cy=\"600.0\" r=\"1.0\"/><text x=\"-60.0\" y=\"600.0\"/></g><g class=\"label\" transform=\"translate(-60.0,600.0)\"><g class=\"shift\"><text x=\"0\" y=\"0\">BackwardShoot</text></g></g><line class=\"v-connector\" x1=\"-50.0\" x2=\"-50.0\" y1=\"601.0\" y2=\"579.0\"/><g class=\"block\"><rect height=\"12.0\" width=\"18.0\" x=\"-49.0\" y=\"614.0\"/><circle cx=\"-50.0\" cy=\"620.0\" r=\"1.0\"/><circle cx=\"-30.0\" cy=\"620.0\" r=\"1.0\"/><text x=\"-40.0\" y=\"620.0\"/></g><g class=\"label\" transform=\"translate(-40.0,620.0)\"><g class=\"shift\"><text x=\"0\" y=\"0\">OneWayShooting</text></g></g><line class=\"v-connector\" x1=\"-30.0\" x2=\"-30.0\" y1=\"621.0\" y2=\"559.0\"/><g class=\"block\"><rect height=\"12.0\" width=\"18.0\" x=\"-69.0\" y=\"634.0\"/><circle cx=\"-70.0\" cy=\"640.0\" r=\"1.0\"/><circle cx=\"-50.0\" cy=\"640.0\" r=\"1.0\"/><text x=\"-60.0\" y=\"640.0\"/></g><g class=\"label\" transform=\"translate(-60.0,640.0)\"><g class=\"shift\"><text x=\"0\" y=\"0\">ForwardShoot</text></g></g><line class=\"v-connector\" x1=\"-50.0\" x2=\"-50.0\" y1=\"641.0\" y2=\"619.0\"/><g class=\"block\"><rect height=\"12.0\" width=\"18.0\" x=\"-69.0\" y=\"654.0\"/><circle cx=\"-70.0\" cy=\"660.0\" r=\"1.0\"/><circle cx=\"-50.0\" cy=\"660.0\" r=\"1.0\"/><text x=\"-60.0\" y=\"660.0\"/></g><g class=\"label\" transform=\"translate(-60.0,660.0)\"><g class=\"shift\"><text x=\"0\" y=\"0\">BackwardShoot</text></g></g><line class=\"v-connector\" x1=\"-50.0\" x2=\"-50.0\" y1=\"661.0\" y2=\"639.0\"/><g class=\"block\"><rect height=\"12.0\" width=\"18.0\" x=\"-49.0\" y=\"674.0\"/><circle cx=\"-50.0\" cy=\"680.0\" r=\"1.0\"/><circle cx=\"-30.0\" cy=\"680.0\" r=\"1.0\"/><text x=\"-40.0\" y=\"680.0\"/></g><g class=\"label\" transform=\"translate(-40.0,680.0)\"><g class=\"shift\"><text x=\"0\" y=\"0\">OneWayShooting</text></g></g><line class=\"v-connector\" x1=\"-30.0\" x2=\"-30.0\" y1=\"681.0\" y2=\"619.0\"/><g class=\"block\"><rect height=\"12.0\" width=\"18.0\" x=\"-69.0\" y=\"694.0\"/><circle cx=\"-70.0\" cy=\"700.0\" r=\"1.0\"/><circle cx=\"-50.0\" cy=\"700.0\" r=\"1.0\"/><text x=\"-60.0\" y=\"700.0\"/></g><g class=\"label\" transform=\"translate(-60.0,700.0)\"><g class=\"shift\"><text x=\"0\" y=\"0\">ForwardShoot</text></g></g><line class=\"v-connector\" x1=\"-50.0\" x2=\"-50.0\" y1=\"701.0\" y2=\"679.0\"/><g class=\"block\"><rect height=\"12.0\" width=\"18.0\" x=\"-69.0\" y=\"714.0\"/><circle cx=\"-70.0\" cy=\"720.0\" r=\"1.0\"/><circle cx=\"-50.0\" cy=\"720.0\" r=\"1.0\"/><text x=\"-60.0\" y=\"720.0\"/></g><g class=\"label\" transform=\"translate(-60.0,720.0)\"><g class=\"shift\"><text x=\"0\" y=\"0\">BackwardShoot</text></g></g><line class=\"v-connector\" x1=\"-50.0\" x2=\"-50.0\" y1=\"721.0\" y2=\"699.0\"/><g class=\"block\"><rect height=\"12.0\" width=\"18.0\" x=\"-49.0\" y=\"734.0\"/><circle cx=\"-50.0\" cy=\"740.0\" r=\"1.0\"/><circle cx=\"-30.0\" cy=\"740.0\" r=\"1.0\"/><text x=\"-40.0\" y=\"740.0\"/></g><g class=\"label\" transform=\"translate(-40.0,740.0)\"><g class=\"shift\"><text x=\"0\" y=\"0\">OneWayShooting</text></g></g><line class=\"v-connector\" x1=\"-30.0\" x2=\"-30.0\" y1=\"741.0\" y2=\"679.0\"/><g class=\"block\"><rect height=\"12.0\" width=\"18.0\" x=\"-69.0\" y=\"754.0\"/><circle cx=\"-70.0\" cy=\"760.0\" r=\"1.0\"/><circle cx=\"-50.0\" cy=\"760.0\" r=\"1.0\"/><text x=\"-60.0\" y=\"760.0\"/></g><g class=\"label\" transform=\"translate(-60.0,760.0)\"><g class=\"shift\"><text x=\"0\" y=\"0\">ForwardShoot</text></g></g><line class=\"v-connector\" x1=\"-50.0\" x2=\"-50.0\" y1=\"761.0\" y2=\"739.0\"/><g class=\"block\"><rect height=\"12.0\" width=\"18.0\" x=\"-69.0\" y=\"774.0\"/><circle cx=\"-70.0\" cy=\"780.0\" r=\"1.0\"/><circle cx=\"-50.0\" cy=\"780.0\" r=\"1.0\"/><text x=\"-60.0\" y=\"780.0\"/></g><g class=\"label\" transform=\"translate(-60.0,780.0)\"><g class=\"shift\"><text x=\"0\" y=\"0\">BackwardShoot</text></g></g><line class=\"v-connector\" x1=\"-50.0\" x2=\"-50.0\" y1=\"781.0\" y2=\"759.0\"/><g class=\"block\"><rect height=\"12.0\" width=\"18.0\" x=\"-49.0\" y=\"794.0\"/><circle cx=\"-50.0\" cy=\"800.0\" r=\"1.0\"/><circle cx=\"-30.0\" cy=\"800.0\" r=\"1.0\"/><text x=\"-40.0\" y=\"800.0\"/></g><g class=\"label\" transform=\"translate(-40.0,800.0)\"><g class=\"shift\"><text x=\"0\" y=\"0\">OneWayShooting</text></g></g><line class=\"v-connector\" x1=\"-30.0\" x2=\"-30.0\" y1=\"801.0\" y2=\"739.0\"/><g class=\"block\"><rect height=\"12.0\" width=\"18.0\" x=\"-69.0\" y=\"814.0\"/><circle cx=\"-70.0\" cy=\"820.0\" r=\"1.0\"/><circle cx=\"-50.0\" cy=\"820.0\" r=\"1.0\"/><text x=\"-60.0\" y=\"820.0\"/></g><g class=\"label\" transform=\"translate(-60.0,820.0)\"><g class=\"shift\"><text x=\"0\" y=\"0\">ForwardShoot</text></g></g><line class=\"v-connector\" x1=\"-50.0\" x2=\"-50.0\" y1=\"821.0\" y2=\"799.0\"/><g class=\"block\"><rect height=\"12.0\" width=\"18.0\" x=\"-69.0\" y=\"834.0\"/><circle cx=\"-70.0\" cy=\"840.0\" r=\"1.0\"/><circle cx=\"-50.0\" cy=\"840.0\" r=\"1.0\"/><text x=\"-60.0\" y=\"840.0\"/></g><g class=\"label\" transform=\"translate(-60.0,840.0)\"><g class=\"shift\"><text x=\"0\" y=\"0\">BackwardShoot</text></g></g><line class=\"v-connector\" x1=\"-50.0\" x2=\"-50.0\" y1=\"841.0\" y2=\"819.0\"/><g class=\"block\"><rect height=\"12.0\" width=\"18.0\" x=\"-29.0\" y=\"854.0\"/><circle cx=\"-30.0\" cy=\"860.0\" r=\"1.0\"/><circle cx=\"-10.0\" cy=\"860.0\" r=\"1.0\"/><text x=\"-20.0\" y=\"860.0\"/></g><g class=\"label\" transform=\"translate(-20.0,860.0)\"><g class=\"shift\"><text x=\"0\" y=\"0\">RandomChoice</text></g></g><line class=\"v-connector\" x1=\"-10.0\" x2=\"-10.0\" y1=\"861.0\" y2=\"299.0\"/><g class=\"block\"><rect height=\"12.0\" width=\"18.0\" x=\"-49.0\" y=\"874.0\"/><circle cx=\"-50.0\" cy=\"880.0\" r=\"1.0\"/><circle cx=\"-30.0\" cy=\"880.0\" r=\"1.0\"/><text x=\"-40.0\" y=\"880.0\"/></g><g class=\"label\" transform=\"translate(-40.0,880.0)\"><g class=\"shift\"><text x=\"0\" y=\"0\">Minus</text></g></g><line class=\"v-connector\" x1=\"-30.0\" x2=\"-30.0\" y1=\"881.0\" y2=\"859.0\"/><g class=\"block\"><rect height=\"12.0\" width=\"18.0\" x=\"-49.0\" y=\"894.0\"/><circle cx=\"-50.0\" cy=\"900.0\" r=\"1.0\"/><circle cx=\"-30.0\" cy=\"900.0\" r=\"1.0\"/><text x=\"-40.0\" y=\"900.0\"/></g><g class=\"label\" transform=\"translate(-40.0,900.0)\"><g class=\"shift\"><text x=\"0\" y=\"0\">Minus</text></g></g><line class=\"v-connector\" x1=\"-30.0\" x2=\"-30.0\" y1=\"901.0\" y2=\"879.0\"/><g class=\"block\"><rect height=\"12.0\" width=\"18.0\" x=\"-49.0\" y=\"914.0\"/><circle cx=\"-50.0\" cy=\"920.0\" r=\"1.0\"/><circle cx=\"-30.0\" cy=\"920.0\" r=\"1.0\"/><text x=\"-40.0\" y=\"920.0\"/></g><g class=\"label\" transform=\"translate(-40.0,920.0)\"><g class=\"shift\"><text x=\"0\" y=\"0\">Minus</text></g></g><line class=\"v-connector\" x1=\"-30.0\" x2=\"-30.0\" y1=\"921.0\" y2=\"899.0\"/><g class=\"block\"><rect height=\"12.0\" width=\"18.0\" x=\"-29.0\" y=\"934.0\"/><circle cx=\"-30.0\" cy=\"940.0\" r=\"1.0\"/><circle cx=\"-10.0\" cy=\"940.0\" r=\"1.0\"/><text x=\"-20.0\" y=\"940.0\"/></g><g class=\"label\" transform=\"translate(-20.0,940.0)\"><g class=\"shift\"><text x=\"0\" y=\"0\">RandomChoice</text></g></g><line class=\"v-connector\" x1=\"-10.0\" x2=\"-10.0\" y1=\"941.0\" y2=\"859.0\"/><g class=\"block\"><rect height=\"12.0\" width=\"18.0\" x=\"-49.0\" y=\"954.0\"/><circle cx=\"-50.0\" cy=\"960.0\" r=\"1.0\"/><circle cx=\"-30.0\" cy=\"960.0\" r=\"1.0\"/><text x=\"-40.0\" y=\"960.0\"/></g><g class=\"label\" transform=\"translate(-40.0,960.0)\"><g class=\"shift\"><text x=\"0\" y=\"0\">PathReversal</text></g></g><line class=\"v-connector\" x1=\"-30.0\" x2=\"-30.0\" y1=\"961.0\" y2=\"939.0\"/><g class=\"block\"><rect height=\"12.0\" width=\"18.0\" x=\"-49.0\" y=\"974.0\"/><circle cx=\"-50.0\" cy=\"980.0\" r=\"1.0\"/><circle cx=\"-30.0\" cy=\"980.0\" r=\"1.0\"/><text x=\"-40.0\" y=\"980.0\"/></g><g class=\"label\" transform=\"translate(-40.0,980.0)\"><g class=\"shift\"><text x=\"0\" y=\"0\">PathReversal</text></g></g><line class=\"v-connector\" x1=\"-30.0\" x2=\"-30.0\" y1=\"981.0\" y2=\"959.0\"/><g class=\"block\"><rect height=\"12.0\" width=\"18.0\" x=\"-49.0\" y=\"994.0\"/><circle cx=\"-50.0\" cy=\"1000.0\" r=\"1.0\"/><circle cx=\"-30.0\" cy=\"1000.0\" r=\"1.0\"/><text x=\"-40.0\" y=\"1000.0\"/></g><g class=\"label\" transform=\"translate(-40.0,1000.0)\"><g class=\"shift\"><text x=\"0\" y=\"0\">PathReversal</text></g></g><line class=\"v-connector\" x1=\"-30.0\" x2=\"-30.0\" y1=\"1001.0\" y2=\"979.0\"/><g class=\"block\"><rect height=\"12.0\" width=\"18.0\" x=\"-49.0\" y=\"1014.0\"/><circle cx=\"-50.0\" cy=\"1020.0\" r=\"1.0\"/><circle cx=\"-30.0\" cy=\"1020.0\" r=\"1.0\"/><text x=\"-40.0\" y=\"1020.0\"/></g><g class=\"label\" transform=\"translate(-40.0,1020.0)\"><g class=\"shift\"><text x=\"0\" y=\"0\">PathReversal</text></g></g><line class=\"v-connector\" x1=\"-30.0\" x2=\"-30.0\" y1=\"1021.0\" y2=\"999.0\"/><g class=\"block\"><rect height=\"12.0\" width=\"18.0\" x=\"-49.0\" y=\"1034.0\"/><circle cx=\"-50.0\" cy=\"1040.0\" r=\"1.0\"/><circle cx=\"-30.0\" cy=\"1040.0\" r=\"1.0\"/><text x=\"-40.0\" y=\"1040.0\"/></g><g class=\"label\" transform=\"translate(-40.0,1040.0)\"><g class=\"shift\"><text x=\"0\" y=\"0\">PathReversal</text></g></g><line class=\"v-connector\" x1=\"-30.0\" x2=\"-30.0\" y1=\"1041.0\" y2=\"1019.0\"/><g class=\"block\"><rect height=\"12.0\" width=\"18.0\" x=\"-49.0\" y=\"1054.0\"/><circle cx=\"-50.0\" cy=\"1060.0\" r=\"1.0\"/><circle cx=\"-30.0\" cy=\"1060.0\" r=\"1.0\"/><text x=\"-40.0\" y=\"1060.0\"/></g><g class=\"label\" transform=\"translate(-40.0,1060.0)\"><g class=\"shift\"><text x=\"0\" y=\"0\">PathReversal</text></g></g><line class=\"v-connector\" x1=\"-30.0\" x2=\"-30.0\" y1=\"1061.0\" y2=\"1039.0\"/><g class=\"block\"><rect height=\"12.0\" width=\"18.0\" x=\"-49.0\" y=\"1074.0\"/><circle cx=\"-50.0\" cy=\"1080.0\" r=\"1.0\"/><circle cx=\"-30.0\" cy=\"1080.0\" r=\"1.0\"/><text x=\"-40.0\" y=\"1080.0\"/></g><g class=\"label\" transform=\"translate(-40.0,1080.0)\"><g class=\"shift\"><text x=\"0\" y=\"0\">PathReversal</text></g></g><line class=\"v-connector\" x1=\"-30.0\" x2=\"-30.0\" y1=\"1081.0\" y2=\"1059.0\"/><g class=\"block\"><rect height=\"12.0\" width=\"18.0\" x=\"-49.0\" y=\"1094.0\"/><circle cx=\"-50.0\" cy=\"1100.0\" r=\"1.0\"/><circle cx=\"-30.0\" cy=\"1100.0\" r=\"1.0\"/><text x=\"-40.0\" y=\"1100.0\"/></g><g class=\"label\" transform=\"translate(-40.0,1100.0)\"><g class=\"shift\"><text x=\"0\" y=\"0\">PathReversal</text></g></g><line class=\"v-connector\" x1=\"-30.0\" x2=\"-30.0\" y1=\"1101.0\" y2=\"1079.0\"/><g class=\"block\"><rect height=\"12.0\" width=\"18.0\" x=\"-49.0\" y=\"1114.0\"/><circle cx=\"-50.0\" cy=\"1120.0\" r=\"1.0\"/><circle cx=\"-30.0\" cy=\"1120.0\" r=\"1.0\"/><text x=\"-40.0\" y=\"1120.0\"/></g><g class=\"label\" transform=\"translate(-40.0,1120.0)\"><g class=\"shift\"><text x=\"0\" y=\"0\">PathReversal</text></g></g><line class=\"v-connector\" x1=\"-30.0\" x2=\"-30.0\" y1=\"1121.0\" y2=\"1099.0\"/><g class=\"block\"><rect height=\"12.0\" width=\"18.0\" x=\"-49.0\" y=\"1134.0\"/><circle cx=\"-50.0\" cy=\"1140.0\" r=\"1.0\"/><circle cx=\"-30.0\" cy=\"1140.0\" r=\"1.0\"/><text x=\"-40.0\" y=\"1140.0\"/></g><g class=\"label\" transform=\"translate(-40.0,1140.0)\"><g class=\"shift\"><text x=\"0\" y=\"0\">PathReversal</text></g></g><line class=\"v-connector\" x1=\"-30.0\" x2=\"-30.0\" y1=\"1141.0\" y2=\"1119.0\"/></g><g class=\"ensembles\" transform=\"translate(50,0)\"><g class=\"head label\" transform=\"translate(0.0,-20.0)\"><g class=\"shift\"><text x=\"0\" y=\"0\">[A] I'face 1</text></g></g><line class=\"v-hook\" x1=\"0.0\" x2=\"0.0\" y1=\"-13.0\" y2=\"1153.0\"/><g class=\"head label\" transform=\"translate(20.0,-20.0)\"><g class=\"shift\"><text x=\"0\" y=\"0\">[B] [TISEnsemble]</text></g></g><line class=\"v-hook\" x1=\"20.0\" x2=\"20.0\" y1=\"-13.0\" y2=\"1153.0\"/><g class=\"head label\" transform=\"translate(40.0,-20.0)\"><g class=\"shift\"><text x=\"0\" y=\"0\">[C] [TISEnsemble]</text></g></g><line class=\"v-hook\" x1=\"40.0\" x2=\"40.0\" y1=\"-13.0\" y2=\"1153.0\"/><g class=\"head label\" transform=\"translate(60.0,-20.0)\"><g class=\"shift\"><text x=\"0\" y=\"0\">[D] I'face 1</text></g></g><line class=\"v-hook\" x1=\"60.0\" x2=\"60.0\" y1=\"-13.0\" y2=\"1153.0\"/><g class=\"head label\" transform=\"translate(80.0,-20.0)\"><g class=\"shift\"><text x=\"0\" y=\"0\">[E] [TISEnsemble]</text></g></g><line class=\"v-hook\" x1=\"80.0\" x2=\"80.0\" y1=\"-13.0\" y2=\"1153.0\"/><g class=\"head label\" transform=\"translate(100.0,-20.0)\"><g class=\"shift\"><text x=\"0\" y=\"0\">[F] [UnionEnsemble]</text></g></g><line class=\"v-hook\" x1=\"100.0\" x2=\"100.0\" y1=\"-13.0\" y2=\"1153.0\"/><g class=\"head label\" transform=\"translate(120.0,-20.0)\"><g class=\"shift\"><text x=\"0\" y=\"0\">[G] I'face 2</text></g></g><line class=\"v-hook\" x1=\"120.0\" x2=\"120.0\" y1=\"-13.0\" y2=\"1153.0\"/><g class=\"head label\" transform=\"translate(140.0,-20.0)\"><g class=\"shift\"><text x=\"0\" y=\"0\">[H] I'face 0</text></g></g><line class=\"v-hook\" x1=\"140.0\" x2=\"140.0\" y1=\"-13.0\" y2=\"1153.0\"/><g class=\"head label\" transform=\"translate(160.0,-20.0)\"><g class=\"shift\"><text x=\"0\" y=\"0\">[I] [MinusInterfaceEnsemble]</text></g></g><line class=\"v-hook\" x1=\"160.0\" x2=\"160.0\" y1=\"-13.0\" y2=\"1153.0\"/><g class=\"head label\" transform=\"translate(180.0,-20.0)\"><g class=\"shift\"><text x=\"0\" y=\"0\">[J] [MinusInterfaceEnsemble]</text></g></g><line class=\"v-hook\" x1=\"180.0\" x2=\"180.0\" y1=\"-13.0\" y2=\"1153.0\"/><g class=\"head label\" transform=\"translate(200.0,-20.0)\"><g class=\"shift\"><text x=\"0\" y=\"0\">[K] I'face 0</text></g></g><line class=\"v-hook\" x1=\"200.0\" x2=\"200.0\" y1=\"-13.0\" y2=\"1153.0\"/><g class=\"head label\" transform=\"translate(220.0,-20.0)\"><g class=\"shift\"><text x=\"0\" y=\"0\">[L] I'face 0</text></g></g><line class=\"v-hook\" x1=\"220.0\" x2=\"220.0\" y1=\"-13.0\" y2=\"1153.0\"/><g class=\"head label\" transform=\"translate(240.0,-20.0)\"><g class=\"shift\"><text x=\"0\" y=\"0\">[M] I'face 2</text></g></g><line class=\"v-hook\" x1=\"240.0\" x2=\"240.0\" y1=\"-13.0\" y2=\"1153.0\"/><g class=\"head label\" transform=\"translate(260.0,-20.0)\"><g class=\"shift\"><text x=\"0\" y=\"0\">[N] I'face 1</text></g></g><line class=\"v-hook\" x1=\"260.0\" x2=\"260.0\" y1=\"-13.0\" y2=\"1153.0\"/><g class=\"head label\" transform=\"translate(280.0,-20.0)\"><g class=\"shift\"><text x=\"0\" y=\"0\">[O] I'face 2</text></g></g><line class=\"v-hook\" x1=\"280.0\" x2=\"280.0\" y1=\"-13.0\" y2=\"1153.0\"/><g class=\"head label\" transform=\"translate(300.0,-20.0)\"><g class=\"shift\"><text x=\"0\" y=\"0\">[P] [MinusInterfaceEnsemble]</text></g></g><line class=\"v-hook\" x1=\"300.0\" x2=\"300.0\" y1=\"-13.0\" y2=\"1153.0\"/><g class=\"input connector block\"><rect height=\"12.0\" width=\"18.0\" x=\"-9.0\" y=\"-9.0\"/><circle cx=\"0.0\" cy=\"-9.0\" r=\"1.0\"/><circle cx=\"0.0\" cy=\"3.0\" r=\"1.0\"/><text x=\"0.0\" y=\"-3.0\"/></g><g class=\"output connector block\"><rect height=\"12.0\" width=\"18.0\" x=\"-9.0\" y=\"-3.0\"/><circle cx=\"0.0\" cy=\"-3.0\" r=\"1.0\"/><circle cx=\"0.0\" cy=\"9.0\" r=\"1.0\"/><text x=\"0.0\" y=\"3.0\"/></g><g class=\"unknown connector block\"><rect height=\"12.0\" width=\"18.0\" x=\"-9.0\" y=\"-6.0\"/><circle cx=\"0.0\" cy=\"-6.0\" r=\"1.0\"/><circle cx=\"0.0\" cy=\"6.0\" r=\"1.0\"/><text x=\"0.0\" y=\"0.0\">A</text></g><g class=\"input connector block\"><rect height=\"12.0\" width=\"18.0\" x=\"51.0\" y=\"-9.0\"/><circle cx=\"60.0\" cy=\"-9.0\" r=\"1.0\"/><circle cx=\"60.0\" cy=\"3.0\" r=\"1.0\"/><text x=\"60.0\" y=\"-3.0\"/></g><g class=\"output connector block\"><rect height=\"12.0\" width=\"18.0\" x=\"51.0\" y=\"-3.0\"/><circle cx=\"60.0\" cy=\"-3.0\" r=\"1.0\"/><circle cx=\"60.0\" cy=\"9.0\" r=\"1.0\"/><text x=\"60.0\" y=\"3.0\"/></g><g class=\"unknown connector block\"><rect height=\"12.0\" width=\"18.0\" x=\"51.0\" y=\"-6.0\"/><circle cx=\"60.0\" cy=\"-6.0\" r=\"1.0\"/><circle cx=\"60.0\" cy=\"6.0\" r=\"1.0\"/><text x=\"60.0\" y=\"0.0\">D</text></g><g class=\"input connector block\"><rect height=\"12.0\" width=\"18.0\" x=\"91.0\" y=\"-9.0\"/><circle cx=\"100.0\" cy=\"-9.0\" r=\"1.0\"/><circle cx=\"100.0\" cy=\"3.0\" r=\"1.0\"/><text x=\"100.0\" y=\"-3.0\"/></g><g class=\"output connector block\"><rect height=\"12.0\" width=\"18.0\" x=\"91.0\" y=\"-3.0\"/><circle cx=\"100.0\" cy=\"-3.0\" r=\"1.0\"/><circle cx=\"100.0\" cy=\"9.0\" r=\"1.0\"/><text x=\"100.0\" y=\"3.0\"/></g><g class=\"unknown connector block\"><rect height=\"12.0\" width=\"18.0\" x=\"91.0\" y=\"-6.0\"/><circle cx=\"100.0\" cy=\"-6.0\" r=\"1.0\"/><circle cx=\"100.0\" cy=\"6.0\" r=\"1.0\"/><text x=\"100.0\" y=\"0.0\">F</text></g><g class=\"input connector block\"><rect height=\"12.0\" width=\"18.0\" x=\"111.0\" y=\"-9.0\"/><circle cx=\"120.0\" cy=\"-9.0\" r=\"1.0\"/><circle cx=\"120.0\" cy=\"3.0\" r=\"1.0\"/><text x=\"120.0\" y=\"-3.0\"/></g><g class=\"output connector block\"><rect height=\"12.0\" width=\"18.0\" x=\"111.0\" y=\"-3.0\"/><circle cx=\"120.0\" cy=\"-3.0\" r=\"1.0\"/><circle cx=\"120.0\" cy=\"9.0\" r=\"1.0\"/><text x=\"120.0\" y=\"3.0\"/></g><g class=\"unknown connector block\"><rect height=\"12.0\" width=\"18.0\" x=\"111.0\" y=\"-6.0\"/><circle cx=\"120.0\" cy=\"-6.0\" r=\"1.0\"/><circle cx=\"120.0\" cy=\"6.0\" r=\"1.0\"/><text x=\"120.0\" y=\"0.0\">G</text></g><g class=\"input connector block\"><rect height=\"12.0\" width=\"18.0\" x=\"131.0\" y=\"-9.0\"/><circle cx=\"140.0\" cy=\"-9.0\" r=\"1.0\"/><circle cx=\"140.0\" cy=\"3.0\" r=\"1.0\"/><text x=\"140.0\" y=\"-3.0\"/></g><g class=\"output connector block\"><rect height=\"12.0\" width=\"18.0\" x=\"131.0\" y=\"-3.0\"/><circle cx=\"140.0\" cy=\"-3.0\" r=\"1.0\"/><circle cx=\"140.0\" cy=\"9.0\" r=\"1.0\"/><text x=\"140.0\" y=\"3.0\"/></g><g class=\"unknown connector block\"><rect height=\"12.0\" width=\"18.0\" x=\"131.0\" y=\"-6.0\"/><circle cx=\"140.0\" cy=\"-6.0\" r=\"1.0\"/><circle cx=\"140.0\" cy=\"6.0\" r=\"1.0\"/><text x=\"140.0\" y=\"0.0\">H</text></g><g class=\"input connector block\"><rect height=\"12.0\" width=\"18.0\" x=\"151.0\" y=\"-9.0\"/><circle cx=\"160.0\" cy=\"-9.0\" r=\"1.0\"/><circle cx=\"160.0\" cy=\"3.0\" r=\"1.0\"/><text x=\"160.0\" y=\"-3.0\"/></g><g class=\"output connector block\"><rect height=\"12.0\" width=\"18.0\" x=\"151.0\" y=\"-3.0\"/><circle cx=\"160.0\" cy=\"-3.0\" r=\"1.0\"/><circle cx=\"160.0\" cy=\"9.0\" r=\"1.0\"/><text x=\"160.0\" y=\"3.0\"/></g><g class=\"unknown connector block\"><rect height=\"12.0\" width=\"18.0\" x=\"151.0\" y=\"-6.0\"/><circle cx=\"160.0\" cy=\"-6.0\" r=\"1.0\"/><circle cx=\"160.0\" cy=\"6.0\" r=\"1.0\"/><text x=\"160.0\" y=\"0.0\">I</text></g><g class=\"input connector block\"><rect height=\"12.0\" width=\"18.0\" x=\"171.0\" y=\"-9.0\"/><circle cx=\"180.0\" cy=\"-9.0\" r=\"1.0\"/><circle cx=\"180.0\" cy=\"3.0\" r=\"1.0\"/><text x=\"180.0\" y=\"-3.0\"/></g><g class=\"output connector block\"><rect height=\"12.0\" width=\"18.0\" x=\"171.0\" y=\"-3.0\"/><circle cx=\"180.0\" cy=\"-3.0\" r=\"1.0\"/><circle cx=\"180.0\" cy=\"9.0\" r=\"1.0\"/><text x=\"180.0\" y=\"3.0\"/></g><g class=\"unknown connector block\"><rect height=\"12.0\" width=\"18.0\" x=\"171.0\" y=\"-6.0\"/><circle cx=\"180.0\" cy=\"-6.0\" r=\"1.0\"/><circle cx=\"180.0\" cy=\"6.0\" r=\"1.0\"/><text x=\"180.0\" y=\"0.0\">J</text></g><g class=\"input connector block\"><rect height=\"12.0\" width=\"18.0\" x=\"191.0\" y=\"-9.0\"/><circle cx=\"200.0\" cy=\"-9.0\" r=\"1.0\"/><circle cx=\"200.0\" cy=\"3.0\" r=\"1.0\"/><text x=\"200.0\" y=\"-3.0\"/></g><g class=\"output connector block\"><rect height=\"12.0\" width=\"18.0\" x=\"191.0\" y=\"-3.0\"/><circle cx=\"200.0\" cy=\"-3.0\" r=\"1.0\"/><circle cx=\"200.0\" cy=\"9.0\" r=\"1.0\"/><text x=\"200.0\" y=\"3.0\"/></g><g class=\"unknown connector block\"><rect height=\"12.0\" width=\"18.0\" x=\"191.0\" y=\"-6.0\"/><circle cx=\"200.0\" cy=\"-6.0\" r=\"1.0\"/><circle cx=\"200.0\" cy=\"6.0\" r=\"1.0\"/><text x=\"200.0\" y=\"0.0\">K</text></g><g class=\"input connector block\"><rect height=\"12.0\" width=\"18.0\" x=\"211.0\" y=\"-9.0\"/><circle cx=\"220.0\" cy=\"-9.0\" r=\"1.0\"/><circle cx=\"220.0\" cy=\"3.0\" r=\"1.0\"/><text x=\"220.0\" y=\"-3.0\"/></g><g class=\"output connector block\"><rect height=\"12.0\" width=\"18.0\" x=\"211.0\" y=\"-3.0\"/><circle cx=\"220.0\" cy=\"-3.0\" r=\"1.0\"/><circle cx=\"220.0\" cy=\"9.0\" r=\"1.0\"/><text x=\"220.0\" y=\"3.0\"/></g><g class=\"unknown connector block\"><rect height=\"12.0\" width=\"18.0\" x=\"211.0\" y=\"-6.0\"/><circle cx=\"220.0\" cy=\"-6.0\" r=\"1.0\"/><circle cx=\"220.0\" cy=\"6.0\" r=\"1.0\"/><text x=\"220.0\" y=\"0.0\">L</text></g><g class=\"input connector block\"><rect height=\"12.0\" width=\"18.0\" x=\"231.0\" y=\"-9.0\"/><circle cx=\"240.0\" cy=\"-9.0\" r=\"1.0\"/><circle cx=\"240.0\" cy=\"3.0\" r=\"1.0\"/><text x=\"240.0\" y=\"-3.0\"/></g><g class=\"output connector block\"><rect height=\"12.0\" width=\"18.0\" x=\"231.0\" y=\"-3.0\"/><circle cx=\"240.0\" cy=\"-3.0\" r=\"1.0\"/><circle cx=\"240.0\" cy=\"9.0\" r=\"1.0\"/><text x=\"240.0\" y=\"3.0\"/></g><g class=\"unknown connector block\"><rect height=\"12.0\" width=\"18.0\" x=\"231.0\" y=\"-6.0\"/><circle cx=\"240.0\" cy=\"-6.0\" r=\"1.0\"/><circle cx=\"240.0\" cy=\"6.0\" r=\"1.0\"/><text x=\"240.0\" y=\"0.0\">M</text></g><g class=\"input connector block\"><rect height=\"12.0\" width=\"18.0\" x=\"251.0\" y=\"-9.0\"/><circle cx=\"260.0\" cy=\"-9.0\" r=\"1.0\"/><circle cx=\"260.0\" cy=\"3.0\" r=\"1.0\"/><text x=\"260.0\" y=\"-3.0\"/></g><g class=\"output connector block\"><rect height=\"12.0\" width=\"18.0\" x=\"251.0\" y=\"-3.0\"/><circle cx=\"260.0\" cy=\"-3.0\" r=\"1.0\"/><circle cx=\"260.0\" cy=\"9.0\" r=\"1.0\"/><text x=\"260.0\" y=\"3.0\"/></g><g class=\"unknown connector block\"><rect height=\"12.0\" width=\"18.0\" x=\"251.0\" y=\"-6.0\"/><circle cx=\"260.0\" cy=\"-6.0\" r=\"1.0\"/><circle cx=\"260.0\" cy=\"6.0\" r=\"1.0\"/><text x=\"260.0\" y=\"0.0\">N</text></g><g class=\"input connector block\"><rect height=\"12.0\" width=\"18.0\" x=\"271.0\" y=\"-9.0\"/><circle cx=\"280.0\" cy=\"-9.0\" r=\"1.0\"/><circle cx=\"280.0\" cy=\"3.0\" r=\"1.0\"/><text x=\"280.0\" y=\"-3.0\"/></g><g class=\"output connector block\"><rect height=\"12.0\" width=\"18.0\" x=\"271.0\" y=\"-3.0\"/><circle cx=\"280.0\" cy=\"-3.0\" r=\"1.0\"/><circle cx=\"280.0\" cy=\"9.0\" r=\"1.0\"/><text x=\"280.0\" y=\"3.0\"/></g><g class=\"unknown connector block\"><rect height=\"12.0\" width=\"18.0\" x=\"271.0\" y=\"-6.0\"/><circle cx=\"280.0\" cy=\"-6.0\" r=\"1.0\"/><circle cx=\"280.0\" cy=\"6.0\" r=\"1.0\"/><text x=\"280.0\" y=\"0.0\">O</text></g><g class=\"input connector block\"><rect height=\"12.0\" width=\"18.0\" x=\"291.0\" y=\"-9.0\"/><circle cx=\"300.0\" cy=\"-9.0\" r=\"1.0\"/><circle cx=\"300.0\" cy=\"3.0\" r=\"1.0\"/><text x=\"300.0\" y=\"-3.0\"/></g><g class=\"output connector block\"><rect height=\"12.0\" width=\"18.0\" x=\"291.0\" y=\"-3.0\"/><circle cx=\"300.0\" cy=\"-3.0\" r=\"1.0\"/><circle cx=\"300.0\" cy=\"9.0\" r=\"1.0\"/><text x=\"300.0\" y=\"3.0\"/></g><g class=\"unknown connector block\"><rect height=\"12.0\" width=\"18.0\" x=\"291.0\" y=\"-6.0\"/><circle cx=\"300.0\" cy=\"-6.0\" r=\"1.0\"/><circle cx=\"300.0\" cy=\"6.0\" r=\"1.0\"/><text x=\"300.0\" y=\"0.0\">P</text></g><g class=\"input connector block\"><rect height=\"12.0\" width=\"18.0\" x=\"91.0\" y=\"11.0\"/><circle cx=\"100.0\" cy=\"11.0\" r=\"1.0\"/><circle cx=\"100.0\" cy=\"23.0\" r=\"1.0\"/><text x=\"100.0\" y=\"17.0\"/></g><g class=\"output connector block\"><rect height=\"12.0\" width=\"18.0\" x=\"91.0\" y=\"17.0\"/><circle cx=\"100.0\" cy=\"17.0\" r=\"1.0\"/><circle cx=\"100.0\" cy=\"29.0\" r=\"1.0\"/><text x=\"100.0\" y=\"23.0\"/></g><g class=\"unknown connector block\"><rect height=\"12.0\" width=\"18.0\" x=\"91.0\" y=\"14.0\"/><circle cx=\"100.0\" cy=\"14.0\" r=\"1.0\"/><circle cx=\"100.0\" cy=\"26.0\" r=\"1.0\"/><text x=\"100.0\" y=\"20.0\">F</text></g><g class=\"input connector block\"><rect height=\"12.0\" width=\"18.0\" x=\"91.0\" y=\"31.0\"/><circle cx=\"100.0\" cy=\"31.0\" r=\"1.0\"/><circle cx=\"100.0\" cy=\"43.0\" r=\"1.0\"/><text x=\"100.0\" y=\"37.0\"/></g><g class=\"output connector block\"><rect height=\"12.0\" width=\"18.0\" x=\"91.0\" y=\"37.0\"/><circle cx=\"100.0\" cy=\"37.0\" r=\"1.0\"/><circle cx=\"100.0\" cy=\"49.0\" r=\"1.0\"/><text x=\"100.0\" y=\"43.0\"/></g><g class=\"unknown connector block\"><rect height=\"12.0\" width=\"18.0\" x=\"91.0\" y=\"34.0\"/><circle cx=\"100.0\" cy=\"34.0\" r=\"1.0\"/><circle cx=\"100.0\" cy=\"46.0\" r=\"1.0\"/><text x=\"100.0\" y=\"40.0\">F</text></g><g class=\"input connector block\"><rect height=\"12.0\" width=\"18.0\" x=\"91.0\" y=\"51.0\"/><circle cx=\"100.0\" cy=\"51.0\" r=\"1.0\"/><circle cx=\"100.0\" cy=\"63.0\" r=\"1.0\"/><text x=\"100.0\" y=\"57.0\"/></g><g class=\"output connector block\"><rect height=\"12.0\" width=\"18.0\" x=\"91.0\" y=\"57.0\"/><circle cx=\"100.0\" cy=\"57.0\" r=\"1.0\"/><circle cx=\"100.0\" cy=\"69.0\" r=\"1.0\"/><text x=\"100.0\" y=\"63.0\"/></g><g class=\"unknown connector block\"><rect height=\"12.0\" width=\"18.0\" x=\"91.0\" y=\"54.0\"/><circle cx=\"100.0\" cy=\"54.0\" r=\"1.0\"/><circle cx=\"100.0\" cy=\"66.0\" r=\"1.0\"/><text x=\"100.0\" y=\"60.0\">F</text></g><g class=\"input connector block\"><rect height=\"12.0\" width=\"18.0\" x=\"91.0\" y=\"71.0\"/><circle cx=\"100.0\" cy=\"71.0\" r=\"1.0\"/><circle cx=\"100.0\" cy=\"83.0\" r=\"1.0\"/><text x=\"100.0\" y=\"77.0\"/></g><g class=\"output connector block\"><rect height=\"12.0\" width=\"18.0\" x=\"91.0\" y=\"77.0\"/><circle cx=\"100.0\" cy=\"77.0\" r=\"1.0\"/><circle cx=\"100.0\" cy=\"89.0\" r=\"1.0\"/><text x=\"100.0\" y=\"83.0\"/></g><g class=\"unknown connector block\"><rect height=\"12.0\" width=\"18.0\" x=\"91.0\" y=\"74.0\"/><circle cx=\"100.0\" cy=\"74.0\" r=\"1.0\"/><circle cx=\"100.0\" cy=\"86.0\" r=\"1.0\"/><text x=\"100.0\" y=\"80.0\">F</text></g><g class=\"input connector block\"><rect height=\"12.0\" width=\"18.0\" x=\"-9.0\" y=\"91.0\"/><circle cx=\"0.0\" cy=\"91.0\" r=\"1.0\"/><circle cx=\"0.0\" cy=\"103.0\" r=\"1.0\"/><text x=\"0.0\" y=\"97.0\"/></g><g class=\"output connector block\"><rect height=\"12.0\" width=\"18.0\" x=\"-9.0\" y=\"97.0\"/><circle cx=\"0.0\" cy=\"97.0\" r=\"1.0\"/><circle cx=\"0.0\" cy=\"109.0\" r=\"1.0\"/><text x=\"0.0\" y=\"103.0\"/></g><g class=\"unknown connector block\"><rect height=\"12.0\" width=\"18.0\" x=\"-9.0\" y=\"94.0\"/><circle cx=\"0.0\" cy=\"94.0\" r=\"1.0\"/><circle cx=\"0.0\" cy=\"106.0\" r=\"1.0\"/><text x=\"0.0\" y=\"100.0\">A</text></g><g class=\"input connector block\"><rect height=\"12.0\" width=\"18.0\" x=\"51.0\" y=\"91.0\"/><circle cx=\"60.0\" cy=\"91.0\" r=\"1.0\"/><circle cx=\"60.0\" cy=\"103.0\" r=\"1.0\"/><text x=\"60.0\" y=\"97.0\"/></g><g class=\"output connector block\"><rect height=\"12.0\" width=\"18.0\" x=\"51.0\" y=\"97.0\"/><circle cx=\"60.0\" cy=\"97.0\" r=\"1.0\"/><circle cx=\"60.0\" cy=\"109.0\" r=\"1.0\"/><text x=\"60.0\" y=\"103.0\"/></g><g class=\"unknown connector block\"><rect height=\"12.0\" width=\"18.0\" x=\"51.0\" y=\"94.0\"/><circle cx=\"60.0\" cy=\"94.0\" r=\"1.0\"/><circle cx=\"60.0\" cy=\"106.0\" r=\"1.0\"/><text x=\"60.0\" y=\"100.0\">D</text></g><g class=\"input connector block\"><rect height=\"12.0\" width=\"18.0\" x=\"91.0\" y=\"91.0\"/><circle cx=\"100.0\" cy=\"91.0\" r=\"1.0\"/><circle cx=\"100.0\" cy=\"103.0\" r=\"1.0\"/><text x=\"100.0\" y=\"97.0\"/></g><g class=\"output connector block\"><rect height=\"12.0\" width=\"18.0\" x=\"91.0\" y=\"97.0\"/><circle cx=\"100.0\" cy=\"97.0\" r=\"1.0\"/><circle cx=\"100.0\" cy=\"109.0\" r=\"1.0\"/><text x=\"100.0\" y=\"103.0\"/></g><g class=\"unknown connector block\"><rect height=\"12.0\" width=\"18.0\" x=\"91.0\" y=\"94.0\"/><circle cx=\"100.0\" cy=\"94.0\" r=\"1.0\"/><circle cx=\"100.0\" cy=\"106.0\" r=\"1.0\"/><text x=\"100.0\" y=\"100.0\">F</text></g><g class=\"input connector block\"><rect height=\"12.0\" width=\"18.0\" x=\"111.0\" y=\"91.0\"/><circle cx=\"120.0\" cy=\"91.0\" r=\"1.0\"/><circle cx=\"120.0\" cy=\"103.0\" r=\"1.0\"/><text x=\"120.0\" y=\"97.0\"/></g><g class=\"output connector block\"><rect height=\"12.0\" width=\"18.0\" x=\"111.0\" y=\"97.0\"/><circle cx=\"120.0\" cy=\"97.0\" r=\"1.0\"/><circle cx=\"120.0\" cy=\"109.0\" r=\"1.0\"/><text x=\"120.0\" y=\"103.0\"/></g><g class=\"unknown connector block\"><rect height=\"12.0\" width=\"18.0\" x=\"111.0\" y=\"94.0\"/><circle cx=\"120.0\" cy=\"94.0\" r=\"1.0\"/><circle cx=\"120.0\" cy=\"106.0\" r=\"1.0\"/><text x=\"120.0\" y=\"100.0\">G</text></g><g class=\"input connector block\"><rect height=\"12.0\" width=\"18.0\" x=\"131.0\" y=\"91.0\"/><circle cx=\"140.0\" cy=\"91.0\" r=\"1.0\"/><circle cx=\"140.0\" cy=\"103.0\" r=\"1.0\"/><text x=\"140.0\" y=\"97.0\"/></g><g class=\"output connector block\"><rect height=\"12.0\" width=\"18.0\" x=\"131.0\" y=\"97.0\"/><circle cx=\"140.0\" cy=\"97.0\" r=\"1.0\"/><circle cx=\"140.0\" cy=\"109.0\" r=\"1.0\"/><text x=\"140.0\" y=\"103.0\"/></g><g class=\"unknown connector block\"><rect height=\"12.0\" width=\"18.0\" x=\"131.0\" y=\"94.0\"/><circle cx=\"140.0\" cy=\"94.0\" r=\"1.0\"/><circle cx=\"140.0\" cy=\"106.0\" r=\"1.0\"/><text x=\"140.0\" y=\"100.0\">H</text></g><g class=\"input connector block\"><rect height=\"12.0\" width=\"18.0\" x=\"191.0\" y=\"91.0\"/><circle cx=\"200.0\" cy=\"91.0\" r=\"1.0\"/><circle cx=\"200.0\" cy=\"103.0\" r=\"1.0\"/><text x=\"200.0\" y=\"97.0\"/></g><g class=\"output connector block\"><rect height=\"12.0\" width=\"18.0\" x=\"191.0\" y=\"97.0\"/><circle cx=\"200.0\" cy=\"97.0\" r=\"1.0\"/><circle cx=\"200.0\" cy=\"109.0\" r=\"1.0\"/><text x=\"200.0\" y=\"103.0\"/></g><g class=\"unknown connector block\"><rect height=\"12.0\" width=\"18.0\" x=\"191.0\" y=\"94.0\"/><circle cx=\"200.0\" cy=\"94.0\" r=\"1.0\"/><circle cx=\"200.0\" cy=\"106.0\" r=\"1.0\"/><text x=\"200.0\" y=\"100.0\">K</text></g><g class=\"input connector block\"><rect height=\"12.0\" width=\"18.0\" x=\"211.0\" y=\"91.0\"/><circle cx=\"220.0\" cy=\"91.0\" r=\"1.0\"/><circle cx=\"220.0\" cy=\"103.0\" r=\"1.0\"/><text x=\"220.0\" y=\"97.0\"/></g><g class=\"output connector block\"><rect height=\"12.0\" width=\"18.0\" x=\"211.0\" y=\"97.0\"/><circle cx=\"220.0\" cy=\"97.0\" r=\"1.0\"/><circle cx=\"220.0\" cy=\"109.0\" r=\"1.0\"/><text x=\"220.0\" y=\"103.0\"/></g><g class=\"unknown connector block\"><rect height=\"12.0\" width=\"18.0\" x=\"211.0\" y=\"94.0\"/><circle cx=\"220.0\" cy=\"94.0\" r=\"1.0\"/><circle cx=\"220.0\" cy=\"106.0\" r=\"1.0\"/><text x=\"220.0\" y=\"100.0\">L</text></g><g class=\"input connector block\"><rect height=\"12.0\" width=\"18.0\" x=\"231.0\" y=\"91.0\"/><circle cx=\"240.0\" cy=\"91.0\" r=\"1.0\"/><circle cx=\"240.0\" cy=\"103.0\" r=\"1.0\"/><text x=\"240.0\" y=\"97.0\"/></g><g class=\"output connector block\"><rect height=\"12.0\" width=\"18.0\" x=\"231.0\" y=\"97.0\"/><circle cx=\"240.0\" cy=\"97.0\" r=\"1.0\"/><circle cx=\"240.0\" cy=\"109.0\" r=\"1.0\"/><text x=\"240.0\" y=\"103.0\"/></g><g class=\"unknown connector block\"><rect height=\"12.0\" width=\"18.0\" x=\"231.0\" y=\"94.0\"/><circle cx=\"240.0\" cy=\"94.0\" r=\"1.0\"/><circle cx=\"240.0\" cy=\"106.0\" r=\"1.0\"/><text x=\"240.0\" y=\"100.0\">M</text></g><g class=\"input connector block\"><rect height=\"12.0\" width=\"18.0\" x=\"251.0\" y=\"91.0\"/><circle cx=\"260.0\" cy=\"91.0\" r=\"1.0\"/><circle cx=\"260.0\" cy=\"103.0\" r=\"1.0\"/><text x=\"260.0\" y=\"97.0\"/></g><g class=\"output connector block\"><rect height=\"12.0\" width=\"18.0\" x=\"251.0\" y=\"97.0\"/><circle cx=\"260.0\" cy=\"97.0\" r=\"1.0\"/><circle cx=\"260.0\" cy=\"109.0\" r=\"1.0\"/><text x=\"260.0\" y=\"103.0\"/></g><g class=\"unknown connector block\"><rect height=\"12.0\" width=\"18.0\" x=\"251.0\" y=\"94.0\"/><circle cx=\"260.0\" cy=\"94.0\" r=\"1.0\"/><circle cx=\"260.0\" cy=\"106.0\" r=\"1.0\"/><text x=\"260.0\" y=\"100.0\">N</text></g><g class=\"input connector block\"><rect height=\"12.0\" width=\"18.0\" x=\"271.0\" y=\"91.0\"/><circle cx=\"280.0\" cy=\"91.0\" r=\"1.0\"/><circle cx=\"280.0\" cy=\"103.0\" r=\"1.0\"/><text x=\"280.0\" y=\"97.0\"/></g><g class=\"output connector block\"><rect height=\"12.0\" width=\"18.0\" x=\"271.0\" y=\"97.0\"/><circle cx=\"280.0\" cy=\"97.0\" r=\"1.0\"/><circle cx=\"280.0\" cy=\"109.0\" r=\"1.0\"/><text x=\"280.0\" y=\"103.0\"/></g><g class=\"unknown connector block\"><rect height=\"12.0\" width=\"18.0\" x=\"271.0\" y=\"94.0\"/><circle cx=\"280.0\" cy=\"94.0\" r=\"1.0\"/><circle cx=\"280.0\" cy=\"106.0\" r=\"1.0\"/><text x=\"280.0\" y=\"100.0\">O</text></g><g class=\"input connector block\"><rect height=\"12.0\" width=\"18.0\" x=\"51.0\" y=\"111.0\"/><circle cx=\"60.0\" cy=\"111.0\" r=\"1.0\"/><circle cx=\"60.0\" cy=\"123.0\" r=\"1.0\"/><text x=\"60.0\" y=\"117.0\"/></g><g class=\"output connector block\"><rect height=\"12.0\" width=\"18.0\" x=\"51.0\" y=\"117.0\"/><circle cx=\"60.0\" cy=\"117.0\" r=\"1.0\"/><circle cx=\"60.0\" cy=\"129.0\" r=\"1.0\"/><text x=\"60.0\" y=\"123.0\"/></g><g class=\"unknown connector block\"><rect height=\"12.0\" width=\"18.0\" x=\"51.0\" y=\"114.0\"/><circle cx=\"60.0\" cy=\"114.0\" r=\"1.0\"/><circle cx=\"60.0\" cy=\"126.0\" r=\"1.0\"/><text x=\"60.0\" y=\"120.0\">D</text></g><g class=\"input connector block\"><rect height=\"12.0\" width=\"18.0\" x=\"111.0\" y=\"111.0\"/><circle cx=\"120.0\" cy=\"111.0\" r=\"1.0\"/><circle cx=\"120.0\" cy=\"123.0\" r=\"1.0\"/><text x=\"120.0\" y=\"117.0\"/></g><g class=\"output connector block\"><rect height=\"12.0\" width=\"18.0\" x=\"111.0\" y=\"117.0\"/><circle cx=\"120.0\" cy=\"117.0\" r=\"1.0\"/><circle cx=\"120.0\" cy=\"129.0\" r=\"1.0\"/><text x=\"120.0\" y=\"123.0\"/></g><g class=\"unknown connector block\"><rect height=\"12.0\" width=\"18.0\" x=\"111.0\" y=\"114.0\"/><circle cx=\"120.0\" cy=\"114.0\" r=\"1.0\"/><circle cx=\"120.0\" cy=\"126.0\" r=\"1.0\"/><text x=\"120.0\" y=\"120.0\">G</text></g><g class=\"input connector block\"><rect height=\"12.0\" width=\"18.0\" x=\"-9.0\" y=\"131.0\"/><circle cx=\"0.0\" cy=\"131.0\" r=\"1.0\"/><circle cx=\"0.0\" cy=\"143.0\" r=\"1.0\"/><text x=\"0.0\" y=\"137.0\"/></g><g class=\"output connector block\"><rect height=\"12.0\" width=\"18.0\" x=\"-9.0\" y=\"137.0\"/><circle cx=\"0.0\" cy=\"137.0\" r=\"1.0\"/><circle cx=\"0.0\" cy=\"149.0\" r=\"1.0\"/><text x=\"0.0\" y=\"143.0\"/></g><g class=\"unknown connector block\"><rect height=\"12.0\" width=\"18.0\" x=\"-9.0\" y=\"134.0\"/><circle cx=\"0.0\" cy=\"134.0\" r=\"1.0\"/><circle cx=\"0.0\" cy=\"146.0\" r=\"1.0\"/><text x=\"0.0\" y=\"140.0\">A</text></g><g class=\"input connector block\"><rect height=\"12.0\" width=\"18.0\" x=\"131.0\" y=\"131.0\"/><circle cx=\"140.0\" cy=\"131.0\" r=\"1.0\"/><circle cx=\"140.0\" cy=\"143.0\" r=\"1.0\"/><text x=\"140.0\" y=\"137.0\"/></g><g class=\"output connector block\"><rect height=\"12.0\" width=\"18.0\" x=\"131.0\" y=\"137.0\"/><circle cx=\"140.0\" cy=\"137.0\" r=\"1.0\"/><circle cx=\"140.0\" cy=\"149.0\" r=\"1.0\"/><text x=\"140.0\" y=\"143.0\"/></g><g class=\"unknown connector block\"><rect height=\"12.0\" width=\"18.0\" x=\"131.0\" y=\"134.0\"/><circle cx=\"140.0\" cy=\"134.0\" r=\"1.0\"/><circle cx=\"140.0\" cy=\"146.0\" r=\"1.0\"/><text x=\"140.0\" y=\"140.0\">H</text></g><g class=\"input connector block\"><rect height=\"12.0\" width=\"18.0\" x=\"-9.0\" y=\"151.0\"/><circle cx=\"0.0\" cy=\"151.0\" r=\"1.0\"/><circle cx=\"0.0\" cy=\"163.0\" r=\"1.0\"/><text x=\"0.0\" y=\"157.0\"/></g><g class=\"output connector block\"><rect height=\"12.0\" width=\"18.0\" x=\"-9.0\" y=\"157.0\"/><circle cx=\"0.0\" cy=\"157.0\" r=\"1.0\"/><circle cx=\"0.0\" cy=\"169.0\" r=\"1.0\"/><text x=\"0.0\" y=\"163.0\"/></g><g class=\"unknown connector block\"><rect height=\"12.0\" width=\"18.0\" x=\"-9.0\" y=\"154.0\"/><circle cx=\"0.0\" cy=\"154.0\" r=\"1.0\"/><circle cx=\"0.0\" cy=\"166.0\" r=\"1.0\"/><text x=\"0.0\" y=\"160.0\">A</text></g><g class=\"input connector block\"><rect height=\"12.0\" width=\"18.0\" x=\"271.0\" y=\"151.0\"/><circle cx=\"280.0\" cy=\"151.0\" r=\"1.0\"/><circle cx=\"280.0\" cy=\"163.0\" r=\"1.0\"/><text x=\"280.0\" y=\"157.0\"/></g><g class=\"output connector block\"><rect height=\"12.0\" width=\"18.0\" x=\"271.0\" y=\"157.0\"/><circle cx=\"280.0\" cy=\"157.0\" r=\"1.0\"/><circle cx=\"280.0\" cy=\"169.0\" r=\"1.0\"/><text x=\"280.0\" y=\"163.0\"/></g><g class=\"unknown connector block\"><rect height=\"12.0\" width=\"18.0\" x=\"271.0\" y=\"154.0\"/><circle cx=\"280.0\" cy=\"154.0\" r=\"1.0\"/><circle cx=\"280.0\" cy=\"166.0\" r=\"1.0\"/><text x=\"280.0\" y=\"160.0\">O</text></g><g class=\"input connector block\"><rect height=\"12.0\" width=\"18.0\" x=\"91.0\" y=\"171.0\"/><circle cx=\"100.0\" cy=\"171.0\" r=\"1.0\"/><circle cx=\"100.0\" cy=\"183.0\" r=\"1.0\"/><text x=\"100.0\" y=\"177.0\"/></g><g class=\"output connector block\"><rect height=\"12.0\" width=\"18.0\" x=\"91.0\" y=\"177.0\"/><circle cx=\"100.0\" cy=\"177.0\" r=\"1.0\"/><circle cx=\"100.0\" cy=\"189.0\" r=\"1.0\"/><text x=\"100.0\" y=\"183.0\"/></g><g class=\"unknown connector block\"><rect height=\"12.0\" width=\"18.0\" x=\"91.0\" y=\"174.0\"/><circle cx=\"100.0\" cy=\"174.0\" r=\"1.0\"/><circle cx=\"100.0\" cy=\"186.0\" r=\"1.0\"/><text x=\"100.0\" y=\"180.0\">F</text></g><g class=\"input connector block\"><rect height=\"12.0\" width=\"18.0\" x=\"111.0\" y=\"171.0\"/><circle cx=\"120.0\" cy=\"171.0\" r=\"1.0\"/><circle cx=\"120.0\" cy=\"183.0\" r=\"1.0\"/><text x=\"120.0\" y=\"177.0\"/></g><g class=\"output connector block\"><rect height=\"12.0\" width=\"18.0\" x=\"111.0\" y=\"177.0\"/><circle cx=\"120.0\" cy=\"177.0\" r=\"1.0\"/><circle cx=\"120.0\" cy=\"189.0\" r=\"1.0\"/><text x=\"120.0\" y=\"183.0\"/></g><g class=\"unknown connector block\"><rect height=\"12.0\" width=\"18.0\" x=\"111.0\" y=\"174.0\"/><circle cx=\"120.0\" cy=\"174.0\" r=\"1.0\"/><circle cx=\"120.0\" cy=\"186.0\" r=\"1.0\"/><text x=\"120.0\" y=\"180.0\">G</text></g><g class=\"input connector block\"><rect height=\"12.0\" width=\"18.0\" x=\"91.0\" y=\"191.0\"/><circle cx=\"100.0\" cy=\"191.0\" r=\"1.0\"/><circle cx=\"100.0\" cy=\"203.0\" r=\"1.0\"/><text x=\"100.0\" y=\"197.0\"/></g><g class=\"output connector block\"><rect height=\"12.0\" width=\"18.0\" x=\"91.0\" y=\"197.0\"/><circle cx=\"100.0\" cy=\"197.0\" r=\"1.0\"/><circle cx=\"100.0\" cy=\"209.0\" r=\"1.0\"/><text x=\"100.0\" y=\"203.0\"/></g><g class=\"unknown connector block\"><rect height=\"12.0\" width=\"18.0\" x=\"91.0\" y=\"194.0\"/><circle cx=\"100.0\" cy=\"194.0\" r=\"1.0\"/><circle cx=\"100.0\" cy=\"206.0\" r=\"1.0\"/><text x=\"100.0\" y=\"200.0\">F</text></g><g class=\"input connector block\"><rect height=\"12.0\" width=\"18.0\" x=\"271.0\" y=\"191.0\"/><circle cx=\"280.0\" cy=\"191.0\" r=\"1.0\"/><circle cx=\"280.0\" cy=\"203.0\" r=\"1.0\"/><text x=\"280.0\" y=\"197.0\"/></g><g class=\"output connector block\"><rect height=\"12.0\" width=\"18.0\" x=\"271.0\" y=\"197.0\"/><circle cx=\"280.0\" cy=\"197.0\" r=\"1.0\"/><circle cx=\"280.0\" cy=\"209.0\" r=\"1.0\"/><text x=\"280.0\" y=\"203.0\"/></g><g class=\"unknown connector block\"><rect height=\"12.0\" width=\"18.0\" x=\"271.0\" y=\"194.0\"/><circle cx=\"280.0\" cy=\"194.0\" r=\"1.0\"/><circle cx=\"280.0\" cy=\"206.0\" r=\"1.0\"/><text x=\"280.0\" y=\"200.0\">O</text></g><g class=\"input connector block\"><rect height=\"12.0\" width=\"18.0\" x=\"91.0\" y=\"211.0\"/><circle cx=\"100.0\" cy=\"211.0\" r=\"1.0\"/><circle cx=\"100.0\" cy=\"223.0\" r=\"1.0\"/><text x=\"100.0\" y=\"217.0\"/></g><g class=\"output connector block\"><rect height=\"12.0\" width=\"18.0\" x=\"91.0\" y=\"217.0\"/><circle cx=\"100.0\" cy=\"217.0\" r=\"1.0\"/><circle cx=\"100.0\" cy=\"229.0\" r=\"1.0\"/><text x=\"100.0\" y=\"223.0\"/></g><g class=\"unknown connector block\"><rect height=\"12.0\" width=\"18.0\" x=\"91.0\" y=\"214.0\"/><circle cx=\"100.0\" cy=\"214.0\" r=\"1.0\"/><circle cx=\"100.0\" cy=\"226.0\" r=\"1.0\"/><text x=\"100.0\" y=\"220.0\">F</text></g><g class=\"input connector block\"><rect height=\"12.0\" width=\"18.0\" x=\"231.0\" y=\"211.0\"/><circle cx=\"240.0\" cy=\"211.0\" r=\"1.0\"/><circle cx=\"240.0\" cy=\"223.0\" r=\"1.0\"/><text x=\"240.0\" y=\"217.0\"/></g><g class=\"output connector block\"><rect height=\"12.0\" width=\"18.0\" x=\"231.0\" y=\"217.0\"/><circle cx=\"240.0\" cy=\"217.0\" r=\"1.0\"/><circle cx=\"240.0\" cy=\"229.0\" r=\"1.0\"/><text x=\"240.0\" y=\"223.0\"/></g><g class=\"unknown connector block\"><rect height=\"12.0\" width=\"18.0\" x=\"231.0\" y=\"214.0\"/><circle cx=\"240.0\" cy=\"214.0\" r=\"1.0\"/><circle cx=\"240.0\" cy=\"226.0\" r=\"1.0\"/><text x=\"240.0\" y=\"220.0\">M</text></g><g class=\"input connector block\"><rect height=\"12.0\" width=\"18.0\" x=\"191.0\" y=\"231.0\"/><circle cx=\"200.0\" cy=\"231.0\" r=\"1.0\"/><circle cx=\"200.0\" cy=\"243.0\" r=\"1.0\"/><text x=\"200.0\" y=\"237.0\"/></g><g class=\"output connector block\"><rect height=\"12.0\" width=\"18.0\" x=\"191.0\" y=\"237.0\"/><circle cx=\"200.0\" cy=\"237.0\" r=\"1.0\"/><circle cx=\"200.0\" cy=\"249.0\" r=\"1.0\"/><text x=\"200.0\" y=\"243.0\"/></g><g class=\"unknown connector block\"><rect height=\"12.0\" width=\"18.0\" x=\"191.0\" y=\"234.0\"/><circle cx=\"200.0\" cy=\"234.0\" r=\"1.0\"/><circle cx=\"200.0\" cy=\"246.0\" r=\"1.0\"/><text x=\"200.0\" y=\"240.0\">K</text></g><g class=\"input connector block\"><rect height=\"12.0\" width=\"18.0\" x=\"251.0\" y=\"231.0\"/><circle cx=\"260.0\" cy=\"231.0\" r=\"1.0\"/><circle cx=\"260.0\" cy=\"243.0\" r=\"1.0\"/><text x=\"260.0\" y=\"237.0\"/></g><g class=\"output connector block\"><rect height=\"12.0\" width=\"18.0\" x=\"251.0\" y=\"237.0\"/><circle cx=\"260.0\" cy=\"237.0\" r=\"1.0\"/><circle cx=\"260.0\" cy=\"249.0\" r=\"1.0\"/><text x=\"260.0\" y=\"243.0\"/></g><g class=\"unknown connector block\"><rect height=\"12.0\" width=\"18.0\" x=\"251.0\" y=\"234.0\"/><circle cx=\"260.0\" cy=\"234.0\" r=\"1.0\"/><circle cx=\"260.0\" cy=\"246.0\" r=\"1.0\"/><text x=\"260.0\" y=\"240.0\">N</text></g><g class=\"input connector block\"><rect height=\"12.0\" width=\"18.0\" x=\"51.0\" y=\"251.0\"/><circle cx=\"60.0\" cy=\"251.0\" r=\"1.0\"/><circle cx=\"60.0\" cy=\"263.0\" r=\"1.0\"/><text x=\"60.0\" y=\"257.0\"/></g><g class=\"output connector block\"><rect height=\"12.0\" width=\"18.0\" x=\"51.0\" y=\"257.0\"/><circle cx=\"60.0\" cy=\"257.0\" r=\"1.0\"/><circle cx=\"60.0\" cy=\"269.0\" r=\"1.0\"/><text x=\"60.0\" y=\"263.0\"/></g><g class=\"unknown connector block\"><rect height=\"12.0\" width=\"18.0\" x=\"51.0\" y=\"254.0\"/><circle cx=\"60.0\" cy=\"254.0\" r=\"1.0\"/><circle cx=\"60.0\" cy=\"266.0\" r=\"1.0\"/><text x=\"60.0\" y=\"260.0\">D</text></g><g class=\"input connector block\"><rect height=\"12.0\" width=\"18.0\" x=\"211.0\" y=\"251.0\"/><circle cx=\"220.0\" cy=\"251.0\" r=\"1.0\"/><circle cx=\"220.0\" cy=\"263.0\" r=\"1.0\"/><text x=\"220.0\" y=\"257.0\"/></g><g class=\"output connector block\"><rect height=\"12.0\" width=\"18.0\" x=\"211.0\" y=\"257.0\"/><circle cx=\"220.0\" cy=\"257.0\" r=\"1.0\"/><circle cx=\"220.0\" cy=\"269.0\" r=\"1.0\"/><text x=\"220.0\" y=\"263.0\"/></g><g class=\"unknown connector block\"><rect height=\"12.0\" width=\"18.0\" x=\"211.0\" y=\"254.0\"/><circle cx=\"220.0\" cy=\"254.0\" r=\"1.0\"/><circle cx=\"220.0\" cy=\"266.0\" r=\"1.0\"/><text x=\"220.0\" y=\"260.0\">L</text></g><g class=\"input connector block\"><rect height=\"12.0\" width=\"18.0\" x=\"231.0\" y=\"271.0\"/><circle cx=\"240.0\" cy=\"271.0\" r=\"1.0\"/><circle cx=\"240.0\" cy=\"283.0\" r=\"1.0\"/><text x=\"240.0\" y=\"277.0\"/></g><g class=\"output connector block\"><rect height=\"12.0\" width=\"18.0\" x=\"231.0\" y=\"277.0\"/><circle cx=\"240.0\" cy=\"277.0\" r=\"1.0\"/><circle cx=\"240.0\" cy=\"289.0\" r=\"1.0\"/><text x=\"240.0\" y=\"283.0\"/></g><g class=\"unknown connector block\"><rect height=\"12.0\" width=\"18.0\" x=\"231.0\" y=\"274.0\"/><circle cx=\"240.0\" cy=\"274.0\" r=\"1.0\"/><circle cx=\"240.0\" cy=\"286.0\" r=\"1.0\"/><text x=\"240.0\" y=\"280.0\">M</text></g><g class=\"input connector block\"><rect height=\"12.0\" width=\"18.0\" x=\"251.0\" y=\"271.0\"/><circle cx=\"260.0\" cy=\"271.0\" r=\"1.0\"/><circle cx=\"260.0\" cy=\"283.0\" r=\"1.0\"/><text x=\"260.0\" y=\"277.0\"/></g><g class=\"output connector block\"><rect height=\"12.0\" width=\"18.0\" x=\"251.0\" y=\"277.0\"/><circle cx=\"260.0\" cy=\"277.0\" r=\"1.0\"/><circle cx=\"260.0\" cy=\"289.0\" r=\"1.0\"/><text x=\"260.0\" y=\"283.0\"/></g><g class=\"unknown connector block\"><rect height=\"12.0\" width=\"18.0\" x=\"251.0\" y=\"274.0\"/><circle cx=\"260.0\" cy=\"274.0\" r=\"1.0\"/><circle cx=\"260.0\" cy=\"286.0\" r=\"1.0\"/><text x=\"260.0\" y=\"280.0\">N</text></g><g class=\"input connector block\"><rect height=\"12.0\" width=\"18.0\" x=\"-9.0\" y=\"291.0\"/><circle cx=\"0.0\" cy=\"291.0\" r=\"1.0\"/><circle cx=\"0.0\" cy=\"303.0\" r=\"1.0\"/><text x=\"0.0\" y=\"297.0\"/></g><g class=\"output connector block\"><rect height=\"12.0\" width=\"18.0\" x=\"-9.0\" y=\"297.0\"/><circle cx=\"0.0\" cy=\"297.0\" r=\"1.0\"/><circle cx=\"0.0\" cy=\"309.0\" r=\"1.0\"/><text x=\"0.0\" y=\"303.0\"/></g><g class=\"unknown connector block\"><rect height=\"12.0\" width=\"18.0\" x=\"-9.0\" y=\"294.0\"/><circle cx=\"0.0\" cy=\"294.0\" r=\"1.0\"/><circle cx=\"0.0\" cy=\"306.0\" r=\"1.0\"/><text x=\"0.0\" y=\"300.0\">A</text></g><g class=\"input connector block\"><rect height=\"12.0\" width=\"18.0\" x=\"51.0\" y=\"291.0\"/><circle cx=\"60.0\" cy=\"291.0\" r=\"1.0\"/><circle cx=\"60.0\" cy=\"303.0\" r=\"1.0\"/><text x=\"60.0\" y=\"297.0\"/></g><g class=\"output connector block\"><rect height=\"12.0\" width=\"18.0\" x=\"51.0\" y=\"297.0\"/><circle cx=\"60.0\" cy=\"297.0\" r=\"1.0\"/><circle cx=\"60.0\" cy=\"309.0\" r=\"1.0\"/><text x=\"60.0\" y=\"303.0\"/></g><g class=\"unknown connector block\"><rect height=\"12.0\" width=\"18.0\" x=\"51.0\" y=\"294.0\"/><circle cx=\"60.0\" cy=\"294.0\" r=\"1.0\"/><circle cx=\"60.0\" cy=\"306.0\" r=\"1.0\"/><text x=\"60.0\" y=\"300.0\">D</text></g><g class=\"input connector block\"><rect height=\"12.0\" width=\"18.0\" x=\"111.0\" y=\"291.0\"/><circle cx=\"120.0\" cy=\"291.0\" r=\"1.0\"/><circle cx=\"120.0\" cy=\"303.0\" r=\"1.0\"/><text x=\"120.0\" y=\"297.0\"/></g><g class=\"output connector block\"><rect height=\"12.0\" width=\"18.0\" x=\"111.0\" y=\"297.0\"/><circle cx=\"120.0\" cy=\"297.0\" r=\"1.0\"/><circle cx=\"120.0\" cy=\"309.0\" r=\"1.0\"/><text x=\"120.0\" y=\"303.0\"/></g><g class=\"unknown connector block\"><rect height=\"12.0\" width=\"18.0\" x=\"111.0\" y=\"294.0\"/><circle cx=\"120.0\" cy=\"294.0\" r=\"1.0\"/><circle cx=\"120.0\" cy=\"306.0\" r=\"1.0\"/><text x=\"120.0\" y=\"300.0\">G</text></g><g class=\"input connector block\"><rect height=\"12.0\" width=\"18.0\" x=\"131.0\" y=\"291.0\"/><circle cx=\"140.0\" cy=\"291.0\" r=\"1.0\"/><circle cx=\"140.0\" cy=\"303.0\" r=\"1.0\"/><text x=\"140.0\" y=\"297.0\"/></g><g class=\"output connector block\"><rect height=\"12.0\" width=\"18.0\" x=\"131.0\" y=\"297.0\"/><circle cx=\"140.0\" cy=\"297.0\" r=\"1.0\"/><circle cx=\"140.0\" cy=\"309.0\" r=\"1.0\"/><text x=\"140.0\" y=\"303.0\"/></g><g class=\"unknown connector block\"><rect height=\"12.0\" width=\"18.0\" x=\"131.0\" y=\"294.0\"/><circle cx=\"140.0\" cy=\"294.0\" r=\"1.0\"/><circle cx=\"140.0\" cy=\"306.0\" r=\"1.0\"/><text x=\"140.0\" y=\"300.0\">H</text></g><g class=\"input connector block\"><rect height=\"12.0\" width=\"18.0\" x=\"191.0\" y=\"291.0\"/><circle cx=\"200.0\" cy=\"291.0\" r=\"1.0\"/><circle cx=\"200.0\" cy=\"303.0\" r=\"1.0\"/><text x=\"200.0\" y=\"297.0\"/></g><g class=\"output connector block\"><rect height=\"12.0\" width=\"18.0\" x=\"191.0\" y=\"297.0\"/><circle cx=\"200.0\" cy=\"297.0\" r=\"1.0\"/><circle cx=\"200.0\" cy=\"309.0\" r=\"1.0\"/><text x=\"200.0\" y=\"303.0\"/></g><g class=\"unknown connector block\"><rect height=\"12.0\" width=\"18.0\" x=\"191.0\" y=\"294.0\"/><circle cx=\"200.0\" cy=\"294.0\" r=\"1.0\"/><circle cx=\"200.0\" cy=\"306.0\" r=\"1.0\"/><text x=\"200.0\" y=\"300.0\">K</text></g><g class=\"input connector block\"><rect height=\"12.0\" width=\"18.0\" x=\"211.0\" y=\"291.0\"/><circle cx=\"220.0\" cy=\"291.0\" r=\"1.0\"/><circle cx=\"220.0\" cy=\"303.0\" r=\"1.0\"/><text x=\"220.0\" y=\"297.0\"/></g><g class=\"output connector block\"><rect height=\"12.0\" width=\"18.0\" x=\"211.0\" y=\"297.0\"/><circle cx=\"220.0\" cy=\"297.0\" r=\"1.0\"/><circle cx=\"220.0\" cy=\"309.0\" r=\"1.0\"/><text x=\"220.0\" y=\"303.0\"/></g><g class=\"unknown connector block\"><rect height=\"12.0\" width=\"18.0\" x=\"211.0\" y=\"294.0\"/><circle cx=\"220.0\" cy=\"294.0\" r=\"1.0\"/><circle cx=\"220.0\" cy=\"306.0\" r=\"1.0\"/><text x=\"220.0\" y=\"300.0\">L</text></g><g class=\"input connector block\"><rect height=\"12.0\" width=\"18.0\" x=\"231.0\" y=\"291.0\"/><circle cx=\"240.0\" cy=\"291.0\" r=\"1.0\"/><circle cx=\"240.0\" cy=\"303.0\" r=\"1.0\"/><text x=\"240.0\" y=\"297.0\"/></g><g class=\"output connector block\"><rect height=\"12.0\" width=\"18.0\" x=\"231.0\" y=\"297.0\"/><circle cx=\"240.0\" cy=\"297.0\" r=\"1.0\"/><circle cx=\"240.0\" cy=\"309.0\" r=\"1.0\"/><text x=\"240.0\" y=\"303.0\"/></g><g class=\"unknown connector block\"><rect height=\"12.0\" width=\"18.0\" x=\"231.0\" y=\"294.0\"/><circle cx=\"240.0\" cy=\"294.0\" r=\"1.0\"/><circle cx=\"240.0\" cy=\"306.0\" r=\"1.0\"/><text x=\"240.0\" y=\"300.0\">M</text></g><g class=\"input connector block\"><rect height=\"12.0\" width=\"18.0\" x=\"251.0\" y=\"291.0\"/><circle cx=\"260.0\" cy=\"291.0\" r=\"1.0\"/><circle cx=\"260.0\" cy=\"303.0\" r=\"1.0\"/><text x=\"260.0\" y=\"297.0\"/></g><g class=\"output connector block\"><rect height=\"12.0\" width=\"18.0\" x=\"251.0\" y=\"297.0\"/><circle cx=\"260.0\" cy=\"297.0\" r=\"1.0\"/><circle cx=\"260.0\" cy=\"309.0\" r=\"1.0\"/><text x=\"260.0\" y=\"303.0\"/></g><g class=\"unknown connector block\"><rect height=\"12.0\" width=\"18.0\" x=\"251.0\" y=\"294.0\"/><circle cx=\"260.0\" cy=\"294.0\" r=\"1.0\"/><circle cx=\"260.0\" cy=\"306.0\" r=\"1.0\"/><text x=\"260.0\" y=\"300.0\">N</text></g><g class=\"input connector block\"><rect height=\"12.0\" width=\"18.0\" x=\"271.0\" y=\"291.0\"/><circle cx=\"280.0\" cy=\"291.0\" r=\"1.0\"/><circle cx=\"280.0\" cy=\"303.0\" r=\"1.0\"/><text x=\"280.0\" y=\"297.0\"/></g><g class=\"output connector block\"><rect height=\"12.0\" width=\"18.0\" x=\"271.0\" y=\"297.0\"/><circle cx=\"280.0\" cy=\"297.0\" r=\"1.0\"/><circle cx=\"280.0\" cy=\"309.0\" r=\"1.0\"/><text x=\"280.0\" y=\"303.0\"/></g><g class=\"unknown connector block\"><rect height=\"12.0\" width=\"18.0\" x=\"271.0\" y=\"294.0\"/><circle cx=\"280.0\" cy=\"294.0\" r=\"1.0\"/><circle cx=\"280.0\" cy=\"306.0\" r=\"1.0\"/><text x=\"280.0\" y=\"300.0\">O</text></g><g class=\"input connector block\"><rect height=\"12.0\" width=\"18.0\" x=\"-9.0\" y=\"311.0\"/><circle cx=\"0.0\" cy=\"311.0\" r=\"1.0\"/><circle cx=\"0.0\" cy=\"323.0\" r=\"1.0\"/><text x=\"0.0\" y=\"317.0\"/></g><g class=\"output connector block\"><rect height=\"12.0\" width=\"18.0\" x=\"-9.0\" y=\"317.0\"/><circle cx=\"0.0\" cy=\"317.0\" r=\"1.0\"/><circle cx=\"0.0\" cy=\"329.0\" r=\"1.0\"/><text x=\"0.0\" y=\"323.0\"/></g><g class=\"unknown connector block\"><rect height=\"12.0\" width=\"18.0\" x=\"-9.0\" y=\"314.0\"/><circle cx=\"0.0\" cy=\"314.0\" r=\"1.0\"/><circle cx=\"0.0\" cy=\"326.0\" r=\"1.0\"/><text x=\"0.0\" y=\"320.0\">A</text></g><g class=\"input connector block\"><rect height=\"12.0\" width=\"18.0\" x=\"-9.0\" y=\"331.0\"/><circle cx=\"0.0\" cy=\"331.0\" r=\"1.0\"/><circle cx=\"0.0\" cy=\"343.0\" r=\"1.0\"/><text x=\"0.0\" y=\"337.0\"/></g><g class=\"output connector block\"><rect height=\"12.0\" width=\"18.0\" x=\"-9.0\" y=\"337.0\"/><circle cx=\"0.0\" cy=\"337.0\" r=\"1.0\"/><circle cx=\"0.0\" cy=\"349.0\" r=\"1.0\"/><text x=\"0.0\" y=\"343.0\"/></g><g class=\"unknown connector block\"><rect height=\"12.0\" width=\"18.0\" x=\"-9.0\" y=\"334.0\"/><circle cx=\"0.0\" cy=\"334.0\" r=\"1.0\"/><circle cx=\"0.0\" cy=\"346.0\" r=\"1.0\"/><text x=\"0.0\" y=\"340.0\">A</text></g><g class=\"input connector block\"><rect height=\"12.0\" width=\"18.0\" x=\"-9.0\" y=\"351.0\"/><circle cx=\"0.0\" cy=\"351.0\" r=\"1.0\"/><circle cx=\"0.0\" cy=\"363.0\" r=\"1.0\"/><text x=\"0.0\" y=\"357.0\"/></g><g class=\"output connector block\"><rect height=\"12.0\" width=\"18.0\" x=\"-9.0\" y=\"357.0\"/><circle cx=\"0.0\" cy=\"357.0\" r=\"1.0\"/><circle cx=\"0.0\" cy=\"369.0\" r=\"1.0\"/><text x=\"0.0\" y=\"363.0\"/></g><g class=\"unknown connector block\"><rect height=\"12.0\" width=\"18.0\" x=\"-9.0\" y=\"354.0\"/><circle cx=\"0.0\" cy=\"354.0\" r=\"1.0\"/><circle cx=\"0.0\" cy=\"366.0\" r=\"1.0\"/><text x=\"0.0\" y=\"360.0\">A</text></g><g class=\"input connector block\"><rect height=\"12.0\" width=\"18.0\" x=\"51.0\" y=\"371.0\"/><circle cx=\"60.0\" cy=\"371.0\" r=\"1.0\"/><circle cx=\"60.0\" cy=\"383.0\" r=\"1.0\"/><text x=\"60.0\" y=\"377.0\"/></g><g class=\"output connector block\"><rect height=\"12.0\" width=\"18.0\" x=\"51.0\" y=\"377.0\"/><circle cx=\"60.0\" cy=\"377.0\" r=\"1.0\"/><circle cx=\"60.0\" cy=\"389.0\" r=\"1.0\"/><text x=\"60.0\" y=\"383.0\"/></g><g class=\"unknown connector block\"><rect height=\"12.0\" width=\"18.0\" x=\"51.0\" y=\"374.0\"/><circle cx=\"60.0\" cy=\"374.0\" r=\"1.0\"/><circle cx=\"60.0\" cy=\"386.0\" r=\"1.0\"/><text x=\"60.0\" y=\"380.0\">D</text></g><g class=\"input connector block\"><rect height=\"12.0\" width=\"18.0\" x=\"51.0\" y=\"391.0\"/><circle cx=\"60.0\" cy=\"391.0\" r=\"1.0\"/><circle cx=\"60.0\" cy=\"403.0\" r=\"1.0\"/><text x=\"60.0\" y=\"397.0\"/></g><g class=\"output connector block\"><rect height=\"12.0\" width=\"18.0\" x=\"51.0\" y=\"397.0\"/><circle cx=\"60.0\" cy=\"397.0\" r=\"1.0\"/><circle cx=\"60.0\" cy=\"409.0\" r=\"1.0\"/><text x=\"60.0\" y=\"403.0\"/></g><g class=\"unknown connector block\"><rect height=\"12.0\" width=\"18.0\" x=\"51.0\" y=\"394.0\"/><circle cx=\"60.0\" cy=\"394.0\" r=\"1.0\"/><circle cx=\"60.0\" cy=\"406.0\" r=\"1.0\"/><text x=\"60.0\" y=\"400.0\">D</text></g><g class=\"input connector block\"><rect height=\"12.0\" width=\"18.0\" x=\"51.0\" y=\"411.0\"/><circle cx=\"60.0\" cy=\"411.0\" r=\"1.0\"/><circle cx=\"60.0\" cy=\"423.0\" r=\"1.0\"/><text x=\"60.0\" y=\"417.0\"/></g><g class=\"output connector block\"><rect height=\"12.0\" width=\"18.0\" x=\"51.0\" y=\"417.0\"/><circle cx=\"60.0\" cy=\"417.0\" r=\"1.0\"/><circle cx=\"60.0\" cy=\"429.0\" r=\"1.0\"/><text x=\"60.0\" y=\"423.0\"/></g><g class=\"unknown connector block\"><rect height=\"12.0\" width=\"18.0\" x=\"51.0\" y=\"414.0\"/><circle cx=\"60.0\" cy=\"414.0\" r=\"1.0\"/><circle cx=\"60.0\" cy=\"426.0\" r=\"1.0\"/><text x=\"60.0\" y=\"420.0\">D</text></g><g class=\"input connector block\"><rect height=\"12.0\" width=\"18.0\" x=\"251.0\" y=\"431.0\"/><circle cx=\"260.0\" cy=\"431.0\" r=\"1.0\"/><circle cx=\"260.0\" cy=\"443.0\" r=\"1.0\"/><text x=\"260.0\" y=\"437.0\"/></g><g class=\"output connector block\"><rect height=\"12.0\" width=\"18.0\" x=\"251.0\" y=\"437.0\"/><circle cx=\"260.0\" cy=\"437.0\" r=\"1.0\"/><circle cx=\"260.0\" cy=\"449.0\" r=\"1.0\"/><text x=\"260.0\" y=\"443.0\"/></g><g class=\"unknown connector block\"><rect height=\"12.0\" width=\"18.0\" x=\"251.0\" y=\"434.0\"/><circle cx=\"260.0\" cy=\"434.0\" r=\"1.0\"/><circle cx=\"260.0\" cy=\"446.0\" r=\"1.0\"/><text x=\"260.0\" y=\"440.0\">N</text></g><g class=\"input connector block\"><rect height=\"12.0\" width=\"18.0\" x=\"251.0\" y=\"451.0\"/><circle cx=\"260.0\" cy=\"451.0\" r=\"1.0\"/><circle cx=\"260.0\" cy=\"463.0\" r=\"1.0\"/><text x=\"260.0\" y=\"457.0\"/></g><g class=\"output connector block\"><rect height=\"12.0\" width=\"18.0\" x=\"251.0\" y=\"457.0\"/><circle cx=\"260.0\" cy=\"457.0\" r=\"1.0\"/><circle cx=\"260.0\" cy=\"469.0\" r=\"1.0\"/><text x=\"260.0\" y=\"463.0\"/></g><g class=\"unknown connector block\"><rect height=\"12.0\" width=\"18.0\" x=\"251.0\" y=\"454.0\"/><circle cx=\"260.0\" cy=\"454.0\" r=\"1.0\"/><circle cx=\"260.0\" cy=\"466.0\" r=\"1.0\"/><text x=\"260.0\" y=\"460.0\">N</text></g><g class=\"input connector block\"><rect height=\"12.0\" width=\"18.0\" x=\"251.0\" y=\"471.0\"/><circle cx=\"260.0\" cy=\"471.0\" r=\"1.0\"/><circle cx=\"260.0\" cy=\"483.0\" r=\"1.0\"/><text x=\"260.0\" y=\"477.0\"/></g><g class=\"output connector block\"><rect height=\"12.0\" width=\"18.0\" x=\"251.0\" y=\"477.0\"/><circle cx=\"260.0\" cy=\"477.0\" r=\"1.0\"/><circle cx=\"260.0\" cy=\"489.0\" r=\"1.0\"/><text x=\"260.0\" y=\"483.0\"/></g><g class=\"unknown connector block\"><rect height=\"12.0\" width=\"18.0\" x=\"251.0\" y=\"474.0\"/><circle cx=\"260.0\" cy=\"474.0\" r=\"1.0\"/><circle cx=\"260.0\" cy=\"486.0\" r=\"1.0\"/><text x=\"260.0\" y=\"480.0\">N</text></g><g class=\"input connector block\"><rect height=\"12.0\" width=\"18.0\" x=\"231.0\" y=\"491.0\"/><circle cx=\"240.0\" cy=\"491.0\" r=\"1.0\"/><circle cx=\"240.0\" cy=\"503.0\" r=\"1.0\"/><text x=\"240.0\" y=\"497.0\"/></g><g class=\"output connector block\"><rect height=\"12.0\" width=\"18.0\" x=\"231.0\" y=\"497.0\"/><circle cx=\"240.0\" cy=\"497.0\" r=\"1.0\"/><circle cx=\"240.0\" cy=\"509.0\" r=\"1.0\"/><text x=\"240.0\" y=\"503.0\"/></g><g class=\"unknown connector block\"><rect height=\"12.0\" width=\"18.0\" x=\"231.0\" y=\"494.0\"/><circle cx=\"240.0\" cy=\"494.0\" r=\"1.0\"/><circle cx=\"240.0\" cy=\"506.0\" r=\"1.0\"/><text x=\"240.0\" y=\"500.0\">M</text></g><g class=\"input connector block\"><rect height=\"12.0\" width=\"18.0\" x=\"231.0\" y=\"511.0\"/><circle cx=\"240.0\" cy=\"511.0\" r=\"1.0\"/><circle cx=\"240.0\" cy=\"523.0\" r=\"1.0\"/><text x=\"240.0\" y=\"517.0\"/></g><g class=\"output connector block\"><rect height=\"12.0\" width=\"18.0\" x=\"231.0\" y=\"517.0\"/><circle cx=\"240.0\" cy=\"517.0\" r=\"1.0\"/><circle cx=\"240.0\" cy=\"529.0\" r=\"1.0\"/><text x=\"240.0\" y=\"523.0\"/></g><g class=\"unknown connector block\"><rect height=\"12.0\" width=\"18.0\" x=\"231.0\" y=\"514.0\"/><circle cx=\"240.0\" cy=\"514.0\" r=\"1.0\"/><circle cx=\"240.0\" cy=\"526.0\" r=\"1.0\"/><text x=\"240.0\" y=\"520.0\">M</text></g><g class=\"input connector block\"><rect height=\"12.0\" width=\"18.0\" x=\"231.0\" y=\"531.0\"/><circle cx=\"240.0\" cy=\"531.0\" r=\"1.0\"/><circle cx=\"240.0\" cy=\"543.0\" r=\"1.0\"/><text x=\"240.0\" y=\"537.0\"/></g><g class=\"output connector block\"><rect height=\"12.0\" width=\"18.0\" x=\"231.0\" y=\"537.0\"/><circle cx=\"240.0\" cy=\"537.0\" r=\"1.0\"/><circle cx=\"240.0\" cy=\"549.0\" r=\"1.0\"/><text x=\"240.0\" y=\"543.0\"/></g><g class=\"unknown connector block\"><rect height=\"12.0\" width=\"18.0\" x=\"231.0\" y=\"534.0\"/><circle cx=\"240.0\" cy=\"534.0\" r=\"1.0\"/><circle cx=\"240.0\" cy=\"546.0\" r=\"1.0\"/><text x=\"240.0\" y=\"540.0\">M</text></g><g class=\"input connector block\"><rect height=\"12.0\" width=\"18.0\" x=\"111.0\" y=\"551.0\"/><circle cx=\"120.0\" cy=\"551.0\" r=\"1.0\"/><circle cx=\"120.0\" cy=\"563.0\" r=\"1.0\"/><text x=\"120.0\" y=\"557.0\"/></g><g class=\"output connector block\"><rect height=\"12.0\" width=\"18.0\" x=\"111.0\" y=\"557.0\"/><circle cx=\"120.0\" cy=\"557.0\" r=\"1.0\"/><circle cx=\"120.0\" cy=\"569.0\" r=\"1.0\"/><text x=\"120.0\" y=\"563.0\"/></g><g class=\"unknown connector block\"><rect height=\"12.0\" width=\"18.0\" x=\"111.0\" y=\"554.0\"/><circle cx=\"120.0\" cy=\"554.0\" r=\"1.0\"/><circle cx=\"120.0\" cy=\"566.0\" r=\"1.0\"/><text x=\"120.0\" y=\"560.0\">G</text></g><g class=\"input connector block\"><rect height=\"12.0\" width=\"18.0\" x=\"111.0\" y=\"571.0\"/><circle cx=\"120.0\" cy=\"571.0\" r=\"1.0\"/><circle cx=\"120.0\" cy=\"583.0\" r=\"1.0\"/><text x=\"120.0\" y=\"577.0\"/></g><g class=\"output connector block\"><rect height=\"12.0\" width=\"18.0\" x=\"111.0\" y=\"577.0\"/><circle cx=\"120.0\" cy=\"577.0\" r=\"1.0\"/><circle cx=\"120.0\" cy=\"589.0\" r=\"1.0\"/><text x=\"120.0\" y=\"583.0\"/></g><g class=\"unknown connector block\"><rect height=\"12.0\" width=\"18.0\" x=\"111.0\" y=\"574.0\"/><circle cx=\"120.0\" cy=\"574.0\" r=\"1.0\"/><circle cx=\"120.0\" cy=\"586.0\" r=\"1.0\"/><text x=\"120.0\" y=\"580.0\">G</text></g><g class=\"input connector block\"><rect height=\"12.0\" width=\"18.0\" x=\"111.0\" y=\"591.0\"/><circle cx=\"120.0\" cy=\"591.0\" r=\"1.0\"/><circle cx=\"120.0\" cy=\"603.0\" r=\"1.0\"/><text x=\"120.0\" y=\"597.0\"/></g><g class=\"output connector block\"><rect height=\"12.0\" width=\"18.0\" x=\"111.0\" y=\"597.0\"/><circle cx=\"120.0\" cy=\"597.0\" r=\"1.0\"/><circle cx=\"120.0\" cy=\"609.0\" r=\"1.0\"/><text x=\"120.0\" y=\"603.0\"/></g><g class=\"unknown connector block\"><rect height=\"12.0\" width=\"18.0\" x=\"111.0\" y=\"594.0\"/><circle cx=\"120.0\" cy=\"594.0\" r=\"1.0\"/><circle cx=\"120.0\" cy=\"606.0\" r=\"1.0\"/><text x=\"120.0\" y=\"600.0\">G</text></g><g class=\"input connector block\"><rect height=\"12.0\" width=\"18.0\" x=\"271.0\" y=\"611.0\"/><circle cx=\"280.0\" cy=\"611.0\" r=\"1.0\"/><circle cx=\"280.0\" cy=\"623.0\" r=\"1.0\"/><text x=\"280.0\" y=\"617.0\"/></g><g class=\"output connector block\"><rect height=\"12.0\" width=\"18.0\" x=\"271.0\" y=\"617.0\"/><circle cx=\"280.0\" cy=\"617.0\" r=\"1.0\"/><circle cx=\"280.0\" cy=\"629.0\" r=\"1.0\"/><text x=\"280.0\" y=\"623.0\"/></g><g class=\"unknown connector block\"><rect height=\"12.0\" width=\"18.0\" x=\"271.0\" y=\"614.0\"/><circle cx=\"280.0\" cy=\"614.0\" r=\"1.0\"/><circle cx=\"280.0\" cy=\"626.0\" r=\"1.0\"/><text x=\"280.0\" y=\"620.0\">O</text></g><g class=\"input connector block\"><rect height=\"12.0\" width=\"18.0\" x=\"271.0\" y=\"631.0\"/><circle cx=\"280.0\" cy=\"631.0\" r=\"1.0\"/><circle cx=\"280.0\" cy=\"643.0\" r=\"1.0\"/><text x=\"280.0\" y=\"637.0\"/></g><g class=\"output connector block\"><rect height=\"12.0\" width=\"18.0\" x=\"271.0\" y=\"637.0\"/><circle cx=\"280.0\" cy=\"637.0\" r=\"1.0\"/><circle cx=\"280.0\" cy=\"649.0\" r=\"1.0\"/><text x=\"280.0\" y=\"643.0\"/></g><g class=\"unknown connector block\"><rect height=\"12.0\" width=\"18.0\" x=\"271.0\" y=\"634.0\"/><circle cx=\"280.0\" cy=\"634.0\" r=\"1.0\"/><circle cx=\"280.0\" cy=\"646.0\" r=\"1.0\"/><text x=\"280.0\" y=\"640.0\">O</text></g><g class=\"input connector block\"><rect height=\"12.0\" width=\"18.0\" x=\"271.0\" y=\"651.0\"/><circle cx=\"280.0\" cy=\"651.0\" r=\"1.0\"/><circle cx=\"280.0\" cy=\"663.0\" r=\"1.0\"/><text x=\"280.0\" y=\"657.0\"/></g><g class=\"output connector block\"><rect height=\"12.0\" width=\"18.0\" x=\"271.0\" y=\"657.0\"/><circle cx=\"280.0\" cy=\"657.0\" r=\"1.0\"/><circle cx=\"280.0\" cy=\"669.0\" r=\"1.0\"/><text x=\"280.0\" y=\"663.0\"/></g><g class=\"unknown connector block\"><rect height=\"12.0\" width=\"18.0\" x=\"271.0\" y=\"654.0\"/><circle cx=\"280.0\" cy=\"654.0\" r=\"1.0\"/><circle cx=\"280.0\" cy=\"666.0\" r=\"1.0\"/><text x=\"280.0\" y=\"660.0\">O</text></g><g class=\"input connector block\"><rect height=\"12.0\" width=\"18.0\" x=\"191.0\" y=\"671.0\"/><circle cx=\"200.0\" cy=\"671.0\" r=\"1.0\"/><circle cx=\"200.0\" cy=\"683.0\" r=\"1.0\"/><text x=\"200.0\" y=\"677.0\"/></g><g class=\"output connector block\"><rect height=\"12.0\" width=\"18.0\" x=\"191.0\" y=\"677.0\"/><circle cx=\"200.0\" cy=\"677.0\" r=\"1.0\"/><circle cx=\"200.0\" cy=\"689.0\" r=\"1.0\"/><text x=\"200.0\" y=\"683.0\"/></g><g class=\"unknown connector block\"><rect height=\"12.0\" width=\"18.0\" x=\"191.0\" y=\"674.0\"/><circle cx=\"200.0\" cy=\"674.0\" r=\"1.0\"/><circle cx=\"200.0\" cy=\"686.0\" r=\"1.0\"/><text x=\"200.0\" y=\"680.0\">K</text></g><g class=\"input connector block\"><rect height=\"12.0\" width=\"18.0\" x=\"191.0\" y=\"691.0\"/><circle cx=\"200.0\" cy=\"691.0\" r=\"1.0\"/><circle cx=\"200.0\" cy=\"703.0\" r=\"1.0\"/><text x=\"200.0\" y=\"697.0\"/></g><g class=\"output connector block\"><rect height=\"12.0\" width=\"18.0\" x=\"191.0\" y=\"697.0\"/><circle cx=\"200.0\" cy=\"697.0\" r=\"1.0\"/><circle cx=\"200.0\" cy=\"709.0\" r=\"1.0\"/><text x=\"200.0\" y=\"703.0\"/></g><g class=\"unknown connector block\"><rect height=\"12.0\" width=\"18.0\" x=\"191.0\" y=\"694.0\"/><circle cx=\"200.0\" cy=\"694.0\" r=\"1.0\"/><circle cx=\"200.0\" cy=\"706.0\" r=\"1.0\"/><text x=\"200.0\" y=\"700.0\">K</text></g><g class=\"input connector block\"><rect height=\"12.0\" width=\"18.0\" x=\"191.0\" y=\"711.0\"/><circle cx=\"200.0\" cy=\"711.0\" r=\"1.0\"/><circle cx=\"200.0\" cy=\"723.0\" r=\"1.0\"/><text x=\"200.0\" y=\"717.0\"/></g><g class=\"output connector block\"><rect height=\"12.0\" width=\"18.0\" x=\"191.0\" y=\"717.0\"/><circle cx=\"200.0\" cy=\"717.0\" r=\"1.0\"/><circle cx=\"200.0\" cy=\"729.0\" r=\"1.0\"/><text x=\"200.0\" y=\"723.0\"/></g><g class=\"unknown connector block\"><rect height=\"12.0\" width=\"18.0\" x=\"191.0\" y=\"714.0\"/><circle cx=\"200.0\" cy=\"714.0\" r=\"1.0\"/><circle cx=\"200.0\" cy=\"726.0\" r=\"1.0\"/><text x=\"200.0\" y=\"720.0\">K</text></g><g class=\"input connector block\"><rect height=\"12.0\" width=\"18.0\" x=\"131.0\" y=\"731.0\"/><circle cx=\"140.0\" cy=\"731.0\" r=\"1.0\"/><circle cx=\"140.0\" cy=\"743.0\" r=\"1.0\"/><text x=\"140.0\" y=\"737.0\"/></g><g class=\"output connector block\"><rect height=\"12.0\" width=\"18.0\" x=\"131.0\" y=\"737.0\"/><circle cx=\"140.0\" cy=\"737.0\" r=\"1.0\"/><circle cx=\"140.0\" cy=\"749.0\" r=\"1.0\"/><text x=\"140.0\" y=\"743.0\"/></g><g class=\"unknown connector block\"><rect height=\"12.0\" width=\"18.0\" x=\"131.0\" y=\"734.0\"/><circle cx=\"140.0\" cy=\"734.0\" r=\"1.0\"/><circle cx=\"140.0\" cy=\"746.0\" r=\"1.0\"/><text x=\"140.0\" y=\"740.0\">H</text></g><g class=\"input connector block\"><rect height=\"12.0\" width=\"18.0\" x=\"131.0\" y=\"751.0\"/><circle cx=\"140.0\" cy=\"751.0\" r=\"1.0\"/><circle cx=\"140.0\" cy=\"763.0\" r=\"1.0\"/><text x=\"140.0\" y=\"757.0\"/></g><g class=\"output connector block\"><rect height=\"12.0\" width=\"18.0\" x=\"131.0\" y=\"757.0\"/><circle cx=\"140.0\" cy=\"757.0\" r=\"1.0\"/><circle cx=\"140.0\" cy=\"769.0\" r=\"1.0\"/><text x=\"140.0\" y=\"763.0\"/></g><g class=\"unknown connector block\"><rect height=\"12.0\" width=\"18.0\" x=\"131.0\" y=\"754.0\"/><circle cx=\"140.0\" cy=\"754.0\" r=\"1.0\"/><circle cx=\"140.0\" cy=\"766.0\" r=\"1.0\"/><text x=\"140.0\" y=\"760.0\">H</text></g><g class=\"input connector block\"><rect height=\"12.0\" width=\"18.0\" x=\"131.0\" y=\"771.0\"/><circle cx=\"140.0\" cy=\"771.0\" r=\"1.0\"/><circle cx=\"140.0\" cy=\"783.0\" r=\"1.0\"/><text x=\"140.0\" y=\"777.0\"/></g><g class=\"output connector block\"><rect height=\"12.0\" width=\"18.0\" x=\"131.0\" y=\"777.0\"/><circle cx=\"140.0\" cy=\"777.0\" r=\"1.0\"/><circle cx=\"140.0\" cy=\"789.0\" r=\"1.0\"/><text x=\"140.0\" y=\"783.0\"/></g><g class=\"unknown connector block\"><rect height=\"12.0\" width=\"18.0\" x=\"131.0\" y=\"774.0\"/><circle cx=\"140.0\" cy=\"774.0\" r=\"1.0\"/><circle cx=\"140.0\" cy=\"786.0\" r=\"1.0\"/><text x=\"140.0\" y=\"780.0\">H</text></g><g class=\"input connector block\"><rect height=\"12.0\" width=\"18.0\" x=\"211.0\" y=\"791.0\"/><circle cx=\"220.0\" cy=\"791.0\" r=\"1.0\"/><circle cx=\"220.0\" cy=\"803.0\" r=\"1.0\"/><text x=\"220.0\" y=\"797.0\"/></g><g class=\"output connector block\"><rect height=\"12.0\" width=\"18.0\" x=\"211.0\" y=\"797.0\"/><circle cx=\"220.0\" cy=\"797.0\" r=\"1.0\"/><circle cx=\"220.0\" cy=\"809.0\" r=\"1.0\"/><text x=\"220.0\" y=\"803.0\"/></g><g class=\"unknown connector block\"><rect height=\"12.0\" width=\"18.0\" x=\"211.0\" y=\"794.0\"/><circle cx=\"220.0\" cy=\"794.0\" r=\"1.0\"/><circle cx=\"220.0\" cy=\"806.0\" r=\"1.0\"/><text x=\"220.0\" y=\"800.0\">L</text></g><g class=\"input connector block\"><rect height=\"12.0\" width=\"18.0\" x=\"211.0\" y=\"811.0\"/><circle cx=\"220.0\" cy=\"811.0\" r=\"1.0\"/><circle cx=\"220.0\" cy=\"823.0\" r=\"1.0\"/><text x=\"220.0\" y=\"817.0\"/></g><g class=\"output connector block\"><rect height=\"12.0\" width=\"18.0\" x=\"211.0\" y=\"817.0\"/><circle cx=\"220.0\" cy=\"817.0\" r=\"1.0\"/><circle cx=\"220.0\" cy=\"829.0\" r=\"1.0\"/><text x=\"220.0\" y=\"823.0\"/></g><g class=\"unknown connector block\"><rect height=\"12.0\" width=\"18.0\" x=\"211.0\" y=\"814.0\"/><circle cx=\"220.0\" cy=\"814.0\" r=\"1.0\"/><circle cx=\"220.0\" cy=\"826.0\" r=\"1.0\"/><text x=\"220.0\" y=\"820.0\">L</text></g><g class=\"input connector block\"><rect height=\"12.0\" width=\"18.0\" x=\"211.0\" y=\"831.0\"/><circle cx=\"220.0\" cy=\"831.0\" r=\"1.0\"/><circle cx=\"220.0\" cy=\"843.0\" r=\"1.0\"/><text x=\"220.0\" y=\"837.0\"/></g><g class=\"output connector block\"><rect height=\"12.0\" width=\"18.0\" x=\"211.0\" y=\"837.0\"/><circle cx=\"220.0\" cy=\"837.0\" r=\"1.0\"/><circle cx=\"220.0\" cy=\"849.0\" r=\"1.0\"/><text x=\"220.0\" y=\"843.0\"/></g><g class=\"unknown connector block\"><rect height=\"12.0\" width=\"18.0\" x=\"211.0\" y=\"834.0\"/><circle cx=\"220.0\" cy=\"834.0\" r=\"1.0\"/><circle cx=\"220.0\" cy=\"846.0\" r=\"1.0\"/><text x=\"220.0\" y=\"840.0\">L</text></g><g class=\"input connector block\"><rect height=\"12.0\" width=\"18.0\" x=\"131.0\" y=\"851.0\"/><circle cx=\"140.0\" cy=\"851.0\" r=\"1.0\"/><circle cx=\"140.0\" cy=\"863.0\" r=\"1.0\"/><text x=\"140.0\" y=\"857.0\"/></g><g class=\"output connector block\"><rect height=\"12.0\" width=\"18.0\" x=\"131.0\" y=\"857.0\"/><circle cx=\"140.0\" cy=\"857.0\" r=\"1.0\"/><circle cx=\"140.0\" cy=\"869.0\" r=\"1.0\"/><text x=\"140.0\" y=\"863.0\"/></g><g class=\"unknown connector block\"><rect height=\"12.0\" width=\"18.0\" x=\"131.0\" y=\"854.0\"/><circle cx=\"140.0\" cy=\"854.0\" r=\"1.0\"/><circle cx=\"140.0\" cy=\"866.0\" r=\"1.0\"/><text x=\"140.0\" y=\"860.0\">H</text></g><g class=\"input connector block\"><rect height=\"12.0\" width=\"18.0\" x=\"151.0\" y=\"851.0\"/><circle cx=\"160.0\" cy=\"851.0\" r=\"1.0\"/><circle cx=\"160.0\" cy=\"863.0\" r=\"1.0\"/><text x=\"160.0\" y=\"857.0\"/></g><g class=\"output connector block\"><rect height=\"12.0\" width=\"18.0\" x=\"151.0\" y=\"857.0\"/><circle cx=\"160.0\" cy=\"857.0\" r=\"1.0\"/><circle cx=\"160.0\" cy=\"869.0\" r=\"1.0\"/><text x=\"160.0\" y=\"863.0\"/></g><g class=\"unknown connector block\"><rect height=\"12.0\" width=\"18.0\" x=\"151.0\" y=\"854.0\"/><circle cx=\"160.0\" cy=\"854.0\" r=\"1.0\"/><circle cx=\"160.0\" cy=\"866.0\" r=\"1.0\"/><text x=\"160.0\" y=\"860.0\">I</text></g><g class=\"input connector block\"><rect height=\"12.0\" width=\"18.0\" x=\"171.0\" y=\"851.0\"/><circle cx=\"180.0\" cy=\"851.0\" r=\"1.0\"/><circle cx=\"180.0\" cy=\"863.0\" r=\"1.0\"/><text x=\"180.0\" y=\"857.0\"/></g><g class=\"output connector block\"><rect height=\"12.0\" width=\"18.0\" x=\"171.0\" y=\"857.0\"/><circle cx=\"180.0\" cy=\"857.0\" r=\"1.0\"/><circle cx=\"180.0\" cy=\"869.0\" r=\"1.0\"/><text x=\"180.0\" y=\"863.0\"/></g><g class=\"unknown connector block\"><rect height=\"12.0\" width=\"18.0\" x=\"171.0\" y=\"854.0\"/><circle cx=\"180.0\" cy=\"854.0\" r=\"1.0\"/><circle cx=\"180.0\" cy=\"866.0\" r=\"1.0\"/><text x=\"180.0\" y=\"860.0\">J</text></g><g class=\"input connector block\"><rect height=\"12.0\" width=\"18.0\" x=\"191.0\" y=\"851.0\"/><circle cx=\"200.0\" cy=\"851.0\" r=\"1.0\"/><circle cx=\"200.0\" cy=\"863.0\" r=\"1.0\"/><text x=\"200.0\" y=\"857.0\"/></g><g class=\"output connector block\"><rect height=\"12.0\" width=\"18.0\" x=\"191.0\" y=\"857.0\"/><circle cx=\"200.0\" cy=\"857.0\" r=\"1.0\"/><circle cx=\"200.0\" cy=\"869.0\" r=\"1.0\"/><text x=\"200.0\" y=\"863.0\"/></g><g class=\"unknown connector block\"><rect height=\"12.0\" width=\"18.0\" x=\"191.0\" y=\"854.0\"/><circle cx=\"200.0\" cy=\"854.0\" r=\"1.0\"/><circle cx=\"200.0\" cy=\"866.0\" r=\"1.0\"/><text x=\"200.0\" y=\"860.0\">K</text></g><g class=\"input connector block\"><rect height=\"12.0\" width=\"18.0\" x=\"211.0\" y=\"851.0\"/><circle cx=\"220.0\" cy=\"851.0\" r=\"1.0\"/><circle cx=\"220.0\" cy=\"863.0\" r=\"1.0\"/><text x=\"220.0\" y=\"857.0\"/></g><g class=\"output connector block\"><rect height=\"12.0\" width=\"18.0\" x=\"211.0\" y=\"857.0\"/><circle cx=\"220.0\" cy=\"857.0\" r=\"1.0\"/><circle cx=\"220.0\" cy=\"869.0\" r=\"1.0\"/><text x=\"220.0\" y=\"863.0\"/></g><g class=\"unknown connector block\"><rect height=\"12.0\" width=\"18.0\" x=\"211.0\" y=\"854.0\"/><circle cx=\"220.0\" cy=\"854.0\" r=\"1.0\"/><circle cx=\"220.0\" cy=\"866.0\" r=\"1.0\"/><text x=\"220.0\" y=\"860.0\">L</text></g><g class=\"input connector block\"><rect height=\"12.0\" width=\"18.0\" x=\"291.0\" y=\"851.0\"/><circle cx=\"300.0\" cy=\"851.0\" r=\"1.0\"/><circle cx=\"300.0\" cy=\"863.0\" r=\"1.0\"/><text x=\"300.0\" y=\"857.0\"/></g><g class=\"output connector block\"><rect height=\"12.0\" width=\"18.0\" x=\"291.0\" y=\"857.0\"/><circle cx=\"300.0\" cy=\"857.0\" r=\"1.0\"/><circle cx=\"300.0\" cy=\"869.0\" r=\"1.0\"/><text x=\"300.0\" y=\"863.0\"/></g><g class=\"unknown connector block\"><rect height=\"12.0\" width=\"18.0\" x=\"291.0\" y=\"854.0\"/><circle cx=\"300.0\" cy=\"854.0\" r=\"1.0\"/><circle cx=\"300.0\" cy=\"866.0\" r=\"1.0\"/><text x=\"300.0\" y=\"860.0\">P</text></g><g class=\"input connector block\"><rect height=\"12.0\" width=\"18.0\" x=\"131.0\" y=\"871.0\"/><circle cx=\"140.0\" cy=\"871.0\" r=\"1.0\"/><circle cx=\"140.0\" cy=\"883.0\" r=\"1.0\"/><text x=\"140.0\" y=\"877.0\"/></g><g class=\"output connector block\"><rect height=\"12.0\" width=\"18.0\" x=\"131.0\" y=\"877.0\"/><circle cx=\"140.0\" cy=\"877.0\" r=\"1.0\"/><circle cx=\"140.0\" cy=\"889.0\" r=\"1.0\"/><text x=\"140.0\" y=\"883.0\"/></g><g class=\"unknown connector block\"><rect height=\"12.0\" width=\"18.0\" x=\"131.0\" y=\"874.0\"/><circle cx=\"140.0\" cy=\"874.0\" r=\"1.0\"/><circle cx=\"140.0\" cy=\"886.0\" r=\"1.0\"/><text x=\"140.0\" y=\"880.0\">H</text></g><g class=\"input connector block\"><rect height=\"12.0\" width=\"18.0\" x=\"291.0\" y=\"871.0\"/><circle cx=\"300.0\" cy=\"871.0\" r=\"1.0\"/><circle cx=\"300.0\" cy=\"883.0\" r=\"1.0\"/><text x=\"300.0\" y=\"877.0\"/></g><g class=\"output connector block\"><rect height=\"12.0\" width=\"18.0\" x=\"291.0\" y=\"877.0\"/><circle cx=\"300.0\" cy=\"877.0\" r=\"1.0\"/><circle cx=\"300.0\" cy=\"889.0\" r=\"1.0\"/><text x=\"300.0\" y=\"883.0\"/></g><g class=\"unknown connector block\"><rect height=\"12.0\" width=\"18.0\" x=\"291.0\" y=\"874.0\"/><circle cx=\"300.0\" cy=\"874.0\" r=\"1.0\"/><circle cx=\"300.0\" cy=\"886.0\" r=\"1.0\"/><text x=\"300.0\" y=\"880.0\">P</text></g><g class=\"input connector block\"><rect height=\"12.0\" width=\"18.0\" x=\"171.0\" y=\"891.0\"/><circle cx=\"180.0\" cy=\"891.0\" r=\"1.0\"/><circle cx=\"180.0\" cy=\"903.0\" r=\"1.0\"/><text x=\"180.0\" y=\"897.0\"/></g><g class=\"output connector block\"><rect height=\"12.0\" width=\"18.0\" x=\"171.0\" y=\"897.0\"/><circle cx=\"180.0\" cy=\"897.0\" r=\"1.0\"/><circle cx=\"180.0\" cy=\"909.0\" r=\"1.0\"/><text x=\"180.0\" y=\"903.0\"/></g><g class=\"unknown connector block\"><rect height=\"12.0\" width=\"18.0\" x=\"171.0\" y=\"894.0\"/><circle cx=\"180.0\" cy=\"894.0\" r=\"1.0\"/><circle cx=\"180.0\" cy=\"906.0\" r=\"1.0\"/><text x=\"180.0\" y=\"900.0\">J</text></g><g class=\"input connector block\"><rect height=\"12.0\" width=\"18.0\" x=\"211.0\" y=\"891.0\"/><circle cx=\"220.0\" cy=\"891.0\" r=\"1.0\"/><circle cx=\"220.0\" cy=\"903.0\" r=\"1.0\"/><text x=\"220.0\" y=\"897.0\"/></g><g class=\"output connector block\"><rect height=\"12.0\" width=\"18.0\" x=\"211.0\" y=\"897.0\"/><circle cx=\"220.0\" cy=\"897.0\" r=\"1.0\"/><circle cx=\"220.0\" cy=\"909.0\" r=\"1.0\"/><text x=\"220.0\" y=\"903.0\"/></g><g class=\"unknown connector block\"><rect height=\"12.0\" width=\"18.0\" x=\"211.0\" y=\"894.0\"/><circle cx=\"220.0\" cy=\"894.0\" r=\"1.0\"/><circle cx=\"220.0\" cy=\"906.0\" r=\"1.0\"/><text x=\"220.0\" y=\"900.0\">L</text></g><g class=\"input connector block\"><rect height=\"12.0\" width=\"18.0\" x=\"151.0\" y=\"911.0\"/><circle cx=\"160.0\" cy=\"911.0\" r=\"1.0\"/><circle cx=\"160.0\" cy=\"923.0\" r=\"1.0\"/><text x=\"160.0\" y=\"917.0\"/></g><g class=\"output connector block\"><rect height=\"12.0\" width=\"18.0\" x=\"151.0\" y=\"917.0\"/><circle cx=\"160.0\" cy=\"917.0\" r=\"1.0\"/><circle cx=\"160.0\" cy=\"929.0\" r=\"1.0\"/><text x=\"160.0\" y=\"923.0\"/></g><g class=\"unknown connector block\"><rect height=\"12.0\" width=\"18.0\" x=\"151.0\" y=\"914.0\"/><circle cx=\"160.0\" cy=\"914.0\" r=\"1.0\"/><circle cx=\"160.0\" cy=\"926.0\" r=\"1.0\"/><text x=\"160.0\" y=\"920.0\">I</text></g><g class=\"input connector block\"><rect height=\"12.0\" width=\"18.0\" x=\"191.0\" y=\"911.0\"/><circle cx=\"200.0\" cy=\"911.0\" r=\"1.0\"/><circle cx=\"200.0\" cy=\"923.0\" r=\"1.0\"/><text x=\"200.0\" y=\"917.0\"/></g><g class=\"output connector block\"><rect height=\"12.0\" width=\"18.0\" x=\"191.0\" y=\"917.0\"/><circle cx=\"200.0\" cy=\"917.0\" r=\"1.0\"/><circle cx=\"200.0\" cy=\"929.0\" r=\"1.0\"/><text x=\"200.0\" y=\"923.0\"/></g><g class=\"unknown connector block\"><rect height=\"12.0\" width=\"18.0\" x=\"191.0\" y=\"914.0\"/><circle cx=\"200.0\" cy=\"914.0\" r=\"1.0\"/><circle cx=\"200.0\" cy=\"926.0\" r=\"1.0\"/><text x=\"200.0\" y=\"920.0\">K</text></g><g class=\"input connector block\"><rect height=\"12.0\" width=\"18.0\" x=\"-9.0\" y=\"931.0\"/><circle cx=\"0.0\" cy=\"931.0\" r=\"1.0\"/><circle cx=\"0.0\" cy=\"943.0\" r=\"1.0\"/><text x=\"0.0\" y=\"937.0\"/></g><g class=\"output connector block\"><rect height=\"12.0\" width=\"18.0\" x=\"-9.0\" y=\"937.0\"/><circle cx=\"0.0\" cy=\"937.0\" r=\"1.0\"/><circle cx=\"0.0\" cy=\"949.0\" r=\"1.0\"/><text x=\"0.0\" y=\"943.0\"/></g><g class=\"unknown connector block\"><rect height=\"12.0\" width=\"18.0\" x=\"-9.0\" y=\"934.0\"/><circle cx=\"0.0\" cy=\"934.0\" r=\"1.0\"/><circle cx=\"0.0\" cy=\"946.0\" r=\"1.0\"/><text x=\"0.0\" y=\"940.0\">A</text></g><g class=\"input connector block\"><rect height=\"12.0\" width=\"18.0\" x=\"51.0\" y=\"931.0\"/><circle cx=\"60.0\" cy=\"931.0\" r=\"1.0\"/><circle cx=\"60.0\" cy=\"943.0\" r=\"1.0\"/><text x=\"60.0\" y=\"937.0\"/></g><g class=\"output connector block\"><rect height=\"12.0\" width=\"18.0\" x=\"51.0\" y=\"937.0\"/><circle cx=\"60.0\" cy=\"937.0\" r=\"1.0\"/><circle cx=\"60.0\" cy=\"949.0\" r=\"1.0\"/><text x=\"60.0\" y=\"943.0\"/></g><g class=\"unknown connector block\"><rect height=\"12.0\" width=\"18.0\" x=\"51.0\" y=\"934.0\"/><circle cx=\"60.0\" cy=\"934.0\" r=\"1.0\"/><circle cx=\"60.0\" cy=\"946.0\" r=\"1.0\"/><text x=\"60.0\" y=\"940.0\">D</text></g><g class=\"input connector block\"><rect height=\"12.0\" width=\"18.0\" x=\"91.0\" y=\"931.0\"/><circle cx=\"100.0\" cy=\"931.0\" r=\"1.0\"/><circle cx=\"100.0\" cy=\"943.0\" r=\"1.0\"/><text x=\"100.0\" y=\"937.0\"/></g><g class=\"output connector block\"><rect height=\"12.0\" width=\"18.0\" x=\"91.0\" y=\"937.0\"/><circle cx=\"100.0\" cy=\"937.0\" r=\"1.0\"/><circle cx=\"100.0\" cy=\"949.0\" r=\"1.0\"/><text x=\"100.0\" y=\"943.0\"/></g><g class=\"unknown connector block\"><rect height=\"12.0\" width=\"18.0\" x=\"91.0\" y=\"934.0\"/><circle cx=\"100.0\" cy=\"934.0\" r=\"1.0\"/><circle cx=\"100.0\" cy=\"946.0\" r=\"1.0\"/><text x=\"100.0\" y=\"940.0\">F</text></g><g class=\"input connector block\"><rect height=\"12.0\" width=\"18.0\" x=\"111.0\" y=\"931.0\"/><circle cx=\"120.0\" cy=\"931.0\" r=\"1.0\"/><circle cx=\"120.0\" cy=\"943.0\" r=\"1.0\"/><text x=\"120.0\" y=\"937.0\"/></g><g class=\"output connector block\"><rect height=\"12.0\" width=\"18.0\" x=\"111.0\" y=\"937.0\"/><circle cx=\"120.0\" cy=\"937.0\" r=\"1.0\"/><circle cx=\"120.0\" cy=\"949.0\" r=\"1.0\"/><text x=\"120.0\" y=\"943.0\"/></g><g class=\"unknown connector block\"><rect height=\"12.0\" width=\"18.0\" x=\"111.0\" y=\"934.0\"/><circle cx=\"120.0\" cy=\"934.0\" r=\"1.0\"/><circle cx=\"120.0\" cy=\"946.0\" r=\"1.0\"/><text x=\"120.0\" y=\"940.0\">G</text></g><g class=\"input connector block\"><rect height=\"12.0\" width=\"18.0\" x=\"131.0\" y=\"931.0\"/><circle cx=\"140.0\" cy=\"931.0\" r=\"1.0\"/><circle cx=\"140.0\" cy=\"943.0\" r=\"1.0\"/><text x=\"140.0\" y=\"937.0\"/></g><g class=\"output connector block\"><rect height=\"12.0\" width=\"18.0\" x=\"131.0\" y=\"937.0\"/><circle cx=\"140.0\" cy=\"937.0\" r=\"1.0\"/><circle cx=\"140.0\" cy=\"949.0\" r=\"1.0\"/><text x=\"140.0\" y=\"943.0\"/></g><g class=\"unknown connector block\"><rect height=\"12.0\" width=\"18.0\" x=\"131.0\" y=\"934.0\"/><circle cx=\"140.0\" cy=\"934.0\" r=\"1.0\"/><circle cx=\"140.0\" cy=\"946.0\" r=\"1.0\"/><text x=\"140.0\" y=\"940.0\">H</text></g><g class=\"input connector block\"><rect height=\"12.0\" width=\"18.0\" x=\"191.0\" y=\"931.0\"/><circle cx=\"200.0\" cy=\"931.0\" r=\"1.0\"/><circle cx=\"200.0\" cy=\"943.0\" r=\"1.0\"/><text x=\"200.0\" y=\"937.0\"/></g><g class=\"output connector block\"><rect height=\"12.0\" width=\"18.0\" x=\"191.0\" y=\"937.0\"/><circle cx=\"200.0\" cy=\"937.0\" r=\"1.0\"/><circle cx=\"200.0\" cy=\"949.0\" r=\"1.0\"/><text x=\"200.0\" y=\"943.0\"/></g><g class=\"unknown connector block\"><rect height=\"12.0\" width=\"18.0\" x=\"191.0\" y=\"934.0\"/><circle cx=\"200.0\" cy=\"934.0\" r=\"1.0\"/><circle cx=\"200.0\" cy=\"946.0\" r=\"1.0\"/><text x=\"200.0\" y=\"940.0\">K</text></g><g class=\"input connector block\"><rect height=\"12.0\" width=\"18.0\" x=\"211.0\" y=\"931.0\"/><circle cx=\"220.0\" cy=\"931.0\" r=\"1.0\"/><circle cx=\"220.0\" cy=\"943.0\" r=\"1.0\"/><text x=\"220.0\" y=\"937.0\"/></g><g class=\"output connector block\"><rect height=\"12.0\" width=\"18.0\" x=\"211.0\" y=\"937.0\"/><circle cx=\"220.0\" cy=\"937.0\" r=\"1.0\"/><circle cx=\"220.0\" cy=\"949.0\" r=\"1.0\"/><text x=\"220.0\" y=\"943.0\"/></g><g class=\"unknown connector block\"><rect height=\"12.0\" width=\"18.0\" x=\"211.0\" y=\"934.0\"/><circle cx=\"220.0\" cy=\"934.0\" r=\"1.0\"/><circle cx=\"220.0\" cy=\"946.0\" r=\"1.0\"/><text x=\"220.0\" y=\"940.0\">L</text></g><g class=\"input connector block\"><rect height=\"12.0\" width=\"18.0\" x=\"231.0\" y=\"931.0\"/><circle cx=\"240.0\" cy=\"931.0\" r=\"1.0\"/><circle cx=\"240.0\" cy=\"943.0\" r=\"1.0\"/><text x=\"240.0\" y=\"937.0\"/></g><g class=\"output connector block\"><rect height=\"12.0\" width=\"18.0\" x=\"231.0\" y=\"937.0\"/><circle cx=\"240.0\" cy=\"937.0\" r=\"1.0\"/><circle cx=\"240.0\" cy=\"949.0\" r=\"1.0\"/><text x=\"240.0\" y=\"943.0\"/></g><g class=\"unknown connector block\"><rect height=\"12.0\" width=\"18.0\" x=\"231.0\" y=\"934.0\"/><circle cx=\"240.0\" cy=\"934.0\" r=\"1.0\"/><circle cx=\"240.0\" cy=\"946.0\" r=\"1.0\"/><text x=\"240.0\" y=\"940.0\">M</text></g><g class=\"input connector block\"><rect height=\"12.0\" width=\"18.0\" x=\"251.0\" y=\"931.0\"/><circle cx=\"260.0\" cy=\"931.0\" r=\"1.0\"/><circle cx=\"260.0\" cy=\"943.0\" r=\"1.0\"/><text x=\"260.0\" y=\"937.0\"/></g><g class=\"output connector block\"><rect height=\"12.0\" width=\"18.0\" x=\"251.0\" y=\"937.0\"/><circle cx=\"260.0\" cy=\"937.0\" r=\"1.0\"/><circle cx=\"260.0\" cy=\"949.0\" r=\"1.0\"/><text x=\"260.0\" y=\"943.0\"/></g><g class=\"unknown connector block\"><rect height=\"12.0\" width=\"18.0\" x=\"251.0\" y=\"934.0\"/><circle cx=\"260.0\" cy=\"934.0\" r=\"1.0\"/><circle cx=\"260.0\" cy=\"946.0\" r=\"1.0\"/><text x=\"260.0\" y=\"940.0\">N</text></g><g class=\"input connector block\"><rect height=\"12.0\" width=\"18.0\" x=\"271.0\" y=\"931.0\"/><circle cx=\"280.0\" cy=\"931.0\" r=\"1.0\"/><circle cx=\"280.0\" cy=\"943.0\" r=\"1.0\"/><text x=\"280.0\" y=\"937.0\"/></g><g class=\"output connector block\"><rect height=\"12.0\" width=\"18.0\" x=\"271.0\" y=\"937.0\"/><circle cx=\"280.0\" cy=\"937.0\" r=\"1.0\"/><circle cx=\"280.0\" cy=\"949.0\" r=\"1.0\"/><text x=\"280.0\" y=\"943.0\"/></g><g class=\"unknown connector block\"><rect height=\"12.0\" width=\"18.0\" x=\"271.0\" y=\"934.0\"/><circle cx=\"280.0\" cy=\"934.0\" r=\"1.0\"/><circle cx=\"280.0\" cy=\"946.0\" r=\"1.0\"/><text x=\"280.0\" y=\"940.0\">O</text></g><g class=\"input connector block\"><rect height=\"12.0\" width=\"18.0\" x=\"251.0\" y=\"951.0\"/><circle cx=\"260.0\" cy=\"951.0\" r=\"1.0\"/><circle cx=\"260.0\" cy=\"963.0\" r=\"1.0\"/><text x=\"260.0\" y=\"957.0\"/></g><g class=\"output connector block\"><rect height=\"12.0\" width=\"18.0\" x=\"251.0\" y=\"957.0\"/><circle cx=\"260.0\" cy=\"957.0\" r=\"1.0\"/><circle cx=\"260.0\" cy=\"969.0\" r=\"1.0\"/><text x=\"260.0\" y=\"963.0\"/></g><g class=\"unknown connector block\"><rect height=\"12.0\" width=\"18.0\" x=\"251.0\" y=\"954.0\"/><circle cx=\"260.0\" cy=\"954.0\" r=\"1.0\"/><circle cx=\"260.0\" cy=\"966.0\" r=\"1.0\"/><text x=\"260.0\" y=\"960.0\">N</text></g><g class=\"input connector block\"><rect height=\"12.0\" width=\"18.0\" x=\"231.0\" y=\"971.0\"/><circle cx=\"240.0\" cy=\"971.0\" r=\"1.0\"/><circle cx=\"240.0\" cy=\"983.0\" r=\"1.0\"/><text x=\"240.0\" y=\"977.0\"/></g><g class=\"output connector block\"><rect height=\"12.0\" width=\"18.0\" x=\"231.0\" y=\"977.0\"/><circle cx=\"240.0\" cy=\"977.0\" r=\"1.0\"/><circle cx=\"240.0\" cy=\"989.0\" r=\"1.0\"/><text x=\"240.0\" y=\"983.0\"/></g><g class=\"unknown connector block\"><rect height=\"12.0\" width=\"18.0\" x=\"231.0\" y=\"974.0\"/><circle cx=\"240.0\" cy=\"974.0\" r=\"1.0\"/><circle cx=\"240.0\" cy=\"986.0\" r=\"1.0\"/><text x=\"240.0\" y=\"980.0\">M</text></g><g class=\"input connector block\"><rect height=\"12.0\" width=\"18.0\" x=\"211.0\" y=\"991.0\"/><circle cx=\"220.0\" cy=\"991.0\" r=\"1.0\"/><circle cx=\"220.0\" cy=\"1003.0\" r=\"1.0\"/><text x=\"220.0\" y=\"997.0\"/></g><g class=\"output connector block\"><rect height=\"12.0\" width=\"18.0\" x=\"211.0\" y=\"997.0\"/><circle cx=\"220.0\" cy=\"997.0\" r=\"1.0\"/><circle cx=\"220.0\" cy=\"1009.0\" r=\"1.0\"/><text x=\"220.0\" y=\"1003.0\"/></g><g class=\"unknown connector block\"><rect height=\"12.0\" width=\"18.0\" x=\"211.0\" y=\"994.0\"/><circle cx=\"220.0\" cy=\"994.0\" r=\"1.0\"/><circle cx=\"220.0\" cy=\"1006.0\" r=\"1.0\"/><text x=\"220.0\" y=\"1000.0\">L</text></g><g class=\"input connector block\"><rect height=\"12.0\" width=\"18.0\" x=\"51.0\" y=\"1011.0\"/><circle cx=\"60.0\" cy=\"1011.0\" r=\"1.0\"/><circle cx=\"60.0\" cy=\"1023.0\" r=\"1.0\"/><text x=\"60.0\" y=\"1017.0\"/></g><g class=\"output connector block\"><rect height=\"12.0\" width=\"18.0\" x=\"51.0\" y=\"1017.0\"/><circle cx=\"60.0\" cy=\"1017.0\" r=\"1.0\"/><circle cx=\"60.0\" cy=\"1029.0\" r=\"1.0\"/><text x=\"60.0\" y=\"1023.0\"/></g><g class=\"unknown connector block\"><rect height=\"12.0\" width=\"18.0\" x=\"51.0\" y=\"1014.0\"/><circle cx=\"60.0\" cy=\"1014.0\" r=\"1.0\"/><circle cx=\"60.0\" cy=\"1026.0\" r=\"1.0\"/><text x=\"60.0\" y=\"1020.0\">D</text></g><g class=\"input connector block\"><rect height=\"12.0\" width=\"18.0\" x=\"271.0\" y=\"1031.0\"/><circle cx=\"280.0\" cy=\"1031.0\" r=\"1.0\"/><circle cx=\"280.0\" cy=\"1043.0\" r=\"1.0\"/><text x=\"280.0\" y=\"1037.0\"/></g><g class=\"output connector block\"><rect height=\"12.0\" width=\"18.0\" x=\"271.0\" y=\"1037.0\"/><circle cx=\"280.0\" cy=\"1037.0\" r=\"1.0\"/><circle cx=\"280.0\" cy=\"1049.0\" r=\"1.0\"/><text x=\"280.0\" y=\"1043.0\"/></g><g class=\"unknown connector block\"><rect height=\"12.0\" width=\"18.0\" x=\"271.0\" y=\"1034.0\"/><circle cx=\"280.0\" cy=\"1034.0\" r=\"1.0\"/><circle cx=\"280.0\" cy=\"1046.0\" r=\"1.0\"/><text x=\"280.0\" y=\"1040.0\">O</text></g><g class=\"input connector block\"><rect height=\"12.0\" width=\"18.0\" x=\"111.0\" y=\"1051.0\"/><circle cx=\"120.0\" cy=\"1051.0\" r=\"1.0\"/><circle cx=\"120.0\" cy=\"1063.0\" r=\"1.0\"/><text x=\"120.0\" y=\"1057.0\"/></g><g class=\"output connector block\"><rect height=\"12.0\" width=\"18.0\" x=\"111.0\" y=\"1057.0\"/><circle cx=\"120.0\" cy=\"1057.0\" r=\"1.0\"/><circle cx=\"120.0\" cy=\"1069.0\" r=\"1.0\"/><text x=\"120.0\" y=\"1063.0\"/></g><g class=\"unknown connector block\"><rect height=\"12.0\" width=\"18.0\" x=\"111.0\" y=\"1054.0\"/><circle cx=\"120.0\" cy=\"1054.0\" r=\"1.0\"/><circle cx=\"120.0\" cy=\"1066.0\" r=\"1.0\"/><text x=\"120.0\" y=\"1060.0\">G</text></g><g class=\"input connector block\"><rect height=\"12.0\" width=\"18.0\" x=\"131.0\" y=\"1071.0\"/><circle cx=\"140.0\" cy=\"1071.0\" r=\"1.0\"/><circle cx=\"140.0\" cy=\"1083.0\" r=\"1.0\"/><text x=\"140.0\" y=\"1077.0\"/></g><g class=\"output connector block\"><rect height=\"12.0\" width=\"18.0\" x=\"131.0\" y=\"1077.0\"/><circle cx=\"140.0\" cy=\"1077.0\" r=\"1.0\"/><circle cx=\"140.0\" cy=\"1089.0\" r=\"1.0\"/><text x=\"140.0\" y=\"1083.0\"/></g><g class=\"unknown connector block\"><rect height=\"12.0\" width=\"18.0\" x=\"131.0\" y=\"1074.0\"/><circle cx=\"140.0\" cy=\"1074.0\" r=\"1.0\"/><circle cx=\"140.0\" cy=\"1086.0\" r=\"1.0\"/><text x=\"140.0\" y=\"1080.0\">H</text></g><g class=\"input connector block\"><rect height=\"12.0\" width=\"18.0\" x=\"-9.0\" y=\"1091.0\"/><circle cx=\"0.0\" cy=\"1091.0\" r=\"1.0\"/><circle cx=\"0.0\" cy=\"1103.0\" r=\"1.0\"/><text x=\"0.0\" y=\"1097.0\"/></g><g class=\"output connector block\"><rect height=\"12.0\" width=\"18.0\" x=\"-9.0\" y=\"1097.0\"/><circle cx=\"0.0\" cy=\"1097.0\" r=\"1.0\"/><circle cx=\"0.0\" cy=\"1109.0\" r=\"1.0\"/><text x=\"0.0\" y=\"1103.0\"/></g><g class=\"unknown connector block\"><rect height=\"12.0\" width=\"18.0\" x=\"-9.0\" y=\"1094.0\"/><circle cx=\"0.0\" cy=\"1094.0\" r=\"1.0\"/><circle cx=\"0.0\" cy=\"1106.0\" r=\"1.0\"/><text x=\"0.0\" y=\"1100.0\">A</text></g><g class=\"input connector block\"><rect height=\"12.0\" width=\"18.0\" x=\"191.0\" y=\"1111.0\"/><circle cx=\"200.0\" cy=\"1111.0\" r=\"1.0\"/><circle cx=\"200.0\" cy=\"1123.0\" r=\"1.0\"/><text x=\"200.0\" y=\"1117.0\"/></g><g class=\"output connector block\"><rect height=\"12.0\" width=\"18.0\" x=\"191.0\" y=\"1117.0\"/><circle cx=\"200.0\" cy=\"1117.0\" r=\"1.0\"/><circle cx=\"200.0\" cy=\"1129.0\" r=\"1.0\"/><text x=\"200.0\" y=\"1123.0\"/></g><g class=\"unknown connector block\"><rect height=\"12.0\" width=\"18.0\" x=\"191.0\" y=\"1114.0\"/><circle cx=\"200.0\" cy=\"1114.0\" r=\"1.0\"/><circle cx=\"200.0\" cy=\"1126.0\" r=\"1.0\"/><text x=\"200.0\" y=\"1120.0\">K</text></g><g class=\"input connector block\"><rect height=\"12.0\" width=\"18.0\" x=\"91.0\" y=\"1131.0\"/><circle cx=\"100.0\" cy=\"1131.0\" r=\"1.0\"/><circle cx=\"100.0\" cy=\"1143.0\" r=\"1.0\"/><text x=\"100.0\" y=\"1137.0\"/></g><g class=\"output connector block\"><rect height=\"12.0\" width=\"18.0\" x=\"91.0\" y=\"1137.0\"/><circle cx=\"100.0\" cy=\"1137.0\" r=\"1.0\"/><circle cx=\"100.0\" cy=\"1149.0\" r=\"1.0\"/><text x=\"100.0\" y=\"1143.0\"/></g><g class=\"unknown connector block\"><rect height=\"12.0\" width=\"18.0\" x=\"91.0\" y=\"1134.0\"/><circle cx=\"100.0\" cy=\"1134.0\" r=\"1.0\"/><circle cx=\"100.0\" cy=\"1146.0\" r=\"1.0\"/><text x=\"100.0\" y=\"1140.0\">F</text></g></g></svg>"
      ],
      "text/plain": [
       "<IPython.core.display.SVG object>"
      ]
     },
     "execution_count": 795,
     "metadata": {},
     "output_type": "execute_result"
    }
   ],
   "source": [
    "movevis.options.analysis['only_canonical'] = True\n",
    "SVG(movevis.svg())"
   ]
  },
  {
   "cell_type": "code",
   "execution_count": null,
   "metadata": {
    "collapsed": true
   },
   "outputs": [],
   "source": []
  }
 ],
 "metadata": {
  "kernelspec": {
   "display_name": "Python 2",
   "language": "python",
   "name": "python2"
  },
  "language_info": {
   "codemirror_mode": {
    "name": "ipython",
    "version": 2
   },
   "file_extension": ".py",
   "mimetype": "text/x-python",
   "name": "python",
   "nbconvert_exporter": "python",
   "pygments_lexer": "ipython2",
   "version": "2.7.11"
  }
 },
 "nbformat": 4,
 "nbformat_minor": 0
}
