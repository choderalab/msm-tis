{
 "cells": [
  {
   "cell_type": "markdown",
   "metadata": {},
   "source": [
    "## LAMMPS Integration "
   ]
  },
  {
   "cell_type": "code",
   "execution_count": 50,
   "metadata": {
    "collapsed": true
   },
   "outputs": [],
   "source": [
    "import openpathsampling as paths\n",
    "import openpathsampling.engines.lammps as eng"
   ]
  },
  {
   "cell_type": "code",
   "execution_count": 51,
   "metadata": {
    "collapsed": true
   },
   "outputs": [],
   "source": [
    "import pandas as pd"
   ]
  },
  {
   "cell_type": "code",
   "execution_count": 52,
   "metadata": {
    "collapsed": true
   },
   "outputs": [],
   "source": [
    "%matplotlib inline\n",
    "import matplotlib.pyplot as plt"
   ]
  },
  {
   "cell_type": "markdown",
   "metadata": {},
   "source": [
    "We will run a test file and load all lines contained in _Lammps_ script"
   ]
  },
  {
   "cell_type": "code",
   "execution_count": 63,
   "metadata": {},
   "outputs": [],
   "source": [
    "script = open('simple-lj.lammps','r').read()"
   ]
  },
  {
   "cell_type": "markdown",
   "metadata": {},
   "source": [
    "Output the script. In our case a simple 256 atom LJ liquid."
   ]
  },
  {
   "cell_type": "code",
   "execution_count": 64,
   "metadata": {},
   "outputs": [
    {
     "name": "stdout",
     "output_type": "stream",
     "text": [
      "# 3d Lennard-Jones melt\n",
      "\n",
      "units\t\tlj\n",
      "atom_style\tatomic\n",
      "atom_modify\tmap array\n",
      "\n",
      "lattice\t\tfcc 0.8442\n",
      "region\t\tbox block 0 4 0 4 0 4\n",
      "create_box\t1 box\n",
      "create_atoms\t1 box\n",
      "mass\t\t1 1.0\n",
      "\n",
      "velocity\tall create 1.44 87287 loop geom\n",
      "\n",
      "pair_style\tlj/cut 2.5\n",
      "pair_coeff\t1 1 1.0 1.0 2.5\n",
      "\n",
      "neighbor\t0.3 bin\n",
      "neigh_modify\tdelay 0 every 20 check no\n",
      "\n",
      "fix\t\t1 all nve\n",
      "\n",
      "variable        fx atom fx\n",
      "\n",
      "run 1\n"
     ]
    }
   ],
   "source": [
    "print script"
   ]
  },
  {
   "cell_type": "markdown",
   "metadata": {},
   "source": [
    "Create the engine as usual"
   ]
  },
  {
   "cell_type": "code",
   "execution_count": 55,
   "metadata": {
    "collapsed": true
   },
   "outputs": [],
   "source": [
    "engine = eng.Engine(\n",
    "    inputs=script,\n",
    "    options={\n",
    "        'n_steps_per_frame': 100,\n",
    "        'n_frames_max': 5000\n",
    "    }\n",
    ")"
   ]
  },
  {
   "cell_type": "code",
   "execution_count": 56,
   "metadata": {
    "collapsed": true
   },
   "outputs": [],
   "source": [
    "snap = engine.current_snapshot"
   ]
  },
  {
   "cell_type": "code",
   "execution_count": 57,
   "metadata": {},
   "outputs": [
    {
     "data": {
      "text/plain": [
       "Quantity(value=array([[  6.71591568e+00,   6.71204076e+00,   6.69920380e+00],\n",
       "       [  8.26140999e-01,   8.54909084e-01,   1.70677164e-02],\n",
       "       [  8.26080058e-01,   6.71212319e+00,   8.52072533e-01],\n",
       "       [  1.60511914e-02,   8.59451911e-01,   8.34119868e-01],\n",
       "       [  1.66978388e+00,   6.71273899e+00,   6.71721162e+00],\n",
       "       [  2.51082874e+00,   8.34554020e-01,   6.70154349e+00],\n",
       "       [  2.52286983e+00,   6.70264024e+00,   8.20375765e-01],\n",
       "       [  1.66309512e+00,   8.55269718e-01,   8.52390006e-01],\n",
       "       [  3.34631859e+00,   1.72249075e-02,   6.70319084e+00],\n",
       "       [  4.20855665e+00,   8.60395722e-01,   3.46487244e-03],\n",
       "       [  4.20273857e+00,   6.69795637e+00,   8.58672372e-01],\n",
       "       [  3.36200928e+00,   8.33642384e-01,   8.36450542e-01],\n",
       "       [  5.02290495e+00,   2.15510538e-03,   6.70701951e+00],\n",
       "       [  5.87181664e+00,   8.42950452e-01,   6.69962172e+00],\n",
       "       [  5.89580152e+00,   6.71478980e+00,   8.26417554e-01],\n",
       "       [  5.05600919e+00,   8.46104904e-01,   8.52109218e-01],\n",
       "       [  6.50958941e-03,   1.68768818e+00,   1.33659027e-02],\n",
       "       [  8.53686254e-01,   2.52168941e+00,   1.42338810e-02],\n",
       "       [  8.43802097e-01,   1.69512588e+00,   8.34688851e-01],\n",
       "       [  1.02573225e-02,   2.52062957e+00,   8.49973191e-01],\n",
       "       [  1.68725055e+00,   1.66475174e+00,   6.71474164e+00],\n",
       "       [  2.50160702e+00,   2.52664724e+00,   1.89692122e-02],\n",
       "       [  2.52116202e+00,   1.68951768e+00,   8.52911838e-01],\n",
       "       [  1.68093720e+00,   2.51158712e+00,   8.49750419e-01],\n",
       "       [  3.36116335e+00,   1.68885022e+00,   1.68141088e-02],\n",
       "       [  4.21374110e+00,   2.53945010e+00,   1.39601368e-02],\n",
       "       [  4.18492982e+00,   1.67525670e+00,   8.21022584e-01],\n",
       "       [  3.36855809e+00,   2.50319174e+00,   8.60617028e-01],\n",
       "       [  5.04751880e+00,   1.69008185e+00,   6.71191854e+00],\n",
       "       [  5.87597688e+00,   2.51269711e+00,   6.70285039e+00],\n",
       "       [  5.89836789e+00,   1.66589376e+00,   8.20315006e-01],\n",
       "       [  5.04718579e+00,   2.51861637e+00,   8.58780984e-01],\n",
       "       [  1.61821316e-02,   3.35476625e+00,   1.56402443e-03],\n",
       "       [  8.47896501e-01,   4.18557078e+00,   6.70747548e+00],\n",
       "       [  8.25516678e-01,   3.37748310e+00,   8.24827072e-01],\n",
       "       [  2.80246141e-03,   4.19573991e+00,   8.22198834e-01],\n",
       "       [  1.65810244e+00,   3.37611055e+00,   1.53920314e-02],\n",
       "       [  2.50255135e+00,   4.20076380e+00,   7.24190125e-03],\n",
       "       [  2.50261002e+00,   3.35430618e+00,   8.43123983e-01],\n",
       "       [  1.67698348e+00,   4.18217005e+00,   8.46307791e-01],\n",
       "       [  3.33863307e+00,   3.36446533e+00,   6.70796630e+00],\n",
       "       [  4.19774423e+00,   4.19416991e+00,   6.70484100e+00],\n",
       "       [  4.19592011e+00,   3.35964592e+00,   8.43597584e-01],\n",
       "       [  3.36536791e+00,   4.19268844e+00,   8.24427725e-01],\n",
       "       [  5.05127293e+00,   3.34656314e+00,   8.88946186e-03],\n",
       "       [  5.89125331e+00,   4.21581824e+00,   6.70967463e+00],\n",
       "       [  5.88196467e+00,   3.34379935e+00,   8.47263626e-01],\n",
       "       [  5.03389709e+00,   4.18809868e+00,   8.36690539e-01],\n",
       "       [  6.70891191e+00,   5.04468188e+00,   6.70715668e+00],\n",
       "       [  8.20292000e-01,   5.89200369e+00,   6.70691549e+00],\n",
       "       [  8.29152713e-01,   5.04899140e+00,   8.54168359e-01],\n",
       "       [  1.96391542e-02,   5.87155615e+00,   8.23256889e-01],\n",
       "       [  1.68706071e+00,   5.03458389e+00,   6.69926316e+00],\n",
       "       [  2.52266723e+00,   5.87109340e+00,   1.95729588e-02],\n",
       "       [  2.52820818e+00,   5.02843142e+00,   8.27022951e-01],\n",
       "       [  1.66736628e+00,   5.86270203e+00,   8.27378565e-01],\n",
       "       [  3.35633919e+00,   5.02447783e+00,   2.47012281e-03],\n",
       "       [  4.21335773e+00,   5.88290468e+00,   9.19596446e-03],\n",
       "       [  4.21841673e+00,   5.03139252e+00,   8.43742734e-01],\n",
       "       [  3.34696764e+00,   5.87840280e+00,   8.36962766e-01],\n",
       "       [  5.02127120e+00,   5.04858266e+00,   8.22434035e-03],\n",
       "       [  5.89843205e+00,   5.87346789e+00,   6.71818716e+00],\n",
       "       [  5.85903854e+00,   5.05424454e+00,   8.35775452e-01],\n",
       "       [  5.03136940e+00,   5.86835217e+00,   8.20126341e-01],\n",
       "       [  6.71730044e+00,   6.71283095e+00,   1.69151028e+00],\n",
       "       [  8.55449794e-01,   8.23023915e-01,   1.69205467e+00],\n",
       "       [  8.19843687e-01,   1.43546692e-02,   2.52723961e+00],\n",
       "       [  1.52425710e-02,   8.42710674e-01,   2.52320526e+00],\n",
       "       [  1.66704605e+00,   6.71663610e+00,   1.69692303e+00],\n",
       "       [  2.51248380e+00,   8.50800542e-01,   1.68089376e+00],\n",
       "       [  2.51213419e+00,   7.54502272e-03,   2.53191254e+00],\n",
       "       [  1.67303911e+00,   8.27535239e-01,   2.53487737e+00],\n",
       "       [  3.35350261e+00,   3.74492838e-03,   1.67822514e+00],\n",
       "       [  4.17873803e+00,   8.42770151e-01,   1.67162758e+00],\n",
       "       [  4.19581296e+00,   6.71367076e+00,   2.51654398e+00],\n",
       "       [  3.34219727e+00,   8.55570507e-01,   2.53506731e+00],\n",
       "       [  5.05778719e+00,   5.54374512e-03,   1.69896569e+00],\n",
       "       [  5.88065157e+00,   8.21251462e-01,   1.67503456e+00],\n",
       "       [  5.87052824e+00,   2.77380418e-03,   2.51995685e+00],\n",
       "       [  5.03826580e+00,   8.40450797e-01,   2.53357975e+00],\n",
       "       [  5.63980534e-03,   1.68913618e+00,   1.70101366e+00],\n",
       "       [  8.55740458e-01,   2.50030798e+00,   1.68840325e+00],\n",
       "       [  8.45435917e-01,   1.68393078e+00,   2.52454206e+00],\n",
       "       [  1.53633792e-02,   2.50129560e+00,   2.50560930e+00],\n",
       "       [  1.67874044e+00,   1.67748498e+00,   1.66692334e+00],\n",
       "       [  2.52542553e+00,   2.52621675e+00,   1.67809544e+00],\n",
       "       [  2.53892320e+00,   1.69516232e+00,   2.50749548e+00],\n",
       "       [  1.69244665e+00,   2.50512053e+00,   2.53209161e+00],\n",
       "       [  3.34427754e+00,   1.67577009e+00,   1.67649220e+00],\n",
       "       [  4.19097396e+00,   2.51390300e+00,   1.68315653e+00],\n",
       "       [  4.17907135e+00,   1.67034296e+00,   2.52279396e+00],\n",
       "       [  3.35318689e+00,   2.52231661e+00,   2.52955071e+00],\n",
       "       [  5.04214260e+00,   1.67228087e+00,   1.66190347e+00],\n",
       "       [  5.85970417e+00,   2.52916701e+00,   1.67509347e+00],\n",
       "       [  5.88167862e+00,   1.66622102e+00,   2.50211202e+00],\n",
       "       [  5.05321062e+00,   2.50767998e+00,   2.51374536e+00],\n",
       "       [  6.69798197e+00,   3.34132582e+00,   1.68226787e+00],\n",
       "       [  8.41483165e-01,   4.20460775e+00,   1.68028887e+00],\n",
       "       [  8.59656728e-01,   3.33959054e+00,   2.53820715e+00],\n",
       "       [  6.70896931e+00,   4.18975103e+00,   2.51844296e+00],\n",
       "       [  1.66708304e+00,   3.36056432e+00,   1.68089402e+00],\n",
       "       [  2.53392489e+00,   4.19844967e+00,   1.68837212e+00],\n",
       "       [  2.52889199e+00,   3.35996076e+00,   2.52393891e+00],\n",
       "       [  1.67676474e+00,   4.21894119e+00,   2.50767106e+00],\n",
       "       [  3.34579657e+00,   3.34806985e+00,   1.67875276e+00],\n",
       "       [  4.19448940e+00,   4.22020560e+00,   1.68145748e+00],\n",
       "       [  4.20139090e+00,   3.36065741e+00,   2.52473479e+00],\n",
       "       [  3.37849033e+00,   4.21141325e+00,   2.51778044e+00],\n",
       "       [  5.03853741e+00,   3.36204973e+00,   1.69509680e+00],\n",
       "       [  5.87480542e+00,   4.19590099e+00,   1.66082522e+00],\n",
       "       [  5.89309556e+00,   3.37895315e+00,   2.53907010e+00],\n",
       "       [  5.02243220e+00,   4.20539843e+00,   2.51349459e+00],\n",
       "       [  6.70481107e+00,   5.01914902e+00,   1.67784632e+00],\n",
       "       [  8.50008673e-01,   5.86069630e+00,   1.69421171e+00],\n",
       "       [  8.29924200e-01,   5.05737648e+00,   2.50798570e+00],\n",
       "       [  6.71665569e+00,   5.86231087e+00,   2.53064343e+00],\n",
       "       [  1.68005624e+00,   5.05878982e+00,   1.70096002e+00],\n",
       "       [  2.50164781e+00,   5.87158679e+00,   1.69165659e+00],\n",
       "       [  2.50116050e+00,   5.05835660e+00,   2.53696833e+00],\n",
       "       [  1.67773682e+00,   5.89899299e+00,   2.52229608e+00],\n",
       "       [  3.36391197e+00,   5.04800396e+00,   1.67280404e+00],\n",
       "       [  4.20746052e+00,   5.86656450e+00,   1.66986797e+00],\n",
       "       [  4.18470063e+00,   5.04034622e+00,   2.51253161e+00],\n",
       "       [  3.34680254e+00,   5.87880670e+00,   2.50693252e+00],\n",
       "       [  5.02330998e+00,   5.01971450e+00,   1.67703339e+00],\n",
       "       [  5.86057020e+00,   5.86032762e+00,   1.66803179e+00],\n",
       "       [  5.87104467e+00,   5.03851283e+00,   2.51090647e+00],\n",
       "       [  5.05731410e+00,   5.87279814e+00,   2.52305214e+00],\n",
       "       [  6.70257165e+00,   6.71762517e+00,   3.37744675e+00],\n",
       "       [  8.45684998e-01,   8.24839300e-01,   3.36607508e+00],\n",
       "       [  8.54060719e-01,   8.93808284e-04,   4.20617669e+00],\n",
       "       [  6.71428378e+00,   8.25000273e-01,   4.17932251e+00],\n",
       "       [  1.69692478e+00,   6.71522854e+00,   3.37302292e+00],\n",
       "       [  2.52339506e+00,   8.31855813e-01,   3.37624843e+00],\n",
       "       [  2.52432746e+00,   6.71095381e+00,   4.18279686e+00],\n",
       "       [  1.67356292e+00,   8.26788583e-01,   4.18237581e+00],\n",
       "       [  3.35931469e+00,   1.37227602e-02,   3.36975133e+00],\n",
       "       [  4.18578822e+00,   8.45469250e-01,   3.37958062e+00],\n",
       "       [  4.18161818e+00,   6.70665238e+00,   4.19330541e+00],\n",
       "       [  3.36390660e+00,   8.52790712e-01,   4.19055013e+00],\n",
       "       [  5.05807235e+00,   1.65496241e-02,   3.35243448e+00],\n",
       "       [  5.85705946e+00,   8.60786841e-01,   3.37155833e+00],\n",
       "       [  5.89368012e+00,   1.28685043e-02,   4.19972987e+00],\n",
       "       [  5.01972370e+00,   8.31003620e-01,   4.18353997e+00],\n",
       "       [  1.89797025e-02,   1.66202871e+00,   3.34366242e+00],\n",
       "       [  8.58079555e-01,   2.52437474e+00,   3.34169102e+00],\n",
       "       [  8.25486011e-01,   1.70033311e+00,   4.18544114e+00],\n",
       "       [  7.19650683e-03,   2.53621752e+00,   4.20305672e+00],\n",
       "       [  1.67061111e+00,   1.67754462e+00,   3.37002303e+00],\n",
       "       [  2.51596059e+00,   2.50885099e+00,   3.37036810e+00],\n",
       "       [  2.50513769e+00,   1.66665819e+00,   4.21346101e+00],\n",
       "       [  1.68313137e+00,   2.50828299e+00,   4.20063613e+00],\n",
       "       [  3.36971951e+00,   1.69408914e+00,   3.36833213e+00],\n",
       "       [  4.19526830e+00,   2.51766809e+00,   3.36517769e+00],\n",
       "       [  4.20305319e+00,   1.68879735e+00,   4.19256470e+00],\n",
       "       [  3.37064125e+00,   2.53392775e+00,   4.19122118e+00],\n",
       "       [  5.03521201e+00,   1.66825321e+00,   3.37297532e+00],\n",
       "       [  5.85927936e+00,   2.50556544e+00,   3.35887139e+00],\n",
       "       [  5.86591424e+00,   1.66166909e+00,   4.21554090e+00],\n",
       "       [  5.04220072e+00,   2.50857742e+00,   4.19344990e+00],\n",
       "       [  6.71048693e+00,   3.34088471e+00,   3.37198027e+00],\n",
       "       [  8.21696818e-01,   4.19829139e+00,   3.35974006e+00],\n",
       "       [  8.51143843e-01,   3.35245882e+00,   4.18643207e+00],\n",
       "       [  6.70549822e+00,   4.20116638e+00,   4.18739603e+00],\n",
       "       [  1.66247539e+00,   3.36812477e+00,   3.34065050e+00],\n",
       "       [  2.52127918e+00,   4.20137362e+00,   3.36407188e+00],\n",
       "       [  2.50431791e+00,   3.35074080e+00,   4.21123252e+00],\n",
       "       [  1.67366842e+00,   4.19453012e+00,   4.20151904e+00],\n",
       "       [  3.36154993e+00,   3.37623677e+00,   3.34466757e+00],\n",
       "       [  4.21489451e+00,   4.21793911e+00,   3.35036690e+00],\n",
       "       [  4.19193283e+00,   3.35902102e+00,   4.18765697e+00],\n",
       "       [  3.36930305e+00,   4.18127575e+00,   4.20321642e+00],\n",
       "       [  5.05877848e+00,   3.34976826e+00,   3.36723252e+00],\n",
       "       [  5.88294933e+00,   4.18184994e+00,   3.36494018e+00],\n",
       "       [  5.89775934e+00,   3.37895227e+00,   4.19950774e+00],\n",
       "       [  5.05496656e+00,   4.19690653e+00,   4.20317898e+00],\n",
       "       [  6.71771555e+00,   5.03147580e+00,   3.34101205e+00],\n",
       "       [  8.19323273e-01,   5.88367491e+00,   3.35180077e+00],\n",
       "       [  8.58167484e-01,   5.02979115e+00,   4.21604647e+00],\n",
       "       [  1.48413177e-02,   5.86214581e+00,   4.18088343e+00],\n",
       "       [  1.67462971e+00,   5.04381384e+00,   3.36078689e+00],\n",
       "       [  2.50093155e+00,   5.86826603e+00,   3.36854202e+00],\n",
       "       [  2.50005716e+00,   5.05224375e+00,   4.18233814e+00],\n",
       "       [  1.66993282e+00,   5.87899469e+00,   4.20975667e+00],\n",
       "       [  3.35855936e+00,   5.03141949e+00,   3.36560620e+00],\n",
       "       [  4.21053921e+00,   5.89613421e+00,   3.36798723e+00],\n",
       "       [  4.18950679e+00,   5.05699276e+00,   4.19612008e+00],\n",
       "       [  3.37410646e+00,   5.86907151e+00,   4.18082319e+00],\n",
       "       [  5.03448463e+00,   5.02159862e+00,   3.34727372e+00],\n",
       "       [  5.86991418e+00,   5.87151992e+00,   3.34323397e+00],\n",
       "       [  5.86668263e+00,   5.05186168e+00,   4.18701479e+00],\n",
       "       [  5.05507663e+00,   5.87127597e+00,   4.19675601e+00],\n",
       "       [  2.03838369e-03,   1.54684103e-02,   5.02665251e+00],\n",
       "       [  8.57313155e-01,   8.57676074e-01,   5.04728811e+00],\n",
       "       [  8.21320166e-01,   6.71290842e+00,   5.87480985e+00],\n",
       "       [  6.71451545e+00,   8.29892808e-01,   5.88382710e+00],\n",
       "       [  1.67329670e+00,   1.41595783e-02,   5.03729802e+00],\n",
       "       [  2.50168399e+00,   8.61076334e-01,   5.02529746e+00],\n",
       "       [  2.50818061e+00,   6.70217358e+00,   5.89391637e+00],\n",
       "       [  1.69564830e+00,   8.28067802e-01,   5.86355443e+00],\n",
       "       [  3.34021787e+00,   1.23692860e-02,   5.05244330e+00],\n",
       "       [  4.18156086e+00,   8.48390374e-01,   5.04599018e+00],\n",
       "       [  4.21327767e+00,   6.71025608e+00,   5.86246229e+00],\n",
       "       [  3.36873964e+00,   8.55828208e-01,   5.87019690e+00],\n",
       "       [  5.02750926e+00,   6.71619524e+00,   5.03189243e+00],\n",
       "       [  5.88588706e+00,   8.25408196e-01,   5.03602710e+00],\n",
       "       [  5.87840559e+00,   6.71056714e+00,   5.89663971e+00],\n",
       "       [  5.04629374e+00,   8.48499476e-01,   5.88614903e+00],\n",
       "       [  5.20152769e-03,   1.69915915e+00,   5.03776182e+00],\n",
       "       [  8.54069259e-01,   2.51019843e+00,   5.04308461e+00],\n",
       "       [  8.34841506e-01,   1.67135941e+00,   5.88901557e+00],\n",
       "       [  6.63916143e-03,   2.52378900e+00,   5.86383529e+00],\n",
       "       [  1.66640786e+00,   1.68251037e+00,   5.05049524e+00],\n",
       "       [  2.51137890e+00,   2.52290655e+00,   5.04124120e+00],\n",
       "       [  2.51779613e+00,   1.69136788e+00,   5.87029270e+00],\n",
       "       [  1.68209404e+00,   2.51755976e+00,   5.88196125e+00],\n",
       "       [  3.37828783e+00,   1.66999453e+00,   5.03022646e+00],\n",
       "       [  4.20021758e+00,   2.50057608e+00,   5.03246865e+00],\n",
       "       [  4.20835284e+00,   1.67837172e+00,   5.89375702e+00],\n",
       "       [  3.34798559e+00,   2.53456088e+00,   5.86414494e+00],\n",
       "       [  5.05224288e+00,   1.68598873e+00,   5.03487684e+00],\n",
       "       [  5.89245925e+00,   2.50314292e+00,   5.05299616e+00],\n",
       "       [  5.88279609e+00,   1.67566459e+00,   5.89283906e+00],\n",
       "       [  5.03329983e+00,   2.53266673e+00,   5.89415995e+00],\n",
       "       [  1.12212669e-02,   3.36835735e+00,   5.03186376e+00],\n",
       "       [  8.49799443e-01,   4.18071968e+00,   5.05233786e+00],\n",
       "       [  8.30993720e-01,   3.37947903e+00,   5.86674380e+00],\n",
       "       [  4.08806564e-03,   4.20225775e+00,   5.86749909e+00],\n",
       "       [  1.68906377e+00,   3.36483465e+00,   5.01967412e+00],\n",
       "       [  2.53420843e+00,   4.20326730e+00,   5.05190115e+00],\n",
       "       [  2.53892823e+00,   3.35505911e+00,   5.86106771e+00],\n",
       "       [  1.68429993e+00,   4.18911437e+00,   5.87809510e+00],\n",
       "       [  3.34700578e+00,   3.37584149e+00,   5.05667918e+00],\n",
       "       [  4.20943230e+00,   4.19666993e+00,   5.02832218e+00],\n",
       "       [  4.20090778e+00,   3.37320059e+00,   5.85946872e+00],\n",
       "       [  3.37121205e+00,   4.21640566e+00,   5.88937066e+00],\n",
       "       [  5.03326849e+00,   3.34003824e+00,   5.02644243e+00],\n",
       "       [  5.89055524e+00,   4.21272324e+00,   5.03764865e+00],\n",
       "       [  5.88871154e+00,   3.37952669e+00,   5.88678953e+00],\n",
       "       [  5.04928972e+00,   4.21448126e+00,   5.87877305e+00],\n",
       "       [  1.11268152e-02,   5.03461546e+00,   5.04480418e+00],\n",
       "       [  8.58906148e-01,   5.89768096e+00,   5.03395551e+00],\n",
       "       [  8.51060210e-01,   5.04851023e+00,   5.86910779e+00],\n",
       "       [  6.70644835e+00,   5.85814882e+00,   5.86274771e+00],\n",
       "       [  1.69440766e+00,   5.01884976e+00,   5.02787265e+00],\n",
       "       [  2.53255063e+00,   5.87990136e+00,   5.02991233e+00],\n",
       "       [  2.50093921e+00,   5.02169375e+00,   5.89323274e+00],\n",
       "       [  1.68769349e+00,   5.89576507e+00,   5.86583628e+00],\n",
       "       [  3.35118758e+00,   5.01846612e+00,   5.03991303e+00],\n",
       "       [  4.18999684e+00,   5.87356669e+00,   5.05093677e+00],\n",
       "       [  4.20560475e+00,   5.02501199e+00,   5.87450226e+00],\n",
       "       [  3.34284376e+00,   5.88139098e+00,   5.88696521e+00],\n",
       "       [  5.05079753e+00,   5.05922052e+00,   5.04149378e+00],\n",
       "       [  5.86564637e+00,   5.88795707e+00,   5.03731609e+00],\n",
       "       [  5.89086781e+00,   5.03275971e+00,   5.88557141e+00],\n",
       "       [  5.04678616e+00,   5.88570960e+00,   5.87861970e+00]]), unit=nanometer)"
      ]
     },
     "execution_count": 57,
     "metadata": {},
     "output_type": "execute_result"
    }
   ],
   "source": [
    "snap.coordinates"
   ]
  },
  {
   "cell_type": "markdown",
   "metadata": {},
   "source": [
    "An then just run it, as you are used to"
   ]
  },
  {
   "cell_type": "code",
   "execution_count": 49,
   "metadata": {},
   "outputs": [
    {
     "name": "stdout",
     "output_type": "stream",
     "text": [
      "CPU times: user 1.72 s, sys: 10.7 ms, total: 1.73 s\n",
      "Wall time: 1.73 s\n"
     ]
    }
   ],
   "source": [
    "%%time\n",
    "traj = engine.generate(engine.current_snapshot, [paths.LengthEnsemble(2).can_append])"
   ]
  },
  {
   "cell_type": "markdown",
   "metadata": {},
   "source": [
    "Some simple plotting"
   ]
  },
  {
   "cell_type": "markdown",
   "metadata": {},
   "source": [
    "```\n",
    " 999 x      1 step(s) per frame    1.36 s\n",
    " 999 x     10 step(s) per frame    2.68 s\n",
    " 999 x    100 step(s) per frame   18.30 s\n",
    " 999 x   1000 step(s) per frame  166.00 s \n",
    "   1 x 100000 step(s) per frame   16.40 s \n",
    "   1 x  10000 step(s) per frame    1.73 s\n",
    "```"
   ]
  },
  {
   "cell_type": "markdown",
   "metadata": {},
   "source": [
    "Plot the time development of the potential energy of a trajectory"
   ]
  },
  {
   "cell_type": "code",
   "execution_count": 33,
   "metadata": {},
   "outputs": [
    {
     "data": {
      "text/plain": [
       "Trajectory[1000]"
      ]
     },
     "execution_count": 33,
     "metadata": {},
     "output_type": "execute_result"
    }
   ],
   "source": [
    "traj"
   ]
  },
  {
   "cell_type": "code",
   "execution_count": 34,
   "metadata": {
    "collapsed": true
   },
   "outputs": [],
   "source": [
    "df = pd.DataFrame([sn.coordinates[0][1]._value for sn in traj])"
   ]
  },
  {
   "cell_type": "code",
   "execution_count": 35,
   "metadata": {},
   "outputs": [
    {
     "data": {
      "text/plain": [
       "<matplotlib.axes._subplots.AxesSubplot at 0x181f41fd0>"
      ]
     },
     "execution_count": 35,
     "metadata": {},
     "output_type": "execute_result"
    },
    {
     "data": {
      "image/png": "[encoded data removed]",
      "text/plain": [
       "<matplotlib.figure.Figure at 0x181f41650>"
      ]
     },
     "metadata": {},
     "output_type": "display_data"
    }
   ],
   "source": [
    "df.plot()"
   ]
  },
  {
   "cell_type": "markdown",
   "metadata": {},
   "source": [
    "That's it. Go from there... Whohoo..."
   ]
  },
  {
   "cell_type": "code",
   "execution_count": null,
   "metadata": {
    "collapsed": true
   },
   "outputs": [],
   "source": []
  }
 ],
 "metadata": {
  "anaconda-cloud": {},
  "kernelspec": {
   "display_name": "Python 2",
   "language": "python",
   "name": "python2"
  },
  "language_info": {
   "codemirror_mode": {
    "name": "ipython",
    "version": 2
   },
   "file_extension": ".py",
   "mimetype": "text/x-python",
   "name": "python",
   "nbconvert_exporter": "python",
   "pygments_lexer": "ipython2",
   "version": "2.7.13"
  }
 },
 "nbformat": 4,
 "nbformat_minor": 1
}
