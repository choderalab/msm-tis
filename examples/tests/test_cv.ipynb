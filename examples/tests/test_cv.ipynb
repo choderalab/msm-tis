{
 "cells": [
  {
   "cell_type": "markdown",
   "metadata": {},
   "source": [
    "### Test of CV functionality. \n",
    "\n",
    "Most storage related tests are nosetests now. So look in `testcollectivevariable.py` please."
   ]
  },
  {
   "cell_type": "code",
   "execution_count": 1,
   "metadata": {
    "collapsed": true
   },
   "outputs": [],
   "source": [
    "import openpathsampling as paths\n",
    "import numpy as np\n",
    "import openpathsampling.engines.openmm as peng"
   ]
  },
  {
   "cell_type": "markdown",
   "metadata": {},
   "source": [
    "Load first frame from test pdb."
   ]
  },
  {
   "cell_type": "code",
   "execution_count": 2,
   "metadata": {
    "collapsed": false
   },
   "outputs": [],
   "source": [
    "template = peng.snapshot_from_pdb('../resources/AD_initial_frame.pdb')"
   ]
  },
  {
   "cell_type": "markdown",
   "metadata": {},
   "source": [
    "Create a simple CV without an underlying function."
   ]
  },
  {
   "cell_type": "code",
   "execution_count": 3,
   "metadata": {
    "collapsed": true
   },
   "outputs": [],
   "source": [
    "cv0 = paths.CollectiveVariable('func0')"
   ]
  },
  {
   "cell_type": "markdown",
   "metadata": {},
   "source": [
    "Create a complicated function."
   ]
  },
  {
   "cell_type": "code",
   "execution_count": 4,
   "metadata": {
    "collapsed": true
   },
   "outputs": [],
   "source": [
    "center = 1\n",
    "def dist(snapshot, center, np):\n",
    "    return np.sum(snapshot.coordinates._value[0]) - center"
   ]
  },
  {
   "cell_type": "markdown",
   "metadata": {},
   "source": [
    "Create collective variable from this function. Note that you have to specify `center` and `np` to make this work"
   ]
  },
  {
   "cell_type": "code",
   "execution_count": 5,
   "metadata": {
    "collapsed": false
   },
   "outputs": [],
   "source": [
    "cv1 = paths.FunctionCV('func1', dist, center=center, np=np, cv_time_reversible=False).with_diskcache()\n",
    "cv2 = paths.FunctionCV('func2', dist, center=center, np=np, cv_wrap_numpy_array=True).with_diskcache()\n",
    "cv3 = paths.FunctionCV('func3', dist, center=center, np=np, cv_wrap_numpy_array=True, cv_time_reversible=True).with_diskcache()"
   ]
  },
  {
   "cell_type": "markdown",
   "metadata": {},
   "source": [
    "Create storage to test save and load."
   ]
  },
  {
   "cell_type": "code",
   "execution_count": 6,
   "metadata": {
    "collapsed": false
   },
   "outputs": [
    {
     "name": "stdout",
     "output_type": "stream",
     "text": [
      "284548731370429831383829540429094715404\n"
     ]
    }
   ],
   "source": [
    "#! lazy\n",
    "storage = paths.Storage('can_be_deleted.nc', mode='w')\n",
    "print storage.snapshots.save(template)"
   ]
  },
  {
   "cell_type": "markdown",
   "metadata": {},
   "source": [
    "Save CV"
   ]
  },
  {
   "cell_type": "code",
   "execution_count": 7,
   "metadata": {
    "collapsed": false
   },
   "outputs": [
    {
     "name": "stdout",
     "output_type": "stream",
     "text": [
      "[(store.attributes[Attribute] : 4 object(s), 0, 284548731370429831383829540429094715406L), (store.attributes[Attribute] : 4 object(s), 0, 284548731370429831383829540429094715408L), (store.attributes[Attribute] : 4 object(s), 0, 284548731370429831383829540429094715410L), (store.attributes[Attribute] : 4 object(s), 0, 284548731370429831383829540429094715412L)]\n"
     ]
    }
   ],
   "source": [
    "#! lazy\n",
    "print storage.save([cv0, cv1, cv2, cv3])"
   ]
  },
  {
   "cell_type": "code",
   "execution_count": 8,
   "metadata": {
    "collapsed": false
   },
   "outputs": [
    {
     "data": {
      "text/plain": [
       "{284548731370429831383829540429094715406L: 0,\n",
       " 284548731370429831383829540429094715408L: 1,\n",
       " 284548731370429831383829540429094715410L: 2,\n",
       " 284548731370429831383829540429094715412L: 3}"
      ]
     },
     "execution_count": 8,
     "metadata": {},
     "output_type": "execute_result"
    }
   ],
   "source": [
    "storage.cvs.index"
   ]
  },
  {
   "cell_type": "markdown",
   "metadata": {},
   "source": [
    "Set the CV value for the storage.template"
   ]
  },
  {
   "cell_type": "code",
   "execution_count": 9,
   "metadata": {
    "collapsed": false
   },
   "outputs": [],
   "source": [
    "cv0[template] = 10.0"
   ]
  },
  {
   "cell_type": "markdown",
   "metadata": {},
   "source": [
    "and create a storage for it"
   ]
  },
  {
   "cell_type": "code",
   "execution_count": 10,
   "metadata": {
    "collapsed": true
   },
   "outputs": [],
   "source": [
    "storage.cvs.add_diskcache(cv0, allow_incomplete=True)"
   ]
  },
  {
   "cell_type": "markdown",
   "metadata": {},
   "source": [
    "And we should have a float store"
   ]
  },
  {
   "cell_type": "code",
   "execution_count": 11,
   "metadata": {
    "collapsed": false
   },
   "outputs": [],
   "source": [
    "storage.cvs.sync(cv0)"
   ]
  },
  {
   "cell_type": "code",
   "execution_count": 12,
   "metadata": {
    "collapsed": false
   },
   "outputs": [],
   "source": [
    "assert(cv0._store_dict.value_store.vars['value'][:] == [10.0])"
   ]
  },
  {
   "cell_type": "markdown",
   "metadata": {},
   "source": [
    "Test function for reversed template."
   ]
  },
  {
   "cell_type": "code",
   "execution_count": 13,
   "metadata": {
    "collapsed": false
   },
   "outputs": [
    {
     "name": "stdout",
     "output_type": "stream",
     "text": [
      "-1.08320000023\n"
     ]
    }
   ],
   "source": [
    "dd = dist(template.reversed, center, np)\n",
    "print dd"
   ]
  },
  {
   "cell_type": "markdown",
   "metadata": {},
   "source": [
    "Create another CV. This time using the `from_template` function."
   ]
  },
  {
   "cell_type": "code",
   "execution_count": 14,
   "metadata": {
    "collapsed": false
   },
   "outputs": [
    {
     "name": "stdout",
     "output_type": "stream",
     "text": [
      "[10.0, 10.0]\n",
      "[-1.0832000002264977, -1.0832000002264977]\n"
     ]
    }
   ],
   "source": [
    "print cv0([template, template])\n",
    "print cv1([template, template])"
   ]
  },
  {
   "cell_type": "code",
   "execution_count": 15,
   "metadata": {
    "collapsed": false
   },
   "outputs": [
    {
     "name": "stdout",
     "output_type": "stream",
     "text": [
      "<type 'list'>\n",
      "<type 'float'>\n",
      "<type 'list'>\n",
      "<type 'numpy.float64'>\n"
     ]
    }
   ],
   "source": [
    "print type(cv0([template, template]))\n",
    "print type(cv0([template, template])[0])\n",
    "print type(cv1([template, template]))\n",
    "print type(cv1([template, template])[0])"
   ]
  },
  {
   "cell_type": "code",
   "execution_count": 16,
   "metadata": {
    "collapsed": false
   },
   "outputs": [
    {
     "name": "stdout",
     "output_type": "stream",
     "text": [
      "[ u'{\"_cls\":\"CollectiveVariable\",\"_dict\":{\"cv_time_reversible\":false,\"name\":\"func0\"}}'\n",
      " u'{\"_cls\":\"FunctionCV\",\"_dict\":{\"name\":\"func1\",\"f\":{\"_marshal\":\"YwMAAAADAAAAAwAAAEMAAABzGwAAAHwCAGoAAHwAAGoBAGoCAGQBABmDAQB8AQAYUygCAAAATmkAAAAAKAMAAAB0AwAAAHN1bXQLAAAAY29vcmRpbmF0ZXN0BgAAAF92YWx1ZSgDAAAAdAgAAABzbmFwc2hvdHQGAAAAY2VudGVydAIAAABucCgAAAAAKAAAAABzHgAAADxpcHl0aG9uLWlucHV0LTQtNzMyMzhiNjY5OTg3PnQEAAAAZGlzdAIAAABzAgAAAAAB\",\"_module_vars\":[],\"_global_vars\":[]},\"cv_time_reversible\":false,\"cv_wrap_numpy_array\":false,\"cv_requires_lists\":false,\"cv_scalarize_numpy_singletons\":false,\"kwargs\":{\"np\":{\"_import\":\"numpy\"},\"center\":1}}}'\n",
      " u'{\"_cls\":\"FunctionCV\",\"_dict\":{\"name\":\"func2\",\"f\":{\"_marshal\":\"YwMAAAADAAAAAwAAAEMAAABzGwAAAHwCAGoAAHwAAGoBAGoCAGQBABmDAQB8AQAYUygCAAAATmkAAAAAKAMAAAB0AwAAAHN1bXQLAAAAY29vcmRpbmF0ZXN0BgAAAF92YWx1ZSgDAAAAdAgAAABzbmFwc2hvdHQGAAAAY2VudGVydAIAAABucCgAAAAAKAAAAABzHgAAADxpcHl0aG9uLWlucHV0LTQtNzMyMzhiNjY5OTg3PnQEAAAAZGlzdAIAAABzAgAAAAAB\",\"_module_vars\":[],\"_global_vars\":[]},\"cv_time_reversible\":false,\"cv_wrap_numpy_array\":true,\"cv_requires_lists\":false,\"cv_scalarize_numpy_singletons\":false,\"kwargs\":{\"np\":{\"_import\":\"numpy\"},\"center\":1}}}'\n",
      " u'{\"_cls\":\"FunctionCV\",\"_dict\":{\"name\":\"func3\",\"f\":{\"_marshal\":\"YwMAAAADAAAAAwAAAEMAAABzGwAAAHwCAGoAAHwAAGoBAGoCAGQBABmDAQB8AQAYUygCAAAATmkAAAAAKAMAAAB0AwAAAHN1bXQLAAAAY29vcmRpbmF0ZXN0BgAAAF92YWx1ZSgDAAAAdAgAAABzbmFwc2hvdHQGAAAAY2VudGVydAIAAABucCgAAAAAKAAAAABzHgAAADxpcHl0aG9uLWlucHV0LTQtNzMyMzhiNjY5OTg3PnQEAAAAZGlzdAIAAABzAgAAAAAB\",\"_module_vars\":[],\"_global_vars\":[]},\"cv_time_reversible\":true,\"cv_wrap_numpy_array\":true,\"cv_requires_lists\":false,\"cv_scalarize_numpy_singletons\":false,\"kwargs\":{\"np\":{\"_import\":\"numpy\"},\"center\":1}}}']\n"
     ]
    }
   ],
   "source": [
    "#! skip\n",
    "print storage.cvs.variables['json'][:]"
   ]
  },
  {
   "cell_type": "code",
   "execution_count": 17,
   "metadata": {
    "collapsed": false
   },
   "outputs": [],
   "source": [
    "cv0j = storage.cvs.vars['json'][0]\n",
    "cv1j = storage.cvs.vars['json'][1]\n",
    "cv2j = storage.cvs.vars['json'][2]\n",
    "cv3j = storage.cvs.vars['json'][3]"
   ]
  },
  {
   "cell_type": "code",
   "execution_count": 18,
   "metadata": {
    "collapsed": false
   },
   "outputs": [],
   "source": [
    "res = cv0j([template, template, template])\n",
    "assert(res[0] == res[1] == res[2])\n",
    "res = cv1j([template, template, template])\n",
    "assert(res[0] == res[1] == res[2])\n",
    "res = cv2j([template, template, template])\n",
    "assert(res[0] == res[1] == res[2])\n",
    "res = cv3j([template, template, template])\n",
    "assert(res[0] == res[1] == res[2])"
   ]
  },
  {
   "cell_type": "code",
   "execution_count": 19,
   "metadata": {
    "collapsed": true
   },
   "outputs": [],
   "source": [
    "t = paths.Trajectory([template] * 4)"
   ]
  },
  {
   "cell_type": "code",
   "execution_count": 20,
   "metadata": {
    "collapsed": false
   },
   "outputs": [
    {
     "data": {
      "text/plain": [
       "(store.trajectories[Trajectory] : 1 object(s),\n",
       " 1,\n",
       " 284548731370429831383829540429094715480L)"
      ]
     },
     "execution_count": 20,
     "metadata": {},
     "output_type": "execute_result"
    }
   ],
   "source": [
    "storage.save(t)"
   ]
  },
  {
   "cell_type": "code",
   "execution_count": 21,
   "metadata": {
    "collapsed": true
   },
   "outputs": [],
   "source": [
    "def ff(t, cv3):\n",
    "    return max(cv3(t))"
   ]
  },
  {
   "cell_type": "code",
   "execution_count": 22,
   "metadata": {
    "collapsed": false
   },
   "outputs": [],
   "source": [
    "a = paths.netcdfplus.FunctionAttribute('max_cv3', paths.Trajectory, ff, cv3=cv3)"
   ]
  },
  {
   "cell_type": "code",
   "execution_count": 23,
   "metadata": {
    "collapsed": false
   },
   "outputs": [
    {
     "data": {
      "text/plain": [
       "284548731370429831383829540429094715482L"
      ]
     },
     "execution_count": 23,
     "metadata": {},
     "output_type": "execute_result"
    }
   ],
   "source": [
    "storage.attributes.save(a)"
   ]
  },
  {
   "cell_type": "code",
   "execution_count": 24,
   "metadata": {
    "collapsed": false
   },
   "outputs": [
    {
     "data": {
      "text/plain": [
       "-1.0832000002264977"
      ]
     },
     "execution_count": 24,
     "metadata": {},
     "output_type": "execute_result"
    }
   ],
   "source": [
    "a(t)"
   ]
  },
  {
   "cell_type": "code",
   "execution_count": 25,
   "metadata": {
    "collapsed": true
   },
   "outputs": [],
   "source": [
    "p = paths.netcdfplus.LoaderProxy(storage.trajectories, t.__uuid__)"
   ]
  },
  {
   "cell_type": "code",
   "execution_count": 26,
   "metadata": {
    "collapsed": false
   },
   "outputs": [
    {
     "data": {
      "text/plain": [
       "-1.0832000002264977"
      ]
     },
     "execution_count": 26,
     "metadata": {},
     "output_type": "execute_result"
    }
   ],
   "source": [
    "a(paths.netcdfplus.LoaderProxy(storage.trajectories, t.__uuid__))"
   ]
  },
  {
   "cell_type": "code",
   "execution_count": 27,
   "metadata": {
    "collapsed": false
   },
   "outputs": [
    {
     "data": {
      "text/plain": [
       "store.trajectories_max_cv3[None/ANY] : (not created)"
      ]
     },
     "execution_count": 27,
     "metadata": {},
     "output_type": "execute_result"
    }
   ],
   "source": [
    "storage.trajectories.add_attribute(paths.netcdfplus.ValueStore, a, t, allow_incomplete=False)"
   ]
  },
  {
   "cell_type": "code",
   "execution_count": 28,
   "metadata": {
    "collapsed": true
   },
   "outputs": [],
   "source": [
    "ats = storage.trajectories.attribute_list[a]"
   ]
  },
  {
   "cell_type": "code",
   "execution_count": 29,
   "metadata": {
    "collapsed": false
   },
   "outputs": [
    {
     "name": "stdout",
     "output_type": "stream",
     "text": [
      "[-1.0832]\n"
     ]
    }
   ],
   "source": [
    "print ats.vars['value'][:]\n",
    "if ats.allow_incomplete:\n",
    "    print ats.vars['index'][:]"
   ]
  },
  {
   "cell_type": "code",
   "execution_count": 30,
   "metadata": {
    "collapsed": false
   },
   "outputs": [
    {
     "data": {
      "text/plain": [
       "-1.0832000002264977"
      ]
     },
     "execution_count": 30,
     "metadata": {},
     "output_type": "execute_result"
    }
   ],
   "source": [
    "a(t)"
   ]
  },
  {
   "cell_type": "code",
   "execution_count": 31,
   "metadata": {
    "collapsed": false
   },
   "outputs": [
    {
     "name": "stdout",
     "output_type": "stream",
     "text": [
      "[-1.0832]\n"
     ]
    }
   ],
   "source": [
    "print a._store_dict.value_store.vars['value'][:]"
   ]
  },
  {
   "cell_type": "code",
   "execution_count": 32,
   "metadata": {
    "collapsed": false
   },
   "outputs": [
    {
     "data": {
      "text/plain": [
       "<type 'netCDF4._netCDF4.Variable'>\n",
       "float64 trajectories_max_cv3_value(trajectories)\n",
       "    var_type: numpy.float64\n",
       "unlimited dimensions: trajectories\n",
       "current shape = (1,)\n",
       "filling on, default _FillValue of 9.96920996839e+36 used"
      ]
     },
     "execution_count": 32,
     "metadata": {},
     "output_type": "execute_result"
    }
   ],
   "source": [
    "a._store_dict.value_store.variables['value']"
   ]
  },
  {
   "cell_type": "code",
   "execution_count": 33,
   "metadata": {
    "collapsed": false
   },
   "outputs": [
    {
     "data": {
      "text/plain": [
       "<type 'netCDF4._netCDF4.Variable'>\n",
       "float64 cv3_value(snapshots)\n",
       "    var_type: numpy.float64\n",
       "unlimited dimensions: snapshots\n",
       "current shape = (1,)\n",
       "filling on, default _FillValue of 9.96920996839e+36 used"
      ]
     },
     "execution_count": 33,
     "metadata": {},
     "output_type": "execute_result"
    }
   ],
   "source": [
    "cv3._store_dict.value_store.variables['value']"
   ]
  },
  {
   "cell_type": "code",
   "execution_count": 34,
   "metadata": {
    "collapsed": true
   },
   "outputs": [],
   "source": [
    "storage.trajectories.sync_attribute(a)"
   ]
  },
  {
   "cell_type": "code",
   "execution_count": 35,
   "metadata": {
    "collapsed": false
   },
   "outputs": [],
   "source": [
    "storage.attributes.set_cache_store(a)"
   ]
  },
  {
   "cell_type": "code",
   "execution_count": 36,
   "metadata": {
    "collapsed": false
   },
   "outputs": [
    {
     "data": {
      "text/plain": [
       "True"
      ]
     },
     "execution_count": 36,
     "metadata": {},
     "output_type": "execute_result"
    }
   ],
   "source": [
    "storage.attributes.has_cache(a)"
   ]
  },
  {
   "cell_type": "code",
   "execution_count": 37,
   "metadata": {
    "collapsed": false
   },
   "outputs": [],
   "source": [
    "storage.attributes.sync(a)"
   ]
  },
  {
   "cell_type": "code",
   "execution_count": 55,
   "metadata": {
    "collapsed": true
   },
   "outputs": [],
   "source": [
    "storage.close()"
   ]
  },
  {
   "cell_type": "code",
   "execution_count": 62,
   "metadata": {
    "collapsed": false
   },
   "outputs": [],
   "source": [
    "storage = paths.Storage('can_be_deleted.nc', mode='r')"
   ]
  },
  {
   "cell_type": "code",
   "execution_count": 63,
   "metadata": {
    "collapsed": false
   },
   "outputs": [
    {
     "data": {
      "text/plain": [
       "<openpathsampling.netcdfplus.attribute.FunctionAttribute at 0x121087250>"
      ]
     },
     "execution_count": 63,
     "metadata": {},
     "output_type": "execute_result"
    }
   ],
   "source": [
    "storage.attributes[4]"
   ]
  },
  {
   "cell_type": "code",
   "execution_count": 58,
   "metadata": {
    "collapsed": true
   },
   "outputs": [],
   "source": [
    "storage.close()"
   ]
  },
  {
   "cell_type": "code",
   "execution_count": 59,
   "metadata": {
    "collapsed": true
   },
   "outputs": [],
   "source": [
    "import openpathsampling as paths\n",
    "import numpy as np\n",
    "import openpathsampling.engines.openmm as peng"
   ]
  },
  {
   "cell_type": "code",
   "execution_count": 60,
   "metadata": {
    "collapsed": false
   },
   "outputs": [],
   "source": [
    "st = paths.Storage('../delete.nc', mode='r')"
   ]
  },
  {
   "cell_type": "code",
   "execution_count": 61,
   "metadata": {
    "collapsed": false
   },
   "outputs": [
    {
     "data": {
      "text/plain": [
       "store.attributes[Attribute] : 3 object(s)"
      ]
     },
     "execution_count": 61,
     "metadata": {},
     "output_type": "execute_result"
    }
   ],
   "source": [
    "st.attributes"
   ]
  },
  {
   "cell_type": "code",
   "execution_count": 3,
   "metadata": {
    "collapsed": false
   },
   "outputs": [
    {
     "data": {
      "text/plain": [
       "store.attributes[Attribute] : 3 object(s)"
      ]
     },
     "execution_count": 3,
     "metadata": {},
     "output_type": "execute_result"
    }
   ],
   "source": [
    "st._obj_store[paths.CollectiveVariable]"
   ]
  },
  {
   "cell_type": "code",
   "execution_count": 3,
   "metadata": {
    "collapsed": false
   },
   "outputs": [],
   "source": [
    "cv = st.cvs[0]"
   ]
  },
  {
   "cell_type": "code",
   "execution_count": 4,
   "metadata": {
    "collapsed": true
   },
   "outputs": [],
   "source": [
    "max_vals = [\n",
    "    paths.netcdfplus.FunctionAttribute(\n",
    "        cv.name + '_max', \n",
    "        paths.Trajectory,\n",
    "        lambda t, cv: max(cv(t)), cv=cv\n",
    "    ).with_diskcache() for cv in st.cvs]"
   ]
  },
  {
   "cell_type": "code",
   "execution_count": 5,
   "metadata": {
    "collapsed": false
   },
   "outputs": [],
   "source": [
    "for c in paths.CollectiveVariable.descendants():\n",
    "    st._obj_store[c] = st.cvs\n",
    "st._obj_store[paths.CollectiveVariable] = st.cvs"
   ]
  },
  {
   "cell_type": "code",
   "execution_count": 6,
   "metadata": {
    "collapsed": false
   },
   "outputs": [
    {
     "data": {
      "text/plain": [
       "store.cvs[BaseSnapshot] : 3 object(s)"
      ]
     },
     "execution_count": 6,
     "metadata": {},
     "output_type": "execute_result"
    }
   ],
   "source": [
    "st._obj_store[paths.CollectiveVariable]"
   ]
  },
  {
   "cell_type": "code",
   "execution_count": 7,
   "metadata": {
    "collapsed": false
   },
   "outputs": [
    {
     "data": {
      "text/plain": [
       "[272535980374264538949855631713773813822L,\n",
       " 272535980374264538949855631713773813826L,\n",
       " 272535980374264538949855631713773813830L]"
      ]
     },
     "execution_count": 7,
     "metadata": {},
     "output_type": "execute_result"
    }
   ],
   "source": [
    "map(st.attributes.save, max_vals)"
   ]
  },
  {
   "cell_type": "code",
   "execution_count": 8,
   "metadata": {
    "collapsed": false
   },
   "outputs": [
    {
     "data": {
      "text/plain": [
       "{'opA_max': {1}, 'opB_max': {0}, 'opC_max': {2}}"
      ]
     },
     "execution_count": 8,
     "metadata": {},
     "output_type": "execute_result"
    }
   ],
   "source": [
    "st.attributes.name_idx"
   ]
  },
  {
   "cell_type": "code",
   "execution_count": 9,
   "metadata": {
    "collapsed": false
   },
   "outputs": [
    {
     "data": {
      "text/plain": [
       "<openpathsampling.netcdfplus.attribute.FunctionAttribute at 0x11e996a10>"
      ]
     },
     "execution_count": 9,
     "metadata": {},
     "output_type": "execute_result"
    }
   ],
   "source": [
    "st.attributes['opA_max']"
   ]
  },
  {
   "cell_type": "code",
   "execution_count": 10,
   "metadata": {
    "collapsed": false
   },
   "outputs": [
    {
     "data": {
      "text/plain": [
       "<openpathsampling.netcdfplus.attribute.FunctionAttribute at 0x11eeba1d0>"
      ]
     },
     "execution_count": 10,
     "metadata": {},
     "output_type": "execute_result"
    }
   ],
   "source": [
    "st.attributes[0]"
   ]
  },
  {
   "cell_type": "code",
   "execution_count": 11,
   "metadata": {
    "collapsed": false
   },
   "outputs": [
    {
     "data": {
      "text/plain": [
       "[0.367531418800354,\n",
       " 0.8562381863594055,\n",
       " 0.8126517534255981,\n",
       " 0.8433051705360413,\n",
       " 0.8689201474189758,\n",
       " 1.0538431406021118,\n",
       " 0.367531418800354,\n",
       " 1.0822958946228027,\n",
       " 1.2032464742660522,\n",
       " 0.8319146037101746,\n",
       " 0.8430009484291077,\n",
       " 0.8758599758148193,\n",
       " 1.0448485612869263,\n",
       " 0.8692688345909119,\n",
       " 0.8562381863594055,\n",
       " 0.8689201474189758,\n",
       " 0.8126517534255981,\n",
       " 1.1879923343658447,\n",
       " 0.8692688345909119,\n",
       " 0.8368529081344604,\n",
       " 0.8512461185455322,\n",
       " 0.875219464302063,\n",
       " 0.8360109925270081,\n",
       " 0.8126517534255981,\n",
       " 0.8598640561103821,\n",
       " 0.8086681962013245,\n",
       " 1.0538431406021118,\n",
       " 1.0743924379348755,\n",
       " 0.8598640561103821,\n",
       " 0.8086681962013245,\n",
       " 0.367531418800354,\n",
       " 0.8598640561103821,\n",
       " 0.3687124252319336,\n",
       " 1.1011096239089966,\n",
       " 0.8430009484291077,\n",
       " 0.8430009484291077,\n",
       " 0.8931102752685547,\n",
       " 0.8598640561103821,\n",
       " 0.8178797960281372,\n",
       " 0.8919672966003418,\n",
       " 0.8433051705360413,\n",
       " 1.0538431406021118,\n",
       " 0.8032494783401489,\n",
       " 0.8689201474189758,\n",
       " 0.8178797960281372,\n",
       " 0.8537729382514954,\n",
       " 0.8433051705360413,\n",
       " 0.8562381863594055,\n",
       " 0.8689201474189758,\n",
       " 0.8688571453094482,\n",
       " 0.8562381863594055,\n",
       " 0.8709260821342468,\n",
       " 0.367531418800354,\n",
       " 0.8562381863594055,\n",
       " 0.867655873298645,\n",
       " 0.8709260821342468,\n",
       " 0.8623430728912354,\n",
       " 0.8430009484291077,\n",
       " 0.8430009484291077,\n",
       " 0.34195563197135925,\n",
       " 0.8433051705360413,\n",
       " 0.8562381863594055,\n",
       " 0.8360109925270081,\n",
       " 0.25002598762512207,\n",
       " 0.8430009484291077,\n",
       " 0.9655526876449585,\n",
       " 0.9655526876449585,\n",
       " 0.9837757349014282,\n",
       " 0.8476506471633911,\n",
       " 0.8360109925270081,\n",
       " 1.2150198221206665,\n",
       " 0.8360109925270081,\n",
       " 0.8709260821342468,\n",
       " 0.8360109925270081,\n",
       " 0.9349313974380493,\n",
       " 1.0935956239700317,\n",
       " 0.8433051705360413,\n",
       " 0.8433051705360413,\n",
       " 0.8520933389663696,\n",
       " 0.8709260821342468,\n",
       " 0.8562381863594055,\n",
       " 0.8562381863594055,\n",
       " 0.8562381863594055,\n",
       " 0.8562381863594055,\n",
       " 0.8520933389663696,\n",
       " 0.8520933389663696,\n",
       " 1.0538431406021118,\n",
       " 0.865933895111084,\n",
       " 0.8562381863594055,\n",
       " 0.3422519564628601,\n",
       " 0.8435001969337463,\n",
       " 0.8562381863594055,\n",
       " 0.8435001969337463,\n",
       " 0.8562381863594055,\n",
       " 0.3422519564628601,\n",
       " 0.867655873298645,\n",
       " 0.8520933389663696,\n",
       " 0.9034241437911987,\n",
       " 0.30741167068481445,\n",
       " 0.9059453010559082,\n",
       " 0.8520933389663696,\n",
       " 0.367531418800354,\n",
       " 0.30741167068481445,\n",
       " 0.8709260821342468,\n",
       " 0.8709260821342468,\n",
       " 0.8354713916778564,\n",
       " 0.8709260821342468,\n",
       " 1.1022965908050537,\n",
       " 0.8126517534255981,\n",
       " 1.1440484523773193,\n",
       " 0.8562381863594055,\n",
       " 0.30741167068481445,\n",
       " 0.367531418800354,\n",
       " 0.9059453010559082,\n",
       " 0.8562381863594055,\n",
       " 0.30741167068481445,\n",
       " 0.9059453010559082,\n",
       " 0.886833906173706,\n",
       " 1.068543791770935,\n",
       " 0.8046507835388184,\n",
       " 0.8520933389663696,\n",
       " 1.068543791770935,\n",
       " 0.8258188962936401,\n",
       " 0.8742554783821106,\n",
       " 0.8014054298400879,\n",
       " 0.9228178262710571,\n",
       " 0.8051542043685913,\n",
       " 0.9481332898139954,\n",
       " 1.0890239477157593,\n",
       " 0.8241675496101379,\n",
       " 0.8520933389663696,\n",
       " 1.068543791770935,\n",
       " 1.010918378829956,\n",
       " 1.03317129611969,\n",
       " 0.8014054298400879,\n",
       " 0.9059453010559082,\n",
       " 0.41389212012290955,\n",
       " 0.9059453010559082,\n",
       " 0.8709260821342468,\n",
       " 0.8995535969734192,\n",
       " 0.8562381863594055,\n",
       " 1.010918378829956,\n",
       " 0.8978114128112793,\n",
       " 0.8562381863594055,\n",
       " 1.010918378829956,\n",
       " 0.8160943388938904,\n",
       " 0.8562381863594055,\n",
       " 0.8160943388938904,\n",
       " 0.8014054298400879,\n",
       " 0.8978114128112793,\n",
       " 0.9484955072402954,\n",
       " 0.8051542043685913,\n",
       " 0.41389212012290955,\n",
       " 1.3011561632156372,\n",
       " 0.8131163120269775,\n",
       " 0.8160943388938904,\n",
       " 0.8978114128112793,\n",
       " 1.03317129611969,\n",
       " 0.8098142147064209,\n",
       " 0.8360109925270081,\n",
       " 0.8217514157295227,\n",
       " 0.41389212012290955,\n",
       " 0.8187000751495361,\n",
       " 1.03317129611969,\n",
       " 0.8122797608375549,\n",
       " 0.41389212012290955,\n",
       " 0.5241290330886841,\n",
       " 1.03317129611969,\n",
       " 0.8978114128112793,\n",
       " 1.010918378829956,\n",
       " 0.8477484583854675,\n",
       " 0.47106534242630005,\n",
       " 0.9166497588157654,\n",
       " 0.47106534242630005,\n",
       " 0.8160538673400879,\n",
       " 0.9867622256278992,\n",
       " 0.8978114128112793,\n",
       " 0.8160943388938904,\n",
       " 0.41389212012290955,\n",
       " 0.8477484583854675,\n",
       " 0.8502144813537598,\n",
       " 0.9865192174911499,\n",
       " 0.8062644004821777,\n",
       " 0.41389212012290955,\n",
       " 1.1845325231552124,\n",
       " 0.41389212012290955,\n",
       " 0.8203149437904358,\n",
       " 0.8098142147064209,\n",
       " 0.8421329259872437,\n",
       " 0.9484955072402954,\n",
       " 0.8502144813537598,\n",
       " 1.0249379873275757,\n",
       " 0.8540152907371521,\n",
       " 0.8421329259872437,\n",
       " 0.41389212012290955,\n",
       " 0.8646484613418579,\n",
       " 1.174533486366272,\n",
       " 0.8294863700866699,\n",
       " 0.9433877468109131,\n",
       " 0.8646484613418579,\n",
       " 0.8210300803184509,\n",
       " 0.8718702793121338,\n",
       " 1.174533486366272,\n",
       " 1.174533486366272,\n",
       " 0.41389212012290955,\n",
       " 0.8679001331329346,\n",
       " 0.9586852192878723,\n",
       " 0.8537060618400574,\n",
       " 0.8537060618400574,\n",
       " 0.9675536155700684,\n",
       " 0.9433877468109131,\n",
       " 0.8421329259872437,\n",
       " 0.8500267267227173,\n",
       " 0.8098142147064209,\n",
       " 0.47106534242630005,\n",
       " 0.9433877468109131,\n",
       " 1.1394782066345215,\n",
       " 1.0045976638793945,\n",
       " 1.0254180431365967,\n",
       " 0.47106534242630005,\n",
       " 0.9484955072402954,\n",
       " 0.8942326903343201,\n",
       " 0.843621551990509,\n",
       " 1.1212457418441772,\n",
       " 0.8760856986045837,\n",
       " 0.8646484613418579,\n",
       " 0.27560192346572876,\n",
       " 1.03317129611969,\n",
       " 0.843621551990509,\n",
       " 1.1212457418441772,\n",
       " 0.843621551990509,\n",
       " 1.0290762186050415,\n",
       " 0.9484955072402954,\n",
       " 0.8421329259872437,\n",
       " 0.2968783676624298,\n",
       " 0.41389212012290955,\n",
       " 1.1212457418441772,\n",
       " 1.1212457418441772,\n",
       " 0.8490162491798401,\n",
       " 0.41389212012290955,\n",
       " 1.1212457418441772,\n",
       " 0.921055257320404,\n",
       " 1.174533486366272,\n",
       " 0.9820889830589294,\n",
       " 1.1370666027069092,\n",
       " 0.9293845295906067,\n",
       " 0.843621551990509,\n",
       " 1.0950678586959839,\n",
       " 1.0038187503814697,\n",
       " 1.3837798833847046,\n",
       " 0.2968783676624298,\n",
       " 0.8646484613418579,\n",
       " 1.1053341627120972,\n",
       " 0.2968783676624298,\n",
       " 1.0948163270950317,\n",
       " 1.160542607307434,\n",
       " 1.0038187503814697,\n",
       " 1.1075875759124756,\n",
       " 1.1442657709121704,\n",
       " 0.8679991364479065,\n",
       " 0.8421329259872437,\n",
       " 1.174533486366272,\n",
       " 0.8679991364479065,\n",
       " 1.0948163270950317,\n",
       " 0.9232050776481628,\n",
       " 1.1053341627120972,\n",
       " 1.0948163270950317,\n",
       " 1.1075875759124756,\n",
       " 0.8317922353744507,\n",
       " 0.8290823101997375,\n",
       " 1.1053341627120972,\n",
       " 1.1075875759124756,\n",
       " 0.2968783676624298,\n",
       " 0.2826918363571167,\n",
       " 0.41389212012290955,\n",
       " 1.1075875759124756,\n",
       " 1.174533486366272,\n",
       " 0.41389212012290955,\n",
       " 0.9872843623161316,\n",
       " 0.8891304731369019,\n",
       " 1.0559347867965698,\n",
       " 0.8891304731369019,\n",
       " 0.2826918363571167,\n",
       " 0.41389212012290955,\n",
       " 1.0948163270950317,\n",
       " 0.8421329259872437,\n",
       " 0.8255411386489868,\n",
       " 1.01323401927948,\n",
       " 1.0937138795852661,\n",
       " 0.3408912420272827,\n",
       " 1.174533486366272,\n",
       " 1.0749468803405762,\n",
       " 0.8891304731369019,\n",
       " 0.8364822864532471,\n",
       " 0.5246443152427673,\n",
       " 1.174533486366272,\n",
       " 0.3110554814338684,\n",
       " 0.2826918363571167,\n",
       " 1.0937138795852661,\n",
       " 1.01323401927948,\n",
       " 0.5246443152427673,\n",
       " 1.1075875759124756,\n",
       " 0.8891304731369019,\n",
       " 0.8679991364479065,\n",
       " 0.9910825490951538,\n",
       " 0.48831993341445923,\n",
       " 1.01323401927948,\n",
       " 0.48831993341445923,\n",
       " 1.1075875759124756,\n",
       " 1.0937138795852661,\n",
       " 1.01194167137146,\n",
       " 0.9240241050720215,\n",
       " 1.0879619121551514,\n",
       " 0.91741943359375,\n",
       " 0.91741943359375,\n",
       " 1.0038187503814697,\n",
       " 1.1074239015579224,\n",
       " 0.45326361060142517,\n",
       " 0.45326361060142517,\n",
       " 0.91741943359375,\n",
       " 1.0838375091552734,\n",
       " 1.0041859149932861,\n",
       " 0.45326361060142517,\n",
       " 0.45326361060142517,\n",
       " 0.45326361060142517,\n",
       " 0.9240241050720215,\n",
       " 0.42589861154556274,\n",
       " 0.2826918363571167,\n",
       " 1.0879619121551514,\n",
       " 1.0050404071807861,\n",
       " 0.8454362750053406,\n",
       " 0.2826918363571167,\n",
       " 0.40756675601005554,\n",
       " 0.2826918363571167,\n",
       " 0.8597524762153625,\n",
       " 0.8200809955596924,\n",
       " 0.8200809955596924,\n",
       " 1.0041859149932861,\n",
       " 1.0041859149932861,\n",
       " 1.0050404071807861,\n",
       " 0.3110554814338684,\n",
       " 0.990435779094696,\n",
       " 0.3303540349006653,\n",
       " 1.1075875759124756,\n",
       " 0.8200809955596924,\n",
       " 1.153078556060791,\n",
       " 1.0041859149932861,\n",
       " 1.0041859149932861,\n",
       " 0.8561097979545593,\n",
       " 0.3303540349006653,\n",
       " 1.153078556060791,\n",
       " 0.2826918363571167,\n",
       " 0.8561097979545593,\n",
       " 0.9928106069564819,\n",
       " 0.4517086446285248,\n",
       " 1.1000255346298218,\n",
       " 1.153078556060791,\n",
       " 1.0050404071807861,\n",
       " 1.0050404071807861,\n",
       " 0.2186167985200882,\n",
       " 0.2826918363571167,\n",
       " 0.8561097979545593,\n",
       " 0.8458960056304932,\n",
       " 1.1075875759124756,\n",
       " 0.2186167985200882,\n",
       " 0.91741943359375,\n",
       " 1.0050404071807861,\n",
       " 0.9369387626647949,\n",
       " 1.1075875759124756,\n",
       " 0.852919340133667,\n",
       " 0.8972739577293396,\n",
       " 1.0740352869033813,\n",
       " 0.852919340133667,\n",
       " 0.22004355490207672,\n",
       " 0.3303540349006653,\n",
       " 0.8255411386489868,\n",
       " 1.162333607673645,\n",
       " 0.8255411386489868,\n",
       " 0.852919340133667,\n",
       " 0.8942326903343201,\n",
       " 1.153078556060791,\n",
       " 0.852919340133667,\n",
       " 1.0740352869033813,\n",
       " 0.8875435590744019,\n",
       " 1.1075875759124756,\n",
       " 0.2146928608417511,\n",
       " 0.8966047763824463,\n",
       " 0.9901477098464966,\n",
       " 0.852919340133667,\n",
       " 0.8597524762153625,\n",
       " 0.2146928608417511,\n",
       " 0.852919340133667,\n",
       " 1.0740352869033813,\n",
       " 0.9830477833747864,\n",
       " 0.8966047763824463,\n",
       " 0.8255411386489868,\n",
       " 0.33895641565322876,\n",
       " 0.9830477833747864,\n",
       " 0.8491609692573547,\n",
       " 0.9830477833747864,\n",
       " 0.2826918363571167,\n",
       " 0.23382365703582764,\n",
       " 0.8966047763824463,\n",
       " 0.8037199378013611,\n",
       " 0.9231412410736084,\n",
       " 1.2113815546035767,\n",
       " 0.23109596967697144,\n",
       " 0.852919340133667,\n",
       " 0.8510749340057373,\n",
       " 1.1075875759124756,\n",
       " 1.0447008609771729,\n",
       " 1.112682580947876,\n",
       " 0.8597524762153625,\n",
       " 1.1289383172988892,\n",
       " 0.9830477833747864,\n",
       " 0.3262041509151459,\n",
       " 0.852919340133667,\n",
       " 0.8597524762153625,\n",
       " 1.112682580947876,\n",
       " 0.8661258220672607,\n",
       " 0.9231412410736084,\n",
       " 1.112682580947876,\n",
       " 0.3262041509151459,\n",
       " 0.8912057280540466,\n",
       " 1.112682580947876,\n",
       " 1.112682580947876,\n",
       " 0.3262041509151459,\n",
       " 0.3595447242259979,\n",
       " 1.0447008609771729,\n",
       " 0.23109596967697144,\n",
       " 0.2599891126155853,\n",
       " 0.3595447242259979,\n",
       " 0.8037199378013611,\n",
       " 0.9124845266342163,\n",
       " 1.0447008609771729,\n",
       " 1.0447008609771729,\n",
       " 0.8939873576164246,\n",
       " 1.112682580947876,\n",
       " 0.23109596967697144,\n",
       " 1.1260120868682861,\n",
       " 0.36148539185523987,\n",
       " 1.2113815546035767,\n",
       " 1.2401841878890991,\n",
       " 1.1260120868682861,\n",
       " 0.23109596967697144,\n",
       " 1.112682580947876,\n",
       " 0.23126065731048584,\n",
       " 0.36148539185523987,\n",
       " 1.2401841878890991,\n",
       " 1.2113815546035767,\n",
       " 1.1289383172988892,\n",
       " 0.36284175515174866,\n",
       " 0.8597524762153625,\n",
       " 1.1260120868682861,\n",
       " 1.1260120868682861,\n",
       " 1.2401841878890991,\n",
       " 0.8037199378013611,\n",
       " 0.8635412454605103,\n",
       " 0.22808478772640228,\n",
       " 1.1260120868682861,\n",
       " 1.0979888439178467,\n",
       " 1.1289383172988892,\n",
       " 1.0979888439178467,\n",
       " 1.1260120868682861,\n",
       " 1.0979888439178467,\n",
       " 0.8611427545547485,\n",
       " 1.2401841878890991,\n",
       " 0.8635412454605103,\n",
       " 1.131010890007019,\n",
       " 0.2146928608417511,\n",
       " 0.2393271028995514,\n",
       " 0.2146928608417511,\n",
       " 0.8037199378013611,\n",
       " 0.8052619099617004,\n",
       " 1.1289383172988892,\n",
       " 0.8635412454605103,\n",
       " 1.3573555946350098,\n",
       " 0.8052619099617004,\n",
       " 0.8597524762153625,\n",
       " 0.36284175515174866,\n",
       " 0.8597524762153625,\n",
       " 0.8597524762153625,\n",
       " 0.8597524762153625,\n",
       " 1.1260120868682861,\n",
       " 1.1260120868682861,\n",
       " 0.2233561873435974,\n",
       " 0.8597524762153625,\n",
       " 0.2233561873435974,\n",
       " 0.2233561873435974,\n",
       " 0.28094619512557983,\n",
       " 0.902103841304779,\n",
       " 0.36284175515174866,\n",
       " 1.0979888439178467,\n",
       " 1.0979888439178467,\n",
       " 0.9513484835624695,\n",
       " 0.8698505759239197,\n",
       " 1.5258862972259521,\n",
       " 0.8611427545547485,\n",
       " 1.0105558633804321,\n",
       " 1.0050320625305176,\n",
       " 0.2233561873435974,\n",
       " 0.36284175515174866,\n",
       " 0.8910172581672668,\n",
       " 0.8052619099617004,\n",
       " 0.9369387626647949,\n",
       " 0.2393271028995514,\n",
       " 0.2233561873435974,\n",
       " 1.2048574686050415,\n",
       " 1.0447008609771729,\n",
       " 0.2393271028995514,\n",
       " 0.2021014392375946,\n",
       " 0.9369387626647949,\n",
       " 0.8118449449539185,\n",
       " 1.0979888439178467,\n",
       " 0.2021014392375946,\n",
       " 0.2021014392375946,\n",
       " 0.8698505759239197,\n",
       " 0.8611427545547485,\n",
       " 1.0447008609771729,\n",
       " 1.0447008609771729,\n",
       " 0.8698505759239197,\n",
       " 0.8560780882835388,\n",
       " 0.8118449449539185,\n",
       " 0.902103841304779,\n",
       " 1.0105558633804321,\n",
       " 0.9861873984336853,\n",
       " 1.0050320625305176,\n",
       " 0.25861307978630066,\n",
       " 0.36284175515174866,\n",
       " 1.0105558633804321,\n",
       " 0.39144420623779297,\n",
       " 0.2021014392375946,\n",
       " 1.0932559967041016,\n",
       " 0.39144420623779297,\n",
       " 0.8560780882835388,\n",
       " 0.8037199378013611,\n",
       " 1.2048574686050415,\n",
       " 0.9165515303611755,\n",
       " 0.8116090893745422,\n",
       " 1.2048574686050415,\n",
       " 0.902103841304779,\n",
       " 0.9165515303611755,\n",
       " 0.8363182544708252,\n",
       " 0.4412858486175537,\n",
       " 0.4855905771255493,\n",
       " 0.8116090893745422,\n",
       " 0.8116090893745422,\n",
       " 0.8115441799163818,\n",
       " 0.39144420623779297,\n",
       " 1.2048574686050415,\n",
       " 0.840088427066803,\n",
       " 1.2048574686050415,\n",
       " 0.8522728681564331,\n",
       " 0.9246644377708435,\n",
       " 0.840088427066803,\n",
       " 1.0105558633804321,\n",
       " 1.1105661392211914,\n",
       " 0.840088427066803,\n",
       " 0.8516560792922974,\n",
       " 0.9165515303611755,\n",
       " 0.39144420623779297,\n",
       " 0.840088427066803,\n",
       " 0.9917587637901306,\n",
       " 1.330010175704956,\n",
       " 0.8893947601318359,\n",
       " 1.2048574686050415,\n",
       " 1.0105558633804321,\n",
       " 0.9211422801017761,\n",
       " 0.840088427066803,\n",
       " 0.8301281929016113,\n",
       " 0.9211422801017761,\n",
       " 0.8078581094741821,\n",
       " 0.9229240417480469,\n",
       " 1.0979888439178467,\n",
       " 0.8893947601318359,\n",
       " 0.2043159008026123,\n",
       " 1.0979888439178467,\n",
       " 1.1068015098571777,\n",
       " 1.122917890548706,\n",
       " 0.840088427066803,\n",
       " 0.9165515303611755,\n",
       " 1.0050404071807861,\n",
       " 1.0647448301315308,\n",
       " 0.9191276431083679,\n",
       " 0.8516560792922974,\n",
       " 0.2089328020811081,\n",
       " 1.0105558633804321,\n",
       " 0.8516560792922974,\n",
       " 0.835204541683197,\n",
       " 0.8725289106369019,\n",
       " 0.207024946808815,\n",
       " 1.0041369199752808,\n",
       " 0.9207119941711426,\n",
       " 0.9165515303611755,\n",
       " 0.8522772789001465,\n",
       " 0.8516560792922974,\n",
       " 0.34109988808631897,\n",
       " 0.9917587637901306,\n",
       " 1.0041369199752808,\n",
       " 0.9917587637901306,\n",
       " 0.34109988808631897,\n",
       " 0.9416424632072449,\n",
       " 0.2176784873008728,\n",
       " 1.233816146850586,\n",
       " 0.9165515303611755,\n",
       " 0.9207119941711426,\n",
       " 0.5723839402198792,\n",
       " 0.8058830499649048,\n",
       " 0.207024946808815,\n",
       " 1.0221643447875977,\n",
       " 0.9729758501052856,\n",
       " 0.9165515303611755,\n",
       " 0.9964585304260254,\n",
       " 0.9729758501052856,\n",
       " 0.9729758501052856,\n",
       " 1.1363983154296875,\n",
       " 1.0105558633804321,\n",
       " 0.8143300414085388,\n",
       " 0.8123982548713684,\n",
       " 1.0221643447875977,\n",
       " 0.8123982548713684,\n",
       " 0.32398468255996704,\n",
       " 0.9750722050666809,\n",
       " 1.2224875688552856,\n",
       " 1.0221643447875977,\n",
       " 1.0435614585876465,\n",
       " 0.9165515303611755,\n",
       " 0.9750722050666809,\n",
       " 0.2659474015235901,\n",
       " 1.2224875688552856,\n",
       " 0.32398468255996704,\n",
       " 0.32398468255996704,\n",
       " 1.1702688932418823,\n",
       " 1.0221643447875977,\n",
       " 1.1702688932418823,\n",
       " 1.2224875688552856,\n",
       " 0.9750722050666809,\n",
       " 0.9165515303611755,\n",
       " 0.8460530042648315,\n",
       " 0.9756513833999634,\n",
       " 0.32398468255996704,\n",
       " 0.9750722050666809,\n",
       " 0.32398468255996704,\n",
       " 0.8460530042648315,\n",
       " 0.9750722050666809,\n",
       " 0.20870889723300934,\n",
       " 1.2224875688552856,\n",
       " 1.1702688932418823,\n",
       " 0.9207119941711426,\n",
       " 0.2176784873008728,\n",
       " 0.25484105944633484,\n",
       " 1.1206254959106445,\n",
       " 0.32398468255996704,\n",
       " 0.2176784873008728,\n",
       " 0.9750722050666809,\n",
       " 0.8616911172866821,\n",
       " 0.9734328389167786,\n",
       " 0.8965718746185303,\n",
       " 1.0221643447875977,\n",
       " 1.1265500783920288,\n",
       " 0.9734328389167786,\n",
       " 1.1702688932418823,\n",
       " 1.1702688932418823,\n",
       " 0.9698433876037598,\n",
       " 0.9698433876037598,\n",
       " 0.9692218899726868,\n",
       " 0.9207119941711426,\n",
       " 0.8616911172866821,\n",
       " 1.2224875688552856,\n",
       " 0.9698433876037598,\n",
       " 0.2176784873008728,\n",
       " 1.183738350868225,\n",
       " 1.1265500783920288,\n",
       " 0.2130473107099533,\n",
       " 0.8965718746185303,\n",
       " 1.0443843603134155,\n",
       " 1.1265500783920288,\n",
       " 1.1206254959106445,\n",
       " 1.071286916732788,\n",
       " 1.071286916732788,\n",
       " 0.9698433876037598,\n",
       " 1.0854216814041138,\n",
       " 0.8616911172866821,\n",
       " 0.9207119941711426,\n",
       " 0.32398468255996704,\n",
       " 0.9207119941711426,\n",
       " 1.1265500783920288,\n",
       " 1.1744948625564575,\n",
       " 0.2130473107099533,\n",
       " 0.94936203956604,\n",
       " 1.1206254959106445,\n",
       " 0.41648557782173157,\n",
       " 0.8965718746185303,\n",
       " 1.094443917274475,\n",
       " 1.0854216814041138,\n",
       " 0.2130473107099533,\n",
       " 0.2136058211326599,\n",
       " 1.1744948625564575,\n",
       " 0.94936203956604,\n",
       " 0.8965718746185303,\n",
       " 0.8965718746185303,\n",
       " 0.2136058211326599,\n",
       " 0.8834342360496521,\n",
       " 0.8834342360496521,\n",
       " 0.8403910398483276,\n",
       " 1.0221643447875977,\n",
       " 1.1243311166763306,\n",
       " 1.1243311166763306,\n",
       " 0.32398468255996704,\n",
       " 1.078596830368042,\n",
       " 1.0854216814041138,\n",
       " 0.9207119941711426,\n",
       " 0.2136058211326599,\n",
       " 0.8403910398483276,\n",
       " 1.0453077554702759,\n",
       " 0.2136058211326599,\n",
       " 0.2136058211326599,\n",
       " 0.6582356691360474,\n",
       " 0.8834342360496521,\n",
       " 0.8834342360496521,\n",
       " 1.5468480587005615,\n",
       " 1.1243311166763306,\n",
       " 0.8557084202766418,\n",
       " 1.5468480587005615,\n",
       " 0.8909482359886169,\n",
       " 0.9396620392799377,\n",
       " 0.273684024810791,\n",
       " 0.9207119941711426,\n",
       " 1.5468480587005615,\n",
       " 1.0453077554702759,\n",
       " 0.9207119941711426,\n",
       " 1.5468480587005615,\n",
       " 0.32398468255996704,\n",
       " 0.25087830424308777,\n",
       " 0.8557084202766418,\n",
       " 1.1486669778823853,\n",
       " 0.4638057053089142,\n",
       " 1.1243311166763306,\n",
       " 1.1243311166763306,\n",
       " 0.8078581094741821,\n",
       " 1.0453077554702759,\n",
       " 0.25087830424308777,\n",
       " 1.1601102352142334,\n",
       " 0.8373977541923523,\n",
       " 0.8616911172866821,\n",
       " 0.840712308883667,\n",
       " 0.8834342360496521,\n",
       " 0.8446512222290039,\n",
       " 1.5468480587005615,\n",
       " 1.1243311166763306,\n",
       " 0.8485181331634521,\n",
       " 0.9467505812644958,\n",
       " 1.1243311166763306,\n",
       " 1.0221643447875977,\n",
       " 0.32398468255996704,\n",
       " 0.8078581094741821,\n",
       " 0.8616911172866821,\n",
       " 0.8661801218986511,\n",
       " 0.8661801218986511,\n",
       " 1.5468480587005615,\n",
       " 1.1418089866638184,\n",
       " 0.8661801218986511,\n",
       " 0.840712308883667,\n",
       " 1.048902988433838,\n",
       " 0.25087830424308777,\n",
       " 0.9159415364265442,\n",
       " 0.9159415364265442,\n",
       " 1.1744948625564575,\n",
       " 1.202895164489746,\n",
       " 0.9467505812644958,\n",
       " 0.8561319708824158,\n",
       " 0.8154440522193909,\n",
       " 0.207024946808815,\n",
       " 0.2536637485027313,\n",
       " 1.1418089866638184,\n",
       " 0.9467505812644958,\n",
       " 0.8154440522193909,\n",
       " 0.8616911172866821,\n",
       " 0.8383500576019287,\n",
       " 1.1418089866638184,\n",
       " 0.8687647581100464,\n",
       " 0.32398468255996704,\n",
       " 1.1744948625564575,\n",
       " 1.5468480587005615,\n",
       " 0.8562236428260803,\n",
       " 0.9159415364265442,\n",
       " 0.8763641119003296,\n",
       " 1.2401841878890991,\n",
       " 1.1724004745483398,\n",
       " 0.8154440522193909,\n",
       " 0.8131726384162903,\n",
       " 0.8131726384162903,\n",
       " 0.9467505812644958,\n",
       " 1.1418089866638184,\n",
       " 0.25087830424308777,\n",
       " 0.3538089096546173,\n",
       " 1.1744948625564575,\n",
       " 1.386860728263855,\n",
       " 0.9159415364265442,\n",
       " 0.9159415364265442,\n",
       " 0.8616911172866821,\n",
       " 0.9467505812644958,\n",
       " 0.9159415364265442,\n",
       " 1.5468480587005615,\n",
       " 0.9467505812644958,\n",
       " 0.8616911172866821,\n",
       " 1.5468480587005615,\n",
       " 0.8131726384162903]"
      ]
     },
     "execution_count": 11,
     "metadata": {},
     "output_type": "execute_result"
    }
   ],
   "source": [
    "st.attributes[0](st.trajectories)"
   ]
  },
  {
   "cell_type": "code",
   "execution_count": null,
   "metadata": {
    "collapsed": true
   },
   "outputs": [],
   "source": []
  }
 ],
 "metadata": {
  "anaconda-cloud": {},
  "kernelspec": {
   "display_name": "Python [default]",
   "language": "python",
   "name": "python2"
  },
  "language_info": {
   "codemirror_mode": {
    "name": "ipython",
    "version": 2
   },
   "file_extension": ".py",
   "mimetype": "text/x-python",
   "name": "python",
   "nbconvert_exporter": "python",
   "pygments_lexer": "ipython2",
   "version": "2.7.13"
  }
 },
 "nbformat": 4,
 "nbformat_minor": 0
}
