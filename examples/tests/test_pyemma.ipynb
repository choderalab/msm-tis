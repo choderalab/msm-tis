{
 "cells": [
  {
   "cell_type": "markdown",
   "metadata": {},
   "source": [
    "### PyEmma Featurizer Support"
   ]
  },
  {
   "cell_type": "code",
   "execution_count": 1,
   "metadata": {
    "collapsed": true
   },
   "outputs": [],
   "source": [
    "import openpathsampling as paths\n",
    "import numpy as np\n",
    "\n",
    "from __future__ import print_function"
   ]
  },
  {
   "cell_type": "code",
   "execution_count": 2,
   "metadata": {},
   "outputs": [
    {
     "name": "stdout",
     "output_type": "stream",
     "text": [
      "You are still using msmtools from the deprecated Omnia channel. Please switch to conda-forge to catch future updates.\n",
      "In order to do so please set conda-forge channel to highest priority by:\n",
      "\n",
      "    conda config --add channels conda-forge\n",
      "\n",
      "and update this package by:\n",
      "\n",
      "    conda update msmtools\n",
      "\n",
      "\n"
     ]
    }
   ],
   "source": [
    "#! lazy\n",
    "import pyemma.coordinates as coor"
   ]
  },
  {
   "cell_type": "code",
   "execution_count": 3,
   "metadata": {},
   "outputs": [
    {
     "name": "stdout",
     "output_type": "stream",
     "text": [
      "18-06-18 22:02:18 openpathsampling.netcdfplus.netcdfplus INFO     Open existing netCDF file 'engine_store_test.nc' for reading - reading from existing file\n",
      "18-06-18 22:02:18 openpathsampling.netcdfplus.netcdfplus INFO     Loading different netcdf version. Installed version is 0.9.4 and loaded version is 0.9.2\n",
      "18-06-18 22:02:18 openpathsampling.netcdfplus.netcdfplus INFO     Loaded version is older. Should be no problem other then missing features and information\n",
      "18-06-18 22:02:18 openpathsampling.storage.storage INFO     Loading different OPS storage version. Installed version is 0.9.4 and loaded version is 0.9.2.dev-e35c4fe\n",
      "18-06-18 22:02:18 openpathsampling.storage.storage INFO     Loaded version is older. Should be no problem other then missing features and information\n",
      "18-06-18 22:02:18 openpathsampling.netcdfplus.stores.variable INFO     Creates VariableStore with variables ['replica', 'trajectory', 'ensemble', 'bias', 'parent', 'mover'] and instatiated with ['replica', 'trajectory', 'ensemble', 'bias', 'parent', 'mover']\n",
      "18-06-18 22:02:18 openpathsampling.netcdfplus.stores.variable INFO     Creates VariableStore with variables ['samples', 'movepath'] and instatiated with ['samples', 'movepath']\n",
      "18-06-18 22:02:18 openpathsampling.netcdfplus.stores.variable INFO     Creates VariableStore with variables ['simulation', 'mccycle', 'previous', 'active', 'change'] and instatiated with ['simulation', 'mccycle', 'previous', 'active', 'change']\n"
     ]
    },
    {
     "name": "stderr",
     "output_type": "stream",
     "text": [
      "/Users/jan-hendrikprinz/anaconda/envs/py36/lib/python3.6/site-packages/pyemma/__init__.py:91: UserWarning: You are not using the latest release of PyEMMA. Latest is 2.5.2, you have 2.4.\n",
      "  .format(latest=latest, current=current), category=UserWarning)\n"
     ]
    }
   ],
   "source": [
    "#! lazy\n",
    "ref_storage = paths.Storage('engine_store_test.nc', mode='r')"
   ]
  },
  {
   "cell_type": "code",
   "execution_count": 4,
   "metadata": {},
   "outputs": [
    {
     "name": "stdout",
     "output_type": "stream",
     "text": [
      "18-06-18 22:02:18 openpathsampling.netcdfplus.netcdfplus INFO     Create new netCDF file 'delete.nc' for writing - deleting existing file\n",
      "18-06-18 22:02:18 openpathsampling.netcdfplus.netcdfplus INFO     Setup netCDF file and create variables\n",
      "18-06-18 22:02:18 openpathsampling.netcdfplus.stores.variable INFO     Creates VariableStore with variables ['replica', 'trajectory', 'ensemble', 'bias', 'parent', 'mover'] and instatiated with ['replica', 'trajectory', 'ensemble', 'bias', 'parent', 'mover']\n",
      "18-06-18 22:02:18 openpathsampling.netcdfplus.stores.variable INFO     Creates VariableStore with variables ['samples', 'movepath'] and instatiated with ['samples', 'movepath']\n",
      "18-06-18 22:02:18 openpathsampling.netcdfplus.stores.variable INFO     Creates VariableStore with variables ['simulation', 'mccycle', 'previous', 'active', 'change'] and instatiated with ['simulation', 'mccycle', 'previous', 'active', 'change']\n",
      "18-06-18 22:02:18 openpathsampling.netcdfplus.netcdfplus INFO     Initializing store 'trajectories'\n",
      "18-06-18 22:02:18 openpathsampling.netcdfplus.netcdfplus INFO     Initializing store 'topologies'\n",
      "18-06-18 22:02:18 openpathsampling.netcdfplus.netcdfplus INFO     Initializing store 'snapshots'\n",
      "18-06-18 22:02:18 openpathsampling.netcdfplus.netcdfplus INFO     Initializing store 'samples'\n",
      "18-06-18 22:02:18 openpathsampling.netcdfplus.netcdfplus INFO     Initializing store 'samplesets'\n",
      "18-06-18 22:02:18 openpathsampling.netcdfplus.netcdfplus INFO     Initializing store 'movechanges'\n",
      "18-06-18 22:02:18 openpathsampling.netcdfplus.netcdfplus INFO     Initializing store 'steps'\n",
      "18-06-18 22:02:18 openpathsampling.netcdfplus.netcdfplus INFO     Initializing store 'details'\n",
      "18-06-18 22:02:18 openpathsampling.netcdfplus.netcdfplus INFO     Initializing store 'pathmovers'\n",
      "18-06-18 22:02:18 openpathsampling.netcdfplus.netcdfplus INFO     Initializing store 'shootingpointselectors'\n",
      "18-06-18 22:02:18 openpathsampling.netcdfplus.netcdfplus INFO     Initializing store 'engines'\n",
      "18-06-18 22:02:18 openpathsampling.netcdfplus.netcdfplus INFO     Initializing store 'pathsimulators'\n",
      "18-06-18 22:02:18 openpathsampling.netcdfplus.netcdfplus INFO     Initializing store 'transitions'\n",
      "18-06-18 22:02:18 openpathsampling.netcdfplus.netcdfplus INFO     Initializing store 'networks'\n",
      "18-06-18 22:02:18 openpathsampling.netcdfplus.netcdfplus INFO     Initializing store 'schemes'\n",
      "18-06-18 22:02:18 openpathsampling.netcdfplus.netcdfplus INFO     Initializing store 'interfacesets'\n",
      "18-06-18 22:02:18 openpathsampling.netcdfplus.netcdfplus INFO     Initializing store 'msouters'\n",
      "18-06-18 22:02:18 openpathsampling.netcdfplus.netcdfplus INFO     Initializing store 'volumes'\n",
      "18-06-18 22:02:18 openpathsampling.netcdfplus.netcdfplus INFO     Initializing store 'ensembles'\n",
      "18-06-18 22:02:18 openpathsampling.netcdfplus.netcdfplus INFO     Initializing store 'tag'\n",
      "18-06-18 22:02:18 openpathsampling.netcdfplus.netcdfplus INFO     Initializing store 'attributes'\n",
      "18-06-18 22:02:18 openpathsampling.netcdfplus.netcdfplus INFO     Finished setting up netCDF file\n",
      "18-06-18 22:02:19 openpathsampling.netcdfplus.netcdfplus INFO     Initializing store 'snapshot0'\n",
      "18-06-18 22:02:19 openpathsampling.netcdfplus.netcdfplus INFO     Initializing store 'snapshot0statics'\n",
      "18-06-18 22:02:19 openpathsampling.netcdfplus.netcdfplus INFO     Initializing store 'snapshot0kinetics'\n"
     ]
    },
    {
     "data": {
      "text/plain": [
       "41651733812648293111110397822037393428"
      ]
     },
     "execution_count": 4,
     "metadata": {},
     "output_type": "execute_result"
    }
   ],
   "source": [
    "#! lazy\n",
    "storage = paths.Storage('delete.nc', 'w')\n",
    "storage.trajectories.save(ref_storage.trajectories[0])"
   ]
  },
  {
   "cell_type": "markdown",
   "metadata": {},
   "source": [
    "Import a PyEmma Coordinates Module"
   ]
  },
  {
   "cell_type": "markdown",
   "metadata": {},
   "source": [
    "Using of pyemma featurizers or general other complex code requires a little trick to be storable. Since storing of code only works if we are not dependend on the context (scope) we need to wrap the construction of our featurizer in a function, that gets all it needs from the global scope as a parameter"
   ]
  },
  {
   "cell_type": "code",
   "execution_count": 5,
   "metadata": {
    "collapsed": true
   },
   "outputs": [],
   "source": [
    "def pyemma_generator(f):\n",
    "    f.add_inverse_distances(f.pairs(f.select_Backbone()))"
   ]
  },
  {
   "cell_type": "code",
   "execution_count": 6,
   "metadata": {},
   "outputs": [],
   "source": [
    "cv = paths.collectivevariable.PyEMMAFeaturizerCV(\n",
    "    featurizer=pyemma_generator, \n",
    "    topology=ref_storage.snapshots[0].topology\n",
    ").with_diskcache().named('pyemma')"
   ]
  },
  {
   "cell_type": "markdown",
   "metadata": {},
   "source": [
    "Now use this featurizer generating function to build a collective variable out of it. All we need for that is a name as usual, the generating function, the list of parameters - here only the topology and at best a test snapshot, a template."
   ]
  },
  {
   "cell_type": "code",
   "execution_count": 7,
   "metadata": {
    "collapsed": true
   },
   "outputs": [],
   "source": [
    "cv(ref_storage.trajectories[0]);"
   ]
  },
  {
   "cell_type": "markdown",
   "metadata": {},
   "source": [
    "Let's save it to the storage"
   ]
  },
  {
   "cell_type": "code",
   "execution_count": 8,
   "metadata": {},
   "outputs": [
    {
     "name": "stdout",
     "output_type": "stream",
     "text": [
      "(store.attributes[PseudoAttribute] : 1 object(s), 20, 169829974798395533320853678154322018600)\n"
     ]
    }
   ],
   "source": [
    "#! lazy\n",
    "print(storage.save(cv))"
   ]
  },
  {
   "cell_type": "markdown",
   "metadata": {},
   "source": [
    "and apply the featurizer to a trajectory"
   ]
  },
  {
   "cell_type": "code",
   "execution_count": 9,
   "metadata": {
    "collapsed": true
   },
   "outputs": [],
   "source": [
    "cv(storage.trajectories[0]);"
   ]
  },
  {
   "cell_type": "markdown",
   "metadata": {},
   "source": [
    "Sync to make sure the cache is written to the netCDF file."
   ]
  },
  {
   "cell_type": "code",
   "execution_count": 10,
   "metadata": {
    "collapsed": true
   },
   "outputs": [],
   "source": [
    "cv(storage.snapshots.all());"
   ]
  },
  {
   "cell_type": "code",
   "execution_count": 11,
   "metadata": {
    "collapsed": true
   },
   "outputs": [],
   "source": [
    "py_cv = storage.cvs['pyemma']"
   ]
  },
  {
   "cell_type": "code",
   "execution_count": 12,
   "metadata": {
    "collapsed": true
   },
   "outputs": [],
   "source": [
    "store = storage.stores['cv%d' % storage.idx(py_cv)]\n",
    "nc_var = store.variables['value']"
   ]
  },
  {
   "cell_type": "code",
   "execution_count": 13,
   "metadata": {},
   "outputs": [
    {
     "name": "stdout",
     "output_type": "stream",
     "text": [
      "15\n"
     ]
    }
   ],
   "source": [
    "assert(nc_var.shape[1] == 15)\n",
    "print(nc_var.shape[1])"
   ]
  },
  {
   "cell_type": "code",
   "execution_count": 14,
   "metadata": {},
   "outputs": [
    {
     "name": "stdout",
     "output_type": "stream",
     "text": [
      "numpy.float32\n"
     ]
    }
   ],
   "source": [
    "assert(nc_var.var_type == 'numpy.float32')\n",
    "print(nc_var.var_type)"
   ]
  },
  {
   "cell_type": "code",
   "execution_count": 15,
   "metadata": {},
   "outputs": [
    {
     "name": "stdout",
     "output_type": "stream",
     "text": [
      "[ '{\"_cls\":\"PyEMMAFeaturizerCV\",\"_dict\":{\"featurizer\":{\"_marshal\":\"4wEAAAAAAAAAAQAAAAMAAABDAAAAcxgAAAB8AGoAfABqAXwAagKDAIMBgwEBAGQAUwApAU4pA9oVYWRkX2ludmVyc2VfZGlzdGFuY2Vz2gVwYWlyc9oPc2VsZWN0X0JhY2tib25lKQHaAWapAHIFAAAA+h48aXB5dGhvbi1pbnB1dC01LTQ3NzRkOGVkZGQwMD7aEHB5ZW1tYV9nZW5lcmF0b3IBAAAAcwIAAAAAAQ==\",\"_global_vars\":[],\"_module_vars\":[]},\"topology\":{\"_hex_uuid\":\"0x1f55d507081211e7aa35000000000002\",\"_store\":\"topologies\"},\"kwargs\":{}}}']\n"
     ]
    }
   ],
   "source": [
    "#! ignore\n",
    "print(storage.variables['attributes_json'][:])"
   ]
  },
  {
   "cell_type": "code",
   "execution_count": 16,
   "metadata": {},
   "outputs": [
    {
     "name": "stdout",
     "output_type": "stream",
     "text": [
      "0\n"
     ]
    }
   ],
   "source": [
    "py_cv_idx = storage.idx(py_cv)\n",
    "print(py_cv_idx)\n",
    "py_emma_feat = storage.vars['attributes_json'][py_cv_idx]"
   ]
  },
  {
   "cell_type": "code",
   "execution_count": 17,
   "metadata": {
    "collapsed": true
   },
   "outputs": [],
   "source": [
    "erg = py_emma_feat(storage.snapshots);"
   ]
  },
  {
   "cell_type": "code",
   "execution_count": 18,
   "metadata": {},
   "outputs": [
    {
     "name": "stdout",
     "output_type": "stream",
     "text": [
      "[[ 2.68972969  2.06547379]\n",
      " [ 2.66780782  2.04628825]\n",
      " [ 2.61396813  2.00944018]\n",
      " [ 2.61284065  2.00203276]\n",
      " [ 2.68295574  2.04546618]\n",
      " [ 2.73086905  2.06900191]\n",
      " [ 2.79744911  2.09469581]\n",
      " [ 2.79462266  2.09850168]\n",
      " [ 2.74107432  2.08592987]\n",
      " [ 2.75102949  2.09090185]]\n"
     ]
    }
   ],
   "source": [
    "#! lazy\n",
    "print(erg[:,2:4])"
   ]
  },
  {
   "cell_type": "code",
   "execution_count": 19,
   "metadata": {
    "collapsed": true
   },
   "outputs": [],
   "source": [
    "storage.close()\n",
    "ref_storage.close()"
   ]
  },
  {
   "cell_type": "code",
   "execution_count": 20,
   "metadata": {},
   "outputs": [
    {
     "name": "stdout",
     "output_type": "stream",
     "text": [
      "18-06-18 22:02:20 openpathsampling.netcdfplus.netcdfplus INFO     Open existing netCDF file 'delete.nc' for reading - reading from existing file\n",
      "18-06-18 22:02:20 openpathsampling.netcdfplus.stores.variable INFO     Creates VariableStore with variables ['replica', 'trajectory', 'ensemble', 'bias', 'parent', 'mover'] and instatiated with ['replica', 'trajectory', 'ensemble', 'bias', 'parent', 'mover']\n",
      "18-06-18 22:02:20 openpathsampling.netcdfplus.stores.variable INFO     Creates VariableStore with variables ['samples', 'movepath'] and instatiated with ['samples', 'movepath']\n",
      "18-06-18 22:02:20 openpathsampling.netcdfplus.stores.variable INFO     Creates VariableStore with variables ['simulation', 'mccycle', 'previous', 'active', 'change'] and instatiated with ['simulation', 'mccycle', 'previous', 'active', 'change']\n"
     ]
    }
   ],
   "source": [
    "#! lazy\n",
    "storage = paths.Storage('delete.nc', 'r')"
   ]
  },
  {
   "cell_type": "code",
   "execution_count": 21,
   "metadata": {
    "collapsed": true
   },
   "outputs": [],
   "source": [
    "cv = storage.cvs[0]"
   ]
  },
  {
   "cell_type": "markdown",
   "metadata": {},
   "source": [
    "Make sure that we get the same result"
   ]
  },
  {
   "cell_type": "code",
   "execution_count": 22,
   "metadata": {
    "collapsed": true
   },
   "outputs": [],
   "source": [
    "assert np.allclose(erg, cv(storage.snapshots))"
   ]
  },
  {
   "cell_type": "code",
   "execution_count": 23,
   "metadata": {
    "collapsed": true
   },
   "outputs": [],
   "source": [
    "storage.close()"
   ]
  },
  {
   "cell_type": "code",
   "execution_count": null,
   "metadata": {
    "collapsed": true
   },
   "outputs": [],
   "source": []
  }
 ],
 "metadata": {
  "anaconda-cloud": {},
  "kernelspec": {
   "display_name": "Python 3",
   "language": "python",
   "name": "python3"
  },
  "language_info": {
   "codemirror_mode": {
    "name": "ipython",
    "version": 3
   },
   "file_extension": ".py",
   "mimetype": "text/x-python",
   "name": "python",
   "nbconvert_exporter": "python",
   "pygments_lexer": "ipython3",
   "version": "3.6.2"
  }
 },
 "nbformat": 4,
 "nbformat_minor": 1
}
